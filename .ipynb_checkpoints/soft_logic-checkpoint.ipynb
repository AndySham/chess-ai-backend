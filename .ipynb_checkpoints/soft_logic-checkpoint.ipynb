{
 "cells": [
  {
   "cell_type": "code",
   "execution_count": 1,
   "id": "6d668e7c",
   "metadata": {},
   "outputs": [
    {
     "name": "stdout",
     "output_type": "stream",
     "text": [
      "env: CUDA_LAUNCH_BLOCKING=1\n"
     ]
    }
   ],
   "source": [
    "%env CUDA_LAUNCH_BLOCKING=1\n",
    "import torch\n",
    "from torch import nn\n",
    "from torch.utils.data import DataLoader, Dataset\n",
    "import matplotlib.pyplot as plt\n",
    "from scipy.stats import norm\n",
    "import numpy as np\n",
    "from math import pi, sqrt\n",
    "from chess_model.db.management.commands.train import SoftOR, SoftAND"
   ]
  },
  {
   "cell_type": "code",
   "execution_count": 2,
   "id": "7cdad061",
   "metadata": {},
   "outputs": [],
   "source": [
    "%%capture\n",
    "from tqdm.notebook import tqdm\n",
    "tqdm().pandas()"
   ]
  },
  {
   "cell_type": "code",
   "execution_count": 3,
   "id": "8b899edf",
   "metadata": {},
   "outputs": [],
   "source": [
    "def reduce_or(xs, dim):\n",
    "    return (xs.float().sum(dim=dim) >= 1).float()\n",
    "\n",
    "def reduce_and(xs, dim):\n",
    "    return 1 - reduce_or(1 - xs.float(), dim)\n",
    "\n",
    "def hard_bit(xs):\n",
    "    return (xs > 0.5).float()\n",
    "\n",
    "def norm_pdf(xs, mu, sigma):\n",
    "    min_mean = xs - mu\n",
    "    return torch.exp(-min_mean*min_mean/(2*sigma*sigma))/sqrt(2*pi*sigma*sigma)\n",
    "\n",
    "def gauss_filter(ls, xs, ys, sigma):\n",
    "    weights = norm_pdf(\n",
    "        ls.reshape(len(ls), 1),\n",
    "        xs.reshape(1, len(xs)),\n",
    "        sigma\n",
    "    )\n",
    "    return np.matmul(weights, ys) / weights.sum(axis=1)\n",
    "\n",
    "def density(xs, ps, sigma):\n",
    "    weights = norm_pdf(\n",
    "        xs.reshape(len(xs), 1), \n",
    "        ps.reshape(1, len(ps)),\n",
    "        sigma\n",
    "    )\n",
    "    return weights.sum(axis=1) / len(ps)"
   ]
  },
  {
   "cell_type": "code",
   "execution_count": 4,
   "id": "ee20fabb",
   "metadata": {},
   "outputs": [],
   "source": [
    "def plot_loss(items, losses, approx=False, ylabel=\"Loss\", ideal_losses=None, show_zero=True, log=False):\n",
    "    \n",
    "    lines = []\n",
    "    ax = plt.axes()\n",
    "    \n",
    "    if log:\n",
    "        losses = torch.log(losses)\n",
    "        if ideal_losses != None:\n",
    "            ideal_losses = torch.log(ideal_losses)\n",
    "    \n",
    "    if approx:\n",
    "        linspace = torch.linspace(0, max(items), 500)\n",
    "        #ax.plot(items, losses, 'lightskyblue', alpha=0.5)\n",
    "        ax.plot(linspace, gauss_filter(linspace, items, losses, 10.0), 'lightskyblue')\n",
    "        ax.plot(linspace, gauss_filter(linspace, items, losses, 30.0), 'deepskyblue')\n",
    "        loss_line, = ax.plot(linspace, gauss_filter(linspace, items, losses, 100.0), 'black', label=ylabel)\n",
    "        lines.append(loss_line)\n",
    "    else:\n",
    "        loss_line, = ax.plot(items, losses, 'black', label=ylabel)\n",
    "        lines.append(loss_line)\n",
    "        \n",
    "    if ideal_losses != None:\n",
    "        ideal_items = items[ideal_losses > float(\"-inf\")]\n",
    "        ideal_losses = ideal_losses[ideal_losses > float(\"-inf\")]\n",
    "        ideal_line, = ax.plot(ideal_items, ideal_losses, 'red', alpha=0.8, label='Ideal Loss')\n",
    "        lines.append(ideal_line)\n",
    "        \n",
    "    if show_zero:\n",
    "        ax.fill_between(items, min(losses), max(losses), color='lime', where=(losses == 0), alpha=0.2)\n",
    "        \n",
    "    plt.xlabel('Iterations')\n",
    "    plt.ylabel(ylabel if len(lines) <= 1 else 'Loss')\n",
    "    #plt.ylim(0, max(losses)*1.03)\n",
    "    if len(lines) > 1:\n",
    "        ax.legend(handles=lines)\n",
    "        \n",
    "    plt.show()\n",
    "    \n",
    "def plot_bit_density(items):\n",
    "    min_ = torch.squeeze(torch.min(items))\n",
    "    max_ = torch.squeeze(torch.max(items))\n",
    "    test_xs = torch.linspace(min_ - .1, max_ + .1, 500)\n",
    "    plt.plot(test_xs, density(test_xs, items, .005), 'deepskyblue')\n",
    "    plt.plot(test_xs, density(test_xs, items, .01), 'black')\n",
    "    #means, _ = kmeans(items, 2)\n",
    "    #plt.vlines(np.array(means).mean(), 0, 10, 'purple')\n",
    "    plt.show()"
   ]
  },
  {
   "cell_type": "markdown",
   "id": "97b25d5f",
   "metadata": {},
   "source": [
    "The following is used to generate synthetic binary data - we take `no_samples` samples in $\\{0,1\\}^n$, where $n$ is `no_samples`. For each sample, the probability of a particular bit being `1.0` is `p_sample`. We define a (commutative, associative) operator over the set $S \\subseteq \\{0, \\dots, n-1\\}$, where the probability of a particular bit being in $S$ is `p_set`. The operator itself is given by `f`."
   ]
  },
  {
   "cell_type": "code",
   "execution_count": 5,
   "id": "957643f3",
   "metadata": {},
   "outputs": [],
   "source": [
    "class OpDataset(Dataset):\n",
    "    def __init__(self, no_dims, no_samples, p_sample, p_set, f):\n",
    "        self.no_dims = no_dims\n",
    "        self.no_samples = no_samples\n",
    "        self.p_sample = p_sample\n",
    "        self.p_set = p_set\n",
    "        self.op_set = torch.rand(no_dims) < p_set\n",
    "        self.X = (torch.rand(no_samples, no_dims) < p_sample).float()\n",
    "        self.y = f(self.X[:,self.op_set])\n",
    "\n",
    "    def __len__(self):\n",
    "        return self.no_samples\n",
    "\n",
    "    def __getitem__(self, idx):\n",
    "        return self.X[idx], self.y[idx]\n",
    "    "
   ]
  },
  {
   "cell_type": "markdown",
   "id": "1b227887",
   "metadata": {},
   "source": [
    "Specific implementations for `SoftOR`, `SoftAND`."
   ]
  },
  {
   "cell_type": "code",
   "execution_count": 6,
   "id": "8964c5d3",
   "metadata": {},
   "outputs": [],
   "source": [
    "class ORDataset(OpDataset):\n",
    "    def __init__(self, no_dims, no_samples, p_sample, p_set):\n",
    "        super(ORDataset, self).__init__(\n",
    "            no_dims, no_samples, p_sample, p_set, \n",
    "            lambda xs: reduce_or(xs, dim=1)\n",
    "        )\n",
    "    \n",
    "class ANDDataset(OpDataset):\n",
    "    def __init__(self, no_dims, no_samples, p_sample, p_set):\n",
    "        super(ANDDataset, self).__init__(\n",
    "            no_dims, no_samples, p_sample, p_set, \n",
    "            lambda xs: reduce_and(xs, dim=1)\n",
    "        )"
   ]
  },
  {
   "cell_type": "markdown",
   "id": "6fbfb7ec",
   "metadata": {},
   "source": [
    "We use the following to describe an \"ideal\" lower bound on learning conjunctions and disjunctions - we can learn the following problems in the discrete space with strong theoretical guarantees, but they do not generalise well to multiple layers of logic, as MLPs do."
   ]
  },
  {
   "cell_type": "code",
   "execution_count": 7,
   "id": "3feafd6a",
   "metadata": {},
   "outputs": [],
   "source": [
    "class OpIdealModel:\n",
    "    def __init__(self, dim):\n",
    "        self.op_set = torch.ones(dim, dtype=bool)\n",
    "        \n",
    "    def update(self, X, y):\n",
    "        return self.op_set\n",
    "        \n",
    "    def step(self, X, y):\n",
    "        updated = self.update(X, y)\n",
    "        self.op_set = torch.logical_and(self.op_set.to(updated.device), updated)"
   ]
  },
  {
   "cell_type": "markdown",
   "id": "ed9c7061",
   "metadata": {},
   "source": [
    "Specific implementations for `OR`, `AND`."
   ]
  },
  {
   "cell_type": "code",
   "execution_count": 8,
   "id": "97201332",
   "metadata": {},
   "outputs": [],
   "source": [
    "class ORIdealModel(OpIdealModel):\n",
    "    def __init__(self, dim):\n",
    "        super().__init__(dim)\n",
    "    \n",
    "    def update(self, X, y):\n",
    "        return torch.logical_not(\n",
    "            reduce_or(torch.logical_and(\n",
    "                X, \n",
    "                torch.logical_not(y).reshape(len(X), 1)\n",
    "            ), dim=0))\n",
    "    \n",
    "class ANDIdealModel(OpIdealModel):\n",
    "    def __init__(self, dim):\n",
    "        super().__init__(dim)\n",
    "        \n",
    "    def update(self, X, y):\n",
    "        return torch.logical_not(\n",
    "            reduce_or(torch.logical_and(\n",
    "                torch.logical_not(X), \n",
    "                y.reshape(len(X), 1)\n",
    "            ), dim=0))"
   ]
  },
  {
   "cell_type": "markdown",
   "id": "edc30840",
   "metadata": {},
   "source": [
    "The training loop."
   ]
  },
  {
   "cell_type": "code",
   "execution_count": 9,
   "id": "4d56d554",
   "metadata": {},
   "outputs": [],
   "source": [
    "def train_softop(model, dataloader, lr, idealmodel=None):\n",
    "    optimizer = torch.optim.Adam(model.parameters(), lr)\n",
    "\n",
    "    seen = 0\n",
    "    items = []\n",
    "    obs_losses = []\n",
    "    true_losses = []\n",
    "    ideal_losses = []\n",
    "\n",
    "    for batch, (X, y) in tqdm(enumerate(dataloader), total=len(dataloader)):\n",
    "        X = X.to('cuda')\n",
    "        y = y.to('cuda')\n",
    "        pred = torch.squeeze(model(X))\n",
    "        loss = torch.where(y.bool(), 1 - pred, pred).mean()\n",
    "\n",
    "        # Optimise NN model\n",
    "        optimizer.zero_grad()\n",
    "        loss.backward()\n",
    "        optimizer.step()\n",
    "        model.harden()\n",
    "        \n",
    "        # Optimise ideal model\n",
    "        if idealmodel != None:\n",
    "            idealmodel.step(X, y)\n",
    "\n",
    "        seen += len(X)\n",
    "        items.append(seen)\n",
    "        obs_losses.append(loss.item())\n",
    "        true_losses.append(\n",
    "            ((torch.squeeze(model.weights).cpu() - dataloader.dataset.op_set.float()) ** 2).sum()\n",
    "        )\n",
    "        if idealmodel != None:\n",
    "            ideal_losses.append(\n",
    "                ((idealmodel.op_set.float() - dataloader.dataset.op_set.cuda().float()) ** 2).sum()\n",
    "            )\n",
    "        \n",
    "    return torch.tensor(items), torch.tensor(obs_losses), torch.tensor(true_losses), torch.tensor(ideal_losses)"
   ]
  },
  {
   "cell_type": "markdown",
   "id": "8e9735b7",
   "metadata": {},
   "source": [
    "Learning `OR`."
   ]
  },
  {
   "cell_type": "code",
   "execution_count": 10,
   "id": "c95bacc9",
   "metadata": {},
   "outputs": [
    {
     "data": {
      "application/vnd.jupyter.widget-view+json": {
       "model_id": "a774c50240554eb0b961a54bf4fa2e8c",
       "version_major": 2,
       "version_minor": 0
      },
      "text/plain": [
       "  0%|          | 0/79 [00:00<?, ?it/s]"
      ]
     },
     "metadata": {},
     "output_type": "display_data"
    },
    {
     "data": {
      "image/png": "[encoded data removed]",
      "text/plain": [
       "<Figure size 432x288 with 1 Axes>"
      ]
     },
     "metadata": {
      "needs_background": "light"
     },
     "output_type": "display_data"
    },
    {
     "data": {
      "image/png": "[encoded data removed]",
      "text/plain": [
       "<Figure size 432x288 with 1 Axes>"
      ]
     },
     "metadata": {
      "needs_background": "light"
     },
     "output_type": "display_data"
    }
   ],
   "source": [
    "or_dim = 1000\n",
    "or_dataset = ORDataset(or_dim, 10000, 1/or_dim, 0.01)\n",
    "or_dataloader = DataLoader(or_dataset, batch_size=128, shuffle=True, num_workers=0)\n",
    "\n",
    "or_model = SoftOR(or_dim, 1)\n",
    "or_model.to('cuda')\n",
    "or_ideal_model = ORIdealModel(or_dim)\n",
    "\n",
    "or_items, or_losses, or_true_losses, or_ideal_losses = train_softop(or_model, or_dataloader, lr=2e-1, idealmodel=or_ideal_model)\n",
    "\n",
    "plot_loss(or_items, or_losses, ylabel='Observed Loss', approx=True)\n",
    "plot_loss(or_items, or_true_losses, ylabel='True Loss', ideal_losses=or_ideal_losses, log=True)"
   ]
  },
  {
   "cell_type": "markdown",
   "id": "e8cb00f6",
   "metadata": {},
   "source": [
    "Learning `AND`."
   ]
  },
  {
   "cell_type": "code",
   "execution_count": 11,
   "id": "2ec8d467",
   "metadata": {},
   "outputs": [
    {
     "data": {
      "application/vnd.jupyter.widget-view+json": {
       "model_id": "ad3a48045e4a437890b9f8800fa721f5",
       "version_major": 2,
       "version_minor": 0
      },
      "text/plain": [
       "  0%|          | 0/313 [00:00<?, ?it/s]"
      ]
     },
     "metadata": {},
     "output_type": "display_data"
    },
    {
     "data": {
      "image/png": "[encoded data removed]",
      "text/plain": [
       "<Figure size 432x288 with 1 Axes>"
      ]
     },
     "metadata": {
      "needs_background": "light"
     },
     "output_type": "display_data"
    },
    {
     "data": {
      "image/png": "[encoded data removed]",
      "text/plain": [
       "<Figure size 432x288 with 1 Axes>"
      ]
     },
     "metadata": {
      "needs_background": "light"
     },
     "output_type": "display_data"
    }
   ],
   "source": [
    "and_dim = 1000\n",
    "and_dataset = ANDDataset(and_dim, 40000, 1-(1/and_dim), 0.5)\n",
    "and_dataloader = DataLoader(and_dataset, batch_size=128, shuffle=True, num_workers=0)\n",
    "\n",
    "and_model = SoftAND(and_dim, 1)\n",
    "and_model.to('cuda')\n",
    "and_ideal_model = ANDIdealModel(and_dim)\n",
    "\n",
    "and_items, and_losses, and_true_losses, and_ideal_losses = train_softop(and_model, and_dataloader, lr=2e-2, idealmodel=and_ideal_model)\n",
    "\n",
    "plot_loss(and_items, and_losses, ylabel='Observed Loss', approx=True)\n",
    "plot_loss(and_items, and_true_losses, ylabel='True Loss', ideal_losses=and_ideal_losses, log=True)"
   ]
  },
  {
   "cell_type": "markdown",
   "id": "96fa78b2",
   "metadata": {},
   "source": [
    "Without bit hardening, we have sets of weights which all have equal loss, but with many not being represented by values $0, 1$. To counteract this, we apply bit hardening - the following shows the values of the weights inside each logic layer, which ideally are heavily skewed to the values $0,1$."
   ]
  },
  {
   "cell_type": "code",
   "execution_count": 12,
   "id": "19093f84",
   "metadata": {},
   "outputs": [
    {
     "data": {
      "image/png": "[encoded data removed]",
      "text/plain": [
       "<Figure size 432x288 with 1 Axes>"
      ]
     },
     "metadata": {
      "needs_background": "light"
     },
     "output_type": "display_data"
    },
    {
     "data": {
      "image/png": "[encoded data removed]",
      "text/plain": [
       "<Figure size 432x288 with 1 Axes>"
      ]
     },
     "metadata": {
      "needs_background": "light"
     },
     "output_type": "display_data"
    }
   ],
   "source": [
    "plot_bit_density(or_model.weights.cpu().detach())\n",
    "plot_bit_density(and_model.weights.cpu().detach())"
   ]
  },
  {
   "cell_type": "markdown",
   "id": "c103787d",
   "metadata": {},
   "source": [
    "# CHESS STUFF --------------------------------"
   ]
  },
  {
   "cell_type": "code",
   "execution_count": 13,
   "id": "5205fcf7",
   "metadata": {},
   "outputs": [],
   "source": [
    "from chess_model.db.management.commands.train import xNNChess, ChessEvalDataset\n"
   ]
  },
  {
   "cell_type": "code",
   "execution_count": null,
   "id": "c673089b",
   "metadata": {},
   "outputs": [],
   "source": []
  },
  {
   "cell_type": "code",
   "execution_count": null,
   "id": "d0cd40e3",
   "metadata": {},
   "outputs": [],
   "source": []
  },
  {
   "cell_type": "code",
   "execution_count": 14,
   "id": "3dab014f",
   "metadata": {},
   "outputs": [],
   "source": [
    "def train_chess(model, dataloader, max_batches):\n",
    "    loss_fn = nn.MSELoss()\n",
    "    optimizer = torch.optim.Adam(model.parameters(), lr=5e-1)\n",
    "    size = len(dataloader.dataset)\n",
    "\n",
    "    currs = []\n",
    "    losses = []\n",
    "\n",
    "    for batch, (X, y) in tqdm(enumerate(dataloader), total=min(max_batches, len(dataloader))):\n",
    "        X = X.to('cuda')\n",
    "        y = y.to('cuda')\n",
    "        pred = model(X)\n",
    "        loss = loss_fn(pred, y)\n",
    "\n",
    "        optimizer.zero_grad()\n",
    "        loss.backward()\n",
    "        optimizer.step()\n",
    "\n",
    "        loss, current = loss.item(), batch * len(X)\n",
    "        currs.append(current)\n",
    "        losses.append(loss)\n",
    "            \n",
    "    return torch.tensor(currs), torch.tensor(losses)"
   ]
  },
  {
   "cell_type": "code",
   "execution_count": 15,
   "id": "26f95944",
   "metadata": {},
   "outputs": [],
   "source": [
    "chess_model = xNNChess(no_subnets=64, subnet_width=2)\n",
    "chess_model.to('cuda')\n",
    "\n",
    "chess_evals = ChessEvalDataset(\"evalmt.csv\")\n",
    "chess_dataloader = DataLoader(chess_evals, batch_size=64, shuffle=True, num_workers=0)\n",
    "\n",
    "#chess_items, chess_losses = train_chess(chess_model, chess_dataloader, 10000)\n",
    "\n",
    "#plot_loss(chess_items, chess_losses, approx=True)"
   ]
  },
  {
   "cell_type": "code",
   "execution_count": 16,
   "id": "100ff87d",
   "metadata": {},
   "outputs": [],
   "source": [
    "#plot_loss(chess_items, chess_losses, approx=True)"
   ]
  },
  {
   "cell_type": "code",
   "execution_count": 17,
   "id": "7a0c825b",
   "metadata": {},
   "outputs": [
    {
     "data": {
      "text/plain": [
       "tensor(True)"
      ]
     },
     "execution_count": 17,
     "metadata": {},
     "output_type": "execute_result"
    }
   ],
   "source": [
    "torch.log(torch.tensor(0.1)) > float(\"-inf\")"
   ]
  },
  {
   "cell_type": "code",
   "execution_count": 26,
   "id": "cd2de5ec",
   "metadata": {},
   "outputs": [
    {
     "data": {
      "text/plain": [
       "Parameter containing:\n",
       "tensor([[0.0472],\n",
       "        [0.1954],\n",
       "        [0.9100],\n",
       "        [0.1513],\n",
       "        [0.5089]], requires_grad=True)"
      ]
     },
     "execution_count": 26,
     "metadata": {},
     "output_type": "execute_result"
    }
   ],
   "source": [
    "or_model_test = SoftOR(5, 1)\n",
    "or_model_test.weights"
   ]
  },
  {
   "cell_type": "code",
   "execution_count": 30,
   "id": "8941ca90",
   "metadata": {},
   "outputs": [],
   "source": [
    "loss = or_model_test(torch.tensor([1,1,1,1,1],dtype=torch.float32))"
   ]
  },
  {
   "cell_type": "code",
   "execution_count": 32,
   "id": "ab2a3bc1",
   "metadata": {},
   "outputs": [
    {
     "data": {
      "text/plain": [
       "tensor([1.], grad_fn=<ORSigmoidBackward>)"
      ]
     },
     "execution_count": 32,
     "metadata": {},
     "output_type": "execute_result"
    }
   ],
   "source": [
    "loss"
   ]
  },
  {
   "cell_type": "code",
   "execution_count": null,
   "id": "8fa7aebc",
   "metadata": {},
   "outputs": [],
   "source": []
  }
 ],
 "metadata": {
  "kernelspec": {
   "display_name": "Python 3 (ipykernel)",
   "language": "python",
   "name": "python3"
  },
  "language_info": {
   "codemirror_mode": {
    "name": "ipython",
    "version": 3
   },
   "file_extension": ".py",
   "mimetype": "text/x-python",
   "name": "python",
   "nbconvert_exporter": "python",
   "pygments_lexer": "ipython3",
   "version": "3.8.10"
  }
 },
 "nbformat": 4,
 "nbformat_minor": 5
}
