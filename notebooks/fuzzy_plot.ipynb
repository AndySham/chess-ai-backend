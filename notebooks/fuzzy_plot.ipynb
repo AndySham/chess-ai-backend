{
 "cells": [
  {
   "cell_type": "code",
   "execution_count": 1,
   "id": "8396b77c",
   "metadata": {},
   "outputs": [],
   "source": [
    "import sys\n",
    "import os\n",
    "sys.path.append(os.path.abspath('../src')) # include top level package in python path"
   ]
  },
  {
   "cell_type": "code",
   "execution_count": 2,
   "id": "f912d23a",
   "metadata": {},
   "outputs": [],
   "source": [
    "import torch\n",
    "import matplotlib.pyplot as plt\n",
    "from model.fuzzy_logic import ProductLogic, MinimumLogic, LukasiewiczLogic, SchweizerSklarLogic"
   ]
  },
  {
   "cell_type": "code",
   "execution_count": 3,
   "id": "859bfbff",
   "metadata": {},
   "outputs": [],
   "source": [
    "logic_p = ProductLogic()\n",
    "logic_m = MinimumLogic()\n",
    "logic_l = LukasiewiczLogic()\n",
    "logic_ss = SchweizerSklarLogic(torch.tensor(0))"
   ]
  },
  {
   "cell_type": "code",
   "execution_count": 4,
   "id": "426547ac",
   "metadata": {},
   "outputs": [
    {
     "data": {
      "text/plain": [
       "<matplotlib.image.AxesImage at 0x7f7083d0aa90>"
      ]
     },
     "execution_count": 4,
     "metadata": {},
     "output_type": "execute_result"
    },
    {
     "data": {
      "image/png": "[encoded data removed]",
      "text/plain": [
       "<Figure size 432x288 with 4 Axes>"
      ]
     },
     "metadata": {
      "needs_background": "light"
     },
     "output_type": "display_data"
    }
   ],
   "source": [
    "ls = torch.linspace(0, 1, 100)\n",
    "\n",
    "fig, axs = plt.subplots(2, 2)\n",
    "\n",
    "axs[0,0].imshow(logic_p.bin_conjoin(ls, ls.unsqueeze(-1)))\n",
    "axs[0,1].imshow(logic_m.bin_conjoin(ls, ls.unsqueeze(-1)))\n",
    "axs[1,0].imshow(logic_l.bin_conjoin(ls, ls.unsqueeze(-1)))\n",
    "axs[1,1].imshow(logic_ss.bin_conjoin(ls, ls.unsqueeze(-1)))"
   ]
  },
  {
   "cell_type": "code",
   "execution_count": 5,
   "id": "d4e306ed",
   "metadata": {},
   "outputs": [
    {
     "data": {
      "text/plain": [
       "<AxesSubplot:>"
      ]
     },
     "execution_count": 5,
     "metadata": {},
     "output_type": "execute_result"
    }
   ],
   "source": [
    "axs[0][0]"
   ]
  },
  {
   "cell_type": "code",
   "execution_count": 6,
   "id": "7780d8c3",
   "metadata": {},
   "outputs": [
    {
     "data": {
      "text/plain": [
       "tensor(0.)"
      ]
     },
     "execution_count": 6,
     "metadata": {},
     "output_type": "execute_result"
    }
   ],
   "source": [
    "logic_ss.bin_conjoin(torch.tensor(0.),  torch.tensor(0.))"
   ]
  },
  {
   "cell_type": "code",
   "execution_count": 7,
   "id": "ae484f8c",
   "metadata": {},
   "outputs": [
    {
     "data": {
      "text/plain": [
       "tensor(0.)"
      ]
     },
     "execution_count": 7,
     "metadata": {},
     "output_type": "execute_result"
    }
   ],
   "source": [
    "0. ** torch.tensor(0.5)"
   ]
  },
  {
   "cell_type": "code",
   "execution_count": 8,
   "id": "4274618b",
   "metadata": {},
   "outputs": [
    {
     "data": {
      "text/plain": [
       "tensor(0.2991)"
      ]
     },
     "execution_count": 8,
     "metadata": {},
     "output_type": "execute_result"
    }
   ],
   "source": [
    "((2 * (torch.tensor(0.5) ** (-0.5)) - 1) ** -2).clamp(0,1)"
   ]
  },
  {
   "cell_type": "code",
   "execution_count": 9,
   "id": "0192f63d",
   "metadata": {},
   "outputs": [
    {
     "data": {
      "text/plain": [
       "tensor([[0.0000e+00, 0.0000e+00, 0.0000e+00,  ..., 0.0000e+00, 0.0000e+00,\n",
       "         0.0000e+00],\n",
       "        [0.0000e+00, 1.0203e-04, 2.0406e-04,  ..., 9.8969e-03, 9.9990e-03,\n",
       "         1.0101e-02],\n",
       "        [0.0000e+00, 2.0406e-04, 4.0812e-04,  ..., 1.9794e-02, 1.9998e-02,\n",
       "         2.0202e-02],\n",
       "        ...,\n",
       "        [0.0000e+00, 9.8969e-03, 1.9794e-02,  ..., 9.6000e-01, 9.6990e-01,\n",
       "         9.7980e-01],\n",
       "        [0.0000e+00, 9.9990e-03, 1.9998e-02,  ..., 9.6990e-01, 9.7990e-01,\n",
       "         9.8990e-01],\n",
       "        [0.0000e+00, 1.0101e-02, 2.0202e-02,  ..., 9.7980e-01, 9.8990e-01,\n",
       "         1.0000e+00]])"
      ]
     },
     "execution_count": 9,
     "metadata": {},
     "output_type": "execute_result"
    }
   ],
   "source": [
    "logic_ss.bin_conjoin(ls, ls.unsqueeze(-1))"
   ]
  },
  {
   "cell_type": "code",
   "execution_count": null,
   "id": "f87fe4a8",
   "metadata": {},
   "outputs": [],
   "source": []
  }
 ],
 "metadata": {
  "kernelspec": {
   "display_name": "Python 3 (ipykernel)",
   "language": "python",
   "name": "python3"
  },
  "language_info": {
   "codemirror_mode": {
    "name": "ipython",
    "version": 3
   },
   "file_extension": ".py",
   "mimetype": "text/x-python",
   "name": "python",
   "nbconvert_exporter": "python",
   "pygments_lexer": "ipython3",
   "version": "3.9.7"
  }
 },
 "nbformat": 4,
 "nbformat_minor": 5
}
