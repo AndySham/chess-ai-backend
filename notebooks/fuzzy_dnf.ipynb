{
 "cells": [
  {
   "cell_type": "code",
   "execution_count": 1,
   "id": "752d19f1",
   "metadata": {},
   "outputs": [],
   "source": [
    "import sys\n",
    "import os\n",
    "sys.path.append(os.path.abspath('../src')) # include top level package in python path"
   ]
  },
  {
   "cell_type": "code",
   "execution_count": 2,
   "id": "ff0d841e",
   "metadata": {},
   "outputs": [
    {
     "name": "stdout",
     "output_type": "stream",
     "text": [
      "env: CUDA_LAUNCH_BLOCKING=1\n"
     ]
    }
   ],
   "source": [
    "%env CUDA_LAUNCH_BLOCKING=1\n",
    "import torch\n",
    "from torch import nn\n",
    "from torch.utils.data import DataLoader\n",
    "from data.data_synth import DNFDataset\n",
    "from model import fuzzy_logic\n",
    "from model import embed_logic\n",
    "from model.fuzzy_layer import FuzzyDNF, FuzzySignedConjunction, FuzzyUnsignedDisjunction, FuzzyLoss\n",
    "from model.embed_layer import EmbedDNF\n",
    "from cache import TestMetric, TrainingRegime\n",
    "from plot import plot_loss, plot_bit_density\n",
    "from dnf import format_dnf, format_vars\n",
    "import matplotlib.pyplot as plt"
   ]
  },
  {
   "cell_type": "code",
   "execution_count": 3,
   "id": "e363d3f9",
   "metadata": {},
   "outputs": [],
   "source": [
    "%%capture\n",
    "from tqdm.notebook import tqdm\n",
    "tqdm().pandas()"
   ]
  },
  {
   "cell_type": "code",
   "execution_count": 4,
   "id": "0051d491",
   "metadata": {},
   "outputs": [],
   "source": [
    "#device = 'cpu'\n",
    "device = 'cuda'"
   ]
  },
  {
   "cell_type": "code",
   "execution_count": 5,
   "id": "466bbfd2",
   "metadata": {},
   "outputs": [],
   "source": [
    "class OutputDistanceMetric(TestMetric):\n",
    "    def name(self):\n",
    "        return \"output-distance\"\n",
    "    \n",
    "    def measure_model(self, model, it):\n",
    "        count = 0\n",
    "        correct = 0\n",
    "        for xs, y in it():\n",
    "            xs = xs.to(device)\n",
    "            y = y.to(device)\n",
    "            pred = model(xs).squeeze()\n",
    "            correct += (pred - y.float()).abs().sum().item()\n",
    "            count += y.numel()\n",
    "        return (correct / count)\n",
    "    \n",
    "class ClassBalanceMetric(TestMetric):\n",
    "    def __init__(self):\n",
    "        super().__init__()\n",
    "        self.balance = None\n",
    "    \n",
    "    def name(self):\n",
    "        return \"class-balance\"\n",
    "    \n",
    "    def measure_model(self, model, it):\n",
    "        if self.balance is None:\n",
    "            total_ones = 0\n",
    "            total = 0\n",
    "            for _, y in it():\n",
    "                total_ones += y.sum()\n",
    "                total += y.numel()\n",
    "            self.balance = (total_ones / total).item()\n",
    "            print(self.balance)\n",
    "        return self.balance\n",
    "    \n",
    "class OutputAverageMetric(TestMetric):\n",
    "    def name(self):\n",
    "        return \"output-avg\"\n",
    "    \n",
    "    def measure_model(self, model, it):\n",
    "        count = 0\n",
    "        total = 0\n",
    "        for xs, _ in it():\n",
    "            pred = model(xs.to(device)).squeeze()\n",
    "            total += pred.sum().item()\n",
    "            count += pred.numel()\n",
    "        return (total / count)\n",
    "    \n",
    "class CrispnessMetric(TestMetric):\n",
    "    def name(self):\n",
    "        return \"crispness\"\n",
    "\n",
    "    def measure_model(self, model, it):\n",
    "        try:\n",
    "            return model.crispness()\n",
    "        except:\n",
    "            return 0.0"
   ]
  },
  {
   "cell_type": "code",
   "execution_count": 6,
   "id": "5c9d02ab",
   "metadata": {},
   "outputs": [],
   "source": [
    "class DNFRegime(TrainingRegime):\n",
    "    def __init__(self, name, no_dims, new_model_f, no_runs=1, lr=1e-2):\n",
    "        super().__init__(\"./dnfs/\", no_runs)\n",
    "        \n",
    "        self.name = name\n",
    "        self.no_dims = no_dims\n",
    "        self.new_model_f = new_model_f\n",
    "        self.lr = lr\n",
    "        \n",
    "        self.dataset = DNFDataset(no_dims, 50_000, 0.5, 8, 0.05)\n",
    "        self.dataset.set_data(\n",
    "            *self.cache(\n",
    "                \"weights\", \n",
    "                lambda: self.dataset.get_data()\n",
    "            )\n",
    "        )\n",
    "        \n",
    "        self.test_dataset = DNFDataset(no_dims, 5_000, 0.5, 8, 0.0)\n",
    "        self.test_dataset.set_data(\n",
    "            *self.dataset.get_data()\n",
    "        )\n",
    "        \n",
    "        self.tests = [\n",
    "            OutputDistanceMetric(),\n",
    "            CrispnessMetric(),\n",
    "            OutputAverageMetric(),\n",
    "            ClassBalanceMetric(),\n",
    "        ]\n",
    "        \n",
    "        self.optims = [None] * no_runs\n",
    "        \n",
    "    def get_optim(self, run_no):\n",
    "        optim = self.optims[run_no - 1]\n",
    "        if optim is None:\n",
    "            model = self.get_loaded_model(run_no)\n",
    "            optim = self.optims[run_no - 1] = (\n",
    "                torch.optim.Adam(model.parameters(), lr=self.lr)\n",
    "            )\n",
    "        return optim\n",
    "        \n",
    "    def regime_str(self):\n",
    "        return (\n",
    "            \"%s | %s DIMS | ADAM, LR = %s\"\n",
    "            % (\n",
    "                self.name.upper(), \n",
    "                self.no_dims,\n",
    "                self.lr,\n",
    "                \n",
    "            )\n",
    "        ) \n",
    "        \n",
    "    def regime_filename_elems(self):\n",
    "        return [\n",
    "            \"dnf\", \n",
    "            self.name, \n",
    "            \"%sdim\" % str(self.no_dims), \n",
    "            \"%slr\" % str(self.lr),\n",
    "        ]\n",
    "        \n",
    "    def training_dataloader(self, run_no):\n",
    "        return DataLoader(self.dataset, batch_size=128)\n",
    "    \n",
    "    def testing_dataloader(self, run_no):\n",
    "        return DataLoader(self.test_dataset, batch_size=128)\n",
    "    \n",
    "    def training_step(self, run_no, model):\n",
    "        optim = self.get_optim(run_no)\n",
    "        #oss_fn = FuzzyLoss(logic=model.logic, exp=2)\n",
    "    \n",
    "        loss_fn = torch.nn.BCELoss()\n",
    "        \n",
    "        def step(tup):\n",
    "            bs, y = tup\n",
    "            bs = bs.to(device)\n",
    "            y_hats = model(bs).squeeze() \n",
    "            loss = loss_fn(y_hats, y.to(device))\n",
    "                \n",
    "            optim.zero_grad()\n",
    "            loss.backward()\n",
    "            optim.step()\n",
    "            \n",
    "        return step\n",
    "        \n",
    "    def new_model(self):\n",
    "        return self.new_model_f()"
   ]
  },
  {
   "cell_type": "code",
   "execution_count": 7,
   "id": "f3a0b197",
   "metadata": {},
   "outputs": [],
   "source": [
    "class FuzzyNN(nn.Module):\n",
    "    def __init__(self, in_features):\n",
    "        super().__init__()\n",
    "        self.logic = fuzzy_logic.SchweizerSklarLogic(torch.tensor(-2.0).to(device))\n",
    "        self.conjs = FuzzySignedConjunction(\n",
    "            in_features=in_features, out_features=16, logic=self.logic\n",
    "        )\n",
    "        self.disj = FuzzyUnsignedDisjunction(\n",
    "            in_features=16, out_features=1, logic=self.logic,\n",
    "        )\n",
    "        self.model = nn.Sequential(\n",
    "            self.conjs,\n",
    "            self.disj\n",
    "        )\n",
    "        self.logsumexp = nn.Sequential(\n",
    "            self.conjs,\n",
    "        )\n",
    "\n",
    "    def forward(self, input):\n",
    "        return self.model(input).squeeze()\n",
    "            \n",
    "    def logsumexp_forward(self, input):\n",
    "        return self.conjs(input).logsumexp(dim=-1)\n",
    "    \n",
    "    def crispness(self):\n",
    "        cjw = self.conjs.weights.value()\n",
    "        cjs = self.conjs.signs.value()\n",
    "        djw = self.disj.weights.value()\n",
    "        device = cjw.device\n",
    "        numel = torch.tensor(0.0, device=cjw.device)\n",
    "        off_crisp = torch.tensor(0.0, device=cjw.device)\n",
    "        off_crisp += torch.min(cjw, 1 - cjw).sum() \n",
    "        off_crisp += torch.min(cjs, 1 - cjs).sum()\n",
    "        off_crisp += torch.min(djw, 1 - djw).sum()\n",
    "        numel = cjw.numel() + cjs.numel() + djw.numel()\n",
    "        return (off_crisp / numel).item()"
   ]
  },
  {
   "cell_type": "code",
   "execution_count": 14,
   "id": "113be9e9",
   "metadata": {},
   "outputs": [
    {
     "data": {
      "application/vnd.jupyter.widget-view+json": {
       "model_id": "",
       "version_major": 2,
       "version_minor": 0
      },
      "text/plain": [
       "[FUZZYNN50_2 | 50 DIMS | ADAM, LR = 0.001] Run #1, Epoch #1, Training:   0%|          | 0/391 [00:00<?, ?it/s]"
      ]
     },
     "metadata": {},
     "output_type": "display_data"
    },
    {
     "data": {
      "application/vnd.jupyter.widget-view+json": {
       "model_id": "",
       "version_major": 2,
       "version_minor": 0
      },
      "text/plain": [
       "[FUZZYNN50_2 | 50 DIMS | ADAM, LR = 0.001] Run #1, Epoch #1, Testing [output-distance]:   0%|          | 0/40 …"
      ]
     },
     "metadata": {},
     "output_type": "display_data"
    },
    {
     "data": {
      "application/vnd.jupyter.widget-view+json": {
       "model_id": "",
       "version_major": 2,
       "version_minor": 0
      },
      "text/plain": [
       "[FUZZYNN50_2 | 50 DIMS | ADAM, LR = 0.001] Run #1, Epoch #1, Testing [output-avg]:   0%|          | 0/40 [00:0…"
      ]
     },
     "metadata": {},
     "output_type": "display_data"
    },
    {
     "data": {
      "application/vnd.jupyter.widget-view+json": {
       "model_id": "",
       "version_major": 2,
       "version_minor": 0
      },
      "text/plain": [
       "[FUZZYNN50_2 | 50 DIMS | ADAM, LR = 0.001] Run #1, Epoch #1, Testing [class-balance]:   0%|          | 0/40 [0…"
      ]
     },
     "metadata": {},
     "output_type": "display_data"
    },
    {
     "data": {
      "application/vnd.jupyter.widget-view+json": {
       "model_id": "",
       "version_major": 2,
       "version_minor": 0
      },
      "text/plain": [
       "[FUZZYNN50_2 | 50 DIMS | ADAM, LR = 0.001] Run #1, Epoch #2, Training:   0%|          | 0/391 [00:00<?, ?it/s]"
      ]
     },
     "metadata": {},
     "output_type": "display_data"
    },
    {
     "data": {
      "application/vnd.jupyter.widget-view+json": {
       "model_id": "",
       "version_major": 2,
       "version_minor": 0
      },
      "text/plain": [
       "[FUZZYNN50_2 | 50 DIMS | ADAM, LR = 0.001] Run #1, Epoch #2, Testing [output-distance]:   0%|          | 0/40 …"
      ]
     },
     "metadata": {},
     "output_type": "display_data"
    },
    {
     "data": {
      "application/vnd.jupyter.widget-view+json": {
       "model_id": "",
       "version_major": 2,
       "version_minor": 0
      },
      "text/plain": [
       "[FUZZYNN50_2 | 50 DIMS | ADAM, LR = 0.001] Run #1, Epoch #2, Testing [output-avg]:   0%|          | 0/40 [00:0…"
      ]
     },
     "metadata": {},
     "output_type": "display_data"
    },
    {
     "data": {
      "application/vnd.jupyter.widget-view+json": {
       "model_id": "",
       "version_major": 2,
       "version_minor": 0
      },
      "text/plain": [
       "[FUZZYNN50_2 | 50 DIMS | ADAM, LR = 0.001] Run #1, Epoch #2, Testing [class-balance]:   0%|          | 0/40 [0…"
      ]
     },
     "metadata": {},
     "output_type": "display_data"
    },
    {
     "data": {
      "application/vnd.jupyter.widget-view+json": {
       "model_id": "",
       "version_major": 2,
       "version_minor": 0
      },
      "text/plain": [
       "[FUZZYNN50_2 | 50 DIMS | ADAM, LR = 0.001] Run #1, Epoch #3, Training:   0%|          | 0/391 [00:00<?, ?it/s]"
      ]
     },
     "metadata": {},
     "output_type": "display_data"
    },
    {
     "data": {
      "application/vnd.jupyter.widget-view+json": {
       "model_id": "",
       "version_major": 2,
       "version_minor": 0
      },
      "text/plain": [
       "[FUZZYNN50_2 | 50 DIMS | ADAM, LR = 0.001] Run #1, Epoch #3, Testing [output-distance]:   0%|          | 0/40 …"
      ]
     },
     "metadata": {},
     "output_type": "display_data"
    },
    {
     "data": {
      "application/vnd.jupyter.widget-view+json": {
       "model_id": "",
       "version_major": 2,
       "version_minor": 0
      },
      "text/plain": [
       "[FUZZYNN50_2 | 50 DIMS | ADAM, LR = 0.001] Run #1, Epoch #3, Testing [output-avg]:   0%|          | 0/40 [00:0…"
      ]
     },
     "metadata": {},
     "output_type": "display_data"
    },
    {
     "data": {
      "application/vnd.jupyter.widget-view+json": {
       "model_id": "",
       "version_major": 2,
       "version_minor": 0
      },
      "text/plain": [
       "[FUZZYNN50_2 | 50 DIMS | ADAM, LR = 0.001] Run #1, Epoch #3, Testing [class-balance]:   0%|          | 0/40 [0…"
      ]
     },
     "metadata": {},
     "output_type": "display_data"
    },
    {
     "data": {
      "application/vnd.jupyter.widget-view+json": {
       "model_id": "",
       "version_major": 2,
       "version_minor": 0
      },
      "text/plain": [
       "[FUZZYNN50_2 | 50 DIMS | ADAM, LR = 0.001] Run #1, Epoch #4, Training:   0%|          | 0/391 [00:00<?, ?it/s]"
      ]
     },
     "metadata": {},
     "output_type": "display_data"
    },
    {
     "data": {
      "application/vnd.jupyter.widget-view+json": {
       "model_id": "",
       "version_major": 2,
       "version_minor": 0
      },
      "text/plain": [
       "[FUZZYNN50_2 | 50 DIMS | ADAM, LR = 0.001] Run #1, Epoch #4, Testing [output-distance]:   0%|          | 0/40 …"
      ]
     },
     "metadata": {},
     "output_type": "display_data"
    },
    {
     "data": {
      "application/vnd.jupyter.widget-view+json": {
       "model_id": "",
       "version_major": 2,
       "version_minor": 0
      },
      "text/plain": [
       "[FUZZYNN50_2 | 50 DIMS | ADAM, LR = 0.001] Run #1, Epoch #4, Testing [output-avg]:   0%|          | 0/40 [00:0…"
      ]
     },
     "metadata": {},
     "output_type": "display_data"
    },
    {
     "data": {
      "application/vnd.jupyter.widget-view+json": {
       "model_id": "",
       "version_major": 2,
       "version_minor": 0
      },
      "text/plain": [
       "[FUZZYNN50_2 | 50 DIMS | ADAM, LR = 0.001] Run #1, Epoch #4, Testing [class-balance]:   0%|          | 0/40 [0…"
      ]
     },
     "metadata": {},
     "output_type": "display_data"
    },
    {
     "data": {
      "application/vnd.jupyter.widget-view+json": {
       "model_id": "",
       "version_major": 2,
       "version_minor": 0
      },
      "text/plain": [
       "[FUZZYNN50_2 | 50 DIMS | ADAM, LR = 0.001] Run #1, Epoch #5, Training:   0%|          | 0/391 [00:00<?, ?it/s]"
      ]
     },
     "metadata": {},
     "output_type": "display_data"
    },
    {
     "data": {
      "application/vnd.jupyter.widget-view+json": {
       "model_id": "",
       "version_major": 2,
       "version_minor": 0
      },
      "text/plain": [
       "[FUZZYNN50_2 | 50 DIMS | ADAM, LR = 0.001] Run #1, Epoch #5, Testing [output-distance]:   0%|          | 0/40 …"
      ]
     },
     "metadata": {},
     "output_type": "display_data"
    },
    {
     "data": {
      "application/vnd.jupyter.widget-view+json": {
       "model_id": "",
       "version_major": 2,
       "version_minor": 0
      },
      "text/plain": [
       "[FUZZYNN50_2 | 50 DIMS | ADAM, LR = 0.001] Run #1, Epoch #5, Testing [output-avg]:   0%|          | 0/40 [00:0…"
      ]
     },
     "metadata": {},
     "output_type": "display_data"
    },
    {
     "data": {
      "application/vnd.jupyter.widget-view+json": {
       "model_id": "",
       "version_major": 2,
       "version_minor": 0
      },
      "text/plain": [
       "[FUZZYNN50_2 | 50 DIMS | ADAM, LR = 0.001] Run #1, Epoch #5, Testing [class-balance]:   0%|          | 0/40 [0…"
      ]
     },
     "metadata": {},
     "output_type": "display_data"
    },
    {
     "data": {
      "application/vnd.jupyter.widget-view+json": {
       "model_id": "",
       "version_major": 2,
       "version_minor": 0
      },
      "text/plain": [
       "[FUZZYNN50_2 | 50 DIMS | ADAM, LR = 0.001] Run #1, Epoch #6, Training:   0%|          | 0/391 [00:00<?, ?it/s]"
      ]
     },
     "metadata": {},
     "output_type": "display_data"
    },
    {
     "data": {
      "application/vnd.jupyter.widget-view+json": {
       "model_id": "",
       "version_major": 2,
       "version_minor": 0
      },
      "text/plain": [
       "[FUZZYNN50_2 | 50 DIMS | ADAM, LR = 0.001] Run #1, Epoch #6, Testing [output-distance]:   0%|          | 0/40 …"
      ]
     },
     "metadata": {},
     "output_type": "display_data"
    },
    {
     "data": {
      "application/vnd.jupyter.widget-view+json": {
       "model_id": "",
       "version_major": 2,
       "version_minor": 0
      },
      "text/plain": [
       "[FUZZYNN50_2 | 50 DIMS | ADAM, LR = 0.001] Run #1, Epoch #6, Testing [output-avg]:   0%|          | 0/40 [00:0…"
      ]
     },
     "metadata": {},
     "output_type": "display_data"
    },
    {
     "data": {
      "application/vnd.jupyter.widget-view+json": {
       "model_id": "",
       "version_major": 2,
       "version_minor": 0
      },
      "text/plain": [
       "[FUZZYNN50_2 | 50 DIMS | ADAM, LR = 0.001] Run #1, Epoch #6, Testing [class-balance]:   0%|          | 0/40 [0…"
      ]
     },
     "metadata": {},
     "output_type": "display_data"
    },
    {
     "data": {
      "application/vnd.jupyter.widget-view+json": {
       "model_id": "",
       "version_major": 2,
       "version_minor": 0
      },
      "text/plain": [
       "[FUZZYNN50_2 | 50 DIMS | ADAM, LR = 0.001] Run #1, Epoch #7, Training:   0%|          | 0/391 [00:00<?, ?it/s]"
      ]
     },
     "metadata": {},
     "output_type": "display_data"
    },
    {
     "data": {
      "application/vnd.jupyter.widget-view+json": {
       "model_id": "",
       "version_major": 2,
       "version_minor": 0
      },
      "text/plain": [
       "[FUZZYNN50_2 | 50 DIMS | ADAM, LR = 0.001] Run #1, Epoch #7, Testing [output-distance]:   0%|          | 0/40 …"
      ]
     },
     "metadata": {},
     "output_type": "display_data"
    },
    {
     "data": {
      "application/vnd.jupyter.widget-view+json": {
       "model_id": "",
       "version_major": 2,
       "version_minor": 0
      },
      "text/plain": [
       "[FUZZYNN50_2 | 50 DIMS | ADAM, LR = 0.001] Run #1, Epoch #7, Testing [output-avg]:   0%|          | 0/40 [00:0…"
      ]
     },
     "metadata": {},
     "output_type": "display_data"
    },
    {
     "data": {
      "application/vnd.jupyter.widget-view+json": {
       "model_id": "",
       "version_major": 2,
       "version_minor": 0
      },
      "text/plain": [
       "[FUZZYNN50_2 | 50 DIMS | ADAM, LR = 0.001] Run #1, Epoch #7, Testing [class-balance]:   0%|          | 0/40 [0…"
      ]
     },
     "metadata": {},
     "output_type": "display_data"
    },
    {
     "data": {
      "application/vnd.jupyter.widget-view+json": {
       "model_id": "",
       "version_major": 2,
       "version_minor": 0
      },
      "text/plain": [
       "[FUZZYNN50_2 | 50 DIMS | ADAM, LR = 0.001] Run #1, Epoch #8, Training:   0%|          | 0/391 [00:00<?, ?it/s]"
      ]
     },
     "metadata": {},
     "output_type": "display_data"
    },
    {
     "data": {
      "application/vnd.jupyter.widget-view+json": {
       "model_id": "",
       "version_major": 2,
       "version_minor": 0
      },
      "text/plain": [
       "[FUZZYNN50_2 | 50 DIMS | ADAM, LR = 0.001] Run #1, Epoch #8, Testing [output-distance]:   0%|          | 0/40 …"
      ]
     },
     "metadata": {},
     "output_type": "display_data"
    },
    {
     "data": {
      "application/vnd.jupyter.widget-view+json": {
       "model_id": "",
       "version_major": 2,
       "version_minor": 0
      },
      "text/plain": [
       "[FUZZYNN50_2 | 50 DIMS | ADAM, LR = 0.001] Run #1, Epoch #8, Testing [output-avg]:   0%|          | 0/40 [00:0…"
      ]
     },
     "metadata": {},
     "output_type": "display_data"
    },
    {
     "data": {
      "application/vnd.jupyter.widget-view+json": {
       "model_id": "",
       "version_major": 2,
       "version_minor": 0
      },
      "text/plain": [
       "[FUZZYNN50_2 | 50 DIMS | ADAM, LR = 0.001] Run #1, Epoch #8, Testing [class-balance]:   0%|          | 0/40 [0…"
      ]
     },
     "metadata": {},
     "output_type": "display_data"
    },
    {
     "data": {
      "application/vnd.jupyter.widget-view+json": {
       "model_id": "",
       "version_major": 2,
       "version_minor": 0
      },
      "text/plain": [
       "[FUZZYNN50_2 | 50 DIMS | ADAM, LR = 0.001] Run #1, Epoch #9, Training:   0%|          | 0/391 [00:00<?, ?it/s]"
      ]
     },
     "metadata": {},
     "output_type": "display_data"
    },
    {
     "data": {
      "application/vnd.jupyter.widget-view+json": {
       "model_id": "",
       "version_major": 2,
       "version_minor": 0
      },
      "text/plain": [
       "[FUZZYNN50_2 | 50 DIMS | ADAM, LR = 0.001] Run #1, Epoch #9, Testing [output-distance]:   0%|          | 0/40 …"
      ]
     },
     "metadata": {},
     "output_type": "display_data"
    },
    {
     "data": {
      "application/vnd.jupyter.widget-view+json": {
       "model_id": "",
       "version_major": 2,
       "version_minor": 0
      },
      "text/plain": [
       "[FUZZYNN50_2 | 50 DIMS | ADAM, LR = 0.001] Run #1, Epoch #9, Testing [output-avg]:   0%|          | 0/40 [00:0…"
      ]
     },
     "metadata": {},
     "output_type": "display_data"
    },
    {
     "data": {
      "application/vnd.jupyter.widget-view+json": {
       "model_id": "",
       "version_major": 2,
       "version_minor": 0
      },
      "text/plain": [
       "[FUZZYNN50_2 | 50 DIMS | ADAM, LR = 0.001] Run #1, Epoch #9, Testing [class-balance]:   0%|          | 0/40 [0…"
      ]
     },
     "metadata": {},
     "output_type": "display_data"
    },
    {
     "data": {
      "application/vnd.jupyter.widget-view+json": {
       "model_id": "",
       "version_major": 2,
       "version_minor": 0
      },
      "text/plain": [
       "[FUZZYNN50_2 | 50 DIMS | ADAM, LR = 0.001] Run #1, Epoch #10, Training:   0%|          | 0/391 [00:00<?, ?it/s…"
      ]
     },
     "metadata": {},
     "output_type": "display_data"
    },
    {
     "data": {
      "application/vnd.jupyter.widget-view+json": {
       "model_id": "",
       "version_major": 2,
       "version_minor": 0
      },
      "text/plain": [
       "[FUZZYNN50_2 | 50 DIMS | ADAM, LR = 0.001] Run #1, Epoch #10, Testing [output-distance]:   0%|          | 0/40…"
      ]
     },
     "metadata": {},
     "output_type": "display_data"
    },
    {
     "data": {
      "application/vnd.jupyter.widget-view+json": {
       "model_id": "",
       "version_major": 2,
       "version_minor": 0
      },
      "text/plain": [
       "[FUZZYNN50_2 | 50 DIMS | ADAM, LR = 0.001] Run #1, Epoch #10, Testing [output-avg]:   0%|          | 0/40 [00:…"
      ]
     },
     "metadata": {},
     "output_type": "display_data"
    },
    {
     "data": {
      "application/vnd.jupyter.widget-view+json": {
       "model_id": "",
       "version_major": 2,
       "version_minor": 0
      },
      "text/plain": [
       "[FUZZYNN50_2 | 50 DIMS | ADAM, LR = 0.001] Run #1, Epoch #10, Testing [class-balance]:   0%|          | 0/40 […"
      ]
     },
     "metadata": {},
     "output_type": "display_data"
    },
    {
     "data": {
      "application/vnd.jupyter.widget-view+json": {
       "model_id": "",
       "version_major": 2,
       "version_minor": 0
      },
      "text/plain": [
       "[FUZZYNN50_2 | 50 DIMS | ADAM, LR = 0.001] Run #1, Epoch #11, Training:   0%|          | 0/391 [00:00<?, ?it/s…"
      ]
     },
     "metadata": {},
     "output_type": "display_data"
    },
    {
     "data": {
      "application/vnd.jupyter.widget-view+json": {
       "model_id": "",
       "version_major": 2,
       "version_minor": 0
      },
      "text/plain": [
       "[FUZZYNN50_2 | 50 DIMS | ADAM, LR = 0.001] Run #1, Epoch #11, Testing [output-distance]:   0%|          | 0/40…"
      ]
     },
     "metadata": {},
     "output_type": "display_data"
    },
    {
     "data": {
      "application/vnd.jupyter.widget-view+json": {
       "model_id": "",
       "version_major": 2,
       "version_minor": 0
      },
      "text/plain": [
       "[FUZZYNN50_2 | 50 DIMS | ADAM, LR = 0.001] Run #1, Epoch #11, Testing [output-avg]:   0%|          | 0/40 [00:…"
      ]
     },
     "metadata": {},
     "output_type": "display_data"
    },
    {
     "data": {
      "application/vnd.jupyter.widget-view+json": {
       "model_id": "",
       "version_major": 2,
       "version_minor": 0
      },
      "text/plain": [
       "[FUZZYNN50_2 | 50 DIMS | ADAM, LR = 0.001] Run #1, Epoch #11, Testing [class-balance]:   0%|          | 0/40 […"
      ]
     },
     "metadata": {},
     "output_type": "display_data"
    },
    {
     "data": {
      "application/vnd.jupyter.widget-view+json": {
       "model_id": "",
       "version_major": 2,
       "version_minor": 0
      },
      "text/plain": [
       "[FUZZYNN50_2 | 50 DIMS | ADAM, LR = 0.001] Run #1, Epoch #12, Training:   0%|          | 0/391 [00:00<?, ?it/s…"
      ]
     },
     "metadata": {},
     "output_type": "display_data"
    },
    {
     "data": {
      "application/vnd.jupyter.widget-view+json": {
       "model_id": "",
       "version_major": 2,
       "version_minor": 0
      },
      "text/plain": [
       "[FUZZYNN50_2 | 50 DIMS | ADAM, LR = 0.001] Run #1, Epoch #12, Testing [output-distance]:   0%|          | 0/40…"
      ]
     },
     "metadata": {},
     "output_type": "display_data"
    },
    {
     "data": {
      "application/vnd.jupyter.widget-view+json": {
       "model_id": "",
       "version_major": 2,
       "version_minor": 0
      },
      "text/plain": [
       "[FUZZYNN50_2 | 50 DIMS | ADAM, LR = 0.001] Run #1, Epoch #12, Testing [output-avg]:   0%|          | 0/40 [00:…"
      ]
     },
     "metadata": {},
     "output_type": "display_data"
    },
    {
     "data": {
      "application/vnd.jupyter.widget-view+json": {
       "model_id": "",
       "version_major": 2,
       "version_minor": 0
      },
      "text/plain": [
       "[FUZZYNN50_2 | 50 DIMS | ADAM, LR = 0.001] Run #1, Epoch #12, Testing [class-balance]:   0%|          | 0/40 […"
      ]
     },
     "metadata": {},
     "output_type": "display_data"
    },
    {
     "data": {
      "application/vnd.jupyter.widget-view+json": {
       "model_id": "",
       "version_major": 2,
       "version_minor": 0
      },
      "text/plain": [
       "[FUZZYNN50_2 | 50 DIMS | ADAM, LR = 0.001] Run #1, Epoch #13, Training:   0%|          | 0/391 [00:00<?, ?it/s…"
      ]
     },
     "metadata": {},
     "output_type": "display_data"
    },
    {
     "data": {
      "application/vnd.jupyter.widget-view+json": {
       "model_id": "",
       "version_major": 2,
       "version_minor": 0
      },
      "text/plain": [
       "[FUZZYNN50_2 | 50 DIMS | ADAM, LR = 0.001] Run #1, Epoch #13, Testing [output-distance]:   0%|          | 0/40…"
      ]
     },
     "metadata": {},
     "output_type": "display_data"
    },
    {
     "data": {
      "application/vnd.jupyter.widget-view+json": {
       "model_id": "",
       "version_major": 2,
       "version_minor": 0
      },
      "text/plain": [
       "[FUZZYNN50_2 | 50 DIMS | ADAM, LR = 0.001] Run #1, Epoch #13, Testing [output-avg]:   0%|          | 0/40 [00:…"
      ]
     },
     "metadata": {},
     "output_type": "display_data"
    },
    {
     "data": {
      "application/vnd.jupyter.widget-view+json": {
       "model_id": "",
       "version_major": 2,
       "version_minor": 0
      },
      "text/plain": [
       "[FUZZYNN50_2 | 50 DIMS | ADAM, LR = 0.001] Run #1, Epoch #13, Testing [class-balance]:   0%|          | 0/40 […"
      ]
     },
     "metadata": {},
     "output_type": "display_data"
    },
    {
     "data": {
      "application/vnd.jupyter.widget-view+json": {
       "model_id": "",
       "version_major": 2,
       "version_minor": 0
      },
      "text/plain": [
       "[FUZZYNN50_2 | 50 DIMS | ADAM, LR = 0.001] Run #1, Epoch #14, Training:   0%|          | 0/391 [00:00<?, ?it/s…"
      ]
     },
     "metadata": {},
     "output_type": "display_data"
    },
    {
     "data": {
      "application/vnd.jupyter.widget-view+json": {
       "model_id": "",
       "version_major": 2,
       "version_minor": 0
      },
      "text/plain": [
       "[FUZZYNN50_2 | 50 DIMS | ADAM, LR = 0.001] Run #1, Epoch #14, Testing [output-distance]:   0%|          | 0/40…"
      ]
     },
     "metadata": {},
     "output_type": "display_data"
    },
    {
     "data": {
      "application/vnd.jupyter.widget-view+json": {
       "model_id": "",
       "version_major": 2,
       "version_minor": 0
      },
      "text/plain": [
       "[FUZZYNN50_2 | 50 DIMS | ADAM, LR = 0.001] Run #1, Epoch #14, Testing [output-avg]:   0%|          | 0/40 [00:…"
      ]
     },
     "metadata": {},
     "output_type": "display_data"
    },
    {
     "data": {
      "application/vnd.jupyter.widget-view+json": {
       "model_id": "",
       "version_major": 2,
       "version_minor": 0
      },
      "text/plain": [
       "[FUZZYNN50_2 | 50 DIMS | ADAM, LR = 0.001] Run #1, Epoch #14, Testing [class-balance]:   0%|          | 0/40 […"
      ]
     },
     "metadata": {},
     "output_type": "display_data"
    },
    {
     "data": {
      "application/vnd.jupyter.widget-view+json": {
       "model_id": "",
       "version_major": 2,
       "version_minor": 0
      },
      "text/plain": [
       "[FUZZYNN50_2 | 50 DIMS | ADAM, LR = 0.001] Run #1, Epoch #15, Training:   0%|          | 0/391 [00:00<?, ?it/s…"
      ]
     },
     "metadata": {},
     "output_type": "display_data"
    },
    {
     "data": {
      "application/vnd.jupyter.widget-view+json": {
       "model_id": "",
       "version_major": 2,
       "version_minor": 0
      },
      "text/plain": [
       "[FUZZYNN50_2 | 50 DIMS | ADAM, LR = 0.001] Run #1, Epoch #15, Testing [output-distance]:   0%|          | 0/40…"
      ]
     },
     "metadata": {},
     "output_type": "display_data"
    },
    {
     "data": {
      "application/vnd.jupyter.widget-view+json": {
       "model_id": "",
       "version_major": 2,
       "version_minor": 0
      },
      "text/plain": [
       "[FUZZYNN50_2 | 50 DIMS | ADAM, LR = 0.001] Run #1, Epoch #15, Testing [output-avg]:   0%|          | 0/40 [00:…"
      ]
     },
     "metadata": {},
     "output_type": "display_data"
    },
    {
     "data": {
      "application/vnd.jupyter.widget-view+json": {
       "model_id": "",
       "version_major": 2,
       "version_minor": 0
      },
      "text/plain": [
       "[FUZZYNN50_2 | 50 DIMS | ADAM, LR = 0.001] Run #1, Epoch #15, Testing [class-balance]:   0%|          | 0/40 […"
      ]
     },
     "metadata": {},
     "output_type": "display_data"
    },
    {
     "data": {
      "application/vnd.jupyter.widget-view+json": {
       "model_id": "",
       "version_major": 2,
       "version_minor": 0
      },
      "text/plain": [
       "[FUZZYNN50_2 | 50 DIMS | ADAM, LR = 0.001] Run #1, Epoch #16, Training:   0%|          | 0/391 [00:00<?, ?it/s…"
      ]
     },
     "metadata": {},
     "output_type": "display_data"
    },
    {
     "data": {
      "application/vnd.jupyter.widget-view+json": {
       "model_id": "",
       "version_major": 2,
       "version_minor": 0
      },
      "text/plain": [
       "[FUZZYNN50_2 | 50 DIMS | ADAM, LR = 0.001] Run #1, Epoch #16, Testing [output-distance]:   0%|          | 0/40…"
      ]
     },
     "metadata": {},
     "output_type": "display_data"
    },
    {
     "data": {
      "application/vnd.jupyter.widget-view+json": {
       "model_id": "",
       "version_major": 2,
       "version_minor": 0
      },
      "text/plain": [
       "[FUZZYNN50_2 | 50 DIMS | ADAM, LR = 0.001] Run #1, Epoch #16, Testing [output-avg]:   0%|          | 0/40 [00:…"
      ]
     },
     "metadata": {},
     "output_type": "display_data"
    },
    {
     "data": {
      "application/vnd.jupyter.widget-view+json": {
       "model_id": "",
       "version_major": 2,
       "version_minor": 0
      },
      "text/plain": [
       "[FUZZYNN50_2 | 50 DIMS | ADAM, LR = 0.001] Run #1, Epoch #16, Testing [class-balance]:   0%|          | 0/40 […"
      ]
     },
     "metadata": {},
     "output_type": "display_data"
    },
    {
     "data": {
      "application/vnd.jupyter.widget-view+json": {
       "model_id": "",
       "version_major": 2,
       "version_minor": 0
      },
      "text/plain": [
       "[FUZZYNN50_2 | 50 DIMS | ADAM, LR = 0.001] Run #1, Epoch #17, Training:   0%|          | 0/391 [00:00<?, ?it/s…"
      ]
     },
     "metadata": {},
     "output_type": "display_data"
    },
    {
     "data": {
      "application/vnd.jupyter.widget-view+json": {
       "model_id": "",
       "version_major": 2,
       "version_minor": 0
      },
      "text/plain": [
       "[FUZZYNN50_2 | 50 DIMS | ADAM, LR = 0.001] Run #1, Epoch #17, Testing [output-distance]:   0%|          | 0/40…"
      ]
     },
     "metadata": {},
     "output_type": "display_data"
    },
    {
     "data": {
      "application/vnd.jupyter.widget-view+json": {
       "model_id": "",
       "version_major": 2,
       "version_minor": 0
      },
      "text/plain": [
       "[FUZZYNN50_2 | 50 DIMS | ADAM, LR = 0.001] Run #1, Epoch #17, Testing [output-avg]:   0%|          | 0/40 [00:…"
      ]
     },
     "metadata": {},
     "output_type": "display_data"
    },
    {
     "data": {
      "application/vnd.jupyter.widget-view+json": {
       "model_id": "",
       "version_major": 2,
       "version_minor": 0
      },
      "text/plain": [
       "[FUZZYNN50_2 | 50 DIMS | ADAM, LR = 0.001] Run #1, Epoch #17, Testing [class-balance]:   0%|          | 0/40 […"
      ]
     },
     "metadata": {},
     "output_type": "display_data"
    },
    {
     "data": {
      "application/vnd.jupyter.widget-view+json": {
       "model_id": "",
       "version_major": 2,
       "version_minor": 0
      },
      "text/plain": [
       "[FUZZYNN50_2 | 50 DIMS | ADAM, LR = 0.001] Run #1, Epoch #18, Training:   0%|          | 0/391 [00:00<?, ?it/s…"
      ]
     },
     "metadata": {},
     "output_type": "display_data"
    },
    {
     "data": {
      "application/vnd.jupyter.widget-view+json": {
       "model_id": "",
       "version_major": 2,
       "version_minor": 0
      },
      "text/plain": [
       "[FUZZYNN50_2 | 50 DIMS | ADAM, LR = 0.001] Run #1, Epoch #18, Testing [output-distance]:   0%|          | 0/40…"
      ]
     },
     "metadata": {},
     "output_type": "display_data"
    },
    {
     "data": {
      "application/vnd.jupyter.widget-view+json": {
       "model_id": "",
       "version_major": 2,
       "version_minor": 0
      },
      "text/plain": [
       "[FUZZYNN50_2 | 50 DIMS | ADAM, LR = 0.001] Run #1, Epoch #18, Testing [output-avg]:   0%|          | 0/40 [00:…"
      ]
     },
     "metadata": {},
     "output_type": "display_data"
    },
    {
     "data": {
      "application/vnd.jupyter.widget-view+json": {
       "model_id": "",
       "version_major": 2,
       "version_minor": 0
      },
      "text/plain": [
       "[FUZZYNN50_2 | 50 DIMS | ADAM, LR = 0.001] Run #1, Epoch #18, Testing [class-balance]:   0%|          | 0/40 […"
      ]
     },
     "metadata": {},
     "output_type": "display_data"
    },
    {
     "data": {
      "application/vnd.jupyter.widget-view+json": {
       "model_id": "bd2cc3ab1b2f49cbb4d2fe7ce6aa674b",
       "version_major": 2,
       "version_minor": 0
      },
      "text/plain": [
       "[FUZZYNN50_2 | 50 DIMS | ADAM, LR = 0.001] Run #1, Epoch #19, Training:   0%|          | 0/391 [00:00<?, ?it/s…"
      ]
     },
     "metadata": {},
     "output_type": "display_data"
    },
    {
     "ename": "KeyboardInterrupt",
     "evalue": "",
     "output_type": "error",
     "traceback": [
      "\u001b[0;31m---------------------------------------------------------------------------\u001b[0m",
      "\u001b[0;31mKeyboardInterrupt\u001b[0m                         Traceback (most recent call last)",
      "Input \u001b[0;32mIn [14]\u001b[0m, in \u001b[0;36m<module>\u001b[0;34m\u001b[0m\n\u001b[1;32m     19\u001b[0m \u001b[38;5;28;01mfor\u001b[39;00m i \u001b[38;5;129;01min\u001b[39;00m \u001b[38;5;28mrange\u001b[39m(\u001b[38;5;241m1\u001b[39m, regime\u001b[38;5;241m.\u001b[39mno_runs \u001b[38;5;241m+\u001b[39m \u001b[38;5;241m1\u001b[39m):\n\u001b[1;32m     20\u001b[0m     \u001b[38;5;28;01mfor\u001b[39;00m j \u001b[38;5;129;01min\u001b[39;00m \u001b[38;5;28mrange\u001b[39m(\u001b[38;5;241m1\u001b[39m, \u001b[38;5;28mint\u001b[39m(\u001b[38;5;241m1\u001b[39m \u001b[38;5;241m+\u001b[39m (\u001b[38;5;241m40\u001b[39m\u001b[38;5;241m/\u001b[39m\u001b[38;5;241m3\u001b[39m))):\n\u001b[0;32m---> 21\u001b[0m         \u001b[43mregime\u001b[49m\u001b[38;5;241;43m.\u001b[39;49m\u001b[43mloop_until\u001b[49m\u001b[43m(\u001b[49m\u001b[43mi\u001b[49m\u001b[43m,\u001b[49m\u001b[43m \u001b[49m\u001b[38;5;28;43mmin\u001b[39;49m\u001b[43m(\u001b[49m\u001b[38;5;241;43m3\u001b[39;49m\u001b[38;5;241;43m*\u001b[39;49m\u001b[43mj\u001b[49m\u001b[43m,\u001b[49m\u001b[43m \u001b[49m\u001b[38;5;241;43m40\u001b[39;49m\u001b[43m)\u001b[49m\u001b[43m)\u001b[49m\n\u001b[1;32m     22\u001b[0m \u001b[38;5;28;01mdel\u001b[39;00m regime\n",
      "File \u001b[0;32m~/git/chess-ai-backend/src/cache.py:35\u001b[0m, in \u001b[0;36mTrainingRegime.loop_until\u001b[0;34m(self, run_no, until_epoch)\u001b[0m\n\u001b[1;32m     33\u001b[0m start_epoch \u001b[38;5;241m=\u001b[39m \u001b[38;5;28mself\u001b[39m\u001b[38;5;241m.\u001b[39mget_loaded_epoch_count(run_no) \u001b[38;5;241m+\u001b[39m \u001b[38;5;241m1\u001b[39m\n\u001b[1;32m     34\u001b[0m \u001b[38;5;28;01mfor\u001b[39;00m epoch_no \u001b[38;5;129;01min\u001b[39;00m \u001b[38;5;28mrange\u001b[39m(start_epoch, until_epoch \u001b[38;5;241m+\u001b[39m \u001b[38;5;241m1\u001b[39m):\n\u001b[0;32m---> 35\u001b[0m     \u001b[38;5;28;43mself\u001b[39;49m\u001b[38;5;241;43m.\u001b[39;49m\u001b[43mtrain_until\u001b[49m\u001b[43m(\u001b[49m\u001b[43mrun_no\u001b[49m\u001b[43m,\u001b[49m\u001b[43m \u001b[49m\u001b[43mepoch_no\u001b[49m\u001b[43m)\u001b[49m\n\u001b[1;32m     36\u001b[0m     \u001b[38;5;28mself\u001b[39m\u001b[38;5;241m.\u001b[39mtest_and_append_results(run_no)\n\u001b[1;32m     37\u001b[0m \u001b[38;5;28mself\u001b[39m\u001b[38;5;241m.\u001b[39msave_model(run_no)\n",
      "File \u001b[0;32m~/git/chess-ai-backend/src/cache.py:59\u001b[0m, in \u001b[0;36mTrainingRegime.train_until\u001b[0;34m(self, run_no, until_epoch)\u001b[0m\n\u001b[1;32m     56\u001b[0m model\u001b[38;5;241m.\u001b[39mtrain()\n\u001b[1;32m     58\u001b[0m \u001b[38;5;28;01mfor\u001b[39;00m epoch_no \u001b[38;5;129;01min\u001b[39;00m \u001b[38;5;28mrange\u001b[39m(start_epoch, until_epoch \u001b[38;5;241m+\u001b[39m \u001b[38;5;241m1\u001b[39m):\n\u001b[0;32m---> 59\u001b[0m     \u001b[38;5;28;01mfor\u001b[39;00m loader_args \u001b[38;5;129;01min\u001b[39;00m tqdm(\n\u001b[1;32m     60\u001b[0m         loader, \n\u001b[1;32m     61\u001b[0m         desc\u001b[38;5;241m=\u001b[39m\u001b[38;5;124m\"\u001b[39m\u001b[38;5;124m[\u001b[39m\u001b[38;5;132;01m%s\u001b[39;00m\u001b[38;5;124m] Run #\u001b[39m\u001b[38;5;132;01m%s\u001b[39;00m\u001b[38;5;124m, Epoch #\u001b[39m\u001b[38;5;132;01m%s\u001b[39;00m\u001b[38;5;124m, Training\u001b[39m\u001b[38;5;124m\"\u001b[39m \n\u001b[1;32m     62\u001b[0m         \u001b[38;5;241m%\u001b[39m (\u001b[38;5;28mself\u001b[39m\u001b[38;5;241m.\u001b[39mregime_str(), run_no, epoch_no), \n\u001b[1;32m     63\u001b[0m         leave\u001b[38;5;241m=\u001b[39m\u001b[38;5;28;01mFalse\u001b[39;00m\n\u001b[1;32m     64\u001b[0m     ):\n\u001b[1;32m     65\u001b[0m         \u001b[38;5;28;01mif\u001b[39;00m \u001b[38;5;28mtype\u001b[39m(loader_args) \u001b[38;5;129;01mis\u001b[39;00m \u001b[38;5;28mtuple\u001b[39m:\n\u001b[1;32m     66\u001b[0m             step(\u001b[38;5;241m*\u001b[39mloader_args)\n",
      "File \u001b[0;32m~/anaconda3/lib/python3.9/site-packages/tqdm/notebook.py:257\u001b[0m, in \u001b[0;36mtqdm_notebook.__iter__\u001b[0;34m(self)\u001b[0m\n\u001b[1;32m    255\u001b[0m \u001b[38;5;28;01mdef\u001b[39;00m \u001b[38;5;21m__iter__\u001b[39m(\u001b[38;5;28mself\u001b[39m):\n\u001b[1;32m    256\u001b[0m     \u001b[38;5;28;01mtry\u001b[39;00m:\n\u001b[0;32m--> 257\u001b[0m         \u001b[38;5;28;01mfor\u001b[39;00m obj \u001b[38;5;129;01min\u001b[39;00m \u001b[38;5;28msuper\u001b[39m(tqdm_notebook, \u001b[38;5;28mself\u001b[39m)\u001b[38;5;241m.\u001b[39m\u001b[38;5;21m__iter__\u001b[39m():\n\u001b[1;32m    258\u001b[0m             \u001b[38;5;66;03m# return super(tqdm...) will not catch exception\u001b[39;00m\n\u001b[1;32m    259\u001b[0m             \u001b[38;5;28;01myield\u001b[39;00m obj\n\u001b[1;32m    260\u001b[0m     \u001b[38;5;66;03m# NB: except ... [ as ...] breaks IPython async KeyboardInterrupt\u001b[39;00m\n",
      "File \u001b[0;32m~/anaconda3/lib/python3.9/site-packages/tqdm/std.py:1180\u001b[0m, in \u001b[0;36mtqdm.__iter__\u001b[0;34m(self)\u001b[0m\n\u001b[1;32m   1177\u001b[0m time \u001b[38;5;241m=\u001b[39m \u001b[38;5;28mself\u001b[39m\u001b[38;5;241m.\u001b[39m_time\n\u001b[1;32m   1179\u001b[0m \u001b[38;5;28;01mtry\u001b[39;00m:\n\u001b[0;32m-> 1180\u001b[0m     \u001b[38;5;28;01mfor\u001b[39;00m obj \u001b[38;5;129;01min\u001b[39;00m iterable:\n\u001b[1;32m   1181\u001b[0m         \u001b[38;5;28;01myield\u001b[39;00m obj\n\u001b[1;32m   1182\u001b[0m         \u001b[38;5;66;03m# Update and possibly print the progressbar.\u001b[39;00m\n\u001b[1;32m   1183\u001b[0m         \u001b[38;5;66;03m# Note: does not call self.update(1) for speed optimisation.\u001b[39;00m\n",
      "File \u001b[0;32m~/anaconda3/lib/python3.9/site-packages/torch/utils/data/dataloader.py:521\u001b[0m, in \u001b[0;36m_BaseDataLoaderIter.__next__\u001b[0;34m(self)\u001b[0m\n\u001b[1;32m    519\u001b[0m \u001b[38;5;28;01mif\u001b[39;00m \u001b[38;5;28mself\u001b[39m\u001b[38;5;241m.\u001b[39m_sampler_iter \u001b[38;5;129;01mis\u001b[39;00m \u001b[38;5;28;01mNone\u001b[39;00m:\n\u001b[1;32m    520\u001b[0m     \u001b[38;5;28mself\u001b[39m\u001b[38;5;241m.\u001b[39m_reset()\n\u001b[0;32m--> 521\u001b[0m data \u001b[38;5;241m=\u001b[39m \u001b[38;5;28;43mself\u001b[39;49m\u001b[38;5;241;43m.\u001b[39;49m\u001b[43m_next_data\u001b[49m\u001b[43m(\u001b[49m\u001b[43m)\u001b[49m\n\u001b[1;32m    522\u001b[0m \u001b[38;5;28mself\u001b[39m\u001b[38;5;241m.\u001b[39m_num_yielded \u001b[38;5;241m+\u001b[39m\u001b[38;5;241m=\u001b[39m \u001b[38;5;241m1\u001b[39m\n\u001b[1;32m    523\u001b[0m \u001b[38;5;28;01mif\u001b[39;00m \u001b[38;5;28mself\u001b[39m\u001b[38;5;241m.\u001b[39m_dataset_kind \u001b[38;5;241m==\u001b[39m _DatasetKind\u001b[38;5;241m.\u001b[39mIterable \u001b[38;5;129;01mand\u001b[39;00m \\\n\u001b[1;32m    524\u001b[0m         \u001b[38;5;28mself\u001b[39m\u001b[38;5;241m.\u001b[39m_IterableDataset_len_called \u001b[38;5;129;01mis\u001b[39;00m \u001b[38;5;129;01mnot\u001b[39;00m \u001b[38;5;28;01mNone\u001b[39;00m \u001b[38;5;129;01mand\u001b[39;00m \\\n\u001b[1;32m    525\u001b[0m         \u001b[38;5;28mself\u001b[39m\u001b[38;5;241m.\u001b[39m_num_yielded \u001b[38;5;241m>\u001b[39m \u001b[38;5;28mself\u001b[39m\u001b[38;5;241m.\u001b[39m_IterableDataset_len_called:\n",
      "File \u001b[0;32m~/anaconda3/lib/python3.9/site-packages/torch/utils/data/dataloader.py:561\u001b[0m, in \u001b[0;36m_SingleProcessDataLoaderIter._next_data\u001b[0;34m(self)\u001b[0m\n\u001b[1;32m    559\u001b[0m \u001b[38;5;28;01mdef\u001b[39;00m \u001b[38;5;21m_next_data\u001b[39m(\u001b[38;5;28mself\u001b[39m):\n\u001b[1;32m    560\u001b[0m     index \u001b[38;5;241m=\u001b[39m \u001b[38;5;28mself\u001b[39m\u001b[38;5;241m.\u001b[39m_next_index()  \u001b[38;5;66;03m# may raise StopIteration\u001b[39;00m\n\u001b[0;32m--> 561\u001b[0m     data \u001b[38;5;241m=\u001b[39m \u001b[38;5;28;43mself\u001b[39;49m\u001b[38;5;241;43m.\u001b[39;49m\u001b[43m_dataset_fetcher\u001b[49m\u001b[38;5;241;43m.\u001b[39;49m\u001b[43mfetch\u001b[49m\u001b[43m(\u001b[49m\u001b[43mindex\u001b[49m\u001b[43m)\u001b[49m  \u001b[38;5;66;03m# may raise StopIteration\u001b[39;00m\n\u001b[1;32m    562\u001b[0m     \u001b[38;5;28;01mif\u001b[39;00m \u001b[38;5;28mself\u001b[39m\u001b[38;5;241m.\u001b[39m_pin_memory:\n\u001b[1;32m    563\u001b[0m         data \u001b[38;5;241m=\u001b[39m _utils\u001b[38;5;241m.\u001b[39mpin_memory\u001b[38;5;241m.\u001b[39mpin_memory(data)\n",
      "File \u001b[0;32m~/anaconda3/lib/python3.9/site-packages/torch/utils/data/_utils/fetch.py:49\u001b[0m, in \u001b[0;36m_MapDatasetFetcher.fetch\u001b[0;34m(self, possibly_batched_index)\u001b[0m\n\u001b[1;32m     47\u001b[0m \u001b[38;5;28;01mdef\u001b[39;00m \u001b[38;5;21mfetch\u001b[39m(\u001b[38;5;28mself\u001b[39m, possibly_batched_index):\n\u001b[1;32m     48\u001b[0m     \u001b[38;5;28;01mif\u001b[39;00m \u001b[38;5;28mself\u001b[39m\u001b[38;5;241m.\u001b[39mauto_collation:\n\u001b[0;32m---> 49\u001b[0m         data \u001b[38;5;241m=\u001b[39m [\u001b[38;5;28mself\u001b[39m\u001b[38;5;241m.\u001b[39mdataset[idx] \u001b[38;5;28;01mfor\u001b[39;00m idx \u001b[38;5;129;01min\u001b[39;00m possibly_batched_index]\n\u001b[1;32m     50\u001b[0m     \u001b[38;5;28;01melse\u001b[39;00m:\n\u001b[1;32m     51\u001b[0m         data \u001b[38;5;241m=\u001b[39m \u001b[38;5;28mself\u001b[39m\u001b[38;5;241m.\u001b[39mdataset[possibly_batched_index]\n",
      "File \u001b[0;32m~/anaconda3/lib/python3.9/site-packages/torch/utils/data/_utils/fetch.py:49\u001b[0m, in \u001b[0;36m<listcomp>\u001b[0;34m(.0)\u001b[0m\n\u001b[1;32m     47\u001b[0m \u001b[38;5;28;01mdef\u001b[39;00m \u001b[38;5;21mfetch\u001b[39m(\u001b[38;5;28mself\u001b[39m, possibly_batched_index):\n\u001b[1;32m     48\u001b[0m     \u001b[38;5;28;01mif\u001b[39;00m \u001b[38;5;28mself\u001b[39m\u001b[38;5;241m.\u001b[39mauto_collation:\n\u001b[0;32m---> 49\u001b[0m         data \u001b[38;5;241m=\u001b[39m [\u001b[38;5;28;43mself\u001b[39;49m\u001b[38;5;241;43m.\u001b[39;49m\u001b[43mdataset\u001b[49m\u001b[43m[\u001b[49m\u001b[43midx\u001b[49m\u001b[43m]\u001b[49m \u001b[38;5;28;01mfor\u001b[39;00m idx \u001b[38;5;129;01min\u001b[39;00m possibly_batched_index]\n\u001b[1;32m     50\u001b[0m     \u001b[38;5;28;01melse\u001b[39;00m:\n\u001b[1;32m     51\u001b[0m         data \u001b[38;5;241m=\u001b[39m \u001b[38;5;28mself\u001b[39m\u001b[38;5;241m.\u001b[39mdataset[possibly_batched_index]\n",
      "File \u001b[0;32m~/git/chess-ai-backend/src/data/data_synth.py:79\u001b[0m, in \u001b[0;36mDNFDataset.__getitem__\u001b[0;34m(self, idx)\u001b[0m\n\u001b[1;32m     75\u001b[0m \u001b[38;5;28;01mdef\u001b[39;00m \u001b[38;5;21m__getitem__\u001b[39m(\u001b[38;5;28mself\u001b[39m, idx):\n\u001b[1;32m     76\u001b[0m     \u001b[38;5;28;01mreturn\u001b[39;00m (\n\u001b[1;32m     77\u001b[0m         \u001b[38;5;28mself\u001b[39m\u001b[38;5;241m.\u001b[39mX[idx],\n\u001b[1;32m     78\u001b[0m         torch\u001b[38;5;241m.\u001b[39msqueeze(\n\u001b[0;32m---> 79\u001b[0m             \u001b[43mdnfs\u001b[49m\u001b[43m(\u001b[49m\n\u001b[1;32m     80\u001b[0m \u001b[43m                \u001b[49m\u001b[38;5;28;43mself\u001b[39;49m\u001b[38;5;241;43m.\u001b[39;49m\u001b[43mX\u001b[49m\u001b[43m[\u001b[49m\u001b[43midx\u001b[49m\u001b[43m \u001b[49m\u001b[43m:\u001b[49m\u001b[43m \u001b[49m\u001b[43midx\u001b[49m\u001b[43m \u001b[49m\u001b[38;5;241;43m+\u001b[39;49m\u001b[43m \u001b[49m\u001b[38;5;241;43m1\u001b[39;49m\u001b[43m,\u001b[49m\u001b[43m \u001b[49m\u001b[43m:\u001b[49m\u001b[43m]\u001b[49m\u001b[43m,\u001b[49m\n\u001b[1;32m     81\u001b[0m \u001b[43m                \u001b[49m\u001b[38;5;28;43mself\u001b[39;49m\u001b[38;5;241;43m.\u001b[39;49m\u001b[43mconj_weights\u001b[49m\u001b[43m,\u001b[49m\n\u001b[1;32m     82\u001b[0m \u001b[43m                \u001b[49m\u001b[38;5;28;43mself\u001b[39;49m\u001b[38;5;241;43m.\u001b[39;49m\u001b[43mconj_signs\u001b[49m\u001b[43m,\u001b[49m\n\u001b[1;32m     83\u001b[0m \u001b[43m                \u001b[49m\u001b[38;5;28;43mself\u001b[39;49m\u001b[38;5;241;43m.\u001b[39;49m\u001b[43mdisj_weights\u001b[49m\u001b[43m,\u001b[49m\n\u001b[1;32m     84\u001b[0m \u001b[43m            \u001b[49m\u001b[43m)\u001b[49m[\u001b[38;5;241m0\u001b[39m]\n\u001b[1;32m     85\u001b[0m         ),\n\u001b[1;32m     86\u001b[0m     )\n",
      "File \u001b[0;32m~/git/chess-ai-backend/src/data/data_synth.py:56\u001b[0m, in \u001b[0;36mdnfs\u001b[0;34m(X, conj_weights, conj_signs, disj_weights)\u001b[0m\n\u001b[1;32m     53\u001b[0m     \u001b[38;5;28;01mraise\u001b[39;00m \u001b[38;5;167;01mException\u001b[39;00m(\u001b[38;5;124m\"\u001b[39m\u001b[38;5;124mMisaligned shapes for DNF.\u001b[39m\u001b[38;5;124m\"\u001b[39m)\n\u001b[1;32m     55\u001b[0m X, conj_weights \u001b[38;5;241m=\u001b[39m match_shapes(X\u001b[38;5;241m.\u001b[39mview(B, N, \u001b[38;5;241m1\u001b[39m), conj_weights\u001b[38;5;241m.\u001b[39mview(\u001b[38;5;241m1\u001b[39m, N, H))\n\u001b[0;32m---> 56\u001b[0m _, conj_signs \u001b[38;5;241m=\u001b[39m \u001b[43mmatch_shapes\u001b[49m\u001b[43m(\u001b[49m\u001b[43mX\u001b[49m\u001b[43m,\u001b[49m\u001b[43m \u001b[49m\u001b[43mconj_signs\u001b[49m\u001b[38;5;241;43m.\u001b[39;49m\u001b[43mview\u001b[49m\u001b[43m(\u001b[49m\u001b[38;5;241;43m1\u001b[39;49m\u001b[43m,\u001b[49m\u001b[43m \u001b[49m\u001b[43mN\u001b[49m\u001b[43m,\u001b[49m\u001b[43m \u001b[49m\u001b[43mH\u001b[49m\u001b[43m)\u001b[49m\u001b[43m)\u001b[49m\n\u001b[1;32m     58\u001b[0m conjs \u001b[38;5;241m=\u001b[39m reduce_and(logical_impl(conj_weights, logical_xnor(X, conj_signs)), dim\u001b[38;5;241m=\u001b[39m\u001b[38;5;241m1\u001b[39m)\n\u001b[1;32m     60\u001b[0m conjs, disj_weights \u001b[38;5;241m=\u001b[39m match_shapes(conjs\u001b[38;5;241m.\u001b[39mview(B, H, \u001b[38;5;241m1\u001b[39m), disj_weights\u001b[38;5;241m.\u001b[39mview(\u001b[38;5;241m1\u001b[39m, H, O))\n",
      "File \u001b[0;32m~/git/chess-ai-backend/src/util.py:44\u001b[0m, in \u001b[0;36mmatch_shapes\u001b[0;34m(*args)\u001b[0m\n\u001b[1;32m     38\u001b[0m     \u001b[38;5;28;01mraise\u001b[39;00m \u001b[38;5;167;01mException\u001b[39;00m(\n\u001b[1;32m     39\u001b[0m         \u001b[38;5;124m\"\u001b[39m\u001b[38;5;124mWhere dimension sizes differ, one Tensor must have dimension size 1. \u001b[39m\u001b[38;5;132;01m%s\u001b[39;00m\u001b[38;5;124m\"\u001b[39m\n\u001b[1;32m     40\u001b[0m         \u001b[38;5;241m%\u001b[39m [\u001b[38;5;28mtuple\u001b[39m(shape\u001b[38;5;241m.\u001b[39mtolist()) \u001b[38;5;28;01mfor\u001b[39;00m shape \u001b[38;5;129;01min\u001b[39;00m shapes]\n\u001b[1;32m     41\u001b[0m     )\n\u001b[1;32m     43\u001b[0m tiling \u001b[38;5;241m=\u001b[39m torch\u001b[38;5;241m.\u001b[39mdiv(preferred_shape, shapes, rounding_mode\u001b[38;5;241m=\u001b[39m\u001b[38;5;124m\"\u001b[39m\u001b[38;5;124mfloor\u001b[39m\u001b[38;5;124m\"\u001b[39m)\n\u001b[0;32m---> 44\u001b[0m \u001b[38;5;28;01mreturn\u001b[39;00m \u001b[38;5;28;43mtuple\u001b[39;49m\u001b[43m(\u001b[49m\n\u001b[1;32m     45\u001b[0m \u001b[43m    \u001b[49m\u001b[43mtorch\u001b[49m\u001b[38;5;241;43m.\u001b[39;49m\u001b[43mtile\u001b[49m\u001b[43m(\u001b[49m\u001b[43margs\u001b[49m\u001b[43m[\u001b[49m\u001b[43mi\u001b[49m\u001b[43m]\u001b[49m\u001b[43m,\u001b[49m\u001b[43m \u001b[49m\u001b[38;5;28;43mtuple\u001b[39;49m\u001b[43m(\u001b[49m\u001b[43mtiling\u001b[49m\u001b[43m[\u001b[49m\u001b[43mi\u001b[49m\u001b[43m]\u001b[49m\u001b[38;5;241;43m.\u001b[39;49m\u001b[43mtolist\u001b[49m\u001b[43m(\u001b[49m\u001b[43m)\u001b[49m\u001b[43m)\u001b[49m\u001b[43m)\u001b[49m\u001b[43m \u001b[49m\u001b[38;5;28;43;01mfor\u001b[39;49;00m\u001b[43m \u001b[49m\u001b[43mi\u001b[49m\u001b[43m \u001b[49m\u001b[38;5;129;43;01min\u001b[39;49;00m\u001b[43m \u001b[49m\u001b[38;5;28;43mrange\u001b[39;49m\u001b[43m(\u001b[49m\u001b[38;5;28;43mlen\u001b[39;49m\u001b[43m(\u001b[49m\u001b[43margs\u001b[49m\u001b[43m)\u001b[49m\u001b[43m)\u001b[49m\n\u001b[1;32m     46\u001b[0m \u001b[43m\u001b[49m\u001b[43m)\u001b[49m\n",
      "File \u001b[0;32m~/git/chess-ai-backend/src/util.py:45\u001b[0m, in \u001b[0;36m<genexpr>\u001b[0;34m(.0)\u001b[0m\n\u001b[1;32m     38\u001b[0m     \u001b[38;5;28;01mraise\u001b[39;00m \u001b[38;5;167;01mException\u001b[39;00m(\n\u001b[1;32m     39\u001b[0m         \u001b[38;5;124m\"\u001b[39m\u001b[38;5;124mWhere dimension sizes differ, one Tensor must have dimension size 1. \u001b[39m\u001b[38;5;132;01m%s\u001b[39;00m\u001b[38;5;124m\"\u001b[39m\n\u001b[1;32m     40\u001b[0m         \u001b[38;5;241m%\u001b[39m [\u001b[38;5;28mtuple\u001b[39m(shape\u001b[38;5;241m.\u001b[39mtolist()) \u001b[38;5;28;01mfor\u001b[39;00m shape \u001b[38;5;129;01min\u001b[39;00m shapes]\n\u001b[1;32m     41\u001b[0m     )\n\u001b[1;32m     43\u001b[0m tiling \u001b[38;5;241m=\u001b[39m torch\u001b[38;5;241m.\u001b[39mdiv(preferred_shape, shapes, rounding_mode\u001b[38;5;241m=\u001b[39m\u001b[38;5;124m\"\u001b[39m\u001b[38;5;124mfloor\u001b[39m\u001b[38;5;124m\"\u001b[39m)\n\u001b[1;32m     44\u001b[0m \u001b[38;5;28;01mreturn\u001b[39;00m \u001b[38;5;28mtuple\u001b[39m(\n\u001b[0;32m---> 45\u001b[0m     torch\u001b[38;5;241m.\u001b[39mtile(args[i], \u001b[38;5;28mtuple\u001b[39m(\u001b[43mtiling\u001b[49m\u001b[43m[\u001b[49m\u001b[43mi\u001b[49m\u001b[43m]\u001b[49m\u001b[38;5;241m.\u001b[39mtolist())) \u001b[38;5;28;01mfor\u001b[39;00m i \u001b[38;5;129;01min\u001b[39;00m \u001b[38;5;28mrange\u001b[39m(\u001b[38;5;28mlen\u001b[39m(args))\n\u001b[1;32m     46\u001b[0m )\n",
      "\u001b[0;31mKeyboardInterrupt\u001b[0m: "
     ]
    }
   ],
   "source": [
    "def defer_regime(*args, **kargs):\n",
    "    def return_regime():\n",
    "        return DNFRegime(*args, **kargs)\n",
    "    return return_regime\n",
    "\n",
    "def new_fuzzy_f():\n",
    "    return FuzzyNN(50).to(device)\n",
    "\n",
    "regimes = [\n",
    "    defer_regime(\"fuzzynn50_2\", no_dims=50, new_model_f=new_fuzzy_f, lr=1e-3, no_runs=1),\n",
    "]\n",
    "\n",
    "torch.autograd.set_detect_anomaly(True)\n",
    "if True:\n",
    "    for regime_f in regimes:\n",
    "        regime = regime_f()\n",
    "        regime.load_latest_models()\n",
    "        regime.load_all_results()\n",
    "        for i in range(1, regime.no_runs + 1):\n",
    "            for j in range(1, int(1 + (40/3))):\n",
    "                regime.loop_until(i, min(3*j, 40))\n",
    "        del regime"
   ]
  },
  {
   "cell_type": "code",
   "execution_count": 15,
   "id": "c215d5d3",
   "metadata": {},
   "outputs": [
    {
     "name": "stdout",
     "output_type": "stream",
     "text": [
      "tensor([[0.9595],\n",
      "        [0.8233],\n",
      "        [0.9011],\n",
      "        [0.9997],\n",
      "        [0.9996],\n",
      "        [0.7219],\n",
      "        [0.9213],\n",
      "        [0.8220],\n",
      "        [0.9979],\n",
      "        [0.9993],\n",
      "        [0.9897],\n",
      "        [0.3377],\n",
      "        [0.6928],\n",
      "        [0.8525],\n",
      "        [0.9790],\n",
      "        [0.9824]], device='cuda:0', grad_fn=<SigmoidBackward0>)\n",
      "( 1 ∧ ¬25 )\n",
      "∨ ( ¬16 )\n",
      "∨ ( ¬25 ∧ 46 )\n",
      "∨ ( ¬2 ∧ ¬37 )\n",
      "∨ ( ¬25 ∧ ¬30 )\n",
      "∨ ( ¬16 )\n",
      "∨ ( ¬37 ∧ ¬49 )\n",
      "∨ ( ¬16 ∧ ¬19 )\n",
      "∨ ( ¬16 )\n",
      "∨ ( ¬16 )\n",
      "∨ ( 13 )\n",
      "∨ ( ¬16 ∧ ¬30 ∧ ¬36 ∧ 47 )\n",
      "∨ ( 13 )\n",
      "∨ ( ¬2 ∧ ¬6 ∧ ¬18 ∧ ¬41 )\n",
      "∨ ( ¬16 )\n",
      "=\n",
      "( 9 ∧ ¬14 ∧ ¬34 ∧ ¬44 )\n",
      "∨ ( ¬16 )\n",
      "∨ ( 5 ∧ 13 )\n",
      "∨ ( ¬30 ∧ 46 )\n",
      "∨ ( ¬25 ∧ ¬29 )\n",
      "∨ ( ¬4 ∧ ¬19 ∧ 23 ∧ 25 ∧ ¬30 ∧ ¬36 ∧ ¬38 )\n",
      "∨ ( ¬2 ∧ ¬37 )\n",
      "∨ ( 2 ∧ ¬17 ∧ ¬39 ∧ ¬49 )\n"
     ]
    }
   ],
   "source": [
    "reg = regimes[0]()\n",
    "reg.load_latest_models()\n",
    "reg.load_all_results()\n",
    "torch.set_printoptions(sci_mode=False)\n",
    "if reg.models[0] != None:\n",
    "    print(reg.models[0].disj.weights.value())\n",
    "    used_disjs = reg.models[0].disj.weights.value() > 0.5\n",
    "    used_disjs = used_disjs.squeeze()\n",
    "    conj_weights = reg.models[0].conjs.weights.value()[:,used_disjs]\n",
    "    conj_signs = reg.models[0].conjs.signs.value()[:,used_disjs]\n",
    "    print(format_dnf(conj_signs, conj_weights))\n",
    "    print(\"=\")\n",
    "print(format_dnf(reg.dataset.conj_signs, reg.dataset.conj_weights))"
   ]
  },
  {
   "cell_type": "code",
   "execution_count": null,
   "id": "2ba7e145",
   "metadata": {},
   "outputs": [],
   "source": [
    "def train_dnf(model: FuzzyDNF, dataloader, lr, log):\n",
    "    optimizer = torch.optim.Adam(model.parameters(), lr)\n",
    "    loss_fn = torch.nn.BCELoss()\n",
    "\n",
    "    seen = 0\n",
    "    items = []\n",
    "    obs_losses = []\n",
    "    props = []\n",
    "    dnf_strs = []\n",
    "    prev_dnf_params = None\n",
    "\n",
    "    for batch, (X, y) in tqdm(enumerate(dataloader), total=len(dataloader)):\n",
    "        X = X.to(device)\n",
    "        y = y.to(device)\n",
    "        pred = model.logsumexp_forward(X)\n",
    "        mult = torch.where(y > 0.5, torch.tensor(-1.0).to(device), torch.tensor(1.0).to(device))\n",
    "        train_loss = (mult * pred).sum()\n",
    "        #print(model(X).shape, y.shape)\n",
    "        test_loss = loss_fn(model(X), y)\n",
    "        # Optimise NN model\n",
    "        optimizer.zero_grad()\n",
    "        if log:\n",
    "            train_loss.backward()\n",
    "        else:\n",
    "            (test_loss ** 2).backward()\n",
    "        optimizer.step()\n",
    "        \n",
    "        \"\"\"\n",
    "        dnf_params = model.harden_params()\n",
    "        if prev_dnf_params == None or not all(map(torch.equal, prev_dnf_params, dnf_params)):\n",
    "            dnf_strs.append(model.params_to_str())\n",
    "            prev_dnf_params = tuple(map(lambda t: t.clone().detach(), dnf_params))\n",
    "        \"\"\"\n",
    "        seen += len(X)\n",
    "        items.append(seen)\n",
    "        obs_losses.append(test_loss.item())\n",
    "        props.append(y.mean())\n",
    "        \n",
    "    return torch.tensor(items), torch.tensor(obs_losses), torch.tensor(props), dnf_strs"
   ]
  },
  {
   "cell_type": "code",
   "execution_count": null,
   "id": "17d02f89",
   "metadata": {},
   "outputs": [],
   "source": [
    "dnf_dataset = DNFDataset(10, 100, 0.5, 2, 0.5)\n",
    "for X, y in dnf_dataset:\n",
    "    print(format_vars(X))\n",
    "    print(\"Given formula:\")\n",
    "    print(format_dnf(dnf_dataset.conj_signs, dnf_dataset.conj_weights))\n",
    "    print(\"Produces:\")\n",
    "    print(str(y) + \"\\n\")"
   ]
  },
  {
   "cell_type": "code",
   "execution_count": null,
   "id": "251e713d",
   "metadata": {},
   "outputs": [],
   "source": []
  },
  {
   "cell_type": "code",
   "execution_count": null,
   "id": "3e935c6d",
   "metadata": {},
   "outputs": [],
   "source": [
    "dnf_dim = 10\n",
    "dnf_dataset = DNFDataset(dnf_dim, 200000, 0.5, 2, 0.5)\n",
    "dnf_dataloader = DataLoader(dnf_dataset, batch_size=128, shuffle=True)\n",
    "\n",
    "dnf_model = FuzzyNN(dnf_dim)\n",
    "dnf_model.to(device)\n",
    "\n",
    "dnf_items, dnf_losses, dnf_props, dnf_strs = train_dnf(dnf_model, dnf_dataloader, lr=1e-3, log=False)\n",
    "\n",
    "print(dnf_strs)\n",
    "\n",
    "plot_loss(dnf_items, dnf_losses, ylabel='Observed Loss', approx=True)\n",
    "plot_loss(dnf_items, dnf_props, ylabel='Observed Proportion of True Output', approx=True)"
   ]
  },
  {
   "cell_type": "code",
   "execution_count": null,
   "id": "5b8ba584",
   "metadata": {},
   "outputs": [],
   "source": [
    "dnf_model = FuzzyNN(dnf_dim)\n",
    "dnf_model.to(device)\n",
    "\n",
    "dnf_items, dnf_losses, dnf_props, dnf_strs = train_dnf(dnf_model, dnf_dataloader, lr=1e-3, log=False)\n",
    "\n",
    "print(dnf_strs)\n",
    "\n",
    "plot_loss(dnf_items, dnf_losses, ylabel='Observed Loss', approx=True)\n",
    "plot_loss(dnf_items, dnf_props, ylabel='Observed Proportion of True Output', approx=True)"
   ]
  },
  {
   "cell_type": "code",
   "execution_count": null,
   "id": "47864f0c",
   "metadata": {},
   "outputs": [],
   "source": [
    "class PerceptronDNF(nn.Module):\n",
    "    def __init__(self, in_features):\n",
    "        super().__init__()\n",
    "        self.model = nn.Sequential(\n",
    "            nn.Linear(in_features, 16),\n",
    "            nn.ReLU(),\n",
    "            nn.Linear(16, 16),\n",
    "            nn.ReLU(),\n",
    "            nn.Linear(16, 1),\n",
    "            nn.Sigmoid()\n",
    "        )\n",
    "\n",
    "    def forward(self, input):\n",
    "        return self.model(input)"
   ]
  },
  {
   "cell_type": "code",
   "execution_count": null,
   "id": "82ec0f7a",
   "metadata": {},
   "outputs": [],
   "source": [
    "dnf_dim = 10\n",
    "dnf_dataset = DNFDataset(dnf_dim, 200000, 0.5, 2, 0.5)\n",
    "dnf_dataloader = DataLoader(dnf_dataset, batch_size=128, shuffle=True)\n",
    "\n",
    "dnf_model = PerceptronDNF(dnf_dim)\n",
    "dnf_model.to(device)\n",
    "\n",
    "dnf_items, dnf_losses, dnf_props, dnf_strs = train_dnf(dnf_model, dnf_dataloader, lr=5e-4)\n",
    "\n",
    "print(dnf_strs)\n",
    "\n",
    "plot_loss(dnf_items, dnf_losses, ylabel='Observed Loss', approx=True)\n",
    "plot_loss(dnf_items, dnf_props, ylabel='Observed Proportion of True Output', approx=True)"
   ]
  },
  {
   "cell_type": "code",
   "execution_count": null,
   "id": "b564a620",
   "metadata": {},
   "outputs": [],
   "source": [
    "def train_embed_dnf(model: nn.Module, dataloader, optim, reg_weight=1e-2):\n",
    "    loss_fn = torch.nn.BCELoss()\n",
    "\n",
    "    seen = 0\n",
    "    items = []\n",
    "    obs_losses = []\n",
    "    props = []\n",
    "\n",
    "    for batch, (X, y) in tqdm(enumerate(dataloader), total=len(dataloader)):\n",
    "        X = X.to(device)\n",
    "        y = y.to(device)\n",
    "        pred = torch.squeeze(model(X))\n",
    "        loss = loss_fn(pred, y)\n",
    "\n",
    "        # Optimise NN model\n",
    "        optim.zero_grad()\n",
    "        (loss + reg_weight * model.logic.logic_reg()).backward()\n",
    "        optim.step()\n",
    "        model.logic.zero_reg()\n",
    "        \n",
    "        seen += len(X)\n",
    "        items.append(seen)\n",
    "        obs_losses.append(loss.item())\n",
    "        props.append(y.mean())\n",
    "        \n",
    "    return torch.tensor(items), torch.tensor(obs_losses), torch.tensor(props)"
   ]
  },
  {
   "cell_type": "code",
   "execution_count": null,
   "id": "4bb6e35c",
   "metadata": {},
   "outputs": [],
   "source": [
    "class EmbedNN(nn.Module):\n",
    "    def __init__(self, in_features):\n",
    "        super().__init__()\n",
    "        self.logic = embed_logic.EmbedLogic(5, calculate_reg=False)\n",
    "        self.logic2 = embed_logic.EmbedLogic(5, calculate_reg=False)\n",
    "        self.model = nn.Sequential(\n",
    "            EmbedDNF((in_features, 16, 8), logic=self.logic),\n",
    "            EmbedDNF((8, 16, 1), logic=self.logic2),\n",
    "        )\n",
    "\n",
    "    def forward(self, input):\n",
    "        return self.logic.decode(self.model(self.logic.encode(input)))"
   ]
  },
  {
   "cell_type": "code",
   "execution_count": null,
   "id": "38a19f54",
   "metadata": {},
   "outputs": [],
   "source": [
    "embed_input_dim = 10\n",
    "embed_dataset = DNFDataset(embed_input_dim, 150000, 0.5, 2, 0.5)\n",
    "embed_dataloader = DataLoader(embed_dataset, batch_size=128, shuffle=True)\n",
    "\n",
    "embed_model = EmbedNN(embed_input_dim)\n",
    "embed_model.to(device)\n",
    "embed_optimizer = torch.optim.Adam(embed_model.parameters(), lr=1e-4)\n",
    "\n",
    "embed_items, embed_losses, embed_props = train_embed_dnf(embed_model, embed_dataloader, embed_optimizer, 0)\n",
    "#dnf_items2, dnf_losses2, dnf_props2, _ = train_dnf(dnf_model, dnf_dataloader, lr=1e-4)\n",
    "\n",
    "#dnf_items = torch.cat((dnf_items, dnf_items.max() + dnf_items2), dim=0)\n",
    "#dnf_losses = torch.cat((dnf_losses, dnf_losses2), dim=0)\n",
    "#dnf_props = torch.cat((dnf_props, dnf_props2), dim=0)\n",
    "\n",
    "plot_loss(embed_items, embed_losses, ylabel='Observed Loss', approx=True)\n",
    "plot_loss(embed_items, embed_props, ylabel='Observed Proportion of True Output', approx=True)"
   ]
  },
  {
   "cell_type": "markdown",
   "id": "07730d82",
   "metadata": {},
   "source": [
    "dnf_model.logic"
   ]
  },
  {
   "cell_type": "code",
   "execution_count": null,
   "id": "fccdf252",
   "metadata": {},
   "outputs": [],
   "source": [
    "embed_model.logic.neg(embed_model.logic.F())"
   ]
  },
  {
   "cell_type": "code",
   "execution_count": null,
   "id": "efe87f41",
   "metadata": {},
   "outputs": [],
   "source": [
    "dnf_losses[-1]"
   ]
  },
  {
   "cell_type": "code",
   "execution_count": null,
   "id": "679cbc1e",
   "metadata": {},
   "outputs": [],
   "source": [
    "embed_model.logic.F()"
   ]
  },
  {
   "cell_type": "code",
   "execution_count": null,
   "id": "aeb0dec9",
   "metadata": {},
   "outputs": [],
   "source": [
    "embed_model.logic._not.w_1"
   ]
  },
  {
   "cell_type": "code",
   "execution_count": null,
   "id": "ee598ebb",
   "metadata": {},
   "outputs": [],
   "source": [
    "embed_model.logic._not.b_1"
   ]
  },
  {
   "cell_type": "code",
   "execution_count": null,
   "id": "2457c0a5",
   "metadata": {},
   "outputs": [],
   "source": [
    "embed_model.logic._not.w_2"
   ]
  },
  {
   "cell_type": "code",
   "execution_count": null,
   "id": "46ed5d88",
   "metadata": {},
   "outputs": [],
   "source": []
  }
 ],
 "metadata": {
  "interpreter": {
   "hash": "8e615aa0023f14c0ad9c431aeb671ef3473c33c39a31ded31d88bac672822ded"
  },
  "kernelspec": {
   "display_name": "Python 3 (ipykernel)",
   "language": "python",
   "name": "python3"
  },
  "language_info": {
   "codemirror_mode": {
    "name": "ipython",
    "version": 3
   },
   "file_extension": ".py",
   "mimetype": "text/x-python",
   "name": "python",
   "nbconvert_exporter": "python",
   "pygments_lexer": "ipython3",
   "version": "3.9.7"
  }
 },
 "nbformat": 4,
 "nbformat_minor": 5
}
