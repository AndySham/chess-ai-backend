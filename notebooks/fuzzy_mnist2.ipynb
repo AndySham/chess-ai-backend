{
 "cells": [
  {
   "cell_type": "code",
   "execution_count": 2,
   "id": "dcae9f7d",
   "metadata": {},
   "outputs": [],
   "source": [
    "import sys\n",
    "import os\n",
    "sys.path.append(os.path.abspath('../src')) # include top level package in python path"
   ]
  },
  {
   "cell_type": "code",
   "execution_count": 3,
   "id": "adde70f5",
   "metadata": {},
   "outputs": [
    {
     "data": {
      "text/html": [
       "\n",
       "<style>\n",
       ".container { \n",
       "    width: 100% !important;\n",
       "}\n",
       "</style>\n"
      ],
      "text/plain": [
       "<IPython.core.display.HTML object>"
      ]
     },
     "metadata": {},
     "output_type": "display_data"
    }
   ],
   "source": [
    "from IPython.display import display, HTML\n",
    "display(HTML(\"\"\"\n",
    "<style>\n",
    ".container { \n",
    "    width: 100% !important;\n",
    "}\n",
    "</style>\n",
    "\"\"\"))"
   ]
  },
  {
   "cell_type": "code",
   "execution_count": 4,
   "id": "c1834046",
   "metadata": {},
   "outputs": [],
   "source": [
    "import torch\n",
    "from torch import nn, Tensor\n",
    "from model.fuzzy_logic import ProductLogic, MinimumLogic, LukasiewiczLogic, DrasticLogic, SchweizerSklarLogic\n",
    "from model.fuzzy_layer import FuzzyMLP, FuzzyParam\n",
    "from model.bool_logic import BoolLogic\n",
    "from cache import TestMetric, TrainingRegime\n",
    "import matplotlib.pyplot as plt\n",
    "from tqdm.notebook import tqdm\n",
    "\n",
    "device = 'cuda'\n",
    "\n",
    "logic = BoolLogic()\n",
    "flogic = ProductLogic()"
   ]
  },
  {
   "cell_type": "code",
   "execution_count": 40,
   "id": "faaf0029",
   "metadata": {},
   "outputs": [
    {
     "name": "stdout",
     "output_type": "stream",
     "text": [
      "1.10.2\n"
     ]
    },
    {
     "data": {
      "text/plain": [
       "tensor([0.2689, 0.7311])"
      ]
     },
     "execution_count": 40,
     "metadata": {},
     "output_type": "execute_result"
    }
   ],
   "source": [
    "print(torch.__version__)\n",
    "criterion = torch.nn.CrossEntropyLoss()\n",
    "loss = criterion(\n",
    "    torch.tensor([[0.,1.0,0.]]), \n",
    "    torch.tensor([[0.1,0.7,0.2]])\n",
    ")\n",
    "loss"
   ]
  },
  {
   "cell_type": "code",
   "execution_count": 4,
   "id": "e82e729d",
   "metadata": {},
   "outputs": [],
   "source": [
    "from torch.utils.data import DataLoader\n",
    "from torchvision import datasets, transforms\n",
    "\n",
    "trainset = datasets.MNIST(root='./_mnist', train=True, download=True, transform=transforms.ToTensor())\n",
    "testset = datasets.MNIST(root='./_mnist', train=False, download=True, transform=transforms.ToTensor())\n",
    "\n",
    "trainloader = DataLoader(trainset, batch_size=128)\n",
    "testloader = DataLoader(testset, batch_size=128)"
   ]
  },
  {
   "cell_type": "code",
   "execution_count": 5,
   "id": "07df6e96",
   "metadata": {},
   "outputs": [],
   "source": [
    "class CorrectOutputMetric(TestMetric):\n",
    "    def name(self):\n",
    "        return \"correct-output\"\n",
    "    \n",
    "    def measure_model(self, model, it):\n",
    "        correct_count = 0\n",
    "        total_count = 0\n",
    "\n",
    "        with torch.no_grad():\n",
    "            for imgs, labels in it():\n",
    "                preds = model(imgs.to(device))\n",
    "                if hasattr(model.__class__, \"zero_reg\"):\n",
    "                    model.zero_reg()\n",
    "                pred_labels = preds.argmax(dim=-1)\n",
    "                correct_count += (pred_labels == labels.to(device)).sum()\n",
    "                total_count += labels.numel()\n",
    "\n",
    "        return (correct_count / total_count).item()\n",
    "    \n",
    "class LossMetric(TestMetric):\n",
    "    def name(self):\n",
    "        return \"test-loss\"\n",
    "\n",
    "    def measure_model(self, model, it):\n",
    "        loss_fn = nn.CrossEntropyLoss()\n",
    "\n",
    "        total_loss = 0\n",
    "        total_count = 0\n",
    "        \n",
    "        with torch.no_grad():\n",
    "            for imgs, labels in it():\n",
    "                preds = model(imgs.to(device))\n",
    "                if hasattr(model.__class__, \"zero_reg\"):\n",
    "                    model.zero_reg()\n",
    "                loss = loss_fn(preds, labels.to(device))\n",
    "                total_loss += loss\n",
    "                total_count += labels.numel()\n",
    "\n",
    "        return (total_loss / total_count).item()   \n",
    "    \n",
    "class UnsatisfiedMetric(TestMetric):\n",
    "    def name(self):\n",
    "        return \"unsatisfied\"\n",
    "\n",
    "    def measure_model(self, model, it):\n",
    "        total = 0\n",
    "        \n",
    "        for imgs, _ in it():\n",
    "            total += model.from_all_layers(\n",
    "                imgs.to(device),\n",
    "                lambda lyr, inp, outp: (\n",
    "                    1 - lyr.satisfactions(inp, outp)\n",
    "                ).sum()\n",
    "            )\n",
    "\n",
    "        return total.item()\n",
    "    \n",
    "class ExampleMetric(TestMetric):\n",
    "    def name(self):\n",
    "        return \"examples\"\n",
    "\n",
    "    def measure_model(self, model, it):\n",
    "        total = 0\n",
    "        \n",
    "        for imgs, _ in it():\n",
    "            total += model.from_all_layers(\n",
    "                imgs.to(device),\n",
    "                lambda lyr, inp, outp: (\n",
    "                    lyr.examples(inp, outp)\n",
    "                ).sum()\n",
    "            )\n",
    "\n",
    "        return total.item()\n",
    "    \n",
    "class CrispnessMetric(TestMetric):\n",
    "    def name(self):\n",
    "        return \"crispness\"\n",
    "\n",
    "    def measure_model(self, model, it):\n",
    "        total = 0\n",
    "        \n",
    "        for imgs, _ in it():\n",
    "            total += model.from_all_layers(\n",
    "                imgs.to(device),\n",
    "                lambda lyr, inp, outp: (\n",
    "                    lyr.crispness()\n",
    "                ).sum()\n",
    "            )\n",
    "\n",
    "        return total.item()\n",
    "    \n",
    "class CrispConjunctionWidthsMetric(TestMetric):\n",
    "    def name(self):\n",
    "        return \"crisp-widths\"\n",
    "\n",
    "    def measure_model(self, model, it):\n",
    "        total_width = 0\n",
    "        total_vars = 0\n",
    "        \n",
    "        with torch.no_grad():\n",
    "            for layer in model.layers:\n",
    "                values = layer.fuzzy_m.crisp_value()\n",
    "                total_width += values.sum()\n",
    "                total_vars += values.numel()\n",
    "\n",
    "        return (total_width / total_vars).item()\n",
    "    \n",
    "class PreconditionsMetric(TestMetric):\n",
    "    def name(self):\n",
    "        return \"preconditions\"\n",
    "\n",
    "    def measure_model(self, model, it):\n",
    "        total = 0\n",
    "        \n",
    "        for imgs, _ in it():\n",
    "            total += model.from_all_layers(\n",
    "                imgs.to(device),\n",
    "                lambda lyr, inp, outp: (\n",
    "                    lyr.preconditions(inp)\n",
    "                ).sum()\n",
    "            )\n",
    "\n",
    "        return total.item()\n",
    "    \n",
    "class ConsequentMetric(TestMetric):\n",
    "    def name(self):\n",
    "        return \"consequent\"\n",
    "\n",
    "    def measure_model(self, model, it):\n",
    "        total = 0\n",
    "        \n",
    "        for imgs, _ in it():\n",
    "            total += model.from_all_layers(\n",
    "                imgs.to(device),\n",
    "                lambda lyr, inp, outp: (\n",
    "                    outp.sigmoid()\n",
    "                ).sum()\n",
    "            )\n",
    "\n",
    "        return total.item() * model.clauses_per_output\n",
    "    \n",
    "class TotalMetric(TestMetric):\n",
    "    def name(self):\n",
    "        return \"total\"\n",
    "\n",
    "    def measure_model(self, model, it):\n",
    "        total_vars = 0\n",
    "        length = len(testset)\n",
    "        \n",
    "        with torch.no_grad():\n",
    "            for layer in model.layers:\n",
    "                values = layer.fuzzy_m.crisp_value()\n",
    "                total_vars += values.numel() / values.size(dim=-1)\n",
    "                \n",
    "        return total_vars * length"
   ]
  },
  {
   "cell_type": "code",
   "execution_count": 6,
   "id": "b6fa886c",
   "metadata": {},
   "outputs": [],
   "source": [
    "exp = 2\n",
    "\n",
    "class FuzzyMNIST(nn.Module):\n",
    "    \n",
    "    def __init__(self, logic, layers: tuple[tuple[int,...],...], clauses_per_output: int, signed_clauses: bool, maxsat: bool):\n",
    "        super().__init__()\n",
    "        self.logic = logic\n",
    "        self.clauses_per_output = clauses_per_output\n",
    "        self.signed_clauses = signed_clauses\n",
    "        self.maxsat = maxsat\n",
    "        \n",
    "        self.layers = nn.ModuleList([\n",
    "            FuzzyMLP(logic, shape, clauses_per_output, signed_clauses) for shape in layers\n",
    "        ])\n",
    "        \n",
    "        self.logic_loss = nn.CrossEntropyLoss()\n",
    "        \n",
    "        #self.reg = None\n",
    "        #self.pos = None\n",
    "        #self.crisp = None\n",
    "        self.diff = None\n",
    "        \n",
    "    def forward(self, input):\n",
    "        prev_output = input.flatten(start_dim=1)\n",
    "        #self.reg = torch.tensor(0.0, device=input.device)\n",
    "        #self.pos = torch.tensor(0.0, device=input.device)\n",
    "        #self.crisp = torch.tensor(0.0, device=input.device)\n",
    "        self.diff = torch.tensor(0.0, device=input.device)\n",
    "        for idx, layer in enumerate(self.layers):\n",
    "            output = layer(prev_output)\n",
    "            if idx > 0:\n",
    "                #exs = layer.satisfactions(prev_output, output)\n",
    "                #self.reg += ((1 - exs) ** exp).sum()\n",
    "                #pos_exs = layer.examples(prev_output, output)\n",
    "                #self.pos += (pos_exs ** exp).sum()\n",
    "                #crisp_exs = layer.crispness()\n",
    "                #self.crisp += (crisp_exs ** 1).sum()\n",
    "                #if self.maxsat:\n",
    "                #    precs = layer.preconditions(prev_output.detach())\n",
    "                #    self.diff += (self.logic.implies(precs, output.unsqueeze(-1).detach()) ** exp).sum()\n",
    "                #    self.diff += 10 * (self.logic.bin_conjoin(precs, output.unsqueeze(-1).detach()) ** exp).sum()\n",
    "                #else:\n",
    "                #    preds = layer.logic_preds(prev_output.detach())\n",
    "                #    self.diff += (self.logic.implies(preds, output.detach()) ** exp).sum()\n",
    "                #    self.diff += 10 * (self.logic.bin_conjoin(preds, output.detach()) ** exp).sum()\n",
    "                preds = layer.logic_preds(prev_output.detach())\n",
    "                output_probs = torch.softmax(output.detach(), dim=-1)\n",
    "                self.diff += self.logic_loss(preds, output_probs)\n",
    "            prev_output = output\n",
    "            \n",
    "        return torch.softmax(prev_output, dim=-1)\n",
    "    \n",
    "    def from_all_layers(self, input, f):\n",
    "        total = torch.tensor(0.0, device=input.device)\n",
    "        \n",
    "        with torch.no_grad():\n",
    "            prev_output = input.flatten(start_dim=1)\n",
    "            for idx, layer in enumerate(self.layers):\n",
    "                output = layer(prev_output)\n",
    "                if idx > 0:\n",
    "                    total += f(layer, prev_output, output).sum()\n",
    "                prev_output = output\n",
    "                \n",
    "        return total\n",
    "    \n",
    "    def logic_reg(self):\n",
    "        return self.reg\n",
    "    \n",
    "    def pos_reg(self):\n",
    "        return self.pos\n",
    "    \n",
    "    def crisp_reg(self):\n",
    "        return self.crisp\n",
    "    \n",
    "    def diff_reg(self):\n",
    "        return self.diff\n",
    "    \n",
    "    def zero_reg(self):\n",
    "        #self.reg = None\n",
    "        #self.pos = None\n",
    "        #self.crisp = None\n",
    "        self.diff = None"
   ]
  },
  {
   "cell_type": "code",
   "execution_count": 7,
   "id": "66f3e322",
   "metadata": {},
   "outputs": [],
   "source": [
    "class MNISTRealRegime(TrainingRegime):\n",
    "    def __init__(\n",
    "        self, \n",
    "        logic, \n",
    "        layers, \n",
    "        clauses_per_output,\n",
    "        diff_weight,\n",
    "        maxsat,\n",
    "        #signed_clauses, \n",
    "        #reg_weight, \n",
    "        #pos_weight, \n",
    "        #crisp_weight, \n",
    "        lr=1e-2, \n",
    "        no_runs=1\n",
    "    ):\n",
    "        super().__init__(\"./mnist/\", no_runs)\n",
    "        \n",
    "        self.flogic = logic\n",
    "        self.layers = layers\n",
    "        self.clauses_per_output = clauses_per_output\n",
    "        self.diff_weight = diff_weight\n",
    "        #self.maxsat = maxsat\n",
    "        #self.signed_clauses = signed_clauses\n",
    "        #self.reg_weight = reg_weight\n",
    "        #self.pos_weight = pos_weight\n",
    "        #self.crisp_weight = crisp_weight\n",
    "        self.lr = lr\n",
    "        \n",
    "        self.tests = [\n",
    "            CorrectOutputMetric(),\n",
    "            LossMetric(),\n",
    "            UnsatisfiedMetric(),\n",
    "            ExampleMetric(),\n",
    "            CrispnessMetric(),\n",
    "            CrispConjunctionWidthsMetric(),\n",
    "            PreconditionsMetric(),\n",
    "            ConsequentMetric(),\n",
    "            TotalMetric(),\n",
    "        ]\n",
    "        \n",
    "        self.trainloader = DataLoader(trainset, batch_size=128)\n",
    "        self.testloader = DataLoader(testset, batch_size=128)\n",
    "        \n",
    "        self.optims = [None] * no_runs\n",
    "        \n",
    "    def get_logic_str(self):\n",
    "        if isinstance(self.flogic, ProductLogic):\n",
    "            return \"product\"\n",
    "        elif isinstance(self.flogic, MinimumLogic):\n",
    "            return \"minimum\"\n",
    "        elif isinstance(self.flogic, LukasiewiczLogic):\n",
    "            return \"lukasiewicz\"\n",
    "        elif isinstance(self.flogic, DrasticLogic):\n",
    "            return \"drastic\"\n",
    "        elif isinstance(self.flogic, SchweizerSklarLogic):\n",
    "            return \"ss\" \n",
    "        else:\n",
    "            return \"fuzzy\"\n",
    "        \n",
    "    def get_optim(self, run_no):\n",
    "        optim = self.optims[run_no - 1]\n",
    "        if optim is None:\n",
    "            model = self.get_loaded_model(run_no)\n",
    "            optim = self.optims[run_no - 1] = (\n",
    "                torch.optim.Adam(model.parameters(), lr=self.lr)\n",
    "            )\n",
    "        return optim\n",
    "        \n",
    "    def regime_str(self):\n",
    "        layer_str = \" \".join([\"(\" + \",\".join(str(i) for i in shape) + \")\" for shape in self.layers])\n",
    "        #signed_str = \"SIGNED \" if self.signed_clauses else \"\"\n",
    "        maxsat_str = \"| MAXSAT \" if self.maxsat else \"\"\n",
    "        return (\n",
    "            \"MNIST | ADAM, LR = %s | %s LOGIC | LAYERS = %s | DIFF WEIGHT %s %s| %s CLAUSES\"\n",
    "            % ( \n",
    "                self.lr,\n",
    "                self.get_logic_str().upper(), \n",
    "                layer_str, \n",
    "                #self.reg_weight,\n",
    "                #self.pos_weight,\n",
    "                #self.crisp_weight,\n",
    "                self.diff_weight,\n",
    "                maxsat_str,\n",
    "                self.clauses_per_output,\n",
    "                #signed_str,\n",
    "            )\n",
    "        ) \n",
    "        \n",
    "    def regime_filename_elems(self):\n",
    "        layer_strs = [\"l\" + \"-\".join(str(i) for i in shape) for shape in self.layers]\n",
    "        elems = [\n",
    "            \"mnistjoint\",\n",
    "            str(self.lr),\n",
    "            self.get_logic_str(),\n",
    "            *layer_strs,\n",
    "            #\"w%s\" % self.reg_weight,\n",
    "            #\"p%s\" % self.pos_weight,\n",
    "            #\"cr%s\" % self.crisp_weight,\n",
    "            \"d%s\" % self.diff_weight,\n",
    "            \"c%s\" % self.clauses_per_output\n",
    "        ]\n",
    "        if self.maxsat:\n",
    "            elems.append(\"max\")\n",
    "        return elems\n",
    "        \n",
    "    def training_dataloader(self, run_no):\n",
    "        return self.trainloader\n",
    "    \n",
    "    def testing_dataloader(self, run_no):\n",
    "        return self.testloader\n",
    "    \n",
    "    def training_step(self, run_no, model):\n",
    "        optim = self.get_optim(run_no)\n",
    "        loss_fn = nn.CrossEntropyLoss()\n",
    "        \n",
    "        def print_grad(grad):\n",
    "            print(grad)\n",
    "            return grad\n",
    "        \n",
    "        def step(tup):\n",
    "            imgs, labels = tup\n",
    "            preds = model(imgs.to(device))\n",
    "            loss = loss_fn(preds, labels.to(device))\n",
    "            #reg = model.logic_reg()\n",
    "            #pos = model.pos_reg()\n",
    "            #crisp = model.crisp_reg()\n",
    "            diff = model.diff_reg()\n",
    "            #if self.reg_weight != 0:\n",
    "            #    loss = loss + self.reg_weight * reg\n",
    "            #if self.pos_weight != 0:\n",
    "            #loss = loss - self.pos_weight * pos\n",
    "            #if self.crisp_weight != 0:\n",
    "            #    loss = loss + self.crisp_weight * crisp\n",
    "            if self.diff_weight != 0:\n",
    "                loss = loss - self.diff_weight * diff\n",
    "            model.zero_reg()\n",
    "\n",
    "            optim.zero_grad(set_to_none=True)\n",
    "            loss.backward()\n",
    "            optim.step()\n",
    "            \n",
    "        return step\n",
    "        \n",
    "    def new_model(self):\n",
    "        return FuzzyMNIST(\n",
    "            logic=self.flogic, \n",
    "            layers=self.layers,\n",
    "            clauses_per_output=self.clauses_per_output,\n",
    "            signed_clauses=False,\n",
    "            maxsat=self.maxsat\n",
    "        ).to(device)"
   ]
  },
  {
   "cell_type": "code",
   "execution_count": null,
   "id": "03ddcfd1",
   "metadata": {
    "scrolled": true
   },
   "outputs": [
    {
     "data": {
      "application/vnd.jupyter.widget-view+json": {
       "model_id": "",
       "version_major": 2,
       "version_minor": 0
      },
      "text/plain": [
       "[MNIST | ADAM, LR = 0.001 | SS LOGIC | LAYERS = (784,128) (128,64,10) | DIFF WEIGHT 1e-05 | MAXSAT | 4 CLAUSES…"
      ]
     },
     "metadata": {},
     "output_type": "display_data"
    },
    {
     "data": {
      "application/vnd.jupyter.widget-view+json": {
       "model_id": "",
       "version_major": 2,
       "version_minor": 0
      },
      "text/plain": [
       "[MNIST | ADAM, LR = 0.001 | SS LOGIC | LAYERS = (784,128) (128,64,10) | DIFF WEIGHT 1e-05 | MAXSAT | 4 CLAUSES…"
      ]
     },
     "metadata": {},
     "output_type": "display_data"
    },
    {
     "data": {
      "application/vnd.jupyter.widget-view+json": {
       "model_id": "",
       "version_major": 2,
       "version_minor": 0
      },
      "text/plain": [
       "[MNIST | ADAM, LR = 0.001 | SS LOGIC | LAYERS = (784,128) (128,64,10) | DIFF WEIGHT 1e-05 | MAXSAT | 4 CLAUSES…"
      ]
     },
     "metadata": {},
     "output_type": "display_data"
    },
    {
     "data": {
      "application/vnd.jupyter.widget-view+json": {
       "model_id": "",
       "version_major": 2,
       "version_minor": 0
      },
      "text/plain": [
       "[MNIST | ADAM, LR = 0.001 | SS LOGIC | LAYERS = (784,128) (128,64,10) | DIFF WEIGHT 1e-05 | MAXSAT | 4 CLAUSES…"
      ]
     },
     "metadata": {},
     "output_type": "display_data"
    },
    {
     "data": {
      "application/vnd.jupyter.widget-view+json": {
       "model_id": "",
       "version_major": 2,
       "version_minor": 0
      },
      "text/plain": [
       "[MNIST | ADAM, LR = 0.001 | SS LOGIC | LAYERS = (784,128) (128,64,10) | DIFF WEIGHT 1e-05 | MAXSAT | 4 CLAUSES…"
      ]
     },
     "metadata": {},
     "output_type": "display_data"
    },
    {
     "data": {
      "application/vnd.jupyter.widget-view+json": {
       "model_id": "",
       "version_major": 2,
       "version_minor": 0
      },
      "text/plain": [
       "[MNIST | ADAM, LR = 0.001 | SS LOGIC | LAYERS = (784,128) (128,64,10) | DIFF WEIGHT 1e-05 | MAXSAT | 4 CLAUSES…"
      ]
     },
     "metadata": {},
     "output_type": "display_data"
    },
    {
     "data": {
      "application/vnd.jupyter.widget-view+json": {
       "model_id": "",
       "version_major": 2,
       "version_minor": 0
      },
      "text/plain": [
       "[MNIST | ADAM, LR = 0.001 | SS LOGIC | LAYERS = (784,128) (128,64,10) | DIFF WEIGHT 1e-05 | MAXSAT | 4 CLAUSES…"
      ]
     },
     "metadata": {},
     "output_type": "display_data"
    },
    {
     "data": {
      "application/vnd.jupyter.widget-view+json": {
       "model_id": "",
       "version_major": 2,
       "version_minor": 0
      },
      "text/plain": [
       "[MNIST | ADAM, LR = 0.001 | SS LOGIC | LAYERS = (784,128) (128,64,10) | DIFF WEIGHT 1e-05 | MAXSAT | 4 CLAUSES…"
      ]
     },
     "metadata": {},
     "output_type": "display_data"
    },
    {
     "data": {
      "application/vnd.jupyter.widget-view+json": {
       "model_id": "",
       "version_major": 2,
       "version_minor": 0
      },
      "text/plain": [
       "[MNIST | ADAM, LR = 0.001 | SS LOGIC | LAYERS = (784,128) (128,64,10) | DIFF WEIGHT 0.001 | MAXSAT | 4 CLAUSES…"
      ]
     },
     "metadata": {},
     "output_type": "display_data"
    },
    {
     "data": {
      "application/vnd.jupyter.widget-view+json": {
       "model_id": "",
       "version_major": 2,
       "version_minor": 0
      },
      "text/plain": [
       "[MNIST | ADAM, LR = 0.001 | SS LOGIC | LAYERS = (784,128) (128,64,10) | DIFF WEIGHT 0.001 | MAXSAT | 4 CLAUSES…"
      ]
     },
     "metadata": {},
     "output_type": "display_data"
    },
    {
     "data": {
      "application/vnd.jupyter.widget-view+json": {
       "model_id": "",
       "version_major": 2,
       "version_minor": 0
      },
      "text/plain": [
       "[MNIST | ADAM, LR = 0.001 | SS LOGIC | LAYERS = (784,128) (128,64,10) | DIFF WEIGHT 0.001 | MAXSAT | 4 CLAUSES…"
      ]
     },
     "metadata": {},
     "output_type": "display_data"
    },
    {
     "data": {
      "application/vnd.jupyter.widget-view+json": {
       "model_id": "",
       "version_major": 2,
       "version_minor": 0
      },
      "text/plain": [
       "[MNIST | ADAM, LR = 0.001 | SS LOGIC | LAYERS = (784,128) (128,64,10) | DIFF WEIGHT 0.001 | MAXSAT | 4 CLAUSES…"
      ]
     },
     "metadata": {},
     "output_type": "display_data"
    },
    {
     "data": {
      "application/vnd.jupyter.widget-view+json": {
       "model_id": "",
       "version_major": 2,
       "version_minor": 0
      },
      "text/plain": [
       "[MNIST | ADAM, LR = 0.001 | SS LOGIC | LAYERS = (784,128) (128,64,10) | DIFF WEIGHT 0.001 | MAXSAT | 4 CLAUSES…"
      ]
     },
     "metadata": {},
     "output_type": "display_data"
    },
    {
     "data": {
      "application/vnd.jupyter.widget-view+json": {
       "model_id": "",
       "version_major": 2,
       "version_minor": 0
      },
      "text/plain": [
       "[MNIST | ADAM, LR = 0.001 | SS LOGIC | LAYERS = (784,128) (128,64,10) | DIFF WEIGHT 0.001 | MAXSAT | 4 CLAUSES…"
      ]
     },
     "metadata": {},
     "output_type": "display_data"
    },
    {
     "data": {
      "application/vnd.jupyter.widget-view+json": {
       "model_id": "",
       "version_major": 2,
       "version_minor": 0
      },
      "text/plain": [
       "[MNIST | ADAM, LR = 0.001 | SS LOGIC | LAYERS = (784,128) (128,64,10) | DIFF WEIGHT 0.001 | MAXSAT | 4 CLAUSES…"
      ]
     },
     "metadata": {},
     "output_type": "display_data"
    },
    {
     "data": {
      "application/vnd.jupyter.widget-view+json": {
       "model_id": "",
       "version_major": 2,
       "version_minor": 0
      },
      "text/plain": [
       "[MNIST | ADAM, LR = 0.001 | SS LOGIC | LAYERS = (784,128) (128,64,10) | DIFF WEIGHT 0.001 | MAXSAT | 4 CLAUSES…"
      ]
     },
     "metadata": {},
     "output_type": "display_data"
    },
    {
     "data": {
      "application/vnd.jupyter.widget-view+json": {
       "model_id": "",
       "version_major": 2,
       "version_minor": 0
      },
      "text/plain": [
       "[MNIST | ADAM, LR = 0.001 | SS LOGIC | LAYERS = (784,128) (128,64,10) | DIFF WEIGHT 1 | MAXSAT | 4 CLAUSES] Ru…"
      ]
     },
     "metadata": {},
     "output_type": "display_data"
    },
    {
     "data": {
      "application/vnd.jupyter.widget-view+json": {
       "model_id": "",
       "version_major": 2,
       "version_minor": 0
      },
      "text/plain": [
       "[MNIST | ADAM, LR = 0.001 | SS LOGIC | LAYERS = (784,128) (128,64,10) | DIFF WEIGHT 1 | MAXSAT | 4 CLAUSES] Ru…"
      ]
     },
     "metadata": {},
     "output_type": "display_data"
    },
    {
     "data": {
      "application/vnd.jupyter.widget-view+json": {
       "model_id": "",
       "version_major": 2,
       "version_minor": 0
      },
      "text/plain": [
       "[MNIST | ADAM, LR = 0.001 | SS LOGIC | LAYERS = (784,128) (128,64,10) | DIFF WEIGHT 1 | MAXSAT | 4 CLAUSES] Ru…"
      ]
     },
     "metadata": {},
     "output_type": "display_data"
    },
    {
     "data": {
      "application/vnd.jupyter.widget-view+json": {
       "model_id": "",
       "version_major": 2,
       "version_minor": 0
      },
      "text/plain": [
       "[MNIST | ADAM, LR = 0.001 | SS LOGIC | LAYERS = (784,128) (128,64,10) | DIFF WEIGHT 1 | MAXSAT | 4 CLAUSES] Ru…"
      ]
     },
     "metadata": {},
     "output_type": "display_data"
    },
    {
     "data": {
      "application/vnd.jupyter.widget-view+json": {
       "model_id": "",
       "version_major": 2,
       "version_minor": 0
      },
      "text/plain": [
       "[MNIST | ADAM, LR = 0.001 | SS LOGIC | LAYERS = (784,128) (128,64,10) | DIFF WEIGHT 1 | MAXSAT | 4 CLAUSES] Ru…"
      ]
     },
     "metadata": {},
     "output_type": "display_data"
    },
    {
     "data": {
      "application/vnd.jupyter.widget-view+json": {
       "model_id": "",
       "version_major": 2,
       "version_minor": 0
      },
      "text/plain": [
       "[MNIST | ADAM, LR = 0.001 | SS LOGIC | LAYERS = (784,128) (128,64,10) | DIFF WEIGHT 1 | MAXSAT | 4 CLAUSES] Ru…"
      ]
     },
     "metadata": {},
     "output_type": "display_data"
    },
    {
     "data": {
      "application/vnd.jupyter.widget-view+json": {
       "model_id": "",
       "version_major": 2,
       "version_minor": 0
      },
      "text/plain": [
       "[MNIST | ADAM, LR = 0.001 | SS LOGIC | LAYERS = (784,128) (128,64,10) | DIFF WEIGHT 1 | MAXSAT | 4 CLAUSES] Ru…"
      ]
     },
     "metadata": {},
     "output_type": "display_data"
    },
    {
     "data": {
      "application/vnd.jupyter.widget-view+json": {
       "model_id": "",
       "version_major": 2,
       "version_minor": 0
      },
      "text/plain": [
       "[MNIST | ADAM, LR = 0.001 | SS LOGIC | LAYERS = (784,128) (128,64,10) | DIFF WEIGHT 1 | MAXSAT | 4 CLAUSES] Ru…"
      ]
     },
     "metadata": {},
     "output_type": "display_data"
    },
    {
     "data": {
      "application/vnd.jupyter.widget-view+json": {
       "model_id": "",
       "version_major": 2,
       "version_minor": 0
      },
      "text/plain": [
       "[MNIST | ADAM, LR = 0.001 | SS LOGIC | LAYERS = (784,128) (128,64,10) | DIFF WEIGHT 1e-05 | MAXSAT | 4 CLAUSES…"
      ]
     },
     "metadata": {},
     "output_type": "display_data"
    },
    {
     "data": {
      "application/vnd.jupyter.widget-view+json": {
       "model_id": "",
       "version_major": 2,
       "version_minor": 0
      },
      "text/plain": [
       "[MNIST | ADAM, LR = 0.001 | SS LOGIC | LAYERS = (784,128) (128,64,10) | DIFF WEIGHT 1e-05 | MAXSAT | 4 CLAUSES…"
      ]
     },
     "metadata": {},
     "output_type": "display_data"
    },
    {
     "data": {
      "application/vnd.jupyter.widget-view+json": {
       "model_id": "",
       "version_major": 2,
       "version_minor": 0
      },
      "text/plain": [
       "[MNIST | ADAM, LR = 0.001 | SS LOGIC | LAYERS = (784,128) (128,64,10) | DIFF WEIGHT 1e-05 | MAXSAT | 4 CLAUSES…"
      ]
     },
     "metadata": {},
     "output_type": "display_data"
    },
    {
     "data": {
      "application/vnd.jupyter.widget-view+json": {
       "model_id": "",
       "version_major": 2,
       "version_minor": 0
      },
      "text/plain": [
       "[MNIST | ADAM, LR = 0.001 | SS LOGIC | LAYERS = (784,128) (128,64,10) | DIFF WEIGHT 1e-05 | MAXSAT | 4 CLAUSES…"
      ]
     },
     "metadata": {},
     "output_type": "display_data"
    },
    {
     "data": {
      "application/vnd.jupyter.widget-view+json": {
       "model_id": "",
       "version_major": 2,
       "version_minor": 0
      },
      "text/plain": [
       "[MNIST | ADAM, LR = 0.001 | SS LOGIC | LAYERS = (784,128) (128,64,10) | DIFF WEIGHT 1e-05 | MAXSAT | 4 CLAUSES…"
      ]
     },
     "metadata": {},
     "output_type": "display_data"
    },
    {
     "data": {
      "application/vnd.jupyter.widget-view+json": {
       "model_id": "",
       "version_major": 2,
       "version_minor": 0
      },
      "text/plain": [
       "[MNIST | ADAM, LR = 0.001 | SS LOGIC | LAYERS = (784,128) (128,64,10) | DIFF WEIGHT 1e-05 | MAXSAT | 4 CLAUSES…"
      ]
     },
     "metadata": {},
     "output_type": "display_data"
    },
    {
     "data": {
      "application/vnd.jupyter.widget-view+json": {
       "model_id": "",
       "version_major": 2,
       "version_minor": 0
      },
      "text/plain": [
       "[MNIST | ADAM, LR = 0.001 | SS LOGIC | LAYERS = (784,128) (128,64,10) | DIFF WEIGHT 1e-05 | MAXSAT | 4 CLAUSES…"
      ]
     },
     "metadata": {},
     "output_type": "display_data"
    },
    {
     "data": {
      "application/vnd.jupyter.widget-view+json": {
       "model_id": "",
       "version_major": 2,
       "version_minor": 0
      },
      "text/plain": [
       "[MNIST | ADAM, LR = 0.001 | SS LOGIC | LAYERS = (784,128) (128,64,10) | DIFF WEIGHT 1e-05 | MAXSAT | 4 CLAUSES…"
      ]
     },
     "metadata": {},
     "output_type": "display_data"
    },
    {
     "data": {
      "application/vnd.jupyter.widget-view+json": {
       "model_id": "",
       "version_major": 2,
       "version_minor": 0
      },
      "text/plain": [
       "[MNIST | ADAM, LR = 0.001 | SS LOGIC | LAYERS = (784,128) (128,64,10) | DIFF WEIGHT 0.001 | MAXSAT | 4 CLAUSES…"
      ]
     },
     "metadata": {},
     "output_type": "display_data"
    },
    {
     "data": {
      "application/vnd.jupyter.widget-view+json": {
       "model_id": "",
       "version_major": 2,
       "version_minor": 0
      },
      "text/plain": [
       "[MNIST | ADAM, LR = 0.001 | SS LOGIC | LAYERS = (784,128) (128,64,10) | DIFF WEIGHT 0.001 | MAXSAT | 4 CLAUSES…"
      ]
     },
     "metadata": {},
     "output_type": "display_data"
    },
    {
     "data": {
      "application/vnd.jupyter.widget-view+json": {
       "model_id": "",
       "version_major": 2,
       "version_minor": 0
      },
      "text/plain": [
       "[MNIST | ADAM, LR = 0.001 | SS LOGIC | LAYERS = (784,128) (128,64,10) | DIFF WEIGHT 0.001 | MAXSAT | 4 CLAUSES…"
      ]
     },
     "metadata": {},
     "output_type": "display_data"
    },
    {
     "data": {
      "application/vnd.jupyter.widget-view+json": {
       "model_id": "",
       "version_major": 2,
       "version_minor": 0
      },
      "text/plain": [
       "[MNIST | ADAM, LR = 0.001 | SS LOGIC | LAYERS = (784,128) (128,64,10) | DIFF WEIGHT 0.001 | MAXSAT | 4 CLAUSES…"
      ]
     },
     "metadata": {},
     "output_type": "display_data"
    },
    {
     "data": {
      "application/vnd.jupyter.widget-view+json": {
       "model_id": "",
       "version_major": 2,
       "version_minor": 0
      },
      "text/plain": [
       "[MNIST | ADAM, LR = 0.001 | SS LOGIC | LAYERS = (784,128) (128,64,10) | DIFF WEIGHT 0.001 | MAXSAT | 4 CLAUSES…"
      ]
     },
     "metadata": {},
     "output_type": "display_data"
    },
    {
     "data": {
      "application/vnd.jupyter.widget-view+json": {
       "model_id": "",
       "version_major": 2,
       "version_minor": 0
      },
      "text/plain": [
       "[MNIST | ADAM, LR = 0.001 | SS LOGIC | LAYERS = (784,128) (128,64,10) | DIFF WEIGHT 0.001 | MAXSAT | 4 CLAUSES…"
      ]
     },
     "metadata": {},
     "output_type": "display_data"
    },
    {
     "data": {
      "application/vnd.jupyter.widget-view+json": {
       "model_id": "",
       "version_major": 2,
       "version_minor": 0
      },
      "text/plain": [
       "[MNIST | ADAM, LR = 0.001 | SS LOGIC | LAYERS = (784,128) (128,64,10) | DIFF WEIGHT 0.001 | MAXSAT | 4 CLAUSES…"
      ]
     },
     "metadata": {},
     "output_type": "display_data"
    },
    {
     "data": {
      "application/vnd.jupyter.widget-view+json": {
       "model_id": "",
       "version_major": 2,
       "version_minor": 0
      },
      "text/plain": [
       "[MNIST | ADAM, LR = 0.001 | SS LOGIC | LAYERS = (784,128) (128,64,10) | DIFF WEIGHT 0.001 | MAXSAT | 4 CLAUSES…"
      ]
     },
     "metadata": {},
     "output_type": "display_data"
    },
    {
     "data": {
      "application/vnd.jupyter.widget-view+json": {
       "model_id": "",
       "version_major": 2,
       "version_minor": 0
      },
      "text/plain": [
       "[MNIST | ADAM, LR = 0.001 | SS LOGIC | LAYERS = (784,128) (128,64,10) | DIFF WEIGHT 1 | MAXSAT | 4 CLAUSES] Ru…"
      ]
     },
     "metadata": {},
     "output_type": "display_data"
    },
    {
     "data": {
      "application/vnd.jupyter.widget-view+json": {
       "model_id": "",
       "version_major": 2,
       "version_minor": 0
      },
      "text/plain": [
       "[MNIST | ADAM, LR = 0.001 | SS LOGIC | LAYERS = (784,128) (128,64,10) | DIFF WEIGHT 1 | MAXSAT | 4 CLAUSES] Ru…"
      ]
     },
     "metadata": {},
     "output_type": "display_data"
    },
    {
     "data": {
      "application/vnd.jupyter.widget-view+json": {
       "model_id": "",
       "version_major": 2,
       "version_minor": 0
      },
      "text/plain": [
       "[MNIST | ADAM, LR = 0.001 | SS LOGIC | LAYERS = (784,128) (128,64,10) | DIFF WEIGHT 1 | MAXSAT | 4 CLAUSES] Ru…"
      ]
     },
     "metadata": {},
     "output_type": "display_data"
    },
    {
     "data": {
      "application/vnd.jupyter.widget-view+json": {
       "model_id": "",
       "version_major": 2,
       "version_minor": 0
      },
      "text/plain": [
       "[MNIST | ADAM, LR = 0.001 | SS LOGIC | LAYERS = (784,128) (128,64,10) | DIFF WEIGHT 1 | MAXSAT | 4 CLAUSES] Ru…"
      ]
     },
     "metadata": {},
     "output_type": "display_data"
    },
    {
     "data": {
      "application/vnd.jupyter.widget-view+json": {
       "model_id": "",
       "version_major": 2,
       "version_minor": 0
      },
      "text/plain": [
       "[MNIST | ADAM, LR = 0.001 | SS LOGIC | LAYERS = (784,128) (128,64,10) | DIFF WEIGHT 1 | MAXSAT | 4 CLAUSES] Ru…"
      ]
     },
     "metadata": {},
     "output_type": "display_data"
    },
    {
     "data": {
      "application/vnd.jupyter.widget-view+json": {
       "model_id": "",
       "version_major": 2,
       "version_minor": 0
      },
      "text/plain": [
       "[MNIST | ADAM, LR = 0.001 | SS LOGIC | LAYERS = (784,128) (128,64,10) | DIFF WEIGHT 1 | MAXSAT | 4 CLAUSES] Ru…"
      ]
     },
     "metadata": {},
     "output_type": "display_data"
    },
    {
     "data": {
      "application/vnd.jupyter.widget-view+json": {
       "model_id": "",
       "version_major": 2,
       "version_minor": 0
      },
      "text/plain": [
       "[MNIST | ADAM, LR = 0.001 | SS LOGIC | LAYERS = (784,128) (128,64,10) | DIFF WEIGHT 1 | MAXSAT | 4 CLAUSES] Ru…"
      ]
     },
     "metadata": {},
     "output_type": "display_data"
    },
    {
     "data": {
      "application/vnd.jupyter.widget-view+json": {
       "model_id": "",
       "version_major": 2,
       "version_minor": 0
      },
      "text/plain": [
       "[MNIST | ADAM, LR = 0.001 | SS LOGIC | LAYERS = (784,128) (128,64,10) | DIFF WEIGHT 1 | MAXSAT | 4 CLAUSES] Ru…"
      ]
     },
     "metadata": {},
     "output_type": "display_data"
    },
    {
     "data": {
      "application/vnd.jupyter.widget-view+json": {
       "model_id": "",
       "version_major": 2,
       "version_minor": 0
      },
      "text/plain": [
       "[MNIST | ADAM, LR = 0.001 | SS LOGIC | LAYERS = (784,128) (128,64,10) | DIFF WEIGHT 1e-05 | MAXSAT | 4 CLAUSES…"
      ]
     },
     "metadata": {},
     "output_type": "display_data"
    },
    {
     "data": {
      "application/vnd.jupyter.widget-view+json": {
       "model_id": "",
       "version_major": 2,
       "version_minor": 0
      },
      "text/plain": [
       "[MNIST | ADAM, LR = 0.001 | SS LOGIC | LAYERS = (784,128) (128,64,10) | DIFF WEIGHT 1e-05 | MAXSAT | 4 CLAUSES…"
      ]
     },
     "metadata": {},
     "output_type": "display_data"
    },
    {
     "data": {
      "application/vnd.jupyter.widget-view+json": {
       "model_id": "",
       "version_major": 2,
       "version_minor": 0
      },
      "text/plain": [
       "[MNIST | ADAM, LR = 0.001 | SS LOGIC | LAYERS = (784,128) (128,64,10) | DIFF WEIGHT 1e-05 | MAXSAT | 4 CLAUSES…"
      ]
     },
     "metadata": {},
     "output_type": "display_data"
    },
    {
     "data": {
      "application/vnd.jupyter.widget-view+json": {
       "model_id": "",
       "version_major": 2,
       "version_minor": 0
      },
      "text/plain": [
       "[MNIST | ADAM, LR = 0.001 | SS LOGIC | LAYERS = (784,128) (128,64,10) | DIFF WEIGHT 1e-05 | MAXSAT | 4 CLAUSES…"
      ]
     },
     "metadata": {},
     "output_type": "display_data"
    },
    {
     "data": {
      "application/vnd.jupyter.widget-view+json": {
       "model_id": "",
       "version_major": 2,
       "version_minor": 0
      },
      "text/plain": [
       "[MNIST | ADAM, LR = 0.001 | SS LOGIC | LAYERS = (784,128) (128,64,10) | DIFF WEIGHT 1e-05 | MAXSAT | 4 CLAUSES…"
      ]
     },
     "metadata": {},
     "output_type": "display_data"
    },
    {
     "data": {
      "application/vnd.jupyter.widget-view+json": {
       "model_id": "",
       "version_major": 2,
       "version_minor": 0
      },
      "text/plain": [
       "[MNIST | ADAM, LR = 0.001 | SS LOGIC | LAYERS = (784,128) (128,64,10) | DIFF WEIGHT 1e-05 | MAXSAT | 4 CLAUSES…"
      ]
     },
     "metadata": {},
     "output_type": "display_data"
    },
    {
     "data": {
      "application/vnd.jupyter.widget-view+json": {
       "model_id": "",
       "version_major": 2,
       "version_minor": 0
      },
      "text/plain": [
       "[MNIST | ADAM, LR = 0.001 | SS LOGIC | LAYERS = (784,128) (128,64,10) | DIFF WEIGHT 1e-05 | MAXSAT | 4 CLAUSES…"
      ]
     },
     "metadata": {},
     "output_type": "display_data"
    },
    {
     "data": {
      "application/vnd.jupyter.widget-view+json": {
       "model_id": "",
       "version_major": 2,
       "version_minor": 0
      },
      "text/plain": [
       "[MNIST | ADAM, LR = 0.001 | SS LOGIC | LAYERS = (784,128) (128,64,10) | DIFF WEIGHT 1e-05 | MAXSAT | 4 CLAUSES…"
      ]
     },
     "metadata": {},
     "output_type": "display_data"
    },
    {
     "data": {
      "application/vnd.jupyter.widget-view+json": {
       "model_id": "",
       "version_major": 2,
       "version_minor": 0
      },
      "text/plain": [
       "[MNIST | ADAM, LR = 0.001 | SS LOGIC | LAYERS = (784,128) (128,64,10) | DIFF WEIGHT 0.001 | MAXSAT | 4 CLAUSES…"
      ]
     },
     "metadata": {},
     "output_type": "display_data"
    },
    {
     "data": {
      "application/vnd.jupyter.widget-view+json": {
       "model_id": "",
       "version_major": 2,
       "version_minor": 0
      },
      "text/plain": [
       "[MNIST | ADAM, LR = 0.001 | SS LOGIC | LAYERS = (784,128) (128,64,10) | DIFF WEIGHT 0.001 | MAXSAT | 4 CLAUSES…"
      ]
     },
     "metadata": {},
     "output_type": "display_data"
    },
    {
     "data": {
      "application/vnd.jupyter.widget-view+json": {
       "model_id": "",
       "version_major": 2,
       "version_minor": 0
      },
      "text/plain": [
       "[MNIST | ADAM, LR = 0.001 | SS LOGIC | LAYERS = (784,128) (128,64,10) | DIFF WEIGHT 0.001 | MAXSAT | 4 CLAUSES…"
      ]
     },
     "metadata": {},
     "output_type": "display_data"
    },
    {
     "data": {
      "application/vnd.jupyter.widget-view+json": {
       "model_id": "",
       "version_major": 2,
       "version_minor": 0
      },
      "text/plain": [
       "[MNIST | ADAM, LR = 0.001 | SS LOGIC | LAYERS = (784,128) (128,64,10) | DIFF WEIGHT 0.001 | MAXSAT | 4 CLAUSES…"
      ]
     },
     "metadata": {},
     "output_type": "display_data"
    },
    {
     "data": {
      "application/vnd.jupyter.widget-view+json": {
       "model_id": "",
       "version_major": 2,
       "version_minor": 0
      },
      "text/plain": [
       "[MNIST | ADAM, LR = 0.001 | SS LOGIC | LAYERS = (784,128) (128,64,10) | DIFF WEIGHT 0.001 | MAXSAT | 4 CLAUSES…"
      ]
     },
     "metadata": {},
     "output_type": "display_data"
    },
    {
     "data": {
      "application/vnd.jupyter.widget-view+json": {
       "model_id": "",
       "version_major": 2,
       "version_minor": 0
      },
      "text/plain": [
       "[MNIST | ADAM, LR = 0.001 | SS LOGIC | LAYERS = (784,128) (128,64,10) | DIFF WEIGHT 0.001 | MAXSAT | 4 CLAUSES…"
      ]
     },
     "metadata": {},
     "output_type": "display_data"
    },
    {
     "data": {
      "application/vnd.jupyter.widget-view+json": {
       "model_id": "",
       "version_major": 2,
       "version_minor": 0
      },
      "text/plain": [
       "[MNIST | ADAM, LR = 0.001 | SS LOGIC | LAYERS = (784,128) (128,64,10) | DIFF WEIGHT 0.001 | MAXSAT | 4 CLAUSES…"
      ]
     },
     "metadata": {},
     "output_type": "display_data"
    },
    {
     "data": {
      "application/vnd.jupyter.widget-view+json": {
       "model_id": "",
       "version_major": 2,
       "version_minor": 0
      },
      "text/plain": [
       "[MNIST | ADAM, LR = 0.001 | SS LOGIC | LAYERS = (784,128) (128,64,10) | DIFF WEIGHT 0.001 | MAXSAT | 4 CLAUSES…"
      ]
     },
     "metadata": {},
     "output_type": "display_data"
    },
    {
     "data": {
      "application/vnd.jupyter.widget-view+json": {
       "model_id": "",
       "version_major": 2,
       "version_minor": 0
      },
      "text/plain": [
       "[MNIST | ADAM, LR = 0.001 | SS LOGIC | LAYERS = (784,128) (128,64,10) | DIFF WEIGHT 1 | MAXSAT | 4 CLAUSES] Ru…"
      ]
     },
     "metadata": {},
     "output_type": "display_data"
    },
    {
     "data": {
      "application/vnd.jupyter.widget-view+json": {
       "model_id": "",
       "version_major": 2,
       "version_minor": 0
      },
      "text/plain": [
       "[MNIST | ADAM, LR = 0.001 | SS LOGIC | LAYERS = (784,128) (128,64,10) | DIFF WEIGHT 1 | MAXSAT | 4 CLAUSES] Ru…"
      ]
     },
     "metadata": {},
     "output_type": "display_data"
    },
    {
     "data": {
      "application/vnd.jupyter.widget-view+json": {
       "model_id": "",
       "version_major": 2,
       "version_minor": 0
      },
      "text/plain": [
       "[MNIST | ADAM, LR = 0.001 | SS LOGIC | LAYERS = (784,128) (128,64,10) | DIFF WEIGHT 1 | MAXSAT | 4 CLAUSES] Ru…"
      ]
     },
     "metadata": {},
     "output_type": "display_data"
    },
    {
     "data": {
      "application/vnd.jupyter.widget-view+json": {
       "model_id": "",
       "version_major": 2,
       "version_minor": 0
      },
      "text/plain": [
       "[MNIST | ADAM, LR = 0.001 | SS LOGIC | LAYERS = (784,128) (128,64,10) | DIFF WEIGHT 1 | MAXSAT | 4 CLAUSES] Ru…"
      ]
     },
     "metadata": {},
     "output_type": "display_data"
    },
    {
     "data": {
      "application/vnd.jupyter.widget-view+json": {
       "model_id": "",
       "version_major": 2,
       "version_minor": 0
      },
      "text/plain": [
       "[MNIST | ADAM, LR = 0.001 | SS LOGIC | LAYERS = (784,128) (128,64,10) | DIFF WEIGHT 1 | MAXSAT | 4 CLAUSES] Ru…"
      ]
     },
     "metadata": {},
     "output_type": "display_data"
    },
    {
     "data": {
      "application/vnd.jupyter.widget-view+json": {
       "model_id": "",
       "version_major": 2,
       "version_minor": 0
      },
      "text/plain": [
       "[MNIST | ADAM, LR = 0.001 | SS LOGIC | LAYERS = (784,128) (128,64,10) | DIFF WEIGHT 1 | MAXSAT | 4 CLAUSES] Ru…"
      ]
     },
     "metadata": {},
     "output_type": "display_data"
    },
    {
     "data": {
      "application/vnd.jupyter.widget-view+json": {
       "model_id": "",
       "version_major": 2,
       "version_minor": 0
      },
      "text/plain": [
       "[MNIST | ADAM, LR = 0.001 | SS LOGIC | LAYERS = (784,128) (128,64,10) | DIFF WEIGHT 1 | MAXSAT | 4 CLAUSES] Ru…"
      ]
     },
     "metadata": {},
     "output_type": "display_data"
    },
    {
     "data": {
      "application/vnd.jupyter.widget-view+json": {
       "model_id": "",
       "version_major": 2,
       "version_minor": 0
      },
      "text/plain": [
       "[MNIST | ADAM, LR = 0.001 | SS LOGIC | LAYERS = (784,128) (128,64,10) | DIFF WEIGHT 1 | MAXSAT | 4 CLAUSES] Ru…"
      ]
     },
     "metadata": {},
     "output_type": "display_data"
    },
    {
     "data": {
      "application/vnd.jupyter.widget-view+json": {
       "model_id": "",
       "version_major": 2,
       "version_minor": 0
      },
      "text/plain": [
       "[MNIST | ADAM, LR = 0.001 | SS LOGIC | LAYERS = (784,128) (128,64,10) | DIFF WEIGHT 1e-05 | MAXSAT | 4 CLAUSES…"
      ]
     },
     "metadata": {},
     "output_type": "display_data"
    },
    {
     "data": {
      "application/vnd.jupyter.widget-view+json": {
       "model_id": "",
       "version_major": 2,
       "version_minor": 0
      },
      "text/plain": [
       "[MNIST | ADAM, LR = 0.001 | SS LOGIC | LAYERS = (784,128) (128,64,10) | DIFF WEIGHT 1e-05 | MAXSAT | 4 CLAUSES…"
      ]
     },
     "metadata": {},
     "output_type": "display_data"
    },
    {
     "data": {
      "application/vnd.jupyter.widget-view+json": {
       "model_id": "",
       "version_major": 2,
       "version_minor": 0
      },
      "text/plain": [
       "[MNIST | ADAM, LR = 0.001 | SS LOGIC | LAYERS = (784,128) (128,64,10) | DIFF WEIGHT 1e-05 | MAXSAT | 4 CLAUSES…"
      ]
     },
     "metadata": {},
     "output_type": "display_data"
    },
    {
     "data": {
      "application/vnd.jupyter.widget-view+json": {
       "model_id": "",
       "version_major": 2,
       "version_minor": 0
      },
      "text/plain": [
       "[MNIST | ADAM, LR = 0.001 | SS LOGIC | LAYERS = (784,128) (128,64,10) | DIFF WEIGHT 1e-05 | MAXSAT | 4 CLAUSES…"
      ]
     },
     "metadata": {},
     "output_type": "display_data"
    },
    {
     "data": {
      "application/vnd.jupyter.widget-view+json": {
       "model_id": "",
       "version_major": 2,
       "version_minor": 0
      },
      "text/plain": [
       "[MNIST | ADAM, LR = 0.001 | SS LOGIC | LAYERS = (784,128) (128,64,10) | DIFF WEIGHT 1e-05 | MAXSAT | 4 CLAUSES…"
      ]
     },
     "metadata": {},
     "output_type": "display_data"
    },
    {
     "data": {
      "application/vnd.jupyter.widget-view+json": {
       "model_id": "",
       "version_major": 2,
       "version_minor": 0
      },
      "text/plain": [
       "[MNIST | ADAM, LR = 0.001 | SS LOGIC | LAYERS = (784,128) (128,64,10) | DIFF WEIGHT 1e-05 | MAXSAT | 4 CLAUSES…"
      ]
     },
     "metadata": {},
     "output_type": "display_data"
    },
    {
     "data": {
      "application/vnd.jupyter.widget-view+json": {
       "model_id": "",
       "version_major": 2,
       "version_minor": 0
      },
      "text/plain": [
       "[MNIST | ADAM, LR = 0.001 | SS LOGIC | LAYERS = (784,128) (128,64,10) | DIFF WEIGHT 1e-05 | MAXSAT | 4 CLAUSES…"
      ]
     },
     "metadata": {},
     "output_type": "display_data"
    },
    {
     "data": {
      "application/vnd.jupyter.widget-view+json": {
       "model_id": "",
       "version_major": 2,
       "version_minor": 0
      },
      "text/plain": [
       "[MNIST | ADAM, LR = 0.001 | SS LOGIC | LAYERS = (784,128) (128,64,10) | DIFF WEIGHT 1e-05 | MAXSAT | 4 CLAUSES…"
      ]
     },
     "metadata": {},
     "output_type": "display_data"
    },
    {
     "data": {
      "application/vnd.jupyter.widget-view+json": {
       "model_id": "",
       "version_major": 2,
       "version_minor": 0
      },
      "text/plain": [
       "[MNIST | ADAM, LR = 0.001 | SS LOGIC | LAYERS = (784,128) (128,64,10) | DIFF WEIGHT 0.001 | MAXSAT | 4 CLAUSES…"
      ]
     },
     "metadata": {},
     "output_type": "display_data"
    },
    {
     "data": {
      "application/vnd.jupyter.widget-view+json": {
       "model_id": "",
       "version_major": 2,
       "version_minor": 0
      },
      "text/plain": [
       "[MNIST | ADAM, LR = 0.001 | SS LOGIC | LAYERS = (784,128) (128,64,10) | DIFF WEIGHT 0.001 | MAXSAT | 4 CLAUSES…"
      ]
     },
     "metadata": {},
     "output_type": "display_data"
    },
    {
     "data": {
      "application/vnd.jupyter.widget-view+json": {
       "model_id": "",
       "version_major": 2,
       "version_minor": 0
      },
      "text/plain": [
       "[MNIST | ADAM, LR = 0.001 | SS LOGIC | LAYERS = (784,128) (128,64,10) | DIFF WEIGHT 0.001 | MAXSAT | 4 CLAUSES…"
      ]
     },
     "metadata": {},
     "output_type": "display_data"
    },
    {
     "data": {
      "application/vnd.jupyter.widget-view+json": {
       "model_id": "",
       "version_major": 2,
       "version_minor": 0
      },
      "text/plain": [
       "[MNIST | ADAM, LR = 0.001 | SS LOGIC | LAYERS = (784,128) (128,64,10) | DIFF WEIGHT 0.001 | MAXSAT | 4 CLAUSES…"
      ]
     },
     "metadata": {},
     "output_type": "display_data"
    },
    {
     "data": {
      "application/vnd.jupyter.widget-view+json": {
       "model_id": "",
       "version_major": 2,
       "version_minor": 0
      },
      "text/plain": [
       "[MNIST | ADAM, LR = 0.001 | SS LOGIC | LAYERS = (784,128) (128,64,10) | DIFF WEIGHT 0.001 | MAXSAT | 4 CLAUSES…"
      ]
     },
     "metadata": {},
     "output_type": "display_data"
    },
    {
     "data": {
      "application/vnd.jupyter.widget-view+json": {
       "model_id": "",
       "version_major": 2,
       "version_minor": 0
      },
      "text/plain": [
       "[MNIST | ADAM, LR = 0.001 | SS LOGIC | LAYERS = (784,128) (128,64,10) | DIFF WEIGHT 0.001 | MAXSAT | 4 CLAUSES…"
      ]
     },
     "metadata": {},
     "output_type": "display_data"
    },
    {
     "data": {
      "application/vnd.jupyter.widget-view+json": {
       "model_id": "",
       "version_major": 2,
       "version_minor": 0
      },
      "text/plain": [
       "[MNIST | ADAM, LR = 0.001 | SS LOGIC | LAYERS = (784,128) (128,64,10) | DIFF WEIGHT 0.001 | MAXSAT | 4 CLAUSES…"
      ]
     },
     "metadata": {},
     "output_type": "display_data"
    },
    {
     "data": {
      "application/vnd.jupyter.widget-view+json": {
       "model_id": "",
       "version_major": 2,
       "version_minor": 0
      },
      "text/plain": [
       "[MNIST | ADAM, LR = 0.001 | SS LOGIC | LAYERS = (784,128) (128,64,10) | DIFF WEIGHT 0.001 | MAXSAT | 4 CLAUSES…"
      ]
     },
     "metadata": {},
     "output_type": "display_data"
    },
    {
     "data": {
      "application/vnd.jupyter.widget-view+json": {
       "model_id": "",
       "version_major": 2,
       "version_minor": 0
      },
      "text/plain": [
       "[MNIST | ADAM, LR = 0.001 | SS LOGIC | LAYERS = (784,128) (128,64,10) | DIFF WEIGHT 1 | MAXSAT | 4 CLAUSES] Ru…"
      ]
     },
     "metadata": {},
     "output_type": "display_data"
    },
    {
     "data": {
      "application/vnd.jupyter.widget-view+json": {
       "model_id": "",
       "version_major": 2,
       "version_minor": 0
      },
      "text/plain": [
       "[MNIST | ADAM, LR = 0.001 | SS LOGIC | LAYERS = (784,128) (128,64,10) | DIFF WEIGHT 1 | MAXSAT | 4 CLAUSES] Ru…"
      ]
     },
     "metadata": {},
     "output_type": "display_data"
    },
    {
     "data": {
      "application/vnd.jupyter.widget-view+json": {
       "model_id": "",
       "version_major": 2,
       "version_minor": 0
      },
      "text/plain": [
       "[MNIST | ADAM, LR = 0.001 | SS LOGIC | LAYERS = (784,128) (128,64,10) | DIFF WEIGHT 1 | MAXSAT | 4 CLAUSES] Ru…"
      ]
     },
     "metadata": {},
     "output_type": "display_data"
    },
    {
     "data": {
      "application/vnd.jupyter.widget-view+json": {
       "model_id": "",
       "version_major": 2,
       "version_minor": 0
      },
      "text/plain": [
       "[MNIST | ADAM, LR = 0.001 | SS LOGIC | LAYERS = (784,128) (128,64,10) | DIFF WEIGHT 1 | MAXSAT | 4 CLAUSES] Ru…"
      ]
     },
     "metadata": {},
     "output_type": "display_data"
    },
    {
     "data": {
      "application/vnd.jupyter.widget-view+json": {
       "model_id": "",
       "version_major": 2,
       "version_minor": 0
      },
      "text/plain": [
       "[MNIST | ADAM, LR = 0.001 | SS LOGIC | LAYERS = (784,128) (128,64,10) | DIFF WEIGHT 1 | MAXSAT | 4 CLAUSES] Ru…"
      ]
     },
     "metadata": {},
     "output_type": "display_data"
    },
    {
     "data": {
      "application/vnd.jupyter.widget-view+json": {
       "model_id": "",
       "version_major": 2,
       "version_minor": 0
      },
      "text/plain": [
       "[MNIST | ADAM, LR = 0.001 | SS LOGIC | LAYERS = (784,128) (128,64,10) | DIFF WEIGHT 1 | MAXSAT | 4 CLAUSES] Ru…"
      ]
     },
     "metadata": {},
     "output_type": "display_data"
    },
    {
     "data": {
      "application/vnd.jupyter.widget-view+json": {
       "model_id": "",
       "version_major": 2,
       "version_minor": 0
      },
      "text/plain": [
       "[MNIST | ADAM, LR = 0.001 | SS LOGIC | LAYERS = (784,128) (128,64,10) | DIFF WEIGHT 1 | MAXSAT | 4 CLAUSES] Ru…"
      ]
     },
     "metadata": {},
     "output_type": "display_data"
    },
    {
     "data": {
      "application/vnd.jupyter.widget-view+json": {
       "model_id": "",
       "version_major": 2,
       "version_minor": 0
      },
      "text/plain": [
       "[MNIST | ADAM, LR = 0.001 | SS LOGIC | LAYERS = (784,128) (128,64,10) | DIFF WEIGHT 1 | MAXSAT | 4 CLAUSES] Ru…"
      ]
     },
     "metadata": {},
     "output_type": "display_data"
    },
    {
     "data": {
      "application/vnd.jupyter.widget-view+json": {
       "model_id": "",
       "version_major": 2,
       "version_minor": 0
      },
      "text/plain": [
       "[MNIST | ADAM, LR = 0.001 | SS LOGIC | LAYERS = (784,128) (128,64,10) | DIFF WEIGHT 1e-05 | MAXSAT | 4 CLAUSES…"
      ]
     },
     "metadata": {},
     "output_type": "display_data"
    },
    {
     "data": {
      "application/vnd.jupyter.widget-view+json": {
       "model_id": "",
       "version_major": 2,
       "version_minor": 0
      },
      "text/plain": [
       "[MNIST | ADAM, LR = 0.001 | SS LOGIC | LAYERS = (784,128) (128,64,10) | DIFF WEIGHT 1e-05 | MAXSAT | 4 CLAUSES…"
      ]
     },
     "metadata": {},
     "output_type": "display_data"
    },
    {
     "data": {
      "application/vnd.jupyter.widget-view+json": {
       "model_id": "",
       "version_major": 2,
       "version_minor": 0
      },
      "text/plain": [
       "[MNIST | ADAM, LR = 0.001 | SS LOGIC | LAYERS = (784,128) (128,64,10) | DIFF WEIGHT 1e-05 | MAXSAT | 4 CLAUSES…"
      ]
     },
     "metadata": {},
     "output_type": "display_data"
    },
    {
     "data": {
      "application/vnd.jupyter.widget-view+json": {
       "model_id": "",
       "version_major": 2,
       "version_minor": 0
      },
      "text/plain": [
       "[MNIST | ADAM, LR = 0.001 | SS LOGIC | LAYERS = (784,128) (128,64,10) | DIFF WEIGHT 1e-05 | MAXSAT | 4 CLAUSES…"
      ]
     },
     "metadata": {},
     "output_type": "display_data"
    },
    {
     "data": {
      "application/vnd.jupyter.widget-view+json": {
       "model_id": "",
       "version_major": 2,
       "version_minor": 0
      },
      "text/plain": [
       "[MNIST | ADAM, LR = 0.001 | SS LOGIC | LAYERS = (784,128) (128,64,10) | DIFF WEIGHT 1e-05 | MAXSAT | 4 CLAUSES…"
      ]
     },
     "metadata": {},
     "output_type": "display_data"
    },
    {
     "data": {
      "application/vnd.jupyter.widget-view+json": {
       "model_id": "",
       "version_major": 2,
       "version_minor": 0
      },
      "text/plain": [
       "[MNIST | ADAM, LR = 0.001 | SS LOGIC | LAYERS = (784,128) (128,64,10) | DIFF WEIGHT 1e-05 | MAXSAT | 4 CLAUSES…"
      ]
     },
     "metadata": {},
     "output_type": "display_data"
    },
    {
     "data": {
      "application/vnd.jupyter.widget-view+json": {
       "model_id": "",
       "version_major": 2,
       "version_minor": 0
      },
      "text/plain": [
       "[MNIST | ADAM, LR = 0.001 | SS LOGIC | LAYERS = (784,128) (128,64,10) | DIFF WEIGHT 1e-05 | MAXSAT | 4 CLAUSES…"
      ]
     },
     "metadata": {},
     "output_type": "display_data"
    },
    {
     "data": {
      "application/vnd.jupyter.widget-view+json": {
       "model_id": "",
       "version_major": 2,
       "version_minor": 0
      },
      "text/plain": [
       "[MNIST | ADAM, LR = 0.001 | SS LOGIC | LAYERS = (784,128) (128,64,10) | DIFF WEIGHT 1e-05 | MAXSAT | 4 CLAUSES…"
      ]
     },
     "metadata": {},
     "output_type": "display_data"
    },
    {
     "data": {
      "application/vnd.jupyter.widget-view+json": {
       "model_id": "",
       "version_major": 2,
       "version_minor": 0
      },
      "text/plain": [
       "[MNIST | ADAM, LR = 0.001 | SS LOGIC | LAYERS = (784,128) (128,64,10) | DIFF WEIGHT 0.001 | MAXSAT | 4 CLAUSES…"
      ]
     },
     "metadata": {},
     "output_type": "display_data"
    },
    {
     "data": {
      "application/vnd.jupyter.widget-view+json": {
       "model_id": "",
       "version_major": 2,
       "version_minor": 0
      },
      "text/plain": [
       "[MNIST | ADAM, LR = 0.001 | SS LOGIC | LAYERS = (784,128) (128,64,10) | DIFF WEIGHT 0.001 | MAXSAT | 4 CLAUSES…"
      ]
     },
     "metadata": {},
     "output_type": "display_data"
    },
    {
     "data": {
      "application/vnd.jupyter.widget-view+json": {
       "model_id": "",
       "version_major": 2,
       "version_minor": 0
      },
      "text/plain": [
       "[MNIST | ADAM, LR = 0.001 | SS LOGIC | LAYERS = (784,128) (128,64,10) | DIFF WEIGHT 0.001 | MAXSAT | 4 CLAUSES…"
      ]
     },
     "metadata": {},
     "output_type": "display_data"
    },
    {
     "data": {
      "application/vnd.jupyter.widget-view+json": {
       "model_id": "",
       "version_major": 2,
       "version_minor": 0
      },
      "text/plain": [
       "[MNIST | ADAM, LR = 0.001 | SS LOGIC | LAYERS = (784,128) (128,64,10) | DIFF WEIGHT 0.001 | MAXSAT | 4 CLAUSES…"
      ]
     },
     "metadata": {},
     "output_type": "display_data"
    },
    {
     "data": {
      "application/vnd.jupyter.widget-view+json": {
       "model_id": "",
       "version_major": 2,
       "version_minor": 0
      },
      "text/plain": [
       "[MNIST | ADAM, LR = 0.001 | SS LOGIC | LAYERS = (784,128) (128,64,10) | DIFF WEIGHT 0.001 | MAXSAT | 4 CLAUSES…"
      ]
     },
     "metadata": {},
     "output_type": "display_data"
    },
    {
     "data": {
      "application/vnd.jupyter.widget-view+json": {
       "model_id": "",
       "version_major": 2,
       "version_minor": 0
      },
      "text/plain": [
       "[MNIST | ADAM, LR = 0.001 | SS LOGIC | LAYERS = (784,128) (128,64,10) | DIFF WEIGHT 0.001 | MAXSAT | 4 CLAUSES…"
      ]
     },
     "metadata": {},
     "output_type": "display_data"
    },
    {
     "data": {
      "application/vnd.jupyter.widget-view+json": {
       "model_id": "",
       "version_major": 2,
       "version_minor": 0
      },
      "text/plain": [
       "[MNIST | ADAM, LR = 0.001 | SS LOGIC | LAYERS = (784,128) (128,64,10) | DIFF WEIGHT 0.001 | MAXSAT | 4 CLAUSES…"
      ]
     },
     "metadata": {},
     "output_type": "display_data"
    },
    {
     "data": {
      "application/vnd.jupyter.widget-view+json": {
       "model_id": "",
       "version_major": 2,
       "version_minor": 0
      },
      "text/plain": [
       "[MNIST | ADAM, LR = 0.001 | SS LOGIC | LAYERS = (784,128) (128,64,10) | DIFF WEIGHT 0.001 | MAXSAT | 4 CLAUSES…"
      ]
     },
     "metadata": {},
     "output_type": "display_data"
    },
    {
     "data": {
      "application/vnd.jupyter.widget-view+json": {
       "model_id": "",
       "version_major": 2,
       "version_minor": 0
      },
      "text/plain": [
       "[MNIST | ADAM, LR = 0.001 | SS LOGIC | LAYERS = (784,128) (128,64,10) | DIFF WEIGHT 1 | MAXSAT | 4 CLAUSES] Ru…"
      ]
     },
     "metadata": {},
     "output_type": "display_data"
    },
    {
     "data": {
      "application/vnd.jupyter.widget-view+json": {
       "model_id": "",
       "version_major": 2,
       "version_minor": 0
      },
      "text/plain": [
       "[MNIST | ADAM, LR = 0.001 | SS LOGIC | LAYERS = (784,128) (128,64,10) | DIFF WEIGHT 1 | MAXSAT | 4 CLAUSES] Ru…"
      ]
     },
     "metadata": {},
     "output_type": "display_data"
    },
    {
     "data": {
      "application/vnd.jupyter.widget-view+json": {
       "model_id": "",
       "version_major": 2,
       "version_minor": 0
      },
      "text/plain": [
       "[MNIST | ADAM, LR = 0.001 | SS LOGIC | LAYERS = (784,128) (128,64,10) | DIFF WEIGHT 1 | MAXSAT | 4 CLAUSES] Ru…"
      ]
     },
     "metadata": {},
     "output_type": "display_data"
    },
    {
     "data": {
      "application/vnd.jupyter.widget-view+json": {
       "model_id": "",
       "version_major": 2,
       "version_minor": 0
      },
      "text/plain": [
       "[MNIST | ADAM, LR = 0.001 | SS LOGIC | LAYERS = (784,128) (128,64,10) | DIFF WEIGHT 1 | MAXSAT | 4 CLAUSES] Ru…"
      ]
     },
     "metadata": {},
     "output_type": "display_data"
    },
    {
     "data": {
      "application/vnd.jupyter.widget-view+json": {
       "model_id": "",
       "version_major": 2,
       "version_minor": 0
      },
      "text/plain": [
       "[MNIST | ADAM, LR = 0.001 | SS LOGIC | LAYERS = (784,128) (128,64,10) | DIFF WEIGHT 1 | MAXSAT | 4 CLAUSES] Ru…"
      ]
     },
     "metadata": {},
     "output_type": "display_data"
    },
    {
     "data": {
      "application/vnd.jupyter.widget-view+json": {
       "model_id": "",
       "version_major": 2,
       "version_minor": 0
      },
      "text/plain": [
       "[MNIST | ADAM, LR = 0.001 | SS LOGIC | LAYERS = (784,128) (128,64,10) | DIFF WEIGHT 1 | MAXSAT | 4 CLAUSES] Ru…"
      ]
     },
     "metadata": {},
     "output_type": "display_data"
    },
    {
     "data": {
      "application/vnd.jupyter.widget-view+json": {
       "model_id": "",
       "version_major": 2,
       "version_minor": 0
      },
      "text/plain": [
       "[MNIST | ADAM, LR = 0.001 | SS LOGIC | LAYERS = (784,128) (128,64,10) | DIFF WEIGHT 1 | MAXSAT | 4 CLAUSES] Ru…"
      ]
     },
     "metadata": {},
     "output_type": "display_data"
    },
    {
     "data": {
      "application/vnd.jupyter.widget-view+json": {
       "model_id": "",
       "version_major": 2,
       "version_minor": 0
      },
      "text/plain": [
       "[MNIST | ADAM, LR = 0.001 | SS LOGIC | LAYERS = (784,128) (128,64,10) | DIFF WEIGHT 1 | MAXSAT | 4 CLAUSES] Ru…"
      ]
     },
     "metadata": {},
     "output_type": "display_data"
    },
    {
     "data": {
      "application/vnd.jupyter.widget-view+json": {
       "model_id": "",
       "version_major": 2,
       "version_minor": 0
      },
      "text/plain": [
       "[MNIST | ADAM, LR = 0.001 | SS LOGIC | LAYERS = (784,128) (128,64,10) | DIFF WEIGHT 1e-05 | MAXSAT | 4 CLAUSES…"
      ]
     },
     "metadata": {},
     "output_type": "display_data"
    },
    {
     "data": {
      "application/vnd.jupyter.widget-view+json": {
       "model_id": "",
       "version_major": 2,
       "version_minor": 0
      },
      "text/plain": [
       "[MNIST | ADAM, LR = 0.001 | SS LOGIC | LAYERS = (784,128) (128,64,10) | DIFF WEIGHT 1e-05 | MAXSAT | 4 CLAUSES…"
      ]
     },
     "metadata": {},
     "output_type": "display_data"
    },
    {
     "data": {
      "application/vnd.jupyter.widget-view+json": {
       "model_id": "",
       "version_major": 2,
       "version_minor": 0
      },
      "text/plain": [
       "[MNIST | ADAM, LR = 0.001 | SS LOGIC | LAYERS = (784,128) (128,64,10) | DIFF WEIGHT 1e-05 | MAXSAT | 4 CLAUSES…"
      ]
     },
     "metadata": {},
     "output_type": "display_data"
    },
    {
     "data": {
      "application/vnd.jupyter.widget-view+json": {
       "model_id": "",
       "version_major": 2,
       "version_minor": 0
      },
      "text/plain": [
       "[MNIST | ADAM, LR = 0.001 | SS LOGIC | LAYERS = (784,128) (128,64,10) | DIFF WEIGHT 1e-05 | MAXSAT | 4 CLAUSES…"
      ]
     },
     "metadata": {},
     "output_type": "display_data"
    },
    {
     "data": {
      "application/vnd.jupyter.widget-view+json": {
       "model_id": "",
       "version_major": 2,
       "version_minor": 0
      },
      "text/plain": [
       "[MNIST | ADAM, LR = 0.001 | SS LOGIC | LAYERS = (784,128) (128,64,10) | DIFF WEIGHT 1e-05 | MAXSAT | 4 CLAUSES…"
      ]
     },
     "metadata": {},
     "output_type": "display_data"
    },
    {
     "data": {
      "application/vnd.jupyter.widget-view+json": {
       "model_id": "",
       "version_major": 2,
       "version_minor": 0
      },
      "text/plain": [
       "[MNIST | ADAM, LR = 0.001 | SS LOGIC | LAYERS = (784,128) (128,64,10) | DIFF WEIGHT 1e-05 | MAXSAT | 4 CLAUSES…"
      ]
     },
     "metadata": {},
     "output_type": "display_data"
    },
    {
     "data": {
      "application/vnd.jupyter.widget-view+json": {
       "model_id": "",
       "version_major": 2,
       "version_minor": 0
      },
      "text/plain": [
       "[MNIST | ADAM, LR = 0.001 | SS LOGIC | LAYERS = (784,128) (128,64,10) | DIFF WEIGHT 1e-05 | MAXSAT | 4 CLAUSES…"
      ]
     },
     "metadata": {},
     "output_type": "display_data"
    },
    {
     "data": {
      "application/vnd.jupyter.widget-view+json": {
       "model_id": "",
       "version_major": 2,
       "version_minor": 0
      },
      "text/plain": [
       "[MNIST | ADAM, LR = 0.001 | SS LOGIC | LAYERS = (784,128) (128,64,10) | DIFF WEIGHT 1e-05 | MAXSAT | 4 CLAUSES…"
      ]
     },
     "metadata": {},
     "output_type": "display_data"
    },
    {
     "data": {
      "application/vnd.jupyter.widget-view+json": {
       "model_id": "",
       "version_major": 2,
       "version_minor": 0
      },
      "text/plain": [
       "[MNIST | ADAM, LR = 0.001 | SS LOGIC | LAYERS = (784,128) (128,64,10) | DIFF WEIGHT 0.001 | MAXSAT | 4 CLAUSES…"
      ]
     },
     "metadata": {},
     "output_type": "display_data"
    },
    {
     "data": {
      "application/vnd.jupyter.widget-view+json": {
       "model_id": "",
       "version_major": 2,
       "version_minor": 0
      },
      "text/plain": [
       "[MNIST | ADAM, LR = 0.001 | SS LOGIC | LAYERS = (784,128) (128,64,10) | DIFF WEIGHT 0.001 | MAXSAT | 4 CLAUSES…"
      ]
     },
     "metadata": {},
     "output_type": "display_data"
    },
    {
     "data": {
      "application/vnd.jupyter.widget-view+json": {
       "model_id": "",
       "version_major": 2,
       "version_minor": 0
      },
      "text/plain": [
       "[MNIST | ADAM, LR = 0.001 | SS LOGIC | LAYERS = (784,128) (128,64,10) | DIFF WEIGHT 0.001 | MAXSAT | 4 CLAUSES…"
      ]
     },
     "metadata": {},
     "output_type": "display_data"
    },
    {
     "data": {
      "application/vnd.jupyter.widget-view+json": {
       "model_id": "",
       "version_major": 2,
       "version_minor": 0
      },
      "text/plain": [
       "[MNIST | ADAM, LR = 0.001 | SS LOGIC | LAYERS = (784,128) (128,64,10) | DIFF WEIGHT 0.001 | MAXSAT | 4 CLAUSES…"
      ]
     },
     "metadata": {},
     "output_type": "display_data"
    },
    {
     "data": {
      "application/vnd.jupyter.widget-view+json": {
       "model_id": "",
       "version_major": 2,
       "version_minor": 0
      },
      "text/plain": [
       "[MNIST | ADAM, LR = 0.001 | SS LOGIC | LAYERS = (784,128) (128,64,10) | DIFF WEIGHT 0.001 | MAXSAT | 4 CLAUSES…"
      ]
     },
     "metadata": {},
     "output_type": "display_data"
    },
    {
     "data": {
      "application/vnd.jupyter.widget-view+json": {
       "model_id": "",
       "version_major": 2,
       "version_minor": 0
      },
      "text/plain": [
       "[MNIST | ADAM, LR = 0.001 | SS LOGIC | LAYERS = (784,128) (128,64,10) | DIFF WEIGHT 0.001 | MAXSAT | 4 CLAUSES…"
      ]
     },
     "metadata": {},
     "output_type": "display_data"
    },
    {
     "data": {
      "application/vnd.jupyter.widget-view+json": {
       "model_id": "",
       "version_major": 2,
       "version_minor": 0
      },
      "text/plain": [
       "[MNIST | ADAM, LR = 0.001 | SS LOGIC | LAYERS = (784,128) (128,64,10) | DIFF WEIGHT 0.001 | MAXSAT | 4 CLAUSES…"
      ]
     },
     "metadata": {},
     "output_type": "display_data"
    },
    {
     "data": {
      "application/vnd.jupyter.widget-view+json": {
       "model_id": "",
       "version_major": 2,
       "version_minor": 0
      },
      "text/plain": [
       "[MNIST | ADAM, LR = 0.001 | SS LOGIC | LAYERS = (784,128) (128,64,10) | DIFF WEIGHT 0.001 | MAXSAT | 4 CLAUSES…"
      ]
     },
     "metadata": {},
     "output_type": "display_data"
    },
    {
     "data": {
      "application/vnd.jupyter.widget-view+json": {
       "model_id": "",
       "version_major": 2,
       "version_minor": 0
      },
      "text/plain": [
       "[MNIST | ADAM, LR = 0.001 | SS LOGIC | LAYERS = (784,128) (128,64,10) | DIFF WEIGHT 1 | MAXSAT | 4 CLAUSES] Ru…"
      ]
     },
     "metadata": {},
     "output_type": "display_data"
    },
    {
     "data": {
      "application/vnd.jupyter.widget-view+json": {
       "model_id": "",
       "version_major": 2,
       "version_minor": 0
      },
      "text/plain": [
       "[MNIST | ADAM, LR = 0.001 | SS LOGIC | LAYERS = (784,128) (128,64,10) | DIFF WEIGHT 1 | MAXSAT | 4 CLAUSES] Ru…"
      ]
     },
     "metadata": {},
     "output_type": "display_data"
    },
    {
     "data": {
      "application/vnd.jupyter.widget-view+json": {
       "model_id": "",
       "version_major": 2,
       "version_minor": 0
      },
      "text/plain": [
       "[MNIST | ADAM, LR = 0.001 | SS LOGIC | LAYERS = (784,128) (128,64,10) | DIFF WEIGHT 1 | MAXSAT | 4 CLAUSES] Ru…"
      ]
     },
     "metadata": {},
     "output_type": "display_data"
    },
    {
     "data": {
      "application/vnd.jupyter.widget-view+json": {
       "model_id": "",
       "version_major": 2,
       "version_minor": 0
      },
      "text/plain": [
       "[MNIST | ADAM, LR = 0.001 | SS LOGIC | LAYERS = (784,128) (128,64,10) | DIFF WEIGHT 1 | MAXSAT | 4 CLAUSES] Ru…"
      ]
     },
     "metadata": {},
     "output_type": "display_data"
    },
    {
     "data": {
      "application/vnd.jupyter.widget-view+json": {
       "model_id": "",
       "version_major": 2,
       "version_minor": 0
      },
      "text/plain": [
       "[MNIST | ADAM, LR = 0.001 | SS LOGIC | LAYERS = (784,128) (128,64,10) | DIFF WEIGHT 1 | MAXSAT | 4 CLAUSES] Ru…"
      ]
     },
     "metadata": {},
     "output_type": "display_data"
    },
    {
     "data": {
      "application/vnd.jupyter.widget-view+json": {
       "model_id": "",
       "version_major": 2,
       "version_minor": 0
      },
      "text/plain": [
       "[MNIST | ADAM, LR = 0.001 | SS LOGIC | LAYERS = (784,128) (128,64,10) | DIFF WEIGHT 1 | MAXSAT | 4 CLAUSES] Ru…"
      ]
     },
     "metadata": {},
     "output_type": "display_data"
    },
    {
     "data": {
      "application/vnd.jupyter.widget-view+json": {
       "model_id": "",
       "version_major": 2,
       "version_minor": 0
      },
      "text/plain": [
       "[MNIST | ADAM, LR = 0.001 | SS LOGIC | LAYERS = (784,128) (128,64,10) | DIFF WEIGHT 1 | MAXSAT | 4 CLAUSES] Ru…"
      ]
     },
     "metadata": {},
     "output_type": "display_data"
    },
    {
     "data": {
      "application/vnd.jupyter.widget-view+json": {
       "model_id": "",
       "version_major": 2,
       "version_minor": 0
      },
      "text/plain": [
       "[MNIST | ADAM, LR = 0.001 | SS LOGIC | LAYERS = (784,128) (128,64,10) | DIFF WEIGHT 1 | MAXSAT | 4 CLAUSES] Ru…"
      ]
     },
     "metadata": {},
     "output_type": "display_data"
    },
    {
     "data": {
      "application/vnd.jupyter.widget-view+json": {
       "model_id": "",
       "version_major": 2,
       "version_minor": 0
      },
      "text/plain": [
       "[MNIST | ADAM, LR = 0.001 | SS LOGIC | LAYERS = (784,128) (128,64,10) | DIFF WEIGHT 1e-05 | MAXSAT | 4 CLAUSES…"
      ]
     },
     "metadata": {},
     "output_type": "display_data"
    },
    {
     "data": {
      "application/vnd.jupyter.widget-view+json": {
       "model_id": "",
       "version_major": 2,
       "version_minor": 0
      },
      "text/plain": [
       "[MNIST | ADAM, LR = 0.001 | SS LOGIC | LAYERS = (784,128) (128,64,10) | DIFF WEIGHT 1e-05 | MAXSAT | 4 CLAUSES…"
      ]
     },
     "metadata": {},
     "output_type": "display_data"
    },
    {
     "data": {
      "application/vnd.jupyter.widget-view+json": {
       "model_id": "",
       "version_major": 2,
       "version_minor": 0
      },
      "text/plain": [
       "[MNIST | ADAM, LR = 0.001 | SS LOGIC | LAYERS = (784,128) (128,64,10) | DIFF WEIGHT 1e-05 | MAXSAT | 4 CLAUSES…"
      ]
     },
     "metadata": {},
     "output_type": "display_data"
    },
    {
     "data": {
      "application/vnd.jupyter.widget-view+json": {
       "model_id": "",
       "version_major": 2,
       "version_minor": 0
      },
      "text/plain": [
       "[MNIST | ADAM, LR = 0.001 | SS LOGIC | LAYERS = (784,128) (128,64,10) | DIFF WEIGHT 1e-05 | MAXSAT | 4 CLAUSES…"
      ]
     },
     "metadata": {},
     "output_type": "display_data"
    },
    {
     "data": {
      "application/vnd.jupyter.widget-view+json": {
       "model_id": "",
       "version_major": 2,
       "version_minor": 0
      },
      "text/plain": [
       "[MNIST | ADAM, LR = 0.001 | SS LOGIC | LAYERS = (784,128) (128,64,10) | DIFF WEIGHT 1e-05 | MAXSAT | 4 CLAUSES…"
      ]
     },
     "metadata": {},
     "output_type": "display_data"
    },
    {
     "data": {
      "application/vnd.jupyter.widget-view+json": {
       "model_id": "",
       "version_major": 2,
       "version_minor": 0
      },
      "text/plain": [
       "[MNIST | ADAM, LR = 0.001 | SS LOGIC | LAYERS = (784,128) (128,64,10) | DIFF WEIGHT 1e-05 | MAXSAT | 4 CLAUSES…"
      ]
     },
     "metadata": {},
     "output_type": "display_data"
    },
    {
     "data": {
      "application/vnd.jupyter.widget-view+json": {
       "model_id": "",
       "version_major": 2,
       "version_minor": 0
      },
      "text/plain": [
       "[MNIST | ADAM, LR = 0.001 | SS LOGIC | LAYERS = (784,128) (128,64,10) | DIFF WEIGHT 1e-05 | MAXSAT | 4 CLAUSES…"
      ]
     },
     "metadata": {},
     "output_type": "display_data"
    },
    {
     "data": {
      "application/vnd.jupyter.widget-view+json": {
       "model_id": "",
       "version_major": 2,
       "version_minor": 0
      },
      "text/plain": [
       "[MNIST | ADAM, LR = 0.001 | SS LOGIC | LAYERS = (784,128) (128,64,10) | DIFF WEIGHT 1e-05 | MAXSAT | 4 CLAUSES…"
      ]
     },
     "metadata": {},
     "output_type": "display_data"
    },
    {
     "data": {
      "application/vnd.jupyter.widget-view+json": {
       "model_id": "",
       "version_major": 2,
       "version_minor": 0
      },
      "text/plain": [
       "[MNIST | ADAM, LR = 0.001 | SS LOGIC | LAYERS = (784,128) (128,64,10) | DIFF WEIGHT 0.001 | MAXSAT | 4 CLAUSES…"
      ]
     },
     "metadata": {},
     "output_type": "display_data"
    },
    {
     "data": {
      "application/vnd.jupyter.widget-view+json": {
       "model_id": "",
       "version_major": 2,
       "version_minor": 0
      },
      "text/plain": [
       "[MNIST | ADAM, LR = 0.001 | SS LOGIC | LAYERS = (784,128) (128,64,10) | DIFF WEIGHT 0.001 | MAXSAT | 4 CLAUSES…"
      ]
     },
     "metadata": {},
     "output_type": "display_data"
    },
    {
     "data": {
      "application/vnd.jupyter.widget-view+json": {
       "model_id": "",
       "version_major": 2,
       "version_minor": 0
      },
      "text/plain": [
       "[MNIST | ADAM, LR = 0.001 | SS LOGIC | LAYERS = (784,128) (128,64,10) | DIFF WEIGHT 0.001 | MAXSAT | 4 CLAUSES…"
      ]
     },
     "metadata": {},
     "output_type": "display_data"
    },
    {
     "data": {
      "application/vnd.jupyter.widget-view+json": {
       "model_id": "",
       "version_major": 2,
       "version_minor": 0
      },
      "text/plain": [
       "[MNIST | ADAM, LR = 0.001 | SS LOGIC | LAYERS = (784,128) (128,64,10) | DIFF WEIGHT 0.001 | MAXSAT | 4 CLAUSES…"
      ]
     },
     "metadata": {},
     "output_type": "display_data"
    },
    {
     "data": {
      "application/vnd.jupyter.widget-view+json": {
       "model_id": "",
       "version_major": 2,
       "version_minor": 0
      },
      "text/plain": [
       "[MNIST | ADAM, LR = 0.001 | SS LOGIC | LAYERS = (784,128) (128,64,10) | DIFF WEIGHT 0.001 | MAXSAT | 4 CLAUSES…"
      ]
     },
     "metadata": {},
     "output_type": "display_data"
    },
    {
     "data": {
      "application/vnd.jupyter.widget-view+json": {
       "model_id": "",
       "version_major": 2,
       "version_minor": 0
      },
      "text/plain": [
       "[MNIST | ADAM, LR = 0.001 | SS LOGIC | LAYERS = (784,128) (128,64,10) | DIFF WEIGHT 0.001 | MAXSAT | 4 CLAUSES…"
      ]
     },
     "metadata": {},
     "output_type": "display_data"
    },
    {
     "data": {
      "application/vnd.jupyter.widget-view+json": {
       "model_id": "",
       "version_major": 2,
       "version_minor": 0
      },
      "text/plain": [
       "[MNIST | ADAM, LR = 0.001 | SS LOGIC | LAYERS = (784,128) (128,64,10) | DIFF WEIGHT 0.001 | MAXSAT | 4 CLAUSES…"
      ]
     },
     "metadata": {},
     "output_type": "display_data"
    },
    {
     "data": {
      "application/vnd.jupyter.widget-view+json": {
       "model_id": "",
       "version_major": 2,
       "version_minor": 0
      },
      "text/plain": [
       "[MNIST | ADAM, LR = 0.001 | SS LOGIC | LAYERS = (784,128) (128,64,10) | DIFF WEIGHT 0.001 | MAXSAT | 4 CLAUSES…"
      ]
     },
     "metadata": {},
     "output_type": "display_data"
    },
    {
     "data": {
      "application/vnd.jupyter.widget-view+json": {
       "model_id": "",
       "version_major": 2,
       "version_minor": 0
      },
      "text/plain": [
       "[MNIST | ADAM, LR = 0.001 | SS LOGIC | LAYERS = (784,128) (128,64,10) | DIFF WEIGHT 1 | MAXSAT | 4 CLAUSES] Ru…"
      ]
     },
     "metadata": {},
     "output_type": "display_data"
    },
    {
     "data": {
      "application/vnd.jupyter.widget-view+json": {
       "model_id": "",
       "version_major": 2,
       "version_minor": 0
      },
      "text/plain": [
       "[MNIST | ADAM, LR = 0.001 | SS LOGIC | LAYERS = (784,128) (128,64,10) | DIFF WEIGHT 1 | MAXSAT | 4 CLAUSES] Ru…"
      ]
     },
     "metadata": {},
     "output_type": "display_data"
    },
    {
     "data": {
      "application/vnd.jupyter.widget-view+json": {
       "model_id": "",
       "version_major": 2,
       "version_minor": 0
      },
      "text/plain": [
       "[MNIST | ADAM, LR = 0.001 | SS LOGIC | LAYERS = (784,128) (128,64,10) | DIFF WEIGHT 1 | MAXSAT | 4 CLAUSES] Ru…"
      ]
     },
     "metadata": {},
     "output_type": "display_data"
    },
    {
     "data": {
      "application/vnd.jupyter.widget-view+json": {
       "model_id": "",
       "version_major": 2,
       "version_minor": 0
      },
      "text/plain": [
       "[MNIST | ADAM, LR = 0.001 | SS LOGIC | LAYERS = (784,128) (128,64,10) | DIFF WEIGHT 1 | MAXSAT | 4 CLAUSES] Ru…"
      ]
     },
     "metadata": {},
     "output_type": "display_data"
    },
    {
     "data": {
      "application/vnd.jupyter.widget-view+json": {
       "model_id": "",
       "version_major": 2,
       "version_minor": 0
      },
      "text/plain": [
       "[MNIST | ADAM, LR = 0.001 | SS LOGIC | LAYERS = (784,128) (128,64,10) | DIFF WEIGHT 1 | MAXSAT | 4 CLAUSES] Ru…"
      ]
     },
     "metadata": {},
     "output_type": "display_data"
    },
    {
     "data": {
      "application/vnd.jupyter.widget-view+json": {
       "model_id": "",
       "version_major": 2,
       "version_minor": 0
      },
      "text/plain": [
       "[MNIST | ADAM, LR = 0.001 | SS LOGIC | LAYERS = (784,128) (128,64,10) | DIFF WEIGHT 1 | MAXSAT | 4 CLAUSES] Ru…"
      ]
     },
     "metadata": {},
     "output_type": "display_data"
    },
    {
     "data": {
      "application/vnd.jupyter.widget-view+json": {
       "model_id": "",
       "version_major": 2,
       "version_minor": 0
      },
      "text/plain": [
       "[MNIST | ADAM, LR = 0.001 | SS LOGIC | LAYERS = (784,128) (128,64,10) | DIFF WEIGHT 1 | MAXSAT | 4 CLAUSES] Ru…"
      ]
     },
     "metadata": {},
     "output_type": "display_data"
    },
    {
     "data": {
      "application/vnd.jupyter.widget-view+json": {
       "model_id": "",
       "version_major": 2,
       "version_minor": 0
      },
      "text/plain": [
       "[MNIST | ADAM, LR = 0.001 | SS LOGIC | LAYERS = (784,128) (128,64,10) | DIFF WEIGHT 1 | MAXSAT | 4 CLAUSES] Ru…"
      ]
     },
     "metadata": {},
     "output_type": "display_data"
    },
    {
     "data": {
      "application/vnd.jupyter.widget-view+json": {
       "model_id": "",
       "version_major": 2,
       "version_minor": 0
      },
      "text/plain": [
       "[MNIST | ADAM, LR = 0.001 | SS LOGIC | LAYERS = (784,128) (128,64,10) | DIFF WEIGHT 1e-05 | MAXSAT | 4 CLAUSES…"
      ]
     },
     "metadata": {},
     "output_type": "display_data"
    },
    {
     "data": {
      "application/vnd.jupyter.widget-view+json": {
       "model_id": "",
       "version_major": 2,
       "version_minor": 0
      },
      "text/plain": [
       "[MNIST | ADAM, LR = 0.001 | SS LOGIC | LAYERS = (784,128) (128,64,10) | DIFF WEIGHT 1e-05 | MAXSAT | 4 CLAUSES…"
      ]
     },
     "metadata": {},
     "output_type": "display_data"
    },
    {
     "data": {
      "application/vnd.jupyter.widget-view+json": {
       "model_id": "",
       "version_major": 2,
       "version_minor": 0
      },
      "text/plain": [
       "[MNIST | ADAM, LR = 0.001 | SS LOGIC | LAYERS = (784,128) (128,64,10) | DIFF WEIGHT 1e-05 | MAXSAT | 4 CLAUSES…"
      ]
     },
     "metadata": {},
     "output_type": "display_data"
    },
    {
     "data": {
      "application/vnd.jupyter.widget-view+json": {
       "model_id": "",
       "version_major": 2,
       "version_minor": 0
      },
      "text/plain": [
       "[MNIST | ADAM, LR = 0.001 | SS LOGIC | LAYERS = (784,128) (128,64,10) | DIFF WEIGHT 1e-05 | MAXSAT | 4 CLAUSES…"
      ]
     },
     "metadata": {},
     "output_type": "display_data"
    },
    {
     "data": {
      "application/vnd.jupyter.widget-view+json": {
       "model_id": "",
       "version_major": 2,
       "version_minor": 0
      },
      "text/plain": [
       "[MNIST | ADAM, LR = 0.001 | SS LOGIC | LAYERS = (784,128) (128,64,10) | DIFF WEIGHT 1e-05 | MAXSAT | 4 CLAUSES…"
      ]
     },
     "metadata": {},
     "output_type": "display_data"
    },
    {
     "data": {
      "application/vnd.jupyter.widget-view+json": {
       "model_id": "",
       "version_major": 2,
       "version_minor": 0
      },
      "text/plain": [
       "[MNIST | ADAM, LR = 0.001 | SS LOGIC | LAYERS = (784,128) (128,64,10) | DIFF WEIGHT 1e-05 | MAXSAT | 4 CLAUSES…"
      ]
     },
     "metadata": {},
     "output_type": "display_data"
    },
    {
     "data": {
      "application/vnd.jupyter.widget-view+json": {
       "model_id": "",
       "version_major": 2,
       "version_minor": 0
      },
      "text/plain": [
       "[MNIST | ADAM, LR = 0.001 | SS LOGIC | LAYERS = (784,128) (128,64,10) | DIFF WEIGHT 1e-05 | MAXSAT | 4 CLAUSES…"
      ]
     },
     "metadata": {},
     "output_type": "display_data"
    },
    {
     "data": {
      "application/vnd.jupyter.widget-view+json": {
       "model_id": "",
       "version_major": 2,
       "version_minor": 0
      },
      "text/plain": [
       "[MNIST | ADAM, LR = 0.001 | SS LOGIC | LAYERS = (784,128) (128,64,10) | DIFF WEIGHT 1e-05 | MAXSAT | 4 CLAUSES…"
      ]
     },
     "metadata": {},
     "output_type": "display_data"
    },
    {
     "data": {
      "application/vnd.jupyter.widget-view+json": {
       "model_id": "",
       "version_major": 2,
       "version_minor": 0
      },
      "text/plain": [
       "[MNIST | ADAM, LR = 0.001 | SS LOGIC | LAYERS = (784,128) (128,64,10) | DIFF WEIGHT 0.001 | MAXSAT | 4 CLAUSES…"
      ]
     },
     "metadata": {},
     "output_type": "display_data"
    },
    {
     "data": {
      "application/vnd.jupyter.widget-view+json": {
       "model_id": "",
       "version_major": 2,
       "version_minor": 0
      },
      "text/plain": [
       "[MNIST | ADAM, LR = 0.001 | SS LOGIC | LAYERS = (784,128) (128,64,10) | DIFF WEIGHT 0.001 | MAXSAT | 4 CLAUSES…"
      ]
     },
     "metadata": {},
     "output_type": "display_data"
    },
    {
     "data": {
      "application/vnd.jupyter.widget-view+json": {
       "model_id": "",
       "version_major": 2,
       "version_minor": 0
      },
      "text/plain": [
       "[MNIST | ADAM, LR = 0.001 | SS LOGIC | LAYERS = (784,128) (128,64,10) | DIFF WEIGHT 0.001 | MAXSAT | 4 CLAUSES…"
      ]
     },
     "metadata": {},
     "output_type": "display_data"
    },
    {
     "data": {
      "application/vnd.jupyter.widget-view+json": {
       "model_id": "",
       "version_major": 2,
       "version_minor": 0
      },
      "text/plain": [
       "[MNIST | ADAM, LR = 0.001 | SS LOGIC | LAYERS = (784,128) (128,64,10) | DIFF WEIGHT 0.001 | MAXSAT | 4 CLAUSES…"
      ]
     },
     "metadata": {},
     "output_type": "display_data"
    },
    {
     "data": {
      "application/vnd.jupyter.widget-view+json": {
       "model_id": "",
       "version_major": 2,
       "version_minor": 0
      },
      "text/plain": [
       "[MNIST | ADAM, LR = 0.001 | SS LOGIC | LAYERS = (784,128) (128,64,10) | DIFF WEIGHT 0.001 | MAXSAT | 4 CLAUSES…"
      ]
     },
     "metadata": {},
     "output_type": "display_data"
    },
    {
     "data": {
      "application/vnd.jupyter.widget-view+json": {
       "model_id": "",
       "version_major": 2,
       "version_minor": 0
      },
      "text/plain": [
       "[MNIST | ADAM, LR = 0.001 | SS LOGIC | LAYERS = (784,128) (128,64,10) | DIFF WEIGHT 0.001 | MAXSAT | 4 CLAUSES…"
      ]
     },
     "metadata": {},
     "output_type": "display_data"
    },
    {
     "data": {
      "application/vnd.jupyter.widget-view+json": {
       "model_id": "",
       "version_major": 2,
       "version_minor": 0
      },
      "text/plain": [
       "[MNIST | ADAM, LR = 0.001 | SS LOGIC | LAYERS = (784,128) (128,64,10) | DIFF WEIGHT 0.001 | MAXSAT | 4 CLAUSES…"
      ]
     },
     "metadata": {},
     "output_type": "display_data"
    },
    {
     "data": {
      "application/vnd.jupyter.widget-view+json": {
       "model_id": "",
       "version_major": 2,
       "version_minor": 0
      },
      "text/plain": [
       "[MNIST | ADAM, LR = 0.001 | SS LOGIC | LAYERS = (784,128) (128,64,10) | DIFF WEIGHT 0.001 | MAXSAT | 4 CLAUSES…"
      ]
     },
     "metadata": {},
     "output_type": "display_data"
    },
    {
     "data": {
      "application/vnd.jupyter.widget-view+json": {
       "model_id": "",
       "version_major": 2,
       "version_minor": 0
      },
      "text/plain": [
       "[MNIST | ADAM, LR = 0.001 | SS LOGIC | LAYERS = (784,128) (128,64,10) | DIFF WEIGHT 1 | MAXSAT | 4 CLAUSES] Ru…"
      ]
     },
     "metadata": {},
     "output_type": "display_data"
    },
    {
     "data": {
      "application/vnd.jupyter.widget-view+json": {
       "model_id": "",
       "version_major": 2,
       "version_minor": 0
      },
      "text/plain": [
       "[MNIST | ADAM, LR = 0.001 | SS LOGIC | LAYERS = (784,128) (128,64,10) | DIFF WEIGHT 1 | MAXSAT | 4 CLAUSES] Ru…"
      ]
     },
     "metadata": {},
     "output_type": "display_data"
    },
    {
     "data": {
      "application/vnd.jupyter.widget-view+json": {
       "model_id": "",
       "version_major": 2,
       "version_minor": 0
      },
      "text/plain": [
       "[MNIST | ADAM, LR = 0.001 | SS LOGIC | LAYERS = (784,128) (128,64,10) | DIFF WEIGHT 1 | MAXSAT | 4 CLAUSES] Ru…"
      ]
     },
     "metadata": {},
     "output_type": "display_data"
    },
    {
     "data": {
      "application/vnd.jupyter.widget-view+json": {
       "model_id": "",
       "version_major": 2,
       "version_minor": 0
      },
      "text/plain": [
       "[MNIST | ADAM, LR = 0.001 | SS LOGIC | LAYERS = (784,128) (128,64,10) | DIFF WEIGHT 1 | MAXSAT | 4 CLAUSES] Ru…"
      ]
     },
     "metadata": {},
     "output_type": "display_data"
    },
    {
     "data": {
      "application/vnd.jupyter.widget-view+json": {
       "model_id": "",
       "version_major": 2,
       "version_minor": 0
      },
      "text/plain": [
       "[MNIST | ADAM, LR = 0.001 | SS LOGIC | LAYERS = (784,128) (128,64,10) | DIFF WEIGHT 1 | MAXSAT | 4 CLAUSES] Ru…"
      ]
     },
     "metadata": {},
     "output_type": "display_data"
    },
    {
     "data": {
      "application/vnd.jupyter.widget-view+json": {
       "model_id": "",
       "version_major": 2,
       "version_minor": 0
      },
      "text/plain": [
       "[MNIST | ADAM, LR = 0.001 | SS LOGIC | LAYERS = (784,128) (128,64,10) | DIFF WEIGHT 1 | MAXSAT | 4 CLAUSES] Ru…"
      ]
     },
     "metadata": {},
     "output_type": "display_data"
    },
    {
     "data": {
      "application/vnd.jupyter.widget-view+json": {
       "model_id": "",
       "version_major": 2,
       "version_minor": 0
      },
      "text/plain": [
       "[MNIST | ADAM, LR = 0.001 | SS LOGIC | LAYERS = (784,128) (128,64,10) | DIFF WEIGHT 1 | MAXSAT | 4 CLAUSES] Ru…"
      ]
     },
     "metadata": {},
     "output_type": "display_data"
    },
    {
     "data": {
      "application/vnd.jupyter.widget-view+json": {
       "model_id": "",
       "version_major": 2,
       "version_minor": 0
      },
      "text/plain": [
       "[MNIST | ADAM, LR = 0.001 | SS LOGIC | LAYERS = (784,128) (128,64,10) | DIFF WEIGHT 1 | MAXSAT | 4 CLAUSES] Ru…"
      ]
     },
     "metadata": {},
     "output_type": "display_data"
    },
    {
     "data": {
      "application/vnd.jupyter.widget-view+json": {
       "model_id": "",
       "version_major": 2,
       "version_minor": 0
      },
      "text/plain": [
       "[MNIST | ADAM, LR = 0.001 | SS LOGIC | LAYERS = (784,128) (128,64,10) | DIFF WEIGHT 1e-05 | MAXSAT | 4 CLAUSES…"
      ]
     },
     "metadata": {},
     "output_type": "display_data"
    },
    {
     "data": {
      "application/vnd.jupyter.widget-view+json": {
       "model_id": "",
       "version_major": 2,
       "version_minor": 0
      },
      "text/plain": [
       "[MNIST | ADAM, LR = 0.001 | SS LOGIC | LAYERS = (784,128) (128,64,10) | DIFF WEIGHT 1e-05 | MAXSAT | 4 CLAUSES…"
      ]
     },
     "metadata": {},
     "output_type": "display_data"
    },
    {
     "data": {
      "application/vnd.jupyter.widget-view+json": {
       "model_id": "",
       "version_major": 2,
       "version_minor": 0
      },
      "text/plain": [
       "[MNIST | ADAM, LR = 0.001 | SS LOGIC | LAYERS = (784,128) (128,64,10) | DIFF WEIGHT 1e-05 | MAXSAT | 4 CLAUSES…"
      ]
     },
     "metadata": {},
     "output_type": "display_data"
    },
    {
     "data": {
      "application/vnd.jupyter.widget-view+json": {
       "model_id": "",
       "version_major": 2,
       "version_minor": 0
      },
      "text/plain": [
       "[MNIST | ADAM, LR = 0.001 | SS LOGIC | LAYERS = (784,128) (128,64,10) | DIFF WEIGHT 1e-05 | MAXSAT | 4 CLAUSES…"
      ]
     },
     "metadata": {},
     "output_type": "display_data"
    },
    {
     "data": {
      "application/vnd.jupyter.widget-view+json": {
       "model_id": "",
       "version_major": 2,
       "version_minor": 0
      },
      "text/plain": [
       "[MNIST | ADAM, LR = 0.001 | SS LOGIC | LAYERS = (784,128) (128,64,10) | DIFF WEIGHT 1e-05 | MAXSAT | 4 CLAUSES…"
      ]
     },
     "metadata": {},
     "output_type": "display_data"
    },
    {
     "data": {
      "application/vnd.jupyter.widget-view+json": {
       "model_id": "",
       "version_major": 2,
       "version_minor": 0
      },
      "text/plain": [
       "[MNIST | ADAM, LR = 0.001 | SS LOGIC | LAYERS = (784,128) (128,64,10) | DIFF WEIGHT 1e-05 | MAXSAT | 4 CLAUSES…"
      ]
     },
     "metadata": {},
     "output_type": "display_data"
    },
    {
     "data": {
      "application/vnd.jupyter.widget-view+json": {
       "model_id": "",
       "version_major": 2,
       "version_minor": 0
      },
      "text/plain": [
       "[MNIST | ADAM, LR = 0.001 | SS LOGIC | LAYERS = (784,128) (128,64,10) | DIFF WEIGHT 1e-05 | MAXSAT | 4 CLAUSES…"
      ]
     },
     "metadata": {},
     "output_type": "display_data"
    },
    {
     "data": {
      "application/vnd.jupyter.widget-view+json": {
       "model_id": "",
       "version_major": 2,
       "version_minor": 0
      },
      "text/plain": [
       "[MNIST | ADAM, LR = 0.001 | SS LOGIC | LAYERS = (784,128) (128,64,10) | DIFF WEIGHT 1e-05 | MAXSAT | 4 CLAUSES…"
      ]
     },
     "metadata": {},
     "output_type": "display_data"
    },
    {
     "data": {
      "application/vnd.jupyter.widget-view+json": {
       "model_id": "",
       "version_major": 2,
       "version_minor": 0
      },
      "text/plain": [
       "[MNIST | ADAM, LR = 0.001 | SS LOGIC | LAYERS = (784,128) (128,64,10) | DIFF WEIGHT 0.001 | MAXSAT | 4 CLAUSES…"
      ]
     },
     "metadata": {},
     "output_type": "display_data"
    },
    {
     "data": {
      "application/vnd.jupyter.widget-view+json": {
       "model_id": "",
       "version_major": 2,
       "version_minor": 0
      },
      "text/plain": [
       "[MNIST | ADAM, LR = 0.001 | SS LOGIC | LAYERS = (784,128) (128,64,10) | DIFF WEIGHT 0.001 | MAXSAT | 4 CLAUSES…"
      ]
     },
     "metadata": {},
     "output_type": "display_data"
    },
    {
     "data": {
      "application/vnd.jupyter.widget-view+json": {
       "model_id": "",
       "version_major": 2,
       "version_minor": 0
      },
      "text/plain": [
       "[MNIST | ADAM, LR = 0.001 | SS LOGIC | LAYERS = (784,128) (128,64,10) | DIFF WEIGHT 0.001 | MAXSAT | 4 CLAUSES…"
      ]
     },
     "metadata": {},
     "output_type": "display_data"
    },
    {
     "data": {
      "application/vnd.jupyter.widget-view+json": {
       "model_id": "",
       "version_major": 2,
       "version_minor": 0
      },
      "text/plain": [
       "[MNIST | ADAM, LR = 0.001 | SS LOGIC | LAYERS = (784,128) (128,64,10) | DIFF WEIGHT 0.001 | MAXSAT | 4 CLAUSES…"
      ]
     },
     "metadata": {},
     "output_type": "display_data"
    },
    {
     "data": {
      "application/vnd.jupyter.widget-view+json": {
       "model_id": "",
       "version_major": 2,
       "version_minor": 0
      },
      "text/plain": [
       "[MNIST | ADAM, LR = 0.001 | SS LOGIC | LAYERS = (784,128) (128,64,10) | DIFF WEIGHT 0.001 | MAXSAT | 4 CLAUSES…"
      ]
     },
     "metadata": {},
     "output_type": "display_data"
    },
    {
     "data": {
      "application/vnd.jupyter.widget-view+json": {
       "model_id": "",
       "version_major": 2,
       "version_minor": 0
      },
      "text/plain": [
       "[MNIST | ADAM, LR = 0.001 | SS LOGIC | LAYERS = (784,128) (128,64,10) | DIFF WEIGHT 0.001 | MAXSAT | 4 CLAUSES…"
      ]
     },
     "metadata": {},
     "output_type": "display_data"
    },
    {
     "data": {
      "application/vnd.jupyter.widget-view+json": {
       "model_id": "",
       "version_major": 2,
       "version_minor": 0
      },
      "text/plain": [
       "[MNIST | ADAM, LR = 0.001 | SS LOGIC | LAYERS = (784,128) (128,64,10) | DIFF WEIGHT 0.001 | MAXSAT | 4 CLAUSES…"
      ]
     },
     "metadata": {},
     "output_type": "display_data"
    },
    {
     "data": {
      "application/vnd.jupyter.widget-view+json": {
       "model_id": "",
       "version_major": 2,
       "version_minor": 0
      },
      "text/plain": [
       "[MNIST | ADAM, LR = 0.001 | SS LOGIC | LAYERS = (784,128) (128,64,10) | DIFF WEIGHT 0.001 | MAXSAT | 4 CLAUSES…"
      ]
     },
     "metadata": {},
     "output_type": "display_data"
    },
    {
     "data": {
      "application/vnd.jupyter.widget-view+json": {
       "model_id": "",
       "version_major": 2,
       "version_minor": 0
      },
      "text/plain": [
       "[MNIST | ADAM, LR = 0.001 | SS LOGIC | LAYERS = (784,128) (128,64,10) | DIFF WEIGHT 1 | MAXSAT | 4 CLAUSES] Ru…"
      ]
     },
     "metadata": {},
     "output_type": "display_data"
    },
    {
     "data": {
      "application/vnd.jupyter.widget-view+json": {
       "model_id": "",
       "version_major": 2,
       "version_minor": 0
      },
      "text/plain": [
       "[MNIST | ADAM, LR = 0.001 | SS LOGIC | LAYERS = (784,128) (128,64,10) | DIFF WEIGHT 1 | MAXSAT | 4 CLAUSES] Ru…"
      ]
     },
     "metadata": {},
     "output_type": "display_data"
    },
    {
     "data": {
      "application/vnd.jupyter.widget-view+json": {
       "model_id": "",
       "version_major": 2,
       "version_minor": 0
      },
      "text/plain": [
       "[MNIST | ADAM, LR = 0.001 | SS LOGIC | LAYERS = (784,128) (128,64,10) | DIFF WEIGHT 1 | MAXSAT | 4 CLAUSES] Ru…"
      ]
     },
     "metadata": {},
     "output_type": "display_data"
    },
    {
     "data": {
      "application/vnd.jupyter.widget-view+json": {
       "model_id": "",
       "version_major": 2,
       "version_minor": 0
      },
      "text/plain": [
       "[MNIST | ADAM, LR = 0.001 | SS LOGIC | LAYERS = (784,128) (128,64,10) | DIFF WEIGHT 1 | MAXSAT | 4 CLAUSES] Ru…"
      ]
     },
     "metadata": {},
     "output_type": "display_data"
    },
    {
     "data": {
      "application/vnd.jupyter.widget-view+json": {
       "model_id": "",
       "version_major": 2,
       "version_minor": 0
      },
      "text/plain": [
       "[MNIST | ADAM, LR = 0.001 | SS LOGIC | LAYERS = (784,128) (128,64,10) | DIFF WEIGHT 1 | MAXSAT | 4 CLAUSES] Ru…"
      ]
     },
     "metadata": {},
     "output_type": "display_data"
    },
    {
     "data": {
      "application/vnd.jupyter.widget-view+json": {
       "model_id": "",
       "version_major": 2,
       "version_minor": 0
      },
      "text/plain": [
       "[MNIST | ADAM, LR = 0.001 | SS LOGIC | LAYERS = (784,128) (128,64,10) | DIFF WEIGHT 1 | MAXSAT | 4 CLAUSES] Ru…"
      ]
     },
     "metadata": {},
     "output_type": "display_data"
    },
    {
     "data": {
      "application/vnd.jupyter.widget-view+json": {
       "model_id": "",
       "version_major": 2,
       "version_minor": 0
      },
      "text/plain": [
       "[MNIST | ADAM, LR = 0.001 | SS LOGIC | LAYERS = (784,128) (128,64,10) | DIFF WEIGHT 1 | MAXSAT | 4 CLAUSES] Ru…"
      ]
     },
     "metadata": {},
     "output_type": "display_data"
    },
    {
     "data": {
      "application/vnd.jupyter.widget-view+json": {
       "model_id": "",
       "version_major": 2,
       "version_minor": 0
      },
      "text/plain": [
       "[MNIST | ADAM, LR = 0.001 | SS LOGIC | LAYERS = (784,128) (128,64,10) | DIFF WEIGHT 1 | MAXSAT | 4 CLAUSES] Ru…"
      ]
     },
     "metadata": {},
     "output_type": "display_data"
    },
    {
     "data": {
      "application/vnd.jupyter.widget-view+json": {
       "model_id": "",
       "version_major": 2,
       "version_minor": 0
      },
      "text/plain": [
       "[MNIST | ADAM, LR = 0.001 | SS LOGIC | LAYERS = (784,128) (128,64,10) | DIFF WEIGHT 1e-05 | MAXSAT | 4 CLAUSES…"
      ]
     },
     "metadata": {},
     "output_type": "display_data"
    },
    {
     "data": {
      "application/vnd.jupyter.widget-view+json": {
       "model_id": "",
       "version_major": 2,
       "version_minor": 0
      },
      "text/plain": [
       "[MNIST | ADAM, LR = 0.001 | SS LOGIC | LAYERS = (784,128) (128,64,10) | DIFF WEIGHT 1e-05 | MAXSAT | 4 CLAUSES…"
      ]
     },
     "metadata": {},
     "output_type": "display_data"
    },
    {
     "data": {
      "application/vnd.jupyter.widget-view+json": {
       "model_id": "",
       "version_major": 2,
       "version_minor": 0
      },
      "text/plain": [
       "[MNIST | ADAM, LR = 0.001 | SS LOGIC | LAYERS = (784,128) (128,64,10) | DIFF WEIGHT 1e-05 | MAXSAT | 4 CLAUSES…"
      ]
     },
     "metadata": {},
     "output_type": "display_data"
    },
    {
     "data": {
      "application/vnd.jupyter.widget-view+json": {
       "model_id": "",
       "version_major": 2,
       "version_minor": 0
      },
      "text/plain": [
       "[MNIST | ADAM, LR = 0.001 | SS LOGIC | LAYERS = (784,128) (128,64,10) | DIFF WEIGHT 1e-05 | MAXSAT | 4 CLAUSES…"
      ]
     },
     "metadata": {},
     "output_type": "display_data"
    },
    {
     "data": {
      "application/vnd.jupyter.widget-view+json": {
       "model_id": "",
       "version_major": 2,
       "version_minor": 0
      },
      "text/plain": [
       "[MNIST | ADAM, LR = 0.001 | SS LOGIC | LAYERS = (784,128) (128,64,10) | DIFF WEIGHT 1e-05 | MAXSAT | 4 CLAUSES…"
      ]
     },
     "metadata": {},
     "output_type": "display_data"
    },
    {
     "data": {
      "application/vnd.jupyter.widget-view+json": {
       "model_id": "",
       "version_major": 2,
       "version_minor": 0
      },
      "text/plain": [
       "[MNIST | ADAM, LR = 0.001 | SS LOGIC | LAYERS = (784,128) (128,64,10) | DIFF WEIGHT 1e-05 | MAXSAT | 4 CLAUSES…"
      ]
     },
     "metadata": {},
     "output_type": "display_data"
    },
    {
     "data": {
      "application/vnd.jupyter.widget-view+json": {
       "model_id": "",
       "version_major": 2,
       "version_minor": 0
      },
      "text/plain": [
       "[MNIST | ADAM, LR = 0.001 | SS LOGIC | LAYERS = (784,128) (128,64,10) | DIFF WEIGHT 1e-05 | MAXSAT | 4 CLAUSES…"
      ]
     },
     "metadata": {},
     "output_type": "display_data"
    },
    {
     "data": {
      "application/vnd.jupyter.widget-view+json": {
       "model_id": "",
       "version_major": 2,
       "version_minor": 0
      },
      "text/plain": [
       "[MNIST | ADAM, LR = 0.001 | SS LOGIC | LAYERS = (784,128) (128,64,10) | DIFF WEIGHT 1e-05 | MAXSAT | 4 CLAUSES…"
      ]
     },
     "metadata": {},
     "output_type": "display_data"
    },
    {
     "data": {
      "application/vnd.jupyter.widget-view+json": {
       "model_id": "",
       "version_major": 2,
       "version_minor": 0
      },
      "text/plain": [
       "[MNIST | ADAM, LR = 0.001 | SS LOGIC | LAYERS = (784,128) (128,64,10) | DIFF WEIGHT 0.001 | MAXSAT | 4 CLAUSES…"
      ]
     },
     "metadata": {},
     "output_type": "display_data"
    },
    {
     "data": {
      "application/vnd.jupyter.widget-view+json": {
       "model_id": "",
       "version_major": 2,
       "version_minor": 0
      },
      "text/plain": [
       "[MNIST | ADAM, LR = 0.001 | SS LOGIC | LAYERS = (784,128) (128,64,10) | DIFF WEIGHT 0.001 | MAXSAT | 4 CLAUSES…"
      ]
     },
     "metadata": {},
     "output_type": "display_data"
    },
    {
     "data": {
      "application/vnd.jupyter.widget-view+json": {
       "model_id": "",
       "version_major": 2,
       "version_minor": 0
      },
      "text/plain": [
       "[MNIST | ADAM, LR = 0.001 | SS LOGIC | LAYERS = (784,128) (128,64,10) | DIFF WEIGHT 0.001 | MAXSAT | 4 CLAUSES…"
      ]
     },
     "metadata": {},
     "output_type": "display_data"
    },
    {
     "data": {
      "application/vnd.jupyter.widget-view+json": {
       "model_id": "",
       "version_major": 2,
       "version_minor": 0
      },
      "text/plain": [
       "[MNIST | ADAM, LR = 0.001 | SS LOGIC | LAYERS = (784,128) (128,64,10) | DIFF WEIGHT 0.001 | MAXSAT | 4 CLAUSES…"
      ]
     },
     "metadata": {},
     "output_type": "display_data"
    },
    {
     "data": {
      "application/vnd.jupyter.widget-view+json": {
       "model_id": "",
       "version_major": 2,
       "version_minor": 0
      },
      "text/plain": [
       "[MNIST | ADAM, LR = 0.001 | SS LOGIC | LAYERS = (784,128) (128,64,10) | DIFF WEIGHT 0.001 | MAXSAT | 4 CLAUSES…"
      ]
     },
     "metadata": {},
     "output_type": "display_data"
    },
    {
     "data": {
      "application/vnd.jupyter.widget-view+json": {
       "model_id": "",
       "version_major": 2,
       "version_minor": 0
      },
      "text/plain": [
       "[MNIST | ADAM, LR = 0.001 | SS LOGIC | LAYERS = (784,128) (128,64,10) | DIFF WEIGHT 0.001 | MAXSAT | 4 CLAUSES…"
      ]
     },
     "metadata": {},
     "output_type": "display_data"
    },
    {
     "data": {
      "application/vnd.jupyter.widget-view+json": {
       "model_id": "",
       "version_major": 2,
       "version_minor": 0
      },
      "text/plain": [
       "[MNIST | ADAM, LR = 0.001 | SS LOGIC | LAYERS = (784,128) (128,64,10) | DIFF WEIGHT 0.001 | MAXSAT | 4 CLAUSES…"
      ]
     },
     "metadata": {},
     "output_type": "display_data"
    },
    {
     "data": {
      "application/vnd.jupyter.widget-view+json": {
       "model_id": "",
       "version_major": 2,
       "version_minor": 0
      },
      "text/plain": [
       "[MNIST | ADAM, LR = 0.001 | SS LOGIC | LAYERS = (784,128) (128,64,10) | DIFF WEIGHT 0.001 | MAXSAT | 4 CLAUSES…"
      ]
     },
     "metadata": {},
     "output_type": "display_data"
    },
    {
     "data": {
      "application/vnd.jupyter.widget-view+json": {
       "model_id": "",
       "version_major": 2,
       "version_minor": 0
      },
      "text/plain": [
       "[MNIST | ADAM, LR = 0.001 | SS LOGIC | LAYERS = (784,128) (128,64,10) | DIFF WEIGHT 1 | MAXSAT | 4 CLAUSES] Ru…"
      ]
     },
     "metadata": {},
     "output_type": "display_data"
    },
    {
     "data": {
      "application/vnd.jupyter.widget-view+json": {
       "model_id": "",
       "version_major": 2,
       "version_minor": 0
      },
      "text/plain": [
       "[MNIST | ADAM, LR = 0.001 | SS LOGIC | LAYERS = (784,128) (128,64,10) | DIFF WEIGHT 1 | MAXSAT | 4 CLAUSES] Ru…"
      ]
     },
     "metadata": {},
     "output_type": "display_data"
    },
    {
     "data": {
      "application/vnd.jupyter.widget-view+json": {
       "model_id": "",
       "version_major": 2,
       "version_minor": 0
      },
      "text/plain": [
       "[MNIST | ADAM, LR = 0.001 | SS LOGIC | LAYERS = (784,128) (128,64,10) | DIFF WEIGHT 1 | MAXSAT | 4 CLAUSES] Ru…"
      ]
     },
     "metadata": {},
     "output_type": "display_data"
    },
    {
     "data": {
      "application/vnd.jupyter.widget-view+json": {
       "model_id": "",
       "version_major": 2,
       "version_minor": 0
      },
      "text/plain": [
       "[MNIST | ADAM, LR = 0.001 | SS LOGIC | LAYERS = (784,128) (128,64,10) | DIFF WEIGHT 1 | MAXSAT | 4 CLAUSES] Ru…"
      ]
     },
     "metadata": {},
     "output_type": "display_data"
    },
    {
     "data": {
      "application/vnd.jupyter.widget-view+json": {
       "model_id": "",
       "version_major": 2,
       "version_minor": 0
      },
      "text/plain": [
       "[MNIST | ADAM, LR = 0.001 | SS LOGIC | LAYERS = (784,128) (128,64,10) | DIFF WEIGHT 1 | MAXSAT | 4 CLAUSES] Ru…"
      ]
     },
     "metadata": {},
     "output_type": "display_data"
    },
    {
     "data": {
      "application/vnd.jupyter.widget-view+json": {
       "model_id": "",
       "version_major": 2,
       "version_minor": 0
      },
      "text/plain": [
       "[MNIST | ADAM, LR = 0.001 | SS LOGIC | LAYERS = (784,128) (128,64,10) | DIFF WEIGHT 1 | MAXSAT | 4 CLAUSES] Ru…"
      ]
     },
     "metadata": {},
     "output_type": "display_data"
    },
    {
     "data": {
      "application/vnd.jupyter.widget-view+json": {
       "model_id": "",
       "version_major": 2,
       "version_minor": 0
      },
      "text/plain": [
       "[MNIST | ADAM, LR = 0.001 | SS LOGIC | LAYERS = (784,128) (128,64,10) | DIFF WEIGHT 1 | MAXSAT | 4 CLAUSES] Ru…"
      ]
     },
     "metadata": {},
     "output_type": "display_data"
    },
    {
     "data": {
      "application/vnd.jupyter.widget-view+json": {
       "model_id": "",
       "version_major": 2,
       "version_minor": 0
      },
      "text/plain": [
       "[MNIST | ADAM, LR = 0.001 | SS LOGIC | LAYERS = (784,128) (128,64,10) | DIFF WEIGHT 1 | MAXSAT | 4 CLAUSES] Ru…"
      ]
     },
     "metadata": {},
     "output_type": "display_data"
    },
    {
     "data": {
      "application/vnd.jupyter.widget-view+json": {
       "model_id": "",
       "version_major": 2,
       "version_minor": 0
      },
      "text/plain": [
       "[MNIST | ADAM, LR = 0.001 | SS LOGIC | LAYERS = (784,128) (128,64,10) | DIFF WEIGHT 1e-05 | MAXSAT | 4 CLAUSES…"
      ]
     },
     "metadata": {},
     "output_type": "display_data"
    },
    {
     "data": {
      "application/vnd.jupyter.widget-view+json": {
       "model_id": "",
       "version_major": 2,
       "version_minor": 0
      },
      "text/plain": [
       "[MNIST | ADAM, LR = 0.001 | SS LOGIC | LAYERS = (784,128) (128,64,10) | DIFF WEIGHT 1e-05 | MAXSAT | 4 CLAUSES…"
      ]
     },
     "metadata": {},
     "output_type": "display_data"
    },
    {
     "data": {
      "application/vnd.jupyter.widget-view+json": {
       "model_id": "",
       "version_major": 2,
       "version_minor": 0
      },
      "text/plain": [
       "[MNIST | ADAM, LR = 0.001 | SS LOGIC | LAYERS = (784,128) (128,64,10) | DIFF WEIGHT 1e-05 | MAXSAT | 4 CLAUSES…"
      ]
     },
     "metadata": {},
     "output_type": "display_data"
    },
    {
     "data": {
      "application/vnd.jupyter.widget-view+json": {
       "model_id": "",
       "version_major": 2,
       "version_minor": 0
      },
      "text/plain": [
       "[MNIST | ADAM, LR = 0.001 | SS LOGIC | LAYERS = (784,128) (128,64,10) | DIFF WEIGHT 1e-05 | MAXSAT | 4 CLAUSES…"
      ]
     },
     "metadata": {},
     "output_type": "display_data"
    },
    {
     "data": {
      "application/vnd.jupyter.widget-view+json": {
       "model_id": "",
       "version_major": 2,
       "version_minor": 0
      },
      "text/plain": [
       "[MNIST | ADAM, LR = 0.001 | SS LOGIC | LAYERS = (784,128) (128,64,10) | DIFF WEIGHT 1e-05 | MAXSAT | 4 CLAUSES…"
      ]
     },
     "metadata": {},
     "output_type": "display_data"
    },
    {
     "data": {
      "application/vnd.jupyter.widget-view+json": {
       "model_id": "",
       "version_major": 2,
       "version_minor": 0
      },
      "text/plain": [
       "[MNIST | ADAM, LR = 0.001 | SS LOGIC | LAYERS = (784,128) (128,64,10) | DIFF WEIGHT 1e-05 | MAXSAT | 4 CLAUSES…"
      ]
     },
     "metadata": {},
     "output_type": "display_data"
    },
    {
     "data": {
      "application/vnd.jupyter.widget-view+json": {
       "model_id": "",
       "version_major": 2,
       "version_minor": 0
      },
      "text/plain": [
       "[MNIST | ADAM, LR = 0.001 | SS LOGIC | LAYERS = (784,128) (128,64,10) | DIFF WEIGHT 1e-05 | MAXSAT | 4 CLAUSES…"
      ]
     },
     "metadata": {},
     "output_type": "display_data"
    },
    {
     "data": {
      "application/vnd.jupyter.widget-view+json": {
       "model_id": "",
       "version_major": 2,
       "version_minor": 0
      },
      "text/plain": [
       "[MNIST | ADAM, LR = 0.001 | SS LOGIC | LAYERS = (784,128) (128,64,10) | DIFF WEIGHT 1e-05 | MAXSAT | 4 CLAUSES…"
      ]
     },
     "metadata": {},
     "output_type": "display_data"
    },
    {
     "data": {
      "application/vnd.jupyter.widget-view+json": {
       "model_id": "",
       "version_major": 2,
       "version_minor": 0
      },
      "text/plain": [
       "[MNIST | ADAM, LR = 0.001 | SS LOGIC | LAYERS = (784,128) (128,64,10) | DIFF WEIGHT 0.001 | MAXSAT | 4 CLAUSES…"
      ]
     },
     "metadata": {},
     "output_type": "display_data"
    },
    {
     "data": {
      "application/vnd.jupyter.widget-view+json": {
       "model_id": "",
       "version_major": 2,
       "version_minor": 0
      },
      "text/plain": [
       "[MNIST | ADAM, LR = 0.001 | SS LOGIC | LAYERS = (784,128) (128,64,10) | DIFF WEIGHT 0.001 | MAXSAT | 4 CLAUSES…"
      ]
     },
     "metadata": {},
     "output_type": "display_data"
    },
    {
     "data": {
      "application/vnd.jupyter.widget-view+json": {
       "model_id": "",
       "version_major": 2,
       "version_minor": 0
      },
      "text/plain": [
       "[MNIST | ADAM, LR = 0.001 | SS LOGIC | LAYERS = (784,128) (128,64,10) | DIFF WEIGHT 0.001 | MAXSAT | 4 CLAUSES…"
      ]
     },
     "metadata": {},
     "output_type": "display_data"
    },
    {
     "data": {
      "application/vnd.jupyter.widget-view+json": {
       "model_id": "",
       "version_major": 2,
       "version_minor": 0
      },
      "text/plain": [
       "[MNIST | ADAM, LR = 0.001 | SS LOGIC | LAYERS = (784,128) (128,64,10) | DIFF WEIGHT 0.001 | MAXSAT | 4 CLAUSES…"
      ]
     },
     "metadata": {},
     "output_type": "display_data"
    },
    {
     "data": {
      "application/vnd.jupyter.widget-view+json": {
       "model_id": "",
       "version_major": 2,
       "version_minor": 0
      },
      "text/plain": [
       "[MNIST | ADAM, LR = 0.001 | SS LOGIC | LAYERS = (784,128) (128,64,10) | DIFF WEIGHT 0.001 | MAXSAT | 4 CLAUSES…"
      ]
     },
     "metadata": {},
     "output_type": "display_data"
    },
    {
     "data": {
      "application/vnd.jupyter.widget-view+json": {
       "model_id": "",
       "version_major": 2,
       "version_minor": 0
      },
      "text/plain": [
       "[MNIST | ADAM, LR = 0.001 | SS LOGIC | LAYERS = (784,128) (128,64,10) | DIFF WEIGHT 0.001 | MAXSAT | 4 CLAUSES…"
      ]
     },
     "metadata": {},
     "output_type": "display_data"
    },
    {
     "data": {
      "application/vnd.jupyter.widget-view+json": {
       "model_id": "",
       "version_major": 2,
       "version_minor": 0
      },
      "text/plain": [
       "[MNIST | ADAM, LR = 0.001 | SS LOGIC | LAYERS = (784,128) (128,64,10) | DIFF WEIGHT 0.001 | MAXSAT | 4 CLAUSES…"
      ]
     },
     "metadata": {},
     "output_type": "display_data"
    },
    {
     "data": {
      "application/vnd.jupyter.widget-view+json": {
       "model_id": "",
       "version_major": 2,
       "version_minor": 0
      },
      "text/plain": [
       "[MNIST | ADAM, LR = 0.001 | SS LOGIC | LAYERS = (784,128) (128,64,10) | DIFF WEIGHT 0.001 | MAXSAT | 4 CLAUSES…"
      ]
     },
     "metadata": {},
     "output_type": "display_data"
    },
    {
     "data": {
      "application/vnd.jupyter.widget-view+json": {
       "model_id": "",
       "version_major": 2,
       "version_minor": 0
      },
      "text/plain": [
       "[MNIST | ADAM, LR = 0.001 | SS LOGIC | LAYERS = (784,128) (128,64,10) | DIFF WEIGHT 1 | MAXSAT | 4 CLAUSES] Ru…"
      ]
     },
     "metadata": {},
     "output_type": "display_data"
    },
    {
     "data": {
      "application/vnd.jupyter.widget-view+json": {
       "model_id": "",
       "version_major": 2,
       "version_minor": 0
      },
      "text/plain": [
       "[MNIST | ADAM, LR = 0.001 | SS LOGIC | LAYERS = (784,128) (128,64,10) | DIFF WEIGHT 1 | MAXSAT | 4 CLAUSES] Ru…"
      ]
     },
     "metadata": {},
     "output_type": "display_data"
    },
    {
     "data": {
      "application/vnd.jupyter.widget-view+json": {
       "model_id": "",
       "version_major": 2,
       "version_minor": 0
      },
      "text/plain": [
       "[MNIST | ADAM, LR = 0.001 | SS LOGIC | LAYERS = (784,128) (128,64,10) | DIFF WEIGHT 1 | MAXSAT | 4 CLAUSES] Ru…"
      ]
     },
     "metadata": {},
     "output_type": "display_data"
    },
    {
     "data": {
      "application/vnd.jupyter.widget-view+json": {
       "model_id": "",
       "version_major": 2,
       "version_minor": 0
      },
      "text/plain": [
       "[MNIST | ADAM, LR = 0.001 | SS LOGIC | LAYERS = (784,128) (128,64,10) | DIFF WEIGHT 1 | MAXSAT | 4 CLAUSES] Ru…"
      ]
     },
     "metadata": {},
     "output_type": "display_data"
    },
    {
     "data": {
      "application/vnd.jupyter.widget-view+json": {
       "model_id": "",
       "version_major": 2,
       "version_minor": 0
      },
      "text/plain": [
       "[MNIST | ADAM, LR = 0.001 | SS LOGIC | LAYERS = (784,128) (128,64,10) | DIFF WEIGHT 1 | MAXSAT | 4 CLAUSES] Ru…"
      ]
     },
     "metadata": {},
     "output_type": "display_data"
    },
    {
     "data": {
      "application/vnd.jupyter.widget-view+json": {
       "model_id": "",
       "version_major": 2,
       "version_minor": 0
      },
      "text/plain": [
       "[MNIST | ADAM, LR = 0.001 | SS LOGIC | LAYERS = (784,128) (128,64,10) | DIFF WEIGHT 1 | MAXSAT | 4 CLAUSES] Ru…"
      ]
     },
     "metadata": {},
     "output_type": "display_data"
    },
    {
     "data": {
      "application/vnd.jupyter.widget-view+json": {
       "model_id": "",
       "version_major": 2,
       "version_minor": 0
      },
      "text/plain": [
       "[MNIST | ADAM, LR = 0.001 | SS LOGIC | LAYERS = (784,128) (128,64,10) | DIFF WEIGHT 1 | MAXSAT | 4 CLAUSES] Ru…"
      ]
     },
     "metadata": {},
     "output_type": "display_data"
    },
    {
     "data": {
      "application/vnd.jupyter.widget-view+json": {
       "model_id": "",
       "version_major": 2,
       "version_minor": 0
      },
      "text/plain": [
       "[MNIST | ADAM, LR = 0.001 | SS LOGIC | LAYERS = (784,128) (128,64,10) | DIFF WEIGHT 1 | MAXSAT | 4 CLAUSES] Ru…"
      ]
     },
     "metadata": {},
     "output_type": "display_data"
    },
    {
     "data": {
      "application/vnd.jupyter.widget-view+json": {
       "model_id": "",
       "version_major": 2,
       "version_minor": 0
      },
      "text/plain": [
       "[MNIST | ADAM, LR = 0.001 | SS LOGIC | LAYERS = (784,128) (128,64,10) | DIFF WEIGHT 1e-05 | MAXSAT | 4 CLAUSES…"
      ]
     },
     "metadata": {},
     "output_type": "display_data"
    },
    {
     "data": {
      "application/vnd.jupyter.widget-view+json": {
       "model_id": "",
       "version_major": 2,
       "version_minor": 0
      },
      "text/plain": [
       "[MNIST | ADAM, LR = 0.001 | SS LOGIC | LAYERS = (784,128) (128,64,10) | DIFF WEIGHT 1e-05 | MAXSAT | 4 CLAUSES…"
      ]
     },
     "metadata": {},
     "output_type": "display_data"
    },
    {
     "data": {
      "application/vnd.jupyter.widget-view+json": {
       "model_id": "",
       "version_major": 2,
       "version_minor": 0
      },
      "text/plain": [
       "[MNIST | ADAM, LR = 0.001 | SS LOGIC | LAYERS = (784,128) (128,64,10) | DIFF WEIGHT 1e-05 | MAXSAT | 4 CLAUSES…"
      ]
     },
     "metadata": {},
     "output_type": "display_data"
    },
    {
     "data": {
      "application/vnd.jupyter.widget-view+json": {
       "model_id": "",
       "version_major": 2,
       "version_minor": 0
      },
      "text/plain": [
       "[MNIST | ADAM, LR = 0.001 | SS LOGIC | LAYERS = (784,128) (128,64,10) | DIFF WEIGHT 1e-05 | MAXSAT | 4 CLAUSES…"
      ]
     },
     "metadata": {},
     "output_type": "display_data"
    },
    {
     "data": {
      "application/vnd.jupyter.widget-view+json": {
       "model_id": "",
       "version_major": 2,
       "version_minor": 0
      },
      "text/plain": [
       "[MNIST | ADAM, LR = 0.001 | SS LOGIC | LAYERS = (784,128) (128,64,10) | DIFF WEIGHT 1e-05 | MAXSAT | 4 CLAUSES…"
      ]
     },
     "metadata": {},
     "output_type": "display_data"
    },
    {
     "data": {
      "application/vnd.jupyter.widget-view+json": {
       "model_id": "",
       "version_major": 2,
       "version_minor": 0
      },
      "text/plain": [
       "[MNIST | ADAM, LR = 0.001 | SS LOGIC | LAYERS = (784,128) (128,64,10) | DIFF WEIGHT 1e-05 | MAXSAT | 4 CLAUSES…"
      ]
     },
     "metadata": {},
     "output_type": "display_data"
    },
    {
     "data": {
      "application/vnd.jupyter.widget-view+json": {
       "model_id": "",
       "version_major": 2,
       "version_minor": 0
      },
      "text/plain": [
       "[MNIST | ADAM, LR = 0.001 | SS LOGIC | LAYERS = (784,128) (128,64,10) | DIFF WEIGHT 1e-05 | MAXSAT | 4 CLAUSES…"
      ]
     },
     "metadata": {},
     "output_type": "display_data"
    },
    {
     "data": {
      "application/vnd.jupyter.widget-view+json": {
       "model_id": "",
       "version_major": 2,
       "version_minor": 0
      },
      "text/plain": [
       "[MNIST | ADAM, LR = 0.001 | SS LOGIC | LAYERS = (784,128) (128,64,10) | DIFF WEIGHT 1e-05 | MAXSAT | 4 CLAUSES…"
      ]
     },
     "metadata": {},
     "output_type": "display_data"
    },
    {
     "data": {
      "application/vnd.jupyter.widget-view+json": {
       "model_id": "",
       "version_major": 2,
       "version_minor": 0
      },
      "text/plain": [
       "[MNIST | ADAM, LR = 0.001 | SS LOGIC | LAYERS = (784,128) (128,64,10) | DIFF WEIGHT 0.001 | MAXSAT | 4 CLAUSES…"
      ]
     },
     "metadata": {},
     "output_type": "display_data"
    },
    {
     "data": {
      "application/vnd.jupyter.widget-view+json": {
       "model_id": "",
       "version_major": 2,
       "version_minor": 0
      },
      "text/plain": [
       "[MNIST | ADAM, LR = 0.001 | SS LOGIC | LAYERS = (784,128) (128,64,10) | DIFF WEIGHT 0.001 | MAXSAT | 4 CLAUSES…"
      ]
     },
     "metadata": {},
     "output_type": "display_data"
    },
    {
     "data": {
      "application/vnd.jupyter.widget-view+json": {
       "model_id": "",
       "version_major": 2,
       "version_minor": 0
      },
      "text/plain": [
       "[MNIST | ADAM, LR = 0.001 | SS LOGIC | LAYERS = (784,128) (128,64,10) | DIFF WEIGHT 0.001 | MAXSAT | 4 CLAUSES…"
      ]
     },
     "metadata": {},
     "output_type": "display_data"
    },
    {
     "data": {
      "application/vnd.jupyter.widget-view+json": {
       "model_id": "",
       "version_major": 2,
       "version_minor": 0
      },
      "text/plain": [
       "[MNIST | ADAM, LR = 0.001 | SS LOGIC | LAYERS = (784,128) (128,64,10) | DIFF WEIGHT 0.001 | MAXSAT | 4 CLAUSES…"
      ]
     },
     "metadata": {},
     "output_type": "display_data"
    },
    {
     "data": {
      "application/vnd.jupyter.widget-view+json": {
       "model_id": "",
       "version_major": 2,
       "version_minor": 0
      },
      "text/plain": [
       "[MNIST | ADAM, LR = 0.001 | SS LOGIC | LAYERS = (784,128) (128,64,10) | DIFF WEIGHT 0.001 | MAXSAT | 4 CLAUSES…"
      ]
     },
     "metadata": {},
     "output_type": "display_data"
    },
    {
     "data": {
      "application/vnd.jupyter.widget-view+json": {
       "model_id": "",
       "version_major": 2,
       "version_minor": 0
      },
      "text/plain": [
       "[MNIST | ADAM, LR = 0.001 | SS LOGIC | LAYERS = (784,128) (128,64,10) | DIFF WEIGHT 0.001 | MAXSAT | 4 CLAUSES…"
      ]
     },
     "metadata": {},
     "output_type": "display_data"
    },
    {
     "data": {
      "application/vnd.jupyter.widget-view+json": {
       "model_id": "",
       "version_major": 2,
       "version_minor": 0
      },
      "text/plain": [
       "[MNIST | ADAM, LR = 0.001 | SS LOGIC | LAYERS = (784,128) (128,64,10) | DIFF WEIGHT 0.001 | MAXSAT | 4 CLAUSES…"
      ]
     },
     "metadata": {},
     "output_type": "display_data"
    },
    {
     "data": {
      "application/vnd.jupyter.widget-view+json": {
       "model_id": "",
       "version_major": 2,
       "version_minor": 0
      },
      "text/plain": [
       "[MNIST | ADAM, LR = 0.001 | SS LOGIC | LAYERS = (784,128) (128,64,10) | DIFF WEIGHT 0.001 | MAXSAT | 4 CLAUSES…"
      ]
     },
     "metadata": {},
     "output_type": "display_data"
    },
    {
     "data": {
      "application/vnd.jupyter.widget-view+json": {
       "model_id": "",
       "version_major": 2,
       "version_minor": 0
      },
      "text/plain": [
       "[MNIST | ADAM, LR = 0.001 | SS LOGIC | LAYERS = (784,128) (128,64,10) | DIFF WEIGHT 1 | MAXSAT | 4 CLAUSES] Ru…"
      ]
     },
     "metadata": {},
     "output_type": "display_data"
    },
    {
     "data": {
      "application/vnd.jupyter.widget-view+json": {
       "model_id": "",
       "version_major": 2,
       "version_minor": 0
      },
      "text/plain": [
       "[MNIST | ADAM, LR = 0.001 | SS LOGIC | LAYERS = (784,128) (128,64,10) | DIFF WEIGHT 1 | MAXSAT | 4 CLAUSES] Ru…"
      ]
     },
     "metadata": {},
     "output_type": "display_data"
    },
    {
     "data": {
      "application/vnd.jupyter.widget-view+json": {
       "model_id": "",
       "version_major": 2,
       "version_minor": 0
      },
      "text/plain": [
       "[MNIST | ADAM, LR = 0.001 | SS LOGIC | LAYERS = (784,128) (128,64,10) | DIFF WEIGHT 1 | MAXSAT | 4 CLAUSES] Ru…"
      ]
     },
     "metadata": {},
     "output_type": "display_data"
    },
    {
     "data": {
      "application/vnd.jupyter.widget-view+json": {
       "model_id": "",
       "version_major": 2,
       "version_minor": 0
      },
      "text/plain": [
       "[MNIST | ADAM, LR = 0.001 | SS LOGIC | LAYERS = (784,128) (128,64,10) | DIFF WEIGHT 1 | MAXSAT | 4 CLAUSES] Ru…"
      ]
     },
     "metadata": {},
     "output_type": "display_data"
    },
    {
     "data": {
      "application/vnd.jupyter.widget-view+json": {
       "model_id": "",
       "version_major": 2,
       "version_minor": 0
      },
      "text/plain": [
       "[MNIST | ADAM, LR = 0.001 | SS LOGIC | LAYERS = (784,128) (128,64,10) | DIFF WEIGHT 1 | MAXSAT | 4 CLAUSES] Ru…"
      ]
     },
     "metadata": {},
     "output_type": "display_data"
    },
    {
     "data": {
      "application/vnd.jupyter.widget-view+json": {
       "model_id": "",
       "version_major": 2,
       "version_minor": 0
      },
      "text/plain": [
       "[MNIST | ADAM, LR = 0.001 | SS LOGIC | LAYERS = (784,128) (128,64,10) | DIFF WEIGHT 1 | MAXSAT | 4 CLAUSES] Ru…"
      ]
     },
     "metadata": {},
     "output_type": "display_data"
    },
    {
     "data": {
      "application/vnd.jupyter.widget-view+json": {
       "model_id": "",
       "version_major": 2,
       "version_minor": 0
      },
      "text/plain": [
       "[MNIST | ADAM, LR = 0.001 | SS LOGIC | LAYERS = (784,128) (128,64,10) | DIFF WEIGHT 1 | MAXSAT | 4 CLAUSES] Ru…"
      ]
     },
     "metadata": {},
     "output_type": "display_data"
    },
    {
     "data": {
      "application/vnd.jupyter.widget-view+json": {
       "model_id": "",
       "version_major": 2,
       "version_minor": 0
      },
      "text/plain": [
       "[MNIST | ADAM, LR = 0.001 | SS LOGIC | LAYERS = (784,128) (128,64,10) | DIFF WEIGHT 1 | MAXSAT | 4 CLAUSES] Ru…"
      ]
     },
     "metadata": {},
     "output_type": "display_data"
    },
    {
     "data": {
      "application/vnd.jupyter.widget-view+json": {
       "model_id": "",
       "version_major": 2,
       "version_minor": 0
      },
      "text/plain": [
       "[MNIST | ADAM, LR = 0.001 | SS LOGIC | LAYERS = (784,128) (128,64,10) | DIFF WEIGHT 1e-05 | MAXSAT | 4 CLAUSES…"
      ]
     },
     "metadata": {},
     "output_type": "display_data"
    },
    {
     "data": {
      "application/vnd.jupyter.widget-view+json": {
       "model_id": "",
       "version_major": 2,
       "version_minor": 0
      },
      "text/plain": [
       "[MNIST | ADAM, LR = 0.001 | SS LOGIC | LAYERS = (784,128) (128,64,10) | DIFF WEIGHT 1e-05 | MAXSAT | 4 CLAUSES…"
      ]
     },
     "metadata": {},
     "output_type": "display_data"
    },
    {
     "data": {
      "application/vnd.jupyter.widget-view+json": {
       "model_id": "",
       "version_major": 2,
       "version_minor": 0
      },
      "text/plain": [
       "[MNIST | ADAM, LR = 0.001 | SS LOGIC | LAYERS = (784,128) (128,64,10) | DIFF WEIGHT 1e-05 | MAXSAT | 4 CLAUSES…"
      ]
     },
     "metadata": {},
     "output_type": "display_data"
    },
    {
     "data": {
      "application/vnd.jupyter.widget-view+json": {
       "model_id": "",
       "version_major": 2,
       "version_minor": 0
      },
      "text/plain": [
       "[MNIST | ADAM, LR = 0.001 | SS LOGIC | LAYERS = (784,128) (128,64,10) | DIFF WEIGHT 1e-05 | MAXSAT | 4 CLAUSES…"
      ]
     },
     "metadata": {},
     "output_type": "display_data"
    },
    {
     "data": {
      "application/vnd.jupyter.widget-view+json": {
       "model_id": "",
       "version_major": 2,
       "version_minor": 0
      },
      "text/plain": [
       "[MNIST | ADAM, LR = 0.001 | SS LOGIC | LAYERS = (784,128) (128,64,10) | DIFF WEIGHT 1e-05 | MAXSAT | 4 CLAUSES…"
      ]
     },
     "metadata": {},
     "output_type": "display_data"
    },
    {
     "data": {
      "application/vnd.jupyter.widget-view+json": {
       "model_id": "",
       "version_major": 2,
       "version_minor": 0
      },
      "text/plain": [
       "[MNIST | ADAM, LR = 0.001 | SS LOGIC | LAYERS = (784,128) (128,64,10) | DIFF WEIGHT 1e-05 | MAXSAT | 4 CLAUSES…"
      ]
     },
     "metadata": {},
     "output_type": "display_data"
    },
    {
     "data": {
      "application/vnd.jupyter.widget-view+json": {
       "model_id": "",
       "version_major": 2,
       "version_minor": 0
      },
      "text/plain": [
       "[MNIST | ADAM, LR = 0.001 | SS LOGIC | LAYERS = (784,128) (128,64,10) | DIFF WEIGHT 1e-05 | MAXSAT | 4 CLAUSES…"
      ]
     },
     "metadata": {},
     "output_type": "display_data"
    },
    {
     "data": {
      "application/vnd.jupyter.widget-view+json": {
       "model_id": "",
       "version_major": 2,
       "version_minor": 0
      },
      "text/plain": [
       "[MNIST | ADAM, LR = 0.001 | SS LOGIC | LAYERS = (784,128) (128,64,10) | DIFF WEIGHT 1e-05 | MAXSAT | 4 CLAUSES…"
      ]
     },
     "metadata": {},
     "output_type": "display_data"
    },
    {
     "data": {
      "application/vnd.jupyter.widget-view+json": {
       "model_id": "",
       "version_major": 2,
       "version_minor": 0
      },
      "text/plain": [
       "[MNIST | ADAM, LR = 0.001 | SS LOGIC | LAYERS = (784,128) (128,64,10) | DIFF WEIGHT 0.001 | MAXSAT | 4 CLAUSES…"
      ]
     },
     "metadata": {},
     "output_type": "display_data"
    },
    {
     "data": {
      "application/vnd.jupyter.widget-view+json": {
       "model_id": "",
       "version_major": 2,
       "version_minor": 0
      },
      "text/plain": [
       "[MNIST | ADAM, LR = 0.001 | SS LOGIC | LAYERS = (784,128) (128,64,10) | DIFF WEIGHT 0.001 | MAXSAT | 4 CLAUSES…"
      ]
     },
     "metadata": {},
     "output_type": "display_data"
    },
    {
     "data": {
      "application/vnd.jupyter.widget-view+json": {
       "model_id": "",
       "version_major": 2,
       "version_minor": 0
      },
      "text/plain": [
       "[MNIST | ADAM, LR = 0.001 | SS LOGIC | LAYERS = (784,128) (128,64,10) | DIFF WEIGHT 0.001 | MAXSAT | 4 CLAUSES…"
      ]
     },
     "metadata": {},
     "output_type": "display_data"
    },
    {
     "data": {
      "application/vnd.jupyter.widget-view+json": {
       "model_id": "",
       "version_major": 2,
       "version_minor": 0
      },
      "text/plain": [
       "[MNIST | ADAM, LR = 0.001 | SS LOGIC | LAYERS = (784,128) (128,64,10) | DIFF WEIGHT 0.001 | MAXSAT | 4 CLAUSES…"
      ]
     },
     "metadata": {},
     "output_type": "display_data"
    },
    {
     "data": {
      "application/vnd.jupyter.widget-view+json": {
       "model_id": "",
       "version_major": 2,
       "version_minor": 0
      },
      "text/plain": [
       "[MNIST | ADAM, LR = 0.001 | SS LOGIC | LAYERS = (784,128) (128,64,10) | DIFF WEIGHT 0.001 | MAXSAT | 4 CLAUSES…"
      ]
     },
     "metadata": {},
     "output_type": "display_data"
    },
    {
     "data": {
      "application/vnd.jupyter.widget-view+json": {
       "model_id": "",
       "version_major": 2,
       "version_minor": 0
      },
      "text/plain": [
       "[MNIST | ADAM, LR = 0.001 | SS LOGIC | LAYERS = (784,128) (128,64,10) | DIFF WEIGHT 0.001 | MAXSAT | 4 CLAUSES…"
      ]
     },
     "metadata": {},
     "output_type": "display_data"
    },
    {
     "data": {
      "application/vnd.jupyter.widget-view+json": {
       "model_id": "",
       "version_major": 2,
       "version_minor": 0
      },
      "text/plain": [
       "[MNIST | ADAM, LR = 0.001 | SS LOGIC | LAYERS = (784,128) (128,64,10) | DIFF WEIGHT 0.001 | MAXSAT | 4 CLAUSES…"
      ]
     },
     "metadata": {},
     "output_type": "display_data"
    },
    {
     "data": {
      "application/vnd.jupyter.widget-view+json": {
       "model_id": "",
       "version_major": 2,
       "version_minor": 0
      },
      "text/plain": [
       "[MNIST | ADAM, LR = 0.001 | SS LOGIC | LAYERS = (784,128) (128,64,10) | DIFF WEIGHT 0.001 | MAXSAT | 4 CLAUSES…"
      ]
     },
     "metadata": {},
     "output_type": "display_data"
    },
    {
     "data": {
      "application/vnd.jupyter.widget-view+json": {
       "model_id": "",
       "version_major": 2,
       "version_minor": 0
      },
      "text/plain": [
       "[MNIST | ADAM, LR = 0.001 | SS LOGIC | LAYERS = (784,128) (128,64,10) | DIFF WEIGHT 1 | MAXSAT | 4 CLAUSES] Ru…"
      ]
     },
     "metadata": {},
     "output_type": "display_data"
    },
    {
     "data": {
      "application/vnd.jupyter.widget-view+json": {
       "model_id": "",
       "version_major": 2,
       "version_minor": 0
      },
      "text/plain": [
       "[MNIST | ADAM, LR = 0.001 | SS LOGIC | LAYERS = (784,128) (128,64,10) | DIFF WEIGHT 1 | MAXSAT | 4 CLAUSES] Ru…"
      ]
     },
     "metadata": {},
     "output_type": "display_data"
    },
    {
     "data": {
      "application/vnd.jupyter.widget-view+json": {
       "model_id": "",
       "version_major": 2,
       "version_minor": 0
      },
      "text/plain": [
       "[MNIST | ADAM, LR = 0.001 | SS LOGIC | LAYERS = (784,128) (128,64,10) | DIFF WEIGHT 1 | MAXSAT | 4 CLAUSES] Ru…"
      ]
     },
     "metadata": {},
     "output_type": "display_data"
    },
    {
     "data": {
      "application/vnd.jupyter.widget-view+json": {
       "model_id": "",
       "version_major": 2,
       "version_minor": 0
      },
      "text/plain": [
       "[MNIST | ADAM, LR = 0.001 | SS LOGIC | LAYERS = (784,128) (128,64,10) | DIFF WEIGHT 1 | MAXSAT | 4 CLAUSES] Ru…"
      ]
     },
     "metadata": {},
     "output_type": "display_data"
    },
    {
     "data": {
      "application/vnd.jupyter.widget-view+json": {
       "model_id": "",
       "version_major": 2,
       "version_minor": 0
      },
      "text/plain": [
       "[MNIST | ADAM, LR = 0.001 | SS LOGIC | LAYERS = (784,128) (128,64,10) | DIFF WEIGHT 1 | MAXSAT | 4 CLAUSES] Ru…"
      ]
     },
     "metadata": {},
     "output_type": "display_data"
    },
    {
     "data": {
      "application/vnd.jupyter.widget-view+json": {
       "model_id": "",
       "version_major": 2,
       "version_minor": 0
      },
      "text/plain": [
       "[MNIST | ADAM, LR = 0.001 | SS LOGIC | LAYERS = (784,128) (128,64,10) | DIFF WEIGHT 1 | MAXSAT | 4 CLAUSES] Ru…"
      ]
     },
     "metadata": {},
     "output_type": "display_data"
    },
    {
     "data": {
      "application/vnd.jupyter.widget-view+json": {
       "model_id": "",
       "version_major": 2,
       "version_minor": 0
      },
      "text/plain": [
       "[MNIST | ADAM, LR = 0.001 | SS LOGIC | LAYERS = (784,128) (128,64,10) | DIFF WEIGHT 1 | MAXSAT | 4 CLAUSES] Ru…"
      ]
     },
     "metadata": {},
     "output_type": "display_data"
    },
    {
     "data": {
      "application/vnd.jupyter.widget-view+json": {
       "model_id": "",
       "version_major": 2,
       "version_minor": 0
      },
      "text/plain": [
       "[MNIST | ADAM, LR = 0.001 | SS LOGIC | LAYERS = (784,128) (128,64,10) | DIFF WEIGHT 1 | MAXSAT | 4 CLAUSES] Ru…"
      ]
     },
     "metadata": {},
     "output_type": "display_data"
    },
    {
     "data": {
      "application/vnd.jupyter.widget-view+json": {
       "model_id": "",
       "version_major": 2,
       "version_minor": 0
      },
      "text/plain": [
       "[MNIST | ADAM, LR = 0.001 | SS LOGIC | LAYERS = (784,128) (128,64,10) | DIFF WEIGHT 1e-05 | MAXSAT | 4 CLAUSES…"
      ]
     },
     "metadata": {},
     "output_type": "display_data"
    },
    {
     "data": {
      "application/vnd.jupyter.widget-view+json": {
       "model_id": "",
       "version_major": 2,
       "version_minor": 0
      },
      "text/plain": [
       "[MNIST | ADAM, LR = 0.001 | SS LOGIC | LAYERS = (784,128) (128,64,10) | DIFF WEIGHT 1e-05 | MAXSAT | 4 CLAUSES…"
      ]
     },
     "metadata": {},
     "output_type": "display_data"
    },
    {
     "data": {
      "application/vnd.jupyter.widget-view+json": {
       "model_id": "",
       "version_major": 2,
       "version_minor": 0
      },
      "text/plain": [
       "[MNIST | ADAM, LR = 0.001 | SS LOGIC | LAYERS = (784,128) (128,64,10) | DIFF WEIGHT 1e-05 | MAXSAT | 4 CLAUSES…"
      ]
     },
     "metadata": {},
     "output_type": "display_data"
    },
    {
     "data": {
      "application/vnd.jupyter.widget-view+json": {
       "model_id": "",
       "version_major": 2,
       "version_minor": 0
      },
      "text/plain": [
       "[MNIST | ADAM, LR = 0.001 | SS LOGIC | LAYERS = (784,128) (128,64,10) | DIFF WEIGHT 1e-05 | MAXSAT | 4 CLAUSES…"
      ]
     },
     "metadata": {},
     "output_type": "display_data"
    },
    {
     "data": {
      "application/vnd.jupyter.widget-view+json": {
       "model_id": "",
       "version_major": 2,
       "version_minor": 0
      },
      "text/plain": [
       "[MNIST | ADAM, LR = 0.001 | SS LOGIC | LAYERS = (784,128) (128,64,10) | DIFF WEIGHT 1e-05 | MAXSAT | 4 CLAUSES…"
      ]
     },
     "metadata": {},
     "output_type": "display_data"
    },
    {
     "data": {
      "application/vnd.jupyter.widget-view+json": {
       "model_id": "",
       "version_major": 2,
       "version_minor": 0
      },
      "text/plain": [
       "[MNIST | ADAM, LR = 0.001 | SS LOGIC | LAYERS = (784,128) (128,64,10) | DIFF WEIGHT 1e-05 | MAXSAT | 4 CLAUSES…"
      ]
     },
     "metadata": {},
     "output_type": "display_data"
    },
    {
     "data": {
      "application/vnd.jupyter.widget-view+json": {
       "model_id": "",
       "version_major": 2,
       "version_minor": 0
      },
      "text/plain": [
       "[MNIST | ADAM, LR = 0.001 | SS LOGIC | LAYERS = (784,128) (128,64,10) | DIFF WEIGHT 1e-05 | MAXSAT | 4 CLAUSES…"
      ]
     },
     "metadata": {},
     "output_type": "display_data"
    },
    {
     "data": {
      "application/vnd.jupyter.widget-view+json": {
       "model_id": "",
       "version_major": 2,
       "version_minor": 0
      },
      "text/plain": [
       "[MNIST | ADAM, LR = 0.001 | SS LOGIC | LAYERS = (784,128) (128,64,10) | DIFF WEIGHT 1e-05 | MAXSAT | 4 CLAUSES…"
      ]
     },
     "metadata": {},
     "output_type": "display_data"
    },
    {
     "data": {
      "application/vnd.jupyter.widget-view+json": {
       "model_id": "",
       "version_major": 2,
       "version_minor": 0
      },
      "text/plain": [
       "[MNIST | ADAM, LR = 0.001 | SS LOGIC | LAYERS = (784,128) (128,64,10) | DIFF WEIGHT 0.001 | MAXSAT | 4 CLAUSES…"
      ]
     },
     "metadata": {},
     "output_type": "display_data"
    },
    {
     "data": {
      "application/vnd.jupyter.widget-view+json": {
       "model_id": "",
       "version_major": 2,
       "version_minor": 0
      },
      "text/plain": [
       "[MNIST | ADAM, LR = 0.001 | SS LOGIC | LAYERS = (784,128) (128,64,10) | DIFF WEIGHT 0.001 | MAXSAT | 4 CLAUSES…"
      ]
     },
     "metadata": {},
     "output_type": "display_data"
    },
    {
     "data": {
      "application/vnd.jupyter.widget-view+json": {
       "model_id": "",
       "version_major": 2,
       "version_minor": 0
      },
      "text/plain": [
       "[MNIST | ADAM, LR = 0.001 | SS LOGIC | LAYERS = (784,128) (128,64,10) | DIFF WEIGHT 0.001 | MAXSAT | 4 CLAUSES…"
      ]
     },
     "metadata": {},
     "output_type": "display_data"
    },
    {
     "data": {
      "application/vnd.jupyter.widget-view+json": {
       "model_id": "",
       "version_major": 2,
       "version_minor": 0
      },
      "text/plain": [
       "[MNIST | ADAM, LR = 0.001 | SS LOGIC | LAYERS = (784,128) (128,64,10) | DIFF WEIGHT 0.001 | MAXSAT | 4 CLAUSES…"
      ]
     },
     "metadata": {},
     "output_type": "display_data"
    },
    {
     "data": {
      "application/vnd.jupyter.widget-view+json": {
       "model_id": "",
       "version_major": 2,
       "version_minor": 0
      },
      "text/plain": [
       "[MNIST | ADAM, LR = 0.001 | SS LOGIC | LAYERS = (784,128) (128,64,10) | DIFF WEIGHT 0.001 | MAXSAT | 4 CLAUSES…"
      ]
     },
     "metadata": {},
     "output_type": "display_data"
    },
    {
     "data": {
      "application/vnd.jupyter.widget-view+json": {
       "model_id": "",
       "version_major": 2,
       "version_minor": 0
      },
      "text/plain": [
       "[MNIST | ADAM, LR = 0.001 | SS LOGIC | LAYERS = (784,128) (128,64,10) | DIFF WEIGHT 0.001 | MAXSAT | 4 CLAUSES…"
      ]
     },
     "metadata": {},
     "output_type": "display_data"
    },
    {
     "data": {
      "application/vnd.jupyter.widget-view+json": {
       "model_id": "",
       "version_major": 2,
       "version_minor": 0
      },
      "text/plain": [
       "[MNIST | ADAM, LR = 0.001 | SS LOGIC | LAYERS = (784,128) (128,64,10) | DIFF WEIGHT 0.001 | MAXSAT | 4 CLAUSES…"
      ]
     },
     "metadata": {},
     "output_type": "display_data"
    },
    {
     "data": {
      "application/vnd.jupyter.widget-view+json": {
       "model_id": "",
       "version_major": 2,
       "version_minor": 0
      },
      "text/plain": [
       "[MNIST | ADAM, LR = 0.001 | SS LOGIC | LAYERS = (784,128) (128,64,10) | DIFF WEIGHT 0.001 | MAXSAT | 4 CLAUSES…"
      ]
     },
     "metadata": {},
     "output_type": "display_data"
    },
    {
     "data": {
      "application/vnd.jupyter.widget-view+json": {
       "model_id": "",
       "version_major": 2,
       "version_minor": 0
      },
      "text/plain": [
       "[MNIST | ADAM, LR = 0.001 | SS LOGIC | LAYERS = (784,128) (128,64,10) | DIFF WEIGHT 1 | MAXSAT | 4 CLAUSES] Ru…"
      ]
     },
     "metadata": {},
     "output_type": "display_data"
    },
    {
     "data": {
      "application/vnd.jupyter.widget-view+json": {
       "model_id": "",
       "version_major": 2,
       "version_minor": 0
      },
      "text/plain": [
       "[MNIST | ADAM, LR = 0.001 | SS LOGIC | LAYERS = (784,128) (128,64,10) | DIFF WEIGHT 1 | MAXSAT | 4 CLAUSES] Ru…"
      ]
     },
     "metadata": {},
     "output_type": "display_data"
    },
    {
     "data": {
      "application/vnd.jupyter.widget-view+json": {
       "model_id": "",
       "version_major": 2,
       "version_minor": 0
      },
      "text/plain": [
       "[MNIST | ADAM, LR = 0.001 | SS LOGIC | LAYERS = (784,128) (128,64,10) | DIFF WEIGHT 1 | MAXSAT | 4 CLAUSES] Ru…"
      ]
     },
     "metadata": {},
     "output_type": "display_data"
    },
    {
     "data": {
      "application/vnd.jupyter.widget-view+json": {
       "model_id": "",
       "version_major": 2,
       "version_minor": 0
      },
      "text/plain": [
       "[MNIST | ADAM, LR = 0.001 | SS LOGIC | LAYERS = (784,128) (128,64,10) | DIFF WEIGHT 1 | MAXSAT | 4 CLAUSES] Ru…"
      ]
     },
     "metadata": {},
     "output_type": "display_data"
    },
    {
     "data": {
      "application/vnd.jupyter.widget-view+json": {
       "model_id": "",
       "version_major": 2,
       "version_minor": 0
      },
      "text/plain": [
       "[MNIST | ADAM, LR = 0.001 | SS LOGIC | LAYERS = (784,128) (128,64,10) | DIFF WEIGHT 1 | MAXSAT | 4 CLAUSES] Ru…"
      ]
     },
     "metadata": {},
     "output_type": "display_data"
    },
    {
     "data": {
      "application/vnd.jupyter.widget-view+json": {
       "model_id": "",
       "version_major": 2,
       "version_minor": 0
      },
      "text/plain": [
       "[MNIST | ADAM, LR = 0.001 | SS LOGIC | LAYERS = (784,128) (128,64,10) | DIFF WEIGHT 1 | MAXSAT | 4 CLAUSES] Ru…"
      ]
     },
     "metadata": {},
     "output_type": "display_data"
    },
    {
     "data": {
      "application/vnd.jupyter.widget-view+json": {
       "model_id": "",
       "version_major": 2,
       "version_minor": 0
      },
      "text/plain": [
       "[MNIST | ADAM, LR = 0.001 | SS LOGIC | LAYERS = (784,128) (128,64,10) | DIFF WEIGHT 1 | MAXSAT | 4 CLAUSES] Ru…"
      ]
     },
     "metadata": {},
     "output_type": "display_data"
    },
    {
     "data": {
      "application/vnd.jupyter.widget-view+json": {
       "model_id": "",
       "version_major": 2,
       "version_minor": 0
      },
      "text/plain": [
       "[MNIST | ADAM, LR = 0.001 | SS LOGIC | LAYERS = (784,128) (128,64,10) | DIFF WEIGHT 1 | MAXSAT | 4 CLAUSES] Ru…"
      ]
     },
     "metadata": {},
     "output_type": "display_data"
    },
    {
     "data": {
      "application/vnd.jupyter.widget-view+json": {
       "model_id": "",
       "version_major": 2,
       "version_minor": 0
      },
      "text/plain": [
       "[MNIST | ADAM, LR = 0.001 | SS LOGIC | LAYERS = (784,128) (128,64,10) | DIFF WEIGHT 1e-05 | MAXSAT | 4 CLAUSES…"
      ]
     },
     "metadata": {},
     "output_type": "display_data"
    },
    {
     "data": {
      "application/vnd.jupyter.widget-view+json": {
       "model_id": "",
       "version_major": 2,
       "version_minor": 0
      },
      "text/plain": [
       "[MNIST | ADAM, LR = 0.001 | SS LOGIC | LAYERS = (784,128) (128,64,10) | DIFF WEIGHT 1e-05 | MAXSAT | 4 CLAUSES…"
      ]
     },
     "metadata": {},
     "output_type": "display_data"
    },
    {
     "data": {
      "application/vnd.jupyter.widget-view+json": {
       "model_id": "",
       "version_major": 2,
       "version_minor": 0
      },
      "text/plain": [
       "[MNIST | ADAM, LR = 0.001 | SS LOGIC | LAYERS = (784,128) (128,64,10) | DIFF WEIGHT 1e-05 | MAXSAT | 4 CLAUSES…"
      ]
     },
     "metadata": {},
     "output_type": "display_data"
    },
    {
     "data": {
      "application/vnd.jupyter.widget-view+json": {
       "model_id": "",
       "version_major": 2,
       "version_minor": 0
      },
      "text/plain": [
       "[MNIST | ADAM, LR = 0.001 | SS LOGIC | LAYERS = (784,128) (128,64,10) | DIFF WEIGHT 1e-05 | MAXSAT | 4 CLAUSES…"
      ]
     },
     "metadata": {},
     "output_type": "display_data"
    },
    {
     "data": {
      "application/vnd.jupyter.widget-view+json": {
       "model_id": "",
       "version_major": 2,
       "version_minor": 0
      },
      "text/plain": [
       "[MNIST | ADAM, LR = 0.001 | SS LOGIC | LAYERS = (784,128) (128,64,10) | DIFF WEIGHT 1e-05 | MAXSAT | 4 CLAUSES…"
      ]
     },
     "metadata": {},
     "output_type": "display_data"
    },
    {
     "data": {
      "application/vnd.jupyter.widget-view+json": {
       "model_id": "",
       "version_major": 2,
       "version_minor": 0
      },
      "text/plain": [
       "[MNIST | ADAM, LR = 0.001 | SS LOGIC | LAYERS = (784,128) (128,64,10) | DIFF WEIGHT 1e-05 | MAXSAT | 4 CLAUSES…"
      ]
     },
     "metadata": {},
     "output_type": "display_data"
    },
    {
     "data": {
      "application/vnd.jupyter.widget-view+json": {
       "model_id": "",
       "version_major": 2,
       "version_minor": 0
      },
      "text/plain": [
       "[MNIST | ADAM, LR = 0.001 | SS LOGIC | LAYERS = (784,128) (128,64,10) | DIFF WEIGHT 1e-05 | MAXSAT | 4 CLAUSES…"
      ]
     },
     "metadata": {},
     "output_type": "display_data"
    },
    {
     "data": {
      "application/vnd.jupyter.widget-view+json": {
       "model_id": "",
       "version_major": 2,
       "version_minor": 0
      },
      "text/plain": [
       "[MNIST | ADAM, LR = 0.001 | SS LOGIC | LAYERS = (784,128) (128,64,10) | DIFF WEIGHT 1e-05 | MAXSAT | 4 CLAUSES…"
      ]
     },
     "metadata": {},
     "output_type": "display_data"
    },
    {
     "data": {
      "application/vnd.jupyter.widget-view+json": {
       "model_id": "",
       "version_major": 2,
       "version_minor": 0
      },
      "text/plain": [
       "[MNIST | ADAM, LR = 0.001 | SS LOGIC | LAYERS = (784,128) (128,64,10) | DIFF WEIGHT 0.001 | MAXSAT | 4 CLAUSES…"
      ]
     },
     "metadata": {},
     "output_type": "display_data"
    },
    {
     "data": {
      "application/vnd.jupyter.widget-view+json": {
       "model_id": "",
       "version_major": 2,
       "version_minor": 0
      },
      "text/plain": [
       "[MNIST | ADAM, LR = 0.001 | SS LOGIC | LAYERS = (784,128) (128,64,10) | DIFF WEIGHT 0.001 | MAXSAT | 4 CLAUSES…"
      ]
     },
     "metadata": {},
     "output_type": "display_data"
    },
    {
     "data": {
      "application/vnd.jupyter.widget-view+json": {
       "model_id": "",
       "version_major": 2,
       "version_minor": 0
      },
      "text/plain": [
       "[MNIST | ADAM, LR = 0.001 | SS LOGIC | LAYERS = (784,128) (128,64,10) | DIFF WEIGHT 0.001 | MAXSAT | 4 CLAUSES…"
      ]
     },
     "metadata": {},
     "output_type": "display_data"
    },
    {
     "data": {
      "application/vnd.jupyter.widget-view+json": {
       "model_id": "",
       "version_major": 2,
       "version_minor": 0
      },
      "text/plain": [
       "[MNIST | ADAM, LR = 0.001 | SS LOGIC | LAYERS = (784,128) (128,64,10) | DIFF WEIGHT 0.001 | MAXSAT | 4 CLAUSES…"
      ]
     },
     "metadata": {},
     "output_type": "display_data"
    },
    {
     "data": {
      "application/vnd.jupyter.widget-view+json": {
       "model_id": "",
       "version_major": 2,
       "version_minor": 0
      },
      "text/plain": [
       "[MNIST | ADAM, LR = 0.001 | SS LOGIC | LAYERS = (784,128) (128,64,10) | DIFF WEIGHT 0.001 | MAXSAT | 4 CLAUSES…"
      ]
     },
     "metadata": {},
     "output_type": "display_data"
    },
    {
     "data": {
      "application/vnd.jupyter.widget-view+json": {
       "model_id": "",
       "version_major": 2,
       "version_minor": 0
      },
      "text/plain": [
       "[MNIST | ADAM, LR = 0.001 | SS LOGIC | LAYERS = (784,128) (128,64,10) | DIFF WEIGHT 0.001 | MAXSAT | 4 CLAUSES…"
      ]
     },
     "metadata": {},
     "output_type": "display_data"
    },
    {
     "data": {
      "application/vnd.jupyter.widget-view+json": {
       "model_id": "",
       "version_major": 2,
       "version_minor": 0
      },
      "text/plain": [
       "[MNIST | ADAM, LR = 0.001 | SS LOGIC | LAYERS = (784,128) (128,64,10) | DIFF WEIGHT 0.001 | MAXSAT | 4 CLAUSES…"
      ]
     },
     "metadata": {},
     "output_type": "display_data"
    },
    {
     "data": {
      "application/vnd.jupyter.widget-view+json": {
       "model_id": "",
       "version_major": 2,
       "version_minor": 0
      },
      "text/plain": [
       "[MNIST | ADAM, LR = 0.001 | SS LOGIC | LAYERS = (784,128) (128,64,10) | DIFF WEIGHT 0.001 | MAXSAT | 4 CLAUSES…"
      ]
     },
     "metadata": {},
     "output_type": "display_data"
    },
    {
     "data": {
      "application/vnd.jupyter.widget-view+json": {
       "model_id": "",
       "version_major": 2,
       "version_minor": 0
      },
      "text/plain": [
       "[MNIST | ADAM, LR = 0.001 | SS LOGIC | LAYERS = (784,128) (128,64,10) | DIFF WEIGHT 1 | MAXSAT | 4 CLAUSES] Ru…"
      ]
     },
     "metadata": {},
     "output_type": "display_data"
    },
    {
     "data": {
      "application/vnd.jupyter.widget-view+json": {
       "model_id": "",
       "version_major": 2,
       "version_minor": 0
      },
      "text/plain": [
       "[MNIST | ADAM, LR = 0.001 | SS LOGIC | LAYERS = (784,128) (128,64,10) | DIFF WEIGHT 1 | MAXSAT | 4 CLAUSES] Ru…"
      ]
     },
     "metadata": {},
     "output_type": "display_data"
    },
    {
     "data": {
      "application/vnd.jupyter.widget-view+json": {
       "model_id": "",
       "version_major": 2,
       "version_minor": 0
      },
      "text/plain": [
       "[MNIST | ADAM, LR = 0.001 | SS LOGIC | LAYERS = (784,128) (128,64,10) | DIFF WEIGHT 1 | MAXSAT | 4 CLAUSES] Ru…"
      ]
     },
     "metadata": {},
     "output_type": "display_data"
    },
    {
     "data": {
      "application/vnd.jupyter.widget-view+json": {
       "model_id": "",
       "version_major": 2,
       "version_minor": 0
      },
      "text/plain": [
       "[MNIST | ADAM, LR = 0.001 | SS LOGIC | LAYERS = (784,128) (128,64,10) | DIFF WEIGHT 1 | MAXSAT | 4 CLAUSES] Ru…"
      ]
     },
     "metadata": {},
     "output_type": "display_data"
    },
    {
     "data": {
      "application/vnd.jupyter.widget-view+json": {
       "model_id": "",
       "version_major": 2,
       "version_minor": 0
      },
      "text/plain": [
       "[MNIST | ADAM, LR = 0.001 | SS LOGIC | LAYERS = (784,128) (128,64,10) | DIFF WEIGHT 1 | MAXSAT | 4 CLAUSES] Ru…"
      ]
     },
     "metadata": {},
     "output_type": "display_data"
    },
    {
     "data": {
      "application/vnd.jupyter.widget-view+json": {
       "model_id": "",
       "version_major": 2,
       "version_minor": 0
      },
      "text/plain": [
       "[MNIST | ADAM, LR = 0.001 | SS LOGIC | LAYERS = (784,128) (128,64,10) | DIFF WEIGHT 1 | MAXSAT | 4 CLAUSES] Ru…"
      ]
     },
     "metadata": {},
     "output_type": "display_data"
    },
    {
     "data": {
      "application/vnd.jupyter.widget-view+json": {
       "model_id": "",
       "version_major": 2,
       "version_minor": 0
      },
      "text/plain": [
       "[MNIST | ADAM, LR = 0.001 | SS LOGIC | LAYERS = (784,128) (128,64,10) | DIFF WEIGHT 1 | MAXSAT | 4 CLAUSES] Ru…"
      ]
     },
     "metadata": {},
     "output_type": "display_data"
    },
    {
     "data": {
      "application/vnd.jupyter.widget-view+json": {
       "model_id": "",
       "version_major": 2,
       "version_minor": 0
      },
      "text/plain": [
       "[MNIST | ADAM, LR = 0.001 | SS LOGIC | LAYERS = (784,128) (128,64,10) | DIFF WEIGHT 1 | MAXSAT | 4 CLAUSES] Ru…"
      ]
     },
     "metadata": {},
     "output_type": "display_data"
    },
    {
     "data": {
      "application/vnd.jupyter.widget-view+json": {
       "model_id": "",
       "version_major": 2,
       "version_minor": 0
      },
      "text/plain": [
       "[MNIST | ADAM, LR = 0.001 | SS LOGIC | LAYERS = (784,128) (128,64,10) | DIFF WEIGHT 1e-05 | MAXSAT | 4 CLAUSES…"
      ]
     },
     "metadata": {},
     "output_type": "display_data"
    },
    {
     "data": {
      "application/vnd.jupyter.widget-view+json": {
       "model_id": "",
       "version_major": 2,
       "version_minor": 0
      },
      "text/plain": [
       "[MNIST | ADAM, LR = 0.001 | SS LOGIC | LAYERS = (784,128) (128,64,10) | DIFF WEIGHT 1e-05 | MAXSAT | 4 CLAUSES…"
      ]
     },
     "metadata": {},
     "output_type": "display_data"
    },
    {
     "data": {
      "application/vnd.jupyter.widget-view+json": {
       "model_id": "",
       "version_major": 2,
       "version_minor": 0
      },
      "text/plain": [
       "[MNIST | ADAM, LR = 0.001 | SS LOGIC | LAYERS = (784,128) (128,64,10) | DIFF WEIGHT 1e-05 | MAXSAT | 4 CLAUSES…"
      ]
     },
     "metadata": {},
     "output_type": "display_data"
    },
    {
     "data": {
      "application/vnd.jupyter.widget-view+json": {
       "model_id": "",
       "version_major": 2,
       "version_minor": 0
      },
      "text/plain": [
       "[MNIST | ADAM, LR = 0.001 | SS LOGIC | LAYERS = (784,128) (128,64,10) | DIFF WEIGHT 1e-05 | MAXSAT | 4 CLAUSES…"
      ]
     },
     "metadata": {},
     "output_type": "display_data"
    },
    {
     "data": {
      "application/vnd.jupyter.widget-view+json": {
       "model_id": "",
       "version_major": 2,
       "version_minor": 0
      },
      "text/plain": [
       "[MNIST | ADAM, LR = 0.001 | SS LOGIC | LAYERS = (784,128) (128,64,10) | DIFF WEIGHT 1e-05 | MAXSAT | 4 CLAUSES…"
      ]
     },
     "metadata": {},
     "output_type": "display_data"
    },
    {
     "data": {
      "application/vnd.jupyter.widget-view+json": {
       "model_id": "",
       "version_major": 2,
       "version_minor": 0
      },
      "text/plain": [
       "[MNIST | ADAM, LR = 0.001 | SS LOGIC | LAYERS = (784,128) (128,64,10) | DIFF WEIGHT 1e-05 | MAXSAT | 4 CLAUSES…"
      ]
     },
     "metadata": {},
     "output_type": "display_data"
    },
    {
     "data": {
      "application/vnd.jupyter.widget-view+json": {
       "model_id": "",
       "version_major": 2,
       "version_minor": 0
      },
      "text/plain": [
       "[MNIST | ADAM, LR = 0.001 | SS LOGIC | LAYERS = (784,128) (128,64,10) | DIFF WEIGHT 1e-05 | MAXSAT | 4 CLAUSES…"
      ]
     },
     "metadata": {},
     "output_type": "display_data"
    },
    {
     "data": {
      "application/vnd.jupyter.widget-view+json": {
       "model_id": "",
       "version_major": 2,
       "version_minor": 0
      },
      "text/plain": [
       "[MNIST | ADAM, LR = 0.001 | SS LOGIC | LAYERS = (784,128) (128,64,10) | DIFF WEIGHT 1e-05 | MAXSAT | 4 CLAUSES…"
      ]
     },
     "metadata": {},
     "output_type": "display_data"
    },
    {
     "data": {
      "application/vnd.jupyter.widget-view+json": {
       "model_id": "",
       "version_major": 2,
       "version_minor": 0
      },
      "text/plain": [
       "[MNIST | ADAM, LR = 0.001 | SS LOGIC | LAYERS = (784,128) (128,64,10) | DIFF WEIGHT 0.001 | MAXSAT | 4 CLAUSES…"
      ]
     },
     "metadata": {},
     "output_type": "display_data"
    },
    {
     "data": {
      "application/vnd.jupyter.widget-view+json": {
       "model_id": "",
       "version_major": 2,
       "version_minor": 0
      },
      "text/plain": [
       "[MNIST | ADAM, LR = 0.001 | SS LOGIC | LAYERS = (784,128) (128,64,10) | DIFF WEIGHT 0.001 | MAXSAT | 4 CLAUSES…"
      ]
     },
     "metadata": {},
     "output_type": "display_data"
    },
    {
     "data": {
      "application/vnd.jupyter.widget-view+json": {
       "model_id": "",
       "version_major": 2,
       "version_minor": 0
      },
      "text/plain": [
       "[MNIST | ADAM, LR = 0.001 | SS LOGIC | LAYERS = (784,128) (128,64,10) | DIFF WEIGHT 0.001 | MAXSAT | 4 CLAUSES…"
      ]
     },
     "metadata": {},
     "output_type": "display_data"
    },
    {
     "data": {
      "application/vnd.jupyter.widget-view+json": {
       "model_id": "",
       "version_major": 2,
       "version_minor": 0
      },
      "text/plain": [
       "[MNIST | ADAM, LR = 0.001 | SS LOGIC | LAYERS = (784,128) (128,64,10) | DIFF WEIGHT 0.001 | MAXSAT | 4 CLAUSES…"
      ]
     },
     "metadata": {},
     "output_type": "display_data"
    },
    {
     "data": {
      "application/vnd.jupyter.widget-view+json": {
       "model_id": "",
       "version_major": 2,
       "version_minor": 0
      },
      "text/plain": [
       "[MNIST | ADAM, LR = 0.001 | SS LOGIC | LAYERS = (784,128) (128,64,10) | DIFF WEIGHT 0.001 | MAXSAT | 4 CLAUSES…"
      ]
     },
     "metadata": {},
     "output_type": "display_data"
    },
    {
     "data": {
      "application/vnd.jupyter.widget-view+json": {
       "model_id": "",
       "version_major": 2,
       "version_minor": 0
      },
      "text/plain": [
       "[MNIST | ADAM, LR = 0.001 | SS LOGIC | LAYERS = (784,128) (128,64,10) | DIFF WEIGHT 0.001 | MAXSAT | 4 CLAUSES…"
      ]
     },
     "metadata": {},
     "output_type": "display_data"
    },
    {
     "data": {
      "application/vnd.jupyter.widget-view+json": {
       "model_id": "",
       "version_major": 2,
       "version_minor": 0
      },
      "text/plain": [
       "[MNIST | ADAM, LR = 0.001 | SS LOGIC | LAYERS = (784,128) (128,64,10) | DIFF WEIGHT 0.001 | MAXSAT | 4 CLAUSES…"
      ]
     },
     "metadata": {},
     "output_type": "display_data"
    },
    {
     "data": {
      "application/vnd.jupyter.widget-view+json": {
       "model_id": "",
       "version_major": 2,
       "version_minor": 0
      },
      "text/plain": [
       "[MNIST | ADAM, LR = 0.001 | SS LOGIC | LAYERS = (784,128) (128,64,10) | DIFF WEIGHT 0.001 | MAXSAT | 4 CLAUSES…"
      ]
     },
     "metadata": {},
     "output_type": "display_data"
    },
    {
     "data": {
      "application/vnd.jupyter.widget-view+json": {
       "model_id": "",
       "version_major": 2,
       "version_minor": 0
      },
      "text/plain": [
       "[MNIST | ADAM, LR = 0.001 | SS LOGIC | LAYERS = (784,128) (128,64,10) | DIFF WEIGHT 1 | MAXSAT | 4 CLAUSES] Ru…"
      ]
     },
     "metadata": {},
     "output_type": "display_data"
    },
    {
     "data": {
      "application/vnd.jupyter.widget-view+json": {
       "model_id": "",
       "version_major": 2,
       "version_minor": 0
      },
      "text/plain": [
       "[MNIST | ADAM, LR = 0.001 | SS LOGIC | LAYERS = (784,128) (128,64,10) | DIFF WEIGHT 1 | MAXSAT | 4 CLAUSES] Ru…"
      ]
     },
     "metadata": {},
     "output_type": "display_data"
    },
    {
     "data": {
      "application/vnd.jupyter.widget-view+json": {
       "model_id": "",
       "version_major": 2,
       "version_minor": 0
      },
      "text/plain": [
       "[MNIST | ADAM, LR = 0.001 | SS LOGIC | LAYERS = (784,128) (128,64,10) | DIFF WEIGHT 1 | MAXSAT | 4 CLAUSES] Ru…"
      ]
     },
     "metadata": {},
     "output_type": "display_data"
    },
    {
     "data": {
      "application/vnd.jupyter.widget-view+json": {
       "model_id": "",
       "version_major": 2,
       "version_minor": 0
      },
      "text/plain": [
       "[MNIST | ADAM, LR = 0.001 | SS LOGIC | LAYERS = (784,128) (128,64,10) | DIFF WEIGHT 1 | MAXSAT | 4 CLAUSES] Ru…"
      ]
     },
     "metadata": {},
     "output_type": "display_data"
    },
    {
     "data": {
      "application/vnd.jupyter.widget-view+json": {
       "model_id": "",
       "version_major": 2,
       "version_minor": 0
      },
      "text/plain": [
       "[MNIST | ADAM, LR = 0.001 | SS LOGIC | LAYERS = (784,128) (128,64,10) | DIFF WEIGHT 1 | MAXSAT | 4 CLAUSES] Ru…"
      ]
     },
     "metadata": {},
     "output_type": "display_data"
    },
    {
     "data": {
      "application/vnd.jupyter.widget-view+json": {
       "model_id": "",
       "version_major": 2,
       "version_minor": 0
      },
      "text/plain": [
       "[MNIST | ADAM, LR = 0.001 | SS LOGIC | LAYERS = (784,128) (128,64,10) | DIFF WEIGHT 1 | MAXSAT | 4 CLAUSES] Ru…"
      ]
     },
     "metadata": {},
     "output_type": "display_data"
    },
    {
     "data": {
      "application/vnd.jupyter.widget-view+json": {
       "model_id": "",
       "version_major": 2,
       "version_minor": 0
      },
      "text/plain": [
       "[MNIST | ADAM, LR = 0.001 | SS LOGIC | LAYERS = (784,128) (128,64,10) | DIFF WEIGHT 1 | MAXSAT | 4 CLAUSES] Ru…"
      ]
     },
     "metadata": {},
     "output_type": "display_data"
    },
    {
     "data": {
      "application/vnd.jupyter.widget-view+json": {
       "model_id": "",
       "version_major": 2,
       "version_minor": 0
      },
      "text/plain": [
       "[MNIST | ADAM, LR = 0.001 | SS LOGIC | LAYERS = (784,128) (128,64,10) | DIFF WEIGHT 1 | MAXSAT | 4 CLAUSES] Ru…"
      ]
     },
     "metadata": {},
     "output_type": "display_data"
    },
    {
     "data": {
      "application/vnd.jupyter.widget-view+json": {
       "model_id": "",
       "version_major": 2,
       "version_minor": 0
      },
      "text/plain": [
       "[MNIST | ADAM, LR = 0.001 | SS LOGIC | LAYERS = (784,128) (128,64,10) | DIFF WEIGHT 1e-05 | MAXSAT | 4 CLAUSES…"
      ]
     },
     "metadata": {},
     "output_type": "display_data"
    },
    {
     "data": {
      "application/vnd.jupyter.widget-view+json": {
       "model_id": "",
       "version_major": 2,
       "version_minor": 0
      },
      "text/plain": [
       "[MNIST | ADAM, LR = 0.001 | SS LOGIC | LAYERS = (784,128) (128,64,10) | DIFF WEIGHT 1e-05 | MAXSAT | 4 CLAUSES…"
      ]
     },
     "metadata": {},
     "output_type": "display_data"
    },
    {
     "data": {
      "application/vnd.jupyter.widget-view+json": {
       "model_id": "",
       "version_major": 2,
       "version_minor": 0
      },
      "text/plain": [
       "[MNIST | ADAM, LR = 0.001 | SS LOGIC | LAYERS = (784,128) (128,64,10) | DIFF WEIGHT 1e-05 | MAXSAT | 4 CLAUSES…"
      ]
     },
     "metadata": {},
     "output_type": "display_data"
    },
    {
     "data": {
      "application/vnd.jupyter.widget-view+json": {
       "model_id": "",
       "version_major": 2,
       "version_minor": 0
      },
      "text/plain": [
       "[MNIST | ADAM, LR = 0.001 | SS LOGIC | LAYERS = (784,128) (128,64,10) | DIFF WEIGHT 1e-05 | MAXSAT | 4 CLAUSES…"
      ]
     },
     "metadata": {},
     "output_type": "display_data"
    },
    {
     "data": {
      "application/vnd.jupyter.widget-view+json": {
       "model_id": "",
       "version_major": 2,
       "version_minor": 0
      },
      "text/plain": [
       "[MNIST | ADAM, LR = 0.001 | SS LOGIC | LAYERS = (784,128) (128,64,10) | DIFF WEIGHT 1e-05 | MAXSAT | 4 CLAUSES…"
      ]
     },
     "metadata": {},
     "output_type": "display_data"
    },
    {
     "data": {
      "application/vnd.jupyter.widget-view+json": {
       "model_id": "",
       "version_major": 2,
       "version_minor": 0
      },
      "text/plain": [
       "[MNIST | ADAM, LR = 0.001 | SS LOGIC | LAYERS = (784,128) (128,64,10) | DIFF WEIGHT 1e-05 | MAXSAT | 4 CLAUSES…"
      ]
     },
     "metadata": {},
     "output_type": "display_data"
    },
    {
     "data": {
      "application/vnd.jupyter.widget-view+json": {
       "model_id": "",
       "version_major": 2,
       "version_minor": 0
      },
      "text/plain": [
       "[MNIST | ADAM, LR = 0.001 | SS LOGIC | LAYERS = (784,128) (128,64,10) | DIFF WEIGHT 1e-05 | MAXSAT | 4 CLAUSES…"
      ]
     },
     "metadata": {},
     "output_type": "display_data"
    },
    {
     "data": {
      "application/vnd.jupyter.widget-view+json": {
       "model_id": "",
       "version_major": 2,
       "version_minor": 0
      },
      "text/plain": [
       "[MNIST | ADAM, LR = 0.001 | SS LOGIC | LAYERS = (784,128) (128,64,10) | DIFF WEIGHT 1e-05 | MAXSAT | 4 CLAUSES…"
      ]
     },
     "metadata": {},
     "output_type": "display_data"
    },
    {
     "data": {
      "application/vnd.jupyter.widget-view+json": {
       "model_id": "",
       "version_major": 2,
       "version_minor": 0
      },
      "text/plain": [
       "[MNIST | ADAM, LR = 0.001 | SS LOGIC | LAYERS = (784,128) (128,64,10) | DIFF WEIGHT 0.001 | MAXSAT | 4 CLAUSES…"
      ]
     },
     "metadata": {},
     "output_type": "display_data"
    },
    {
     "data": {
      "application/vnd.jupyter.widget-view+json": {
       "model_id": "",
       "version_major": 2,
       "version_minor": 0
      },
      "text/plain": [
       "[MNIST | ADAM, LR = 0.001 | SS LOGIC | LAYERS = (784,128) (128,64,10) | DIFF WEIGHT 0.001 | MAXSAT | 4 CLAUSES…"
      ]
     },
     "metadata": {},
     "output_type": "display_data"
    },
    {
     "data": {
      "application/vnd.jupyter.widget-view+json": {
       "model_id": "",
       "version_major": 2,
       "version_minor": 0
      },
      "text/plain": [
       "[MNIST | ADAM, LR = 0.001 | SS LOGIC | LAYERS = (784,128) (128,64,10) | DIFF WEIGHT 0.001 | MAXSAT | 4 CLAUSES…"
      ]
     },
     "metadata": {},
     "output_type": "display_data"
    },
    {
     "data": {
      "application/vnd.jupyter.widget-view+json": {
       "model_id": "",
       "version_major": 2,
       "version_minor": 0
      },
      "text/plain": [
       "[MNIST | ADAM, LR = 0.001 | SS LOGIC | LAYERS = (784,128) (128,64,10) | DIFF WEIGHT 0.001 | MAXSAT | 4 CLAUSES…"
      ]
     },
     "metadata": {},
     "output_type": "display_data"
    },
    {
     "data": {
      "application/vnd.jupyter.widget-view+json": {
       "model_id": "",
       "version_major": 2,
       "version_minor": 0
      },
      "text/plain": [
       "[MNIST | ADAM, LR = 0.001 | SS LOGIC | LAYERS = (784,128) (128,64,10) | DIFF WEIGHT 0.001 | MAXSAT | 4 CLAUSES…"
      ]
     },
     "metadata": {},
     "output_type": "display_data"
    },
    {
     "data": {
      "application/vnd.jupyter.widget-view+json": {
       "model_id": "",
       "version_major": 2,
       "version_minor": 0
      },
      "text/plain": [
       "[MNIST | ADAM, LR = 0.001 | SS LOGIC | LAYERS = (784,128) (128,64,10) | DIFF WEIGHT 0.001 | MAXSAT | 4 CLAUSES…"
      ]
     },
     "metadata": {},
     "output_type": "display_data"
    },
    {
     "data": {
      "application/vnd.jupyter.widget-view+json": {
       "model_id": "",
       "version_major": 2,
       "version_minor": 0
      },
      "text/plain": [
       "[MNIST | ADAM, LR = 0.001 | SS LOGIC | LAYERS = (784,128) (128,64,10) | DIFF WEIGHT 0.001 | MAXSAT | 4 CLAUSES…"
      ]
     },
     "metadata": {},
     "output_type": "display_data"
    },
    {
     "data": {
      "application/vnd.jupyter.widget-view+json": {
       "model_id": "",
       "version_major": 2,
       "version_minor": 0
      },
      "text/plain": [
       "[MNIST | ADAM, LR = 0.001 | SS LOGIC | LAYERS = (784,128) (128,64,10) | DIFF WEIGHT 0.001 | MAXSAT | 4 CLAUSES…"
      ]
     },
     "metadata": {},
     "output_type": "display_data"
    },
    {
     "data": {
      "application/vnd.jupyter.widget-view+json": {
       "model_id": "",
       "version_major": 2,
       "version_minor": 0
      },
      "text/plain": [
       "[MNIST | ADAM, LR = 0.001 | SS LOGIC | LAYERS = (784,128) (128,64,10) | DIFF WEIGHT 1 | MAXSAT | 4 CLAUSES] Ru…"
      ]
     },
     "metadata": {},
     "output_type": "display_data"
    },
    {
     "data": {
      "application/vnd.jupyter.widget-view+json": {
       "model_id": "",
       "version_major": 2,
       "version_minor": 0
      },
      "text/plain": [
       "[MNIST | ADAM, LR = 0.001 | SS LOGIC | LAYERS = (784,128) (128,64,10) | DIFF WEIGHT 1 | MAXSAT | 4 CLAUSES] Ru…"
      ]
     },
     "metadata": {},
     "output_type": "display_data"
    },
    {
     "data": {
      "application/vnd.jupyter.widget-view+json": {
       "model_id": "",
       "version_major": 2,
       "version_minor": 0
      },
      "text/plain": [
       "[MNIST | ADAM, LR = 0.001 | SS LOGIC | LAYERS = (784,128) (128,64,10) | DIFF WEIGHT 1 | MAXSAT | 4 CLAUSES] Ru…"
      ]
     },
     "metadata": {},
     "output_type": "display_data"
    },
    {
     "data": {
      "application/vnd.jupyter.widget-view+json": {
       "model_id": "",
       "version_major": 2,
       "version_minor": 0
      },
      "text/plain": [
       "[MNIST | ADAM, LR = 0.001 | SS LOGIC | LAYERS = (784,128) (128,64,10) | DIFF WEIGHT 1 | MAXSAT | 4 CLAUSES] Ru…"
      ]
     },
     "metadata": {},
     "output_type": "display_data"
    },
    {
     "data": {
      "application/vnd.jupyter.widget-view+json": {
       "model_id": "",
       "version_major": 2,
       "version_minor": 0
      },
      "text/plain": [
       "[MNIST | ADAM, LR = 0.001 | SS LOGIC | LAYERS = (784,128) (128,64,10) | DIFF WEIGHT 1 | MAXSAT | 4 CLAUSES] Ru…"
      ]
     },
     "metadata": {},
     "output_type": "display_data"
    },
    {
     "data": {
      "application/vnd.jupyter.widget-view+json": {
       "model_id": "",
       "version_major": 2,
       "version_minor": 0
      },
      "text/plain": [
       "[MNIST | ADAM, LR = 0.001 | SS LOGIC | LAYERS = (784,128) (128,64,10) | DIFF WEIGHT 1 | MAXSAT | 4 CLAUSES] Ru…"
      ]
     },
     "metadata": {},
     "output_type": "display_data"
    },
    {
     "data": {
      "application/vnd.jupyter.widget-view+json": {
       "model_id": "",
       "version_major": 2,
       "version_minor": 0
      },
      "text/plain": [
       "[MNIST | ADAM, LR = 0.001 | SS LOGIC | LAYERS = (784,128) (128,64,10) | DIFF WEIGHT 1 | MAXSAT | 4 CLAUSES] Ru…"
      ]
     },
     "metadata": {},
     "output_type": "display_data"
    },
    {
     "data": {
      "application/vnd.jupyter.widget-view+json": {
       "model_id": "",
       "version_major": 2,
       "version_minor": 0
      },
      "text/plain": [
       "[MNIST | ADAM, LR = 0.001 | SS LOGIC | LAYERS = (784,128) (128,64,10) | DIFF WEIGHT 1 | MAXSAT | 4 CLAUSES] Ru…"
      ]
     },
     "metadata": {},
     "output_type": "display_data"
    },
    {
     "data": {
      "application/vnd.jupyter.widget-view+json": {
       "model_id": "",
       "version_major": 2,
       "version_minor": 0
      },
      "text/plain": [
       "[MNIST | ADAM, LR = 0.001 | SS LOGIC | LAYERS = (784,128) (128,64,10) | DIFF WEIGHT 1e-05 | MAXSAT | 4 CLAUSES…"
      ]
     },
     "metadata": {},
     "output_type": "display_data"
    },
    {
     "data": {
      "application/vnd.jupyter.widget-view+json": {
       "model_id": "",
       "version_major": 2,
       "version_minor": 0
      },
      "text/plain": [
       "[MNIST | ADAM, LR = 0.001 | SS LOGIC | LAYERS = (784,128) (128,64,10) | DIFF WEIGHT 1e-05 | MAXSAT | 4 CLAUSES…"
      ]
     },
     "metadata": {},
     "output_type": "display_data"
    },
    {
     "data": {
      "application/vnd.jupyter.widget-view+json": {
       "model_id": "",
       "version_major": 2,
       "version_minor": 0
      },
      "text/plain": [
       "[MNIST | ADAM, LR = 0.001 | SS LOGIC | LAYERS = (784,128) (128,64,10) | DIFF WEIGHT 1e-05 | MAXSAT | 4 CLAUSES…"
      ]
     },
     "metadata": {},
     "output_type": "display_data"
    },
    {
     "data": {
      "application/vnd.jupyter.widget-view+json": {
       "model_id": "",
       "version_major": 2,
       "version_minor": 0
      },
      "text/plain": [
       "[MNIST | ADAM, LR = 0.001 | SS LOGIC | LAYERS = (784,128) (128,64,10) | DIFF WEIGHT 1e-05 | MAXSAT | 4 CLAUSES…"
      ]
     },
     "metadata": {},
     "output_type": "display_data"
    },
    {
     "data": {
      "application/vnd.jupyter.widget-view+json": {
       "model_id": "",
       "version_major": 2,
       "version_minor": 0
      },
      "text/plain": [
       "[MNIST | ADAM, LR = 0.001 | SS LOGIC | LAYERS = (784,128) (128,64,10) | DIFF WEIGHT 1e-05 | MAXSAT | 4 CLAUSES…"
      ]
     },
     "metadata": {},
     "output_type": "display_data"
    },
    {
     "data": {
      "application/vnd.jupyter.widget-view+json": {
       "model_id": "",
       "version_major": 2,
       "version_minor": 0
      },
      "text/plain": [
       "[MNIST | ADAM, LR = 0.001 | SS LOGIC | LAYERS = (784,128) (128,64,10) | DIFF WEIGHT 1e-05 | MAXSAT | 4 CLAUSES…"
      ]
     },
     "metadata": {},
     "output_type": "display_data"
    },
    {
     "data": {
      "application/vnd.jupyter.widget-view+json": {
       "model_id": "",
       "version_major": 2,
       "version_minor": 0
      },
      "text/plain": [
       "[MNIST | ADAM, LR = 0.001 | SS LOGIC | LAYERS = (784,128) (128,64,10) | DIFF WEIGHT 1e-05 | MAXSAT | 4 CLAUSES…"
      ]
     },
     "metadata": {},
     "output_type": "display_data"
    },
    {
     "data": {
      "application/vnd.jupyter.widget-view+json": {
       "model_id": "",
       "version_major": 2,
       "version_minor": 0
      },
      "text/plain": [
       "[MNIST | ADAM, LR = 0.001 | SS LOGIC | LAYERS = (784,128) (128,64,10) | DIFF WEIGHT 1e-05 | MAXSAT | 4 CLAUSES…"
      ]
     },
     "metadata": {},
     "output_type": "display_data"
    },
    {
     "data": {
      "application/vnd.jupyter.widget-view+json": {
       "model_id": "",
       "version_major": 2,
       "version_minor": 0
      },
      "text/plain": [
       "[MNIST | ADAM, LR = 0.001 | SS LOGIC | LAYERS = (784,128) (128,64,10) | DIFF WEIGHT 0.001 | MAXSAT | 4 CLAUSES…"
      ]
     },
     "metadata": {},
     "output_type": "display_data"
    },
    {
     "data": {
      "application/vnd.jupyter.widget-view+json": {
       "model_id": "",
       "version_major": 2,
       "version_minor": 0
      },
      "text/plain": [
       "[MNIST | ADAM, LR = 0.001 | SS LOGIC | LAYERS = (784,128) (128,64,10) | DIFF WEIGHT 0.001 | MAXSAT | 4 CLAUSES…"
      ]
     },
     "metadata": {},
     "output_type": "display_data"
    },
    {
     "data": {
      "application/vnd.jupyter.widget-view+json": {
       "model_id": "",
       "version_major": 2,
       "version_minor": 0
      },
      "text/plain": [
       "[MNIST | ADAM, LR = 0.001 | SS LOGIC | LAYERS = (784,128) (128,64,10) | DIFF WEIGHT 0.001 | MAXSAT | 4 CLAUSES…"
      ]
     },
     "metadata": {},
     "output_type": "display_data"
    },
    {
     "data": {
      "application/vnd.jupyter.widget-view+json": {
       "model_id": "",
       "version_major": 2,
       "version_minor": 0
      },
      "text/plain": [
       "[MNIST | ADAM, LR = 0.001 | SS LOGIC | LAYERS = (784,128) (128,64,10) | DIFF WEIGHT 0.001 | MAXSAT | 4 CLAUSES…"
      ]
     },
     "metadata": {},
     "output_type": "display_data"
    },
    {
     "data": {
      "application/vnd.jupyter.widget-view+json": {
       "model_id": "",
       "version_major": 2,
       "version_minor": 0
      },
      "text/plain": [
       "[MNIST | ADAM, LR = 0.001 | SS LOGIC | LAYERS = (784,128) (128,64,10) | DIFF WEIGHT 0.001 | MAXSAT | 4 CLAUSES…"
      ]
     },
     "metadata": {},
     "output_type": "display_data"
    },
    {
     "data": {
      "application/vnd.jupyter.widget-view+json": {
       "model_id": "",
       "version_major": 2,
       "version_minor": 0
      },
      "text/plain": [
       "[MNIST | ADAM, LR = 0.001 | SS LOGIC | LAYERS = (784,128) (128,64,10) | DIFF WEIGHT 0.001 | MAXSAT | 4 CLAUSES…"
      ]
     },
     "metadata": {},
     "output_type": "display_data"
    },
    {
     "data": {
      "application/vnd.jupyter.widget-view+json": {
       "model_id": "",
       "version_major": 2,
       "version_minor": 0
      },
      "text/plain": [
       "[MNIST | ADAM, LR = 0.001 | SS LOGIC | LAYERS = (784,128) (128,64,10) | DIFF WEIGHT 0.001 | MAXSAT | 4 CLAUSES…"
      ]
     },
     "metadata": {},
     "output_type": "display_data"
    },
    {
     "data": {
      "application/vnd.jupyter.widget-view+json": {
       "model_id": "",
       "version_major": 2,
       "version_minor": 0
      },
      "text/plain": [
       "[MNIST | ADAM, LR = 0.001 | SS LOGIC | LAYERS = (784,128) (128,64,10) | DIFF WEIGHT 0.001 | MAXSAT | 4 CLAUSES…"
      ]
     },
     "metadata": {},
     "output_type": "display_data"
    },
    {
     "data": {
      "application/vnd.jupyter.widget-view+json": {
       "model_id": "",
       "version_major": 2,
       "version_minor": 0
      },
      "text/plain": [
       "[MNIST | ADAM, LR = 0.001 | SS LOGIC | LAYERS = (784,128) (128,64,10) | DIFF WEIGHT 1 | MAXSAT | 4 CLAUSES] Ru…"
      ]
     },
     "metadata": {},
     "output_type": "display_data"
    },
    {
     "data": {
      "application/vnd.jupyter.widget-view+json": {
       "model_id": "",
       "version_major": 2,
       "version_minor": 0
      },
      "text/plain": [
       "[MNIST | ADAM, LR = 0.001 | SS LOGIC | LAYERS = (784,128) (128,64,10) | DIFF WEIGHT 1 | MAXSAT | 4 CLAUSES] Ru…"
      ]
     },
     "metadata": {},
     "output_type": "display_data"
    },
    {
     "data": {
      "application/vnd.jupyter.widget-view+json": {
       "model_id": "",
       "version_major": 2,
       "version_minor": 0
      },
      "text/plain": [
       "[MNIST | ADAM, LR = 0.001 | SS LOGIC | LAYERS = (784,128) (128,64,10) | DIFF WEIGHT 1 | MAXSAT | 4 CLAUSES] Ru…"
      ]
     },
     "metadata": {},
     "output_type": "display_data"
    },
    {
     "data": {
      "application/vnd.jupyter.widget-view+json": {
       "model_id": "",
       "version_major": 2,
       "version_minor": 0
      },
      "text/plain": [
       "[MNIST | ADAM, LR = 0.001 | SS LOGIC | LAYERS = (784,128) (128,64,10) | DIFF WEIGHT 1 | MAXSAT | 4 CLAUSES] Ru…"
      ]
     },
     "metadata": {},
     "output_type": "display_data"
    },
    {
     "data": {
      "application/vnd.jupyter.widget-view+json": {
       "model_id": "",
       "version_major": 2,
       "version_minor": 0
      },
      "text/plain": [
       "[MNIST | ADAM, LR = 0.001 | SS LOGIC | LAYERS = (784,128) (128,64,10) | DIFF WEIGHT 1 | MAXSAT | 4 CLAUSES] Ru…"
      ]
     },
     "metadata": {},
     "output_type": "display_data"
    },
    {
     "data": {
      "application/vnd.jupyter.widget-view+json": {
       "model_id": "",
       "version_major": 2,
       "version_minor": 0
      },
      "text/plain": [
       "[MNIST | ADAM, LR = 0.001 | SS LOGIC | LAYERS = (784,128) (128,64,10) | DIFF WEIGHT 1 | MAXSAT | 4 CLAUSES] Ru…"
      ]
     },
     "metadata": {},
     "output_type": "display_data"
    },
    {
     "data": {
      "application/vnd.jupyter.widget-view+json": {
       "model_id": "",
       "version_major": 2,
       "version_minor": 0
      },
      "text/plain": [
       "[MNIST | ADAM, LR = 0.001 | SS LOGIC | LAYERS = (784,128) (128,64,10) | DIFF WEIGHT 1 | MAXSAT | 4 CLAUSES] Ru…"
      ]
     },
     "metadata": {},
     "output_type": "display_data"
    },
    {
     "data": {
      "application/vnd.jupyter.widget-view+json": {
       "model_id": "",
       "version_major": 2,
       "version_minor": 0
      },
      "text/plain": [
       "[MNIST | ADAM, LR = 0.001 | SS LOGIC | LAYERS = (784,128) (128,64,10) | DIFF WEIGHT 1 | MAXSAT | 4 CLAUSES] Ru…"
      ]
     },
     "metadata": {},
     "output_type": "display_data"
    },
    {
     "data": {
      "application/vnd.jupyter.widget-view+json": {
       "model_id": "",
       "version_major": 2,
       "version_minor": 0
      },
      "text/plain": [
       "[MNIST | ADAM, LR = 0.001 | SS LOGIC | LAYERS = (784,128) (128,64,10) | DIFF WEIGHT 1e-05 | MAXSAT | 4 CLAUSES…"
      ]
     },
     "metadata": {},
     "output_type": "display_data"
    },
    {
     "data": {
      "application/vnd.jupyter.widget-view+json": {
       "model_id": "",
       "version_major": 2,
       "version_minor": 0
      },
      "text/plain": [
       "[MNIST | ADAM, LR = 0.001 | SS LOGIC | LAYERS = (784,128) (128,64,10) | DIFF WEIGHT 1e-05 | MAXSAT | 4 CLAUSES…"
      ]
     },
     "metadata": {},
     "output_type": "display_data"
    },
    {
     "data": {
      "application/vnd.jupyter.widget-view+json": {
       "model_id": "",
       "version_major": 2,
       "version_minor": 0
      },
      "text/plain": [
       "[MNIST | ADAM, LR = 0.001 | SS LOGIC | LAYERS = (784,128) (128,64,10) | DIFF WEIGHT 1e-05 | MAXSAT | 4 CLAUSES…"
      ]
     },
     "metadata": {},
     "output_type": "display_data"
    },
    {
     "data": {
      "application/vnd.jupyter.widget-view+json": {
       "model_id": "",
       "version_major": 2,
       "version_minor": 0
      },
      "text/plain": [
       "[MNIST | ADAM, LR = 0.001 | SS LOGIC | LAYERS = (784,128) (128,64,10) | DIFF WEIGHT 1e-05 | MAXSAT | 4 CLAUSES…"
      ]
     },
     "metadata": {},
     "output_type": "display_data"
    },
    {
     "data": {
      "application/vnd.jupyter.widget-view+json": {
       "model_id": "",
       "version_major": 2,
       "version_minor": 0
      },
      "text/plain": [
       "[MNIST | ADAM, LR = 0.001 | SS LOGIC | LAYERS = (784,128) (128,64,10) | DIFF WEIGHT 1e-05 | MAXSAT | 4 CLAUSES…"
      ]
     },
     "metadata": {},
     "output_type": "display_data"
    },
    {
     "data": {
      "application/vnd.jupyter.widget-view+json": {
       "model_id": "",
       "version_major": 2,
       "version_minor": 0
      },
      "text/plain": [
       "[MNIST | ADAM, LR = 0.001 | SS LOGIC | LAYERS = (784,128) (128,64,10) | DIFF WEIGHT 1e-05 | MAXSAT | 4 CLAUSES…"
      ]
     },
     "metadata": {},
     "output_type": "display_data"
    },
    {
     "data": {
      "application/vnd.jupyter.widget-view+json": {
       "model_id": "",
       "version_major": 2,
       "version_minor": 0
      },
      "text/plain": [
       "[MNIST | ADAM, LR = 0.001 | SS LOGIC | LAYERS = (784,128) (128,64,10) | DIFF WEIGHT 1e-05 | MAXSAT | 4 CLAUSES…"
      ]
     },
     "metadata": {},
     "output_type": "display_data"
    },
    {
     "data": {
      "application/vnd.jupyter.widget-view+json": {
       "model_id": "",
       "version_major": 2,
       "version_minor": 0
      },
      "text/plain": [
       "[MNIST | ADAM, LR = 0.001 | SS LOGIC | LAYERS = (784,128) (128,64,10) | DIFF WEIGHT 1e-05 | MAXSAT | 4 CLAUSES…"
      ]
     },
     "metadata": {},
     "output_type": "display_data"
    },
    {
     "data": {
      "application/vnd.jupyter.widget-view+json": {
       "model_id": "",
       "version_major": 2,
       "version_minor": 0
      },
      "text/plain": [
       "[MNIST | ADAM, LR = 0.001 | SS LOGIC | LAYERS = (784,128) (128,64,10) | DIFF WEIGHT 0.001 | MAXSAT | 4 CLAUSES…"
      ]
     },
     "metadata": {},
     "output_type": "display_data"
    },
    {
     "data": {
      "application/vnd.jupyter.widget-view+json": {
       "model_id": "",
       "version_major": 2,
       "version_minor": 0
      },
      "text/plain": [
       "[MNIST | ADAM, LR = 0.001 | SS LOGIC | LAYERS = (784,128) (128,64,10) | DIFF WEIGHT 0.001 | MAXSAT | 4 CLAUSES…"
      ]
     },
     "metadata": {},
     "output_type": "display_data"
    },
    {
     "data": {
      "application/vnd.jupyter.widget-view+json": {
       "model_id": "",
       "version_major": 2,
       "version_minor": 0
      },
      "text/plain": [
       "[MNIST | ADAM, LR = 0.001 | SS LOGIC | LAYERS = (784,128) (128,64,10) | DIFF WEIGHT 0.001 | MAXSAT | 4 CLAUSES…"
      ]
     },
     "metadata": {},
     "output_type": "display_data"
    },
    {
     "data": {
      "application/vnd.jupyter.widget-view+json": {
       "model_id": "",
       "version_major": 2,
       "version_minor": 0
      },
      "text/plain": [
       "[MNIST | ADAM, LR = 0.001 | SS LOGIC | LAYERS = (784,128) (128,64,10) | DIFF WEIGHT 0.001 | MAXSAT | 4 CLAUSES…"
      ]
     },
     "metadata": {},
     "output_type": "display_data"
    },
    {
     "data": {
      "application/vnd.jupyter.widget-view+json": {
       "model_id": "",
       "version_major": 2,
       "version_minor": 0
      },
      "text/plain": [
       "[MNIST | ADAM, LR = 0.001 | SS LOGIC | LAYERS = (784,128) (128,64,10) | DIFF WEIGHT 0.001 | MAXSAT | 4 CLAUSES…"
      ]
     },
     "metadata": {},
     "output_type": "display_data"
    },
    {
     "data": {
      "application/vnd.jupyter.widget-view+json": {
       "model_id": "",
       "version_major": 2,
       "version_minor": 0
      },
      "text/plain": [
       "[MNIST | ADAM, LR = 0.001 | SS LOGIC | LAYERS = (784,128) (128,64,10) | DIFF WEIGHT 0.001 | MAXSAT | 4 CLAUSES…"
      ]
     },
     "metadata": {},
     "output_type": "display_data"
    },
    {
     "data": {
      "application/vnd.jupyter.widget-view+json": {
       "model_id": "",
       "version_major": 2,
       "version_minor": 0
      },
      "text/plain": [
       "[MNIST | ADAM, LR = 0.001 | SS LOGIC | LAYERS = (784,128) (128,64,10) | DIFF WEIGHT 0.001 | MAXSAT | 4 CLAUSES…"
      ]
     },
     "metadata": {},
     "output_type": "display_data"
    },
    {
     "data": {
      "application/vnd.jupyter.widget-view+json": {
       "model_id": "",
       "version_major": 2,
       "version_minor": 0
      },
      "text/plain": [
       "[MNIST | ADAM, LR = 0.001 | SS LOGIC | LAYERS = (784,128) (128,64,10) | DIFF WEIGHT 0.001 | MAXSAT | 4 CLAUSES…"
      ]
     },
     "metadata": {},
     "output_type": "display_data"
    },
    {
     "data": {
      "application/vnd.jupyter.widget-view+json": {
       "model_id": "",
       "version_major": 2,
       "version_minor": 0
      },
      "text/plain": [
       "[MNIST | ADAM, LR = 0.001 | SS LOGIC | LAYERS = (784,128) (128,64,10) | DIFF WEIGHT 1 | MAXSAT | 4 CLAUSES] Ru…"
      ]
     },
     "metadata": {},
     "output_type": "display_data"
    },
    {
     "data": {
      "application/vnd.jupyter.widget-view+json": {
       "model_id": "",
       "version_major": 2,
       "version_minor": 0
      },
      "text/plain": [
       "[MNIST | ADAM, LR = 0.001 | SS LOGIC | LAYERS = (784,128) (128,64,10) | DIFF WEIGHT 1 | MAXSAT | 4 CLAUSES] Ru…"
      ]
     },
     "metadata": {},
     "output_type": "display_data"
    },
    {
     "data": {
      "application/vnd.jupyter.widget-view+json": {
       "model_id": "",
       "version_major": 2,
       "version_minor": 0
      },
      "text/plain": [
       "[MNIST | ADAM, LR = 0.001 | SS LOGIC | LAYERS = (784,128) (128,64,10) | DIFF WEIGHT 1 | MAXSAT | 4 CLAUSES] Ru…"
      ]
     },
     "metadata": {},
     "output_type": "display_data"
    },
    {
     "data": {
      "application/vnd.jupyter.widget-view+json": {
       "model_id": "",
       "version_major": 2,
       "version_minor": 0
      },
      "text/plain": [
       "[MNIST | ADAM, LR = 0.001 | SS LOGIC | LAYERS = (784,128) (128,64,10) | DIFF WEIGHT 1 | MAXSAT | 4 CLAUSES] Ru…"
      ]
     },
     "metadata": {},
     "output_type": "display_data"
    },
    {
     "data": {
      "application/vnd.jupyter.widget-view+json": {
       "model_id": "",
       "version_major": 2,
       "version_minor": 0
      },
      "text/plain": [
       "[MNIST | ADAM, LR = 0.001 | SS LOGIC | LAYERS = (784,128) (128,64,10) | DIFF WEIGHT 1 | MAXSAT | 4 CLAUSES] Ru…"
      ]
     },
     "metadata": {},
     "output_type": "display_data"
    },
    {
     "data": {
      "application/vnd.jupyter.widget-view+json": {
       "model_id": "",
       "version_major": 2,
       "version_minor": 0
      },
      "text/plain": [
       "[MNIST | ADAM, LR = 0.001 | SS LOGIC | LAYERS = (784,128) (128,64,10) | DIFF WEIGHT 1 | MAXSAT | 4 CLAUSES] Ru…"
      ]
     },
     "metadata": {},
     "output_type": "display_data"
    },
    {
     "data": {
      "application/vnd.jupyter.widget-view+json": {
       "model_id": "",
       "version_major": 2,
       "version_minor": 0
      },
      "text/plain": [
       "[MNIST | ADAM, LR = 0.001 | SS LOGIC | LAYERS = (784,128) (128,64,10) | DIFF WEIGHT 1 | MAXSAT | 4 CLAUSES] Ru…"
      ]
     },
     "metadata": {},
     "output_type": "display_data"
    },
    {
     "data": {
      "application/vnd.jupyter.widget-view+json": {
       "model_id": "",
       "version_major": 2,
       "version_minor": 0
      },
      "text/plain": [
       "[MNIST | ADAM, LR = 0.001 | SS LOGIC | LAYERS = (784,128) (128,64,10) | DIFF WEIGHT 1 | MAXSAT | 4 CLAUSES] Ru…"
      ]
     },
     "metadata": {},
     "output_type": "display_data"
    },
    {
     "data": {
      "application/vnd.jupyter.widget-view+json": {
       "model_id": "",
       "version_major": 2,
       "version_minor": 0
      },
      "text/plain": [
       "[MNIST | ADAM, LR = 0.001 | SS LOGIC | LAYERS = (784,128) (128,64,10) | DIFF WEIGHT 1e-05 | MAXSAT | 4 CLAUSES…"
      ]
     },
     "metadata": {},
     "output_type": "display_data"
    },
    {
     "data": {
      "application/vnd.jupyter.widget-view+json": {
       "model_id": "",
       "version_major": 2,
       "version_minor": 0
      },
      "text/plain": [
       "[MNIST | ADAM, LR = 0.001 | SS LOGIC | LAYERS = (784,128) (128,64,10) | DIFF WEIGHT 1e-05 | MAXSAT | 4 CLAUSES…"
      ]
     },
     "metadata": {},
     "output_type": "display_data"
    },
    {
     "data": {
      "application/vnd.jupyter.widget-view+json": {
       "model_id": "",
       "version_major": 2,
       "version_minor": 0
      },
      "text/plain": [
       "[MNIST | ADAM, LR = 0.001 | SS LOGIC | LAYERS = (784,128) (128,64,10) | DIFF WEIGHT 1e-05 | MAXSAT | 4 CLAUSES…"
      ]
     },
     "metadata": {},
     "output_type": "display_data"
    },
    {
     "data": {
      "application/vnd.jupyter.widget-view+json": {
       "model_id": "",
       "version_major": 2,
       "version_minor": 0
      },
      "text/plain": [
       "[MNIST | ADAM, LR = 0.001 | SS LOGIC | LAYERS = (784,128) (128,64,10) | DIFF WEIGHT 1e-05 | MAXSAT | 4 CLAUSES…"
      ]
     },
     "metadata": {},
     "output_type": "display_data"
    },
    {
     "data": {
      "application/vnd.jupyter.widget-view+json": {
       "model_id": "",
       "version_major": 2,
       "version_minor": 0
      },
      "text/plain": [
       "[MNIST | ADAM, LR = 0.001 | SS LOGIC | LAYERS = (784,128) (128,64,10) | DIFF WEIGHT 1e-05 | MAXSAT | 4 CLAUSES…"
      ]
     },
     "metadata": {},
     "output_type": "display_data"
    },
    {
     "data": {
      "application/vnd.jupyter.widget-view+json": {
       "model_id": "",
       "version_major": 2,
       "version_minor": 0
      },
      "text/plain": [
       "[MNIST | ADAM, LR = 0.001 | SS LOGIC | LAYERS = (784,128) (128,64,10) | DIFF WEIGHT 1e-05 | MAXSAT | 4 CLAUSES…"
      ]
     },
     "metadata": {},
     "output_type": "display_data"
    },
    {
     "data": {
      "application/vnd.jupyter.widget-view+json": {
       "model_id": "",
       "version_major": 2,
       "version_minor": 0
      },
      "text/plain": [
       "[MNIST | ADAM, LR = 0.001 | SS LOGIC | LAYERS = (784,128) (128,64,10) | DIFF WEIGHT 1e-05 | MAXSAT | 4 CLAUSES…"
      ]
     },
     "metadata": {},
     "output_type": "display_data"
    },
    {
     "data": {
      "application/vnd.jupyter.widget-view+json": {
       "model_id": "",
       "version_major": 2,
       "version_minor": 0
      },
      "text/plain": [
       "[MNIST | ADAM, LR = 0.001 | SS LOGIC | LAYERS = (784,128) (128,64,10) | DIFF WEIGHT 1e-05 | MAXSAT | 4 CLAUSES…"
      ]
     },
     "metadata": {},
     "output_type": "display_data"
    },
    {
     "data": {
      "application/vnd.jupyter.widget-view+json": {
       "model_id": "",
       "version_major": 2,
       "version_minor": 0
      },
      "text/plain": [
       "[MNIST | ADAM, LR = 0.001 | SS LOGIC | LAYERS = (784,128) (128,64,10) | DIFF WEIGHT 0.001 | MAXSAT | 4 CLAUSES…"
      ]
     },
     "metadata": {},
     "output_type": "display_data"
    },
    {
     "data": {
      "application/vnd.jupyter.widget-view+json": {
       "model_id": "",
       "version_major": 2,
       "version_minor": 0
      },
      "text/plain": [
       "[MNIST | ADAM, LR = 0.001 | SS LOGIC | LAYERS = (784,128) (128,64,10) | DIFF WEIGHT 0.001 | MAXSAT | 4 CLAUSES…"
      ]
     },
     "metadata": {},
     "output_type": "display_data"
    },
    {
     "data": {
      "application/vnd.jupyter.widget-view+json": {
       "model_id": "",
       "version_major": 2,
       "version_minor": 0
      },
      "text/plain": [
       "[MNIST | ADAM, LR = 0.001 | SS LOGIC | LAYERS = (784,128) (128,64,10) | DIFF WEIGHT 0.001 | MAXSAT | 4 CLAUSES…"
      ]
     },
     "metadata": {},
     "output_type": "display_data"
    },
    {
     "data": {
      "application/vnd.jupyter.widget-view+json": {
       "model_id": "",
       "version_major": 2,
       "version_minor": 0
      },
      "text/plain": [
       "[MNIST | ADAM, LR = 0.001 | SS LOGIC | LAYERS = (784,128) (128,64,10) | DIFF WEIGHT 0.001 | MAXSAT | 4 CLAUSES…"
      ]
     },
     "metadata": {},
     "output_type": "display_data"
    },
    {
     "data": {
      "application/vnd.jupyter.widget-view+json": {
       "model_id": "",
       "version_major": 2,
       "version_minor": 0
      },
      "text/plain": [
       "[MNIST | ADAM, LR = 0.001 | SS LOGIC | LAYERS = (784,128) (128,64,10) | DIFF WEIGHT 0.001 | MAXSAT | 4 CLAUSES…"
      ]
     },
     "metadata": {},
     "output_type": "display_data"
    },
    {
     "data": {
      "application/vnd.jupyter.widget-view+json": {
       "model_id": "",
       "version_major": 2,
       "version_minor": 0
      },
      "text/plain": [
       "[MNIST | ADAM, LR = 0.001 | SS LOGIC | LAYERS = (784,128) (128,64,10) | DIFF WEIGHT 0.001 | MAXSAT | 4 CLAUSES…"
      ]
     },
     "metadata": {},
     "output_type": "display_data"
    },
    {
     "data": {
      "application/vnd.jupyter.widget-view+json": {
       "model_id": "",
       "version_major": 2,
       "version_minor": 0
      },
      "text/plain": [
       "[MNIST | ADAM, LR = 0.001 | SS LOGIC | LAYERS = (784,128) (128,64,10) | DIFF WEIGHT 0.001 | MAXSAT | 4 CLAUSES…"
      ]
     },
     "metadata": {},
     "output_type": "display_data"
    },
    {
     "data": {
      "application/vnd.jupyter.widget-view+json": {
       "model_id": "",
       "version_major": 2,
       "version_minor": 0
      },
      "text/plain": [
       "[MNIST | ADAM, LR = 0.001 | SS LOGIC | LAYERS = (784,128) (128,64,10) | DIFF WEIGHT 0.001 | MAXSAT | 4 CLAUSES…"
      ]
     },
     "metadata": {},
     "output_type": "display_data"
    },
    {
     "data": {
      "application/vnd.jupyter.widget-view+json": {
       "model_id": "",
       "version_major": 2,
       "version_minor": 0
      },
      "text/plain": [
       "[MNIST | ADAM, LR = 0.001 | SS LOGIC | LAYERS = (784,128) (128,64,10) | DIFF WEIGHT 1 | MAXSAT | 4 CLAUSES] Ru…"
      ]
     },
     "metadata": {},
     "output_type": "display_data"
    },
    {
     "data": {
      "application/vnd.jupyter.widget-view+json": {
       "model_id": "",
       "version_major": 2,
       "version_minor": 0
      },
      "text/plain": [
       "[MNIST | ADAM, LR = 0.001 | SS LOGIC | LAYERS = (784,128) (128,64,10) | DIFF WEIGHT 1 | MAXSAT | 4 CLAUSES] Ru…"
      ]
     },
     "metadata": {},
     "output_type": "display_data"
    },
    {
     "data": {
      "application/vnd.jupyter.widget-view+json": {
       "model_id": "",
       "version_major": 2,
       "version_minor": 0
      },
      "text/plain": [
       "[MNIST | ADAM, LR = 0.001 | SS LOGIC | LAYERS = (784,128) (128,64,10) | DIFF WEIGHT 1 | MAXSAT | 4 CLAUSES] Ru…"
      ]
     },
     "metadata": {},
     "output_type": "display_data"
    },
    {
     "data": {
      "application/vnd.jupyter.widget-view+json": {
       "model_id": "",
       "version_major": 2,
       "version_minor": 0
      },
      "text/plain": [
       "[MNIST | ADAM, LR = 0.001 | SS LOGIC | LAYERS = (784,128) (128,64,10) | DIFF WEIGHT 1 | MAXSAT | 4 CLAUSES] Ru…"
      ]
     },
     "metadata": {},
     "output_type": "display_data"
    },
    {
     "data": {
      "application/vnd.jupyter.widget-view+json": {
       "model_id": "",
       "version_major": 2,
       "version_minor": 0
      },
      "text/plain": [
       "[MNIST | ADAM, LR = 0.001 | SS LOGIC | LAYERS = (784,128) (128,64,10) | DIFF WEIGHT 1 | MAXSAT | 4 CLAUSES] Ru…"
      ]
     },
     "metadata": {},
     "output_type": "display_data"
    },
    {
     "data": {
      "application/vnd.jupyter.widget-view+json": {
       "model_id": "",
       "version_major": 2,
       "version_minor": 0
      },
      "text/plain": [
       "[MNIST | ADAM, LR = 0.001 | SS LOGIC | LAYERS = (784,128) (128,64,10) | DIFF WEIGHT 1 | MAXSAT | 4 CLAUSES] Ru…"
      ]
     },
     "metadata": {},
     "output_type": "display_data"
    },
    {
     "data": {
      "application/vnd.jupyter.widget-view+json": {
       "model_id": "",
       "version_major": 2,
       "version_minor": 0
      },
      "text/plain": [
       "[MNIST | ADAM, LR = 0.001 | SS LOGIC | LAYERS = (784,128) (128,64,10) | DIFF WEIGHT 1 | MAXSAT | 4 CLAUSES] Ru…"
      ]
     },
     "metadata": {},
     "output_type": "display_data"
    },
    {
     "data": {
      "application/vnd.jupyter.widget-view+json": {
       "model_id": "",
       "version_major": 2,
       "version_minor": 0
      },
      "text/plain": [
       "[MNIST | ADAM, LR = 0.001 | SS LOGIC | LAYERS = (784,128) (128,64,10) | DIFF WEIGHT 1 | MAXSAT | 4 CLAUSES] Ru…"
      ]
     },
     "metadata": {},
     "output_type": "display_data"
    },
    {
     "data": {
      "application/vnd.jupyter.widget-view+json": {
       "model_id": "",
       "version_major": 2,
       "version_minor": 0
      },
      "text/plain": [
       "[MNIST | ADAM, LR = 0.001 | SS LOGIC | LAYERS = (784,128) (128,64,10) | DIFF WEIGHT 1e-05 | MAXSAT | 4 CLAUSES…"
      ]
     },
     "metadata": {},
     "output_type": "display_data"
    },
    {
     "data": {
      "application/vnd.jupyter.widget-view+json": {
       "model_id": "",
       "version_major": 2,
       "version_minor": 0
      },
      "text/plain": [
       "[MNIST | ADAM, LR = 0.001 | SS LOGIC | LAYERS = (784,128) (128,64,10) | DIFF WEIGHT 1e-05 | MAXSAT | 4 CLAUSES…"
      ]
     },
     "metadata": {},
     "output_type": "display_data"
    },
    {
     "data": {
      "application/vnd.jupyter.widget-view+json": {
       "model_id": "",
       "version_major": 2,
       "version_minor": 0
      },
      "text/plain": [
       "[MNIST | ADAM, LR = 0.001 | SS LOGIC | LAYERS = (784,128) (128,64,10) | DIFF WEIGHT 1e-05 | MAXSAT | 4 CLAUSES…"
      ]
     },
     "metadata": {},
     "output_type": "display_data"
    },
    {
     "data": {
      "application/vnd.jupyter.widget-view+json": {
       "model_id": "",
       "version_major": 2,
       "version_minor": 0
      },
      "text/plain": [
       "[MNIST | ADAM, LR = 0.001 | SS LOGIC | LAYERS = (784,128) (128,64,10) | DIFF WEIGHT 1e-05 | MAXSAT | 4 CLAUSES…"
      ]
     },
     "metadata": {},
     "output_type": "display_data"
    },
    {
     "data": {
      "application/vnd.jupyter.widget-view+json": {
       "model_id": "",
       "version_major": 2,
       "version_minor": 0
      },
      "text/plain": [
       "[MNIST | ADAM, LR = 0.001 | SS LOGIC | LAYERS = (784,128) (128,64,10) | DIFF WEIGHT 1e-05 | MAXSAT | 4 CLAUSES…"
      ]
     },
     "metadata": {},
     "output_type": "display_data"
    },
    {
     "data": {
      "application/vnd.jupyter.widget-view+json": {
       "model_id": "",
       "version_major": 2,
       "version_minor": 0
      },
      "text/plain": [
       "[MNIST | ADAM, LR = 0.001 | SS LOGIC | LAYERS = (784,128) (128,64,10) | DIFF WEIGHT 1e-05 | MAXSAT | 4 CLAUSES…"
      ]
     },
     "metadata": {},
     "output_type": "display_data"
    },
    {
     "data": {
      "application/vnd.jupyter.widget-view+json": {
       "model_id": "",
       "version_major": 2,
       "version_minor": 0
      },
      "text/plain": [
       "[MNIST | ADAM, LR = 0.001 | SS LOGIC | LAYERS = (784,128) (128,64,10) | DIFF WEIGHT 1e-05 | MAXSAT | 4 CLAUSES…"
      ]
     },
     "metadata": {},
     "output_type": "display_data"
    },
    {
     "data": {
      "application/vnd.jupyter.widget-view+json": {
       "model_id": "",
       "version_major": 2,
       "version_minor": 0
      },
      "text/plain": [
       "[MNIST | ADAM, LR = 0.001 | SS LOGIC | LAYERS = (784,128) (128,64,10) | DIFF WEIGHT 1e-05 | MAXSAT | 4 CLAUSES…"
      ]
     },
     "metadata": {},
     "output_type": "display_data"
    },
    {
     "data": {
      "application/vnd.jupyter.widget-view+json": {
       "model_id": "",
       "version_major": 2,
       "version_minor": 0
      },
      "text/plain": [
       "[MNIST | ADAM, LR = 0.001 | SS LOGIC | LAYERS = (784,128) (128,64,10) | DIFF WEIGHT 0.001 | MAXSAT | 4 CLAUSES…"
      ]
     },
     "metadata": {},
     "output_type": "display_data"
    },
    {
     "data": {
      "application/vnd.jupyter.widget-view+json": {
       "model_id": "",
       "version_major": 2,
       "version_minor": 0
      },
      "text/plain": [
       "[MNIST | ADAM, LR = 0.001 | SS LOGIC | LAYERS = (784,128) (128,64,10) | DIFF WEIGHT 0.001 | MAXSAT | 4 CLAUSES…"
      ]
     },
     "metadata": {},
     "output_type": "display_data"
    },
    {
     "data": {
      "application/vnd.jupyter.widget-view+json": {
       "model_id": "",
       "version_major": 2,
       "version_minor": 0
      },
      "text/plain": [
       "[MNIST | ADAM, LR = 0.001 | SS LOGIC | LAYERS = (784,128) (128,64,10) | DIFF WEIGHT 0.001 | MAXSAT | 4 CLAUSES…"
      ]
     },
     "metadata": {},
     "output_type": "display_data"
    },
    {
     "data": {
      "application/vnd.jupyter.widget-view+json": {
       "model_id": "",
       "version_major": 2,
       "version_minor": 0
      },
      "text/plain": [
       "[MNIST | ADAM, LR = 0.001 | SS LOGIC | LAYERS = (784,128) (128,64,10) | DIFF WEIGHT 0.001 | MAXSAT | 4 CLAUSES…"
      ]
     },
     "metadata": {},
     "output_type": "display_data"
    },
    {
     "data": {
      "application/vnd.jupyter.widget-view+json": {
       "model_id": "",
       "version_major": 2,
       "version_minor": 0
      },
      "text/plain": [
       "[MNIST | ADAM, LR = 0.001 | SS LOGIC | LAYERS = (784,128) (128,64,10) | DIFF WEIGHT 0.001 | MAXSAT | 4 CLAUSES…"
      ]
     },
     "metadata": {},
     "output_type": "display_data"
    },
    {
     "data": {
      "application/vnd.jupyter.widget-view+json": {
       "model_id": "",
       "version_major": 2,
       "version_minor": 0
      },
      "text/plain": [
       "[MNIST | ADAM, LR = 0.001 | SS LOGIC | LAYERS = (784,128) (128,64,10) | DIFF WEIGHT 0.001 | MAXSAT | 4 CLAUSES…"
      ]
     },
     "metadata": {},
     "output_type": "display_data"
    },
    {
     "data": {
      "application/vnd.jupyter.widget-view+json": {
       "model_id": "",
       "version_major": 2,
       "version_minor": 0
      },
      "text/plain": [
       "[MNIST | ADAM, LR = 0.001 | SS LOGIC | LAYERS = (784,128) (128,64,10) | DIFF WEIGHT 0.001 | MAXSAT | 4 CLAUSES…"
      ]
     },
     "metadata": {},
     "output_type": "display_data"
    },
    {
     "data": {
      "application/vnd.jupyter.widget-view+json": {
       "model_id": "",
       "version_major": 2,
       "version_minor": 0
      },
      "text/plain": [
       "[MNIST | ADAM, LR = 0.001 | SS LOGIC | LAYERS = (784,128) (128,64,10) | DIFF WEIGHT 0.001 | MAXSAT | 4 CLAUSES…"
      ]
     },
     "metadata": {},
     "output_type": "display_data"
    },
    {
     "data": {
      "application/vnd.jupyter.widget-view+json": {
       "model_id": "",
       "version_major": 2,
       "version_minor": 0
      },
      "text/plain": [
       "[MNIST | ADAM, LR = 0.001 | SS LOGIC | LAYERS = (784,128) (128,64,10) | DIFF WEIGHT 1 | MAXSAT | 4 CLAUSES] Ru…"
      ]
     },
     "metadata": {},
     "output_type": "display_data"
    },
    {
     "data": {
      "application/vnd.jupyter.widget-view+json": {
       "model_id": "",
       "version_major": 2,
       "version_minor": 0
      },
      "text/plain": [
       "[MNIST | ADAM, LR = 0.001 | SS LOGIC | LAYERS = (784,128) (128,64,10) | DIFF WEIGHT 1 | MAXSAT | 4 CLAUSES] Ru…"
      ]
     },
     "metadata": {},
     "output_type": "display_data"
    },
    {
     "data": {
      "application/vnd.jupyter.widget-view+json": {
       "model_id": "",
       "version_major": 2,
       "version_minor": 0
      },
      "text/plain": [
       "[MNIST | ADAM, LR = 0.001 | SS LOGIC | LAYERS = (784,128) (128,64,10) | DIFF WEIGHT 1 | MAXSAT | 4 CLAUSES] Ru…"
      ]
     },
     "metadata": {},
     "output_type": "display_data"
    },
    {
     "data": {
      "application/vnd.jupyter.widget-view+json": {
       "model_id": "",
       "version_major": 2,
       "version_minor": 0
      },
      "text/plain": [
       "[MNIST | ADAM, LR = 0.001 | SS LOGIC | LAYERS = (784,128) (128,64,10) | DIFF WEIGHT 1 | MAXSAT | 4 CLAUSES] Ru…"
      ]
     },
     "metadata": {},
     "output_type": "display_data"
    },
    {
     "data": {
      "application/vnd.jupyter.widget-view+json": {
       "model_id": "",
       "version_major": 2,
       "version_minor": 0
      },
      "text/plain": [
       "[MNIST | ADAM, LR = 0.001 | SS LOGIC | LAYERS = (784,128) (128,64,10) | DIFF WEIGHT 1 | MAXSAT | 4 CLAUSES] Ru…"
      ]
     },
     "metadata": {},
     "output_type": "display_data"
    },
    {
     "data": {
      "application/vnd.jupyter.widget-view+json": {
       "model_id": "",
       "version_major": 2,
       "version_minor": 0
      },
      "text/plain": [
       "[MNIST | ADAM, LR = 0.001 | SS LOGIC | LAYERS = (784,128) (128,64,10) | DIFF WEIGHT 1 | MAXSAT | 4 CLAUSES] Ru…"
      ]
     },
     "metadata": {},
     "output_type": "display_data"
    },
    {
     "data": {
      "application/vnd.jupyter.widget-view+json": {
       "model_id": "",
       "version_major": 2,
       "version_minor": 0
      },
      "text/plain": [
       "[MNIST | ADAM, LR = 0.001 | SS LOGIC | LAYERS = (784,128) (128,64,10) | DIFF WEIGHT 1 | MAXSAT | 4 CLAUSES] Ru…"
      ]
     },
     "metadata": {},
     "output_type": "display_data"
    },
    {
     "data": {
      "application/vnd.jupyter.widget-view+json": {
       "model_id": "",
       "version_major": 2,
       "version_minor": 0
      },
      "text/plain": [
       "[MNIST | ADAM, LR = 0.001 | SS LOGIC | LAYERS = (784,128) (128,64,10) | DIFF WEIGHT 1 | MAXSAT | 4 CLAUSES] Ru…"
      ]
     },
     "metadata": {},
     "output_type": "display_data"
    },
    {
     "data": {
      "application/vnd.jupyter.widget-view+json": {
       "model_id": "",
       "version_major": 2,
       "version_minor": 0
      },
      "text/plain": [
       "[MNIST | ADAM, LR = 0.001 | SS LOGIC | LAYERS = (784,128) (128,64,10) | DIFF WEIGHT 1e-05 | MAXSAT | 4 CLAUSES…"
      ]
     },
     "metadata": {},
     "output_type": "display_data"
    },
    {
     "data": {
      "application/vnd.jupyter.widget-view+json": {
       "model_id": "",
       "version_major": 2,
       "version_minor": 0
      },
      "text/plain": [
       "[MNIST | ADAM, LR = 0.001 | SS LOGIC | LAYERS = (784,128) (128,64,10) | DIFF WEIGHT 1e-05 | MAXSAT | 4 CLAUSES…"
      ]
     },
     "metadata": {},
     "output_type": "display_data"
    },
    {
     "data": {
      "application/vnd.jupyter.widget-view+json": {
       "model_id": "",
       "version_major": 2,
       "version_minor": 0
      },
      "text/plain": [
       "[MNIST | ADAM, LR = 0.001 | SS LOGIC | LAYERS = (784,128) (128,64,10) | DIFF WEIGHT 1e-05 | MAXSAT | 4 CLAUSES…"
      ]
     },
     "metadata": {},
     "output_type": "display_data"
    },
    {
     "data": {
      "application/vnd.jupyter.widget-view+json": {
       "model_id": "",
       "version_major": 2,
       "version_minor": 0
      },
      "text/plain": [
       "[MNIST | ADAM, LR = 0.001 | SS LOGIC | LAYERS = (784,128) (128,64,10) | DIFF WEIGHT 1e-05 | MAXSAT | 4 CLAUSES…"
      ]
     },
     "metadata": {},
     "output_type": "display_data"
    },
    {
     "data": {
      "application/vnd.jupyter.widget-view+json": {
       "model_id": "",
       "version_major": 2,
       "version_minor": 0
      },
      "text/plain": [
       "[MNIST | ADAM, LR = 0.001 | SS LOGIC | LAYERS = (784,128) (128,64,10) | DIFF WEIGHT 1e-05 | MAXSAT | 4 CLAUSES…"
      ]
     },
     "metadata": {},
     "output_type": "display_data"
    },
    {
     "data": {
      "application/vnd.jupyter.widget-view+json": {
       "model_id": "",
       "version_major": 2,
       "version_minor": 0
      },
      "text/plain": [
       "[MNIST | ADAM, LR = 0.001 | SS LOGIC | LAYERS = (784,128) (128,64,10) | DIFF WEIGHT 1e-05 | MAXSAT | 4 CLAUSES…"
      ]
     },
     "metadata": {},
     "output_type": "display_data"
    },
    {
     "data": {
      "application/vnd.jupyter.widget-view+json": {
       "model_id": "",
       "version_major": 2,
       "version_minor": 0
      },
      "text/plain": [
       "[MNIST | ADAM, LR = 0.001 | SS LOGIC | LAYERS = (784,128) (128,64,10) | DIFF WEIGHT 1e-05 | MAXSAT | 4 CLAUSES…"
      ]
     },
     "metadata": {},
     "output_type": "display_data"
    },
    {
     "data": {
      "application/vnd.jupyter.widget-view+json": {
       "model_id": "",
       "version_major": 2,
       "version_minor": 0
      },
      "text/plain": [
       "[MNIST | ADAM, LR = 0.001 | SS LOGIC | LAYERS = (784,128) (128,64,10) | DIFF WEIGHT 1e-05 | MAXSAT | 4 CLAUSES…"
      ]
     },
     "metadata": {},
     "output_type": "display_data"
    },
    {
     "data": {
      "application/vnd.jupyter.widget-view+json": {
       "model_id": "",
       "version_major": 2,
       "version_minor": 0
      },
      "text/plain": [
       "[MNIST | ADAM, LR = 0.001 | SS LOGIC | LAYERS = (784,128) (128,64,10) | DIFF WEIGHT 0.001 | MAXSAT | 4 CLAUSES…"
      ]
     },
     "metadata": {},
     "output_type": "display_data"
    },
    {
     "data": {
      "application/vnd.jupyter.widget-view+json": {
       "model_id": "",
       "version_major": 2,
       "version_minor": 0
      },
      "text/plain": [
       "[MNIST | ADAM, LR = 0.001 | SS LOGIC | LAYERS = (784,128) (128,64,10) | DIFF WEIGHT 0.001 | MAXSAT | 4 CLAUSES…"
      ]
     },
     "metadata": {},
     "output_type": "display_data"
    },
    {
     "data": {
      "application/vnd.jupyter.widget-view+json": {
       "model_id": "",
       "version_major": 2,
       "version_minor": 0
      },
      "text/plain": [
       "[MNIST | ADAM, LR = 0.001 | SS LOGIC | LAYERS = (784,128) (128,64,10) | DIFF WEIGHT 0.001 | MAXSAT | 4 CLAUSES…"
      ]
     },
     "metadata": {},
     "output_type": "display_data"
    },
    {
     "data": {
      "application/vnd.jupyter.widget-view+json": {
       "model_id": "",
       "version_major": 2,
       "version_minor": 0
      },
      "text/plain": [
       "[MNIST | ADAM, LR = 0.001 | SS LOGIC | LAYERS = (784,128) (128,64,10) | DIFF WEIGHT 0.001 | MAXSAT | 4 CLAUSES…"
      ]
     },
     "metadata": {},
     "output_type": "display_data"
    },
    {
     "data": {
      "application/vnd.jupyter.widget-view+json": {
       "model_id": "",
       "version_major": 2,
       "version_minor": 0
      },
      "text/plain": [
       "[MNIST | ADAM, LR = 0.001 | SS LOGIC | LAYERS = (784,128) (128,64,10) | DIFF WEIGHT 0.001 | MAXSAT | 4 CLAUSES…"
      ]
     },
     "metadata": {},
     "output_type": "display_data"
    },
    {
     "data": {
      "application/vnd.jupyter.widget-view+json": {
       "model_id": "",
       "version_major": 2,
       "version_minor": 0
      },
      "text/plain": [
       "[MNIST | ADAM, LR = 0.001 | SS LOGIC | LAYERS = (784,128) (128,64,10) | DIFF WEIGHT 0.001 | MAXSAT | 4 CLAUSES…"
      ]
     },
     "metadata": {},
     "output_type": "display_data"
    },
    {
     "data": {
      "application/vnd.jupyter.widget-view+json": {
       "model_id": "",
       "version_major": 2,
       "version_minor": 0
      },
      "text/plain": [
       "[MNIST | ADAM, LR = 0.001 | SS LOGIC | LAYERS = (784,128) (128,64,10) | DIFF WEIGHT 0.001 | MAXSAT | 4 CLAUSES…"
      ]
     },
     "metadata": {},
     "output_type": "display_data"
    },
    {
     "data": {
      "application/vnd.jupyter.widget-view+json": {
       "model_id": "",
       "version_major": 2,
       "version_minor": 0
      },
      "text/plain": [
       "[MNIST | ADAM, LR = 0.001 | SS LOGIC | LAYERS = (784,128) (128,64,10) | DIFF WEIGHT 0.001 | MAXSAT | 4 CLAUSES…"
      ]
     },
     "metadata": {},
     "output_type": "display_data"
    },
    {
     "data": {
      "application/vnd.jupyter.widget-view+json": {
       "model_id": "",
       "version_major": 2,
       "version_minor": 0
      },
      "text/plain": [
       "[MNIST | ADAM, LR = 0.001 | SS LOGIC | LAYERS = (784,128) (128,64,10) | DIFF WEIGHT 1 | MAXSAT | 4 CLAUSES] Ru…"
      ]
     },
     "metadata": {},
     "output_type": "display_data"
    },
    {
     "data": {
      "application/vnd.jupyter.widget-view+json": {
       "model_id": "",
       "version_major": 2,
       "version_minor": 0
      },
      "text/plain": [
       "[MNIST | ADAM, LR = 0.001 | SS LOGIC | LAYERS = (784,128) (128,64,10) | DIFF WEIGHT 1 | MAXSAT | 4 CLAUSES] Ru…"
      ]
     },
     "metadata": {},
     "output_type": "display_data"
    },
    {
     "data": {
      "application/vnd.jupyter.widget-view+json": {
       "model_id": "",
       "version_major": 2,
       "version_minor": 0
      },
      "text/plain": [
       "[MNIST | ADAM, LR = 0.001 | SS LOGIC | LAYERS = (784,128) (128,64,10) | DIFF WEIGHT 1 | MAXSAT | 4 CLAUSES] Ru…"
      ]
     },
     "metadata": {},
     "output_type": "display_data"
    },
    {
     "data": {
      "application/vnd.jupyter.widget-view+json": {
       "model_id": "",
       "version_major": 2,
       "version_minor": 0
      },
      "text/plain": [
       "[MNIST | ADAM, LR = 0.001 | SS LOGIC | LAYERS = (784,128) (128,64,10) | DIFF WEIGHT 1 | MAXSAT | 4 CLAUSES] Ru…"
      ]
     },
     "metadata": {},
     "output_type": "display_data"
    },
    {
     "data": {
      "application/vnd.jupyter.widget-view+json": {
       "model_id": "",
       "version_major": 2,
       "version_minor": 0
      },
      "text/plain": [
       "[MNIST | ADAM, LR = 0.001 | SS LOGIC | LAYERS = (784,128) (128,64,10) | DIFF WEIGHT 1 | MAXSAT | 4 CLAUSES] Ru…"
      ]
     },
     "metadata": {},
     "output_type": "display_data"
    },
    {
     "data": {
      "application/vnd.jupyter.widget-view+json": {
       "model_id": "",
       "version_major": 2,
       "version_minor": 0
      },
      "text/plain": [
       "[MNIST | ADAM, LR = 0.001 | SS LOGIC | LAYERS = (784,128) (128,64,10) | DIFF WEIGHT 1 | MAXSAT | 4 CLAUSES] Ru…"
      ]
     },
     "metadata": {},
     "output_type": "display_data"
    },
    {
     "data": {
      "application/vnd.jupyter.widget-view+json": {
       "model_id": "",
       "version_major": 2,
       "version_minor": 0
      },
      "text/plain": [
       "[MNIST | ADAM, LR = 0.001 | SS LOGIC | LAYERS = (784,128) (128,64,10) | DIFF WEIGHT 1 | MAXSAT | 4 CLAUSES] Ru…"
      ]
     },
     "metadata": {},
     "output_type": "display_data"
    },
    {
     "data": {
      "application/vnd.jupyter.widget-view+json": {
       "model_id": "",
       "version_major": 2,
       "version_minor": 0
      },
      "text/plain": [
       "[MNIST | ADAM, LR = 0.001 | SS LOGIC | LAYERS = (784,128) (128,64,10) | DIFF WEIGHT 1 | MAXSAT | 4 CLAUSES] Ru…"
      ]
     },
     "metadata": {},
     "output_type": "display_data"
    },
    {
     "data": {
      "application/vnd.jupyter.widget-view+json": {
       "model_id": "",
       "version_major": 2,
       "version_minor": 0
      },
      "text/plain": [
       "[MNIST | ADAM, LR = 0.001 | SS LOGIC | LAYERS = (784,128) (128,64,10) | DIFF WEIGHT 1e-05 | MAXSAT | 4 CLAUSES…"
      ]
     },
     "metadata": {},
     "output_type": "display_data"
    },
    {
     "data": {
      "application/vnd.jupyter.widget-view+json": {
       "model_id": "",
       "version_major": 2,
       "version_minor": 0
      },
      "text/plain": [
       "[MNIST | ADAM, LR = 0.001 | SS LOGIC | LAYERS = (784,128) (128,64,10) | DIFF WEIGHT 1e-05 | MAXSAT | 4 CLAUSES…"
      ]
     },
     "metadata": {},
     "output_type": "display_data"
    },
    {
     "data": {
      "application/vnd.jupyter.widget-view+json": {
       "model_id": "",
       "version_major": 2,
       "version_minor": 0
      },
      "text/plain": [
       "[MNIST | ADAM, LR = 0.001 | SS LOGIC | LAYERS = (784,128) (128,64,10) | DIFF WEIGHT 1e-05 | MAXSAT | 4 CLAUSES…"
      ]
     },
     "metadata": {},
     "output_type": "display_data"
    },
    {
     "data": {
      "application/vnd.jupyter.widget-view+json": {
       "model_id": "",
       "version_major": 2,
       "version_minor": 0
      },
      "text/plain": [
       "[MNIST | ADAM, LR = 0.001 | SS LOGIC | LAYERS = (784,128) (128,64,10) | DIFF WEIGHT 1e-05 | MAXSAT | 4 CLAUSES…"
      ]
     },
     "metadata": {},
     "output_type": "display_data"
    },
    {
     "data": {
      "application/vnd.jupyter.widget-view+json": {
       "model_id": "",
       "version_major": 2,
       "version_minor": 0
      },
      "text/plain": [
       "[MNIST | ADAM, LR = 0.001 | SS LOGIC | LAYERS = (784,128) (128,64,10) | DIFF WEIGHT 1e-05 | MAXSAT | 4 CLAUSES…"
      ]
     },
     "metadata": {},
     "output_type": "display_data"
    },
    {
     "data": {
      "application/vnd.jupyter.widget-view+json": {
       "model_id": "",
       "version_major": 2,
       "version_minor": 0
      },
      "text/plain": [
       "[MNIST | ADAM, LR = 0.001 | SS LOGIC | LAYERS = (784,128) (128,64,10) | DIFF WEIGHT 1e-05 | MAXSAT | 4 CLAUSES…"
      ]
     },
     "metadata": {},
     "output_type": "display_data"
    },
    {
     "data": {
      "application/vnd.jupyter.widget-view+json": {
       "model_id": "",
       "version_major": 2,
       "version_minor": 0
      },
      "text/plain": [
       "[MNIST | ADAM, LR = 0.001 | SS LOGIC | LAYERS = (784,128) (128,64,10) | DIFF WEIGHT 1e-05 | MAXSAT | 4 CLAUSES…"
      ]
     },
     "metadata": {},
     "output_type": "display_data"
    },
    {
     "data": {
      "application/vnd.jupyter.widget-view+json": {
       "model_id": "",
       "version_major": 2,
       "version_minor": 0
      },
      "text/plain": [
       "[MNIST | ADAM, LR = 0.001 | SS LOGIC | LAYERS = (784,128) (128,64,10) | DIFF WEIGHT 1e-05 | MAXSAT | 4 CLAUSES…"
      ]
     },
     "metadata": {},
     "output_type": "display_data"
    },
    {
     "data": {
      "application/vnd.jupyter.widget-view+json": {
       "model_id": "",
       "version_major": 2,
       "version_minor": 0
      },
      "text/plain": [
       "[MNIST | ADAM, LR = 0.001 | SS LOGIC | LAYERS = (784,128) (128,64,10) | DIFF WEIGHT 0.001 | MAXSAT | 4 CLAUSES…"
      ]
     },
     "metadata": {},
     "output_type": "display_data"
    },
    {
     "data": {
      "application/vnd.jupyter.widget-view+json": {
       "model_id": "",
       "version_major": 2,
       "version_minor": 0
      },
      "text/plain": [
       "[MNIST | ADAM, LR = 0.001 | SS LOGIC | LAYERS = (784,128) (128,64,10) | DIFF WEIGHT 0.001 | MAXSAT | 4 CLAUSES…"
      ]
     },
     "metadata": {},
     "output_type": "display_data"
    },
    {
     "data": {
      "application/vnd.jupyter.widget-view+json": {
       "model_id": "",
       "version_major": 2,
       "version_minor": 0
      },
      "text/plain": [
       "[MNIST | ADAM, LR = 0.001 | SS LOGIC | LAYERS = (784,128) (128,64,10) | DIFF WEIGHT 0.001 | MAXSAT | 4 CLAUSES…"
      ]
     },
     "metadata": {},
     "output_type": "display_data"
    },
    {
     "data": {
      "application/vnd.jupyter.widget-view+json": {
       "model_id": "",
       "version_major": 2,
       "version_minor": 0
      },
      "text/plain": [
       "[MNIST | ADAM, LR = 0.001 | SS LOGIC | LAYERS = (784,128) (128,64,10) | DIFF WEIGHT 0.001 | MAXSAT | 4 CLAUSES…"
      ]
     },
     "metadata": {},
     "output_type": "display_data"
    },
    {
     "data": {
      "application/vnd.jupyter.widget-view+json": {
       "model_id": "",
       "version_major": 2,
       "version_minor": 0
      },
      "text/plain": [
       "[MNIST | ADAM, LR = 0.001 | SS LOGIC | LAYERS = (784,128) (128,64,10) | DIFF WEIGHT 0.001 | MAXSAT | 4 CLAUSES…"
      ]
     },
     "metadata": {},
     "output_type": "display_data"
    },
    {
     "data": {
      "application/vnd.jupyter.widget-view+json": {
       "model_id": "",
       "version_major": 2,
       "version_minor": 0
      },
      "text/plain": [
       "[MNIST | ADAM, LR = 0.001 | SS LOGIC | LAYERS = (784,128) (128,64,10) | DIFF WEIGHT 0.001 | MAXSAT | 4 CLAUSES…"
      ]
     },
     "metadata": {},
     "output_type": "display_data"
    },
    {
     "data": {
      "application/vnd.jupyter.widget-view+json": {
       "model_id": "",
       "version_major": 2,
       "version_minor": 0
      },
      "text/plain": [
       "[MNIST | ADAM, LR = 0.001 | SS LOGIC | LAYERS = (784,128) (128,64,10) | DIFF WEIGHT 0.001 | MAXSAT | 4 CLAUSES…"
      ]
     },
     "metadata": {},
     "output_type": "display_data"
    },
    {
     "data": {
      "application/vnd.jupyter.widget-view+json": {
       "model_id": "",
       "version_major": 2,
       "version_minor": 0
      },
      "text/plain": [
       "[MNIST | ADAM, LR = 0.001 | SS LOGIC | LAYERS = (784,128) (128,64,10) | DIFF WEIGHT 0.001 | MAXSAT | 4 CLAUSES…"
      ]
     },
     "metadata": {},
     "output_type": "display_data"
    },
    {
     "data": {
      "application/vnd.jupyter.widget-view+json": {
       "model_id": "",
       "version_major": 2,
       "version_minor": 0
      },
      "text/plain": [
       "[MNIST | ADAM, LR = 0.001 | SS LOGIC | LAYERS = (784,128) (128,64,10) | DIFF WEIGHT 1 | MAXSAT | 4 CLAUSES] Ru…"
      ]
     },
     "metadata": {},
     "output_type": "display_data"
    },
    {
     "data": {
      "application/vnd.jupyter.widget-view+json": {
       "model_id": "",
       "version_major": 2,
       "version_minor": 0
      },
      "text/plain": [
       "[MNIST | ADAM, LR = 0.001 | SS LOGIC | LAYERS = (784,128) (128,64,10) | DIFF WEIGHT 1 | MAXSAT | 4 CLAUSES] Ru…"
      ]
     },
     "metadata": {},
     "output_type": "display_data"
    },
    {
     "data": {
      "application/vnd.jupyter.widget-view+json": {
       "model_id": "",
       "version_major": 2,
       "version_minor": 0
      },
      "text/plain": [
       "[MNIST | ADAM, LR = 0.001 | SS LOGIC | LAYERS = (784,128) (128,64,10) | DIFF WEIGHT 1 | MAXSAT | 4 CLAUSES] Ru…"
      ]
     },
     "metadata": {},
     "output_type": "display_data"
    },
    {
     "data": {
      "application/vnd.jupyter.widget-view+json": {
       "model_id": "",
       "version_major": 2,
       "version_minor": 0
      },
      "text/plain": [
       "[MNIST | ADAM, LR = 0.001 | SS LOGIC | LAYERS = (784,128) (128,64,10) | DIFF WEIGHT 1 | MAXSAT | 4 CLAUSES] Ru…"
      ]
     },
     "metadata": {},
     "output_type": "display_data"
    },
    {
     "data": {
      "application/vnd.jupyter.widget-view+json": {
       "model_id": "",
       "version_major": 2,
       "version_minor": 0
      },
      "text/plain": [
       "[MNIST | ADAM, LR = 0.001 | SS LOGIC | LAYERS = (784,128) (128,64,10) | DIFF WEIGHT 1 | MAXSAT | 4 CLAUSES] Ru…"
      ]
     },
     "metadata": {},
     "output_type": "display_data"
    },
    {
     "data": {
      "application/vnd.jupyter.widget-view+json": {
       "model_id": "",
       "version_major": 2,
       "version_minor": 0
      },
      "text/plain": [
       "[MNIST | ADAM, LR = 0.001 | SS LOGIC | LAYERS = (784,128) (128,64,10) | DIFF WEIGHT 1 | MAXSAT | 4 CLAUSES] Ru…"
      ]
     },
     "metadata": {},
     "output_type": "display_data"
    },
    {
     "data": {
      "application/vnd.jupyter.widget-view+json": {
       "model_id": "",
       "version_major": 2,
       "version_minor": 0
      },
      "text/plain": [
       "[MNIST | ADAM, LR = 0.001 | SS LOGIC | LAYERS = (784,128) (128,64,10) | DIFF WEIGHT 1 | MAXSAT | 4 CLAUSES] Ru…"
      ]
     },
     "metadata": {},
     "output_type": "display_data"
    },
    {
     "data": {
      "application/vnd.jupyter.widget-view+json": {
       "model_id": "",
       "version_major": 2,
       "version_minor": 0
      },
      "text/plain": [
       "[MNIST | ADAM, LR = 0.001 | SS LOGIC | LAYERS = (784,128) (128,64,10) | DIFF WEIGHT 1 | MAXSAT | 4 CLAUSES] Ru…"
      ]
     },
     "metadata": {},
     "output_type": "display_data"
    },
    {
     "data": {
      "application/vnd.jupyter.widget-view+json": {
       "model_id": "",
       "version_major": 2,
       "version_minor": 0
      },
      "text/plain": [
       "[MNIST | ADAM, LR = 0.001 | SS LOGIC | LAYERS = (784,128) (128,64,10) | DIFF WEIGHT 1e-05 | MAXSAT | 4 CLAUSES…"
      ]
     },
     "metadata": {},
     "output_type": "display_data"
    },
    {
     "data": {
      "application/vnd.jupyter.widget-view+json": {
       "model_id": "",
       "version_major": 2,
       "version_minor": 0
      },
      "text/plain": [
       "[MNIST | ADAM, LR = 0.001 | SS LOGIC | LAYERS = (784,128) (128,64,10) | DIFF WEIGHT 1e-05 | MAXSAT | 4 CLAUSES…"
      ]
     },
     "metadata": {},
     "output_type": "display_data"
    },
    {
     "data": {
      "application/vnd.jupyter.widget-view+json": {
       "model_id": "",
       "version_major": 2,
       "version_minor": 0
      },
      "text/plain": [
       "[MNIST | ADAM, LR = 0.001 | SS LOGIC | LAYERS = (784,128) (128,64,10) | DIFF WEIGHT 1e-05 | MAXSAT | 4 CLAUSES…"
      ]
     },
     "metadata": {},
     "output_type": "display_data"
    },
    {
     "data": {
      "application/vnd.jupyter.widget-view+json": {
       "model_id": "",
       "version_major": 2,
       "version_minor": 0
      },
      "text/plain": [
       "[MNIST | ADAM, LR = 0.001 | SS LOGIC | LAYERS = (784,128) (128,64,10) | DIFF WEIGHT 1e-05 | MAXSAT | 4 CLAUSES…"
      ]
     },
     "metadata": {},
     "output_type": "display_data"
    },
    {
     "data": {
      "application/vnd.jupyter.widget-view+json": {
       "model_id": "",
       "version_major": 2,
       "version_minor": 0
      },
      "text/plain": [
       "[MNIST | ADAM, LR = 0.001 | SS LOGIC | LAYERS = (784,128) (128,64,10) | DIFF WEIGHT 1e-05 | MAXSAT | 4 CLAUSES…"
      ]
     },
     "metadata": {},
     "output_type": "display_data"
    },
    {
     "data": {
      "application/vnd.jupyter.widget-view+json": {
       "model_id": "",
       "version_major": 2,
       "version_minor": 0
      },
      "text/plain": [
       "[MNIST | ADAM, LR = 0.001 | SS LOGIC | LAYERS = (784,128) (128,64,10) | DIFF WEIGHT 1e-05 | MAXSAT | 4 CLAUSES…"
      ]
     },
     "metadata": {},
     "output_type": "display_data"
    },
    {
     "data": {
      "application/vnd.jupyter.widget-view+json": {
       "model_id": "",
       "version_major": 2,
       "version_minor": 0
      },
      "text/plain": [
       "[MNIST | ADAM, LR = 0.001 | SS LOGIC | LAYERS = (784,128) (128,64,10) | DIFF WEIGHT 1e-05 | MAXSAT | 4 CLAUSES…"
      ]
     },
     "metadata": {},
     "output_type": "display_data"
    },
    {
     "data": {
      "application/vnd.jupyter.widget-view+json": {
       "model_id": "",
       "version_major": 2,
       "version_minor": 0
      },
      "text/plain": [
       "[MNIST | ADAM, LR = 0.001 | SS LOGIC | LAYERS = (784,128) (128,64,10) | DIFF WEIGHT 1e-05 | MAXSAT | 4 CLAUSES…"
      ]
     },
     "metadata": {},
     "output_type": "display_data"
    },
    {
     "data": {
      "application/vnd.jupyter.widget-view+json": {
       "model_id": "",
       "version_major": 2,
       "version_minor": 0
      },
      "text/plain": [
       "[MNIST | ADAM, LR = 0.001 | SS LOGIC | LAYERS = (784,128) (128,64,10) | DIFF WEIGHT 0.001 | MAXSAT | 4 CLAUSES…"
      ]
     },
     "metadata": {},
     "output_type": "display_data"
    },
    {
     "data": {
      "application/vnd.jupyter.widget-view+json": {
       "model_id": "",
       "version_major": 2,
       "version_minor": 0
      },
      "text/plain": [
       "[MNIST | ADAM, LR = 0.001 | SS LOGIC | LAYERS = (784,128) (128,64,10) | DIFF WEIGHT 0.001 | MAXSAT | 4 CLAUSES…"
      ]
     },
     "metadata": {},
     "output_type": "display_data"
    },
    {
     "data": {
      "application/vnd.jupyter.widget-view+json": {
       "model_id": "",
       "version_major": 2,
       "version_minor": 0
      },
      "text/plain": [
       "[MNIST | ADAM, LR = 0.001 | SS LOGIC | LAYERS = (784,128) (128,64,10) | DIFF WEIGHT 0.001 | MAXSAT | 4 CLAUSES…"
      ]
     },
     "metadata": {},
     "output_type": "display_data"
    },
    {
     "data": {
      "application/vnd.jupyter.widget-view+json": {
       "model_id": "",
       "version_major": 2,
       "version_minor": 0
      },
      "text/plain": [
       "[MNIST | ADAM, LR = 0.001 | SS LOGIC | LAYERS = (784,128) (128,64,10) | DIFF WEIGHT 0.001 | MAXSAT | 4 CLAUSES…"
      ]
     },
     "metadata": {},
     "output_type": "display_data"
    },
    {
     "data": {
      "application/vnd.jupyter.widget-view+json": {
       "model_id": "",
       "version_major": 2,
       "version_minor": 0
      },
      "text/plain": [
       "[MNIST | ADAM, LR = 0.001 | SS LOGIC | LAYERS = (784,128) (128,64,10) | DIFF WEIGHT 0.001 | MAXSAT | 4 CLAUSES…"
      ]
     },
     "metadata": {},
     "output_type": "display_data"
    },
    {
     "data": {
      "application/vnd.jupyter.widget-view+json": {
       "model_id": "",
       "version_major": 2,
       "version_minor": 0
      },
      "text/plain": [
       "[MNIST | ADAM, LR = 0.001 | SS LOGIC | LAYERS = (784,128) (128,64,10) | DIFF WEIGHT 0.001 | MAXSAT | 4 CLAUSES…"
      ]
     },
     "metadata": {},
     "output_type": "display_data"
    },
    {
     "data": {
      "application/vnd.jupyter.widget-view+json": {
       "model_id": "",
       "version_major": 2,
       "version_minor": 0
      },
      "text/plain": [
       "[MNIST | ADAM, LR = 0.001 | SS LOGIC | LAYERS = (784,128) (128,64,10) | DIFF WEIGHT 0.001 | MAXSAT | 4 CLAUSES…"
      ]
     },
     "metadata": {},
     "output_type": "display_data"
    },
    {
     "data": {
      "application/vnd.jupyter.widget-view+json": {
       "model_id": "",
       "version_major": 2,
       "version_minor": 0
      },
      "text/plain": [
       "[MNIST | ADAM, LR = 0.001 | SS LOGIC | LAYERS = (784,128) (128,64,10) | DIFF WEIGHT 0.001 | MAXSAT | 4 CLAUSES…"
      ]
     },
     "metadata": {},
     "output_type": "display_data"
    },
    {
     "data": {
      "application/vnd.jupyter.widget-view+json": {
       "model_id": "",
       "version_major": 2,
       "version_minor": 0
      },
      "text/plain": [
       "[MNIST | ADAM, LR = 0.001 | SS LOGIC | LAYERS = (784,128) (128,64,10) | DIFF WEIGHT 1 | MAXSAT | 4 CLAUSES] Ru…"
      ]
     },
     "metadata": {},
     "output_type": "display_data"
    },
    {
     "data": {
      "application/vnd.jupyter.widget-view+json": {
       "model_id": "",
       "version_major": 2,
       "version_minor": 0
      },
      "text/plain": [
       "[MNIST | ADAM, LR = 0.001 | SS LOGIC | LAYERS = (784,128) (128,64,10) | DIFF WEIGHT 1 | MAXSAT | 4 CLAUSES] Ru…"
      ]
     },
     "metadata": {},
     "output_type": "display_data"
    },
    {
     "data": {
      "application/vnd.jupyter.widget-view+json": {
       "model_id": "",
       "version_major": 2,
       "version_minor": 0
      },
      "text/plain": [
       "[MNIST | ADAM, LR = 0.001 | SS LOGIC | LAYERS = (784,128) (128,64,10) | DIFF WEIGHT 1 | MAXSAT | 4 CLAUSES] Ru…"
      ]
     },
     "metadata": {},
     "output_type": "display_data"
    },
    {
     "data": {
      "application/vnd.jupyter.widget-view+json": {
       "model_id": "",
       "version_major": 2,
       "version_minor": 0
      },
      "text/plain": [
       "[MNIST | ADAM, LR = 0.001 | SS LOGIC | LAYERS = (784,128) (128,64,10) | DIFF WEIGHT 1 | MAXSAT | 4 CLAUSES] Ru…"
      ]
     },
     "metadata": {},
     "output_type": "display_data"
    },
    {
     "data": {
      "application/vnd.jupyter.widget-view+json": {
       "model_id": "",
       "version_major": 2,
       "version_minor": 0
      },
      "text/plain": [
       "[MNIST | ADAM, LR = 0.001 | SS LOGIC | LAYERS = (784,128) (128,64,10) | DIFF WEIGHT 1 | MAXSAT | 4 CLAUSES] Ru…"
      ]
     },
     "metadata": {},
     "output_type": "display_data"
    },
    {
     "data": {
      "application/vnd.jupyter.widget-view+json": {
       "model_id": "",
       "version_major": 2,
       "version_minor": 0
      },
      "text/plain": [
       "[MNIST | ADAM, LR = 0.001 | SS LOGIC | LAYERS = (784,128) (128,64,10) | DIFF WEIGHT 1 | MAXSAT | 4 CLAUSES] Ru…"
      ]
     },
     "metadata": {},
     "output_type": "display_data"
    },
    {
     "data": {
      "application/vnd.jupyter.widget-view+json": {
       "model_id": "",
       "version_major": 2,
       "version_minor": 0
      },
      "text/plain": [
       "[MNIST | ADAM, LR = 0.001 | SS LOGIC | LAYERS = (784,128) (128,64,10) | DIFF WEIGHT 1 | MAXSAT | 4 CLAUSES] Ru…"
      ]
     },
     "metadata": {},
     "output_type": "display_data"
    },
    {
     "data": {
      "application/vnd.jupyter.widget-view+json": {
       "model_id": "",
       "version_major": 2,
       "version_minor": 0
      },
      "text/plain": [
       "[MNIST | ADAM, LR = 0.001 | SS LOGIC | LAYERS = (784,128) (128,64,10) | DIFF WEIGHT 1 | MAXSAT | 4 CLAUSES] Ru…"
      ]
     },
     "metadata": {},
     "output_type": "display_data"
    },
    {
     "data": {
      "application/vnd.jupyter.widget-view+json": {
       "model_id": "",
       "version_major": 2,
       "version_minor": 0
      },
      "text/plain": [
       "[MNIST | ADAM, LR = 0.001 | SS LOGIC | LAYERS = (784,128) (128,64,10) | DIFF WEIGHT 1e-05 | MAXSAT | 4 CLAUSES…"
      ]
     },
     "metadata": {},
     "output_type": "display_data"
    },
    {
     "data": {
      "application/vnd.jupyter.widget-view+json": {
       "model_id": "",
       "version_major": 2,
       "version_minor": 0
      },
      "text/plain": [
       "[MNIST | ADAM, LR = 0.001 | SS LOGIC | LAYERS = (784,128) (128,64,10) | DIFF WEIGHT 1e-05 | MAXSAT | 4 CLAUSES…"
      ]
     },
     "metadata": {},
     "output_type": "display_data"
    },
    {
     "data": {
      "application/vnd.jupyter.widget-view+json": {
       "model_id": "",
       "version_major": 2,
       "version_minor": 0
      },
      "text/plain": [
       "[MNIST | ADAM, LR = 0.001 | SS LOGIC | LAYERS = (784,128) (128,64,10) | DIFF WEIGHT 1e-05 | MAXSAT | 4 CLAUSES…"
      ]
     },
     "metadata": {},
     "output_type": "display_data"
    },
    {
     "data": {
      "application/vnd.jupyter.widget-view+json": {
       "model_id": "",
       "version_major": 2,
       "version_minor": 0
      },
      "text/plain": [
       "[MNIST | ADAM, LR = 0.001 | SS LOGIC | LAYERS = (784,128) (128,64,10) | DIFF WEIGHT 1e-05 | MAXSAT | 4 CLAUSES…"
      ]
     },
     "metadata": {},
     "output_type": "display_data"
    },
    {
     "data": {
      "application/vnd.jupyter.widget-view+json": {
       "model_id": "",
       "version_major": 2,
       "version_minor": 0
      },
      "text/plain": [
       "[MNIST | ADAM, LR = 0.001 | SS LOGIC | LAYERS = (784,128) (128,64,10) | DIFF WEIGHT 1e-05 | MAXSAT | 4 CLAUSES…"
      ]
     },
     "metadata": {},
     "output_type": "display_data"
    },
    {
     "data": {
      "application/vnd.jupyter.widget-view+json": {
       "model_id": "",
       "version_major": 2,
       "version_minor": 0
      },
      "text/plain": [
       "[MNIST | ADAM, LR = 0.001 | SS LOGIC | LAYERS = (784,128) (128,64,10) | DIFF WEIGHT 1e-05 | MAXSAT | 4 CLAUSES…"
      ]
     },
     "metadata": {},
     "output_type": "display_data"
    },
    {
     "data": {
      "application/vnd.jupyter.widget-view+json": {
       "model_id": "",
       "version_major": 2,
       "version_minor": 0
      },
      "text/plain": [
       "[MNIST | ADAM, LR = 0.001 | SS LOGIC | LAYERS = (784,128) (128,64,10) | DIFF WEIGHT 1e-05 | MAXSAT | 4 CLAUSES…"
      ]
     },
     "metadata": {},
     "output_type": "display_data"
    },
    {
     "data": {
      "application/vnd.jupyter.widget-view+json": {
       "model_id": "",
       "version_major": 2,
       "version_minor": 0
      },
      "text/plain": [
       "[MNIST | ADAM, LR = 0.001 | SS LOGIC | LAYERS = (784,128) (128,64,10) | DIFF WEIGHT 1e-05 | MAXSAT | 4 CLAUSES…"
      ]
     },
     "metadata": {},
     "output_type": "display_data"
    },
    {
     "data": {
      "application/vnd.jupyter.widget-view+json": {
       "model_id": "",
       "version_major": 2,
       "version_minor": 0
      },
      "text/plain": [
       "[MNIST | ADAM, LR = 0.001 | SS LOGIC | LAYERS = (784,128) (128,64,10) | DIFF WEIGHT 0.001 | MAXSAT | 4 CLAUSES…"
      ]
     },
     "metadata": {},
     "output_type": "display_data"
    },
    {
     "data": {
      "application/vnd.jupyter.widget-view+json": {
       "model_id": "",
       "version_major": 2,
       "version_minor": 0
      },
      "text/plain": [
       "[MNIST | ADAM, LR = 0.001 | SS LOGIC | LAYERS = (784,128) (128,64,10) | DIFF WEIGHT 0.001 | MAXSAT | 4 CLAUSES…"
      ]
     },
     "metadata": {},
     "output_type": "display_data"
    },
    {
     "data": {
      "application/vnd.jupyter.widget-view+json": {
       "model_id": "",
       "version_major": 2,
       "version_minor": 0
      },
      "text/plain": [
       "[MNIST | ADAM, LR = 0.001 | SS LOGIC | LAYERS = (784,128) (128,64,10) | DIFF WEIGHT 0.001 | MAXSAT | 4 CLAUSES…"
      ]
     },
     "metadata": {},
     "output_type": "display_data"
    },
    {
     "data": {
      "application/vnd.jupyter.widget-view+json": {
       "model_id": "",
       "version_major": 2,
       "version_minor": 0
      },
      "text/plain": [
       "[MNIST | ADAM, LR = 0.001 | SS LOGIC | LAYERS = (784,128) (128,64,10) | DIFF WEIGHT 0.001 | MAXSAT | 4 CLAUSES…"
      ]
     },
     "metadata": {},
     "output_type": "display_data"
    },
    {
     "data": {
      "application/vnd.jupyter.widget-view+json": {
       "model_id": "",
       "version_major": 2,
       "version_minor": 0
      },
      "text/plain": [
       "[MNIST | ADAM, LR = 0.001 | SS LOGIC | LAYERS = (784,128) (128,64,10) | DIFF WEIGHT 0.001 | MAXSAT | 4 CLAUSES…"
      ]
     },
     "metadata": {},
     "output_type": "display_data"
    },
    {
     "data": {
      "application/vnd.jupyter.widget-view+json": {
       "model_id": "",
       "version_major": 2,
       "version_minor": 0
      },
      "text/plain": [
       "[MNIST | ADAM, LR = 0.001 | SS LOGIC | LAYERS = (784,128) (128,64,10) | DIFF WEIGHT 0.001 | MAXSAT | 4 CLAUSES…"
      ]
     },
     "metadata": {},
     "output_type": "display_data"
    },
    {
     "data": {
      "application/vnd.jupyter.widget-view+json": {
       "model_id": "",
       "version_major": 2,
       "version_minor": 0
      },
      "text/plain": [
       "[MNIST | ADAM, LR = 0.001 | SS LOGIC | LAYERS = (784,128) (128,64,10) | DIFF WEIGHT 0.001 | MAXSAT | 4 CLAUSES…"
      ]
     },
     "metadata": {},
     "output_type": "display_data"
    },
    {
     "data": {
      "application/vnd.jupyter.widget-view+json": {
       "model_id": "",
       "version_major": 2,
       "version_minor": 0
      },
      "text/plain": [
       "[MNIST | ADAM, LR = 0.001 | SS LOGIC | LAYERS = (784,128) (128,64,10) | DIFF WEIGHT 0.001 | MAXSAT | 4 CLAUSES…"
      ]
     },
     "metadata": {},
     "output_type": "display_data"
    },
    {
     "data": {
      "application/vnd.jupyter.widget-view+json": {
       "model_id": "",
       "version_major": 2,
       "version_minor": 0
      },
      "text/plain": [
       "[MNIST | ADAM, LR = 0.001 | SS LOGIC | LAYERS = (784,128) (128,64,10) | DIFF WEIGHT 1 | MAXSAT | 4 CLAUSES] Ru…"
      ]
     },
     "metadata": {},
     "output_type": "display_data"
    },
    {
     "data": {
      "application/vnd.jupyter.widget-view+json": {
       "model_id": "",
       "version_major": 2,
       "version_minor": 0
      },
      "text/plain": [
       "[MNIST | ADAM, LR = 0.001 | SS LOGIC | LAYERS = (784,128) (128,64,10) | DIFF WEIGHT 1 | MAXSAT | 4 CLAUSES] Ru…"
      ]
     },
     "metadata": {},
     "output_type": "display_data"
    },
    {
     "data": {
      "application/vnd.jupyter.widget-view+json": {
       "model_id": "",
       "version_major": 2,
       "version_minor": 0
      },
      "text/plain": [
       "[MNIST | ADAM, LR = 0.001 | SS LOGIC | LAYERS = (784,128) (128,64,10) | DIFF WEIGHT 1 | MAXSAT | 4 CLAUSES] Ru…"
      ]
     },
     "metadata": {},
     "output_type": "display_data"
    },
    {
     "data": {
      "application/vnd.jupyter.widget-view+json": {
       "model_id": "",
       "version_major": 2,
       "version_minor": 0
      },
      "text/plain": [
       "[MNIST | ADAM, LR = 0.001 | SS LOGIC | LAYERS = (784,128) (128,64,10) | DIFF WEIGHT 1 | MAXSAT | 4 CLAUSES] Ru…"
      ]
     },
     "metadata": {},
     "output_type": "display_data"
    },
    {
     "data": {
      "application/vnd.jupyter.widget-view+json": {
       "model_id": "",
       "version_major": 2,
       "version_minor": 0
      },
      "text/plain": [
       "[MNIST | ADAM, LR = 0.001 | SS LOGIC | LAYERS = (784,128) (128,64,10) | DIFF WEIGHT 1 | MAXSAT | 4 CLAUSES] Ru…"
      ]
     },
     "metadata": {},
     "output_type": "display_data"
    },
    {
     "data": {
      "application/vnd.jupyter.widget-view+json": {
       "model_id": "",
       "version_major": 2,
       "version_minor": 0
      },
      "text/plain": [
       "[MNIST | ADAM, LR = 0.001 | SS LOGIC | LAYERS = (784,128) (128,64,10) | DIFF WEIGHT 1 | MAXSAT | 4 CLAUSES] Ru…"
      ]
     },
     "metadata": {},
     "output_type": "display_data"
    },
    {
     "data": {
      "application/vnd.jupyter.widget-view+json": {
       "model_id": "",
       "version_major": 2,
       "version_minor": 0
      },
      "text/plain": [
       "[MNIST | ADAM, LR = 0.001 | SS LOGIC | LAYERS = (784,128) (128,64,10) | DIFF WEIGHT 1 | MAXSAT | 4 CLAUSES] Ru…"
      ]
     },
     "metadata": {},
     "output_type": "display_data"
    },
    {
     "data": {
      "application/vnd.jupyter.widget-view+json": {
       "model_id": "",
       "version_major": 2,
       "version_minor": 0
      },
      "text/plain": [
       "[MNIST | ADAM, LR = 0.001 | SS LOGIC | LAYERS = (784,128) (128,64,10) | DIFF WEIGHT 1 | MAXSAT | 4 CLAUSES] Ru…"
      ]
     },
     "metadata": {},
     "output_type": "display_data"
    },
    {
     "data": {
      "application/vnd.jupyter.widget-view+json": {
       "model_id": "",
       "version_major": 2,
       "version_minor": 0
      },
      "text/plain": [
       "[MNIST | ADAM, LR = 0.001 | SS LOGIC | LAYERS = (784,128) (128,64,10) | DIFF WEIGHT 1e-05 | MAXSAT | 4 CLAUSES…"
      ]
     },
     "metadata": {},
     "output_type": "display_data"
    },
    {
     "data": {
      "application/vnd.jupyter.widget-view+json": {
       "model_id": "",
       "version_major": 2,
       "version_minor": 0
      },
      "text/plain": [
       "[MNIST | ADAM, LR = 0.001 | SS LOGIC | LAYERS = (784,128) (128,64,10) | DIFF WEIGHT 1e-05 | MAXSAT | 4 CLAUSES…"
      ]
     },
     "metadata": {},
     "output_type": "display_data"
    },
    {
     "data": {
      "application/vnd.jupyter.widget-view+json": {
       "model_id": "",
       "version_major": 2,
       "version_minor": 0
      },
      "text/plain": [
       "[MNIST | ADAM, LR = 0.001 | SS LOGIC | LAYERS = (784,128) (128,64,10) | DIFF WEIGHT 1e-05 | MAXSAT | 4 CLAUSES…"
      ]
     },
     "metadata": {},
     "output_type": "display_data"
    },
    {
     "data": {
      "application/vnd.jupyter.widget-view+json": {
       "model_id": "",
       "version_major": 2,
       "version_minor": 0
      },
      "text/plain": [
       "[MNIST | ADAM, LR = 0.001 | SS LOGIC | LAYERS = (784,128) (128,64,10) | DIFF WEIGHT 1e-05 | MAXSAT | 4 CLAUSES…"
      ]
     },
     "metadata": {},
     "output_type": "display_data"
    },
    {
     "data": {
      "application/vnd.jupyter.widget-view+json": {
       "model_id": "",
       "version_major": 2,
       "version_minor": 0
      },
      "text/plain": [
       "[MNIST | ADAM, LR = 0.001 | SS LOGIC | LAYERS = (784,128) (128,64,10) | DIFF WEIGHT 1e-05 | MAXSAT | 4 CLAUSES…"
      ]
     },
     "metadata": {},
     "output_type": "display_data"
    },
    {
     "data": {
      "application/vnd.jupyter.widget-view+json": {
       "model_id": "",
       "version_major": 2,
       "version_minor": 0
      },
      "text/plain": [
       "[MNIST | ADAM, LR = 0.001 | SS LOGIC | LAYERS = (784,128) (128,64,10) | DIFF WEIGHT 1e-05 | MAXSAT | 4 CLAUSES…"
      ]
     },
     "metadata": {},
     "output_type": "display_data"
    },
    {
     "data": {
      "application/vnd.jupyter.widget-view+json": {
       "model_id": "",
       "version_major": 2,
       "version_minor": 0
      },
      "text/plain": [
       "[MNIST | ADAM, LR = 0.001 | SS LOGIC | LAYERS = (784,128) (128,64,10) | DIFF WEIGHT 1e-05 | MAXSAT | 4 CLAUSES…"
      ]
     },
     "metadata": {},
     "output_type": "display_data"
    },
    {
     "data": {
      "application/vnd.jupyter.widget-view+json": {
       "model_id": "",
       "version_major": 2,
       "version_minor": 0
      },
      "text/plain": [
       "[MNIST | ADAM, LR = 0.001 | SS LOGIC | LAYERS = (784,128) (128,64,10) | DIFF WEIGHT 1e-05 | MAXSAT | 4 CLAUSES…"
      ]
     },
     "metadata": {},
     "output_type": "display_data"
    },
    {
     "data": {
      "application/vnd.jupyter.widget-view+json": {
       "model_id": "",
       "version_major": 2,
       "version_minor": 0
      },
      "text/plain": [
       "[MNIST | ADAM, LR = 0.001 | SS LOGIC | LAYERS = (784,128) (128,64,10) | DIFF WEIGHT 0.001 | MAXSAT | 4 CLAUSES…"
      ]
     },
     "metadata": {},
     "output_type": "display_data"
    },
    {
     "data": {
      "application/vnd.jupyter.widget-view+json": {
       "model_id": "",
       "version_major": 2,
       "version_minor": 0
      },
      "text/plain": [
       "[MNIST | ADAM, LR = 0.001 | SS LOGIC | LAYERS = (784,128) (128,64,10) | DIFF WEIGHT 0.001 | MAXSAT | 4 CLAUSES…"
      ]
     },
     "metadata": {},
     "output_type": "display_data"
    },
    {
     "data": {
      "application/vnd.jupyter.widget-view+json": {
       "model_id": "",
       "version_major": 2,
       "version_minor": 0
      },
      "text/plain": [
       "[MNIST | ADAM, LR = 0.001 | SS LOGIC | LAYERS = (784,128) (128,64,10) | DIFF WEIGHT 0.001 | MAXSAT | 4 CLAUSES…"
      ]
     },
     "metadata": {},
     "output_type": "display_data"
    },
    {
     "data": {
      "application/vnd.jupyter.widget-view+json": {
       "model_id": "",
       "version_major": 2,
       "version_minor": 0
      },
      "text/plain": [
       "[MNIST | ADAM, LR = 0.001 | SS LOGIC | LAYERS = (784,128) (128,64,10) | DIFF WEIGHT 0.001 | MAXSAT | 4 CLAUSES…"
      ]
     },
     "metadata": {},
     "output_type": "display_data"
    },
    {
     "data": {
      "application/vnd.jupyter.widget-view+json": {
       "model_id": "",
       "version_major": 2,
       "version_minor": 0
      },
      "text/plain": [
       "[MNIST | ADAM, LR = 0.001 | SS LOGIC | LAYERS = (784,128) (128,64,10) | DIFF WEIGHT 0.001 | MAXSAT | 4 CLAUSES…"
      ]
     },
     "metadata": {},
     "output_type": "display_data"
    },
    {
     "data": {
      "application/vnd.jupyter.widget-view+json": {
       "model_id": "",
       "version_major": 2,
       "version_minor": 0
      },
      "text/plain": [
       "[MNIST | ADAM, LR = 0.001 | SS LOGIC | LAYERS = (784,128) (128,64,10) | DIFF WEIGHT 0.001 | MAXSAT | 4 CLAUSES…"
      ]
     },
     "metadata": {},
     "output_type": "display_data"
    },
    {
     "data": {
      "application/vnd.jupyter.widget-view+json": {
       "model_id": "",
       "version_major": 2,
       "version_minor": 0
      },
      "text/plain": [
       "[MNIST | ADAM, LR = 0.001 | SS LOGIC | LAYERS = (784,128) (128,64,10) | DIFF WEIGHT 0.001 | MAXSAT | 4 CLAUSES…"
      ]
     },
     "metadata": {},
     "output_type": "display_data"
    },
    {
     "data": {
      "application/vnd.jupyter.widget-view+json": {
       "model_id": "",
       "version_major": 2,
       "version_minor": 0
      },
      "text/plain": [
       "[MNIST | ADAM, LR = 0.001 | SS LOGIC | LAYERS = (784,128) (128,64,10) | DIFF WEIGHT 0.001 | MAXSAT | 4 CLAUSES…"
      ]
     },
     "metadata": {},
     "output_type": "display_data"
    },
    {
     "data": {
      "application/vnd.jupyter.widget-view+json": {
       "model_id": "",
       "version_major": 2,
       "version_minor": 0
      },
      "text/plain": [
       "[MNIST | ADAM, LR = 0.001 | SS LOGIC | LAYERS = (784,128) (128,64,10) | DIFF WEIGHT 1 | MAXSAT | 4 CLAUSES] Ru…"
      ]
     },
     "metadata": {},
     "output_type": "display_data"
    },
    {
     "data": {
      "application/vnd.jupyter.widget-view+json": {
       "model_id": "",
       "version_major": 2,
       "version_minor": 0
      },
      "text/plain": [
       "[MNIST | ADAM, LR = 0.001 | SS LOGIC | LAYERS = (784,128) (128,64,10) | DIFF WEIGHT 1 | MAXSAT | 4 CLAUSES] Ru…"
      ]
     },
     "metadata": {},
     "output_type": "display_data"
    },
    {
     "data": {
      "application/vnd.jupyter.widget-view+json": {
       "model_id": "",
       "version_major": 2,
       "version_minor": 0
      },
      "text/plain": [
       "[MNIST | ADAM, LR = 0.001 | SS LOGIC | LAYERS = (784,128) (128,64,10) | DIFF WEIGHT 1 | MAXSAT | 4 CLAUSES] Ru…"
      ]
     },
     "metadata": {},
     "output_type": "display_data"
    },
    {
     "data": {
      "application/vnd.jupyter.widget-view+json": {
       "model_id": "",
       "version_major": 2,
       "version_minor": 0
      },
      "text/plain": [
       "[MNIST | ADAM, LR = 0.001 | SS LOGIC | LAYERS = (784,128) (128,64,10) | DIFF WEIGHT 1 | MAXSAT | 4 CLAUSES] Ru…"
      ]
     },
     "metadata": {},
     "output_type": "display_data"
    },
    {
     "data": {
      "application/vnd.jupyter.widget-view+json": {
       "model_id": "",
       "version_major": 2,
       "version_minor": 0
      },
      "text/plain": [
       "[MNIST | ADAM, LR = 0.001 | SS LOGIC | LAYERS = (784,128) (128,64,10) | DIFF WEIGHT 1 | MAXSAT | 4 CLAUSES] Ru…"
      ]
     },
     "metadata": {},
     "output_type": "display_data"
    },
    {
     "data": {
      "application/vnd.jupyter.widget-view+json": {
       "model_id": "",
       "version_major": 2,
       "version_minor": 0
      },
      "text/plain": [
       "[MNIST | ADAM, LR = 0.001 | SS LOGIC | LAYERS = (784,128) (128,64,10) | DIFF WEIGHT 1 | MAXSAT | 4 CLAUSES] Ru…"
      ]
     },
     "metadata": {},
     "output_type": "display_data"
    },
    {
     "data": {
      "application/vnd.jupyter.widget-view+json": {
       "model_id": "",
       "version_major": 2,
       "version_minor": 0
      },
      "text/plain": [
       "[MNIST | ADAM, LR = 0.001 | SS LOGIC | LAYERS = (784,128) (128,64,10) | DIFF WEIGHT 1 | MAXSAT | 4 CLAUSES] Ru…"
      ]
     },
     "metadata": {},
     "output_type": "display_data"
    },
    {
     "data": {
      "application/vnd.jupyter.widget-view+json": {
       "model_id": "",
       "version_major": 2,
       "version_minor": 0
      },
      "text/plain": [
       "[MNIST | ADAM, LR = 0.001 | SS LOGIC | LAYERS = (784,128) (128,64,10) | DIFF WEIGHT 1 | MAXSAT | 4 CLAUSES] Ru…"
      ]
     },
     "metadata": {},
     "output_type": "display_data"
    },
    {
     "data": {
      "application/vnd.jupyter.widget-view+json": {
       "model_id": "",
       "version_major": 2,
       "version_minor": 0
      },
      "text/plain": [
       "[MNIST | ADAM, LR = 0.001 | SS LOGIC | LAYERS = (784,128) (128,64,10) | DIFF WEIGHT 1e-05 | MAXSAT | 4 CLAUSES…"
      ]
     },
     "metadata": {},
     "output_type": "display_data"
    },
    {
     "data": {
      "application/vnd.jupyter.widget-view+json": {
       "model_id": "",
       "version_major": 2,
       "version_minor": 0
      },
      "text/plain": [
       "[MNIST | ADAM, LR = 0.001 | SS LOGIC | LAYERS = (784,128) (128,64,10) | DIFF WEIGHT 1e-05 | MAXSAT | 4 CLAUSES…"
      ]
     },
     "metadata": {},
     "output_type": "display_data"
    },
    {
     "data": {
      "application/vnd.jupyter.widget-view+json": {
       "model_id": "",
       "version_major": 2,
       "version_minor": 0
      },
      "text/plain": [
       "[MNIST | ADAM, LR = 0.001 | SS LOGIC | LAYERS = (784,128) (128,64,10) | DIFF WEIGHT 1e-05 | MAXSAT | 4 CLAUSES…"
      ]
     },
     "metadata": {},
     "output_type": "display_data"
    },
    {
     "data": {
      "application/vnd.jupyter.widget-view+json": {
       "model_id": "",
       "version_major": 2,
       "version_minor": 0
      },
      "text/plain": [
       "[MNIST | ADAM, LR = 0.001 | SS LOGIC | LAYERS = (784,128) (128,64,10) | DIFF WEIGHT 1e-05 | MAXSAT | 4 CLAUSES…"
      ]
     },
     "metadata": {},
     "output_type": "display_data"
    },
    {
     "data": {
      "application/vnd.jupyter.widget-view+json": {
       "model_id": "",
       "version_major": 2,
       "version_minor": 0
      },
      "text/plain": [
       "[MNIST | ADAM, LR = 0.001 | SS LOGIC | LAYERS = (784,128) (128,64,10) | DIFF WEIGHT 1e-05 | MAXSAT | 4 CLAUSES…"
      ]
     },
     "metadata": {},
     "output_type": "display_data"
    },
    {
     "data": {
      "application/vnd.jupyter.widget-view+json": {
       "model_id": "",
       "version_major": 2,
       "version_minor": 0
      },
      "text/plain": [
       "[MNIST | ADAM, LR = 0.001 | SS LOGIC | LAYERS = (784,128) (128,64,10) | DIFF WEIGHT 1e-05 | MAXSAT | 4 CLAUSES…"
      ]
     },
     "metadata": {},
     "output_type": "display_data"
    },
    {
     "data": {
      "application/vnd.jupyter.widget-view+json": {
       "model_id": "",
       "version_major": 2,
       "version_minor": 0
      },
      "text/plain": [
       "[MNIST | ADAM, LR = 0.001 | SS LOGIC | LAYERS = (784,128) (128,64,10) | DIFF WEIGHT 1e-05 | MAXSAT | 4 CLAUSES…"
      ]
     },
     "metadata": {},
     "output_type": "display_data"
    },
    {
     "data": {
      "application/vnd.jupyter.widget-view+json": {
       "model_id": "",
       "version_major": 2,
       "version_minor": 0
      },
      "text/plain": [
       "[MNIST | ADAM, LR = 0.001 | SS LOGIC | LAYERS = (784,128) (128,64,10) | DIFF WEIGHT 1e-05 | MAXSAT | 4 CLAUSES…"
      ]
     },
     "metadata": {},
     "output_type": "display_data"
    },
    {
     "data": {
      "application/vnd.jupyter.widget-view+json": {
       "model_id": "",
       "version_major": 2,
       "version_minor": 0
      },
      "text/plain": [
       "[MNIST | ADAM, LR = 0.001 | SS LOGIC | LAYERS = (784,128) (128,64,10) | DIFF WEIGHT 0.001 | MAXSAT | 4 CLAUSES…"
      ]
     },
     "metadata": {},
     "output_type": "display_data"
    },
    {
     "data": {
      "application/vnd.jupyter.widget-view+json": {
       "model_id": "",
       "version_major": 2,
       "version_minor": 0
      },
      "text/plain": [
       "[MNIST | ADAM, LR = 0.001 | SS LOGIC | LAYERS = (784,128) (128,64,10) | DIFF WEIGHT 0.001 | MAXSAT | 4 CLAUSES…"
      ]
     },
     "metadata": {},
     "output_type": "display_data"
    },
    {
     "data": {
      "application/vnd.jupyter.widget-view+json": {
       "model_id": "",
       "version_major": 2,
       "version_minor": 0
      },
      "text/plain": [
       "[MNIST | ADAM, LR = 0.001 | SS LOGIC | LAYERS = (784,128) (128,64,10) | DIFF WEIGHT 0.001 | MAXSAT | 4 CLAUSES…"
      ]
     },
     "metadata": {},
     "output_type": "display_data"
    },
    {
     "data": {
      "application/vnd.jupyter.widget-view+json": {
       "model_id": "",
       "version_major": 2,
       "version_minor": 0
      },
      "text/plain": [
       "[MNIST | ADAM, LR = 0.001 | SS LOGIC | LAYERS = (784,128) (128,64,10) | DIFF WEIGHT 0.001 | MAXSAT | 4 CLAUSES…"
      ]
     },
     "metadata": {},
     "output_type": "display_data"
    },
    {
     "data": {
      "application/vnd.jupyter.widget-view+json": {
       "model_id": "",
       "version_major": 2,
       "version_minor": 0
      },
      "text/plain": [
       "[MNIST | ADAM, LR = 0.001 | SS LOGIC | LAYERS = (784,128) (128,64,10) | DIFF WEIGHT 0.001 | MAXSAT | 4 CLAUSES…"
      ]
     },
     "metadata": {},
     "output_type": "display_data"
    },
    {
     "data": {
      "application/vnd.jupyter.widget-view+json": {
       "model_id": "",
       "version_major": 2,
       "version_minor": 0
      },
      "text/plain": [
       "[MNIST | ADAM, LR = 0.001 | SS LOGIC | LAYERS = (784,128) (128,64,10) | DIFF WEIGHT 0.001 | MAXSAT | 4 CLAUSES…"
      ]
     },
     "metadata": {},
     "output_type": "display_data"
    },
    {
     "data": {
      "application/vnd.jupyter.widget-view+json": {
       "model_id": "",
       "version_major": 2,
       "version_minor": 0
      },
      "text/plain": [
       "[MNIST | ADAM, LR = 0.001 | SS LOGIC | LAYERS = (784,128) (128,64,10) | DIFF WEIGHT 0.001 | MAXSAT | 4 CLAUSES…"
      ]
     },
     "metadata": {},
     "output_type": "display_data"
    },
    {
     "data": {
      "application/vnd.jupyter.widget-view+json": {
       "model_id": "",
       "version_major": 2,
       "version_minor": 0
      },
      "text/plain": [
       "[MNIST | ADAM, LR = 0.001 | SS LOGIC | LAYERS = (784,128) (128,64,10) | DIFF WEIGHT 0.001 | MAXSAT | 4 CLAUSES…"
      ]
     },
     "metadata": {},
     "output_type": "display_data"
    },
    {
     "data": {
      "application/vnd.jupyter.widget-view+json": {
       "model_id": "",
       "version_major": 2,
       "version_minor": 0
      },
      "text/plain": [
       "[MNIST | ADAM, LR = 0.001 | SS LOGIC | LAYERS = (784,128) (128,64,10) | DIFF WEIGHT 1 | MAXSAT | 4 CLAUSES] Ru…"
      ]
     },
     "metadata": {},
     "output_type": "display_data"
    },
    {
     "data": {
      "application/vnd.jupyter.widget-view+json": {
       "model_id": "",
       "version_major": 2,
       "version_minor": 0
      },
      "text/plain": [
       "[MNIST | ADAM, LR = 0.001 | SS LOGIC | LAYERS = (784,128) (128,64,10) | DIFF WEIGHT 1 | MAXSAT | 4 CLAUSES] Ru…"
      ]
     },
     "metadata": {},
     "output_type": "display_data"
    },
    {
     "data": {
      "application/vnd.jupyter.widget-view+json": {
       "model_id": "",
       "version_major": 2,
       "version_minor": 0
      },
      "text/plain": [
       "[MNIST | ADAM, LR = 0.001 | SS LOGIC | LAYERS = (784,128) (128,64,10) | DIFF WEIGHT 1 | MAXSAT | 4 CLAUSES] Ru…"
      ]
     },
     "metadata": {},
     "output_type": "display_data"
    },
    {
     "data": {
      "application/vnd.jupyter.widget-view+json": {
       "model_id": "",
       "version_major": 2,
       "version_minor": 0
      },
      "text/plain": [
       "[MNIST | ADAM, LR = 0.001 | SS LOGIC | LAYERS = (784,128) (128,64,10) | DIFF WEIGHT 1 | MAXSAT | 4 CLAUSES] Ru…"
      ]
     },
     "metadata": {},
     "output_type": "display_data"
    },
    {
     "data": {
      "application/vnd.jupyter.widget-view+json": {
       "model_id": "",
       "version_major": 2,
       "version_minor": 0
      },
      "text/plain": [
       "[MNIST | ADAM, LR = 0.001 | SS LOGIC | LAYERS = (784,128) (128,64,10) | DIFF WEIGHT 1 | MAXSAT | 4 CLAUSES] Ru…"
      ]
     },
     "metadata": {},
     "output_type": "display_data"
    },
    {
     "data": {
      "application/vnd.jupyter.widget-view+json": {
       "model_id": "",
       "version_major": 2,
       "version_minor": 0
      },
      "text/plain": [
       "[MNIST | ADAM, LR = 0.001 | SS LOGIC | LAYERS = (784,128) (128,64,10) | DIFF WEIGHT 1 | MAXSAT | 4 CLAUSES] Ru…"
      ]
     },
     "metadata": {},
     "output_type": "display_data"
    },
    {
     "data": {
      "application/vnd.jupyter.widget-view+json": {
       "model_id": "",
       "version_major": 2,
       "version_minor": 0
      },
      "text/plain": [
       "[MNIST | ADAM, LR = 0.001 | SS LOGIC | LAYERS = (784,128) (128,64,10) | DIFF WEIGHT 1 | MAXSAT | 4 CLAUSES] Ru…"
      ]
     },
     "metadata": {},
     "output_type": "display_data"
    },
    {
     "data": {
      "application/vnd.jupyter.widget-view+json": {
       "model_id": "",
       "version_major": 2,
       "version_minor": 0
      },
      "text/plain": [
       "[MNIST | ADAM, LR = 0.001 | SS LOGIC | LAYERS = (784,128) (128,64,10) | DIFF WEIGHT 1 | MAXSAT | 4 CLAUSES] Ru…"
      ]
     },
     "metadata": {},
     "output_type": "display_data"
    },
    {
     "data": {
      "application/vnd.jupyter.widget-view+json": {
       "model_id": "",
       "version_major": 2,
       "version_minor": 0
      },
      "text/plain": [
       "[MNIST | ADAM, LR = 0.001 | SS LOGIC | LAYERS = (784,128) (128,64,10) | DIFF WEIGHT 1e-05 | MAXSAT | 4 CLAUSES…"
      ]
     },
     "metadata": {},
     "output_type": "display_data"
    },
    {
     "data": {
      "application/vnd.jupyter.widget-view+json": {
       "model_id": "",
       "version_major": 2,
       "version_minor": 0
      },
      "text/plain": [
       "[MNIST | ADAM, LR = 0.001 | SS LOGIC | LAYERS = (784,128) (128,64,10) | DIFF WEIGHT 1e-05 | MAXSAT | 4 CLAUSES…"
      ]
     },
     "metadata": {},
     "output_type": "display_data"
    },
    {
     "data": {
      "application/vnd.jupyter.widget-view+json": {
       "model_id": "",
       "version_major": 2,
       "version_minor": 0
      },
      "text/plain": [
       "[MNIST | ADAM, LR = 0.001 | SS LOGIC | LAYERS = (784,128) (128,64,10) | DIFF WEIGHT 1e-05 | MAXSAT | 4 CLAUSES…"
      ]
     },
     "metadata": {},
     "output_type": "display_data"
    },
    {
     "data": {
      "application/vnd.jupyter.widget-view+json": {
       "model_id": "",
       "version_major": 2,
       "version_minor": 0
      },
      "text/plain": [
       "[MNIST | ADAM, LR = 0.001 | SS LOGIC | LAYERS = (784,128) (128,64,10) | DIFF WEIGHT 1e-05 | MAXSAT | 4 CLAUSES…"
      ]
     },
     "metadata": {},
     "output_type": "display_data"
    },
    {
     "data": {
      "application/vnd.jupyter.widget-view+json": {
       "model_id": "",
       "version_major": 2,
       "version_minor": 0
      },
      "text/plain": [
       "[MNIST | ADAM, LR = 0.001 | SS LOGIC | LAYERS = (784,128) (128,64,10) | DIFF WEIGHT 1e-05 | MAXSAT | 4 CLAUSES…"
      ]
     },
     "metadata": {},
     "output_type": "display_data"
    },
    {
     "data": {
      "application/vnd.jupyter.widget-view+json": {
       "model_id": "",
       "version_major": 2,
       "version_minor": 0
      },
      "text/plain": [
       "[MNIST | ADAM, LR = 0.001 | SS LOGIC | LAYERS = (784,128) (128,64,10) | DIFF WEIGHT 1e-05 | MAXSAT | 4 CLAUSES…"
      ]
     },
     "metadata": {},
     "output_type": "display_data"
    },
    {
     "data": {
      "application/vnd.jupyter.widget-view+json": {
       "model_id": "",
       "version_major": 2,
       "version_minor": 0
      },
      "text/plain": [
       "[MNIST | ADAM, LR = 0.001 | SS LOGIC | LAYERS = (784,128) (128,64,10) | DIFF WEIGHT 1e-05 | MAXSAT | 4 CLAUSES…"
      ]
     },
     "metadata": {},
     "output_type": "display_data"
    },
    {
     "data": {
      "application/vnd.jupyter.widget-view+json": {
       "model_id": "",
       "version_major": 2,
       "version_minor": 0
      },
      "text/plain": [
       "[MNIST | ADAM, LR = 0.001 | SS LOGIC | LAYERS = (784,128) (128,64,10) | DIFF WEIGHT 1e-05 | MAXSAT | 4 CLAUSES…"
      ]
     },
     "metadata": {},
     "output_type": "display_data"
    },
    {
     "data": {
      "application/vnd.jupyter.widget-view+json": {
       "model_id": "",
       "version_major": 2,
       "version_minor": 0
      },
      "text/plain": [
       "[MNIST | ADAM, LR = 0.001 | SS LOGIC | LAYERS = (784,128) (128,64,10) | DIFF WEIGHT 0.001 | MAXSAT | 4 CLAUSES…"
      ]
     },
     "metadata": {},
     "output_type": "display_data"
    },
    {
     "data": {
      "application/vnd.jupyter.widget-view+json": {
       "model_id": "",
       "version_major": 2,
       "version_minor": 0
      },
      "text/plain": [
       "[MNIST | ADAM, LR = 0.001 | SS LOGIC | LAYERS = (784,128) (128,64,10) | DIFF WEIGHT 0.001 | MAXSAT | 4 CLAUSES…"
      ]
     },
     "metadata": {},
     "output_type": "display_data"
    },
    {
     "data": {
      "application/vnd.jupyter.widget-view+json": {
       "model_id": "",
       "version_major": 2,
       "version_minor": 0
      },
      "text/plain": [
       "[MNIST | ADAM, LR = 0.001 | SS LOGIC | LAYERS = (784,128) (128,64,10) | DIFF WEIGHT 0.001 | MAXSAT | 4 CLAUSES…"
      ]
     },
     "metadata": {},
     "output_type": "display_data"
    },
    {
     "data": {
      "application/vnd.jupyter.widget-view+json": {
       "model_id": "",
       "version_major": 2,
       "version_minor": 0
      },
      "text/plain": [
       "[MNIST | ADAM, LR = 0.001 | SS LOGIC | LAYERS = (784,128) (128,64,10) | DIFF WEIGHT 0.001 | MAXSAT | 4 CLAUSES…"
      ]
     },
     "metadata": {},
     "output_type": "display_data"
    },
    {
     "data": {
      "application/vnd.jupyter.widget-view+json": {
       "model_id": "",
       "version_major": 2,
       "version_minor": 0
      },
      "text/plain": [
       "[MNIST | ADAM, LR = 0.001 | SS LOGIC | LAYERS = (784,128) (128,64,10) | DIFF WEIGHT 0.001 | MAXSAT | 4 CLAUSES…"
      ]
     },
     "metadata": {},
     "output_type": "display_data"
    },
    {
     "data": {
      "application/vnd.jupyter.widget-view+json": {
       "model_id": "",
       "version_major": 2,
       "version_minor": 0
      },
      "text/plain": [
       "[MNIST | ADAM, LR = 0.001 | SS LOGIC | LAYERS = (784,128) (128,64,10) | DIFF WEIGHT 0.001 | MAXSAT | 4 CLAUSES…"
      ]
     },
     "metadata": {},
     "output_type": "display_data"
    },
    {
     "data": {
      "application/vnd.jupyter.widget-view+json": {
       "model_id": "",
       "version_major": 2,
       "version_minor": 0
      },
      "text/plain": [
       "[MNIST | ADAM, LR = 0.001 | SS LOGIC | LAYERS = (784,128) (128,64,10) | DIFF WEIGHT 0.001 | MAXSAT | 4 CLAUSES…"
      ]
     },
     "metadata": {},
     "output_type": "display_data"
    },
    {
     "data": {
      "application/vnd.jupyter.widget-view+json": {
       "model_id": "",
       "version_major": 2,
       "version_minor": 0
      },
      "text/plain": [
       "[MNIST | ADAM, LR = 0.001 | SS LOGIC | LAYERS = (784,128) (128,64,10) | DIFF WEIGHT 0.001 | MAXSAT | 4 CLAUSES…"
      ]
     },
     "metadata": {},
     "output_type": "display_data"
    },
    {
     "data": {
      "application/vnd.jupyter.widget-view+json": {
       "model_id": "",
       "version_major": 2,
       "version_minor": 0
      },
      "text/plain": [
       "[MNIST | ADAM, LR = 0.001 | SS LOGIC | LAYERS = (784,128) (128,64,10) | DIFF WEIGHT 1 | MAXSAT | 4 CLAUSES] Ru…"
      ]
     },
     "metadata": {},
     "output_type": "display_data"
    },
    {
     "data": {
      "application/vnd.jupyter.widget-view+json": {
       "model_id": "",
       "version_major": 2,
       "version_minor": 0
      },
      "text/plain": [
       "[MNIST | ADAM, LR = 0.001 | SS LOGIC | LAYERS = (784,128) (128,64,10) | DIFF WEIGHT 1 | MAXSAT | 4 CLAUSES] Ru…"
      ]
     },
     "metadata": {},
     "output_type": "display_data"
    },
    {
     "data": {
      "application/vnd.jupyter.widget-view+json": {
       "model_id": "",
       "version_major": 2,
       "version_minor": 0
      },
      "text/plain": [
       "[MNIST | ADAM, LR = 0.001 | SS LOGIC | LAYERS = (784,128) (128,64,10) | DIFF WEIGHT 1 | MAXSAT | 4 CLAUSES] Ru…"
      ]
     },
     "metadata": {},
     "output_type": "display_data"
    },
    {
     "data": {
      "application/vnd.jupyter.widget-view+json": {
       "model_id": "",
       "version_major": 2,
       "version_minor": 0
      },
      "text/plain": [
       "[MNIST | ADAM, LR = 0.001 | SS LOGIC | LAYERS = (784,128) (128,64,10) | DIFF WEIGHT 1 | MAXSAT | 4 CLAUSES] Ru…"
      ]
     },
     "metadata": {},
     "output_type": "display_data"
    },
    {
     "data": {
      "application/vnd.jupyter.widget-view+json": {
       "model_id": "",
       "version_major": 2,
       "version_minor": 0
      },
      "text/plain": [
       "[MNIST | ADAM, LR = 0.001 | SS LOGIC | LAYERS = (784,128) (128,64,10) | DIFF WEIGHT 1 | MAXSAT | 4 CLAUSES] Ru…"
      ]
     },
     "metadata": {},
     "output_type": "display_data"
    },
    {
     "data": {
      "application/vnd.jupyter.widget-view+json": {
       "model_id": "",
       "version_major": 2,
       "version_minor": 0
      },
      "text/plain": [
       "[MNIST | ADAM, LR = 0.001 | SS LOGIC | LAYERS = (784,128) (128,64,10) | DIFF WEIGHT 1 | MAXSAT | 4 CLAUSES] Ru…"
      ]
     },
     "metadata": {},
     "output_type": "display_data"
    },
    {
     "data": {
      "application/vnd.jupyter.widget-view+json": {
       "model_id": "",
       "version_major": 2,
       "version_minor": 0
      },
      "text/plain": [
       "[MNIST | ADAM, LR = 0.001 | SS LOGIC | LAYERS = (784,128) (128,64,10) | DIFF WEIGHT 1 | MAXSAT | 4 CLAUSES] Ru…"
      ]
     },
     "metadata": {},
     "output_type": "display_data"
    },
    {
     "data": {
      "application/vnd.jupyter.widget-view+json": {
       "model_id": "",
       "version_major": 2,
       "version_minor": 0
      },
      "text/plain": [
       "[MNIST | ADAM, LR = 0.001 | SS LOGIC | LAYERS = (784,128) (128,64,10) | DIFF WEIGHT 1 | MAXSAT | 4 CLAUSES] Ru…"
      ]
     },
     "metadata": {},
     "output_type": "display_data"
    },
    {
     "data": {
      "application/vnd.jupyter.widget-view+json": {
       "model_id": "",
       "version_major": 2,
       "version_minor": 0
      },
      "text/plain": [
       "[MNIST | ADAM, LR = 0.001 | SS LOGIC | LAYERS = (784,128) (128,64,10) | DIFF WEIGHT 1e-05 | MAXSAT | 4 CLAUSES…"
      ]
     },
     "metadata": {},
     "output_type": "display_data"
    },
    {
     "data": {
      "application/vnd.jupyter.widget-view+json": {
       "model_id": "",
       "version_major": 2,
       "version_minor": 0
      },
      "text/plain": [
       "[MNIST | ADAM, LR = 0.001 | SS LOGIC | LAYERS = (784,128) (128,64,10) | DIFF WEIGHT 1e-05 | MAXSAT | 4 CLAUSES…"
      ]
     },
     "metadata": {},
     "output_type": "display_data"
    },
    {
     "data": {
      "application/vnd.jupyter.widget-view+json": {
       "model_id": "",
       "version_major": 2,
       "version_minor": 0
      },
      "text/plain": [
       "[MNIST | ADAM, LR = 0.001 | SS LOGIC | LAYERS = (784,128) (128,64,10) | DIFF WEIGHT 1e-05 | MAXSAT | 4 CLAUSES…"
      ]
     },
     "metadata": {},
     "output_type": "display_data"
    },
    {
     "data": {
      "application/vnd.jupyter.widget-view+json": {
       "model_id": "",
       "version_major": 2,
       "version_minor": 0
      },
      "text/plain": [
       "[MNIST | ADAM, LR = 0.001 | SS LOGIC | LAYERS = (784,128) (128,64,10) | DIFF WEIGHT 1e-05 | MAXSAT | 4 CLAUSES…"
      ]
     },
     "metadata": {},
     "output_type": "display_data"
    },
    {
     "data": {
      "application/vnd.jupyter.widget-view+json": {
       "model_id": "",
       "version_major": 2,
       "version_minor": 0
      },
      "text/plain": [
       "[MNIST | ADAM, LR = 0.001 | SS LOGIC | LAYERS = (784,128) (128,64,10) | DIFF WEIGHT 1e-05 | MAXSAT | 4 CLAUSES…"
      ]
     },
     "metadata": {},
     "output_type": "display_data"
    },
    {
     "data": {
      "application/vnd.jupyter.widget-view+json": {
       "model_id": "",
       "version_major": 2,
       "version_minor": 0
      },
      "text/plain": [
       "[MNIST | ADAM, LR = 0.001 | SS LOGIC | LAYERS = (784,128) (128,64,10) | DIFF WEIGHT 1e-05 | MAXSAT | 4 CLAUSES…"
      ]
     },
     "metadata": {},
     "output_type": "display_data"
    },
    {
     "data": {
      "application/vnd.jupyter.widget-view+json": {
       "model_id": "",
       "version_major": 2,
       "version_minor": 0
      },
      "text/plain": [
       "[MNIST | ADAM, LR = 0.001 | SS LOGIC | LAYERS = (784,128) (128,64,10) | DIFF WEIGHT 1e-05 | MAXSAT | 4 CLAUSES…"
      ]
     },
     "metadata": {},
     "output_type": "display_data"
    },
    {
     "data": {
      "application/vnd.jupyter.widget-view+json": {
       "model_id": "",
       "version_major": 2,
       "version_minor": 0
      },
      "text/plain": [
       "[MNIST | ADAM, LR = 0.001 | SS LOGIC | LAYERS = (784,128) (128,64,10) | DIFF WEIGHT 1e-05 | MAXSAT | 4 CLAUSES…"
      ]
     },
     "metadata": {},
     "output_type": "display_data"
    },
    {
     "data": {
      "application/vnd.jupyter.widget-view+json": {
       "model_id": "",
       "version_major": 2,
       "version_minor": 0
      },
      "text/plain": [
       "[MNIST | ADAM, LR = 0.001 | SS LOGIC | LAYERS = (784,128) (128,64,10) | DIFF WEIGHT 0.001 | MAXSAT | 4 CLAUSES…"
      ]
     },
     "metadata": {},
     "output_type": "display_data"
    },
    {
     "data": {
      "application/vnd.jupyter.widget-view+json": {
       "model_id": "",
       "version_major": 2,
       "version_minor": 0
      },
      "text/plain": [
       "[MNIST | ADAM, LR = 0.001 | SS LOGIC | LAYERS = (784,128) (128,64,10) | DIFF WEIGHT 0.001 | MAXSAT | 4 CLAUSES…"
      ]
     },
     "metadata": {},
     "output_type": "display_data"
    },
    {
     "data": {
      "application/vnd.jupyter.widget-view+json": {
       "model_id": "",
       "version_major": 2,
       "version_minor": 0
      },
      "text/plain": [
       "[MNIST | ADAM, LR = 0.001 | SS LOGIC | LAYERS = (784,128) (128,64,10) | DIFF WEIGHT 0.001 | MAXSAT | 4 CLAUSES…"
      ]
     },
     "metadata": {},
     "output_type": "display_data"
    },
    {
     "data": {
      "application/vnd.jupyter.widget-view+json": {
       "model_id": "",
       "version_major": 2,
       "version_minor": 0
      },
      "text/plain": [
       "[MNIST | ADAM, LR = 0.001 | SS LOGIC | LAYERS = (784,128) (128,64,10) | DIFF WEIGHT 0.001 | MAXSAT | 4 CLAUSES…"
      ]
     },
     "metadata": {},
     "output_type": "display_data"
    },
    {
     "data": {
      "application/vnd.jupyter.widget-view+json": {
       "model_id": "",
       "version_major": 2,
       "version_minor": 0
      },
      "text/plain": [
       "[MNIST | ADAM, LR = 0.001 | SS LOGIC | LAYERS = (784,128) (128,64,10) | DIFF WEIGHT 0.001 | MAXSAT | 4 CLAUSES…"
      ]
     },
     "metadata": {},
     "output_type": "display_data"
    },
    {
     "data": {
      "application/vnd.jupyter.widget-view+json": {
       "model_id": "",
       "version_major": 2,
       "version_minor": 0
      },
      "text/plain": [
       "[MNIST | ADAM, LR = 0.001 | SS LOGIC | LAYERS = (784,128) (128,64,10) | DIFF WEIGHT 0.001 | MAXSAT | 4 CLAUSES…"
      ]
     },
     "metadata": {},
     "output_type": "display_data"
    },
    {
     "data": {
      "application/vnd.jupyter.widget-view+json": {
       "model_id": "",
       "version_major": 2,
       "version_minor": 0
      },
      "text/plain": [
       "[MNIST | ADAM, LR = 0.001 | SS LOGIC | LAYERS = (784,128) (128,64,10) | DIFF WEIGHT 0.001 | MAXSAT | 4 CLAUSES…"
      ]
     },
     "metadata": {},
     "output_type": "display_data"
    },
    {
     "data": {
      "application/vnd.jupyter.widget-view+json": {
       "model_id": "",
       "version_major": 2,
       "version_minor": 0
      },
      "text/plain": [
       "[MNIST | ADAM, LR = 0.001 | SS LOGIC | LAYERS = (784,128) (128,64,10) | DIFF WEIGHT 0.001 | MAXSAT | 4 CLAUSES…"
      ]
     },
     "metadata": {},
     "output_type": "display_data"
    },
    {
     "data": {
      "application/vnd.jupyter.widget-view+json": {
       "model_id": "",
       "version_major": 2,
       "version_minor": 0
      },
      "text/plain": [
       "[MNIST | ADAM, LR = 0.001 | SS LOGIC | LAYERS = (784,128) (128,64,10) | DIFF WEIGHT 1 | MAXSAT | 4 CLAUSES] Ru…"
      ]
     },
     "metadata": {},
     "output_type": "display_data"
    },
    {
     "data": {
      "application/vnd.jupyter.widget-view+json": {
       "model_id": "",
       "version_major": 2,
       "version_minor": 0
      },
      "text/plain": [
       "[MNIST | ADAM, LR = 0.001 | SS LOGIC | LAYERS = (784,128) (128,64,10) | DIFF WEIGHT 1 | MAXSAT | 4 CLAUSES] Ru…"
      ]
     },
     "metadata": {},
     "output_type": "display_data"
    },
    {
     "data": {
      "application/vnd.jupyter.widget-view+json": {
       "model_id": "",
       "version_major": 2,
       "version_minor": 0
      },
      "text/plain": [
       "[MNIST | ADAM, LR = 0.001 | SS LOGIC | LAYERS = (784,128) (128,64,10) | DIFF WEIGHT 1 | MAXSAT | 4 CLAUSES] Ru…"
      ]
     },
     "metadata": {},
     "output_type": "display_data"
    },
    {
     "data": {
      "application/vnd.jupyter.widget-view+json": {
       "model_id": "",
       "version_major": 2,
       "version_minor": 0
      },
      "text/plain": [
       "[MNIST | ADAM, LR = 0.001 | SS LOGIC | LAYERS = (784,128) (128,64,10) | DIFF WEIGHT 1 | MAXSAT | 4 CLAUSES] Ru…"
      ]
     },
     "metadata": {},
     "output_type": "display_data"
    },
    {
     "data": {
      "application/vnd.jupyter.widget-view+json": {
       "model_id": "",
       "version_major": 2,
       "version_minor": 0
      },
      "text/plain": [
       "[MNIST | ADAM, LR = 0.001 | SS LOGIC | LAYERS = (784,128) (128,64,10) | DIFF WEIGHT 1 | MAXSAT | 4 CLAUSES] Ru…"
      ]
     },
     "metadata": {},
     "output_type": "display_data"
    },
    {
     "data": {
      "application/vnd.jupyter.widget-view+json": {
       "model_id": "",
       "version_major": 2,
       "version_minor": 0
      },
      "text/plain": [
       "[MNIST | ADAM, LR = 0.001 | SS LOGIC | LAYERS = (784,128) (128,64,10) | DIFF WEIGHT 1 | MAXSAT | 4 CLAUSES] Ru…"
      ]
     },
     "metadata": {},
     "output_type": "display_data"
    },
    {
     "data": {
      "application/vnd.jupyter.widget-view+json": {
       "model_id": "",
       "version_major": 2,
       "version_minor": 0
      },
      "text/plain": [
       "[MNIST | ADAM, LR = 0.001 | SS LOGIC | LAYERS = (784,128) (128,64,10) | DIFF WEIGHT 1 | MAXSAT | 4 CLAUSES] Ru…"
      ]
     },
     "metadata": {},
     "output_type": "display_data"
    },
    {
     "data": {
      "application/vnd.jupyter.widget-view+json": {
       "model_id": "",
       "version_major": 2,
       "version_minor": 0
      },
      "text/plain": [
       "[MNIST | ADAM, LR = 0.001 | SS LOGIC | LAYERS = (784,128) (128,64,10) | DIFF WEIGHT 1 | MAXSAT | 4 CLAUSES] Ru…"
      ]
     },
     "metadata": {},
     "output_type": "display_data"
    },
    {
     "data": {
      "application/vnd.jupyter.widget-view+json": {
       "model_id": "",
       "version_major": 2,
       "version_minor": 0
      },
      "text/plain": [
       "[MNIST | ADAM, LR = 0.001 | SS LOGIC | LAYERS = (784,128) (128,64,10) | DIFF WEIGHT 1e-05 | MAXSAT | 4 CLAUSES…"
      ]
     },
     "metadata": {},
     "output_type": "display_data"
    },
    {
     "data": {
      "application/vnd.jupyter.widget-view+json": {
       "model_id": "",
       "version_major": 2,
       "version_minor": 0
      },
      "text/plain": [
       "[MNIST | ADAM, LR = 0.001 | SS LOGIC | LAYERS = (784,128) (128,64,10) | DIFF WEIGHT 1e-05 | MAXSAT | 4 CLAUSES…"
      ]
     },
     "metadata": {},
     "output_type": "display_data"
    },
    {
     "data": {
      "application/vnd.jupyter.widget-view+json": {
       "model_id": "",
       "version_major": 2,
       "version_minor": 0
      },
      "text/plain": [
       "[MNIST | ADAM, LR = 0.001 | SS LOGIC | LAYERS = (784,128) (128,64,10) | DIFF WEIGHT 1e-05 | MAXSAT | 4 CLAUSES…"
      ]
     },
     "metadata": {},
     "output_type": "display_data"
    },
    {
     "data": {
      "application/vnd.jupyter.widget-view+json": {
       "model_id": "",
       "version_major": 2,
       "version_minor": 0
      },
      "text/plain": [
       "[MNIST | ADAM, LR = 0.001 | SS LOGIC | LAYERS = (784,128) (128,64,10) | DIFF WEIGHT 1e-05 | MAXSAT | 4 CLAUSES…"
      ]
     },
     "metadata": {},
     "output_type": "display_data"
    },
    {
     "data": {
      "application/vnd.jupyter.widget-view+json": {
       "model_id": "",
       "version_major": 2,
       "version_minor": 0
      },
      "text/plain": [
       "[MNIST | ADAM, LR = 0.001 | SS LOGIC | LAYERS = (784,128) (128,64,10) | DIFF WEIGHT 1e-05 | MAXSAT | 4 CLAUSES…"
      ]
     },
     "metadata": {},
     "output_type": "display_data"
    },
    {
     "data": {
      "application/vnd.jupyter.widget-view+json": {
       "model_id": "",
       "version_major": 2,
       "version_minor": 0
      },
      "text/plain": [
       "[MNIST | ADAM, LR = 0.001 | SS LOGIC | LAYERS = (784,128) (128,64,10) | DIFF WEIGHT 1e-05 | MAXSAT | 4 CLAUSES…"
      ]
     },
     "metadata": {},
     "output_type": "display_data"
    },
    {
     "data": {
      "application/vnd.jupyter.widget-view+json": {
       "model_id": "",
       "version_major": 2,
       "version_minor": 0
      },
      "text/plain": [
       "[MNIST | ADAM, LR = 0.001 | SS LOGIC | LAYERS = (784,128) (128,64,10) | DIFF WEIGHT 1e-05 | MAXSAT | 4 CLAUSES…"
      ]
     },
     "metadata": {},
     "output_type": "display_data"
    },
    {
     "data": {
      "application/vnd.jupyter.widget-view+json": {
       "model_id": "",
       "version_major": 2,
       "version_minor": 0
      },
      "text/plain": [
       "[MNIST | ADAM, LR = 0.001 | SS LOGIC | LAYERS = (784,128) (128,64,10) | DIFF WEIGHT 1e-05 | MAXSAT | 4 CLAUSES…"
      ]
     },
     "metadata": {},
     "output_type": "display_data"
    },
    {
     "data": {
      "application/vnd.jupyter.widget-view+json": {
       "model_id": "",
       "version_major": 2,
       "version_minor": 0
      },
      "text/plain": [
       "[MNIST | ADAM, LR = 0.001 | SS LOGIC | LAYERS = (784,128) (128,64,10) | DIFF WEIGHT 0.001 | MAXSAT | 4 CLAUSES…"
      ]
     },
     "metadata": {},
     "output_type": "display_data"
    },
    {
     "data": {
      "application/vnd.jupyter.widget-view+json": {
       "model_id": "",
       "version_major": 2,
       "version_minor": 0
      },
      "text/plain": [
       "[MNIST | ADAM, LR = 0.001 | SS LOGIC | LAYERS = (784,128) (128,64,10) | DIFF WEIGHT 0.001 | MAXSAT | 4 CLAUSES…"
      ]
     },
     "metadata": {},
     "output_type": "display_data"
    },
    {
     "data": {
      "application/vnd.jupyter.widget-view+json": {
       "model_id": "",
       "version_major": 2,
       "version_minor": 0
      },
      "text/plain": [
       "[MNIST | ADAM, LR = 0.001 | SS LOGIC | LAYERS = (784,128) (128,64,10) | DIFF WEIGHT 0.001 | MAXSAT | 4 CLAUSES…"
      ]
     },
     "metadata": {},
     "output_type": "display_data"
    },
    {
     "data": {
      "application/vnd.jupyter.widget-view+json": {
       "model_id": "",
       "version_major": 2,
       "version_minor": 0
      },
      "text/plain": [
       "[MNIST | ADAM, LR = 0.001 | SS LOGIC | LAYERS = (784,128) (128,64,10) | DIFF WEIGHT 0.001 | MAXSAT | 4 CLAUSES…"
      ]
     },
     "metadata": {},
     "output_type": "display_data"
    },
    {
     "data": {
      "application/vnd.jupyter.widget-view+json": {
       "model_id": "",
       "version_major": 2,
       "version_minor": 0
      },
      "text/plain": [
       "[MNIST | ADAM, LR = 0.001 | SS LOGIC | LAYERS = (784,128) (128,64,10) | DIFF WEIGHT 0.001 | MAXSAT | 4 CLAUSES…"
      ]
     },
     "metadata": {},
     "output_type": "display_data"
    },
    {
     "data": {
      "application/vnd.jupyter.widget-view+json": {
       "model_id": "",
       "version_major": 2,
       "version_minor": 0
      },
      "text/plain": [
       "[MNIST | ADAM, LR = 0.001 | SS LOGIC | LAYERS = (784,128) (128,64,10) | DIFF WEIGHT 0.001 | MAXSAT | 4 CLAUSES…"
      ]
     },
     "metadata": {},
     "output_type": "display_data"
    },
    {
     "data": {
      "application/vnd.jupyter.widget-view+json": {
       "model_id": "",
       "version_major": 2,
       "version_minor": 0
      },
      "text/plain": [
       "[MNIST | ADAM, LR = 0.001 | SS LOGIC | LAYERS = (784,128) (128,64,10) | DIFF WEIGHT 0.001 | MAXSAT | 4 CLAUSES…"
      ]
     },
     "metadata": {},
     "output_type": "display_data"
    },
    {
     "data": {
      "application/vnd.jupyter.widget-view+json": {
       "model_id": "",
       "version_major": 2,
       "version_minor": 0
      },
      "text/plain": [
       "[MNIST | ADAM, LR = 0.001 | SS LOGIC | LAYERS = (784,128) (128,64,10) | DIFF WEIGHT 0.001 | MAXSAT | 4 CLAUSES…"
      ]
     },
     "metadata": {},
     "output_type": "display_data"
    },
    {
     "data": {
      "application/vnd.jupyter.widget-view+json": {
       "model_id": "",
       "version_major": 2,
       "version_minor": 0
      },
      "text/plain": [
       "[MNIST | ADAM, LR = 0.001 | SS LOGIC | LAYERS = (784,128) (128,64,10) | DIFF WEIGHT 1 | MAXSAT | 4 CLAUSES] Ru…"
      ]
     },
     "metadata": {},
     "output_type": "display_data"
    },
    {
     "data": {
      "application/vnd.jupyter.widget-view+json": {
       "model_id": "",
       "version_major": 2,
       "version_minor": 0
      },
      "text/plain": [
       "[MNIST | ADAM, LR = 0.001 | SS LOGIC | LAYERS = (784,128) (128,64,10) | DIFF WEIGHT 1 | MAXSAT | 4 CLAUSES] Ru…"
      ]
     },
     "metadata": {},
     "output_type": "display_data"
    },
    {
     "data": {
      "application/vnd.jupyter.widget-view+json": {
       "model_id": "",
       "version_major": 2,
       "version_minor": 0
      },
      "text/plain": [
       "[MNIST | ADAM, LR = 0.001 | SS LOGIC | LAYERS = (784,128) (128,64,10) | DIFF WEIGHT 1 | MAXSAT | 4 CLAUSES] Ru…"
      ]
     },
     "metadata": {},
     "output_type": "display_data"
    },
    {
     "data": {
      "application/vnd.jupyter.widget-view+json": {
       "model_id": "",
       "version_major": 2,
       "version_minor": 0
      },
      "text/plain": [
       "[MNIST | ADAM, LR = 0.001 | SS LOGIC | LAYERS = (784,128) (128,64,10) | DIFF WEIGHT 1 | MAXSAT | 4 CLAUSES] Ru…"
      ]
     },
     "metadata": {},
     "output_type": "display_data"
    },
    {
     "data": {
      "application/vnd.jupyter.widget-view+json": {
       "model_id": "",
       "version_major": 2,
       "version_minor": 0
      },
      "text/plain": [
       "[MNIST | ADAM, LR = 0.001 | SS LOGIC | LAYERS = (784,128) (128,64,10) | DIFF WEIGHT 1 | MAXSAT | 4 CLAUSES] Ru…"
      ]
     },
     "metadata": {},
     "output_type": "display_data"
    },
    {
     "data": {
      "application/vnd.jupyter.widget-view+json": {
       "model_id": "",
       "version_major": 2,
       "version_minor": 0
      },
      "text/plain": [
       "[MNIST | ADAM, LR = 0.001 | SS LOGIC | LAYERS = (784,128) (128,64,10) | DIFF WEIGHT 1 | MAXSAT | 4 CLAUSES] Ru…"
      ]
     },
     "metadata": {},
     "output_type": "display_data"
    },
    {
     "data": {
      "application/vnd.jupyter.widget-view+json": {
       "model_id": "",
       "version_major": 2,
       "version_minor": 0
      },
      "text/plain": [
       "[MNIST | ADAM, LR = 0.001 | SS LOGIC | LAYERS = (784,128) (128,64,10) | DIFF WEIGHT 1 | MAXSAT | 4 CLAUSES] Ru…"
      ]
     },
     "metadata": {},
     "output_type": "display_data"
    },
    {
     "data": {
      "application/vnd.jupyter.widget-view+json": {
       "model_id": "",
       "version_major": 2,
       "version_minor": 0
      },
      "text/plain": [
       "[MNIST | ADAM, LR = 0.001 | SS LOGIC | LAYERS = (784,128) (128,64,10) | DIFF WEIGHT 1 | MAXSAT | 4 CLAUSES] Ru…"
      ]
     },
     "metadata": {},
     "output_type": "display_data"
    },
    {
     "data": {
      "application/vnd.jupyter.widget-view+json": {
       "model_id": "",
       "version_major": 2,
       "version_minor": 0
      },
      "text/plain": [
       "[MNIST | ADAM, LR = 0.001 | SS LOGIC | LAYERS = (784,128) (128,64,10) | DIFF WEIGHT 1e-05 | MAXSAT | 4 CLAUSES…"
      ]
     },
     "metadata": {},
     "output_type": "display_data"
    },
    {
     "data": {
      "application/vnd.jupyter.widget-view+json": {
       "model_id": "",
       "version_major": 2,
       "version_minor": 0
      },
      "text/plain": [
       "[MNIST | ADAM, LR = 0.001 | SS LOGIC | LAYERS = (784,128) (128,64,10) | DIFF WEIGHT 1e-05 | MAXSAT | 4 CLAUSES…"
      ]
     },
     "metadata": {},
     "output_type": "display_data"
    },
    {
     "data": {
      "application/vnd.jupyter.widget-view+json": {
       "model_id": "",
       "version_major": 2,
       "version_minor": 0
      },
      "text/plain": [
       "[MNIST | ADAM, LR = 0.001 | SS LOGIC | LAYERS = (784,128) (128,64,10) | DIFF WEIGHT 1e-05 | MAXSAT | 4 CLAUSES…"
      ]
     },
     "metadata": {},
     "output_type": "display_data"
    },
    {
     "data": {
      "application/vnd.jupyter.widget-view+json": {
       "model_id": "",
       "version_major": 2,
       "version_minor": 0
      },
      "text/plain": [
       "[MNIST | ADAM, LR = 0.001 | SS LOGIC | LAYERS = (784,128) (128,64,10) | DIFF WEIGHT 1e-05 | MAXSAT | 4 CLAUSES…"
      ]
     },
     "metadata": {},
     "output_type": "display_data"
    },
    {
     "data": {
      "application/vnd.jupyter.widget-view+json": {
       "model_id": "",
       "version_major": 2,
       "version_minor": 0
      },
      "text/plain": [
       "[MNIST | ADAM, LR = 0.001 | SS LOGIC | LAYERS = (784,128) (128,64,10) | DIFF WEIGHT 1e-05 | MAXSAT | 4 CLAUSES…"
      ]
     },
     "metadata": {},
     "output_type": "display_data"
    },
    {
     "data": {
      "application/vnd.jupyter.widget-view+json": {
       "model_id": "",
       "version_major": 2,
       "version_minor": 0
      },
      "text/plain": [
       "[MNIST | ADAM, LR = 0.001 | SS LOGIC | LAYERS = (784,128) (128,64,10) | DIFF WEIGHT 1e-05 | MAXSAT | 4 CLAUSES…"
      ]
     },
     "metadata": {},
     "output_type": "display_data"
    },
    {
     "data": {
      "application/vnd.jupyter.widget-view+json": {
       "model_id": "",
       "version_major": 2,
       "version_minor": 0
      },
      "text/plain": [
       "[MNIST | ADAM, LR = 0.001 | SS LOGIC | LAYERS = (784,128) (128,64,10) | DIFF WEIGHT 1e-05 | MAXSAT | 4 CLAUSES…"
      ]
     },
     "metadata": {},
     "output_type": "display_data"
    },
    {
     "data": {
      "application/vnd.jupyter.widget-view+json": {
       "model_id": "",
       "version_major": 2,
       "version_minor": 0
      },
      "text/plain": [
       "[MNIST | ADAM, LR = 0.001 | SS LOGIC | LAYERS = (784,128) (128,64,10) | DIFF WEIGHT 1e-05 | MAXSAT | 4 CLAUSES…"
      ]
     },
     "metadata": {},
     "output_type": "display_data"
    },
    {
     "data": {
      "application/vnd.jupyter.widget-view+json": {
       "model_id": "",
       "version_major": 2,
       "version_minor": 0
      },
      "text/plain": [
       "[MNIST | ADAM, LR = 0.001 | SS LOGIC | LAYERS = (784,128) (128,64,10) | DIFF WEIGHT 0.001 | MAXSAT | 4 CLAUSES…"
      ]
     },
     "metadata": {},
     "output_type": "display_data"
    },
    {
     "data": {
      "application/vnd.jupyter.widget-view+json": {
       "model_id": "",
       "version_major": 2,
       "version_minor": 0
      },
      "text/plain": [
       "[MNIST | ADAM, LR = 0.001 | SS LOGIC | LAYERS = (784,128) (128,64,10) | DIFF WEIGHT 0.001 | MAXSAT | 4 CLAUSES…"
      ]
     },
     "metadata": {},
     "output_type": "display_data"
    },
    {
     "data": {
      "application/vnd.jupyter.widget-view+json": {
       "model_id": "",
       "version_major": 2,
       "version_minor": 0
      },
      "text/plain": [
       "[MNIST | ADAM, LR = 0.001 | SS LOGIC | LAYERS = (784,128) (128,64,10) | DIFF WEIGHT 0.001 | MAXSAT | 4 CLAUSES…"
      ]
     },
     "metadata": {},
     "output_type": "display_data"
    },
    {
     "data": {
      "application/vnd.jupyter.widget-view+json": {
       "model_id": "",
       "version_major": 2,
       "version_minor": 0
      },
      "text/plain": [
       "[MNIST | ADAM, LR = 0.001 | SS LOGIC | LAYERS = (784,128) (128,64,10) | DIFF WEIGHT 0.001 | MAXSAT | 4 CLAUSES…"
      ]
     },
     "metadata": {},
     "output_type": "display_data"
    },
    {
     "data": {
      "application/vnd.jupyter.widget-view+json": {
       "model_id": "",
       "version_major": 2,
       "version_minor": 0
      },
      "text/plain": [
       "[MNIST | ADAM, LR = 0.001 | SS LOGIC | LAYERS = (784,128) (128,64,10) | DIFF WEIGHT 0.001 | MAXSAT | 4 CLAUSES…"
      ]
     },
     "metadata": {},
     "output_type": "display_data"
    },
    {
     "data": {
      "application/vnd.jupyter.widget-view+json": {
       "model_id": "",
       "version_major": 2,
       "version_minor": 0
      },
      "text/plain": [
       "[MNIST | ADAM, LR = 0.001 | SS LOGIC | LAYERS = (784,128) (128,64,10) | DIFF WEIGHT 0.001 | MAXSAT | 4 CLAUSES…"
      ]
     },
     "metadata": {},
     "output_type": "display_data"
    },
    {
     "data": {
      "application/vnd.jupyter.widget-view+json": {
       "model_id": "",
       "version_major": 2,
       "version_minor": 0
      },
      "text/plain": [
       "[MNIST | ADAM, LR = 0.001 | SS LOGIC | LAYERS = (784,128) (128,64,10) | DIFF WEIGHT 0.001 | MAXSAT | 4 CLAUSES…"
      ]
     },
     "metadata": {},
     "output_type": "display_data"
    },
    {
     "data": {
      "application/vnd.jupyter.widget-view+json": {
       "model_id": "",
       "version_major": 2,
       "version_minor": 0
      },
      "text/plain": [
       "[MNIST | ADAM, LR = 0.001 | SS LOGIC | LAYERS = (784,128) (128,64,10) | DIFF WEIGHT 0.001 | MAXSAT | 4 CLAUSES…"
      ]
     },
     "metadata": {},
     "output_type": "display_data"
    },
    {
     "data": {
      "application/vnd.jupyter.widget-view+json": {
       "model_id": "",
       "version_major": 2,
       "version_minor": 0
      },
      "text/plain": [
       "[MNIST | ADAM, LR = 0.001 | SS LOGIC | LAYERS = (784,128) (128,64,10) | DIFF WEIGHT 1 | MAXSAT | 4 CLAUSES] Ru…"
      ]
     },
     "metadata": {},
     "output_type": "display_data"
    },
    {
     "data": {
      "application/vnd.jupyter.widget-view+json": {
       "model_id": "",
       "version_major": 2,
       "version_minor": 0
      },
      "text/plain": [
       "[MNIST | ADAM, LR = 0.001 | SS LOGIC | LAYERS = (784,128) (128,64,10) | DIFF WEIGHT 1 | MAXSAT | 4 CLAUSES] Ru…"
      ]
     },
     "metadata": {},
     "output_type": "display_data"
    },
    {
     "data": {
      "application/vnd.jupyter.widget-view+json": {
       "model_id": "",
       "version_major": 2,
       "version_minor": 0
      },
      "text/plain": [
       "[MNIST | ADAM, LR = 0.001 | SS LOGIC | LAYERS = (784,128) (128,64,10) | DIFF WEIGHT 1 | MAXSAT | 4 CLAUSES] Ru…"
      ]
     },
     "metadata": {},
     "output_type": "display_data"
    },
    {
     "data": {
      "application/vnd.jupyter.widget-view+json": {
       "model_id": "",
       "version_major": 2,
       "version_minor": 0
      },
      "text/plain": [
       "[MNIST | ADAM, LR = 0.001 | SS LOGIC | LAYERS = (784,128) (128,64,10) | DIFF WEIGHT 1 | MAXSAT | 4 CLAUSES] Ru…"
      ]
     },
     "metadata": {},
     "output_type": "display_data"
    },
    {
     "data": {
      "application/vnd.jupyter.widget-view+json": {
       "model_id": "",
       "version_major": 2,
       "version_minor": 0
      },
      "text/plain": [
       "[MNIST | ADAM, LR = 0.001 | SS LOGIC | LAYERS = (784,128) (128,64,10) | DIFF WEIGHT 1 | MAXSAT | 4 CLAUSES] Ru…"
      ]
     },
     "metadata": {},
     "output_type": "display_data"
    },
    {
     "data": {
      "application/vnd.jupyter.widget-view+json": {
       "model_id": "",
       "version_major": 2,
       "version_minor": 0
      },
      "text/plain": [
       "[MNIST | ADAM, LR = 0.001 | SS LOGIC | LAYERS = (784,128) (128,64,10) | DIFF WEIGHT 1 | MAXSAT | 4 CLAUSES] Ru…"
      ]
     },
     "metadata": {},
     "output_type": "display_data"
    },
    {
     "data": {
      "application/vnd.jupyter.widget-view+json": {
       "model_id": "",
       "version_major": 2,
       "version_minor": 0
      },
      "text/plain": [
       "[MNIST | ADAM, LR = 0.001 | SS LOGIC | LAYERS = (784,128) (128,64,10) | DIFF WEIGHT 1 | MAXSAT | 4 CLAUSES] Ru…"
      ]
     },
     "metadata": {},
     "output_type": "display_data"
    },
    {
     "data": {
      "application/vnd.jupyter.widget-view+json": {
       "model_id": "",
       "version_major": 2,
       "version_minor": 0
      },
      "text/plain": [
       "[MNIST | ADAM, LR = 0.001 | SS LOGIC | LAYERS = (784,128) (128,64,10) | DIFF WEIGHT 1 | MAXSAT | 4 CLAUSES] Ru…"
      ]
     },
     "metadata": {},
     "output_type": "display_data"
    },
    {
     "data": {
      "application/vnd.jupyter.widget-view+json": {
       "model_id": "b3e5b9a97d7f48bebbc6f8818671eff7",
       "version_major": 2,
       "version_minor": 0
      },
      "text/plain": [
       "[MNIST | ADAM, LR = 0.001 | SS LOGIC | LAYERS = (784,128) (128,64,10) | DIFF WEIGHT 1e-05 | MAXSAT | 4 CLAUSES…"
      ]
     },
     "metadata": {},
     "output_type": "display_data"
    }
   ],
   "source": [
    "def defer_regime(*args, **kargs):\n",
    "    def return_regime():\n",
    "        return MNISTRealRegime(*args, **kargs)\n",
    "    return return_regime\n",
    "\n",
    "sslogic = SchweizerSklarLogic(torch.tensor(-4.0).to(device))\n",
    "layers = [(28*28, 128), (128, 64, 10)]\n",
    "\n",
    "regimes = [\n",
    "    defer_regime(logic=sslogic, layers=layers, clauses_per_output=4, diff_weight=1e-5, maxsat=True, lr=1e-3),\n",
    "    defer_regime(logic=sslogic, layers=layers, clauses_per_output=4, diff_weight=1e-3, maxsat=True, lr=1e-3),\n",
    "    defer_regime(logic=sslogic, layers=layers, clauses_per_output=4, diff_weight=1, maxsat=True, lr=1e-3),\n",
    "]\n",
    "\n",
    "torch.autograd.set_detect_anomaly(True)\n",
    "if True:\n",
    "    regs = [regime_f() for regime_f in regimes]\n",
    "    for reg in regs:\n",
    "        reg.load_latest_models()\n",
    "        reg.load_all_results()\n",
    "    \n",
    "    for i in range(0, 100):\n",
    "        for reg in regs:\n",
    "            #try:\n",
    "                reg.loop_until(1, 1*(i+1))\n",
    "            #except:\n",
    "            #    pass"
   ]
  },
  {
   "cell_type": "code",
   "execution_count": null,
   "id": "e85d5271",
   "metadata": {},
   "outputs": [],
   "source": [
    "0 ** 1"
   ]
  },
  {
   "cell_type": "code",
   "execution_count": null,
   "id": "a6be48e3",
   "metadata": {},
   "outputs": [],
   "source": [
    "reg = regimes[0]()\n",
    "reg.load_latest_models()\n",
    "reg.load_all_results()\n",
    "model = reg.models[0].to(device)"
   ]
  },
  {
   "cell_type": "code",
   "execution_count": null,
   "id": "5a2b55a7",
   "metadata": {},
   "outputs": [],
   "source": [
    "reg.results[0]"
   ]
  },
  {
   "cell_type": "code",
   "execution_count": null,
   "id": "b85117d4",
   "metadata": {},
   "outputs": [],
   "source": [
    "feature = nn.Parameter(torch.rand((1, 28, 28)), requires_grad=True)\n",
    "optim = torch.optim.Adam((feature,), lr=1e-2)"
   ]
  },
  {
   "cell_type": "code",
   "execution_count": null,
   "id": "98eeb14a",
   "metadata": {},
   "outputs": [],
   "source": [
    "torch.autograd.set_detect_anomaly(True)\n",
    "for i in tqdm(range(5000)):\n",
    "    bounded = feature.sigmoid().flatten(start_dim=1).to(device)\n",
    "    a_0 = model.layers[0](bounded)\n",
    "    c_1 = torch.zeros_like(a_0, device=a_0.device)\n",
    "    c_1[:,0] = -1\n",
    "    a_1 = a_0 * c_1\n",
    "    loss = a_1.sum()\n",
    "    \n",
    "    if i % 500 == 0:\n",
    "        print(loss)\n",
    "    \n",
    "    optim.zero_grad()\n",
    "    loss.backward()\n",
    "    optim.step()\n",
    "    \n",
    "plt.imshow(feature.sigmoid().squeeze().detach().cpu().numpy())"
   ]
  },
  {
   "cell_type": "code",
   "execution_count": null,
   "id": "26c7bccd",
   "metadata": {},
   "outputs": [],
   "source": [
    "values = model.layers[1].fuzzy_m.value()\n",
    "torch.min(values, 1 - values).mean()"
   ]
  },
  {
   "cell_type": "code",
   "execution_count": null,
   "id": "d9bfa34a",
   "metadata": {},
   "outputs": [],
   "source": [
    "from matplotlib import cm\n",
    "\n",
    "for imgs, labels in tqdm(reg.training_dataloader(1)):\n",
    "    i = 7\n",
    "    img = imgs[i:i+1,:]\n",
    "    label = labels[i]\n",
    "    img = nn.Parameter(imgs[i:i+1,:], requires_grad=True)\n",
    "    a_0 = model.layers[0](img.flatten(start_dim=1).to(device))\n",
    "    a_1 = model.layers[1](a_0)\n",
    "    loss = -a_0[:,45].sum()\n",
    "    img.grad = None\n",
    "    loss.backward()\n",
    "    fig, ax = plt.subplots(3)\n",
    "    ax[0].imshow(-img.grad.reshape(28,28).detach().cpu().numpy(), cmap=\"bwr\")\n",
    "    ax[1].imshow(img.reshape(28,28).detach().cpu().numpy())\n",
    "    print(a_1)\n",
    "    #print(model.layers[1].fuzzy_m.value()[2,:,:] > 0.5)\n",
    "    #print(a_0 > 0.9)\n",
    "    features = torch.logical_and(model.layers[1].fuzzy_m.value()[label,0,:] > 0.5, a_0 > 0.9)\n",
    "    print(features)\n",
    "    \n",
    "    new_img = nn.Parameter(torch.rand((1, 28, 28)), requires_grad=True)\n",
    "    optim = torch.optim.Adam((new_img,), lr=1e-2)\n",
    "    \n",
    "    for i in tqdm(range(5000)):\n",
    "        bounded = new_img.sigmoid().flatten(start_dim=1).to(device)\n",
    "        a_0 = model.layers[0](bounded)\n",
    "        c_1 = torch.zeros_like(a_0, device=a_0.device)\n",
    "        c_1[features] = -1\n",
    "        a_1 = a_0 * c_1\n",
    "        loss = a_1.sum()\n",
    "\n",
    "        if i % 500 == 0:\n",
    "            print(loss)\n",
    "\n",
    "        optim.zero_grad()\n",
    "        loss.backward()\n",
    "        optim.step()\n",
    "    \n",
    "    ax[2].imshow(new_img.sigmoid().squeeze().detach().cpu().numpy())\n",
    "    \n",
    "    break"
   ]
  },
  {
   "cell_type": "code",
   "execution_count": null,
   "id": "a347dd7a",
   "metadata": {},
   "outputs": [],
   "source": [
    "model(new_img.sigmoid().detach().to(device))"
   ]
  },
  {
   "cell_type": "markdown",
   "id": "d3eb8010",
   "metadata": {},
   "source": [
    "# MNIST Auto Encoding"
   ]
  },
  {
   "cell_type": "code",
   "execution_count": null,
   "id": "5b025ca7",
   "metadata": {},
   "outputs": [],
   "source": [
    "class MNISTAutoEncoder(nn.Module):\n",
    "    def __init__(self):\n",
    "        super().__init__()\n",
    "        self.encoder = nn.Sequential(\n",
    "            nn.Flatten(),\n",
    "            nn.Linear(28*28, 128),\n",
    "            nn.LeakyReLU(),\n",
    "            nn.Linear(128, 4),\n",
    "            nn.Sigmoid(),\n",
    "        )\n",
    "        \n",
    "        self.decoder = nn.Sequential(\n",
    "            nn.Linear(4, 128),\n",
    "            nn.LeakyReLU(),\n",
    "            nn.Linear(128, 28*28),\n",
    "            nn.LeakyReLU(),\n",
    "        )\n",
    "        \n",
    "    def encode(self, input):\n",
    "        return self.encoder(input)\n",
    "    \n",
    "    def decode(self, latent):\n",
    "        decoded = self.decoder(latent)\n",
    "        return decoded.reshape(*decoded.shape[:-1], 1, 28, 28)\n",
    "    \n",
    "    def forward(self, input):\n",
    "        return self.decode(self.encode(input))"
   ]
  },
  {
   "cell_type": "code",
   "execution_count": null,
   "id": "1545c0d7",
   "metadata": {},
   "outputs": [],
   "source": [
    "ae_model = MNISTAutoEncoder().to(device)\n",
    "no_ae_epochs = 30"
   ]
  },
  {
   "cell_type": "code",
   "execution_count": null,
   "id": "b3b160f7",
   "metadata": {},
   "outputs": [],
   "source": [
    "def train_ae():\n",
    "    optim = torch.optim.Adam(ae_model.parameters(), lr=1e-3)\n",
    "\n",
    "    losses = []\n",
    "    for epoch_no in range(1, no_ae_epochs + 1):\n",
    "        for imgs, _ in tqdm(trainloader, desc=\"Training Epoch %s\" % epoch_no, leave=False):\n",
    "            decoding = ae_model(imgs.to(device))\n",
    "            loss = ((imgs.to(device) - decoding) ** 2).sum()\n",
    "            losses.append(loss.item())\n",
    "\n",
    "            optim.zero_grad()\n",
    "            loss.backward()\n",
    "            optim.step()\n",
    "            \n",
    "    return torch.tensor(losses)\n",
    "\n",
    "train_ae()"
   ]
  },
  {
   "cell_type": "code",
   "execution_count": null,
   "id": "faff3b37",
   "metadata": {},
   "outputs": [],
   "source": [
    "for imgs, _ in testloader:\n",
    "    i=14\n",
    "    img = imgs[i:i+1]\n",
    "    decoding = ae_model(img.to(device))\n",
    "    fig, ax = plt.subplots(2)\n",
    "    ax[0].imshow(img.squeeze().cpu().numpy())\n",
    "    ax[1].imshow(decoding.squeeze().detach().cpu().numpy())\n",
    "    break"
   ]
  },
  {
   "cell_type": "code",
   "execution_count": null,
   "id": "4a2f0e84",
   "metadata": {},
   "outputs": [],
   "source": [
    "from matplotlib import cm\n",
    "\n",
    "for imgs, labels in tqdm(reg.testing_dataloader(1)):\n",
    "    i = 15\n",
    "    img = imgs[i:i+1,:]\n",
    "    label = labels[i]\n",
    "    img = nn.Parameter(imgs[i:i+1,:], requires_grad=True)\n",
    "    a_0 = model.layers[0](img.flatten(start_dim=1).to(device))\n",
    "    a_1 = model.layers[1](a_0)\n",
    "    loss = -a_0[:,45].sum()\n",
    "    img.grad = None\n",
    "    loss.backward()\n",
    "    fig, ax = plt.subplots(3)\n",
    "    ax[0].imshow(-img.grad.reshape(28,28).detach().cpu().numpy(), cmap=\"bwr\")\n",
    "    ax[1].imshow(img.reshape(28,28).detach().cpu().numpy())\n",
    "    print(a_1)\n",
    "    #print(model.layers[1].fuzzy_m.value()[2,:,:] > 0.5)\n",
    "    #print(a_0 > 0.9)\n",
    "    features = (model.layers[1].fuzzy_m.value()[label,0,:]).unsqueeze(0)#torch.logical_and(model.layers[1].fuzzy_m.value()[label,0,:] > 0.5, a_0 > 0.95)\n",
    "    print(features > 0.5)\n",
    "    \n",
    "    new_img = FuzzyParam((1, 4)).to(device)\n",
    "    optim = torch.optim.Adam(new_img.parameters(), lr=1e-2)\n",
    "    \n",
    "    for i in tqdm(range(1500)):\n",
    "        input = ae_model.decode(new_img.value())\n",
    "        a_0 = model.layers[0](input.flatten(start_dim=1))\n",
    "        c_1 = torch.zeros_like(a_0, device=a_0.device)\n",
    "        c_1[features > 0.5] = -1\n",
    "        a_1 = c_1 * a_0\n",
    "        #a_1 = -model.logic.conjoin(model.logic.implies(features.detach(), a_0), dim=-1)\n",
    "        loss = a_1.sum()\n",
    "\n",
    "        if i % 500 == 0:\n",
    "            print(loss)\n",
    "\n",
    "        optim.zero_grad()\n",
    "        loss.backward()\n",
    "        optim.step()\n",
    "    \n",
    "    ax[2].imshow(ae_model.decode(new_img.value()).squeeze().detach().cpu().numpy())\n",
    "    \n",
    "    break"
   ]
  },
  {
   "cell_type": "code",
   "execution_count": null,
   "id": "c76c8657",
   "metadata": {},
   "outputs": [],
   "source": [
    "model(ae_model.decode(new_img.value()))"
   ]
  },
  {
   "cell_type": "code",
   "execution_count": null,
   "id": "ea08c6ea",
   "metadata": {},
   "outputs": [],
   "source": []
  }
 ],
 "metadata": {
  "kernelspec": {
   "display_name": "Python 3 (ipykernel)",
   "language": "python",
   "name": "python3"
  },
  "language_info": {
   "codemirror_mode": {
    "name": "ipython",
    "version": 3
   },
   "file_extension": ".py",
   "mimetype": "text/x-python",
   "name": "python",
   "nbconvert_exporter": "python",
   "pygments_lexer": "ipython3",
   "version": "3.9.7"
  }
 },
 "nbformat": 4,
 "nbformat_minor": 5
}
