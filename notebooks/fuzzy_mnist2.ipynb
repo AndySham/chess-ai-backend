{
 "cells": [
  {
   "cell_type": "code",
   "execution_count": 1,
   "id": "dcae9f7d",
   "metadata": {},
   "outputs": [],
   "source": [
    "import sys\n",
    "import os\n",
    "sys.path.append(os.path.abspath('../src')) # include top level package in python path"
   ]
  },
  {
   "cell_type": "code",
   "execution_count": 2,
   "id": "adde70f5",
   "metadata": {},
   "outputs": [
    {
     "data": {
      "text/html": [
       "\n",
       "<style>\n",
       ".container { \n",
       "    width: 100% !important;\n",
       "}\n",
       "</style>\n"
      ],
      "text/plain": [
       "<IPython.core.display.HTML object>"
      ]
     },
     "metadata": {},
     "output_type": "display_data"
    }
   ],
   "source": [
    "from IPython.display import display, HTML\n",
    "display(HTML(\"\"\"\n",
    "<style>\n",
    ".container { \n",
    "    width: 100% !important;\n",
    "}\n",
    "</style>\n",
    "\"\"\"))"
   ]
  },
  {
   "cell_type": "code",
   "execution_count": 3,
   "id": "c1834046",
   "metadata": {},
   "outputs": [],
   "source": [
    "import torch\n",
    "from torch import nn, Tensor\n",
    "from model.fuzzy_logic import ProductLogic, MinimumLogic, LukasiewiczLogic, DrasticLogic, SchweizerSklarLogic\n",
    "from model.fuzzy_layer import FuzzyMLP, FuzzyParam\n",
    "from model.bool_logic import BoolLogic\n",
    "from cache import TestMetric, TrainingRegime\n",
    "import matplotlib.pyplot as plt\n",
    "from tqdm.notebook import tqdm\n",
    "\n",
    "device = 'cuda'\n",
    "\n",
    "logic = BoolLogic()\n",
    "flogic = ProductLogic()"
   ]
  },
  {
   "cell_type": "code",
   "execution_count": 4,
   "id": "e82e729d",
   "metadata": {},
   "outputs": [],
   "source": [
    "from torch.utils.data import DataLoader\n",
    "from torchvision import datasets, transforms\n",
    "\n",
    "trainset = datasets.MNIST(root='./_mnist', train=True, download=True, transform=transforms.ToTensor())\n",
    "testset = datasets.MNIST(root='./_mnist', train=False, download=True, transform=transforms.ToTensor())\n",
    "\n",
    "trainloader = DataLoader(trainset, batch_size=128)\n",
    "testloader = DataLoader(testset, batch_size=128)"
   ]
  },
  {
   "cell_type": "code",
   "execution_count": 5,
   "id": "07df6e96",
   "metadata": {},
   "outputs": [],
   "source": [
    "class CorrectOutputMetric(TestMetric):\n",
    "    def name(self):\n",
    "        return \"correct-output\"\n",
    "    \n",
    "    def measure_model(self, model, it):\n",
    "        correct_count = 0\n",
    "        total_count = 0\n",
    "\n",
    "        with torch.no_grad():\n",
    "            for imgs, labels in it():\n",
    "                preds = model(imgs.to(device))\n",
    "                if hasattr(model.__class__, \"zero_reg\"):\n",
    "                    model.zero_reg()\n",
    "                pred_labels = preds.argmax(dim=-1)\n",
    "                correct_count += (pred_labels == labels.to(device)).sum()\n",
    "                total_count += labels.numel()\n",
    "\n",
    "        return (correct_count / total_count).item()\n",
    "    \n",
    "class LogicCorrectOutputMetric(TestMetric):\n",
    "    def name(self):\n",
    "        return \"logic-correct-output\"\n",
    "\n",
    "    def measure_model(self, model, it):\n",
    "        correct_count = 0\n",
    "        total_count = 0\n",
    "        \n",
    "        with torch.no_grad():\n",
    "            for imgs, labels in it():\n",
    "                preds = model.fuzzy_forward(imgs.to(device))\n",
    "                if hasattr(model.__class__, \"zero_reg\"):\n",
    "                    model.zero_reg()\n",
    "                pred_labels = preds.argmax(dim=-1)\n",
    "                correct_count += (pred_labels == labels.to(device)).sum()\n",
    "                total_count += labels.numel()\n",
    "\n",
    "        return (correct_count / total_count).item()\n",
    "    \n",
    "class UnsatisfiedMetric(TestMetric):\n",
    "    def name(self):\n",
    "        return \"unsatisfied\"\n",
    "\n",
    "    def measure_model(self, model, it):\n",
    "        total = 0\n",
    "        \n",
    "        for imgs, _ in it():\n",
    "            total += model.from_all_layers(\n",
    "                imgs.to(device),\n",
    "                lambda lyr, inp, outp: (\n",
    "                    1 - lyr.satisfactions(inp, outp)\n",
    "                ).sum()\n",
    "            )\n",
    "\n",
    "        return total.item()\n",
    "    \n",
    "class ExampleMetric(TestMetric):\n",
    "    def name(self):\n",
    "        return \"examples\"\n",
    "\n",
    "    def measure_model(self, model, it):\n",
    "        total = 0\n",
    "        \n",
    "        for imgs, _ in it():\n",
    "            total += model.from_all_layers(\n",
    "                imgs.to(device),\n",
    "                lambda lyr, inp, outp: (\n",
    "                    lyr.examples(inp, outp)\n",
    "                ).sum()\n",
    "            )\n",
    "\n",
    "        return total.item()\n",
    "    \n",
    "class CrispnessMetric(TestMetric):\n",
    "    def name(self):\n",
    "        return \"crispness\"\n",
    "\n",
    "    def measure_model(self, model, it):\n",
    "        total = 0\n",
    "        \n",
    "        for imgs, _ in it():\n",
    "            total += model.from_all_layers(\n",
    "                imgs.to(device),\n",
    "                lambda lyr, inp, outp: (\n",
    "                    lyr.crispness()\n",
    "                ).sum()\n",
    "            )\n",
    "\n",
    "        return total.item()"
   ]
  },
  {
   "cell_type": "code",
   "execution_count": 6,
   "id": "b6fa886c",
   "metadata": {},
   "outputs": [],
   "source": [
    "exp = 2\n",
    "\n",
    "class FuzzyMNIST(nn.Module):\n",
    "    \n",
    "    def __init__(self, logic, layers: tuple[tuple[int,...],...], clauses_per_output: int, signed_clauses: bool, joint: bool):\n",
    "        super().__init__()\n",
    "        self.logic = logic\n",
    "        self.clauses_per_output = clauses_per_output\n",
    "        self.signed_clauses = signed_clauses\n",
    "        self.joint = joint\n",
    "        \n",
    "        self.layers = nn.ModuleList([\n",
    "            FuzzyMLP(logic, shape, clauses_per_output, signed_clauses) for shape in layers\n",
    "        ])\n",
    "        \n",
    "        self.logic_loss = nn.CrossEntropyLoss()\n",
    "        \n",
    "        #self.reg = None\n",
    "        #self.pos = None\n",
    "        #self.crisp = None\n",
    "        self.diff = None\n",
    "        \n",
    "    def forward(self, input):\n",
    "        prev_output = input.flatten(start_dim=1)\n",
    "        #self.reg = torch.tensor(0.0, device=input.device)\n",
    "        #self.pos = torch.tensor(0.0, device=input.device)\n",
    "        #self.crisp = torch.tensor(0.0, device=input.device)\n",
    "        self.diff = torch.tensor(0.0, device=input.device)\n",
    "        for idx, layer in enumerate(self.layers):\n",
    "            output = layer(prev_output)\n",
    "            if idx > 0:\n",
    "                #exs = layer.satisfactions(prev_output, output)\n",
    "                #self.reg += ((1 - exs) ** exp).sum()\n",
    "                #pos_exs = layer.examples(prev_output, output)\n",
    "                #self.pos += (pos_exs ** exp).sum()\n",
    "                #crisp_exs = layer.crispness()\n",
    "                #self.crisp += (crisp_exs ** 1).sum()\n",
    "                #if self.maxsat:\n",
    "                #    precs = layer.preconditions(prev_output.detach())\n",
    "                #    self.diff += (self.logic.implies(precs, output.unsqueeze(-1).detach()) ** exp).sum()\n",
    "                #    self.diff += 10 * (self.logic.bin_conjoin(precs, output.unsqueeze(-1).detach()) ** exp).sum()\n",
    "                #else:\n",
    "                #    preds = layer.logic_preds(prev_output.detach())\n",
    "                #    self.diff += (self.logic.implies(preds, output.detach()) ** exp).sum()\n",
    "                #    self.diff += 10 * (self.logic.bin_conjoin(preds, output.detach()) ** exp).sum()\n",
    "                before = prev_output\n",
    "                after = output\n",
    "                if not self.joint:\n",
    "                    before = before.detach()\n",
    "                    after = after.detach()\n",
    "                preds = layer.logic_preds(before)\n",
    "                output_probs = torch.softmax(after, dim=-1)\n",
    "                self.diff += self.logic_loss(preds, output_probs)\n",
    "            prev_output = output\n",
    "            \n",
    "        return torch.softmax(prev_output, dim=-1)\n",
    "    \n",
    "    def fuzzy_forward(self, input):\n",
    "        prev_output = input.flatten(start_dim=1)\n",
    "        for idx, layer in enumerate(self.layers):\n",
    "            if idx > 0:\n",
    "                output = layer.logic_preds(prev_output)\n",
    "            else:\n",
    "                output = layer(prev_output)\n",
    "            prev_output = output\n",
    "            \n",
    "        return torch.softmax(prev_output, dim=-1)\n",
    "    \n",
    "    def from_all_layers(self, input, f):\n",
    "        total = torch.tensor(0.0, device=input.device)\n",
    "        \n",
    "        with torch.no_grad():\n",
    "            prev_output = input.flatten(start_dim=1)\n",
    "            for idx, layer in enumerate(self.layers):\n",
    "                output = layer(prev_output)\n",
    "                if idx > 0:\n",
    "                    total += f(layer, prev_output, output).sum()\n",
    "                prev_output = output\n",
    "                \n",
    "        return total\n",
    "    \n",
    "    def logic_reg(self):\n",
    "        return self.reg\n",
    "    \n",
    "    def pos_reg(self):\n",
    "        return self.pos\n",
    "    \n",
    "    def crisp_reg(self):\n",
    "        return self.crisp\n",
    "    \n",
    "    def diff_reg(self):\n",
    "        return self.diff\n",
    "    \n",
    "    def zero_reg(self):\n",
    "        #self.reg = None\n",
    "        #self.pos = None\n",
    "        #self.crisp = None\n",
    "        self.diff = None"
   ]
  },
  {
   "cell_type": "code",
   "execution_count": 11,
   "id": "66f3e322",
   "metadata": {},
   "outputs": [],
   "source": [
    "class MNISTRealRegime(TrainingRegime):\n",
    "    def __init__(\n",
    "        self, \n",
    "        logic, \n",
    "        layers, \n",
    "        clauses_per_output,\n",
    "        diff_weight,\n",
    "        joint,\n",
    "        l2_reg,\n",
    "        #maxsat,\n",
    "        #signed_clauses, \n",
    "        #reg_weight, \n",
    "        #pos_weight, \n",
    "        #crisp_weight, \n",
    "        lr=1e-2, \n",
    "        no_runs=1\n",
    "    ):\n",
    "        super().__init__(\"./mnist/\", no_runs)\n",
    "        \n",
    "        self.flogic = logic\n",
    "        self.layers = layers\n",
    "        self.clauses_per_output = clauses_per_output\n",
    "        self.diff_weight = diff_weight\n",
    "        self.joint = joint\n",
    "        self.l2_reg = l2_reg\n",
    "        #self.maxsat = maxsat\n",
    "        #self.signed_clauses = signed_clauses\n",
    "        #self.reg_weight = reg_weight\n",
    "        #self.pos_weight = pos_weight\n",
    "        #self.crisp_weight = crisp_weight\n",
    "        self.lr = lr\n",
    "        \n",
    "        self.tests = [\n",
    "            CorrectOutputMetric(),\n",
    "            LogicCorrectOutputMetric(),\n",
    "            UnsatisfiedMetric(),\n",
    "            ExampleMetric(),\n",
    "            CrispnessMetric(),\n",
    "        ]\n",
    "        \n",
    "        self.trainloader = DataLoader(trainset, batch_size=128)\n",
    "        self.testloader = DataLoader(testset, batch_size=128)\n",
    "        \n",
    "        self.optims = [None] * no_runs\n",
    "        \n",
    "    def get_optim(self, run_no):\n",
    "        optim = self.optims[run_no - 1]\n",
    "        if optim is None:\n",
    "            model = self.get_loaded_model(run_no)\n",
    "            optim = self.optims[run_no - 1] = (\n",
    "                torch.optim.Adam(model.parameters(), lr=self.lr)\n",
    "            )\n",
    "        return optim\n",
    "        \n",
    "    def regime_str(self):\n",
    "        layer_str = \" \".join([\"(\" + \",\".join(str(i) for i in shape) + \")\" for shape in self.layers])\n",
    "        joint_str = \" | JOINT\" if self.joint else \"\"\n",
    "        l2_reg_str = \" | L2 REG %s\" % self.l2_reg if self.l2_reg is not None else \"\" \n",
    "        #signed_str = \"SIGNED \" if self.signed_clauses else \"\"\n",
    "        return (\n",
    "            \"MNIST | ADAM, LR = %s | LAYERS = %s | DIFF WEIGHT %s | %s CLAUSES%s%s\"\n",
    "            % ( \n",
    "                self.lr,\n",
    "                layer_str, \n",
    "                #self.reg_weight,\n",
    "                #self.pos_weight,\n",
    "                #self.crisp_weight,\n",
    "                self.diff_weight,\n",
    "                self.clauses_per_output,\n",
    "                joint_str,\n",
    "                l2_reg_str\n",
    "                #signed_str,\n",
    "            )\n",
    "        ) \n",
    "        \n",
    "    def regime_filename_elems(self):\n",
    "        layer_strs = [\"l\" + \"-\".join(str(i) for i in shape) for shape in self.layers]\n",
    "        elems = [\n",
    "            \"mnistjoint\",\n",
    "            str(self.lr),\n",
    "            *layer_strs,\n",
    "            #\"w%s\" % self.reg_weight,\n",
    "            #\"p%s\" % self.pos_weight,\n",
    "            #\"cr%s\" % self.crisp_weight,\n",
    "            \"d%s\" % self.diff_weight,\n",
    "            \"c%s\" % self.clauses_per_output\n",
    "        ]\n",
    "        if self.joint:\n",
    "            elems.append(\"joint\")\n",
    "        if self.l2_reg is not None:\n",
    "            elems.append(\"l2r%s\" % self.l2_reg)\n",
    "        return elems\n",
    "        \n",
    "    def training_dataloader(self, run_no):\n",
    "        return self.trainloader\n",
    "    \n",
    "    def testing_dataloader(self, run_no):\n",
    "        return self.testloader\n",
    "    \n",
    "    def training_step(self, run_no, model):\n",
    "        optim = self.get_optim(run_no)\n",
    "        loss_fn = nn.CrossEntropyLoss()\n",
    "        \n",
    "        def print_grad(grad):\n",
    "            print(grad)\n",
    "            return grad\n",
    "        \n",
    "        def step(tup):\n",
    "            imgs, labels = tup\n",
    "            preds = model(imgs.to(device))\n",
    "            loss = loss_fn(preds, labels.to(device))\n",
    "            #reg = model.logic_reg()\n",
    "            #pos = model.pos_reg()\n",
    "            #crisp = model.crisp_reg()\n",
    "            diff = model.diff_reg()\n",
    "            #if self.reg_weight != 0:\n",
    "            #    loss = loss + self.reg_weight * reg\n",
    "            #if self.pos_weight != 0:\n",
    "            #loss = loss - self.pos_weight * pos\n",
    "            #if self.crisp_weight != 0:\n",
    "            #    loss = loss + self.crisp_weight * crisp\n",
    "            if self.diff_weight != 0:\n",
    "                loss = loss + self.diff_weight * diff\n",
    "            if self.l2_reg is not None:\n",
    "                loss = loss + self.l2_reg * (model.layers[0].model[0].weight ** 2).sum()\n",
    "            model.zero_reg()\n",
    "\n",
    "            optim.zero_grad(set_to_none=True)\n",
    "            loss.backward()\n",
    "            optim.step()\n",
    "            \n",
    "        return step\n",
    "        \n",
    "    def new_model(self):\n",
    "        return FuzzyMNIST(\n",
    "            logic=self.flogic, \n",
    "            layers=self.layers,\n",
    "            clauses_per_output=self.clauses_per_output,\n",
    "            signed_clauses=False,\n",
    "            joint=self.joint\n",
    "        ).to(device)"
   ]
  },
  {
   "cell_type": "code",
   "execution_count": 87,
   "id": "6f856821",
   "metadata": {},
   "outputs": [
    {
     "data": {
      "application/vnd.jupyter.widget-view+json": {
       "model_id": "",
       "version_major": 2,
       "version_minor": 0
      },
      "text/plain": [
       "[MNIST | ADAM, LR = 0.001 | LAYERS = (784,128) (128,64,10) | DIFF WEIGHT 0.01 | 4 CLAUSES | JOINT] Run #1, Epo…"
      ]
     },
     "metadata": {},
     "output_type": "display_data"
    },
    {
     "data": {
      "application/vnd.jupyter.widget-view+json": {
       "model_id": "",
       "version_major": 2,
       "version_minor": 0
      },
      "text/plain": [
       "[MNIST | ADAM, LR = 0.001 | LAYERS = (784,128) (128,64,10) | DIFF WEIGHT 0.01 | 4 CLAUSES | JOINT] Run #1, Epo…"
      ]
     },
     "metadata": {},
     "output_type": "display_data"
    },
    {
     "data": {
      "application/vnd.jupyter.widget-view+json": {
       "model_id": "",
       "version_major": 2,
       "version_minor": 0
      },
      "text/plain": [
       "[MNIST | ADAM, LR = 0.001 | LAYERS = (784,128) (128,64,10) | DIFF WEIGHT 0.01 | 4 CLAUSES | JOINT] Run #1, Epo…"
      ]
     },
     "metadata": {},
     "output_type": "display_data"
    },
    {
     "data": {
      "application/vnd.jupyter.widget-view+json": {
       "model_id": "",
       "version_major": 2,
       "version_minor": 0
      },
      "text/plain": [
       "[MNIST | ADAM, LR = 0.001 | LAYERS = (784,128) (128,64,10) | DIFF WEIGHT 0.01 | 4 CLAUSES | JOINT] Run #1, Epo…"
      ]
     },
     "metadata": {},
     "output_type": "display_data"
    },
    {
     "data": {
      "application/vnd.jupyter.widget-view+json": {
       "model_id": "",
       "version_major": 2,
       "version_minor": 0
      },
      "text/plain": [
       "[MNIST | ADAM, LR = 0.001 | LAYERS = (784,128) (128,64,10) | DIFF WEIGHT 0.01 | 4 CLAUSES | JOINT] Run #1, Epo…"
      ]
     },
     "metadata": {},
     "output_type": "display_data"
    },
    {
     "data": {
      "application/vnd.jupyter.widget-view+json": {
       "model_id": "",
       "version_major": 2,
       "version_minor": 0
      },
      "text/plain": [
       "[MNIST | ADAM, LR = 0.001 | LAYERS = (784,128) (128,64,10) | DIFF WEIGHT 0.01 | 4 CLAUSES | JOINT] Run #1, Epo…"
      ]
     },
     "metadata": {},
     "output_type": "display_data"
    },
    {
     "data": {
      "application/vnd.jupyter.widget-view+json": {
       "model_id": "",
       "version_major": 2,
       "version_minor": 0
      },
      "text/plain": [
       "[MNIST | ADAM, LR = 0.001 | LAYERS = (784,128) (128,64,10) | DIFF WEIGHT 0.01 | 4 CLAUSES | JOINT] Run #1, Epo…"
      ]
     },
     "metadata": {},
     "output_type": "display_data"
    },
    {
     "data": {
      "application/vnd.jupyter.widget-view+json": {
       "model_id": "",
       "version_major": 2,
       "version_minor": 0
      },
      "text/plain": [
       "[MNIST | ADAM, LR = 0.001 | LAYERS = (784,128) (128,64,10) | DIFF WEIGHT 0.01 | 4 CLAUSES | JOINT] Run #1, Epo…"
      ]
     },
     "metadata": {},
     "output_type": "display_data"
    },
    {
     "data": {
      "application/vnd.jupyter.widget-view+json": {
       "model_id": "",
       "version_major": 2,
       "version_minor": 0
      },
      "text/plain": [
       "[MNIST | ADAM, LR = 0.001 | LAYERS = (784,128) (128,64,10) | DIFF WEIGHT 0.01 | 4 CLAUSES | JOINT] Run #1, Epo…"
      ]
     },
     "metadata": {},
     "output_type": "display_data"
    },
    {
     "data": {
      "application/vnd.jupyter.widget-view+json": {
       "model_id": "",
       "version_major": 2,
       "version_minor": 0
      },
      "text/plain": [
       "[MNIST | ADAM, LR = 0.001 | LAYERS = (784,128) (128,64,10) | DIFF WEIGHT 0.01 | 4 CLAUSES | JOINT] Run #1, Epo…"
      ]
     },
     "metadata": {},
     "output_type": "display_data"
    },
    {
     "data": {
      "application/vnd.jupyter.widget-view+json": {
       "model_id": "",
       "version_major": 2,
       "version_minor": 0
      },
      "text/plain": [
       "[MNIST | ADAM, LR = 0.001 | LAYERS = (784,128) (128,64,10) | DIFF WEIGHT 0.01 | 4 CLAUSES | JOINT] Run #1, Epo…"
      ]
     },
     "metadata": {},
     "output_type": "display_data"
    },
    {
     "data": {
      "application/vnd.jupyter.widget-view+json": {
       "model_id": "",
       "version_major": 2,
       "version_minor": 0
      },
      "text/plain": [
       "[MNIST | ADAM, LR = 0.001 | LAYERS = (784,128) (128,64,10) | DIFF WEIGHT 0.01 | 4 CLAUSES | JOINT] Run #1, Epo…"
      ]
     },
     "metadata": {},
     "output_type": "display_data"
    },
    {
     "data": {
      "application/vnd.jupyter.widget-view+json": {
       "model_id": "",
       "version_major": 2,
       "version_minor": 0
      },
      "text/plain": [
       "[MNIST | ADAM, LR = 0.001 | LAYERS = (784,128) (128,64,10) | DIFF WEIGHT 0.01 | 4 CLAUSES | JOINT] Run #1, Epo…"
      ]
     },
     "metadata": {},
     "output_type": "display_data"
    },
    {
     "data": {
      "application/vnd.jupyter.widget-view+json": {
       "model_id": "",
       "version_major": 2,
       "version_minor": 0
      },
      "text/plain": [
       "[MNIST | ADAM, LR = 0.001 | LAYERS = (784,128) (128,64,10) | DIFF WEIGHT 0.01 | 4 CLAUSES | JOINT] Run #1, Epo…"
      ]
     },
     "metadata": {},
     "output_type": "display_data"
    },
    {
     "data": {
      "application/vnd.jupyter.widget-view+json": {
       "model_id": "",
       "version_major": 2,
       "version_minor": 0
      },
      "text/plain": [
       "[MNIST | ADAM, LR = 0.001 | LAYERS = (784,128) (128,64,10) | DIFF WEIGHT 0.01 | 4 CLAUSES | JOINT] Run #1, Epo…"
      ]
     },
     "metadata": {},
     "output_type": "display_data"
    },
    {
     "data": {
      "application/vnd.jupyter.widget-view+json": {
       "model_id": "",
       "version_major": 2,
       "version_minor": 0
      },
      "text/plain": [
       "[MNIST | ADAM, LR = 0.001 | LAYERS = (784,128) (128,64,10) | DIFF WEIGHT 0.01 | 4 CLAUSES | JOINT] Run #1, Epo…"
      ]
     },
     "metadata": {},
     "output_type": "display_data"
    },
    {
     "data": {
      "application/vnd.jupyter.widget-view+json": {
       "model_id": "",
       "version_major": 2,
       "version_minor": 0
      },
      "text/plain": [
       "[MNIST | ADAM, LR = 0.001 | LAYERS = (784,128) (128,64,10) | DIFF WEIGHT 0.01 | 4 CLAUSES | JOINT] Run #1, Epo…"
      ]
     },
     "metadata": {},
     "output_type": "display_data"
    },
    {
     "data": {
      "application/vnd.jupyter.widget-view+json": {
       "model_id": "",
       "version_major": 2,
       "version_minor": 0
      },
      "text/plain": [
       "[MNIST | ADAM, LR = 0.001 | LAYERS = (784,128) (128,64,10) | DIFF WEIGHT 0.01 | 4 CLAUSES | JOINT] Run #1, Epo…"
      ]
     },
     "metadata": {},
     "output_type": "display_data"
    },
    {
     "data": {
      "application/vnd.jupyter.widget-view+json": {
       "model_id": "",
       "version_major": 2,
       "version_minor": 0
      },
      "text/plain": [
       "[MNIST | ADAM, LR = 0.001 | LAYERS = (784,128) (128,64,10) | DIFF WEIGHT 0.01 | 4 CLAUSES | JOINT] Run #1, Epo…"
      ]
     },
     "metadata": {},
     "output_type": "display_data"
    },
    {
     "data": {
      "application/vnd.jupyter.widget-view+json": {
       "model_id": "",
       "version_major": 2,
       "version_minor": 0
      },
      "text/plain": [
       "[MNIST | ADAM, LR = 0.001 | LAYERS = (784,128) (128,64,10) | DIFF WEIGHT 0.01 | 4 CLAUSES | JOINT] Run #1, Epo…"
      ]
     },
     "metadata": {},
     "output_type": "display_data"
    },
    {
     "data": {
      "application/vnd.jupyter.widget-view+json": {
       "model_id": "",
       "version_major": 2,
       "version_minor": 0
      },
      "text/plain": [
       "[MNIST | ADAM, LR = 0.001 | LAYERS = (784,128) (128,64,10) | DIFF WEIGHT 0.01 | 4 CLAUSES | JOINT] Run #1, Epo…"
      ]
     },
     "metadata": {},
     "output_type": "display_data"
    },
    {
     "data": {
      "application/vnd.jupyter.widget-view+json": {
       "model_id": "",
       "version_major": 2,
       "version_minor": 0
      },
      "text/plain": [
       "[MNIST | ADAM, LR = 0.001 | LAYERS = (784,128) (128,64,10) | DIFF WEIGHT 0.01 | 4 CLAUSES | JOINT] Run #1, Epo…"
      ]
     },
     "metadata": {},
     "output_type": "display_data"
    },
    {
     "data": {
      "application/vnd.jupyter.widget-view+json": {
       "model_id": "",
       "version_major": 2,
       "version_minor": 0
      },
      "text/plain": [
       "[MNIST | ADAM, LR = 0.001 | LAYERS = (784,128) (128,64,10) | DIFF WEIGHT 0.01 | 4 CLAUSES | JOINT] Run #1, Epo…"
      ]
     },
     "metadata": {},
     "output_type": "display_data"
    },
    {
     "data": {
      "application/vnd.jupyter.widget-view+json": {
       "model_id": "",
       "version_major": 2,
       "version_minor": 0
      },
      "text/plain": [
       "[MNIST | ADAM, LR = 0.001 | LAYERS = (784,128) (128,64,10) | DIFF WEIGHT 0.01 | 4 CLAUSES | JOINT] Run #1, Epo…"
      ]
     },
     "metadata": {},
     "output_type": "display_data"
    },
    {
     "data": {
      "application/vnd.jupyter.widget-view+json": {
       "model_id": "",
       "version_major": 2,
       "version_minor": 0
      },
      "text/plain": [
       "[MNIST | ADAM, LR = 0.001 | LAYERS = (784,128) (128,64,10) | DIFF WEIGHT 0.01 | 4 CLAUSES | JOINT] Run #1, Epo…"
      ]
     },
     "metadata": {},
     "output_type": "display_data"
    },
    {
     "data": {
      "application/vnd.jupyter.widget-view+json": {
       "model_id": "",
       "version_major": 2,
       "version_minor": 0
      },
      "text/plain": [
       "[MNIST | ADAM, LR = 0.001 | LAYERS = (784,128) (128,64,10) | DIFF WEIGHT 0.01 | 4 CLAUSES | JOINT] Run #1, Epo…"
      ]
     },
     "metadata": {},
     "output_type": "display_data"
    },
    {
     "data": {
      "application/vnd.jupyter.widget-view+json": {
       "model_id": "",
       "version_major": 2,
       "version_minor": 0
      },
      "text/plain": [
       "[MNIST | ADAM, LR = 0.001 | LAYERS = (784,128) (128,64,10) | DIFF WEIGHT 0.01 | 4 CLAUSES | JOINT] Run #1, Epo…"
      ]
     },
     "metadata": {},
     "output_type": "display_data"
    },
    {
     "data": {
      "application/vnd.jupyter.widget-view+json": {
       "model_id": "",
       "version_major": 2,
       "version_minor": 0
      },
      "text/plain": [
       "[MNIST | ADAM, LR = 0.001 | LAYERS = (784,128) (128,64,10) | DIFF WEIGHT 0.01 | 4 CLAUSES | JOINT] Run #1, Epo…"
      ]
     },
     "metadata": {},
     "output_type": "display_data"
    },
    {
     "data": {
      "application/vnd.jupyter.widget-view+json": {
       "model_id": "",
       "version_major": 2,
       "version_minor": 0
      },
      "text/plain": [
       "[MNIST | ADAM, LR = 0.001 | LAYERS = (784,128) (128,64,10) | DIFF WEIGHT 0.01 | 4 CLAUSES | JOINT] Run #1, Epo…"
      ]
     },
     "metadata": {},
     "output_type": "display_data"
    },
    {
     "data": {
      "application/vnd.jupyter.widget-view+json": {
       "model_id": "",
       "version_major": 2,
       "version_minor": 0
      },
      "text/plain": [
       "[MNIST | ADAM, LR = 0.001 | LAYERS = (784,128) (128,64,10) | DIFF WEIGHT 0.01 | 4 CLAUSES | JOINT] Run #1, Epo…"
      ]
     },
     "metadata": {},
     "output_type": "display_data"
    },
    {
     "data": {
      "application/vnd.jupyter.widget-view+json": {
       "model_id": "",
       "version_major": 2,
       "version_minor": 0
      },
      "text/plain": [
       "[MNIST | ADAM, LR = 0.001 | LAYERS = (784,128) (128,64,10) | DIFF WEIGHT 1 | 4 CLAUSES | JOINT] Run #1, Epoch …"
      ]
     },
     "metadata": {},
     "output_type": "display_data"
    },
    {
     "data": {
      "application/vnd.jupyter.widget-view+json": {
       "model_id": "",
       "version_major": 2,
       "version_minor": 0
      },
      "text/plain": [
       "[MNIST | ADAM, LR = 0.001 | LAYERS = (784,128) (128,64,10) | DIFF WEIGHT 1 | 4 CLAUSES | JOINT] Run #1, Epoch …"
      ]
     },
     "metadata": {},
     "output_type": "display_data"
    },
    {
     "data": {
      "application/vnd.jupyter.widget-view+json": {
       "model_id": "",
       "version_major": 2,
       "version_minor": 0
      },
      "text/plain": [
       "[MNIST | ADAM, LR = 0.001 | LAYERS = (784,128) (128,64,10) | DIFF WEIGHT 1 | 4 CLAUSES | JOINT] Run #1, Epoch …"
      ]
     },
     "metadata": {},
     "output_type": "display_data"
    },
    {
     "data": {
      "application/vnd.jupyter.widget-view+json": {
       "model_id": "",
       "version_major": 2,
       "version_minor": 0
      },
      "text/plain": [
       "[MNIST | ADAM, LR = 0.001 | LAYERS = (784,128) (128,64,10) | DIFF WEIGHT 1 | 4 CLAUSES | JOINT] Run #1, Epoch …"
      ]
     },
     "metadata": {},
     "output_type": "display_data"
    },
    {
     "data": {
      "application/vnd.jupyter.widget-view+json": {
       "model_id": "",
       "version_major": 2,
       "version_minor": 0
      },
      "text/plain": [
       "[MNIST | ADAM, LR = 0.001 | LAYERS = (784,128) (128,64,10) | DIFF WEIGHT 1 | 4 CLAUSES | JOINT] Run #1, Epoch …"
      ]
     },
     "metadata": {},
     "output_type": "display_data"
    },
    {
     "data": {
      "application/vnd.jupyter.widget-view+json": {
       "model_id": "",
       "version_major": 2,
       "version_minor": 0
      },
      "text/plain": [
       "[MNIST | ADAM, LR = 0.001 | LAYERS = (784,128) (128,64,10) | DIFF WEIGHT 1 | 4 CLAUSES | JOINT] Run #1, Epoch …"
      ]
     },
     "metadata": {},
     "output_type": "display_data"
    },
    {
     "data": {
      "application/vnd.jupyter.widget-view+json": {
       "model_id": "",
       "version_major": 2,
       "version_minor": 0
      },
      "text/plain": [
       "[MNIST | ADAM, LR = 0.001 | LAYERS = (784,128) (128,64,10) | DIFF WEIGHT 1 | 4 CLAUSES | JOINT] Run #1, Epoch …"
      ]
     },
     "metadata": {},
     "output_type": "display_data"
    },
    {
     "data": {
      "application/vnd.jupyter.widget-view+json": {
       "model_id": "",
       "version_major": 2,
       "version_minor": 0
      },
      "text/plain": [
       "[MNIST | ADAM, LR = 0.001 | LAYERS = (784,128) (128,64,10) | DIFF WEIGHT 1 | 4 CLAUSES | JOINT] Run #1, Epoch …"
      ]
     },
     "metadata": {},
     "output_type": "display_data"
    },
    {
     "data": {
      "application/vnd.jupyter.widget-view+json": {
       "model_id": "",
       "version_major": 2,
       "version_minor": 0
      },
      "text/plain": [
       "[MNIST | ADAM, LR = 0.001 | LAYERS = (784,128) (128,64,10) | DIFF WEIGHT 1 | 4 CLAUSES | JOINT] Run #1, Epoch …"
      ]
     },
     "metadata": {},
     "output_type": "display_data"
    },
    {
     "data": {
      "application/vnd.jupyter.widget-view+json": {
       "model_id": "",
       "version_major": 2,
       "version_minor": 0
      },
      "text/plain": [
       "[MNIST | ADAM, LR = 0.001 | LAYERS = (784,128) (128,64,10) | DIFF WEIGHT 1 | 4 CLAUSES | JOINT] Run #1, Epoch …"
      ]
     },
     "metadata": {},
     "output_type": "display_data"
    },
    {
     "data": {
      "application/vnd.jupyter.widget-view+json": {
       "model_id": "",
       "version_major": 2,
       "version_minor": 0
      },
      "text/plain": [
       "[MNIST | ADAM, LR = 0.001 | LAYERS = (784,128) (128,64,10) | DIFF WEIGHT 1 | 4 CLAUSES | JOINT] Run #1, Epoch …"
      ]
     },
     "metadata": {},
     "output_type": "display_data"
    },
    {
     "data": {
      "application/vnd.jupyter.widget-view+json": {
       "model_id": "",
       "version_major": 2,
       "version_minor": 0
      },
      "text/plain": [
       "[MNIST | ADAM, LR = 0.001 | LAYERS = (784,128) (128,64,10) | DIFF WEIGHT 1 | 4 CLAUSES | JOINT] Run #1, Epoch …"
      ]
     },
     "metadata": {},
     "output_type": "display_data"
    },
    {
     "data": {
      "application/vnd.jupyter.widget-view+json": {
       "model_id": "",
       "version_major": 2,
       "version_minor": 0
      },
      "text/plain": [
       "[MNIST | ADAM, LR = 0.001 | LAYERS = (784,128) (128,64,10) | DIFF WEIGHT 1 | 4 CLAUSES | JOINT] Run #1, Epoch …"
      ]
     },
     "metadata": {},
     "output_type": "display_data"
    },
    {
     "data": {
      "application/vnd.jupyter.widget-view+json": {
       "model_id": "",
       "version_major": 2,
       "version_minor": 0
      },
      "text/plain": [
       "[MNIST | ADAM, LR = 0.001 | LAYERS = (784,128) (128,64,10) | DIFF WEIGHT 1 | 4 CLAUSES | JOINT] Run #1, Epoch …"
      ]
     },
     "metadata": {},
     "output_type": "display_data"
    },
    {
     "data": {
      "application/vnd.jupyter.widget-view+json": {
       "model_id": "",
       "version_major": 2,
       "version_minor": 0
      },
      "text/plain": [
       "[MNIST | ADAM, LR = 0.001 | LAYERS = (784,128) (128,64,10) | DIFF WEIGHT 1 | 4 CLAUSES | JOINT] Run #1, Epoch …"
      ]
     },
     "metadata": {},
     "output_type": "display_data"
    },
    {
     "data": {
      "application/vnd.jupyter.widget-view+json": {
       "model_id": "",
       "version_major": 2,
       "version_minor": 0
      },
      "text/plain": [
       "[MNIST | ADAM, LR = 0.001 | LAYERS = (784,128) (128,64,10) | DIFF WEIGHT 1 | 4 CLAUSES | JOINT] Run #1, Epoch …"
      ]
     },
     "metadata": {},
     "output_type": "display_data"
    },
    {
     "data": {
      "application/vnd.jupyter.widget-view+json": {
       "model_id": "",
       "version_major": 2,
       "version_minor": 0
      },
      "text/plain": [
       "[MNIST | ADAM, LR = 0.001 | LAYERS = (784,128) (128,64,10) | DIFF WEIGHT 1 | 4 CLAUSES | JOINT] Run #1, Epoch …"
      ]
     },
     "metadata": {},
     "output_type": "display_data"
    },
    {
     "data": {
      "application/vnd.jupyter.widget-view+json": {
       "model_id": "",
       "version_major": 2,
       "version_minor": 0
      },
      "text/plain": [
       "[MNIST | ADAM, LR = 0.001 | LAYERS = (784,128) (128,64,10) | DIFF WEIGHT 1 | 4 CLAUSES | JOINT] Run #1, Epoch …"
      ]
     },
     "metadata": {},
     "output_type": "display_data"
    },
    {
     "data": {
      "application/vnd.jupyter.widget-view+json": {
       "model_id": "",
       "version_major": 2,
       "version_minor": 0
      },
      "text/plain": [
       "[MNIST | ADAM, LR = 0.001 | LAYERS = (784,128) (128,64,10) | DIFF WEIGHT 1 | 4 CLAUSES | JOINT] Run #1, Epoch …"
      ]
     },
     "metadata": {},
     "output_type": "display_data"
    },
    {
     "data": {
      "application/vnd.jupyter.widget-view+json": {
       "model_id": "",
       "version_major": 2,
       "version_minor": 0
      },
      "text/plain": [
       "[MNIST | ADAM, LR = 0.001 | LAYERS = (784,128) (128,64,10) | DIFF WEIGHT 1 | 4 CLAUSES | JOINT] Run #1, Epoch …"
      ]
     },
     "metadata": {},
     "output_type": "display_data"
    },
    {
     "data": {
      "application/vnd.jupyter.widget-view+json": {
       "model_id": "",
       "version_major": 2,
       "version_minor": 0
      },
      "text/plain": [
       "[MNIST | ADAM, LR = 0.001 | LAYERS = (784,128) (128,64,10) | DIFF WEIGHT 1 | 4 CLAUSES | JOINT] Run #1, Epoch …"
      ]
     },
     "metadata": {},
     "output_type": "display_data"
    },
    {
     "data": {
      "application/vnd.jupyter.widget-view+json": {
       "model_id": "",
       "version_major": 2,
       "version_minor": 0
      },
      "text/plain": [
       "[MNIST | ADAM, LR = 0.001 | LAYERS = (784,128) (128,64,10) | DIFF WEIGHT 1 | 4 CLAUSES | JOINT] Run #1, Epoch …"
      ]
     },
     "metadata": {},
     "output_type": "display_data"
    },
    {
     "data": {
      "application/vnd.jupyter.widget-view+json": {
       "model_id": "",
       "version_major": 2,
       "version_minor": 0
      },
      "text/plain": [
       "[MNIST | ADAM, LR = 0.001 | LAYERS = (784,128) (128,64,10) | DIFF WEIGHT 1 | 4 CLAUSES | JOINT] Run #1, Epoch …"
      ]
     },
     "metadata": {},
     "output_type": "display_data"
    },
    {
     "data": {
      "application/vnd.jupyter.widget-view+json": {
       "model_id": "",
       "version_major": 2,
       "version_minor": 0
      },
      "text/plain": [
       "[MNIST | ADAM, LR = 0.001 | LAYERS = (784,128) (128,64,10) | DIFF WEIGHT 1 | 4 CLAUSES | JOINT] Run #1, Epoch …"
      ]
     },
     "metadata": {},
     "output_type": "display_data"
    },
    {
     "data": {
      "application/vnd.jupyter.widget-view+json": {
       "model_id": "",
       "version_major": 2,
       "version_minor": 0
      },
      "text/plain": [
       "[MNIST | ADAM, LR = 0.001 | LAYERS = (784,128) (128,64,10) | DIFF WEIGHT 1 | 4 CLAUSES | JOINT] Run #1, Epoch …"
      ]
     },
     "metadata": {},
     "output_type": "display_data"
    },
    {
     "data": {
      "application/vnd.jupyter.widget-view+json": {
       "model_id": "",
       "version_major": 2,
       "version_minor": 0
      },
      "text/plain": [
       "[MNIST | ADAM, LR = 0.001 | LAYERS = (784,128) (128,64,10) | DIFF WEIGHT 1 | 4 CLAUSES | JOINT] Run #1, Epoch …"
      ]
     },
     "metadata": {},
     "output_type": "display_data"
    },
    {
     "data": {
      "application/vnd.jupyter.widget-view+json": {
       "model_id": "",
       "version_major": 2,
       "version_minor": 0
      },
      "text/plain": [
       "[MNIST | ADAM, LR = 0.001 | LAYERS = (784,128) (128,64,10) | DIFF WEIGHT 1 | 4 CLAUSES | JOINT] Run #1, Epoch …"
      ]
     },
     "metadata": {},
     "output_type": "display_data"
    },
    {
     "data": {
      "application/vnd.jupyter.widget-view+json": {
       "model_id": "",
       "version_major": 2,
       "version_minor": 0
      },
      "text/plain": [
       "[MNIST | ADAM, LR = 0.001 | LAYERS = (784,128) (128,64,10) | DIFF WEIGHT 1 | 4 CLAUSES | JOINT] Run #1, Epoch …"
      ]
     },
     "metadata": {},
     "output_type": "display_data"
    },
    {
     "data": {
      "application/vnd.jupyter.widget-view+json": {
       "model_id": "",
       "version_major": 2,
       "version_minor": 0
      },
      "text/plain": [
       "[MNIST | ADAM, LR = 0.001 | LAYERS = (784,128) (128,64,10) | DIFF WEIGHT 1 | 4 CLAUSES | JOINT] Run #1, Epoch …"
      ]
     },
     "metadata": {},
     "output_type": "display_data"
    },
    {
     "data": {
      "application/vnd.jupyter.widget-view+json": {
       "model_id": "",
       "version_major": 2,
       "version_minor": 0
      },
      "text/plain": [
       "[MNIST | ADAM, LR = 0.001 | LAYERS = (784,128) (128,64,10) | DIFF WEIGHT 1 | 4 CLAUSES | JOINT] Run #1, Epoch …"
      ]
     },
     "metadata": {},
     "output_type": "display_data"
    },
    {
     "data": {
      "application/vnd.jupyter.widget-view+json": {
       "model_id": "",
       "version_major": 2,
       "version_minor": 0
      },
      "text/plain": [
       "[MNIST | ADAM, LR = 0.001 | LAYERS = (784,128) (128,64,10) | DIFF WEIGHT 0.01 | 4 CLAUSES | JOINT] Run #1, Epo…"
      ]
     },
     "metadata": {},
     "output_type": "display_data"
    },
    {
     "data": {
      "application/vnd.jupyter.widget-view+json": {
       "model_id": "",
       "version_major": 2,
       "version_minor": 0
      },
      "text/plain": [
       "[MNIST | ADAM, LR = 0.001 | LAYERS = (784,128) (128,64,10) | DIFF WEIGHT 0.01 | 4 CLAUSES | JOINT] Run #1, Epo…"
      ]
     },
     "metadata": {},
     "output_type": "display_data"
    },
    {
     "data": {
      "application/vnd.jupyter.widget-view+json": {
       "model_id": "",
       "version_major": 2,
       "version_minor": 0
      },
      "text/plain": [
       "[MNIST | ADAM, LR = 0.001 | LAYERS = (784,128) (128,64,10) | DIFF WEIGHT 0.01 | 4 CLAUSES | JOINT] Run #1, Epo…"
      ]
     },
     "metadata": {},
     "output_type": "display_data"
    },
    {
     "data": {
      "application/vnd.jupyter.widget-view+json": {
       "model_id": "",
       "version_major": 2,
       "version_minor": 0
      },
      "text/plain": [
       "[MNIST | ADAM, LR = 0.001 | LAYERS = (784,128) (128,64,10) | DIFF WEIGHT 0.01 | 4 CLAUSES | JOINT] Run #1, Epo…"
      ]
     },
     "metadata": {},
     "output_type": "display_data"
    },
    {
     "data": {
      "application/vnd.jupyter.widget-view+json": {
       "model_id": "",
       "version_major": 2,
       "version_minor": 0
      },
      "text/plain": [
       "[MNIST | ADAM, LR = 0.001 | LAYERS = (784,128) (128,64,10) | DIFF WEIGHT 0.01 | 4 CLAUSES | JOINT] Run #1, Epo…"
      ]
     },
     "metadata": {},
     "output_type": "display_data"
    },
    {
     "data": {
      "application/vnd.jupyter.widget-view+json": {
       "model_id": "",
       "version_major": 2,
       "version_minor": 0
      },
      "text/plain": [
       "[MNIST | ADAM, LR = 0.001 | LAYERS = (784,128) (128,64,10) | DIFF WEIGHT 0.01 | 4 CLAUSES | JOINT] Run #1, Epo…"
      ]
     },
     "metadata": {},
     "output_type": "display_data"
    },
    {
     "data": {
      "application/vnd.jupyter.widget-view+json": {
       "model_id": "",
       "version_major": 2,
       "version_minor": 0
      },
      "text/plain": [
       "[MNIST | ADAM, LR = 0.001 | LAYERS = (784,128) (128,64,10) | DIFF WEIGHT 0.01 | 4 CLAUSES | JOINT] Run #1, Epo…"
      ]
     },
     "metadata": {},
     "output_type": "display_data"
    },
    {
     "data": {
      "application/vnd.jupyter.widget-view+json": {
       "model_id": "",
       "version_major": 2,
       "version_minor": 0
      },
      "text/plain": [
       "[MNIST | ADAM, LR = 0.001 | LAYERS = (784,128) (128,64,10) | DIFF WEIGHT 0.01 | 4 CLAUSES | JOINT] Run #1, Epo…"
      ]
     },
     "metadata": {},
     "output_type": "display_data"
    },
    {
     "data": {
      "application/vnd.jupyter.widget-view+json": {
       "model_id": "",
       "version_major": 2,
       "version_minor": 0
      },
      "text/plain": [
       "[MNIST | ADAM, LR = 0.001 | LAYERS = (784,128) (128,64,10) | DIFF WEIGHT 0.01 | 4 CLAUSES | JOINT] Run #1, Epo…"
      ]
     },
     "metadata": {},
     "output_type": "display_data"
    },
    {
     "data": {
      "application/vnd.jupyter.widget-view+json": {
       "model_id": "",
       "version_major": 2,
       "version_minor": 0
      },
      "text/plain": [
       "[MNIST | ADAM, LR = 0.001 | LAYERS = (784,128) (128,64,10) | DIFF WEIGHT 0.01 | 4 CLAUSES | JOINT] Run #1, Epo…"
      ]
     },
     "metadata": {},
     "output_type": "display_data"
    },
    {
     "data": {
      "application/vnd.jupyter.widget-view+json": {
       "model_id": "",
       "version_major": 2,
       "version_minor": 0
      },
      "text/plain": [
       "[MNIST | ADAM, LR = 0.001 | LAYERS = (784,128) (128,64,10) | DIFF WEIGHT 0.01 | 4 CLAUSES | JOINT] Run #1, Epo…"
      ]
     },
     "metadata": {},
     "output_type": "display_data"
    },
    {
     "data": {
      "application/vnd.jupyter.widget-view+json": {
       "model_id": "",
       "version_major": 2,
       "version_minor": 0
      },
      "text/plain": [
       "[MNIST | ADAM, LR = 0.001 | LAYERS = (784,128) (128,64,10) | DIFF WEIGHT 0.01 | 4 CLAUSES | JOINT] Run #1, Epo…"
      ]
     },
     "metadata": {},
     "output_type": "display_data"
    },
    {
     "data": {
      "application/vnd.jupyter.widget-view+json": {
       "model_id": "",
       "version_major": 2,
       "version_minor": 0
      },
      "text/plain": [
       "[MNIST | ADAM, LR = 0.001 | LAYERS = (784,128) (128,64,10) | DIFF WEIGHT 0.01 | 4 CLAUSES | JOINT] Run #1, Epo…"
      ]
     },
     "metadata": {},
     "output_type": "display_data"
    },
    {
     "data": {
      "application/vnd.jupyter.widget-view+json": {
       "model_id": "",
       "version_major": 2,
       "version_minor": 0
      },
      "text/plain": [
       "[MNIST | ADAM, LR = 0.001 | LAYERS = (784,128) (128,64,10) | DIFF WEIGHT 0.01 | 4 CLAUSES | JOINT] Run #1, Epo…"
      ]
     },
     "metadata": {},
     "output_type": "display_data"
    },
    {
     "data": {
      "application/vnd.jupyter.widget-view+json": {
       "model_id": "",
       "version_major": 2,
       "version_minor": 0
      },
      "text/plain": [
       "[MNIST | ADAM, LR = 0.001 | LAYERS = (784,128) (128,64,10) | DIFF WEIGHT 0.01 | 4 CLAUSES | JOINT] Run #1, Epo…"
      ]
     },
     "metadata": {},
     "output_type": "display_data"
    },
    {
     "data": {
      "application/vnd.jupyter.widget-view+json": {
       "model_id": "",
       "version_major": 2,
       "version_minor": 0
      },
      "text/plain": [
       "[MNIST | ADAM, LR = 0.001 | LAYERS = (784,128) (128,64,10) | DIFF WEIGHT 0.01 | 4 CLAUSES | JOINT] Run #1, Epo…"
      ]
     },
     "metadata": {},
     "output_type": "display_data"
    },
    {
     "data": {
      "application/vnd.jupyter.widget-view+json": {
       "model_id": "",
       "version_major": 2,
       "version_minor": 0
      },
      "text/plain": [
       "[MNIST | ADAM, LR = 0.001 | LAYERS = (784,128) (128,64,10) | DIFF WEIGHT 0.01 | 4 CLAUSES | JOINT] Run #1, Epo…"
      ]
     },
     "metadata": {},
     "output_type": "display_data"
    },
    {
     "data": {
      "application/vnd.jupyter.widget-view+json": {
       "model_id": "",
       "version_major": 2,
       "version_minor": 0
      },
      "text/plain": [
       "[MNIST | ADAM, LR = 0.001 | LAYERS = (784,128) (128,64,10) | DIFF WEIGHT 0.01 | 4 CLAUSES | JOINT] Run #1, Epo…"
      ]
     },
     "metadata": {},
     "output_type": "display_data"
    },
    {
     "data": {
      "application/vnd.jupyter.widget-view+json": {
       "model_id": "",
       "version_major": 2,
       "version_minor": 0
      },
      "text/plain": [
       "[MNIST | ADAM, LR = 0.001 | LAYERS = (784,128) (128,64,10) | DIFF WEIGHT 0.01 | 4 CLAUSES | JOINT] Run #1, Epo…"
      ]
     },
     "metadata": {},
     "output_type": "display_data"
    },
    {
     "data": {
      "application/vnd.jupyter.widget-view+json": {
       "model_id": "",
       "version_major": 2,
       "version_minor": 0
      },
      "text/plain": [
       "[MNIST | ADAM, LR = 0.001 | LAYERS = (784,128) (128,64,10) | DIFF WEIGHT 0.01 | 4 CLAUSES | JOINT] Run #1, Epo…"
      ]
     },
     "metadata": {},
     "output_type": "display_data"
    },
    {
     "data": {
      "application/vnd.jupyter.widget-view+json": {
       "model_id": "",
       "version_major": 2,
       "version_minor": 0
      },
      "text/plain": [
       "[MNIST | ADAM, LR = 0.001 | LAYERS = (784,128) (128,64,10) | DIFF WEIGHT 0.01 | 4 CLAUSES | JOINT] Run #1, Epo…"
      ]
     },
     "metadata": {},
     "output_type": "display_data"
    },
    {
     "data": {
      "application/vnd.jupyter.widget-view+json": {
       "model_id": "",
       "version_major": 2,
       "version_minor": 0
      },
      "text/plain": [
       "[MNIST | ADAM, LR = 0.001 | LAYERS = (784,128) (128,64,10) | DIFF WEIGHT 0.01 | 4 CLAUSES | JOINT] Run #1, Epo…"
      ]
     },
     "metadata": {},
     "output_type": "display_data"
    },
    {
     "data": {
      "application/vnd.jupyter.widget-view+json": {
       "model_id": "",
       "version_major": 2,
       "version_minor": 0
      },
      "text/plain": [
       "[MNIST | ADAM, LR = 0.001 | LAYERS = (784,128) (128,64,10) | DIFF WEIGHT 0.01 | 4 CLAUSES | JOINT] Run #1, Epo…"
      ]
     },
     "metadata": {},
     "output_type": "display_data"
    },
    {
     "data": {
      "application/vnd.jupyter.widget-view+json": {
       "model_id": "",
       "version_major": 2,
       "version_minor": 0
      },
      "text/plain": [
       "[MNIST | ADAM, LR = 0.001 | LAYERS = (784,128) (128,64,10) | DIFF WEIGHT 0.01 | 4 CLAUSES | JOINT] Run #1, Epo…"
      ]
     },
     "metadata": {},
     "output_type": "display_data"
    },
    {
     "data": {
      "application/vnd.jupyter.widget-view+json": {
       "model_id": "",
       "version_major": 2,
       "version_minor": 0
      },
      "text/plain": [
       "[MNIST | ADAM, LR = 0.001 | LAYERS = (784,128) (128,64,10) | DIFF WEIGHT 0.01 | 4 CLAUSES | JOINT] Run #1, Epo…"
      ]
     },
     "metadata": {},
     "output_type": "display_data"
    },
    {
     "data": {
      "application/vnd.jupyter.widget-view+json": {
       "model_id": "",
       "version_major": 2,
       "version_minor": 0
      },
      "text/plain": [
       "[MNIST | ADAM, LR = 0.001 | LAYERS = (784,128) (128,64,10) | DIFF WEIGHT 0.01 | 4 CLAUSES | JOINT] Run #1, Epo…"
      ]
     },
     "metadata": {},
     "output_type": "display_data"
    },
    {
     "data": {
      "application/vnd.jupyter.widget-view+json": {
       "model_id": "",
       "version_major": 2,
       "version_minor": 0
      },
      "text/plain": [
       "[MNIST | ADAM, LR = 0.001 | LAYERS = (784,128) (128,64,10) | DIFF WEIGHT 0.01 | 4 CLAUSES | JOINT] Run #1, Epo…"
      ]
     },
     "metadata": {},
     "output_type": "display_data"
    },
    {
     "data": {
      "application/vnd.jupyter.widget-view+json": {
       "model_id": "",
       "version_major": 2,
       "version_minor": 0
      },
      "text/plain": [
       "[MNIST | ADAM, LR = 0.001 | LAYERS = (784,128) (128,64,10) | DIFF WEIGHT 0.01 | 4 CLAUSES | JOINT] Run #1, Epo…"
      ]
     },
     "metadata": {},
     "output_type": "display_data"
    },
    {
     "data": {
      "application/vnd.jupyter.widget-view+json": {
       "model_id": "",
       "version_major": 2,
       "version_minor": 0
      },
      "text/plain": [
       "[MNIST | ADAM, LR = 0.001 | LAYERS = (784,128) (128,64,10) | DIFF WEIGHT 0.01 | 4 CLAUSES | JOINT] Run #1, Epo…"
      ]
     },
     "metadata": {},
     "output_type": "display_data"
    },
    {
     "data": {
      "application/vnd.jupyter.widget-view+json": {
       "model_id": "",
       "version_major": 2,
       "version_minor": 0
      },
      "text/plain": [
       "[MNIST | ADAM, LR = 0.001 | LAYERS = (784,128) (128,64,10) | DIFF WEIGHT 0.01 | 4 CLAUSES | JOINT] Run #1, Epo…"
      ]
     },
     "metadata": {},
     "output_type": "display_data"
    },
    {
     "data": {
      "application/vnd.jupyter.widget-view+json": {
       "model_id": "",
       "version_major": 2,
       "version_minor": 0
      },
      "text/plain": [
       "[MNIST | ADAM, LR = 0.001 | LAYERS = (784,128) (128,64,10) | DIFF WEIGHT 1 | 4 CLAUSES | JOINT] Run #1, Epoch …"
      ]
     },
     "metadata": {},
     "output_type": "display_data"
    },
    {
     "data": {
      "application/vnd.jupyter.widget-view+json": {
       "model_id": "",
       "version_major": 2,
       "version_minor": 0
      },
      "text/plain": [
       "[MNIST | ADAM, LR = 0.001 | LAYERS = (784,128) (128,64,10) | DIFF WEIGHT 1 | 4 CLAUSES | JOINT] Run #1, Epoch …"
      ]
     },
     "metadata": {},
     "output_type": "display_data"
    },
    {
     "data": {
      "application/vnd.jupyter.widget-view+json": {
       "model_id": "",
       "version_major": 2,
       "version_minor": 0
      },
      "text/plain": [
       "[MNIST | ADAM, LR = 0.001 | LAYERS = (784,128) (128,64,10) | DIFF WEIGHT 1 | 4 CLAUSES | JOINT] Run #1, Epoch …"
      ]
     },
     "metadata": {},
     "output_type": "display_data"
    },
    {
     "data": {
      "application/vnd.jupyter.widget-view+json": {
       "model_id": "",
       "version_major": 2,
       "version_minor": 0
      },
      "text/plain": [
       "[MNIST | ADAM, LR = 0.001 | LAYERS = (784,128) (128,64,10) | DIFF WEIGHT 1 | 4 CLAUSES | JOINT] Run #1, Epoch …"
      ]
     },
     "metadata": {},
     "output_type": "display_data"
    },
    {
     "data": {
      "application/vnd.jupyter.widget-view+json": {
       "model_id": "",
       "version_major": 2,
       "version_minor": 0
      },
      "text/plain": [
       "[MNIST | ADAM, LR = 0.001 | LAYERS = (784,128) (128,64,10) | DIFF WEIGHT 1 | 4 CLAUSES | JOINT] Run #1, Epoch …"
      ]
     },
     "metadata": {},
     "output_type": "display_data"
    },
    {
     "data": {
      "application/vnd.jupyter.widget-view+json": {
       "model_id": "",
       "version_major": 2,
       "version_minor": 0
      },
      "text/plain": [
       "[MNIST | ADAM, LR = 0.001 | LAYERS = (784,128) (128,64,10) | DIFF WEIGHT 1 | 4 CLAUSES | JOINT] Run #1, Epoch …"
      ]
     },
     "metadata": {},
     "output_type": "display_data"
    },
    {
     "data": {
      "application/vnd.jupyter.widget-view+json": {
       "model_id": "",
       "version_major": 2,
       "version_minor": 0
      },
      "text/plain": [
       "[MNIST | ADAM, LR = 0.001 | LAYERS = (784,128) (128,64,10) | DIFF WEIGHT 1 | 4 CLAUSES | JOINT] Run #1, Epoch …"
      ]
     },
     "metadata": {},
     "output_type": "display_data"
    },
    {
     "data": {
      "application/vnd.jupyter.widget-view+json": {
       "model_id": "",
       "version_major": 2,
       "version_minor": 0
      },
      "text/plain": [
       "[MNIST | ADAM, LR = 0.001 | LAYERS = (784,128) (128,64,10) | DIFF WEIGHT 1 | 4 CLAUSES | JOINT] Run #1, Epoch …"
      ]
     },
     "metadata": {},
     "output_type": "display_data"
    },
    {
     "data": {
      "application/vnd.jupyter.widget-view+json": {
       "model_id": "",
       "version_major": 2,
       "version_minor": 0
      },
      "text/plain": [
       "[MNIST | ADAM, LR = 0.001 | LAYERS = (784,128) (128,64,10) | DIFF WEIGHT 1 | 4 CLAUSES | JOINT] Run #1, Epoch …"
      ]
     },
     "metadata": {},
     "output_type": "display_data"
    },
    {
     "data": {
      "application/vnd.jupyter.widget-view+json": {
       "model_id": "",
       "version_major": 2,
       "version_minor": 0
      },
      "text/plain": [
       "[MNIST | ADAM, LR = 0.001 | LAYERS = (784,128) (128,64,10) | DIFF WEIGHT 1 | 4 CLAUSES | JOINT] Run #1, Epoch …"
      ]
     },
     "metadata": {},
     "output_type": "display_data"
    },
    {
     "data": {
      "application/vnd.jupyter.widget-view+json": {
       "model_id": "",
       "version_major": 2,
       "version_minor": 0
      },
      "text/plain": [
       "[MNIST | ADAM, LR = 0.001 | LAYERS = (784,128) (128,64,10) | DIFF WEIGHT 1 | 4 CLAUSES | JOINT] Run #1, Epoch …"
      ]
     },
     "metadata": {},
     "output_type": "display_data"
    },
    {
     "data": {
      "application/vnd.jupyter.widget-view+json": {
       "model_id": "",
       "version_major": 2,
       "version_minor": 0
      },
      "text/plain": [
       "[MNIST | ADAM, LR = 0.001 | LAYERS = (784,128) (128,64,10) | DIFF WEIGHT 1 | 4 CLAUSES | JOINT] Run #1, Epoch …"
      ]
     },
     "metadata": {},
     "output_type": "display_data"
    },
    {
     "data": {
      "application/vnd.jupyter.widget-view+json": {
       "model_id": "",
       "version_major": 2,
       "version_minor": 0
      },
      "text/plain": [
       "[MNIST | ADAM, LR = 0.001 | LAYERS = (784,128) (128,64,10) | DIFF WEIGHT 1 | 4 CLAUSES | JOINT] Run #1, Epoch …"
      ]
     },
     "metadata": {},
     "output_type": "display_data"
    },
    {
     "data": {
      "application/vnd.jupyter.widget-view+json": {
       "model_id": "",
       "version_major": 2,
       "version_minor": 0
      },
      "text/plain": [
       "[MNIST | ADAM, LR = 0.001 | LAYERS = (784,128) (128,64,10) | DIFF WEIGHT 1 | 4 CLAUSES | JOINT] Run #1, Epoch …"
      ]
     },
     "metadata": {},
     "output_type": "display_data"
    },
    {
     "data": {
      "application/vnd.jupyter.widget-view+json": {
       "model_id": "",
       "version_major": 2,
       "version_minor": 0
      },
      "text/plain": [
       "[MNIST | ADAM, LR = 0.001 | LAYERS = (784,128) (128,64,10) | DIFF WEIGHT 1 | 4 CLAUSES | JOINT] Run #1, Epoch …"
      ]
     },
     "metadata": {},
     "output_type": "display_data"
    },
    {
     "data": {
      "application/vnd.jupyter.widget-view+json": {
       "model_id": "",
       "version_major": 2,
       "version_minor": 0
      },
      "text/plain": [
       "[MNIST | ADAM, LR = 0.001 | LAYERS = (784,128) (128,64,10) | DIFF WEIGHT 1 | 4 CLAUSES | JOINT] Run #1, Epoch …"
      ]
     },
     "metadata": {},
     "output_type": "display_data"
    },
    {
     "data": {
      "application/vnd.jupyter.widget-view+json": {
       "model_id": "",
       "version_major": 2,
       "version_minor": 0
      },
      "text/plain": [
       "[MNIST | ADAM, LR = 0.001 | LAYERS = (784,128) (128,64,10) | DIFF WEIGHT 1 | 4 CLAUSES | JOINT] Run #1, Epoch …"
      ]
     },
     "metadata": {},
     "output_type": "display_data"
    },
    {
     "data": {
      "application/vnd.jupyter.widget-view+json": {
       "model_id": "",
       "version_major": 2,
       "version_minor": 0
      },
      "text/plain": [
       "[MNIST | ADAM, LR = 0.001 | LAYERS = (784,128) (128,64,10) | DIFF WEIGHT 1 | 4 CLAUSES | JOINT] Run #1, Epoch …"
      ]
     },
     "metadata": {},
     "output_type": "display_data"
    },
    {
     "data": {
      "application/vnd.jupyter.widget-view+json": {
       "model_id": "",
       "version_major": 2,
       "version_minor": 0
      },
      "text/plain": [
       "[MNIST | ADAM, LR = 0.001 | LAYERS = (784,128) (128,64,10) | DIFF WEIGHT 1 | 4 CLAUSES | JOINT] Run #1, Epoch …"
      ]
     },
     "metadata": {},
     "output_type": "display_data"
    },
    {
     "data": {
      "application/vnd.jupyter.widget-view+json": {
       "model_id": "",
       "version_major": 2,
       "version_minor": 0
      },
      "text/plain": [
       "[MNIST | ADAM, LR = 0.001 | LAYERS = (784,128) (128,64,10) | DIFF WEIGHT 1 | 4 CLAUSES | JOINT] Run #1, Epoch …"
      ]
     },
     "metadata": {},
     "output_type": "display_data"
    },
    {
     "data": {
      "application/vnd.jupyter.widget-view+json": {
       "model_id": "",
       "version_major": 2,
       "version_minor": 0
      },
      "text/plain": [
       "[MNIST | ADAM, LR = 0.001 | LAYERS = (784,128) (128,64,10) | DIFF WEIGHT 1 | 4 CLAUSES | JOINT] Run #1, Epoch …"
      ]
     },
     "metadata": {},
     "output_type": "display_data"
    },
    {
     "data": {
      "application/vnd.jupyter.widget-view+json": {
       "model_id": "",
       "version_major": 2,
       "version_minor": 0
      },
      "text/plain": [
       "[MNIST | ADAM, LR = 0.001 | LAYERS = (784,128) (128,64,10) | DIFF WEIGHT 1 | 4 CLAUSES | JOINT] Run #1, Epoch …"
      ]
     },
     "metadata": {},
     "output_type": "display_data"
    },
    {
     "data": {
      "application/vnd.jupyter.widget-view+json": {
       "model_id": "",
       "version_major": 2,
       "version_minor": 0
      },
      "text/plain": [
       "[MNIST | ADAM, LR = 0.001 | LAYERS = (784,128) (128,64,10) | DIFF WEIGHT 1 | 4 CLAUSES | JOINT] Run #1, Epoch …"
      ]
     },
     "metadata": {},
     "output_type": "display_data"
    },
    {
     "data": {
      "application/vnd.jupyter.widget-view+json": {
       "model_id": "",
       "version_major": 2,
       "version_minor": 0
      },
      "text/plain": [
       "[MNIST | ADAM, LR = 0.001 | LAYERS = (784,128) (128,64,10) | DIFF WEIGHT 1 | 4 CLAUSES | JOINT] Run #1, Epoch …"
      ]
     },
     "metadata": {},
     "output_type": "display_data"
    },
    {
     "data": {
      "application/vnd.jupyter.widget-view+json": {
       "model_id": "",
       "version_major": 2,
       "version_minor": 0
      },
      "text/plain": [
       "[MNIST | ADAM, LR = 0.001 | LAYERS = (784,128) (128,64,10) | DIFF WEIGHT 1 | 4 CLAUSES | JOINT] Run #1, Epoch …"
      ]
     },
     "metadata": {},
     "output_type": "display_data"
    },
    {
     "data": {
      "application/vnd.jupyter.widget-view+json": {
       "model_id": "",
       "version_major": 2,
       "version_minor": 0
      },
      "text/plain": [
       "[MNIST | ADAM, LR = 0.001 | LAYERS = (784,128) (128,64,10) | DIFF WEIGHT 1 | 4 CLAUSES | JOINT] Run #1, Epoch …"
      ]
     },
     "metadata": {},
     "output_type": "display_data"
    },
    {
     "data": {
      "application/vnd.jupyter.widget-view+json": {
       "model_id": "",
       "version_major": 2,
       "version_minor": 0
      },
      "text/plain": [
       "[MNIST | ADAM, LR = 0.001 | LAYERS = (784,128) (128,64,10) | DIFF WEIGHT 1 | 4 CLAUSES | JOINT] Run #1, Epoch …"
      ]
     },
     "metadata": {},
     "output_type": "display_data"
    },
    {
     "data": {
      "application/vnd.jupyter.widget-view+json": {
       "model_id": "",
       "version_major": 2,
       "version_minor": 0
      },
      "text/plain": [
       "[MNIST | ADAM, LR = 0.001 | LAYERS = (784,128) (128,64,10) | DIFF WEIGHT 1 | 4 CLAUSES | JOINT] Run #1, Epoch …"
      ]
     },
     "metadata": {},
     "output_type": "display_data"
    },
    {
     "data": {
      "application/vnd.jupyter.widget-view+json": {
       "model_id": "",
       "version_major": 2,
       "version_minor": 0
      },
      "text/plain": [
       "[MNIST | ADAM, LR = 0.001 | LAYERS = (784,128) (128,64,10) | DIFF WEIGHT 1 | 4 CLAUSES | JOINT] Run #1, Epoch …"
      ]
     },
     "metadata": {},
     "output_type": "display_data"
    },
    {
     "data": {
      "application/vnd.jupyter.widget-view+json": {
       "model_id": "",
       "version_major": 2,
       "version_minor": 0
      },
      "text/plain": [
       "[MNIST | ADAM, LR = 0.001 | LAYERS = (784,128) (128,64,10) | DIFF WEIGHT 1 | 4 CLAUSES | JOINT] Run #1, Epoch …"
      ]
     },
     "metadata": {},
     "output_type": "display_data"
    },
    {
     "data": {
      "application/vnd.jupyter.widget-view+json": {
       "model_id": "",
       "version_major": 2,
       "version_minor": 0
      },
      "text/plain": [
       "[MNIST | ADAM, LR = 0.001 | LAYERS = (784,128) (128,64,10) | DIFF WEIGHT 0.01 | 4 CLAUSES | JOINT] Run #1, Epo…"
      ]
     },
     "metadata": {},
     "output_type": "display_data"
    },
    {
     "data": {
      "application/vnd.jupyter.widget-view+json": {
       "model_id": "",
       "version_major": 2,
       "version_minor": 0
      },
      "text/plain": [
       "[MNIST | ADAM, LR = 0.001 | LAYERS = (784,128) (128,64,10) | DIFF WEIGHT 0.01 | 4 CLAUSES | JOINT] Run #1, Epo…"
      ]
     },
     "metadata": {},
     "output_type": "display_data"
    },
    {
     "data": {
      "application/vnd.jupyter.widget-view+json": {
       "model_id": "",
       "version_major": 2,
       "version_minor": 0
      },
      "text/plain": [
       "[MNIST | ADAM, LR = 0.001 | LAYERS = (784,128) (128,64,10) | DIFF WEIGHT 0.01 | 4 CLAUSES | JOINT] Run #1, Epo…"
      ]
     },
     "metadata": {},
     "output_type": "display_data"
    },
    {
     "data": {
      "application/vnd.jupyter.widget-view+json": {
       "model_id": "",
       "version_major": 2,
       "version_minor": 0
      },
      "text/plain": [
       "[MNIST | ADAM, LR = 0.001 | LAYERS = (784,128) (128,64,10) | DIFF WEIGHT 0.01 | 4 CLAUSES | JOINT] Run #1, Epo…"
      ]
     },
     "metadata": {},
     "output_type": "display_data"
    },
    {
     "data": {
      "application/vnd.jupyter.widget-view+json": {
       "model_id": "",
       "version_major": 2,
       "version_minor": 0
      },
      "text/plain": [
       "[MNIST | ADAM, LR = 0.001 | LAYERS = (784,128) (128,64,10) | DIFF WEIGHT 0.01 | 4 CLAUSES | JOINT] Run #1, Epo…"
      ]
     },
     "metadata": {},
     "output_type": "display_data"
    },
    {
     "data": {
      "application/vnd.jupyter.widget-view+json": {
       "model_id": "",
       "version_major": 2,
       "version_minor": 0
      },
      "text/plain": [
       "[MNIST | ADAM, LR = 0.001 | LAYERS = (784,128) (128,64,10) | DIFF WEIGHT 0.01 | 4 CLAUSES | JOINT] Run #1, Epo…"
      ]
     },
     "metadata": {},
     "output_type": "display_data"
    },
    {
     "data": {
      "application/vnd.jupyter.widget-view+json": {
       "model_id": "",
       "version_major": 2,
       "version_minor": 0
      },
      "text/plain": [
       "[MNIST | ADAM, LR = 0.001 | LAYERS = (784,128) (128,64,10) | DIFF WEIGHT 0.01 | 4 CLAUSES | JOINT] Run #1, Epo…"
      ]
     },
     "metadata": {},
     "output_type": "display_data"
    },
    {
     "data": {
      "application/vnd.jupyter.widget-view+json": {
       "model_id": "",
       "version_major": 2,
       "version_minor": 0
      },
      "text/plain": [
       "[MNIST | ADAM, LR = 0.001 | LAYERS = (784,128) (128,64,10) | DIFF WEIGHT 0.01 | 4 CLAUSES | JOINT] Run #1, Epo…"
      ]
     },
     "metadata": {},
     "output_type": "display_data"
    },
    {
     "data": {
      "application/vnd.jupyter.widget-view+json": {
       "model_id": "",
       "version_major": 2,
       "version_minor": 0
      },
      "text/plain": [
       "[MNIST | ADAM, LR = 0.001 | LAYERS = (784,128) (128,64,10) | DIFF WEIGHT 0.01 | 4 CLAUSES | JOINT] Run #1, Epo…"
      ]
     },
     "metadata": {},
     "output_type": "display_data"
    },
    {
     "data": {
      "application/vnd.jupyter.widget-view+json": {
       "model_id": "",
       "version_major": 2,
       "version_minor": 0
      },
      "text/plain": [
       "[MNIST | ADAM, LR = 0.001 | LAYERS = (784,128) (128,64,10) | DIFF WEIGHT 0.01 | 4 CLAUSES | JOINT] Run #1, Epo…"
      ]
     },
     "metadata": {},
     "output_type": "display_data"
    },
    {
     "data": {
      "application/vnd.jupyter.widget-view+json": {
       "model_id": "",
       "version_major": 2,
       "version_minor": 0
      },
      "text/plain": [
       "[MNIST | ADAM, LR = 0.001 | LAYERS = (784,128) (128,64,10) | DIFF WEIGHT 0.01 | 4 CLAUSES | JOINT] Run #1, Epo…"
      ]
     },
     "metadata": {},
     "output_type": "display_data"
    },
    {
     "data": {
      "application/vnd.jupyter.widget-view+json": {
       "model_id": "",
       "version_major": 2,
       "version_minor": 0
      },
      "text/plain": [
       "[MNIST | ADAM, LR = 0.001 | LAYERS = (784,128) (128,64,10) | DIFF WEIGHT 0.01 | 4 CLAUSES | JOINT] Run #1, Epo…"
      ]
     },
     "metadata": {},
     "output_type": "display_data"
    },
    {
     "data": {
      "application/vnd.jupyter.widget-view+json": {
       "model_id": "",
       "version_major": 2,
       "version_minor": 0
      },
      "text/plain": [
       "[MNIST | ADAM, LR = 0.001 | LAYERS = (784,128) (128,64,10) | DIFF WEIGHT 0.01 | 4 CLAUSES | JOINT] Run #1, Epo…"
      ]
     },
     "metadata": {},
     "output_type": "display_data"
    },
    {
     "data": {
      "application/vnd.jupyter.widget-view+json": {
       "model_id": "",
       "version_major": 2,
       "version_minor": 0
      },
      "text/plain": [
       "[MNIST | ADAM, LR = 0.001 | LAYERS = (784,128) (128,64,10) | DIFF WEIGHT 0.01 | 4 CLAUSES | JOINT] Run #1, Epo…"
      ]
     },
     "metadata": {},
     "output_type": "display_data"
    },
    {
     "data": {
      "application/vnd.jupyter.widget-view+json": {
       "model_id": "",
       "version_major": 2,
       "version_minor": 0
      },
      "text/plain": [
       "[MNIST | ADAM, LR = 0.001 | LAYERS = (784,128) (128,64,10) | DIFF WEIGHT 0.01 | 4 CLAUSES | JOINT] Run #1, Epo…"
      ]
     },
     "metadata": {},
     "output_type": "display_data"
    },
    {
     "data": {
      "application/vnd.jupyter.widget-view+json": {
       "model_id": "",
       "version_major": 2,
       "version_minor": 0
      },
      "text/plain": [
       "[MNIST | ADAM, LR = 0.001 | LAYERS = (784,128) (128,64,10) | DIFF WEIGHT 0.01 | 4 CLAUSES | JOINT] Run #1, Epo…"
      ]
     },
     "metadata": {},
     "output_type": "display_data"
    },
    {
     "data": {
      "application/vnd.jupyter.widget-view+json": {
       "model_id": "",
       "version_major": 2,
       "version_minor": 0
      },
      "text/plain": [
       "[MNIST | ADAM, LR = 0.001 | LAYERS = (784,128) (128,64,10) | DIFF WEIGHT 0.01 | 4 CLAUSES | JOINT] Run #1, Epo…"
      ]
     },
     "metadata": {},
     "output_type": "display_data"
    },
    {
     "data": {
      "application/vnd.jupyter.widget-view+json": {
       "model_id": "",
       "version_major": 2,
       "version_minor": 0
      },
      "text/plain": [
       "[MNIST | ADAM, LR = 0.001 | LAYERS = (784,128) (128,64,10) | DIFF WEIGHT 0.01 | 4 CLAUSES | JOINT] Run #1, Epo…"
      ]
     },
     "metadata": {},
     "output_type": "display_data"
    },
    {
     "data": {
      "application/vnd.jupyter.widget-view+json": {
       "model_id": "",
       "version_major": 2,
       "version_minor": 0
      },
      "text/plain": [
       "[MNIST | ADAM, LR = 0.001 | LAYERS = (784,128) (128,64,10) | DIFF WEIGHT 0.01 | 4 CLAUSES | JOINT] Run #1, Epo…"
      ]
     },
     "metadata": {},
     "output_type": "display_data"
    },
    {
     "data": {
      "application/vnd.jupyter.widget-view+json": {
       "model_id": "",
       "version_major": 2,
       "version_minor": 0
      },
      "text/plain": [
       "[MNIST | ADAM, LR = 0.001 | LAYERS = (784,128) (128,64,10) | DIFF WEIGHT 0.01 | 4 CLAUSES | JOINT] Run #1, Epo…"
      ]
     },
     "metadata": {},
     "output_type": "display_data"
    },
    {
     "data": {
      "application/vnd.jupyter.widget-view+json": {
       "model_id": "",
       "version_major": 2,
       "version_minor": 0
      },
      "text/plain": [
       "[MNIST | ADAM, LR = 0.001 | LAYERS = (784,128) (128,64,10) | DIFF WEIGHT 0.01 | 4 CLAUSES | JOINT] Run #1, Epo…"
      ]
     },
     "metadata": {},
     "output_type": "display_data"
    },
    {
     "data": {
      "application/vnd.jupyter.widget-view+json": {
       "model_id": "",
       "version_major": 2,
       "version_minor": 0
      },
      "text/plain": [
       "[MNIST | ADAM, LR = 0.001 | LAYERS = (784,128) (128,64,10) | DIFF WEIGHT 0.01 | 4 CLAUSES | JOINT] Run #1, Epo…"
      ]
     },
     "metadata": {},
     "output_type": "display_data"
    },
    {
     "data": {
      "application/vnd.jupyter.widget-view+json": {
       "model_id": "",
       "version_major": 2,
       "version_minor": 0
      },
      "text/plain": [
       "[MNIST | ADAM, LR = 0.001 | LAYERS = (784,128) (128,64,10) | DIFF WEIGHT 0.01 | 4 CLAUSES | JOINT] Run #1, Epo…"
      ]
     },
     "metadata": {},
     "output_type": "display_data"
    },
    {
     "data": {
      "application/vnd.jupyter.widget-view+json": {
       "model_id": "",
       "version_major": 2,
       "version_minor": 0
      },
      "text/plain": [
       "[MNIST | ADAM, LR = 0.001 | LAYERS = (784,128) (128,64,10) | DIFF WEIGHT 0.01 | 4 CLAUSES | JOINT] Run #1, Epo…"
      ]
     },
     "metadata": {},
     "output_type": "display_data"
    },
    {
     "data": {
      "application/vnd.jupyter.widget-view+json": {
       "model_id": "",
       "version_major": 2,
       "version_minor": 0
      },
      "text/plain": [
       "[MNIST | ADAM, LR = 0.001 | LAYERS = (784,128) (128,64,10) | DIFF WEIGHT 0.01 | 4 CLAUSES | JOINT] Run #1, Epo…"
      ]
     },
     "metadata": {},
     "output_type": "display_data"
    },
    {
     "data": {
      "application/vnd.jupyter.widget-view+json": {
       "model_id": "",
       "version_major": 2,
       "version_minor": 0
      },
      "text/plain": [
       "[MNIST | ADAM, LR = 0.001 | LAYERS = (784,128) (128,64,10) | DIFF WEIGHT 0.01 | 4 CLAUSES | JOINT] Run #1, Epo…"
      ]
     },
     "metadata": {},
     "output_type": "display_data"
    },
    {
     "data": {
      "application/vnd.jupyter.widget-view+json": {
       "model_id": "",
       "version_major": 2,
       "version_minor": 0
      },
      "text/plain": [
       "[MNIST | ADAM, LR = 0.001 | LAYERS = (784,128) (128,64,10) | DIFF WEIGHT 0.01 | 4 CLAUSES | JOINT] Run #1, Epo…"
      ]
     },
     "metadata": {},
     "output_type": "display_data"
    },
    {
     "data": {
      "application/vnd.jupyter.widget-view+json": {
       "model_id": "",
       "version_major": 2,
       "version_minor": 0
      },
      "text/plain": [
       "[MNIST | ADAM, LR = 0.001 | LAYERS = (784,128) (128,64,10) | DIFF WEIGHT 0.01 | 4 CLAUSES | JOINT] Run #1, Epo…"
      ]
     },
     "metadata": {},
     "output_type": "display_data"
    },
    {
     "data": {
      "application/vnd.jupyter.widget-view+json": {
       "model_id": "",
       "version_major": 2,
       "version_minor": 0
      },
      "text/plain": [
       "[MNIST | ADAM, LR = 0.001 | LAYERS = (784,128) (128,64,10) | DIFF WEIGHT 0.01 | 4 CLAUSES | JOINT] Run #1, Epo…"
      ]
     },
     "metadata": {},
     "output_type": "display_data"
    },
    {
     "data": {
      "application/vnd.jupyter.widget-view+json": {
       "model_id": "",
       "version_major": 2,
       "version_minor": 0
      },
      "text/plain": [
       "[MNIST | ADAM, LR = 0.001 | LAYERS = (784,128) (128,64,10) | DIFF WEIGHT 0.01 | 4 CLAUSES | JOINT] Run #1, Epo…"
      ]
     },
     "metadata": {},
     "output_type": "display_data"
    },
    {
     "data": {
      "application/vnd.jupyter.widget-view+json": {
       "model_id": "",
       "version_major": 2,
       "version_minor": 0
      },
      "text/plain": [
       "[MNIST | ADAM, LR = 0.001 | LAYERS = (784,128) (128,64,10) | DIFF WEIGHT 1 | 4 CLAUSES | JOINT] Run #1, Epoch …"
      ]
     },
     "metadata": {},
     "output_type": "display_data"
    },
    {
     "data": {
      "application/vnd.jupyter.widget-view+json": {
       "model_id": "",
       "version_major": 2,
       "version_minor": 0
      },
      "text/plain": [
       "[MNIST | ADAM, LR = 0.001 | LAYERS = (784,128) (128,64,10) | DIFF WEIGHT 1 | 4 CLAUSES | JOINT] Run #1, Epoch …"
      ]
     },
     "metadata": {},
     "output_type": "display_data"
    },
    {
     "data": {
      "application/vnd.jupyter.widget-view+json": {
       "model_id": "",
       "version_major": 2,
       "version_minor": 0
      },
      "text/plain": [
       "[MNIST | ADAM, LR = 0.001 | LAYERS = (784,128) (128,64,10) | DIFF WEIGHT 1 | 4 CLAUSES | JOINT] Run #1, Epoch …"
      ]
     },
     "metadata": {},
     "output_type": "display_data"
    },
    {
     "data": {
      "application/vnd.jupyter.widget-view+json": {
       "model_id": "",
       "version_major": 2,
       "version_minor": 0
      },
      "text/plain": [
       "[MNIST | ADAM, LR = 0.001 | LAYERS = (784,128) (128,64,10) | DIFF WEIGHT 1 | 4 CLAUSES | JOINT] Run #1, Epoch …"
      ]
     },
     "metadata": {},
     "output_type": "display_data"
    },
    {
     "data": {
      "application/vnd.jupyter.widget-view+json": {
       "model_id": "",
       "version_major": 2,
       "version_minor": 0
      },
      "text/plain": [
       "[MNIST | ADAM, LR = 0.001 | LAYERS = (784,128) (128,64,10) | DIFF WEIGHT 1 | 4 CLAUSES | JOINT] Run #1, Epoch …"
      ]
     },
     "metadata": {},
     "output_type": "display_data"
    },
    {
     "data": {
      "application/vnd.jupyter.widget-view+json": {
       "model_id": "",
       "version_major": 2,
       "version_minor": 0
      },
      "text/plain": [
       "[MNIST | ADAM, LR = 0.001 | LAYERS = (784,128) (128,64,10) | DIFF WEIGHT 1 | 4 CLAUSES | JOINT] Run #1, Epoch …"
      ]
     },
     "metadata": {},
     "output_type": "display_data"
    },
    {
     "data": {
      "application/vnd.jupyter.widget-view+json": {
       "model_id": "",
       "version_major": 2,
       "version_minor": 0
      },
      "text/plain": [
       "[MNIST | ADAM, LR = 0.001 | LAYERS = (784,128) (128,64,10) | DIFF WEIGHT 1 | 4 CLAUSES | JOINT] Run #1, Epoch …"
      ]
     },
     "metadata": {},
     "output_type": "display_data"
    },
    {
     "data": {
      "application/vnd.jupyter.widget-view+json": {
       "model_id": "",
       "version_major": 2,
       "version_minor": 0
      },
      "text/plain": [
       "[MNIST | ADAM, LR = 0.001 | LAYERS = (784,128) (128,64,10) | DIFF WEIGHT 1 | 4 CLAUSES | JOINT] Run #1, Epoch …"
      ]
     },
     "metadata": {},
     "output_type": "display_data"
    },
    {
     "data": {
      "application/vnd.jupyter.widget-view+json": {
       "model_id": "",
       "version_major": 2,
       "version_minor": 0
      },
      "text/plain": [
       "[MNIST | ADAM, LR = 0.001 | LAYERS = (784,128) (128,64,10) | DIFF WEIGHT 1 | 4 CLAUSES | JOINT] Run #1, Epoch …"
      ]
     },
     "metadata": {},
     "output_type": "display_data"
    },
    {
     "data": {
      "application/vnd.jupyter.widget-view+json": {
       "model_id": "",
       "version_major": 2,
       "version_minor": 0
      },
      "text/plain": [
       "[MNIST | ADAM, LR = 0.001 | LAYERS = (784,128) (128,64,10) | DIFF WEIGHT 1 | 4 CLAUSES | JOINT] Run #1, Epoch …"
      ]
     },
     "metadata": {},
     "output_type": "display_data"
    },
    {
     "data": {
      "application/vnd.jupyter.widget-view+json": {
       "model_id": "",
       "version_major": 2,
       "version_minor": 0
      },
      "text/plain": [
       "[MNIST | ADAM, LR = 0.001 | LAYERS = (784,128) (128,64,10) | DIFF WEIGHT 1 | 4 CLAUSES | JOINT] Run #1, Epoch …"
      ]
     },
     "metadata": {},
     "output_type": "display_data"
    },
    {
     "data": {
      "application/vnd.jupyter.widget-view+json": {
       "model_id": "",
       "version_major": 2,
       "version_minor": 0
      },
      "text/plain": [
       "[MNIST | ADAM, LR = 0.001 | LAYERS = (784,128) (128,64,10) | DIFF WEIGHT 1 | 4 CLAUSES | JOINT] Run #1, Epoch …"
      ]
     },
     "metadata": {},
     "output_type": "display_data"
    },
    {
     "data": {
      "application/vnd.jupyter.widget-view+json": {
       "model_id": "",
       "version_major": 2,
       "version_minor": 0
      },
      "text/plain": [
       "[MNIST | ADAM, LR = 0.001 | LAYERS = (784,128) (128,64,10) | DIFF WEIGHT 1 | 4 CLAUSES | JOINT] Run #1, Epoch …"
      ]
     },
     "metadata": {},
     "output_type": "display_data"
    },
    {
     "data": {
      "application/vnd.jupyter.widget-view+json": {
       "model_id": "",
       "version_major": 2,
       "version_minor": 0
      },
      "text/plain": [
       "[MNIST | ADAM, LR = 0.001 | LAYERS = (784,128) (128,64,10) | DIFF WEIGHT 1 | 4 CLAUSES | JOINT] Run #1, Epoch …"
      ]
     },
     "metadata": {},
     "output_type": "display_data"
    },
    {
     "data": {
      "application/vnd.jupyter.widget-view+json": {
       "model_id": "",
       "version_major": 2,
       "version_minor": 0
      },
      "text/plain": [
       "[MNIST | ADAM, LR = 0.001 | LAYERS = (784,128) (128,64,10) | DIFF WEIGHT 1 | 4 CLAUSES | JOINT] Run #1, Epoch …"
      ]
     },
     "metadata": {},
     "output_type": "display_data"
    },
    {
     "data": {
      "application/vnd.jupyter.widget-view+json": {
       "model_id": "",
       "version_major": 2,
       "version_minor": 0
      },
      "text/plain": [
       "[MNIST | ADAM, LR = 0.001 | LAYERS = (784,128) (128,64,10) | DIFF WEIGHT 1 | 4 CLAUSES | JOINT] Run #1, Epoch …"
      ]
     },
     "metadata": {},
     "output_type": "display_data"
    },
    {
     "data": {
      "application/vnd.jupyter.widget-view+json": {
       "model_id": "",
       "version_major": 2,
       "version_minor": 0
      },
      "text/plain": [
       "[MNIST | ADAM, LR = 0.001 | LAYERS = (784,128) (128,64,10) | DIFF WEIGHT 1 | 4 CLAUSES | JOINT] Run #1, Epoch …"
      ]
     },
     "metadata": {},
     "output_type": "display_data"
    },
    {
     "data": {
      "application/vnd.jupyter.widget-view+json": {
       "model_id": "",
       "version_major": 2,
       "version_minor": 0
      },
      "text/plain": [
       "[MNIST | ADAM, LR = 0.001 | LAYERS = (784,128) (128,64,10) | DIFF WEIGHT 1 | 4 CLAUSES | JOINT] Run #1, Epoch …"
      ]
     },
     "metadata": {},
     "output_type": "display_data"
    },
    {
     "data": {
      "application/vnd.jupyter.widget-view+json": {
       "model_id": "",
       "version_major": 2,
       "version_minor": 0
      },
      "text/plain": [
       "[MNIST | ADAM, LR = 0.001 | LAYERS = (784,128) (128,64,10) | DIFF WEIGHT 1 | 4 CLAUSES | JOINT] Run #1, Epoch …"
      ]
     },
     "metadata": {},
     "output_type": "display_data"
    },
    {
     "data": {
      "application/vnd.jupyter.widget-view+json": {
       "model_id": "",
       "version_major": 2,
       "version_minor": 0
      },
      "text/plain": [
       "[MNIST | ADAM, LR = 0.001 | LAYERS = (784,128) (128,64,10) | DIFF WEIGHT 1 | 4 CLAUSES | JOINT] Run #1, Epoch …"
      ]
     },
     "metadata": {},
     "output_type": "display_data"
    },
    {
     "data": {
      "application/vnd.jupyter.widget-view+json": {
       "model_id": "",
       "version_major": 2,
       "version_minor": 0
      },
      "text/plain": [
       "[MNIST | ADAM, LR = 0.001 | LAYERS = (784,128) (128,64,10) | DIFF WEIGHT 1 | 4 CLAUSES | JOINT] Run #1, Epoch …"
      ]
     },
     "metadata": {},
     "output_type": "display_data"
    },
    {
     "data": {
      "application/vnd.jupyter.widget-view+json": {
       "model_id": "",
       "version_major": 2,
       "version_minor": 0
      },
      "text/plain": [
       "[MNIST | ADAM, LR = 0.001 | LAYERS = (784,128) (128,64,10) | DIFF WEIGHT 1 | 4 CLAUSES | JOINT] Run #1, Epoch …"
      ]
     },
     "metadata": {},
     "output_type": "display_data"
    },
    {
     "data": {
      "application/vnd.jupyter.widget-view+json": {
       "model_id": "",
       "version_major": 2,
       "version_minor": 0
      },
      "text/plain": [
       "[MNIST | ADAM, LR = 0.001 | LAYERS = (784,128) (128,64,10) | DIFF WEIGHT 1 | 4 CLAUSES | JOINT] Run #1, Epoch …"
      ]
     },
     "metadata": {},
     "output_type": "display_data"
    },
    {
     "data": {
      "application/vnd.jupyter.widget-view+json": {
       "model_id": "",
       "version_major": 2,
       "version_minor": 0
      },
      "text/plain": [
       "[MNIST | ADAM, LR = 0.001 | LAYERS = (784,128) (128,64,10) | DIFF WEIGHT 1 | 4 CLAUSES | JOINT] Run #1, Epoch …"
      ]
     },
     "metadata": {},
     "output_type": "display_data"
    },
    {
     "data": {
      "application/vnd.jupyter.widget-view+json": {
       "model_id": "",
       "version_major": 2,
       "version_minor": 0
      },
      "text/plain": [
       "[MNIST | ADAM, LR = 0.001 | LAYERS = (784,128) (128,64,10) | DIFF WEIGHT 1 | 4 CLAUSES | JOINT] Run #1, Epoch …"
      ]
     },
     "metadata": {},
     "output_type": "display_data"
    },
    {
     "data": {
      "application/vnd.jupyter.widget-view+json": {
       "model_id": "",
       "version_major": 2,
       "version_minor": 0
      },
      "text/plain": [
       "[MNIST | ADAM, LR = 0.001 | LAYERS = (784,128) (128,64,10) | DIFF WEIGHT 1 | 4 CLAUSES | JOINT] Run #1, Epoch …"
      ]
     },
     "metadata": {},
     "output_type": "display_data"
    },
    {
     "data": {
      "application/vnd.jupyter.widget-view+json": {
       "model_id": "",
       "version_major": 2,
       "version_minor": 0
      },
      "text/plain": [
       "[MNIST | ADAM, LR = 0.001 | LAYERS = (784,128) (128,64,10) | DIFF WEIGHT 1 | 4 CLAUSES | JOINT] Run #1, Epoch …"
      ]
     },
     "metadata": {},
     "output_type": "display_data"
    },
    {
     "data": {
      "application/vnd.jupyter.widget-view+json": {
       "model_id": "",
       "version_major": 2,
       "version_minor": 0
      },
      "text/plain": [
       "[MNIST | ADAM, LR = 0.001 | LAYERS = (784,128) (128,64,10) | DIFF WEIGHT 1 | 4 CLAUSES | JOINT] Run #1, Epoch …"
      ]
     },
     "metadata": {},
     "output_type": "display_data"
    },
    {
     "data": {
      "application/vnd.jupyter.widget-view+json": {
       "model_id": "",
       "version_major": 2,
       "version_minor": 0
      },
      "text/plain": [
       "[MNIST | ADAM, LR = 0.001 | LAYERS = (784,128) (128,64,10) | DIFF WEIGHT 1 | 4 CLAUSES | JOINT] Run #1, Epoch …"
      ]
     },
     "metadata": {},
     "output_type": "display_data"
    },
    {
     "data": {
      "application/vnd.jupyter.widget-view+json": {
       "model_id": "",
       "version_major": 2,
       "version_minor": 0
      },
      "text/plain": [
       "[MNIST | ADAM, LR = 0.001 | LAYERS = (784,128) (128,64,10) | DIFF WEIGHT 1 | 4 CLAUSES | JOINT] Run #1, Epoch …"
      ]
     },
     "metadata": {},
     "output_type": "display_data"
    },
    {
     "data": {
      "application/vnd.jupyter.widget-view+json": {
       "model_id": "",
       "version_major": 2,
       "version_minor": 0
      },
      "text/plain": [
       "[MNIST | ADAM, LR = 0.001 | LAYERS = (784,128) (128,64,10) | DIFF WEIGHT 0.01 | 4 CLAUSES | JOINT] Run #1, Epo…"
      ]
     },
     "metadata": {},
     "output_type": "display_data"
    },
    {
     "data": {
      "application/vnd.jupyter.widget-view+json": {
       "model_id": "",
       "version_major": 2,
       "version_minor": 0
      },
      "text/plain": [
       "[MNIST | ADAM, LR = 0.001 | LAYERS = (784,128) (128,64,10) | DIFF WEIGHT 0.01 | 4 CLAUSES | JOINT] Run #1, Epo…"
      ]
     },
     "metadata": {},
     "output_type": "display_data"
    },
    {
     "data": {
      "application/vnd.jupyter.widget-view+json": {
       "model_id": "",
       "version_major": 2,
       "version_minor": 0
      },
      "text/plain": [
       "[MNIST | ADAM, LR = 0.001 | LAYERS = (784,128) (128,64,10) | DIFF WEIGHT 0.01 | 4 CLAUSES | JOINT] Run #1, Epo…"
      ]
     },
     "metadata": {},
     "output_type": "display_data"
    },
    {
     "data": {
      "application/vnd.jupyter.widget-view+json": {
       "model_id": "",
       "version_major": 2,
       "version_minor": 0
      },
      "text/plain": [
       "[MNIST | ADAM, LR = 0.001 | LAYERS = (784,128) (128,64,10) | DIFF WEIGHT 0.01 | 4 CLAUSES | JOINT] Run #1, Epo…"
      ]
     },
     "metadata": {},
     "output_type": "display_data"
    },
    {
     "data": {
      "application/vnd.jupyter.widget-view+json": {
       "model_id": "",
       "version_major": 2,
       "version_minor": 0
      },
      "text/plain": [
       "[MNIST | ADAM, LR = 0.001 | LAYERS = (784,128) (128,64,10) | DIFF WEIGHT 0.01 | 4 CLAUSES | JOINT] Run #1, Epo…"
      ]
     },
     "metadata": {},
     "output_type": "display_data"
    },
    {
     "data": {
      "application/vnd.jupyter.widget-view+json": {
       "model_id": "",
       "version_major": 2,
       "version_minor": 0
      },
      "text/plain": [
       "[MNIST | ADAM, LR = 0.001 | LAYERS = (784,128) (128,64,10) | DIFF WEIGHT 0.01 | 4 CLAUSES | JOINT] Run #1, Epo…"
      ]
     },
     "metadata": {},
     "output_type": "display_data"
    },
    {
     "data": {
      "application/vnd.jupyter.widget-view+json": {
       "model_id": "",
       "version_major": 2,
       "version_minor": 0
      },
      "text/plain": [
       "[MNIST | ADAM, LR = 0.001 | LAYERS = (784,128) (128,64,10) | DIFF WEIGHT 0.01 | 4 CLAUSES | JOINT] Run #1, Epo…"
      ]
     },
     "metadata": {},
     "output_type": "display_data"
    },
    {
     "data": {
      "application/vnd.jupyter.widget-view+json": {
       "model_id": "",
       "version_major": 2,
       "version_minor": 0
      },
      "text/plain": [
       "[MNIST | ADAM, LR = 0.001 | LAYERS = (784,128) (128,64,10) | DIFF WEIGHT 0.01 | 4 CLAUSES | JOINT] Run #1, Epo…"
      ]
     },
     "metadata": {},
     "output_type": "display_data"
    },
    {
     "data": {
      "application/vnd.jupyter.widget-view+json": {
       "model_id": "",
       "version_major": 2,
       "version_minor": 0
      },
      "text/plain": [
       "[MNIST | ADAM, LR = 0.001 | LAYERS = (784,128) (128,64,10) | DIFF WEIGHT 0.01 | 4 CLAUSES | JOINT] Run #1, Epo…"
      ]
     },
     "metadata": {},
     "output_type": "display_data"
    },
    {
     "data": {
      "application/vnd.jupyter.widget-view+json": {
       "model_id": "",
       "version_major": 2,
       "version_minor": 0
      },
      "text/plain": [
       "[MNIST | ADAM, LR = 0.001 | LAYERS = (784,128) (128,64,10) | DIFF WEIGHT 0.01 | 4 CLAUSES | JOINT] Run #1, Epo…"
      ]
     },
     "metadata": {},
     "output_type": "display_data"
    },
    {
     "data": {
      "application/vnd.jupyter.widget-view+json": {
       "model_id": "",
       "version_major": 2,
       "version_minor": 0
      },
      "text/plain": [
       "[MNIST | ADAM, LR = 0.001 | LAYERS = (784,128) (128,64,10) | DIFF WEIGHT 0.01 | 4 CLAUSES | JOINT] Run #1, Epo…"
      ]
     },
     "metadata": {},
     "output_type": "display_data"
    },
    {
     "data": {
      "application/vnd.jupyter.widget-view+json": {
       "model_id": "",
       "version_major": 2,
       "version_minor": 0
      },
      "text/plain": [
       "[MNIST | ADAM, LR = 0.001 | LAYERS = (784,128) (128,64,10) | DIFF WEIGHT 0.01 | 4 CLAUSES | JOINT] Run #1, Epo…"
      ]
     },
     "metadata": {},
     "output_type": "display_data"
    },
    {
     "data": {
      "application/vnd.jupyter.widget-view+json": {
       "model_id": "",
       "version_major": 2,
       "version_minor": 0
      },
      "text/plain": [
       "[MNIST | ADAM, LR = 0.001 | LAYERS = (784,128) (128,64,10) | DIFF WEIGHT 0.01 | 4 CLAUSES | JOINT] Run #1, Epo…"
      ]
     },
     "metadata": {},
     "output_type": "display_data"
    },
    {
     "data": {
      "application/vnd.jupyter.widget-view+json": {
       "model_id": "",
       "version_major": 2,
       "version_minor": 0
      },
      "text/plain": [
       "[MNIST | ADAM, LR = 0.001 | LAYERS = (784,128) (128,64,10) | DIFF WEIGHT 0.01 | 4 CLAUSES | JOINT] Run #1, Epo…"
      ]
     },
     "metadata": {},
     "output_type": "display_data"
    },
    {
     "data": {
      "application/vnd.jupyter.widget-view+json": {
       "model_id": "",
       "version_major": 2,
       "version_minor": 0
      },
      "text/plain": [
       "[MNIST | ADAM, LR = 0.001 | LAYERS = (784,128) (128,64,10) | DIFF WEIGHT 0.01 | 4 CLAUSES | JOINT] Run #1, Epo…"
      ]
     },
     "metadata": {},
     "output_type": "display_data"
    },
    {
     "data": {
      "application/vnd.jupyter.widget-view+json": {
       "model_id": "",
       "version_major": 2,
       "version_minor": 0
      },
      "text/plain": [
       "[MNIST | ADAM, LR = 0.001 | LAYERS = (784,128) (128,64,10) | DIFF WEIGHT 0.01 | 4 CLAUSES | JOINT] Run #1, Epo…"
      ]
     },
     "metadata": {},
     "output_type": "display_data"
    },
    {
     "data": {
      "application/vnd.jupyter.widget-view+json": {
       "model_id": "",
       "version_major": 2,
       "version_minor": 0
      },
      "text/plain": [
       "[MNIST | ADAM, LR = 0.001 | LAYERS = (784,128) (128,64,10) | DIFF WEIGHT 0.01 | 4 CLAUSES | JOINT] Run #1, Epo…"
      ]
     },
     "metadata": {},
     "output_type": "display_data"
    },
    {
     "data": {
      "application/vnd.jupyter.widget-view+json": {
       "model_id": "",
       "version_major": 2,
       "version_minor": 0
      },
      "text/plain": [
       "[MNIST | ADAM, LR = 0.001 | LAYERS = (784,128) (128,64,10) | DIFF WEIGHT 0.01 | 4 CLAUSES | JOINT] Run #1, Epo…"
      ]
     },
     "metadata": {},
     "output_type": "display_data"
    },
    {
     "data": {
      "application/vnd.jupyter.widget-view+json": {
       "model_id": "",
       "version_major": 2,
       "version_minor": 0
      },
      "text/plain": [
       "[MNIST | ADAM, LR = 0.001 | LAYERS = (784,128) (128,64,10) | DIFF WEIGHT 0.01 | 4 CLAUSES | JOINT] Run #1, Epo…"
      ]
     },
     "metadata": {},
     "output_type": "display_data"
    },
    {
     "data": {
      "application/vnd.jupyter.widget-view+json": {
       "model_id": "",
       "version_major": 2,
       "version_minor": 0
      },
      "text/plain": [
       "[MNIST | ADAM, LR = 0.001 | LAYERS = (784,128) (128,64,10) | DIFF WEIGHT 0.01 | 4 CLAUSES | JOINT] Run #1, Epo…"
      ]
     },
     "metadata": {},
     "output_type": "display_data"
    },
    {
     "data": {
      "application/vnd.jupyter.widget-view+json": {
       "model_id": "",
       "version_major": 2,
       "version_minor": 0
      },
      "text/plain": [
       "[MNIST | ADAM, LR = 0.001 | LAYERS = (784,128) (128,64,10) | DIFF WEIGHT 0.01 | 4 CLAUSES | JOINT] Run #1, Epo…"
      ]
     },
     "metadata": {},
     "output_type": "display_data"
    },
    {
     "data": {
      "application/vnd.jupyter.widget-view+json": {
       "model_id": "",
       "version_major": 2,
       "version_minor": 0
      },
      "text/plain": [
       "[MNIST | ADAM, LR = 0.001 | LAYERS = (784,128) (128,64,10) | DIFF WEIGHT 0.01 | 4 CLAUSES | JOINT] Run #1, Epo…"
      ]
     },
     "metadata": {},
     "output_type": "display_data"
    },
    {
     "data": {
      "application/vnd.jupyter.widget-view+json": {
       "model_id": "",
       "version_major": 2,
       "version_minor": 0
      },
      "text/plain": [
       "[MNIST | ADAM, LR = 0.001 | LAYERS = (784,128) (128,64,10) | DIFF WEIGHT 0.01 | 4 CLAUSES | JOINT] Run #1, Epo…"
      ]
     },
     "metadata": {},
     "output_type": "display_data"
    },
    {
     "data": {
      "application/vnd.jupyter.widget-view+json": {
       "model_id": "",
       "version_major": 2,
       "version_minor": 0
      },
      "text/plain": [
       "[MNIST | ADAM, LR = 0.001 | LAYERS = (784,128) (128,64,10) | DIFF WEIGHT 0.01 | 4 CLAUSES | JOINT] Run #1, Epo…"
      ]
     },
     "metadata": {},
     "output_type": "display_data"
    },
    {
     "data": {
      "application/vnd.jupyter.widget-view+json": {
       "model_id": "",
       "version_major": 2,
       "version_minor": 0
      },
      "text/plain": [
       "[MNIST | ADAM, LR = 0.001 | LAYERS = (784,128) (128,64,10) | DIFF WEIGHT 0.01 | 4 CLAUSES | JOINT] Run #1, Epo…"
      ]
     },
     "metadata": {},
     "output_type": "display_data"
    },
    {
     "data": {
      "application/vnd.jupyter.widget-view+json": {
       "model_id": "",
       "version_major": 2,
       "version_minor": 0
      },
      "text/plain": [
       "[MNIST | ADAM, LR = 0.001 | LAYERS = (784,128) (128,64,10) | DIFF WEIGHT 0.01 | 4 CLAUSES | JOINT] Run #1, Epo…"
      ]
     },
     "metadata": {},
     "output_type": "display_data"
    },
    {
     "data": {
      "application/vnd.jupyter.widget-view+json": {
       "model_id": "",
       "version_major": 2,
       "version_minor": 0
      },
      "text/plain": [
       "[MNIST | ADAM, LR = 0.001 | LAYERS = (784,128) (128,64,10) | DIFF WEIGHT 0.01 | 4 CLAUSES | JOINT] Run #1, Epo…"
      ]
     },
     "metadata": {},
     "output_type": "display_data"
    },
    {
     "data": {
      "application/vnd.jupyter.widget-view+json": {
       "model_id": "",
       "version_major": 2,
       "version_minor": 0
      },
      "text/plain": [
       "[MNIST | ADAM, LR = 0.001 | LAYERS = (784,128) (128,64,10) | DIFF WEIGHT 0.01 | 4 CLAUSES | JOINT] Run #1, Epo…"
      ]
     },
     "metadata": {},
     "output_type": "display_data"
    },
    {
     "data": {
      "application/vnd.jupyter.widget-view+json": {
       "model_id": "",
       "version_major": 2,
       "version_minor": 0
      },
      "text/plain": [
       "[MNIST | ADAM, LR = 0.001 | LAYERS = (784,128) (128,64,10) | DIFF WEIGHT 0.01 | 4 CLAUSES | JOINT] Run #1, Epo…"
      ]
     },
     "metadata": {},
     "output_type": "display_data"
    },
    {
     "data": {
      "application/vnd.jupyter.widget-view+json": {
       "model_id": "",
       "version_major": 2,
       "version_minor": 0
      },
      "text/plain": [
       "[MNIST | ADAM, LR = 0.001 | LAYERS = (784,128) (128,64,10) | DIFF WEIGHT 0.01 | 4 CLAUSES | JOINT] Run #1, Epo…"
      ]
     },
     "metadata": {},
     "output_type": "display_data"
    },
    {
     "data": {
      "application/vnd.jupyter.widget-view+json": {
       "model_id": "",
       "version_major": 2,
       "version_minor": 0
      },
      "text/plain": [
       "[MNIST | ADAM, LR = 0.001 | LAYERS = (784,128) (128,64,10) | DIFF WEIGHT 1 | 4 CLAUSES | JOINT] Run #1, Epoch …"
      ]
     },
     "metadata": {},
     "output_type": "display_data"
    },
    {
     "data": {
      "application/vnd.jupyter.widget-view+json": {
       "model_id": "",
       "version_major": 2,
       "version_minor": 0
      },
      "text/plain": [
       "[MNIST | ADAM, LR = 0.001 | LAYERS = (784,128) (128,64,10) | DIFF WEIGHT 1 | 4 CLAUSES | JOINT] Run #1, Epoch …"
      ]
     },
     "metadata": {},
     "output_type": "display_data"
    },
    {
     "data": {
      "application/vnd.jupyter.widget-view+json": {
       "model_id": "",
       "version_major": 2,
       "version_minor": 0
      },
      "text/plain": [
       "[MNIST | ADAM, LR = 0.001 | LAYERS = (784,128) (128,64,10) | DIFF WEIGHT 1 | 4 CLAUSES | JOINT] Run #1, Epoch …"
      ]
     },
     "metadata": {},
     "output_type": "display_data"
    },
    {
     "data": {
      "application/vnd.jupyter.widget-view+json": {
       "model_id": "",
       "version_major": 2,
       "version_minor": 0
      },
      "text/plain": [
       "[MNIST | ADAM, LR = 0.001 | LAYERS = (784,128) (128,64,10) | DIFF WEIGHT 1 | 4 CLAUSES | JOINT] Run #1, Epoch …"
      ]
     },
     "metadata": {},
     "output_type": "display_data"
    },
    {
     "data": {
      "application/vnd.jupyter.widget-view+json": {
       "model_id": "",
       "version_major": 2,
       "version_minor": 0
      },
      "text/plain": [
       "[MNIST | ADAM, LR = 0.001 | LAYERS = (784,128) (128,64,10) | DIFF WEIGHT 1 | 4 CLAUSES | JOINT] Run #1, Epoch …"
      ]
     },
     "metadata": {},
     "output_type": "display_data"
    },
    {
     "data": {
      "application/vnd.jupyter.widget-view+json": {
       "model_id": "",
       "version_major": 2,
       "version_minor": 0
      },
      "text/plain": [
       "[MNIST | ADAM, LR = 0.001 | LAYERS = (784,128) (128,64,10) | DIFF WEIGHT 1 | 4 CLAUSES | JOINT] Run #1, Epoch …"
      ]
     },
     "metadata": {},
     "output_type": "display_data"
    },
    {
     "data": {
      "application/vnd.jupyter.widget-view+json": {
       "model_id": "",
       "version_major": 2,
       "version_minor": 0
      },
      "text/plain": [
       "[MNIST | ADAM, LR = 0.001 | LAYERS = (784,128) (128,64,10) | DIFF WEIGHT 1 | 4 CLAUSES | JOINT] Run #1, Epoch …"
      ]
     },
     "metadata": {},
     "output_type": "display_data"
    },
    {
     "data": {
      "application/vnd.jupyter.widget-view+json": {
       "model_id": "",
       "version_major": 2,
       "version_minor": 0
      },
      "text/plain": [
       "[MNIST | ADAM, LR = 0.001 | LAYERS = (784,128) (128,64,10) | DIFF WEIGHT 1 | 4 CLAUSES | JOINT] Run #1, Epoch …"
      ]
     },
     "metadata": {},
     "output_type": "display_data"
    },
    {
     "data": {
      "application/vnd.jupyter.widget-view+json": {
       "model_id": "",
       "version_major": 2,
       "version_minor": 0
      },
      "text/plain": [
       "[MNIST | ADAM, LR = 0.001 | LAYERS = (784,128) (128,64,10) | DIFF WEIGHT 1 | 4 CLAUSES | JOINT] Run #1, Epoch …"
      ]
     },
     "metadata": {},
     "output_type": "display_data"
    },
    {
     "data": {
      "application/vnd.jupyter.widget-view+json": {
       "model_id": "",
       "version_major": 2,
       "version_minor": 0
      },
      "text/plain": [
       "[MNIST | ADAM, LR = 0.001 | LAYERS = (784,128) (128,64,10) | DIFF WEIGHT 1 | 4 CLAUSES | JOINT] Run #1, Epoch …"
      ]
     },
     "metadata": {},
     "output_type": "display_data"
    },
    {
     "data": {
      "application/vnd.jupyter.widget-view+json": {
       "model_id": "",
       "version_major": 2,
       "version_minor": 0
      },
      "text/plain": [
       "[MNIST | ADAM, LR = 0.001 | LAYERS = (784,128) (128,64,10) | DIFF WEIGHT 1 | 4 CLAUSES | JOINT] Run #1, Epoch …"
      ]
     },
     "metadata": {},
     "output_type": "display_data"
    },
    {
     "data": {
      "application/vnd.jupyter.widget-view+json": {
       "model_id": "",
       "version_major": 2,
       "version_minor": 0
      },
      "text/plain": [
       "[MNIST | ADAM, LR = 0.001 | LAYERS = (784,128) (128,64,10) | DIFF WEIGHT 1 | 4 CLAUSES | JOINT] Run #1, Epoch …"
      ]
     },
     "metadata": {},
     "output_type": "display_data"
    },
    {
     "data": {
      "application/vnd.jupyter.widget-view+json": {
       "model_id": "",
       "version_major": 2,
       "version_minor": 0
      },
      "text/plain": [
       "[MNIST | ADAM, LR = 0.001 | LAYERS = (784,128) (128,64,10) | DIFF WEIGHT 1 | 4 CLAUSES | JOINT] Run #1, Epoch …"
      ]
     },
     "metadata": {},
     "output_type": "display_data"
    },
    {
     "data": {
      "application/vnd.jupyter.widget-view+json": {
       "model_id": "",
       "version_major": 2,
       "version_minor": 0
      },
      "text/plain": [
       "[MNIST | ADAM, LR = 0.001 | LAYERS = (784,128) (128,64,10) | DIFF WEIGHT 1 | 4 CLAUSES | JOINT] Run #1, Epoch …"
      ]
     },
     "metadata": {},
     "output_type": "display_data"
    },
    {
     "data": {
      "application/vnd.jupyter.widget-view+json": {
       "model_id": "",
       "version_major": 2,
       "version_minor": 0
      },
      "text/plain": [
       "[MNIST | ADAM, LR = 0.001 | LAYERS = (784,128) (128,64,10) | DIFF WEIGHT 1 | 4 CLAUSES | JOINT] Run #1, Epoch …"
      ]
     },
     "metadata": {},
     "output_type": "display_data"
    },
    {
     "data": {
      "application/vnd.jupyter.widget-view+json": {
       "model_id": "",
       "version_major": 2,
       "version_minor": 0
      },
      "text/plain": [
       "[MNIST | ADAM, LR = 0.001 | LAYERS = (784,128) (128,64,10) | DIFF WEIGHT 1 | 4 CLAUSES | JOINT] Run #1, Epoch …"
      ]
     },
     "metadata": {},
     "output_type": "display_data"
    },
    {
     "data": {
      "application/vnd.jupyter.widget-view+json": {
       "model_id": "",
       "version_major": 2,
       "version_minor": 0
      },
      "text/plain": [
       "[MNIST | ADAM, LR = 0.001 | LAYERS = (784,128) (128,64,10) | DIFF WEIGHT 1 | 4 CLAUSES | JOINT] Run #1, Epoch …"
      ]
     },
     "metadata": {},
     "output_type": "display_data"
    },
    {
     "data": {
      "application/vnd.jupyter.widget-view+json": {
       "model_id": "",
       "version_major": 2,
       "version_minor": 0
      },
      "text/plain": [
       "[MNIST | ADAM, LR = 0.001 | LAYERS = (784,128) (128,64,10) | DIFF WEIGHT 1 | 4 CLAUSES | JOINT] Run #1, Epoch …"
      ]
     },
     "metadata": {},
     "output_type": "display_data"
    },
    {
     "data": {
      "application/vnd.jupyter.widget-view+json": {
       "model_id": "",
       "version_major": 2,
       "version_minor": 0
      },
      "text/plain": [
       "[MNIST | ADAM, LR = 0.001 | LAYERS = (784,128) (128,64,10) | DIFF WEIGHT 1 | 4 CLAUSES | JOINT] Run #1, Epoch …"
      ]
     },
     "metadata": {},
     "output_type": "display_data"
    },
    {
     "data": {
      "application/vnd.jupyter.widget-view+json": {
       "model_id": "",
       "version_major": 2,
       "version_minor": 0
      },
      "text/plain": [
       "[MNIST | ADAM, LR = 0.001 | LAYERS = (784,128) (128,64,10) | DIFF WEIGHT 1 | 4 CLAUSES | JOINT] Run #1, Epoch …"
      ]
     },
     "metadata": {},
     "output_type": "display_data"
    },
    {
     "data": {
      "application/vnd.jupyter.widget-view+json": {
       "model_id": "",
       "version_major": 2,
       "version_minor": 0
      },
      "text/plain": [
       "[MNIST | ADAM, LR = 0.001 | LAYERS = (784,128) (128,64,10) | DIFF WEIGHT 1 | 4 CLAUSES | JOINT] Run #1, Epoch …"
      ]
     },
     "metadata": {},
     "output_type": "display_data"
    },
    {
     "data": {
      "application/vnd.jupyter.widget-view+json": {
       "model_id": "",
       "version_major": 2,
       "version_minor": 0
      },
      "text/plain": [
       "[MNIST | ADAM, LR = 0.001 | LAYERS = (784,128) (128,64,10) | DIFF WEIGHT 1 | 4 CLAUSES | JOINT] Run #1, Epoch …"
      ]
     },
     "metadata": {},
     "output_type": "display_data"
    },
    {
     "data": {
      "application/vnd.jupyter.widget-view+json": {
       "model_id": "",
       "version_major": 2,
       "version_minor": 0
      },
      "text/plain": [
       "[MNIST | ADAM, LR = 0.001 | LAYERS = (784,128) (128,64,10) | DIFF WEIGHT 1 | 4 CLAUSES | JOINT] Run #1, Epoch …"
      ]
     },
     "metadata": {},
     "output_type": "display_data"
    },
    {
     "data": {
      "application/vnd.jupyter.widget-view+json": {
       "model_id": "",
       "version_major": 2,
       "version_minor": 0
      },
      "text/plain": [
       "[MNIST | ADAM, LR = 0.001 | LAYERS = (784,128) (128,64,10) | DIFF WEIGHT 1 | 4 CLAUSES | JOINT] Run #1, Epoch …"
      ]
     },
     "metadata": {},
     "output_type": "display_data"
    },
    {
     "data": {
      "application/vnd.jupyter.widget-view+json": {
       "model_id": "",
       "version_major": 2,
       "version_minor": 0
      },
      "text/plain": [
       "[MNIST | ADAM, LR = 0.001 | LAYERS = (784,128) (128,64,10) | DIFF WEIGHT 1 | 4 CLAUSES | JOINT] Run #1, Epoch …"
      ]
     },
     "metadata": {},
     "output_type": "display_data"
    },
    {
     "data": {
      "application/vnd.jupyter.widget-view+json": {
       "model_id": "",
       "version_major": 2,
       "version_minor": 0
      },
      "text/plain": [
       "[MNIST | ADAM, LR = 0.001 | LAYERS = (784,128) (128,64,10) | DIFF WEIGHT 1 | 4 CLAUSES | JOINT] Run #1, Epoch …"
      ]
     },
     "metadata": {},
     "output_type": "display_data"
    },
    {
     "data": {
      "application/vnd.jupyter.widget-view+json": {
       "model_id": "",
       "version_major": 2,
       "version_minor": 0
      },
      "text/plain": [
       "[MNIST | ADAM, LR = 0.001 | LAYERS = (784,128) (128,64,10) | DIFF WEIGHT 1 | 4 CLAUSES | JOINT] Run #1, Epoch …"
      ]
     },
     "metadata": {},
     "output_type": "display_data"
    },
    {
     "data": {
      "application/vnd.jupyter.widget-view+json": {
       "model_id": "",
       "version_major": 2,
       "version_minor": 0
      },
      "text/plain": [
       "[MNIST | ADAM, LR = 0.001 | LAYERS = (784,128) (128,64,10) | DIFF WEIGHT 1 | 4 CLAUSES | JOINT] Run #1, Epoch …"
      ]
     },
     "metadata": {},
     "output_type": "display_data"
    },
    {
     "data": {
      "application/vnd.jupyter.widget-view+json": {
       "model_id": "",
       "version_major": 2,
       "version_minor": 0
      },
      "text/plain": [
       "[MNIST | ADAM, LR = 0.001 | LAYERS = (784,128) (128,64,10) | DIFF WEIGHT 1 | 4 CLAUSES | JOINT] Run #1, Epoch …"
      ]
     },
     "metadata": {},
     "output_type": "display_data"
    },
    {
     "data": {
      "application/vnd.jupyter.widget-view+json": {
       "model_id": "",
       "version_major": 2,
       "version_minor": 0
      },
      "text/plain": [
       "[MNIST | ADAM, LR = 0.001 | LAYERS = (784,128) (128,64,10) | DIFF WEIGHT 1 | 4 CLAUSES | JOINT] Run #1, Epoch …"
      ]
     },
     "metadata": {},
     "output_type": "display_data"
    },
    {
     "data": {
      "application/vnd.jupyter.widget-view+json": {
       "model_id": "",
       "version_major": 2,
       "version_minor": 0
      },
      "text/plain": [
       "[MNIST | ADAM, LR = 0.001 | LAYERS = (784,128) (128,64,10) | DIFF WEIGHT 0.01 | 4 CLAUSES | JOINT] Run #1, Epo…"
      ]
     },
     "metadata": {},
     "output_type": "display_data"
    },
    {
     "data": {
      "application/vnd.jupyter.widget-view+json": {
       "model_id": "",
       "version_major": 2,
       "version_minor": 0
      },
      "text/plain": [
       "[MNIST | ADAM, LR = 0.001 | LAYERS = (784,128) (128,64,10) | DIFF WEIGHT 0.01 | 4 CLAUSES | JOINT] Run #1, Epo…"
      ]
     },
     "metadata": {},
     "output_type": "display_data"
    },
    {
     "data": {
      "application/vnd.jupyter.widget-view+json": {
       "model_id": "",
       "version_major": 2,
       "version_minor": 0
      },
      "text/plain": [
       "[MNIST | ADAM, LR = 0.001 | LAYERS = (784,128) (128,64,10) | DIFF WEIGHT 0.01 | 4 CLAUSES | JOINT] Run #1, Epo…"
      ]
     },
     "metadata": {},
     "output_type": "display_data"
    },
    {
     "data": {
      "application/vnd.jupyter.widget-view+json": {
       "model_id": "",
       "version_major": 2,
       "version_minor": 0
      },
      "text/plain": [
       "[MNIST | ADAM, LR = 0.001 | LAYERS = (784,128) (128,64,10) | DIFF WEIGHT 0.01 | 4 CLAUSES | JOINT] Run #1, Epo…"
      ]
     },
     "metadata": {},
     "output_type": "display_data"
    },
    {
     "data": {
      "application/vnd.jupyter.widget-view+json": {
       "model_id": "",
       "version_major": 2,
       "version_minor": 0
      },
      "text/plain": [
       "[MNIST | ADAM, LR = 0.001 | LAYERS = (784,128) (128,64,10) | DIFF WEIGHT 0.01 | 4 CLAUSES | JOINT] Run #1, Epo…"
      ]
     },
     "metadata": {},
     "output_type": "display_data"
    },
    {
     "data": {
      "application/vnd.jupyter.widget-view+json": {
       "model_id": "",
       "version_major": 2,
       "version_minor": 0
      },
      "text/plain": [
       "[MNIST | ADAM, LR = 0.001 | LAYERS = (784,128) (128,64,10) | DIFF WEIGHT 0.01 | 4 CLAUSES | JOINT] Run #1, Epo…"
      ]
     },
     "metadata": {},
     "output_type": "display_data"
    },
    {
     "data": {
      "application/vnd.jupyter.widget-view+json": {
       "model_id": "",
       "version_major": 2,
       "version_minor": 0
      },
      "text/plain": [
       "[MNIST | ADAM, LR = 0.001 | LAYERS = (784,128) (128,64,10) | DIFF WEIGHT 0.01 | 4 CLAUSES | JOINT] Run #1, Epo…"
      ]
     },
     "metadata": {},
     "output_type": "display_data"
    },
    {
     "data": {
      "application/vnd.jupyter.widget-view+json": {
       "model_id": "",
       "version_major": 2,
       "version_minor": 0
      },
      "text/plain": [
       "[MNIST | ADAM, LR = 0.001 | LAYERS = (784,128) (128,64,10) | DIFF WEIGHT 0.01 | 4 CLAUSES | JOINT] Run #1, Epo…"
      ]
     },
     "metadata": {},
     "output_type": "display_data"
    },
    {
     "data": {
      "application/vnd.jupyter.widget-view+json": {
       "model_id": "",
       "version_major": 2,
       "version_minor": 0
      },
      "text/plain": [
       "[MNIST | ADAM, LR = 0.001 | LAYERS = (784,128) (128,64,10) | DIFF WEIGHT 0.01 | 4 CLAUSES | JOINT] Run #1, Epo…"
      ]
     },
     "metadata": {},
     "output_type": "display_data"
    },
    {
     "data": {
      "application/vnd.jupyter.widget-view+json": {
       "model_id": "",
       "version_major": 2,
       "version_minor": 0
      },
      "text/plain": [
       "[MNIST | ADAM, LR = 0.001 | LAYERS = (784,128) (128,64,10) | DIFF WEIGHT 0.01 | 4 CLAUSES | JOINT] Run #1, Epo…"
      ]
     },
     "metadata": {},
     "output_type": "display_data"
    },
    {
     "data": {
      "application/vnd.jupyter.widget-view+json": {
       "model_id": "",
       "version_major": 2,
       "version_minor": 0
      },
      "text/plain": [
       "[MNIST | ADAM, LR = 0.001 | LAYERS = (784,128) (128,64,10) | DIFF WEIGHT 0.01 | 4 CLAUSES | JOINT] Run #1, Epo…"
      ]
     },
     "metadata": {},
     "output_type": "display_data"
    },
    {
     "data": {
      "application/vnd.jupyter.widget-view+json": {
       "model_id": "",
       "version_major": 2,
       "version_minor": 0
      },
      "text/plain": [
       "[MNIST | ADAM, LR = 0.001 | LAYERS = (784,128) (128,64,10) | DIFF WEIGHT 0.01 | 4 CLAUSES | JOINT] Run #1, Epo…"
      ]
     },
     "metadata": {},
     "output_type": "display_data"
    },
    {
     "data": {
      "application/vnd.jupyter.widget-view+json": {
       "model_id": "",
       "version_major": 2,
       "version_minor": 0
      },
      "text/plain": [
       "[MNIST | ADAM, LR = 0.001 | LAYERS = (784,128) (128,64,10) | DIFF WEIGHT 0.01 | 4 CLAUSES | JOINT] Run #1, Epo…"
      ]
     },
     "metadata": {},
     "output_type": "display_data"
    },
    {
     "data": {
      "application/vnd.jupyter.widget-view+json": {
       "model_id": "",
       "version_major": 2,
       "version_minor": 0
      },
      "text/plain": [
       "[MNIST | ADAM, LR = 0.001 | LAYERS = (784,128) (128,64,10) | DIFF WEIGHT 0.01 | 4 CLAUSES | JOINT] Run #1, Epo…"
      ]
     },
     "metadata": {},
     "output_type": "display_data"
    },
    {
     "data": {
      "application/vnd.jupyter.widget-view+json": {
       "model_id": "",
       "version_major": 2,
       "version_minor": 0
      },
      "text/plain": [
       "[MNIST | ADAM, LR = 0.001 | LAYERS = (784,128) (128,64,10) | DIFF WEIGHT 0.01 | 4 CLAUSES | JOINT] Run #1, Epo…"
      ]
     },
     "metadata": {},
     "output_type": "display_data"
    },
    {
     "data": {
      "application/vnd.jupyter.widget-view+json": {
       "model_id": "",
       "version_major": 2,
       "version_minor": 0
      },
      "text/plain": [
       "[MNIST | ADAM, LR = 0.001 | LAYERS = (784,128) (128,64,10) | DIFF WEIGHT 0.01 | 4 CLAUSES | JOINT] Run #1, Epo…"
      ]
     },
     "metadata": {},
     "output_type": "display_data"
    },
    {
     "data": {
      "application/vnd.jupyter.widget-view+json": {
       "model_id": "",
       "version_major": 2,
       "version_minor": 0
      },
      "text/plain": [
       "[MNIST | ADAM, LR = 0.001 | LAYERS = (784,128) (128,64,10) | DIFF WEIGHT 0.01 | 4 CLAUSES | JOINT] Run #1, Epo…"
      ]
     },
     "metadata": {},
     "output_type": "display_data"
    },
    {
     "data": {
      "application/vnd.jupyter.widget-view+json": {
       "model_id": "",
       "version_major": 2,
       "version_minor": 0
      },
      "text/plain": [
       "[MNIST | ADAM, LR = 0.001 | LAYERS = (784,128) (128,64,10) | DIFF WEIGHT 0.01 | 4 CLAUSES | JOINT] Run #1, Epo…"
      ]
     },
     "metadata": {},
     "output_type": "display_data"
    },
    {
     "data": {
      "application/vnd.jupyter.widget-view+json": {
       "model_id": "",
       "version_major": 2,
       "version_minor": 0
      },
      "text/plain": [
       "[MNIST | ADAM, LR = 0.001 | LAYERS = (784,128) (128,64,10) | DIFF WEIGHT 0.01 | 4 CLAUSES | JOINT] Run #1, Epo…"
      ]
     },
     "metadata": {},
     "output_type": "display_data"
    },
    {
     "data": {
      "application/vnd.jupyter.widget-view+json": {
       "model_id": "",
       "version_major": 2,
       "version_minor": 0
      },
      "text/plain": [
       "[MNIST | ADAM, LR = 0.001 | LAYERS = (784,128) (128,64,10) | DIFF WEIGHT 0.01 | 4 CLAUSES | JOINT] Run #1, Epo…"
      ]
     },
     "metadata": {},
     "output_type": "display_data"
    },
    {
     "data": {
      "application/vnd.jupyter.widget-view+json": {
       "model_id": "",
       "version_major": 2,
       "version_minor": 0
      },
      "text/plain": [
       "[MNIST | ADAM, LR = 0.001 | LAYERS = (784,128) (128,64,10) | DIFF WEIGHT 0.01 | 4 CLAUSES | JOINT] Run #1, Epo…"
      ]
     },
     "metadata": {},
     "output_type": "display_data"
    },
    {
     "data": {
      "application/vnd.jupyter.widget-view+json": {
       "model_id": "",
       "version_major": 2,
       "version_minor": 0
      },
      "text/plain": [
       "[MNIST | ADAM, LR = 0.001 | LAYERS = (784,128) (128,64,10) | DIFF WEIGHT 0.01 | 4 CLAUSES | JOINT] Run #1, Epo…"
      ]
     },
     "metadata": {},
     "output_type": "display_data"
    },
    {
     "data": {
      "application/vnd.jupyter.widget-view+json": {
       "model_id": "",
       "version_major": 2,
       "version_minor": 0
      },
      "text/plain": [
       "[MNIST | ADAM, LR = 0.001 | LAYERS = (784,128) (128,64,10) | DIFF WEIGHT 0.01 | 4 CLAUSES | JOINT] Run #1, Epo…"
      ]
     },
     "metadata": {},
     "output_type": "display_data"
    },
    {
     "data": {
      "application/vnd.jupyter.widget-view+json": {
       "model_id": "",
       "version_major": 2,
       "version_minor": 0
      },
      "text/plain": [
       "[MNIST | ADAM, LR = 0.001 | LAYERS = (784,128) (128,64,10) | DIFF WEIGHT 0.01 | 4 CLAUSES | JOINT] Run #1, Epo…"
      ]
     },
     "metadata": {},
     "output_type": "display_data"
    },
    {
     "data": {
      "application/vnd.jupyter.widget-view+json": {
       "model_id": "",
       "version_major": 2,
       "version_minor": 0
      },
      "text/plain": [
       "[MNIST | ADAM, LR = 0.001 | LAYERS = (784,128) (128,64,10) | DIFF WEIGHT 0.01 | 4 CLAUSES | JOINT] Run #1, Epo…"
      ]
     },
     "metadata": {},
     "output_type": "display_data"
    },
    {
     "data": {
      "application/vnd.jupyter.widget-view+json": {
       "model_id": "",
       "version_major": 2,
       "version_minor": 0
      },
      "text/plain": [
       "[MNIST | ADAM, LR = 0.001 | LAYERS = (784,128) (128,64,10) | DIFF WEIGHT 0.01 | 4 CLAUSES | JOINT] Run #1, Epo…"
      ]
     },
     "metadata": {},
     "output_type": "display_data"
    },
    {
     "data": {
      "application/vnd.jupyter.widget-view+json": {
       "model_id": "",
       "version_major": 2,
       "version_minor": 0
      },
      "text/plain": [
       "[MNIST | ADAM, LR = 0.001 | LAYERS = (784,128) (128,64,10) | DIFF WEIGHT 0.01 | 4 CLAUSES | JOINT] Run #1, Epo…"
      ]
     },
     "metadata": {},
     "output_type": "display_data"
    },
    {
     "data": {
      "application/vnd.jupyter.widget-view+json": {
       "model_id": "",
       "version_major": 2,
       "version_minor": 0
      },
      "text/plain": [
       "[MNIST | ADAM, LR = 0.001 | LAYERS = (784,128) (128,64,10) | DIFF WEIGHT 0.01 | 4 CLAUSES | JOINT] Run #1, Epo…"
      ]
     },
     "metadata": {},
     "output_type": "display_data"
    },
    {
     "data": {
      "application/vnd.jupyter.widget-view+json": {
       "model_id": "",
       "version_major": 2,
       "version_minor": 0
      },
      "text/plain": [
       "[MNIST | ADAM, LR = 0.001 | LAYERS = (784,128) (128,64,10) | DIFF WEIGHT 0.01 | 4 CLAUSES | JOINT] Run #1, Epo…"
      ]
     },
     "metadata": {},
     "output_type": "display_data"
    },
    {
     "data": {
      "application/vnd.jupyter.widget-view+json": {
       "model_id": "",
       "version_major": 2,
       "version_minor": 0
      },
      "text/plain": [
       "[MNIST | ADAM, LR = 0.001 | LAYERS = (784,128) (128,64,10) | DIFF WEIGHT 0.01 | 4 CLAUSES | JOINT] Run #1, Epo…"
      ]
     },
     "metadata": {},
     "output_type": "display_data"
    },
    {
     "data": {
      "application/vnd.jupyter.widget-view+json": {
       "model_id": "",
       "version_major": 2,
       "version_minor": 0
      },
      "text/plain": [
       "[MNIST | ADAM, LR = 0.001 | LAYERS = (784,128) (128,64,10) | DIFF WEIGHT 1 | 4 CLAUSES | JOINT] Run #1, Epoch …"
      ]
     },
     "metadata": {},
     "output_type": "display_data"
    },
    {
     "data": {
      "application/vnd.jupyter.widget-view+json": {
       "model_id": "",
       "version_major": 2,
       "version_minor": 0
      },
      "text/plain": [
       "[MNIST | ADAM, LR = 0.001 | LAYERS = (784,128) (128,64,10) | DIFF WEIGHT 1 | 4 CLAUSES | JOINT] Run #1, Epoch …"
      ]
     },
     "metadata": {},
     "output_type": "display_data"
    },
    {
     "data": {
      "application/vnd.jupyter.widget-view+json": {
       "model_id": "",
       "version_major": 2,
       "version_minor": 0
      },
      "text/plain": [
       "[MNIST | ADAM, LR = 0.001 | LAYERS = (784,128) (128,64,10) | DIFF WEIGHT 1 | 4 CLAUSES | JOINT] Run #1, Epoch …"
      ]
     },
     "metadata": {},
     "output_type": "display_data"
    },
    {
     "data": {
      "application/vnd.jupyter.widget-view+json": {
       "model_id": "",
       "version_major": 2,
       "version_minor": 0
      },
      "text/plain": [
       "[MNIST | ADAM, LR = 0.001 | LAYERS = (784,128) (128,64,10) | DIFF WEIGHT 1 | 4 CLAUSES | JOINT] Run #1, Epoch …"
      ]
     },
     "metadata": {},
     "output_type": "display_data"
    },
    {
     "data": {
      "application/vnd.jupyter.widget-view+json": {
       "model_id": "",
       "version_major": 2,
       "version_minor": 0
      },
      "text/plain": [
       "[MNIST | ADAM, LR = 0.001 | LAYERS = (784,128) (128,64,10) | DIFF WEIGHT 1 | 4 CLAUSES | JOINT] Run #1, Epoch …"
      ]
     },
     "metadata": {},
     "output_type": "display_data"
    },
    {
     "data": {
      "application/vnd.jupyter.widget-view+json": {
       "model_id": "",
       "version_major": 2,
       "version_minor": 0
      },
      "text/plain": [
       "[MNIST | ADAM, LR = 0.001 | LAYERS = (784,128) (128,64,10) | DIFF WEIGHT 1 | 4 CLAUSES | JOINT] Run #1, Epoch …"
      ]
     },
     "metadata": {},
     "output_type": "display_data"
    },
    {
     "data": {
      "application/vnd.jupyter.widget-view+json": {
       "model_id": "",
       "version_major": 2,
       "version_minor": 0
      },
      "text/plain": [
       "[MNIST | ADAM, LR = 0.001 | LAYERS = (784,128) (128,64,10) | DIFF WEIGHT 1 | 4 CLAUSES | JOINT] Run #1, Epoch …"
      ]
     },
     "metadata": {},
     "output_type": "display_data"
    },
    {
     "data": {
      "application/vnd.jupyter.widget-view+json": {
       "model_id": "",
       "version_major": 2,
       "version_minor": 0
      },
      "text/plain": [
       "[MNIST | ADAM, LR = 0.001 | LAYERS = (784,128) (128,64,10) | DIFF WEIGHT 1 | 4 CLAUSES | JOINT] Run #1, Epoch …"
      ]
     },
     "metadata": {},
     "output_type": "display_data"
    },
    {
     "data": {
      "application/vnd.jupyter.widget-view+json": {
       "model_id": "",
       "version_major": 2,
       "version_minor": 0
      },
      "text/plain": [
       "[MNIST | ADAM, LR = 0.001 | LAYERS = (784,128) (128,64,10) | DIFF WEIGHT 1 | 4 CLAUSES | JOINT] Run #1, Epoch …"
      ]
     },
     "metadata": {},
     "output_type": "display_data"
    },
    {
     "data": {
      "application/vnd.jupyter.widget-view+json": {
       "model_id": "",
       "version_major": 2,
       "version_minor": 0
      },
      "text/plain": [
       "[MNIST | ADAM, LR = 0.001 | LAYERS = (784,128) (128,64,10) | DIFF WEIGHT 1 | 4 CLAUSES | JOINT] Run #1, Epoch …"
      ]
     },
     "metadata": {},
     "output_type": "display_data"
    },
    {
     "data": {
      "application/vnd.jupyter.widget-view+json": {
       "model_id": "",
       "version_major": 2,
       "version_minor": 0
      },
      "text/plain": [
       "[MNIST | ADAM, LR = 0.001 | LAYERS = (784,128) (128,64,10) | DIFF WEIGHT 1 | 4 CLAUSES | JOINT] Run #1, Epoch …"
      ]
     },
     "metadata": {},
     "output_type": "display_data"
    },
    {
     "data": {
      "application/vnd.jupyter.widget-view+json": {
       "model_id": "",
       "version_major": 2,
       "version_minor": 0
      },
      "text/plain": [
       "[MNIST | ADAM, LR = 0.001 | LAYERS = (784,128) (128,64,10) | DIFF WEIGHT 1 | 4 CLAUSES | JOINT] Run #1, Epoch …"
      ]
     },
     "metadata": {},
     "output_type": "display_data"
    },
    {
     "data": {
      "application/vnd.jupyter.widget-view+json": {
       "model_id": "",
       "version_major": 2,
       "version_minor": 0
      },
      "text/plain": [
       "[MNIST | ADAM, LR = 0.001 | LAYERS = (784,128) (128,64,10) | DIFF WEIGHT 1 | 4 CLAUSES | JOINT] Run #1, Epoch …"
      ]
     },
     "metadata": {},
     "output_type": "display_data"
    },
    {
     "data": {
      "application/vnd.jupyter.widget-view+json": {
       "model_id": "",
       "version_major": 2,
       "version_minor": 0
      },
      "text/plain": [
       "[MNIST | ADAM, LR = 0.001 | LAYERS = (784,128) (128,64,10) | DIFF WEIGHT 1 | 4 CLAUSES | JOINT] Run #1, Epoch …"
      ]
     },
     "metadata": {},
     "output_type": "display_data"
    },
    {
     "data": {
      "application/vnd.jupyter.widget-view+json": {
       "model_id": "",
       "version_major": 2,
       "version_minor": 0
      },
      "text/plain": [
       "[MNIST | ADAM, LR = 0.001 | LAYERS = (784,128) (128,64,10) | DIFF WEIGHT 1 | 4 CLAUSES | JOINT] Run #1, Epoch …"
      ]
     },
     "metadata": {},
     "output_type": "display_data"
    },
    {
     "data": {
      "application/vnd.jupyter.widget-view+json": {
       "model_id": "",
       "version_major": 2,
       "version_minor": 0
      },
      "text/plain": [
       "[MNIST | ADAM, LR = 0.001 | LAYERS = (784,128) (128,64,10) | DIFF WEIGHT 1 | 4 CLAUSES | JOINT] Run #1, Epoch …"
      ]
     },
     "metadata": {},
     "output_type": "display_data"
    },
    {
     "data": {
      "application/vnd.jupyter.widget-view+json": {
       "model_id": "",
       "version_major": 2,
       "version_minor": 0
      },
      "text/plain": [
       "[MNIST | ADAM, LR = 0.001 | LAYERS = (784,128) (128,64,10) | DIFF WEIGHT 1 | 4 CLAUSES | JOINT] Run #1, Epoch …"
      ]
     },
     "metadata": {},
     "output_type": "display_data"
    },
    {
     "data": {
      "application/vnd.jupyter.widget-view+json": {
       "model_id": "",
       "version_major": 2,
       "version_minor": 0
      },
      "text/plain": [
       "[MNIST | ADAM, LR = 0.001 | LAYERS = (784,128) (128,64,10) | DIFF WEIGHT 1 | 4 CLAUSES | JOINT] Run #1, Epoch …"
      ]
     },
     "metadata": {},
     "output_type": "display_data"
    },
    {
     "data": {
      "application/vnd.jupyter.widget-view+json": {
       "model_id": "",
       "version_major": 2,
       "version_minor": 0
      },
      "text/plain": [
       "[MNIST | ADAM, LR = 0.001 | LAYERS = (784,128) (128,64,10) | DIFF WEIGHT 1 | 4 CLAUSES | JOINT] Run #1, Epoch …"
      ]
     },
     "metadata": {},
     "output_type": "display_data"
    },
    {
     "data": {
      "application/vnd.jupyter.widget-view+json": {
       "model_id": "",
       "version_major": 2,
       "version_minor": 0
      },
      "text/plain": [
       "[MNIST | ADAM, LR = 0.001 | LAYERS = (784,128) (128,64,10) | DIFF WEIGHT 1 | 4 CLAUSES | JOINT] Run #1, Epoch …"
      ]
     },
     "metadata": {},
     "output_type": "display_data"
    },
    {
     "data": {
      "application/vnd.jupyter.widget-view+json": {
       "model_id": "",
       "version_major": 2,
       "version_minor": 0
      },
      "text/plain": [
       "[MNIST | ADAM, LR = 0.001 | LAYERS = (784,128) (128,64,10) | DIFF WEIGHT 1 | 4 CLAUSES | JOINT] Run #1, Epoch …"
      ]
     },
     "metadata": {},
     "output_type": "display_data"
    },
    {
     "data": {
      "application/vnd.jupyter.widget-view+json": {
       "model_id": "",
       "version_major": 2,
       "version_minor": 0
      },
      "text/plain": [
       "[MNIST | ADAM, LR = 0.001 | LAYERS = (784,128) (128,64,10) | DIFF WEIGHT 1 | 4 CLAUSES | JOINT] Run #1, Epoch …"
      ]
     },
     "metadata": {},
     "output_type": "display_data"
    },
    {
     "data": {
      "application/vnd.jupyter.widget-view+json": {
       "model_id": "",
       "version_major": 2,
       "version_minor": 0
      },
      "text/plain": [
       "[MNIST | ADAM, LR = 0.001 | LAYERS = (784,128) (128,64,10) | DIFF WEIGHT 1 | 4 CLAUSES | JOINT] Run #1, Epoch …"
      ]
     },
     "metadata": {},
     "output_type": "display_data"
    },
    {
     "data": {
      "application/vnd.jupyter.widget-view+json": {
       "model_id": "",
       "version_major": 2,
       "version_minor": 0
      },
      "text/plain": [
       "[MNIST | ADAM, LR = 0.001 | LAYERS = (784,128) (128,64,10) | DIFF WEIGHT 1 | 4 CLAUSES | JOINT] Run #1, Epoch …"
      ]
     },
     "metadata": {},
     "output_type": "display_data"
    },
    {
     "data": {
      "application/vnd.jupyter.widget-view+json": {
       "model_id": "",
       "version_major": 2,
       "version_minor": 0
      },
      "text/plain": [
       "[MNIST | ADAM, LR = 0.001 | LAYERS = (784,128) (128,64,10) | DIFF WEIGHT 1 | 4 CLAUSES | JOINT] Run #1, Epoch …"
      ]
     },
     "metadata": {},
     "output_type": "display_data"
    },
    {
     "data": {
      "application/vnd.jupyter.widget-view+json": {
       "model_id": "",
       "version_major": 2,
       "version_minor": 0
      },
      "text/plain": [
       "[MNIST | ADAM, LR = 0.001 | LAYERS = (784,128) (128,64,10) | DIFF WEIGHT 1 | 4 CLAUSES | JOINT] Run #1, Epoch …"
      ]
     },
     "metadata": {},
     "output_type": "display_data"
    },
    {
     "data": {
      "application/vnd.jupyter.widget-view+json": {
       "model_id": "",
       "version_major": 2,
       "version_minor": 0
      },
      "text/plain": [
       "[MNIST | ADAM, LR = 0.001 | LAYERS = (784,128) (128,64,10) | DIFF WEIGHT 1 | 4 CLAUSES | JOINT] Run #1, Epoch …"
      ]
     },
     "metadata": {},
     "output_type": "display_data"
    },
    {
     "data": {
      "application/vnd.jupyter.widget-view+json": {
       "model_id": "",
       "version_major": 2,
       "version_minor": 0
      },
      "text/plain": [
       "[MNIST | ADAM, LR = 0.001 | LAYERS = (784,128) (128,64,10) | DIFF WEIGHT 1 | 4 CLAUSES | JOINT] Run #1, Epoch …"
      ]
     },
     "metadata": {},
     "output_type": "display_data"
    },
    {
     "data": {
      "application/vnd.jupyter.widget-view+json": {
       "model_id": "",
       "version_major": 2,
       "version_minor": 0
      },
      "text/plain": [
       "[MNIST | ADAM, LR = 0.001 | LAYERS = (784,128) (128,64,10) | DIFF WEIGHT 1 | 4 CLAUSES | JOINT] Run #1, Epoch …"
      ]
     },
     "metadata": {},
     "output_type": "display_data"
    },
    {
     "data": {
      "application/vnd.jupyter.widget-view+json": {
       "model_id": "",
       "version_major": 2,
       "version_minor": 0
      },
      "text/plain": [
       "[MNIST | ADAM, LR = 0.001 | LAYERS = (784,128) (128,64,10) | DIFF WEIGHT 1 | 4 CLAUSES | JOINT] Run #1, Epoch …"
      ]
     },
     "metadata": {},
     "output_type": "display_data"
    },
    {
     "data": {
      "application/vnd.jupyter.widget-view+json": {
       "model_id": "",
       "version_major": 2,
       "version_minor": 0
      },
      "text/plain": [
       "[MNIST | ADAM, LR = 0.001 | LAYERS = (784,128) (128,64,10) | DIFF WEIGHT 0.01 | 4 CLAUSES | JOINT] Run #1, Epo…"
      ]
     },
     "metadata": {},
     "output_type": "display_data"
    },
    {
     "data": {
      "application/vnd.jupyter.widget-view+json": {
       "model_id": "",
       "version_major": 2,
       "version_minor": 0
      },
      "text/plain": [
       "[MNIST | ADAM, LR = 0.001 | LAYERS = (784,128) (128,64,10) | DIFF WEIGHT 0.01 | 4 CLAUSES | JOINT] Run #1, Epo…"
      ]
     },
     "metadata": {},
     "output_type": "display_data"
    },
    {
     "data": {
      "application/vnd.jupyter.widget-view+json": {
       "model_id": "",
       "version_major": 2,
       "version_minor": 0
      },
      "text/plain": [
       "[MNIST | ADAM, LR = 0.001 | LAYERS = (784,128) (128,64,10) | DIFF WEIGHT 0.01 | 4 CLAUSES | JOINT] Run #1, Epo…"
      ]
     },
     "metadata": {},
     "output_type": "display_data"
    },
    {
     "data": {
      "application/vnd.jupyter.widget-view+json": {
       "model_id": "",
       "version_major": 2,
       "version_minor": 0
      },
      "text/plain": [
       "[MNIST | ADAM, LR = 0.001 | LAYERS = (784,128) (128,64,10) | DIFF WEIGHT 0.01 | 4 CLAUSES | JOINT] Run #1, Epo…"
      ]
     },
     "metadata": {},
     "output_type": "display_data"
    },
    {
     "data": {
      "application/vnd.jupyter.widget-view+json": {
       "model_id": "",
       "version_major": 2,
       "version_minor": 0
      },
      "text/plain": [
       "[MNIST | ADAM, LR = 0.001 | LAYERS = (784,128) (128,64,10) | DIFF WEIGHT 0.01 | 4 CLAUSES | JOINT] Run #1, Epo…"
      ]
     },
     "metadata": {},
     "output_type": "display_data"
    },
    {
     "data": {
      "application/vnd.jupyter.widget-view+json": {
       "model_id": "",
       "version_major": 2,
       "version_minor": 0
      },
      "text/plain": [
       "[MNIST | ADAM, LR = 0.001 | LAYERS = (784,128) (128,64,10) | DIFF WEIGHT 0.01 | 4 CLAUSES | JOINT] Run #1, Epo…"
      ]
     },
     "metadata": {},
     "output_type": "display_data"
    },
    {
     "data": {
      "application/vnd.jupyter.widget-view+json": {
       "model_id": "",
       "version_major": 2,
       "version_minor": 0
      },
      "text/plain": [
       "[MNIST | ADAM, LR = 0.001 | LAYERS = (784,128) (128,64,10) | DIFF WEIGHT 0.01 | 4 CLAUSES | JOINT] Run #1, Epo…"
      ]
     },
     "metadata": {},
     "output_type": "display_data"
    },
    {
     "data": {
      "application/vnd.jupyter.widget-view+json": {
       "model_id": "",
       "version_major": 2,
       "version_minor": 0
      },
      "text/plain": [
       "[MNIST | ADAM, LR = 0.001 | LAYERS = (784,128) (128,64,10) | DIFF WEIGHT 0.01 | 4 CLAUSES | JOINT] Run #1, Epo…"
      ]
     },
     "metadata": {},
     "output_type": "display_data"
    },
    {
     "data": {
      "application/vnd.jupyter.widget-view+json": {
       "model_id": "",
       "version_major": 2,
       "version_minor": 0
      },
      "text/plain": [
       "[MNIST | ADAM, LR = 0.001 | LAYERS = (784,128) (128,64,10) | DIFF WEIGHT 0.01 | 4 CLAUSES | JOINT] Run #1, Epo…"
      ]
     },
     "metadata": {},
     "output_type": "display_data"
    },
    {
     "data": {
      "application/vnd.jupyter.widget-view+json": {
       "model_id": "",
       "version_major": 2,
       "version_minor": 0
      },
      "text/plain": [
       "[MNIST | ADAM, LR = 0.001 | LAYERS = (784,128) (128,64,10) | DIFF WEIGHT 0.01 | 4 CLAUSES | JOINT] Run #1, Epo…"
      ]
     },
     "metadata": {},
     "output_type": "display_data"
    },
    {
     "data": {
      "application/vnd.jupyter.widget-view+json": {
       "model_id": "",
       "version_major": 2,
       "version_minor": 0
      },
      "text/plain": [
       "[MNIST | ADAM, LR = 0.001 | LAYERS = (784,128) (128,64,10) | DIFF WEIGHT 0.01 | 4 CLAUSES | JOINT] Run #1, Epo…"
      ]
     },
     "metadata": {},
     "output_type": "display_data"
    },
    {
     "data": {
      "application/vnd.jupyter.widget-view+json": {
       "model_id": "",
       "version_major": 2,
       "version_minor": 0
      },
      "text/plain": [
       "[MNIST | ADAM, LR = 0.001 | LAYERS = (784,128) (128,64,10) | DIFF WEIGHT 0.01 | 4 CLAUSES | JOINT] Run #1, Epo…"
      ]
     },
     "metadata": {},
     "output_type": "display_data"
    },
    {
     "data": {
      "application/vnd.jupyter.widget-view+json": {
       "model_id": "",
       "version_major": 2,
       "version_minor": 0
      },
      "text/plain": [
       "[MNIST | ADAM, LR = 0.001 | LAYERS = (784,128) (128,64,10) | DIFF WEIGHT 0.01 | 4 CLAUSES | JOINT] Run #1, Epo…"
      ]
     },
     "metadata": {},
     "output_type": "display_data"
    },
    {
     "data": {
      "application/vnd.jupyter.widget-view+json": {
       "model_id": "",
       "version_major": 2,
       "version_minor": 0
      },
      "text/plain": [
       "[MNIST | ADAM, LR = 0.001 | LAYERS = (784,128) (128,64,10) | DIFF WEIGHT 0.01 | 4 CLAUSES | JOINT] Run #1, Epo…"
      ]
     },
     "metadata": {},
     "output_type": "display_data"
    },
    {
     "data": {
      "application/vnd.jupyter.widget-view+json": {
       "model_id": "",
       "version_major": 2,
       "version_minor": 0
      },
      "text/plain": [
       "[MNIST | ADAM, LR = 0.001 | LAYERS = (784,128) (128,64,10) | DIFF WEIGHT 0.01 | 4 CLAUSES | JOINT] Run #1, Epo…"
      ]
     },
     "metadata": {},
     "output_type": "display_data"
    },
    {
     "data": {
      "application/vnd.jupyter.widget-view+json": {
       "model_id": "",
       "version_major": 2,
       "version_minor": 0
      },
      "text/plain": [
       "[MNIST | ADAM, LR = 0.001 | LAYERS = (784,128) (128,64,10) | DIFF WEIGHT 0.01 | 4 CLAUSES | JOINT] Run #1, Epo…"
      ]
     },
     "metadata": {},
     "output_type": "display_data"
    },
    {
     "data": {
      "application/vnd.jupyter.widget-view+json": {
       "model_id": "",
       "version_major": 2,
       "version_minor": 0
      },
      "text/plain": [
       "[MNIST | ADAM, LR = 0.001 | LAYERS = (784,128) (128,64,10) | DIFF WEIGHT 0.01 | 4 CLAUSES | JOINT] Run #1, Epo…"
      ]
     },
     "metadata": {},
     "output_type": "display_data"
    },
    {
     "data": {
      "application/vnd.jupyter.widget-view+json": {
       "model_id": "",
       "version_major": 2,
       "version_minor": 0
      },
      "text/plain": [
       "[MNIST | ADAM, LR = 0.001 | LAYERS = (784,128) (128,64,10) | DIFF WEIGHT 0.01 | 4 CLAUSES | JOINT] Run #1, Epo…"
      ]
     },
     "metadata": {},
     "output_type": "display_data"
    },
    {
     "data": {
      "application/vnd.jupyter.widget-view+json": {
       "model_id": "",
       "version_major": 2,
       "version_minor": 0
      },
      "text/plain": [
       "[MNIST | ADAM, LR = 0.001 | LAYERS = (784,128) (128,64,10) | DIFF WEIGHT 0.01 | 4 CLAUSES | JOINT] Run #1, Epo…"
      ]
     },
     "metadata": {},
     "output_type": "display_data"
    },
    {
     "data": {
      "application/vnd.jupyter.widget-view+json": {
       "model_id": "",
       "version_major": 2,
       "version_minor": 0
      },
      "text/plain": [
       "[MNIST | ADAM, LR = 0.001 | LAYERS = (784,128) (128,64,10) | DIFF WEIGHT 0.01 | 4 CLAUSES | JOINT] Run #1, Epo…"
      ]
     },
     "metadata": {},
     "output_type": "display_data"
    },
    {
     "data": {
      "application/vnd.jupyter.widget-view+json": {
       "model_id": "",
       "version_major": 2,
       "version_minor": 0
      },
      "text/plain": [
       "[MNIST | ADAM, LR = 0.001 | LAYERS = (784,128) (128,64,10) | DIFF WEIGHT 0.01 | 4 CLAUSES | JOINT] Run #1, Epo…"
      ]
     },
     "metadata": {},
     "output_type": "display_data"
    },
    {
     "data": {
      "application/vnd.jupyter.widget-view+json": {
       "model_id": "",
       "version_major": 2,
       "version_minor": 0
      },
      "text/plain": [
       "[MNIST | ADAM, LR = 0.001 | LAYERS = (784,128) (128,64,10) | DIFF WEIGHT 0.01 | 4 CLAUSES | JOINT] Run #1, Epo…"
      ]
     },
     "metadata": {},
     "output_type": "display_data"
    },
    {
     "data": {
      "application/vnd.jupyter.widget-view+json": {
       "model_id": "",
       "version_major": 2,
       "version_minor": 0
      },
      "text/plain": [
       "[MNIST | ADAM, LR = 0.001 | LAYERS = (784,128) (128,64,10) | DIFF WEIGHT 0.01 | 4 CLAUSES | JOINT] Run #1, Epo…"
      ]
     },
     "metadata": {},
     "output_type": "display_data"
    },
    {
     "data": {
      "application/vnd.jupyter.widget-view+json": {
       "model_id": "",
       "version_major": 2,
       "version_minor": 0
      },
      "text/plain": [
       "[MNIST | ADAM, LR = 0.001 | LAYERS = (784,128) (128,64,10) | DIFF WEIGHT 0.01 | 4 CLAUSES | JOINT] Run #1, Epo…"
      ]
     },
     "metadata": {},
     "output_type": "display_data"
    },
    {
     "data": {
      "application/vnd.jupyter.widget-view+json": {
       "model_id": "",
       "version_major": 2,
       "version_minor": 0
      },
      "text/plain": [
       "[MNIST | ADAM, LR = 0.001 | LAYERS = (784,128) (128,64,10) | DIFF WEIGHT 0.01 | 4 CLAUSES | JOINT] Run #1, Epo…"
      ]
     },
     "metadata": {},
     "output_type": "display_data"
    },
    {
     "data": {
      "application/vnd.jupyter.widget-view+json": {
       "model_id": "",
       "version_major": 2,
       "version_minor": 0
      },
      "text/plain": [
       "[MNIST | ADAM, LR = 0.001 | LAYERS = (784,128) (128,64,10) | DIFF WEIGHT 0.01 | 4 CLAUSES | JOINT] Run #1, Epo…"
      ]
     },
     "metadata": {},
     "output_type": "display_data"
    },
    {
     "data": {
      "application/vnd.jupyter.widget-view+json": {
       "model_id": "",
       "version_major": 2,
       "version_minor": 0
      },
      "text/plain": [
       "[MNIST | ADAM, LR = 0.001 | LAYERS = (784,128) (128,64,10) | DIFF WEIGHT 0.01 | 4 CLAUSES | JOINT] Run #1, Epo…"
      ]
     },
     "metadata": {},
     "output_type": "display_data"
    },
    {
     "data": {
      "application/vnd.jupyter.widget-view+json": {
       "model_id": "",
       "version_major": 2,
       "version_minor": 0
      },
      "text/plain": [
       "[MNIST | ADAM, LR = 0.001 | LAYERS = (784,128) (128,64,10) | DIFF WEIGHT 0.01 | 4 CLAUSES | JOINT] Run #1, Epo…"
      ]
     },
     "metadata": {},
     "output_type": "display_data"
    },
    {
     "data": {
      "application/vnd.jupyter.widget-view+json": {
       "model_id": "",
       "version_major": 2,
       "version_minor": 0
      },
      "text/plain": [
       "[MNIST | ADAM, LR = 0.001 | LAYERS = (784,128) (128,64,10) | DIFF WEIGHT 0.01 | 4 CLAUSES | JOINT] Run #1, Epo…"
      ]
     },
     "metadata": {},
     "output_type": "display_data"
    },
    {
     "data": {
      "application/vnd.jupyter.widget-view+json": {
       "model_id": "",
       "version_major": 2,
       "version_minor": 0
      },
      "text/plain": [
       "[MNIST | ADAM, LR = 0.001 | LAYERS = (784,128) (128,64,10) | DIFF WEIGHT 0.01 | 4 CLAUSES | JOINT] Run #1, Epo…"
      ]
     },
     "metadata": {},
     "output_type": "display_data"
    },
    {
     "data": {
      "application/vnd.jupyter.widget-view+json": {
       "model_id": "",
       "version_major": 2,
       "version_minor": 0
      },
      "text/plain": [
       "[MNIST | ADAM, LR = 0.001 | LAYERS = (784,128) (128,64,10) | DIFF WEIGHT 1 | 4 CLAUSES | JOINT] Run #1, Epoch …"
      ]
     },
     "metadata": {},
     "output_type": "display_data"
    },
    {
     "data": {
      "application/vnd.jupyter.widget-view+json": {
       "model_id": "",
       "version_major": 2,
       "version_minor": 0
      },
      "text/plain": [
       "[MNIST | ADAM, LR = 0.001 | LAYERS = (784,128) (128,64,10) | DIFF WEIGHT 1 | 4 CLAUSES | JOINT] Run #1, Epoch …"
      ]
     },
     "metadata": {},
     "output_type": "display_data"
    },
    {
     "data": {
      "application/vnd.jupyter.widget-view+json": {
       "model_id": "",
       "version_major": 2,
       "version_minor": 0
      },
      "text/plain": [
       "[MNIST | ADAM, LR = 0.001 | LAYERS = (784,128) (128,64,10) | DIFF WEIGHT 1 | 4 CLAUSES | JOINT] Run #1, Epoch …"
      ]
     },
     "metadata": {},
     "output_type": "display_data"
    },
    {
     "data": {
      "application/vnd.jupyter.widget-view+json": {
       "model_id": "",
       "version_major": 2,
       "version_minor": 0
      },
      "text/plain": [
       "[MNIST | ADAM, LR = 0.001 | LAYERS = (784,128) (128,64,10) | DIFF WEIGHT 1 | 4 CLAUSES | JOINT] Run #1, Epoch …"
      ]
     },
     "metadata": {},
     "output_type": "display_data"
    },
    {
     "data": {
      "application/vnd.jupyter.widget-view+json": {
       "model_id": "",
       "version_major": 2,
       "version_minor": 0
      },
      "text/plain": [
       "[MNIST | ADAM, LR = 0.001 | LAYERS = (784,128) (128,64,10) | DIFF WEIGHT 1 | 4 CLAUSES | JOINT] Run #1, Epoch …"
      ]
     },
     "metadata": {},
     "output_type": "display_data"
    },
    {
     "data": {
      "application/vnd.jupyter.widget-view+json": {
       "model_id": "",
       "version_major": 2,
       "version_minor": 0
      },
      "text/plain": [
       "[MNIST | ADAM, LR = 0.001 | LAYERS = (784,128) (128,64,10) | DIFF WEIGHT 1 | 4 CLAUSES | JOINT] Run #1, Epoch …"
      ]
     },
     "metadata": {},
     "output_type": "display_data"
    },
    {
     "data": {
      "application/vnd.jupyter.widget-view+json": {
       "model_id": "",
       "version_major": 2,
       "version_minor": 0
      },
      "text/plain": [
       "[MNIST | ADAM, LR = 0.001 | LAYERS = (784,128) (128,64,10) | DIFF WEIGHT 1 | 4 CLAUSES | JOINT] Run #1, Epoch …"
      ]
     },
     "metadata": {},
     "output_type": "display_data"
    },
    {
     "data": {
      "application/vnd.jupyter.widget-view+json": {
       "model_id": "",
       "version_major": 2,
       "version_minor": 0
      },
      "text/plain": [
       "[MNIST | ADAM, LR = 0.001 | LAYERS = (784,128) (128,64,10) | DIFF WEIGHT 1 | 4 CLAUSES | JOINT] Run #1, Epoch …"
      ]
     },
     "metadata": {},
     "output_type": "display_data"
    },
    {
     "data": {
      "application/vnd.jupyter.widget-view+json": {
       "model_id": "",
       "version_major": 2,
       "version_minor": 0
      },
      "text/plain": [
       "[MNIST | ADAM, LR = 0.001 | LAYERS = (784,128) (128,64,10) | DIFF WEIGHT 1 | 4 CLAUSES | JOINT] Run #1, Epoch …"
      ]
     },
     "metadata": {},
     "output_type": "display_data"
    },
    {
     "data": {
      "application/vnd.jupyter.widget-view+json": {
       "model_id": "",
       "version_major": 2,
       "version_minor": 0
      },
      "text/plain": [
       "[MNIST | ADAM, LR = 0.001 | LAYERS = (784,128) (128,64,10) | DIFF WEIGHT 1 | 4 CLAUSES | JOINT] Run #1, Epoch …"
      ]
     },
     "metadata": {},
     "output_type": "display_data"
    },
    {
     "data": {
      "application/vnd.jupyter.widget-view+json": {
       "model_id": "",
       "version_major": 2,
       "version_minor": 0
      },
      "text/plain": [
       "[MNIST | ADAM, LR = 0.001 | LAYERS = (784,128) (128,64,10) | DIFF WEIGHT 1 | 4 CLAUSES | JOINT] Run #1, Epoch …"
      ]
     },
     "metadata": {},
     "output_type": "display_data"
    },
    {
     "data": {
      "application/vnd.jupyter.widget-view+json": {
       "model_id": "",
       "version_major": 2,
       "version_minor": 0
      },
      "text/plain": [
       "[MNIST | ADAM, LR = 0.001 | LAYERS = (784,128) (128,64,10) | DIFF WEIGHT 1 | 4 CLAUSES | JOINT] Run #1, Epoch …"
      ]
     },
     "metadata": {},
     "output_type": "display_data"
    },
    {
     "data": {
      "application/vnd.jupyter.widget-view+json": {
       "model_id": "",
       "version_major": 2,
       "version_minor": 0
      },
      "text/plain": [
       "[MNIST | ADAM, LR = 0.001 | LAYERS = (784,128) (128,64,10) | DIFF WEIGHT 1 | 4 CLAUSES | JOINT] Run #1, Epoch …"
      ]
     },
     "metadata": {},
     "output_type": "display_data"
    },
    {
     "data": {
      "application/vnd.jupyter.widget-view+json": {
       "model_id": "",
       "version_major": 2,
       "version_minor": 0
      },
      "text/plain": [
       "[MNIST | ADAM, LR = 0.001 | LAYERS = (784,128) (128,64,10) | DIFF WEIGHT 1 | 4 CLAUSES | JOINT] Run #1, Epoch …"
      ]
     },
     "metadata": {},
     "output_type": "display_data"
    },
    {
     "data": {
      "application/vnd.jupyter.widget-view+json": {
       "model_id": "",
       "version_major": 2,
       "version_minor": 0
      },
      "text/plain": [
       "[MNIST | ADAM, LR = 0.001 | LAYERS = (784,128) (128,64,10) | DIFF WEIGHT 1 | 4 CLAUSES | JOINT] Run #1, Epoch …"
      ]
     },
     "metadata": {},
     "output_type": "display_data"
    },
    {
     "data": {
      "application/vnd.jupyter.widget-view+json": {
       "model_id": "",
       "version_major": 2,
       "version_minor": 0
      },
      "text/plain": [
       "[MNIST | ADAM, LR = 0.001 | LAYERS = (784,128) (128,64,10) | DIFF WEIGHT 1 | 4 CLAUSES | JOINT] Run #1, Epoch …"
      ]
     },
     "metadata": {},
     "output_type": "display_data"
    },
    {
     "data": {
      "application/vnd.jupyter.widget-view+json": {
       "model_id": "",
       "version_major": 2,
       "version_minor": 0
      },
      "text/plain": [
       "[MNIST | ADAM, LR = 0.001 | LAYERS = (784,128) (128,64,10) | DIFF WEIGHT 1 | 4 CLAUSES | JOINT] Run #1, Epoch …"
      ]
     },
     "metadata": {},
     "output_type": "display_data"
    },
    {
     "data": {
      "application/vnd.jupyter.widget-view+json": {
       "model_id": "",
       "version_major": 2,
       "version_minor": 0
      },
      "text/plain": [
       "[MNIST | ADAM, LR = 0.001 | LAYERS = (784,128) (128,64,10) | DIFF WEIGHT 1 | 4 CLAUSES | JOINT] Run #1, Epoch …"
      ]
     },
     "metadata": {},
     "output_type": "display_data"
    },
    {
     "data": {
      "application/vnd.jupyter.widget-view+json": {
       "model_id": "",
       "version_major": 2,
       "version_minor": 0
      },
      "text/plain": [
       "[MNIST | ADAM, LR = 0.001 | LAYERS = (784,128) (128,64,10) | DIFF WEIGHT 1 | 4 CLAUSES | JOINT] Run #1, Epoch …"
      ]
     },
     "metadata": {},
     "output_type": "display_data"
    },
    {
     "data": {
      "application/vnd.jupyter.widget-view+json": {
       "model_id": "",
       "version_major": 2,
       "version_minor": 0
      },
      "text/plain": [
       "[MNIST | ADAM, LR = 0.001 | LAYERS = (784,128) (128,64,10) | DIFF WEIGHT 1 | 4 CLAUSES | JOINT] Run #1, Epoch …"
      ]
     },
     "metadata": {},
     "output_type": "display_data"
    },
    {
     "data": {
      "application/vnd.jupyter.widget-view+json": {
       "model_id": "",
       "version_major": 2,
       "version_minor": 0
      },
      "text/plain": [
       "[MNIST | ADAM, LR = 0.001 | LAYERS = (784,128) (128,64,10) | DIFF WEIGHT 1 | 4 CLAUSES | JOINT] Run #1, Epoch …"
      ]
     },
     "metadata": {},
     "output_type": "display_data"
    },
    {
     "data": {
      "application/vnd.jupyter.widget-view+json": {
       "model_id": "",
       "version_major": 2,
       "version_minor": 0
      },
      "text/plain": [
       "[MNIST | ADAM, LR = 0.001 | LAYERS = (784,128) (128,64,10) | DIFF WEIGHT 1 | 4 CLAUSES | JOINT] Run #1, Epoch …"
      ]
     },
     "metadata": {},
     "output_type": "display_data"
    },
    {
     "data": {
      "application/vnd.jupyter.widget-view+json": {
       "model_id": "",
       "version_major": 2,
       "version_minor": 0
      },
      "text/plain": [
       "[MNIST | ADAM, LR = 0.001 | LAYERS = (784,128) (128,64,10) | DIFF WEIGHT 1 | 4 CLAUSES | JOINT] Run #1, Epoch …"
      ]
     },
     "metadata": {},
     "output_type": "display_data"
    },
    {
     "data": {
      "application/vnd.jupyter.widget-view+json": {
       "model_id": "",
       "version_major": 2,
       "version_minor": 0
      },
      "text/plain": [
       "[MNIST | ADAM, LR = 0.001 | LAYERS = (784,128) (128,64,10) | DIFF WEIGHT 1 | 4 CLAUSES | JOINT] Run #1, Epoch …"
      ]
     },
     "metadata": {},
     "output_type": "display_data"
    },
    {
     "data": {
      "application/vnd.jupyter.widget-view+json": {
       "model_id": "",
       "version_major": 2,
       "version_minor": 0
      },
      "text/plain": [
       "[MNIST | ADAM, LR = 0.001 | LAYERS = (784,128) (128,64,10) | DIFF WEIGHT 1 | 4 CLAUSES | JOINT] Run #1, Epoch …"
      ]
     },
     "metadata": {},
     "output_type": "display_data"
    },
    {
     "data": {
      "application/vnd.jupyter.widget-view+json": {
       "model_id": "",
       "version_major": 2,
       "version_minor": 0
      },
      "text/plain": [
       "[MNIST | ADAM, LR = 0.001 | LAYERS = (784,128) (128,64,10) | DIFF WEIGHT 1 | 4 CLAUSES | JOINT] Run #1, Epoch …"
      ]
     },
     "metadata": {},
     "output_type": "display_data"
    },
    {
     "data": {
      "application/vnd.jupyter.widget-view+json": {
       "model_id": "",
       "version_major": 2,
       "version_minor": 0
      },
      "text/plain": [
       "[MNIST | ADAM, LR = 0.001 | LAYERS = (784,128) (128,64,10) | DIFF WEIGHT 1 | 4 CLAUSES | JOINT] Run #1, Epoch …"
      ]
     },
     "metadata": {},
     "output_type": "display_data"
    },
    {
     "data": {
      "application/vnd.jupyter.widget-view+json": {
       "model_id": "",
       "version_major": 2,
       "version_minor": 0
      },
      "text/plain": [
       "[MNIST | ADAM, LR = 0.001 | LAYERS = (784,128) (128,64,10) | DIFF WEIGHT 1 | 4 CLAUSES | JOINT] Run #1, Epoch …"
      ]
     },
     "metadata": {},
     "output_type": "display_data"
    },
    {
     "data": {
      "application/vnd.jupyter.widget-view+json": {
       "model_id": "",
       "version_major": 2,
       "version_minor": 0
      },
      "text/plain": [
       "[MNIST | ADAM, LR = 0.001 | LAYERS = (784,128) (128,64,10) | DIFF WEIGHT 1 | 4 CLAUSES | JOINT] Run #1, Epoch …"
      ]
     },
     "metadata": {},
     "output_type": "display_data"
    },
    {
     "data": {
      "application/vnd.jupyter.widget-view+json": {
       "model_id": "",
       "version_major": 2,
       "version_minor": 0
      },
      "text/plain": [
       "[MNIST | ADAM, LR = 0.001 | LAYERS = (784,128) (128,64,10) | DIFF WEIGHT 1 | 4 CLAUSES | JOINT] Run #1, Epoch …"
      ]
     },
     "metadata": {},
     "output_type": "display_data"
    },
    {
     "data": {
      "application/vnd.jupyter.widget-view+json": {
       "model_id": "",
       "version_major": 2,
       "version_minor": 0
      },
      "text/plain": [
       "[MNIST | ADAM, LR = 0.001 | LAYERS = (784,128) (128,64,10) | DIFF WEIGHT 0.01 | 4 CLAUSES | JOINT] Run #1, Epo…"
      ]
     },
     "metadata": {},
     "output_type": "display_data"
    },
    {
     "data": {
      "application/vnd.jupyter.widget-view+json": {
       "model_id": "",
       "version_major": 2,
       "version_minor": 0
      },
      "text/plain": [
       "[MNIST | ADAM, LR = 0.001 | LAYERS = (784,128) (128,64,10) | DIFF WEIGHT 0.01 | 4 CLAUSES | JOINT] Run #1, Epo…"
      ]
     },
     "metadata": {},
     "output_type": "display_data"
    },
    {
     "data": {
      "application/vnd.jupyter.widget-view+json": {
       "model_id": "",
       "version_major": 2,
       "version_minor": 0
      },
      "text/plain": [
       "[MNIST | ADAM, LR = 0.001 | LAYERS = (784,128) (128,64,10) | DIFF WEIGHT 0.01 | 4 CLAUSES | JOINT] Run #1, Epo…"
      ]
     },
     "metadata": {},
     "output_type": "display_data"
    },
    {
     "data": {
      "application/vnd.jupyter.widget-view+json": {
       "model_id": "",
       "version_major": 2,
       "version_minor": 0
      },
      "text/plain": [
       "[MNIST | ADAM, LR = 0.001 | LAYERS = (784,128) (128,64,10) | DIFF WEIGHT 0.01 | 4 CLAUSES | JOINT] Run #1, Epo…"
      ]
     },
     "metadata": {},
     "output_type": "display_data"
    },
    {
     "data": {
      "application/vnd.jupyter.widget-view+json": {
       "model_id": "",
       "version_major": 2,
       "version_minor": 0
      },
      "text/plain": [
       "[MNIST | ADAM, LR = 0.001 | LAYERS = (784,128) (128,64,10) | DIFF WEIGHT 0.01 | 4 CLAUSES | JOINT] Run #1, Epo…"
      ]
     },
     "metadata": {},
     "output_type": "display_data"
    },
    {
     "data": {
      "application/vnd.jupyter.widget-view+json": {
       "model_id": "",
       "version_major": 2,
       "version_minor": 0
      },
      "text/plain": [
       "[MNIST | ADAM, LR = 0.001 | LAYERS = (784,128) (128,64,10) | DIFF WEIGHT 0.01 | 4 CLAUSES | JOINT] Run #1, Epo…"
      ]
     },
     "metadata": {},
     "output_type": "display_data"
    },
    {
     "data": {
      "application/vnd.jupyter.widget-view+json": {
       "model_id": "",
       "version_major": 2,
       "version_minor": 0
      },
      "text/plain": [
       "[MNIST | ADAM, LR = 0.001 | LAYERS = (784,128) (128,64,10) | DIFF WEIGHT 0.01 | 4 CLAUSES | JOINT] Run #1, Epo…"
      ]
     },
     "metadata": {},
     "output_type": "display_data"
    },
    {
     "data": {
      "application/vnd.jupyter.widget-view+json": {
       "model_id": "",
       "version_major": 2,
       "version_minor": 0
      },
      "text/plain": [
       "[MNIST | ADAM, LR = 0.001 | LAYERS = (784,128) (128,64,10) | DIFF WEIGHT 0.01 | 4 CLAUSES | JOINT] Run #1, Epo…"
      ]
     },
     "metadata": {},
     "output_type": "display_data"
    },
    {
     "data": {
      "application/vnd.jupyter.widget-view+json": {
       "model_id": "",
       "version_major": 2,
       "version_minor": 0
      },
      "text/plain": [
       "[MNIST | ADAM, LR = 0.001 | LAYERS = (784,128) (128,64,10) | DIFF WEIGHT 0.01 | 4 CLAUSES | JOINT] Run #1, Epo…"
      ]
     },
     "metadata": {},
     "output_type": "display_data"
    },
    {
     "data": {
      "application/vnd.jupyter.widget-view+json": {
       "model_id": "",
       "version_major": 2,
       "version_minor": 0
      },
      "text/plain": [
       "[MNIST | ADAM, LR = 0.001 | LAYERS = (784,128) (128,64,10) | DIFF WEIGHT 0.01 | 4 CLAUSES | JOINT] Run #1, Epo…"
      ]
     },
     "metadata": {},
     "output_type": "display_data"
    },
    {
     "data": {
      "application/vnd.jupyter.widget-view+json": {
       "model_id": "",
       "version_major": 2,
       "version_minor": 0
      },
      "text/plain": [
       "[MNIST | ADAM, LR = 0.001 | LAYERS = (784,128) (128,64,10) | DIFF WEIGHT 0.01 | 4 CLAUSES | JOINT] Run #1, Epo…"
      ]
     },
     "metadata": {},
     "output_type": "display_data"
    },
    {
     "data": {
      "application/vnd.jupyter.widget-view+json": {
       "model_id": "",
       "version_major": 2,
       "version_minor": 0
      },
      "text/plain": [
       "[MNIST | ADAM, LR = 0.001 | LAYERS = (784,128) (128,64,10) | DIFF WEIGHT 0.01 | 4 CLAUSES | JOINT] Run #1, Epo…"
      ]
     },
     "metadata": {},
     "output_type": "display_data"
    },
    {
     "data": {
      "application/vnd.jupyter.widget-view+json": {
       "model_id": "",
       "version_major": 2,
       "version_minor": 0
      },
      "text/plain": [
       "[MNIST | ADAM, LR = 0.001 | LAYERS = (784,128) (128,64,10) | DIFF WEIGHT 0.01 | 4 CLAUSES | JOINT] Run #1, Epo…"
      ]
     },
     "metadata": {},
     "output_type": "display_data"
    },
    {
     "data": {
      "application/vnd.jupyter.widget-view+json": {
       "model_id": "",
       "version_major": 2,
       "version_minor": 0
      },
      "text/plain": [
       "[MNIST | ADAM, LR = 0.001 | LAYERS = (784,128) (128,64,10) | DIFF WEIGHT 0.01 | 4 CLAUSES | JOINT] Run #1, Epo…"
      ]
     },
     "metadata": {},
     "output_type": "display_data"
    },
    {
     "data": {
      "application/vnd.jupyter.widget-view+json": {
       "model_id": "",
       "version_major": 2,
       "version_minor": 0
      },
      "text/plain": [
       "[MNIST | ADAM, LR = 0.001 | LAYERS = (784,128) (128,64,10) | DIFF WEIGHT 0.01 | 4 CLAUSES | JOINT] Run #1, Epo…"
      ]
     },
     "metadata": {},
     "output_type": "display_data"
    },
    {
     "data": {
      "application/vnd.jupyter.widget-view+json": {
       "model_id": "",
       "version_major": 2,
       "version_minor": 0
      },
      "text/plain": [
       "[MNIST | ADAM, LR = 0.001 | LAYERS = (784,128) (128,64,10) | DIFF WEIGHT 0.01 | 4 CLAUSES | JOINT] Run #1, Epo…"
      ]
     },
     "metadata": {},
     "output_type": "display_data"
    },
    {
     "data": {
      "application/vnd.jupyter.widget-view+json": {
       "model_id": "",
       "version_major": 2,
       "version_minor": 0
      },
      "text/plain": [
       "[MNIST | ADAM, LR = 0.001 | LAYERS = (784,128) (128,64,10) | DIFF WEIGHT 0.01 | 4 CLAUSES | JOINT] Run #1, Epo…"
      ]
     },
     "metadata": {},
     "output_type": "display_data"
    },
    {
     "data": {
      "application/vnd.jupyter.widget-view+json": {
       "model_id": "",
       "version_major": 2,
       "version_minor": 0
      },
      "text/plain": [
       "[MNIST | ADAM, LR = 0.001 | LAYERS = (784,128) (128,64,10) | DIFF WEIGHT 0.01 | 4 CLAUSES | JOINT] Run #1, Epo…"
      ]
     },
     "metadata": {},
     "output_type": "display_data"
    },
    {
     "data": {
      "application/vnd.jupyter.widget-view+json": {
       "model_id": "",
       "version_major": 2,
       "version_minor": 0
      },
      "text/plain": [
       "[MNIST | ADAM, LR = 0.001 | LAYERS = (784,128) (128,64,10) | DIFF WEIGHT 0.01 | 4 CLAUSES | JOINT] Run #1, Epo…"
      ]
     },
     "metadata": {},
     "output_type": "display_data"
    },
    {
     "data": {
      "application/vnd.jupyter.widget-view+json": {
       "model_id": "",
       "version_major": 2,
       "version_minor": 0
      },
      "text/plain": [
       "[MNIST | ADAM, LR = 0.001 | LAYERS = (784,128) (128,64,10) | DIFF WEIGHT 0.01 | 4 CLAUSES | JOINT] Run #1, Epo…"
      ]
     },
     "metadata": {},
     "output_type": "display_data"
    },
    {
     "data": {
      "application/vnd.jupyter.widget-view+json": {
       "model_id": "",
       "version_major": 2,
       "version_minor": 0
      },
      "text/plain": [
       "[MNIST | ADAM, LR = 0.001 | LAYERS = (784,128) (128,64,10) | DIFF WEIGHT 0.01 | 4 CLAUSES | JOINT] Run #1, Epo…"
      ]
     },
     "metadata": {},
     "output_type": "display_data"
    },
    {
     "data": {
      "application/vnd.jupyter.widget-view+json": {
       "model_id": "",
       "version_major": 2,
       "version_minor": 0
      },
      "text/plain": [
       "[MNIST | ADAM, LR = 0.001 | LAYERS = (784,128) (128,64,10) | DIFF WEIGHT 0.01 | 4 CLAUSES | JOINT] Run #1, Epo…"
      ]
     },
     "metadata": {},
     "output_type": "display_data"
    },
    {
     "data": {
      "application/vnd.jupyter.widget-view+json": {
       "model_id": "",
       "version_major": 2,
       "version_minor": 0
      },
      "text/plain": [
       "[MNIST | ADAM, LR = 0.001 | LAYERS = (784,128) (128,64,10) | DIFF WEIGHT 0.01 | 4 CLAUSES | JOINT] Run #1, Epo…"
      ]
     },
     "metadata": {},
     "output_type": "display_data"
    },
    {
     "data": {
      "application/vnd.jupyter.widget-view+json": {
       "model_id": "",
       "version_major": 2,
       "version_minor": 0
      },
      "text/plain": [
       "[MNIST | ADAM, LR = 0.001 | LAYERS = (784,128) (128,64,10) | DIFF WEIGHT 0.01 | 4 CLAUSES | JOINT] Run #1, Epo…"
      ]
     },
     "metadata": {},
     "output_type": "display_data"
    },
    {
     "data": {
      "application/vnd.jupyter.widget-view+json": {
       "model_id": "",
       "version_major": 2,
       "version_minor": 0
      },
      "text/plain": [
       "[MNIST | ADAM, LR = 0.001 | LAYERS = (784,128) (128,64,10) | DIFF WEIGHT 0.01 | 4 CLAUSES | JOINT] Run #1, Epo…"
      ]
     },
     "metadata": {},
     "output_type": "display_data"
    },
    {
     "data": {
      "application/vnd.jupyter.widget-view+json": {
       "model_id": "",
       "version_major": 2,
       "version_minor": 0
      },
      "text/plain": [
       "[MNIST | ADAM, LR = 0.001 | LAYERS = (784,128) (128,64,10) | DIFF WEIGHT 0.01 | 4 CLAUSES | JOINT] Run #1, Epo…"
      ]
     },
     "metadata": {},
     "output_type": "display_data"
    },
    {
     "data": {
      "application/vnd.jupyter.widget-view+json": {
       "model_id": "",
       "version_major": 2,
       "version_minor": 0
      },
      "text/plain": [
       "[MNIST | ADAM, LR = 0.001 | LAYERS = (784,128) (128,64,10) | DIFF WEIGHT 0.01 | 4 CLAUSES | JOINT] Run #1, Epo…"
      ]
     },
     "metadata": {},
     "output_type": "display_data"
    },
    {
     "data": {
      "application/vnd.jupyter.widget-view+json": {
       "model_id": "",
       "version_major": 2,
       "version_minor": 0
      },
      "text/plain": [
       "[MNIST | ADAM, LR = 0.001 | LAYERS = (784,128) (128,64,10) | DIFF WEIGHT 0.01 | 4 CLAUSES | JOINT] Run #1, Epo…"
      ]
     },
     "metadata": {},
     "output_type": "display_data"
    },
    {
     "data": {
      "application/vnd.jupyter.widget-view+json": {
       "model_id": "",
       "version_major": 2,
       "version_minor": 0
      },
      "text/plain": [
       "[MNIST | ADAM, LR = 0.001 | LAYERS = (784,128) (128,64,10) | DIFF WEIGHT 0.01 | 4 CLAUSES | JOINT] Run #1, Epo…"
      ]
     },
     "metadata": {},
     "output_type": "display_data"
    },
    {
     "data": {
      "application/vnd.jupyter.widget-view+json": {
       "model_id": "",
       "version_major": 2,
       "version_minor": 0
      },
      "text/plain": [
       "[MNIST | ADAM, LR = 0.001 | LAYERS = (784,128) (128,64,10) | DIFF WEIGHT 0.01 | 4 CLAUSES | JOINT] Run #1, Epo…"
      ]
     },
     "metadata": {},
     "output_type": "display_data"
    },
    {
     "data": {
      "application/vnd.jupyter.widget-view+json": {
       "model_id": "",
       "version_major": 2,
       "version_minor": 0
      },
      "text/plain": [
       "[MNIST | ADAM, LR = 0.001 | LAYERS = (784,128) (128,64,10) | DIFF WEIGHT 1 | 4 CLAUSES | JOINT] Run #1, Epoch …"
      ]
     },
     "metadata": {},
     "output_type": "display_data"
    },
    {
     "data": {
      "application/vnd.jupyter.widget-view+json": {
       "model_id": "",
       "version_major": 2,
       "version_minor": 0
      },
      "text/plain": [
       "[MNIST | ADAM, LR = 0.001 | LAYERS = (784,128) (128,64,10) | DIFF WEIGHT 1 | 4 CLAUSES | JOINT] Run #1, Epoch …"
      ]
     },
     "metadata": {},
     "output_type": "display_data"
    },
    {
     "data": {
      "application/vnd.jupyter.widget-view+json": {
       "model_id": "",
       "version_major": 2,
       "version_minor": 0
      },
      "text/plain": [
       "[MNIST | ADAM, LR = 0.001 | LAYERS = (784,128) (128,64,10) | DIFF WEIGHT 1 | 4 CLAUSES | JOINT] Run #1, Epoch …"
      ]
     },
     "metadata": {},
     "output_type": "display_data"
    },
    {
     "data": {
      "application/vnd.jupyter.widget-view+json": {
       "model_id": "",
       "version_major": 2,
       "version_minor": 0
      },
      "text/plain": [
       "[MNIST | ADAM, LR = 0.001 | LAYERS = (784,128) (128,64,10) | DIFF WEIGHT 1 | 4 CLAUSES | JOINT] Run #1, Epoch …"
      ]
     },
     "metadata": {},
     "output_type": "display_data"
    },
    {
     "data": {
      "application/vnd.jupyter.widget-view+json": {
       "model_id": "",
       "version_major": 2,
       "version_minor": 0
      },
      "text/plain": [
       "[MNIST | ADAM, LR = 0.001 | LAYERS = (784,128) (128,64,10) | DIFF WEIGHT 1 | 4 CLAUSES | JOINT] Run #1, Epoch …"
      ]
     },
     "metadata": {},
     "output_type": "display_data"
    },
    {
     "data": {
      "application/vnd.jupyter.widget-view+json": {
       "model_id": "",
       "version_major": 2,
       "version_minor": 0
      },
      "text/plain": [
       "[MNIST | ADAM, LR = 0.001 | LAYERS = (784,128) (128,64,10) | DIFF WEIGHT 1 | 4 CLAUSES | JOINT] Run #1, Epoch …"
      ]
     },
     "metadata": {},
     "output_type": "display_data"
    },
    {
     "data": {
      "application/vnd.jupyter.widget-view+json": {
       "model_id": "",
       "version_major": 2,
       "version_minor": 0
      },
      "text/plain": [
       "[MNIST | ADAM, LR = 0.001 | LAYERS = (784,128) (128,64,10) | DIFF WEIGHT 1 | 4 CLAUSES | JOINT] Run #1, Epoch …"
      ]
     },
     "metadata": {},
     "output_type": "display_data"
    },
    {
     "data": {
      "application/vnd.jupyter.widget-view+json": {
       "model_id": "",
       "version_major": 2,
       "version_minor": 0
      },
      "text/plain": [
       "[MNIST | ADAM, LR = 0.001 | LAYERS = (784,128) (128,64,10) | DIFF WEIGHT 1 | 4 CLAUSES | JOINT] Run #1, Epoch …"
      ]
     },
     "metadata": {},
     "output_type": "display_data"
    },
    {
     "data": {
      "application/vnd.jupyter.widget-view+json": {
       "model_id": "",
       "version_major": 2,
       "version_minor": 0
      },
      "text/plain": [
       "[MNIST | ADAM, LR = 0.001 | LAYERS = (784,128) (128,64,10) | DIFF WEIGHT 1 | 4 CLAUSES | JOINT] Run #1, Epoch …"
      ]
     },
     "metadata": {},
     "output_type": "display_data"
    },
    {
     "data": {
      "application/vnd.jupyter.widget-view+json": {
       "model_id": "",
       "version_major": 2,
       "version_minor": 0
      },
      "text/plain": [
       "[MNIST | ADAM, LR = 0.001 | LAYERS = (784,128) (128,64,10) | DIFF WEIGHT 1 | 4 CLAUSES | JOINT] Run #1, Epoch …"
      ]
     },
     "metadata": {},
     "output_type": "display_data"
    },
    {
     "data": {
      "application/vnd.jupyter.widget-view+json": {
       "model_id": "",
       "version_major": 2,
       "version_minor": 0
      },
      "text/plain": [
       "[MNIST | ADAM, LR = 0.001 | LAYERS = (784,128) (128,64,10) | DIFF WEIGHT 1 | 4 CLAUSES | JOINT] Run #1, Epoch …"
      ]
     },
     "metadata": {},
     "output_type": "display_data"
    },
    {
     "data": {
      "application/vnd.jupyter.widget-view+json": {
       "model_id": "",
       "version_major": 2,
       "version_minor": 0
      },
      "text/plain": [
       "[MNIST | ADAM, LR = 0.001 | LAYERS = (784,128) (128,64,10) | DIFF WEIGHT 1 | 4 CLAUSES | JOINT] Run #1, Epoch …"
      ]
     },
     "metadata": {},
     "output_type": "display_data"
    },
    {
     "data": {
      "application/vnd.jupyter.widget-view+json": {
       "model_id": "",
       "version_major": 2,
       "version_minor": 0
      },
      "text/plain": [
       "[MNIST | ADAM, LR = 0.001 | LAYERS = (784,128) (128,64,10) | DIFF WEIGHT 1 | 4 CLAUSES | JOINT] Run #1, Epoch …"
      ]
     },
     "metadata": {},
     "output_type": "display_data"
    },
    {
     "data": {
      "application/vnd.jupyter.widget-view+json": {
       "model_id": "",
       "version_major": 2,
       "version_minor": 0
      },
      "text/plain": [
       "[MNIST | ADAM, LR = 0.001 | LAYERS = (784,128) (128,64,10) | DIFF WEIGHT 1 | 4 CLAUSES | JOINT] Run #1, Epoch …"
      ]
     },
     "metadata": {},
     "output_type": "display_data"
    },
    {
     "data": {
      "application/vnd.jupyter.widget-view+json": {
       "model_id": "",
       "version_major": 2,
       "version_minor": 0
      },
      "text/plain": [
       "[MNIST | ADAM, LR = 0.001 | LAYERS = (784,128) (128,64,10) | DIFF WEIGHT 1 | 4 CLAUSES | JOINT] Run #1, Epoch …"
      ]
     },
     "metadata": {},
     "output_type": "display_data"
    },
    {
     "data": {
      "application/vnd.jupyter.widget-view+json": {
       "model_id": "",
       "version_major": 2,
       "version_minor": 0
      },
      "text/plain": [
       "[MNIST | ADAM, LR = 0.001 | LAYERS = (784,128) (128,64,10) | DIFF WEIGHT 1 | 4 CLAUSES | JOINT] Run #1, Epoch …"
      ]
     },
     "metadata": {},
     "output_type": "display_data"
    },
    {
     "data": {
      "application/vnd.jupyter.widget-view+json": {
       "model_id": "",
       "version_major": 2,
       "version_minor": 0
      },
      "text/plain": [
       "[MNIST | ADAM, LR = 0.001 | LAYERS = (784,128) (128,64,10) | DIFF WEIGHT 1 | 4 CLAUSES | JOINT] Run #1, Epoch …"
      ]
     },
     "metadata": {},
     "output_type": "display_data"
    },
    {
     "data": {
      "application/vnd.jupyter.widget-view+json": {
       "model_id": "",
       "version_major": 2,
       "version_minor": 0
      },
      "text/plain": [
       "[MNIST | ADAM, LR = 0.001 | LAYERS = (784,128) (128,64,10) | DIFF WEIGHT 1 | 4 CLAUSES | JOINT] Run #1, Epoch …"
      ]
     },
     "metadata": {},
     "output_type": "display_data"
    },
    {
     "data": {
      "application/vnd.jupyter.widget-view+json": {
       "model_id": "",
       "version_major": 2,
       "version_minor": 0
      },
      "text/plain": [
       "[MNIST | ADAM, LR = 0.001 | LAYERS = (784,128) (128,64,10) | DIFF WEIGHT 1 | 4 CLAUSES | JOINT] Run #1, Epoch …"
      ]
     },
     "metadata": {},
     "output_type": "display_data"
    },
    {
     "data": {
      "application/vnd.jupyter.widget-view+json": {
       "model_id": "",
       "version_major": 2,
       "version_minor": 0
      },
      "text/plain": [
       "[MNIST | ADAM, LR = 0.001 | LAYERS = (784,128) (128,64,10) | DIFF WEIGHT 1 | 4 CLAUSES | JOINT] Run #1, Epoch …"
      ]
     },
     "metadata": {},
     "output_type": "display_data"
    },
    {
     "data": {
      "application/vnd.jupyter.widget-view+json": {
       "model_id": "",
       "version_major": 2,
       "version_minor": 0
      },
      "text/plain": [
       "[MNIST | ADAM, LR = 0.001 | LAYERS = (784,128) (128,64,10) | DIFF WEIGHT 1 | 4 CLAUSES | JOINT] Run #1, Epoch …"
      ]
     },
     "metadata": {},
     "output_type": "display_data"
    },
    {
     "data": {
      "application/vnd.jupyter.widget-view+json": {
       "model_id": "",
       "version_major": 2,
       "version_minor": 0
      },
      "text/plain": [
       "[MNIST | ADAM, LR = 0.001 | LAYERS = (784,128) (128,64,10) | DIFF WEIGHT 1 | 4 CLAUSES | JOINT] Run #1, Epoch …"
      ]
     },
     "metadata": {},
     "output_type": "display_data"
    },
    {
     "data": {
      "application/vnd.jupyter.widget-view+json": {
       "model_id": "",
       "version_major": 2,
       "version_minor": 0
      },
      "text/plain": [
       "[MNIST | ADAM, LR = 0.001 | LAYERS = (784,128) (128,64,10) | DIFF WEIGHT 1 | 4 CLAUSES | JOINT] Run #1, Epoch …"
      ]
     },
     "metadata": {},
     "output_type": "display_data"
    },
    {
     "data": {
      "application/vnd.jupyter.widget-view+json": {
       "model_id": "",
       "version_major": 2,
       "version_minor": 0
      },
      "text/plain": [
       "[MNIST | ADAM, LR = 0.001 | LAYERS = (784,128) (128,64,10) | DIFF WEIGHT 1 | 4 CLAUSES | JOINT] Run #1, Epoch …"
      ]
     },
     "metadata": {},
     "output_type": "display_data"
    },
    {
     "data": {
      "application/vnd.jupyter.widget-view+json": {
       "model_id": "",
       "version_major": 2,
       "version_minor": 0
      },
      "text/plain": [
       "[MNIST | ADAM, LR = 0.001 | LAYERS = (784,128) (128,64,10) | DIFF WEIGHT 1 | 4 CLAUSES | JOINT] Run #1, Epoch …"
      ]
     },
     "metadata": {},
     "output_type": "display_data"
    },
    {
     "data": {
      "application/vnd.jupyter.widget-view+json": {
       "model_id": "",
       "version_major": 2,
       "version_minor": 0
      },
      "text/plain": [
       "[MNIST | ADAM, LR = 0.001 | LAYERS = (784,128) (128,64,10) | DIFF WEIGHT 1 | 4 CLAUSES | JOINT] Run #1, Epoch …"
      ]
     },
     "metadata": {},
     "output_type": "display_data"
    },
    {
     "data": {
      "application/vnd.jupyter.widget-view+json": {
       "model_id": "",
       "version_major": 2,
       "version_minor": 0
      },
      "text/plain": [
       "[MNIST | ADAM, LR = 0.001 | LAYERS = (784,128) (128,64,10) | DIFF WEIGHT 1 | 4 CLAUSES | JOINT] Run #1, Epoch …"
      ]
     },
     "metadata": {},
     "output_type": "display_data"
    },
    {
     "data": {
      "application/vnd.jupyter.widget-view+json": {
       "model_id": "",
       "version_major": 2,
       "version_minor": 0
      },
      "text/plain": [
       "[MNIST | ADAM, LR = 0.001 | LAYERS = (784,128) (128,64,10) | DIFF WEIGHT 1 | 4 CLAUSES | JOINT] Run #1, Epoch …"
      ]
     },
     "metadata": {},
     "output_type": "display_data"
    },
    {
     "data": {
      "application/vnd.jupyter.widget-view+json": {
       "model_id": "",
       "version_major": 2,
       "version_minor": 0
      },
      "text/plain": [
       "[MNIST | ADAM, LR = 0.001 | LAYERS = (784,128) (128,64,10) | DIFF WEIGHT 1 | 4 CLAUSES | JOINT] Run #1, Epoch …"
      ]
     },
     "metadata": {},
     "output_type": "display_data"
    },
    {
     "data": {
      "application/vnd.jupyter.widget-view+json": {
       "model_id": "",
       "version_major": 2,
       "version_minor": 0
      },
      "text/plain": [
       "[MNIST | ADAM, LR = 0.001 | LAYERS = (784,128) (128,64,10) | DIFF WEIGHT 1 | 4 CLAUSES | JOINT] Run #1, Epoch …"
      ]
     },
     "metadata": {},
     "output_type": "display_data"
    },
    {
     "data": {
      "application/vnd.jupyter.widget-view+json": {
       "model_id": "",
       "version_major": 2,
       "version_minor": 0
      },
      "text/plain": [
       "[MNIST | ADAM, LR = 0.001 | LAYERS = (784,128) (128,64,10) | DIFF WEIGHT 0.01 | 4 CLAUSES | JOINT] Run #1, Epo…"
      ]
     },
     "metadata": {},
     "output_type": "display_data"
    },
    {
     "data": {
      "application/vnd.jupyter.widget-view+json": {
       "model_id": "",
       "version_major": 2,
       "version_minor": 0
      },
      "text/plain": [
       "[MNIST | ADAM, LR = 0.001 | LAYERS = (784,128) (128,64,10) | DIFF WEIGHT 0.01 | 4 CLAUSES | JOINT] Run #1, Epo…"
      ]
     },
     "metadata": {},
     "output_type": "display_data"
    },
    {
     "data": {
      "application/vnd.jupyter.widget-view+json": {
       "model_id": "",
       "version_major": 2,
       "version_minor": 0
      },
      "text/plain": [
       "[MNIST | ADAM, LR = 0.001 | LAYERS = (784,128) (128,64,10) | DIFF WEIGHT 0.01 | 4 CLAUSES | JOINT] Run #1, Epo…"
      ]
     },
     "metadata": {},
     "output_type": "display_data"
    },
    {
     "data": {
      "application/vnd.jupyter.widget-view+json": {
       "model_id": "",
       "version_major": 2,
       "version_minor": 0
      },
      "text/plain": [
       "[MNIST | ADAM, LR = 0.001 | LAYERS = (784,128) (128,64,10) | DIFF WEIGHT 0.01 | 4 CLAUSES | JOINT] Run #1, Epo…"
      ]
     },
     "metadata": {},
     "output_type": "display_data"
    },
    {
     "data": {
      "application/vnd.jupyter.widget-view+json": {
       "model_id": "",
       "version_major": 2,
       "version_minor": 0
      },
      "text/plain": [
       "[MNIST | ADAM, LR = 0.001 | LAYERS = (784,128) (128,64,10) | DIFF WEIGHT 0.01 | 4 CLAUSES | JOINT] Run #1, Epo…"
      ]
     },
     "metadata": {},
     "output_type": "display_data"
    },
    {
     "data": {
      "application/vnd.jupyter.widget-view+json": {
       "model_id": "",
       "version_major": 2,
       "version_minor": 0
      },
      "text/plain": [
       "[MNIST | ADAM, LR = 0.001 | LAYERS = (784,128) (128,64,10) | DIFF WEIGHT 0.01 | 4 CLAUSES | JOINT] Run #1, Epo…"
      ]
     },
     "metadata": {},
     "output_type": "display_data"
    },
    {
     "data": {
      "application/vnd.jupyter.widget-view+json": {
       "model_id": "",
       "version_major": 2,
       "version_minor": 0
      },
      "text/plain": [
       "[MNIST | ADAM, LR = 0.001 | LAYERS = (784,128) (128,64,10) | DIFF WEIGHT 0.01 | 4 CLAUSES | JOINT] Run #1, Epo…"
      ]
     },
     "metadata": {},
     "output_type": "display_data"
    },
    {
     "data": {
      "application/vnd.jupyter.widget-view+json": {
       "model_id": "",
       "version_major": 2,
       "version_minor": 0
      },
      "text/plain": [
       "[MNIST | ADAM, LR = 0.001 | LAYERS = (784,128) (128,64,10) | DIFF WEIGHT 0.01 | 4 CLAUSES | JOINT] Run #1, Epo…"
      ]
     },
     "metadata": {},
     "output_type": "display_data"
    },
    {
     "data": {
      "application/vnd.jupyter.widget-view+json": {
       "model_id": "",
       "version_major": 2,
       "version_minor": 0
      },
      "text/plain": [
       "[MNIST | ADAM, LR = 0.001 | LAYERS = (784,128) (128,64,10) | DIFF WEIGHT 0.01 | 4 CLAUSES | JOINT] Run #1, Epo…"
      ]
     },
     "metadata": {},
     "output_type": "display_data"
    },
    {
     "data": {
      "application/vnd.jupyter.widget-view+json": {
       "model_id": "",
       "version_major": 2,
       "version_minor": 0
      },
      "text/plain": [
       "[MNIST | ADAM, LR = 0.001 | LAYERS = (784,128) (128,64,10) | DIFF WEIGHT 0.01 | 4 CLAUSES | JOINT] Run #1, Epo…"
      ]
     },
     "metadata": {},
     "output_type": "display_data"
    },
    {
     "data": {
      "application/vnd.jupyter.widget-view+json": {
       "model_id": "",
       "version_major": 2,
       "version_minor": 0
      },
      "text/plain": [
       "[MNIST | ADAM, LR = 0.001 | LAYERS = (784,128) (128,64,10) | DIFF WEIGHT 0.01 | 4 CLAUSES | JOINT] Run #1, Epo…"
      ]
     },
     "metadata": {},
     "output_type": "display_data"
    },
    {
     "data": {
      "application/vnd.jupyter.widget-view+json": {
       "model_id": "",
       "version_major": 2,
       "version_minor": 0
      },
      "text/plain": [
       "[MNIST | ADAM, LR = 0.001 | LAYERS = (784,128) (128,64,10) | DIFF WEIGHT 0.01 | 4 CLAUSES | JOINT] Run #1, Epo…"
      ]
     },
     "metadata": {},
     "output_type": "display_data"
    },
    {
     "data": {
      "application/vnd.jupyter.widget-view+json": {
       "model_id": "",
       "version_major": 2,
       "version_minor": 0
      },
      "text/plain": [
       "[MNIST | ADAM, LR = 0.001 | LAYERS = (784,128) (128,64,10) | DIFF WEIGHT 0.01 | 4 CLAUSES | JOINT] Run #1, Epo…"
      ]
     },
     "metadata": {},
     "output_type": "display_data"
    },
    {
     "data": {
      "application/vnd.jupyter.widget-view+json": {
       "model_id": "",
       "version_major": 2,
       "version_minor": 0
      },
      "text/plain": [
       "[MNIST | ADAM, LR = 0.001 | LAYERS = (784,128) (128,64,10) | DIFF WEIGHT 0.01 | 4 CLAUSES | JOINT] Run #1, Epo…"
      ]
     },
     "metadata": {},
     "output_type": "display_data"
    },
    {
     "data": {
      "application/vnd.jupyter.widget-view+json": {
       "model_id": "",
       "version_major": 2,
       "version_minor": 0
      },
      "text/plain": [
       "[MNIST | ADAM, LR = 0.001 | LAYERS = (784,128) (128,64,10) | DIFF WEIGHT 0.01 | 4 CLAUSES | JOINT] Run #1, Epo…"
      ]
     },
     "metadata": {},
     "output_type": "display_data"
    },
    {
     "data": {
      "application/vnd.jupyter.widget-view+json": {
       "model_id": "",
       "version_major": 2,
       "version_minor": 0
      },
      "text/plain": [
       "[MNIST | ADAM, LR = 0.001 | LAYERS = (784,128) (128,64,10) | DIFF WEIGHT 0.01 | 4 CLAUSES | JOINT] Run #1, Epo…"
      ]
     },
     "metadata": {},
     "output_type": "display_data"
    },
    {
     "data": {
      "application/vnd.jupyter.widget-view+json": {
       "model_id": "",
       "version_major": 2,
       "version_minor": 0
      },
      "text/plain": [
       "[MNIST | ADAM, LR = 0.001 | LAYERS = (784,128) (128,64,10) | DIFF WEIGHT 0.01 | 4 CLAUSES | JOINT] Run #1, Epo…"
      ]
     },
     "metadata": {},
     "output_type": "display_data"
    },
    {
     "data": {
      "application/vnd.jupyter.widget-view+json": {
       "model_id": "",
       "version_major": 2,
       "version_minor": 0
      },
      "text/plain": [
       "[MNIST | ADAM, LR = 0.001 | LAYERS = (784,128) (128,64,10) | DIFF WEIGHT 0.01 | 4 CLAUSES | JOINT] Run #1, Epo…"
      ]
     },
     "metadata": {},
     "output_type": "display_data"
    },
    {
     "data": {
      "application/vnd.jupyter.widget-view+json": {
       "model_id": "",
       "version_major": 2,
       "version_minor": 0
      },
      "text/plain": [
       "[MNIST | ADAM, LR = 0.001 | LAYERS = (784,128) (128,64,10) | DIFF WEIGHT 0.01 | 4 CLAUSES | JOINT] Run #1, Epo…"
      ]
     },
     "metadata": {},
     "output_type": "display_data"
    },
    {
     "data": {
      "application/vnd.jupyter.widget-view+json": {
       "model_id": "",
       "version_major": 2,
       "version_minor": 0
      },
      "text/plain": [
       "[MNIST | ADAM, LR = 0.001 | LAYERS = (784,128) (128,64,10) | DIFF WEIGHT 0.01 | 4 CLAUSES | JOINT] Run #1, Epo…"
      ]
     },
     "metadata": {},
     "output_type": "display_data"
    },
    {
     "data": {
      "application/vnd.jupyter.widget-view+json": {
       "model_id": "",
       "version_major": 2,
       "version_minor": 0
      },
      "text/plain": [
       "[MNIST | ADAM, LR = 0.001 | LAYERS = (784,128) (128,64,10) | DIFF WEIGHT 0.01 | 4 CLAUSES | JOINT] Run #1, Epo…"
      ]
     },
     "metadata": {},
     "output_type": "display_data"
    },
    {
     "data": {
      "application/vnd.jupyter.widget-view+json": {
       "model_id": "",
       "version_major": 2,
       "version_minor": 0
      },
      "text/plain": [
       "[MNIST | ADAM, LR = 0.001 | LAYERS = (784,128) (128,64,10) | DIFF WEIGHT 0.01 | 4 CLAUSES | JOINT] Run #1, Epo…"
      ]
     },
     "metadata": {},
     "output_type": "display_data"
    },
    {
     "data": {
      "application/vnd.jupyter.widget-view+json": {
       "model_id": "",
       "version_major": 2,
       "version_minor": 0
      },
      "text/plain": [
       "[MNIST | ADAM, LR = 0.001 | LAYERS = (784,128) (128,64,10) | DIFF WEIGHT 0.01 | 4 CLAUSES | JOINT] Run #1, Epo…"
      ]
     },
     "metadata": {},
     "output_type": "display_data"
    },
    {
     "data": {
      "application/vnd.jupyter.widget-view+json": {
       "model_id": "",
       "version_major": 2,
       "version_minor": 0
      },
      "text/plain": [
       "[MNIST | ADAM, LR = 0.001 | LAYERS = (784,128) (128,64,10) | DIFF WEIGHT 0.01 | 4 CLAUSES | JOINT] Run #1, Epo…"
      ]
     },
     "metadata": {},
     "output_type": "display_data"
    },
    {
     "data": {
      "application/vnd.jupyter.widget-view+json": {
       "model_id": "",
       "version_major": 2,
       "version_minor": 0
      },
      "text/plain": [
       "[MNIST | ADAM, LR = 0.001 | LAYERS = (784,128) (128,64,10) | DIFF WEIGHT 0.01 | 4 CLAUSES | JOINT] Run #1, Epo…"
      ]
     },
     "metadata": {},
     "output_type": "display_data"
    },
    {
     "data": {
      "application/vnd.jupyter.widget-view+json": {
       "model_id": "",
       "version_major": 2,
       "version_minor": 0
      },
      "text/plain": [
       "[MNIST | ADAM, LR = 0.001 | LAYERS = (784,128) (128,64,10) | DIFF WEIGHT 0.01 | 4 CLAUSES | JOINT] Run #1, Epo…"
      ]
     },
     "metadata": {},
     "output_type": "display_data"
    },
    {
     "data": {
      "application/vnd.jupyter.widget-view+json": {
       "model_id": "",
       "version_major": 2,
       "version_minor": 0
      },
      "text/plain": [
       "[MNIST | ADAM, LR = 0.001 | LAYERS = (784,128) (128,64,10) | DIFF WEIGHT 0.01 | 4 CLAUSES | JOINT] Run #1, Epo…"
      ]
     },
     "metadata": {},
     "output_type": "display_data"
    },
    {
     "data": {
      "application/vnd.jupyter.widget-view+json": {
       "model_id": "",
       "version_major": 2,
       "version_minor": 0
      },
      "text/plain": [
       "[MNIST | ADAM, LR = 0.001 | LAYERS = (784,128) (128,64,10) | DIFF WEIGHT 0.01 | 4 CLAUSES | JOINT] Run #1, Epo…"
      ]
     },
     "metadata": {},
     "output_type": "display_data"
    },
    {
     "data": {
      "application/vnd.jupyter.widget-view+json": {
       "model_id": "",
       "version_major": 2,
       "version_minor": 0
      },
      "text/plain": [
       "[MNIST | ADAM, LR = 0.001 | LAYERS = (784,128) (128,64,10) | DIFF WEIGHT 0.01 | 4 CLAUSES | JOINT] Run #1, Epo…"
      ]
     },
     "metadata": {},
     "output_type": "display_data"
    },
    {
     "data": {
      "application/vnd.jupyter.widget-view+json": {
       "model_id": "",
       "version_major": 2,
       "version_minor": 0
      },
      "text/plain": [
       "[MNIST | ADAM, LR = 0.001 | LAYERS = (784,128) (128,64,10) | DIFF WEIGHT 0.01 | 4 CLAUSES | JOINT] Run #1, Epo…"
      ]
     },
     "metadata": {},
     "output_type": "display_data"
    },
    {
     "data": {
      "application/vnd.jupyter.widget-view+json": {
       "model_id": "",
       "version_major": 2,
       "version_minor": 0
      },
      "text/plain": [
       "[MNIST | ADAM, LR = 0.001 | LAYERS = (784,128) (128,64,10) | DIFF WEIGHT 1 | 4 CLAUSES | JOINT] Run #1, Epoch …"
      ]
     },
     "metadata": {},
     "output_type": "display_data"
    },
    {
     "data": {
      "application/vnd.jupyter.widget-view+json": {
       "model_id": "",
       "version_major": 2,
       "version_minor": 0
      },
      "text/plain": [
       "[MNIST | ADAM, LR = 0.001 | LAYERS = (784,128) (128,64,10) | DIFF WEIGHT 1 | 4 CLAUSES | JOINT] Run #1, Epoch …"
      ]
     },
     "metadata": {},
     "output_type": "display_data"
    },
    {
     "data": {
      "application/vnd.jupyter.widget-view+json": {
       "model_id": "",
       "version_major": 2,
       "version_minor": 0
      },
      "text/plain": [
       "[MNIST | ADAM, LR = 0.001 | LAYERS = (784,128) (128,64,10) | DIFF WEIGHT 1 | 4 CLAUSES | JOINT] Run #1, Epoch …"
      ]
     },
     "metadata": {},
     "output_type": "display_data"
    },
    {
     "data": {
      "application/vnd.jupyter.widget-view+json": {
       "model_id": "",
       "version_major": 2,
       "version_minor": 0
      },
      "text/plain": [
       "[MNIST | ADAM, LR = 0.001 | LAYERS = (784,128) (128,64,10) | DIFF WEIGHT 1 | 4 CLAUSES | JOINT] Run #1, Epoch …"
      ]
     },
     "metadata": {},
     "output_type": "display_data"
    },
    {
     "data": {
      "application/vnd.jupyter.widget-view+json": {
       "model_id": "",
       "version_major": 2,
       "version_minor": 0
      },
      "text/plain": [
       "[MNIST | ADAM, LR = 0.001 | LAYERS = (784,128) (128,64,10) | DIFF WEIGHT 1 | 4 CLAUSES | JOINT] Run #1, Epoch …"
      ]
     },
     "metadata": {},
     "output_type": "display_data"
    },
    {
     "data": {
      "application/vnd.jupyter.widget-view+json": {
       "model_id": "",
       "version_major": 2,
       "version_minor": 0
      },
      "text/plain": [
       "[MNIST | ADAM, LR = 0.001 | LAYERS = (784,128) (128,64,10) | DIFF WEIGHT 1 | 4 CLAUSES | JOINT] Run #1, Epoch …"
      ]
     },
     "metadata": {},
     "output_type": "display_data"
    },
    {
     "data": {
      "application/vnd.jupyter.widget-view+json": {
       "model_id": "",
       "version_major": 2,
       "version_minor": 0
      },
      "text/plain": [
       "[MNIST | ADAM, LR = 0.001 | LAYERS = (784,128) (128,64,10) | DIFF WEIGHT 1 | 4 CLAUSES | JOINT] Run #1, Epoch …"
      ]
     },
     "metadata": {},
     "output_type": "display_data"
    },
    {
     "data": {
      "application/vnd.jupyter.widget-view+json": {
       "model_id": "",
       "version_major": 2,
       "version_minor": 0
      },
      "text/plain": [
       "[MNIST | ADAM, LR = 0.001 | LAYERS = (784,128) (128,64,10) | DIFF WEIGHT 1 | 4 CLAUSES | JOINT] Run #1, Epoch …"
      ]
     },
     "metadata": {},
     "output_type": "display_data"
    },
    {
     "data": {
      "application/vnd.jupyter.widget-view+json": {
       "model_id": "",
       "version_major": 2,
       "version_minor": 0
      },
      "text/plain": [
       "[MNIST | ADAM, LR = 0.001 | LAYERS = (784,128) (128,64,10) | DIFF WEIGHT 1 | 4 CLAUSES | JOINT] Run #1, Epoch …"
      ]
     },
     "metadata": {},
     "output_type": "display_data"
    },
    {
     "data": {
      "application/vnd.jupyter.widget-view+json": {
       "model_id": "",
       "version_major": 2,
       "version_minor": 0
      },
      "text/plain": [
       "[MNIST | ADAM, LR = 0.001 | LAYERS = (784,128) (128,64,10) | DIFF WEIGHT 1 | 4 CLAUSES | JOINT] Run #1, Epoch …"
      ]
     },
     "metadata": {},
     "output_type": "display_data"
    },
    {
     "data": {
      "application/vnd.jupyter.widget-view+json": {
       "model_id": "",
       "version_major": 2,
       "version_minor": 0
      },
      "text/plain": [
       "[MNIST | ADAM, LR = 0.001 | LAYERS = (784,128) (128,64,10) | DIFF WEIGHT 1 | 4 CLAUSES | JOINT] Run #1, Epoch …"
      ]
     },
     "metadata": {},
     "output_type": "display_data"
    },
    {
     "data": {
      "application/vnd.jupyter.widget-view+json": {
       "model_id": "",
       "version_major": 2,
       "version_minor": 0
      },
      "text/plain": [
       "[MNIST | ADAM, LR = 0.001 | LAYERS = (784,128) (128,64,10) | DIFF WEIGHT 1 | 4 CLAUSES | JOINT] Run #1, Epoch …"
      ]
     },
     "metadata": {},
     "output_type": "display_data"
    },
    {
     "data": {
      "application/vnd.jupyter.widget-view+json": {
       "model_id": "",
       "version_major": 2,
       "version_minor": 0
      },
      "text/plain": [
       "[MNIST | ADAM, LR = 0.001 | LAYERS = (784,128) (128,64,10) | DIFF WEIGHT 1 | 4 CLAUSES | JOINT] Run #1, Epoch …"
      ]
     },
     "metadata": {},
     "output_type": "display_data"
    },
    {
     "data": {
      "application/vnd.jupyter.widget-view+json": {
       "model_id": "",
       "version_major": 2,
       "version_minor": 0
      },
      "text/plain": [
       "[MNIST | ADAM, LR = 0.001 | LAYERS = (784,128) (128,64,10) | DIFF WEIGHT 1 | 4 CLAUSES | JOINT] Run #1, Epoch …"
      ]
     },
     "metadata": {},
     "output_type": "display_data"
    },
    {
     "data": {
      "application/vnd.jupyter.widget-view+json": {
       "model_id": "",
       "version_major": 2,
       "version_minor": 0
      },
      "text/plain": [
       "[MNIST | ADAM, LR = 0.001 | LAYERS = (784,128) (128,64,10) | DIFF WEIGHT 1 | 4 CLAUSES | JOINT] Run #1, Epoch …"
      ]
     },
     "metadata": {},
     "output_type": "display_data"
    },
    {
     "data": {
      "application/vnd.jupyter.widget-view+json": {
       "model_id": "",
       "version_major": 2,
       "version_minor": 0
      },
      "text/plain": [
       "[MNIST | ADAM, LR = 0.001 | LAYERS = (784,128) (128,64,10) | DIFF WEIGHT 1 | 4 CLAUSES | JOINT] Run #1, Epoch …"
      ]
     },
     "metadata": {},
     "output_type": "display_data"
    },
    {
     "data": {
      "application/vnd.jupyter.widget-view+json": {
       "model_id": "",
       "version_major": 2,
       "version_minor": 0
      },
      "text/plain": [
       "[MNIST | ADAM, LR = 0.001 | LAYERS = (784,128) (128,64,10) | DIFF WEIGHT 1 | 4 CLAUSES | JOINT] Run #1, Epoch …"
      ]
     },
     "metadata": {},
     "output_type": "display_data"
    },
    {
     "data": {
      "application/vnd.jupyter.widget-view+json": {
       "model_id": "",
       "version_major": 2,
       "version_minor": 0
      },
      "text/plain": [
       "[MNIST | ADAM, LR = 0.001 | LAYERS = (784,128) (128,64,10) | DIFF WEIGHT 1 | 4 CLAUSES | JOINT] Run #1, Epoch …"
      ]
     },
     "metadata": {},
     "output_type": "display_data"
    },
    {
     "data": {
      "application/vnd.jupyter.widget-view+json": {
       "model_id": "",
       "version_major": 2,
       "version_minor": 0
      },
      "text/plain": [
       "[MNIST | ADAM, LR = 0.001 | LAYERS = (784,128) (128,64,10) | DIFF WEIGHT 1 | 4 CLAUSES | JOINT] Run #1, Epoch …"
      ]
     },
     "metadata": {},
     "output_type": "display_data"
    },
    {
     "data": {
      "application/vnd.jupyter.widget-view+json": {
       "model_id": "",
       "version_major": 2,
       "version_minor": 0
      },
      "text/plain": [
       "[MNIST | ADAM, LR = 0.001 | LAYERS = (784,128) (128,64,10) | DIFF WEIGHT 1 | 4 CLAUSES | JOINT] Run #1, Epoch …"
      ]
     },
     "metadata": {},
     "output_type": "display_data"
    },
    {
     "data": {
      "application/vnd.jupyter.widget-view+json": {
       "model_id": "",
       "version_major": 2,
       "version_minor": 0
      },
      "text/plain": [
       "[MNIST | ADAM, LR = 0.001 | LAYERS = (784,128) (128,64,10) | DIFF WEIGHT 1 | 4 CLAUSES | JOINT] Run #1, Epoch …"
      ]
     },
     "metadata": {},
     "output_type": "display_data"
    },
    {
     "data": {
      "application/vnd.jupyter.widget-view+json": {
       "model_id": "",
       "version_major": 2,
       "version_minor": 0
      },
      "text/plain": [
       "[MNIST | ADAM, LR = 0.001 | LAYERS = (784,128) (128,64,10) | DIFF WEIGHT 1 | 4 CLAUSES | JOINT] Run #1, Epoch …"
      ]
     },
     "metadata": {},
     "output_type": "display_data"
    },
    {
     "data": {
      "application/vnd.jupyter.widget-view+json": {
       "model_id": "",
       "version_major": 2,
       "version_minor": 0
      },
      "text/plain": [
       "[MNIST | ADAM, LR = 0.001 | LAYERS = (784,128) (128,64,10) | DIFF WEIGHT 1 | 4 CLAUSES | JOINT] Run #1, Epoch …"
      ]
     },
     "metadata": {},
     "output_type": "display_data"
    },
    {
     "data": {
      "application/vnd.jupyter.widget-view+json": {
       "model_id": "",
       "version_major": 2,
       "version_minor": 0
      },
      "text/plain": [
       "[MNIST | ADAM, LR = 0.001 | LAYERS = (784,128) (128,64,10) | DIFF WEIGHT 1 | 4 CLAUSES | JOINT] Run #1, Epoch …"
      ]
     },
     "metadata": {},
     "output_type": "display_data"
    },
    {
     "data": {
      "application/vnd.jupyter.widget-view+json": {
       "model_id": "",
       "version_major": 2,
       "version_minor": 0
      },
      "text/plain": [
       "[MNIST | ADAM, LR = 0.001 | LAYERS = (784,128) (128,64,10) | DIFF WEIGHT 1 | 4 CLAUSES | JOINT] Run #1, Epoch …"
      ]
     },
     "metadata": {},
     "output_type": "display_data"
    },
    {
     "data": {
      "application/vnd.jupyter.widget-view+json": {
       "model_id": "",
       "version_major": 2,
       "version_minor": 0
      },
      "text/plain": [
       "[MNIST | ADAM, LR = 0.001 | LAYERS = (784,128) (128,64,10) | DIFF WEIGHT 1 | 4 CLAUSES | JOINT] Run #1, Epoch …"
      ]
     },
     "metadata": {},
     "output_type": "display_data"
    },
    {
     "data": {
      "application/vnd.jupyter.widget-view+json": {
       "model_id": "",
       "version_major": 2,
       "version_minor": 0
      },
      "text/plain": [
       "[MNIST | ADAM, LR = 0.001 | LAYERS = (784,128) (128,64,10) | DIFF WEIGHT 1 | 4 CLAUSES | JOINT] Run #1, Epoch …"
      ]
     },
     "metadata": {},
     "output_type": "display_data"
    },
    {
     "data": {
      "application/vnd.jupyter.widget-view+json": {
       "model_id": "",
       "version_major": 2,
       "version_minor": 0
      },
      "text/plain": [
       "[MNIST | ADAM, LR = 0.001 | LAYERS = (784,128) (128,64,10) | DIFF WEIGHT 1 | 4 CLAUSES | JOINT] Run #1, Epoch …"
      ]
     },
     "metadata": {},
     "output_type": "display_data"
    },
    {
     "data": {
      "application/vnd.jupyter.widget-view+json": {
       "model_id": "",
       "version_major": 2,
       "version_minor": 0
      },
      "text/plain": [
       "[MNIST | ADAM, LR = 0.001 | LAYERS = (784,128) (128,64,10) | DIFF WEIGHT 1 | 4 CLAUSES | JOINT] Run #1, Epoch …"
      ]
     },
     "metadata": {},
     "output_type": "display_data"
    },
    {
     "data": {
      "application/vnd.jupyter.widget-view+json": {
       "model_id": "",
       "version_major": 2,
       "version_minor": 0
      },
      "text/plain": [
       "[MNIST | ADAM, LR = 0.001 | LAYERS = (784,128) (128,64,10) | DIFF WEIGHT 1 | 4 CLAUSES | JOINT] Run #1, Epoch …"
      ]
     },
     "metadata": {},
     "output_type": "display_data"
    }
   ],
   "source": [
    "def defer_regime(*args, **kargs):\n",
    "    def return_regime():\n",
    "        return MNISTRealRegime(*args, **kargs)\n",
    "    return return_regime\n",
    "\n",
    "sslogic = SchweizerSklarLogic(torch.tensor(-2.0).to(device))\n",
    "layers = [(28*28, 128), (128, 64, 10)]\n",
    "\n",
    "regimes = [\n",
    "    #defer_regime(logic=sslogic, layers=layers, clauses_per_output=4, diff_weight=1e-5, lr=1e-3),\n",
    "    #defer_regime(logic=sslogic, layers=layers, clauses_per_output=4, diff_weight=1e-3, lr=1e-3),\n",
    "    #defer_regime(logic=sslogic, layers=layers, clauses_per_output=4, diff_weight=1, lr=1e-3, joint=True),\n",
    "    #defer_regime(logic=sslogic, layers=layers, clauses_per_output=4, diff_weight=7e-1, lr=1e-3, joint=True),\n",
    "    defer_regime(logic=sslogic, layers=layers, clauses_per_output=4, diff_weight=1e-1, lr=1e-3, joint=True, l2_reg=None),\n",
    "    defer_regime(logic=sslogic, layers=layers, clauses_per_output=4, diff_weight=1e-1, lr=1e-3, joint=True, l2_reg=1e-5),\n",
    "    defer_regime(logic=sslogic, layers=layers, clauses_per_output=4, diff_weight=1e-2, lr=1e-3, joint=True, l2_reg=None),\n",
    "    defer_regime(logic=sslogic, layers=layers, clauses_per_output=4, diff_weight=1, lr=1e-3, joint=True, l2_reg=None),\n",
    "    #defer_regime(logic=sslogic, layers=layers, clauses_per_output=4, diff_weight=1, lr=1e-3, joint=False),\n",
    "    #defer_regime(logic=sslogic, layers=layers, clauses_per_output=4, diff_weight=1e-1, lr=1e-3, joint=True),\n",
    "    #defer_regime(logic=sslogic, layers=layers, clauses_per_output=4, diff_weight=1e-2, lr=1e-3, joint=True),\n",
    "]\n",
    "\n",
    "torch.autograd.set_detect_anomaly(True)\n",
    "if True:\n",
    "    regs = [regime_f() for regime_f in regimes]\n",
    "    for reg in regs:\n",
    "        reg.load_latest_models()\n",
    "        reg.load_all_results()\n",
    "    \n",
    "    for i in range(0, 8):\n",
    "        for reg in regs:\n",
    "            #try:\n",
    "                reg.loop_until(1, 5*(i+1))\n",
    "            #except:\n",
    "            #    pass"
   ]
  },
  {
   "cell_type": "code",
   "execution_count": 64,
   "id": "a6be48e3",
   "metadata": {},
   "outputs": [
    {
     "data": {
      "text/plain": [
       "'MNIST | ADAM, LR = 0.001 | LAYERS = (784,128) (128,64,10) | DIFF WEIGHT 0.1 | 4 CLAUSES | JOINT'"
      ]
     },
     "execution_count": 64,
     "metadata": {},
     "output_type": "execute_result"
    }
   ],
   "source": [
    "reg = regimes[0]()\n",
    "reg.load_latest_models()\n",
    "reg.load_all_results()\n",
    "model = reg.models[0].to(device)\n",
    "reg.regime_str()"
   ]
  },
  {
   "cell_type": "code",
   "execution_count": 67,
   "id": "31e91d14",
   "metadata": {},
   "outputs": [
    {
     "name": "stdout",
     "output_type": "stream",
     "text": [
      "4\n",
      "satisfied True\n",
      "tensor([10, 13, 23, 26, 27, 28, 31, 36, 38, 46, 51, 56, 59, 77, 97],\n",
      "       device='cuda:0')\n"
     ]
    },
    {
     "data": {
      "text/plain": [
       "<matplotlib.image.AxesImage at 0x7f4c17b81e50>"
      ]
     },
     "execution_count": 67,
     "metadata": {},
     "output_type": "execute_result"
    },
    {
     "data": {
      "image/png": "[encoded data removed]",
      "text/plain": [
       "<Figure size 324x745.2 with 18 Axes>"
      ]
     },
     "metadata": {
      "needs_background": "light"
     },
     "output_type": "display_data"
    }
   ],
   "source": [
    "from matplotlib import cm\n",
    "import math\n",
    "\n",
    "rnd = lambda t: (1000*t).round() / 1000\n",
    "\n",
    "img, label = testset[6]\n",
    "print(label)\n",
    "a_0 = model.layers[0](img.flatten(start_dim=1).to(device))\n",
    "#print(a_0 > 0.5)\n",
    "precs = model.layers[1].preconditions(a_0)[:,label,:].squeeze()\n",
    "#print(precs)\n",
    "best_pred = model.layers[1].preconditions(a_0)[:,label,:].squeeze().argmax()\n",
    "#print(best_pred)\n",
    "pred_mems = model.layers[1].fuzzy_m.value()[label, best_pred]\n",
    "#print(pred_mems > 0.5)\n",
    "print(\"satisfied\", logic.conjoin(logic.implies(pred_mems > 0.5, a_0 > 0.5), dim=-1).item())\n",
    "features = (pred_mems > 0.5).nonzero().squeeze()\n",
    "print(features)\n",
    "\n",
    "no_cols = 3\n",
    "no_rows = math.ceil(len(features) / no_cols) + 1\n",
    "\n",
    "fig, ax = plt.subplots(no_rows, no_cols)#len(features) + 1)\n",
    "#fig.set_size_inches((len(features)+1)*1.5*1.2, 1.5)\n",
    "fig.set_size_inches(no_cols*1.5, no_rows*1.5*1.15)\n",
    "\n",
    "img_var = nn.Parameter(img, requires_grad=True)\n",
    "\n",
    "for _ax in ax:\n",
    "    for __ax in _ax:\n",
    "        __ax.axis(\"off\")\n",
    "\n",
    "for idx, feature in enumerate(features):\n",
    "    #print(\"gradding\", feature.item())\n",
    "    a_0_var = model.layers[0](img_var.flatten(start_dim=1).to(device))\n",
    "    loss = -a_0_var[:,feature].sum()\n",
    "    loss.backward()\n",
    "    _ax = ax[idx // no_cols,idx % no_cols]\n",
    "    _ax.imshow(img_var.grad.squeeze().detach().cpu().numpy(), cmap=\"bwr\")\n",
    "    _ax.set_title(\"Feature %s\" % feature.item())\n",
    "    img_var.grad = None\n",
    "    \n",
    "ax[no_rows - 1,no_cols // 2].imshow(img_var.squeeze().detach().cpu().numpy(), cmap=\"viridis\")"
   ]
  },
  {
   "cell_type": "code",
   "execution_count": 71,
   "id": "4fb0e352",
   "metadata": {},
   "outputs": [],
   "source": [
    "reg_no_l2 = regimes[0]()\n",
    "reg_l2 = regimes[1]()\n",
    "\n",
    "def plot_regime(regime, metric, color, ax):\n",
    "    \n",
    "    try:\n",
    "\n",
    "        regime.load_latest_models()\n",
    "        regime.load_all_results()\n",
    "\n",
    "        for i in range(len(regime.results)):\n",
    "            if regime.results[i] is None:\n",
    "                if i == 0:\n",
    "                    return False\n",
    "                break\n",
    "            plt.plot(\n",
    "                regime.results[i]['epoch'], \n",
    "                regime.results[i][metric],\n",
    "                color=color,\n",
    "                alpha=0.3\n",
    "            )\n",
    "\n",
    "        return True\n",
    "    \n",
    "    except:\n",
    "        return False"
   ]
  },
  {
   "cell_type": "code",
   "execution_count": 108,
   "id": "4e69c78a",
   "metadata": {},
   "outputs": [
    {
     "data": {
      "text/plain": [
       "<matplotlib.legend.Legend at 0x7f4c12c54a30>"
      ]
     },
     "execution_count": 108,
     "metadata": {},
     "output_type": "execute_result"
    },
    {
     "data": {
      "image/png": "[encoded data removed]",
      "text/plain": [
       "<Figure size 432x288 with 1 Axes>"
      ]
     },
     "metadata": {
      "needs_background": "light"
     },
     "output_type": "display_data"
    }
   ],
   "source": [
    "import matplotlib.patches as mpatches\n",
    "\n",
    "fig, ax = plt.subplots()\n",
    "\n",
    "plot_regime(reg_no_l2, \"correct-output\", color=\"red\", ax=ax)\n",
    "plot_regime(reg_l2, \"correct-output\", color=\"blue\", ax=ax)\n",
    "\n",
    "plot_regime(reg_no_l2, \"logic-correct-output\", color=\"darkred\", ax=ax)\n",
    "plot_regime(reg_l2, \"logic-correct-output\", color=\"darkblue\", ax=ax)\n",
    "\n",
    "ax.set_xlim(1, 40)\n",
    "ax.set_xlabel(\"Epoch\")\n",
    "ax.set_ylabel(\"Proportion of Correct Outputs\")\n",
    "\n",
    "lines = [\n",
    "    (\"red\", \"MLP\"),\n",
    "    (\"darkred\", \"Logic\"),\n",
    "    (\"blue\", \"MLP, L2 Reg\"),\n",
    "    (\"darkblue\", \"Logic, L2 Reg\"),\n",
    "]\n",
    "                    \n",
    "ax.legend(handles=[mpatches.Patch(color=color, label=label) for color, label in lines])"
   ]
  },
  {
   "cell_type": "code",
   "execution_count": 109,
   "id": "015ea3cc",
   "metadata": {},
   "outputs": [
    {
     "data": {
      "text/plain": [
       "<matplotlib.legend.Legend at 0x7f4c12c56520>"
      ]
     },
     "execution_count": 109,
     "metadata": {},
     "output_type": "execute_result"
    },
    {
     "data": {
      "image/png": "[encoded data removed]",
      "text/plain": [
       "<Figure size 432x288 with 1 Axes>"
      ]
     },
     "metadata": {
      "needs_background": "light"
     },
     "output_type": "display_data"
    }
   ],
   "source": [
    "fig, ax = plt.subplots()\n",
    "\n",
    "plot_regime(reg_no_l2, \"unsatisfied\", color=\"red\", ax=ax)\n",
    "plot_regime(reg_l2, \"unsatisfied\", color=\"blue\", ax=ax)\n",
    "\n",
    "ax.set_xlim(1, 40)\n",
    "ax.set_xlabel(\"Epoch\")\n",
    "ax.set_ylabel(\"Number of Incorrect Implications\")\n",
    "\n",
    "lines = [\n",
    "    (\"red\", \"No L2 Reg\"),\n",
    "    (\"blue\", \"L2 Reg\"),\n",
    "]\n",
    "                    \n",
    "ax.legend(handles=[mpatches.Patch(color=color, label=label) for color, label in lines])"
   ]
  },
  {
   "cell_type": "code",
   "execution_count": 111,
   "id": "6b8f8c35",
   "metadata": {},
   "outputs": [
    {
     "data": {
      "text/plain": [
       "<matplotlib.legend.Legend at 0x7f4c12b078b0>"
      ]
     },
     "execution_count": 111,
     "metadata": {},
     "output_type": "execute_result"
    },
    {
     "data": {
      "image/png": "[encoded data removed]",
      "text/plain": [
       "<Figure size 432x288 with 1 Axes>"
      ]
     },
     "metadata": {
      "needs_background": "light"
     },
     "output_type": "display_data"
    }
   ],
   "source": [
    "fig, ax = plt.subplots()\n",
    "\n",
    "plot_regime(reg_no_l2, \"examples\", color=\"red\", ax=ax)\n",
    "plot_regime(reg_l2, \"examples\", color=\"blue\", ax=ax)\n",
    "\n",
    "ax.set_xlim(1, 40)\n",
    "ax.set_xlabel(\"Epoch\")\n",
    "ax.set_ylabel(\"Number of Examples\")\n",
    "\n",
    "lines = [\n",
    "    (\"red\", \"No L2 Reg\"),\n",
    "    (\"blue\", \"L2 Reg\"),\n",
    "]\n",
    "                    \n",
    "ax.legend(handles=[mpatches.Patch(color=color, label=label) for color, label in lines])"
   ]
  },
  {
   "cell_type": "code",
   "execution_count": 110,
   "id": "f9736092",
   "metadata": {},
   "outputs": [
    {
     "data": {
      "text/plain": [
       "<matplotlib.legend.Legend at 0x7f4c12b028e0>"
      ]
     },
     "execution_count": 110,
     "metadata": {},
     "output_type": "execute_result"
    },
    {
     "data": {
      "image/png": "[encoded data removed]",
      "text/plain": [
       "<Figure size 432x288 with 1 Axes>"
      ]
     },
     "metadata": {
      "needs_background": "light"
     },
     "output_type": "display_data"
    }
   ],
   "source": [
    "fig, ax = plt.subplots()\n",
    "\n",
    "plot_regime(reg_no_l2, \"crispness\", color=\"red\", ax=ax)\n",
    "plot_regime(reg_l2, \"crispness\", color=\"blue\", ax=ax)\n",
    "\n",
    "ax.set_xlim(1, 40)\n",
    "ax.set_xlabel(\"Epoch\")\n",
    "ax.set_ylabel(\"Sum of Distance from Crisp Values\")\n",
    "\n",
    "lines = [\n",
    "    (\"red\", \"No L2 Reg\"),\n",
    "    (\"blue\", \"L2 Reg\"),\n",
    "]\n",
    "                    \n",
    "ax.legend(handles=[mpatches.Patch(color=color, label=label) for color, label in lines])"
   ]
  },
  {
   "cell_type": "code",
   "execution_count": 113,
   "id": "17ba8e3d",
   "metadata": {},
   "outputs": [
    {
     "data": {
      "text/plain": [
       "<matplotlib.legend.Legend at 0x7f4c129bcc70>"
      ]
     },
     "execution_count": 113,
     "metadata": {},
     "output_type": "execute_result"
    },
    {
     "data": {
      "image/png": "[encoded data removed]",
      "text/plain": [
       "<Figure size 432x288 with 1 Axes>"
      ]
     },
     "metadata": {
      "needs_background": "light"
     },
     "output_type": "display_data"
    }
   ],
   "source": [
    "reg_d001 = regimes[2]()\n",
    "reg_d1 = regimes[3]()\n",
    "\n",
    "fig, ax = plt.subplots()\n",
    "\n",
    "plot_regime(reg_d1, \"correct-output\", color=\"green\", ax=ax)\n",
    "plot_regime(reg_no_l2, \"correct-output\", color=\"red\", ax=ax)\n",
    "plot_regime(reg_d001, \"correct-output\", color=\"blue\", ax=ax)\n",
    "plot_regime(reg_d1, \"logic-correct-output\", color=\"darkgreen\", ax=ax)\n",
    "plot_regime(reg_no_l2, \"logic-correct-output\", color=\"darkred\", ax=ax)\n",
    "plot_regime(reg_d001, \"logic-correct-output\", color=\"darkblue\", ax=ax)\n",
    "\n",
    "ax.set_xlim(1, 40)\n",
    "ax.set_xlabel(\"Epoch\")\n",
    "ax.set_ylabel(\"Proportion of Correct Outputs\")\n",
    "\n",
    "lines = [\n",
    "    (\"green\", \"MLP, δ = 1\"),\n",
    "    (\"darkgreen\", \"Logic, δ = 1\"),\n",
    "    (\"red\", \"MLP, δ = 0.1\"),\n",
    "    (\"darkred\", \"Logic, δ = 0.1\"),\n",
    "    (\"blue\", \"MLP, δ = 0.01\"),\n",
    "    (\"darkblue\", \"Logic, δ = 0.01\"),\n",
    "]\n",
    "                    \n",
    "ax.legend(handles=[mpatches.Patch(color=color, label=label) for color, label in lines])"
   ]
  },
  {
   "cell_type": "code",
   "execution_count": 114,
   "id": "58996a71",
   "metadata": {},
   "outputs": [
    {
     "data": {
      "text/plain": [
       "<matplotlib.legend.Legend at 0x7f4c1294bbb0>"
      ]
     },
     "execution_count": 114,
     "metadata": {},
     "output_type": "execute_result"
    },
    {
     "data": {
      "image/png": "[encoded data removed]",
      "text/plain": [
       "<Figure size 432x288 with 1 Axes>"
      ]
     },
     "metadata": {
      "needs_background": "light"
     },
     "output_type": "display_data"
    }
   ],
   "source": [
    "fig, ax = plt.subplots()\n",
    "\n",
    "plot_regime(reg_d1, \"unsatisfied\", color=\"green\", ax=ax)\n",
    "plot_regime(reg_no_l2, \"unsatisfied\", color=\"red\", ax=ax)\n",
    "plot_regime(reg_d001, \"unsatisfied\", color=\"blue\", ax=ax)\n",
    "\n",
    "ax.set_xlim(1, 40)\n",
    "ax.set_xlabel(\"Epoch\")\n",
    "ax.set_ylabel(\"Number of Incorrect Implications\")\n",
    "\n",
    "lines = [\n",
    "    (\"green\", \"δ = 1\"),\n",
    "    (\"red\", \"δ = 0.1\"),\n",
    "    (\"blue\", \"δ = 0.01\"),\n",
    "]\n",
    "                    \n",
    "ax.legend(handles=[mpatches.Patch(color=color, label=label) for color, label in lines])"
   ]
  },
  {
   "cell_type": "code",
   "execution_count": 115,
   "id": "bd09f835",
   "metadata": {},
   "outputs": [
    {
     "data": {
      "text/plain": [
       "<matplotlib.legend.Legend at 0x7f4c128d8280>"
      ]
     },
     "execution_count": 115,
     "metadata": {},
     "output_type": "execute_result"
    },
    {
     "data": {
      "image/png": "[encoded data removed]",
      "text/plain": [
       "<Figure size 432x288 with 1 Axes>"
      ]
     },
     "metadata": {
      "needs_background": "light"
     },
     "output_type": "display_data"
    }
   ],
   "source": [
    "fig, ax = plt.subplots()\n",
    "\n",
    "plot_regime(reg_d1, \"examples\", color=\"green\", ax=ax)\n",
    "plot_regime(reg_no_l2, \"examples\", color=\"red\", ax=ax)\n",
    "plot_regime(reg_d001, \"examples\", color=\"blue\", ax=ax)\n",
    "\n",
    "ax.set_xlim(1, 40)\n",
    "ax.set_xlabel(\"Epoch\")\n",
    "ax.set_ylabel(\"Number of Examples\")\n",
    "\n",
    "lines = [\n",
    "    (\"green\", \"δ = 1\"),\n",
    "    (\"red\", \"δ = 0.1\"),\n",
    "    (\"blue\", \"δ = 0.01\"),\n",
    "]\n",
    "                    \n",
    "ax.legend(handles=[mpatches.Patch(color=color, label=label) for color, label in lines])"
   ]
  },
  {
   "cell_type": "code",
   "execution_count": 116,
   "id": "c2f6adb3",
   "metadata": {},
   "outputs": [
    {
     "data": {
      "text/plain": [
       "<matplotlib.legend.Legend at 0x7f4c1284c460>"
      ]
     },
     "execution_count": 116,
     "metadata": {},
     "output_type": "execute_result"
    },
    {
     "data": {
      "image/png": "[encoded data removed]",
      "text/plain": [
       "<Figure size 432x288 with 1 Axes>"
      ]
     },
     "metadata": {
      "needs_background": "light"
     },
     "output_type": "display_data"
    }
   ],
   "source": [
    "fig, ax = plt.subplots()\n",
    "\n",
    "plot_regime(reg_d1, \"crispness\", color=\"green\", ax=ax)\n",
    "plot_regime(reg_no_l2, \"crispness\", color=\"red\", ax=ax)\n",
    "plot_regime(reg_d001, \"crispness\", color=\"blue\", ax=ax)\n",
    "\n",
    "ax.set_xlim(1, 40)\n",
    "ax.set_xlabel(\"Epoch\")\n",
    "ax.set_ylabel(\"Sum of Distance from Crisp Values\")\n",
    "lines = [\n",
    "    (\"green\", \"δ = 1\"),\n",
    "    (\"red\", \"δ = 0.1\"),\n",
    "    (\"blue\", \"δ = 0.01\"),\n",
    "]\n",
    "                    \n",
    "ax.legend(handles=[mpatches.Patch(color=color, label=label) for color, label in lines])"
   ]
  },
  {
   "cell_type": "raw",
   "id": "e825ef84",
   "metadata": {},
   "source": [
    "# MNIST Auto Encoding"
   ]
  },
  {
   "cell_type": "code",
   "execution_count": null,
   "id": "5b025ca7",
   "metadata": {},
   "outputs": [],
   "source": [
    "class MNISTAutoEncoder(nn.Module):\n",
    "    def __init__(self):\n",
    "        super().__init__()\n",
    "        self.encoder = nn.Sequential(\n",
    "            nn.Flatten(),\n",
    "            nn.Linear(28*28, 128),\n",
    "            nn.LeakyReLU(),\n",
    "            nn.Linear(128, 4),\n",
    "            nn.Sigmoid(),\n",
    "        )\n",
    "        \n",
    "        self.decoder = nn.Sequential(\n",
    "            nn.Linear(4, 128),\n",
    "            nn.LeakyReLU(),\n",
    "            nn.Linear(128, 28*28),\n",
    "            nn.LeakyReLU(),\n",
    "        )\n",
    "        \n",
    "    def encode(self, input):\n",
    "        return self.encoder(input)\n",
    "    \n",
    "    def decode(self, latent):\n",
    "        decoded = self.decoder(latent)\n",
    "        return decoded.reshape(*decoded.shape[:-1], 1, 28, 28)\n",
    "    \n",
    "    def forward(self, input):\n",
    "        return self.decode(self.encode(input))"
   ]
  },
  {
   "cell_type": "code",
   "execution_count": null,
   "id": "1545c0d7",
   "metadata": {},
   "outputs": [],
   "source": [
    "ae_model = MNISTAutoEncoder().to(device)\n",
    "no_ae_epochs = 30"
   ]
  },
  {
   "cell_type": "code",
   "execution_count": null,
   "id": "b3b160f7",
   "metadata": {},
   "outputs": [],
   "source": [
    "def train_ae():\n",
    "    optim = torch.optim.Adam(ae_model.parameters(), lr=1e-3)\n",
    "\n",
    "    losses = []\n",
    "    for epoch_no in range(1, no_ae_epochs + 1):\n",
    "        for imgs, _ in tqdm(trainloader, desc=\"Training Epoch %s\" % epoch_no, leave=False):\n",
    "            decoding = ae_model(imgs.to(device))\n",
    "            loss = ((imgs.to(device) - decoding) ** 2).sum()\n",
    "            losses.append(loss.item())\n",
    "\n",
    "            optim.zero_grad()\n",
    "            loss.backward()\n",
    "            optim.step()\n",
    "            \n",
    "    return torch.tensor(losses)\n",
    "\n",
    "train_ae()"
   ]
  },
  {
   "cell_type": "code",
   "execution_count": null,
   "id": "faff3b37",
   "metadata": {},
   "outputs": [],
   "source": [
    "for imgs, _ in testloader:\n",
    "    i=14\n",
    "    img = imgs[i:i+1]\n",
    "    decoding = ae_model(img.to(device))\n",
    "    fig, ax = plt.subplots(2)\n",
    "    ax[0].imshow(img.squeeze().cpu().numpy())\n",
    "    ax[1].imshow(decoding.squeeze().detach().cpu().numpy())\n",
    "    break"
   ]
  },
  {
   "cell_type": "code",
   "execution_count": null,
   "id": "4a2f0e84",
   "metadata": {},
   "outputs": [],
   "source": [
    "from matplotlib import cm\n",
    "\n",
    "snapshots = 5\n",
    "\n",
    "for imgs, labels in tqdm(reg.testing_dataloader(1)):\n",
    "    i = 21\n",
    "    img = imgs[i:i+1,:]\n",
    "    label = labels[i]\n",
    "    img = nn.Parameter(imgs[i:i+1,:], requires_grad=True)\n",
    "    a_0 = model.layers[0](img.flatten(start_dim=1).to(device))\n",
    "    a_1 = model.layers[1](a_0)\n",
    "    loss = -a_0[:,45].sum()\n",
    "    img.grad = None\n",
    "    loss.backward()\n",
    "    fig, ax = plt.subplots(2 + snapshots)\n",
    "    ax[0].imshow(-img.grad.reshape(28,28).detach().cpu().numpy(), cmap=\"bwr\")\n",
    "    ax[1].imshow(img.reshape(28,28).detach().cpu().numpy())\n",
    "    print(a_1)\n",
    "    #print(model.layers[1].fuzzy_m.value()[2,:,:] > 0.5)\n",
    "    #print(a_0 > 0.9)\n",
    "    features = (model.layers[1].fuzzy_m.value()[label,0,:]).unsqueeze(0)#torch.logical_and(model.layers[1].fuzzy_m.value()[label,0,:] > 0.5, a_0 > 0.95)\n",
    "    print(features > 0.9)\n",
    "    \n",
    "    new_img = FuzzyParam((1, 4)).to(device)\n",
    "    optim = torch.optim.Adam(new_img.parameters(), lr=1e-2)\n",
    "    \n",
    "    snapshot_imgs = []\n",
    "    \n",
    "    for i in tqdm(range(snapshots * 1000)):\n",
    "        input = ae_model.decode(new_img.value())\n",
    "        a_0 = model.layers[0](input.flatten(start_dim=1))\n",
    "        c_1 = torch.zeros_like(a_0, device=a_0.device)\n",
    "        c_1[features > 0.9] = -1\n",
    "        a_1 = c_1 * a_0\n",
    "        #a_1 = -model.logic.conjoin(model.logic.implies(features.detach(), a_0), dim=-1)\n",
    "        loss = a_1.sum()\n",
    "\n",
    "        if i % 500 == 0:\n",
    "            print(loss)\n",
    "\n",
    "        optim.zero_grad()\n",
    "        loss.backward()\n",
    "        optim.step()\n",
    "        \n",
    "        if i % 1000 == 0:\n",
    "            snapshot_imgs.append( ae_model.decode(new_img.value()).squeeze().detach().cpu())\n",
    "    \n",
    "    for idx, snap_img in enumerate(snapshot_imgs):\n",
    "        ax[2 + idx].imshow(snap_img.numpy())\n",
    "    \n",
    "    break"
   ]
  },
  {
   "cell_type": "code",
   "execution_count": null,
   "id": "c76c8657",
   "metadata": {},
   "outputs": [],
   "source": [
    "model(ae_model.decode(new_img.value()))"
   ]
  },
  {
   "cell_type": "code",
   "execution_count": null,
   "id": "ea08c6ea",
   "metadata": {},
   "outputs": [],
   "source": [
    "fts= model.layers[1].fuzzy_m.value()[label,0,:]\n",
    "torch.min(fts, 1 - fts).mean()"
   ]
  },
  {
   "cell_type": "code",
   "execution_count": null,
   "id": "2fb167bb",
   "metadata": {},
   "outputs": [],
   "source": []
  }
 ],
 "metadata": {
  "kernelspec": {
   "display_name": "Python 3 (ipykernel)",
   "language": "python",
   "name": "python3"
  },
  "language_info": {
   "codemirror_mode": {
    "name": "ipython",
    "version": 3
   },
   "file_extension": ".py",
   "mimetype": "text/x-python",
   "name": "python",
   "nbconvert_exporter": "python",
   "pygments_lexer": "ipython3",
   "version": "3.9.7"
  }
 },
 "nbformat": 4,
 "nbformat_minor": 5
}
