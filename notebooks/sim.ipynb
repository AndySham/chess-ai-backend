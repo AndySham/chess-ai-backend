{
 "cells": [
  {
   "cell_type": "code",
   "execution_count": null,
   "source": [],
   "outputs": [],
   "metadata": {}
  }
 ],
 "metadata": {
  "orig_nbformat": 4,
  "language_info": {
   "name": "python",
   "version": "3.9.7"
  },
  "kernelspec": {
   "name": "python3",
   "display_name": "Python 3.9.7 64-bit ('base': conda)"
  },
  "interpreter": {
   "hash": "8e615aa0023f14c0ad9c431aeb671ef3473c33c39a31ded31d88bac672822ded"
  }
 },
 "nbformat": 4,
 "nbformat_minor": 2
}