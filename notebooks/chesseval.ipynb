{
 "cells": [
  {
   "cell_type": "code",
   "execution_count": 1,
   "metadata": {},
   "outputs": [],
   "source": [
    "import sys\n",
    "import os\n",
    "sys.path.append(os.path.abspath('../src')) # include top level package in python path"
   ]
  },
  {
   "cell_type": "code",
   "execution_count": 2,
   "metadata": {},
   "outputs": [
    {
     "data": {
      "text/html": [
       "\n",
       "<style>\n",
       ".container { \n",
       "    width: 100% !important;\n",
       "}\n",
       "</style>\n"
      ],
      "text/plain": [
       "<IPython.core.display.HTML object>"
      ]
     },
     "metadata": {},
     "output_type": "display_data"
    }
   ],
   "source": [
    "from IPython.display import display, HTML\n",
    "display(HTML(\"\"\"\n",
    "<style>\n",
    ".container { \n",
    "    width: 100% !important;\n",
    "}\n",
    "</style>\n",
    "\"\"\"))"
   ]
  },
  {
   "cell_type": "code",
   "execution_count": 3,
   "metadata": {},
   "outputs": [
    {
     "name": "stderr",
     "output_type": "stream",
     "text": [
      "<UciProtocol (pid=9966)>: stderr >> ./chesseval/stockfish_15_x64_bmi2: /lib/x86_64-linux-gnu/libc.so.6: version `GLIBC_2.32' not found (required by ./chesseval/stockfish_15_x64_bmi2)\n",
      "<UciProtocol (pid=9966)>: stderr >> ./chesseval/stockfish_15_x64_bmi2: /lib/x86_64-linux-gnu/libc.so.6: version `GLIBC_2.33' not found (required by ./chesseval/stockfish_15_x64_bmi2)\n",
      "<UciProtocol (pid=9966)>: stderr >> ./chesseval/stockfish_15_x64_bmi2: /lib/x86_64-linux-gnu/libc.so.6: version `GLIBC_2.34' not found (required by ./chesseval/stockfish_15_x64_bmi2)\n"
     ]
    },
    {
     "ename": "EngineTerminatedError",
     "evalue": "engine process died unexpectedly (exit code: 1)",
     "output_type": "error",
     "traceback": [
      "\u001b[0;31m---------------------------------------------------------------------------\u001b[0m",
      "\u001b[0;31mEngineTerminatedError\u001b[0m                     Traceback (most recent call last)",
      "Input \u001b[0;32mIn [3]\u001b[0m, in \u001b[0;36m<module>\u001b[0;34m\u001b[0m\n\u001b[1;32m      1\u001b[0m \u001b[38;5;28;01mimport\u001b[39;00m \u001b[38;5;21;01mchess\u001b[39;00m\n\u001b[1;32m      2\u001b[0m \u001b[38;5;28;01mimport\u001b[39;00m \u001b[38;5;21;01mchess\u001b[39;00m\u001b[38;5;21;01m.\u001b[39;00m\u001b[38;5;21;01mengine\u001b[39;00m\n\u001b[0;32m----> 4\u001b[0m engine \u001b[38;5;241m=\u001b[39m \u001b[43mchess\u001b[49m\u001b[38;5;241;43m.\u001b[39;49m\u001b[43mengine\u001b[49m\u001b[38;5;241;43m.\u001b[39;49m\u001b[43mSimpleEngine\u001b[49m\u001b[38;5;241;43m.\u001b[39;49m\u001b[43mpopen_uci\u001b[49m\u001b[43m(\u001b[49m\u001b[38;5;124;43m\"\u001b[39;49m\u001b[38;5;124;43m./chesseval/stockfish_15_x64_bmi2\u001b[39;49m\u001b[38;5;124;43m\"\u001b[39;49m\u001b[43m)\u001b[49m\n",
      "File \u001b[0;32m~/anaconda3/lib/python3.9/site-packages/chess/engine.py:2825\u001b[0m, in \u001b[0;36mSimpleEngine.popen_uci\u001b[0;34m(cls, command, timeout, debug, setpgrp, **popen_args)\u001b[0m\n\u001b[1;32m   2819\u001b[0m \u001b[38;5;129m@classmethod\u001b[39m\n\u001b[1;32m   2820\u001b[0m \u001b[38;5;28;01mdef\u001b[39;00m \u001b[38;5;21mpopen_uci\u001b[39m(\u001b[38;5;28mcls\u001b[39m, command: Union[\u001b[38;5;28mstr\u001b[39m, List[\u001b[38;5;28mstr\u001b[39m]], \u001b[38;5;241m*\u001b[39m, timeout: Optional[\u001b[38;5;28mfloat\u001b[39m] \u001b[38;5;241m=\u001b[39m \u001b[38;5;241m10.0\u001b[39m, debug: \u001b[38;5;28mbool\u001b[39m \u001b[38;5;241m=\u001b[39m \u001b[38;5;28;01mFalse\u001b[39;00m, setpgrp: \u001b[38;5;28mbool\u001b[39m \u001b[38;5;241m=\u001b[39m \u001b[38;5;28;01mFalse\u001b[39;00m, \u001b[38;5;241m*\u001b[39m\u001b[38;5;241m*\u001b[39mpopen_args: Any) \u001b[38;5;241m-\u001b[39m\u001b[38;5;241m>\u001b[39m SimpleEngine:\n\u001b[1;32m   2821\u001b[0m     \u001b[38;5;124;03m\"\"\"\u001b[39;00m\n\u001b[1;32m   2822\u001b[0m \u001b[38;5;124;03m    Spawns and initializes a UCI engine.\u001b[39;00m\n\u001b[1;32m   2823\u001b[0m \u001b[38;5;124;03m    Returns a :class:`~chess.engine.SimpleEngine` instance.\u001b[39;00m\n\u001b[1;32m   2824\u001b[0m \u001b[38;5;124;03m    \"\"\"\u001b[39;00m\n\u001b[0;32m-> 2825\u001b[0m     \u001b[38;5;28;01mreturn\u001b[39;00m \u001b[38;5;28;43mcls\u001b[39;49m\u001b[38;5;241;43m.\u001b[39;49m\u001b[43mpopen\u001b[49m\u001b[43m(\u001b[49m\u001b[43mUciProtocol\u001b[49m\u001b[43m,\u001b[49m\u001b[43m \u001b[49m\u001b[43mcommand\u001b[49m\u001b[43m,\u001b[49m\u001b[43m \u001b[49m\u001b[43mtimeout\u001b[49m\u001b[38;5;241;43m=\u001b[39;49m\u001b[43mtimeout\u001b[49m\u001b[43m,\u001b[49m\u001b[43m \u001b[49m\u001b[43mdebug\u001b[49m\u001b[38;5;241;43m=\u001b[39;49m\u001b[43mdebug\u001b[49m\u001b[43m,\u001b[49m\u001b[43m \u001b[49m\u001b[43msetpgrp\u001b[49m\u001b[38;5;241;43m=\u001b[39;49m\u001b[43msetpgrp\u001b[49m\u001b[43m,\u001b[49m\u001b[43m \u001b[49m\u001b[38;5;241;43m*\u001b[39;49m\u001b[38;5;241;43m*\u001b[39;49m\u001b[43mpopen_args\u001b[49m\u001b[43m)\u001b[49m\n",
      "File \u001b[0;32m~/anaconda3/lib/python3.9/site-packages/chess/engine.py:2817\u001b[0m, in \u001b[0;36mSimpleEngine.popen\u001b[0;34m(cls, Protocol, command, timeout, debug, setpgrp, **popen_args)\u001b[0m\n\u001b[1;32m   2814\u001b[0m         simple_engine\u001b[38;5;241m.\u001b[39mclose()\n\u001b[1;32m   2815\u001b[0m     \u001b[38;5;28;01mawait\u001b[39;00m simple_engine\u001b[38;5;241m.\u001b[39mshutdown_event\u001b[38;5;241m.\u001b[39mwait()\n\u001b[0;32m-> 2817\u001b[0m \u001b[38;5;28;01mreturn\u001b[39;00m \u001b[43mrun_in_background\u001b[49m\u001b[43m(\u001b[49m\u001b[43mbackground\u001b[49m\u001b[43m,\u001b[49m\u001b[43m \u001b[49m\u001b[43mname\u001b[49m\u001b[38;5;241;43m=\u001b[39;49m\u001b[38;5;124;43mf\u001b[39;49m\u001b[38;5;124;43m\"\u001b[39;49m\u001b[38;5;132;43;01m{\u001b[39;49;00m\u001b[38;5;28;43mcls\u001b[39;49m\u001b[38;5;241;43m.\u001b[39;49m\u001b[38;5;18;43m__name__\u001b[39;49m\u001b[38;5;132;43;01m}\u001b[39;49;00m\u001b[38;5;124;43m (command=\u001b[39;49m\u001b[38;5;132;43;01m{\u001b[39;49;00m\u001b[43mcommand\u001b[49m\u001b[38;5;132;43;01m!r}\u001b[39;49;00m\u001b[38;5;124;43m)\u001b[39;49m\u001b[38;5;124;43m\"\u001b[39;49m\u001b[43m,\u001b[49m\u001b[43m \u001b[49m\u001b[43mdebug\u001b[49m\u001b[38;5;241;43m=\u001b[39;49m\u001b[43mdebug\u001b[49m\u001b[43m)\u001b[49m\n",
      "File \u001b[0;32m~/anaconda3/lib/python3.9/site-packages/chess/engine.py:201\u001b[0m, in \u001b[0;36mrun_in_background\u001b[0;34m(coroutine, name, debug, _policy_lock)\u001b[0m\n\u001b[1;32m    198\u001b[0m         future\u001b[38;5;241m.\u001b[39mset_exception(exc)\n\u001b[1;32m    200\u001b[0m threading\u001b[38;5;241m.\u001b[39mThread(target\u001b[38;5;241m=\u001b[39mbackground, name\u001b[38;5;241m=\u001b[39mname)\u001b[38;5;241m.\u001b[39mstart()\n\u001b[0;32m--> 201\u001b[0m \u001b[38;5;28;01mreturn\u001b[39;00m \u001b[43mfuture\u001b[49m\u001b[38;5;241;43m.\u001b[39;49m\u001b[43mresult\u001b[49m\u001b[43m(\u001b[49m\u001b[43m)\u001b[49m\n",
      "File \u001b[0;32m~/anaconda3/lib/python3.9/concurrent/futures/_base.py:445\u001b[0m, in \u001b[0;36mFuture.result\u001b[0;34m(self, timeout)\u001b[0m\n\u001b[1;32m    443\u001b[0m     \u001b[38;5;28;01mraise\u001b[39;00m CancelledError()\n\u001b[1;32m    444\u001b[0m \u001b[38;5;28;01melif\u001b[39;00m \u001b[38;5;28mself\u001b[39m\u001b[38;5;241m.\u001b[39m_state \u001b[38;5;241m==\u001b[39m FINISHED:\n\u001b[0;32m--> 445\u001b[0m     \u001b[38;5;28;01mreturn\u001b[39;00m \u001b[38;5;28;43mself\u001b[39;49m\u001b[38;5;241;43m.\u001b[39;49m\u001b[43m__get_result\u001b[49m\u001b[43m(\u001b[49m\u001b[43m)\u001b[49m\n\u001b[1;32m    446\u001b[0m \u001b[38;5;28;01melse\u001b[39;00m:\n\u001b[1;32m    447\u001b[0m     \u001b[38;5;28;01mraise\u001b[39;00m \u001b[38;5;167;01mTimeoutError\u001b[39;00m()\n",
      "File \u001b[0;32m~/anaconda3/lib/python3.9/concurrent/futures/_base.py:390\u001b[0m, in \u001b[0;36mFuture.__get_result\u001b[0;34m(self)\u001b[0m\n\u001b[1;32m    388\u001b[0m \u001b[38;5;28;01mif\u001b[39;00m \u001b[38;5;28mself\u001b[39m\u001b[38;5;241m.\u001b[39m_exception:\n\u001b[1;32m    389\u001b[0m     \u001b[38;5;28;01mtry\u001b[39;00m:\n\u001b[0;32m--> 390\u001b[0m         \u001b[38;5;28;01mraise\u001b[39;00m \u001b[38;5;28mself\u001b[39m\u001b[38;5;241m.\u001b[39m_exception\n\u001b[1;32m    391\u001b[0m     \u001b[38;5;28;01mfinally\u001b[39;00m:\n\u001b[1;32m    392\u001b[0m         \u001b[38;5;66;03m# Break a reference cycle with the exception in self._exception\u001b[39;00m\n\u001b[1;32m    393\u001b[0m         \u001b[38;5;28mself\u001b[39m \u001b[38;5;241m=\u001b[39m \u001b[38;5;28;01mNone\u001b[39;00m\n",
      "File \u001b[0;32m~/anaconda3/lib/python3.9/site-packages/chess/engine.py:195\u001b[0m, in \u001b[0;36mrun_in_background.<locals>.background\u001b[0;34m()\u001b[0m\n\u001b[1;32m    193\u001b[0m \u001b[38;5;28;01mdef\u001b[39;00m \u001b[38;5;21mbackground\u001b[39m() \u001b[38;5;241m-\u001b[39m\u001b[38;5;241m>\u001b[39m \u001b[38;5;28;01mNone\u001b[39;00m:\n\u001b[1;32m    194\u001b[0m     \u001b[38;5;28;01mtry\u001b[39;00m:\n\u001b[0;32m--> 195\u001b[0m         \u001b[43masyncio\u001b[49m\u001b[38;5;241;43m.\u001b[39;49m\u001b[43mrun\u001b[49m\u001b[43m(\u001b[49m\u001b[43mcoroutine\u001b[49m\u001b[43m(\u001b[49m\u001b[43mfuture\u001b[49m\u001b[43m)\u001b[49m\u001b[43m)\u001b[49m\n\u001b[1;32m    196\u001b[0m         future\u001b[38;5;241m.\u001b[39mcancel()\n\u001b[1;32m    197\u001b[0m     \u001b[38;5;28;01mexcept\u001b[39;00m \u001b[38;5;167;01mException\u001b[39;00m \u001b[38;5;28;01mas\u001b[39;00m exc:\n",
      "File \u001b[0;32m~/anaconda3/lib/python3.9/asyncio/runners.py:44\u001b[0m, in \u001b[0;36mrun\u001b[0;34m(main, debug)\u001b[0m\n\u001b[1;32m     42\u001b[0m     \u001b[38;5;28;01mif\u001b[39;00m debug \u001b[38;5;129;01mis\u001b[39;00m \u001b[38;5;129;01mnot\u001b[39;00m \u001b[38;5;28;01mNone\u001b[39;00m:\n\u001b[1;32m     43\u001b[0m         loop\u001b[38;5;241m.\u001b[39mset_debug(debug)\n\u001b[0;32m---> 44\u001b[0m     \u001b[38;5;28;01mreturn\u001b[39;00m \u001b[43mloop\u001b[49m\u001b[38;5;241;43m.\u001b[39;49m\u001b[43mrun_until_complete\u001b[49m\u001b[43m(\u001b[49m\u001b[43mmain\u001b[49m\u001b[43m)\u001b[49m\n\u001b[1;32m     45\u001b[0m \u001b[38;5;28;01mfinally\u001b[39;00m:\n\u001b[1;32m     46\u001b[0m     \u001b[38;5;28;01mtry\u001b[39;00m:\n",
      "File \u001b[0;32m~/anaconda3/lib/python3.9/asyncio/base_events.py:642\u001b[0m, in \u001b[0;36mBaseEventLoop.run_until_complete\u001b[0;34m(self, future)\u001b[0m\n\u001b[1;32m    639\u001b[0m \u001b[38;5;28;01mif\u001b[39;00m \u001b[38;5;129;01mnot\u001b[39;00m future\u001b[38;5;241m.\u001b[39mdone():\n\u001b[1;32m    640\u001b[0m     \u001b[38;5;28;01mraise\u001b[39;00m \u001b[38;5;167;01mRuntimeError\u001b[39;00m(\u001b[38;5;124m'\u001b[39m\u001b[38;5;124mEvent loop stopped before Future completed.\u001b[39m\u001b[38;5;124m'\u001b[39m)\n\u001b[0;32m--> 642\u001b[0m \u001b[38;5;28;01mreturn\u001b[39;00m \u001b[43mfuture\u001b[49m\u001b[38;5;241;43m.\u001b[39;49m\u001b[43mresult\u001b[49m\u001b[43m(\u001b[49m\u001b[43m)\u001b[49m\n",
      "File \u001b[0;32m~/anaconda3/lib/python3.9/site-packages/chess/engine.py:2809\u001b[0m, in \u001b[0;36mSimpleEngine.popen.<locals>.background\u001b[0;34m(future)\u001b[0m\n\u001b[1;32m   2807\u001b[0m simple_engine \u001b[38;5;241m=\u001b[39m \u001b[38;5;28mcls\u001b[39m(transport, protocol, timeout\u001b[38;5;241m=\u001b[39mtimeout)\n\u001b[1;32m   2808\u001b[0m \u001b[38;5;28;01mtry\u001b[39;00m:\n\u001b[0;32m-> 2809\u001b[0m     \u001b[38;5;28;01mawait\u001b[39;00m asyncio\u001b[38;5;241m.\u001b[39mwait_for(protocol\u001b[38;5;241m.\u001b[39minitialize(), timeout)\n\u001b[1;32m   2810\u001b[0m     future\u001b[38;5;241m.\u001b[39mset_result(simple_engine)\n\u001b[1;32m   2811\u001b[0m     returncode \u001b[38;5;241m=\u001b[39m \u001b[38;5;28;01mawait\u001b[39;00m protocol\u001b[38;5;241m.\u001b[39mreturncode\n",
      "File \u001b[0;32m~/anaconda3/lib/python3.9/asyncio/tasks.py:481\u001b[0m, in \u001b[0;36mwait_for\u001b[0;34m(fut, timeout, loop)\u001b[0m\n\u001b[1;32m    478\u001b[0m         \u001b[38;5;28;01mraise\u001b[39;00m\n\u001b[1;32m    480\u001b[0m \u001b[38;5;28;01mif\u001b[39;00m fut\u001b[38;5;241m.\u001b[39mdone():\n\u001b[0;32m--> 481\u001b[0m     \u001b[38;5;28;01mreturn\u001b[39;00m \u001b[43mfut\u001b[49m\u001b[38;5;241;43m.\u001b[39;49m\u001b[43mresult\u001b[49m\u001b[43m(\u001b[49m\u001b[43m)\u001b[49m\n\u001b[1;32m    482\u001b[0m \u001b[38;5;28;01melse\u001b[39;00m:\n\u001b[1;32m    483\u001b[0m     fut\u001b[38;5;241m.\u001b[39mremove_done_callback(cb)\n",
      "File \u001b[0;32m~/anaconda3/lib/python3.9/site-packages/chess/engine.py:1404\u001b[0m, in \u001b[0;36mUciProtocol.initialize\u001b[0;34m(self)\u001b[0m\n\u001b[1;32m   1401\u001b[0m         key, value \u001b[38;5;241m=\u001b[39m arg\u001b[38;5;241m.\u001b[39msplit(\u001b[38;5;124m\"\u001b[39m\u001b[38;5;124m \u001b[39m\u001b[38;5;124m\"\u001b[39m, \u001b[38;5;241m1\u001b[39m)\n\u001b[1;32m   1402\u001b[0m         engine\u001b[38;5;241m.\u001b[39mid[key] \u001b[38;5;241m=\u001b[39m value\n\u001b[0;32m-> 1404\u001b[0m \u001b[38;5;28;01mreturn\u001b[39;00m \u001b[38;5;28;01mawait\u001b[39;00m \u001b[38;5;28mself\u001b[39m\u001b[38;5;241m.\u001b[39mcommunicate(UciInitializeCommand)\n",
      "File \u001b[0;32m~/anaconda3/lib/python3.9/site-packages/chess/engine.py:1069\u001b[0m, in \u001b[0;36mProtocol.communicate\u001b[0;34m(self, command_factory)\u001b[0m\n\u001b[1;32m   1066\u001b[0m \u001b[38;5;28;01melif\u001b[39;00m \u001b[38;5;129;01mnot\u001b[39;00m \u001b[38;5;28mself\u001b[39m\u001b[38;5;241m.\u001b[39mcommand\u001b[38;5;241m.\u001b[39mresult\u001b[38;5;241m.\u001b[39mcancelled():\n\u001b[1;32m   1067\u001b[0m     \u001b[38;5;28mself\u001b[39m\u001b[38;5;241m.\u001b[39mcommand\u001b[38;5;241m.\u001b[39m_cancel(\u001b[38;5;28mself\u001b[39m)\n\u001b[0;32m-> 1069\u001b[0m \u001b[38;5;28;01mreturn\u001b[39;00m \u001b[38;5;28;01mawait\u001b[39;00m command\u001b[38;5;241m.\u001b[39mresult\n",
      "\u001b[0;31mEngineTerminatedError\u001b[0m: engine process died unexpectedly (exit code: 1)"
     ]
    }
   ],
   "source": [
    "import chess\n",
    "import chess.engine\n",
    "\n",
    "engine = chess.engine.SimpleEngine.popen_uci(\"./chesseval/stockfish_15_x64_bmi2\")"
   ]
  },
  {
   "cell_type": "code",
   "execution_count": null,
   "metadata": {},
   "outputs": [],
   "source": [
    "from chess_model.db.models import ChessGame\n",
    "import chess\n",
    "import chess.engine\n",
    "from tqdm import tqdm\n",
    "import threading\n",
    "\n",
    "engine = chess.engine.SimpleEngine.popen_uci(\"/usr/bin/stockfish\")\n",
    "\n",
    "def iter_games(filename: str):\n",
    "    pgn = open(filename, \"r\")\n",
    "    while True:\n",
    "        game = chess.pgn.read_game(pgn)\n",
    "        if game == None:\n",
    "            break\n",
    "        yield game\n",
    "\n",
    "def iter_boards(filename: str):\n",
    "    for game in iter_games(filename):\n",
    "        board = game.board()\n",
    "        yield board\n",
    "        for move in game.mainline_moves():\n",
    "            board.push(move)\n",
    "            board = board.copy(stack=False)\n",
    "            yield board\n",
    "\n",
    "def chunk(iter, n):\n",
    "    curr_chunk = []\n",
    "    for i in iter:\n",
    "        if len(curr_chunk) >= n:\n",
    "            yield curr_chunk\n",
    "            curr_chunk = []\n",
    "        curr_chunk.append(i)\n",
    "    if len(curr_chunk) != 0:\n",
    "        yield curr_chunk\n",
    "\n",
    "def write_eval(outio, board: chess.Board, thread_n: int, time_limit: float, mate_score: int):\n",
    "    epd = board.epd(hmvc=board.halfmove_clock, fmvn=board.fullmove_number)\n",
    "    eval = engine.analyse(board, \n",
    "        chess.engine.Limit(time=time_limit), \n",
    "        info=chess.engine.INFO_SCORE,\n",
    "        options={\"Threads\": thread_n}\n",
    "    )[\"score\"].white().score(mate_score=mate_score)\n",
    "    outio.write(\"%s,%s\\n\" % (epd, eval))\n",
    "\n",
    "class Command(BaseCommand):\n",
    "    help = 'Create a CSV of evaluations given a PGN file.'\n",
    "\n",
    "    def add_arguments(self, parser):\n",
    "        parser.add_argument('--in', type=str, help='Which local file to read PGN data from.')\n",
    "        parser.add_argument('--out', type=str, help='Where to output evaluations to.')\n",
    "        parser.add_argument('--max', type=int, default=1_000, help='Maximum number of boards to parse.')\n",
    "        parser.add_argument('--threads', type=int, default=16, help='Number of threads to calculate with.')\n",
    "        parser.add_argument('--limit', type=float, default=0.005, help='Length of time to calculate board evaluation.')\n",
    "        parser.add_argument('--matescore', type=int, default=100_000, help='How much to value a checkmate')\n",
    "\n",
    "    def handle(self, *args, **options):\n",
    "        infile = options['in']\n",
    "        outfile = options['out']\n",
    "        max_n = options['max']\n",
    "        thread_n = options['threads']\n",
    "        time_limit = options['limit']\n",
    "        mate_score = options['matescore']\n",
    "\n",
    "        with open(outfile, \"w\") as out:\n",
    "            out.write(\"board,eval\\n\")\n",
    "            for i, board in tqdm(enumerate(iter_boards(infile)), total=max_n):\n",
    "                write_eval(out, board, thread_n, time_limit, mate_score)\n",
    "                if i >= max_n: \n",
    "                    break\n",
    "   \n",
    "        "
   ]
  }
 ],
 "metadata": {
  "kernelspec": {
   "display_name": "Python 3 (ipykernel)",
   "language": "python",
   "name": "python3"
  },
  "language_info": {
   "codemirror_mode": {
    "name": "ipython",
    "version": 3
   },
   "file_extension": ".py",
   "mimetype": "text/x-python",
   "name": "python",
   "nbconvert_exporter": "python",
   "pygments_lexer": "ipython3",
   "version": "3.9.7"
  }
 },
 "nbformat": 4,
 "nbformat_minor": 2
}
