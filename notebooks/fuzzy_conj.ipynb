{
 "cells": [
  {
   "cell_type": "code",
   "execution_count": 1,
   "id": "7291df85",
   "metadata": {},
   "outputs": [],
   "source": [
    "import sys\n",
    "import os\n",
    "sys.path.append(os.path.abspath('../src')) # include top level package in python path"
   ]
  },
  {
   "cell_type": "code",
   "execution_count": 2,
   "id": "c00ef21a",
   "metadata": {},
   "outputs": [
    {
     "data": {
      "text/html": [
       "\n",
       "<style>\n",
       ".container { \n",
       "    width: 100% !important;\n",
       "}\n",
       "</style>\n"
      ],
      "text/plain": [
       "<IPython.core.display.HTML object>"
      ]
     },
     "metadata": {},
     "output_type": "display_data"
    }
   ],
   "source": [
    "from IPython.display import display, HTML\n",
    "display(HTML(\"\"\"\n",
    "<style>\n",
    ".container { \n",
    "    width: 100% !important;\n",
    "}\n",
    "</style>\n",
    "\"\"\"))"
   ]
  },
  {
   "cell_type": "code",
   "execution_count": 3,
   "id": "2926b991",
   "metadata": {},
   "outputs": [],
   "source": [
    "import torch\n",
    "from torch import nn, Tensor\n",
    "from model.fuzzy_layer import FuzzyUnsignedConjunction, FuzzyUnsignedDisjunction, FuzzyNumKeepup, keepidx, fuzzy_dropup\n",
    "from model.fuzzy_logic import ProductLogic, MinimumLogic, LukasiewiczLogic, DrasticLogic, SchweizerSklarLogic\n",
    "from model.fuzzy_layer import FuzzyParam\n",
    "from model.bool_logic import BoolLogic\n",
    "from cache import TrainingRegime, TestMetric\n",
    "import matplotlib.pyplot as plt\n",
    "from tqdm.notebook import tqdm\n",
    "from util import shuffle\n",
    "\n",
    "logic = BoolLogic()\n",
    "flogic = ProductLogic()"
   ]
  },
  {
   "cell_type": "code",
   "execution_count": 4,
   "id": "f204489a",
   "metadata": {},
   "outputs": [],
   "source": [
    "device = 'cuda'"
   ]
  },
  {
   "cell_type": "code",
   "execution_count": 5,
   "id": "7c59c22b",
   "metadata": {},
   "outputs": [],
   "source": [
    "def true_conjunction(weights, xs):\n",
    "    return logic.conjoin(logic.implies(weights, xs), dim=1)"
   ]
  },
  {
   "cell_type": "code",
   "execution_count": 6,
   "id": "06d3a20f",
   "metadata": {},
   "outputs": [],
   "source": [
    "from torch.utils.data import Dataset, DataLoader, RandomSampler\n",
    "\n",
    "class WeightedDataset(Dataset):\n",
    "    def __init__(self, N, D, K):\n",
    "        super().__init__()\n",
    "        self.samples = torch.zeros((N, D), dtype=torch.bool)\n",
    "        self.samples[:,:K] = True\n",
    "        self.samples = shuffle(self.samples, dim=-1)\n",
    "        \n",
    "    def __len__(self):\n",
    "        return self.samples.size(0)\n",
    "        \n",
    "    def __getitem__(self, idx):\n",
    "        return self.samples[idx]\n",
    "\n",
    "class BinaryDataset(Dataset):\n",
    "    def __init__(self, shape, N):\n",
    "        self.samples = torch.distributions.bernoulli.Bernoulli(\n",
    "            0.5\n",
    "        ).sample(\n",
    "            torch.Size([N, *shape])\n",
    "        ).bool()\n",
    "        \n",
    "    def __len__(self):\n",
    "        return self.samples.size(0)\n",
    "    \n",
    "    def __getitem__(self, idx):\n",
    "        return self.samples[idx]"
   ]
  },
  {
   "cell_type": "code",
   "execution_count": 7,
   "id": "203dd0f5",
   "metadata": {},
   "outputs": [],
   "source": [
    "class CorrectParamMetric(TestMetric):\n",
    "    def __init__(self, ideal_params):\n",
    "        self.ideal_params = ideal_params\n",
    "    \n",
    "    def name(self):\n",
    "        return \"correct-param\"\n",
    "\n",
    "    def measure_model(self, model, _):\n",
    "        params = (model.weights.value() > 0.5).flatten()\n",
    "        no_correct = (self.ideal_params == params).sum()\n",
    "        return (no_correct / params.numel()).item()\n",
    "    \n",
    "class ParamMeanDistanceMetric(TestMetric):\n",
    "    def __init__(self, ideal_params):\n",
    "        self.ideal_params = ideal_params\n",
    "        \n",
    "    def name(self):\n",
    "        return \"param-mean-distance\"\n",
    "    \n",
    "    def measure_model(self, model, _):\n",
    "        params = model.weights.value().flatten()\n",
    "        crispness = (params - self.ideal_params.float()).abs().mean()\n",
    "        return crispness.item()\n",
    "    \n",
    "class ParamMaxDistanceMetric(TestMetric):\n",
    "    def __init__(self, ideal_params):\n",
    "        self.ideal_params = ideal_params\n",
    "        \n",
    "    def name(self):\n",
    "        return \"param-max-distance\"\n",
    "    \n",
    "    def measure_model(self, model, _):\n",
    "        params = model.weights.value().flatten()\n",
    "        crispness = (params - self.ideal_params.float()).abs().max()\n",
    "        return crispness.item()\n",
    "    \n",
    "class CorrectOutputMetric(TestMetric):\n",
    "    def __init__(self, ideal_params):\n",
    "        self.ideal_params = ideal_params\n",
    "        \n",
    "    def name(self):\n",
    "        return \"correct-output\"\n",
    "    \n",
    "    def measure_model(self, model, it):\n",
    "        count = 0\n",
    "        correct = 0\n",
    "        for bs in it():\n",
    "            bs = model._logic.encode(bs.to(device))\n",
    "            pred = (model(bs) > 0.5).flatten()\n",
    "            true = true_conjunction(self.ideal_params, bs)\n",
    "            correct += (pred == true).sum().item()\n",
    "            count += bs.size(dim=0)\n",
    "        return (correct / count)\n",
    "    \n",
    "class OutputDistanceMetric(TestMetric):\n",
    "    def __init__(self, ideal_params):\n",
    "        self.ideal_params = ideal_params\n",
    "        \n",
    "    def name(self):\n",
    "        return \"output-distance\"\n",
    "    \n",
    "    def measure_model(self, model, it):\n",
    "        count = 0\n",
    "        correct = 0\n",
    "        for bs in it():\n",
    "            bs = model._logic.encode(bs.to(device))\n",
    "            pred = model(bs).flatten()\n",
    "            true = true_conjunction(self.ideal_params, bs)\n",
    "            correct += (pred - true.float()).abs().sum().item()\n",
    "            count += bs.size(dim=0)\n",
    "        return (correct / count)"
   ]
  },
  {
   "cell_type": "code",
   "execution_count": 8,
   "id": "a1c4f88f",
   "metadata": {},
   "outputs": [],
   "source": [
    "def rand_n_true(shape, N):\n",
    "    falses = torch.zeros(shape, dtype=torch.bool)\n",
    "    falses = falses.view(-1)\n",
    "    falses[:N] = True\n",
    "    falses = falses[torch.randperm(falses.size(0))]\n",
    "    return falses.view(*shape)"
   ]
  },
  {
   "cell_type": "code",
   "execution_count": 9,
   "id": "8c88b1fa",
   "metadata": {},
   "outputs": [],
   "source": [
    "class ConjunctionRegime(TrainingRegime):\n",
    "    def __init__(self, logic, no_dims=1000, no_terms=5, no_runs=1, keepn=None):\n",
    "        super().__init__(\"./conjunctions/\", no_runs)\n",
    "        \n",
    "        self.flogic = logic\n",
    "        self.no_dims = no_dims\n",
    "        self.no_terms = no_terms\n",
    "        self.keepn = keepn\n",
    "        \n",
    "        self.weights = self.cache(\n",
    "            \"weights.pt\", \n",
    "            lambda: rand_n_true([self.no_dims], self.no_terms).to(device)\n",
    "        )\n",
    "        \n",
    "        self.tests = [\n",
    "            OutputDistanceMetric(self.weights),\n",
    "            CorrectOutputMetric(self.weights),\n",
    "            CorrectParamMetric(self.weights),\n",
    "            ParamMeanDistanceMetric(self.weights),\n",
    "            ParamMaxDistanceMetric(self.weights),\n",
    "        ]\n",
    "        \n",
    "        self.training_dataset = BinaryDataset([self.no_dims], 10_000)\n",
    "        self.testing_dataset = BinaryDataset([self.no_dims], 10_000)\n",
    "        \n",
    "        self.optims = [None] * no_runs\n",
    "        \n",
    "    def get_optim(self, run_no):\n",
    "        optim = self.optims[run_no - 1]\n",
    "        if optim is None:\n",
    "            model = self.get_loaded_model(run_no)\n",
    "            optim = self.optims[run_no - 1] = (\n",
    "                torch.optim.Adam(model.parameters(), lr=1e-2)\n",
    "            )\n",
    "        return optim\n",
    "        \n",
    "    def regime_str(self):\n",
    "        keep_str = \"\" if self.keepn is None else \" | KEEP N = %s\" % self.keepn\n",
    "        return (\n",
    "            \"CONJUNCTIONS | %s DIMENSIONS | %s TERMS%s\"\n",
    "            % (self.no_dims, self.no_terms, keep_str)\n",
    "        ) \n",
    "        \n",
    "    def regime_filename_elems(self):\n",
    "        elems = [\n",
    "            \"conj\", \n",
    "            \"%sdims\" % self.no_dims,\n",
    "            \"%sterms\" % self.no_terms\n",
    "        ]\n",
    "        if self.keepn is not None:\n",
    "            elems.append(\"keep%s\" % self.keepn)\n",
    "        return elems\n",
    "        \n",
    "    def training_dataloader(self, run_no):\n",
    "        return DataLoader(self.training_dataset, batch_size=128)\n",
    "    \n",
    "    def testing_dataloader(self, run_no):\n",
    "        return DataLoader(self.testing_dataset, batch_size=128)\n",
    "    \n",
    "    def training_step(self, run_no, model):\n",
    "        optim = self.get_optim(run_no)\n",
    "        \n",
    "        def step(bs):\n",
    "            bs = bs.cuda()\n",
    "            cjs = true_conjunction(self.weights, bs)\n",
    "            cj_hats = model(self.flogic.encode(bs)).squeeze()\n",
    "            loss = (self.flogic.bin_xor(self.flogic.encode(cjs), cj_hats) ** 10).sum()\n",
    "            \n",
    "            optim.zero_grad()\n",
    "            loss.backward()\n",
    "            optim.step()\n",
    "            \n",
    "        return step\n",
    "        \n",
    "    def new_model(self):\n",
    "        return FuzzyUnsignedConjunction(\n",
    "            in_features=self.no_dims, \n",
    "            out_features=1, \n",
    "            logic=self.flogic, \n",
    "            keepn=30\n",
    "        ).to(device)"
   ]
  },
  {
   "cell_type": "code",
   "execution_count": null,
   "id": "9d57a16b",
   "metadata": {},
   "outputs": [
    {
     "data": {
      "application/vnd.jupyter.widget-view+json": {
       "model_id": "",
       "version_major": 2,
       "version_minor": 0
      },
      "text/plain": [
       "[CONJUNCTIONS | 1000 DIMENSIONS | 5 TERMS | KEEP N = 50] Run #1, Epoch #1, Training:   0%|          | 0/79 [00…"
      ]
     },
     "metadata": {},
     "output_type": "display_data"
    },
    {
     "data": {
      "application/vnd.jupyter.widget-view+json": {
       "model_id": "",
       "version_major": 2,
       "version_minor": 0
      },
      "text/plain": [
       "[CONJUNCTIONS | 1000 DIMENSIONS | 5 TERMS | KEEP N = 50] Run #1, Epoch #1, Testing [output-distance]:   0%|   …"
      ]
     },
     "metadata": {},
     "output_type": "display_data"
    },
    {
     "data": {
      "application/vnd.jupyter.widget-view+json": {
       "model_id": "",
       "version_major": 2,
       "version_minor": 0
      },
      "text/plain": [
       "[CONJUNCTIONS | 1000 DIMENSIONS | 5 TERMS | KEEP N = 50] Run #1, Epoch #1, Testing [correct-output]:   0%|    …"
      ]
     },
     "metadata": {},
     "output_type": "display_data"
    },
    {
     "data": {
      "application/vnd.jupyter.widget-view+json": {
       "model_id": "",
       "version_major": 2,
       "version_minor": 0
      },
      "text/plain": [
       "[CONJUNCTIONS | 1000 DIMENSIONS | 5 TERMS | KEEP N = 50] Run #1, Epoch #2, Training:   0%|          | 0/79 [00…"
      ]
     },
     "metadata": {},
     "output_type": "display_data"
    },
    {
     "data": {
      "application/vnd.jupyter.widget-view+json": {
       "model_id": "",
       "version_major": 2,
       "version_minor": 0
      },
      "text/plain": [
       "[CONJUNCTIONS | 1000 DIMENSIONS | 5 TERMS | KEEP N = 50] Run #1, Epoch #2, Testing [output-distance]:   0%|   …"
      ]
     },
     "metadata": {},
     "output_type": "display_data"
    },
    {
     "data": {
      "application/vnd.jupyter.widget-view+json": {
       "model_id": "",
       "version_major": 2,
       "version_minor": 0
      },
      "text/plain": [
       "[CONJUNCTIONS | 1000 DIMENSIONS | 5 TERMS | KEEP N = 50] Run #1, Epoch #2, Testing [correct-output]:   0%|    …"
      ]
     },
     "metadata": {},
     "output_type": "display_data"
    },
    {
     "data": {
      "application/vnd.jupyter.widget-view+json": {
       "model_id": "",
       "version_major": 2,
       "version_minor": 0
      },
      "text/plain": [
       "[CONJUNCTIONS | 1000 DIMENSIONS | 5 TERMS | KEEP N = 50] Run #1, Epoch #3, Training:   0%|          | 0/79 [00…"
      ]
     },
     "metadata": {},
     "output_type": "display_data"
    },
    {
     "data": {
      "application/vnd.jupyter.widget-view+json": {
       "model_id": "",
       "version_major": 2,
       "version_minor": 0
      },
      "text/plain": [
       "[CONJUNCTIONS | 1000 DIMENSIONS | 5 TERMS | KEEP N = 50] Run #1, Epoch #3, Testing [output-distance]:   0%|   …"
      ]
     },
     "metadata": {},
     "output_type": "display_data"
    },
    {
     "data": {
      "application/vnd.jupyter.widget-view+json": {
       "model_id": "",
       "version_major": 2,
       "version_minor": 0
      },
      "text/plain": [
       "[CONJUNCTIONS | 1000 DIMENSIONS | 5 TERMS | KEEP N = 50] Run #1, Epoch #3, Testing [correct-output]:   0%|    …"
      ]
     },
     "metadata": {},
     "output_type": "display_data"
    },
    {
     "data": {
      "application/vnd.jupyter.widget-view+json": {
       "model_id": "",
       "version_major": 2,
       "version_minor": 0
      },
      "text/plain": [
       "[CONJUNCTIONS | 1000 DIMENSIONS | 5 TERMS | KEEP N = 50] Run #1, Epoch #4, Training:   0%|          | 0/79 [00…"
      ]
     },
     "metadata": {},
     "output_type": "display_data"
    },
    {
     "data": {
      "application/vnd.jupyter.widget-view+json": {
       "model_id": "",
       "version_major": 2,
       "version_minor": 0
      },
      "text/plain": [
       "[CONJUNCTIONS | 1000 DIMENSIONS | 5 TERMS | KEEP N = 50] Run #1, Epoch #4, Testing [output-distance]:   0%|   …"
      ]
     },
     "metadata": {},
     "output_type": "display_data"
    },
    {
     "data": {
      "application/vnd.jupyter.widget-view+json": {
       "model_id": "",
       "version_major": 2,
       "version_minor": 0
      },
      "text/plain": [
       "[CONJUNCTIONS | 1000 DIMENSIONS | 5 TERMS | KEEP N = 50] Run #1, Epoch #4, Testing [correct-output]:   0%|    …"
      ]
     },
     "metadata": {},
     "output_type": "display_data"
    },
    {
     "data": {
      "application/vnd.jupyter.widget-view+json": {
       "model_id": "",
       "version_major": 2,
       "version_minor": 0
      },
      "text/plain": [
       "[CONJUNCTIONS | 1000 DIMENSIONS | 5 TERMS | KEEP N = 50] Run #1, Epoch #5, Training:   0%|          | 0/79 [00…"
      ]
     },
     "metadata": {},
     "output_type": "display_data"
    },
    {
     "data": {
      "application/vnd.jupyter.widget-view+json": {
       "model_id": "",
       "version_major": 2,
       "version_minor": 0
      },
      "text/plain": [
       "[CONJUNCTIONS | 1000 DIMENSIONS | 5 TERMS | KEEP N = 50] Run #1, Epoch #5, Testing [output-distance]:   0%|   …"
      ]
     },
     "metadata": {},
     "output_type": "display_data"
    },
    {
     "data": {
      "application/vnd.jupyter.widget-view+json": {
       "model_id": "",
       "version_major": 2,
       "version_minor": 0
      },
      "text/plain": [
       "[CONJUNCTIONS | 1000 DIMENSIONS | 5 TERMS | KEEP N = 50] Run #1, Epoch #5, Testing [correct-output]:   0%|    …"
      ]
     },
     "metadata": {},
     "output_type": "display_data"
    },
    {
     "data": {
      "application/vnd.jupyter.widget-view+json": {
       "model_id": "",
       "version_major": 2,
       "version_minor": 0
      },
      "text/plain": [
       "[CONJUNCTIONS | 1000 DIMENSIONS | 5 TERMS | KEEP N = 50] Run #1, Epoch #6, Training:   0%|          | 0/79 [00…"
      ]
     },
     "metadata": {},
     "output_type": "display_data"
    },
    {
     "data": {
      "application/vnd.jupyter.widget-view+json": {
       "model_id": "",
       "version_major": 2,
       "version_minor": 0
      },
      "text/plain": [
       "[CONJUNCTIONS | 1000 DIMENSIONS | 5 TERMS | KEEP N = 50] Run #1, Epoch #6, Testing [output-distance]:   0%|   …"
      ]
     },
     "metadata": {},
     "output_type": "display_data"
    },
    {
     "data": {
      "application/vnd.jupyter.widget-view+json": {
       "model_id": "",
       "version_major": 2,
       "version_minor": 0
      },
      "text/plain": [
       "[CONJUNCTIONS | 1000 DIMENSIONS | 5 TERMS | KEEP N = 50] Run #1, Epoch #6, Testing [correct-output]:   0%|    …"
      ]
     },
     "metadata": {},
     "output_type": "display_data"
    },
    {
     "data": {
      "application/vnd.jupyter.widget-view+json": {
       "model_id": "",
       "version_major": 2,
       "version_minor": 0
      },
      "text/plain": [
       "[CONJUNCTIONS | 1000 DIMENSIONS | 5 TERMS | KEEP N = 50] Run #1, Epoch #7, Training:   0%|          | 0/79 [00…"
      ]
     },
     "metadata": {},
     "output_type": "display_data"
    },
    {
     "data": {
      "application/vnd.jupyter.widget-view+json": {
       "model_id": "",
       "version_major": 2,
       "version_minor": 0
      },
      "text/plain": [
       "[CONJUNCTIONS | 1000 DIMENSIONS | 5 TERMS | KEEP N = 50] Run #1, Epoch #7, Testing [output-distance]:   0%|   …"
      ]
     },
     "metadata": {},
     "output_type": "display_data"
    },
    {
     "data": {
      "application/vnd.jupyter.widget-view+json": {
       "model_id": "",
       "version_major": 2,
       "version_minor": 0
      },
      "text/plain": [
       "[CONJUNCTIONS | 1000 DIMENSIONS | 5 TERMS | KEEP N = 50] Run #1, Epoch #7, Testing [correct-output]:   0%|    …"
      ]
     },
     "metadata": {},
     "output_type": "display_data"
    },
    {
     "data": {
      "application/vnd.jupyter.widget-view+json": {
       "model_id": "",
       "version_major": 2,
       "version_minor": 0
      },
      "text/plain": [
       "[CONJUNCTIONS | 1000 DIMENSIONS | 5 TERMS | KEEP N = 50] Run #1, Epoch #8, Training:   0%|          | 0/79 [00…"
      ]
     },
     "metadata": {},
     "output_type": "display_data"
    },
    {
     "data": {
      "application/vnd.jupyter.widget-view+json": {
       "model_id": "",
       "version_major": 2,
       "version_minor": 0
      },
      "text/plain": [
       "[CONJUNCTIONS | 1000 DIMENSIONS | 5 TERMS | KEEP N = 50] Run #1, Epoch #8, Testing [output-distance]:   0%|   …"
      ]
     },
     "metadata": {},
     "output_type": "display_data"
    },
    {
     "data": {
      "application/vnd.jupyter.widget-view+json": {
       "model_id": "",
       "version_major": 2,
       "version_minor": 0
      },
      "text/plain": [
       "[CONJUNCTIONS | 1000 DIMENSIONS | 5 TERMS | KEEP N = 50] Run #1, Epoch #8, Testing [correct-output]:   0%|    …"
      ]
     },
     "metadata": {},
     "output_type": "display_data"
    },
    {
     "data": {
      "application/vnd.jupyter.widget-view+json": {
       "model_id": "",
       "version_major": 2,
       "version_minor": 0
      },
      "text/plain": [
       "[CONJUNCTIONS | 1000 DIMENSIONS | 5 TERMS | KEEP N = 50] Run #1, Epoch #9, Training:   0%|          | 0/79 [00…"
      ]
     },
     "metadata": {},
     "output_type": "display_data"
    },
    {
     "data": {
      "application/vnd.jupyter.widget-view+json": {
       "model_id": "",
       "version_major": 2,
       "version_minor": 0
      },
      "text/plain": [
       "[CONJUNCTIONS | 1000 DIMENSIONS | 5 TERMS | KEEP N = 50] Run #1, Epoch #9, Testing [output-distance]:   0%|   …"
      ]
     },
     "metadata": {},
     "output_type": "display_data"
    },
    {
     "data": {
      "application/vnd.jupyter.widget-view+json": {
       "model_id": "",
       "version_major": 2,
       "version_minor": 0
      },
      "text/plain": [
       "[CONJUNCTIONS | 1000 DIMENSIONS | 5 TERMS | KEEP N = 50] Run #1, Epoch #9, Testing [correct-output]:   0%|    …"
      ]
     },
     "metadata": {},
     "output_type": "display_data"
    },
    {
     "data": {
      "application/vnd.jupyter.widget-view+json": {
       "model_id": "",
       "version_major": 2,
       "version_minor": 0
      },
      "text/plain": [
       "[CONJUNCTIONS | 1000 DIMENSIONS | 5 TERMS | KEEP N = 50] Run #1, Epoch #10, Training:   0%|          | 0/79 [0…"
      ]
     },
     "metadata": {},
     "output_type": "display_data"
    },
    {
     "data": {
      "application/vnd.jupyter.widget-view+json": {
       "model_id": "",
       "version_major": 2,
       "version_minor": 0
      },
      "text/plain": [
       "[CONJUNCTIONS | 1000 DIMENSIONS | 5 TERMS | KEEP N = 50] Run #1, Epoch #10, Testing [output-distance]:   0%|  …"
      ]
     },
     "metadata": {},
     "output_type": "display_data"
    },
    {
     "data": {
      "application/vnd.jupyter.widget-view+json": {
       "model_id": "",
       "version_major": 2,
       "version_minor": 0
      },
      "text/plain": [
       "[CONJUNCTIONS | 1000 DIMENSIONS | 5 TERMS | KEEP N = 50] Run #1, Epoch #10, Testing [correct-output]:   0%|   …"
      ]
     },
     "metadata": {},
     "output_type": "display_data"
    },
    {
     "data": {
      "application/vnd.jupyter.widget-view+json": {
       "model_id": "",
       "version_major": 2,
       "version_minor": 0
      },
      "text/plain": [
       "[CONJUNCTIONS | 1000 DIMENSIONS | 5 TERMS | KEEP N = 50] Run #1, Epoch #11, Training:   0%|          | 0/79 [0…"
      ]
     },
     "metadata": {},
     "output_type": "display_data"
    },
    {
     "data": {
      "application/vnd.jupyter.widget-view+json": {
       "model_id": "",
       "version_major": 2,
       "version_minor": 0
      },
      "text/plain": [
       "[CONJUNCTIONS | 1000 DIMENSIONS | 5 TERMS | KEEP N = 50] Run #1, Epoch #11, Testing [output-distance]:   0%|  …"
      ]
     },
     "metadata": {},
     "output_type": "display_data"
    },
    {
     "data": {
      "application/vnd.jupyter.widget-view+json": {
       "model_id": "",
       "version_major": 2,
       "version_minor": 0
      },
      "text/plain": [
       "[CONJUNCTIONS | 1000 DIMENSIONS | 5 TERMS | KEEP N = 50] Run #1, Epoch #11, Testing [correct-output]:   0%|   …"
      ]
     },
     "metadata": {},
     "output_type": "display_data"
    },
    {
     "data": {
      "application/vnd.jupyter.widget-view+json": {
       "model_id": "",
       "version_major": 2,
       "version_minor": 0
      },
      "text/plain": [
       "[CONJUNCTIONS | 1000 DIMENSIONS | 5 TERMS | KEEP N = 50] Run #1, Epoch #12, Training:   0%|          | 0/79 [0…"
      ]
     },
     "metadata": {},
     "output_type": "display_data"
    },
    {
     "data": {
      "application/vnd.jupyter.widget-view+json": {
       "model_id": "",
       "version_major": 2,
       "version_minor": 0
      },
      "text/plain": [
       "[CONJUNCTIONS | 1000 DIMENSIONS | 5 TERMS | KEEP N = 50] Run #1, Epoch #12, Testing [output-distance]:   0%|  …"
      ]
     },
     "metadata": {},
     "output_type": "display_data"
    },
    {
     "data": {
      "application/vnd.jupyter.widget-view+json": {
       "model_id": "",
       "version_major": 2,
       "version_minor": 0
      },
      "text/plain": [
       "[CONJUNCTIONS | 1000 DIMENSIONS | 5 TERMS | KEEP N = 50] Run #1, Epoch #12, Testing [correct-output]:   0%|   …"
      ]
     },
     "metadata": {},
     "output_type": "display_data"
    },
    {
     "data": {
      "application/vnd.jupyter.widget-view+json": {
       "model_id": "",
       "version_major": 2,
       "version_minor": 0
      },
      "text/plain": [
       "[CONJUNCTIONS | 1000 DIMENSIONS | 5 TERMS | KEEP N = 50] Run #1, Epoch #13, Training:   0%|          | 0/79 [0…"
      ]
     },
     "metadata": {},
     "output_type": "display_data"
    },
    {
     "data": {
      "application/vnd.jupyter.widget-view+json": {
       "model_id": "",
       "version_major": 2,
       "version_minor": 0
      },
      "text/plain": [
       "[CONJUNCTIONS | 1000 DIMENSIONS | 5 TERMS | KEEP N = 50] Run #1, Epoch #13, Testing [output-distance]:   0%|  …"
      ]
     },
     "metadata": {},
     "output_type": "display_data"
    },
    {
     "data": {
      "application/vnd.jupyter.widget-view+json": {
       "model_id": "",
       "version_major": 2,
       "version_minor": 0
      },
      "text/plain": [
       "[CONJUNCTIONS | 1000 DIMENSIONS | 5 TERMS | KEEP N = 50] Run #1, Epoch #13, Testing [correct-output]:   0%|   …"
      ]
     },
     "metadata": {},
     "output_type": "display_data"
    },
    {
     "data": {
      "application/vnd.jupyter.widget-view+json": {
       "model_id": "",
       "version_major": 2,
       "version_minor": 0
      },
      "text/plain": [
       "[CONJUNCTIONS | 1000 DIMENSIONS | 5 TERMS | KEEP N = 50] Run #1, Epoch #14, Training:   0%|          | 0/79 [0…"
      ]
     },
     "metadata": {},
     "output_type": "display_data"
    },
    {
     "data": {
      "application/vnd.jupyter.widget-view+json": {
       "model_id": "",
       "version_major": 2,
       "version_minor": 0
      },
      "text/plain": [
       "[CONJUNCTIONS | 1000 DIMENSIONS | 5 TERMS | KEEP N = 50] Run #1, Epoch #14, Testing [output-distance]:   0%|  …"
      ]
     },
     "metadata": {},
     "output_type": "display_data"
    },
    {
     "data": {
      "application/vnd.jupyter.widget-view+json": {
       "model_id": "",
       "version_major": 2,
       "version_minor": 0
      },
      "text/plain": [
       "[CONJUNCTIONS | 1000 DIMENSIONS | 5 TERMS | KEEP N = 50] Run #1, Epoch #14, Testing [correct-output]:   0%|   …"
      ]
     },
     "metadata": {},
     "output_type": "display_data"
    },
    {
     "data": {
      "application/vnd.jupyter.widget-view+json": {
       "model_id": "",
       "version_major": 2,
       "version_minor": 0
      },
      "text/plain": [
       "[CONJUNCTIONS | 1000 DIMENSIONS | 5 TERMS | KEEP N = 50] Run #1, Epoch #15, Training:   0%|          | 0/79 [0…"
      ]
     },
     "metadata": {},
     "output_type": "display_data"
    },
    {
     "data": {
      "application/vnd.jupyter.widget-view+json": {
       "model_id": "",
       "version_major": 2,
       "version_minor": 0
      },
      "text/plain": [
       "[CONJUNCTIONS | 1000 DIMENSIONS | 5 TERMS | KEEP N = 50] Run #1, Epoch #15, Testing [output-distance]:   0%|  …"
      ]
     },
     "metadata": {},
     "output_type": "display_data"
    },
    {
     "data": {
      "application/vnd.jupyter.widget-view+json": {
       "model_id": "",
       "version_major": 2,
       "version_minor": 0
      },
      "text/plain": [
       "[CONJUNCTIONS | 1000 DIMENSIONS | 5 TERMS | KEEP N = 50] Run #1, Epoch #15, Testing [correct-output]:   0%|   …"
      ]
     },
     "metadata": {},
     "output_type": "display_data"
    },
    {
     "data": {
      "application/vnd.jupyter.widget-view+json": {
       "model_id": "",
       "version_major": 2,
       "version_minor": 0
      },
      "text/plain": [
       "[CONJUNCTIONS | 1000 DIMENSIONS | 5 TERMS | KEEP N = 50] Run #1, Epoch #16, Training:   0%|          | 0/79 [0…"
      ]
     },
     "metadata": {},
     "output_type": "display_data"
    },
    {
     "data": {
      "application/vnd.jupyter.widget-view+json": {
       "model_id": "",
       "version_major": 2,
       "version_minor": 0
      },
      "text/plain": [
       "[CONJUNCTIONS | 1000 DIMENSIONS | 5 TERMS | KEEP N = 50] Run #1, Epoch #16, Testing [output-distance]:   0%|  …"
      ]
     },
     "metadata": {},
     "output_type": "display_data"
    },
    {
     "data": {
      "application/vnd.jupyter.widget-view+json": {
       "model_id": "",
       "version_major": 2,
       "version_minor": 0
      },
      "text/plain": [
       "[CONJUNCTIONS | 1000 DIMENSIONS | 5 TERMS | KEEP N = 50] Run #1, Epoch #16, Testing [correct-output]:   0%|   …"
      ]
     },
     "metadata": {},
     "output_type": "display_data"
    },
    {
     "data": {
      "application/vnd.jupyter.widget-view+json": {
       "model_id": "",
       "version_major": 2,
       "version_minor": 0
      },
      "text/plain": [
       "[CONJUNCTIONS | 1000 DIMENSIONS | 5 TERMS | KEEP N = 50] Run #1, Epoch #17, Training:   0%|          | 0/79 [0…"
      ]
     },
     "metadata": {},
     "output_type": "display_data"
    },
    {
     "data": {
      "application/vnd.jupyter.widget-view+json": {
       "model_id": "",
       "version_major": 2,
       "version_minor": 0
      },
      "text/plain": [
       "[CONJUNCTIONS | 1000 DIMENSIONS | 5 TERMS | KEEP N = 50] Run #1, Epoch #17, Testing [output-distance]:   0%|  …"
      ]
     },
     "metadata": {},
     "output_type": "display_data"
    },
    {
     "data": {
      "application/vnd.jupyter.widget-view+json": {
       "model_id": "",
       "version_major": 2,
       "version_minor": 0
      },
      "text/plain": [
       "[CONJUNCTIONS | 1000 DIMENSIONS | 5 TERMS | KEEP N = 50] Run #1, Epoch #17, Testing [correct-output]:   0%|   …"
      ]
     },
     "metadata": {},
     "output_type": "display_data"
    },
    {
     "data": {
      "application/vnd.jupyter.widget-view+json": {
       "model_id": "",
       "version_major": 2,
       "version_minor": 0
      },
      "text/plain": [
       "[CONJUNCTIONS | 1000 DIMENSIONS | 5 TERMS | KEEP N = 50] Run #1, Epoch #18, Training:   0%|          | 0/79 [0…"
      ]
     },
     "metadata": {},
     "output_type": "display_data"
    },
    {
     "data": {
      "application/vnd.jupyter.widget-view+json": {
       "model_id": "",
       "version_major": 2,
       "version_minor": 0
      },
      "text/plain": [
       "[CONJUNCTIONS | 1000 DIMENSIONS | 5 TERMS | KEEP N = 50] Run #1, Epoch #18, Testing [output-distance]:   0%|  …"
      ]
     },
     "metadata": {},
     "output_type": "display_data"
    },
    {
     "data": {
      "application/vnd.jupyter.widget-view+json": {
       "model_id": "",
       "version_major": 2,
       "version_minor": 0
      },
      "text/plain": [
       "[CONJUNCTIONS | 1000 DIMENSIONS | 5 TERMS | KEEP N = 50] Run #1, Epoch #18, Testing [correct-output]:   0%|   …"
      ]
     },
     "metadata": {},
     "output_type": "display_data"
    },
    {
     "data": {
      "application/vnd.jupyter.widget-view+json": {
       "model_id": "",
       "version_major": 2,
       "version_minor": 0
      },
      "text/plain": [
       "[CONJUNCTIONS | 1000 DIMENSIONS | 5 TERMS | KEEP N = 50] Run #1, Epoch #19, Training:   0%|          | 0/79 [0…"
      ]
     },
     "metadata": {},
     "output_type": "display_data"
    },
    {
     "data": {
      "application/vnd.jupyter.widget-view+json": {
       "model_id": "",
       "version_major": 2,
       "version_minor": 0
      },
      "text/plain": [
       "[CONJUNCTIONS | 1000 DIMENSIONS | 5 TERMS | KEEP N = 50] Run #1, Epoch #19, Testing [output-distance]:   0%|  …"
      ]
     },
     "metadata": {},
     "output_type": "display_data"
    },
    {
     "data": {
      "application/vnd.jupyter.widget-view+json": {
       "model_id": "",
       "version_major": 2,
       "version_minor": 0
      },
      "text/plain": [
       "[CONJUNCTIONS | 1000 DIMENSIONS | 5 TERMS | KEEP N = 50] Run #1, Epoch #19, Testing [correct-output]:   0%|   …"
      ]
     },
     "metadata": {},
     "output_type": "display_data"
    },
    {
     "data": {
      "application/vnd.jupyter.widget-view+json": {
       "model_id": "",
       "version_major": 2,
       "version_minor": 0
      },
      "text/plain": [
       "[CONJUNCTIONS | 1000 DIMENSIONS | 5 TERMS | KEEP N = 50] Run #1, Epoch #20, Training:   0%|          | 0/79 [0…"
      ]
     },
     "metadata": {},
     "output_type": "display_data"
    },
    {
     "data": {
      "application/vnd.jupyter.widget-view+json": {
       "model_id": "",
       "version_major": 2,
       "version_minor": 0
      },
      "text/plain": [
       "[CONJUNCTIONS | 1000 DIMENSIONS | 5 TERMS | KEEP N = 50] Run #1, Epoch #20, Testing [output-distance]:   0%|  …"
      ]
     },
     "metadata": {},
     "output_type": "display_data"
    },
    {
     "data": {
      "application/vnd.jupyter.widget-view+json": {
       "model_id": "",
       "version_major": 2,
       "version_minor": 0
      },
      "text/plain": [
       "[CONJUNCTIONS | 1000 DIMENSIONS | 5 TERMS | KEEP N = 50] Run #1, Epoch #20, Testing [correct-output]:   0%|   …"
      ]
     },
     "metadata": {},
     "output_type": "display_data"
    },
    {
     "data": {
      "application/vnd.jupyter.widget-view+json": {
       "model_id": "",
       "version_major": 2,
       "version_minor": 0
      },
      "text/plain": [
       "[CONJUNCTIONS | 1000 DIMENSIONS | 5 TERMS | KEEP N = 50] Run #1, Epoch #21, Training:   0%|          | 0/79 [0…"
      ]
     },
     "metadata": {},
     "output_type": "display_data"
    },
    {
     "data": {
      "application/vnd.jupyter.widget-view+json": {
       "model_id": "",
       "version_major": 2,
       "version_minor": 0
      },
      "text/plain": [
       "[CONJUNCTIONS | 1000 DIMENSIONS | 5 TERMS | KEEP N = 50] Run #1, Epoch #21, Testing [output-distance]:   0%|  …"
      ]
     },
     "metadata": {},
     "output_type": "display_data"
    },
    {
     "data": {
      "application/vnd.jupyter.widget-view+json": {
       "model_id": "",
       "version_major": 2,
       "version_minor": 0
      },
      "text/plain": [
       "[CONJUNCTIONS | 1000 DIMENSIONS | 5 TERMS | KEEP N = 50] Run #1, Epoch #21, Testing [correct-output]:   0%|   …"
      ]
     },
     "metadata": {},
     "output_type": "display_data"
    },
    {
     "data": {
      "application/vnd.jupyter.widget-view+json": {
       "model_id": "",
       "version_major": 2,
       "version_minor": 0
      },
      "text/plain": [
       "[CONJUNCTIONS | 1000 DIMENSIONS | 5 TERMS | KEEP N = 50] Run #1, Epoch #22, Training:   0%|          | 0/79 [0…"
      ]
     },
     "metadata": {},
     "output_type": "display_data"
    },
    {
     "data": {
      "application/vnd.jupyter.widget-view+json": {
       "model_id": "",
       "version_major": 2,
       "version_minor": 0
      },
      "text/plain": [
       "[CONJUNCTIONS | 1000 DIMENSIONS | 5 TERMS | KEEP N = 50] Run #1, Epoch #22, Testing [output-distance]:   0%|  …"
      ]
     },
     "metadata": {},
     "output_type": "display_data"
    },
    {
     "data": {
      "application/vnd.jupyter.widget-view+json": {
       "model_id": "",
       "version_major": 2,
       "version_minor": 0
      },
      "text/plain": [
       "[CONJUNCTIONS | 1000 DIMENSIONS | 5 TERMS | KEEP N = 50] Run #1, Epoch #22, Testing [correct-output]:   0%|   …"
      ]
     },
     "metadata": {},
     "output_type": "display_data"
    },
    {
     "data": {
      "application/vnd.jupyter.widget-view+json": {
       "model_id": "",
       "version_major": 2,
       "version_minor": 0
      },
      "text/plain": [
       "[CONJUNCTIONS | 1000 DIMENSIONS | 5 TERMS | KEEP N = 50] Run #1, Epoch #23, Training:   0%|          | 0/79 [0…"
      ]
     },
     "metadata": {},
     "output_type": "display_data"
    },
    {
     "data": {
      "application/vnd.jupyter.widget-view+json": {
       "model_id": "",
       "version_major": 2,
       "version_minor": 0
      },
      "text/plain": [
       "[CONJUNCTIONS | 1000 DIMENSIONS | 5 TERMS | KEEP N = 50] Run #1, Epoch #23, Testing [output-distance]:   0%|  …"
      ]
     },
     "metadata": {},
     "output_type": "display_data"
    },
    {
     "data": {
      "application/vnd.jupyter.widget-view+json": {
       "model_id": "",
       "version_major": 2,
       "version_minor": 0
      },
      "text/plain": [
       "[CONJUNCTIONS | 1000 DIMENSIONS | 5 TERMS | KEEP N = 50] Run #1, Epoch #23, Testing [correct-output]:   0%|   …"
      ]
     },
     "metadata": {},
     "output_type": "display_data"
    },
    {
     "data": {
      "application/vnd.jupyter.widget-view+json": {
       "model_id": "",
       "version_major": 2,
       "version_minor": 0
      },
      "text/plain": [
       "[CONJUNCTIONS | 1000 DIMENSIONS | 5 TERMS | KEEP N = 50] Run #1, Epoch #24, Training:   0%|          | 0/79 [0…"
      ]
     },
     "metadata": {},
     "output_type": "display_data"
    },
    {
     "data": {
      "application/vnd.jupyter.widget-view+json": {
       "model_id": "",
       "version_major": 2,
       "version_minor": 0
      },
      "text/plain": [
       "[CONJUNCTIONS | 1000 DIMENSIONS | 5 TERMS | KEEP N = 50] Run #1, Epoch #24, Testing [output-distance]:   0%|  …"
      ]
     },
     "metadata": {},
     "output_type": "display_data"
    },
    {
     "data": {
      "application/vnd.jupyter.widget-view+json": {
       "model_id": "",
       "version_major": 2,
       "version_minor": 0
      },
      "text/plain": [
       "[CONJUNCTIONS | 1000 DIMENSIONS | 5 TERMS | KEEP N = 50] Run #1, Epoch #24, Testing [correct-output]:   0%|   …"
      ]
     },
     "metadata": {},
     "output_type": "display_data"
    },
    {
     "data": {
      "application/vnd.jupyter.widget-view+json": {
       "model_id": "",
       "version_major": 2,
       "version_minor": 0
      },
      "text/plain": [
       "[CONJUNCTIONS | 1000 DIMENSIONS | 5 TERMS | KEEP N = 50] Run #1, Epoch #25, Training:   0%|          | 0/79 [0…"
      ]
     },
     "metadata": {},
     "output_type": "display_data"
    },
    {
     "data": {
      "application/vnd.jupyter.widget-view+json": {
       "model_id": "",
       "version_major": 2,
       "version_minor": 0
      },
      "text/plain": [
       "[CONJUNCTIONS | 1000 DIMENSIONS | 5 TERMS | KEEP N = 50] Run #1, Epoch #25, Testing [output-distance]:   0%|  …"
      ]
     },
     "metadata": {},
     "output_type": "display_data"
    },
    {
     "data": {
      "application/vnd.jupyter.widget-view+json": {
       "model_id": "",
       "version_major": 2,
       "version_minor": 0
      },
      "text/plain": [
       "[CONJUNCTIONS | 1000 DIMENSIONS | 5 TERMS | KEEP N = 50] Run #1, Epoch #25, Testing [correct-output]:   0%|   …"
      ]
     },
     "metadata": {},
     "output_type": "display_data"
    },
    {
     "data": {
      "application/vnd.jupyter.widget-view+json": {
       "model_id": "",
       "version_major": 2,
       "version_minor": 0
      },
      "text/plain": [
       "[CONJUNCTIONS | 1000 DIMENSIONS | 5 TERMS | KEEP N = 50] Run #1, Epoch #26, Training:   0%|          | 0/79 [0…"
      ]
     },
     "metadata": {},
     "output_type": "display_data"
    },
    {
     "data": {
      "application/vnd.jupyter.widget-view+json": {
       "model_id": "",
       "version_major": 2,
       "version_minor": 0
      },
      "text/plain": [
       "[CONJUNCTIONS | 1000 DIMENSIONS | 5 TERMS | KEEP N = 50] Run #1, Epoch #26, Testing [output-distance]:   0%|  …"
      ]
     },
     "metadata": {},
     "output_type": "display_data"
    },
    {
     "data": {
      "application/vnd.jupyter.widget-view+json": {
       "model_id": "",
       "version_major": 2,
       "version_minor": 0
      },
      "text/plain": [
       "[CONJUNCTIONS | 1000 DIMENSIONS | 5 TERMS | KEEP N = 50] Run #1, Epoch #26, Testing [correct-output]:   0%|   …"
      ]
     },
     "metadata": {},
     "output_type": "display_data"
    },
    {
     "data": {
      "application/vnd.jupyter.widget-view+json": {
       "model_id": "",
       "version_major": 2,
       "version_minor": 0
      },
      "text/plain": [
       "[CONJUNCTIONS | 1000 DIMENSIONS | 5 TERMS | KEEP N = 50] Run #1, Epoch #27, Training:   0%|          | 0/79 [0…"
      ]
     },
     "metadata": {},
     "output_type": "display_data"
    },
    {
     "data": {
      "application/vnd.jupyter.widget-view+json": {
       "model_id": "",
       "version_major": 2,
       "version_minor": 0
      },
      "text/plain": [
       "[CONJUNCTIONS | 1000 DIMENSIONS | 5 TERMS | KEEP N = 50] Run #1, Epoch #27, Testing [output-distance]:   0%|  …"
      ]
     },
     "metadata": {},
     "output_type": "display_data"
    },
    {
     "data": {
      "application/vnd.jupyter.widget-view+json": {
       "model_id": "",
       "version_major": 2,
       "version_minor": 0
      },
      "text/plain": [
       "[CONJUNCTIONS | 1000 DIMENSIONS | 5 TERMS | KEEP N = 50] Run #1, Epoch #27, Testing [correct-output]:   0%|   …"
      ]
     },
     "metadata": {},
     "output_type": "display_data"
    },
    {
     "data": {
      "application/vnd.jupyter.widget-view+json": {
       "model_id": "",
       "version_major": 2,
       "version_minor": 0
      },
      "text/plain": [
       "[CONJUNCTIONS | 1000 DIMENSIONS | 5 TERMS | KEEP N = 50] Run #1, Epoch #28, Training:   0%|          | 0/79 [0…"
      ]
     },
     "metadata": {},
     "output_type": "display_data"
    },
    {
     "data": {
      "application/vnd.jupyter.widget-view+json": {
       "model_id": "",
       "version_major": 2,
       "version_minor": 0
      },
      "text/plain": [
       "[CONJUNCTIONS | 1000 DIMENSIONS | 5 TERMS | KEEP N = 50] Run #1, Epoch #28, Testing [output-distance]:   0%|  …"
      ]
     },
     "metadata": {},
     "output_type": "display_data"
    },
    {
     "data": {
      "application/vnd.jupyter.widget-view+json": {
       "model_id": "",
       "version_major": 2,
       "version_minor": 0
      },
      "text/plain": [
       "[CONJUNCTIONS | 1000 DIMENSIONS | 5 TERMS | KEEP N = 50] Run #1, Epoch #28, Testing [correct-output]:   0%|   …"
      ]
     },
     "metadata": {},
     "output_type": "display_data"
    },
    {
     "data": {
      "application/vnd.jupyter.widget-view+json": {
       "model_id": "",
       "version_major": 2,
       "version_minor": 0
      },
      "text/plain": [
       "[CONJUNCTIONS | 1000 DIMENSIONS | 5 TERMS | KEEP N = 50] Run #1, Epoch #29, Training:   0%|          | 0/79 [0…"
      ]
     },
     "metadata": {},
     "output_type": "display_data"
    },
    {
     "data": {
      "application/vnd.jupyter.widget-view+json": {
       "model_id": "",
       "version_major": 2,
       "version_minor": 0
      },
      "text/plain": [
       "[CONJUNCTIONS | 1000 DIMENSIONS | 5 TERMS | KEEP N = 50] Run #1, Epoch #29, Testing [output-distance]:   0%|  …"
      ]
     },
     "metadata": {},
     "output_type": "display_data"
    },
    {
     "data": {
      "application/vnd.jupyter.widget-view+json": {
       "model_id": "",
       "version_major": 2,
       "version_minor": 0
      },
      "text/plain": [
       "[CONJUNCTIONS | 1000 DIMENSIONS | 5 TERMS | KEEP N = 50] Run #1, Epoch #29, Testing [correct-output]:   0%|   …"
      ]
     },
     "metadata": {},
     "output_type": "display_data"
    },
    {
     "data": {
      "application/vnd.jupyter.widget-view+json": {
       "model_id": "",
       "version_major": 2,
       "version_minor": 0
      },
      "text/plain": [
       "[CONJUNCTIONS | 1000 DIMENSIONS | 5 TERMS | KEEP N = 50] Run #1, Epoch #30, Training:   0%|          | 0/79 [0…"
      ]
     },
     "metadata": {},
     "output_type": "display_data"
    },
    {
     "data": {
      "application/vnd.jupyter.widget-view+json": {
       "model_id": "",
       "version_major": 2,
       "version_minor": 0
      },
      "text/plain": [
       "[CONJUNCTIONS | 1000 DIMENSIONS | 5 TERMS | KEEP N = 50] Run #1, Epoch #30, Testing [output-distance]:   0%|  …"
      ]
     },
     "metadata": {},
     "output_type": "display_data"
    },
    {
     "data": {
      "application/vnd.jupyter.widget-view+json": {
       "model_id": "",
       "version_major": 2,
       "version_minor": 0
      },
      "text/plain": [
       "[CONJUNCTIONS | 1000 DIMENSIONS | 5 TERMS | KEEP N = 50] Run #1, Epoch #30, Testing [correct-output]:   0%|   …"
      ]
     },
     "metadata": {},
     "output_type": "display_data"
    },
    {
     "data": {
      "application/vnd.jupyter.widget-view+json": {
       "model_id": "",
       "version_major": 2,
       "version_minor": 0
      },
      "text/plain": [
       "[CONJUNCTIONS | 1000 DIMENSIONS | 5 TERMS | KEEP N = 50] Run #1, Epoch #31, Training:   0%|          | 0/79 [0…"
      ]
     },
     "metadata": {},
     "output_type": "display_data"
    },
    {
     "data": {
      "application/vnd.jupyter.widget-view+json": {
       "model_id": "",
       "version_major": 2,
       "version_minor": 0
      },
      "text/plain": [
       "[CONJUNCTIONS | 1000 DIMENSIONS | 5 TERMS | KEEP N = 50] Run #1, Epoch #31, Testing [output-distance]:   0%|  …"
      ]
     },
     "metadata": {},
     "output_type": "display_data"
    },
    {
     "data": {
      "application/vnd.jupyter.widget-view+json": {
       "model_id": "",
       "version_major": 2,
       "version_minor": 0
      },
      "text/plain": [
       "[CONJUNCTIONS | 1000 DIMENSIONS | 5 TERMS | KEEP N = 50] Run #1, Epoch #31, Testing [correct-output]:   0%|   …"
      ]
     },
     "metadata": {},
     "output_type": "display_data"
    },
    {
     "data": {
      "application/vnd.jupyter.widget-view+json": {
       "model_id": "",
       "version_major": 2,
       "version_minor": 0
      },
      "text/plain": [
       "[CONJUNCTIONS | 1000 DIMENSIONS | 5 TERMS | KEEP N = 50] Run #1, Epoch #32, Training:   0%|          | 0/79 [0…"
      ]
     },
     "metadata": {},
     "output_type": "display_data"
    },
    {
     "data": {
      "application/vnd.jupyter.widget-view+json": {
       "model_id": "",
       "version_major": 2,
       "version_minor": 0
      },
      "text/plain": [
       "[CONJUNCTIONS | 1000 DIMENSIONS | 5 TERMS | KEEP N = 50] Run #1, Epoch #32, Testing [output-distance]:   0%|  …"
      ]
     },
     "metadata": {},
     "output_type": "display_data"
    },
    {
     "data": {
      "application/vnd.jupyter.widget-view+json": {
       "model_id": "",
       "version_major": 2,
       "version_minor": 0
      },
      "text/plain": [
       "[CONJUNCTIONS | 1000 DIMENSIONS | 5 TERMS | KEEP N = 50] Run #1, Epoch #32, Testing [correct-output]:   0%|   …"
      ]
     },
     "metadata": {},
     "output_type": "display_data"
    },
    {
     "data": {
      "application/vnd.jupyter.widget-view+json": {
       "model_id": "",
       "version_major": 2,
       "version_minor": 0
      },
      "text/plain": [
       "[CONJUNCTIONS | 1000 DIMENSIONS | 5 TERMS | KEEP N = 50] Run #1, Epoch #33, Training:   0%|          | 0/79 [0…"
      ]
     },
     "metadata": {},
     "output_type": "display_data"
    },
    {
     "data": {
      "application/vnd.jupyter.widget-view+json": {
       "model_id": "",
       "version_major": 2,
       "version_minor": 0
      },
      "text/plain": [
       "[CONJUNCTIONS | 1000 DIMENSIONS | 5 TERMS | KEEP N = 50] Run #1, Epoch #33, Testing [output-distance]:   0%|  …"
      ]
     },
     "metadata": {},
     "output_type": "display_data"
    },
    {
     "data": {
      "application/vnd.jupyter.widget-view+json": {
       "model_id": "",
       "version_major": 2,
       "version_minor": 0
      },
      "text/plain": [
       "[CONJUNCTIONS | 1000 DIMENSIONS | 5 TERMS | KEEP N = 50] Run #1, Epoch #33, Testing [correct-output]:   0%|   …"
      ]
     },
     "metadata": {},
     "output_type": "display_data"
    },
    {
     "data": {
      "application/vnd.jupyter.widget-view+json": {
       "model_id": "",
       "version_major": 2,
       "version_minor": 0
      },
      "text/plain": [
       "[CONJUNCTIONS | 1000 DIMENSIONS | 5 TERMS | KEEP N = 50] Run #1, Epoch #34, Training:   0%|          | 0/79 [0…"
      ]
     },
     "metadata": {},
     "output_type": "display_data"
    },
    {
     "data": {
      "application/vnd.jupyter.widget-view+json": {
       "model_id": "",
       "version_major": 2,
       "version_minor": 0
      },
      "text/plain": [
       "[CONJUNCTIONS | 1000 DIMENSIONS | 5 TERMS | KEEP N = 50] Run #1, Epoch #34, Testing [output-distance]:   0%|  …"
      ]
     },
     "metadata": {},
     "output_type": "display_data"
    },
    {
     "data": {
      "application/vnd.jupyter.widget-view+json": {
       "model_id": "",
       "version_major": 2,
       "version_minor": 0
      },
      "text/plain": [
       "[CONJUNCTIONS | 1000 DIMENSIONS | 5 TERMS | KEEP N = 50] Run #1, Epoch #34, Testing [correct-output]:   0%|   …"
      ]
     },
     "metadata": {},
     "output_type": "display_data"
    },
    {
     "data": {
      "application/vnd.jupyter.widget-view+json": {
       "model_id": "",
       "version_major": 2,
       "version_minor": 0
      },
      "text/plain": [
       "[CONJUNCTIONS | 1000 DIMENSIONS | 5 TERMS | KEEP N = 50] Run #1, Epoch #35, Training:   0%|          | 0/79 [0…"
      ]
     },
     "metadata": {},
     "output_type": "display_data"
    },
    {
     "data": {
      "application/vnd.jupyter.widget-view+json": {
       "model_id": "",
       "version_major": 2,
       "version_minor": 0
      },
      "text/plain": [
       "[CONJUNCTIONS | 1000 DIMENSIONS | 5 TERMS | KEEP N = 50] Run #1, Epoch #35, Testing [output-distance]:   0%|  …"
      ]
     },
     "metadata": {},
     "output_type": "display_data"
    },
    {
     "data": {
      "application/vnd.jupyter.widget-view+json": {
       "model_id": "",
       "version_major": 2,
       "version_minor": 0
      },
      "text/plain": [
       "[CONJUNCTIONS | 1000 DIMENSIONS | 5 TERMS | KEEP N = 50] Run #1, Epoch #35, Testing [correct-output]:   0%|   …"
      ]
     },
     "metadata": {},
     "output_type": "display_data"
    },
    {
     "data": {
      "application/vnd.jupyter.widget-view+json": {
       "model_id": "",
       "version_major": 2,
       "version_minor": 0
      },
      "text/plain": [
       "[CONJUNCTIONS | 1000 DIMENSIONS | 5 TERMS | KEEP N = 50] Run #1, Epoch #36, Training:   0%|          | 0/79 [0…"
      ]
     },
     "metadata": {},
     "output_type": "display_data"
    },
    {
     "data": {
      "application/vnd.jupyter.widget-view+json": {
       "model_id": "",
       "version_major": 2,
       "version_minor": 0
      },
      "text/plain": [
       "[CONJUNCTIONS | 1000 DIMENSIONS | 5 TERMS | KEEP N = 50] Run #1, Epoch #36, Testing [output-distance]:   0%|  …"
      ]
     },
     "metadata": {},
     "output_type": "display_data"
    },
    {
     "data": {
      "application/vnd.jupyter.widget-view+json": {
       "model_id": "",
       "version_major": 2,
       "version_minor": 0
      },
      "text/plain": [
       "[CONJUNCTIONS | 1000 DIMENSIONS | 5 TERMS | KEEP N = 50] Run #1, Epoch #36, Testing [correct-output]:   0%|   …"
      ]
     },
     "metadata": {},
     "output_type": "display_data"
    },
    {
     "data": {
      "application/vnd.jupyter.widget-view+json": {
       "model_id": "",
       "version_major": 2,
       "version_minor": 0
      },
      "text/plain": [
       "[CONJUNCTIONS | 1000 DIMENSIONS | 5 TERMS | KEEP N = 50] Run #1, Epoch #37, Training:   0%|          | 0/79 [0…"
      ]
     },
     "metadata": {},
     "output_type": "display_data"
    },
    {
     "data": {
      "application/vnd.jupyter.widget-view+json": {
       "model_id": "",
       "version_major": 2,
       "version_minor": 0
      },
      "text/plain": [
       "[CONJUNCTIONS | 1000 DIMENSIONS | 5 TERMS | KEEP N = 50] Run #1, Epoch #37, Testing [output-distance]:   0%|  …"
      ]
     },
     "metadata": {},
     "output_type": "display_data"
    },
    {
     "data": {
      "application/vnd.jupyter.widget-view+json": {
       "model_id": "",
       "version_major": 2,
       "version_minor": 0
      },
      "text/plain": [
       "[CONJUNCTIONS | 1000 DIMENSIONS | 5 TERMS | KEEP N = 50] Run #1, Epoch #37, Testing [correct-output]:   0%|   …"
      ]
     },
     "metadata": {},
     "output_type": "display_data"
    },
    {
     "data": {
      "application/vnd.jupyter.widget-view+json": {
       "model_id": "",
       "version_major": 2,
       "version_minor": 0
      },
      "text/plain": [
       "[CONJUNCTIONS | 1000 DIMENSIONS | 5 TERMS | KEEP N = 50] Run #1, Epoch #38, Training:   0%|          | 0/79 [0…"
      ]
     },
     "metadata": {},
     "output_type": "display_data"
    },
    {
     "data": {
      "application/vnd.jupyter.widget-view+json": {
       "model_id": "",
       "version_major": 2,
       "version_minor": 0
      },
      "text/plain": [
       "[CONJUNCTIONS | 1000 DIMENSIONS | 5 TERMS | KEEP N = 50] Run #1, Epoch #38, Testing [output-distance]:   0%|  …"
      ]
     },
     "metadata": {},
     "output_type": "display_data"
    },
    {
     "data": {
      "application/vnd.jupyter.widget-view+json": {
       "model_id": "",
       "version_major": 2,
       "version_minor": 0
      },
      "text/plain": [
       "[CONJUNCTIONS | 1000 DIMENSIONS | 5 TERMS | KEEP N = 50] Run #1, Epoch #38, Testing [correct-output]:   0%|   …"
      ]
     },
     "metadata": {},
     "output_type": "display_data"
    },
    {
     "data": {
      "application/vnd.jupyter.widget-view+json": {
       "model_id": "",
       "version_major": 2,
       "version_minor": 0
      },
      "text/plain": [
       "[CONJUNCTIONS | 1000 DIMENSIONS | 5 TERMS | KEEP N = 50] Run #1, Epoch #39, Training:   0%|          | 0/79 [0…"
      ]
     },
     "metadata": {},
     "output_type": "display_data"
    },
    {
     "data": {
      "application/vnd.jupyter.widget-view+json": {
       "model_id": "",
       "version_major": 2,
       "version_minor": 0
      },
      "text/plain": [
       "[CONJUNCTIONS | 1000 DIMENSIONS | 5 TERMS | KEEP N = 50] Run #1, Epoch #39, Testing [output-distance]:   0%|  …"
      ]
     },
     "metadata": {},
     "output_type": "display_data"
    },
    {
     "data": {
      "application/vnd.jupyter.widget-view+json": {
       "model_id": "",
       "version_major": 2,
       "version_minor": 0
      },
      "text/plain": [
       "[CONJUNCTIONS | 1000 DIMENSIONS | 5 TERMS | KEEP N = 50] Run #1, Epoch #39, Testing [correct-output]:   0%|   …"
      ]
     },
     "metadata": {},
     "output_type": "display_data"
    },
    {
     "data": {
      "application/vnd.jupyter.widget-view+json": {
       "model_id": "",
       "version_major": 2,
       "version_minor": 0
      },
      "text/plain": [
       "[CONJUNCTIONS | 1000 DIMENSIONS | 5 TERMS | KEEP N = 50] Run #1, Epoch #40, Training:   0%|          | 0/79 [0…"
      ]
     },
     "metadata": {},
     "output_type": "display_data"
    },
    {
     "data": {
      "application/vnd.jupyter.widget-view+json": {
       "model_id": "",
       "version_major": 2,
       "version_minor": 0
      },
      "text/plain": [
       "[CONJUNCTIONS | 1000 DIMENSIONS | 5 TERMS | KEEP N = 50] Run #1, Epoch #40, Testing [output-distance]:   0%|  …"
      ]
     },
     "metadata": {},
     "output_type": "display_data"
    },
    {
     "data": {
      "application/vnd.jupyter.widget-view+json": {
       "model_id": "",
       "version_major": 2,
       "version_minor": 0
      },
      "text/plain": [
       "[CONJUNCTIONS | 1000 DIMENSIONS | 5 TERMS | KEEP N = 50] Run #1, Epoch #40, Testing [correct-output]:   0%|   …"
      ]
     },
     "metadata": {},
     "output_type": "display_data"
    },
    {
     "data": {
      "application/vnd.jupyter.widget-view+json": {
       "model_id": "",
       "version_major": 2,
       "version_minor": 0
      },
      "text/plain": [
       "[CONJUNCTIONS | 1000 DIMENSIONS | 5 TERMS | KEEP N = 50] Run #2, Epoch #1, Training:   0%|          | 0/79 [00…"
      ]
     },
     "metadata": {},
     "output_type": "display_data"
    },
    {
     "data": {
      "application/vnd.jupyter.widget-view+json": {
       "model_id": "",
       "version_major": 2,
       "version_minor": 0
      },
      "text/plain": [
       "[CONJUNCTIONS | 1000 DIMENSIONS | 5 TERMS | KEEP N = 50] Run #2, Epoch #1, Testing [output-distance]:   0%|   …"
      ]
     },
     "metadata": {},
     "output_type": "display_data"
    },
    {
     "data": {
      "application/vnd.jupyter.widget-view+json": {
       "model_id": "",
       "version_major": 2,
       "version_minor": 0
      },
      "text/plain": [
       "[CONJUNCTIONS | 1000 DIMENSIONS | 5 TERMS | KEEP N = 50] Run #2, Epoch #1, Testing [correct-output]:   0%|    …"
      ]
     },
     "metadata": {},
     "output_type": "display_data"
    },
    {
     "data": {
      "application/vnd.jupyter.widget-view+json": {
       "model_id": "",
       "version_major": 2,
       "version_minor": 0
      },
      "text/plain": [
       "[CONJUNCTIONS | 1000 DIMENSIONS | 5 TERMS | KEEP N = 50] Run #2, Epoch #2, Training:   0%|          | 0/79 [00…"
      ]
     },
     "metadata": {},
     "output_type": "display_data"
    },
    {
     "data": {
      "application/vnd.jupyter.widget-view+json": {
       "model_id": "",
       "version_major": 2,
       "version_minor": 0
      },
      "text/plain": [
       "[CONJUNCTIONS | 1000 DIMENSIONS | 5 TERMS | KEEP N = 50] Run #2, Epoch #2, Testing [output-distance]:   0%|   …"
      ]
     },
     "metadata": {},
     "output_type": "display_data"
    },
    {
     "data": {
      "application/vnd.jupyter.widget-view+json": {
       "model_id": "",
       "version_major": 2,
       "version_minor": 0
      },
      "text/plain": [
       "[CONJUNCTIONS | 1000 DIMENSIONS | 5 TERMS | KEEP N = 50] Run #2, Epoch #2, Testing [correct-output]:   0%|    …"
      ]
     },
     "metadata": {},
     "output_type": "display_data"
    },
    {
     "data": {
      "application/vnd.jupyter.widget-view+json": {
       "model_id": "",
       "version_major": 2,
       "version_minor": 0
      },
      "text/plain": [
       "[CONJUNCTIONS | 1000 DIMENSIONS | 5 TERMS | KEEP N = 50] Run #2, Epoch #3, Training:   0%|          | 0/79 [00…"
      ]
     },
     "metadata": {},
     "output_type": "display_data"
    },
    {
     "data": {
      "application/vnd.jupyter.widget-view+json": {
       "model_id": "",
       "version_major": 2,
       "version_minor": 0
      },
      "text/plain": [
       "[CONJUNCTIONS | 1000 DIMENSIONS | 5 TERMS | KEEP N = 50] Run #2, Epoch #3, Testing [output-distance]:   0%|   …"
      ]
     },
     "metadata": {},
     "output_type": "display_data"
    },
    {
     "data": {
      "application/vnd.jupyter.widget-view+json": {
       "model_id": "",
       "version_major": 2,
       "version_minor": 0
      },
      "text/plain": [
       "[CONJUNCTIONS | 1000 DIMENSIONS | 5 TERMS | KEEP N = 50] Run #2, Epoch #3, Testing [correct-output]:   0%|    …"
      ]
     },
     "metadata": {},
     "output_type": "display_data"
    },
    {
     "data": {
      "application/vnd.jupyter.widget-view+json": {
       "model_id": "",
       "version_major": 2,
       "version_minor": 0
      },
      "text/plain": [
       "[CONJUNCTIONS | 1000 DIMENSIONS | 5 TERMS | KEEP N = 50] Run #2, Epoch #4, Training:   0%|          | 0/79 [00…"
      ]
     },
     "metadata": {},
     "output_type": "display_data"
    },
    {
     "data": {
      "application/vnd.jupyter.widget-view+json": {
       "model_id": "",
       "version_major": 2,
       "version_minor": 0
      },
      "text/plain": [
       "[CONJUNCTIONS | 1000 DIMENSIONS | 5 TERMS | KEEP N = 50] Run #2, Epoch #4, Testing [output-distance]:   0%|   …"
      ]
     },
     "metadata": {},
     "output_type": "display_data"
    },
    {
     "data": {
      "application/vnd.jupyter.widget-view+json": {
       "model_id": "",
       "version_major": 2,
       "version_minor": 0
      },
      "text/plain": [
       "[CONJUNCTIONS | 1000 DIMENSIONS | 5 TERMS | KEEP N = 50] Run #2, Epoch #4, Testing [correct-output]:   0%|    …"
      ]
     },
     "metadata": {},
     "output_type": "display_data"
    },
    {
     "data": {
      "application/vnd.jupyter.widget-view+json": {
       "model_id": "",
       "version_major": 2,
       "version_minor": 0
      },
      "text/plain": [
       "[CONJUNCTIONS | 1000 DIMENSIONS | 5 TERMS | KEEP N = 50] Run #2, Epoch #5, Training:   0%|          | 0/79 [00…"
      ]
     },
     "metadata": {},
     "output_type": "display_data"
    },
    {
     "data": {
      "application/vnd.jupyter.widget-view+json": {
       "model_id": "",
       "version_major": 2,
       "version_minor": 0
      },
      "text/plain": [
       "[CONJUNCTIONS | 1000 DIMENSIONS | 5 TERMS | KEEP N = 50] Run #2, Epoch #5, Testing [output-distance]:   0%|   …"
      ]
     },
     "metadata": {},
     "output_type": "display_data"
    },
    {
     "data": {
      "application/vnd.jupyter.widget-view+json": {
       "model_id": "",
       "version_major": 2,
       "version_minor": 0
      },
      "text/plain": [
       "[CONJUNCTIONS | 1000 DIMENSIONS | 5 TERMS | KEEP N = 50] Run #2, Epoch #5, Testing [correct-output]:   0%|    …"
      ]
     },
     "metadata": {},
     "output_type": "display_data"
    },
    {
     "data": {
      "application/vnd.jupyter.widget-view+json": {
       "model_id": "",
       "version_major": 2,
       "version_minor": 0
      },
      "text/plain": [
       "[CONJUNCTIONS | 1000 DIMENSIONS | 5 TERMS | KEEP N = 50] Run #2, Epoch #6, Training:   0%|          | 0/79 [00…"
      ]
     },
     "metadata": {},
     "output_type": "display_data"
    },
    {
     "data": {
      "application/vnd.jupyter.widget-view+json": {
       "model_id": "",
       "version_major": 2,
       "version_minor": 0
      },
      "text/plain": [
       "[CONJUNCTIONS | 1000 DIMENSIONS | 5 TERMS | KEEP N = 50] Run #2, Epoch #6, Testing [output-distance]:   0%|   …"
      ]
     },
     "metadata": {},
     "output_type": "display_data"
    },
    {
     "data": {
      "application/vnd.jupyter.widget-view+json": {
       "model_id": "",
       "version_major": 2,
       "version_minor": 0
      },
      "text/plain": [
       "[CONJUNCTIONS | 1000 DIMENSIONS | 5 TERMS | KEEP N = 50] Run #2, Epoch #6, Testing [correct-output]:   0%|    …"
      ]
     },
     "metadata": {},
     "output_type": "display_data"
    },
    {
     "data": {
      "application/vnd.jupyter.widget-view+json": {
       "model_id": "",
       "version_major": 2,
       "version_minor": 0
      },
      "text/plain": [
       "[CONJUNCTIONS | 1000 DIMENSIONS | 5 TERMS | KEEP N = 50] Run #2, Epoch #7, Training:   0%|          | 0/79 [00…"
      ]
     },
     "metadata": {},
     "output_type": "display_data"
    },
    {
     "data": {
      "application/vnd.jupyter.widget-view+json": {
       "model_id": "",
       "version_major": 2,
       "version_minor": 0
      },
      "text/plain": [
       "[CONJUNCTIONS | 1000 DIMENSIONS | 5 TERMS | KEEP N = 50] Run #2, Epoch #7, Testing [output-distance]:   0%|   …"
      ]
     },
     "metadata": {},
     "output_type": "display_data"
    },
    {
     "data": {
      "application/vnd.jupyter.widget-view+json": {
       "model_id": "",
       "version_major": 2,
       "version_minor": 0
      },
      "text/plain": [
       "[CONJUNCTIONS | 1000 DIMENSIONS | 5 TERMS | KEEP N = 50] Run #2, Epoch #7, Testing [correct-output]:   0%|    …"
      ]
     },
     "metadata": {},
     "output_type": "display_data"
    },
    {
     "data": {
      "application/vnd.jupyter.widget-view+json": {
       "model_id": "",
       "version_major": 2,
       "version_minor": 0
      },
      "text/plain": [
       "[CONJUNCTIONS | 1000 DIMENSIONS | 5 TERMS | KEEP N = 50] Run #2, Epoch #8, Training:   0%|          | 0/79 [00…"
      ]
     },
     "metadata": {},
     "output_type": "display_data"
    },
    {
     "data": {
      "application/vnd.jupyter.widget-view+json": {
       "model_id": "",
       "version_major": 2,
       "version_minor": 0
      },
      "text/plain": [
       "[CONJUNCTIONS | 1000 DIMENSIONS | 5 TERMS | KEEP N = 50] Run #2, Epoch #8, Testing [output-distance]:   0%|   …"
      ]
     },
     "metadata": {},
     "output_type": "display_data"
    },
    {
     "data": {
      "application/vnd.jupyter.widget-view+json": {
       "model_id": "",
       "version_major": 2,
       "version_minor": 0
      },
      "text/plain": [
       "[CONJUNCTIONS | 1000 DIMENSIONS | 5 TERMS | KEEP N = 50] Run #2, Epoch #8, Testing [correct-output]:   0%|    …"
      ]
     },
     "metadata": {},
     "output_type": "display_data"
    },
    {
     "data": {
      "application/vnd.jupyter.widget-view+json": {
       "model_id": "",
       "version_major": 2,
       "version_minor": 0
      },
      "text/plain": [
       "[CONJUNCTIONS | 1000 DIMENSIONS | 5 TERMS | KEEP N = 50] Run #2, Epoch #9, Training:   0%|          | 0/79 [00…"
      ]
     },
     "metadata": {},
     "output_type": "display_data"
    },
    {
     "data": {
      "application/vnd.jupyter.widget-view+json": {
       "model_id": "",
       "version_major": 2,
       "version_minor": 0
      },
      "text/plain": [
       "[CONJUNCTIONS | 1000 DIMENSIONS | 5 TERMS | KEEP N = 50] Run #2, Epoch #9, Testing [output-distance]:   0%|   …"
      ]
     },
     "metadata": {},
     "output_type": "display_data"
    },
    {
     "data": {
      "application/vnd.jupyter.widget-view+json": {
       "model_id": "",
       "version_major": 2,
       "version_minor": 0
      },
      "text/plain": [
       "[CONJUNCTIONS | 1000 DIMENSIONS | 5 TERMS | KEEP N = 50] Run #2, Epoch #9, Testing [correct-output]:   0%|    …"
      ]
     },
     "metadata": {},
     "output_type": "display_data"
    },
    {
     "data": {
      "application/vnd.jupyter.widget-view+json": {
       "model_id": "",
       "version_major": 2,
       "version_minor": 0
      },
      "text/plain": [
       "[CONJUNCTIONS | 1000 DIMENSIONS | 5 TERMS | KEEP N = 50] Run #2, Epoch #10, Training:   0%|          | 0/79 [0…"
      ]
     },
     "metadata": {},
     "output_type": "display_data"
    },
    {
     "data": {
      "application/vnd.jupyter.widget-view+json": {
       "model_id": "",
       "version_major": 2,
       "version_minor": 0
      },
      "text/plain": [
       "[CONJUNCTIONS | 1000 DIMENSIONS | 5 TERMS | KEEP N = 50] Run #2, Epoch #10, Testing [output-distance]:   0%|  …"
      ]
     },
     "metadata": {},
     "output_type": "display_data"
    },
    {
     "data": {
      "application/vnd.jupyter.widget-view+json": {
       "model_id": "",
       "version_major": 2,
       "version_minor": 0
      },
      "text/plain": [
       "[CONJUNCTIONS | 1000 DIMENSIONS | 5 TERMS | KEEP N = 50] Run #2, Epoch #10, Testing [correct-output]:   0%|   …"
      ]
     },
     "metadata": {},
     "output_type": "display_data"
    },
    {
     "data": {
      "application/vnd.jupyter.widget-view+json": {
       "model_id": "",
       "version_major": 2,
       "version_minor": 0
      },
      "text/plain": [
       "[CONJUNCTIONS | 1000 DIMENSIONS | 5 TERMS | KEEP N = 50] Run #2, Epoch #11, Training:   0%|          | 0/79 [0…"
      ]
     },
     "metadata": {},
     "output_type": "display_data"
    },
    {
     "data": {
      "application/vnd.jupyter.widget-view+json": {
       "model_id": "",
       "version_major": 2,
       "version_minor": 0
      },
      "text/plain": [
       "[CONJUNCTIONS | 1000 DIMENSIONS | 5 TERMS | KEEP N = 50] Run #2, Epoch #11, Testing [output-distance]:   0%|  …"
      ]
     },
     "metadata": {},
     "output_type": "display_data"
    },
    {
     "data": {
      "application/vnd.jupyter.widget-view+json": {
       "model_id": "",
       "version_major": 2,
       "version_minor": 0
      },
      "text/plain": [
       "[CONJUNCTIONS | 1000 DIMENSIONS | 5 TERMS | KEEP N = 50] Run #2, Epoch #11, Testing [correct-output]:   0%|   …"
      ]
     },
     "metadata": {},
     "output_type": "display_data"
    },
    {
     "data": {
      "application/vnd.jupyter.widget-view+json": {
       "model_id": "",
       "version_major": 2,
       "version_minor": 0
      },
      "text/plain": [
       "[CONJUNCTIONS | 1000 DIMENSIONS | 5 TERMS | KEEP N = 50] Run #2, Epoch #12, Training:   0%|          | 0/79 [0…"
      ]
     },
     "metadata": {},
     "output_type": "display_data"
    },
    {
     "data": {
      "application/vnd.jupyter.widget-view+json": {
       "model_id": "",
       "version_major": 2,
       "version_minor": 0
      },
      "text/plain": [
       "[CONJUNCTIONS | 1000 DIMENSIONS | 5 TERMS | KEEP N = 50] Run #2, Epoch #12, Testing [output-distance]:   0%|  …"
      ]
     },
     "metadata": {},
     "output_type": "display_data"
    },
    {
     "data": {
      "application/vnd.jupyter.widget-view+json": {
       "model_id": "",
       "version_major": 2,
       "version_minor": 0
      },
      "text/plain": [
       "[CONJUNCTIONS | 1000 DIMENSIONS | 5 TERMS | KEEP N = 50] Run #2, Epoch #12, Testing [correct-output]:   0%|   …"
      ]
     },
     "metadata": {},
     "output_type": "display_data"
    },
    {
     "data": {
      "application/vnd.jupyter.widget-view+json": {
       "model_id": "",
       "version_major": 2,
       "version_minor": 0
      },
      "text/plain": [
       "[CONJUNCTIONS | 1000 DIMENSIONS | 5 TERMS | KEEP N = 50] Run #2, Epoch #13, Training:   0%|          | 0/79 [0…"
      ]
     },
     "metadata": {},
     "output_type": "display_data"
    },
    {
     "data": {
      "application/vnd.jupyter.widget-view+json": {
       "model_id": "",
       "version_major": 2,
       "version_minor": 0
      },
      "text/plain": [
       "[CONJUNCTIONS | 1000 DIMENSIONS | 5 TERMS | KEEP N = 50] Run #2, Epoch #13, Testing [output-distance]:   0%|  …"
      ]
     },
     "metadata": {},
     "output_type": "display_data"
    },
    {
     "data": {
      "application/vnd.jupyter.widget-view+json": {
       "model_id": "",
       "version_major": 2,
       "version_minor": 0
      },
      "text/plain": [
       "[CONJUNCTIONS | 1000 DIMENSIONS | 5 TERMS | KEEP N = 50] Run #2, Epoch #13, Testing [correct-output]:   0%|   …"
      ]
     },
     "metadata": {},
     "output_type": "display_data"
    },
    {
     "data": {
      "application/vnd.jupyter.widget-view+json": {
       "model_id": "",
       "version_major": 2,
       "version_minor": 0
      },
      "text/plain": [
       "[CONJUNCTIONS | 1000 DIMENSIONS | 5 TERMS | KEEP N = 50] Run #2, Epoch #14, Training:   0%|          | 0/79 [0…"
      ]
     },
     "metadata": {},
     "output_type": "display_data"
    },
    {
     "data": {
      "application/vnd.jupyter.widget-view+json": {
       "model_id": "",
       "version_major": 2,
       "version_minor": 0
      },
      "text/plain": [
       "[CONJUNCTIONS | 1000 DIMENSIONS | 5 TERMS | KEEP N = 50] Run #2, Epoch #14, Testing [output-distance]:   0%|  …"
      ]
     },
     "metadata": {},
     "output_type": "display_data"
    },
    {
     "data": {
      "application/vnd.jupyter.widget-view+json": {
       "model_id": "",
       "version_major": 2,
       "version_minor": 0
      },
      "text/plain": [
       "[CONJUNCTIONS | 1000 DIMENSIONS | 5 TERMS | KEEP N = 50] Run #2, Epoch #14, Testing [correct-output]:   0%|   …"
      ]
     },
     "metadata": {},
     "output_type": "display_data"
    },
    {
     "data": {
      "application/vnd.jupyter.widget-view+json": {
       "model_id": "",
       "version_major": 2,
       "version_minor": 0
      },
      "text/plain": [
       "[CONJUNCTIONS | 1000 DIMENSIONS | 5 TERMS | KEEP N = 50] Run #2, Epoch #15, Training:   0%|          | 0/79 [0…"
      ]
     },
     "metadata": {},
     "output_type": "display_data"
    },
    {
     "data": {
      "application/vnd.jupyter.widget-view+json": {
       "model_id": "",
       "version_major": 2,
       "version_minor": 0
      },
      "text/plain": [
       "[CONJUNCTIONS | 1000 DIMENSIONS | 5 TERMS | KEEP N = 50] Run #2, Epoch #15, Testing [output-distance]:   0%|  …"
      ]
     },
     "metadata": {},
     "output_type": "display_data"
    },
    {
     "data": {
      "application/vnd.jupyter.widget-view+json": {
       "model_id": "",
       "version_major": 2,
       "version_minor": 0
      },
      "text/plain": [
       "[CONJUNCTIONS | 1000 DIMENSIONS | 5 TERMS | KEEP N = 50] Run #2, Epoch #15, Testing [correct-output]:   0%|   …"
      ]
     },
     "metadata": {},
     "output_type": "display_data"
    },
    {
     "data": {
      "application/vnd.jupyter.widget-view+json": {
       "model_id": "",
       "version_major": 2,
       "version_minor": 0
      },
      "text/plain": [
       "[CONJUNCTIONS | 1000 DIMENSIONS | 5 TERMS | KEEP N = 50] Run #2, Epoch #16, Training:   0%|          | 0/79 [0…"
      ]
     },
     "metadata": {},
     "output_type": "display_data"
    },
    {
     "data": {
      "application/vnd.jupyter.widget-view+json": {
       "model_id": "",
       "version_major": 2,
       "version_minor": 0
      },
      "text/plain": [
       "[CONJUNCTIONS | 1000 DIMENSIONS | 5 TERMS | KEEP N = 50] Run #2, Epoch #16, Testing [output-distance]:   0%|  …"
      ]
     },
     "metadata": {},
     "output_type": "display_data"
    },
    {
     "data": {
      "application/vnd.jupyter.widget-view+json": {
       "model_id": "",
       "version_major": 2,
       "version_minor": 0
      },
      "text/plain": [
       "[CONJUNCTIONS | 1000 DIMENSIONS | 5 TERMS | KEEP N = 50] Run #2, Epoch #16, Testing [correct-output]:   0%|   …"
      ]
     },
     "metadata": {},
     "output_type": "display_data"
    },
    {
     "data": {
      "application/vnd.jupyter.widget-view+json": {
       "model_id": "",
       "version_major": 2,
       "version_minor": 0
      },
      "text/plain": [
       "[CONJUNCTIONS | 1000 DIMENSIONS | 5 TERMS | KEEP N = 50] Run #2, Epoch #17, Training:   0%|          | 0/79 [0…"
      ]
     },
     "metadata": {},
     "output_type": "display_data"
    },
    {
     "data": {
      "application/vnd.jupyter.widget-view+json": {
       "model_id": "",
       "version_major": 2,
       "version_minor": 0
      },
      "text/plain": [
       "[CONJUNCTIONS | 1000 DIMENSIONS | 5 TERMS | KEEP N = 50] Run #2, Epoch #17, Testing [output-distance]:   0%|  …"
      ]
     },
     "metadata": {},
     "output_type": "display_data"
    },
    {
     "data": {
      "application/vnd.jupyter.widget-view+json": {
       "model_id": "",
       "version_major": 2,
       "version_minor": 0
      },
      "text/plain": [
       "[CONJUNCTIONS | 1000 DIMENSIONS | 5 TERMS | KEEP N = 50] Run #2, Epoch #17, Testing [correct-output]:   0%|   …"
      ]
     },
     "metadata": {},
     "output_type": "display_data"
    },
    {
     "data": {
      "application/vnd.jupyter.widget-view+json": {
       "model_id": "",
       "version_major": 2,
       "version_minor": 0
      },
      "text/plain": [
       "[CONJUNCTIONS | 1000 DIMENSIONS | 5 TERMS | KEEP N = 50] Run #2, Epoch #18, Training:   0%|          | 0/79 [0…"
      ]
     },
     "metadata": {},
     "output_type": "display_data"
    },
    {
     "data": {
      "application/vnd.jupyter.widget-view+json": {
       "model_id": "",
       "version_major": 2,
       "version_minor": 0
      },
      "text/plain": [
       "[CONJUNCTIONS | 1000 DIMENSIONS | 5 TERMS | KEEP N = 50] Run #2, Epoch #18, Testing [output-distance]:   0%|  …"
      ]
     },
     "metadata": {},
     "output_type": "display_data"
    },
    {
     "data": {
      "application/vnd.jupyter.widget-view+json": {
       "model_id": "",
       "version_major": 2,
       "version_minor": 0
      },
      "text/plain": [
       "[CONJUNCTIONS | 1000 DIMENSIONS | 5 TERMS | KEEP N = 50] Run #2, Epoch #18, Testing [correct-output]:   0%|   …"
      ]
     },
     "metadata": {},
     "output_type": "display_data"
    },
    {
     "data": {
      "application/vnd.jupyter.widget-view+json": {
       "model_id": "",
       "version_major": 2,
       "version_minor": 0
      },
      "text/plain": [
       "[CONJUNCTIONS | 1000 DIMENSIONS | 5 TERMS | KEEP N = 50] Run #2, Epoch #19, Training:   0%|          | 0/79 [0…"
      ]
     },
     "metadata": {},
     "output_type": "display_data"
    },
    {
     "data": {
      "application/vnd.jupyter.widget-view+json": {
       "model_id": "",
       "version_major": 2,
       "version_minor": 0
      },
      "text/plain": [
       "[CONJUNCTIONS | 1000 DIMENSIONS | 5 TERMS | KEEP N = 50] Run #2, Epoch #19, Testing [output-distance]:   0%|  …"
      ]
     },
     "metadata": {},
     "output_type": "display_data"
    },
    {
     "data": {
      "application/vnd.jupyter.widget-view+json": {
       "model_id": "",
       "version_major": 2,
       "version_minor": 0
      },
      "text/plain": [
       "[CONJUNCTIONS | 1000 DIMENSIONS | 5 TERMS | KEEP N = 50] Run #2, Epoch #19, Testing [correct-output]:   0%|   …"
      ]
     },
     "metadata": {},
     "output_type": "display_data"
    },
    {
     "data": {
      "application/vnd.jupyter.widget-view+json": {
       "model_id": "",
       "version_major": 2,
       "version_minor": 0
      },
      "text/plain": [
       "[CONJUNCTIONS | 1000 DIMENSIONS | 5 TERMS | KEEP N = 50] Run #2, Epoch #20, Training:   0%|          | 0/79 [0…"
      ]
     },
     "metadata": {},
     "output_type": "display_data"
    },
    {
     "data": {
      "application/vnd.jupyter.widget-view+json": {
       "model_id": "",
       "version_major": 2,
       "version_minor": 0
      },
      "text/plain": [
       "[CONJUNCTIONS | 1000 DIMENSIONS | 5 TERMS | KEEP N = 50] Run #2, Epoch #20, Testing [output-distance]:   0%|  …"
      ]
     },
     "metadata": {},
     "output_type": "display_data"
    },
    {
     "data": {
      "application/vnd.jupyter.widget-view+json": {
       "model_id": "",
       "version_major": 2,
       "version_minor": 0
      },
      "text/plain": [
       "[CONJUNCTIONS | 1000 DIMENSIONS | 5 TERMS | KEEP N = 50] Run #2, Epoch #20, Testing [correct-output]:   0%|   …"
      ]
     },
     "metadata": {},
     "output_type": "display_data"
    },
    {
     "data": {
      "application/vnd.jupyter.widget-view+json": {
       "model_id": "",
       "version_major": 2,
       "version_minor": 0
      },
      "text/plain": [
       "[CONJUNCTIONS | 1000 DIMENSIONS | 5 TERMS | KEEP N = 50] Run #2, Epoch #21, Training:   0%|          | 0/79 [0…"
      ]
     },
     "metadata": {},
     "output_type": "display_data"
    },
    {
     "data": {
      "application/vnd.jupyter.widget-view+json": {
       "model_id": "",
       "version_major": 2,
       "version_minor": 0
      },
      "text/plain": [
       "[CONJUNCTIONS | 1000 DIMENSIONS | 5 TERMS | KEEP N = 50] Run #2, Epoch #21, Testing [output-distance]:   0%|  …"
      ]
     },
     "metadata": {},
     "output_type": "display_data"
    },
    {
     "data": {
      "application/vnd.jupyter.widget-view+json": {
       "model_id": "",
       "version_major": 2,
       "version_minor": 0
      },
      "text/plain": [
       "[CONJUNCTIONS | 1000 DIMENSIONS | 5 TERMS | KEEP N = 50] Run #2, Epoch #21, Testing [correct-output]:   0%|   …"
      ]
     },
     "metadata": {},
     "output_type": "display_data"
    },
    {
     "data": {
      "application/vnd.jupyter.widget-view+json": {
       "model_id": "",
       "version_major": 2,
       "version_minor": 0
      },
      "text/plain": [
       "[CONJUNCTIONS | 1000 DIMENSIONS | 5 TERMS | KEEP N = 50] Run #2, Epoch #22, Training:   0%|          | 0/79 [0…"
      ]
     },
     "metadata": {},
     "output_type": "display_data"
    },
    {
     "data": {
      "application/vnd.jupyter.widget-view+json": {
       "model_id": "",
       "version_major": 2,
       "version_minor": 0
      },
      "text/plain": [
       "[CONJUNCTIONS | 1000 DIMENSIONS | 5 TERMS | KEEP N = 50] Run #2, Epoch #22, Testing [output-distance]:   0%|  …"
      ]
     },
     "metadata": {},
     "output_type": "display_data"
    },
    {
     "data": {
      "application/vnd.jupyter.widget-view+json": {
       "model_id": "",
       "version_major": 2,
       "version_minor": 0
      },
      "text/plain": [
       "[CONJUNCTIONS | 1000 DIMENSIONS | 5 TERMS | KEEP N = 50] Run #2, Epoch #22, Testing [correct-output]:   0%|   …"
      ]
     },
     "metadata": {},
     "output_type": "display_data"
    },
    {
     "data": {
      "application/vnd.jupyter.widget-view+json": {
       "model_id": "",
       "version_major": 2,
       "version_minor": 0
      },
      "text/plain": [
       "[CONJUNCTIONS | 1000 DIMENSIONS | 5 TERMS | KEEP N = 50] Run #2, Epoch #23, Training:   0%|          | 0/79 [0…"
      ]
     },
     "metadata": {},
     "output_type": "display_data"
    },
    {
     "data": {
      "application/vnd.jupyter.widget-view+json": {
       "model_id": "",
       "version_major": 2,
       "version_minor": 0
      },
      "text/plain": [
       "[CONJUNCTIONS | 1000 DIMENSIONS | 5 TERMS | KEEP N = 50] Run #2, Epoch #23, Testing [output-distance]:   0%|  …"
      ]
     },
     "metadata": {},
     "output_type": "display_data"
    },
    {
     "data": {
      "application/vnd.jupyter.widget-view+json": {
       "model_id": "",
       "version_major": 2,
       "version_minor": 0
      },
      "text/plain": [
       "[CONJUNCTIONS | 1000 DIMENSIONS | 5 TERMS | KEEP N = 50] Run #2, Epoch #23, Testing [correct-output]:   0%|   …"
      ]
     },
     "metadata": {},
     "output_type": "display_data"
    },
    {
     "data": {
      "application/vnd.jupyter.widget-view+json": {
       "model_id": "",
       "version_major": 2,
       "version_minor": 0
      },
      "text/plain": [
       "[CONJUNCTIONS | 1000 DIMENSIONS | 5 TERMS | KEEP N = 50] Run #2, Epoch #24, Training:   0%|          | 0/79 [0…"
      ]
     },
     "metadata": {},
     "output_type": "display_data"
    },
    {
     "data": {
      "application/vnd.jupyter.widget-view+json": {
       "model_id": "",
       "version_major": 2,
       "version_minor": 0
      },
      "text/plain": [
       "[CONJUNCTIONS | 1000 DIMENSIONS | 5 TERMS | KEEP N = 50] Run #2, Epoch #24, Testing [output-distance]:   0%|  …"
      ]
     },
     "metadata": {},
     "output_type": "display_data"
    },
    {
     "data": {
      "application/vnd.jupyter.widget-view+json": {
       "model_id": "",
       "version_major": 2,
       "version_minor": 0
      },
      "text/plain": [
       "[CONJUNCTIONS | 1000 DIMENSIONS | 5 TERMS | KEEP N = 50] Run #2, Epoch #24, Testing [correct-output]:   0%|   …"
      ]
     },
     "metadata": {},
     "output_type": "display_data"
    },
    {
     "data": {
      "application/vnd.jupyter.widget-view+json": {
       "model_id": "",
       "version_major": 2,
       "version_minor": 0
      },
      "text/plain": [
       "[CONJUNCTIONS | 1000 DIMENSIONS | 5 TERMS | KEEP N = 50] Run #2, Epoch #25, Training:   0%|          | 0/79 [0…"
      ]
     },
     "metadata": {},
     "output_type": "display_data"
    },
    {
     "data": {
      "application/vnd.jupyter.widget-view+json": {
       "model_id": "",
       "version_major": 2,
       "version_minor": 0
      },
      "text/plain": [
       "[CONJUNCTIONS | 1000 DIMENSIONS | 5 TERMS | KEEP N = 50] Run #2, Epoch #25, Testing [output-distance]:   0%|  …"
      ]
     },
     "metadata": {},
     "output_type": "display_data"
    },
    {
     "data": {
      "application/vnd.jupyter.widget-view+json": {
       "model_id": "",
       "version_major": 2,
       "version_minor": 0
      },
      "text/plain": [
       "[CONJUNCTIONS | 1000 DIMENSIONS | 5 TERMS | KEEP N = 50] Run #2, Epoch #25, Testing [correct-output]:   0%|   …"
      ]
     },
     "metadata": {},
     "output_type": "display_data"
    },
    {
     "data": {
      "application/vnd.jupyter.widget-view+json": {
       "model_id": "",
       "version_major": 2,
       "version_minor": 0
      },
      "text/plain": [
       "[CONJUNCTIONS | 1000 DIMENSIONS | 5 TERMS | KEEP N = 50] Run #2, Epoch #26, Training:   0%|          | 0/79 [0…"
      ]
     },
     "metadata": {},
     "output_type": "display_data"
    },
    {
     "data": {
      "application/vnd.jupyter.widget-view+json": {
       "model_id": "",
       "version_major": 2,
       "version_minor": 0
      },
      "text/plain": [
       "[CONJUNCTIONS | 1000 DIMENSIONS | 5 TERMS | KEEP N = 50] Run #2, Epoch #26, Testing [output-distance]:   0%|  …"
      ]
     },
     "metadata": {},
     "output_type": "display_data"
    },
    {
     "data": {
      "application/vnd.jupyter.widget-view+json": {
       "model_id": "",
       "version_major": 2,
       "version_minor": 0
      },
      "text/plain": [
       "[CONJUNCTIONS | 1000 DIMENSIONS | 5 TERMS | KEEP N = 50] Run #2, Epoch #26, Testing [correct-output]:   0%|   …"
      ]
     },
     "metadata": {},
     "output_type": "display_data"
    },
    {
     "data": {
      "application/vnd.jupyter.widget-view+json": {
       "model_id": "",
       "version_major": 2,
       "version_minor": 0
      },
      "text/plain": [
       "[CONJUNCTIONS | 1000 DIMENSIONS | 5 TERMS | KEEP N = 50] Run #2, Epoch #27, Training:   0%|          | 0/79 [0…"
      ]
     },
     "metadata": {},
     "output_type": "display_data"
    },
    {
     "data": {
      "application/vnd.jupyter.widget-view+json": {
       "model_id": "",
       "version_major": 2,
       "version_minor": 0
      },
      "text/plain": [
       "[CONJUNCTIONS | 1000 DIMENSIONS | 5 TERMS | KEEP N = 50] Run #2, Epoch #27, Testing [output-distance]:   0%|  …"
      ]
     },
     "metadata": {},
     "output_type": "display_data"
    },
    {
     "data": {
      "application/vnd.jupyter.widget-view+json": {
       "model_id": "",
       "version_major": 2,
       "version_minor": 0
      },
      "text/plain": [
       "[CONJUNCTIONS | 1000 DIMENSIONS | 5 TERMS | KEEP N = 50] Run #2, Epoch #27, Testing [correct-output]:   0%|   …"
      ]
     },
     "metadata": {},
     "output_type": "display_data"
    },
    {
     "data": {
      "application/vnd.jupyter.widget-view+json": {
       "model_id": "",
       "version_major": 2,
       "version_minor": 0
      },
      "text/plain": [
       "[CONJUNCTIONS | 1000 DIMENSIONS | 5 TERMS | KEEP N = 50] Run #2, Epoch #28, Training:   0%|          | 0/79 [0…"
      ]
     },
     "metadata": {},
     "output_type": "display_data"
    },
    {
     "data": {
      "application/vnd.jupyter.widget-view+json": {
       "model_id": "",
       "version_major": 2,
       "version_minor": 0
      },
      "text/plain": [
       "[CONJUNCTIONS | 1000 DIMENSIONS | 5 TERMS | KEEP N = 50] Run #2, Epoch #28, Testing [output-distance]:   0%|  …"
      ]
     },
     "metadata": {},
     "output_type": "display_data"
    },
    {
     "data": {
      "application/vnd.jupyter.widget-view+json": {
       "model_id": "",
       "version_major": 2,
       "version_minor": 0
      },
      "text/plain": [
       "[CONJUNCTIONS | 1000 DIMENSIONS | 5 TERMS | KEEP N = 50] Run #2, Epoch #28, Testing [correct-output]:   0%|   …"
      ]
     },
     "metadata": {},
     "output_type": "display_data"
    },
    {
     "data": {
      "application/vnd.jupyter.widget-view+json": {
       "model_id": "",
       "version_major": 2,
       "version_minor": 0
      },
      "text/plain": [
       "[CONJUNCTIONS | 1000 DIMENSIONS | 5 TERMS | KEEP N = 50] Run #2, Epoch #29, Training:   0%|          | 0/79 [0…"
      ]
     },
     "metadata": {},
     "output_type": "display_data"
    },
    {
     "data": {
      "application/vnd.jupyter.widget-view+json": {
       "model_id": "",
       "version_major": 2,
       "version_minor": 0
      },
      "text/plain": [
       "[CONJUNCTIONS | 1000 DIMENSIONS | 5 TERMS | KEEP N = 50] Run #2, Epoch #29, Testing [output-distance]:   0%|  …"
      ]
     },
     "metadata": {},
     "output_type": "display_data"
    },
    {
     "data": {
      "application/vnd.jupyter.widget-view+json": {
       "model_id": "",
       "version_major": 2,
       "version_minor": 0
      },
      "text/plain": [
       "[CONJUNCTIONS | 1000 DIMENSIONS | 5 TERMS | KEEP N = 50] Run #2, Epoch #29, Testing [correct-output]:   0%|   …"
      ]
     },
     "metadata": {},
     "output_type": "display_data"
    },
    {
     "data": {
      "application/vnd.jupyter.widget-view+json": {
       "model_id": "",
       "version_major": 2,
       "version_minor": 0
      },
      "text/plain": [
       "[CONJUNCTIONS | 1000 DIMENSIONS | 5 TERMS | KEEP N = 50] Run #2, Epoch #30, Training:   0%|          | 0/79 [0…"
      ]
     },
     "metadata": {},
     "output_type": "display_data"
    },
    {
     "data": {
      "application/vnd.jupyter.widget-view+json": {
       "model_id": "",
       "version_major": 2,
       "version_minor": 0
      },
      "text/plain": [
       "[CONJUNCTIONS | 1000 DIMENSIONS | 5 TERMS | KEEP N = 50] Run #2, Epoch #30, Testing [output-distance]:   0%|  …"
      ]
     },
     "metadata": {},
     "output_type": "display_data"
    },
    {
     "data": {
      "application/vnd.jupyter.widget-view+json": {
       "model_id": "",
       "version_major": 2,
       "version_minor": 0
      },
      "text/plain": [
       "[CONJUNCTIONS | 1000 DIMENSIONS | 5 TERMS | KEEP N = 50] Run #2, Epoch #30, Testing [correct-output]:   0%|   …"
      ]
     },
     "metadata": {},
     "output_type": "display_data"
    },
    {
     "data": {
      "application/vnd.jupyter.widget-view+json": {
       "model_id": "",
       "version_major": 2,
       "version_minor": 0
      },
      "text/plain": [
       "[CONJUNCTIONS | 1000 DIMENSIONS | 5 TERMS | KEEP N = 50] Run #2, Epoch #31, Training:   0%|          | 0/79 [0…"
      ]
     },
     "metadata": {},
     "output_type": "display_data"
    },
    {
     "data": {
      "application/vnd.jupyter.widget-view+json": {
       "model_id": "",
       "version_major": 2,
       "version_minor": 0
      },
      "text/plain": [
       "[CONJUNCTIONS | 1000 DIMENSIONS | 5 TERMS | KEEP N = 50] Run #2, Epoch #31, Testing [output-distance]:   0%|  …"
      ]
     },
     "metadata": {},
     "output_type": "display_data"
    },
    {
     "data": {
      "application/vnd.jupyter.widget-view+json": {
       "model_id": "",
       "version_major": 2,
       "version_minor": 0
      },
      "text/plain": [
       "[CONJUNCTIONS | 1000 DIMENSIONS | 5 TERMS | KEEP N = 50] Run #2, Epoch #31, Testing [correct-output]:   0%|   …"
      ]
     },
     "metadata": {},
     "output_type": "display_data"
    },
    {
     "data": {
      "application/vnd.jupyter.widget-view+json": {
       "model_id": "",
       "version_major": 2,
       "version_minor": 0
      },
      "text/plain": [
       "[CONJUNCTIONS | 1000 DIMENSIONS | 5 TERMS | KEEP N = 50] Run #2, Epoch #32, Training:   0%|          | 0/79 [0…"
      ]
     },
     "metadata": {},
     "output_type": "display_data"
    },
    {
     "data": {
      "application/vnd.jupyter.widget-view+json": {
       "model_id": "",
       "version_major": 2,
       "version_minor": 0
      },
      "text/plain": [
       "[CONJUNCTIONS | 1000 DIMENSIONS | 5 TERMS | KEEP N = 50] Run #2, Epoch #32, Testing [output-distance]:   0%|  …"
      ]
     },
     "metadata": {},
     "output_type": "display_data"
    },
    {
     "data": {
      "application/vnd.jupyter.widget-view+json": {
       "model_id": "",
       "version_major": 2,
       "version_minor": 0
      },
      "text/plain": [
       "[CONJUNCTIONS | 1000 DIMENSIONS | 5 TERMS | KEEP N = 50] Run #2, Epoch #32, Testing [correct-output]:   0%|   …"
      ]
     },
     "metadata": {},
     "output_type": "display_data"
    },
    {
     "data": {
      "application/vnd.jupyter.widget-view+json": {
       "model_id": "",
       "version_major": 2,
       "version_minor": 0
      },
      "text/plain": [
       "[CONJUNCTIONS | 1000 DIMENSIONS | 5 TERMS | KEEP N = 50] Run #2, Epoch #33, Training:   0%|          | 0/79 [0…"
      ]
     },
     "metadata": {},
     "output_type": "display_data"
    },
    {
     "data": {
      "application/vnd.jupyter.widget-view+json": {
       "model_id": "",
       "version_major": 2,
       "version_minor": 0
      },
      "text/plain": [
       "[CONJUNCTIONS | 1000 DIMENSIONS | 5 TERMS | KEEP N = 50] Run #2, Epoch #33, Testing [output-distance]:   0%|  …"
      ]
     },
     "metadata": {},
     "output_type": "display_data"
    },
    {
     "data": {
      "application/vnd.jupyter.widget-view+json": {
       "model_id": "",
       "version_major": 2,
       "version_minor": 0
      },
      "text/plain": [
       "[CONJUNCTIONS | 1000 DIMENSIONS | 5 TERMS | KEEP N = 50] Run #2, Epoch #33, Testing [correct-output]:   0%|   …"
      ]
     },
     "metadata": {},
     "output_type": "display_data"
    },
    {
     "data": {
      "application/vnd.jupyter.widget-view+json": {
       "model_id": "",
       "version_major": 2,
       "version_minor": 0
      },
      "text/plain": [
       "[CONJUNCTIONS | 1000 DIMENSIONS | 5 TERMS | KEEP N = 50] Run #2, Epoch #34, Training:   0%|          | 0/79 [0…"
      ]
     },
     "metadata": {},
     "output_type": "display_data"
    },
    {
     "data": {
      "application/vnd.jupyter.widget-view+json": {
       "model_id": "",
       "version_major": 2,
       "version_minor": 0
      },
      "text/plain": [
       "[CONJUNCTIONS | 1000 DIMENSIONS | 5 TERMS | KEEP N = 50] Run #2, Epoch #34, Testing [output-distance]:   0%|  …"
      ]
     },
     "metadata": {},
     "output_type": "display_data"
    },
    {
     "data": {
      "application/vnd.jupyter.widget-view+json": {
       "model_id": "",
       "version_major": 2,
       "version_minor": 0
      },
      "text/plain": [
       "[CONJUNCTIONS | 1000 DIMENSIONS | 5 TERMS | KEEP N = 50] Run #2, Epoch #34, Testing [correct-output]:   0%|   …"
      ]
     },
     "metadata": {},
     "output_type": "display_data"
    },
    {
     "data": {
      "application/vnd.jupyter.widget-view+json": {
       "model_id": "",
       "version_major": 2,
       "version_minor": 0
      },
      "text/plain": [
       "[CONJUNCTIONS | 1000 DIMENSIONS | 5 TERMS | KEEP N = 50] Run #2, Epoch #35, Training:   0%|          | 0/79 [0…"
      ]
     },
     "metadata": {},
     "output_type": "display_data"
    },
    {
     "data": {
      "application/vnd.jupyter.widget-view+json": {
       "model_id": "",
       "version_major": 2,
       "version_minor": 0
      },
      "text/plain": [
       "[CONJUNCTIONS | 1000 DIMENSIONS | 5 TERMS | KEEP N = 50] Run #2, Epoch #35, Testing [output-distance]:   0%|  …"
      ]
     },
     "metadata": {},
     "output_type": "display_data"
    },
    {
     "data": {
      "application/vnd.jupyter.widget-view+json": {
       "model_id": "",
       "version_major": 2,
       "version_minor": 0
      },
      "text/plain": [
       "[CONJUNCTIONS | 1000 DIMENSIONS | 5 TERMS | KEEP N = 50] Run #2, Epoch #35, Testing [correct-output]:   0%|   …"
      ]
     },
     "metadata": {},
     "output_type": "display_data"
    },
    {
     "data": {
      "application/vnd.jupyter.widget-view+json": {
       "model_id": "",
       "version_major": 2,
       "version_minor": 0
      },
      "text/plain": [
       "[CONJUNCTIONS | 1000 DIMENSIONS | 5 TERMS | KEEP N = 50] Run #2, Epoch #36, Training:   0%|          | 0/79 [0…"
      ]
     },
     "metadata": {},
     "output_type": "display_data"
    },
    {
     "data": {
      "application/vnd.jupyter.widget-view+json": {
       "model_id": "",
       "version_major": 2,
       "version_minor": 0
      },
      "text/plain": [
       "[CONJUNCTIONS | 1000 DIMENSIONS | 5 TERMS | KEEP N = 50] Run #2, Epoch #36, Testing [output-distance]:   0%|  …"
      ]
     },
     "metadata": {},
     "output_type": "display_data"
    },
    {
     "data": {
      "application/vnd.jupyter.widget-view+json": {
       "model_id": "",
       "version_major": 2,
       "version_minor": 0
      },
      "text/plain": [
       "[CONJUNCTIONS | 1000 DIMENSIONS | 5 TERMS | KEEP N = 50] Run #2, Epoch #36, Testing [correct-output]:   0%|   …"
      ]
     },
     "metadata": {},
     "output_type": "display_data"
    },
    {
     "data": {
      "application/vnd.jupyter.widget-view+json": {
       "model_id": "",
       "version_major": 2,
       "version_minor": 0
      },
      "text/plain": [
       "[CONJUNCTIONS | 1000 DIMENSIONS | 5 TERMS | KEEP N = 50] Run #2, Epoch #37, Training:   0%|          | 0/79 [0…"
      ]
     },
     "metadata": {},
     "output_type": "display_data"
    },
    {
     "data": {
      "application/vnd.jupyter.widget-view+json": {
       "model_id": "",
       "version_major": 2,
       "version_minor": 0
      },
      "text/plain": [
       "[CONJUNCTIONS | 1000 DIMENSIONS | 5 TERMS | KEEP N = 50] Run #2, Epoch #37, Testing [output-distance]:   0%|  …"
      ]
     },
     "metadata": {},
     "output_type": "display_data"
    },
    {
     "data": {
      "application/vnd.jupyter.widget-view+json": {
       "model_id": "",
       "version_major": 2,
       "version_minor": 0
      },
      "text/plain": [
       "[CONJUNCTIONS | 1000 DIMENSIONS | 5 TERMS | KEEP N = 50] Run #2, Epoch #37, Testing [correct-output]:   0%|   …"
      ]
     },
     "metadata": {},
     "output_type": "display_data"
    },
    {
     "data": {
      "application/vnd.jupyter.widget-view+json": {
       "model_id": "",
       "version_major": 2,
       "version_minor": 0
      },
      "text/plain": [
       "[CONJUNCTIONS | 1000 DIMENSIONS | 5 TERMS | KEEP N = 50] Run #2, Epoch #38, Training:   0%|          | 0/79 [0…"
      ]
     },
     "metadata": {},
     "output_type": "display_data"
    },
    {
     "data": {
      "application/vnd.jupyter.widget-view+json": {
       "model_id": "",
       "version_major": 2,
       "version_minor": 0
      },
      "text/plain": [
       "[CONJUNCTIONS | 1000 DIMENSIONS | 5 TERMS | KEEP N = 50] Run #2, Epoch #38, Testing [output-distance]:   0%|  …"
      ]
     },
     "metadata": {},
     "output_type": "display_data"
    },
    {
     "data": {
      "application/vnd.jupyter.widget-view+json": {
       "model_id": "",
       "version_major": 2,
       "version_minor": 0
      },
      "text/plain": [
       "[CONJUNCTIONS | 1000 DIMENSIONS | 5 TERMS | KEEP N = 50] Run #2, Epoch #38, Testing [correct-output]:   0%|   …"
      ]
     },
     "metadata": {},
     "output_type": "display_data"
    },
    {
     "data": {
      "application/vnd.jupyter.widget-view+json": {
       "model_id": "",
       "version_major": 2,
       "version_minor": 0
      },
      "text/plain": [
       "[CONJUNCTIONS | 1000 DIMENSIONS | 5 TERMS | KEEP N = 50] Run #2, Epoch #39, Training:   0%|          | 0/79 [0…"
      ]
     },
     "metadata": {},
     "output_type": "display_data"
    },
    {
     "data": {
      "application/vnd.jupyter.widget-view+json": {
       "model_id": "",
       "version_major": 2,
       "version_minor": 0
      },
      "text/plain": [
       "[CONJUNCTIONS | 1000 DIMENSIONS | 5 TERMS | KEEP N = 50] Run #2, Epoch #39, Testing [output-distance]:   0%|  …"
      ]
     },
     "metadata": {},
     "output_type": "display_data"
    },
    {
     "data": {
      "application/vnd.jupyter.widget-view+json": {
       "model_id": "",
       "version_major": 2,
       "version_minor": 0
      },
      "text/plain": [
       "[CONJUNCTIONS | 1000 DIMENSIONS | 5 TERMS | KEEP N = 50] Run #2, Epoch #39, Testing [correct-output]:   0%|   …"
      ]
     },
     "metadata": {},
     "output_type": "display_data"
    },
    {
     "data": {
      "application/vnd.jupyter.widget-view+json": {
       "model_id": "",
       "version_major": 2,
       "version_minor": 0
      },
      "text/plain": [
       "[CONJUNCTIONS | 1000 DIMENSIONS | 5 TERMS | KEEP N = 50] Run #2, Epoch #40, Training:   0%|          | 0/79 [0…"
      ]
     },
     "metadata": {},
     "output_type": "display_data"
    },
    {
     "data": {
      "application/vnd.jupyter.widget-view+json": {
       "model_id": "",
       "version_major": 2,
       "version_minor": 0
      },
      "text/plain": [
       "[CONJUNCTIONS | 1000 DIMENSIONS | 5 TERMS | KEEP N = 50] Run #2, Epoch #40, Testing [output-distance]:   0%|  …"
      ]
     },
     "metadata": {},
     "output_type": "display_data"
    },
    {
     "data": {
      "application/vnd.jupyter.widget-view+json": {
       "model_id": "",
       "version_major": 2,
       "version_minor": 0
      },
      "text/plain": [
       "[CONJUNCTIONS | 1000 DIMENSIONS | 5 TERMS | KEEP N = 50] Run #2, Epoch #40, Testing [correct-output]:   0%|   …"
      ]
     },
     "metadata": {},
     "output_type": "display_data"
    },
    {
     "data": {
      "application/vnd.jupyter.widget-view+json": {
       "model_id": "",
       "version_major": 2,
       "version_minor": 0
      },
      "text/plain": [
       "[CONJUNCTIONS | 1000 DIMENSIONS | 5 TERMS | KEEP N = 50] Run #3, Epoch #1, Training:   0%|          | 0/79 [00…"
      ]
     },
     "metadata": {},
     "output_type": "display_data"
    },
    {
     "data": {
      "application/vnd.jupyter.widget-view+json": {
       "model_id": "",
       "version_major": 2,
       "version_minor": 0
      },
      "text/plain": [
       "[CONJUNCTIONS | 1000 DIMENSIONS | 5 TERMS | KEEP N = 50] Run #3, Epoch #1, Testing [output-distance]:   0%|   …"
      ]
     },
     "metadata": {},
     "output_type": "display_data"
    },
    {
     "data": {
      "application/vnd.jupyter.widget-view+json": {
       "model_id": "",
       "version_major": 2,
       "version_minor": 0
      },
      "text/plain": [
       "[CONJUNCTIONS | 1000 DIMENSIONS | 5 TERMS | KEEP N = 50] Run #3, Epoch #1, Testing [correct-output]:   0%|    …"
      ]
     },
     "metadata": {},
     "output_type": "display_data"
    },
    {
     "data": {
      "application/vnd.jupyter.widget-view+json": {
       "model_id": "",
       "version_major": 2,
       "version_minor": 0
      },
      "text/plain": [
       "[CONJUNCTIONS | 1000 DIMENSIONS | 5 TERMS | KEEP N = 50] Run #3, Epoch #2, Training:   0%|          | 0/79 [00…"
      ]
     },
     "metadata": {},
     "output_type": "display_data"
    },
    {
     "data": {
      "application/vnd.jupyter.widget-view+json": {
       "model_id": "",
       "version_major": 2,
       "version_minor": 0
      },
      "text/plain": [
       "[CONJUNCTIONS | 1000 DIMENSIONS | 5 TERMS | KEEP N = 50] Run #3, Epoch #2, Testing [output-distance]:   0%|   …"
      ]
     },
     "metadata": {},
     "output_type": "display_data"
    },
    {
     "data": {
      "application/vnd.jupyter.widget-view+json": {
       "model_id": "",
       "version_major": 2,
       "version_minor": 0
      },
      "text/plain": [
       "[CONJUNCTIONS | 1000 DIMENSIONS | 5 TERMS | KEEP N = 50] Run #3, Epoch #2, Testing [correct-output]:   0%|    …"
      ]
     },
     "metadata": {},
     "output_type": "display_data"
    },
    {
     "data": {
      "application/vnd.jupyter.widget-view+json": {
       "model_id": "",
       "version_major": 2,
       "version_minor": 0
      },
      "text/plain": [
       "[CONJUNCTIONS | 1000 DIMENSIONS | 5 TERMS | KEEP N = 50] Run #3, Epoch #3, Training:   0%|          | 0/79 [00…"
      ]
     },
     "metadata": {},
     "output_type": "display_data"
    },
    {
     "data": {
      "application/vnd.jupyter.widget-view+json": {
       "model_id": "",
       "version_major": 2,
       "version_minor": 0
      },
      "text/plain": [
       "[CONJUNCTIONS | 1000 DIMENSIONS | 5 TERMS | KEEP N = 50] Run #3, Epoch #3, Testing [output-distance]:   0%|   …"
      ]
     },
     "metadata": {},
     "output_type": "display_data"
    },
    {
     "data": {
      "application/vnd.jupyter.widget-view+json": {
       "model_id": "",
       "version_major": 2,
       "version_minor": 0
      },
      "text/plain": [
       "[CONJUNCTIONS | 1000 DIMENSIONS | 5 TERMS | KEEP N = 50] Run #3, Epoch #3, Testing [correct-output]:   0%|    …"
      ]
     },
     "metadata": {},
     "output_type": "display_data"
    },
    {
     "data": {
      "application/vnd.jupyter.widget-view+json": {
       "model_id": "",
       "version_major": 2,
       "version_minor": 0
      },
      "text/plain": [
       "[CONJUNCTIONS | 1000 DIMENSIONS | 5 TERMS | KEEP N = 50] Run #3, Epoch #4, Training:   0%|          | 0/79 [00…"
      ]
     },
     "metadata": {},
     "output_type": "display_data"
    },
    {
     "data": {
      "application/vnd.jupyter.widget-view+json": {
       "model_id": "",
       "version_major": 2,
       "version_minor": 0
      },
      "text/plain": [
       "[CONJUNCTIONS | 1000 DIMENSIONS | 5 TERMS | KEEP N = 50] Run #3, Epoch #4, Testing [output-distance]:   0%|   …"
      ]
     },
     "metadata": {},
     "output_type": "display_data"
    },
    {
     "data": {
      "application/vnd.jupyter.widget-view+json": {
       "model_id": "",
       "version_major": 2,
       "version_minor": 0
      },
      "text/plain": [
       "[CONJUNCTIONS | 1000 DIMENSIONS | 5 TERMS | KEEP N = 50] Run #3, Epoch #4, Testing [correct-output]:   0%|    …"
      ]
     },
     "metadata": {},
     "output_type": "display_data"
    },
    {
     "data": {
      "application/vnd.jupyter.widget-view+json": {
       "model_id": "",
       "version_major": 2,
       "version_minor": 0
      },
      "text/plain": [
       "[CONJUNCTIONS | 1000 DIMENSIONS | 5 TERMS | KEEP N = 50] Run #3, Epoch #5, Training:   0%|          | 0/79 [00…"
      ]
     },
     "metadata": {},
     "output_type": "display_data"
    },
    {
     "data": {
      "application/vnd.jupyter.widget-view+json": {
       "model_id": "",
       "version_major": 2,
       "version_minor": 0
      },
      "text/plain": [
       "[CONJUNCTIONS | 1000 DIMENSIONS | 5 TERMS | KEEP N = 50] Run #3, Epoch #5, Testing [output-distance]:   0%|   …"
      ]
     },
     "metadata": {},
     "output_type": "display_data"
    },
    {
     "data": {
      "application/vnd.jupyter.widget-view+json": {
       "model_id": "",
       "version_major": 2,
       "version_minor": 0
      },
      "text/plain": [
       "[CONJUNCTIONS | 1000 DIMENSIONS | 5 TERMS | KEEP N = 50] Run #3, Epoch #5, Testing [correct-output]:   0%|    …"
      ]
     },
     "metadata": {},
     "output_type": "display_data"
    },
    {
     "data": {
      "application/vnd.jupyter.widget-view+json": {
       "model_id": "",
       "version_major": 2,
       "version_minor": 0
      },
      "text/plain": [
       "[CONJUNCTIONS | 1000 DIMENSIONS | 5 TERMS | KEEP N = 50] Run #3, Epoch #6, Training:   0%|          | 0/79 [00…"
      ]
     },
     "metadata": {},
     "output_type": "display_data"
    },
    {
     "data": {
      "application/vnd.jupyter.widget-view+json": {
       "model_id": "",
       "version_major": 2,
       "version_minor": 0
      },
      "text/plain": [
       "[CONJUNCTIONS | 1000 DIMENSIONS | 5 TERMS | KEEP N = 50] Run #3, Epoch #6, Testing [output-distance]:   0%|   …"
      ]
     },
     "metadata": {},
     "output_type": "display_data"
    },
    {
     "data": {
      "application/vnd.jupyter.widget-view+json": {
       "model_id": "",
       "version_major": 2,
       "version_minor": 0
      },
      "text/plain": [
       "[CONJUNCTIONS | 1000 DIMENSIONS | 5 TERMS | KEEP N = 50] Run #3, Epoch #6, Testing [correct-output]:   0%|    …"
      ]
     },
     "metadata": {},
     "output_type": "display_data"
    },
    {
     "data": {
      "application/vnd.jupyter.widget-view+json": {
       "model_id": "",
       "version_major": 2,
       "version_minor": 0
      },
      "text/plain": [
       "[CONJUNCTIONS | 1000 DIMENSIONS | 5 TERMS | KEEP N = 50] Run #3, Epoch #7, Training:   0%|          | 0/79 [00…"
      ]
     },
     "metadata": {},
     "output_type": "display_data"
    },
    {
     "data": {
      "application/vnd.jupyter.widget-view+json": {
       "model_id": "",
       "version_major": 2,
       "version_minor": 0
      },
      "text/plain": [
       "[CONJUNCTIONS | 1000 DIMENSIONS | 5 TERMS | KEEP N = 50] Run #3, Epoch #7, Testing [output-distance]:   0%|   …"
      ]
     },
     "metadata": {},
     "output_type": "display_data"
    },
    {
     "data": {
      "application/vnd.jupyter.widget-view+json": {
       "model_id": "",
       "version_major": 2,
       "version_minor": 0
      },
      "text/plain": [
       "[CONJUNCTIONS | 1000 DIMENSIONS | 5 TERMS | KEEP N = 50] Run #3, Epoch #7, Testing [correct-output]:   0%|    …"
      ]
     },
     "metadata": {},
     "output_type": "display_data"
    },
    {
     "data": {
      "application/vnd.jupyter.widget-view+json": {
       "model_id": "",
       "version_major": 2,
       "version_minor": 0
      },
      "text/plain": [
       "[CONJUNCTIONS | 1000 DIMENSIONS | 5 TERMS | KEEP N = 50] Run #3, Epoch #8, Training:   0%|          | 0/79 [00…"
      ]
     },
     "metadata": {},
     "output_type": "display_data"
    },
    {
     "data": {
      "application/vnd.jupyter.widget-view+json": {
       "model_id": "",
       "version_major": 2,
       "version_minor": 0
      },
      "text/plain": [
       "[CONJUNCTIONS | 1000 DIMENSIONS | 5 TERMS | KEEP N = 50] Run #3, Epoch #8, Testing [output-distance]:   0%|   …"
      ]
     },
     "metadata": {},
     "output_type": "display_data"
    },
    {
     "data": {
      "application/vnd.jupyter.widget-view+json": {
       "model_id": "",
       "version_major": 2,
       "version_minor": 0
      },
      "text/plain": [
       "[CONJUNCTIONS | 1000 DIMENSIONS | 5 TERMS | KEEP N = 50] Run #3, Epoch #8, Testing [correct-output]:   0%|    …"
      ]
     },
     "metadata": {},
     "output_type": "display_data"
    },
    {
     "data": {
      "application/vnd.jupyter.widget-view+json": {
       "model_id": "",
       "version_major": 2,
       "version_minor": 0
      },
      "text/plain": [
       "[CONJUNCTIONS | 1000 DIMENSIONS | 5 TERMS | KEEP N = 50] Run #3, Epoch #9, Training:   0%|          | 0/79 [00…"
      ]
     },
     "metadata": {},
     "output_type": "display_data"
    },
    {
     "data": {
      "application/vnd.jupyter.widget-view+json": {
       "model_id": "",
       "version_major": 2,
       "version_minor": 0
      },
      "text/plain": [
       "[CONJUNCTIONS | 1000 DIMENSIONS | 5 TERMS | KEEP N = 50] Run #3, Epoch #9, Testing [output-distance]:   0%|   …"
      ]
     },
     "metadata": {},
     "output_type": "display_data"
    },
    {
     "data": {
      "application/vnd.jupyter.widget-view+json": {
       "model_id": "",
       "version_major": 2,
       "version_minor": 0
      },
      "text/plain": [
       "[CONJUNCTIONS | 1000 DIMENSIONS | 5 TERMS | KEEP N = 50] Run #3, Epoch #9, Testing [correct-output]:   0%|    …"
      ]
     },
     "metadata": {},
     "output_type": "display_data"
    },
    {
     "data": {
      "application/vnd.jupyter.widget-view+json": {
       "model_id": "",
       "version_major": 2,
       "version_minor": 0
      },
      "text/plain": [
       "[CONJUNCTIONS | 1000 DIMENSIONS | 5 TERMS | KEEP N = 50] Run #3, Epoch #10, Training:   0%|          | 0/79 [0…"
      ]
     },
     "metadata": {},
     "output_type": "display_data"
    },
    {
     "data": {
      "application/vnd.jupyter.widget-view+json": {
       "model_id": "",
       "version_major": 2,
       "version_minor": 0
      },
      "text/plain": [
       "[CONJUNCTIONS | 1000 DIMENSIONS | 5 TERMS | KEEP N = 50] Run #3, Epoch #10, Testing [output-distance]:   0%|  …"
      ]
     },
     "metadata": {},
     "output_type": "display_data"
    },
    {
     "data": {
      "application/vnd.jupyter.widget-view+json": {
       "model_id": "",
       "version_major": 2,
       "version_minor": 0
      },
      "text/plain": [
       "[CONJUNCTIONS | 1000 DIMENSIONS | 5 TERMS | KEEP N = 50] Run #3, Epoch #10, Testing [correct-output]:   0%|   …"
      ]
     },
     "metadata": {},
     "output_type": "display_data"
    },
    {
     "data": {
      "application/vnd.jupyter.widget-view+json": {
       "model_id": "",
       "version_major": 2,
       "version_minor": 0
      },
      "text/plain": [
       "[CONJUNCTIONS | 1000 DIMENSIONS | 5 TERMS | KEEP N = 50] Run #3, Epoch #11, Training:   0%|          | 0/79 [0…"
      ]
     },
     "metadata": {},
     "output_type": "display_data"
    },
    {
     "data": {
      "application/vnd.jupyter.widget-view+json": {
       "model_id": "",
       "version_major": 2,
       "version_minor": 0
      },
      "text/plain": [
       "[CONJUNCTIONS | 1000 DIMENSIONS | 5 TERMS | KEEP N = 50] Run #3, Epoch #11, Testing [output-distance]:   0%|  …"
      ]
     },
     "metadata": {},
     "output_type": "display_data"
    },
    {
     "data": {
      "application/vnd.jupyter.widget-view+json": {
       "model_id": "",
       "version_major": 2,
       "version_minor": 0
      },
      "text/plain": [
       "[CONJUNCTIONS | 1000 DIMENSIONS | 5 TERMS | KEEP N = 50] Run #3, Epoch #11, Testing [correct-output]:   0%|   …"
      ]
     },
     "metadata": {},
     "output_type": "display_data"
    },
    {
     "data": {
      "application/vnd.jupyter.widget-view+json": {
       "model_id": "",
       "version_major": 2,
       "version_minor": 0
      },
      "text/plain": [
       "[CONJUNCTIONS | 1000 DIMENSIONS | 5 TERMS | KEEP N = 50] Run #3, Epoch #12, Training:   0%|          | 0/79 [0…"
      ]
     },
     "metadata": {},
     "output_type": "display_data"
    },
    {
     "data": {
      "application/vnd.jupyter.widget-view+json": {
       "model_id": "",
       "version_major": 2,
       "version_minor": 0
      },
      "text/plain": [
       "[CONJUNCTIONS | 1000 DIMENSIONS | 5 TERMS | KEEP N = 50] Run #3, Epoch #12, Testing [output-distance]:   0%|  …"
      ]
     },
     "metadata": {},
     "output_type": "display_data"
    },
    {
     "data": {
      "application/vnd.jupyter.widget-view+json": {
       "model_id": "",
       "version_major": 2,
       "version_minor": 0
      },
      "text/plain": [
       "[CONJUNCTIONS | 1000 DIMENSIONS | 5 TERMS | KEEP N = 50] Run #3, Epoch #12, Testing [correct-output]:   0%|   …"
      ]
     },
     "metadata": {},
     "output_type": "display_data"
    },
    {
     "data": {
      "application/vnd.jupyter.widget-view+json": {
       "model_id": "",
       "version_major": 2,
       "version_minor": 0
      },
      "text/plain": [
       "[CONJUNCTIONS | 1000 DIMENSIONS | 5 TERMS | KEEP N = 50] Run #3, Epoch #13, Training:   0%|          | 0/79 [0…"
      ]
     },
     "metadata": {},
     "output_type": "display_data"
    },
    {
     "data": {
      "application/vnd.jupyter.widget-view+json": {
       "model_id": "",
       "version_major": 2,
       "version_minor": 0
      },
      "text/plain": [
       "[CONJUNCTIONS | 1000 DIMENSIONS | 5 TERMS | KEEP N = 50] Run #3, Epoch #13, Testing [output-distance]:   0%|  …"
      ]
     },
     "metadata": {},
     "output_type": "display_data"
    },
    {
     "data": {
      "application/vnd.jupyter.widget-view+json": {
       "model_id": "",
       "version_major": 2,
       "version_minor": 0
      },
      "text/plain": [
       "[CONJUNCTIONS | 1000 DIMENSIONS | 5 TERMS | KEEP N = 50] Run #3, Epoch #13, Testing [correct-output]:   0%|   …"
      ]
     },
     "metadata": {},
     "output_type": "display_data"
    },
    {
     "data": {
      "application/vnd.jupyter.widget-view+json": {
       "model_id": "",
       "version_major": 2,
       "version_minor": 0
      },
      "text/plain": [
       "[CONJUNCTIONS | 1000 DIMENSIONS | 5 TERMS | KEEP N = 50] Run #3, Epoch #14, Training:   0%|          | 0/79 [0…"
      ]
     },
     "metadata": {},
     "output_type": "display_data"
    },
    {
     "data": {
      "application/vnd.jupyter.widget-view+json": {
       "model_id": "",
       "version_major": 2,
       "version_minor": 0
      },
      "text/plain": [
       "[CONJUNCTIONS | 1000 DIMENSIONS | 5 TERMS | KEEP N = 50] Run #3, Epoch #14, Testing [output-distance]:   0%|  …"
      ]
     },
     "metadata": {},
     "output_type": "display_data"
    },
    {
     "data": {
      "application/vnd.jupyter.widget-view+json": {
       "model_id": "",
       "version_major": 2,
       "version_minor": 0
      },
      "text/plain": [
       "[CONJUNCTIONS | 1000 DIMENSIONS | 5 TERMS | KEEP N = 50] Run #3, Epoch #14, Testing [correct-output]:   0%|   …"
      ]
     },
     "metadata": {},
     "output_type": "display_data"
    },
    {
     "data": {
      "application/vnd.jupyter.widget-view+json": {
       "model_id": "",
       "version_major": 2,
       "version_minor": 0
      },
      "text/plain": [
       "[CONJUNCTIONS | 1000 DIMENSIONS | 5 TERMS | KEEP N = 50] Run #3, Epoch #15, Training:   0%|          | 0/79 [0…"
      ]
     },
     "metadata": {},
     "output_type": "display_data"
    },
    {
     "data": {
      "application/vnd.jupyter.widget-view+json": {
       "model_id": "",
       "version_major": 2,
       "version_minor": 0
      },
      "text/plain": [
       "[CONJUNCTIONS | 1000 DIMENSIONS | 5 TERMS | KEEP N = 50] Run #3, Epoch #15, Testing [output-distance]:   0%|  …"
      ]
     },
     "metadata": {},
     "output_type": "display_data"
    },
    {
     "data": {
      "application/vnd.jupyter.widget-view+json": {
       "model_id": "",
       "version_major": 2,
       "version_minor": 0
      },
      "text/plain": [
       "[CONJUNCTIONS | 1000 DIMENSIONS | 5 TERMS | KEEP N = 50] Run #3, Epoch #15, Testing [correct-output]:   0%|   …"
      ]
     },
     "metadata": {},
     "output_type": "display_data"
    },
    {
     "data": {
      "application/vnd.jupyter.widget-view+json": {
       "model_id": "",
       "version_major": 2,
       "version_minor": 0
      },
      "text/plain": [
       "[CONJUNCTIONS | 1000 DIMENSIONS | 5 TERMS | KEEP N = 50] Run #3, Epoch #16, Training:   0%|          | 0/79 [0…"
      ]
     },
     "metadata": {},
     "output_type": "display_data"
    },
    {
     "data": {
      "application/vnd.jupyter.widget-view+json": {
       "model_id": "",
       "version_major": 2,
       "version_minor": 0
      },
      "text/plain": [
       "[CONJUNCTIONS | 1000 DIMENSIONS | 5 TERMS | KEEP N = 50] Run #3, Epoch #16, Testing [output-distance]:   0%|  …"
      ]
     },
     "metadata": {},
     "output_type": "display_data"
    },
    {
     "data": {
      "application/vnd.jupyter.widget-view+json": {
       "model_id": "",
       "version_major": 2,
       "version_minor": 0
      },
      "text/plain": [
       "[CONJUNCTIONS | 1000 DIMENSIONS | 5 TERMS | KEEP N = 50] Run #3, Epoch #16, Testing [correct-output]:   0%|   …"
      ]
     },
     "metadata": {},
     "output_type": "display_data"
    },
    {
     "data": {
      "application/vnd.jupyter.widget-view+json": {
       "model_id": "",
       "version_major": 2,
       "version_minor": 0
      },
      "text/plain": [
       "[CONJUNCTIONS | 1000 DIMENSIONS | 5 TERMS | KEEP N = 50] Run #3, Epoch #17, Training:   0%|          | 0/79 [0…"
      ]
     },
     "metadata": {},
     "output_type": "display_data"
    },
    {
     "data": {
      "application/vnd.jupyter.widget-view+json": {
       "model_id": "",
       "version_major": 2,
       "version_minor": 0
      },
      "text/plain": [
       "[CONJUNCTIONS | 1000 DIMENSIONS | 5 TERMS | KEEP N = 50] Run #3, Epoch #17, Testing [output-distance]:   0%|  …"
      ]
     },
     "metadata": {},
     "output_type": "display_data"
    },
    {
     "data": {
      "application/vnd.jupyter.widget-view+json": {
       "model_id": "",
       "version_major": 2,
       "version_minor": 0
      },
      "text/plain": [
       "[CONJUNCTIONS | 1000 DIMENSIONS | 5 TERMS | KEEP N = 50] Run #3, Epoch #17, Testing [correct-output]:   0%|   …"
      ]
     },
     "metadata": {},
     "output_type": "display_data"
    },
    {
     "data": {
      "application/vnd.jupyter.widget-view+json": {
       "model_id": "",
       "version_major": 2,
       "version_minor": 0
      },
      "text/plain": [
       "[CONJUNCTIONS | 1000 DIMENSIONS | 5 TERMS | KEEP N = 50] Run #3, Epoch #18, Training:   0%|          | 0/79 [0…"
      ]
     },
     "metadata": {},
     "output_type": "display_data"
    },
    {
     "data": {
      "application/vnd.jupyter.widget-view+json": {
       "model_id": "",
       "version_major": 2,
       "version_minor": 0
      },
      "text/plain": [
       "[CONJUNCTIONS | 1000 DIMENSIONS | 5 TERMS | KEEP N = 50] Run #3, Epoch #18, Testing [output-distance]:   0%|  …"
      ]
     },
     "metadata": {},
     "output_type": "display_data"
    },
    {
     "data": {
      "application/vnd.jupyter.widget-view+json": {
       "model_id": "",
       "version_major": 2,
       "version_minor": 0
      },
      "text/plain": [
       "[CONJUNCTIONS | 1000 DIMENSIONS | 5 TERMS | KEEP N = 50] Run #3, Epoch #18, Testing [correct-output]:   0%|   …"
      ]
     },
     "metadata": {},
     "output_type": "display_data"
    },
    {
     "data": {
      "application/vnd.jupyter.widget-view+json": {
       "model_id": "",
       "version_major": 2,
       "version_minor": 0
      },
      "text/plain": [
       "[CONJUNCTIONS | 1000 DIMENSIONS | 5 TERMS | KEEP N = 50] Run #3, Epoch #19, Training:   0%|          | 0/79 [0…"
      ]
     },
     "metadata": {},
     "output_type": "display_data"
    },
    {
     "data": {
      "application/vnd.jupyter.widget-view+json": {
       "model_id": "",
       "version_major": 2,
       "version_minor": 0
      },
      "text/plain": [
       "[CONJUNCTIONS | 1000 DIMENSIONS | 5 TERMS | KEEP N = 50] Run #3, Epoch #19, Testing [output-distance]:   0%|  …"
      ]
     },
     "metadata": {},
     "output_type": "display_data"
    },
    {
     "data": {
      "application/vnd.jupyter.widget-view+json": {
       "model_id": "",
       "version_major": 2,
       "version_minor": 0
      },
      "text/plain": [
       "[CONJUNCTIONS | 1000 DIMENSIONS | 5 TERMS | KEEP N = 50] Run #3, Epoch #19, Testing [correct-output]:   0%|   …"
      ]
     },
     "metadata": {},
     "output_type": "display_data"
    },
    {
     "data": {
      "application/vnd.jupyter.widget-view+json": {
       "model_id": "",
       "version_major": 2,
       "version_minor": 0
      },
      "text/plain": [
       "[CONJUNCTIONS | 1000 DIMENSIONS | 5 TERMS | KEEP N = 50] Run #3, Epoch #20, Training:   0%|          | 0/79 [0…"
      ]
     },
     "metadata": {},
     "output_type": "display_data"
    },
    {
     "data": {
      "application/vnd.jupyter.widget-view+json": {
       "model_id": "",
       "version_major": 2,
       "version_minor": 0
      },
      "text/plain": [
       "[CONJUNCTIONS | 1000 DIMENSIONS | 5 TERMS | KEEP N = 50] Run #3, Epoch #20, Testing [output-distance]:   0%|  …"
      ]
     },
     "metadata": {},
     "output_type": "display_data"
    },
    {
     "data": {
      "application/vnd.jupyter.widget-view+json": {
       "model_id": "",
       "version_major": 2,
       "version_minor": 0
      },
      "text/plain": [
       "[CONJUNCTIONS | 1000 DIMENSIONS | 5 TERMS | KEEP N = 50] Run #3, Epoch #20, Testing [correct-output]:   0%|   …"
      ]
     },
     "metadata": {},
     "output_type": "display_data"
    },
    {
     "data": {
      "application/vnd.jupyter.widget-view+json": {
       "model_id": "",
       "version_major": 2,
       "version_minor": 0
      },
      "text/plain": [
       "[CONJUNCTIONS | 1000 DIMENSIONS | 5 TERMS | KEEP N = 50] Run #3, Epoch #21, Training:   0%|          | 0/79 [0…"
      ]
     },
     "metadata": {},
     "output_type": "display_data"
    },
    {
     "data": {
      "application/vnd.jupyter.widget-view+json": {
       "model_id": "",
       "version_major": 2,
       "version_minor": 0
      },
      "text/plain": [
       "[CONJUNCTIONS | 1000 DIMENSIONS | 5 TERMS | KEEP N = 50] Run #3, Epoch #21, Testing [output-distance]:   0%|  …"
      ]
     },
     "metadata": {},
     "output_type": "display_data"
    },
    {
     "data": {
      "application/vnd.jupyter.widget-view+json": {
       "model_id": "",
       "version_major": 2,
       "version_minor": 0
      },
      "text/plain": [
       "[CONJUNCTIONS | 1000 DIMENSIONS | 5 TERMS | KEEP N = 50] Run #3, Epoch #21, Testing [correct-output]:   0%|   …"
      ]
     },
     "metadata": {},
     "output_type": "display_data"
    },
    {
     "data": {
      "application/vnd.jupyter.widget-view+json": {
       "model_id": "",
       "version_major": 2,
       "version_minor": 0
      },
      "text/plain": [
       "[CONJUNCTIONS | 1000 DIMENSIONS | 5 TERMS | KEEP N = 50] Run #3, Epoch #22, Training:   0%|          | 0/79 [0…"
      ]
     },
     "metadata": {},
     "output_type": "display_data"
    },
    {
     "data": {
      "application/vnd.jupyter.widget-view+json": {
       "model_id": "",
       "version_major": 2,
       "version_minor": 0
      },
      "text/plain": [
       "[CONJUNCTIONS | 1000 DIMENSIONS | 5 TERMS | KEEP N = 50] Run #3, Epoch #22, Testing [output-distance]:   0%|  …"
      ]
     },
     "metadata": {},
     "output_type": "display_data"
    },
    {
     "data": {
      "application/vnd.jupyter.widget-view+json": {
       "model_id": "",
       "version_major": 2,
       "version_minor": 0
      },
      "text/plain": [
       "[CONJUNCTIONS | 1000 DIMENSIONS | 5 TERMS | KEEP N = 50] Run #3, Epoch #22, Testing [correct-output]:   0%|   …"
      ]
     },
     "metadata": {},
     "output_type": "display_data"
    },
    {
     "data": {
      "application/vnd.jupyter.widget-view+json": {
       "model_id": "",
       "version_major": 2,
       "version_minor": 0
      },
      "text/plain": [
       "[CONJUNCTIONS | 1000 DIMENSIONS | 5 TERMS | KEEP N = 50] Run #3, Epoch #23, Training:   0%|          | 0/79 [0…"
      ]
     },
     "metadata": {},
     "output_type": "display_data"
    },
    {
     "data": {
      "application/vnd.jupyter.widget-view+json": {
       "model_id": "",
       "version_major": 2,
       "version_minor": 0
      },
      "text/plain": [
       "[CONJUNCTIONS | 1000 DIMENSIONS | 5 TERMS | KEEP N = 50] Run #3, Epoch #23, Testing [output-distance]:   0%|  …"
      ]
     },
     "metadata": {},
     "output_type": "display_data"
    },
    {
     "data": {
      "application/vnd.jupyter.widget-view+json": {
       "model_id": "",
       "version_major": 2,
       "version_minor": 0
      },
      "text/plain": [
       "[CONJUNCTIONS | 1000 DIMENSIONS | 5 TERMS | KEEP N = 50] Run #3, Epoch #23, Testing [correct-output]:   0%|   …"
      ]
     },
     "metadata": {},
     "output_type": "display_data"
    },
    {
     "data": {
      "application/vnd.jupyter.widget-view+json": {
       "model_id": "",
       "version_major": 2,
       "version_minor": 0
      },
      "text/plain": [
       "[CONJUNCTIONS | 1000 DIMENSIONS | 5 TERMS | KEEP N = 50] Run #3, Epoch #24, Training:   0%|          | 0/79 [0…"
      ]
     },
     "metadata": {},
     "output_type": "display_data"
    },
    {
     "data": {
      "application/vnd.jupyter.widget-view+json": {
       "model_id": "",
       "version_major": 2,
       "version_minor": 0
      },
      "text/plain": [
       "[CONJUNCTIONS | 1000 DIMENSIONS | 5 TERMS | KEEP N = 50] Run #3, Epoch #24, Testing [output-distance]:   0%|  …"
      ]
     },
     "metadata": {},
     "output_type": "display_data"
    },
    {
     "data": {
      "application/vnd.jupyter.widget-view+json": {
       "model_id": "",
       "version_major": 2,
       "version_minor": 0
      },
      "text/plain": [
       "[CONJUNCTIONS | 1000 DIMENSIONS | 5 TERMS | KEEP N = 50] Run #3, Epoch #24, Testing [correct-output]:   0%|   …"
      ]
     },
     "metadata": {},
     "output_type": "display_data"
    },
    {
     "data": {
      "application/vnd.jupyter.widget-view+json": {
       "model_id": "",
       "version_major": 2,
       "version_minor": 0
      },
      "text/plain": [
       "[CONJUNCTIONS | 1000 DIMENSIONS | 5 TERMS | KEEP N = 50] Run #3, Epoch #25, Training:   0%|          | 0/79 [0…"
      ]
     },
     "metadata": {},
     "output_type": "display_data"
    },
    {
     "data": {
      "application/vnd.jupyter.widget-view+json": {
       "model_id": "",
       "version_major": 2,
       "version_minor": 0
      },
      "text/plain": [
       "[CONJUNCTIONS | 1000 DIMENSIONS | 5 TERMS | KEEP N = 50] Run #3, Epoch #25, Testing [output-distance]:   0%|  …"
      ]
     },
     "metadata": {},
     "output_type": "display_data"
    },
    {
     "data": {
      "application/vnd.jupyter.widget-view+json": {
       "model_id": "",
       "version_major": 2,
       "version_minor": 0
      },
      "text/plain": [
       "[CONJUNCTIONS | 1000 DIMENSIONS | 5 TERMS | KEEP N = 50] Run #3, Epoch #25, Testing [correct-output]:   0%|   …"
      ]
     },
     "metadata": {},
     "output_type": "display_data"
    },
    {
     "data": {
      "application/vnd.jupyter.widget-view+json": {
       "model_id": "",
       "version_major": 2,
       "version_minor": 0
      },
      "text/plain": [
       "[CONJUNCTIONS | 1000 DIMENSIONS | 5 TERMS | KEEP N = 50] Run #3, Epoch #26, Training:   0%|          | 0/79 [0…"
      ]
     },
     "metadata": {},
     "output_type": "display_data"
    },
    {
     "data": {
      "application/vnd.jupyter.widget-view+json": {
       "model_id": "",
       "version_major": 2,
       "version_minor": 0
      },
      "text/plain": [
       "[CONJUNCTIONS | 1000 DIMENSIONS | 5 TERMS | KEEP N = 50] Run #3, Epoch #26, Testing [output-distance]:   0%|  …"
      ]
     },
     "metadata": {},
     "output_type": "display_data"
    },
    {
     "data": {
      "application/vnd.jupyter.widget-view+json": {
       "model_id": "",
       "version_major": 2,
       "version_minor": 0
      },
      "text/plain": [
       "[CONJUNCTIONS | 1000 DIMENSIONS | 5 TERMS | KEEP N = 50] Run #3, Epoch #26, Testing [correct-output]:   0%|   …"
      ]
     },
     "metadata": {},
     "output_type": "display_data"
    },
    {
     "data": {
      "application/vnd.jupyter.widget-view+json": {
       "model_id": "",
       "version_major": 2,
       "version_minor": 0
      },
      "text/plain": [
       "[CONJUNCTIONS | 1000 DIMENSIONS | 5 TERMS | KEEP N = 50] Run #3, Epoch #27, Training:   0%|          | 0/79 [0…"
      ]
     },
     "metadata": {},
     "output_type": "display_data"
    },
    {
     "data": {
      "application/vnd.jupyter.widget-view+json": {
       "model_id": "",
       "version_major": 2,
       "version_minor": 0
      },
      "text/plain": [
       "[CONJUNCTIONS | 1000 DIMENSIONS | 5 TERMS | KEEP N = 50] Run #3, Epoch #27, Testing [output-distance]:   0%|  …"
      ]
     },
     "metadata": {},
     "output_type": "display_data"
    },
    {
     "data": {
      "application/vnd.jupyter.widget-view+json": {
       "model_id": "",
       "version_major": 2,
       "version_minor": 0
      },
      "text/plain": [
       "[CONJUNCTIONS | 1000 DIMENSIONS | 5 TERMS | KEEP N = 50] Run #3, Epoch #27, Testing [correct-output]:   0%|   …"
      ]
     },
     "metadata": {},
     "output_type": "display_data"
    },
    {
     "data": {
      "application/vnd.jupyter.widget-view+json": {
       "model_id": "",
       "version_major": 2,
       "version_minor": 0
      },
      "text/plain": [
       "[CONJUNCTIONS | 1000 DIMENSIONS | 5 TERMS | KEEP N = 50] Run #3, Epoch #28, Training:   0%|          | 0/79 [0…"
      ]
     },
     "metadata": {},
     "output_type": "display_data"
    },
    {
     "data": {
      "application/vnd.jupyter.widget-view+json": {
       "model_id": "",
       "version_major": 2,
       "version_minor": 0
      },
      "text/plain": [
       "[CONJUNCTIONS | 1000 DIMENSIONS | 5 TERMS | KEEP N = 50] Run #3, Epoch #28, Testing [output-distance]:   0%|  …"
      ]
     },
     "metadata": {},
     "output_type": "display_data"
    },
    {
     "data": {
      "application/vnd.jupyter.widget-view+json": {
       "model_id": "",
       "version_major": 2,
       "version_minor": 0
      },
      "text/plain": [
       "[CONJUNCTIONS | 1000 DIMENSIONS | 5 TERMS | KEEP N = 50] Run #3, Epoch #28, Testing [correct-output]:   0%|   …"
      ]
     },
     "metadata": {},
     "output_type": "display_data"
    },
    {
     "data": {
      "application/vnd.jupyter.widget-view+json": {
       "model_id": "",
       "version_major": 2,
       "version_minor": 0
      },
      "text/plain": [
       "[CONJUNCTIONS | 1000 DIMENSIONS | 5 TERMS | KEEP N = 50] Run #3, Epoch #29, Training:   0%|          | 0/79 [0…"
      ]
     },
     "metadata": {},
     "output_type": "display_data"
    },
    {
     "data": {
      "application/vnd.jupyter.widget-view+json": {
       "model_id": "",
       "version_major": 2,
       "version_minor": 0
      },
      "text/plain": [
       "[CONJUNCTIONS | 1000 DIMENSIONS | 5 TERMS | KEEP N = 50] Run #3, Epoch #29, Testing [output-distance]:   0%|  …"
      ]
     },
     "metadata": {},
     "output_type": "display_data"
    },
    {
     "data": {
      "application/vnd.jupyter.widget-view+json": {
       "model_id": "",
       "version_major": 2,
       "version_minor": 0
      },
      "text/plain": [
       "[CONJUNCTIONS | 1000 DIMENSIONS | 5 TERMS | KEEP N = 50] Run #3, Epoch #29, Testing [correct-output]:   0%|   …"
      ]
     },
     "metadata": {},
     "output_type": "display_data"
    },
    {
     "data": {
      "application/vnd.jupyter.widget-view+json": {
       "model_id": "",
       "version_major": 2,
       "version_minor": 0
      },
      "text/plain": [
       "[CONJUNCTIONS | 1000 DIMENSIONS | 5 TERMS | KEEP N = 50] Run #3, Epoch #30, Training:   0%|          | 0/79 [0…"
      ]
     },
     "metadata": {},
     "output_type": "display_data"
    },
    {
     "data": {
      "application/vnd.jupyter.widget-view+json": {
       "model_id": "",
       "version_major": 2,
       "version_minor": 0
      },
      "text/plain": [
       "[CONJUNCTIONS | 1000 DIMENSIONS | 5 TERMS | KEEP N = 50] Run #3, Epoch #30, Testing [output-distance]:   0%|  …"
      ]
     },
     "metadata": {},
     "output_type": "display_data"
    },
    {
     "data": {
      "application/vnd.jupyter.widget-view+json": {
       "model_id": "",
       "version_major": 2,
       "version_minor": 0
      },
      "text/plain": [
       "[CONJUNCTIONS | 1000 DIMENSIONS | 5 TERMS | KEEP N = 50] Run #3, Epoch #30, Testing [correct-output]:   0%|   …"
      ]
     },
     "metadata": {},
     "output_type": "display_data"
    },
    {
     "data": {
      "application/vnd.jupyter.widget-view+json": {
       "model_id": "",
       "version_major": 2,
       "version_minor": 0
      },
      "text/plain": [
       "[CONJUNCTIONS | 1000 DIMENSIONS | 5 TERMS | KEEP N = 50] Run #3, Epoch #31, Training:   0%|          | 0/79 [0…"
      ]
     },
     "metadata": {},
     "output_type": "display_data"
    },
    {
     "data": {
      "application/vnd.jupyter.widget-view+json": {
       "model_id": "",
       "version_major": 2,
       "version_minor": 0
      },
      "text/plain": [
       "[CONJUNCTIONS | 1000 DIMENSIONS | 5 TERMS | KEEP N = 50] Run #3, Epoch #31, Testing [output-distance]:   0%|  …"
      ]
     },
     "metadata": {},
     "output_type": "display_data"
    },
    {
     "data": {
      "application/vnd.jupyter.widget-view+json": {
       "model_id": "",
       "version_major": 2,
       "version_minor": 0
      },
      "text/plain": [
       "[CONJUNCTIONS | 1000 DIMENSIONS | 5 TERMS | KEEP N = 50] Run #3, Epoch #31, Testing [correct-output]:   0%|   …"
      ]
     },
     "metadata": {},
     "output_type": "display_data"
    },
    {
     "data": {
      "application/vnd.jupyter.widget-view+json": {
       "model_id": "",
       "version_major": 2,
       "version_minor": 0
      },
      "text/plain": [
       "[CONJUNCTIONS | 1000 DIMENSIONS | 5 TERMS | KEEP N = 50] Run #3, Epoch #32, Training:   0%|          | 0/79 [0…"
      ]
     },
     "metadata": {},
     "output_type": "display_data"
    },
    {
     "data": {
      "application/vnd.jupyter.widget-view+json": {
       "model_id": "",
       "version_major": 2,
       "version_minor": 0
      },
      "text/plain": [
       "[CONJUNCTIONS | 1000 DIMENSIONS | 5 TERMS | KEEP N = 50] Run #3, Epoch #32, Testing [output-distance]:   0%|  …"
      ]
     },
     "metadata": {},
     "output_type": "display_data"
    },
    {
     "data": {
      "application/vnd.jupyter.widget-view+json": {
       "model_id": "",
       "version_major": 2,
       "version_minor": 0
      },
      "text/plain": [
       "[CONJUNCTIONS | 1000 DIMENSIONS | 5 TERMS | KEEP N = 50] Run #3, Epoch #32, Testing [correct-output]:   0%|   …"
      ]
     },
     "metadata": {},
     "output_type": "display_data"
    },
    {
     "data": {
      "application/vnd.jupyter.widget-view+json": {
       "model_id": "",
       "version_major": 2,
       "version_minor": 0
      },
      "text/plain": [
       "[CONJUNCTIONS | 1000 DIMENSIONS | 5 TERMS | KEEP N = 50] Run #3, Epoch #33, Training:   0%|          | 0/79 [0…"
      ]
     },
     "metadata": {},
     "output_type": "display_data"
    },
    {
     "data": {
      "application/vnd.jupyter.widget-view+json": {
       "model_id": "",
       "version_major": 2,
       "version_minor": 0
      },
      "text/plain": [
       "[CONJUNCTIONS | 1000 DIMENSIONS | 5 TERMS | KEEP N = 50] Run #3, Epoch #33, Testing [output-distance]:   0%|  …"
      ]
     },
     "metadata": {},
     "output_type": "display_data"
    },
    {
     "data": {
      "application/vnd.jupyter.widget-view+json": {
       "model_id": "",
       "version_major": 2,
       "version_minor": 0
      },
      "text/plain": [
       "[CONJUNCTIONS | 1000 DIMENSIONS | 5 TERMS | KEEP N = 50] Run #3, Epoch #33, Testing [correct-output]:   0%|   …"
      ]
     },
     "metadata": {},
     "output_type": "display_data"
    },
    {
     "data": {
      "application/vnd.jupyter.widget-view+json": {
       "model_id": "",
       "version_major": 2,
       "version_minor": 0
      },
      "text/plain": [
       "[CONJUNCTIONS | 1000 DIMENSIONS | 5 TERMS | KEEP N = 50] Run #3, Epoch #34, Training:   0%|          | 0/79 [0…"
      ]
     },
     "metadata": {},
     "output_type": "display_data"
    },
    {
     "data": {
      "application/vnd.jupyter.widget-view+json": {
       "model_id": "",
       "version_major": 2,
       "version_minor": 0
      },
      "text/plain": [
       "[CONJUNCTIONS | 1000 DIMENSIONS | 5 TERMS | KEEP N = 50] Run #3, Epoch #34, Testing [output-distance]:   0%|  …"
      ]
     },
     "metadata": {},
     "output_type": "display_data"
    },
    {
     "data": {
      "application/vnd.jupyter.widget-view+json": {
       "model_id": "",
       "version_major": 2,
       "version_minor": 0
      },
      "text/plain": [
       "[CONJUNCTIONS | 1000 DIMENSIONS | 5 TERMS | KEEP N = 50] Run #3, Epoch #34, Testing [correct-output]:   0%|   …"
      ]
     },
     "metadata": {},
     "output_type": "display_data"
    },
    {
     "data": {
      "application/vnd.jupyter.widget-view+json": {
       "model_id": "",
       "version_major": 2,
       "version_minor": 0
      },
      "text/plain": [
       "[CONJUNCTIONS | 1000 DIMENSIONS | 5 TERMS | KEEP N = 50] Run #3, Epoch #35, Training:   0%|          | 0/79 [0…"
      ]
     },
     "metadata": {},
     "output_type": "display_data"
    },
    {
     "data": {
      "application/vnd.jupyter.widget-view+json": {
       "model_id": "",
       "version_major": 2,
       "version_minor": 0
      },
      "text/plain": [
       "[CONJUNCTIONS | 1000 DIMENSIONS | 5 TERMS | KEEP N = 50] Run #3, Epoch #35, Testing [output-distance]:   0%|  …"
      ]
     },
     "metadata": {},
     "output_type": "display_data"
    },
    {
     "data": {
      "application/vnd.jupyter.widget-view+json": {
       "model_id": "",
       "version_major": 2,
       "version_minor": 0
      },
      "text/plain": [
       "[CONJUNCTIONS | 1000 DIMENSIONS | 5 TERMS | KEEP N = 50] Run #3, Epoch #35, Testing [correct-output]:   0%|   …"
      ]
     },
     "metadata": {},
     "output_type": "display_data"
    },
    {
     "data": {
      "application/vnd.jupyter.widget-view+json": {
       "model_id": "",
       "version_major": 2,
       "version_minor": 0
      },
      "text/plain": [
       "[CONJUNCTIONS | 1000 DIMENSIONS | 5 TERMS | KEEP N = 50] Run #3, Epoch #36, Training:   0%|          | 0/79 [0…"
      ]
     },
     "metadata": {},
     "output_type": "display_data"
    },
    {
     "data": {
      "application/vnd.jupyter.widget-view+json": {
       "model_id": "",
       "version_major": 2,
       "version_minor": 0
      },
      "text/plain": [
       "[CONJUNCTIONS | 1000 DIMENSIONS | 5 TERMS | KEEP N = 50] Run #3, Epoch #36, Testing [output-distance]:   0%|  …"
      ]
     },
     "metadata": {},
     "output_type": "display_data"
    },
    {
     "data": {
      "application/vnd.jupyter.widget-view+json": {
       "model_id": "",
       "version_major": 2,
       "version_minor": 0
      },
      "text/plain": [
       "[CONJUNCTIONS | 1000 DIMENSIONS | 5 TERMS | KEEP N = 50] Run #3, Epoch #36, Testing [correct-output]:   0%|   …"
      ]
     },
     "metadata": {},
     "output_type": "display_data"
    },
    {
     "data": {
      "application/vnd.jupyter.widget-view+json": {
       "model_id": "",
       "version_major": 2,
       "version_minor": 0
      },
      "text/plain": [
       "[CONJUNCTIONS | 1000 DIMENSIONS | 5 TERMS | KEEP N = 50] Run #3, Epoch #37, Training:   0%|          | 0/79 [0…"
      ]
     },
     "metadata": {},
     "output_type": "display_data"
    },
    {
     "data": {
      "application/vnd.jupyter.widget-view+json": {
       "model_id": "",
       "version_major": 2,
       "version_minor": 0
      },
      "text/plain": [
       "[CONJUNCTIONS | 1000 DIMENSIONS | 5 TERMS | KEEP N = 50] Run #3, Epoch #37, Testing [output-distance]:   0%|  …"
      ]
     },
     "metadata": {},
     "output_type": "display_data"
    },
    {
     "data": {
      "application/vnd.jupyter.widget-view+json": {
       "model_id": "",
       "version_major": 2,
       "version_minor": 0
      },
      "text/plain": [
       "[CONJUNCTIONS | 1000 DIMENSIONS | 5 TERMS | KEEP N = 50] Run #3, Epoch #37, Testing [correct-output]:   0%|   …"
      ]
     },
     "metadata": {},
     "output_type": "display_data"
    },
    {
     "data": {
      "application/vnd.jupyter.widget-view+json": {
       "model_id": "",
       "version_major": 2,
       "version_minor": 0
      },
      "text/plain": [
       "[CONJUNCTIONS | 1000 DIMENSIONS | 5 TERMS | KEEP N = 50] Run #3, Epoch #38, Training:   0%|          | 0/79 [0…"
      ]
     },
     "metadata": {},
     "output_type": "display_data"
    },
    {
     "data": {
      "application/vnd.jupyter.widget-view+json": {
       "model_id": "",
       "version_major": 2,
       "version_minor": 0
      },
      "text/plain": [
       "[CONJUNCTIONS | 1000 DIMENSIONS | 5 TERMS | KEEP N = 50] Run #3, Epoch #38, Testing [output-distance]:   0%|  …"
      ]
     },
     "metadata": {},
     "output_type": "display_data"
    },
    {
     "data": {
      "application/vnd.jupyter.widget-view+json": {
       "model_id": "",
       "version_major": 2,
       "version_minor": 0
      },
      "text/plain": [
       "[CONJUNCTIONS | 1000 DIMENSIONS | 5 TERMS | KEEP N = 50] Run #3, Epoch #38, Testing [correct-output]:   0%|   …"
      ]
     },
     "metadata": {},
     "output_type": "display_data"
    },
    {
     "data": {
      "application/vnd.jupyter.widget-view+json": {
       "model_id": "",
       "version_major": 2,
       "version_minor": 0
      },
      "text/plain": [
       "[CONJUNCTIONS | 1000 DIMENSIONS | 5 TERMS | KEEP N = 50] Run #3, Epoch #39, Training:   0%|          | 0/79 [0…"
      ]
     },
     "metadata": {},
     "output_type": "display_data"
    },
    {
     "data": {
      "application/vnd.jupyter.widget-view+json": {
       "model_id": "",
       "version_major": 2,
       "version_minor": 0
      },
      "text/plain": [
       "[CONJUNCTIONS | 1000 DIMENSIONS | 5 TERMS | KEEP N = 50] Run #3, Epoch #39, Testing [output-distance]:   0%|  …"
      ]
     },
     "metadata": {},
     "output_type": "display_data"
    },
    {
     "data": {
      "application/vnd.jupyter.widget-view+json": {
       "model_id": "",
       "version_major": 2,
       "version_minor": 0
      },
      "text/plain": [
       "[CONJUNCTIONS | 1000 DIMENSIONS | 5 TERMS | KEEP N = 50] Run #3, Epoch #39, Testing [correct-output]:   0%|   …"
      ]
     },
     "metadata": {},
     "output_type": "display_data"
    },
    {
     "data": {
      "application/vnd.jupyter.widget-view+json": {
       "model_id": "",
       "version_major": 2,
       "version_minor": 0
      },
      "text/plain": [
       "[CONJUNCTIONS | 1000 DIMENSIONS | 5 TERMS | KEEP N = 50] Run #3, Epoch #40, Training:   0%|          | 0/79 [0…"
      ]
     },
     "metadata": {},
     "output_type": "display_data"
    },
    {
     "data": {
      "application/vnd.jupyter.widget-view+json": {
       "model_id": "",
       "version_major": 2,
       "version_minor": 0
      },
      "text/plain": [
       "[CONJUNCTIONS | 1000 DIMENSIONS | 5 TERMS | KEEP N = 50] Run #3, Epoch #40, Testing [output-distance]:   0%|  …"
      ]
     },
     "metadata": {},
     "output_type": "display_data"
    },
    {
     "data": {
      "application/vnd.jupyter.widget-view+json": {
       "model_id": "",
       "version_major": 2,
       "version_minor": 0
      },
      "text/plain": [
       "[CONJUNCTIONS | 1000 DIMENSIONS | 5 TERMS | KEEP N = 50] Run #3, Epoch #40, Testing [correct-output]:   0%|   …"
      ]
     },
     "metadata": {},
     "output_type": "display_data"
    },
    {
     "data": {
      "application/vnd.jupyter.widget-view+json": {
       "model_id": "",
       "version_major": 2,
       "version_minor": 0
      },
      "text/plain": [
       "[CONJUNCTIONS | 1000 DIMENSIONS | 5 TERMS | KEEP N = 50] Run #4, Epoch #1, Training:   0%|          | 0/79 [00…"
      ]
     },
     "metadata": {},
     "output_type": "display_data"
    },
    {
     "data": {
      "application/vnd.jupyter.widget-view+json": {
       "model_id": "",
       "version_major": 2,
       "version_minor": 0
      },
      "text/plain": [
       "[CONJUNCTIONS | 1000 DIMENSIONS | 5 TERMS | KEEP N = 50] Run #4, Epoch #1, Testing [output-distance]:   0%|   …"
      ]
     },
     "metadata": {},
     "output_type": "display_data"
    },
    {
     "data": {
      "application/vnd.jupyter.widget-view+json": {
       "model_id": "",
       "version_major": 2,
       "version_minor": 0
      },
      "text/plain": [
       "[CONJUNCTIONS | 1000 DIMENSIONS | 5 TERMS | KEEP N = 50] Run #4, Epoch #1, Testing [correct-output]:   0%|    …"
      ]
     },
     "metadata": {},
     "output_type": "display_data"
    },
    {
     "data": {
      "application/vnd.jupyter.widget-view+json": {
       "model_id": "",
       "version_major": 2,
       "version_minor": 0
      },
      "text/plain": [
       "[CONJUNCTIONS | 1000 DIMENSIONS | 5 TERMS | KEEP N = 50] Run #4, Epoch #2, Training:   0%|          | 0/79 [00…"
      ]
     },
     "metadata": {},
     "output_type": "display_data"
    },
    {
     "data": {
      "application/vnd.jupyter.widget-view+json": {
       "model_id": "",
       "version_major": 2,
       "version_minor": 0
      },
      "text/plain": [
       "[CONJUNCTIONS | 1000 DIMENSIONS | 5 TERMS | KEEP N = 50] Run #4, Epoch #2, Testing [output-distance]:   0%|   …"
      ]
     },
     "metadata": {},
     "output_type": "display_data"
    },
    {
     "data": {
      "application/vnd.jupyter.widget-view+json": {
       "model_id": "",
       "version_major": 2,
       "version_minor": 0
      },
      "text/plain": [
       "[CONJUNCTIONS | 1000 DIMENSIONS | 5 TERMS | KEEP N = 50] Run #4, Epoch #2, Testing [correct-output]:   0%|    …"
      ]
     },
     "metadata": {},
     "output_type": "display_data"
    },
    {
     "data": {
      "application/vnd.jupyter.widget-view+json": {
       "model_id": "",
       "version_major": 2,
       "version_minor": 0
      },
      "text/plain": [
       "[CONJUNCTIONS | 1000 DIMENSIONS | 5 TERMS | KEEP N = 50] Run #4, Epoch #3, Training:   0%|          | 0/79 [00…"
      ]
     },
     "metadata": {},
     "output_type": "display_data"
    },
    {
     "data": {
      "application/vnd.jupyter.widget-view+json": {
       "model_id": "",
       "version_major": 2,
       "version_minor": 0
      },
      "text/plain": [
       "[CONJUNCTIONS | 1000 DIMENSIONS | 5 TERMS | KEEP N = 50] Run #4, Epoch #3, Testing [output-distance]:   0%|   …"
      ]
     },
     "metadata": {},
     "output_type": "display_data"
    },
    {
     "data": {
      "application/vnd.jupyter.widget-view+json": {
       "model_id": "",
       "version_major": 2,
       "version_minor": 0
      },
      "text/plain": [
       "[CONJUNCTIONS | 1000 DIMENSIONS | 5 TERMS | KEEP N = 50] Run #4, Epoch #3, Testing [correct-output]:   0%|    …"
      ]
     },
     "metadata": {},
     "output_type": "display_data"
    },
    {
     "data": {
      "application/vnd.jupyter.widget-view+json": {
       "model_id": "",
       "version_major": 2,
       "version_minor": 0
      },
      "text/plain": [
       "[CONJUNCTIONS | 1000 DIMENSIONS | 5 TERMS | KEEP N = 50] Run #4, Epoch #4, Training:   0%|          | 0/79 [00…"
      ]
     },
     "metadata": {},
     "output_type": "display_data"
    },
    {
     "data": {
      "application/vnd.jupyter.widget-view+json": {
       "model_id": "",
       "version_major": 2,
       "version_minor": 0
      },
      "text/plain": [
       "[CONJUNCTIONS | 1000 DIMENSIONS | 5 TERMS | KEEP N = 50] Run #4, Epoch #4, Testing [output-distance]:   0%|   …"
      ]
     },
     "metadata": {},
     "output_type": "display_data"
    },
    {
     "data": {
      "application/vnd.jupyter.widget-view+json": {
       "model_id": "",
       "version_major": 2,
       "version_minor": 0
      },
      "text/plain": [
       "[CONJUNCTIONS | 1000 DIMENSIONS | 5 TERMS | KEEP N = 50] Run #4, Epoch #4, Testing [correct-output]:   0%|    …"
      ]
     },
     "metadata": {},
     "output_type": "display_data"
    },
    {
     "data": {
      "application/vnd.jupyter.widget-view+json": {
       "model_id": "",
       "version_major": 2,
       "version_minor": 0
      },
      "text/plain": [
       "[CONJUNCTIONS | 1000 DIMENSIONS | 5 TERMS | KEEP N = 50] Run #4, Epoch #5, Training:   0%|          | 0/79 [00…"
      ]
     },
     "metadata": {},
     "output_type": "display_data"
    },
    {
     "data": {
      "application/vnd.jupyter.widget-view+json": {
       "model_id": "",
       "version_major": 2,
       "version_minor": 0
      },
      "text/plain": [
       "[CONJUNCTIONS | 1000 DIMENSIONS | 5 TERMS | KEEP N = 50] Run #4, Epoch #5, Testing [output-distance]:   0%|   …"
      ]
     },
     "metadata": {},
     "output_type": "display_data"
    },
    {
     "data": {
      "application/vnd.jupyter.widget-view+json": {
       "model_id": "",
       "version_major": 2,
       "version_minor": 0
      },
      "text/plain": [
       "[CONJUNCTIONS | 1000 DIMENSIONS | 5 TERMS | KEEP N = 50] Run #4, Epoch #5, Testing [correct-output]:   0%|    …"
      ]
     },
     "metadata": {},
     "output_type": "display_data"
    },
    {
     "data": {
      "application/vnd.jupyter.widget-view+json": {
       "model_id": "",
       "version_major": 2,
       "version_minor": 0
      },
      "text/plain": [
       "[CONJUNCTIONS | 1000 DIMENSIONS | 5 TERMS | KEEP N = 50] Run #4, Epoch #6, Training:   0%|          | 0/79 [00…"
      ]
     },
     "metadata": {},
     "output_type": "display_data"
    },
    {
     "data": {
      "application/vnd.jupyter.widget-view+json": {
       "model_id": "",
       "version_major": 2,
       "version_minor": 0
      },
      "text/plain": [
       "[CONJUNCTIONS | 1000 DIMENSIONS | 5 TERMS | KEEP N = 50] Run #4, Epoch #6, Testing [output-distance]:   0%|   …"
      ]
     },
     "metadata": {},
     "output_type": "display_data"
    },
    {
     "data": {
      "application/vnd.jupyter.widget-view+json": {
       "model_id": "",
       "version_major": 2,
       "version_minor": 0
      },
      "text/plain": [
       "[CONJUNCTIONS | 1000 DIMENSIONS | 5 TERMS | KEEP N = 50] Run #4, Epoch #6, Testing [correct-output]:   0%|    …"
      ]
     },
     "metadata": {},
     "output_type": "display_data"
    },
    {
     "data": {
      "application/vnd.jupyter.widget-view+json": {
       "model_id": "",
       "version_major": 2,
       "version_minor": 0
      },
      "text/plain": [
       "[CONJUNCTIONS | 1000 DIMENSIONS | 5 TERMS | KEEP N = 50] Run #4, Epoch #7, Training:   0%|          | 0/79 [00…"
      ]
     },
     "metadata": {},
     "output_type": "display_data"
    },
    {
     "data": {
      "application/vnd.jupyter.widget-view+json": {
       "model_id": "",
       "version_major": 2,
       "version_minor": 0
      },
      "text/plain": [
       "[CONJUNCTIONS | 1000 DIMENSIONS | 5 TERMS | KEEP N = 50] Run #4, Epoch #7, Testing [output-distance]:   0%|   …"
      ]
     },
     "metadata": {},
     "output_type": "display_data"
    },
    {
     "data": {
      "application/vnd.jupyter.widget-view+json": {
       "model_id": "",
       "version_major": 2,
       "version_minor": 0
      },
      "text/plain": [
       "[CONJUNCTIONS | 1000 DIMENSIONS | 5 TERMS | KEEP N = 50] Run #4, Epoch #7, Testing [correct-output]:   0%|    …"
      ]
     },
     "metadata": {},
     "output_type": "display_data"
    },
    {
     "data": {
      "application/vnd.jupyter.widget-view+json": {
       "model_id": "",
       "version_major": 2,
       "version_minor": 0
      },
      "text/plain": [
       "[CONJUNCTIONS | 1000 DIMENSIONS | 5 TERMS | KEEP N = 50] Run #4, Epoch #8, Training:   0%|          | 0/79 [00…"
      ]
     },
     "metadata": {},
     "output_type": "display_data"
    },
    {
     "data": {
      "application/vnd.jupyter.widget-view+json": {
       "model_id": "",
       "version_major": 2,
       "version_minor": 0
      },
      "text/plain": [
       "[CONJUNCTIONS | 1000 DIMENSIONS | 5 TERMS | KEEP N = 50] Run #4, Epoch #8, Testing [output-distance]:   0%|   …"
      ]
     },
     "metadata": {},
     "output_type": "display_data"
    },
    {
     "data": {
      "application/vnd.jupyter.widget-view+json": {
       "model_id": "",
       "version_major": 2,
       "version_minor": 0
      },
      "text/plain": [
       "[CONJUNCTIONS | 1000 DIMENSIONS | 5 TERMS | KEEP N = 50] Run #4, Epoch #8, Testing [correct-output]:   0%|    …"
      ]
     },
     "metadata": {},
     "output_type": "display_data"
    },
    {
     "data": {
      "application/vnd.jupyter.widget-view+json": {
       "model_id": "",
       "version_major": 2,
       "version_minor": 0
      },
      "text/plain": [
       "[CONJUNCTIONS | 1000 DIMENSIONS | 5 TERMS | KEEP N = 50] Run #4, Epoch #9, Training:   0%|          | 0/79 [00…"
      ]
     },
     "metadata": {},
     "output_type": "display_data"
    },
    {
     "data": {
      "application/vnd.jupyter.widget-view+json": {
       "model_id": "",
       "version_major": 2,
       "version_minor": 0
      },
      "text/plain": [
       "[CONJUNCTIONS | 1000 DIMENSIONS | 5 TERMS | KEEP N = 50] Run #4, Epoch #9, Testing [output-distance]:   0%|   …"
      ]
     },
     "metadata": {},
     "output_type": "display_data"
    },
    {
     "data": {
      "application/vnd.jupyter.widget-view+json": {
       "model_id": "",
       "version_major": 2,
       "version_minor": 0
      },
      "text/plain": [
       "[CONJUNCTIONS | 1000 DIMENSIONS | 5 TERMS | KEEP N = 50] Run #4, Epoch #9, Testing [correct-output]:   0%|    …"
      ]
     },
     "metadata": {},
     "output_type": "display_data"
    },
    {
     "data": {
      "application/vnd.jupyter.widget-view+json": {
       "model_id": "",
       "version_major": 2,
       "version_minor": 0
      },
      "text/plain": [
       "[CONJUNCTIONS | 1000 DIMENSIONS | 5 TERMS | KEEP N = 50] Run #4, Epoch #10, Training:   0%|          | 0/79 [0…"
      ]
     },
     "metadata": {},
     "output_type": "display_data"
    },
    {
     "data": {
      "application/vnd.jupyter.widget-view+json": {
       "model_id": "",
       "version_major": 2,
       "version_minor": 0
      },
      "text/plain": [
       "[CONJUNCTIONS | 1000 DIMENSIONS | 5 TERMS | KEEP N = 50] Run #4, Epoch #10, Testing [output-distance]:   0%|  …"
      ]
     },
     "metadata": {},
     "output_type": "display_data"
    },
    {
     "data": {
      "application/vnd.jupyter.widget-view+json": {
       "model_id": "",
       "version_major": 2,
       "version_minor": 0
      },
      "text/plain": [
       "[CONJUNCTIONS | 1000 DIMENSIONS | 5 TERMS | KEEP N = 50] Run #4, Epoch #10, Testing [correct-output]:   0%|   …"
      ]
     },
     "metadata": {},
     "output_type": "display_data"
    },
    {
     "data": {
      "application/vnd.jupyter.widget-view+json": {
       "model_id": "",
       "version_major": 2,
       "version_minor": 0
      },
      "text/plain": [
       "[CONJUNCTIONS | 1000 DIMENSIONS | 5 TERMS | KEEP N = 50] Run #4, Epoch #11, Training:   0%|          | 0/79 [0…"
      ]
     },
     "metadata": {},
     "output_type": "display_data"
    },
    {
     "data": {
      "application/vnd.jupyter.widget-view+json": {
       "model_id": "",
       "version_major": 2,
       "version_minor": 0
      },
      "text/plain": [
       "[CONJUNCTIONS | 1000 DIMENSIONS | 5 TERMS | KEEP N = 50] Run #4, Epoch #11, Testing [output-distance]:   0%|  …"
      ]
     },
     "metadata": {},
     "output_type": "display_data"
    },
    {
     "data": {
      "application/vnd.jupyter.widget-view+json": {
       "model_id": "",
       "version_major": 2,
       "version_minor": 0
      },
      "text/plain": [
       "[CONJUNCTIONS | 1000 DIMENSIONS | 5 TERMS | KEEP N = 50] Run #4, Epoch #11, Testing [correct-output]:   0%|   …"
      ]
     },
     "metadata": {},
     "output_type": "display_data"
    },
    {
     "data": {
      "application/vnd.jupyter.widget-view+json": {
       "model_id": "",
       "version_major": 2,
       "version_minor": 0
      },
      "text/plain": [
       "[CONJUNCTIONS | 1000 DIMENSIONS | 5 TERMS | KEEP N = 50] Run #4, Epoch #12, Training:   0%|          | 0/79 [0…"
      ]
     },
     "metadata": {},
     "output_type": "display_data"
    },
    {
     "data": {
      "application/vnd.jupyter.widget-view+json": {
       "model_id": "",
       "version_major": 2,
       "version_minor": 0
      },
      "text/plain": [
       "[CONJUNCTIONS | 1000 DIMENSIONS | 5 TERMS | KEEP N = 50] Run #4, Epoch #12, Testing [output-distance]:   0%|  …"
      ]
     },
     "metadata": {},
     "output_type": "display_data"
    },
    {
     "data": {
      "application/vnd.jupyter.widget-view+json": {
       "model_id": "",
       "version_major": 2,
       "version_minor": 0
      },
      "text/plain": [
       "[CONJUNCTIONS | 1000 DIMENSIONS | 5 TERMS | KEEP N = 50] Run #4, Epoch #12, Testing [correct-output]:   0%|   …"
      ]
     },
     "metadata": {},
     "output_type": "display_data"
    },
    {
     "data": {
      "application/vnd.jupyter.widget-view+json": {
       "model_id": "",
       "version_major": 2,
       "version_minor": 0
      },
      "text/plain": [
       "[CONJUNCTIONS | 1000 DIMENSIONS | 5 TERMS | KEEP N = 50] Run #4, Epoch #13, Training:   0%|          | 0/79 [0…"
      ]
     },
     "metadata": {},
     "output_type": "display_data"
    },
    {
     "data": {
      "application/vnd.jupyter.widget-view+json": {
       "model_id": "",
       "version_major": 2,
       "version_minor": 0
      },
      "text/plain": [
       "[CONJUNCTIONS | 1000 DIMENSIONS | 5 TERMS | KEEP N = 50] Run #4, Epoch #13, Testing [output-distance]:   0%|  …"
      ]
     },
     "metadata": {},
     "output_type": "display_data"
    },
    {
     "data": {
      "application/vnd.jupyter.widget-view+json": {
       "model_id": "",
       "version_major": 2,
       "version_minor": 0
      },
      "text/plain": [
       "[CONJUNCTIONS | 1000 DIMENSIONS | 5 TERMS | KEEP N = 50] Run #4, Epoch #13, Testing [correct-output]:   0%|   …"
      ]
     },
     "metadata": {},
     "output_type": "display_data"
    },
    {
     "data": {
      "application/vnd.jupyter.widget-view+json": {
       "model_id": "",
       "version_major": 2,
       "version_minor": 0
      },
      "text/plain": [
       "[CONJUNCTIONS | 1000 DIMENSIONS | 5 TERMS | KEEP N = 50] Run #4, Epoch #14, Training:   0%|          | 0/79 [0…"
      ]
     },
     "metadata": {},
     "output_type": "display_data"
    },
    {
     "data": {
      "application/vnd.jupyter.widget-view+json": {
       "model_id": "",
       "version_major": 2,
       "version_minor": 0
      },
      "text/plain": [
       "[CONJUNCTIONS | 1000 DIMENSIONS | 5 TERMS | KEEP N = 50] Run #4, Epoch #14, Testing [output-distance]:   0%|  …"
      ]
     },
     "metadata": {},
     "output_type": "display_data"
    },
    {
     "data": {
      "application/vnd.jupyter.widget-view+json": {
       "model_id": "",
       "version_major": 2,
       "version_minor": 0
      },
      "text/plain": [
       "[CONJUNCTIONS | 1000 DIMENSIONS | 5 TERMS | KEEP N = 50] Run #4, Epoch #14, Testing [correct-output]:   0%|   …"
      ]
     },
     "metadata": {},
     "output_type": "display_data"
    },
    {
     "data": {
      "application/vnd.jupyter.widget-view+json": {
       "model_id": "",
       "version_major": 2,
       "version_minor": 0
      },
      "text/plain": [
       "[CONJUNCTIONS | 1000 DIMENSIONS | 5 TERMS | KEEP N = 50] Run #4, Epoch #15, Training:   0%|          | 0/79 [0…"
      ]
     },
     "metadata": {},
     "output_type": "display_data"
    },
    {
     "data": {
      "application/vnd.jupyter.widget-view+json": {
       "model_id": "",
       "version_major": 2,
       "version_minor": 0
      },
      "text/plain": [
       "[CONJUNCTIONS | 1000 DIMENSIONS | 5 TERMS | KEEP N = 50] Run #4, Epoch #15, Testing [output-distance]:   0%|  …"
      ]
     },
     "metadata": {},
     "output_type": "display_data"
    },
    {
     "data": {
      "application/vnd.jupyter.widget-view+json": {
       "model_id": "",
       "version_major": 2,
       "version_minor": 0
      },
      "text/plain": [
       "[CONJUNCTIONS | 1000 DIMENSIONS | 5 TERMS | KEEP N = 50] Run #4, Epoch #15, Testing [correct-output]:   0%|   …"
      ]
     },
     "metadata": {},
     "output_type": "display_data"
    },
    {
     "data": {
      "application/vnd.jupyter.widget-view+json": {
       "model_id": "",
       "version_major": 2,
       "version_minor": 0
      },
      "text/plain": [
       "[CONJUNCTIONS | 1000 DIMENSIONS | 5 TERMS | KEEP N = 50] Run #4, Epoch #16, Training:   0%|          | 0/79 [0…"
      ]
     },
     "metadata": {},
     "output_type": "display_data"
    },
    {
     "data": {
      "application/vnd.jupyter.widget-view+json": {
       "model_id": "",
       "version_major": 2,
       "version_minor": 0
      },
      "text/plain": [
       "[CONJUNCTIONS | 1000 DIMENSIONS | 5 TERMS | KEEP N = 50] Run #4, Epoch #16, Testing [output-distance]:   0%|  …"
      ]
     },
     "metadata": {},
     "output_type": "display_data"
    },
    {
     "data": {
      "application/vnd.jupyter.widget-view+json": {
       "model_id": "",
       "version_major": 2,
       "version_minor": 0
      },
      "text/plain": [
       "[CONJUNCTIONS | 1000 DIMENSIONS | 5 TERMS | KEEP N = 50] Run #4, Epoch #16, Testing [correct-output]:   0%|   …"
      ]
     },
     "metadata": {},
     "output_type": "display_data"
    },
    {
     "data": {
      "application/vnd.jupyter.widget-view+json": {
       "model_id": "",
       "version_major": 2,
       "version_minor": 0
      },
      "text/plain": [
       "[CONJUNCTIONS | 1000 DIMENSIONS | 5 TERMS | KEEP N = 50] Run #4, Epoch #17, Training:   0%|          | 0/79 [0…"
      ]
     },
     "metadata": {},
     "output_type": "display_data"
    },
    {
     "data": {
      "application/vnd.jupyter.widget-view+json": {
       "model_id": "",
       "version_major": 2,
       "version_minor": 0
      },
      "text/plain": [
       "[CONJUNCTIONS | 1000 DIMENSIONS | 5 TERMS | KEEP N = 50] Run #4, Epoch #17, Testing [output-distance]:   0%|  …"
      ]
     },
     "metadata": {},
     "output_type": "display_data"
    },
    {
     "data": {
      "application/vnd.jupyter.widget-view+json": {
       "model_id": "",
       "version_major": 2,
       "version_minor": 0
      },
      "text/plain": [
       "[CONJUNCTIONS | 1000 DIMENSIONS | 5 TERMS | KEEP N = 50] Run #4, Epoch #17, Testing [correct-output]:   0%|   …"
      ]
     },
     "metadata": {},
     "output_type": "display_data"
    },
    {
     "data": {
      "application/vnd.jupyter.widget-view+json": {
       "model_id": "",
       "version_major": 2,
       "version_minor": 0
      },
      "text/plain": [
       "[CONJUNCTIONS | 1000 DIMENSIONS | 5 TERMS | KEEP N = 50] Run #4, Epoch #18, Training:   0%|          | 0/79 [0…"
      ]
     },
     "metadata": {},
     "output_type": "display_data"
    },
    {
     "data": {
      "application/vnd.jupyter.widget-view+json": {
       "model_id": "",
       "version_major": 2,
       "version_minor": 0
      },
      "text/plain": [
       "[CONJUNCTIONS | 1000 DIMENSIONS | 5 TERMS | KEEP N = 50] Run #4, Epoch #18, Testing [output-distance]:   0%|  …"
      ]
     },
     "metadata": {},
     "output_type": "display_data"
    },
    {
     "data": {
      "application/vnd.jupyter.widget-view+json": {
       "model_id": "",
       "version_major": 2,
       "version_minor": 0
      },
      "text/plain": [
       "[CONJUNCTIONS | 1000 DIMENSIONS | 5 TERMS | KEEP N = 50] Run #4, Epoch #18, Testing [correct-output]:   0%|   …"
      ]
     },
     "metadata": {},
     "output_type": "display_data"
    },
    {
     "data": {
      "application/vnd.jupyter.widget-view+json": {
       "model_id": "",
       "version_major": 2,
       "version_minor": 0
      },
      "text/plain": [
       "[CONJUNCTIONS | 1000 DIMENSIONS | 5 TERMS | KEEP N = 50] Run #4, Epoch #19, Training:   0%|          | 0/79 [0…"
      ]
     },
     "metadata": {},
     "output_type": "display_data"
    },
    {
     "data": {
      "application/vnd.jupyter.widget-view+json": {
       "model_id": "",
       "version_major": 2,
       "version_minor": 0
      },
      "text/plain": [
       "[CONJUNCTIONS | 1000 DIMENSIONS | 5 TERMS | KEEP N = 50] Run #4, Epoch #19, Testing [output-distance]:   0%|  …"
      ]
     },
     "metadata": {},
     "output_type": "display_data"
    },
    {
     "data": {
      "application/vnd.jupyter.widget-view+json": {
       "model_id": "",
       "version_major": 2,
       "version_minor": 0
      },
      "text/plain": [
       "[CONJUNCTIONS | 1000 DIMENSIONS | 5 TERMS | KEEP N = 50] Run #4, Epoch #19, Testing [correct-output]:   0%|   …"
      ]
     },
     "metadata": {},
     "output_type": "display_data"
    },
    {
     "data": {
      "application/vnd.jupyter.widget-view+json": {
       "model_id": "",
       "version_major": 2,
       "version_minor": 0
      },
      "text/plain": [
       "[CONJUNCTIONS | 1000 DIMENSIONS | 5 TERMS | KEEP N = 50] Run #4, Epoch #20, Training:   0%|          | 0/79 [0…"
      ]
     },
     "metadata": {},
     "output_type": "display_data"
    },
    {
     "data": {
      "application/vnd.jupyter.widget-view+json": {
       "model_id": "",
       "version_major": 2,
       "version_minor": 0
      },
      "text/plain": [
       "[CONJUNCTIONS | 1000 DIMENSIONS | 5 TERMS | KEEP N = 50] Run #4, Epoch #20, Testing [output-distance]:   0%|  …"
      ]
     },
     "metadata": {},
     "output_type": "display_data"
    },
    {
     "data": {
      "application/vnd.jupyter.widget-view+json": {
       "model_id": "",
       "version_major": 2,
       "version_minor": 0
      },
      "text/plain": [
       "[CONJUNCTIONS | 1000 DIMENSIONS | 5 TERMS | KEEP N = 50] Run #4, Epoch #20, Testing [correct-output]:   0%|   …"
      ]
     },
     "metadata": {},
     "output_type": "display_data"
    },
    {
     "data": {
      "application/vnd.jupyter.widget-view+json": {
       "model_id": "",
       "version_major": 2,
       "version_minor": 0
      },
      "text/plain": [
       "[CONJUNCTIONS | 1000 DIMENSIONS | 5 TERMS | KEEP N = 50] Run #4, Epoch #21, Training:   0%|          | 0/79 [0…"
      ]
     },
     "metadata": {},
     "output_type": "display_data"
    },
    {
     "data": {
      "application/vnd.jupyter.widget-view+json": {
       "model_id": "",
       "version_major": 2,
       "version_minor": 0
      },
      "text/plain": [
       "[CONJUNCTIONS | 1000 DIMENSIONS | 5 TERMS | KEEP N = 50] Run #4, Epoch #21, Testing [output-distance]:   0%|  …"
      ]
     },
     "metadata": {},
     "output_type": "display_data"
    },
    {
     "data": {
      "application/vnd.jupyter.widget-view+json": {
       "model_id": "",
       "version_major": 2,
       "version_minor": 0
      },
      "text/plain": [
       "[CONJUNCTIONS | 1000 DIMENSIONS | 5 TERMS | KEEP N = 50] Run #4, Epoch #21, Testing [correct-output]:   0%|   …"
      ]
     },
     "metadata": {},
     "output_type": "display_data"
    },
    {
     "data": {
      "application/vnd.jupyter.widget-view+json": {
       "model_id": "",
       "version_major": 2,
       "version_minor": 0
      },
      "text/plain": [
       "[CONJUNCTIONS | 1000 DIMENSIONS | 5 TERMS | KEEP N = 50] Run #4, Epoch #22, Training:   0%|          | 0/79 [0…"
      ]
     },
     "metadata": {},
     "output_type": "display_data"
    },
    {
     "data": {
      "application/vnd.jupyter.widget-view+json": {
       "model_id": "",
       "version_major": 2,
       "version_minor": 0
      },
      "text/plain": [
       "[CONJUNCTIONS | 1000 DIMENSIONS | 5 TERMS | KEEP N = 50] Run #4, Epoch #22, Testing [output-distance]:   0%|  …"
      ]
     },
     "metadata": {},
     "output_type": "display_data"
    },
    {
     "data": {
      "application/vnd.jupyter.widget-view+json": {
       "model_id": "",
       "version_major": 2,
       "version_minor": 0
      },
      "text/plain": [
       "[CONJUNCTIONS | 1000 DIMENSIONS | 5 TERMS | KEEP N = 50] Run #4, Epoch #22, Testing [correct-output]:   0%|   …"
      ]
     },
     "metadata": {},
     "output_type": "display_data"
    },
    {
     "data": {
      "application/vnd.jupyter.widget-view+json": {
       "model_id": "",
       "version_major": 2,
       "version_minor": 0
      },
      "text/plain": [
       "[CONJUNCTIONS | 1000 DIMENSIONS | 5 TERMS | KEEP N = 50] Run #4, Epoch #23, Training:   0%|          | 0/79 [0…"
      ]
     },
     "metadata": {},
     "output_type": "display_data"
    },
    {
     "data": {
      "application/vnd.jupyter.widget-view+json": {
       "model_id": "",
       "version_major": 2,
       "version_minor": 0
      },
      "text/plain": [
       "[CONJUNCTIONS | 1000 DIMENSIONS | 5 TERMS | KEEP N = 50] Run #4, Epoch #23, Testing [output-distance]:   0%|  …"
      ]
     },
     "metadata": {},
     "output_type": "display_data"
    },
    {
     "data": {
      "application/vnd.jupyter.widget-view+json": {
       "model_id": "",
       "version_major": 2,
       "version_minor": 0
      },
      "text/plain": [
       "[CONJUNCTIONS | 1000 DIMENSIONS | 5 TERMS | KEEP N = 50] Run #4, Epoch #23, Testing [correct-output]:   0%|   …"
      ]
     },
     "metadata": {},
     "output_type": "display_data"
    },
    {
     "data": {
      "application/vnd.jupyter.widget-view+json": {
       "model_id": "",
       "version_major": 2,
       "version_minor": 0
      },
      "text/plain": [
       "[CONJUNCTIONS | 1000 DIMENSIONS | 5 TERMS | KEEP N = 50] Run #4, Epoch #24, Training:   0%|          | 0/79 [0…"
      ]
     },
     "metadata": {},
     "output_type": "display_data"
    },
    {
     "data": {
      "application/vnd.jupyter.widget-view+json": {
       "model_id": "",
       "version_major": 2,
       "version_minor": 0
      },
      "text/plain": [
       "[CONJUNCTIONS | 1000 DIMENSIONS | 5 TERMS | KEEP N = 50] Run #4, Epoch #24, Testing [output-distance]:   0%|  …"
      ]
     },
     "metadata": {},
     "output_type": "display_data"
    },
    {
     "data": {
      "application/vnd.jupyter.widget-view+json": {
       "model_id": "",
       "version_major": 2,
       "version_minor": 0
      },
      "text/plain": [
       "[CONJUNCTIONS | 1000 DIMENSIONS | 5 TERMS | KEEP N = 50] Run #4, Epoch #24, Testing [correct-output]:   0%|   …"
      ]
     },
     "metadata": {},
     "output_type": "display_data"
    },
    {
     "data": {
      "application/vnd.jupyter.widget-view+json": {
       "model_id": "",
       "version_major": 2,
       "version_minor": 0
      },
      "text/plain": [
       "[CONJUNCTIONS | 1000 DIMENSIONS | 5 TERMS | KEEP N = 50] Run #4, Epoch #25, Training:   0%|          | 0/79 [0…"
      ]
     },
     "metadata": {},
     "output_type": "display_data"
    },
    {
     "data": {
      "application/vnd.jupyter.widget-view+json": {
       "model_id": "",
       "version_major": 2,
       "version_minor": 0
      },
      "text/plain": [
       "[CONJUNCTIONS | 1000 DIMENSIONS | 5 TERMS | KEEP N = 50] Run #4, Epoch #25, Testing [output-distance]:   0%|  …"
      ]
     },
     "metadata": {},
     "output_type": "display_data"
    },
    {
     "data": {
      "application/vnd.jupyter.widget-view+json": {
       "model_id": "",
       "version_major": 2,
       "version_minor": 0
      },
      "text/plain": [
       "[CONJUNCTIONS | 1000 DIMENSIONS | 5 TERMS | KEEP N = 50] Run #4, Epoch #25, Testing [correct-output]:   0%|   …"
      ]
     },
     "metadata": {},
     "output_type": "display_data"
    },
    {
     "data": {
      "application/vnd.jupyter.widget-view+json": {
       "model_id": "",
       "version_major": 2,
       "version_minor": 0
      },
      "text/plain": [
       "[CONJUNCTIONS | 1000 DIMENSIONS | 5 TERMS | KEEP N = 50] Run #4, Epoch #26, Training:   0%|          | 0/79 [0…"
      ]
     },
     "metadata": {},
     "output_type": "display_data"
    },
    {
     "data": {
      "application/vnd.jupyter.widget-view+json": {
       "model_id": "",
       "version_major": 2,
       "version_minor": 0
      },
      "text/plain": [
       "[CONJUNCTIONS | 1000 DIMENSIONS | 5 TERMS | KEEP N = 50] Run #4, Epoch #26, Testing [output-distance]:   0%|  …"
      ]
     },
     "metadata": {},
     "output_type": "display_data"
    },
    {
     "data": {
      "application/vnd.jupyter.widget-view+json": {
       "model_id": "",
       "version_major": 2,
       "version_minor": 0
      },
      "text/plain": [
       "[CONJUNCTIONS | 1000 DIMENSIONS | 5 TERMS | KEEP N = 50] Run #4, Epoch #26, Testing [correct-output]:   0%|   …"
      ]
     },
     "metadata": {},
     "output_type": "display_data"
    },
    {
     "data": {
      "application/vnd.jupyter.widget-view+json": {
       "model_id": "",
       "version_major": 2,
       "version_minor": 0
      },
      "text/plain": [
       "[CONJUNCTIONS | 1000 DIMENSIONS | 5 TERMS | KEEP N = 50] Run #4, Epoch #27, Training:   0%|          | 0/79 [0…"
      ]
     },
     "metadata": {},
     "output_type": "display_data"
    },
    {
     "data": {
      "application/vnd.jupyter.widget-view+json": {
       "model_id": "",
       "version_major": 2,
       "version_minor": 0
      },
      "text/plain": [
       "[CONJUNCTIONS | 1000 DIMENSIONS | 5 TERMS | KEEP N = 50] Run #4, Epoch #27, Testing [output-distance]:   0%|  …"
      ]
     },
     "metadata": {},
     "output_type": "display_data"
    },
    {
     "data": {
      "application/vnd.jupyter.widget-view+json": {
       "model_id": "",
       "version_major": 2,
       "version_minor": 0
      },
      "text/plain": [
       "[CONJUNCTIONS | 1000 DIMENSIONS | 5 TERMS | KEEP N = 50] Run #4, Epoch #27, Testing [correct-output]:   0%|   …"
      ]
     },
     "metadata": {},
     "output_type": "display_data"
    },
    {
     "data": {
      "application/vnd.jupyter.widget-view+json": {
       "model_id": "",
       "version_major": 2,
       "version_minor": 0
      },
      "text/plain": [
       "[CONJUNCTIONS | 1000 DIMENSIONS | 5 TERMS | KEEP N = 50] Run #4, Epoch #28, Training:   0%|          | 0/79 [0…"
      ]
     },
     "metadata": {},
     "output_type": "display_data"
    },
    {
     "data": {
      "application/vnd.jupyter.widget-view+json": {
       "model_id": "",
       "version_major": 2,
       "version_minor": 0
      },
      "text/plain": [
       "[CONJUNCTIONS | 1000 DIMENSIONS | 5 TERMS | KEEP N = 50] Run #4, Epoch #28, Testing [output-distance]:   0%|  …"
      ]
     },
     "metadata": {},
     "output_type": "display_data"
    },
    {
     "data": {
      "application/vnd.jupyter.widget-view+json": {
       "model_id": "",
       "version_major": 2,
       "version_minor": 0
      },
      "text/plain": [
       "[CONJUNCTIONS | 1000 DIMENSIONS | 5 TERMS | KEEP N = 50] Run #4, Epoch #28, Testing [correct-output]:   0%|   …"
      ]
     },
     "metadata": {},
     "output_type": "display_data"
    },
    {
     "data": {
      "application/vnd.jupyter.widget-view+json": {
       "model_id": "",
       "version_major": 2,
       "version_minor": 0
      },
      "text/plain": [
       "[CONJUNCTIONS | 1000 DIMENSIONS | 5 TERMS | KEEP N = 50] Run #4, Epoch #29, Training:   0%|          | 0/79 [0…"
      ]
     },
     "metadata": {},
     "output_type": "display_data"
    },
    {
     "data": {
      "application/vnd.jupyter.widget-view+json": {
       "model_id": "",
       "version_major": 2,
       "version_minor": 0
      },
      "text/plain": [
       "[CONJUNCTIONS | 1000 DIMENSIONS | 5 TERMS | KEEP N = 50] Run #4, Epoch #29, Testing [output-distance]:   0%|  …"
      ]
     },
     "metadata": {},
     "output_type": "display_data"
    },
    {
     "data": {
      "application/vnd.jupyter.widget-view+json": {
       "model_id": "",
       "version_major": 2,
       "version_minor": 0
      },
      "text/plain": [
       "[CONJUNCTIONS | 1000 DIMENSIONS | 5 TERMS | KEEP N = 50] Run #4, Epoch #29, Testing [correct-output]:   0%|   …"
      ]
     },
     "metadata": {},
     "output_type": "display_data"
    },
    {
     "data": {
      "application/vnd.jupyter.widget-view+json": {
       "model_id": "",
       "version_major": 2,
       "version_minor": 0
      },
      "text/plain": [
       "[CONJUNCTIONS | 1000 DIMENSIONS | 5 TERMS | KEEP N = 50] Run #4, Epoch #30, Training:   0%|          | 0/79 [0…"
      ]
     },
     "metadata": {},
     "output_type": "display_data"
    },
    {
     "data": {
      "application/vnd.jupyter.widget-view+json": {
       "model_id": "",
       "version_major": 2,
       "version_minor": 0
      },
      "text/plain": [
       "[CONJUNCTIONS | 1000 DIMENSIONS | 5 TERMS | KEEP N = 50] Run #4, Epoch #30, Testing [output-distance]:   0%|  …"
      ]
     },
     "metadata": {},
     "output_type": "display_data"
    },
    {
     "data": {
      "application/vnd.jupyter.widget-view+json": {
       "model_id": "",
       "version_major": 2,
       "version_minor": 0
      },
      "text/plain": [
       "[CONJUNCTIONS | 1000 DIMENSIONS | 5 TERMS | KEEP N = 50] Run #4, Epoch #30, Testing [correct-output]:   0%|   …"
      ]
     },
     "metadata": {},
     "output_type": "display_data"
    },
    {
     "data": {
      "application/vnd.jupyter.widget-view+json": {
       "model_id": "",
       "version_major": 2,
       "version_minor": 0
      },
      "text/plain": [
       "[CONJUNCTIONS | 1000 DIMENSIONS | 5 TERMS | KEEP N = 50] Run #4, Epoch #31, Training:   0%|          | 0/79 [0…"
      ]
     },
     "metadata": {},
     "output_type": "display_data"
    },
    {
     "data": {
      "application/vnd.jupyter.widget-view+json": {
       "model_id": "",
       "version_major": 2,
       "version_minor": 0
      },
      "text/plain": [
       "[CONJUNCTIONS | 1000 DIMENSIONS | 5 TERMS | KEEP N = 50] Run #4, Epoch #31, Testing [output-distance]:   0%|  …"
      ]
     },
     "metadata": {},
     "output_type": "display_data"
    },
    {
     "data": {
      "application/vnd.jupyter.widget-view+json": {
       "model_id": "",
       "version_major": 2,
       "version_minor": 0
      },
      "text/plain": [
       "[CONJUNCTIONS | 1000 DIMENSIONS | 5 TERMS | KEEP N = 50] Run #4, Epoch #31, Testing [correct-output]:   0%|   …"
      ]
     },
     "metadata": {},
     "output_type": "display_data"
    },
    {
     "data": {
      "application/vnd.jupyter.widget-view+json": {
       "model_id": "",
       "version_major": 2,
       "version_minor": 0
      },
      "text/plain": [
       "[CONJUNCTIONS | 1000 DIMENSIONS | 5 TERMS | KEEP N = 50] Run #4, Epoch #32, Training:   0%|          | 0/79 [0…"
      ]
     },
     "metadata": {},
     "output_type": "display_data"
    },
    {
     "data": {
      "application/vnd.jupyter.widget-view+json": {
       "model_id": "",
       "version_major": 2,
       "version_minor": 0
      },
      "text/plain": [
       "[CONJUNCTIONS | 1000 DIMENSIONS | 5 TERMS | KEEP N = 50] Run #4, Epoch #32, Testing [output-distance]:   0%|  …"
      ]
     },
     "metadata": {},
     "output_type": "display_data"
    },
    {
     "data": {
      "application/vnd.jupyter.widget-view+json": {
       "model_id": "",
       "version_major": 2,
       "version_minor": 0
      },
      "text/plain": [
       "[CONJUNCTIONS | 1000 DIMENSIONS | 5 TERMS | KEEP N = 50] Run #4, Epoch #32, Testing [correct-output]:   0%|   …"
      ]
     },
     "metadata": {},
     "output_type": "display_data"
    },
    {
     "data": {
      "application/vnd.jupyter.widget-view+json": {
       "model_id": "",
       "version_major": 2,
       "version_minor": 0
      },
      "text/plain": [
       "[CONJUNCTIONS | 1000 DIMENSIONS | 5 TERMS | KEEP N = 50] Run #4, Epoch #33, Training:   0%|          | 0/79 [0…"
      ]
     },
     "metadata": {},
     "output_type": "display_data"
    },
    {
     "data": {
      "application/vnd.jupyter.widget-view+json": {
       "model_id": "",
       "version_major": 2,
       "version_minor": 0
      },
      "text/plain": [
       "[CONJUNCTIONS | 1000 DIMENSIONS | 5 TERMS | KEEP N = 50] Run #4, Epoch #33, Testing [output-distance]:   0%|  …"
      ]
     },
     "metadata": {},
     "output_type": "display_data"
    },
    {
     "data": {
      "application/vnd.jupyter.widget-view+json": {
       "model_id": "",
       "version_major": 2,
       "version_minor": 0
      },
      "text/plain": [
       "[CONJUNCTIONS | 1000 DIMENSIONS | 5 TERMS | KEEP N = 50] Run #4, Epoch #33, Testing [correct-output]:   0%|   …"
      ]
     },
     "metadata": {},
     "output_type": "display_data"
    },
    {
     "data": {
      "application/vnd.jupyter.widget-view+json": {
       "model_id": "",
       "version_major": 2,
       "version_minor": 0
      },
      "text/plain": [
       "[CONJUNCTIONS | 1000 DIMENSIONS | 5 TERMS | KEEP N = 50] Run #4, Epoch #34, Training:   0%|          | 0/79 [0…"
      ]
     },
     "metadata": {},
     "output_type": "display_data"
    },
    {
     "data": {
      "application/vnd.jupyter.widget-view+json": {
       "model_id": "",
       "version_major": 2,
       "version_minor": 0
      },
      "text/plain": [
       "[CONJUNCTIONS | 1000 DIMENSIONS | 5 TERMS | KEEP N = 50] Run #4, Epoch #34, Testing [output-distance]:   0%|  …"
      ]
     },
     "metadata": {},
     "output_type": "display_data"
    },
    {
     "data": {
      "application/vnd.jupyter.widget-view+json": {
       "model_id": "",
       "version_major": 2,
       "version_minor": 0
      },
      "text/plain": [
       "[CONJUNCTIONS | 1000 DIMENSIONS | 5 TERMS | KEEP N = 50] Run #4, Epoch #34, Testing [correct-output]:   0%|   …"
      ]
     },
     "metadata": {},
     "output_type": "display_data"
    },
    {
     "data": {
      "application/vnd.jupyter.widget-view+json": {
       "model_id": "",
       "version_major": 2,
       "version_minor": 0
      },
      "text/plain": [
       "[CONJUNCTIONS | 1000 DIMENSIONS | 5 TERMS | KEEP N = 50] Run #4, Epoch #35, Training:   0%|          | 0/79 [0…"
      ]
     },
     "metadata": {},
     "output_type": "display_data"
    },
    {
     "data": {
      "application/vnd.jupyter.widget-view+json": {
       "model_id": "",
       "version_major": 2,
       "version_minor": 0
      },
      "text/plain": [
       "[CONJUNCTIONS | 1000 DIMENSIONS | 5 TERMS | KEEP N = 50] Run #4, Epoch #35, Testing [output-distance]:   0%|  …"
      ]
     },
     "metadata": {},
     "output_type": "display_data"
    },
    {
     "data": {
      "application/vnd.jupyter.widget-view+json": {
       "model_id": "",
       "version_major": 2,
       "version_minor": 0
      },
      "text/plain": [
       "[CONJUNCTIONS | 1000 DIMENSIONS | 5 TERMS | KEEP N = 50] Run #4, Epoch #35, Testing [correct-output]:   0%|   …"
      ]
     },
     "metadata": {},
     "output_type": "display_data"
    },
    {
     "data": {
      "application/vnd.jupyter.widget-view+json": {
       "model_id": "",
       "version_major": 2,
       "version_minor": 0
      },
      "text/plain": [
       "[CONJUNCTIONS | 1000 DIMENSIONS | 5 TERMS | KEEP N = 50] Run #4, Epoch #36, Training:   0%|          | 0/79 [0…"
      ]
     },
     "metadata": {},
     "output_type": "display_data"
    },
    {
     "data": {
      "application/vnd.jupyter.widget-view+json": {
       "model_id": "",
       "version_major": 2,
       "version_minor": 0
      },
      "text/plain": [
       "[CONJUNCTIONS | 1000 DIMENSIONS | 5 TERMS | KEEP N = 50] Run #4, Epoch #36, Testing [output-distance]:   0%|  …"
      ]
     },
     "metadata": {},
     "output_type": "display_data"
    },
    {
     "data": {
      "application/vnd.jupyter.widget-view+json": {
       "model_id": "",
       "version_major": 2,
       "version_minor": 0
      },
      "text/plain": [
       "[CONJUNCTIONS | 1000 DIMENSIONS | 5 TERMS | KEEP N = 50] Run #4, Epoch #36, Testing [correct-output]:   0%|   …"
      ]
     },
     "metadata": {},
     "output_type": "display_data"
    },
    {
     "data": {
      "application/vnd.jupyter.widget-view+json": {
       "model_id": "",
       "version_major": 2,
       "version_minor": 0
      },
      "text/plain": [
       "[CONJUNCTIONS | 1000 DIMENSIONS | 5 TERMS | KEEP N = 50] Run #4, Epoch #37, Training:   0%|          | 0/79 [0…"
      ]
     },
     "metadata": {},
     "output_type": "display_data"
    },
    {
     "data": {
      "application/vnd.jupyter.widget-view+json": {
       "model_id": "",
       "version_major": 2,
       "version_minor": 0
      },
      "text/plain": [
       "[CONJUNCTIONS | 1000 DIMENSIONS | 5 TERMS | KEEP N = 50] Run #4, Epoch #37, Testing [output-distance]:   0%|  …"
      ]
     },
     "metadata": {},
     "output_type": "display_data"
    },
    {
     "data": {
      "application/vnd.jupyter.widget-view+json": {
       "model_id": "",
       "version_major": 2,
       "version_minor": 0
      },
      "text/plain": [
       "[CONJUNCTIONS | 1000 DIMENSIONS | 5 TERMS | KEEP N = 50] Run #4, Epoch #37, Testing [correct-output]:   0%|   …"
      ]
     },
     "metadata": {},
     "output_type": "display_data"
    },
    {
     "data": {
      "application/vnd.jupyter.widget-view+json": {
       "model_id": "",
       "version_major": 2,
       "version_minor": 0
      },
      "text/plain": [
       "[CONJUNCTIONS | 1000 DIMENSIONS | 5 TERMS | KEEP N = 50] Run #4, Epoch #38, Training:   0%|          | 0/79 [0…"
      ]
     },
     "metadata": {},
     "output_type": "display_data"
    },
    {
     "data": {
      "application/vnd.jupyter.widget-view+json": {
       "model_id": "",
       "version_major": 2,
       "version_minor": 0
      },
      "text/plain": [
       "[CONJUNCTIONS | 1000 DIMENSIONS | 5 TERMS | KEEP N = 50] Run #4, Epoch #38, Testing [output-distance]:   0%|  …"
      ]
     },
     "metadata": {},
     "output_type": "display_data"
    },
    {
     "data": {
      "application/vnd.jupyter.widget-view+json": {
       "model_id": "",
       "version_major": 2,
       "version_minor": 0
      },
      "text/plain": [
       "[CONJUNCTIONS | 1000 DIMENSIONS | 5 TERMS | KEEP N = 50] Run #4, Epoch #38, Testing [correct-output]:   0%|   …"
      ]
     },
     "metadata": {},
     "output_type": "display_data"
    },
    {
     "data": {
      "application/vnd.jupyter.widget-view+json": {
       "model_id": "",
       "version_major": 2,
       "version_minor": 0
      },
      "text/plain": [
       "[CONJUNCTIONS | 1000 DIMENSIONS | 5 TERMS | KEEP N = 50] Run #4, Epoch #39, Training:   0%|          | 0/79 [0…"
      ]
     },
     "metadata": {},
     "output_type": "display_data"
    },
    {
     "data": {
      "application/vnd.jupyter.widget-view+json": {
       "model_id": "",
       "version_major": 2,
       "version_minor": 0
      },
      "text/plain": [
       "[CONJUNCTIONS | 1000 DIMENSIONS | 5 TERMS | KEEP N = 50] Run #4, Epoch #39, Testing [output-distance]:   0%|  …"
      ]
     },
     "metadata": {},
     "output_type": "display_data"
    },
    {
     "data": {
      "application/vnd.jupyter.widget-view+json": {
       "model_id": "",
       "version_major": 2,
       "version_minor": 0
      },
      "text/plain": [
       "[CONJUNCTIONS | 1000 DIMENSIONS | 5 TERMS | KEEP N = 50] Run #4, Epoch #39, Testing [correct-output]:   0%|   …"
      ]
     },
     "metadata": {},
     "output_type": "display_data"
    },
    {
     "data": {
      "application/vnd.jupyter.widget-view+json": {
       "model_id": "",
       "version_major": 2,
       "version_minor": 0
      },
      "text/plain": [
       "[CONJUNCTIONS | 1000 DIMENSIONS | 5 TERMS | KEEP N = 50] Run #4, Epoch #40, Training:   0%|          | 0/79 [0…"
      ]
     },
     "metadata": {},
     "output_type": "display_data"
    },
    {
     "data": {
      "application/vnd.jupyter.widget-view+json": {
       "model_id": "",
       "version_major": 2,
       "version_minor": 0
      },
      "text/plain": [
       "[CONJUNCTIONS | 1000 DIMENSIONS | 5 TERMS | KEEP N = 50] Run #4, Epoch #40, Testing [output-distance]:   0%|  …"
      ]
     },
     "metadata": {},
     "output_type": "display_data"
    },
    {
     "data": {
      "application/vnd.jupyter.widget-view+json": {
       "model_id": "",
       "version_major": 2,
       "version_minor": 0
      },
      "text/plain": [
       "[CONJUNCTIONS | 1000 DIMENSIONS | 5 TERMS | KEEP N = 50] Run #4, Epoch #40, Testing [correct-output]:   0%|   …"
      ]
     },
     "metadata": {},
     "output_type": "display_data"
    },
    {
     "data": {
      "application/vnd.jupyter.widget-view+json": {
       "model_id": "",
       "version_major": 2,
       "version_minor": 0
      },
      "text/plain": [
       "[CONJUNCTIONS | 1000 DIMENSIONS | 5 TERMS | KEEP N = 50] Run #5, Epoch #1, Training:   0%|          | 0/79 [00…"
      ]
     },
     "metadata": {},
     "output_type": "display_data"
    },
    {
     "data": {
      "application/vnd.jupyter.widget-view+json": {
       "model_id": "",
       "version_major": 2,
       "version_minor": 0
      },
      "text/plain": [
       "[CONJUNCTIONS | 1000 DIMENSIONS | 5 TERMS | KEEP N = 50] Run #5, Epoch #1, Testing [output-distance]:   0%|   …"
      ]
     },
     "metadata": {},
     "output_type": "display_data"
    },
    {
     "data": {
      "application/vnd.jupyter.widget-view+json": {
       "model_id": "",
       "version_major": 2,
       "version_minor": 0
      },
      "text/plain": [
       "[CONJUNCTIONS | 1000 DIMENSIONS | 5 TERMS | KEEP N = 50] Run #5, Epoch #1, Testing [correct-output]:   0%|    …"
      ]
     },
     "metadata": {},
     "output_type": "display_data"
    },
    {
     "data": {
      "application/vnd.jupyter.widget-view+json": {
       "model_id": "",
       "version_major": 2,
       "version_minor": 0
      },
      "text/plain": [
       "[CONJUNCTIONS | 1000 DIMENSIONS | 5 TERMS | KEEP N = 50] Run #5, Epoch #2, Training:   0%|          | 0/79 [00…"
      ]
     },
     "metadata": {},
     "output_type": "display_data"
    },
    {
     "data": {
      "application/vnd.jupyter.widget-view+json": {
       "model_id": "",
       "version_major": 2,
       "version_minor": 0
      },
      "text/plain": [
       "[CONJUNCTIONS | 1000 DIMENSIONS | 5 TERMS | KEEP N = 50] Run #5, Epoch #2, Testing [output-distance]:   0%|   …"
      ]
     },
     "metadata": {},
     "output_type": "display_data"
    },
    {
     "data": {
      "application/vnd.jupyter.widget-view+json": {
       "model_id": "",
       "version_major": 2,
       "version_minor": 0
      },
      "text/plain": [
       "[CONJUNCTIONS | 1000 DIMENSIONS | 5 TERMS | KEEP N = 50] Run #5, Epoch #2, Testing [correct-output]:   0%|    …"
      ]
     },
     "metadata": {},
     "output_type": "display_data"
    },
    {
     "data": {
      "application/vnd.jupyter.widget-view+json": {
       "model_id": "",
       "version_major": 2,
       "version_minor": 0
      },
      "text/plain": [
       "[CONJUNCTIONS | 1000 DIMENSIONS | 5 TERMS | KEEP N = 50] Run #5, Epoch #3, Training:   0%|          | 0/79 [00…"
      ]
     },
     "metadata": {},
     "output_type": "display_data"
    },
    {
     "data": {
      "application/vnd.jupyter.widget-view+json": {
       "model_id": "",
       "version_major": 2,
       "version_minor": 0
      },
      "text/plain": [
       "[CONJUNCTIONS | 1000 DIMENSIONS | 5 TERMS | KEEP N = 50] Run #5, Epoch #3, Testing [output-distance]:   0%|   …"
      ]
     },
     "metadata": {},
     "output_type": "display_data"
    },
    {
     "data": {
      "application/vnd.jupyter.widget-view+json": {
       "model_id": "",
       "version_major": 2,
       "version_minor": 0
      },
      "text/plain": [
       "[CONJUNCTIONS | 1000 DIMENSIONS | 5 TERMS | KEEP N = 50] Run #5, Epoch #3, Testing [correct-output]:   0%|    …"
      ]
     },
     "metadata": {},
     "output_type": "display_data"
    },
    {
     "data": {
      "application/vnd.jupyter.widget-view+json": {
       "model_id": "",
       "version_major": 2,
       "version_minor": 0
      },
      "text/plain": [
       "[CONJUNCTIONS | 1000 DIMENSIONS | 5 TERMS | KEEP N = 50] Run #5, Epoch #4, Training:   0%|          | 0/79 [00…"
      ]
     },
     "metadata": {},
     "output_type": "display_data"
    },
    {
     "data": {
      "application/vnd.jupyter.widget-view+json": {
       "model_id": "",
       "version_major": 2,
       "version_minor": 0
      },
      "text/plain": [
       "[CONJUNCTIONS | 1000 DIMENSIONS | 5 TERMS | KEEP N = 50] Run #5, Epoch #4, Testing [output-distance]:   0%|   …"
      ]
     },
     "metadata": {},
     "output_type": "display_data"
    },
    {
     "data": {
      "application/vnd.jupyter.widget-view+json": {
       "model_id": "",
       "version_major": 2,
       "version_minor": 0
      },
      "text/plain": [
       "[CONJUNCTIONS | 1000 DIMENSIONS | 5 TERMS | KEEP N = 50] Run #5, Epoch #4, Testing [correct-output]:   0%|    …"
      ]
     },
     "metadata": {},
     "output_type": "display_data"
    },
    {
     "data": {
      "application/vnd.jupyter.widget-view+json": {
       "model_id": "",
       "version_major": 2,
       "version_minor": 0
      },
      "text/plain": [
       "[CONJUNCTIONS | 1000 DIMENSIONS | 5 TERMS | KEEP N = 50] Run #5, Epoch #5, Training:   0%|          | 0/79 [00…"
      ]
     },
     "metadata": {},
     "output_type": "display_data"
    },
    {
     "data": {
      "application/vnd.jupyter.widget-view+json": {
       "model_id": "",
       "version_major": 2,
       "version_minor": 0
      },
      "text/plain": [
       "[CONJUNCTIONS | 1000 DIMENSIONS | 5 TERMS | KEEP N = 50] Run #5, Epoch #5, Testing [output-distance]:   0%|   …"
      ]
     },
     "metadata": {},
     "output_type": "display_data"
    },
    {
     "data": {
      "application/vnd.jupyter.widget-view+json": {
       "model_id": "",
       "version_major": 2,
       "version_minor": 0
      },
      "text/plain": [
       "[CONJUNCTIONS | 1000 DIMENSIONS | 5 TERMS | KEEP N = 50] Run #5, Epoch #5, Testing [correct-output]:   0%|    …"
      ]
     },
     "metadata": {},
     "output_type": "display_data"
    },
    {
     "data": {
      "application/vnd.jupyter.widget-view+json": {
       "model_id": "",
       "version_major": 2,
       "version_minor": 0
      },
      "text/plain": [
       "[CONJUNCTIONS | 1000 DIMENSIONS | 5 TERMS | KEEP N = 50] Run #5, Epoch #6, Training:   0%|          | 0/79 [00…"
      ]
     },
     "metadata": {},
     "output_type": "display_data"
    },
    {
     "data": {
      "application/vnd.jupyter.widget-view+json": {
       "model_id": "",
       "version_major": 2,
       "version_minor": 0
      },
      "text/plain": [
       "[CONJUNCTIONS | 1000 DIMENSIONS | 5 TERMS | KEEP N = 50] Run #5, Epoch #6, Testing [output-distance]:   0%|   …"
      ]
     },
     "metadata": {},
     "output_type": "display_data"
    },
    {
     "data": {
      "application/vnd.jupyter.widget-view+json": {
       "model_id": "",
       "version_major": 2,
       "version_minor": 0
      },
      "text/plain": [
       "[CONJUNCTIONS | 1000 DIMENSIONS | 5 TERMS | KEEP N = 50] Run #5, Epoch #6, Testing [correct-output]:   0%|    …"
      ]
     },
     "metadata": {},
     "output_type": "display_data"
    },
    {
     "data": {
      "application/vnd.jupyter.widget-view+json": {
       "model_id": "",
       "version_major": 2,
       "version_minor": 0
      },
      "text/plain": [
       "[CONJUNCTIONS | 1000 DIMENSIONS | 5 TERMS | KEEP N = 50] Run #5, Epoch #7, Training:   0%|          | 0/79 [00…"
      ]
     },
     "metadata": {},
     "output_type": "display_data"
    },
    {
     "data": {
      "application/vnd.jupyter.widget-view+json": {
       "model_id": "",
       "version_major": 2,
       "version_minor": 0
      },
      "text/plain": [
       "[CONJUNCTIONS | 1000 DIMENSIONS | 5 TERMS | KEEP N = 50] Run #5, Epoch #7, Testing [output-distance]:   0%|   …"
      ]
     },
     "metadata": {},
     "output_type": "display_data"
    },
    {
     "data": {
      "application/vnd.jupyter.widget-view+json": {
       "model_id": "",
       "version_major": 2,
       "version_minor": 0
      },
      "text/plain": [
       "[CONJUNCTIONS | 1000 DIMENSIONS | 5 TERMS | KEEP N = 50] Run #5, Epoch #7, Testing [correct-output]:   0%|    …"
      ]
     },
     "metadata": {},
     "output_type": "display_data"
    },
    {
     "data": {
      "application/vnd.jupyter.widget-view+json": {
       "model_id": "",
       "version_major": 2,
       "version_minor": 0
      },
      "text/plain": [
       "[CONJUNCTIONS | 1000 DIMENSIONS | 5 TERMS | KEEP N = 50] Run #5, Epoch #8, Training:   0%|          | 0/79 [00…"
      ]
     },
     "metadata": {},
     "output_type": "display_data"
    },
    {
     "data": {
      "application/vnd.jupyter.widget-view+json": {
       "model_id": "",
       "version_major": 2,
       "version_minor": 0
      },
      "text/plain": [
       "[CONJUNCTIONS | 1000 DIMENSIONS | 5 TERMS | KEEP N = 50] Run #5, Epoch #8, Testing [output-distance]:   0%|   …"
      ]
     },
     "metadata": {},
     "output_type": "display_data"
    },
    {
     "data": {
      "application/vnd.jupyter.widget-view+json": {
       "model_id": "",
       "version_major": 2,
       "version_minor": 0
      },
      "text/plain": [
       "[CONJUNCTIONS | 1000 DIMENSIONS | 5 TERMS | KEEP N = 50] Run #5, Epoch #8, Testing [correct-output]:   0%|    …"
      ]
     },
     "metadata": {},
     "output_type": "display_data"
    },
    {
     "data": {
      "application/vnd.jupyter.widget-view+json": {
       "model_id": "",
       "version_major": 2,
       "version_minor": 0
      },
      "text/plain": [
       "[CONJUNCTIONS | 1000 DIMENSIONS | 5 TERMS | KEEP N = 50] Run #5, Epoch #9, Training:   0%|          | 0/79 [00…"
      ]
     },
     "metadata": {},
     "output_type": "display_data"
    },
    {
     "data": {
      "application/vnd.jupyter.widget-view+json": {
       "model_id": "",
       "version_major": 2,
       "version_minor": 0
      },
      "text/plain": [
       "[CONJUNCTIONS | 1000 DIMENSIONS | 5 TERMS | KEEP N = 50] Run #5, Epoch #9, Testing [output-distance]:   0%|   …"
      ]
     },
     "metadata": {},
     "output_type": "display_data"
    },
    {
     "data": {
      "application/vnd.jupyter.widget-view+json": {
       "model_id": "",
       "version_major": 2,
       "version_minor": 0
      },
      "text/plain": [
       "[CONJUNCTIONS | 1000 DIMENSIONS | 5 TERMS | KEEP N = 50] Run #5, Epoch #9, Testing [correct-output]:   0%|    …"
      ]
     },
     "metadata": {},
     "output_type": "display_data"
    },
    {
     "data": {
      "application/vnd.jupyter.widget-view+json": {
       "model_id": "",
       "version_major": 2,
       "version_minor": 0
      },
      "text/plain": [
       "[CONJUNCTIONS | 1000 DIMENSIONS | 5 TERMS | KEEP N = 50] Run #5, Epoch #10, Training:   0%|          | 0/79 [0…"
      ]
     },
     "metadata": {},
     "output_type": "display_data"
    },
    {
     "data": {
      "application/vnd.jupyter.widget-view+json": {
       "model_id": "",
       "version_major": 2,
       "version_minor": 0
      },
      "text/plain": [
       "[CONJUNCTIONS | 1000 DIMENSIONS | 5 TERMS | KEEP N = 50] Run #5, Epoch #10, Testing [output-distance]:   0%|  …"
      ]
     },
     "metadata": {},
     "output_type": "display_data"
    },
    {
     "data": {
      "application/vnd.jupyter.widget-view+json": {
       "model_id": "",
       "version_major": 2,
       "version_minor": 0
      },
      "text/plain": [
       "[CONJUNCTIONS | 1000 DIMENSIONS | 5 TERMS | KEEP N = 50] Run #5, Epoch #10, Testing [correct-output]:   0%|   …"
      ]
     },
     "metadata": {},
     "output_type": "display_data"
    },
    {
     "data": {
      "application/vnd.jupyter.widget-view+json": {
       "model_id": "",
       "version_major": 2,
       "version_minor": 0
      },
      "text/plain": [
       "[CONJUNCTIONS | 1000 DIMENSIONS | 5 TERMS | KEEP N = 50] Run #5, Epoch #11, Training:   0%|          | 0/79 [0…"
      ]
     },
     "metadata": {},
     "output_type": "display_data"
    },
    {
     "data": {
      "application/vnd.jupyter.widget-view+json": {
       "model_id": "",
       "version_major": 2,
       "version_minor": 0
      },
      "text/plain": [
       "[CONJUNCTIONS | 1000 DIMENSIONS | 5 TERMS | KEEP N = 50] Run #5, Epoch #11, Testing [output-distance]:   0%|  …"
      ]
     },
     "metadata": {},
     "output_type": "display_data"
    },
    {
     "data": {
      "application/vnd.jupyter.widget-view+json": {
       "model_id": "",
       "version_major": 2,
       "version_minor": 0
      },
      "text/plain": [
       "[CONJUNCTIONS | 1000 DIMENSIONS | 5 TERMS | KEEP N = 50] Run #5, Epoch #11, Testing [correct-output]:   0%|   …"
      ]
     },
     "metadata": {},
     "output_type": "display_data"
    },
    {
     "data": {
      "application/vnd.jupyter.widget-view+json": {
       "model_id": "",
       "version_major": 2,
       "version_minor": 0
      },
      "text/plain": [
       "[CONJUNCTIONS | 1000 DIMENSIONS | 5 TERMS | KEEP N = 50] Run #5, Epoch #12, Training:   0%|          | 0/79 [0…"
      ]
     },
     "metadata": {},
     "output_type": "display_data"
    },
    {
     "data": {
      "application/vnd.jupyter.widget-view+json": {
       "model_id": "",
       "version_major": 2,
       "version_minor": 0
      },
      "text/plain": [
       "[CONJUNCTIONS | 1000 DIMENSIONS | 5 TERMS | KEEP N = 50] Run #5, Epoch #12, Testing [output-distance]:   0%|  …"
      ]
     },
     "metadata": {},
     "output_type": "display_data"
    },
    {
     "data": {
      "application/vnd.jupyter.widget-view+json": {
       "model_id": "",
       "version_major": 2,
       "version_minor": 0
      },
      "text/plain": [
       "[CONJUNCTIONS | 1000 DIMENSIONS | 5 TERMS | KEEP N = 50] Run #5, Epoch #12, Testing [correct-output]:   0%|   …"
      ]
     },
     "metadata": {},
     "output_type": "display_data"
    },
    {
     "data": {
      "application/vnd.jupyter.widget-view+json": {
       "model_id": "",
       "version_major": 2,
       "version_minor": 0
      },
      "text/plain": [
       "[CONJUNCTIONS | 1000 DIMENSIONS | 5 TERMS | KEEP N = 50] Run #5, Epoch #13, Training:   0%|          | 0/79 [0…"
      ]
     },
     "metadata": {},
     "output_type": "display_data"
    },
    {
     "data": {
      "application/vnd.jupyter.widget-view+json": {
       "model_id": "",
       "version_major": 2,
       "version_minor": 0
      },
      "text/plain": [
       "[CONJUNCTIONS | 1000 DIMENSIONS | 5 TERMS | KEEP N = 50] Run #5, Epoch #13, Testing [output-distance]:   0%|  …"
      ]
     },
     "metadata": {},
     "output_type": "display_data"
    },
    {
     "data": {
      "application/vnd.jupyter.widget-view+json": {
       "model_id": "",
       "version_major": 2,
       "version_minor": 0
      },
      "text/plain": [
       "[CONJUNCTIONS | 1000 DIMENSIONS | 5 TERMS | KEEP N = 50] Run #5, Epoch #13, Testing [correct-output]:   0%|   …"
      ]
     },
     "metadata": {},
     "output_type": "display_data"
    },
    {
     "data": {
      "application/vnd.jupyter.widget-view+json": {
       "model_id": "",
       "version_major": 2,
       "version_minor": 0
      },
      "text/plain": [
       "[CONJUNCTIONS | 1000 DIMENSIONS | 5 TERMS | KEEP N = 50] Run #5, Epoch #14, Training:   0%|          | 0/79 [0…"
      ]
     },
     "metadata": {},
     "output_type": "display_data"
    },
    {
     "data": {
      "application/vnd.jupyter.widget-view+json": {
       "model_id": "",
       "version_major": 2,
       "version_minor": 0
      },
      "text/plain": [
       "[CONJUNCTIONS | 1000 DIMENSIONS | 5 TERMS | KEEP N = 50] Run #5, Epoch #14, Testing [output-distance]:   0%|  …"
      ]
     },
     "metadata": {},
     "output_type": "display_data"
    },
    {
     "data": {
      "application/vnd.jupyter.widget-view+json": {
       "model_id": "",
       "version_major": 2,
       "version_minor": 0
      },
      "text/plain": [
       "[CONJUNCTIONS | 1000 DIMENSIONS | 5 TERMS | KEEP N = 50] Run #5, Epoch #14, Testing [correct-output]:   0%|   …"
      ]
     },
     "metadata": {},
     "output_type": "display_data"
    },
    {
     "data": {
      "application/vnd.jupyter.widget-view+json": {
       "model_id": "",
       "version_major": 2,
       "version_minor": 0
      },
      "text/plain": [
       "[CONJUNCTIONS | 1000 DIMENSIONS | 5 TERMS | KEEP N = 50] Run #5, Epoch #15, Training:   0%|          | 0/79 [0…"
      ]
     },
     "metadata": {},
     "output_type": "display_data"
    },
    {
     "data": {
      "application/vnd.jupyter.widget-view+json": {
       "model_id": "",
       "version_major": 2,
       "version_minor": 0
      },
      "text/plain": [
       "[CONJUNCTIONS | 1000 DIMENSIONS | 5 TERMS | KEEP N = 50] Run #5, Epoch #15, Testing [output-distance]:   0%|  …"
      ]
     },
     "metadata": {},
     "output_type": "display_data"
    },
    {
     "data": {
      "application/vnd.jupyter.widget-view+json": {
       "model_id": "",
       "version_major": 2,
       "version_minor": 0
      },
      "text/plain": [
       "[CONJUNCTIONS | 1000 DIMENSIONS | 5 TERMS | KEEP N = 50] Run #5, Epoch #15, Testing [correct-output]:   0%|   …"
      ]
     },
     "metadata": {},
     "output_type": "display_data"
    },
    {
     "data": {
      "application/vnd.jupyter.widget-view+json": {
       "model_id": "",
       "version_major": 2,
       "version_minor": 0
      },
      "text/plain": [
       "[CONJUNCTIONS | 1000 DIMENSIONS | 5 TERMS | KEEP N = 50] Run #5, Epoch #16, Training:   0%|          | 0/79 [0…"
      ]
     },
     "metadata": {},
     "output_type": "display_data"
    },
    {
     "data": {
      "application/vnd.jupyter.widget-view+json": {
       "model_id": "",
       "version_major": 2,
       "version_minor": 0
      },
      "text/plain": [
       "[CONJUNCTIONS | 1000 DIMENSIONS | 5 TERMS | KEEP N = 50] Run #5, Epoch #16, Testing [output-distance]:   0%|  …"
      ]
     },
     "metadata": {},
     "output_type": "display_data"
    },
    {
     "data": {
      "application/vnd.jupyter.widget-view+json": {
       "model_id": "",
       "version_major": 2,
       "version_minor": 0
      },
      "text/plain": [
       "[CONJUNCTIONS | 1000 DIMENSIONS | 5 TERMS | KEEP N = 50] Run #5, Epoch #16, Testing [correct-output]:   0%|   …"
      ]
     },
     "metadata": {},
     "output_type": "display_data"
    },
    {
     "data": {
      "application/vnd.jupyter.widget-view+json": {
       "model_id": "",
       "version_major": 2,
       "version_minor": 0
      },
      "text/plain": [
       "[CONJUNCTIONS | 1000 DIMENSIONS | 5 TERMS | KEEP N = 50] Run #5, Epoch #17, Training:   0%|          | 0/79 [0…"
      ]
     },
     "metadata": {},
     "output_type": "display_data"
    },
    {
     "data": {
      "application/vnd.jupyter.widget-view+json": {
       "model_id": "",
       "version_major": 2,
       "version_minor": 0
      },
      "text/plain": [
       "[CONJUNCTIONS | 1000 DIMENSIONS | 5 TERMS | KEEP N = 50] Run #5, Epoch #17, Testing [output-distance]:   0%|  …"
      ]
     },
     "metadata": {},
     "output_type": "display_data"
    },
    {
     "data": {
      "application/vnd.jupyter.widget-view+json": {
       "model_id": "",
       "version_major": 2,
       "version_minor": 0
      },
      "text/plain": [
       "[CONJUNCTIONS | 1000 DIMENSIONS | 5 TERMS | KEEP N = 50] Run #5, Epoch #17, Testing [correct-output]:   0%|   …"
      ]
     },
     "metadata": {},
     "output_type": "display_data"
    },
    {
     "data": {
      "application/vnd.jupyter.widget-view+json": {
       "model_id": "",
       "version_major": 2,
       "version_minor": 0
      },
      "text/plain": [
       "[CONJUNCTIONS | 1000 DIMENSIONS | 5 TERMS | KEEP N = 50] Run #5, Epoch #18, Training:   0%|          | 0/79 [0…"
      ]
     },
     "metadata": {},
     "output_type": "display_data"
    },
    {
     "data": {
      "application/vnd.jupyter.widget-view+json": {
       "model_id": "",
       "version_major": 2,
       "version_minor": 0
      },
      "text/plain": [
       "[CONJUNCTIONS | 1000 DIMENSIONS | 5 TERMS | KEEP N = 50] Run #5, Epoch #18, Testing [output-distance]:   0%|  …"
      ]
     },
     "metadata": {},
     "output_type": "display_data"
    },
    {
     "data": {
      "application/vnd.jupyter.widget-view+json": {
       "model_id": "",
       "version_major": 2,
       "version_minor": 0
      },
      "text/plain": [
       "[CONJUNCTIONS | 1000 DIMENSIONS | 5 TERMS | KEEP N = 50] Run #5, Epoch #18, Testing [correct-output]:   0%|   …"
      ]
     },
     "metadata": {},
     "output_type": "display_data"
    },
    {
     "data": {
      "application/vnd.jupyter.widget-view+json": {
       "model_id": "",
       "version_major": 2,
       "version_minor": 0
      },
      "text/plain": [
       "[CONJUNCTIONS | 1000 DIMENSIONS | 5 TERMS | KEEP N = 50] Run #5, Epoch #19, Training:   0%|          | 0/79 [0…"
      ]
     },
     "metadata": {},
     "output_type": "display_data"
    },
    {
     "data": {
      "application/vnd.jupyter.widget-view+json": {
       "model_id": "",
       "version_major": 2,
       "version_minor": 0
      },
      "text/plain": [
       "[CONJUNCTIONS | 1000 DIMENSIONS | 5 TERMS | KEEP N = 50] Run #5, Epoch #19, Testing [output-distance]:   0%|  …"
      ]
     },
     "metadata": {},
     "output_type": "display_data"
    },
    {
     "data": {
      "application/vnd.jupyter.widget-view+json": {
       "model_id": "",
       "version_major": 2,
       "version_minor": 0
      },
      "text/plain": [
       "[CONJUNCTIONS | 1000 DIMENSIONS | 5 TERMS | KEEP N = 50] Run #5, Epoch #19, Testing [correct-output]:   0%|   …"
      ]
     },
     "metadata": {},
     "output_type": "display_data"
    },
    {
     "data": {
      "application/vnd.jupyter.widget-view+json": {
       "model_id": "",
       "version_major": 2,
       "version_minor": 0
      },
      "text/plain": [
       "[CONJUNCTIONS | 1000 DIMENSIONS | 5 TERMS | KEEP N = 50] Run #5, Epoch #20, Training:   0%|          | 0/79 [0…"
      ]
     },
     "metadata": {},
     "output_type": "display_data"
    },
    {
     "data": {
      "application/vnd.jupyter.widget-view+json": {
       "model_id": "",
       "version_major": 2,
       "version_minor": 0
      },
      "text/plain": [
       "[CONJUNCTIONS | 1000 DIMENSIONS | 5 TERMS | KEEP N = 50] Run #5, Epoch #20, Testing [output-distance]:   0%|  …"
      ]
     },
     "metadata": {},
     "output_type": "display_data"
    },
    {
     "data": {
      "application/vnd.jupyter.widget-view+json": {
       "model_id": "",
       "version_major": 2,
       "version_minor": 0
      },
      "text/plain": [
       "[CONJUNCTIONS | 1000 DIMENSIONS | 5 TERMS | KEEP N = 50] Run #5, Epoch #20, Testing [correct-output]:   0%|   …"
      ]
     },
     "metadata": {},
     "output_type": "display_data"
    },
    {
     "data": {
      "application/vnd.jupyter.widget-view+json": {
       "model_id": "",
       "version_major": 2,
       "version_minor": 0
      },
      "text/plain": [
       "[CONJUNCTIONS | 1000 DIMENSIONS | 5 TERMS | KEEP N = 50] Run #5, Epoch #21, Training:   0%|          | 0/79 [0…"
      ]
     },
     "metadata": {},
     "output_type": "display_data"
    },
    {
     "data": {
      "application/vnd.jupyter.widget-view+json": {
       "model_id": "",
       "version_major": 2,
       "version_minor": 0
      },
      "text/plain": [
       "[CONJUNCTIONS | 1000 DIMENSIONS | 5 TERMS | KEEP N = 50] Run #5, Epoch #21, Testing [output-distance]:   0%|  …"
      ]
     },
     "metadata": {},
     "output_type": "display_data"
    },
    {
     "data": {
      "application/vnd.jupyter.widget-view+json": {
       "model_id": "",
       "version_major": 2,
       "version_minor": 0
      },
      "text/plain": [
       "[CONJUNCTIONS | 1000 DIMENSIONS | 5 TERMS | KEEP N = 50] Run #5, Epoch #21, Testing [correct-output]:   0%|   …"
      ]
     },
     "metadata": {},
     "output_type": "display_data"
    },
    {
     "data": {
      "application/vnd.jupyter.widget-view+json": {
       "model_id": "",
       "version_major": 2,
       "version_minor": 0
      },
      "text/plain": [
       "[CONJUNCTIONS | 1000 DIMENSIONS | 5 TERMS | KEEP N = 50] Run #5, Epoch #22, Training:   0%|          | 0/79 [0…"
      ]
     },
     "metadata": {},
     "output_type": "display_data"
    },
    {
     "data": {
      "application/vnd.jupyter.widget-view+json": {
       "model_id": "",
       "version_major": 2,
       "version_minor": 0
      },
      "text/plain": [
       "[CONJUNCTIONS | 1000 DIMENSIONS | 5 TERMS | KEEP N = 50] Run #5, Epoch #22, Testing [output-distance]:   0%|  …"
      ]
     },
     "metadata": {},
     "output_type": "display_data"
    },
    {
     "data": {
      "application/vnd.jupyter.widget-view+json": {
       "model_id": "",
       "version_major": 2,
       "version_minor": 0
      },
      "text/plain": [
       "[CONJUNCTIONS | 1000 DIMENSIONS | 5 TERMS | KEEP N = 50] Run #5, Epoch #22, Testing [correct-output]:   0%|   …"
      ]
     },
     "metadata": {},
     "output_type": "display_data"
    },
    {
     "data": {
      "application/vnd.jupyter.widget-view+json": {
       "model_id": "",
       "version_major": 2,
       "version_minor": 0
      },
      "text/plain": [
       "[CONJUNCTIONS | 1000 DIMENSIONS | 5 TERMS | KEEP N = 50] Run #5, Epoch #23, Training:   0%|          | 0/79 [0…"
      ]
     },
     "metadata": {},
     "output_type": "display_data"
    },
    {
     "data": {
      "application/vnd.jupyter.widget-view+json": {
       "model_id": "",
       "version_major": 2,
       "version_minor": 0
      },
      "text/plain": [
       "[CONJUNCTIONS | 1000 DIMENSIONS | 5 TERMS | KEEP N = 50] Run #5, Epoch #23, Testing [output-distance]:   0%|  …"
      ]
     },
     "metadata": {},
     "output_type": "display_data"
    },
    {
     "data": {
      "application/vnd.jupyter.widget-view+json": {
       "model_id": "",
       "version_major": 2,
       "version_minor": 0
      },
      "text/plain": [
       "[CONJUNCTIONS | 1000 DIMENSIONS | 5 TERMS | KEEP N = 50] Run #5, Epoch #23, Testing [correct-output]:   0%|   …"
      ]
     },
     "metadata": {},
     "output_type": "display_data"
    },
    {
     "data": {
      "application/vnd.jupyter.widget-view+json": {
       "model_id": "",
       "version_major": 2,
       "version_minor": 0
      },
      "text/plain": [
       "[CONJUNCTIONS | 1000 DIMENSIONS | 5 TERMS | KEEP N = 50] Run #5, Epoch #24, Training:   0%|          | 0/79 [0…"
      ]
     },
     "metadata": {},
     "output_type": "display_data"
    },
    {
     "data": {
      "application/vnd.jupyter.widget-view+json": {
       "model_id": "",
       "version_major": 2,
       "version_minor": 0
      },
      "text/plain": [
       "[CONJUNCTIONS | 1000 DIMENSIONS | 5 TERMS | KEEP N = 50] Run #5, Epoch #24, Testing [output-distance]:   0%|  …"
      ]
     },
     "metadata": {},
     "output_type": "display_data"
    },
    {
     "data": {
      "application/vnd.jupyter.widget-view+json": {
       "model_id": "",
       "version_major": 2,
       "version_minor": 0
      },
      "text/plain": [
       "[CONJUNCTIONS | 1000 DIMENSIONS | 5 TERMS | KEEP N = 50] Run #5, Epoch #24, Testing [correct-output]:   0%|   …"
      ]
     },
     "metadata": {},
     "output_type": "display_data"
    },
    {
     "data": {
      "application/vnd.jupyter.widget-view+json": {
       "model_id": "",
       "version_major": 2,
       "version_minor": 0
      },
      "text/plain": [
       "[CONJUNCTIONS | 1000 DIMENSIONS | 5 TERMS | KEEP N = 50] Run #5, Epoch #25, Training:   0%|          | 0/79 [0…"
      ]
     },
     "metadata": {},
     "output_type": "display_data"
    },
    {
     "data": {
      "application/vnd.jupyter.widget-view+json": {
       "model_id": "",
       "version_major": 2,
       "version_minor": 0
      },
      "text/plain": [
       "[CONJUNCTIONS | 1000 DIMENSIONS | 5 TERMS | KEEP N = 50] Run #5, Epoch #25, Testing [output-distance]:   0%|  …"
      ]
     },
     "metadata": {},
     "output_type": "display_data"
    },
    {
     "data": {
      "application/vnd.jupyter.widget-view+json": {
       "model_id": "",
       "version_major": 2,
       "version_minor": 0
      },
      "text/plain": [
       "[CONJUNCTIONS | 1000 DIMENSIONS | 5 TERMS | KEEP N = 50] Run #5, Epoch #25, Testing [correct-output]:   0%|   …"
      ]
     },
     "metadata": {},
     "output_type": "display_data"
    },
    {
     "data": {
      "application/vnd.jupyter.widget-view+json": {
       "model_id": "",
       "version_major": 2,
       "version_minor": 0
      },
      "text/plain": [
       "[CONJUNCTIONS | 1000 DIMENSIONS | 5 TERMS | KEEP N = 50] Run #5, Epoch #26, Training:   0%|          | 0/79 [0…"
      ]
     },
     "metadata": {},
     "output_type": "display_data"
    },
    {
     "data": {
      "application/vnd.jupyter.widget-view+json": {
       "model_id": "",
       "version_major": 2,
       "version_minor": 0
      },
      "text/plain": [
       "[CONJUNCTIONS | 1000 DIMENSIONS | 5 TERMS | KEEP N = 50] Run #5, Epoch #26, Testing [output-distance]:   0%|  …"
      ]
     },
     "metadata": {},
     "output_type": "display_data"
    },
    {
     "data": {
      "application/vnd.jupyter.widget-view+json": {
       "model_id": "",
       "version_major": 2,
       "version_minor": 0
      },
      "text/plain": [
       "[CONJUNCTIONS | 1000 DIMENSIONS | 5 TERMS | KEEP N = 50] Run #5, Epoch #26, Testing [correct-output]:   0%|   …"
      ]
     },
     "metadata": {},
     "output_type": "display_data"
    },
    {
     "data": {
      "application/vnd.jupyter.widget-view+json": {
       "model_id": "",
       "version_major": 2,
       "version_minor": 0
      },
      "text/plain": [
       "[CONJUNCTIONS | 1000 DIMENSIONS | 5 TERMS | KEEP N = 50] Run #5, Epoch #27, Training:   0%|          | 0/79 [0…"
      ]
     },
     "metadata": {},
     "output_type": "display_data"
    },
    {
     "data": {
      "application/vnd.jupyter.widget-view+json": {
       "model_id": "",
       "version_major": 2,
       "version_minor": 0
      },
      "text/plain": [
       "[CONJUNCTIONS | 1000 DIMENSIONS | 5 TERMS | KEEP N = 50] Run #5, Epoch #27, Testing [output-distance]:   0%|  …"
      ]
     },
     "metadata": {},
     "output_type": "display_data"
    },
    {
     "data": {
      "application/vnd.jupyter.widget-view+json": {
       "model_id": "",
       "version_major": 2,
       "version_minor": 0
      },
      "text/plain": [
       "[CONJUNCTIONS | 1000 DIMENSIONS | 5 TERMS | KEEP N = 50] Run #5, Epoch #27, Testing [correct-output]:   0%|   …"
      ]
     },
     "metadata": {},
     "output_type": "display_data"
    },
    {
     "data": {
      "application/vnd.jupyter.widget-view+json": {
       "model_id": "",
       "version_major": 2,
       "version_minor": 0
      },
      "text/plain": [
       "[CONJUNCTIONS | 1000 DIMENSIONS | 5 TERMS | KEEP N = 50] Run #5, Epoch #28, Training:   0%|          | 0/79 [0…"
      ]
     },
     "metadata": {},
     "output_type": "display_data"
    },
    {
     "data": {
      "application/vnd.jupyter.widget-view+json": {
       "model_id": "",
       "version_major": 2,
       "version_minor": 0
      },
      "text/plain": [
       "[CONJUNCTIONS | 1000 DIMENSIONS | 5 TERMS | KEEP N = 50] Run #5, Epoch #28, Testing [output-distance]:   0%|  …"
      ]
     },
     "metadata": {},
     "output_type": "display_data"
    },
    {
     "data": {
      "application/vnd.jupyter.widget-view+json": {
       "model_id": "",
       "version_major": 2,
       "version_minor": 0
      },
      "text/plain": [
       "[CONJUNCTIONS | 1000 DIMENSIONS | 5 TERMS | KEEP N = 50] Run #5, Epoch #28, Testing [correct-output]:   0%|   …"
      ]
     },
     "metadata": {},
     "output_type": "display_data"
    },
    {
     "data": {
      "application/vnd.jupyter.widget-view+json": {
       "model_id": "",
       "version_major": 2,
       "version_minor": 0
      },
      "text/plain": [
       "[CONJUNCTIONS | 1000 DIMENSIONS | 5 TERMS | KEEP N = 50] Run #5, Epoch #29, Training:   0%|          | 0/79 [0…"
      ]
     },
     "metadata": {},
     "output_type": "display_data"
    },
    {
     "data": {
      "application/vnd.jupyter.widget-view+json": {
       "model_id": "",
       "version_major": 2,
       "version_minor": 0
      },
      "text/plain": [
       "[CONJUNCTIONS | 1000 DIMENSIONS | 5 TERMS | KEEP N = 50] Run #5, Epoch #29, Testing [output-distance]:   0%|  …"
      ]
     },
     "metadata": {},
     "output_type": "display_data"
    },
    {
     "data": {
      "application/vnd.jupyter.widget-view+json": {
       "model_id": "",
       "version_major": 2,
       "version_minor": 0
      },
      "text/plain": [
       "[CONJUNCTIONS | 1000 DIMENSIONS | 5 TERMS | KEEP N = 50] Run #5, Epoch #29, Testing [correct-output]:   0%|   …"
      ]
     },
     "metadata": {},
     "output_type": "display_data"
    },
    {
     "data": {
      "application/vnd.jupyter.widget-view+json": {
       "model_id": "",
       "version_major": 2,
       "version_minor": 0
      },
      "text/plain": [
       "[CONJUNCTIONS | 1000 DIMENSIONS | 5 TERMS | KEEP N = 50] Run #5, Epoch #30, Training:   0%|          | 0/79 [0…"
      ]
     },
     "metadata": {},
     "output_type": "display_data"
    },
    {
     "data": {
      "application/vnd.jupyter.widget-view+json": {
       "model_id": "",
       "version_major": 2,
       "version_minor": 0
      },
      "text/plain": [
       "[CONJUNCTIONS | 1000 DIMENSIONS | 5 TERMS | KEEP N = 50] Run #5, Epoch #30, Testing [output-distance]:   0%|  …"
      ]
     },
     "metadata": {},
     "output_type": "display_data"
    },
    {
     "data": {
      "application/vnd.jupyter.widget-view+json": {
       "model_id": "",
       "version_major": 2,
       "version_minor": 0
      },
      "text/plain": [
       "[CONJUNCTIONS | 1000 DIMENSIONS | 5 TERMS | KEEP N = 50] Run #5, Epoch #30, Testing [correct-output]:   0%|   …"
      ]
     },
     "metadata": {},
     "output_type": "display_data"
    },
    {
     "data": {
      "application/vnd.jupyter.widget-view+json": {
       "model_id": "",
       "version_major": 2,
       "version_minor": 0
      },
      "text/plain": [
       "[CONJUNCTIONS | 1000 DIMENSIONS | 5 TERMS | KEEP N = 50] Run #5, Epoch #31, Training:   0%|          | 0/79 [0…"
      ]
     },
     "metadata": {},
     "output_type": "display_data"
    },
    {
     "data": {
      "application/vnd.jupyter.widget-view+json": {
       "model_id": "",
       "version_major": 2,
       "version_minor": 0
      },
      "text/plain": [
       "[CONJUNCTIONS | 1000 DIMENSIONS | 5 TERMS | KEEP N = 50] Run #5, Epoch #31, Testing [output-distance]:   0%|  …"
      ]
     },
     "metadata": {},
     "output_type": "display_data"
    },
    {
     "data": {
      "application/vnd.jupyter.widget-view+json": {
       "model_id": "",
       "version_major": 2,
       "version_minor": 0
      },
      "text/plain": [
       "[CONJUNCTIONS | 1000 DIMENSIONS | 5 TERMS | KEEP N = 50] Run #5, Epoch #31, Testing [correct-output]:   0%|   …"
      ]
     },
     "metadata": {},
     "output_type": "display_data"
    },
    {
     "data": {
      "application/vnd.jupyter.widget-view+json": {
       "model_id": "",
       "version_major": 2,
       "version_minor": 0
      },
      "text/plain": [
       "[CONJUNCTIONS | 1000 DIMENSIONS | 5 TERMS | KEEP N = 50] Run #5, Epoch #32, Training:   0%|          | 0/79 [0…"
      ]
     },
     "metadata": {},
     "output_type": "display_data"
    },
    {
     "data": {
      "application/vnd.jupyter.widget-view+json": {
       "model_id": "",
       "version_major": 2,
       "version_minor": 0
      },
      "text/plain": [
       "[CONJUNCTIONS | 1000 DIMENSIONS | 5 TERMS | KEEP N = 50] Run #5, Epoch #32, Testing [output-distance]:   0%|  …"
      ]
     },
     "metadata": {},
     "output_type": "display_data"
    },
    {
     "data": {
      "application/vnd.jupyter.widget-view+json": {
       "model_id": "",
       "version_major": 2,
       "version_minor": 0
      },
      "text/plain": [
       "[CONJUNCTIONS | 1000 DIMENSIONS | 5 TERMS | KEEP N = 50] Run #5, Epoch #32, Testing [correct-output]:   0%|   …"
      ]
     },
     "metadata": {},
     "output_type": "display_data"
    },
    {
     "data": {
      "application/vnd.jupyter.widget-view+json": {
       "model_id": "",
       "version_major": 2,
       "version_minor": 0
      },
      "text/plain": [
       "[CONJUNCTIONS | 1000 DIMENSIONS | 5 TERMS | KEEP N = 50] Run #5, Epoch #33, Training:   0%|          | 0/79 [0…"
      ]
     },
     "metadata": {},
     "output_type": "display_data"
    },
    {
     "data": {
      "application/vnd.jupyter.widget-view+json": {
       "model_id": "",
       "version_major": 2,
       "version_minor": 0
      },
      "text/plain": [
       "[CONJUNCTIONS | 1000 DIMENSIONS | 5 TERMS | KEEP N = 50] Run #5, Epoch #33, Testing [output-distance]:   0%|  …"
      ]
     },
     "metadata": {},
     "output_type": "display_data"
    },
    {
     "data": {
      "application/vnd.jupyter.widget-view+json": {
       "model_id": "",
       "version_major": 2,
       "version_minor": 0
      },
      "text/plain": [
       "[CONJUNCTIONS | 1000 DIMENSIONS | 5 TERMS | KEEP N = 50] Run #5, Epoch #33, Testing [correct-output]:   0%|   …"
      ]
     },
     "metadata": {},
     "output_type": "display_data"
    },
    {
     "data": {
      "application/vnd.jupyter.widget-view+json": {
       "model_id": "",
       "version_major": 2,
       "version_minor": 0
      },
      "text/plain": [
       "[CONJUNCTIONS | 1000 DIMENSIONS | 5 TERMS | KEEP N = 50] Run #5, Epoch #34, Training:   0%|          | 0/79 [0…"
      ]
     },
     "metadata": {},
     "output_type": "display_data"
    },
    {
     "data": {
      "application/vnd.jupyter.widget-view+json": {
       "model_id": "",
       "version_major": 2,
       "version_minor": 0
      },
      "text/plain": [
       "[CONJUNCTIONS | 1000 DIMENSIONS | 5 TERMS | KEEP N = 50] Run #5, Epoch #34, Testing [output-distance]:   0%|  …"
      ]
     },
     "metadata": {},
     "output_type": "display_data"
    },
    {
     "data": {
      "application/vnd.jupyter.widget-view+json": {
       "model_id": "",
       "version_major": 2,
       "version_minor": 0
      },
      "text/plain": [
       "[CONJUNCTIONS | 1000 DIMENSIONS | 5 TERMS | KEEP N = 50] Run #5, Epoch #34, Testing [correct-output]:   0%|   …"
      ]
     },
     "metadata": {},
     "output_type": "display_data"
    },
    {
     "data": {
      "application/vnd.jupyter.widget-view+json": {
       "model_id": "",
       "version_major": 2,
       "version_minor": 0
      },
      "text/plain": [
       "[CONJUNCTIONS | 1000 DIMENSIONS | 5 TERMS | KEEP N = 50] Run #5, Epoch #35, Training:   0%|          | 0/79 [0…"
      ]
     },
     "metadata": {},
     "output_type": "display_data"
    },
    {
     "data": {
      "application/vnd.jupyter.widget-view+json": {
       "model_id": "",
       "version_major": 2,
       "version_minor": 0
      },
      "text/plain": [
       "[CONJUNCTIONS | 1000 DIMENSIONS | 5 TERMS | KEEP N = 50] Run #5, Epoch #35, Testing [output-distance]:   0%|  …"
      ]
     },
     "metadata": {},
     "output_type": "display_data"
    },
    {
     "data": {
      "application/vnd.jupyter.widget-view+json": {
       "model_id": "",
       "version_major": 2,
       "version_minor": 0
      },
      "text/plain": [
       "[CONJUNCTIONS | 1000 DIMENSIONS | 5 TERMS | KEEP N = 50] Run #5, Epoch #35, Testing [correct-output]:   0%|   …"
      ]
     },
     "metadata": {},
     "output_type": "display_data"
    },
    {
     "data": {
      "application/vnd.jupyter.widget-view+json": {
       "model_id": "",
       "version_major": 2,
       "version_minor": 0
      },
      "text/plain": [
       "[CONJUNCTIONS | 1000 DIMENSIONS | 5 TERMS | KEEP N = 50] Run #5, Epoch #36, Training:   0%|          | 0/79 [0…"
      ]
     },
     "metadata": {},
     "output_type": "display_data"
    },
    {
     "data": {
      "application/vnd.jupyter.widget-view+json": {
       "model_id": "",
       "version_major": 2,
       "version_minor": 0
      },
      "text/plain": [
       "[CONJUNCTIONS | 1000 DIMENSIONS | 5 TERMS | KEEP N = 50] Run #5, Epoch #36, Testing [output-distance]:   0%|  …"
      ]
     },
     "metadata": {},
     "output_type": "display_data"
    },
    {
     "data": {
      "application/vnd.jupyter.widget-view+json": {
       "model_id": "",
       "version_major": 2,
       "version_minor": 0
      },
      "text/plain": [
       "[CONJUNCTIONS | 1000 DIMENSIONS | 5 TERMS | KEEP N = 50] Run #5, Epoch #36, Testing [correct-output]:   0%|   …"
      ]
     },
     "metadata": {},
     "output_type": "display_data"
    },
    {
     "data": {
      "application/vnd.jupyter.widget-view+json": {
       "model_id": "",
       "version_major": 2,
       "version_minor": 0
      },
      "text/plain": [
       "[CONJUNCTIONS | 1000 DIMENSIONS | 5 TERMS | KEEP N = 50] Run #5, Epoch #37, Training:   0%|          | 0/79 [0…"
      ]
     },
     "metadata": {},
     "output_type": "display_data"
    },
    {
     "data": {
      "application/vnd.jupyter.widget-view+json": {
       "model_id": "",
       "version_major": 2,
       "version_minor": 0
      },
      "text/plain": [
       "[CONJUNCTIONS | 1000 DIMENSIONS | 5 TERMS | KEEP N = 50] Run #5, Epoch #37, Testing [output-distance]:   0%|  …"
      ]
     },
     "metadata": {},
     "output_type": "display_data"
    },
    {
     "data": {
      "application/vnd.jupyter.widget-view+json": {
       "model_id": "",
       "version_major": 2,
       "version_minor": 0
      },
      "text/plain": [
       "[CONJUNCTIONS | 1000 DIMENSIONS | 5 TERMS | KEEP N = 50] Run #5, Epoch #37, Testing [correct-output]:   0%|   …"
      ]
     },
     "metadata": {},
     "output_type": "display_data"
    },
    {
     "data": {
      "application/vnd.jupyter.widget-view+json": {
       "model_id": "",
       "version_major": 2,
       "version_minor": 0
      },
      "text/plain": [
       "[CONJUNCTIONS | 1000 DIMENSIONS | 5 TERMS | KEEP N = 50] Run #5, Epoch #38, Training:   0%|          | 0/79 [0…"
      ]
     },
     "metadata": {},
     "output_type": "display_data"
    },
    {
     "data": {
      "application/vnd.jupyter.widget-view+json": {
       "model_id": "",
       "version_major": 2,
       "version_minor": 0
      },
      "text/plain": [
       "[CONJUNCTIONS | 1000 DIMENSIONS | 5 TERMS | KEEP N = 50] Run #5, Epoch #38, Testing [output-distance]:   0%|  …"
      ]
     },
     "metadata": {},
     "output_type": "display_data"
    },
    {
     "data": {
      "application/vnd.jupyter.widget-view+json": {
       "model_id": "",
       "version_major": 2,
       "version_minor": 0
      },
      "text/plain": [
       "[CONJUNCTIONS | 1000 DIMENSIONS | 5 TERMS | KEEP N = 50] Run #5, Epoch #38, Testing [correct-output]:   0%|   …"
      ]
     },
     "metadata": {},
     "output_type": "display_data"
    },
    {
     "data": {
      "application/vnd.jupyter.widget-view+json": {
       "model_id": "",
       "version_major": 2,
       "version_minor": 0
      },
      "text/plain": [
       "[CONJUNCTIONS | 1000 DIMENSIONS | 5 TERMS | KEEP N = 50] Run #5, Epoch #39, Training:   0%|          | 0/79 [0…"
      ]
     },
     "metadata": {},
     "output_type": "display_data"
    },
    {
     "data": {
      "application/vnd.jupyter.widget-view+json": {
       "model_id": "",
       "version_major": 2,
       "version_minor": 0
      },
      "text/plain": [
       "[CONJUNCTIONS | 1000 DIMENSIONS | 5 TERMS | KEEP N = 50] Run #5, Epoch #39, Testing [output-distance]:   0%|  …"
      ]
     },
     "metadata": {},
     "output_type": "display_data"
    },
    {
     "data": {
      "application/vnd.jupyter.widget-view+json": {
       "model_id": "",
       "version_major": 2,
       "version_minor": 0
      },
      "text/plain": [
       "[CONJUNCTIONS | 1000 DIMENSIONS | 5 TERMS | KEEP N = 50] Run #5, Epoch #39, Testing [correct-output]:   0%|   …"
      ]
     },
     "metadata": {},
     "output_type": "display_data"
    },
    {
     "data": {
      "application/vnd.jupyter.widget-view+json": {
       "model_id": "",
       "version_major": 2,
       "version_minor": 0
      },
      "text/plain": [
       "[CONJUNCTIONS | 1000 DIMENSIONS | 5 TERMS | KEEP N = 50] Run #5, Epoch #40, Training:   0%|          | 0/79 [0…"
      ]
     },
     "metadata": {},
     "output_type": "display_data"
    },
    {
     "data": {
      "application/vnd.jupyter.widget-view+json": {
       "model_id": "",
       "version_major": 2,
       "version_minor": 0
      },
      "text/plain": [
       "[CONJUNCTIONS | 1000 DIMENSIONS | 5 TERMS | KEEP N = 50] Run #5, Epoch #40, Testing [output-distance]:   0%|  …"
      ]
     },
     "metadata": {},
     "output_type": "display_data"
    },
    {
     "data": {
      "application/vnd.jupyter.widget-view+json": {
       "model_id": "",
       "version_major": 2,
       "version_minor": 0
      },
      "text/plain": [
       "[CONJUNCTIONS | 1000 DIMENSIONS | 5 TERMS | KEEP N = 50] Run #5, Epoch #40, Testing [correct-output]:   0%|   …"
      ]
     },
     "metadata": {},
     "output_type": "display_data"
    },
    {
     "data": {
      "application/vnd.jupyter.widget-view+json": {
       "model_id": "",
       "version_major": 2,
       "version_minor": 0
      },
      "text/plain": [
       "[CONJUNCTIONS | 1000 DIMENSIONS | 5 TERMS | KEEP N = 50] Run #6, Epoch #1, Training:   0%|          | 0/79 [00…"
      ]
     },
     "metadata": {},
     "output_type": "display_data"
    },
    {
     "data": {
      "application/vnd.jupyter.widget-view+json": {
       "model_id": "",
       "version_major": 2,
       "version_minor": 0
      },
      "text/plain": [
       "[CONJUNCTIONS | 1000 DIMENSIONS | 5 TERMS | KEEP N = 50] Run #6, Epoch #1, Testing [output-distance]:   0%|   …"
      ]
     },
     "metadata": {},
     "output_type": "display_data"
    },
    {
     "data": {
      "application/vnd.jupyter.widget-view+json": {
       "model_id": "",
       "version_major": 2,
       "version_minor": 0
      },
      "text/plain": [
       "[CONJUNCTIONS | 1000 DIMENSIONS | 5 TERMS | KEEP N = 50] Run #6, Epoch #1, Testing [correct-output]:   0%|    …"
      ]
     },
     "metadata": {},
     "output_type": "display_data"
    },
    {
     "data": {
      "application/vnd.jupyter.widget-view+json": {
       "model_id": "",
       "version_major": 2,
       "version_minor": 0
      },
      "text/plain": [
       "[CONJUNCTIONS | 1000 DIMENSIONS | 5 TERMS | KEEP N = 50] Run #6, Epoch #2, Training:   0%|          | 0/79 [00…"
      ]
     },
     "metadata": {},
     "output_type": "display_data"
    },
    {
     "data": {
      "application/vnd.jupyter.widget-view+json": {
       "model_id": "",
       "version_major": 2,
       "version_minor": 0
      },
      "text/plain": [
       "[CONJUNCTIONS | 1000 DIMENSIONS | 5 TERMS | KEEP N = 50] Run #6, Epoch #2, Testing [output-distance]:   0%|   …"
      ]
     },
     "metadata": {},
     "output_type": "display_data"
    },
    {
     "data": {
      "application/vnd.jupyter.widget-view+json": {
       "model_id": "",
       "version_major": 2,
       "version_minor": 0
      },
      "text/plain": [
       "[CONJUNCTIONS | 1000 DIMENSIONS | 5 TERMS | KEEP N = 50] Run #6, Epoch #2, Testing [correct-output]:   0%|    …"
      ]
     },
     "metadata": {},
     "output_type": "display_data"
    },
    {
     "data": {
      "application/vnd.jupyter.widget-view+json": {
       "model_id": "",
       "version_major": 2,
       "version_minor": 0
      },
      "text/plain": [
       "[CONJUNCTIONS | 1000 DIMENSIONS | 5 TERMS | KEEP N = 50] Run #6, Epoch #3, Training:   0%|          | 0/79 [00…"
      ]
     },
     "metadata": {},
     "output_type": "display_data"
    },
    {
     "data": {
      "application/vnd.jupyter.widget-view+json": {
       "model_id": "",
       "version_major": 2,
       "version_minor": 0
      },
      "text/plain": [
       "[CONJUNCTIONS | 1000 DIMENSIONS | 5 TERMS | KEEP N = 50] Run #6, Epoch #3, Testing [output-distance]:   0%|   …"
      ]
     },
     "metadata": {},
     "output_type": "display_data"
    },
    {
     "data": {
      "application/vnd.jupyter.widget-view+json": {
       "model_id": "",
       "version_major": 2,
       "version_minor": 0
      },
      "text/plain": [
       "[CONJUNCTIONS | 1000 DIMENSIONS | 5 TERMS | KEEP N = 50] Run #6, Epoch #3, Testing [correct-output]:   0%|    …"
      ]
     },
     "metadata": {},
     "output_type": "display_data"
    },
    {
     "data": {
      "application/vnd.jupyter.widget-view+json": {
       "model_id": "",
       "version_major": 2,
       "version_minor": 0
      },
      "text/plain": [
       "[CONJUNCTIONS | 1000 DIMENSIONS | 5 TERMS | KEEP N = 50] Run #6, Epoch #4, Training:   0%|          | 0/79 [00…"
      ]
     },
     "metadata": {},
     "output_type": "display_data"
    },
    {
     "data": {
      "application/vnd.jupyter.widget-view+json": {
       "model_id": "",
       "version_major": 2,
       "version_minor": 0
      },
      "text/plain": [
       "[CONJUNCTIONS | 1000 DIMENSIONS | 5 TERMS | KEEP N = 50] Run #6, Epoch #4, Testing [output-distance]:   0%|   …"
      ]
     },
     "metadata": {},
     "output_type": "display_data"
    },
    {
     "data": {
      "application/vnd.jupyter.widget-view+json": {
       "model_id": "",
       "version_major": 2,
       "version_minor": 0
      },
      "text/plain": [
       "[CONJUNCTIONS | 1000 DIMENSIONS | 5 TERMS | KEEP N = 50] Run #6, Epoch #4, Testing [correct-output]:   0%|    …"
      ]
     },
     "metadata": {},
     "output_type": "display_data"
    },
    {
     "data": {
      "application/vnd.jupyter.widget-view+json": {
       "model_id": "",
       "version_major": 2,
       "version_minor": 0
      },
      "text/plain": [
       "[CONJUNCTIONS | 1000 DIMENSIONS | 5 TERMS | KEEP N = 50] Run #6, Epoch #5, Training:   0%|          | 0/79 [00…"
      ]
     },
     "metadata": {},
     "output_type": "display_data"
    },
    {
     "data": {
      "application/vnd.jupyter.widget-view+json": {
       "model_id": "",
       "version_major": 2,
       "version_minor": 0
      },
      "text/plain": [
       "[CONJUNCTIONS | 1000 DIMENSIONS | 5 TERMS | KEEP N = 50] Run #6, Epoch #5, Testing [output-distance]:   0%|   …"
      ]
     },
     "metadata": {},
     "output_type": "display_data"
    },
    {
     "data": {
      "application/vnd.jupyter.widget-view+json": {
       "model_id": "",
       "version_major": 2,
       "version_minor": 0
      },
      "text/plain": [
       "[CONJUNCTIONS | 1000 DIMENSIONS | 5 TERMS | KEEP N = 50] Run #6, Epoch #5, Testing [correct-output]:   0%|    …"
      ]
     },
     "metadata": {},
     "output_type": "display_data"
    },
    {
     "data": {
      "application/vnd.jupyter.widget-view+json": {
       "model_id": "",
       "version_major": 2,
       "version_minor": 0
      },
      "text/plain": [
       "[CONJUNCTIONS | 1000 DIMENSIONS | 5 TERMS | KEEP N = 50] Run #6, Epoch #6, Training:   0%|          | 0/79 [00…"
      ]
     },
     "metadata": {},
     "output_type": "display_data"
    },
    {
     "data": {
      "application/vnd.jupyter.widget-view+json": {
       "model_id": "",
       "version_major": 2,
       "version_minor": 0
      },
      "text/plain": [
       "[CONJUNCTIONS | 1000 DIMENSIONS | 5 TERMS | KEEP N = 50] Run #6, Epoch #6, Testing [output-distance]:   0%|   …"
      ]
     },
     "metadata": {},
     "output_type": "display_data"
    },
    {
     "data": {
      "application/vnd.jupyter.widget-view+json": {
       "model_id": "",
       "version_major": 2,
       "version_minor": 0
      },
      "text/plain": [
       "[CONJUNCTIONS | 1000 DIMENSIONS | 5 TERMS | KEEP N = 50] Run #6, Epoch #6, Testing [correct-output]:   0%|    …"
      ]
     },
     "metadata": {},
     "output_type": "display_data"
    },
    {
     "data": {
      "application/vnd.jupyter.widget-view+json": {
       "model_id": "",
       "version_major": 2,
       "version_minor": 0
      },
      "text/plain": [
       "[CONJUNCTIONS | 1000 DIMENSIONS | 5 TERMS | KEEP N = 50] Run #6, Epoch #7, Training:   0%|          | 0/79 [00…"
      ]
     },
     "metadata": {},
     "output_type": "display_data"
    },
    {
     "data": {
      "application/vnd.jupyter.widget-view+json": {
       "model_id": "",
       "version_major": 2,
       "version_minor": 0
      },
      "text/plain": [
       "[CONJUNCTIONS | 1000 DIMENSIONS | 5 TERMS | KEEP N = 50] Run #6, Epoch #7, Testing [output-distance]:   0%|   …"
      ]
     },
     "metadata": {},
     "output_type": "display_data"
    },
    {
     "data": {
      "application/vnd.jupyter.widget-view+json": {
       "model_id": "",
       "version_major": 2,
       "version_minor": 0
      },
      "text/plain": [
       "[CONJUNCTIONS | 1000 DIMENSIONS | 5 TERMS | KEEP N = 50] Run #6, Epoch #7, Testing [correct-output]:   0%|    …"
      ]
     },
     "metadata": {},
     "output_type": "display_data"
    },
    {
     "data": {
      "application/vnd.jupyter.widget-view+json": {
       "model_id": "ff20ad83929841b1a412a6f96f4bd588",
       "version_major": 2,
       "version_minor": 0
      },
      "text/plain": [
       "[CONJUNCTIONS | 1000 DIMENSIONS | 5 TERMS | KEEP N = 50] Run #6, Epoch #8, Training:   0%|          | 0/79 [00…"
      ]
     },
     "metadata": {},
     "output_type": "display_data"
    }
   ],
   "source": [
    "regime = ConjunctionRegime(logic=ProductLogic(), keepn=50, no_runs=10)\n",
    "regime.load_latest_models()\n",
    "regime.load_all_results()\n",
    "for i in range(1, 10 + 1):\n",
    "    regime.loop_until(i, 40)"
   ]
  },
  {
   "cell_type": "code",
   "execution_count": null,
   "id": "2d7856ed",
   "metadata": {},
   "outputs": [],
   "source": [
    "n_dims = 500\n",
    "\n",
    "ds = BinaryDataset([n_dims], 10_000)\n",
    "#ds = WeightedDataset(10_000, n_dims, n_dims - 10)\n",
    "sampler = RandomSampler(ds, replacement=True, num_samples=300_000)\n",
    "loader = DataLoader(ds, batch_size=64, sampler=sampler)"
   ]
  },
  {
   "cell_type": "code",
   "execution_count": null,
   "id": "745a19c8",
   "metadata": {},
   "outputs": [],
   "source": [
    "regime.optims[0]"
   ]
  },
  {
   "cell_type": "code",
   "execution_count": null,
   "id": "ff186091",
   "metadata": {},
   "outputs": [],
   "source": [
    "weights = rand_n_true([n_dims], 30).cuda()"
   ]
  },
  {
   "cell_type": "code",
   "execution_count": null,
   "id": "c29b9268",
   "metadata": {},
   "outputs": [],
   "source": [
    "def train_conj(model, optim):\n",
    "\n",
    "    ret = {\n",
    "        \"losses\": [],\n",
    "        \"diffs\": [],\n",
    "    }\n",
    "    \n",
    "    for bs in tqdm(loader):\n",
    "        bs = bs.cuda()\n",
    "        cjs = true_conjunction(weights, bs)\n",
    "        cj_hats = model(flogic.encode(bs)).squeeze()\n",
    "        #loss = ((cjs.float() - cj_hats).abs()).mean()\n",
    "        loss = (flogic.bin_xor(flogic.encode(cjs), cj_hats) ** 10).sum()\n",
    "        ret[\"losses\"].append(loss.item())\n",
    "        ret[\"diffs\"].append(flogic.bin_xor(weights.float(), model.weights.value().flatten()))\n",
    "\n",
    "        optim.zero_grad()\n",
    "        loss.backward()\n",
    "        optim.step()\n",
    "\n",
    "    ret[\"losses\"] = torch.Tensor(ret[\"losses\"])\n",
    "    ret[\"diffs\"] = torch.cat([t.unsqueeze(0) for t in ret[\"diffs\"]], dim=0)\n",
    "        \n",
    "    return ret"
   ]
  },
  {
   "cell_type": "code",
   "execution_count": null,
   "id": "0177425a",
   "metadata": {},
   "outputs": [],
   "source": [
    "cj_model = FuzzyUnsignedConjunction(in_features=n_dims, out_features=1, logic=flogic, keepn=30).cuda()\n",
    "optim = torch.optim.Adam(cj_model.parameters(), lr=1e-2)"
   ]
  },
  {
   "cell_type": "code",
   "execution_count": null,
   "id": "570dd51e",
   "metadata": {},
   "outputs": [],
   "source": [
    "#ret = train_conj(cj_model, optim)"
   ]
  },
  {
   "cell_type": "code",
   "execution_count": null,
   "id": "d17e335c",
   "metadata": {},
   "outputs": [],
   "source": [
    "plt.plot(ret[\"losses\"])"
   ]
  },
  {
   "cell_type": "code",
   "execution_count": null,
   "id": "f0e6329f",
   "metadata": {},
   "outputs": [],
   "source": [
    "(cj_model.weights.value() > 0.5).flatten()"
   ]
  },
  {
   "cell_type": "code",
   "execution_count": null,
   "id": "3dd856a6",
   "metadata": {},
   "outputs": [],
   "source": [
    "weights"
   ]
  },
  {
   "cell_type": "code",
   "execution_count": null,
   "id": "760a45b2",
   "metadata": {},
   "outputs": [],
   "source": [
    "plt.plot(ret[\"diffs\"].detach().numpy()[:], color=\"black\", alpha=0.03)"
   ]
  },
  {
   "cell_type": "code",
   "execution_count": null,
   "id": "9a1d79d7",
   "metadata": {},
   "outputs": [],
   "source": [
    "ret[\"diffs\"].shape"
   ]
  },
  {
   "cell_type": "code",
   "execution_count": null,
   "id": "f33d996e",
   "metadata": {},
   "outputs": [],
   "source": [
    "print(ds)"
   ]
  },
  {
   "cell_type": "code",
   "execution_count": null,
   "id": "e2d85e4d",
   "metadata": {},
   "outputs": [],
   "source": [
    "ds.samples.shape"
   ]
  },
  {
   "cell_type": "code",
   "execution_count": null,
   "id": "9d0d7514",
   "metadata": {},
   "outputs": [],
   "source": [
    "xs = torch.rand((2,2))\n",
    "idx = torch.Tensor([[0,1],[1,0]]).bool()\n",
    "xs[idx] = (xs[idx] > 0.5).float()\n",
    "xs"
   ]
  },
  {
   "cell_type": "code",
   "execution_count": null,
   "id": "c4a41bd7",
   "metadata": {},
   "outputs": [],
   "source": [
    "len(torch.ones((4,5)).shape)"
   ]
  },
  {
   "cell_type": "code",
   "execution_count": null,
   "id": "3b19f819",
   "metadata": {},
   "outputs": [],
   "source": [
    "xs = torch.arange(3) + torch.zeros(2,1)\n",
    "idxs = keepidx((2,3), n=2, dim=1)\n",
    "vals = xs[idxs]\n",
    "vals = vals.reshape(*xs.shape[:-1], 2)\n",
    "vals"
   ]
  },
  {
   "cell_type": "code",
   "execution_count": null,
   "id": "ba4a049d",
   "metadata": {},
   "outputs": [],
   "source": []
  },
  {
   "cell_type": "code",
   "execution_count": null,
   "id": "d58c97c2",
   "metadata": {},
   "outputs": [],
   "source": [
    "take_rand_n(torch.arange(25).view(5,5), 3, dim=0)"
   ]
  },
  {
   "cell_type": "code",
   "execution_count": null,
   "id": "2159f693",
   "metadata": {},
   "outputs": [],
   "source": [
    "torch.arange(25).view(5,5)"
   ]
  },
  {
   "cell_type": "code",
   "execution_count": null,
   "id": "52d0856e",
   "metadata": {},
   "outputs": [],
   "source": [
    "for i in range(0, 1):\n",
    "    plt.plot(\n",
    "        regime.results[i]['epoch'], \n",
    "        regime.results[i]['correct-output'],\n",
    "        color=\"black\",\n",
    "        alpha=0.1\n",
    "    )"
   ]
  },
  {
   "cell_type": "code",
   "execution_count": null,
   "id": "672c74b6",
   "metadata": {},
   "outputs": [],
   "source": []
  }
 ],
 "metadata": {
  "kernelspec": {
   "display_name": "Python 3 (ipykernel)",
   "language": "python",
   "name": "python3"
  },
  "language_info": {
   "codemirror_mode": {
    "name": "ipython",
    "version": 3
   },
   "file_extension": ".py",
   "mimetype": "text/x-python",
   "name": "python",
   "nbconvert_exporter": "python",
   "pygments_lexer": "ipython3",
   "version": "3.9.7"
  }
 },
 "nbformat": 4,
 "nbformat_minor": 5
}
