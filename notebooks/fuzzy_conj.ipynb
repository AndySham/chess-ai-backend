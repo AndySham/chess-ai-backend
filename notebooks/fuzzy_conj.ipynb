{
 "cells": [
  {
   "cell_type": "code",
   "execution_count": 1,
   "id": "7291df85",
   "metadata": {},
   "outputs": [],
   "source": [
    "import sys\n",
    "import os\n",
    "sys.path.append(os.path.abspath('../src')) # include top level package in python path"
   ]
  },
  {
   "cell_type": "code",
   "execution_count": 2,
   "id": "2926b991",
   "metadata": {},
   "outputs": [],
   "source": [
    "import torch\n",
    "from torch import nn, Tensor\n",
    "from model.fuzzy_layer import FuzzyUnsignedConjunction, FuzzyUnsignedDisjunction\n",
    "from model.fuzzy_logic import ProductLogic, MinimumLogic, LukasiewiczLogic, DrasticLogic, SchweizerSklarLogic\n",
    "from model.fuzzy_layer import FuzzyParam\n",
    "from model.bool_logic import BoolLogic\n",
    "import matplotlib.pyplot as plt\n",
    "from tqdm.notebook import tqdm\n",
    "\n",
    "logic = BoolLogic()"
   ]
  },
  {
   "cell_type": "code",
   "execution_count": 3,
   "id": "06d3a20f",
   "metadata": {},
   "outputs": [],
   "source": [
    "from torch.utils.data import Dataset, DataLoader, RandomSampler\n",
    "\n",
    "class BinaryDataset(Dataset):\n",
    "    def __init__(self, shape, N):\n",
    "        self.samples = torch.distributions.bernoulli.Bernoulli(\n",
    "            0.5\n",
    "        ).sample(\n",
    "            torch.Size([N, *shape])\n",
    "        ).bool()\n",
    "        \n",
    "    def __len__(self):\n",
    "        return self.samples.size(0)\n",
    "    \n",
    "    def __getitem__(self, idx):\n",
    "        return self.samples[idx]"
   ]
  },
  {
   "cell_type": "code",
   "execution_count": 4,
   "id": "2d7856ed",
   "metadata": {},
   "outputs": [],
   "source": [
    "ds = BinaryDataset([30], 10_000)\n",
    "sampler = RandomSampler(ds, replacement=True, num_samples=100_000)\n",
    "loader = DataLoader(ds, batch_size=64, sampler=sampler)"
   ]
  },
  {
   "cell_type": "code",
   "execution_count": 5,
   "id": "a1c4f88f",
   "metadata": {},
   "outputs": [],
   "source": [
    "def rand_n_true(shape, N):\n",
    "    falses = torch.zeros(shape, dtype=torch.bool)\n",
    "    falses = falses.view(-1)\n",
    "    falses[:N] = True\n",
    "    falses = falses[torch.randperm(falses.size(0))]\n",
    "    return falses.view(*shape)"
   ]
  },
  {
   "cell_type": "code",
   "execution_count": 6,
   "id": "ff186091",
   "metadata": {},
   "outputs": [],
   "source": [
    "weights = rand_n_true([30], 3).cuda()"
   ]
  },
  {
   "cell_type": "code",
   "execution_count": 7,
   "id": "c29b9268",
   "metadata": {},
   "outputs": [],
   "source": [
    "def train_conj(model, optim):\n",
    "\n",
    "    losses = []\n",
    "\n",
    "    for bs in tqdm(loader):\n",
    "        bs = bs.cuda()\n",
    "        cjs = logic.conjoin(logic.implies(weights, bs), dim=1)\n",
    "        cj_hats = cj_model(flogic.encode(bs)).squeeze()\n",
    "        #loss = ((cjs.float() - cj_hats).abs()).mean()\n",
    "        loss = (cj_model._logic.bin_xor(flogic.encode(cjs), cj_hats) ** 2).mean()\n",
    "        losses.append(loss.item())\n",
    "\n",
    "        optim.zero_grad()\n",
    "        loss.backward()\n",
    "        optim.step()\n",
    "\n",
    "    return torch.Tensor(losses)"
   ]
  },
  {
   "cell_type": "code",
   "execution_count": 8,
   "id": "0177425a",
   "metadata": {},
   "outputs": [],
   "source": [
    "flogic = ProductLogic().cuda()\n",
    "cj_model = FuzzyUnsignedConjunction(in_features=30, out_features=1, logic=flogic).cuda()\n",
    "optim = torch.optim.Adam(cj_model.parameters(), lr=1e-2)"
   ]
  },
  {
   "cell_type": "code",
   "execution_count": 9,
   "id": "570dd51e",
   "metadata": {},
   "outputs": [
    {
     "data": {
      "application/vnd.jupyter.widget-view+json": {
       "model_id": "46c28c6374f149a695c31520e1a1e43d",
       "version_major": 2,
       "version_minor": 0
      },
      "text/plain": [
       "  0%|          | 0/1563 [00:00<?, ?it/s]"
      ]
     },
     "metadata": {},
     "output_type": "display_data"
    }
   ],
   "source": [
    "losses = train_conj(cj_model, optim)"
   ]
  },
  {
   "cell_type": "code",
   "execution_count": 10,
   "id": "d17e335c",
   "metadata": {},
   "outputs": [
    {
     "data": {
      "text/plain": [
       "[<matplotlib.lines.Line2D at 0x7fdc8c4bf520>]"
      ]
     },
     "execution_count": 10,
     "metadata": {},
     "output_type": "execute_result"
    },
    {
     "data": {
      "image/png": "[encoded data removed]",
      "text/plain": [
       "<Figure size 432x288 with 1 Axes>"
      ]
     },
     "metadata": {
      "needs_background": "light"
     },
     "output_type": "display_data"
    }
   ],
   "source": [
    "plt.plot(losses)"
   ]
  },
  {
   "cell_type": "code",
   "execution_count": 11,
   "id": "f0e6329f",
   "metadata": {},
   "outputs": [
    {
     "data": {
      "text/plain": [
       "tensor([False, False, False, False, False, False, False, False, False, False,\n",
       "        False,  True, False, False, False, False, False, False, False,  True,\n",
       "         True, False, False, False, False, False, False, False, False, False],\n",
       "       device='cuda:0')"
      ]
     },
     "execution_count": 11,
     "metadata": {},
     "output_type": "execute_result"
    }
   ],
   "source": [
    "(cj_model.weights.value() > 0.5).flatten()"
   ]
  },
  {
   "cell_type": "code",
   "execution_count": 12,
   "id": "3dd856a6",
   "metadata": {},
   "outputs": [
    {
     "data": {
      "text/plain": [
       "tensor([False, False, False, False, False, False, False, False, False, False,\n",
       "        False,  True, False, False, False, False, False, False, False,  True,\n",
       "         True, False, False, False, False, False, False, False, False, False],\n",
       "       device='cuda:0')"
      ]
     },
     "execution_count": 12,
     "metadata": {},
     "output_type": "execute_result"
    }
   ],
   "source": [
    "weights"
   ]
  },
  {
   "cell_type": "code",
   "execution_count": null,
   "id": "760a45b2",
   "metadata": {},
   "outputs": [],
   "source": []
  }
 ],
 "metadata": {
  "kernelspec": {
   "display_name": "Python 3 (ipykernel)",
   "language": "python",
   "name": "python3"
  },
  "language_info": {
   "codemirror_mode": {
    "name": "ipython",
    "version": 3
   },
   "file_extension": ".py",
   "mimetype": "text/x-python",
   "name": "python",
   "nbconvert_exporter": "python",
   "pygments_lexer": "ipython3",
   "version": "3.9.7"
  }
 },
 "nbformat": 4,
 "nbformat_minor": 5
}
