{
 "cells": [
  {
   "cell_type": "code",
   "execution_count": 1,
   "id": "7291df85",
   "metadata": {},
   "outputs": [],
   "source": [
    "import sys\n",
    "import os\n",
    "sys.path.append(os.path.abspath('../src')) # include top level package in python path"
   ]
  },
  {
   "cell_type": "code",
   "execution_count": 2,
   "id": "c00ef21a",
   "metadata": {},
   "outputs": [
    {
     "data": {
      "text/html": [
       "\n",
       "<style>\n",
       ".container { \n",
       "    width: 100% !important;\n",
       "}\n",
       "</style>\n"
      ],
      "text/plain": [
       "<IPython.core.display.HTML object>"
      ]
     },
     "metadata": {},
     "output_type": "display_data"
    }
   ],
   "source": [
    "from IPython.display import display, HTML\n",
    "display(HTML(\"\"\"\n",
    "<style>\n",
    ".container { \n",
    "    width: 100% !important;\n",
    "}\n",
    "</style>\n",
    "\"\"\"))"
   ]
  },
  {
   "cell_type": "code",
   "execution_count": 3,
   "id": "2926b991",
   "metadata": {},
   "outputs": [],
   "source": [
    "import torch\n",
    "from torch import nn, Tensor\n",
    "from model.fuzzy_layer import FuzzyUnsignedConjunction, FuzzyUnsignedDisjunction, FuzzyNumKeepup, keepidx, fuzzy_dropup\n",
    "from model.fuzzy_logic import ProductLogic, MinimumLogic, LukasiewiczLogic, DrasticLogic, SchweizerSklarLogic\n",
    "from model.fuzzy_layer import FuzzyParam\n",
    "from model.bool_logic import BoolLogic\n",
    "import matplotlib.pyplot as plt\n",
    "from tqdm.notebook import tqdm\n",
    "from util import shuffle\n",
    "\n",
    "logic = BoolLogic()\n",
    "flogic = ProductLogic()"
   ]
  },
  {
   "cell_type": "code",
   "execution_count": 4,
   "id": "06d3a20f",
   "metadata": {},
   "outputs": [],
   "source": [
    "from torch.utils.data import Dataset, DataLoader, RandomSampler\n",
    "\n",
    "class WeightedDataset(Dataset):\n",
    "    def __init__(self, N, D, K):\n",
    "        super().__init__()\n",
    "        self.samples = torch.zeros((N, D), dtype=torch.bool)\n",
    "        self.samples[:,:K] = True\n",
    "        self.samples = shuffle(self.samples, dim=-1)\n",
    "        \n",
    "    def __len__(self):\n",
    "        return self.samples.size(0)\n",
    "        \n",
    "    def __getitem__(self, idx):\n",
    "        return self.samples[idx]\n",
    "\n",
    "class BinaryDataset(Dataset):\n",
    "    def __init__(self, shape, N):\n",
    "        self.samples = torch.distributions.bernoulli.Bernoulli(\n",
    "            0.5\n",
    "        ).sample(\n",
    "            torch.Size([N, *shape])\n",
    "        ).bool()\n",
    "        \n",
    "    def __len__(self):\n",
    "        return self.samples.size(0)\n",
    "    \n",
    "    def __getitem__(self, idx):\n",
    "        return self.samples[idx]"
   ]
  },
  {
   "cell_type": "code",
   "execution_count": 5,
   "id": "2d7856ed",
   "metadata": {},
   "outputs": [],
   "source": [
    "n_dims = 500\n",
    "\n",
    "ds = BinaryDataset([n_dims], 10_000)\n",
    "#ds = WeightedDataset(10_000, n_dims, n_dims - 10)\n",
    "sampler = RandomSampler(ds, replacement=True, num_samples=300_000)\n",
    "loader = DataLoader(ds, batch_size=64, sampler=sampler)"
   ]
  },
  {
   "cell_type": "code",
   "execution_count": 6,
   "id": "a1c4f88f",
   "metadata": {},
   "outputs": [],
   "source": [
    "def rand_n_true(shape, N):\n",
    "    falses = torch.zeros(shape, dtype=torch.bool)\n",
    "    falses = falses.view(-1)\n",
    "    falses[:N] = True\n",
    "    falses = falses[torch.randperm(falses.size(0))]\n",
    "    return falses.view(*shape)"
   ]
  },
  {
   "cell_type": "code",
   "execution_count": 7,
   "id": "ff186091",
   "metadata": {},
   "outputs": [],
   "source": [
    "weights = rand_n_true([n_dims], 30)"
   ]
  },
  {
   "cell_type": "code",
   "execution_count": 8,
   "id": "c29b9268",
   "metadata": {},
   "outputs": [],
   "source": [
    "def train_conj(model, optim):\n",
    "\n",
    "    ret = {\n",
    "        \"losses\": [],\n",
    "        \"diffs\": [],\n",
    "    }\n",
    "    \n",
    "    for bs in tqdm(loader):\n",
    "        bs = bs\n",
    "        cjs = logic.conjoin(logic.implies(weights, bs), dim=1)\n",
    "        cj_hats = cj_model(flogic.encode(bs)).squeeze()\n",
    "        #loss = ((cjs.float() - cj_hats).abs()).mean()\n",
    "        loss = (flogic.bin_xor(flogic.encode(cjs), cj_hats) ** 10).sum()\n",
    "        ret[\"losses\"].append(loss.item())\n",
    "        ret[\"diffs\"].append(flogic.bin_xor(weights.float(), model.weights.value().flatten()))\n",
    "\n",
    "        optim.zero_grad()\n",
    "        loss.backward()\n",
    "        optim.step()\n",
    "\n",
    "    ret[\"losses\"] = torch.Tensor(ret[\"losses\"])\n",
    "    ret[\"diffs\"] = torch.cat([t.unsqueeze(0) for t in ret[\"diffs\"]], dim=0)\n",
    "        \n",
    "    return ret"
   ]
  },
  {
   "cell_type": "code",
   "execution_count": 9,
   "id": "0177425a",
   "metadata": {},
   "outputs": [],
   "source": [
    "cj_model = FuzzyUnsignedConjunction(in_features=n_dims, out_features=1, logic=flogic, keepn=30)\n",
    "optim = torch.optim.Adam(cj_model.parameters(), lr=1e-2)"
   ]
  },
  {
   "cell_type": "code",
   "execution_count": 10,
   "id": "570dd51e",
   "metadata": {},
   "outputs": [
    {
     "data": {
      "application/vnd.jupyter.widget-view+json": {
       "model_id": "ff1ad5893ee640909d0821d0c671e4b0",
       "version_major": 2,
       "version_minor": 0
      },
      "text/plain": [
       "  0%|          | 0/4688 [00:00<?, ?it/s]"
      ]
     },
     "metadata": {},
     "output_type": "display_data"
    }
   ],
   "source": [
    "ret = train_conj(cj_model, optim)"
   ]
  },
  {
   "cell_type": "code",
   "execution_count": 11,
   "id": "d17e335c",
   "metadata": {},
   "outputs": [
    {
     "data": {
      "text/plain": [
       "[<matplotlib.lines.Line2D at 0x7f87f6b3fdc0>]"
      ]
     },
     "execution_count": 11,
     "metadata": {},
     "output_type": "execute_result"
    },
    {
     "data": {
      "image/png": "[encoded data removed]",
      "text/plain": [
       "<Figure size 432x288 with 1 Axes>"
      ]
     },
     "metadata": {
      "needs_background": "light"
     },
     "output_type": "display_data"
    }
   ],
   "source": [
    "plt.plot(ret[\"losses\"])"
   ]
  },
  {
   "cell_type": "code",
   "execution_count": 12,
   "id": "f0e6329f",
   "metadata": {},
   "outputs": [
    {
     "data": {
      "text/plain": [
       "tensor([ True,  True,  True,  True, False,  True, False, False,  True, False,\n",
       "         True,  True,  True, False,  True,  True,  True,  True,  True, False,\n",
       "        False,  True, False,  True, False,  True,  True, False, False, False,\n",
       "         True, False, False, False, False,  True,  True, False,  True,  True,\n",
       "        False, False,  True, False,  True, False,  True,  True,  True, False,\n",
       "        False,  True, False, False,  True, False, False, False,  True,  True,\n",
       "         True,  True, False,  True,  True,  True, False,  True, False, False,\n",
       "         True, False,  True, False,  True,  True, False,  True,  True, False,\n",
       "        False, False,  True,  True,  True, False,  True, False,  True, False,\n",
       "        False,  True,  True, False, False,  True, False, False,  True,  True,\n",
       "        False,  True, False,  True, False,  True,  True, False, False, False,\n",
       "        False,  True, False,  True, False, False, False,  True, False, False,\n",
       "        False,  True, False,  True,  True, False, False,  True,  True, False,\n",
       "         True, False,  True, False, False,  True, False,  True,  True,  True,\n",
       "        False,  True,  True,  True,  True, False,  True, False, False, False,\n",
       "        False,  True, False,  True,  True,  True, False, False,  True, False,\n",
       "         True,  True, False,  True,  True,  True, False, False,  True,  True,\n",
       "        False, False,  True, False, False, False, False, False, False,  True,\n",
       "        False, False,  True, False, False, False,  True, False, False,  True,\n",
       "        False, False, False,  True, False, False,  True, False,  True,  True,\n",
       "        False,  True,  True, False, False, False,  True, False,  True, False,\n",
       "        False, False, False, False,  True,  True,  True, False, False,  True,\n",
       "         True,  True,  True, False, False,  True,  True, False,  True, False,\n",
       "        False,  True, False,  True,  True,  True,  True,  True, False,  True,\n",
       "         True,  True, False,  True,  True, False, False, False,  True,  True,\n",
       "         True,  True, False, False, False, False,  True, False, False, False,\n",
       "        False,  True,  True, False, False, False,  True,  True,  True,  True,\n",
       "         True,  True, False, False,  True, False, False,  True, False, False,\n",
       "         True,  True, False,  True, False, False,  True, False, False, False,\n",
       "         True,  True, False,  True, False,  True,  True,  True,  True,  True,\n",
       "        False,  True,  True,  True,  True,  True,  True, False,  True,  True,\n",
       "        False, False, False,  True, False, False,  True, False,  True,  True,\n",
       "         True, False, False, False, False,  True,  True,  True, False, False,\n",
       "        False, False, False,  True, False,  True,  True, False,  True,  True,\n",
       "        False, False, False, False,  True,  True,  True, False, False, False,\n",
       "         True, False, False, False,  True,  True, False,  True, False, False,\n",
       "         True,  True, False, False,  True,  True,  True, False,  True, False,\n",
       "        False, False, False,  True,  True,  True, False, False, False, False,\n",
       "        False,  True,  True,  True,  True, False, False,  True, False, False,\n",
       "         True, False,  True, False, False, False, False,  True, False, False,\n",
       "         True,  True, False,  True, False, False,  True,  True,  True, False,\n",
       "        False,  True, False, False, False,  True,  True,  True, False,  True,\n",
       "         True, False, False,  True,  True, False, False, False, False,  True,\n",
       "        False, False,  True, False, False,  True, False, False,  True, False,\n",
       "         True, False,  True, False,  True, False, False, False,  True, False,\n",
       "         True, False,  True, False, False,  True, False,  True,  True, False,\n",
       "        False, False,  True,  True, False, False,  True, False, False, False,\n",
       "        False, False, False,  True, False,  True, False, False,  True, False,\n",
       "        False,  True, False, False,  True,  True, False,  True, False, False,\n",
       "        False,  True,  True, False,  True,  True,  True,  True, False, False])"
      ]
     },
     "execution_count": 12,
     "metadata": {},
     "output_type": "execute_result"
    }
   ],
   "source": [
    "(cj_model.weights.value() > 0.5).flatten()"
   ]
  },
  {
   "cell_type": "code",
   "execution_count": 13,
   "id": "3dd856a6",
   "metadata": {},
   "outputs": [
    {
     "data": {
      "text/plain": [
       "tensor([False, False, False, False, False, False, False, False, False, False,\n",
       "        False, False, False, False,  True, False, False,  True, False, False,\n",
       "        False, False, False, False, False, False, False, False, False, False,\n",
       "        False, False, False, False, False, False, False, False, False, False,\n",
       "        False, False, False, False, False, False, False, False, False, False,\n",
       "        False, False, False, False, False, False, False, False, False, False,\n",
       "        False, False, False, False, False, False, False, False, False, False,\n",
       "        False, False, False, False, False, False, False, False, False, False,\n",
       "        False, False, False, False, False, False, False, False, False, False,\n",
       "        False, False,  True, False, False, False, False, False, False, False,\n",
       "        False, False, False, False, False, False, False, False, False, False,\n",
       "        False, False, False, False, False, False, False, False, False,  True,\n",
       "        False, False, False, False, False, False, False, False, False, False,\n",
       "        False, False, False, False, False, False, False, False, False, False,\n",
       "        False, False, False, False, False, False, False, False,  True, False,\n",
       "        False,  True, False, False, False, False,  True, False, False, False,\n",
       "        False,  True, False, False, False, False, False, False, False, False,\n",
       "        False, False, False, False, False, False, False, False, False, False,\n",
       "        False, False, False, False, False, False, False, False, False, False,\n",
       "        False, False, False, False, False, False, False, False, False, False,\n",
       "        False, False, False, False, False, False, False, False, False, False,\n",
       "        False, False, False, False, False, False, False, False, False, False,\n",
       "         True, False, False, False, False, False, False,  True, False, False,\n",
       "        False, False, False,  True, False, False, False, False, False, False,\n",
       "        False, False, False, False, False, False, False, False, False, False,\n",
       "        False, False, False, False, False, False, False, False, False, False,\n",
       "        False, False, False, False, False, False, False, False, False,  True,\n",
       "        False,  True,  True, False, False, False, False, False, False, False,\n",
       "        False, False, False, False, False, False, False, False, False, False,\n",
       "        False, False, False, False, False, False, False, False, False, False,\n",
       "        False, False, False, False, False, False, False, False, False, False,\n",
       "        False, False, False, False, False, False, False, False, False, False,\n",
       "        False, False, False,  True, False, False, False, False,  True, False,\n",
       "        False, False, False, False, False, False, False, False, False, False,\n",
       "        False, False, False, False, False, False, False, False, False, False,\n",
       "        False, False, False,  True, False, False, False, False, False,  True,\n",
       "        False,  True, False, False, False, False, False, False, False,  True,\n",
       "        False, False, False, False, False, False,  True,  True, False, False,\n",
       "        False, False, False, False, False, False, False,  True,  True, False,\n",
       "        False, False, False, False,  True, False, False, False, False, False,\n",
       "        False, False, False, False, False, False, False, False, False, False,\n",
       "        False,  True, False, False, False, False, False, False, False, False,\n",
       "         True, False, False, False, False, False, False, False, False, False,\n",
       "        False, False, False, False, False, False, False, False, False, False,\n",
       "        False, False, False, False, False, False, False, False, False, False,\n",
       "        False, False, False, False, False, False, False, False, False, False,\n",
       "        False,  True, False, False, False, False, False, False, False, False,\n",
       "        False,  True, False, False, False, False, False, False, False, False,\n",
       "        False, False, False, False, False, False, False, False, False, False,\n",
       "        False,  True, False, False, False, False, False, False, False, False])"
      ]
     },
     "execution_count": 13,
     "metadata": {},
     "output_type": "execute_result"
    }
   ],
   "source": [
    "weights"
   ]
  },
  {
   "cell_type": "code",
   "execution_count": 14,
   "id": "760a45b2",
   "metadata": {},
   "outputs": [
    {
     "data": {
      "text/plain": [
       "[<matplotlib.lines.Line2D at 0x7f87f9e50be0>,\n",
       " <matplotlib.lines.Line2D at 0x7f87f9e50d00>,\n",
       " <matplotlib.lines.Line2D at 0x7f87f9e50e20>,\n",
       " <matplotlib.lines.Line2D at 0x7f87f9e50f40>,\n",
       " <matplotlib.lines.Line2D at 0x7f87f9e590a0>,\n",
       " <matplotlib.lines.Line2D at 0x7f87f9e591c0>,\n",
       " <matplotlib.lines.Line2D at 0x7f87f9e592e0>,\n",
       " <matplotlib.lines.Line2D at 0x7f87f9e59400>,\n",
       " <matplotlib.lines.Line2D at 0x7f87f9e59520>,\n",
       " <matplotlib.lines.Line2D at 0x7f87f9e59640>,\n",
       " <matplotlib.lines.Line2D at 0x7f87f9e59760>,\n",
       " <matplotlib.lines.Line2D at 0x7f87f9e59880>,\n",
       " <matplotlib.lines.Line2D at 0x7f87f9e599a0>,\n",
       " <matplotlib.lines.Line2D at 0x7f87f9e59ac0>,\n",
       " <matplotlib.lines.Line2D at 0x7f87f9e59be0>,\n",
       " <matplotlib.lines.Line2D at 0x7f87f9e59d00>,\n",
       " <matplotlib.lines.Line2D at 0x7f87f9e59e20>,\n",
       " <matplotlib.lines.Line2D at 0x7f87f9e59f40>,\n",
       " <matplotlib.lines.Line2D at 0x7f87f9e600a0>,\n",
       " <matplotlib.lines.Line2D at 0x7f87f9e601c0>,\n",
       " <matplotlib.lines.Line2D at 0x7f87f9e602e0>,\n",
       " <matplotlib.lines.Line2D at 0x7f87f9e60400>,\n",
       " <matplotlib.lines.Line2D at 0x7f87f9e60520>,\n",
       " <matplotlib.lines.Line2D at 0x7f87f9e60640>,\n",
       " <matplotlib.lines.Line2D at 0x7f87f9e60760>,\n",
       " <matplotlib.lines.Line2D at 0x7f87f9e60880>,\n",
       " <matplotlib.lines.Line2D at 0x7f87f9e609a0>,\n",
       " <matplotlib.lines.Line2D at 0x7f87f9e60ac0>,\n",
       " <matplotlib.lines.Line2D at 0x7f87f9e60be0>,\n",
       " <matplotlib.lines.Line2D at 0x7f87f9e60d00>,\n",
       " <matplotlib.lines.Line2D at 0x7f87f9e60e20>,\n",
       " <matplotlib.lines.Line2D at 0x7f87f9e60f40>,\n",
       " <matplotlib.lines.Line2D at 0x7f87f9dc60a0>,\n",
       " <matplotlib.lines.Line2D at 0x7f87f9dc61c0>,\n",
       " <matplotlib.lines.Line2D at 0x7f87f9dc62e0>,\n",
       " <matplotlib.lines.Line2D at 0x7f87f9dc6430>,\n",
       " <matplotlib.lines.Line2D at 0x7f87f9dc6550>,\n",
       " <matplotlib.lines.Line2D at 0x7f87f9dc6670>,\n",
       " <matplotlib.lines.Line2D at 0x7f87f9dc6790>,\n",
       " <matplotlib.lines.Line2D at 0x7f87f9dc68b0>,\n",
       " <matplotlib.lines.Line2D at 0x7f87f9dc69d0>,\n",
       " <matplotlib.lines.Line2D at 0x7f87f9dc6af0>,\n",
       " <matplotlib.lines.Line2D at 0x7f87f9dc6c10>,\n",
       " <matplotlib.lines.Line2D at 0x7f87f9dc6d30>,\n",
       " <matplotlib.lines.Line2D at 0x7f87f9dc6e50>,\n",
       " <matplotlib.lines.Line2D at 0x7f87f9dc6f70>,\n",
       " <matplotlib.lines.Line2D at 0x7f87f9dcc0d0>,\n",
       " <matplotlib.lines.Line2D at 0x7f87f9dcc1f0>,\n",
       " <matplotlib.lines.Line2D at 0x7f87f9dcc310>,\n",
       " <matplotlib.lines.Line2D at 0x7f87f9dcc430>,\n",
       " <matplotlib.lines.Line2D at 0x7f87f9dcc550>,\n",
       " <matplotlib.lines.Line2D at 0x7f87f9dcc670>,\n",
       " <matplotlib.lines.Line2D at 0x7f87f9dcc790>,\n",
       " <matplotlib.lines.Line2D at 0x7f87f9dcc8b0>,\n",
       " <matplotlib.lines.Line2D at 0x7f87f9dcc9d0>,\n",
       " <matplotlib.lines.Line2D at 0x7f87f9dccaf0>,\n",
       " <matplotlib.lines.Line2D at 0x7f87f9dccc10>,\n",
       " <matplotlib.lines.Line2D at 0x7f87f9dccd30>,\n",
       " <matplotlib.lines.Line2D at 0x7f87f9dcce50>,\n",
       " <matplotlib.lines.Line2D at 0x7f87f9dccf70>,\n",
       " <matplotlib.lines.Line2D at 0x7f87f9dd20d0>,\n",
       " <matplotlib.lines.Line2D at 0x7f87f9dd21f0>,\n",
       " <matplotlib.lines.Line2D at 0x7f87f9dd2310>,\n",
       " <matplotlib.lines.Line2D at 0x7f87f9dd2430>,\n",
       " <matplotlib.lines.Line2D at 0x7f87f9dd2550>,\n",
       " <matplotlib.lines.Line2D at 0x7f87f9dd2670>,\n",
       " <matplotlib.lines.Line2D at 0x7f87f9dd2790>,\n",
       " <matplotlib.lines.Line2D at 0x7f87f9dd28b0>,\n",
       " <matplotlib.lines.Line2D at 0x7f87f9dd29d0>,\n",
       " <matplotlib.lines.Line2D at 0x7f87f9dd2af0>,\n",
       " <matplotlib.lines.Line2D at 0x7f87f9dd2c10>,\n",
       " <matplotlib.lines.Line2D at 0x7f87f9dd2d30>,\n",
       " <matplotlib.lines.Line2D at 0x7f87f9dd2e50>,\n",
       " <matplotlib.lines.Line2D at 0x7f87f9dd2f70>,\n",
       " <matplotlib.lines.Line2D at 0x7f87f9dd70d0>,\n",
       " <matplotlib.lines.Line2D at 0x7f87f9dd71f0>,\n",
       " <matplotlib.lines.Line2D at 0x7f87f9dd7310>,\n",
       " <matplotlib.lines.Line2D at 0x7f87f9dd7430>,\n",
       " <matplotlib.lines.Line2D at 0x7f87f9dd7550>,\n",
       " <matplotlib.lines.Line2D at 0x7f87f9dd7670>,\n",
       " <matplotlib.lines.Line2D at 0x7f87f9dd7790>,\n",
       " <matplotlib.lines.Line2D at 0x7f87f9dd78b0>,\n",
       " <matplotlib.lines.Line2D at 0x7f87f9dd79d0>,\n",
       " <matplotlib.lines.Line2D at 0x7f87f9dd7af0>,\n",
       " <matplotlib.lines.Line2D at 0x7f87f9dd7c10>,\n",
       " <matplotlib.lines.Line2D at 0x7f87f9dd7d30>,\n",
       " <matplotlib.lines.Line2D at 0x7f87f9dd7e50>,\n",
       " <matplotlib.lines.Line2D at 0x7f87f9dd7f70>,\n",
       " <matplotlib.lines.Line2D at 0x7f87f9ddd0d0>,\n",
       " <matplotlib.lines.Line2D at 0x7f87f9ddd1f0>,\n",
       " <matplotlib.lines.Line2D at 0x7f87f9ddd310>,\n",
       " <matplotlib.lines.Line2D at 0x7f87f9ddd430>,\n",
       " <matplotlib.lines.Line2D at 0x7f87f9ddd550>,\n",
       " <matplotlib.lines.Line2D at 0x7f87f9ddd670>,\n",
       " <matplotlib.lines.Line2D at 0x7f87f9ddd790>,\n",
       " <matplotlib.lines.Line2D at 0x7f87f9ddd8b0>,\n",
       " <matplotlib.lines.Line2D at 0x7f87f9ddd9d0>,\n",
       " <matplotlib.lines.Line2D at 0x7f87f9dddaf0>,\n",
       " <matplotlib.lines.Line2D at 0x7f87f9dddc10>,\n",
       " <matplotlib.lines.Line2D at 0x7f87f9dddd30>,\n",
       " <matplotlib.lines.Line2D at 0x7f87f9ddde50>,\n",
       " <matplotlib.lines.Line2D at 0x7f87f9dddf70>,\n",
       " <matplotlib.lines.Line2D at 0x7f87f9de30d0>,\n",
       " <matplotlib.lines.Line2D at 0x7f87f9de31f0>,\n",
       " <matplotlib.lines.Line2D at 0x7f87f9de3310>,\n",
       " <matplotlib.lines.Line2D at 0x7f87f9de3430>,\n",
       " <matplotlib.lines.Line2D at 0x7f87f9de3550>,\n",
       " <matplotlib.lines.Line2D at 0x7f87f9de3670>,\n",
       " <matplotlib.lines.Line2D at 0x7f87f9de3790>,\n",
       " <matplotlib.lines.Line2D at 0x7f87f9de38b0>,\n",
       " <matplotlib.lines.Line2D at 0x7f87f9de39d0>,\n",
       " <matplotlib.lines.Line2D at 0x7f87f9de3af0>,\n",
       " <matplotlib.lines.Line2D at 0x7f87f9de3c10>,\n",
       " <matplotlib.lines.Line2D at 0x7f87f9de3d30>,\n",
       " <matplotlib.lines.Line2D at 0x7f87f9de3e50>,\n",
       " <matplotlib.lines.Line2D at 0x7f87f9de3f70>,\n",
       " <matplotlib.lines.Line2D at 0x7f87f9de90d0>,\n",
       " <matplotlib.lines.Line2D at 0x7f87f9de91f0>,\n",
       " <matplotlib.lines.Line2D at 0x7f87f9de9310>,\n",
       " <matplotlib.lines.Line2D at 0x7f87f9de9430>,\n",
       " <matplotlib.lines.Line2D at 0x7f87f9de9550>,\n",
       " <matplotlib.lines.Line2D at 0x7f87f9de9670>,\n",
       " <matplotlib.lines.Line2D at 0x7f87f9de9790>,\n",
       " <matplotlib.lines.Line2D at 0x7f87f9de98b0>,\n",
       " <matplotlib.lines.Line2D at 0x7f87f9de99d0>,\n",
       " <matplotlib.lines.Line2D at 0x7f87f9de9af0>,\n",
       " <matplotlib.lines.Line2D at 0x7f87f9de9c10>,\n",
       " <matplotlib.lines.Line2D at 0x7f87f9de9d30>,\n",
       " <matplotlib.lines.Line2D at 0x7f87f9de9e50>,\n",
       " <matplotlib.lines.Line2D at 0x7f87f9de9f70>,\n",
       " <matplotlib.lines.Line2D at 0x7f87f9dee0d0>,\n",
       " <matplotlib.lines.Line2D at 0x7f87f9dee1f0>,\n",
       " <matplotlib.lines.Line2D at 0x7f87f9dee310>,\n",
       " <matplotlib.lines.Line2D at 0x7f87f9dee430>,\n",
       " <matplotlib.lines.Line2D at 0x7f87f9dee550>,\n",
       " <matplotlib.lines.Line2D at 0x7f87f9dee670>,\n",
       " <matplotlib.lines.Line2D at 0x7f87f9dee790>,\n",
       " <matplotlib.lines.Line2D at 0x7f87f9dee8b0>,\n",
       " <matplotlib.lines.Line2D at 0x7f87f9dee9d0>,\n",
       " <matplotlib.lines.Line2D at 0x7f87f9deeaf0>,\n",
       " <matplotlib.lines.Line2D at 0x7f87f9deec10>,\n",
       " <matplotlib.lines.Line2D at 0x7f87f9deed30>,\n",
       " <matplotlib.lines.Line2D at 0x7f87f9deee50>,\n",
       " <matplotlib.lines.Line2D at 0x7f87f9deef70>,\n",
       " <matplotlib.lines.Line2D at 0x7f87f9df40d0>,\n",
       " <matplotlib.lines.Line2D at 0x7f87f9df41f0>,\n",
       " <matplotlib.lines.Line2D at 0x7f87f9df4310>,\n",
       " <matplotlib.lines.Line2D at 0x7f87f9df4430>,\n",
       " <matplotlib.lines.Line2D at 0x7f87f9df4550>,\n",
       " <matplotlib.lines.Line2D at 0x7f87f9df4670>,\n",
       " <matplotlib.lines.Line2D at 0x7f87f9df4790>,\n",
       " <matplotlib.lines.Line2D at 0x7f87f9df48b0>,\n",
       " <matplotlib.lines.Line2D at 0x7f87f9df49d0>,\n",
       " <matplotlib.lines.Line2D at 0x7f87f9df4af0>,\n",
       " <matplotlib.lines.Line2D at 0x7f87f9df4c10>,\n",
       " <matplotlib.lines.Line2D at 0x7f87f9df4d30>,\n",
       " <matplotlib.lines.Line2D at 0x7f87f9df4e50>,\n",
       " <matplotlib.lines.Line2D at 0x7f87f9df4f70>,\n",
       " <matplotlib.lines.Line2D at 0x7f87f9dfa0d0>,\n",
       " <matplotlib.lines.Line2D at 0x7f87f9dfa1f0>,\n",
       " <matplotlib.lines.Line2D at 0x7f87f9dfa310>,\n",
       " <matplotlib.lines.Line2D at 0x7f87f9dfa430>,\n",
       " <matplotlib.lines.Line2D at 0x7f87f9dfa550>,\n",
       " <matplotlib.lines.Line2D at 0x7f87f9dfa670>,\n",
       " <matplotlib.lines.Line2D at 0x7f87f9dfa790>,\n",
       " <matplotlib.lines.Line2D at 0x7f87f9dfa8b0>,\n",
       " <matplotlib.lines.Line2D at 0x7f87f9dfa9d0>,\n",
       " <matplotlib.lines.Line2D at 0x7f87f9dfaaf0>,\n",
       " <matplotlib.lines.Line2D at 0x7f87f9dfac10>,\n",
       " <matplotlib.lines.Line2D at 0x7f87f9dfad30>,\n",
       " <matplotlib.lines.Line2D at 0x7f87f9dfae50>,\n",
       " <matplotlib.lines.Line2D at 0x7f87f9dfaf70>,\n",
       " <matplotlib.lines.Line2D at 0x7f87f9e000d0>,\n",
       " <matplotlib.lines.Line2D at 0x7f87f9e001f0>,\n",
       " <matplotlib.lines.Line2D at 0x7f87f9e00310>,\n",
       " <matplotlib.lines.Line2D at 0x7f87f9e00430>,\n",
       " <matplotlib.lines.Line2D at 0x7f87f9e00550>,\n",
       " <matplotlib.lines.Line2D at 0x7f87f9e00670>,\n",
       " <matplotlib.lines.Line2D at 0x7f87f9e00790>,\n",
       " <matplotlib.lines.Line2D at 0x7f87f9e008b0>,\n",
       " <matplotlib.lines.Line2D at 0x7f87f9e009d0>,\n",
       " <matplotlib.lines.Line2D at 0x7f87f9e00af0>,\n",
       " <matplotlib.lines.Line2D at 0x7f87f9e00c10>,\n",
       " <matplotlib.lines.Line2D at 0x7f87f9e00d30>,\n",
       " <matplotlib.lines.Line2D at 0x7f87f9e00e50>,\n",
       " <matplotlib.lines.Line2D at 0x7f87f9e00f70>,\n",
       " <matplotlib.lines.Line2D at 0x7f87f8c800d0>,\n",
       " <matplotlib.lines.Line2D at 0x7f87f8c801f0>,\n",
       " <matplotlib.lines.Line2D at 0x7f87f8c80310>,\n",
       " <matplotlib.lines.Line2D at 0x7f87f8c80430>,\n",
       " <matplotlib.lines.Line2D at 0x7f87f8c80550>,\n",
       " <matplotlib.lines.Line2D at 0x7f87f8c80670>,\n",
       " <matplotlib.lines.Line2D at 0x7f87f8c80790>,\n",
       " <matplotlib.lines.Line2D at 0x7f87f8c808b0>,\n",
       " <matplotlib.lines.Line2D at 0x7f87f8c809d0>,\n",
       " <matplotlib.lines.Line2D at 0x7f87f8c80af0>,\n",
       " <matplotlib.lines.Line2D at 0x7f87f8c80c10>,\n",
       " <matplotlib.lines.Line2D at 0x7f87f8c80d30>,\n",
       " <matplotlib.lines.Line2D at 0x7f87f8c80e50>,\n",
       " <matplotlib.lines.Line2D at 0x7f87f8c80f70>,\n",
       " <matplotlib.lines.Line2D at 0x7f87f8c860d0>,\n",
       " <matplotlib.lines.Line2D at 0x7f87f8c861f0>,\n",
       " <matplotlib.lines.Line2D at 0x7f87f8c86310>,\n",
       " <matplotlib.lines.Line2D at 0x7f87f8c86430>,\n",
       " <matplotlib.lines.Line2D at 0x7f87f8c86550>,\n",
       " <matplotlib.lines.Line2D at 0x7f87f8c86670>,\n",
       " <matplotlib.lines.Line2D at 0x7f87f8c86790>,\n",
       " <matplotlib.lines.Line2D at 0x7f87f8c868b0>,\n",
       " <matplotlib.lines.Line2D at 0x7f87f8c869d0>,\n",
       " <matplotlib.lines.Line2D at 0x7f87f8c86af0>,\n",
       " <matplotlib.lines.Line2D at 0x7f87f8c86c10>,\n",
       " <matplotlib.lines.Line2D at 0x7f87f8c86d30>,\n",
       " <matplotlib.lines.Line2D at 0x7f87f8c86e50>,\n",
       " <matplotlib.lines.Line2D at 0x7f87f8c86f70>,\n",
       " <matplotlib.lines.Line2D at 0x7f87f8c8b0d0>,\n",
       " <matplotlib.lines.Line2D at 0x7f87f8c8b1f0>,\n",
       " <matplotlib.lines.Line2D at 0x7f87f8c8b310>,\n",
       " <matplotlib.lines.Line2D at 0x7f87f8c8b430>,\n",
       " <matplotlib.lines.Line2D at 0x7f87f8c8b550>,\n",
       " <matplotlib.lines.Line2D at 0x7f87f8c8b670>,\n",
       " <matplotlib.lines.Line2D at 0x7f87f8c8b790>,\n",
       " <matplotlib.lines.Line2D at 0x7f87f8c8b8b0>,\n",
       " <matplotlib.lines.Line2D at 0x7f87f8c8b9d0>,\n",
       " <matplotlib.lines.Line2D at 0x7f87f8c8baf0>,\n",
       " <matplotlib.lines.Line2D at 0x7f87f8c8bc10>,\n",
       " <matplotlib.lines.Line2D at 0x7f87f8c8bd30>,\n",
       " <matplotlib.lines.Line2D at 0x7f87f8c8be50>,\n",
       " <matplotlib.lines.Line2D at 0x7f87f8c8bf70>,\n",
       " <matplotlib.lines.Line2D at 0x7f87f8c920d0>,\n",
       " <matplotlib.lines.Line2D at 0x7f87f8c921f0>,\n",
       " <matplotlib.lines.Line2D at 0x7f87f8c92310>,\n",
       " <matplotlib.lines.Line2D at 0x7f87f8c92430>,\n",
       " <matplotlib.lines.Line2D at 0x7f87f8c92550>,\n",
       " <matplotlib.lines.Line2D at 0x7f87f8c92670>,\n",
       " <matplotlib.lines.Line2D at 0x7f87f8c92790>,\n",
       " <matplotlib.lines.Line2D at 0x7f87f8c928b0>,\n",
       " <matplotlib.lines.Line2D at 0x7f87f8c929d0>,\n",
       " <matplotlib.lines.Line2D at 0x7f87f8c92af0>,\n",
       " <matplotlib.lines.Line2D at 0x7f87f8c92c10>,\n",
       " <matplotlib.lines.Line2D at 0x7f87f8c92d30>,\n",
       " <matplotlib.lines.Line2D at 0x7f87f8c92e50>,\n",
       " <matplotlib.lines.Line2D at 0x7f87f8c92f70>,\n",
       " <matplotlib.lines.Line2D at 0x7f87f8c980d0>,\n",
       " <matplotlib.lines.Line2D at 0x7f87f8c981f0>,\n",
       " <matplotlib.lines.Line2D at 0x7f87f8c98310>,\n",
       " <matplotlib.lines.Line2D at 0x7f87f8c98430>,\n",
       " <matplotlib.lines.Line2D at 0x7f87f8c98550>,\n",
       " <matplotlib.lines.Line2D at 0x7f87f8c98670>,\n",
       " <matplotlib.lines.Line2D at 0x7f87f8c98790>,\n",
       " <matplotlib.lines.Line2D at 0x7f87f8c988b0>,\n",
       " <matplotlib.lines.Line2D at 0x7f87f8c989d0>,\n",
       " <matplotlib.lines.Line2D at 0x7f87f8c98af0>,\n",
       " <matplotlib.lines.Line2D at 0x7f87f8c98c10>,\n",
       " <matplotlib.lines.Line2D at 0x7f87f8c98d30>,\n",
       " <matplotlib.lines.Line2D at 0x7f87f8c98e50>,\n",
       " <matplotlib.lines.Line2D at 0x7f87f8c98f70>,\n",
       " <matplotlib.lines.Line2D at 0x7f87f8c9c0d0>,\n",
       " <matplotlib.lines.Line2D at 0x7f87f8c9c1f0>,\n",
       " <matplotlib.lines.Line2D at 0x7f87f8c9c310>,\n",
       " <matplotlib.lines.Line2D at 0x7f87f8c9c430>,\n",
       " <matplotlib.lines.Line2D at 0x7f87f8c9c550>,\n",
       " <matplotlib.lines.Line2D at 0x7f87f8c9c670>,\n",
       " <matplotlib.lines.Line2D at 0x7f87f8c9c790>,\n",
       " <matplotlib.lines.Line2D at 0x7f87f8c9c8b0>,\n",
       " <matplotlib.lines.Line2D at 0x7f87f8c9c9d0>,\n",
       " <matplotlib.lines.Line2D at 0x7f87f8c9caf0>,\n",
       " <matplotlib.lines.Line2D at 0x7f87f8c9cc10>,\n",
       " <matplotlib.lines.Line2D at 0x7f87f8c9cd30>,\n",
       " <matplotlib.lines.Line2D at 0x7f87f8c9ce50>,\n",
       " <matplotlib.lines.Line2D at 0x7f87f8c9cf70>,\n",
       " <matplotlib.lines.Line2D at 0x7f87f8ca30d0>,\n",
       " <matplotlib.lines.Line2D at 0x7f87f8ca31f0>,\n",
       " <matplotlib.lines.Line2D at 0x7f87f8ca3310>,\n",
       " <matplotlib.lines.Line2D at 0x7f87f8ca3430>,\n",
       " <matplotlib.lines.Line2D at 0x7f87f8ca3550>,\n",
       " <matplotlib.lines.Line2D at 0x7f87f8ca3670>,\n",
       " <matplotlib.lines.Line2D at 0x7f87f8ca3790>,\n",
       " <matplotlib.lines.Line2D at 0x7f87f8ca38b0>,\n",
       " <matplotlib.lines.Line2D at 0x7f87f8ca39d0>,\n",
       " <matplotlib.lines.Line2D at 0x7f87f8ca3af0>,\n",
       " <matplotlib.lines.Line2D at 0x7f87f8ca3c10>,\n",
       " <matplotlib.lines.Line2D at 0x7f87f8ca3d30>,\n",
       " <matplotlib.lines.Line2D at 0x7f87f8ca3e50>,\n",
       " <matplotlib.lines.Line2D at 0x7f87f8ca3f70>,\n",
       " <matplotlib.lines.Line2D at 0x7f87f8ca80d0>,\n",
       " <matplotlib.lines.Line2D at 0x7f87f8ca81f0>,\n",
       " <matplotlib.lines.Line2D at 0x7f87f8ca8310>,\n",
       " <matplotlib.lines.Line2D at 0x7f87f8ca8430>,\n",
       " <matplotlib.lines.Line2D at 0x7f87f8ca8550>,\n",
       " <matplotlib.lines.Line2D at 0x7f87f8ca8670>,\n",
       " <matplotlib.lines.Line2D at 0x7f87f8ca8790>,\n",
       " <matplotlib.lines.Line2D at 0x7f87f8ca88b0>,\n",
       " <matplotlib.lines.Line2D at 0x7f87f8ca89d0>,\n",
       " <matplotlib.lines.Line2D at 0x7f87f8ca8af0>,\n",
       " <matplotlib.lines.Line2D at 0x7f87f8ca8c10>,\n",
       " <matplotlib.lines.Line2D at 0x7f87f8ca8d30>,\n",
       " <matplotlib.lines.Line2D at 0x7f87f8ca8e50>,\n",
       " <matplotlib.lines.Line2D at 0x7f87f8ca8f70>,\n",
       " <matplotlib.lines.Line2D at 0x7f87f8cae0d0>,\n",
       " <matplotlib.lines.Line2D at 0x7f87f8cae1f0>,\n",
       " <matplotlib.lines.Line2D at 0x7f87f8cae310>,\n",
       " <matplotlib.lines.Line2D at 0x7f87f8cae430>,\n",
       " <matplotlib.lines.Line2D at 0x7f87f8cae550>,\n",
       " <matplotlib.lines.Line2D at 0x7f87f8cae670>,\n",
       " <matplotlib.lines.Line2D at 0x7f87f8cae790>,\n",
       " <matplotlib.lines.Line2D at 0x7f87f8cae8b0>,\n",
       " <matplotlib.lines.Line2D at 0x7f87f8cae9d0>,\n",
       " <matplotlib.lines.Line2D at 0x7f87f8caeaf0>,\n",
       " <matplotlib.lines.Line2D at 0x7f87f8caec10>,\n",
       " <matplotlib.lines.Line2D at 0x7f87f8caed30>,\n",
       " <matplotlib.lines.Line2D at 0x7f87f8caee50>,\n",
       " <matplotlib.lines.Line2D at 0x7f87f8caef70>,\n",
       " <matplotlib.lines.Line2D at 0x7f87f8cb40d0>,\n",
       " <matplotlib.lines.Line2D at 0x7f87f8cb41f0>,\n",
       " <matplotlib.lines.Line2D at 0x7f87f8cb4310>,\n",
       " <matplotlib.lines.Line2D at 0x7f87f8cb4430>,\n",
       " <matplotlib.lines.Line2D at 0x7f87f8cb4550>,\n",
       " <matplotlib.lines.Line2D at 0x7f87f8cb4670>,\n",
       " <matplotlib.lines.Line2D at 0x7f87f8cb4790>,\n",
       " <matplotlib.lines.Line2D at 0x7f87f8cb48b0>,\n",
       " <matplotlib.lines.Line2D at 0x7f87f8cb49d0>,\n",
       " <matplotlib.lines.Line2D at 0x7f87f8cb4af0>,\n",
       " <matplotlib.lines.Line2D at 0x7f87f8cb4c10>,\n",
       " <matplotlib.lines.Line2D at 0x7f87f8cb4d30>,\n",
       " <matplotlib.lines.Line2D at 0x7f87f8cb4e50>,\n",
       " <matplotlib.lines.Line2D at 0x7f87f8cb4f70>,\n",
       " <matplotlib.lines.Line2D at 0x7f87f8cb90d0>,\n",
       " <matplotlib.lines.Line2D at 0x7f87f8cb91f0>,\n",
       " <matplotlib.lines.Line2D at 0x7f87f8cb9310>,\n",
       " <matplotlib.lines.Line2D at 0x7f87f8cb9430>,\n",
       " <matplotlib.lines.Line2D at 0x7f87f8cb9550>,\n",
       " <matplotlib.lines.Line2D at 0x7f87f8cb9670>,\n",
       " <matplotlib.lines.Line2D at 0x7f87f8cb9790>,\n",
       " <matplotlib.lines.Line2D at 0x7f87f8cb98b0>,\n",
       " <matplotlib.lines.Line2D at 0x7f87f8cb99d0>,\n",
       " <matplotlib.lines.Line2D at 0x7f87f8cb9af0>,\n",
       " <matplotlib.lines.Line2D at 0x7f87f8cb9c10>,\n",
       " <matplotlib.lines.Line2D at 0x7f87f8cb9d30>,\n",
       " <matplotlib.lines.Line2D at 0x7f87f8cb9e50>,\n",
       " <matplotlib.lines.Line2D at 0x7f87f8cb9f70>,\n",
       " <matplotlib.lines.Line2D at 0x7f87f8cbf0d0>,\n",
       " <matplotlib.lines.Line2D at 0x7f87f8cbf1f0>,\n",
       " <matplotlib.lines.Line2D at 0x7f87f8cbf310>,\n",
       " <matplotlib.lines.Line2D at 0x7f87f8cbf430>,\n",
       " <matplotlib.lines.Line2D at 0x7f87f8cbf550>,\n",
       " <matplotlib.lines.Line2D at 0x7f87f8cbf670>,\n",
       " <matplotlib.lines.Line2D at 0x7f87f8cbf790>,\n",
       " <matplotlib.lines.Line2D at 0x7f87f8cbf8b0>,\n",
       " <matplotlib.lines.Line2D at 0x7f87f8cbf9d0>,\n",
       " <matplotlib.lines.Line2D at 0x7f87f8cbfaf0>,\n",
       " <matplotlib.lines.Line2D at 0x7f87f8cbfc10>,\n",
       " <matplotlib.lines.Line2D at 0x7f87f8cbfd30>,\n",
       " <matplotlib.lines.Line2D at 0x7f87f8cbfe50>,\n",
       " <matplotlib.lines.Line2D at 0x7f87f8cbff70>,\n",
       " <matplotlib.lines.Line2D at 0x7f87f9e690d0>,\n",
       " <matplotlib.lines.Line2D at 0x7f87f9e691f0>,\n",
       " <matplotlib.lines.Line2D at 0x7f87f9e69310>,\n",
       " <matplotlib.lines.Line2D at 0x7f87f9e69430>,\n",
       " <matplotlib.lines.Line2D at 0x7f87f9e69550>,\n",
       " <matplotlib.lines.Line2D at 0x7f87f9e69670>,\n",
       " <matplotlib.lines.Line2D at 0x7f87f9e69790>,\n",
       " <matplotlib.lines.Line2D at 0x7f87f9e698b0>,\n",
       " <matplotlib.lines.Line2D at 0x7f87f9e699d0>,\n",
       " <matplotlib.lines.Line2D at 0x7f87f9e69af0>,\n",
       " <matplotlib.lines.Line2D at 0x7f87f9e69c10>,\n",
       " <matplotlib.lines.Line2D at 0x7f87f9e69d30>,\n",
       " <matplotlib.lines.Line2D at 0x7f87f9e69e50>,\n",
       " <matplotlib.lines.Line2D at 0x7f87f9e69f70>,\n",
       " <matplotlib.lines.Line2D at 0x7f87f9e6f0d0>,\n",
       " <matplotlib.lines.Line2D at 0x7f87f9e6f1f0>,\n",
       " <matplotlib.lines.Line2D at 0x7f87f9e6f310>,\n",
       " <matplotlib.lines.Line2D at 0x7f87f9e6f430>,\n",
       " <matplotlib.lines.Line2D at 0x7f87f9e6f550>,\n",
       " <matplotlib.lines.Line2D at 0x7f87f9e6f6a0>,\n",
       " <matplotlib.lines.Line2D at 0x7f87f9e6f7c0>,\n",
       " <matplotlib.lines.Line2D at 0x7f87f9e6f8e0>,\n",
       " <matplotlib.lines.Line2D at 0x7f87f9e6fa00>,\n",
       " <matplotlib.lines.Line2D at 0x7f87f9e6fb20>,\n",
       " <matplotlib.lines.Line2D at 0x7f87f9e6fc40>,\n",
       " <matplotlib.lines.Line2D at 0x7f87f9e6fd60>,\n",
       " <matplotlib.lines.Line2D at 0x7f87f9e6fe80>,\n",
       " <matplotlib.lines.Line2D at 0x7f87f9e6ffa0>,\n",
       " <matplotlib.lines.Line2D at 0x7f87f9e74100>,\n",
       " <matplotlib.lines.Line2D at 0x7f87f9e74220>,\n",
       " <matplotlib.lines.Line2D at 0x7f87f9e74340>,\n",
       " <matplotlib.lines.Line2D at 0x7f87f9e74460>,\n",
       " <matplotlib.lines.Line2D at 0x7f87f9e74580>,\n",
       " <matplotlib.lines.Line2D at 0x7f87f9e746a0>,\n",
       " <matplotlib.lines.Line2D at 0x7f87f9e747c0>,\n",
       " <matplotlib.lines.Line2D at 0x7f87f9e748e0>,\n",
       " <matplotlib.lines.Line2D at 0x7f87f9e74a00>,\n",
       " <matplotlib.lines.Line2D at 0x7f87f9e74b20>,\n",
       " <matplotlib.lines.Line2D at 0x7f87f9e74c40>,\n",
       " <matplotlib.lines.Line2D at 0x7f87f9e74d60>,\n",
       " <matplotlib.lines.Line2D at 0x7f87f9e74e80>,\n",
       " <matplotlib.lines.Line2D at 0x7f87f9e74fa0>,\n",
       " <matplotlib.lines.Line2D at 0x7f87f9e7a100>,\n",
       " <matplotlib.lines.Line2D at 0x7f87f9e7a220>,\n",
       " <matplotlib.lines.Line2D at 0x7f87f9e7a340>,\n",
       " <matplotlib.lines.Line2D at 0x7f87f9e7a460>,\n",
       " <matplotlib.lines.Line2D at 0x7f87f9e7a580>,\n",
       " <matplotlib.lines.Line2D at 0x7f87f9e7a6a0>,\n",
       " <matplotlib.lines.Line2D at 0x7f87f9e7a7c0>,\n",
       " <matplotlib.lines.Line2D at 0x7f87f9e7a8e0>,\n",
       " <matplotlib.lines.Line2D at 0x7f87f9e7aa00>,\n",
       " <matplotlib.lines.Line2D at 0x7f87f9e7ab20>,\n",
       " <matplotlib.lines.Line2D at 0x7f87f9e7ac40>,\n",
       " <matplotlib.lines.Line2D at 0x7f87f9e7ad60>,\n",
       " <matplotlib.lines.Line2D at 0x7f87f9e7ae80>,\n",
       " <matplotlib.lines.Line2D at 0x7f87f9e7afa0>,\n",
       " <matplotlib.lines.Line2D at 0x7f87f9e80100>,\n",
       " <matplotlib.lines.Line2D at 0x7f87f9e80220>,\n",
       " <matplotlib.lines.Line2D at 0x7f87f9e80340>,\n",
       " <matplotlib.lines.Line2D at 0x7f87f9e80460>,\n",
       " <matplotlib.lines.Line2D at 0x7f87f9e80580>,\n",
       " <matplotlib.lines.Line2D at 0x7f87f9e806a0>,\n",
       " <matplotlib.lines.Line2D at 0x7f87f9e807c0>,\n",
       " <matplotlib.lines.Line2D at 0x7f87f9e808e0>,\n",
       " <matplotlib.lines.Line2D at 0x7f87f9e80a00>,\n",
       " <matplotlib.lines.Line2D at 0x7f87f9e80b20>,\n",
       " <matplotlib.lines.Line2D at 0x7f87f9e80c40>,\n",
       " <matplotlib.lines.Line2D at 0x7f87f9e80d60>,\n",
       " <matplotlib.lines.Line2D at 0x7f87f9e80e80>,\n",
       " <matplotlib.lines.Line2D at 0x7f87f9e80fa0>,\n",
       " <matplotlib.lines.Line2D at 0x7f87f9e85100>,\n",
       " <matplotlib.lines.Line2D at 0x7f87f9e85220>,\n",
       " <matplotlib.lines.Line2D at 0x7f87f9e85340>,\n",
       " <matplotlib.lines.Line2D at 0x7f87f9e85460>,\n",
       " <matplotlib.lines.Line2D at 0x7f87f9e85580>,\n",
       " <matplotlib.lines.Line2D at 0x7f87f9e856a0>,\n",
       " <matplotlib.lines.Line2D at 0x7f87f9e857c0>,\n",
       " <matplotlib.lines.Line2D at 0x7f87f9e858e0>,\n",
       " <matplotlib.lines.Line2D at 0x7f87f9e85a00>,\n",
       " <matplotlib.lines.Line2D at 0x7f87f9e85b20>,\n",
       " <matplotlib.lines.Line2D at 0x7f87f9e85c40>,\n",
       " <matplotlib.lines.Line2D at 0x7f87f9e85d60>,\n",
       " <matplotlib.lines.Line2D at 0x7f87f9e85e80>,\n",
       " <matplotlib.lines.Line2D at 0x7f87f9e85fa0>,\n",
       " <matplotlib.lines.Line2D at 0x7f87f9e8b100>,\n",
       " <matplotlib.lines.Line2D at 0x7f87f9e8b220>,\n",
       " <matplotlib.lines.Line2D at 0x7f87f9e8b340>,\n",
       " <matplotlib.lines.Line2D at 0x7f87f9e8b460>,\n",
       " <matplotlib.lines.Line2D at 0x7f87f9e8b580>,\n",
       " <matplotlib.lines.Line2D at 0x7f87f9e8b6a0>,\n",
       " <matplotlib.lines.Line2D at 0x7f87f9e8b7c0>,\n",
       " <matplotlib.lines.Line2D at 0x7f87f9e8b8e0>,\n",
       " <matplotlib.lines.Line2D at 0x7f87f9e8ba00>,\n",
       " <matplotlib.lines.Line2D at 0x7f87f9e8bb20>,\n",
       " <matplotlib.lines.Line2D at 0x7f87f9e8bc40>,\n",
       " <matplotlib.lines.Line2D at 0x7f87f9e8bd60>,\n",
       " <matplotlib.lines.Line2D at 0x7f87f9e8be80>,\n",
       " <matplotlib.lines.Line2D at 0x7f87f9e8bfa0>,\n",
       " <matplotlib.lines.Line2D at 0x7f87f9e91100>,\n",
       " <matplotlib.lines.Line2D at 0x7f87f9e91220>,\n",
       " <matplotlib.lines.Line2D at 0x7f87f9e91340>,\n",
       " <matplotlib.lines.Line2D at 0x7f87f9e91460>,\n",
       " <matplotlib.lines.Line2D at 0x7f87f9e91580>,\n",
       " <matplotlib.lines.Line2D at 0x7f87f9e916a0>,\n",
       " <matplotlib.lines.Line2D at 0x7f87f9e917c0>,\n",
       " <matplotlib.lines.Line2D at 0x7f87f9e918e0>,\n",
       " <matplotlib.lines.Line2D at 0x7f87f9e91a00>,\n",
       " <matplotlib.lines.Line2D at 0x7f87f9e91b20>,\n",
       " <matplotlib.lines.Line2D at 0x7f87f9e91c40>,\n",
       " <matplotlib.lines.Line2D at 0x7f87f9e91d60>,\n",
       " <matplotlib.lines.Line2D at 0x7f87f9e91e80>,\n",
       " <matplotlib.lines.Line2D at 0x7f87f9e91fa0>,\n",
       " <matplotlib.lines.Line2D at 0x7f87f9e96100>,\n",
       " <matplotlib.lines.Line2D at 0x7f87f9e96220>,\n",
       " <matplotlib.lines.Line2D at 0x7f87f9e96340>,\n",
       " <matplotlib.lines.Line2D at 0x7f87f9e96460>,\n",
       " <matplotlib.lines.Line2D at 0x7f87f9e96580>,\n",
       " <matplotlib.lines.Line2D at 0x7f87f9e966a0>,\n",
       " <matplotlib.lines.Line2D at 0x7f87f9e967c0>,\n",
       " <matplotlib.lines.Line2D at 0x7f87f9e968e0>,\n",
       " <matplotlib.lines.Line2D at 0x7f87f9e96a00>,\n",
       " <matplotlib.lines.Line2D at 0x7f87f9e96b20>,\n",
       " <matplotlib.lines.Line2D at 0x7f87f9e96c40>,\n",
       " <matplotlib.lines.Line2D at 0x7f87f9e96d60>,\n",
       " <matplotlib.lines.Line2D at 0x7f87f9e96e80>,\n",
       " <matplotlib.lines.Line2D at 0x7f87f9e96fa0>,\n",
       " <matplotlib.lines.Line2D at 0x7f87f9e9d100>,\n",
       " <matplotlib.lines.Line2D at 0x7f87f9e9d220>,\n",
       " <matplotlib.lines.Line2D at 0x7f87f9e9d340>,\n",
       " <matplotlib.lines.Line2D at 0x7f87f9e9d460>,\n",
       " <matplotlib.lines.Line2D at 0x7f87f9e9d580>,\n",
       " <matplotlib.lines.Line2D at 0x7f87f9e9d6a0>,\n",
       " <matplotlib.lines.Line2D at 0x7f87f9e9d7c0>,\n",
       " <matplotlib.lines.Line2D at 0x7f87f9e9d8e0>,\n",
       " <matplotlib.lines.Line2D at 0x7f87f9e9da00>,\n",
       " <matplotlib.lines.Line2D at 0x7f87f9e9db20>,\n",
       " <matplotlib.lines.Line2D at 0x7f87f9e9dc40>,\n",
       " <matplotlib.lines.Line2D at 0x7f87f9e9dd60>,\n",
       " <matplotlib.lines.Line2D at 0x7f87f9e9de80>,\n",
       " <matplotlib.lines.Line2D at 0x7f87f9e9dfa0>,\n",
       " <matplotlib.lines.Line2D at 0x7f87f9ea2100>,\n",
       " <matplotlib.lines.Line2D at 0x7f87f9ea2220>,\n",
       " <matplotlib.lines.Line2D at 0x7f87f9ea2340>,\n",
       " <matplotlib.lines.Line2D at 0x7f87f9ea2460>,\n",
       " <matplotlib.lines.Line2D at 0x7f87f9ea2580>,\n",
       " <matplotlib.lines.Line2D at 0x7f87f9ea26a0>]"
      ]
     },
     "execution_count": 14,
     "metadata": {},
     "output_type": "execute_result"
    },
    {
     "data": {
      "image/png": "[encoded data removed]",
      "text/plain": [
       "<Figure size 432x288 with 1 Axes>"
      ]
     },
     "metadata": {
      "needs_background": "light"
     },
     "output_type": "display_data"
    }
   ],
   "source": [
    "plt.plot(ret[\"diffs\"].detach().numpy()[:], color=\"black\", alpha=0.03)"
   ]
  },
  {
   "cell_type": "code",
   "execution_count": 15,
   "id": "9a1d79d7",
   "metadata": {},
   "outputs": [
    {
     "data": {
      "text/plain": [
       "torch.Size([4688, 500])"
      ]
     },
     "execution_count": 15,
     "metadata": {},
     "output_type": "execute_result"
    }
   ],
   "source": [
    "ret[\"diffs\"].shape"
   ]
  },
  {
   "cell_type": "code",
   "execution_count": 16,
   "id": "f33d996e",
   "metadata": {},
   "outputs": [
    {
     "name": "stdout",
     "output_type": "stream",
     "text": [
      "<__main__.BinaryDataset object at 0x7f880cbb4520>\n"
     ]
    }
   ],
   "source": [
    "print(ds)"
   ]
  },
  {
   "cell_type": "code",
   "execution_count": 17,
   "id": "e2d85e4d",
   "metadata": {},
   "outputs": [
    {
     "data": {
      "text/plain": [
       "torch.Size([10000, 500])"
      ]
     },
     "execution_count": 17,
     "metadata": {},
     "output_type": "execute_result"
    }
   ],
   "source": [
    "ds.samples.shape"
   ]
  },
  {
   "cell_type": "code",
   "execution_count": 18,
   "id": "9d0d7514",
   "metadata": {},
   "outputs": [
    {
     "data": {
      "text/plain": [
       "tensor([[0.3301, 0.0000],\n",
       "        [0.0000, 0.1489]])"
      ]
     },
     "execution_count": 18,
     "metadata": {},
     "output_type": "execute_result"
    }
   ],
   "source": [
    "xs = torch.rand((2,2))\n",
    "idx = torch.Tensor([[0,1],[1,0]]).bool()\n",
    "xs[idx] = (xs[idx] > 0.5).float()\n",
    "xs"
   ]
  },
  {
   "cell_type": "code",
   "execution_count": 19,
   "id": "c4a41bd7",
   "metadata": {},
   "outputs": [
    {
     "data": {
      "text/plain": [
       "2"
      ]
     },
     "execution_count": 19,
     "metadata": {},
     "output_type": "execute_result"
    }
   ],
   "source": [
    "len(torch.ones((4,5)).shape)"
   ]
  },
  {
   "cell_type": "code",
   "execution_count": 20,
   "id": "3b19f819",
   "metadata": {},
   "outputs": [
    {
     "data": {
      "text/plain": [
       "tensor([[0., 2.],\n",
       "        [1., 2.]])"
      ]
     },
     "execution_count": 20,
     "metadata": {},
     "output_type": "execute_result"
    }
   ],
   "source": [
    "xs = torch.arange(3) + torch.zeros(2,1)\n",
    "idxs = keepidx((2,3), n=2, dim=1)\n",
    "vals = xs[idxs]\n",
    "vals = vals.reshape(*xs.shape[:-1], 2)\n",
    "vals"
   ]
  },
  {
   "cell_type": "code",
   "execution_count": null,
   "id": "ba4a049d",
   "metadata": {},
   "outputs": [],
   "source": []
  },
  {
   "cell_type": "code",
   "execution_count": 21,
   "id": "d58c97c2",
   "metadata": {},
   "outputs": [
    {
     "ename": "NameError",
     "evalue": "name 'take_rand_n' is not defined",
     "output_type": "error",
     "traceback": [
      "\u001b[0;31m---------------------------------------------------------------------------\u001b[0m",
      "\u001b[0;31mNameError\u001b[0m                                 Traceback (most recent call last)",
      "Input \u001b[0;32mIn [21]\u001b[0m, in \u001b[0;36m<cell line: 1>\u001b[0;34m()\u001b[0m\n\u001b[0;32m----> 1\u001b[0m \u001b[43mtake_rand_n\u001b[49m(torch\u001b[38;5;241m.\u001b[39marange(\u001b[38;5;241m25\u001b[39m)\u001b[38;5;241m.\u001b[39mview(\u001b[38;5;241m5\u001b[39m,\u001b[38;5;241m5\u001b[39m), \u001b[38;5;241m3\u001b[39m, dim\u001b[38;5;241m=\u001b[39m\u001b[38;5;241m0\u001b[39m)\n",
      "\u001b[0;31mNameError\u001b[0m: name 'take_rand_n' is not defined"
     ]
    }
   ],
   "source": [
    "take_rand_n(torch.arange(25).view(5,5), 3, dim=0)"
   ]
  },
  {
   "cell_type": "code",
   "execution_count": null,
   "id": "2159f693",
   "metadata": {},
   "outputs": [],
   "source": [
    "torch.arange(25).view(5,5)"
   ]
  },
  {
   "cell_type": "code",
   "execution_count": null,
   "id": "52d0856e",
   "metadata": {},
   "outputs": [],
   "source": []
  }
 ],
 "metadata": {
  "kernelspec": {
   "display_name": "Python 3",
   "language": "python",
   "name": "python3"
  },
  "language_info": {
   "codemirror_mode": {
    "name": "ipython",
    "version": 3
   },
   "file_extension": ".py",
   "mimetype": "text/x-python",
   "name": "python",
   "nbconvert_exporter": "python",
   "pygments_lexer": "ipython3",
   "version": "3.9.7"
  }
 },
 "nbformat": 4,
 "nbformat_minor": 5
}
