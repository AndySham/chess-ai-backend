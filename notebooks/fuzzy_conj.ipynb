{
 "cells": [
  {
   "cell_type": "code",
   "execution_count": 1,
   "id": "7291df85",
   "metadata": {},
   "outputs": [],
   "source": [
    "import sys\n",
    "import os\n",
    "sys.path.append(os.path.abspath('../src')) # include top level package in python path"
   ]
  },
  {
   "cell_type": "code",
   "execution_count": 2,
   "id": "c00ef21a",
   "metadata": {},
   "outputs": [
    {
     "data": {
      "text/html": [
       "\n",
       "<style>\n",
       ".container { \n",
       "    width: 100% !important;\n",
       "}\n",
       "</style>\n"
      ],
      "text/plain": [
       "<IPython.core.display.HTML object>"
      ]
     },
     "metadata": {},
     "output_type": "display_data"
    }
   ],
   "source": [
    "from IPython.display import display, HTML\n",
    "display(HTML(\"\"\"\n",
    "<style>\n",
    ".container { \n",
    "    width: 100% !important;\n",
    "}\n",
    "</style>\n",
    "\"\"\"))"
   ]
  },
  {
   "cell_type": "code",
   "execution_count": 3,
   "id": "2926b991",
   "metadata": {},
   "outputs": [],
   "source": [
    "import torch\n",
    "from torch import nn, Tensor\n",
    "from model.fuzzy_layer import FuzzyUnsignedConjunction, FuzzyUnsignedDisjunction, FuzzyNumKeepup, keepidx, fuzzy_dropup\n",
    "from model.fuzzy_logic import ProductLogic, MinimumLogic, LukasiewiczLogic, DrasticLogic, SchweizerSklarLogic\n",
    "from model.fuzzy_layer import FuzzyParam, FuzzyLoss\n",
    "from model.bool_logic import BoolLogic\n",
    "from cache import TrainingRegime, TestMetric\n",
    "import matplotlib.pyplot as plt\n",
    "from tqdm.notebook import tqdm\n",
    "from util import shuffle\n",
    "\n",
    "logic = BoolLogic()\n",
    "flogic = ProductLogic()"
   ]
  },
  {
   "cell_type": "code",
   "execution_count": 4,
   "id": "f204489a",
   "metadata": {},
   "outputs": [],
   "source": [
    "device = 'cuda'"
   ]
  },
  {
   "cell_type": "code",
   "execution_count": 5,
   "id": "7c59c22b",
   "metadata": {},
   "outputs": [],
   "source": [
    "def true_conjunction(weights, xs):\n",
    "    return logic.conjoin(logic.implies(weights, xs), dim=1)"
   ]
  },
  {
   "cell_type": "code",
   "execution_count": 6,
   "id": "06d3a20f",
   "metadata": {},
   "outputs": [],
   "source": [
    "from torch.utils.data import Dataset, DataLoader, RandomSampler\n",
    "\n",
    "class WeightedDataset(Dataset):\n",
    "    def __init__(self, N, D, K):\n",
    "        super().__init__()\n",
    "        self.samples = torch.zeros((N, D), dtype=torch.bool)\n",
    "        self.samples[:,:K] = True\n",
    "        self.samples = shuffle(self.samples, dim=-1)\n",
    "        \n",
    "    def __len__(self):\n",
    "        return self.samples.size(0)\n",
    "        \n",
    "    def __getitem__(self, idx):\n",
    "        return self.samples[idx]\n",
    "\n",
    "class BinaryDataset(Dataset):\n",
    "    def __init__(self, shape, N):\n",
    "        self.samples = torch.distributions.bernoulli.Bernoulli(\n",
    "            0.5\n",
    "        ).sample(\n",
    "            torch.Size([N, *shape])\n",
    "        ).bool()\n",
    "        \n",
    "    def __len__(self):\n",
    "        return self.samples.size(0)\n",
    "    \n",
    "    def __getitem__(self, idx):\n",
    "        return self.samples[idx]"
   ]
  },
  {
   "cell_type": "code",
   "execution_count": 7,
   "id": "203dd0f5",
   "metadata": {},
   "outputs": [],
   "source": [
    "class CorrectParamMetric(TestMetric):\n",
    "    def __init__(self, ideal_params):\n",
    "        self.ideal_params = ideal_params\n",
    "    \n",
    "    def name(self):\n",
    "        return \"correct-param\"\n",
    "\n",
    "    def measure_model(self, model, _):\n",
    "        params = (model.weights.value() > 0.5).flatten()\n",
    "        no_correct = (self.ideal_params == params).sum()\n",
    "        return (no_correct / params.numel()).item()\n",
    "    \n",
    "class ParamMeanDistanceMetric(TestMetric):\n",
    "    def __init__(self, ideal_params):\n",
    "        self.ideal_params = ideal_params\n",
    "        \n",
    "    def name(self):\n",
    "        return \"param-mean-distance\"\n",
    "    \n",
    "    def measure_model(self, model, _):\n",
    "        params = model.weights.value().flatten()\n",
    "        crispness = (params - self.ideal_params.float()).abs().mean()\n",
    "        return crispness.item()\n",
    "    \n",
    "class ParamMaxDistanceMetric(TestMetric):\n",
    "    def __init__(self, ideal_params):\n",
    "        self.ideal_params = ideal_params\n",
    "        \n",
    "    def name(self):\n",
    "        return \"param-max-distance\"\n",
    "    \n",
    "    def measure_model(self, model, _):\n",
    "        params = model.weights.value().flatten()\n",
    "        crispness = (params - self.ideal_params.float()).abs().max()\n",
    "        return crispness.item()\n",
    "    \n",
    "class CorrectOutputMetric(TestMetric):\n",
    "    def __init__(self, ideal_params):\n",
    "        self.ideal_params = ideal_params\n",
    "        \n",
    "    def name(self):\n",
    "        return \"correct-output\"\n",
    "    \n",
    "    def measure_model(self, model, it):\n",
    "        count = 0\n",
    "        correct = 0\n",
    "        for bs in it():\n",
    "            bs = model._logic.encode(bs.to(device))\n",
    "            pred = (model(bs) > 0.5).flatten()\n",
    "            true = true_conjunction(self.ideal_params, bs)\n",
    "            correct += (pred == true).sum().item()\n",
    "            count += bs.size(dim=0)\n",
    "        return (correct / count)\n",
    "    \n",
    "class OutputDistanceMetric(TestMetric):\n",
    "    def __init__(self, ideal_params):\n",
    "        self.ideal_params = ideal_params\n",
    "        \n",
    "    def name(self):\n",
    "        return \"output-distance\"\n",
    "    \n",
    "    def measure_model(self, model, it):\n",
    "        count = 0\n",
    "        correct = 0\n",
    "        for bs in it():\n",
    "            bs = model._logic.encode(bs.to(device))\n",
    "            pred = model(bs).flatten()\n",
    "            true = true_conjunction(self.ideal_params, bs)\n",
    "            correct += (pred - true.float()).abs().sum().item()\n",
    "            count += bs.size(dim=0)\n",
    "        return (correct / count)"
   ]
  },
  {
   "cell_type": "code",
   "execution_count": 8,
   "id": "a1c4f88f",
   "metadata": {},
   "outputs": [],
   "source": [
    "def rand_n_true(shape, N):\n",
    "    falses = torch.zeros(shape, dtype=torch.bool)\n",
    "    falses = falses.view(-1)\n",
    "    falses[:N] = True\n",
    "    falses = falses[torch.randperm(falses.size(0))]\n",
    "    return falses.view(*shape)"
   ]
  },
  {
   "cell_type": "code",
   "execution_count": 9,
   "id": "475d8140",
   "metadata": {},
   "outputs": [],
   "source": [
    "class ConjModel(torch.nn.Module):\n",
    "    def __init__(self, no_dims, logic, keepn, fix_imbalance):\n",
    "        super().__init__()\n",
    "        self.model = FuzzyUnsignedConjunction(\n",
    "            in_features=no_dims, \n",
    "            out_features=1, \n",
    "            logic=logic, \n",
    "            keepn=keepn,\n",
    "        )\n",
    "        \n",
    "    def forward(self, xs, y):\n",
    "        y_hat = self.model(xs).squeeze()\n",
    "        return self.loss(y, y_hat)"
   ]
  },
  {
   "cell_type": "code",
   "execution_count": 23,
   "id": "8c88b1fa",
   "metadata": {},
   "outputs": [],
   "source": [
    "class ConjunctionRegime(TrainingRegime):\n",
    "    def __init__(self, logic, no_dims=1000, no_terms=5, no_runs=1, keepn=None, optim='adam', lr=1e-2, fix_imbalance=False):\n",
    "        super().__init__(\"./conjunctions/\", no_runs)\n",
    "        \n",
    "        self.flogic = logic\n",
    "        self.no_dims = no_dims\n",
    "        self.no_terms = no_terms\n",
    "        self.keepn = keepn\n",
    "        self.optim = 'adam' if optim == 'adam' else 'sgd'\n",
    "        self.lr = lr\n",
    "        self.fix_imbalance = fix_imbalance\n",
    "        \n",
    "        self.weights = self.cache(\n",
    "            \"weights\", \n",
    "            lambda: rand_n_true([self.no_dims], self.no_terms).to(device)\n",
    "        )\n",
    "        \n",
    "        self.tests = [\n",
    "            OutputDistanceMetric(self.weights),\n",
    "            CorrectOutputMetric(self.weights),\n",
    "            CorrectParamMetric(self.weights),\n",
    "            ParamMeanDistanceMetric(self.weights),\n",
    "            ParamMaxDistanceMetric(self.weights),\n",
    "        ]\n",
    "        \n",
    "        self.training_dataset = BinaryDataset([self.no_dims], 10_000)\n",
    "        self.testing_dataset = BinaryDataset([self.no_dims], 10_000)\n",
    "        \n",
    "        self.optims = [None] * no_runs\n",
    "        self.losses = [None] * no_runs\n",
    "        \n",
    "    def get_logic_str(self):\n",
    "        if isinstance(self.flogic, ProductLogic):\n",
    "            return \"product\"\n",
    "        elif isinstance(self.flogic, MinimumLogic):\n",
    "            return \"minimum\"\n",
    "        elif isinstance(self.flogic, LukasiewiczLogic):\n",
    "            return \"lukasiewicz\"\n",
    "        elif isinstance(self.flogic, DrasticLogic):\n",
    "            return \"drastic\"\n",
    "        elif isinstance(self.flogic, SchweizerSklarLogic):\n",
    "            return \"schweizer-sklar\"\n",
    "        else:\n",
    "            return \"fuzzy\"\n",
    "        \n",
    "    def get_optim(self, run_no):\n",
    "        optim = self.optims[run_no - 1]\n",
    "        if optim is None:\n",
    "            model = self.get_loaded_model(run_no)\n",
    "            optim = self.optims[run_no - 1] = (\n",
    "                torch.optim.SGD(model.parameters(), lr=self.lr)\n",
    "                if self.optim == \"sgd\"\n",
    "                else torch.optim.Adam(model.parameters(), lr=self.lr)\n",
    "            )\n",
    "        return optim\n",
    "    \n",
    "    def get_loss(self, run_no):\n",
    "        loss = self.losses[run_no - 1]\n",
    "        if loss is None:\n",
    "            loss = self.losses[run_no - 1] = (\n",
    "                FuzzyLoss(logic=self.flogic, exp=10, memory=0.99, fix_imbalance=True)\n",
    "                if self.fix_imbalance\n",
    "                else FuzzyLoss(logic=self.flogic, exp=10, memory=0, fix_imbalance=False)\n",
    "            )\n",
    "        return loss\n",
    "        \n",
    "    def regime_str(self):\n",
    "        keep_str = \"\" if self.keepn is None else \" | KEEP N = %s\" % self.keepn\n",
    "        imbalance_str = \" | FIX IMBALANCE\" if self.fix_imbalance else \"\"\n",
    "        return (\n",
    "            \"CONJUNCTIONS | %s, LR = %s | %s LOGIC | %s DIMENSIONS | %s TERMS%s%s\"\n",
    "            % (\n",
    "                self.optim.upper(), \n",
    "                self.lr,\n",
    "                self.get_logic_str().upper(), \n",
    "                self.no_dims, \n",
    "                self.no_terms, \n",
    "                keep_str,\n",
    "                imbalance_str\n",
    "                \n",
    "            )\n",
    "        ) \n",
    "        \n",
    "    def regime_filename_elems(self):\n",
    "        elems = [\n",
    "            \"conj\", \n",
    "            self.optim,\n",
    "            str(self.lr),\n",
    "            self.get_logic_str(),\n",
    "            \"%sdims\" % self.no_dims,\n",
    "            \"%sterms\" % self.no_terms\n",
    "        ]\n",
    "        if self.keepn is not None:\n",
    "            elems.append(\"keep%s\" % self.keepn)\n",
    "        if self.fix_imbalance:\n",
    "            elems.append(\"fiximb\")\n",
    "        return elems\n",
    "        \n",
    "    def training_dataloader(self, run_no):\n",
    "        return DataLoader(self.training_dataset, batch_size=128)\n",
    "    \n",
    "    def testing_dataloader(self, run_no):\n",
    "        return DataLoader(self.testing_dataset, batch_size=128)\n",
    "    \n",
    "    def training_step(self, run_no, model):\n",
    "        optim = self.get_optim(run_no)\n",
    "        loss_fn = self.get_loss(run_no)\n",
    "        \n",
    "        def step(bs):\n",
    "            bs = bs.cuda()\n",
    "            cjs = true_conjunction(self.weights, bs)\n",
    "            cj_hats = model(self.flogic.encode(bs)).squeeze()\n",
    "            loss = loss_fn(self.flogic.encode(cjs), cj_hats)\n",
    "                \n",
    "            optim.zero_grad()\n",
    "            loss.backward()\n",
    "            optim.step()\n",
    "            \n",
    "        return step\n",
    "        \n",
    "    def new_model(self):\n",
    "        return FuzzyUnsignedConjunction(\n",
    "            in_features=self.no_dims,\n",
    "            out_features=1,\n",
    "            logic=self.flogic, \n",
    "            keepn=self.keepn,\n",
    "        ).to(device)"
   ]
  },
  {
   "cell_type": "code",
   "execution_count": 24,
   "id": "9d57a16b",
   "metadata": {},
   "outputs": [
    {
     "data": {
      "application/vnd.jupyter.widget-view+json": {
       "model_id": "",
       "version_major": 2,
       "version_minor": 0
      },
      "text/plain": [
       "[CONJUNCTIONS | ADAM, LR = 0.01 | PRODUCT LOGIC | 10 DIMENSIONS | 5 TERMS | FIX IMBALANCE] Run #1, Epoch #1, T…"
      ]
     },
     "metadata": {},
     "output_type": "display_data"
    },
    {
     "data": {
      "application/vnd.jupyter.widget-view+json": {
       "model_id": "",
       "version_major": 2,
       "version_minor": 0
      },
      "text/plain": [
       "[CONJUNCTIONS | ADAM, LR = 0.01 | PRODUCT LOGIC | 10 DIMENSIONS | 5 TERMS | FIX IMBALANCE] Run #1, Epoch #1, T…"
      ]
     },
     "metadata": {},
     "output_type": "display_data"
    },
    {
     "data": {
      "application/vnd.jupyter.widget-view+json": {
       "model_id": "",
       "version_major": 2,
       "version_minor": 0
      },
      "text/plain": [
       "[CONJUNCTIONS | ADAM, LR = 0.01 | PRODUCT LOGIC | 10 DIMENSIONS | 5 TERMS | FIX IMBALANCE] Run #1, Epoch #1, T…"
      ]
     },
     "metadata": {},
     "output_type": "display_data"
    },
    {
     "data": {
      "application/vnd.jupyter.widget-view+json": {
       "model_id": "",
       "version_major": 2,
       "version_minor": 0
      },
      "text/plain": [
       "[CONJUNCTIONS | ADAM, LR = 0.01 | PRODUCT LOGIC | 10 DIMENSIONS | 5 TERMS | FIX IMBALANCE] Run #1, Epoch #2, T…"
      ]
     },
     "metadata": {},
     "output_type": "display_data"
    },
    {
     "data": {
      "application/vnd.jupyter.widget-view+json": {
       "model_id": "",
       "version_major": 2,
       "version_minor": 0
      },
      "text/plain": [
       "[CONJUNCTIONS | ADAM, LR = 0.01 | PRODUCT LOGIC | 10 DIMENSIONS | 5 TERMS | FIX IMBALANCE] Run #1, Epoch #2, T…"
      ]
     },
     "metadata": {},
     "output_type": "display_data"
    },
    {
     "data": {
      "application/vnd.jupyter.widget-view+json": {
       "model_id": "",
       "version_major": 2,
       "version_minor": 0
      },
      "text/plain": [
       "[CONJUNCTIONS | ADAM, LR = 0.01 | PRODUCT LOGIC | 10 DIMENSIONS | 5 TERMS | FIX IMBALANCE] Run #1, Epoch #2, T…"
      ]
     },
     "metadata": {},
     "output_type": "display_data"
    },
    {
     "data": {
      "application/vnd.jupyter.widget-view+json": {
       "model_id": "",
       "version_major": 2,
       "version_minor": 0
      },
      "text/plain": [
       "[CONJUNCTIONS | ADAM, LR = 0.01 | PRODUCT LOGIC | 10 DIMENSIONS | 5 TERMS | FIX IMBALANCE] Run #1, Epoch #3, T…"
      ]
     },
     "metadata": {},
     "output_type": "display_data"
    },
    {
     "data": {
      "application/vnd.jupyter.widget-view+json": {
       "model_id": "",
       "version_major": 2,
       "version_minor": 0
      },
      "text/plain": [
       "[CONJUNCTIONS | ADAM, LR = 0.01 | PRODUCT LOGIC | 10 DIMENSIONS | 5 TERMS | FIX IMBALANCE] Run #1, Epoch #3, T…"
      ]
     },
     "metadata": {},
     "output_type": "display_data"
    },
    {
     "data": {
      "application/vnd.jupyter.widget-view+json": {
       "model_id": "",
       "version_major": 2,
       "version_minor": 0
      },
      "text/plain": [
       "[CONJUNCTIONS | ADAM, LR = 0.01 | PRODUCT LOGIC | 10 DIMENSIONS | 5 TERMS | FIX IMBALANCE] Run #1, Epoch #3, T…"
      ]
     },
     "metadata": {},
     "output_type": "display_data"
    },
    {
     "data": {
      "application/vnd.jupyter.widget-view+json": {
       "model_id": "",
       "version_major": 2,
       "version_minor": 0
      },
      "text/plain": [
       "[CONJUNCTIONS | ADAM, LR = 0.01 | PRODUCT LOGIC | 10 DIMENSIONS | 5 TERMS | FIX IMBALANCE] Run #1, Epoch #4, T…"
      ]
     },
     "metadata": {},
     "output_type": "display_data"
    },
    {
     "data": {
      "application/vnd.jupyter.widget-view+json": {
       "model_id": "",
       "version_major": 2,
       "version_minor": 0
      },
      "text/plain": [
       "[CONJUNCTIONS | ADAM, LR = 0.01 | PRODUCT LOGIC | 10 DIMENSIONS | 5 TERMS | FIX IMBALANCE] Run #1, Epoch #4, T…"
      ]
     },
     "metadata": {},
     "output_type": "display_data"
    },
    {
     "data": {
      "application/vnd.jupyter.widget-view+json": {
       "model_id": "",
       "version_major": 2,
       "version_minor": 0
      },
      "text/plain": [
       "[CONJUNCTIONS | ADAM, LR = 0.01 | PRODUCT LOGIC | 10 DIMENSIONS | 5 TERMS | FIX IMBALANCE] Run #1, Epoch #4, T…"
      ]
     },
     "metadata": {},
     "output_type": "display_data"
    },
    {
     "data": {
      "application/vnd.jupyter.widget-view+json": {
       "model_id": "",
       "version_major": 2,
       "version_minor": 0
      },
      "text/plain": [
       "[CONJUNCTIONS | ADAM, LR = 0.01 | PRODUCT LOGIC | 10 DIMENSIONS | 5 TERMS | FIX IMBALANCE] Run #1, Epoch #5, T…"
      ]
     },
     "metadata": {},
     "output_type": "display_data"
    },
    {
     "data": {
      "application/vnd.jupyter.widget-view+json": {
       "model_id": "",
       "version_major": 2,
       "version_minor": 0
      },
      "text/plain": [
       "[CONJUNCTIONS | ADAM, LR = 0.01 | PRODUCT LOGIC | 10 DIMENSIONS | 5 TERMS | FIX IMBALANCE] Run #1, Epoch #5, T…"
      ]
     },
     "metadata": {},
     "output_type": "display_data"
    },
    {
     "data": {
      "application/vnd.jupyter.widget-view+json": {
       "model_id": "",
       "version_major": 2,
       "version_minor": 0
      },
      "text/plain": [
       "[CONJUNCTIONS | ADAM, LR = 0.01 | PRODUCT LOGIC | 10 DIMENSIONS | 5 TERMS | FIX IMBALANCE] Run #1, Epoch #5, T…"
      ]
     },
     "metadata": {},
     "output_type": "display_data"
    },
    {
     "data": {
      "application/vnd.jupyter.widget-view+json": {
       "model_id": "",
       "version_major": 2,
       "version_minor": 0
      },
      "text/plain": [
       "[CONJUNCTIONS | ADAM, LR = 0.01 | PRODUCT LOGIC | 10 DIMENSIONS | 5 TERMS | FIX IMBALANCE] Run #1, Epoch #6, T…"
      ]
     },
     "metadata": {},
     "output_type": "display_data"
    },
    {
     "data": {
      "application/vnd.jupyter.widget-view+json": {
       "model_id": "",
       "version_major": 2,
       "version_minor": 0
      },
      "text/plain": [
       "[CONJUNCTIONS | ADAM, LR = 0.01 | PRODUCT LOGIC | 10 DIMENSIONS | 5 TERMS | FIX IMBALANCE] Run #1, Epoch #6, T…"
      ]
     },
     "metadata": {},
     "output_type": "display_data"
    },
    {
     "data": {
      "application/vnd.jupyter.widget-view+json": {
       "model_id": "",
       "version_major": 2,
       "version_minor": 0
      },
      "text/plain": [
       "[CONJUNCTIONS | ADAM, LR = 0.01 | PRODUCT LOGIC | 10 DIMENSIONS | 5 TERMS | FIX IMBALANCE] Run #1, Epoch #6, T…"
      ]
     },
     "metadata": {},
     "output_type": "display_data"
    },
    {
     "data": {
      "application/vnd.jupyter.widget-view+json": {
       "model_id": "",
       "version_major": 2,
       "version_minor": 0
      },
      "text/plain": [
       "[CONJUNCTIONS | ADAM, LR = 0.01 | PRODUCT LOGIC | 10 DIMENSIONS | 5 TERMS | FIX IMBALANCE] Run #1, Epoch #7, T…"
      ]
     },
     "metadata": {},
     "output_type": "display_data"
    },
    {
     "data": {
      "application/vnd.jupyter.widget-view+json": {
       "model_id": "",
       "version_major": 2,
       "version_minor": 0
      },
      "text/plain": [
       "[CONJUNCTIONS | ADAM, LR = 0.01 | PRODUCT LOGIC | 10 DIMENSIONS | 5 TERMS | FIX IMBALANCE] Run #1, Epoch #7, T…"
      ]
     },
     "metadata": {},
     "output_type": "display_data"
    },
    {
     "data": {
      "application/vnd.jupyter.widget-view+json": {
       "model_id": "",
       "version_major": 2,
       "version_minor": 0
      },
      "text/plain": [
       "[CONJUNCTIONS | ADAM, LR = 0.01 | PRODUCT LOGIC | 10 DIMENSIONS | 5 TERMS | FIX IMBALANCE] Run #1, Epoch #7, T…"
      ]
     },
     "metadata": {},
     "output_type": "display_data"
    },
    {
     "data": {
      "application/vnd.jupyter.widget-view+json": {
       "model_id": "",
       "version_major": 2,
       "version_minor": 0
      },
      "text/plain": [
       "[CONJUNCTIONS | ADAM, LR = 0.01 | PRODUCT LOGIC | 10 DIMENSIONS | 5 TERMS | FIX IMBALANCE] Run #1, Epoch #8, T…"
      ]
     },
     "metadata": {},
     "output_type": "display_data"
    },
    {
     "data": {
      "application/vnd.jupyter.widget-view+json": {
       "model_id": "",
       "version_major": 2,
       "version_minor": 0
      },
      "text/plain": [
       "[CONJUNCTIONS | ADAM, LR = 0.01 | PRODUCT LOGIC | 10 DIMENSIONS | 5 TERMS | FIX IMBALANCE] Run #1, Epoch #8, T…"
      ]
     },
     "metadata": {},
     "output_type": "display_data"
    },
    {
     "data": {
      "application/vnd.jupyter.widget-view+json": {
       "model_id": "",
       "version_major": 2,
       "version_minor": 0
      },
      "text/plain": [
       "[CONJUNCTIONS | ADAM, LR = 0.01 | PRODUCT LOGIC | 10 DIMENSIONS | 5 TERMS | FIX IMBALANCE] Run #1, Epoch #8, T…"
      ]
     },
     "metadata": {},
     "output_type": "display_data"
    },
    {
     "data": {
      "application/vnd.jupyter.widget-view+json": {
       "model_id": "",
       "version_major": 2,
       "version_minor": 0
      },
      "text/plain": [
       "[CONJUNCTIONS | ADAM, LR = 0.01 | PRODUCT LOGIC | 10 DIMENSIONS | 5 TERMS | FIX IMBALANCE] Run #1, Epoch #9, T…"
      ]
     },
     "metadata": {},
     "output_type": "display_data"
    },
    {
     "data": {
      "application/vnd.jupyter.widget-view+json": {
       "model_id": "",
       "version_major": 2,
       "version_minor": 0
      },
      "text/plain": [
       "[CONJUNCTIONS | ADAM, LR = 0.01 | PRODUCT LOGIC | 10 DIMENSIONS | 5 TERMS | FIX IMBALANCE] Run #1, Epoch #9, T…"
      ]
     },
     "metadata": {},
     "output_type": "display_data"
    },
    {
     "data": {
      "application/vnd.jupyter.widget-view+json": {
       "model_id": "",
       "version_major": 2,
       "version_minor": 0
      },
      "text/plain": [
       "[CONJUNCTIONS | ADAM, LR = 0.01 | PRODUCT LOGIC | 10 DIMENSIONS | 5 TERMS | FIX IMBALANCE] Run #1, Epoch #9, T…"
      ]
     },
     "metadata": {},
     "output_type": "display_data"
    },
    {
     "data": {
      "application/vnd.jupyter.widget-view+json": {
       "model_id": "",
       "version_major": 2,
       "version_minor": 0
      },
      "text/plain": [
       "[CONJUNCTIONS | ADAM, LR = 0.01 | PRODUCT LOGIC | 10 DIMENSIONS | 5 TERMS | FIX IMBALANCE] Run #1, Epoch #10, …"
      ]
     },
     "metadata": {},
     "output_type": "display_data"
    },
    {
     "data": {
      "application/vnd.jupyter.widget-view+json": {
       "model_id": "",
       "version_major": 2,
       "version_minor": 0
      },
      "text/plain": [
       "[CONJUNCTIONS | ADAM, LR = 0.01 | PRODUCT LOGIC | 10 DIMENSIONS | 5 TERMS | FIX IMBALANCE] Run #1, Epoch #10, …"
      ]
     },
     "metadata": {},
     "output_type": "display_data"
    },
    {
     "data": {
      "application/vnd.jupyter.widget-view+json": {
       "model_id": "",
       "version_major": 2,
       "version_minor": 0
      },
      "text/plain": [
       "[CONJUNCTIONS | ADAM, LR = 0.01 | PRODUCT LOGIC | 10 DIMENSIONS | 5 TERMS | FIX IMBALANCE] Run #1, Epoch #10, …"
      ]
     },
     "metadata": {},
     "output_type": "display_data"
    },
    {
     "data": {
      "application/vnd.jupyter.widget-view+json": {
       "model_id": "",
       "version_major": 2,
       "version_minor": 0
      },
      "text/plain": [
       "[CONJUNCTIONS | ADAM, LR = 0.01 | PRODUCT LOGIC | 10 DIMENSIONS | 5 TERMS | FIX IMBALANCE] Run #1, Epoch #11, …"
      ]
     },
     "metadata": {},
     "output_type": "display_data"
    },
    {
     "data": {
      "application/vnd.jupyter.widget-view+json": {
       "model_id": "",
       "version_major": 2,
       "version_minor": 0
      },
      "text/plain": [
       "[CONJUNCTIONS | ADAM, LR = 0.01 | PRODUCT LOGIC | 10 DIMENSIONS | 5 TERMS | FIX IMBALANCE] Run #1, Epoch #11, …"
      ]
     },
     "metadata": {},
     "output_type": "display_data"
    },
    {
     "data": {
      "application/vnd.jupyter.widget-view+json": {
       "model_id": "",
       "version_major": 2,
       "version_minor": 0
      },
      "text/plain": [
       "[CONJUNCTIONS | ADAM, LR = 0.01 | PRODUCT LOGIC | 10 DIMENSIONS | 5 TERMS | FIX IMBALANCE] Run #1, Epoch #11, …"
      ]
     },
     "metadata": {},
     "output_type": "display_data"
    },
    {
     "data": {
      "application/vnd.jupyter.widget-view+json": {
       "model_id": "",
       "version_major": 2,
       "version_minor": 0
      },
      "text/plain": [
       "[CONJUNCTIONS | ADAM, LR = 0.01 | PRODUCT LOGIC | 10 DIMENSIONS | 5 TERMS | FIX IMBALANCE] Run #1, Epoch #12, …"
      ]
     },
     "metadata": {},
     "output_type": "display_data"
    },
    {
     "data": {
      "application/vnd.jupyter.widget-view+json": {
       "model_id": "",
       "version_major": 2,
       "version_minor": 0
      },
      "text/plain": [
       "[CONJUNCTIONS | ADAM, LR = 0.01 | PRODUCT LOGIC | 10 DIMENSIONS | 5 TERMS | FIX IMBALANCE] Run #1, Epoch #12, …"
      ]
     },
     "metadata": {},
     "output_type": "display_data"
    },
    {
     "data": {
      "application/vnd.jupyter.widget-view+json": {
       "model_id": "",
       "version_major": 2,
       "version_minor": 0
      },
      "text/plain": [
       "[CONJUNCTIONS | ADAM, LR = 0.01 | PRODUCT LOGIC | 10 DIMENSIONS | 5 TERMS | FIX IMBALANCE] Run #1, Epoch #12, …"
      ]
     },
     "metadata": {},
     "output_type": "display_data"
    },
    {
     "data": {
      "application/vnd.jupyter.widget-view+json": {
       "model_id": "",
       "version_major": 2,
       "version_minor": 0
      },
      "text/plain": [
       "[CONJUNCTIONS | ADAM, LR = 0.01 | PRODUCT LOGIC | 10 DIMENSIONS | 5 TERMS | FIX IMBALANCE] Run #1, Epoch #13, …"
      ]
     },
     "metadata": {},
     "output_type": "display_data"
    },
    {
     "data": {
      "application/vnd.jupyter.widget-view+json": {
       "model_id": "",
       "version_major": 2,
       "version_minor": 0
      },
      "text/plain": [
       "[CONJUNCTIONS | ADAM, LR = 0.01 | PRODUCT LOGIC | 10 DIMENSIONS | 5 TERMS | FIX IMBALANCE] Run #1, Epoch #13, …"
      ]
     },
     "metadata": {},
     "output_type": "display_data"
    },
    {
     "data": {
      "application/vnd.jupyter.widget-view+json": {
       "model_id": "",
       "version_major": 2,
       "version_minor": 0
      },
      "text/plain": [
       "[CONJUNCTIONS | ADAM, LR = 0.01 | PRODUCT LOGIC | 10 DIMENSIONS | 5 TERMS | FIX IMBALANCE] Run #1, Epoch #13, …"
      ]
     },
     "metadata": {},
     "output_type": "display_data"
    },
    {
     "data": {
      "application/vnd.jupyter.widget-view+json": {
       "model_id": "",
       "version_major": 2,
       "version_minor": 0
      },
      "text/plain": [
       "[CONJUNCTIONS | ADAM, LR = 0.01 | PRODUCT LOGIC | 10 DIMENSIONS | 5 TERMS | FIX IMBALANCE] Run #1, Epoch #14, …"
      ]
     },
     "metadata": {},
     "output_type": "display_data"
    },
    {
     "data": {
      "application/vnd.jupyter.widget-view+json": {
       "model_id": "",
       "version_major": 2,
       "version_minor": 0
      },
      "text/plain": [
       "[CONJUNCTIONS | ADAM, LR = 0.01 | PRODUCT LOGIC | 10 DIMENSIONS | 5 TERMS | FIX IMBALANCE] Run #1, Epoch #14, …"
      ]
     },
     "metadata": {},
     "output_type": "display_data"
    },
    {
     "data": {
      "application/vnd.jupyter.widget-view+json": {
       "model_id": "",
       "version_major": 2,
       "version_minor": 0
      },
      "text/plain": [
       "[CONJUNCTIONS | ADAM, LR = 0.01 | PRODUCT LOGIC | 10 DIMENSIONS | 5 TERMS | FIX IMBALANCE] Run #1, Epoch #14, …"
      ]
     },
     "metadata": {},
     "output_type": "display_data"
    },
    {
     "data": {
      "application/vnd.jupyter.widget-view+json": {
       "model_id": "",
       "version_major": 2,
       "version_minor": 0
      },
      "text/plain": [
       "[CONJUNCTIONS | ADAM, LR = 0.01 | PRODUCT LOGIC | 10 DIMENSIONS | 5 TERMS | FIX IMBALANCE] Run #1, Epoch #15, …"
      ]
     },
     "metadata": {},
     "output_type": "display_data"
    },
    {
     "data": {
      "application/vnd.jupyter.widget-view+json": {
       "model_id": "",
       "version_major": 2,
       "version_minor": 0
      },
      "text/plain": [
       "[CONJUNCTIONS | ADAM, LR = 0.01 | PRODUCT LOGIC | 10 DIMENSIONS | 5 TERMS | FIX IMBALANCE] Run #1, Epoch #15, …"
      ]
     },
     "metadata": {},
     "output_type": "display_data"
    },
    {
     "data": {
      "application/vnd.jupyter.widget-view+json": {
       "model_id": "",
       "version_major": 2,
       "version_minor": 0
      },
      "text/plain": [
       "[CONJUNCTIONS | ADAM, LR = 0.01 | PRODUCT LOGIC | 10 DIMENSIONS | 5 TERMS | FIX IMBALANCE] Run #1, Epoch #15, …"
      ]
     },
     "metadata": {},
     "output_type": "display_data"
    },
    {
     "data": {
      "application/vnd.jupyter.widget-view+json": {
       "model_id": "",
       "version_major": 2,
       "version_minor": 0
      },
      "text/plain": [
       "[CONJUNCTIONS | ADAM, LR = 0.01 | PRODUCT LOGIC | 10 DIMENSIONS | 5 TERMS | FIX IMBALANCE] Run #1, Epoch #16, …"
      ]
     },
     "metadata": {},
     "output_type": "display_data"
    },
    {
     "data": {
      "application/vnd.jupyter.widget-view+json": {
       "model_id": "",
       "version_major": 2,
       "version_minor": 0
      },
      "text/plain": [
       "[CONJUNCTIONS | ADAM, LR = 0.01 | PRODUCT LOGIC | 10 DIMENSIONS | 5 TERMS | FIX IMBALANCE] Run #1, Epoch #16, …"
      ]
     },
     "metadata": {},
     "output_type": "display_data"
    },
    {
     "data": {
      "application/vnd.jupyter.widget-view+json": {
       "model_id": "",
       "version_major": 2,
       "version_minor": 0
      },
      "text/plain": [
       "[CONJUNCTIONS | ADAM, LR = 0.01 | PRODUCT LOGIC | 10 DIMENSIONS | 5 TERMS | FIX IMBALANCE] Run #1, Epoch #16, …"
      ]
     },
     "metadata": {},
     "output_type": "display_data"
    },
    {
     "data": {
      "application/vnd.jupyter.widget-view+json": {
       "model_id": "",
       "version_major": 2,
       "version_minor": 0
      },
      "text/plain": [
       "[CONJUNCTIONS | ADAM, LR = 0.01 | PRODUCT LOGIC | 10 DIMENSIONS | 5 TERMS | FIX IMBALANCE] Run #1, Epoch #17, …"
      ]
     },
     "metadata": {},
     "output_type": "display_data"
    },
    {
     "data": {
      "application/vnd.jupyter.widget-view+json": {
       "model_id": "",
       "version_major": 2,
       "version_minor": 0
      },
      "text/plain": [
       "[CONJUNCTIONS | ADAM, LR = 0.01 | PRODUCT LOGIC | 10 DIMENSIONS | 5 TERMS | FIX IMBALANCE] Run #1, Epoch #17, …"
      ]
     },
     "metadata": {},
     "output_type": "display_data"
    },
    {
     "data": {
      "application/vnd.jupyter.widget-view+json": {
       "model_id": "",
       "version_major": 2,
       "version_minor": 0
      },
      "text/plain": [
       "[CONJUNCTIONS | ADAM, LR = 0.01 | PRODUCT LOGIC | 10 DIMENSIONS | 5 TERMS | FIX IMBALANCE] Run #1, Epoch #17, …"
      ]
     },
     "metadata": {},
     "output_type": "display_data"
    },
    {
     "data": {
      "application/vnd.jupyter.widget-view+json": {
       "model_id": "",
       "version_major": 2,
       "version_minor": 0
      },
      "text/plain": [
       "[CONJUNCTIONS | ADAM, LR = 0.01 | PRODUCT LOGIC | 10 DIMENSIONS | 5 TERMS | FIX IMBALANCE] Run #1, Epoch #18, …"
      ]
     },
     "metadata": {},
     "output_type": "display_data"
    },
    {
     "data": {
      "application/vnd.jupyter.widget-view+json": {
       "model_id": "",
       "version_major": 2,
       "version_minor": 0
      },
      "text/plain": [
       "[CONJUNCTIONS | ADAM, LR = 0.01 | PRODUCT LOGIC | 10 DIMENSIONS | 5 TERMS | FIX IMBALANCE] Run #1, Epoch #18, …"
      ]
     },
     "metadata": {},
     "output_type": "display_data"
    },
    {
     "data": {
      "application/vnd.jupyter.widget-view+json": {
       "model_id": "",
       "version_major": 2,
       "version_minor": 0
      },
      "text/plain": [
       "[CONJUNCTIONS | ADAM, LR = 0.01 | PRODUCT LOGIC | 10 DIMENSIONS | 5 TERMS | FIX IMBALANCE] Run #1, Epoch #18, …"
      ]
     },
     "metadata": {},
     "output_type": "display_data"
    },
    {
     "data": {
      "application/vnd.jupyter.widget-view+json": {
       "model_id": "",
       "version_major": 2,
       "version_minor": 0
      },
      "text/plain": [
       "[CONJUNCTIONS | ADAM, LR = 0.01 | PRODUCT LOGIC | 10 DIMENSIONS | 5 TERMS | FIX IMBALANCE] Run #1, Epoch #19, …"
      ]
     },
     "metadata": {},
     "output_type": "display_data"
    },
    {
     "data": {
      "application/vnd.jupyter.widget-view+json": {
       "model_id": "",
       "version_major": 2,
       "version_minor": 0
      },
      "text/plain": [
       "[CONJUNCTIONS | ADAM, LR = 0.01 | PRODUCT LOGIC | 10 DIMENSIONS | 5 TERMS | FIX IMBALANCE] Run #1, Epoch #19, …"
      ]
     },
     "metadata": {},
     "output_type": "display_data"
    },
    {
     "data": {
      "application/vnd.jupyter.widget-view+json": {
       "model_id": "",
       "version_major": 2,
       "version_minor": 0
      },
      "text/plain": [
       "[CONJUNCTIONS | ADAM, LR = 0.01 | PRODUCT LOGIC | 10 DIMENSIONS | 5 TERMS | FIX IMBALANCE] Run #1, Epoch #19, …"
      ]
     },
     "metadata": {},
     "output_type": "display_data"
    },
    {
     "data": {
      "application/vnd.jupyter.widget-view+json": {
       "model_id": "",
       "version_major": 2,
       "version_minor": 0
      },
      "text/plain": [
       "[CONJUNCTIONS | ADAM, LR = 0.01 | PRODUCT LOGIC | 10 DIMENSIONS | 5 TERMS | FIX IMBALANCE] Run #1, Epoch #20, …"
      ]
     },
     "metadata": {},
     "output_type": "display_data"
    },
    {
     "data": {
      "application/vnd.jupyter.widget-view+json": {
       "model_id": "",
       "version_major": 2,
       "version_minor": 0
      },
      "text/plain": [
       "[CONJUNCTIONS | ADAM, LR = 0.01 | PRODUCT LOGIC | 10 DIMENSIONS | 5 TERMS | FIX IMBALANCE] Run #1, Epoch #20, …"
      ]
     },
     "metadata": {},
     "output_type": "display_data"
    },
    {
     "data": {
      "application/vnd.jupyter.widget-view+json": {
       "model_id": "",
       "version_major": 2,
       "version_minor": 0
      },
      "text/plain": [
       "[CONJUNCTIONS | ADAM, LR = 0.01 | PRODUCT LOGIC | 10 DIMENSIONS | 5 TERMS | FIX IMBALANCE] Run #1, Epoch #20, …"
      ]
     },
     "metadata": {},
     "output_type": "display_data"
    },
    {
     "data": {
      "application/vnd.jupyter.widget-view+json": {
       "model_id": "",
       "version_major": 2,
       "version_minor": 0
      },
      "text/plain": [
       "[CONJUNCTIONS | ADAM, LR = 0.01 | PRODUCT LOGIC | 10 DIMENSIONS | 5 TERMS | FIX IMBALANCE] Run #1, Epoch #21, …"
      ]
     },
     "metadata": {},
     "output_type": "display_data"
    },
    {
     "data": {
      "application/vnd.jupyter.widget-view+json": {
       "model_id": "",
       "version_major": 2,
       "version_minor": 0
      },
      "text/plain": [
       "[CONJUNCTIONS | ADAM, LR = 0.01 | PRODUCT LOGIC | 10 DIMENSIONS | 5 TERMS | FIX IMBALANCE] Run #1, Epoch #21, …"
      ]
     },
     "metadata": {},
     "output_type": "display_data"
    },
    {
     "data": {
      "application/vnd.jupyter.widget-view+json": {
       "model_id": "",
       "version_major": 2,
       "version_minor": 0
      },
      "text/plain": [
       "[CONJUNCTIONS | ADAM, LR = 0.01 | PRODUCT LOGIC | 10 DIMENSIONS | 5 TERMS | FIX IMBALANCE] Run #1, Epoch #21, …"
      ]
     },
     "metadata": {},
     "output_type": "display_data"
    },
    {
     "data": {
      "application/vnd.jupyter.widget-view+json": {
       "model_id": "",
       "version_major": 2,
       "version_minor": 0
      },
      "text/plain": [
       "[CONJUNCTIONS | ADAM, LR = 0.01 | PRODUCT LOGIC | 10 DIMENSIONS | 5 TERMS | FIX IMBALANCE] Run #1, Epoch #22, …"
      ]
     },
     "metadata": {},
     "output_type": "display_data"
    },
    {
     "data": {
      "application/vnd.jupyter.widget-view+json": {
       "model_id": "",
       "version_major": 2,
       "version_minor": 0
      },
      "text/plain": [
       "[CONJUNCTIONS | ADAM, LR = 0.01 | PRODUCT LOGIC | 10 DIMENSIONS | 5 TERMS | FIX IMBALANCE] Run #1, Epoch #22, …"
      ]
     },
     "metadata": {},
     "output_type": "display_data"
    },
    {
     "data": {
      "application/vnd.jupyter.widget-view+json": {
       "model_id": "",
       "version_major": 2,
       "version_minor": 0
      },
      "text/plain": [
       "[CONJUNCTIONS | ADAM, LR = 0.01 | PRODUCT LOGIC | 10 DIMENSIONS | 5 TERMS | FIX IMBALANCE] Run #1, Epoch #22, …"
      ]
     },
     "metadata": {},
     "output_type": "display_data"
    },
    {
     "data": {
      "application/vnd.jupyter.widget-view+json": {
       "model_id": "",
       "version_major": 2,
       "version_minor": 0
      },
      "text/plain": [
       "[CONJUNCTIONS | ADAM, LR = 0.01 | PRODUCT LOGIC | 10 DIMENSIONS | 5 TERMS | FIX IMBALANCE] Run #1, Epoch #23, …"
      ]
     },
     "metadata": {},
     "output_type": "display_data"
    },
    {
     "data": {
      "application/vnd.jupyter.widget-view+json": {
       "model_id": "",
       "version_major": 2,
       "version_minor": 0
      },
      "text/plain": [
       "[CONJUNCTIONS | ADAM, LR = 0.01 | PRODUCT LOGIC | 10 DIMENSIONS | 5 TERMS | FIX IMBALANCE] Run #1, Epoch #23, …"
      ]
     },
     "metadata": {},
     "output_type": "display_data"
    },
    {
     "data": {
      "application/vnd.jupyter.widget-view+json": {
       "model_id": "",
       "version_major": 2,
       "version_minor": 0
      },
      "text/plain": [
       "[CONJUNCTIONS | ADAM, LR = 0.01 | PRODUCT LOGIC | 10 DIMENSIONS | 5 TERMS | FIX IMBALANCE] Run #1, Epoch #23, …"
      ]
     },
     "metadata": {},
     "output_type": "display_data"
    },
    {
     "data": {
      "application/vnd.jupyter.widget-view+json": {
       "model_id": "",
       "version_major": 2,
       "version_minor": 0
      },
      "text/plain": [
       "[CONJUNCTIONS | ADAM, LR = 0.01 | PRODUCT LOGIC | 10 DIMENSIONS | 5 TERMS | FIX IMBALANCE] Run #1, Epoch #24, …"
      ]
     },
     "metadata": {},
     "output_type": "display_data"
    },
    {
     "data": {
      "application/vnd.jupyter.widget-view+json": {
       "model_id": "",
       "version_major": 2,
       "version_minor": 0
      },
      "text/plain": [
       "[CONJUNCTIONS | ADAM, LR = 0.01 | PRODUCT LOGIC | 10 DIMENSIONS | 5 TERMS | FIX IMBALANCE] Run #1, Epoch #24, …"
      ]
     },
     "metadata": {},
     "output_type": "display_data"
    },
    {
     "data": {
      "application/vnd.jupyter.widget-view+json": {
       "model_id": "",
       "version_major": 2,
       "version_minor": 0
      },
      "text/plain": [
       "[CONJUNCTIONS | ADAM, LR = 0.01 | PRODUCT LOGIC | 10 DIMENSIONS | 5 TERMS | FIX IMBALANCE] Run #1, Epoch #24, …"
      ]
     },
     "metadata": {},
     "output_type": "display_data"
    },
    {
     "data": {
      "application/vnd.jupyter.widget-view+json": {
       "model_id": "",
       "version_major": 2,
       "version_minor": 0
      },
      "text/plain": [
       "[CONJUNCTIONS | ADAM, LR = 0.01 | PRODUCT LOGIC | 10 DIMENSIONS | 5 TERMS | FIX IMBALANCE] Run #1, Epoch #25, …"
      ]
     },
     "metadata": {},
     "output_type": "display_data"
    },
    {
     "data": {
      "application/vnd.jupyter.widget-view+json": {
       "model_id": "",
       "version_major": 2,
       "version_minor": 0
      },
      "text/plain": [
       "[CONJUNCTIONS | ADAM, LR = 0.01 | PRODUCT LOGIC | 10 DIMENSIONS | 5 TERMS | FIX IMBALANCE] Run #1, Epoch #25, …"
      ]
     },
     "metadata": {},
     "output_type": "display_data"
    },
    {
     "data": {
      "application/vnd.jupyter.widget-view+json": {
       "model_id": "",
       "version_major": 2,
       "version_minor": 0
      },
      "text/plain": [
       "[CONJUNCTIONS | ADAM, LR = 0.01 | PRODUCT LOGIC | 10 DIMENSIONS | 5 TERMS | FIX IMBALANCE] Run #1, Epoch #25, …"
      ]
     },
     "metadata": {},
     "output_type": "display_data"
    },
    {
     "data": {
      "application/vnd.jupyter.widget-view+json": {
       "model_id": "",
       "version_major": 2,
       "version_minor": 0
      },
      "text/plain": [
       "[CONJUNCTIONS | ADAM, LR = 0.01 | PRODUCT LOGIC | 10 DIMENSIONS | 5 TERMS | FIX IMBALANCE] Run #1, Epoch #26, …"
      ]
     },
     "metadata": {},
     "output_type": "display_data"
    },
    {
     "data": {
      "application/vnd.jupyter.widget-view+json": {
       "model_id": "",
       "version_major": 2,
       "version_minor": 0
      },
      "text/plain": [
       "[CONJUNCTIONS | ADAM, LR = 0.01 | PRODUCT LOGIC | 10 DIMENSIONS | 5 TERMS | FIX IMBALANCE] Run #1, Epoch #26, …"
      ]
     },
     "metadata": {},
     "output_type": "display_data"
    },
    {
     "data": {
      "application/vnd.jupyter.widget-view+json": {
       "model_id": "",
       "version_major": 2,
       "version_minor": 0
      },
      "text/plain": [
       "[CONJUNCTIONS | ADAM, LR = 0.01 | PRODUCT LOGIC | 10 DIMENSIONS | 5 TERMS | FIX IMBALANCE] Run #1, Epoch #26, …"
      ]
     },
     "metadata": {},
     "output_type": "display_data"
    },
    {
     "data": {
      "application/vnd.jupyter.widget-view+json": {
       "model_id": "",
       "version_major": 2,
       "version_minor": 0
      },
      "text/plain": [
       "[CONJUNCTIONS | ADAM, LR = 0.01 | PRODUCT LOGIC | 10 DIMENSIONS | 5 TERMS | FIX IMBALANCE] Run #1, Epoch #27, …"
      ]
     },
     "metadata": {},
     "output_type": "display_data"
    },
    {
     "data": {
      "application/vnd.jupyter.widget-view+json": {
       "model_id": "",
       "version_major": 2,
       "version_minor": 0
      },
      "text/plain": [
       "[CONJUNCTIONS | ADAM, LR = 0.01 | PRODUCT LOGIC | 10 DIMENSIONS | 5 TERMS | FIX IMBALANCE] Run #1, Epoch #27, …"
      ]
     },
     "metadata": {},
     "output_type": "display_data"
    },
    {
     "data": {
      "application/vnd.jupyter.widget-view+json": {
       "model_id": "",
       "version_major": 2,
       "version_minor": 0
      },
      "text/plain": [
       "[CONJUNCTIONS | ADAM, LR = 0.01 | PRODUCT LOGIC | 10 DIMENSIONS | 5 TERMS | FIX IMBALANCE] Run #1, Epoch #27, …"
      ]
     },
     "metadata": {},
     "output_type": "display_data"
    },
    {
     "data": {
      "application/vnd.jupyter.widget-view+json": {
       "model_id": "",
       "version_major": 2,
       "version_minor": 0
      },
      "text/plain": [
       "[CONJUNCTIONS | ADAM, LR = 0.01 | PRODUCT LOGIC | 10 DIMENSIONS | 5 TERMS | FIX IMBALANCE] Run #1, Epoch #28, …"
      ]
     },
     "metadata": {},
     "output_type": "display_data"
    },
    {
     "data": {
      "application/vnd.jupyter.widget-view+json": {
       "model_id": "",
       "version_major": 2,
       "version_minor": 0
      },
      "text/plain": [
       "[CONJUNCTIONS | ADAM, LR = 0.01 | PRODUCT LOGIC | 10 DIMENSIONS | 5 TERMS | FIX IMBALANCE] Run #1, Epoch #28, …"
      ]
     },
     "metadata": {},
     "output_type": "display_data"
    },
    {
     "data": {
      "application/vnd.jupyter.widget-view+json": {
       "model_id": "",
       "version_major": 2,
       "version_minor": 0
      },
      "text/plain": [
       "[CONJUNCTIONS | ADAM, LR = 0.01 | PRODUCT LOGIC | 10 DIMENSIONS | 5 TERMS | FIX IMBALANCE] Run #1, Epoch #28, …"
      ]
     },
     "metadata": {},
     "output_type": "display_data"
    },
    {
     "data": {
      "application/vnd.jupyter.widget-view+json": {
       "model_id": "",
       "version_major": 2,
       "version_minor": 0
      },
      "text/plain": [
       "[CONJUNCTIONS | ADAM, LR = 0.01 | PRODUCT LOGIC | 10 DIMENSIONS | 5 TERMS | FIX IMBALANCE] Run #1, Epoch #29, …"
      ]
     },
     "metadata": {},
     "output_type": "display_data"
    },
    {
     "data": {
      "application/vnd.jupyter.widget-view+json": {
       "model_id": "",
       "version_major": 2,
       "version_minor": 0
      },
      "text/plain": [
       "[CONJUNCTIONS | ADAM, LR = 0.01 | PRODUCT LOGIC | 10 DIMENSIONS | 5 TERMS | FIX IMBALANCE] Run #1, Epoch #29, …"
      ]
     },
     "metadata": {},
     "output_type": "display_data"
    },
    {
     "data": {
      "application/vnd.jupyter.widget-view+json": {
       "model_id": "",
       "version_major": 2,
       "version_minor": 0
      },
      "text/plain": [
       "[CONJUNCTIONS | ADAM, LR = 0.01 | PRODUCT LOGIC | 10 DIMENSIONS | 5 TERMS | FIX IMBALANCE] Run #1, Epoch #29, …"
      ]
     },
     "metadata": {},
     "output_type": "display_data"
    },
    {
     "data": {
      "application/vnd.jupyter.widget-view+json": {
       "model_id": "",
       "version_major": 2,
       "version_minor": 0
      },
      "text/plain": [
       "[CONJUNCTIONS | ADAM, LR = 0.01 | PRODUCT LOGIC | 10 DIMENSIONS | 5 TERMS | FIX IMBALANCE] Run #1, Epoch #30, …"
      ]
     },
     "metadata": {},
     "output_type": "display_data"
    },
    {
     "data": {
      "application/vnd.jupyter.widget-view+json": {
       "model_id": "",
       "version_major": 2,
       "version_minor": 0
      },
      "text/plain": [
       "[CONJUNCTIONS | ADAM, LR = 0.01 | PRODUCT LOGIC | 10 DIMENSIONS | 5 TERMS | FIX IMBALANCE] Run #1, Epoch #30, …"
      ]
     },
     "metadata": {},
     "output_type": "display_data"
    },
    {
     "data": {
      "application/vnd.jupyter.widget-view+json": {
       "model_id": "",
       "version_major": 2,
       "version_minor": 0
      },
      "text/plain": [
       "[CONJUNCTIONS | ADAM, LR = 0.01 | PRODUCT LOGIC | 10 DIMENSIONS | 5 TERMS | FIX IMBALANCE] Run #1, Epoch #30, …"
      ]
     },
     "metadata": {},
     "output_type": "display_data"
    },
    {
     "data": {
      "application/vnd.jupyter.widget-view+json": {
       "model_id": "",
       "version_major": 2,
       "version_minor": 0
      },
      "text/plain": [
       "[CONJUNCTIONS | ADAM, LR = 0.01 | PRODUCT LOGIC | 10 DIMENSIONS | 5 TERMS | FIX IMBALANCE] Run #1, Epoch #31, …"
      ]
     },
     "metadata": {},
     "output_type": "display_data"
    },
    {
     "data": {
      "application/vnd.jupyter.widget-view+json": {
       "model_id": "",
       "version_major": 2,
       "version_minor": 0
      },
      "text/plain": [
       "[CONJUNCTIONS | ADAM, LR = 0.01 | PRODUCT LOGIC | 10 DIMENSIONS | 5 TERMS | FIX IMBALANCE] Run #1, Epoch #31, …"
      ]
     },
     "metadata": {},
     "output_type": "display_data"
    },
    {
     "data": {
      "application/vnd.jupyter.widget-view+json": {
       "model_id": "",
       "version_major": 2,
       "version_minor": 0
      },
      "text/plain": [
       "[CONJUNCTIONS | ADAM, LR = 0.01 | PRODUCT LOGIC | 10 DIMENSIONS | 5 TERMS | FIX IMBALANCE] Run #1, Epoch #31, …"
      ]
     },
     "metadata": {},
     "output_type": "display_data"
    },
    {
     "data": {
      "application/vnd.jupyter.widget-view+json": {
       "model_id": "",
       "version_major": 2,
       "version_minor": 0
      },
      "text/plain": [
       "[CONJUNCTIONS | ADAM, LR = 0.01 | PRODUCT LOGIC | 10 DIMENSIONS | 5 TERMS | FIX IMBALANCE] Run #1, Epoch #32, …"
      ]
     },
     "metadata": {},
     "output_type": "display_data"
    },
    {
     "data": {
      "application/vnd.jupyter.widget-view+json": {
       "model_id": "",
       "version_major": 2,
       "version_minor": 0
      },
      "text/plain": [
       "[CONJUNCTIONS | ADAM, LR = 0.01 | PRODUCT LOGIC | 10 DIMENSIONS | 5 TERMS | FIX IMBALANCE] Run #1, Epoch #32, …"
      ]
     },
     "metadata": {},
     "output_type": "display_data"
    },
    {
     "data": {
      "application/vnd.jupyter.widget-view+json": {
       "model_id": "",
       "version_major": 2,
       "version_minor": 0
      },
      "text/plain": [
       "[CONJUNCTIONS | ADAM, LR = 0.01 | PRODUCT LOGIC | 10 DIMENSIONS | 5 TERMS | FIX IMBALANCE] Run #1, Epoch #32, …"
      ]
     },
     "metadata": {},
     "output_type": "display_data"
    },
    {
     "data": {
      "application/vnd.jupyter.widget-view+json": {
       "model_id": "",
       "version_major": 2,
       "version_minor": 0
      },
      "text/plain": [
       "[CONJUNCTIONS | ADAM, LR = 0.01 | PRODUCT LOGIC | 10 DIMENSIONS | 5 TERMS | FIX IMBALANCE] Run #1, Epoch #33, …"
      ]
     },
     "metadata": {},
     "output_type": "display_data"
    },
    {
     "data": {
      "application/vnd.jupyter.widget-view+json": {
       "model_id": "",
       "version_major": 2,
       "version_minor": 0
      },
      "text/plain": [
       "[CONJUNCTIONS | ADAM, LR = 0.01 | PRODUCT LOGIC | 10 DIMENSIONS | 5 TERMS | FIX IMBALANCE] Run #1, Epoch #33, …"
      ]
     },
     "metadata": {},
     "output_type": "display_data"
    },
    {
     "data": {
      "application/vnd.jupyter.widget-view+json": {
       "model_id": "",
       "version_major": 2,
       "version_minor": 0
      },
      "text/plain": [
       "[CONJUNCTIONS | ADAM, LR = 0.01 | PRODUCT LOGIC | 10 DIMENSIONS | 5 TERMS | FIX IMBALANCE] Run #1, Epoch #33, …"
      ]
     },
     "metadata": {},
     "output_type": "display_data"
    },
    {
     "data": {
      "application/vnd.jupyter.widget-view+json": {
       "model_id": "",
       "version_major": 2,
       "version_minor": 0
      },
      "text/plain": [
       "[CONJUNCTIONS | ADAM, LR = 0.01 | PRODUCT LOGIC | 10 DIMENSIONS | 5 TERMS | FIX IMBALANCE] Run #1, Epoch #34, …"
      ]
     },
     "metadata": {},
     "output_type": "display_data"
    },
    {
     "data": {
      "application/vnd.jupyter.widget-view+json": {
       "model_id": "",
       "version_major": 2,
       "version_minor": 0
      },
      "text/plain": [
       "[CONJUNCTIONS | ADAM, LR = 0.01 | PRODUCT LOGIC | 10 DIMENSIONS | 5 TERMS | FIX IMBALANCE] Run #1, Epoch #34, …"
      ]
     },
     "metadata": {},
     "output_type": "display_data"
    },
    {
     "data": {
      "application/vnd.jupyter.widget-view+json": {
       "model_id": "",
       "version_major": 2,
       "version_minor": 0
      },
      "text/plain": [
       "[CONJUNCTIONS | ADAM, LR = 0.01 | PRODUCT LOGIC | 10 DIMENSIONS | 5 TERMS | FIX IMBALANCE] Run #1, Epoch #34, …"
      ]
     },
     "metadata": {},
     "output_type": "display_data"
    },
    {
     "data": {
      "application/vnd.jupyter.widget-view+json": {
       "model_id": "",
       "version_major": 2,
       "version_minor": 0
      },
      "text/plain": [
       "[CONJUNCTIONS | ADAM, LR = 0.01 | PRODUCT LOGIC | 10 DIMENSIONS | 5 TERMS | FIX IMBALANCE] Run #1, Epoch #35, …"
      ]
     },
     "metadata": {},
     "output_type": "display_data"
    },
    {
     "data": {
      "application/vnd.jupyter.widget-view+json": {
       "model_id": "",
       "version_major": 2,
       "version_minor": 0
      },
      "text/plain": [
       "[CONJUNCTIONS | ADAM, LR = 0.01 | PRODUCT LOGIC | 10 DIMENSIONS | 5 TERMS | FIX IMBALANCE] Run #1, Epoch #35, …"
      ]
     },
     "metadata": {},
     "output_type": "display_data"
    },
    {
     "data": {
      "application/vnd.jupyter.widget-view+json": {
       "model_id": "",
       "version_major": 2,
       "version_minor": 0
      },
      "text/plain": [
       "[CONJUNCTIONS | ADAM, LR = 0.01 | PRODUCT LOGIC | 10 DIMENSIONS | 5 TERMS | FIX IMBALANCE] Run #1, Epoch #35, …"
      ]
     },
     "metadata": {},
     "output_type": "display_data"
    },
    {
     "data": {
      "application/vnd.jupyter.widget-view+json": {
       "model_id": "",
       "version_major": 2,
       "version_minor": 0
      },
      "text/plain": [
       "[CONJUNCTIONS | ADAM, LR = 0.01 | PRODUCT LOGIC | 10 DIMENSIONS | 5 TERMS | FIX IMBALANCE] Run #1, Epoch #36, …"
      ]
     },
     "metadata": {},
     "output_type": "display_data"
    },
    {
     "data": {
      "application/vnd.jupyter.widget-view+json": {
       "model_id": "",
       "version_major": 2,
       "version_minor": 0
      },
      "text/plain": [
       "[CONJUNCTIONS | ADAM, LR = 0.01 | PRODUCT LOGIC | 10 DIMENSIONS | 5 TERMS | FIX IMBALANCE] Run #1, Epoch #36, …"
      ]
     },
     "metadata": {},
     "output_type": "display_data"
    },
    {
     "data": {
      "application/vnd.jupyter.widget-view+json": {
       "model_id": "",
       "version_major": 2,
       "version_minor": 0
      },
      "text/plain": [
       "[CONJUNCTIONS | ADAM, LR = 0.01 | PRODUCT LOGIC | 10 DIMENSIONS | 5 TERMS | FIX IMBALANCE] Run #1, Epoch #36, …"
      ]
     },
     "metadata": {},
     "output_type": "display_data"
    },
    {
     "data": {
      "application/vnd.jupyter.widget-view+json": {
       "model_id": "",
       "version_major": 2,
       "version_minor": 0
      },
      "text/plain": [
       "[CONJUNCTIONS | ADAM, LR = 0.01 | PRODUCT LOGIC | 10 DIMENSIONS | 5 TERMS | FIX IMBALANCE] Run #1, Epoch #37, …"
      ]
     },
     "metadata": {},
     "output_type": "display_data"
    },
    {
     "data": {
      "application/vnd.jupyter.widget-view+json": {
       "model_id": "",
       "version_major": 2,
       "version_minor": 0
      },
      "text/plain": [
       "[CONJUNCTIONS | ADAM, LR = 0.01 | PRODUCT LOGIC | 10 DIMENSIONS | 5 TERMS | FIX IMBALANCE] Run #1, Epoch #37, …"
      ]
     },
     "metadata": {},
     "output_type": "display_data"
    },
    {
     "data": {
      "application/vnd.jupyter.widget-view+json": {
       "model_id": "",
       "version_major": 2,
       "version_minor": 0
      },
      "text/plain": [
       "[CONJUNCTIONS | ADAM, LR = 0.01 | PRODUCT LOGIC | 10 DIMENSIONS | 5 TERMS | FIX IMBALANCE] Run #1, Epoch #37, …"
      ]
     },
     "metadata": {},
     "output_type": "display_data"
    },
    {
     "data": {
      "application/vnd.jupyter.widget-view+json": {
       "model_id": "",
       "version_major": 2,
       "version_minor": 0
      },
      "text/plain": [
       "[CONJUNCTIONS | ADAM, LR = 0.01 | PRODUCT LOGIC | 10 DIMENSIONS | 5 TERMS | FIX IMBALANCE] Run #1, Epoch #38, …"
      ]
     },
     "metadata": {},
     "output_type": "display_data"
    },
    {
     "data": {
      "application/vnd.jupyter.widget-view+json": {
       "model_id": "",
       "version_major": 2,
       "version_minor": 0
      },
      "text/plain": [
       "[CONJUNCTIONS | ADAM, LR = 0.01 | PRODUCT LOGIC | 10 DIMENSIONS | 5 TERMS | FIX IMBALANCE] Run #1, Epoch #38, …"
      ]
     },
     "metadata": {},
     "output_type": "display_data"
    },
    {
     "data": {
      "application/vnd.jupyter.widget-view+json": {
       "model_id": "",
       "version_major": 2,
       "version_minor": 0
      },
      "text/plain": [
       "[CONJUNCTIONS | ADAM, LR = 0.01 | PRODUCT LOGIC | 10 DIMENSIONS | 5 TERMS | FIX IMBALANCE] Run #1, Epoch #38, …"
      ]
     },
     "metadata": {},
     "output_type": "display_data"
    },
    {
     "data": {
      "application/vnd.jupyter.widget-view+json": {
       "model_id": "",
       "version_major": 2,
       "version_minor": 0
      },
      "text/plain": [
       "[CONJUNCTIONS | ADAM, LR = 0.01 | PRODUCT LOGIC | 10 DIMENSIONS | 5 TERMS | FIX IMBALANCE] Run #1, Epoch #39, …"
      ]
     },
     "metadata": {},
     "output_type": "display_data"
    },
    {
     "data": {
      "application/vnd.jupyter.widget-view+json": {
       "model_id": "",
       "version_major": 2,
       "version_minor": 0
      },
      "text/plain": [
       "[CONJUNCTIONS | ADAM, LR = 0.01 | PRODUCT LOGIC | 10 DIMENSIONS | 5 TERMS | FIX IMBALANCE] Run #1, Epoch #39, …"
      ]
     },
     "metadata": {},
     "output_type": "display_data"
    },
    {
     "data": {
      "application/vnd.jupyter.widget-view+json": {
       "model_id": "",
       "version_major": 2,
       "version_minor": 0
      },
      "text/plain": [
       "[CONJUNCTIONS | ADAM, LR = 0.01 | PRODUCT LOGIC | 10 DIMENSIONS | 5 TERMS | FIX IMBALANCE] Run #1, Epoch #39, …"
      ]
     },
     "metadata": {},
     "output_type": "display_data"
    },
    {
     "data": {
      "application/vnd.jupyter.widget-view+json": {
       "model_id": "",
       "version_major": 2,
       "version_minor": 0
      },
      "text/plain": [
       "[CONJUNCTIONS | ADAM, LR = 0.01 | PRODUCT LOGIC | 10 DIMENSIONS | 5 TERMS | FIX IMBALANCE] Run #1, Epoch #40, …"
      ]
     },
     "metadata": {},
     "output_type": "display_data"
    },
    {
     "data": {
      "application/vnd.jupyter.widget-view+json": {
       "model_id": "",
       "version_major": 2,
       "version_minor": 0
      },
      "text/plain": [
       "[CONJUNCTIONS | ADAM, LR = 0.01 | PRODUCT LOGIC | 10 DIMENSIONS | 5 TERMS | FIX IMBALANCE] Run #1, Epoch #40, …"
      ]
     },
     "metadata": {},
     "output_type": "display_data"
    },
    {
     "data": {
      "application/vnd.jupyter.widget-view+json": {
       "model_id": "",
       "version_major": 2,
       "version_minor": 0
      },
      "text/plain": [
       "[CONJUNCTIONS | ADAM, LR = 0.01 | PRODUCT LOGIC | 10 DIMENSIONS | 5 TERMS | FIX IMBALANCE] Run #1, Epoch #40, …"
      ]
     },
     "metadata": {},
     "output_type": "display_data"
    },
    {
     "data": {
      "application/vnd.jupyter.widget-view+json": {
       "model_id": "",
       "version_major": 2,
       "version_minor": 0
      },
      "text/plain": [
       "[CONJUNCTIONS | ADAM, LR = 0.01 | PRODUCT LOGIC | 10 DIMENSIONS | 5 TERMS | FIX IMBALANCE] Run #1, Epoch #41, …"
      ]
     },
     "metadata": {},
     "output_type": "display_data"
    },
    {
     "data": {
      "application/vnd.jupyter.widget-view+json": {
       "model_id": "",
       "version_major": 2,
       "version_minor": 0
      },
      "text/plain": [
       "[CONJUNCTIONS | ADAM, LR = 0.01 | PRODUCT LOGIC | 10 DIMENSIONS | 5 TERMS | FIX IMBALANCE] Run #1, Epoch #41, …"
      ]
     },
     "metadata": {},
     "output_type": "display_data"
    },
    {
     "data": {
      "application/vnd.jupyter.widget-view+json": {
       "model_id": "",
       "version_major": 2,
       "version_minor": 0
      },
      "text/plain": [
       "[CONJUNCTIONS | ADAM, LR = 0.01 | PRODUCT LOGIC | 10 DIMENSIONS | 5 TERMS | FIX IMBALANCE] Run #1, Epoch #41, …"
      ]
     },
     "metadata": {},
     "output_type": "display_data"
    },
    {
     "data": {
      "application/vnd.jupyter.widget-view+json": {
       "model_id": "",
       "version_major": 2,
       "version_minor": 0
      },
      "text/plain": [
       "[CONJUNCTIONS | ADAM, LR = 0.01 | PRODUCT LOGIC | 10 DIMENSIONS | 5 TERMS | FIX IMBALANCE] Run #1, Epoch #42, …"
      ]
     },
     "metadata": {},
     "output_type": "display_data"
    },
    {
     "data": {
      "application/vnd.jupyter.widget-view+json": {
       "model_id": "",
       "version_major": 2,
       "version_minor": 0
      },
      "text/plain": [
       "[CONJUNCTIONS | ADAM, LR = 0.01 | PRODUCT LOGIC | 10 DIMENSIONS | 5 TERMS | FIX IMBALANCE] Run #1, Epoch #42, …"
      ]
     },
     "metadata": {},
     "output_type": "display_data"
    },
    {
     "data": {
      "application/vnd.jupyter.widget-view+json": {
       "model_id": "",
       "version_major": 2,
       "version_minor": 0
      },
      "text/plain": [
       "[CONJUNCTIONS | ADAM, LR = 0.01 | PRODUCT LOGIC | 10 DIMENSIONS | 5 TERMS | FIX IMBALANCE] Run #1, Epoch #42, …"
      ]
     },
     "metadata": {},
     "output_type": "display_data"
    },
    {
     "data": {
      "application/vnd.jupyter.widget-view+json": {
       "model_id": "",
       "version_major": 2,
       "version_minor": 0
      },
      "text/plain": [
       "[CONJUNCTIONS | ADAM, LR = 0.01 | PRODUCT LOGIC | 10 DIMENSIONS | 5 TERMS | FIX IMBALANCE] Run #1, Epoch #43, …"
      ]
     },
     "metadata": {},
     "output_type": "display_data"
    },
    {
     "data": {
      "application/vnd.jupyter.widget-view+json": {
       "model_id": "",
       "version_major": 2,
       "version_minor": 0
      },
      "text/plain": [
       "[CONJUNCTIONS | ADAM, LR = 0.01 | PRODUCT LOGIC | 10 DIMENSIONS | 5 TERMS | FIX IMBALANCE] Run #1, Epoch #43, …"
      ]
     },
     "metadata": {},
     "output_type": "display_data"
    },
    {
     "data": {
      "application/vnd.jupyter.widget-view+json": {
       "model_id": "",
       "version_major": 2,
       "version_minor": 0
      },
      "text/plain": [
       "[CONJUNCTIONS | ADAM, LR = 0.01 | PRODUCT LOGIC | 10 DIMENSIONS | 5 TERMS | FIX IMBALANCE] Run #1, Epoch #43, …"
      ]
     },
     "metadata": {},
     "output_type": "display_data"
    },
    {
     "data": {
      "application/vnd.jupyter.widget-view+json": {
       "model_id": "",
       "version_major": 2,
       "version_minor": 0
      },
      "text/plain": [
       "[CONJUNCTIONS | ADAM, LR = 0.01 | PRODUCT LOGIC | 10 DIMENSIONS | 5 TERMS | FIX IMBALANCE] Run #1, Epoch #44, …"
      ]
     },
     "metadata": {},
     "output_type": "display_data"
    },
    {
     "data": {
      "application/vnd.jupyter.widget-view+json": {
       "model_id": "",
       "version_major": 2,
       "version_minor": 0
      },
      "text/plain": [
       "[CONJUNCTIONS | ADAM, LR = 0.01 | PRODUCT LOGIC | 10 DIMENSIONS | 5 TERMS | FIX IMBALANCE] Run #1, Epoch #44, …"
      ]
     },
     "metadata": {},
     "output_type": "display_data"
    },
    {
     "data": {
      "application/vnd.jupyter.widget-view+json": {
       "model_id": "",
       "version_major": 2,
       "version_minor": 0
      },
      "text/plain": [
       "[CONJUNCTIONS | ADAM, LR = 0.01 | PRODUCT LOGIC | 10 DIMENSIONS | 5 TERMS | FIX IMBALANCE] Run #1, Epoch #44, …"
      ]
     },
     "metadata": {},
     "output_type": "display_data"
    },
    {
     "data": {
      "application/vnd.jupyter.widget-view+json": {
       "model_id": "",
       "version_major": 2,
       "version_minor": 0
      },
      "text/plain": [
       "[CONJUNCTIONS | ADAM, LR = 0.01 | PRODUCT LOGIC | 10 DIMENSIONS | 5 TERMS | FIX IMBALANCE] Run #1, Epoch #45, …"
      ]
     },
     "metadata": {},
     "output_type": "display_data"
    },
    {
     "data": {
      "application/vnd.jupyter.widget-view+json": {
       "model_id": "",
       "version_major": 2,
       "version_minor": 0
      },
      "text/plain": [
       "[CONJUNCTIONS | ADAM, LR = 0.01 | PRODUCT LOGIC | 10 DIMENSIONS | 5 TERMS | FIX IMBALANCE] Run #1, Epoch #45, …"
      ]
     },
     "metadata": {},
     "output_type": "display_data"
    },
    {
     "data": {
      "application/vnd.jupyter.widget-view+json": {
       "model_id": "",
       "version_major": 2,
       "version_minor": 0
      },
      "text/plain": [
       "[CONJUNCTIONS | ADAM, LR = 0.01 | PRODUCT LOGIC | 10 DIMENSIONS | 5 TERMS | FIX IMBALANCE] Run #1, Epoch #45, …"
      ]
     },
     "metadata": {},
     "output_type": "display_data"
    },
    {
     "data": {
      "application/vnd.jupyter.widget-view+json": {
       "model_id": "",
       "version_major": 2,
       "version_minor": 0
      },
      "text/plain": [
       "[CONJUNCTIONS | ADAM, LR = 0.01 | PRODUCT LOGIC | 10 DIMENSIONS | 5 TERMS | FIX IMBALANCE] Run #1, Epoch #46, …"
      ]
     },
     "metadata": {},
     "output_type": "display_data"
    },
    {
     "data": {
      "application/vnd.jupyter.widget-view+json": {
       "model_id": "",
       "version_major": 2,
       "version_minor": 0
      },
      "text/plain": [
       "[CONJUNCTIONS | ADAM, LR = 0.01 | PRODUCT LOGIC | 10 DIMENSIONS | 5 TERMS | FIX IMBALANCE] Run #1, Epoch #46, …"
      ]
     },
     "metadata": {},
     "output_type": "display_data"
    },
    {
     "data": {
      "application/vnd.jupyter.widget-view+json": {
       "model_id": "",
       "version_major": 2,
       "version_minor": 0
      },
      "text/plain": [
       "[CONJUNCTIONS | ADAM, LR = 0.01 | PRODUCT LOGIC | 10 DIMENSIONS | 5 TERMS | FIX IMBALANCE] Run #1, Epoch #46, …"
      ]
     },
     "metadata": {},
     "output_type": "display_data"
    },
    {
     "data": {
      "application/vnd.jupyter.widget-view+json": {
       "model_id": "",
       "version_major": 2,
       "version_minor": 0
      },
      "text/plain": [
       "[CONJUNCTIONS | ADAM, LR = 0.01 | PRODUCT LOGIC | 10 DIMENSIONS | 5 TERMS | FIX IMBALANCE] Run #1, Epoch #47, …"
      ]
     },
     "metadata": {},
     "output_type": "display_data"
    },
    {
     "data": {
      "application/vnd.jupyter.widget-view+json": {
       "model_id": "",
       "version_major": 2,
       "version_minor": 0
      },
      "text/plain": [
       "[CONJUNCTIONS | ADAM, LR = 0.01 | PRODUCT LOGIC | 10 DIMENSIONS | 5 TERMS | FIX IMBALANCE] Run #1, Epoch #47, …"
      ]
     },
     "metadata": {},
     "output_type": "display_data"
    },
    {
     "data": {
      "application/vnd.jupyter.widget-view+json": {
       "model_id": "",
       "version_major": 2,
       "version_minor": 0
      },
      "text/plain": [
       "[CONJUNCTIONS | ADAM, LR = 0.01 | PRODUCT LOGIC | 10 DIMENSIONS | 5 TERMS | FIX IMBALANCE] Run #1, Epoch #47, …"
      ]
     },
     "metadata": {},
     "output_type": "display_data"
    },
    {
     "data": {
      "application/vnd.jupyter.widget-view+json": {
       "model_id": "",
       "version_major": 2,
       "version_minor": 0
      },
      "text/plain": [
       "[CONJUNCTIONS | ADAM, LR = 0.01 | PRODUCT LOGIC | 10 DIMENSIONS | 5 TERMS | FIX IMBALANCE] Run #1, Epoch #48, …"
      ]
     },
     "metadata": {},
     "output_type": "display_data"
    },
    {
     "data": {
      "application/vnd.jupyter.widget-view+json": {
       "model_id": "",
       "version_major": 2,
       "version_minor": 0
      },
      "text/plain": [
       "[CONJUNCTIONS | ADAM, LR = 0.01 | PRODUCT LOGIC | 10 DIMENSIONS | 5 TERMS | FIX IMBALANCE] Run #1, Epoch #48, …"
      ]
     },
     "metadata": {},
     "output_type": "display_data"
    },
    {
     "data": {
      "application/vnd.jupyter.widget-view+json": {
       "model_id": "",
       "version_major": 2,
       "version_minor": 0
      },
      "text/plain": [
       "[CONJUNCTIONS | ADAM, LR = 0.01 | PRODUCT LOGIC | 10 DIMENSIONS | 5 TERMS | FIX IMBALANCE] Run #1, Epoch #48, …"
      ]
     },
     "metadata": {},
     "output_type": "display_data"
    },
    {
     "data": {
      "application/vnd.jupyter.widget-view+json": {
       "model_id": "",
       "version_major": 2,
       "version_minor": 0
      },
      "text/plain": [
       "[CONJUNCTIONS | ADAM, LR = 0.01 | PRODUCT LOGIC | 10 DIMENSIONS | 5 TERMS | FIX IMBALANCE] Run #1, Epoch #49, …"
      ]
     },
     "metadata": {},
     "output_type": "display_data"
    },
    {
     "data": {
      "application/vnd.jupyter.widget-view+json": {
       "model_id": "",
       "version_major": 2,
       "version_minor": 0
      },
      "text/plain": [
       "[CONJUNCTIONS | ADAM, LR = 0.01 | PRODUCT LOGIC | 10 DIMENSIONS | 5 TERMS | FIX IMBALANCE] Run #1, Epoch #49, …"
      ]
     },
     "metadata": {},
     "output_type": "display_data"
    },
    {
     "data": {
      "application/vnd.jupyter.widget-view+json": {
       "model_id": "",
       "version_major": 2,
       "version_minor": 0
      },
      "text/plain": [
       "[CONJUNCTIONS | ADAM, LR = 0.01 | PRODUCT LOGIC | 10 DIMENSIONS | 5 TERMS | FIX IMBALANCE] Run #1, Epoch #49, …"
      ]
     },
     "metadata": {},
     "output_type": "display_data"
    },
    {
     "data": {
      "application/vnd.jupyter.widget-view+json": {
       "model_id": "",
       "version_major": 2,
       "version_minor": 0
      },
      "text/plain": [
       "[CONJUNCTIONS | ADAM, LR = 0.01 | PRODUCT LOGIC | 10 DIMENSIONS | 5 TERMS | FIX IMBALANCE] Run #1, Epoch #50, …"
      ]
     },
     "metadata": {},
     "output_type": "display_data"
    },
    {
     "data": {
      "application/vnd.jupyter.widget-view+json": {
       "model_id": "",
       "version_major": 2,
       "version_minor": 0
      },
      "text/plain": [
       "[CONJUNCTIONS | ADAM, LR = 0.01 | PRODUCT LOGIC | 10 DIMENSIONS | 5 TERMS | FIX IMBALANCE] Run #1, Epoch #50, …"
      ]
     },
     "metadata": {},
     "output_type": "display_data"
    },
    {
     "data": {
      "application/vnd.jupyter.widget-view+json": {
       "model_id": "",
       "version_major": 2,
       "version_minor": 0
      },
      "text/plain": [
       "[CONJUNCTIONS | ADAM, LR = 0.01 | PRODUCT LOGIC | 10 DIMENSIONS | 5 TERMS | FIX IMBALANCE] Run #1, Epoch #50, …"
      ]
     },
     "metadata": {},
     "output_type": "display_data"
    },
    {
     "data": {
      "application/vnd.jupyter.widget-view+json": {
       "model_id": "",
       "version_major": 2,
       "version_minor": 0
      },
      "text/plain": [
       "[CONJUNCTIONS | ADAM, LR = 0.01 | PRODUCT LOGIC | 10 DIMENSIONS | 5 TERMS | FIX IMBALANCE] Run #1, Epoch #51, …"
      ]
     },
     "metadata": {},
     "output_type": "display_data"
    },
    {
     "data": {
      "application/vnd.jupyter.widget-view+json": {
       "model_id": "",
       "version_major": 2,
       "version_minor": 0
      },
      "text/plain": [
       "[CONJUNCTIONS | ADAM, LR = 0.01 | PRODUCT LOGIC | 10 DIMENSIONS | 5 TERMS | FIX IMBALANCE] Run #1, Epoch #51, …"
      ]
     },
     "metadata": {},
     "output_type": "display_data"
    },
    {
     "data": {
      "application/vnd.jupyter.widget-view+json": {
       "model_id": "",
       "version_major": 2,
       "version_minor": 0
      },
      "text/plain": [
       "[CONJUNCTIONS | ADAM, LR = 0.01 | PRODUCT LOGIC | 10 DIMENSIONS | 5 TERMS | FIX IMBALANCE] Run #1, Epoch #51, …"
      ]
     },
     "metadata": {},
     "output_type": "display_data"
    },
    {
     "data": {
      "application/vnd.jupyter.widget-view+json": {
       "model_id": "",
       "version_major": 2,
       "version_minor": 0
      },
      "text/plain": [
       "[CONJUNCTIONS | ADAM, LR = 0.01 | PRODUCT LOGIC | 10 DIMENSIONS | 5 TERMS | FIX IMBALANCE] Run #1, Epoch #52, …"
      ]
     },
     "metadata": {},
     "output_type": "display_data"
    },
    {
     "data": {
      "application/vnd.jupyter.widget-view+json": {
       "model_id": "",
       "version_major": 2,
       "version_minor": 0
      },
      "text/plain": [
       "[CONJUNCTIONS | ADAM, LR = 0.01 | PRODUCT LOGIC | 10 DIMENSIONS | 5 TERMS | FIX IMBALANCE] Run #1, Epoch #52, …"
      ]
     },
     "metadata": {},
     "output_type": "display_data"
    },
    {
     "data": {
      "application/vnd.jupyter.widget-view+json": {
       "model_id": "",
       "version_major": 2,
       "version_minor": 0
      },
      "text/plain": [
       "[CONJUNCTIONS | ADAM, LR = 0.01 | PRODUCT LOGIC | 10 DIMENSIONS | 5 TERMS | FIX IMBALANCE] Run #1, Epoch #52, …"
      ]
     },
     "metadata": {},
     "output_type": "display_data"
    },
    {
     "data": {
      "application/vnd.jupyter.widget-view+json": {
       "model_id": "",
       "version_major": 2,
       "version_minor": 0
      },
      "text/plain": [
       "[CONJUNCTIONS | ADAM, LR = 0.01 | PRODUCT LOGIC | 10 DIMENSIONS | 5 TERMS | FIX IMBALANCE] Run #1, Epoch #53, …"
      ]
     },
     "metadata": {},
     "output_type": "display_data"
    },
    {
     "data": {
      "application/vnd.jupyter.widget-view+json": {
       "model_id": "",
       "version_major": 2,
       "version_minor": 0
      },
      "text/plain": [
       "[CONJUNCTIONS | ADAM, LR = 0.01 | PRODUCT LOGIC | 10 DIMENSIONS | 5 TERMS | FIX IMBALANCE] Run #1, Epoch #53, …"
      ]
     },
     "metadata": {},
     "output_type": "display_data"
    },
    {
     "data": {
      "application/vnd.jupyter.widget-view+json": {
       "model_id": "",
       "version_major": 2,
       "version_minor": 0
      },
      "text/plain": [
       "[CONJUNCTIONS | ADAM, LR = 0.01 | PRODUCT LOGIC | 10 DIMENSIONS | 5 TERMS | FIX IMBALANCE] Run #1, Epoch #53, …"
      ]
     },
     "metadata": {},
     "output_type": "display_data"
    },
    {
     "data": {
      "application/vnd.jupyter.widget-view+json": {
       "model_id": "",
       "version_major": 2,
       "version_minor": 0
      },
      "text/plain": [
       "[CONJUNCTIONS | ADAM, LR = 0.01 | PRODUCT LOGIC | 10 DIMENSIONS | 5 TERMS | FIX IMBALANCE] Run #1, Epoch #54, …"
      ]
     },
     "metadata": {},
     "output_type": "display_data"
    },
    {
     "data": {
      "application/vnd.jupyter.widget-view+json": {
       "model_id": "",
       "version_major": 2,
       "version_minor": 0
      },
      "text/plain": [
       "[CONJUNCTIONS | ADAM, LR = 0.01 | PRODUCT LOGIC | 10 DIMENSIONS | 5 TERMS | FIX IMBALANCE] Run #1, Epoch #54, …"
      ]
     },
     "metadata": {},
     "output_type": "display_data"
    },
    {
     "data": {
      "application/vnd.jupyter.widget-view+json": {
       "model_id": "",
       "version_major": 2,
       "version_minor": 0
      },
      "text/plain": [
       "[CONJUNCTIONS | ADAM, LR = 0.01 | PRODUCT LOGIC | 10 DIMENSIONS | 5 TERMS | FIX IMBALANCE] Run #1, Epoch #54, …"
      ]
     },
     "metadata": {},
     "output_type": "display_data"
    },
    {
     "data": {
      "application/vnd.jupyter.widget-view+json": {
       "model_id": "",
       "version_major": 2,
       "version_minor": 0
      },
      "text/plain": [
       "[CONJUNCTIONS | ADAM, LR = 0.01 | PRODUCT LOGIC | 10 DIMENSIONS | 5 TERMS | FIX IMBALANCE] Run #1, Epoch #55, …"
      ]
     },
     "metadata": {},
     "output_type": "display_data"
    },
    {
     "data": {
      "application/vnd.jupyter.widget-view+json": {
       "model_id": "",
       "version_major": 2,
       "version_minor": 0
      },
      "text/plain": [
       "[CONJUNCTIONS | ADAM, LR = 0.01 | PRODUCT LOGIC | 10 DIMENSIONS | 5 TERMS | FIX IMBALANCE] Run #1, Epoch #55, …"
      ]
     },
     "metadata": {},
     "output_type": "display_data"
    },
    {
     "data": {
      "application/vnd.jupyter.widget-view+json": {
       "model_id": "",
       "version_major": 2,
       "version_minor": 0
      },
      "text/plain": [
       "[CONJUNCTIONS | ADAM, LR = 0.01 | PRODUCT LOGIC | 10 DIMENSIONS | 5 TERMS | FIX IMBALANCE] Run #1, Epoch #55, …"
      ]
     },
     "metadata": {},
     "output_type": "display_data"
    },
    {
     "data": {
      "application/vnd.jupyter.widget-view+json": {
       "model_id": "",
       "version_major": 2,
       "version_minor": 0
      },
      "text/plain": [
       "[CONJUNCTIONS | ADAM, LR = 0.01 | PRODUCT LOGIC | 10 DIMENSIONS | 5 TERMS | FIX IMBALANCE] Run #1, Epoch #56, …"
      ]
     },
     "metadata": {},
     "output_type": "display_data"
    },
    {
     "data": {
      "application/vnd.jupyter.widget-view+json": {
       "model_id": "",
       "version_major": 2,
       "version_minor": 0
      },
      "text/plain": [
       "[CONJUNCTIONS | ADAM, LR = 0.01 | PRODUCT LOGIC | 10 DIMENSIONS | 5 TERMS | FIX IMBALANCE] Run #1, Epoch #56, …"
      ]
     },
     "metadata": {},
     "output_type": "display_data"
    },
    {
     "data": {
      "application/vnd.jupyter.widget-view+json": {
       "model_id": "",
       "version_major": 2,
       "version_minor": 0
      },
      "text/plain": [
       "[CONJUNCTIONS | ADAM, LR = 0.01 | PRODUCT LOGIC | 10 DIMENSIONS | 5 TERMS | FIX IMBALANCE] Run #1, Epoch #56, …"
      ]
     },
     "metadata": {},
     "output_type": "display_data"
    },
    {
     "data": {
      "application/vnd.jupyter.widget-view+json": {
       "model_id": "",
       "version_major": 2,
       "version_minor": 0
      },
      "text/plain": [
       "[CONJUNCTIONS | ADAM, LR = 0.01 | PRODUCT LOGIC | 10 DIMENSIONS | 5 TERMS | FIX IMBALANCE] Run #1, Epoch #57, …"
      ]
     },
     "metadata": {},
     "output_type": "display_data"
    },
    {
     "data": {
      "application/vnd.jupyter.widget-view+json": {
       "model_id": "",
       "version_major": 2,
       "version_minor": 0
      },
      "text/plain": [
       "[CONJUNCTIONS | ADAM, LR = 0.01 | PRODUCT LOGIC | 10 DIMENSIONS | 5 TERMS | FIX IMBALANCE] Run #1, Epoch #57, …"
      ]
     },
     "metadata": {},
     "output_type": "display_data"
    },
    {
     "data": {
      "application/vnd.jupyter.widget-view+json": {
       "model_id": "",
       "version_major": 2,
       "version_minor": 0
      },
      "text/plain": [
       "[CONJUNCTIONS | ADAM, LR = 0.01 | PRODUCT LOGIC | 10 DIMENSIONS | 5 TERMS | FIX IMBALANCE] Run #1, Epoch #57, …"
      ]
     },
     "metadata": {},
     "output_type": "display_data"
    },
    {
     "data": {
      "application/vnd.jupyter.widget-view+json": {
       "model_id": "",
       "version_major": 2,
       "version_minor": 0
      },
      "text/plain": [
       "[CONJUNCTIONS | ADAM, LR = 0.01 | PRODUCT LOGIC | 10 DIMENSIONS | 5 TERMS | FIX IMBALANCE] Run #1, Epoch #58, …"
      ]
     },
     "metadata": {},
     "output_type": "display_data"
    },
    {
     "data": {
      "application/vnd.jupyter.widget-view+json": {
       "model_id": "",
       "version_major": 2,
       "version_minor": 0
      },
      "text/plain": [
       "[CONJUNCTIONS | ADAM, LR = 0.01 | PRODUCT LOGIC | 10 DIMENSIONS | 5 TERMS | FIX IMBALANCE] Run #1, Epoch #58, …"
      ]
     },
     "metadata": {},
     "output_type": "display_data"
    },
    {
     "data": {
      "application/vnd.jupyter.widget-view+json": {
       "model_id": "",
       "version_major": 2,
       "version_minor": 0
      },
      "text/plain": [
       "[CONJUNCTIONS | ADAM, LR = 0.01 | PRODUCT LOGIC | 10 DIMENSIONS | 5 TERMS | FIX IMBALANCE] Run #1, Epoch #58, …"
      ]
     },
     "metadata": {},
     "output_type": "display_data"
    },
    {
     "data": {
      "application/vnd.jupyter.widget-view+json": {
       "model_id": "",
       "version_major": 2,
       "version_minor": 0
      },
      "text/plain": [
       "[CONJUNCTIONS | ADAM, LR = 0.01 | PRODUCT LOGIC | 10 DIMENSIONS | 5 TERMS | FIX IMBALANCE] Run #1, Epoch #59, …"
      ]
     },
     "metadata": {},
     "output_type": "display_data"
    },
    {
     "data": {
      "application/vnd.jupyter.widget-view+json": {
       "model_id": "",
       "version_major": 2,
       "version_minor": 0
      },
      "text/plain": [
       "[CONJUNCTIONS | ADAM, LR = 0.01 | PRODUCT LOGIC | 10 DIMENSIONS | 5 TERMS | FIX IMBALANCE] Run #1, Epoch #59, …"
      ]
     },
     "metadata": {},
     "output_type": "display_data"
    },
    {
     "data": {
      "application/vnd.jupyter.widget-view+json": {
       "model_id": "",
       "version_major": 2,
       "version_minor": 0
      },
      "text/plain": [
       "[CONJUNCTIONS | ADAM, LR = 0.01 | PRODUCT LOGIC | 10 DIMENSIONS | 5 TERMS | FIX IMBALANCE] Run #1, Epoch #59, …"
      ]
     },
     "metadata": {},
     "output_type": "display_data"
    },
    {
     "data": {
      "application/vnd.jupyter.widget-view+json": {
       "model_id": "",
       "version_major": 2,
       "version_minor": 0
      },
      "text/plain": [
       "[CONJUNCTIONS | ADAM, LR = 0.01 | PRODUCT LOGIC | 10 DIMENSIONS | 5 TERMS | FIX IMBALANCE] Run #1, Epoch #60, …"
      ]
     },
     "metadata": {},
     "output_type": "display_data"
    },
    {
     "data": {
      "application/vnd.jupyter.widget-view+json": {
       "model_id": "",
       "version_major": 2,
       "version_minor": 0
      },
      "text/plain": [
       "[CONJUNCTIONS | ADAM, LR = 0.01 | PRODUCT LOGIC | 10 DIMENSIONS | 5 TERMS | FIX IMBALANCE] Run #1, Epoch #60, …"
      ]
     },
     "metadata": {},
     "output_type": "display_data"
    },
    {
     "data": {
      "application/vnd.jupyter.widget-view+json": {
       "model_id": "",
       "version_major": 2,
       "version_minor": 0
      },
      "text/plain": [
       "[CONJUNCTIONS | ADAM, LR = 0.01 | PRODUCT LOGIC | 10 DIMENSIONS | 5 TERMS | FIX IMBALANCE] Run #1, Epoch #60, …"
      ]
     },
     "metadata": {},
     "output_type": "display_data"
    },
    {
     "data": {
      "application/vnd.jupyter.widget-view+json": {
       "model_id": "",
       "version_major": 2,
       "version_minor": 0
      },
      "text/plain": [
       "[CONJUNCTIONS | ADAM, LR = 0.01 | PRODUCT LOGIC | 10 DIMENSIONS | 5 TERMS | FIX IMBALANCE] Run #1, Epoch #61, …"
      ]
     },
     "metadata": {},
     "output_type": "display_data"
    },
    {
     "data": {
      "application/vnd.jupyter.widget-view+json": {
       "model_id": "",
       "version_major": 2,
       "version_minor": 0
      },
      "text/plain": [
       "[CONJUNCTIONS | ADAM, LR = 0.01 | PRODUCT LOGIC | 10 DIMENSIONS | 5 TERMS | FIX IMBALANCE] Run #1, Epoch #61, …"
      ]
     },
     "metadata": {},
     "output_type": "display_data"
    },
    {
     "data": {
      "application/vnd.jupyter.widget-view+json": {
       "model_id": "",
       "version_major": 2,
       "version_minor": 0
      },
      "text/plain": [
       "[CONJUNCTIONS | ADAM, LR = 0.01 | PRODUCT LOGIC | 10 DIMENSIONS | 5 TERMS | FIX IMBALANCE] Run #1, Epoch #61, …"
      ]
     },
     "metadata": {},
     "output_type": "display_data"
    },
    {
     "data": {
      "application/vnd.jupyter.widget-view+json": {
       "model_id": "",
       "version_major": 2,
       "version_minor": 0
      },
      "text/plain": [
       "[CONJUNCTIONS | ADAM, LR = 0.01 | PRODUCT LOGIC | 10 DIMENSIONS | 5 TERMS | FIX IMBALANCE] Run #1, Epoch #62, …"
      ]
     },
     "metadata": {},
     "output_type": "display_data"
    },
    {
     "data": {
      "application/vnd.jupyter.widget-view+json": {
       "model_id": "",
       "version_major": 2,
       "version_minor": 0
      },
      "text/plain": [
       "[CONJUNCTIONS | ADAM, LR = 0.01 | PRODUCT LOGIC | 10 DIMENSIONS | 5 TERMS | FIX IMBALANCE] Run #1, Epoch #62, …"
      ]
     },
     "metadata": {},
     "output_type": "display_data"
    },
    {
     "data": {
      "application/vnd.jupyter.widget-view+json": {
       "model_id": "",
       "version_major": 2,
       "version_minor": 0
      },
      "text/plain": [
       "[CONJUNCTIONS | ADAM, LR = 0.01 | PRODUCT LOGIC | 10 DIMENSIONS | 5 TERMS | FIX IMBALANCE] Run #1, Epoch #62, …"
      ]
     },
     "metadata": {},
     "output_type": "display_data"
    },
    {
     "data": {
      "application/vnd.jupyter.widget-view+json": {
       "model_id": "",
       "version_major": 2,
       "version_minor": 0
      },
      "text/plain": [
       "[CONJUNCTIONS | ADAM, LR = 0.01 | PRODUCT LOGIC | 10 DIMENSIONS | 5 TERMS | FIX IMBALANCE] Run #1, Epoch #63, …"
      ]
     },
     "metadata": {},
     "output_type": "display_data"
    },
    {
     "data": {
      "application/vnd.jupyter.widget-view+json": {
       "model_id": "",
       "version_major": 2,
       "version_minor": 0
      },
      "text/plain": [
       "[CONJUNCTIONS | ADAM, LR = 0.01 | PRODUCT LOGIC | 10 DIMENSIONS | 5 TERMS | FIX IMBALANCE] Run #1, Epoch #63, …"
      ]
     },
     "metadata": {},
     "output_type": "display_data"
    },
    {
     "data": {
      "application/vnd.jupyter.widget-view+json": {
       "model_id": "",
       "version_major": 2,
       "version_minor": 0
      },
      "text/plain": [
       "[CONJUNCTIONS | ADAM, LR = 0.01 | PRODUCT LOGIC | 10 DIMENSIONS | 5 TERMS | FIX IMBALANCE] Run #1, Epoch #63, …"
      ]
     },
     "metadata": {},
     "output_type": "display_data"
    },
    {
     "data": {
      "application/vnd.jupyter.widget-view+json": {
       "model_id": "",
       "version_major": 2,
       "version_minor": 0
      },
      "text/plain": [
       "[CONJUNCTIONS | ADAM, LR = 0.01 | PRODUCT LOGIC | 10 DIMENSIONS | 5 TERMS | FIX IMBALANCE] Run #1, Epoch #64, …"
      ]
     },
     "metadata": {},
     "output_type": "display_data"
    },
    {
     "data": {
      "application/vnd.jupyter.widget-view+json": {
       "model_id": "",
       "version_major": 2,
       "version_minor": 0
      },
      "text/plain": [
       "[CONJUNCTIONS | ADAM, LR = 0.01 | PRODUCT LOGIC | 10 DIMENSIONS | 5 TERMS | FIX IMBALANCE] Run #1, Epoch #64, …"
      ]
     },
     "metadata": {},
     "output_type": "display_data"
    },
    {
     "data": {
      "application/vnd.jupyter.widget-view+json": {
       "model_id": "",
       "version_major": 2,
       "version_minor": 0
      },
      "text/plain": [
       "[CONJUNCTIONS | ADAM, LR = 0.01 | PRODUCT LOGIC | 10 DIMENSIONS | 5 TERMS | FIX IMBALANCE] Run #1, Epoch #64, …"
      ]
     },
     "metadata": {},
     "output_type": "display_data"
    },
    {
     "data": {
      "application/vnd.jupyter.widget-view+json": {
       "model_id": "",
       "version_major": 2,
       "version_minor": 0
      },
      "text/plain": [
       "[CONJUNCTIONS | ADAM, LR = 0.01 | PRODUCT LOGIC | 10 DIMENSIONS | 5 TERMS | FIX IMBALANCE] Run #1, Epoch #65, …"
      ]
     },
     "metadata": {},
     "output_type": "display_data"
    },
    {
     "data": {
      "application/vnd.jupyter.widget-view+json": {
       "model_id": "",
       "version_major": 2,
       "version_minor": 0
      },
      "text/plain": [
       "[CONJUNCTIONS | ADAM, LR = 0.01 | PRODUCT LOGIC | 10 DIMENSIONS | 5 TERMS | FIX IMBALANCE] Run #1, Epoch #65, …"
      ]
     },
     "metadata": {},
     "output_type": "display_data"
    },
    {
     "data": {
      "application/vnd.jupyter.widget-view+json": {
       "model_id": "",
       "version_major": 2,
       "version_minor": 0
      },
      "text/plain": [
       "[CONJUNCTIONS | ADAM, LR = 0.01 | PRODUCT LOGIC | 10 DIMENSIONS | 5 TERMS | FIX IMBALANCE] Run #1, Epoch #65, …"
      ]
     },
     "metadata": {},
     "output_type": "display_data"
    },
    {
     "data": {
      "application/vnd.jupyter.widget-view+json": {
       "model_id": "",
       "version_major": 2,
       "version_minor": 0
      },
      "text/plain": [
       "[CONJUNCTIONS | ADAM, LR = 0.01 | PRODUCT LOGIC | 10 DIMENSIONS | 5 TERMS | FIX IMBALANCE] Run #1, Epoch #66, …"
      ]
     },
     "metadata": {},
     "output_type": "display_data"
    },
    {
     "data": {
      "application/vnd.jupyter.widget-view+json": {
       "model_id": "",
       "version_major": 2,
       "version_minor": 0
      },
      "text/plain": [
       "[CONJUNCTIONS | ADAM, LR = 0.01 | PRODUCT LOGIC | 10 DIMENSIONS | 5 TERMS | FIX IMBALANCE] Run #1, Epoch #66, …"
      ]
     },
     "metadata": {},
     "output_type": "display_data"
    },
    {
     "data": {
      "application/vnd.jupyter.widget-view+json": {
       "model_id": "",
       "version_major": 2,
       "version_minor": 0
      },
      "text/plain": [
       "[CONJUNCTIONS | ADAM, LR = 0.01 | PRODUCT LOGIC | 10 DIMENSIONS | 5 TERMS | FIX IMBALANCE] Run #1, Epoch #66, …"
      ]
     },
     "metadata": {},
     "output_type": "display_data"
    },
    {
     "data": {
      "application/vnd.jupyter.widget-view+json": {
       "model_id": "",
       "version_major": 2,
       "version_minor": 0
      },
      "text/plain": [
       "[CONJUNCTIONS | ADAM, LR = 0.01 | PRODUCT LOGIC | 10 DIMENSIONS | 5 TERMS | FIX IMBALANCE] Run #1, Epoch #67, …"
      ]
     },
     "metadata": {},
     "output_type": "display_data"
    },
    {
     "data": {
      "application/vnd.jupyter.widget-view+json": {
       "model_id": "",
       "version_major": 2,
       "version_minor": 0
      },
      "text/plain": [
       "[CONJUNCTIONS | ADAM, LR = 0.01 | PRODUCT LOGIC | 10 DIMENSIONS | 5 TERMS | FIX IMBALANCE] Run #1, Epoch #67, …"
      ]
     },
     "metadata": {},
     "output_type": "display_data"
    },
    {
     "data": {
      "application/vnd.jupyter.widget-view+json": {
       "model_id": "",
       "version_major": 2,
       "version_minor": 0
      },
      "text/plain": [
       "[CONJUNCTIONS | ADAM, LR = 0.01 | PRODUCT LOGIC | 10 DIMENSIONS | 5 TERMS | FIX IMBALANCE] Run #1, Epoch #67, …"
      ]
     },
     "metadata": {},
     "output_type": "display_data"
    },
    {
     "data": {
      "application/vnd.jupyter.widget-view+json": {
       "model_id": "",
       "version_major": 2,
       "version_minor": 0
      },
      "text/plain": [
       "[CONJUNCTIONS | ADAM, LR = 0.01 | PRODUCT LOGIC | 10 DIMENSIONS | 5 TERMS | FIX IMBALANCE] Run #1, Epoch #68, …"
      ]
     },
     "metadata": {},
     "output_type": "display_data"
    },
    {
     "data": {
      "application/vnd.jupyter.widget-view+json": {
       "model_id": "",
       "version_major": 2,
       "version_minor": 0
      },
      "text/plain": [
       "[CONJUNCTIONS | ADAM, LR = 0.01 | PRODUCT LOGIC | 10 DIMENSIONS | 5 TERMS | FIX IMBALANCE] Run #1, Epoch #68, …"
      ]
     },
     "metadata": {},
     "output_type": "display_data"
    },
    {
     "data": {
      "application/vnd.jupyter.widget-view+json": {
       "model_id": "",
       "version_major": 2,
       "version_minor": 0
      },
      "text/plain": [
       "[CONJUNCTIONS | ADAM, LR = 0.01 | PRODUCT LOGIC | 10 DIMENSIONS | 5 TERMS | FIX IMBALANCE] Run #1, Epoch #68, …"
      ]
     },
     "metadata": {},
     "output_type": "display_data"
    },
    {
     "data": {
      "application/vnd.jupyter.widget-view+json": {
       "model_id": "",
       "version_major": 2,
       "version_minor": 0
      },
      "text/plain": [
       "[CONJUNCTIONS | ADAM, LR = 0.01 | PRODUCT LOGIC | 10 DIMENSIONS | 5 TERMS | FIX IMBALANCE] Run #1, Epoch #69, …"
      ]
     },
     "metadata": {},
     "output_type": "display_data"
    },
    {
     "data": {
      "application/vnd.jupyter.widget-view+json": {
       "model_id": "",
       "version_major": 2,
       "version_minor": 0
      },
      "text/plain": [
       "[CONJUNCTIONS | ADAM, LR = 0.01 | PRODUCT LOGIC | 10 DIMENSIONS | 5 TERMS | FIX IMBALANCE] Run #1, Epoch #69, …"
      ]
     },
     "metadata": {},
     "output_type": "display_data"
    },
    {
     "data": {
      "application/vnd.jupyter.widget-view+json": {
       "model_id": "",
       "version_major": 2,
       "version_minor": 0
      },
      "text/plain": [
       "[CONJUNCTIONS | ADAM, LR = 0.01 | PRODUCT LOGIC | 10 DIMENSIONS | 5 TERMS | FIX IMBALANCE] Run #1, Epoch #69, …"
      ]
     },
     "metadata": {},
     "output_type": "display_data"
    },
    {
     "data": {
      "application/vnd.jupyter.widget-view+json": {
       "model_id": "",
       "version_major": 2,
       "version_minor": 0
      },
      "text/plain": [
       "[CONJUNCTIONS | ADAM, LR = 0.01 | PRODUCT LOGIC | 10 DIMENSIONS | 5 TERMS | FIX IMBALANCE] Run #1, Epoch #70, …"
      ]
     },
     "metadata": {},
     "output_type": "display_data"
    },
    {
     "data": {
      "application/vnd.jupyter.widget-view+json": {
       "model_id": "",
       "version_major": 2,
       "version_minor": 0
      },
      "text/plain": [
       "[CONJUNCTIONS | ADAM, LR = 0.01 | PRODUCT LOGIC | 10 DIMENSIONS | 5 TERMS | FIX IMBALANCE] Run #1, Epoch #70, …"
      ]
     },
     "metadata": {},
     "output_type": "display_data"
    },
    {
     "data": {
      "application/vnd.jupyter.widget-view+json": {
       "model_id": "",
       "version_major": 2,
       "version_minor": 0
      },
      "text/plain": [
       "[CONJUNCTIONS | ADAM, LR = 0.01 | PRODUCT LOGIC | 10 DIMENSIONS | 5 TERMS | FIX IMBALANCE] Run #1, Epoch #70, …"
      ]
     },
     "metadata": {},
     "output_type": "display_data"
    },
    {
     "data": {
      "application/vnd.jupyter.widget-view+json": {
       "model_id": "",
       "version_major": 2,
       "version_minor": 0
      },
      "text/plain": [
       "[CONJUNCTIONS | ADAM, LR = 0.01 | PRODUCT LOGIC | 10 DIMENSIONS | 5 TERMS | FIX IMBALANCE] Run #1, Epoch #71, …"
      ]
     },
     "metadata": {},
     "output_type": "display_data"
    },
    {
     "data": {
      "application/vnd.jupyter.widget-view+json": {
       "model_id": "",
       "version_major": 2,
       "version_minor": 0
      },
      "text/plain": [
       "[CONJUNCTIONS | ADAM, LR = 0.01 | PRODUCT LOGIC | 10 DIMENSIONS | 5 TERMS | FIX IMBALANCE] Run #1, Epoch #71, …"
      ]
     },
     "metadata": {},
     "output_type": "display_data"
    },
    {
     "data": {
      "application/vnd.jupyter.widget-view+json": {
       "model_id": "",
       "version_major": 2,
       "version_minor": 0
      },
      "text/plain": [
       "[CONJUNCTIONS | ADAM, LR = 0.01 | PRODUCT LOGIC | 10 DIMENSIONS | 5 TERMS | FIX IMBALANCE] Run #1, Epoch #71, …"
      ]
     },
     "metadata": {},
     "output_type": "display_data"
    },
    {
     "data": {
      "application/vnd.jupyter.widget-view+json": {
       "model_id": "",
       "version_major": 2,
       "version_minor": 0
      },
      "text/plain": [
       "[CONJUNCTIONS | ADAM, LR = 0.01 | PRODUCT LOGIC | 10 DIMENSIONS | 5 TERMS | FIX IMBALANCE] Run #1, Epoch #72, …"
      ]
     },
     "metadata": {},
     "output_type": "display_data"
    },
    {
     "data": {
      "application/vnd.jupyter.widget-view+json": {
       "model_id": "",
       "version_major": 2,
       "version_minor": 0
      },
      "text/plain": [
       "[CONJUNCTIONS | ADAM, LR = 0.01 | PRODUCT LOGIC | 10 DIMENSIONS | 5 TERMS | FIX IMBALANCE] Run #1, Epoch #72, …"
      ]
     },
     "metadata": {},
     "output_type": "display_data"
    },
    {
     "data": {
      "application/vnd.jupyter.widget-view+json": {
       "model_id": "",
       "version_major": 2,
       "version_minor": 0
      },
      "text/plain": [
       "[CONJUNCTIONS | ADAM, LR = 0.01 | PRODUCT LOGIC | 10 DIMENSIONS | 5 TERMS | FIX IMBALANCE] Run #1, Epoch #72, …"
      ]
     },
     "metadata": {},
     "output_type": "display_data"
    },
    {
     "data": {
      "application/vnd.jupyter.widget-view+json": {
       "model_id": "",
       "version_major": 2,
       "version_minor": 0
      },
      "text/plain": [
       "[CONJUNCTIONS | ADAM, LR = 0.01 | PRODUCT LOGIC | 10 DIMENSIONS | 5 TERMS | FIX IMBALANCE] Run #1, Epoch #73, …"
      ]
     },
     "metadata": {},
     "output_type": "display_data"
    },
    {
     "data": {
      "application/vnd.jupyter.widget-view+json": {
       "model_id": "",
       "version_major": 2,
       "version_minor": 0
      },
      "text/plain": [
       "[CONJUNCTIONS | ADAM, LR = 0.01 | PRODUCT LOGIC | 10 DIMENSIONS | 5 TERMS | FIX IMBALANCE] Run #1, Epoch #73, …"
      ]
     },
     "metadata": {},
     "output_type": "display_data"
    },
    {
     "data": {
      "application/vnd.jupyter.widget-view+json": {
       "model_id": "",
       "version_major": 2,
       "version_minor": 0
      },
      "text/plain": [
       "[CONJUNCTIONS | ADAM, LR = 0.01 | PRODUCT LOGIC | 10 DIMENSIONS | 5 TERMS | FIX IMBALANCE] Run #1, Epoch #73, …"
      ]
     },
     "metadata": {},
     "output_type": "display_data"
    },
    {
     "data": {
      "application/vnd.jupyter.widget-view+json": {
       "model_id": "",
       "version_major": 2,
       "version_minor": 0
      },
      "text/plain": [
       "[CONJUNCTIONS | ADAM, LR = 0.01 | PRODUCT LOGIC | 10 DIMENSIONS | 5 TERMS | FIX IMBALANCE] Run #1, Epoch #74, …"
      ]
     },
     "metadata": {},
     "output_type": "display_data"
    },
    {
     "data": {
      "application/vnd.jupyter.widget-view+json": {
       "model_id": "",
       "version_major": 2,
       "version_minor": 0
      },
      "text/plain": [
       "[CONJUNCTIONS | ADAM, LR = 0.01 | PRODUCT LOGIC | 10 DIMENSIONS | 5 TERMS | FIX IMBALANCE] Run #1, Epoch #74, …"
      ]
     },
     "metadata": {},
     "output_type": "display_data"
    },
    {
     "data": {
      "application/vnd.jupyter.widget-view+json": {
       "model_id": "",
       "version_major": 2,
       "version_minor": 0
      },
      "text/plain": [
       "[CONJUNCTIONS | ADAM, LR = 0.01 | PRODUCT LOGIC | 10 DIMENSIONS | 5 TERMS | FIX IMBALANCE] Run #1, Epoch #74, …"
      ]
     },
     "metadata": {},
     "output_type": "display_data"
    },
    {
     "data": {
      "application/vnd.jupyter.widget-view+json": {
       "model_id": "",
       "version_major": 2,
       "version_minor": 0
      },
      "text/plain": [
       "[CONJUNCTIONS | ADAM, LR = 0.01 | PRODUCT LOGIC | 10 DIMENSIONS | 5 TERMS | FIX IMBALANCE] Run #1, Epoch #75, …"
      ]
     },
     "metadata": {},
     "output_type": "display_data"
    },
    {
     "data": {
      "application/vnd.jupyter.widget-view+json": {
       "model_id": "",
       "version_major": 2,
       "version_minor": 0
      },
      "text/plain": [
       "[CONJUNCTIONS | ADAM, LR = 0.01 | PRODUCT LOGIC | 10 DIMENSIONS | 5 TERMS | FIX IMBALANCE] Run #1, Epoch #75, …"
      ]
     },
     "metadata": {},
     "output_type": "display_data"
    },
    {
     "data": {
      "application/vnd.jupyter.widget-view+json": {
       "model_id": "",
       "version_major": 2,
       "version_minor": 0
      },
      "text/plain": [
       "[CONJUNCTIONS | ADAM, LR = 0.01 | PRODUCT LOGIC | 10 DIMENSIONS | 5 TERMS | FIX IMBALANCE] Run #1, Epoch #75, …"
      ]
     },
     "metadata": {},
     "output_type": "display_data"
    },
    {
     "data": {
      "application/vnd.jupyter.widget-view+json": {
       "model_id": "",
       "version_major": 2,
       "version_minor": 0
      },
      "text/plain": [
       "[CONJUNCTIONS | ADAM, LR = 0.01 | PRODUCT LOGIC | 10 DIMENSIONS | 5 TERMS | FIX IMBALANCE] Run #1, Epoch #76, …"
      ]
     },
     "metadata": {},
     "output_type": "display_data"
    },
    {
     "data": {
      "application/vnd.jupyter.widget-view+json": {
       "model_id": "",
       "version_major": 2,
       "version_minor": 0
      },
      "text/plain": [
       "[CONJUNCTIONS | ADAM, LR = 0.01 | PRODUCT LOGIC | 10 DIMENSIONS | 5 TERMS | FIX IMBALANCE] Run #1, Epoch #76, …"
      ]
     },
     "metadata": {},
     "output_type": "display_data"
    },
    {
     "data": {
      "application/vnd.jupyter.widget-view+json": {
       "model_id": "",
       "version_major": 2,
       "version_minor": 0
      },
      "text/plain": [
       "[CONJUNCTIONS | ADAM, LR = 0.01 | PRODUCT LOGIC | 10 DIMENSIONS | 5 TERMS | FIX IMBALANCE] Run #1, Epoch #76, …"
      ]
     },
     "metadata": {},
     "output_type": "display_data"
    },
    {
     "data": {
      "application/vnd.jupyter.widget-view+json": {
       "model_id": "",
       "version_major": 2,
       "version_minor": 0
      },
      "text/plain": [
       "[CONJUNCTIONS | ADAM, LR = 0.01 | PRODUCT LOGIC | 10 DIMENSIONS | 5 TERMS | FIX IMBALANCE] Run #1, Epoch #77, …"
      ]
     },
     "metadata": {},
     "output_type": "display_data"
    },
    {
     "data": {
      "application/vnd.jupyter.widget-view+json": {
       "model_id": "",
       "version_major": 2,
       "version_minor": 0
      },
      "text/plain": [
       "[CONJUNCTIONS | ADAM, LR = 0.01 | PRODUCT LOGIC | 10 DIMENSIONS | 5 TERMS | FIX IMBALANCE] Run #1, Epoch #77, …"
      ]
     },
     "metadata": {},
     "output_type": "display_data"
    },
    {
     "data": {
      "application/vnd.jupyter.widget-view+json": {
       "model_id": "",
       "version_major": 2,
       "version_minor": 0
      },
      "text/plain": [
       "[CONJUNCTIONS | ADAM, LR = 0.01 | PRODUCT LOGIC | 10 DIMENSIONS | 5 TERMS | FIX IMBALANCE] Run #1, Epoch #77, …"
      ]
     },
     "metadata": {},
     "output_type": "display_data"
    },
    {
     "data": {
      "application/vnd.jupyter.widget-view+json": {
       "model_id": "",
       "version_major": 2,
       "version_minor": 0
      },
      "text/plain": [
       "[CONJUNCTIONS | ADAM, LR = 0.01 | PRODUCT LOGIC | 10 DIMENSIONS | 5 TERMS | FIX IMBALANCE] Run #1, Epoch #78, …"
      ]
     },
     "metadata": {},
     "output_type": "display_data"
    },
    {
     "data": {
      "application/vnd.jupyter.widget-view+json": {
       "model_id": "",
       "version_major": 2,
       "version_minor": 0
      },
      "text/plain": [
       "[CONJUNCTIONS | ADAM, LR = 0.01 | PRODUCT LOGIC | 10 DIMENSIONS | 5 TERMS | FIX IMBALANCE] Run #1, Epoch #78, …"
      ]
     },
     "metadata": {},
     "output_type": "display_data"
    },
    {
     "data": {
      "application/vnd.jupyter.widget-view+json": {
       "model_id": "",
       "version_major": 2,
       "version_minor": 0
      },
      "text/plain": [
       "[CONJUNCTIONS | ADAM, LR = 0.01 | PRODUCT LOGIC | 10 DIMENSIONS | 5 TERMS | FIX IMBALANCE] Run #1, Epoch #78, …"
      ]
     },
     "metadata": {},
     "output_type": "display_data"
    },
    {
     "data": {
      "application/vnd.jupyter.widget-view+json": {
       "model_id": "",
       "version_major": 2,
       "version_minor": 0
      },
      "text/plain": [
       "[CONJUNCTIONS | ADAM, LR = 0.01 | PRODUCT LOGIC | 10 DIMENSIONS | 5 TERMS | FIX IMBALANCE] Run #1, Epoch #79, …"
      ]
     },
     "metadata": {},
     "output_type": "display_data"
    },
    {
     "data": {
      "application/vnd.jupyter.widget-view+json": {
       "model_id": "",
       "version_major": 2,
       "version_minor": 0
      },
      "text/plain": [
       "[CONJUNCTIONS | ADAM, LR = 0.01 | PRODUCT LOGIC | 10 DIMENSIONS | 5 TERMS | FIX IMBALANCE] Run #1, Epoch #79, …"
      ]
     },
     "metadata": {},
     "output_type": "display_data"
    },
    {
     "data": {
      "application/vnd.jupyter.widget-view+json": {
       "model_id": "",
       "version_major": 2,
       "version_minor": 0
      },
      "text/plain": [
       "[CONJUNCTIONS | ADAM, LR = 0.01 | PRODUCT LOGIC | 10 DIMENSIONS | 5 TERMS | FIX IMBALANCE] Run #1, Epoch #79, …"
      ]
     },
     "metadata": {},
     "output_type": "display_data"
    },
    {
     "data": {
      "application/vnd.jupyter.widget-view+json": {
       "model_id": "",
       "version_major": 2,
       "version_minor": 0
      },
      "text/plain": [
       "[CONJUNCTIONS | ADAM, LR = 0.01 | PRODUCT LOGIC | 10 DIMENSIONS | 5 TERMS | FIX IMBALANCE] Run #1, Epoch #80, …"
      ]
     },
     "metadata": {},
     "output_type": "display_data"
    },
    {
     "data": {
      "application/vnd.jupyter.widget-view+json": {
       "model_id": "",
       "version_major": 2,
       "version_minor": 0
      },
      "text/plain": [
       "[CONJUNCTIONS | ADAM, LR = 0.01 | PRODUCT LOGIC | 10 DIMENSIONS | 5 TERMS | FIX IMBALANCE] Run #1, Epoch #80, …"
      ]
     },
     "metadata": {},
     "output_type": "display_data"
    },
    {
     "data": {
      "application/vnd.jupyter.widget-view+json": {
       "model_id": "",
       "version_major": 2,
       "version_minor": 0
      },
      "text/plain": [
       "[CONJUNCTIONS | ADAM, LR = 0.01 | PRODUCT LOGIC | 10 DIMENSIONS | 5 TERMS | FIX IMBALANCE] Run #1, Epoch #80, …"
      ]
     },
     "metadata": {},
     "output_type": "display_data"
    },
    {
     "data": {
      "application/vnd.jupyter.widget-view+json": {
       "model_id": "",
       "version_major": 2,
       "version_minor": 0
      },
      "text/plain": [
       "[CONJUNCTIONS | ADAM, LR = 0.01 | PRODUCT LOGIC | 10 DIMENSIONS | 5 TERMS | FIX IMBALANCE] Run #1, Epoch #81, …"
      ]
     },
     "metadata": {},
     "output_type": "display_data"
    },
    {
     "data": {
      "application/vnd.jupyter.widget-view+json": {
       "model_id": "",
       "version_major": 2,
       "version_minor": 0
      },
      "text/plain": [
       "[CONJUNCTIONS | ADAM, LR = 0.01 | PRODUCT LOGIC | 10 DIMENSIONS | 5 TERMS | FIX IMBALANCE] Run #1, Epoch #81, …"
      ]
     },
     "metadata": {},
     "output_type": "display_data"
    },
    {
     "data": {
      "application/vnd.jupyter.widget-view+json": {
       "model_id": "",
       "version_major": 2,
       "version_minor": 0
      },
      "text/plain": [
       "[CONJUNCTIONS | ADAM, LR = 0.01 | PRODUCT LOGIC | 10 DIMENSIONS | 5 TERMS | FIX IMBALANCE] Run #1, Epoch #81, …"
      ]
     },
     "metadata": {},
     "output_type": "display_data"
    },
    {
     "data": {
      "application/vnd.jupyter.widget-view+json": {
       "model_id": "",
       "version_major": 2,
       "version_minor": 0
      },
      "text/plain": [
       "[CONJUNCTIONS | ADAM, LR = 0.01 | PRODUCT LOGIC | 10 DIMENSIONS | 5 TERMS | FIX IMBALANCE] Run #1, Epoch #82, …"
      ]
     },
     "metadata": {},
     "output_type": "display_data"
    },
    {
     "data": {
      "application/vnd.jupyter.widget-view+json": {
       "model_id": "",
       "version_major": 2,
       "version_minor": 0
      },
      "text/plain": [
       "[CONJUNCTIONS | ADAM, LR = 0.01 | PRODUCT LOGIC | 10 DIMENSIONS | 5 TERMS | FIX IMBALANCE] Run #1, Epoch #82, …"
      ]
     },
     "metadata": {},
     "output_type": "display_data"
    },
    {
     "data": {
      "application/vnd.jupyter.widget-view+json": {
       "model_id": "",
       "version_major": 2,
       "version_minor": 0
      },
      "text/plain": [
       "[CONJUNCTIONS | ADAM, LR = 0.01 | PRODUCT LOGIC | 10 DIMENSIONS | 5 TERMS | FIX IMBALANCE] Run #1, Epoch #82, …"
      ]
     },
     "metadata": {},
     "output_type": "display_data"
    },
    {
     "data": {
      "application/vnd.jupyter.widget-view+json": {
       "model_id": "",
       "version_major": 2,
       "version_minor": 0
      },
      "text/plain": [
       "[CONJUNCTIONS | ADAM, LR = 0.01 | PRODUCT LOGIC | 10 DIMENSIONS | 5 TERMS | FIX IMBALANCE] Run #1, Epoch #83, …"
      ]
     },
     "metadata": {},
     "output_type": "display_data"
    },
    {
     "data": {
      "application/vnd.jupyter.widget-view+json": {
       "model_id": "",
       "version_major": 2,
       "version_minor": 0
      },
      "text/plain": [
       "[CONJUNCTIONS | ADAM, LR = 0.01 | PRODUCT LOGIC | 10 DIMENSIONS | 5 TERMS | FIX IMBALANCE] Run #1, Epoch #83, …"
      ]
     },
     "metadata": {},
     "output_type": "display_data"
    },
    {
     "data": {
      "application/vnd.jupyter.widget-view+json": {
       "model_id": "",
       "version_major": 2,
       "version_minor": 0
      },
      "text/plain": [
       "[CONJUNCTIONS | ADAM, LR = 0.01 | PRODUCT LOGIC | 10 DIMENSIONS | 5 TERMS | FIX IMBALANCE] Run #1, Epoch #83, …"
      ]
     },
     "metadata": {},
     "output_type": "display_data"
    },
    {
     "data": {
      "application/vnd.jupyter.widget-view+json": {
       "model_id": "",
       "version_major": 2,
       "version_minor": 0
      },
      "text/plain": [
       "[CONJUNCTIONS | ADAM, LR = 0.01 | PRODUCT LOGIC | 10 DIMENSIONS | 5 TERMS | FIX IMBALANCE] Run #1, Epoch #84, …"
      ]
     },
     "metadata": {},
     "output_type": "display_data"
    },
    {
     "data": {
      "application/vnd.jupyter.widget-view+json": {
       "model_id": "",
       "version_major": 2,
       "version_minor": 0
      },
      "text/plain": [
       "[CONJUNCTIONS | ADAM, LR = 0.01 | PRODUCT LOGIC | 10 DIMENSIONS | 5 TERMS | FIX IMBALANCE] Run #1, Epoch #84, …"
      ]
     },
     "metadata": {},
     "output_type": "display_data"
    },
    {
     "data": {
      "application/vnd.jupyter.widget-view+json": {
       "model_id": "",
       "version_major": 2,
       "version_minor": 0
      },
      "text/plain": [
       "[CONJUNCTIONS | ADAM, LR = 0.01 | PRODUCT LOGIC | 10 DIMENSIONS | 5 TERMS | FIX IMBALANCE] Run #1, Epoch #84, …"
      ]
     },
     "metadata": {},
     "output_type": "display_data"
    },
    {
     "data": {
      "application/vnd.jupyter.widget-view+json": {
       "model_id": "",
       "version_major": 2,
       "version_minor": 0
      },
      "text/plain": [
       "[CONJUNCTIONS | ADAM, LR = 0.01 | PRODUCT LOGIC | 10 DIMENSIONS | 5 TERMS | FIX IMBALANCE] Run #1, Epoch #85, …"
      ]
     },
     "metadata": {},
     "output_type": "display_data"
    },
    {
     "data": {
      "application/vnd.jupyter.widget-view+json": {
       "model_id": "",
       "version_major": 2,
       "version_minor": 0
      },
      "text/plain": [
       "[CONJUNCTIONS | ADAM, LR = 0.01 | PRODUCT LOGIC | 10 DIMENSIONS | 5 TERMS | FIX IMBALANCE] Run #1, Epoch #85, …"
      ]
     },
     "metadata": {},
     "output_type": "display_data"
    },
    {
     "data": {
      "application/vnd.jupyter.widget-view+json": {
       "model_id": "",
       "version_major": 2,
       "version_minor": 0
      },
      "text/plain": [
       "[CONJUNCTIONS | ADAM, LR = 0.01 | PRODUCT LOGIC | 10 DIMENSIONS | 5 TERMS | FIX IMBALANCE] Run #1, Epoch #85, …"
      ]
     },
     "metadata": {},
     "output_type": "display_data"
    },
    {
     "data": {
      "application/vnd.jupyter.widget-view+json": {
       "model_id": "",
       "version_major": 2,
       "version_minor": 0
      },
      "text/plain": [
       "[CONJUNCTIONS | ADAM, LR = 0.01 | PRODUCT LOGIC | 10 DIMENSIONS | 5 TERMS | FIX IMBALANCE] Run #1, Epoch #86, …"
      ]
     },
     "metadata": {},
     "output_type": "display_data"
    },
    {
     "data": {
      "application/vnd.jupyter.widget-view+json": {
       "model_id": "",
       "version_major": 2,
       "version_minor": 0
      },
      "text/plain": [
       "[CONJUNCTIONS | ADAM, LR = 0.01 | PRODUCT LOGIC | 10 DIMENSIONS | 5 TERMS | FIX IMBALANCE] Run #1, Epoch #86, …"
      ]
     },
     "metadata": {},
     "output_type": "display_data"
    },
    {
     "data": {
      "application/vnd.jupyter.widget-view+json": {
       "model_id": "",
       "version_major": 2,
       "version_minor": 0
      },
      "text/plain": [
       "[CONJUNCTIONS | ADAM, LR = 0.01 | PRODUCT LOGIC | 10 DIMENSIONS | 5 TERMS | FIX IMBALANCE] Run #1, Epoch #86, …"
      ]
     },
     "metadata": {},
     "output_type": "display_data"
    },
    {
     "data": {
      "application/vnd.jupyter.widget-view+json": {
       "model_id": "",
       "version_major": 2,
       "version_minor": 0
      },
      "text/plain": [
       "[CONJUNCTIONS | ADAM, LR = 0.01 | PRODUCT LOGIC | 10 DIMENSIONS | 5 TERMS | FIX IMBALANCE] Run #1, Epoch #87, …"
      ]
     },
     "metadata": {},
     "output_type": "display_data"
    },
    {
     "data": {
      "application/vnd.jupyter.widget-view+json": {
       "model_id": "",
       "version_major": 2,
       "version_minor": 0
      },
      "text/plain": [
       "[CONJUNCTIONS | ADAM, LR = 0.01 | PRODUCT LOGIC | 10 DIMENSIONS | 5 TERMS | FIX IMBALANCE] Run #1, Epoch #87, …"
      ]
     },
     "metadata": {},
     "output_type": "display_data"
    },
    {
     "data": {
      "application/vnd.jupyter.widget-view+json": {
       "model_id": "",
       "version_major": 2,
       "version_minor": 0
      },
      "text/plain": [
       "[CONJUNCTIONS | ADAM, LR = 0.01 | PRODUCT LOGIC | 10 DIMENSIONS | 5 TERMS | FIX IMBALANCE] Run #1, Epoch #87, …"
      ]
     },
     "metadata": {},
     "output_type": "display_data"
    },
    {
     "data": {
      "application/vnd.jupyter.widget-view+json": {
       "model_id": "",
       "version_major": 2,
       "version_minor": 0
      },
      "text/plain": [
       "[CONJUNCTIONS | ADAM, LR = 0.01 | PRODUCT LOGIC | 10 DIMENSIONS | 5 TERMS | FIX IMBALANCE] Run #1, Epoch #88, …"
      ]
     },
     "metadata": {},
     "output_type": "display_data"
    },
    {
     "data": {
      "application/vnd.jupyter.widget-view+json": {
       "model_id": "",
       "version_major": 2,
       "version_minor": 0
      },
      "text/plain": [
       "[CONJUNCTIONS | ADAM, LR = 0.01 | PRODUCT LOGIC | 10 DIMENSIONS | 5 TERMS | FIX IMBALANCE] Run #1, Epoch #88, …"
      ]
     },
     "metadata": {},
     "output_type": "display_data"
    },
    {
     "data": {
      "application/vnd.jupyter.widget-view+json": {
       "model_id": "",
       "version_major": 2,
       "version_minor": 0
      },
      "text/plain": [
       "[CONJUNCTIONS | ADAM, LR = 0.01 | PRODUCT LOGIC | 10 DIMENSIONS | 5 TERMS | FIX IMBALANCE] Run #1, Epoch #88, …"
      ]
     },
     "metadata": {},
     "output_type": "display_data"
    },
    {
     "data": {
      "application/vnd.jupyter.widget-view+json": {
       "model_id": "",
       "version_major": 2,
       "version_minor": 0
      },
      "text/plain": [
       "[CONJUNCTIONS | ADAM, LR = 0.01 | PRODUCT LOGIC | 10 DIMENSIONS | 5 TERMS | FIX IMBALANCE] Run #1, Epoch #89, …"
      ]
     },
     "metadata": {},
     "output_type": "display_data"
    },
    {
     "data": {
      "application/vnd.jupyter.widget-view+json": {
       "model_id": "",
       "version_major": 2,
       "version_minor": 0
      },
      "text/plain": [
       "[CONJUNCTIONS | ADAM, LR = 0.01 | PRODUCT LOGIC | 10 DIMENSIONS | 5 TERMS | FIX IMBALANCE] Run #1, Epoch #89, …"
      ]
     },
     "metadata": {},
     "output_type": "display_data"
    },
    {
     "data": {
      "application/vnd.jupyter.widget-view+json": {
       "model_id": "",
       "version_major": 2,
       "version_minor": 0
      },
      "text/plain": [
       "[CONJUNCTIONS | ADAM, LR = 0.01 | PRODUCT LOGIC | 10 DIMENSIONS | 5 TERMS | FIX IMBALANCE] Run #1, Epoch #89, …"
      ]
     },
     "metadata": {},
     "output_type": "display_data"
    },
    {
     "data": {
      "application/vnd.jupyter.widget-view+json": {
       "model_id": "",
       "version_major": 2,
       "version_minor": 0
      },
      "text/plain": [
       "[CONJUNCTIONS | ADAM, LR = 0.01 | PRODUCT LOGIC | 10 DIMENSIONS | 5 TERMS | FIX IMBALANCE] Run #1, Epoch #90, …"
      ]
     },
     "metadata": {},
     "output_type": "display_data"
    },
    {
     "data": {
      "application/vnd.jupyter.widget-view+json": {
       "model_id": "",
       "version_major": 2,
       "version_minor": 0
      },
      "text/plain": [
       "[CONJUNCTIONS | ADAM, LR = 0.01 | PRODUCT LOGIC | 10 DIMENSIONS | 5 TERMS | FIX IMBALANCE] Run #1, Epoch #90, …"
      ]
     },
     "metadata": {},
     "output_type": "display_data"
    },
    {
     "data": {
      "application/vnd.jupyter.widget-view+json": {
       "model_id": "",
       "version_major": 2,
       "version_minor": 0
      },
      "text/plain": [
       "[CONJUNCTIONS | ADAM, LR = 0.01 | PRODUCT LOGIC | 10 DIMENSIONS | 5 TERMS | FIX IMBALANCE] Run #1, Epoch #90, …"
      ]
     },
     "metadata": {},
     "output_type": "display_data"
    },
    {
     "data": {
      "application/vnd.jupyter.widget-view+json": {
       "model_id": "",
       "version_major": 2,
       "version_minor": 0
      },
      "text/plain": [
       "[CONJUNCTIONS | ADAM, LR = 0.01 | PRODUCT LOGIC | 10 DIMENSIONS | 5 TERMS | FIX IMBALANCE] Run #1, Epoch #91, …"
      ]
     },
     "metadata": {},
     "output_type": "display_data"
    },
    {
     "data": {
      "application/vnd.jupyter.widget-view+json": {
       "model_id": "",
       "version_major": 2,
       "version_minor": 0
      },
      "text/plain": [
       "[CONJUNCTIONS | ADAM, LR = 0.01 | PRODUCT LOGIC | 10 DIMENSIONS | 5 TERMS | FIX IMBALANCE] Run #1, Epoch #91, …"
      ]
     },
     "metadata": {},
     "output_type": "display_data"
    },
    {
     "data": {
      "application/vnd.jupyter.widget-view+json": {
       "model_id": "",
       "version_major": 2,
       "version_minor": 0
      },
      "text/plain": [
       "[CONJUNCTIONS | ADAM, LR = 0.01 | PRODUCT LOGIC | 10 DIMENSIONS | 5 TERMS | FIX IMBALANCE] Run #1, Epoch #91, …"
      ]
     },
     "metadata": {},
     "output_type": "display_data"
    },
    {
     "data": {
      "application/vnd.jupyter.widget-view+json": {
       "model_id": "",
       "version_major": 2,
       "version_minor": 0
      },
      "text/plain": [
       "[CONJUNCTIONS | ADAM, LR = 0.01 | PRODUCT LOGIC | 10 DIMENSIONS | 5 TERMS | FIX IMBALANCE] Run #1, Epoch #92, …"
      ]
     },
     "metadata": {},
     "output_type": "display_data"
    },
    {
     "data": {
      "application/vnd.jupyter.widget-view+json": {
       "model_id": "",
       "version_major": 2,
       "version_minor": 0
      },
      "text/plain": [
       "[CONJUNCTIONS | ADAM, LR = 0.01 | PRODUCT LOGIC | 10 DIMENSIONS | 5 TERMS | FIX IMBALANCE] Run #1, Epoch #92, …"
      ]
     },
     "metadata": {},
     "output_type": "display_data"
    },
    {
     "data": {
      "application/vnd.jupyter.widget-view+json": {
       "model_id": "",
       "version_major": 2,
       "version_minor": 0
      },
      "text/plain": [
       "[CONJUNCTIONS | ADAM, LR = 0.01 | PRODUCT LOGIC | 10 DIMENSIONS | 5 TERMS | FIX IMBALANCE] Run #1, Epoch #92, …"
      ]
     },
     "metadata": {},
     "output_type": "display_data"
    },
    {
     "data": {
      "application/vnd.jupyter.widget-view+json": {
       "model_id": "",
       "version_major": 2,
       "version_minor": 0
      },
      "text/plain": [
       "[CONJUNCTIONS | ADAM, LR = 0.01 | PRODUCT LOGIC | 10 DIMENSIONS | 5 TERMS | FIX IMBALANCE] Run #1, Epoch #93, …"
      ]
     },
     "metadata": {},
     "output_type": "display_data"
    },
    {
     "data": {
      "application/vnd.jupyter.widget-view+json": {
       "model_id": "",
       "version_major": 2,
       "version_minor": 0
      },
      "text/plain": [
       "[CONJUNCTIONS | ADAM, LR = 0.01 | PRODUCT LOGIC | 10 DIMENSIONS | 5 TERMS | FIX IMBALANCE] Run #1, Epoch #93, …"
      ]
     },
     "metadata": {},
     "output_type": "display_data"
    },
    {
     "data": {
      "application/vnd.jupyter.widget-view+json": {
       "model_id": "",
       "version_major": 2,
       "version_minor": 0
      },
      "text/plain": [
       "[CONJUNCTIONS | ADAM, LR = 0.01 | PRODUCT LOGIC | 10 DIMENSIONS | 5 TERMS | FIX IMBALANCE] Run #1, Epoch #93, …"
      ]
     },
     "metadata": {},
     "output_type": "display_data"
    },
    {
     "data": {
      "application/vnd.jupyter.widget-view+json": {
       "model_id": "",
       "version_major": 2,
       "version_minor": 0
      },
      "text/plain": [
       "[CONJUNCTIONS | ADAM, LR = 0.01 | PRODUCT LOGIC | 10 DIMENSIONS | 5 TERMS | FIX IMBALANCE] Run #1, Epoch #94, …"
      ]
     },
     "metadata": {},
     "output_type": "display_data"
    },
    {
     "data": {
      "application/vnd.jupyter.widget-view+json": {
       "model_id": "",
       "version_major": 2,
       "version_minor": 0
      },
      "text/plain": [
       "[CONJUNCTIONS | ADAM, LR = 0.01 | PRODUCT LOGIC | 10 DIMENSIONS | 5 TERMS | FIX IMBALANCE] Run #1, Epoch #94, …"
      ]
     },
     "metadata": {},
     "output_type": "display_data"
    },
    {
     "data": {
      "application/vnd.jupyter.widget-view+json": {
       "model_id": "",
       "version_major": 2,
       "version_minor": 0
      },
      "text/plain": [
       "[CONJUNCTIONS | ADAM, LR = 0.01 | PRODUCT LOGIC | 10 DIMENSIONS | 5 TERMS | FIX IMBALANCE] Run #1, Epoch #94, …"
      ]
     },
     "metadata": {},
     "output_type": "display_data"
    },
    {
     "data": {
      "application/vnd.jupyter.widget-view+json": {
       "model_id": "",
       "version_major": 2,
       "version_minor": 0
      },
      "text/plain": [
       "[CONJUNCTIONS | ADAM, LR = 0.01 | PRODUCT LOGIC | 10 DIMENSIONS | 5 TERMS | FIX IMBALANCE] Run #1, Epoch #95, …"
      ]
     },
     "metadata": {},
     "output_type": "display_data"
    },
    {
     "data": {
      "application/vnd.jupyter.widget-view+json": {
       "model_id": "",
       "version_major": 2,
       "version_minor": 0
      },
      "text/plain": [
       "[CONJUNCTIONS | ADAM, LR = 0.01 | PRODUCT LOGIC | 10 DIMENSIONS | 5 TERMS | FIX IMBALANCE] Run #1, Epoch #95, …"
      ]
     },
     "metadata": {},
     "output_type": "display_data"
    },
    {
     "data": {
      "application/vnd.jupyter.widget-view+json": {
       "model_id": "",
       "version_major": 2,
       "version_minor": 0
      },
      "text/plain": [
       "[CONJUNCTIONS | ADAM, LR = 0.01 | PRODUCT LOGIC | 10 DIMENSIONS | 5 TERMS | FIX IMBALANCE] Run #1, Epoch #95, …"
      ]
     },
     "metadata": {},
     "output_type": "display_data"
    },
    {
     "data": {
      "application/vnd.jupyter.widget-view+json": {
       "model_id": "",
       "version_major": 2,
       "version_minor": 0
      },
      "text/plain": [
       "[CONJUNCTIONS | ADAM, LR = 0.01 | PRODUCT LOGIC | 10 DIMENSIONS | 5 TERMS | FIX IMBALANCE] Run #1, Epoch #96, …"
      ]
     },
     "metadata": {},
     "output_type": "display_data"
    },
    {
     "data": {
      "application/vnd.jupyter.widget-view+json": {
       "model_id": "",
       "version_major": 2,
       "version_minor": 0
      },
      "text/plain": [
       "[CONJUNCTIONS | ADAM, LR = 0.01 | PRODUCT LOGIC | 10 DIMENSIONS | 5 TERMS | FIX IMBALANCE] Run #1, Epoch #96, …"
      ]
     },
     "metadata": {},
     "output_type": "display_data"
    },
    {
     "data": {
      "application/vnd.jupyter.widget-view+json": {
       "model_id": "",
       "version_major": 2,
       "version_minor": 0
      },
      "text/plain": [
       "[CONJUNCTIONS | ADAM, LR = 0.01 | PRODUCT LOGIC | 10 DIMENSIONS | 5 TERMS | FIX IMBALANCE] Run #1, Epoch #96, …"
      ]
     },
     "metadata": {},
     "output_type": "display_data"
    },
    {
     "data": {
      "application/vnd.jupyter.widget-view+json": {
       "model_id": "",
       "version_major": 2,
       "version_minor": 0
      },
      "text/plain": [
       "[CONJUNCTIONS | ADAM, LR = 0.01 | PRODUCT LOGIC | 10 DIMENSIONS | 5 TERMS | FIX IMBALANCE] Run #1, Epoch #97, …"
      ]
     },
     "metadata": {},
     "output_type": "display_data"
    },
    {
     "data": {
      "application/vnd.jupyter.widget-view+json": {
       "model_id": "",
       "version_major": 2,
       "version_minor": 0
      },
      "text/plain": [
       "[CONJUNCTIONS | ADAM, LR = 0.01 | PRODUCT LOGIC | 10 DIMENSIONS | 5 TERMS | FIX IMBALANCE] Run #1, Epoch #97, …"
      ]
     },
     "metadata": {},
     "output_type": "display_data"
    },
    {
     "data": {
      "application/vnd.jupyter.widget-view+json": {
       "model_id": "",
       "version_major": 2,
       "version_minor": 0
      },
      "text/plain": [
       "[CONJUNCTIONS | ADAM, LR = 0.01 | PRODUCT LOGIC | 10 DIMENSIONS | 5 TERMS | FIX IMBALANCE] Run #1, Epoch #97, …"
      ]
     },
     "metadata": {},
     "output_type": "display_data"
    },
    {
     "data": {
      "application/vnd.jupyter.widget-view+json": {
       "model_id": "",
       "version_major": 2,
       "version_minor": 0
      },
      "text/plain": [
       "[CONJUNCTIONS | ADAM, LR = 0.01 | PRODUCT LOGIC | 10 DIMENSIONS | 5 TERMS | FIX IMBALANCE] Run #1, Epoch #98, …"
      ]
     },
     "metadata": {},
     "output_type": "display_data"
    },
    {
     "data": {
      "application/vnd.jupyter.widget-view+json": {
       "model_id": "",
       "version_major": 2,
       "version_minor": 0
      },
      "text/plain": [
       "[CONJUNCTIONS | ADAM, LR = 0.01 | PRODUCT LOGIC | 10 DIMENSIONS | 5 TERMS | FIX IMBALANCE] Run #1, Epoch #98, …"
      ]
     },
     "metadata": {},
     "output_type": "display_data"
    },
    {
     "data": {
      "application/vnd.jupyter.widget-view+json": {
       "model_id": "",
       "version_major": 2,
       "version_minor": 0
      },
      "text/plain": [
       "[CONJUNCTIONS | ADAM, LR = 0.01 | PRODUCT LOGIC | 10 DIMENSIONS | 5 TERMS | FIX IMBALANCE] Run #1, Epoch #98, …"
      ]
     },
     "metadata": {},
     "output_type": "display_data"
    },
    {
     "data": {
      "application/vnd.jupyter.widget-view+json": {
       "model_id": "",
       "version_major": 2,
       "version_minor": 0
      },
      "text/plain": [
       "[CONJUNCTIONS | ADAM, LR = 0.01 | PRODUCT LOGIC | 10 DIMENSIONS | 5 TERMS | FIX IMBALANCE] Run #1, Epoch #99, …"
      ]
     },
     "metadata": {},
     "output_type": "display_data"
    },
    {
     "data": {
      "application/vnd.jupyter.widget-view+json": {
       "model_id": "",
       "version_major": 2,
       "version_minor": 0
      },
      "text/plain": [
       "[CONJUNCTIONS | ADAM, LR = 0.01 | PRODUCT LOGIC | 10 DIMENSIONS | 5 TERMS | FIX IMBALANCE] Run #1, Epoch #99, …"
      ]
     },
     "metadata": {},
     "output_type": "display_data"
    },
    {
     "data": {
      "application/vnd.jupyter.widget-view+json": {
       "model_id": "",
       "version_major": 2,
       "version_minor": 0
      },
      "text/plain": [
       "[CONJUNCTIONS | ADAM, LR = 0.01 | PRODUCT LOGIC | 10 DIMENSIONS | 5 TERMS | FIX IMBALANCE] Run #1, Epoch #99, …"
      ]
     },
     "metadata": {},
     "output_type": "display_data"
    },
    {
     "data": {
      "application/vnd.jupyter.widget-view+json": {
       "model_id": "",
       "version_major": 2,
       "version_minor": 0
      },
      "text/plain": [
       "[CONJUNCTIONS | ADAM, LR = 0.01 | PRODUCT LOGIC | 10 DIMENSIONS | 5 TERMS | FIX IMBALANCE] Run #1, Epoch #100,…"
      ]
     },
     "metadata": {},
     "output_type": "display_data"
    },
    {
     "data": {
      "application/vnd.jupyter.widget-view+json": {
       "model_id": "",
       "version_major": 2,
       "version_minor": 0
      },
      "text/plain": [
       "[CONJUNCTIONS | ADAM, LR = 0.01 | PRODUCT LOGIC | 10 DIMENSIONS | 5 TERMS | FIX IMBALANCE] Run #1, Epoch #100,…"
      ]
     },
     "metadata": {},
     "output_type": "display_data"
    },
    {
     "data": {
      "application/vnd.jupyter.widget-view+json": {
       "model_id": "",
       "version_major": 2,
       "version_minor": 0
      },
      "text/plain": [
       "[CONJUNCTIONS | ADAM, LR = 0.01 | PRODUCT LOGIC | 10 DIMENSIONS | 5 TERMS | FIX IMBALANCE] Run #1, Epoch #100,…"
      ]
     },
     "metadata": {},
     "output_type": "display_data"
    },
    {
     "data": {
      "application/vnd.jupyter.widget-view+json": {
       "model_id": "",
       "version_major": 2,
       "version_minor": 0
      },
      "text/plain": [
       "[CONJUNCTIONS | ADAM, LR = 0.01 | PRODUCT LOGIC | 100 DIMENSIONS | 5 TERMS | FIX IMBALANCE] Run #1, Epoch #1, …"
      ]
     },
     "metadata": {},
     "output_type": "display_data"
    },
    {
     "data": {
      "application/vnd.jupyter.widget-view+json": {
       "model_id": "",
       "version_major": 2,
       "version_minor": 0
      },
      "text/plain": [
       "[CONJUNCTIONS | ADAM, LR = 0.01 | PRODUCT LOGIC | 100 DIMENSIONS | 5 TERMS | FIX IMBALANCE] Run #1, Epoch #1, …"
      ]
     },
     "metadata": {},
     "output_type": "display_data"
    },
    {
     "data": {
      "application/vnd.jupyter.widget-view+json": {
       "model_id": "",
       "version_major": 2,
       "version_minor": 0
      },
      "text/plain": [
       "[CONJUNCTIONS | ADAM, LR = 0.01 | PRODUCT LOGIC | 100 DIMENSIONS | 5 TERMS | FIX IMBALANCE] Run #1, Epoch #1, …"
      ]
     },
     "metadata": {},
     "output_type": "display_data"
    },
    {
     "data": {
      "application/vnd.jupyter.widget-view+json": {
       "model_id": "",
       "version_major": 2,
       "version_minor": 0
      },
      "text/plain": [
       "[CONJUNCTIONS | ADAM, LR = 0.01 | PRODUCT LOGIC | 100 DIMENSIONS | 5 TERMS | FIX IMBALANCE] Run #1, Epoch #2, …"
      ]
     },
     "metadata": {},
     "output_type": "display_data"
    },
    {
     "data": {
      "application/vnd.jupyter.widget-view+json": {
       "model_id": "",
       "version_major": 2,
       "version_minor": 0
      },
      "text/plain": [
       "[CONJUNCTIONS | ADAM, LR = 0.01 | PRODUCT LOGIC | 100 DIMENSIONS | 5 TERMS | FIX IMBALANCE] Run #1, Epoch #2, …"
      ]
     },
     "metadata": {},
     "output_type": "display_data"
    },
    {
     "data": {
      "application/vnd.jupyter.widget-view+json": {
       "model_id": "",
       "version_major": 2,
       "version_minor": 0
      },
      "text/plain": [
       "[CONJUNCTIONS | ADAM, LR = 0.01 | PRODUCT LOGIC | 100 DIMENSIONS | 5 TERMS | FIX IMBALANCE] Run #1, Epoch #2, …"
      ]
     },
     "metadata": {},
     "output_type": "display_data"
    },
    {
     "data": {
      "application/vnd.jupyter.widget-view+json": {
       "model_id": "",
       "version_major": 2,
       "version_minor": 0
      },
      "text/plain": [
       "[CONJUNCTIONS | ADAM, LR = 0.01 | PRODUCT LOGIC | 100 DIMENSIONS | 5 TERMS | FIX IMBALANCE] Run #1, Epoch #3, …"
      ]
     },
     "metadata": {},
     "output_type": "display_data"
    },
    {
     "data": {
      "application/vnd.jupyter.widget-view+json": {
       "model_id": "",
       "version_major": 2,
       "version_minor": 0
      },
      "text/plain": [
       "[CONJUNCTIONS | ADAM, LR = 0.01 | PRODUCT LOGIC | 100 DIMENSIONS | 5 TERMS | FIX IMBALANCE] Run #1, Epoch #3, …"
      ]
     },
     "metadata": {},
     "output_type": "display_data"
    },
    {
     "data": {
      "application/vnd.jupyter.widget-view+json": {
       "model_id": "",
       "version_major": 2,
       "version_minor": 0
      },
      "text/plain": [
       "[CONJUNCTIONS | ADAM, LR = 0.01 | PRODUCT LOGIC | 100 DIMENSIONS | 5 TERMS | FIX IMBALANCE] Run #1, Epoch #3, …"
      ]
     },
     "metadata": {},
     "output_type": "display_data"
    },
    {
     "data": {
      "application/vnd.jupyter.widget-view+json": {
       "model_id": "",
       "version_major": 2,
       "version_minor": 0
      },
      "text/plain": [
       "[CONJUNCTIONS | ADAM, LR = 0.01 | PRODUCT LOGIC | 100 DIMENSIONS | 5 TERMS | FIX IMBALANCE] Run #1, Epoch #4, …"
      ]
     },
     "metadata": {},
     "output_type": "display_data"
    },
    {
     "data": {
      "application/vnd.jupyter.widget-view+json": {
       "model_id": "",
       "version_major": 2,
       "version_minor": 0
      },
      "text/plain": [
       "[CONJUNCTIONS | ADAM, LR = 0.01 | PRODUCT LOGIC | 100 DIMENSIONS | 5 TERMS | FIX IMBALANCE] Run #1, Epoch #4, …"
      ]
     },
     "metadata": {},
     "output_type": "display_data"
    },
    {
     "data": {
      "application/vnd.jupyter.widget-view+json": {
       "model_id": "",
       "version_major": 2,
       "version_minor": 0
      },
      "text/plain": [
       "[CONJUNCTIONS | ADAM, LR = 0.01 | PRODUCT LOGIC | 100 DIMENSIONS | 5 TERMS | FIX IMBALANCE] Run #1, Epoch #4, …"
      ]
     },
     "metadata": {},
     "output_type": "display_data"
    },
    {
     "data": {
      "application/vnd.jupyter.widget-view+json": {
       "model_id": "",
       "version_major": 2,
       "version_minor": 0
      },
      "text/plain": [
       "[CONJUNCTIONS | ADAM, LR = 0.01 | PRODUCT LOGIC | 100 DIMENSIONS | 5 TERMS | FIX IMBALANCE] Run #1, Epoch #5, …"
      ]
     },
     "metadata": {},
     "output_type": "display_data"
    },
    {
     "data": {
      "application/vnd.jupyter.widget-view+json": {
       "model_id": "",
       "version_major": 2,
       "version_minor": 0
      },
      "text/plain": [
       "[CONJUNCTIONS | ADAM, LR = 0.01 | PRODUCT LOGIC | 100 DIMENSIONS | 5 TERMS | FIX IMBALANCE] Run #1, Epoch #5, …"
      ]
     },
     "metadata": {},
     "output_type": "display_data"
    },
    {
     "data": {
      "application/vnd.jupyter.widget-view+json": {
       "model_id": "",
       "version_major": 2,
       "version_minor": 0
      },
      "text/plain": [
       "[CONJUNCTIONS | ADAM, LR = 0.01 | PRODUCT LOGIC | 100 DIMENSIONS | 5 TERMS | FIX IMBALANCE] Run #1, Epoch #5, …"
      ]
     },
     "metadata": {},
     "output_type": "display_data"
    },
    {
     "data": {
      "application/vnd.jupyter.widget-view+json": {
       "model_id": "",
       "version_major": 2,
       "version_minor": 0
      },
      "text/plain": [
       "[CONJUNCTIONS | ADAM, LR = 0.01 | PRODUCT LOGIC | 100 DIMENSIONS | 5 TERMS | FIX IMBALANCE] Run #1, Epoch #6, …"
      ]
     },
     "metadata": {},
     "output_type": "display_data"
    },
    {
     "data": {
      "application/vnd.jupyter.widget-view+json": {
       "model_id": "",
       "version_major": 2,
       "version_minor": 0
      },
      "text/plain": [
       "[CONJUNCTIONS | ADAM, LR = 0.01 | PRODUCT LOGIC | 100 DIMENSIONS | 5 TERMS | FIX IMBALANCE] Run #1, Epoch #6, …"
      ]
     },
     "metadata": {},
     "output_type": "display_data"
    },
    {
     "data": {
      "application/vnd.jupyter.widget-view+json": {
       "model_id": "",
       "version_major": 2,
       "version_minor": 0
      },
      "text/plain": [
       "[CONJUNCTIONS | ADAM, LR = 0.01 | PRODUCT LOGIC | 100 DIMENSIONS | 5 TERMS | FIX IMBALANCE] Run #1, Epoch #6, …"
      ]
     },
     "metadata": {},
     "output_type": "display_data"
    },
    {
     "data": {
      "application/vnd.jupyter.widget-view+json": {
       "model_id": "",
       "version_major": 2,
       "version_minor": 0
      },
      "text/plain": [
       "[CONJUNCTIONS | ADAM, LR = 0.01 | PRODUCT LOGIC | 100 DIMENSIONS | 5 TERMS | FIX IMBALANCE] Run #1, Epoch #7, …"
      ]
     },
     "metadata": {},
     "output_type": "display_data"
    },
    {
     "data": {
      "application/vnd.jupyter.widget-view+json": {
       "model_id": "",
       "version_major": 2,
       "version_minor": 0
      },
      "text/plain": [
       "[CONJUNCTIONS | ADAM, LR = 0.01 | PRODUCT LOGIC | 100 DIMENSIONS | 5 TERMS | FIX IMBALANCE] Run #1, Epoch #7, …"
      ]
     },
     "metadata": {},
     "output_type": "display_data"
    },
    {
     "data": {
      "application/vnd.jupyter.widget-view+json": {
       "model_id": "",
       "version_major": 2,
       "version_minor": 0
      },
      "text/plain": [
       "[CONJUNCTIONS | ADAM, LR = 0.01 | PRODUCT LOGIC | 100 DIMENSIONS | 5 TERMS | FIX IMBALANCE] Run #1, Epoch #7, …"
      ]
     },
     "metadata": {},
     "output_type": "display_data"
    },
    {
     "data": {
      "application/vnd.jupyter.widget-view+json": {
       "model_id": "",
       "version_major": 2,
       "version_minor": 0
      },
      "text/plain": [
       "[CONJUNCTIONS | ADAM, LR = 0.01 | PRODUCT LOGIC | 100 DIMENSIONS | 5 TERMS | FIX IMBALANCE] Run #1, Epoch #8, …"
      ]
     },
     "metadata": {},
     "output_type": "display_data"
    },
    {
     "data": {
      "application/vnd.jupyter.widget-view+json": {
       "model_id": "",
       "version_major": 2,
       "version_minor": 0
      },
      "text/plain": [
       "[CONJUNCTIONS | ADAM, LR = 0.01 | PRODUCT LOGIC | 100 DIMENSIONS | 5 TERMS | FIX IMBALANCE] Run #1, Epoch #8, …"
      ]
     },
     "metadata": {},
     "output_type": "display_data"
    },
    {
     "data": {
      "application/vnd.jupyter.widget-view+json": {
       "model_id": "",
       "version_major": 2,
       "version_minor": 0
      },
      "text/plain": [
       "[CONJUNCTIONS | ADAM, LR = 0.01 | PRODUCT LOGIC | 100 DIMENSIONS | 5 TERMS | FIX IMBALANCE] Run #1, Epoch #8, …"
      ]
     },
     "metadata": {},
     "output_type": "display_data"
    },
    {
     "data": {
      "application/vnd.jupyter.widget-view+json": {
       "model_id": "",
       "version_major": 2,
       "version_minor": 0
      },
      "text/plain": [
       "[CONJUNCTIONS | ADAM, LR = 0.01 | PRODUCT LOGIC | 100 DIMENSIONS | 5 TERMS | FIX IMBALANCE] Run #1, Epoch #9, …"
      ]
     },
     "metadata": {},
     "output_type": "display_data"
    },
    {
     "data": {
      "application/vnd.jupyter.widget-view+json": {
       "model_id": "",
       "version_major": 2,
       "version_minor": 0
      },
      "text/plain": [
       "[CONJUNCTIONS | ADAM, LR = 0.01 | PRODUCT LOGIC | 100 DIMENSIONS | 5 TERMS | FIX IMBALANCE] Run #1, Epoch #9, …"
      ]
     },
     "metadata": {},
     "output_type": "display_data"
    },
    {
     "data": {
      "application/vnd.jupyter.widget-view+json": {
       "model_id": "",
       "version_major": 2,
       "version_minor": 0
      },
      "text/plain": [
       "[CONJUNCTIONS | ADAM, LR = 0.01 | PRODUCT LOGIC | 100 DIMENSIONS | 5 TERMS | FIX IMBALANCE] Run #1, Epoch #9, …"
      ]
     },
     "metadata": {},
     "output_type": "display_data"
    },
    {
     "data": {
      "application/vnd.jupyter.widget-view+json": {
       "model_id": "",
       "version_major": 2,
       "version_minor": 0
      },
      "text/plain": [
       "[CONJUNCTIONS | ADAM, LR = 0.01 | PRODUCT LOGIC | 100 DIMENSIONS | 5 TERMS | FIX IMBALANCE] Run #1, Epoch #10,…"
      ]
     },
     "metadata": {},
     "output_type": "display_data"
    },
    {
     "data": {
      "application/vnd.jupyter.widget-view+json": {
       "model_id": "",
       "version_major": 2,
       "version_minor": 0
      },
      "text/plain": [
       "[CONJUNCTIONS | ADAM, LR = 0.01 | PRODUCT LOGIC | 100 DIMENSIONS | 5 TERMS | FIX IMBALANCE] Run #1, Epoch #10,…"
      ]
     },
     "metadata": {},
     "output_type": "display_data"
    },
    {
     "data": {
      "application/vnd.jupyter.widget-view+json": {
       "model_id": "",
       "version_major": 2,
       "version_minor": 0
      },
      "text/plain": [
       "[CONJUNCTIONS | ADAM, LR = 0.01 | PRODUCT LOGIC | 100 DIMENSIONS | 5 TERMS | FIX IMBALANCE] Run #1, Epoch #10,…"
      ]
     },
     "metadata": {},
     "output_type": "display_data"
    },
    {
     "data": {
      "application/vnd.jupyter.widget-view+json": {
       "model_id": "",
       "version_major": 2,
       "version_minor": 0
      },
      "text/plain": [
       "[CONJUNCTIONS | ADAM, LR = 0.01 | PRODUCT LOGIC | 100 DIMENSIONS | 5 TERMS | FIX IMBALANCE] Run #1, Epoch #11,…"
      ]
     },
     "metadata": {},
     "output_type": "display_data"
    },
    {
     "data": {
      "application/vnd.jupyter.widget-view+json": {
       "model_id": "",
       "version_major": 2,
       "version_minor": 0
      },
      "text/plain": [
       "[CONJUNCTIONS | ADAM, LR = 0.01 | PRODUCT LOGIC | 100 DIMENSIONS | 5 TERMS | FIX IMBALANCE] Run #1, Epoch #11,…"
      ]
     },
     "metadata": {},
     "output_type": "display_data"
    },
    {
     "data": {
      "application/vnd.jupyter.widget-view+json": {
       "model_id": "",
       "version_major": 2,
       "version_minor": 0
      },
      "text/plain": [
       "[CONJUNCTIONS | ADAM, LR = 0.01 | PRODUCT LOGIC | 100 DIMENSIONS | 5 TERMS | FIX IMBALANCE] Run #1, Epoch #11,…"
      ]
     },
     "metadata": {},
     "output_type": "display_data"
    },
    {
     "data": {
      "application/vnd.jupyter.widget-view+json": {
       "model_id": "",
       "version_major": 2,
       "version_minor": 0
      },
      "text/plain": [
       "[CONJUNCTIONS | ADAM, LR = 0.01 | PRODUCT LOGIC | 100 DIMENSIONS | 5 TERMS | FIX IMBALANCE] Run #1, Epoch #12,…"
      ]
     },
     "metadata": {},
     "output_type": "display_data"
    },
    {
     "data": {
      "application/vnd.jupyter.widget-view+json": {
       "model_id": "",
       "version_major": 2,
       "version_minor": 0
      },
      "text/plain": [
       "[CONJUNCTIONS | ADAM, LR = 0.01 | PRODUCT LOGIC | 100 DIMENSIONS | 5 TERMS | FIX IMBALANCE] Run #1, Epoch #12,…"
      ]
     },
     "metadata": {},
     "output_type": "display_data"
    },
    {
     "data": {
      "application/vnd.jupyter.widget-view+json": {
       "model_id": "",
       "version_major": 2,
       "version_minor": 0
      },
      "text/plain": [
       "[CONJUNCTIONS | ADAM, LR = 0.01 | PRODUCT LOGIC | 100 DIMENSIONS | 5 TERMS | FIX IMBALANCE] Run #1, Epoch #12,…"
      ]
     },
     "metadata": {},
     "output_type": "display_data"
    },
    {
     "data": {
      "application/vnd.jupyter.widget-view+json": {
       "model_id": "",
       "version_major": 2,
       "version_minor": 0
      },
      "text/plain": [
       "[CONJUNCTIONS | ADAM, LR = 0.01 | PRODUCT LOGIC | 100 DIMENSIONS | 5 TERMS | FIX IMBALANCE] Run #1, Epoch #13,…"
      ]
     },
     "metadata": {},
     "output_type": "display_data"
    },
    {
     "data": {
      "application/vnd.jupyter.widget-view+json": {
       "model_id": "",
       "version_major": 2,
       "version_minor": 0
      },
      "text/plain": [
       "[CONJUNCTIONS | ADAM, LR = 0.01 | PRODUCT LOGIC | 100 DIMENSIONS | 5 TERMS | FIX IMBALANCE] Run #1, Epoch #13,…"
      ]
     },
     "metadata": {},
     "output_type": "display_data"
    },
    {
     "data": {
      "application/vnd.jupyter.widget-view+json": {
       "model_id": "",
       "version_major": 2,
       "version_minor": 0
      },
      "text/plain": [
       "[CONJUNCTIONS | ADAM, LR = 0.01 | PRODUCT LOGIC | 100 DIMENSIONS | 5 TERMS | FIX IMBALANCE] Run #1, Epoch #13,…"
      ]
     },
     "metadata": {},
     "output_type": "display_data"
    },
    {
     "data": {
      "application/vnd.jupyter.widget-view+json": {
       "model_id": "",
       "version_major": 2,
       "version_minor": 0
      },
      "text/plain": [
       "[CONJUNCTIONS | ADAM, LR = 0.01 | PRODUCT LOGIC | 100 DIMENSIONS | 5 TERMS | FIX IMBALANCE] Run #1, Epoch #14,…"
      ]
     },
     "metadata": {},
     "output_type": "display_data"
    },
    {
     "data": {
      "application/vnd.jupyter.widget-view+json": {
       "model_id": "",
       "version_major": 2,
       "version_minor": 0
      },
      "text/plain": [
       "[CONJUNCTIONS | ADAM, LR = 0.01 | PRODUCT LOGIC | 100 DIMENSIONS | 5 TERMS | FIX IMBALANCE] Run #1, Epoch #14,…"
      ]
     },
     "metadata": {},
     "output_type": "display_data"
    },
    {
     "data": {
      "application/vnd.jupyter.widget-view+json": {
       "model_id": "",
       "version_major": 2,
       "version_minor": 0
      },
      "text/plain": [
       "[CONJUNCTIONS | ADAM, LR = 0.01 | PRODUCT LOGIC | 100 DIMENSIONS | 5 TERMS | FIX IMBALANCE] Run #1, Epoch #14,…"
      ]
     },
     "metadata": {},
     "output_type": "display_data"
    },
    {
     "data": {
      "application/vnd.jupyter.widget-view+json": {
       "model_id": "",
       "version_major": 2,
       "version_minor": 0
      },
      "text/plain": [
       "[CONJUNCTIONS | ADAM, LR = 0.01 | PRODUCT LOGIC | 100 DIMENSIONS | 5 TERMS | FIX IMBALANCE] Run #1, Epoch #15,…"
      ]
     },
     "metadata": {},
     "output_type": "display_data"
    },
    {
     "data": {
      "application/vnd.jupyter.widget-view+json": {
       "model_id": "",
       "version_major": 2,
       "version_minor": 0
      },
      "text/plain": [
       "[CONJUNCTIONS | ADAM, LR = 0.01 | PRODUCT LOGIC | 100 DIMENSIONS | 5 TERMS | FIX IMBALANCE] Run #1, Epoch #15,…"
      ]
     },
     "metadata": {},
     "output_type": "display_data"
    },
    {
     "data": {
      "application/vnd.jupyter.widget-view+json": {
       "model_id": "",
       "version_major": 2,
       "version_minor": 0
      },
      "text/plain": [
       "[CONJUNCTIONS | ADAM, LR = 0.01 | PRODUCT LOGIC | 100 DIMENSIONS | 5 TERMS | FIX IMBALANCE] Run #1, Epoch #15,…"
      ]
     },
     "metadata": {},
     "output_type": "display_data"
    },
    {
     "data": {
      "application/vnd.jupyter.widget-view+json": {
       "model_id": "",
       "version_major": 2,
       "version_minor": 0
      },
      "text/plain": [
       "[CONJUNCTIONS | ADAM, LR = 0.01 | PRODUCT LOGIC | 100 DIMENSIONS | 5 TERMS | FIX IMBALANCE] Run #1, Epoch #16,…"
      ]
     },
     "metadata": {},
     "output_type": "display_data"
    },
    {
     "data": {
      "application/vnd.jupyter.widget-view+json": {
       "model_id": "",
       "version_major": 2,
       "version_minor": 0
      },
      "text/plain": [
       "[CONJUNCTIONS | ADAM, LR = 0.01 | PRODUCT LOGIC | 100 DIMENSIONS | 5 TERMS | FIX IMBALANCE] Run #1, Epoch #16,…"
      ]
     },
     "metadata": {},
     "output_type": "display_data"
    },
    {
     "data": {
      "application/vnd.jupyter.widget-view+json": {
       "model_id": "",
       "version_major": 2,
       "version_minor": 0
      },
      "text/plain": [
       "[CONJUNCTIONS | ADAM, LR = 0.01 | PRODUCT LOGIC | 100 DIMENSIONS | 5 TERMS | FIX IMBALANCE] Run #1, Epoch #16,…"
      ]
     },
     "metadata": {},
     "output_type": "display_data"
    },
    {
     "data": {
      "application/vnd.jupyter.widget-view+json": {
       "model_id": "",
       "version_major": 2,
       "version_minor": 0
      },
      "text/plain": [
       "[CONJUNCTIONS | ADAM, LR = 0.01 | PRODUCT LOGIC | 100 DIMENSIONS | 5 TERMS | FIX IMBALANCE] Run #1, Epoch #17,…"
      ]
     },
     "metadata": {},
     "output_type": "display_data"
    },
    {
     "data": {
      "application/vnd.jupyter.widget-view+json": {
       "model_id": "",
       "version_major": 2,
       "version_minor": 0
      },
      "text/plain": [
       "[CONJUNCTIONS | ADAM, LR = 0.01 | PRODUCT LOGIC | 100 DIMENSIONS | 5 TERMS | FIX IMBALANCE] Run #1, Epoch #17,…"
      ]
     },
     "metadata": {},
     "output_type": "display_data"
    },
    {
     "data": {
      "application/vnd.jupyter.widget-view+json": {
       "model_id": "",
       "version_major": 2,
       "version_minor": 0
      },
      "text/plain": [
       "[CONJUNCTIONS | ADAM, LR = 0.01 | PRODUCT LOGIC | 100 DIMENSIONS | 5 TERMS | FIX IMBALANCE] Run #1, Epoch #17,…"
      ]
     },
     "metadata": {},
     "output_type": "display_data"
    },
    {
     "data": {
      "application/vnd.jupyter.widget-view+json": {
       "model_id": "",
       "version_major": 2,
       "version_minor": 0
      },
      "text/plain": [
       "[CONJUNCTIONS | ADAM, LR = 0.01 | PRODUCT LOGIC | 100 DIMENSIONS | 5 TERMS | FIX IMBALANCE] Run #1, Epoch #18,…"
      ]
     },
     "metadata": {},
     "output_type": "display_data"
    },
    {
     "data": {
      "application/vnd.jupyter.widget-view+json": {
       "model_id": "",
       "version_major": 2,
       "version_minor": 0
      },
      "text/plain": [
       "[CONJUNCTIONS | ADAM, LR = 0.01 | PRODUCT LOGIC | 100 DIMENSIONS | 5 TERMS | FIX IMBALANCE] Run #1, Epoch #18,…"
      ]
     },
     "metadata": {},
     "output_type": "display_data"
    },
    {
     "data": {
      "application/vnd.jupyter.widget-view+json": {
       "model_id": "",
       "version_major": 2,
       "version_minor": 0
      },
      "text/plain": [
       "[CONJUNCTIONS | ADAM, LR = 0.01 | PRODUCT LOGIC | 100 DIMENSIONS | 5 TERMS | FIX IMBALANCE] Run #1, Epoch #18,…"
      ]
     },
     "metadata": {},
     "output_type": "display_data"
    },
    {
     "data": {
      "application/vnd.jupyter.widget-view+json": {
       "model_id": "",
       "version_major": 2,
       "version_minor": 0
      },
      "text/plain": [
       "[CONJUNCTIONS | ADAM, LR = 0.01 | PRODUCT LOGIC | 100 DIMENSIONS | 5 TERMS | FIX IMBALANCE] Run #1, Epoch #19,…"
      ]
     },
     "metadata": {},
     "output_type": "display_data"
    },
    {
     "data": {
      "application/vnd.jupyter.widget-view+json": {
       "model_id": "",
       "version_major": 2,
       "version_minor": 0
      },
      "text/plain": [
       "[CONJUNCTIONS | ADAM, LR = 0.01 | PRODUCT LOGIC | 100 DIMENSIONS | 5 TERMS | FIX IMBALANCE] Run #1, Epoch #19,…"
      ]
     },
     "metadata": {},
     "output_type": "display_data"
    },
    {
     "data": {
      "application/vnd.jupyter.widget-view+json": {
       "model_id": "",
       "version_major": 2,
       "version_minor": 0
      },
      "text/plain": [
       "[CONJUNCTIONS | ADAM, LR = 0.01 | PRODUCT LOGIC | 100 DIMENSIONS | 5 TERMS | FIX IMBALANCE] Run #1, Epoch #19,…"
      ]
     },
     "metadata": {},
     "output_type": "display_data"
    },
    {
     "data": {
      "application/vnd.jupyter.widget-view+json": {
       "model_id": "",
       "version_major": 2,
       "version_minor": 0
      },
      "text/plain": [
       "[CONJUNCTIONS | ADAM, LR = 0.01 | PRODUCT LOGIC | 100 DIMENSIONS | 5 TERMS | FIX IMBALANCE] Run #1, Epoch #20,…"
      ]
     },
     "metadata": {},
     "output_type": "display_data"
    },
    {
     "data": {
      "application/vnd.jupyter.widget-view+json": {
       "model_id": "",
       "version_major": 2,
       "version_minor": 0
      },
      "text/plain": [
       "[CONJUNCTIONS | ADAM, LR = 0.01 | PRODUCT LOGIC | 100 DIMENSIONS | 5 TERMS | FIX IMBALANCE] Run #1, Epoch #20,…"
      ]
     },
     "metadata": {},
     "output_type": "display_data"
    },
    {
     "data": {
      "application/vnd.jupyter.widget-view+json": {
       "model_id": "",
       "version_major": 2,
       "version_minor": 0
      },
      "text/plain": [
       "[CONJUNCTIONS | ADAM, LR = 0.01 | PRODUCT LOGIC | 100 DIMENSIONS | 5 TERMS | FIX IMBALANCE] Run #1, Epoch #20,…"
      ]
     },
     "metadata": {},
     "output_type": "display_data"
    },
    {
     "data": {
      "application/vnd.jupyter.widget-view+json": {
       "model_id": "",
       "version_major": 2,
       "version_minor": 0
      },
      "text/plain": [
       "[CONJUNCTIONS | ADAM, LR = 0.01 | PRODUCT LOGIC | 100 DIMENSIONS | 5 TERMS | FIX IMBALANCE] Run #1, Epoch #21,…"
      ]
     },
     "metadata": {},
     "output_type": "display_data"
    },
    {
     "data": {
      "application/vnd.jupyter.widget-view+json": {
       "model_id": "",
       "version_major": 2,
       "version_minor": 0
      },
      "text/plain": [
       "[CONJUNCTIONS | ADAM, LR = 0.01 | PRODUCT LOGIC | 100 DIMENSIONS | 5 TERMS | FIX IMBALANCE] Run #1, Epoch #21,…"
      ]
     },
     "metadata": {},
     "output_type": "display_data"
    },
    {
     "data": {
      "application/vnd.jupyter.widget-view+json": {
       "model_id": "",
       "version_major": 2,
       "version_minor": 0
      },
      "text/plain": [
       "[CONJUNCTIONS | ADAM, LR = 0.01 | PRODUCT LOGIC | 100 DIMENSIONS | 5 TERMS | FIX IMBALANCE] Run #1, Epoch #21,…"
      ]
     },
     "metadata": {},
     "output_type": "display_data"
    },
    {
     "data": {
      "application/vnd.jupyter.widget-view+json": {
       "model_id": "",
       "version_major": 2,
       "version_minor": 0
      },
      "text/plain": [
       "[CONJUNCTIONS | ADAM, LR = 0.01 | PRODUCT LOGIC | 100 DIMENSIONS | 5 TERMS | FIX IMBALANCE] Run #1, Epoch #22,…"
      ]
     },
     "metadata": {},
     "output_type": "display_data"
    },
    {
     "data": {
      "application/vnd.jupyter.widget-view+json": {
       "model_id": "",
       "version_major": 2,
       "version_minor": 0
      },
      "text/plain": [
       "[CONJUNCTIONS | ADAM, LR = 0.01 | PRODUCT LOGIC | 100 DIMENSIONS | 5 TERMS | FIX IMBALANCE] Run #1, Epoch #22,…"
      ]
     },
     "metadata": {},
     "output_type": "display_data"
    },
    {
     "data": {
      "application/vnd.jupyter.widget-view+json": {
       "model_id": "",
       "version_major": 2,
       "version_minor": 0
      },
      "text/plain": [
       "[CONJUNCTIONS | ADAM, LR = 0.01 | PRODUCT LOGIC | 100 DIMENSIONS | 5 TERMS | FIX IMBALANCE] Run #1, Epoch #22,…"
      ]
     },
     "metadata": {},
     "output_type": "display_data"
    },
    {
     "data": {
      "application/vnd.jupyter.widget-view+json": {
       "model_id": "",
       "version_major": 2,
       "version_minor": 0
      },
      "text/plain": [
       "[CONJUNCTIONS | ADAM, LR = 0.01 | PRODUCT LOGIC | 100 DIMENSIONS | 5 TERMS | FIX IMBALANCE] Run #1, Epoch #23,…"
      ]
     },
     "metadata": {},
     "output_type": "display_data"
    },
    {
     "data": {
      "application/vnd.jupyter.widget-view+json": {
       "model_id": "",
       "version_major": 2,
       "version_minor": 0
      },
      "text/plain": [
       "[CONJUNCTIONS | ADAM, LR = 0.01 | PRODUCT LOGIC | 100 DIMENSIONS | 5 TERMS | FIX IMBALANCE] Run #1, Epoch #23,…"
      ]
     },
     "metadata": {},
     "output_type": "display_data"
    },
    {
     "data": {
      "application/vnd.jupyter.widget-view+json": {
       "model_id": "",
       "version_major": 2,
       "version_minor": 0
      },
      "text/plain": [
       "[CONJUNCTIONS | ADAM, LR = 0.01 | PRODUCT LOGIC | 100 DIMENSIONS | 5 TERMS | FIX IMBALANCE] Run #1, Epoch #23,…"
      ]
     },
     "metadata": {},
     "output_type": "display_data"
    },
    {
     "data": {
      "application/vnd.jupyter.widget-view+json": {
       "model_id": "",
       "version_major": 2,
       "version_minor": 0
      },
      "text/plain": [
       "[CONJUNCTIONS | ADAM, LR = 0.01 | PRODUCT LOGIC | 100 DIMENSIONS | 5 TERMS | FIX IMBALANCE] Run #1, Epoch #24,…"
      ]
     },
     "metadata": {},
     "output_type": "display_data"
    },
    {
     "data": {
      "application/vnd.jupyter.widget-view+json": {
       "model_id": "",
       "version_major": 2,
       "version_minor": 0
      },
      "text/plain": [
       "[CONJUNCTIONS | ADAM, LR = 0.01 | PRODUCT LOGIC | 100 DIMENSIONS | 5 TERMS | FIX IMBALANCE] Run #1, Epoch #24,…"
      ]
     },
     "metadata": {},
     "output_type": "display_data"
    },
    {
     "data": {
      "application/vnd.jupyter.widget-view+json": {
       "model_id": "",
       "version_major": 2,
       "version_minor": 0
      },
      "text/plain": [
       "[CONJUNCTIONS | ADAM, LR = 0.01 | PRODUCT LOGIC | 100 DIMENSIONS | 5 TERMS | FIX IMBALANCE] Run #1, Epoch #24,…"
      ]
     },
     "metadata": {},
     "output_type": "display_data"
    },
    {
     "data": {
      "application/vnd.jupyter.widget-view+json": {
       "model_id": "",
       "version_major": 2,
       "version_minor": 0
      },
      "text/plain": [
       "[CONJUNCTIONS | ADAM, LR = 0.01 | PRODUCT LOGIC | 100 DIMENSIONS | 5 TERMS | FIX IMBALANCE] Run #1, Epoch #25,…"
      ]
     },
     "metadata": {},
     "output_type": "display_data"
    },
    {
     "data": {
      "application/vnd.jupyter.widget-view+json": {
       "model_id": "",
       "version_major": 2,
       "version_minor": 0
      },
      "text/plain": [
       "[CONJUNCTIONS | ADAM, LR = 0.01 | PRODUCT LOGIC | 100 DIMENSIONS | 5 TERMS | FIX IMBALANCE] Run #1, Epoch #25,…"
      ]
     },
     "metadata": {},
     "output_type": "display_data"
    },
    {
     "data": {
      "application/vnd.jupyter.widget-view+json": {
       "model_id": "",
       "version_major": 2,
       "version_minor": 0
      },
      "text/plain": [
       "[CONJUNCTIONS | ADAM, LR = 0.01 | PRODUCT LOGIC | 100 DIMENSIONS | 5 TERMS | FIX IMBALANCE] Run #1, Epoch #25,…"
      ]
     },
     "metadata": {},
     "output_type": "display_data"
    },
    {
     "data": {
      "application/vnd.jupyter.widget-view+json": {
       "model_id": "",
       "version_major": 2,
       "version_minor": 0
      },
      "text/plain": [
       "[CONJUNCTIONS | ADAM, LR = 0.01 | PRODUCT LOGIC | 100 DIMENSIONS | 5 TERMS | FIX IMBALANCE] Run #1, Epoch #26,…"
      ]
     },
     "metadata": {},
     "output_type": "display_data"
    },
    {
     "data": {
      "application/vnd.jupyter.widget-view+json": {
       "model_id": "",
       "version_major": 2,
       "version_minor": 0
      },
      "text/plain": [
       "[CONJUNCTIONS | ADAM, LR = 0.01 | PRODUCT LOGIC | 100 DIMENSIONS | 5 TERMS | FIX IMBALANCE] Run #1, Epoch #26,…"
      ]
     },
     "metadata": {},
     "output_type": "display_data"
    },
    {
     "data": {
      "application/vnd.jupyter.widget-view+json": {
       "model_id": "",
       "version_major": 2,
       "version_minor": 0
      },
      "text/plain": [
       "[CONJUNCTIONS | ADAM, LR = 0.01 | PRODUCT LOGIC | 100 DIMENSIONS | 5 TERMS | FIX IMBALANCE] Run #1, Epoch #26,…"
      ]
     },
     "metadata": {},
     "output_type": "display_data"
    },
    {
     "data": {
      "application/vnd.jupyter.widget-view+json": {
       "model_id": "",
       "version_major": 2,
       "version_minor": 0
      },
      "text/plain": [
       "[CONJUNCTIONS | ADAM, LR = 0.01 | PRODUCT LOGIC | 100 DIMENSIONS | 5 TERMS | FIX IMBALANCE] Run #1, Epoch #27,…"
      ]
     },
     "metadata": {},
     "output_type": "display_data"
    },
    {
     "data": {
      "application/vnd.jupyter.widget-view+json": {
       "model_id": "",
       "version_major": 2,
       "version_minor": 0
      },
      "text/plain": [
       "[CONJUNCTIONS | ADAM, LR = 0.01 | PRODUCT LOGIC | 100 DIMENSIONS | 5 TERMS | FIX IMBALANCE] Run #1, Epoch #27,…"
      ]
     },
     "metadata": {},
     "output_type": "display_data"
    },
    {
     "data": {
      "application/vnd.jupyter.widget-view+json": {
       "model_id": "",
       "version_major": 2,
       "version_minor": 0
      },
      "text/plain": [
       "[CONJUNCTIONS | ADAM, LR = 0.01 | PRODUCT LOGIC | 100 DIMENSIONS | 5 TERMS | FIX IMBALANCE] Run #1, Epoch #27,…"
      ]
     },
     "metadata": {},
     "output_type": "display_data"
    },
    {
     "data": {
      "application/vnd.jupyter.widget-view+json": {
       "model_id": "",
       "version_major": 2,
       "version_minor": 0
      },
      "text/plain": [
       "[CONJUNCTIONS | ADAM, LR = 0.01 | PRODUCT LOGIC | 100 DIMENSIONS | 5 TERMS | FIX IMBALANCE] Run #1, Epoch #28,…"
      ]
     },
     "metadata": {},
     "output_type": "display_data"
    },
    {
     "data": {
      "application/vnd.jupyter.widget-view+json": {
       "model_id": "",
       "version_major": 2,
       "version_minor": 0
      },
      "text/plain": [
       "[CONJUNCTIONS | ADAM, LR = 0.01 | PRODUCT LOGIC | 100 DIMENSIONS | 5 TERMS | FIX IMBALANCE] Run #1, Epoch #28,…"
      ]
     },
     "metadata": {},
     "output_type": "display_data"
    },
    {
     "data": {
      "application/vnd.jupyter.widget-view+json": {
       "model_id": "",
       "version_major": 2,
       "version_minor": 0
      },
      "text/plain": [
       "[CONJUNCTIONS | ADAM, LR = 0.01 | PRODUCT LOGIC | 100 DIMENSIONS | 5 TERMS | FIX IMBALANCE] Run #1, Epoch #28,…"
      ]
     },
     "metadata": {},
     "output_type": "display_data"
    },
    {
     "data": {
      "application/vnd.jupyter.widget-view+json": {
       "model_id": "",
       "version_major": 2,
       "version_minor": 0
      },
      "text/plain": [
       "[CONJUNCTIONS | ADAM, LR = 0.01 | PRODUCT LOGIC | 100 DIMENSIONS | 5 TERMS | FIX IMBALANCE] Run #1, Epoch #29,…"
      ]
     },
     "metadata": {},
     "output_type": "display_data"
    },
    {
     "data": {
      "application/vnd.jupyter.widget-view+json": {
       "model_id": "",
       "version_major": 2,
       "version_minor": 0
      },
      "text/plain": [
       "[CONJUNCTIONS | ADAM, LR = 0.01 | PRODUCT LOGIC | 100 DIMENSIONS | 5 TERMS | FIX IMBALANCE] Run #1, Epoch #29,…"
      ]
     },
     "metadata": {},
     "output_type": "display_data"
    },
    {
     "data": {
      "application/vnd.jupyter.widget-view+json": {
       "model_id": "",
       "version_major": 2,
       "version_minor": 0
      },
      "text/plain": [
       "[CONJUNCTIONS | ADAM, LR = 0.01 | PRODUCT LOGIC | 100 DIMENSIONS | 5 TERMS | FIX IMBALANCE] Run #1, Epoch #29,…"
      ]
     },
     "metadata": {},
     "output_type": "display_data"
    },
    {
     "data": {
      "application/vnd.jupyter.widget-view+json": {
       "model_id": "",
       "version_major": 2,
       "version_minor": 0
      },
      "text/plain": [
       "[CONJUNCTIONS | ADAM, LR = 0.01 | PRODUCT LOGIC | 100 DIMENSIONS | 5 TERMS | FIX IMBALANCE] Run #1, Epoch #30,…"
      ]
     },
     "metadata": {},
     "output_type": "display_data"
    },
    {
     "data": {
      "application/vnd.jupyter.widget-view+json": {
       "model_id": "",
       "version_major": 2,
       "version_minor": 0
      },
      "text/plain": [
       "[CONJUNCTIONS | ADAM, LR = 0.01 | PRODUCT LOGIC | 100 DIMENSIONS | 5 TERMS | FIX IMBALANCE] Run #1, Epoch #30,…"
      ]
     },
     "metadata": {},
     "output_type": "display_data"
    },
    {
     "data": {
      "application/vnd.jupyter.widget-view+json": {
       "model_id": "",
       "version_major": 2,
       "version_minor": 0
      },
      "text/plain": [
       "[CONJUNCTIONS | ADAM, LR = 0.01 | PRODUCT LOGIC | 100 DIMENSIONS | 5 TERMS | FIX IMBALANCE] Run #1, Epoch #30,…"
      ]
     },
     "metadata": {},
     "output_type": "display_data"
    },
    {
     "data": {
      "application/vnd.jupyter.widget-view+json": {
       "model_id": "",
       "version_major": 2,
       "version_minor": 0
      },
      "text/plain": [
       "[CONJUNCTIONS | ADAM, LR = 0.01 | PRODUCT LOGIC | 100 DIMENSIONS | 5 TERMS | FIX IMBALANCE] Run #1, Epoch #31,…"
      ]
     },
     "metadata": {},
     "output_type": "display_data"
    },
    {
     "data": {
      "application/vnd.jupyter.widget-view+json": {
       "model_id": "",
       "version_major": 2,
       "version_minor": 0
      },
      "text/plain": [
       "[CONJUNCTIONS | ADAM, LR = 0.01 | PRODUCT LOGIC | 100 DIMENSIONS | 5 TERMS | FIX IMBALANCE] Run #1, Epoch #31,…"
      ]
     },
     "metadata": {},
     "output_type": "display_data"
    },
    {
     "data": {
      "application/vnd.jupyter.widget-view+json": {
       "model_id": "",
       "version_major": 2,
       "version_minor": 0
      },
      "text/plain": [
       "[CONJUNCTIONS | ADAM, LR = 0.01 | PRODUCT LOGIC | 100 DIMENSIONS | 5 TERMS | FIX IMBALANCE] Run #1, Epoch #31,…"
      ]
     },
     "metadata": {},
     "output_type": "display_data"
    },
    {
     "data": {
      "application/vnd.jupyter.widget-view+json": {
       "model_id": "",
       "version_major": 2,
       "version_minor": 0
      },
      "text/plain": [
       "[CONJUNCTIONS | ADAM, LR = 0.01 | PRODUCT LOGIC | 100 DIMENSIONS | 5 TERMS | FIX IMBALANCE] Run #1, Epoch #32,…"
      ]
     },
     "metadata": {},
     "output_type": "display_data"
    },
    {
     "data": {
      "application/vnd.jupyter.widget-view+json": {
       "model_id": "",
       "version_major": 2,
       "version_minor": 0
      },
      "text/plain": [
       "[CONJUNCTIONS | ADAM, LR = 0.01 | PRODUCT LOGIC | 100 DIMENSIONS | 5 TERMS | FIX IMBALANCE] Run #1, Epoch #32,…"
      ]
     },
     "metadata": {},
     "output_type": "display_data"
    },
    {
     "data": {
      "application/vnd.jupyter.widget-view+json": {
       "model_id": "",
       "version_major": 2,
       "version_minor": 0
      },
      "text/plain": [
       "[CONJUNCTIONS | ADAM, LR = 0.01 | PRODUCT LOGIC | 100 DIMENSIONS | 5 TERMS | FIX IMBALANCE] Run #1, Epoch #32,…"
      ]
     },
     "metadata": {},
     "output_type": "display_data"
    },
    {
     "data": {
      "application/vnd.jupyter.widget-view+json": {
       "model_id": "",
       "version_major": 2,
       "version_minor": 0
      },
      "text/plain": [
       "[CONJUNCTIONS | ADAM, LR = 0.01 | PRODUCT LOGIC | 100 DIMENSIONS | 5 TERMS | FIX IMBALANCE] Run #1, Epoch #33,…"
      ]
     },
     "metadata": {},
     "output_type": "display_data"
    },
    {
     "data": {
      "application/vnd.jupyter.widget-view+json": {
       "model_id": "",
       "version_major": 2,
       "version_minor": 0
      },
      "text/plain": [
       "[CONJUNCTIONS | ADAM, LR = 0.01 | PRODUCT LOGIC | 100 DIMENSIONS | 5 TERMS | FIX IMBALANCE] Run #1, Epoch #33,…"
      ]
     },
     "metadata": {},
     "output_type": "display_data"
    },
    {
     "data": {
      "application/vnd.jupyter.widget-view+json": {
       "model_id": "",
       "version_major": 2,
       "version_minor": 0
      },
      "text/plain": [
       "[CONJUNCTIONS | ADAM, LR = 0.01 | PRODUCT LOGIC | 100 DIMENSIONS | 5 TERMS | FIX IMBALANCE] Run #1, Epoch #33,…"
      ]
     },
     "metadata": {},
     "output_type": "display_data"
    },
    {
     "data": {
      "application/vnd.jupyter.widget-view+json": {
       "model_id": "",
       "version_major": 2,
       "version_minor": 0
      },
      "text/plain": [
       "[CONJUNCTIONS | ADAM, LR = 0.01 | PRODUCT LOGIC | 100 DIMENSIONS | 5 TERMS | FIX IMBALANCE] Run #1, Epoch #34,…"
      ]
     },
     "metadata": {},
     "output_type": "display_data"
    },
    {
     "data": {
      "application/vnd.jupyter.widget-view+json": {
       "model_id": "",
       "version_major": 2,
       "version_minor": 0
      },
      "text/plain": [
       "[CONJUNCTIONS | ADAM, LR = 0.01 | PRODUCT LOGIC | 100 DIMENSIONS | 5 TERMS | FIX IMBALANCE] Run #1, Epoch #34,…"
      ]
     },
     "metadata": {},
     "output_type": "display_data"
    },
    {
     "data": {
      "application/vnd.jupyter.widget-view+json": {
       "model_id": "",
       "version_major": 2,
       "version_minor": 0
      },
      "text/plain": [
       "[CONJUNCTIONS | ADAM, LR = 0.01 | PRODUCT LOGIC | 100 DIMENSIONS | 5 TERMS | FIX IMBALANCE] Run #1, Epoch #34,…"
      ]
     },
     "metadata": {},
     "output_type": "display_data"
    },
    {
     "data": {
      "application/vnd.jupyter.widget-view+json": {
       "model_id": "",
       "version_major": 2,
       "version_minor": 0
      },
      "text/plain": [
       "[CONJUNCTIONS | ADAM, LR = 0.01 | PRODUCT LOGIC | 100 DIMENSIONS | 5 TERMS | FIX IMBALANCE] Run #1, Epoch #35,…"
      ]
     },
     "metadata": {},
     "output_type": "display_data"
    },
    {
     "data": {
      "application/vnd.jupyter.widget-view+json": {
       "model_id": "",
       "version_major": 2,
       "version_minor": 0
      },
      "text/plain": [
       "[CONJUNCTIONS | ADAM, LR = 0.01 | PRODUCT LOGIC | 100 DIMENSIONS | 5 TERMS | FIX IMBALANCE] Run #1, Epoch #35,…"
      ]
     },
     "metadata": {},
     "output_type": "display_data"
    },
    {
     "data": {
      "application/vnd.jupyter.widget-view+json": {
       "model_id": "",
       "version_major": 2,
       "version_minor": 0
      },
      "text/plain": [
       "[CONJUNCTIONS | ADAM, LR = 0.01 | PRODUCT LOGIC | 100 DIMENSIONS | 5 TERMS | FIX IMBALANCE] Run #1, Epoch #35,…"
      ]
     },
     "metadata": {},
     "output_type": "display_data"
    },
    {
     "data": {
      "application/vnd.jupyter.widget-view+json": {
       "model_id": "",
       "version_major": 2,
       "version_minor": 0
      },
      "text/plain": [
       "[CONJUNCTIONS | ADAM, LR = 0.01 | PRODUCT LOGIC | 100 DIMENSIONS | 5 TERMS | FIX IMBALANCE] Run #1, Epoch #36,…"
      ]
     },
     "metadata": {},
     "output_type": "display_data"
    },
    {
     "data": {
      "application/vnd.jupyter.widget-view+json": {
       "model_id": "",
       "version_major": 2,
       "version_minor": 0
      },
      "text/plain": [
       "[CONJUNCTIONS | ADAM, LR = 0.01 | PRODUCT LOGIC | 100 DIMENSIONS | 5 TERMS | FIX IMBALANCE] Run #1, Epoch #36,…"
      ]
     },
     "metadata": {},
     "output_type": "display_data"
    },
    {
     "data": {
      "application/vnd.jupyter.widget-view+json": {
       "model_id": "",
       "version_major": 2,
       "version_minor": 0
      },
      "text/plain": [
       "[CONJUNCTIONS | ADAM, LR = 0.01 | PRODUCT LOGIC | 100 DIMENSIONS | 5 TERMS | FIX IMBALANCE] Run #1, Epoch #36,…"
      ]
     },
     "metadata": {},
     "output_type": "display_data"
    },
    {
     "data": {
      "application/vnd.jupyter.widget-view+json": {
       "model_id": "",
       "version_major": 2,
       "version_minor": 0
      },
      "text/plain": [
       "[CONJUNCTIONS | ADAM, LR = 0.01 | PRODUCT LOGIC | 100 DIMENSIONS | 5 TERMS | FIX IMBALANCE] Run #1, Epoch #37,…"
      ]
     },
     "metadata": {},
     "output_type": "display_data"
    },
    {
     "data": {
      "application/vnd.jupyter.widget-view+json": {
       "model_id": "",
       "version_major": 2,
       "version_minor": 0
      },
      "text/plain": [
       "[CONJUNCTIONS | ADAM, LR = 0.01 | PRODUCT LOGIC | 100 DIMENSIONS | 5 TERMS | FIX IMBALANCE] Run #1, Epoch #37,…"
      ]
     },
     "metadata": {},
     "output_type": "display_data"
    },
    {
     "data": {
      "application/vnd.jupyter.widget-view+json": {
       "model_id": "",
       "version_major": 2,
       "version_minor": 0
      },
      "text/plain": [
       "[CONJUNCTIONS | ADAM, LR = 0.01 | PRODUCT LOGIC | 100 DIMENSIONS | 5 TERMS | FIX IMBALANCE] Run #1, Epoch #37,…"
      ]
     },
     "metadata": {},
     "output_type": "display_data"
    },
    {
     "data": {
      "application/vnd.jupyter.widget-view+json": {
       "model_id": "",
       "version_major": 2,
       "version_minor": 0
      },
      "text/plain": [
       "[CONJUNCTIONS | ADAM, LR = 0.01 | PRODUCT LOGIC | 100 DIMENSIONS | 5 TERMS | FIX IMBALANCE] Run #1, Epoch #38,…"
      ]
     },
     "metadata": {},
     "output_type": "display_data"
    },
    {
     "data": {
      "application/vnd.jupyter.widget-view+json": {
       "model_id": "",
       "version_major": 2,
       "version_minor": 0
      },
      "text/plain": [
       "[CONJUNCTIONS | ADAM, LR = 0.01 | PRODUCT LOGIC | 100 DIMENSIONS | 5 TERMS | FIX IMBALANCE] Run #1, Epoch #38,…"
      ]
     },
     "metadata": {},
     "output_type": "display_data"
    },
    {
     "data": {
      "application/vnd.jupyter.widget-view+json": {
       "model_id": "",
       "version_major": 2,
       "version_minor": 0
      },
      "text/plain": [
       "[CONJUNCTIONS | ADAM, LR = 0.01 | PRODUCT LOGIC | 100 DIMENSIONS | 5 TERMS | FIX IMBALANCE] Run #1, Epoch #38,…"
      ]
     },
     "metadata": {},
     "output_type": "display_data"
    },
    {
     "data": {
      "application/vnd.jupyter.widget-view+json": {
       "model_id": "",
       "version_major": 2,
       "version_minor": 0
      },
      "text/plain": [
       "[CONJUNCTIONS | ADAM, LR = 0.01 | PRODUCT LOGIC | 100 DIMENSIONS | 5 TERMS | FIX IMBALANCE] Run #1, Epoch #39,…"
      ]
     },
     "metadata": {},
     "output_type": "display_data"
    },
    {
     "data": {
      "application/vnd.jupyter.widget-view+json": {
       "model_id": "",
       "version_major": 2,
       "version_minor": 0
      },
      "text/plain": [
       "[CONJUNCTIONS | ADAM, LR = 0.01 | PRODUCT LOGIC | 100 DIMENSIONS | 5 TERMS | FIX IMBALANCE] Run #1, Epoch #39,…"
      ]
     },
     "metadata": {},
     "output_type": "display_data"
    },
    {
     "data": {
      "application/vnd.jupyter.widget-view+json": {
       "model_id": "",
       "version_major": 2,
       "version_minor": 0
      },
      "text/plain": [
       "[CONJUNCTIONS | ADAM, LR = 0.01 | PRODUCT LOGIC | 100 DIMENSIONS | 5 TERMS | FIX IMBALANCE] Run #1, Epoch #39,…"
      ]
     },
     "metadata": {},
     "output_type": "display_data"
    },
    {
     "data": {
      "application/vnd.jupyter.widget-view+json": {
       "model_id": "",
       "version_major": 2,
       "version_minor": 0
      },
      "text/plain": [
       "[CONJUNCTIONS | ADAM, LR = 0.01 | PRODUCT LOGIC | 100 DIMENSIONS | 5 TERMS | FIX IMBALANCE] Run #1, Epoch #40,…"
      ]
     },
     "metadata": {},
     "output_type": "display_data"
    },
    {
     "data": {
      "application/vnd.jupyter.widget-view+json": {
       "model_id": "",
       "version_major": 2,
       "version_minor": 0
      },
      "text/plain": [
       "[CONJUNCTIONS | ADAM, LR = 0.01 | PRODUCT LOGIC | 100 DIMENSIONS | 5 TERMS | FIX IMBALANCE] Run #1, Epoch #40,…"
      ]
     },
     "metadata": {},
     "output_type": "display_data"
    },
    {
     "data": {
      "application/vnd.jupyter.widget-view+json": {
       "model_id": "",
       "version_major": 2,
       "version_minor": 0
      },
      "text/plain": [
       "[CONJUNCTIONS | ADAM, LR = 0.01 | PRODUCT LOGIC | 100 DIMENSIONS | 5 TERMS | FIX IMBALANCE] Run #1, Epoch #40,…"
      ]
     },
     "metadata": {},
     "output_type": "display_data"
    },
    {
     "data": {
      "application/vnd.jupyter.widget-view+json": {
       "model_id": "",
       "version_major": 2,
       "version_minor": 0
      },
      "text/plain": [
       "[CONJUNCTIONS | ADAM, LR = 0.01 | PRODUCT LOGIC | 100 DIMENSIONS | 5 TERMS | FIX IMBALANCE] Run #1, Epoch #41,…"
      ]
     },
     "metadata": {},
     "output_type": "display_data"
    },
    {
     "data": {
      "application/vnd.jupyter.widget-view+json": {
       "model_id": "",
       "version_major": 2,
       "version_minor": 0
      },
      "text/plain": [
       "[CONJUNCTIONS | ADAM, LR = 0.01 | PRODUCT LOGIC | 100 DIMENSIONS | 5 TERMS | FIX IMBALANCE] Run #1, Epoch #41,…"
      ]
     },
     "metadata": {},
     "output_type": "display_data"
    },
    {
     "data": {
      "application/vnd.jupyter.widget-view+json": {
       "model_id": "",
       "version_major": 2,
       "version_minor": 0
      },
      "text/plain": [
       "[CONJUNCTIONS | ADAM, LR = 0.01 | PRODUCT LOGIC | 100 DIMENSIONS | 5 TERMS | FIX IMBALANCE] Run #1, Epoch #41,…"
      ]
     },
     "metadata": {},
     "output_type": "display_data"
    },
    {
     "data": {
      "application/vnd.jupyter.widget-view+json": {
       "model_id": "",
       "version_major": 2,
       "version_minor": 0
      },
      "text/plain": [
       "[CONJUNCTIONS | ADAM, LR = 0.01 | PRODUCT LOGIC | 100 DIMENSIONS | 5 TERMS | FIX IMBALANCE] Run #1, Epoch #42,…"
      ]
     },
     "metadata": {},
     "output_type": "display_data"
    },
    {
     "data": {
      "application/vnd.jupyter.widget-view+json": {
       "model_id": "",
       "version_major": 2,
       "version_minor": 0
      },
      "text/plain": [
       "[CONJUNCTIONS | ADAM, LR = 0.01 | PRODUCT LOGIC | 100 DIMENSIONS | 5 TERMS | FIX IMBALANCE] Run #1, Epoch #42,…"
      ]
     },
     "metadata": {},
     "output_type": "display_data"
    },
    {
     "data": {
      "application/vnd.jupyter.widget-view+json": {
       "model_id": "",
       "version_major": 2,
       "version_minor": 0
      },
      "text/plain": [
       "[CONJUNCTIONS | ADAM, LR = 0.01 | PRODUCT LOGIC | 100 DIMENSIONS | 5 TERMS | FIX IMBALANCE] Run #1, Epoch #42,…"
      ]
     },
     "metadata": {},
     "output_type": "display_data"
    },
    {
     "data": {
      "application/vnd.jupyter.widget-view+json": {
       "model_id": "",
       "version_major": 2,
       "version_minor": 0
      },
      "text/plain": [
       "[CONJUNCTIONS | ADAM, LR = 0.01 | PRODUCT LOGIC | 100 DIMENSIONS | 5 TERMS | FIX IMBALANCE] Run #1, Epoch #43,…"
      ]
     },
     "metadata": {},
     "output_type": "display_data"
    },
    {
     "data": {
      "application/vnd.jupyter.widget-view+json": {
       "model_id": "",
       "version_major": 2,
       "version_minor": 0
      },
      "text/plain": [
       "[CONJUNCTIONS | ADAM, LR = 0.01 | PRODUCT LOGIC | 100 DIMENSIONS | 5 TERMS | FIX IMBALANCE] Run #1, Epoch #43,…"
      ]
     },
     "metadata": {},
     "output_type": "display_data"
    },
    {
     "data": {
      "application/vnd.jupyter.widget-view+json": {
       "model_id": "",
       "version_major": 2,
       "version_minor": 0
      },
      "text/plain": [
       "[CONJUNCTIONS | ADAM, LR = 0.01 | PRODUCT LOGIC | 100 DIMENSIONS | 5 TERMS | FIX IMBALANCE] Run #1, Epoch #43,…"
      ]
     },
     "metadata": {},
     "output_type": "display_data"
    },
    {
     "data": {
      "application/vnd.jupyter.widget-view+json": {
       "model_id": "",
       "version_major": 2,
       "version_minor": 0
      },
      "text/plain": [
       "[CONJUNCTIONS | ADAM, LR = 0.01 | PRODUCT LOGIC | 100 DIMENSIONS | 5 TERMS | FIX IMBALANCE] Run #1, Epoch #44,…"
      ]
     },
     "metadata": {},
     "output_type": "display_data"
    },
    {
     "data": {
      "application/vnd.jupyter.widget-view+json": {
       "model_id": "",
       "version_major": 2,
       "version_minor": 0
      },
      "text/plain": [
       "[CONJUNCTIONS | ADAM, LR = 0.01 | PRODUCT LOGIC | 100 DIMENSIONS | 5 TERMS | FIX IMBALANCE] Run #1, Epoch #44,…"
      ]
     },
     "metadata": {},
     "output_type": "display_data"
    },
    {
     "data": {
      "application/vnd.jupyter.widget-view+json": {
       "model_id": "",
       "version_major": 2,
       "version_minor": 0
      },
      "text/plain": [
       "[CONJUNCTIONS | ADAM, LR = 0.01 | PRODUCT LOGIC | 100 DIMENSIONS | 5 TERMS | FIX IMBALANCE] Run #1, Epoch #44,…"
      ]
     },
     "metadata": {},
     "output_type": "display_data"
    },
    {
     "data": {
      "application/vnd.jupyter.widget-view+json": {
       "model_id": "",
       "version_major": 2,
       "version_minor": 0
      },
      "text/plain": [
       "[CONJUNCTIONS | ADAM, LR = 0.01 | PRODUCT LOGIC | 100 DIMENSIONS | 5 TERMS | FIX IMBALANCE] Run #1, Epoch #45,…"
      ]
     },
     "metadata": {},
     "output_type": "display_data"
    },
    {
     "data": {
      "application/vnd.jupyter.widget-view+json": {
       "model_id": "",
       "version_major": 2,
       "version_minor": 0
      },
      "text/plain": [
       "[CONJUNCTIONS | ADAM, LR = 0.01 | PRODUCT LOGIC | 100 DIMENSIONS | 5 TERMS | FIX IMBALANCE] Run #1, Epoch #45,…"
      ]
     },
     "metadata": {},
     "output_type": "display_data"
    },
    {
     "data": {
      "application/vnd.jupyter.widget-view+json": {
       "model_id": "",
       "version_major": 2,
       "version_minor": 0
      },
      "text/plain": [
       "[CONJUNCTIONS | ADAM, LR = 0.01 | PRODUCT LOGIC | 100 DIMENSIONS | 5 TERMS | FIX IMBALANCE] Run #1, Epoch #45,…"
      ]
     },
     "metadata": {},
     "output_type": "display_data"
    },
    {
     "data": {
      "application/vnd.jupyter.widget-view+json": {
       "model_id": "",
       "version_major": 2,
       "version_minor": 0
      },
      "text/plain": [
       "[CONJUNCTIONS | ADAM, LR = 0.01 | PRODUCT LOGIC | 100 DIMENSIONS | 5 TERMS | FIX IMBALANCE] Run #1, Epoch #46,…"
      ]
     },
     "metadata": {},
     "output_type": "display_data"
    },
    {
     "data": {
      "application/vnd.jupyter.widget-view+json": {
       "model_id": "",
       "version_major": 2,
       "version_minor": 0
      },
      "text/plain": [
       "[CONJUNCTIONS | ADAM, LR = 0.01 | PRODUCT LOGIC | 100 DIMENSIONS | 5 TERMS | FIX IMBALANCE] Run #1, Epoch #46,…"
      ]
     },
     "metadata": {},
     "output_type": "display_data"
    },
    {
     "data": {
      "application/vnd.jupyter.widget-view+json": {
       "model_id": "",
       "version_major": 2,
       "version_minor": 0
      },
      "text/plain": [
       "[CONJUNCTIONS | ADAM, LR = 0.01 | PRODUCT LOGIC | 100 DIMENSIONS | 5 TERMS | FIX IMBALANCE] Run #1, Epoch #46,…"
      ]
     },
     "metadata": {},
     "output_type": "display_data"
    },
    {
     "data": {
      "application/vnd.jupyter.widget-view+json": {
       "model_id": "",
       "version_major": 2,
       "version_minor": 0
      },
      "text/plain": [
       "[CONJUNCTIONS | ADAM, LR = 0.01 | PRODUCT LOGIC | 100 DIMENSIONS | 5 TERMS | FIX IMBALANCE] Run #1, Epoch #47,…"
      ]
     },
     "metadata": {},
     "output_type": "display_data"
    },
    {
     "data": {
      "application/vnd.jupyter.widget-view+json": {
       "model_id": "",
       "version_major": 2,
       "version_minor": 0
      },
      "text/plain": [
       "[CONJUNCTIONS | ADAM, LR = 0.01 | PRODUCT LOGIC | 100 DIMENSIONS | 5 TERMS | FIX IMBALANCE] Run #1, Epoch #47,…"
      ]
     },
     "metadata": {},
     "output_type": "display_data"
    },
    {
     "data": {
      "application/vnd.jupyter.widget-view+json": {
       "model_id": "",
       "version_major": 2,
       "version_minor": 0
      },
      "text/plain": [
       "[CONJUNCTIONS | ADAM, LR = 0.01 | PRODUCT LOGIC | 100 DIMENSIONS | 5 TERMS | FIX IMBALANCE] Run #1, Epoch #47,…"
      ]
     },
     "metadata": {},
     "output_type": "display_data"
    },
    {
     "data": {
      "application/vnd.jupyter.widget-view+json": {
       "model_id": "",
       "version_major": 2,
       "version_minor": 0
      },
      "text/plain": [
       "[CONJUNCTIONS | ADAM, LR = 0.01 | PRODUCT LOGIC | 100 DIMENSIONS | 5 TERMS | FIX IMBALANCE] Run #1, Epoch #48,…"
      ]
     },
     "metadata": {},
     "output_type": "display_data"
    },
    {
     "data": {
      "application/vnd.jupyter.widget-view+json": {
       "model_id": "",
       "version_major": 2,
       "version_minor": 0
      },
      "text/plain": [
       "[CONJUNCTIONS | ADAM, LR = 0.01 | PRODUCT LOGIC | 100 DIMENSIONS | 5 TERMS | FIX IMBALANCE] Run #1, Epoch #48,…"
      ]
     },
     "metadata": {},
     "output_type": "display_data"
    },
    {
     "data": {
      "application/vnd.jupyter.widget-view+json": {
       "model_id": "",
       "version_major": 2,
       "version_minor": 0
      },
      "text/plain": [
       "[CONJUNCTIONS | ADAM, LR = 0.01 | PRODUCT LOGIC | 100 DIMENSIONS | 5 TERMS | FIX IMBALANCE] Run #1, Epoch #48,…"
      ]
     },
     "metadata": {},
     "output_type": "display_data"
    },
    {
     "data": {
      "application/vnd.jupyter.widget-view+json": {
       "model_id": "",
       "version_major": 2,
       "version_minor": 0
      },
      "text/plain": [
       "[CONJUNCTIONS | ADAM, LR = 0.01 | PRODUCT LOGIC | 100 DIMENSIONS | 5 TERMS | FIX IMBALANCE] Run #1, Epoch #49,…"
      ]
     },
     "metadata": {},
     "output_type": "display_data"
    },
    {
     "data": {
      "application/vnd.jupyter.widget-view+json": {
       "model_id": "",
       "version_major": 2,
       "version_minor": 0
      },
      "text/plain": [
       "[CONJUNCTIONS | ADAM, LR = 0.01 | PRODUCT LOGIC | 100 DIMENSIONS | 5 TERMS | FIX IMBALANCE] Run #1, Epoch #49,…"
      ]
     },
     "metadata": {},
     "output_type": "display_data"
    },
    {
     "data": {
      "application/vnd.jupyter.widget-view+json": {
       "model_id": "",
       "version_major": 2,
       "version_minor": 0
      },
      "text/plain": [
       "[CONJUNCTIONS | ADAM, LR = 0.01 | PRODUCT LOGIC | 100 DIMENSIONS | 5 TERMS | FIX IMBALANCE] Run #1, Epoch #49,…"
      ]
     },
     "metadata": {},
     "output_type": "display_data"
    },
    {
     "data": {
      "application/vnd.jupyter.widget-view+json": {
       "model_id": "",
       "version_major": 2,
       "version_minor": 0
      },
      "text/plain": [
       "[CONJUNCTIONS | ADAM, LR = 0.01 | PRODUCT LOGIC | 100 DIMENSIONS | 5 TERMS | FIX IMBALANCE] Run #1, Epoch #50,…"
      ]
     },
     "metadata": {},
     "output_type": "display_data"
    },
    {
     "data": {
      "application/vnd.jupyter.widget-view+json": {
       "model_id": "",
       "version_major": 2,
       "version_minor": 0
      },
      "text/plain": [
       "[CONJUNCTIONS | ADAM, LR = 0.01 | PRODUCT LOGIC | 100 DIMENSIONS | 5 TERMS | FIX IMBALANCE] Run #1, Epoch #50,…"
      ]
     },
     "metadata": {},
     "output_type": "display_data"
    },
    {
     "data": {
      "application/vnd.jupyter.widget-view+json": {
       "model_id": "",
       "version_major": 2,
       "version_minor": 0
      },
      "text/plain": [
       "[CONJUNCTIONS | ADAM, LR = 0.01 | PRODUCT LOGIC | 100 DIMENSIONS | 5 TERMS | FIX IMBALANCE] Run #1, Epoch #50,…"
      ]
     },
     "metadata": {},
     "output_type": "display_data"
    },
    {
     "data": {
      "application/vnd.jupyter.widget-view+json": {
       "model_id": "",
       "version_major": 2,
       "version_minor": 0
      },
      "text/plain": [
       "[CONJUNCTIONS | ADAM, LR = 0.01 | PRODUCT LOGIC | 100 DIMENSIONS | 5 TERMS | FIX IMBALANCE] Run #1, Epoch #51,…"
      ]
     },
     "metadata": {},
     "output_type": "display_data"
    },
    {
     "data": {
      "application/vnd.jupyter.widget-view+json": {
       "model_id": "",
       "version_major": 2,
       "version_minor": 0
      },
      "text/plain": [
       "[CONJUNCTIONS | ADAM, LR = 0.01 | PRODUCT LOGIC | 100 DIMENSIONS | 5 TERMS | FIX IMBALANCE] Run #1, Epoch #51,…"
      ]
     },
     "metadata": {},
     "output_type": "display_data"
    },
    {
     "data": {
      "application/vnd.jupyter.widget-view+json": {
       "model_id": "",
       "version_major": 2,
       "version_minor": 0
      },
      "text/plain": [
       "[CONJUNCTIONS | ADAM, LR = 0.01 | PRODUCT LOGIC | 100 DIMENSIONS | 5 TERMS | FIX IMBALANCE] Run #1, Epoch #51,…"
      ]
     },
     "metadata": {},
     "output_type": "display_data"
    },
    {
     "data": {
      "application/vnd.jupyter.widget-view+json": {
       "model_id": "",
       "version_major": 2,
       "version_minor": 0
      },
      "text/plain": [
       "[CONJUNCTIONS | ADAM, LR = 0.01 | PRODUCT LOGIC | 100 DIMENSIONS | 5 TERMS | FIX IMBALANCE] Run #1, Epoch #52,…"
      ]
     },
     "metadata": {},
     "output_type": "display_data"
    },
    {
     "data": {
      "application/vnd.jupyter.widget-view+json": {
       "model_id": "",
       "version_major": 2,
       "version_minor": 0
      },
      "text/plain": [
       "[CONJUNCTIONS | ADAM, LR = 0.01 | PRODUCT LOGIC | 100 DIMENSIONS | 5 TERMS | FIX IMBALANCE] Run #1, Epoch #52,…"
      ]
     },
     "metadata": {},
     "output_type": "display_data"
    },
    {
     "data": {
      "application/vnd.jupyter.widget-view+json": {
       "model_id": "",
       "version_major": 2,
       "version_minor": 0
      },
      "text/plain": [
       "[CONJUNCTIONS | ADAM, LR = 0.01 | PRODUCT LOGIC | 100 DIMENSIONS | 5 TERMS | FIX IMBALANCE] Run #1, Epoch #52,…"
      ]
     },
     "metadata": {},
     "output_type": "display_data"
    },
    {
     "data": {
      "application/vnd.jupyter.widget-view+json": {
       "model_id": "",
       "version_major": 2,
       "version_minor": 0
      },
      "text/plain": [
       "[CONJUNCTIONS | ADAM, LR = 0.01 | PRODUCT LOGIC | 100 DIMENSIONS | 5 TERMS | FIX IMBALANCE] Run #1, Epoch #53,…"
      ]
     },
     "metadata": {},
     "output_type": "display_data"
    },
    {
     "data": {
      "application/vnd.jupyter.widget-view+json": {
       "model_id": "",
       "version_major": 2,
       "version_minor": 0
      },
      "text/plain": [
       "[CONJUNCTIONS | ADAM, LR = 0.01 | PRODUCT LOGIC | 100 DIMENSIONS | 5 TERMS | FIX IMBALANCE] Run #1, Epoch #53,…"
      ]
     },
     "metadata": {},
     "output_type": "display_data"
    },
    {
     "data": {
      "application/vnd.jupyter.widget-view+json": {
       "model_id": "",
       "version_major": 2,
       "version_minor": 0
      },
      "text/plain": [
       "[CONJUNCTIONS | ADAM, LR = 0.01 | PRODUCT LOGIC | 100 DIMENSIONS | 5 TERMS | FIX IMBALANCE] Run #1, Epoch #53,…"
      ]
     },
     "metadata": {},
     "output_type": "display_data"
    },
    {
     "data": {
      "application/vnd.jupyter.widget-view+json": {
       "model_id": "",
       "version_major": 2,
       "version_minor": 0
      },
      "text/plain": [
       "[CONJUNCTIONS | ADAM, LR = 0.01 | PRODUCT LOGIC | 100 DIMENSIONS | 5 TERMS | FIX IMBALANCE] Run #1, Epoch #54,…"
      ]
     },
     "metadata": {},
     "output_type": "display_data"
    },
    {
     "data": {
      "application/vnd.jupyter.widget-view+json": {
       "model_id": "",
       "version_major": 2,
       "version_minor": 0
      },
      "text/plain": [
       "[CONJUNCTIONS | ADAM, LR = 0.01 | PRODUCT LOGIC | 100 DIMENSIONS | 5 TERMS | FIX IMBALANCE] Run #1, Epoch #54,…"
      ]
     },
     "metadata": {},
     "output_type": "display_data"
    },
    {
     "data": {
      "application/vnd.jupyter.widget-view+json": {
       "model_id": "",
       "version_major": 2,
       "version_minor": 0
      },
      "text/plain": [
       "[CONJUNCTIONS | ADAM, LR = 0.01 | PRODUCT LOGIC | 100 DIMENSIONS | 5 TERMS | FIX IMBALANCE] Run #1, Epoch #54,…"
      ]
     },
     "metadata": {},
     "output_type": "display_data"
    },
    {
     "data": {
      "application/vnd.jupyter.widget-view+json": {
       "model_id": "",
       "version_major": 2,
       "version_minor": 0
      },
      "text/plain": [
       "[CONJUNCTIONS | ADAM, LR = 0.01 | PRODUCT LOGIC | 100 DIMENSIONS | 5 TERMS | FIX IMBALANCE] Run #1, Epoch #55,…"
      ]
     },
     "metadata": {},
     "output_type": "display_data"
    },
    {
     "data": {
      "application/vnd.jupyter.widget-view+json": {
       "model_id": "",
       "version_major": 2,
       "version_minor": 0
      },
      "text/plain": [
       "[CONJUNCTIONS | ADAM, LR = 0.01 | PRODUCT LOGIC | 100 DIMENSIONS | 5 TERMS | FIX IMBALANCE] Run #1, Epoch #55,…"
      ]
     },
     "metadata": {},
     "output_type": "display_data"
    },
    {
     "data": {
      "application/vnd.jupyter.widget-view+json": {
       "model_id": "",
       "version_major": 2,
       "version_minor": 0
      },
      "text/plain": [
       "[CONJUNCTIONS | ADAM, LR = 0.01 | PRODUCT LOGIC | 100 DIMENSIONS | 5 TERMS | FIX IMBALANCE] Run #1, Epoch #55,…"
      ]
     },
     "metadata": {},
     "output_type": "display_data"
    },
    {
     "data": {
      "application/vnd.jupyter.widget-view+json": {
       "model_id": "",
       "version_major": 2,
       "version_minor": 0
      },
      "text/plain": [
       "[CONJUNCTIONS | ADAM, LR = 0.01 | PRODUCT LOGIC | 100 DIMENSIONS | 5 TERMS | FIX IMBALANCE] Run #1, Epoch #56,…"
      ]
     },
     "metadata": {},
     "output_type": "display_data"
    },
    {
     "data": {
      "application/vnd.jupyter.widget-view+json": {
       "model_id": "",
       "version_major": 2,
       "version_minor": 0
      },
      "text/plain": [
       "[CONJUNCTIONS | ADAM, LR = 0.01 | PRODUCT LOGIC | 100 DIMENSIONS | 5 TERMS | FIX IMBALANCE] Run #1, Epoch #56,…"
      ]
     },
     "metadata": {},
     "output_type": "display_data"
    },
    {
     "data": {
      "application/vnd.jupyter.widget-view+json": {
       "model_id": "",
       "version_major": 2,
       "version_minor": 0
      },
      "text/plain": [
       "[CONJUNCTIONS | ADAM, LR = 0.01 | PRODUCT LOGIC | 100 DIMENSIONS | 5 TERMS | FIX IMBALANCE] Run #1, Epoch #56,…"
      ]
     },
     "metadata": {},
     "output_type": "display_data"
    },
    {
     "data": {
      "application/vnd.jupyter.widget-view+json": {
       "model_id": "",
       "version_major": 2,
       "version_minor": 0
      },
      "text/plain": [
       "[CONJUNCTIONS | ADAM, LR = 0.01 | PRODUCT LOGIC | 100 DIMENSIONS | 5 TERMS | FIX IMBALANCE] Run #1, Epoch #57,…"
      ]
     },
     "metadata": {},
     "output_type": "display_data"
    },
    {
     "data": {
      "application/vnd.jupyter.widget-view+json": {
       "model_id": "",
       "version_major": 2,
       "version_minor": 0
      },
      "text/plain": [
       "[CONJUNCTIONS | ADAM, LR = 0.01 | PRODUCT LOGIC | 100 DIMENSIONS | 5 TERMS | FIX IMBALANCE] Run #1, Epoch #57,…"
      ]
     },
     "metadata": {},
     "output_type": "display_data"
    },
    {
     "data": {
      "application/vnd.jupyter.widget-view+json": {
       "model_id": "",
       "version_major": 2,
       "version_minor": 0
      },
      "text/plain": [
       "[CONJUNCTIONS | ADAM, LR = 0.01 | PRODUCT LOGIC | 100 DIMENSIONS | 5 TERMS | FIX IMBALANCE] Run #1, Epoch #57,…"
      ]
     },
     "metadata": {},
     "output_type": "display_data"
    },
    {
     "data": {
      "application/vnd.jupyter.widget-view+json": {
       "model_id": "",
       "version_major": 2,
       "version_minor": 0
      },
      "text/plain": [
       "[CONJUNCTIONS | ADAM, LR = 0.01 | PRODUCT LOGIC | 100 DIMENSIONS | 5 TERMS | FIX IMBALANCE] Run #1, Epoch #58,…"
      ]
     },
     "metadata": {},
     "output_type": "display_data"
    },
    {
     "data": {
      "application/vnd.jupyter.widget-view+json": {
       "model_id": "",
       "version_major": 2,
       "version_minor": 0
      },
      "text/plain": [
       "[CONJUNCTIONS | ADAM, LR = 0.01 | PRODUCT LOGIC | 100 DIMENSIONS | 5 TERMS | FIX IMBALANCE] Run #1, Epoch #58,…"
      ]
     },
     "metadata": {},
     "output_type": "display_data"
    },
    {
     "data": {
      "application/vnd.jupyter.widget-view+json": {
       "model_id": "",
       "version_major": 2,
       "version_minor": 0
      },
      "text/plain": [
       "[CONJUNCTIONS | ADAM, LR = 0.01 | PRODUCT LOGIC | 100 DIMENSIONS | 5 TERMS | FIX IMBALANCE] Run #1, Epoch #58,…"
      ]
     },
     "metadata": {},
     "output_type": "display_data"
    },
    {
     "data": {
      "application/vnd.jupyter.widget-view+json": {
       "model_id": "",
       "version_major": 2,
       "version_minor": 0
      },
      "text/plain": [
       "[CONJUNCTIONS | ADAM, LR = 0.01 | PRODUCT LOGIC | 100 DIMENSIONS | 5 TERMS | FIX IMBALANCE] Run #1, Epoch #59,…"
      ]
     },
     "metadata": {},
     "output_type": "display_data"
    },
    {
     "data": {
      "application/vnd.jupyter.widget-view+json": {
       "model_id": "",
       "version_major": 2,
       "version_minor": 0
      },
      "text/plain": [
       "[CONJUNCTIONS | ADAM, LR = 0.01 | PRODUCT LOGIC | 100 DIMENSIONS | 5 TERMS | FIX IMBALANCE] Run #1, Epoch #59,…"
      ]
     },
     "metadata": {},
     "output_type": "display_data"
    },
    {
     "data": {
      "application/vnd.jupyter.widget-view+json": {
       "model_id": "",
       "version_major": 2,
       "version_minor": 0
      },
      "text/plain": [
       "[CONJUNCTIONS | ADAM, LR = 0.01 | PRODUCT LOGIC | 100 DIMENSIONS | 5 TERMS | FIX IMBALANCE] Run #1, Epoch #59,…"
      ]
     },
     "metadata": {},
     "output_type": "display_data"
    },
    {
     "data": {
      "application/vnd.jupyter.widget-view+json": {
       "model_id": "",
       "version_major": 2,
       "version_minor": 0
      },
      "text/plain": [
       "[CONJUNCTIONS | ADAM, LR = 0.01 | PRODUCT LOGIC | 100 DIMENSIONS | 5 TERMS | FIX IMBALANCE] Run #1, Epoch #60,…"
      ]
     },
     "metadata": {},
     "output_type": "display_data"
    },
    {
     "data": {
      "application/vnd.jupyter.widget-view+json": {
       "model_id": "",
       "version_major": 2,
       "version_minor": 0
      },
      "text/plain": [
       "[CONJUNCTIONS | ADAM, LR = 0.01 | PRODUCT LOGIC | 100 DIMENSIONS | 5 TERMS | FIX IMBALANCE] Run #1, Epoch #60,…"
      ]
     },
     "metadata": {},
     "output_type": "display_data"
    },
    {
     "data": {
      "application/vnd.jupyter.widget-view+json": {
       "model_id": "",
       "version_major": 2,
       "version_minor": 0
      },
      "text/plain": [
       "[CONJUNCTIONS | ADAM, LR = 0.01 | PRODUCT LOGIC | 100 DIMENSIONS | 5 TERMS | FIX IMBALANCE] Run #1, Epoch #60,…"
      ]
     },
     "metadata": {},
     "output_type": "display_data"
    },
    {
     "data": {
      "application/vnd.jupyter.widget-view+json": {
       "model_id": "",
       "version_major": 2,
       "version_minor": 0
      },
      "text/plain": [
       "[CONJUNCTIONS | ADAM, LR = 0.01 | PRODUCT LOGIC | 100 DIMENSIONS | 5 TERMS | FIX IMBALANCE] Run #1, Epoch #61,…"
      ]
     },
     "metadata": {},
     "output_type": "display_data"
    },
    {
     "data": {
      "application/vnd.jupyter.widget-view+json": {
       "model_id": "",
       "version_major": 2,
       "version_minor": 0
      },
      "text/plain": [
       "[CONJUNCTIONS | ADAM, LR = 0.01 | PRODUCT LOGIC | 100 DIMENSIONS | 5 TERMS | FIX IMBALANCE] Run #1, Epoch #61,…"
      ]
     },
     "metadata": {},
     "output_type": "display_data"
    },
    {
     "data": {
      "application/vnd.jupyter.widget-view+json": {
       "model_id": "",
       "version_major": 2,
       "version_minor": 0
      },
      "text/plain": [
       "[CONJUNCTIONS | ADAM, LR = 0.01 | PRODUCT LOGIC | 100 DIMENSIONS | 5 TERMS | FIX IMBALANCE] Run #1, Epoch #61,…"
      ]
     },
     "metadata": {},
     "output_type": "display_data"
    },
    {
     "data": {
      "application/vnd.jupyter.widget-view+json": {
       "model_id": "",
       "version_major": 2,
       "version_minor": 0
      },
      "text/plain": [
       "[CONJUNCTIONS | ADAM, LR = 0.01 | PRODUCT LOGIC | 100 DIMENSIONS | 5 TERMS | FIX IMBALANCE] Run #1, Epoch #62,…"
      ]
     },
     "metadata": {},
     "output_type": "display_data"
    },
    {
     "data": {
      "application/vnd.jupyter.widget-view+json": {
       "model_id": "",
       "version_major": 2,
       "version_minor": 0
      },
      "text/plain": [
       "[CONJUNCTIONS | ADAM, LR = 0.01 | PRODUCT LOGIC | 100 DIMENSIONS | 5 TERMS | FIX IMBALANCE] Run #1, Epoch #62,…"
      ]
     },
     "metadata": {},
     "output_type": "display_data"
    },
    {
     "data": {
      "application/vnd.jupyter.widget-view+json": {
       "model_id": "",
       "version_major": 2,
       "version_minor": 0
      },
      "text/plain": [
       "[CONJUNCTIONS | ADAM, LR = 0.01 | PRODUCT LOGIC | 100 DIMENSIONS | 5 TERMS | FIX IMBALANCE] Run #1, Epoch #62,…"
      ]
     },
     "metadata": {},
     "output_type": "display_data"
    },
    {
     "data": {
      "application/vnd.jupyter.widget-view+json": {
       "model_id": "",
       "version_major": 2,
       "version_minor": 0
      },
      "text/plain": [
       "[CONJUNCTIONS | ADAM, LR = 0.01 | PRODUCT LOGIC | 100 DIMENSIONS | 5 TERMS | FIX IMBALANCE] Run #1, Epoch #63,…"
      ]
     },
     "metadata": {},
     "output_type": "display_data"
    },
    {
     "data": {
      "application/vnd.jupyter.widget-view+json": {
       "model_id": "",
       "version_major": 2,
       "version_minor": 0
      },
      "text/plain": [
       "[CONJUNCTIONS | ADAM, LR = 0.01 | PRODUCT LOGIC | 100 DIMENSIONS | 5 TERMS | FIX IMBALANCE] Run #1, Epoch #63,…"
      ]
     },
     "metadata": {},
     "output_type": "display_data"
    },
    {
     "data": {
      "application/vnd.jupyter.widget-view+json": {
       "model_id": "",
       "version_major": 2,
       "version_minor": 0
      },
      "text/plain": [
       "[CONJUNCTIONS | ADAM, LR = 0.01 | PRODUCT LOGIC | 100 DIMENSIONS | 5 TERMS | FIX IMBALANCE] Run #1, Epoch #63,…"
      ]
     },
     "metadata": {},
     "output_type": "display_data"
    },
    {
     "data": {
      "application/vnd.jupyter.widget-view+json": {
       "model_id": "",
       "version_major": 2,
       "version_minor": 0
      },
      "text/plain": [
       "[CONJUNCTIONS | ADAM, LR = 0.01 | PRODUCT LOGIC | 100 DIMENSIONS | 5 TERMS | FIX IMBALANCE] Run #1, Epoch #64,…"
      ]
     },
     "metadata": {},
     "output_type": "display_data"
    },
    {
     "data": {
      "application/vnd.jupyter.widget-view+json": {
       "model_id": "",
       "version_major": 2,
       "version_minor": 0
      },
      "text/plain": [
       "[CONJUNCTIONS | ADAM, LR = 0.01 | PRODUCT LOGIC | 100 DIMENSIONS | 5 TERMS | FIX IMBALANCE] Run #1, Epoch #64,…"
      ]
     },
     "metadata": {},
     "output_type": "display_data"
    },
    {
     "data": {
      "application/vnd.jupyter.widget-view+json": {
       "model_id": "",
       "version_major": 2,
       "version_minor": 0
      },
      "text/plain": [
       "[CONJUNCTIONS | ADAM, LR = 0.01 | PRODUCT LOGIC | 100 DIMENSIONS | 5 TERMS | FIX IMBALANCE] Run #1, Epoch #64,…"
      ]
     },
     "metadata": {},
     "output_type": "display_data"
    },
    {
     "data": {
      "application/vnd.jupyter.widget-view+json": {
       "model_id": "",
       "version_major": 2,
       "version_minor": 0
      },
      "text/plain": [
       "[CONJUNCTIONS | ADAM, LR = 0.01 | PRODUCT LOGIC | 100 DIMENSIONS | 5 TERMS | FIX IMBALANCE] Run #1, Epoch #65,…"
      ]
     },
     "metadata": {},
     "output_type": "display_data"
    },
    {
     "data": {
      "application/vnd.jupyter.widget-view+json": {
       "model_id": "",
       "version_major": 2,
       "version_minor": 0
      },
      "text/plain": [
       "[CONJUNCTIONS | ADAM, LR = 0.01 | PRODUCT LOGIC | 100 DIMENSIONS | 5 TERMS | FIX IMBALANCE] Run #1, Epoch #65,…"
      ]
     },
     "metadata": {},
     "output_type": "display_data"
    },
    {
     "data": {
      "application/vnd.jupyter.widget-view+json": {
       "model_id": "",
       "version_major": 2,
       "version_minor": 0
      },
      "text/plain": [
       "[CONJUNCTIONS | ADAM, LR = 0.01 | PRODUCT LOGIC | 100 DIMENSIONS | 5 TERMS | FIX IMBALANCE] Run #1, Epoch #65,…"
      ]
     },
     "metadata": {},
     "output_type": "display_data"
    },
    {
     "data": {
      "application/vnd.jupyter.widget-view+json": {
       "model_id": "",
       "version_major": 2,
       "version_minor": 0
      },
      "text/plain": [
       "[CONJUNCTIONS | ADAM, LR = 0.01 | PRODUCT LOGIC | 100 DIMENSIONS | 5 TERMS | FIX IMBALANCE] Run #1, Epoch #66,…"
      ]
     },
     "metadata": {},
     "output_type": "display_data"
    },
    {
     "data": {
      "application/vnd.jupyter.widget-view+json": {
       "model_id": "",
       "version_major": 2,
       "version_minor": 0
      },
      "text/plain": [
       "[CONJUNCTIONS | ADAM, LR = 0.01 | PRODUCT LOGIC | 100 DIMENSIONS | 5 TERMS | FIX IMBALANCE] Run #1, Epoch #66,…"
      ]
     },
     "metadata": {},
     "output_type": "display_data"
    },
    {
     "data": {
      "application/vnd.jupyter.widget-view+json": {
       "model_id": "",
       "version_major": 2,
       "version_minor": 0
      },
      "text/plain": [
       "[CONJUNCTIONS | ADAM, LR = 0.01 | PRODUCT LOGIC | 100 DIMENSIONS | 5 TERMS | FIX IMBALANCE] Run #1, Epoch #66,…"
      ]
     },
     "metadata": {},
     "output_type": "display_data"
    },
    {
     "data": {
      "application/vnd.jupyter.widget-view+json": {
       "model_id": "",
       "version_major": 2,
       "version_minor": 0
      },
      "text/plain": [
       "[CONJUNCTIONS | ADAM, LR = 0.01 | PRODUCT LOGIC | 100 DIMENSIONS | 5 TERMS | FIX IMBALANCE] Run #1, Epoch #67,…"
      ]
     },
     "metadata": {},
     "output_type": "display_data"
    },
    {
     "data": {
      "application/vnd.jupyter.widget-view+json": {
       "model_id": "",
       "version_major": 2,
       "version_minor": 0
      },
      "text/plain": [
       "[CONJUNCTIONS | ADAM, LR = 0.01 | PRODUCT LOGIC | 100 DIMENSIONS | 5 TERMS | FIX IMBALANCE] Run #1, Epoch #67,…"
      ]
     },
     "metadata": {},
     "output_type": "display_data"
    },
    {
     "data": {
      "application/vnd.jupyter.widget-view+json": {
       "model_id": "",
       "version_major": 2,
       "version_minor": 0
      },
      "text/plain": [
       "[CONJUNCTIONS | ADAM, LR = 0.01 | PRODUCT LOGIC | 100 DIMENSIONS | 5 TERMS | FIX IMBALANCE] Run #1, Epoch #67,…"
      ]
     },
     "metadata": {},
     "output_type": "display_data"
    },
    {
     "data": {
      "application/vnd.jupyter.widget-view+json": {
       "model_id": "",
       "version_major": 2,
       "version_minor": 0
      },
      "text/plain": [
       "[CONJUNCTIONS | ADAM, LR = 0.01 | PRODUCT LOGIC | 100 DIMENSIONS | 5 TERMS | FIX IMBALANCE] Run #1, Epoch #68,…"
      ]
     },
     "metadata": {},
     "output_type": "display_data"
    },
    {
     "data": {
      "application/vnd.jupyter.widget-view+json": {
       "model_id": "",
       "version_major": 2,
       "version_minor": 0
      },
      "text/plain": [
       "[CONJUNCTIONS | ADAM, LR = 0.01 | PRODUCT LOGIC | 100 DIMENSIONS | 5 TERMS | FIX IMBALANCE] Run #1, Epoch #68,…"
      ]
     },
     "metadata": {},
     "output_type": "display_data"
    },
    {
     "data": {
      "application/vnd.jupyter.widget-view+json": {
       "model_id": "",
       "version_major": 2,
       "version_minor": 0
      },
      "text/plain": [
       "[CONJUNCTIONS | ADAM, LR = 0.01 | PRODUCT LOGIC | 100 DIMENSIONS | 5 TERMS | FIX IMBALANCE] Run #1, Epoch #68,…"
      ]
     },
     "metadata": {},
     "output_type": "display_data"
    },
    {
     "data": {
      "application/vnd.jupyter.widget-view+json": {
       "model_id": "",
       "version_major": 2,
       "version_minor": 0
      },
      "text/plain": [
       "[CONJUNCTIONS | ADAM, LR = 0.01 | PRODUCT LOGIC | 100 DIMENSIONS | 5 TERMS | FIX IMBALANCE] Run #1, Epoch #69,…"
      ]
     },
     "metadata": {},
     "output_type": "display_data"
    },
    {
     "data": {
      "application/vnd.jupyter.widget-view+json": {
       "model_id": "",
       "version_major": 2,
       "version_minor": 0
      },
      "text/plain": [
       "[CONJUNCTIONS | ADAM, LR = 0.01 | PRODUCT LOGIC | 100 DIMENSIONS | 5 TERMS | FIX IMBALANCE] Run #1, Epoch #69,…"
      ]
     },
     "metadata": {},
     "output_type": "display_data"
    },
    {
     "data": {
      "application/vnd.jupyter.widget-view+json": {
       "model_id": "",
       "version_major": 2,
       "version_minor": 0
      },
      "text/plain": [
       "[CONJUNCTIONS | ADAM, LR = 0.01 | PRODUCT LOGIC | 100 DIMENSIONS | 5 TERMS | FIX IMBALANCE] Run #1, Epoch #69,…"
      ]
     },
     "metadata": {},
     "output_type": "display_data"
    },
    {
     "data": {
      "application/vnd.jupyter.widget-view+json": {
       "model_id": "",
       "version_major": 2,
       "version_minor": 0
      },
      "text/plain": [
       "[CONJUNCTIONS | ADAM, LR = 0.01 | PRODUCT LOGIC | 100 DIMENSIONS | 5 TERMS | FIX IMBALANCE] Run #1, Epoch #70,…"
      ]
     },
     "metadata": {},
     "output_type": "display_data"
    },
    {
     "data": {
      "application/vnd.jupyter.widget-view+json": {
       "model_id": "",
       "version_major": 2,
       "version_minor": 0
      },
      "text/plain": [
       "[CONJUNCTIONS | ADAM, LR = 0.01 | PRODUCT LOGIC | 100 DIMENSIONS | 5 TERMS | FIX IMBALANCE] Run #1, Epoch #70,…"
      ]
     },
     "metadata": {},
     "output_type": "display_data"
    },
    {
     "data": {
      "application/vnd.jupyter.widget-view+json": {
       "model_id": "",
       "version_major": 2,
       "version_minor": 0
      },
      "text/plain": [
       "[CONJUNCTIONS | ADAM, LR = 0.01 | PRODUCT LOGIC | 100 DIMENSIONS | 5 TERMS | FIX IMBALANCE] Run #1, Epoch #70,…"
      ]
     },
     "metadata": {},
     "output_type": "display_data"
    },
    {
     "data": {
      "application/vnd.jupyter.widget-view+json": {
       "model_id": "",
       "version_major": 2,
       "version_minor": 0
      },
      "text/plain": [
       "[CONJUNCTIONS | ADAM, LR = 0.01 | PRODUCT LOGIC | 100 DIMENSIONS | 5 TERMS | FIX IMBALANCE] Run #1, Epoch #71,…"
      ]
     },
     "metadata": {},
     "output_type": "display_data"
    },
    {
     "data": {
      "application/vnd.jupyter.widget-view+json": {
       "model_id": "",
       "version_major": 2,
       "version_minor": 0
      },
      "text/plain": [
       "[CONJUNCTIONS | ADAM, LR = 0.01 | PRODUCT LOGIC | 100 DIMENSIONS | 5 TERMS | FIX IMBALANCE] Run #1, Epoch #71,…"
      ]
     },
     "metadata": {},
     "output_type": "display_data"
    },
    {
     "data": {
      "application/vnd.jupyter.widget-view+json": {
       "model_id": "",
       "version_major": 2,
       "version_minor": 0
      },
      "text/plain": [
       "[CONJUNCTIONS | ADAM, LR = 0.01 | PRODUCT LOGIC | 100 DIMENSIONS | 5 TERMS | FIX IMBALANCE] Run #1, Epoch #71,…"
      ]
     },
     "metadata": {},
     "output_type": "display_data"
    },
    {
     "data": {
      "application/vnd.jupyter.widget-view+json": {
       "model_id": "",
       "version_major": 2,
       "version_minor": 0
      },
      "text/plain": [
       "[CONJUNCTIONS | ADAM, LR = 0.01 | PRODUCT LOGIC | 100 DIMENSIONS | 5 TERMS | FIX IMBALANCE] Run #1, Epoch #72,…"
      ]
     },
     "metadata": {},
     "output_type": "display_data"
    },
    {
     "data": {
      "application/vnd.jupyter.widget-view+json": {
       "model_id": "",
       "version_major": 2,
       "version_minor": 0
      },
      "text/plain": [
       "[CONJUNCTIONS | ADAM, LR = 0.01 | PRODUCT LOGIC | 100 DIMENSIONS | 5 TERMS | FIX IMBALANCE] Run #1, Epoch #72,…"
      ]
     },
     "metadata": {},
     "output_type": "display_data"
    },
    {
     "data": {
      "application/vnd.jupyter.widget-view+json": {
       "model_id": "",
       "version_major": 2,
       "version_minor": 0
      },
      "text/plain": [
       "[CONJUNCTIONS | ADAM, LR = 0.01 | PRODUCT LOGIC | 100 DIMENSIONS | 5 TERMS | FIX IMBALANCE] Run #1, Epoch #72,…"
      ]
     },
     "metadata": {},
     "output_type": "display_data"
    },
    {
     "data": {
      "application/vnd.jupyter.widget-view+json": {
       "model_id": "",
       "version_major": 2,
       "version_minor": 0
      },
      "text/plain": [
       "[CONJUNCTIONS | ADAM, LR = 0.01 | PRODUCT LOGIC | 100 DIMENSIONS | 5 TERMS | FIX IMBALANCE] Run #1, Epoch #73,…"
      ]
     },
     "metadata": {},
     "output_type": "display_data"
    },
    {
     "data": {
      "application/vnd.jupyter.widget-view+json": {
       "model_id": "",
       "version_major": 2,
       "version_minor": 0
      },
      "text/plain": [
       "[CONJUNCTIONS | ADAM, LR = 0.01 | PRODUCT LOGIC | 100 DIMENSIONS | 5 TERMS | FIX IMBALANCE] Run #1, Epoch #73,…"
      ]
     },
     "metadata": {},
     "output_type": "display_data"
    },
    {
     "data": {
      "application/vnd.jupyter.widget-view+json": {
       "model_id": "",
       "version_major": 2,
       "version_minor": 0
      },
      "text/plain": [
       "[CONJUNCTIONS | ADAM, LR = 0.01 | PRODUCT LOGIC | 100 DIMENSIONS | 5 TERMS | FIX IMBALANCE] Run #1, Epoch #73,…"
      ]
     },
     "metadata": {},
     "output_type": "display_data"
    },
    {
     "data": {
      "application/vnd.jupyter.widget-view+json": {
       "model_id": "",
       "version_major": 2,
       "version_minor": 0
      },
      "text/plain": [
       "[CONJUNCTIONS | ADAM, LR = 0.01 | PRODUCT LOGIC | 100 DIMENSIONS | 5 TERMS | FIX IMBALANCE] Run #1, Epoch #74,…"
      ]
     },
     "metadata": {},
     "output_type": "display_data"
    },
    {
     "data": {
      "application/vnd.jupyter.widget-view+json": {
       "model_id": "",
       "version_major": 2,
       "version_minor": 0
      },
      "text/plain": [
       "[CONJUNCTIONS | ADAM, LR = 0.01 | PRODUCT LOGIC | 100 DIMENSIONS | 5 TERMS | FIX IMBALANCE] Run #1, Epoch #74,…"
      ]
     },
     "metadata": {},
     "output_type": "display_data"
    },
    {
     "data": {
      "application/vnd.jupyter.widget-view+json": {
       "model_id": "",
       "version_major": 2,
       "version_minor": 0
      },
      "text/plain": [
       "[CONJUNCTIONS | ADAM, LR = 0.01 | PRODUCT LOGIC | 100 DIMENSIONS | 5 TERMS | FIX IMBALANCE] Run #1, Epoch #74,…"
      ]
     },
     "metadata": {},
     "output_type": "display_data"
    },
    {
     "data": {
      "application/vnd.jupyter.widget-view+json": {
       "model_id": "",
       "version_major": 2,
       "version_minor": 0
      },
      "text/plain": [
       "[CONJUNCTIONS | ADAM, LR = 0.01 | PRODUCT LOGIC | 100 DIMENSIONS | 5 TERMS | FIX IMBALANCE] Run #1, Epoch #75,…"
      ]
     },
     "metadata": {},
     "output_type": "display_data"
    },
    {
     "data": {
      "application/vnd.jupyter.widget-view+json": {
       "model_id": "",
       "version_major": 2,
       "version_minor": 0
      },
      "text/plain": [
       "[CONJUNCTIONS | ADAM, LR = 0.01 | PRODUCT LOGIC | 100 DIMENSIONS | 5 TERMS | FIX IMBALANCE] Run #1, Epoch #75,…"
      ]
     },
     "metadata": {},
     "output_type": "display_data"
    },
    {
     "data": {
      "application/vnd.jupyter.widget-view+json": {
       "model_id": "",
       "version_major": 2,
       "version_minor": 0
      },
      "text/plain": [
       "[CONJUNCTIONS | ADAM, LR = 0.01 | PRODUCT LOGIC | 100 DIMENSIONS | 5 TERMS | FIX IMBALANCE] Run #1, Epoch #75,…"
      ]
     },
     "metadata": {},
     "output_type": "display_data"
    },
    {
     "data": {
      "application/vnd.jupyter.widget-view+json": {
       "model_id": "",
       "version_major": 2,
       "version_minor": 0
      },
      "text/plain": [
       "[CONJUNCTIONS | ADAM, LR = 0.01 | PRODUCT LOGIC | 100 DIMENSIONS | 5 TERMS | FIX IMBALANCE] Run #1, Epoch #76,…"
      ]
     },
     "metadata": {},
     "output_type": "display_data"
    },
    {
     "data": {
      "application/vnd.jupyter.widget-view+json": {
       "model_id": "",
       "version_major": 2,
       "version_minor": 0
      },
      "text/plain": [
       "[CONJUNCTIONS | ADAM, LR = 0.01 | PRODUCT LOGIC | 100 DIMENSIONS | 5 TERMS | FIX IMBALANCE] Run #1, Epoch #76,…"
      ]
     },
     "metadata": {},
     "output_type": "display_data"
    },
    {
     "data": {
      "application/vnd.jupyter.widget-view+json": {
       "model_id": "",
       "version_major": 2,
       "version_minor": 0
      },
      "text/plain": [
       "[CONJUNCTIONS | ADAM, LR = 0.01 | PRODUCT LOGIC | 100 DIMENSIONS | 5 TERMS | FIX IMBALANCE] Run #1, Epoch #76,…"
      ]
     },
     "metadata": {},
     "output_type": "display_data"
    },
    {
     "data": {
      "application/vnd.jupyter.widget-view+json": {
       "model_id": "",
       "version_major": 2,
       "version_minor": 0
      },
      "text/plain": [
       "[CONJUNCTIONS | ADAM, LR = 0.01 | PRODUCT LOGIC | 100 DIMENSIONS | 5 TERMS | FIX IMBALANCE] Run #1, Epoch #77,…"
      ]
     },
     "metadata": {},
     "output_type": "display_data"
    },
    {
     "data": {
      "application/vnd.jupyter.widget-view+json": {
       "model_id": "",
       "version_major": 2,
       "version_minor": 0
      },
      "text/plain": [
       "[CONJUNCTIONS | ADAM, LR = 0.01 | PRODUCT LOGIC | 100 DIMENSIONS | 5 TERMS | FIX IMBALANCE] Run #1, Epoch #77,…"
      ]
     },
     "metadata": {},
     "output_type": "display_data"
    },
    {
     "data": {
      "application/vnd.jupyter.widget-view+json": {
       "model_id": "",
       "version_major": 2,
       "version_minor": 0
      },
      "text/plain": [
       "[CONJUNCTIONS | ADAM, LR = 0.01 | PRODUCT LOGIC | 100 DIMENSIONS | 5 TERMS | FIX IMBALANCE] Run #1, Epoch #77,…"
      ]
     },
     "metadata": {},
     "output_type": "display_data"
    },
    {
     "data": {
      "application/vnd.jupyter.widget-view+json": {
       "model_id": "",
       "version_major": 2,
       "version_minor": 0
      },
      "text/plain": [
       "[CONJUNCTIONS | ADAM, LR = 0.01 | PRODUCT LOGIC | 100 DIMENSIONS | 5 TERMS | FIX IMBALANCE] Run #1, Epoch #78,…"
      ]
     },
     "metadata": {},
     "output_type": "display_data"
    },
    {
     "data": {
      "application/vnd.jupyter.widget-view+json": {
       "model_id": "",
       "version_major": 2,
       "version_minor": 0
      },
      "text/plain": [
       "[CONJUNCTIONS | ADAM, LR = 0.01 | PRODUCT LOGIC | 100 DIMENSIONS | 5 TERMS | FIX IMBALANCE] Run #1, Epoch #78,…"
      ]
     },
     "metadata": {},
     "output_type": "display_data"
    },
    {
     "data": {
      "application/vnd.jupyter.widget-view+json": {
       "model_id": "",
       "version_major": 2,
       "version_minor": 0
      },
      "text/plain": [
       "[CONJUNCTIONS | ADAM, LR = 0.01 | PRODUCT LOGIC | 100 DIMENSIONS | 5 TERMS | FIX IMBALANCE] Run #1, Epoch #78,…"
      ]
     },
     "metadata": {},
     "output_type": "display_data"
    },
    {
     "data": {
      "application/vnd.jupyter.widget-view+json": {
       "model_id": "",
       "version_major": 2,
       "version_minor": 0
      },
      "text/plain": [
       "[CONJUNCTIONS | ADAM, LR = 0.01 | PRODUCT LOGIC | 100 DIMENSIONS | 5 TERMS | FIX IMBALANCE] Run #1, Epoch #79,…"
      ]
     },
     "metadata": {},
     "output_type": "display_data"
    },
    {
     "data": {
      "application/vnd.jupyter.widget-view+json": {
       "model_id": "",
       "version_major": 2,
       "version_minor": 0
      },
      "text/plain": [
       "[CONJUNCTIONS | ADAM, LR = 0.01 | PRODUCT LOGIC | 100 DIMENSIONS | 5 TERMS | FIX IMBALANCE] Run #1, Epoch #79,…"
      ]
     },
     "metadata": {},
     "output_type": "display_data"
    },
    {
     "data": {
      "application/vnd.jupyter.widget-view+json": {
       "model_id": "",
       "version_major": 2,
       "version_minor": 0
      },
      "text/plain": [
       "[CONJUNCTIONS | ADAM, LR = 0.01 | PRODUCT LOGIC | 100 DIMENSIONS | 5 TERMS | FIX IMBALANCE] Run #1, Epoch #79,…"
      ]
     },
     "metadata": {},
     "output_type": "display_data"
    },
    {
     "data": {
      "application/vnd.jupyter.widget-view+json": {
       "model_id": "",
       "version_major": 2,
       "version_minor": 0
      },
      "text/plain": [
       "[CONJUNCTIONS | ADAM, LR = 0.01 | PRODUCT LOGIC | 100 DIMENSIONS | 5 TERMS | FIX IMBALANCE] Run #1, Epoch #80,…"
      ]
     },
     "metadata": {},
     "output_type": "display_data"
    },
    {
     "data": {
      "application/vnd.jupyter.widget-view+json": {
       "model_id": "",
       "version_major": 2,
       "version_minor": 0
      },
      "text/plain": [
       "[CONJUNCTIONS | ADAM, LR = 0.01 | PRODUCT LOGIC | 100 DIMENSIONS | 5 TERMS | FIX IMBALANCE] Run #1, Epoch #80,…"
      ]
     },
     "metadata": {},
     "output_type": "display_data"
    },
    {
     "data": {
      "application/vnd.jupyter.widget-view+json": {
       "model_id": "",
       "version_major": 2,
       "version_minor": 0
      },
      "text/plain": [
       "[CONJUNCTIONS | ADAM, LR = 0.01 | PRODUCT LOGIC | 100 DIMENSIONS | 5 TERMS | FIX IMBALANCE] Run #1, Epoch #80,…"
      ]
     },
     "metadata": {},
     "output_type": "display_data"
    },
    {
     "data": {
      "application/vnd.jupyter.widget-view+json": {
       "model_id": "",
       "version_major": 2,
       "version_minor": 0
      },
      "text/plain": [
       "[CONJUNCTIONS | ADAM, LR = 0.01 | PRODUCT LOGIC | 100 DIMENSIONS | 5 TERMS | FIX IMBALANCE] Run #1, Epoch #81,…"
      ]
     },
     "metadata": {},
     "output_type": "display_data"
    },
    {
     "data": {
      "application/vnd.jupyter.widget-view+json": {
       "model_id": "",
       "version_major": 2,
       "version_minor": 0
      },
      "text/plain": [
       "[CONJUNCTIONS | ADAM, LR = 0.01 | PRODUCT LOGIC | 100 DIMENSIONS | 5 TERMS | FIX IMBALANCE] Run #1, Epoch #81,…"
      ]
     },
     "metadata": {},
     "output_type": "display_data"
    },
    {
     "data": {
      "application/vnd.jupyter.widget-view+json": {
       "model_id": "",
       "version_major": 2,
       "version_minor": 0
      },
      "text/plain": [
       "[CONJUNCTIONS | ADAM, LR = 0.01 | PRODUCT LOGIC | 100 DIMENSIONS | 5 TERMS | FIX IMBALANCE] Run #1, Epoch #81,…"
      ]
     },
     "metadata": {},
     "output_type": "display_data"
    },
    {
     "data": {
      "application/vnd.jupyter.widget-view+json": {
       "model_id": "",
       "version_major": 2,
       "version_minor": 0
      },
      "text/plain": [
       "[CONJUNCTIONS | ADAM, LR = 0.01 | PRODUCT LOGIC | 100 DIMENSIONS | 5 TERMS | FIX IMBALANCE] Run #1, Epoch #82,…"
      ]
     },
     "metadata": {},
     "output_type": "display_data"
    },
    {
     "data": {
      "application/vnd.jupyter.widget-view+json": {
       "model_id": "",
       "version_major": 2,
       "version_minor": 0
      },
      "text/plain": [
       "[CONJUNCTIONS | ADAM, LR = 0.01 | PRODUCT LOGIC | 100 DIMENSIONS | 5 TERMS | FIX IMBALANCE] Run #1, Epoch #82,…"
      ]
     },
     "metadata": {},
     "output_type": "display_data"
    },
    {
     "data": {
      "application/vnd.jupyter.widget-view+json": {
       "model_id": "",
       "version_major": 2,
       "version_minor": 0
      },
      "text/plain": [
       "[CONJUNCTIONS | ADAM, LR = 0.01 | PRODUCT LOGIC | 100 DIMENSIONS | 5 TERMS | FIX IMBALANCE] Run #1, Epoch #82,…"
      ]
     },
     "metadata": {},
     "output_type": "display_data"
    },
    {
     "data": {
      "application/vnd.jupyter.widget-view+json": {
       "model_id": "",
       "version_major": 2,
       "version_minor": 0
      },
      "text/plain": [
       "[CONJUNCTIONS | ADAM, LR = 0.01 | PRODUCT LOGIC | 100 DIMENSIONS | 5 TERMS | FIX IMBALANCE] Run #1, Epoch #83,…"
      ]
     },
     "metadata": {},
     "output_type": "display_data"
    },
    {
     "data": {
      "application/vnd.jupyter.widget-view+json": {
       "model_id": "",
       "version_major": 2,
       "version_minor": 0
      },
      "text/plain": [
       "[CONJUNCTIONS | ADAM, LR = 0.01 | PRODUCT LOGIC | 100 DIMENSIONS | 5 TERMS | FIX IMBALANCE] Run #1, Epoch #83,…"
      ]
     },
     "metadata": {},
     "output_type": "display_data"
    },
    {
     "data": {
      "application/vnd.jupyter.widget-view+json": {
       "model_id": "",
       "version_major": 2,
       "version_minor": 0
      },
      "text/plain": [
       "[CONJUNCTIONS | ADAM, LR = 0.01 | PRODUCT LOGIC | 100 DIMENSIONS | 5 TERMS | FIX IMBALANCE] Run #1, Epoch #83,…"
      ]
     },
     "metadata": {},
     "output_type": "display_data"
    },
    {
     "data": {
      "application/vnd.jupyter.widget-view+json": {
       "model_id": "",
       "version_major": 2,
       "version_minor": 0
      },
      "text/plain": [
       "[CONJUNCTIONS | ADAM, LR = 0.01 | PRODUCT LOGIC | 100 DIMENSIONS | 5 TERMS | FIX IMBALANCE] Run #1, Epoch #84,…"
      ]
     },
     "metadata": {},
     "output_type": "display_data"
    },
    {
     "data": {
      "application/vnd.jupyter.widget-view+json": {
       "model_id": "",
       "version_major": 2,
       "version_minor": 0
      },
      "text/plain": [
       "[CONJUNCTIONS | ADAM, LR = 0.01 | PRODUCT LOGIC | 100 DIMENSIONS | 5 TERMS | FIX IMBALANCE] Run #1, Epoch #84,…"
      ]
     },
     "metadata": {},
     "output_type": "display_data"
    },
    {
     "data": {
      "application/vnd.jupyter.widget-view+json": {
       "model_id": "",
       "version_major": 2,
       "version_minor": 0
      },
      "text/plain": [
       "[CONJUNCTIONS | ADAM, LR = 0.01 | PRODUCT LOGIC | 100 DIMENSIONS | 5 TERMS | FIX IMBALANCE] Run #1, Epoch #84,…"
      ]
     },
     "metadata": {},
     "output_type": "display_data"
    },
    {
     "data": {
      "application/vnd.jupyter.widget-view+json": {
       "model_id": "",
       "version_major": 2,
       "version_minor": 0
      },
      "text/plain": [
       "[CONJUNCTIONS | ADAM, LR = 0.01 | PRODUCT LOGIC | 100 DIMENSIONS | 5 TERMS | FIX IMBALANCE] Run #1, Epoch #85,…"
      ]
     },
     "metadata": {},
     "output_type": "display_data"
    },
    {
     "data": {
      "application/vnd.jupyter.widget-view+json": {
       "model_id": "",
       "version_major": 2,
       "version_minor": 0
      },
      "text/plain": [
       "[CONJUNCTIONS | ADAM, LR = 0.01 | PRODUCT LOGIC | 100 DIMENSIONS | 5 TERMS | FIX IMBALANCE] Run #1, Epoch #85,…"
      ]
     },
     "metadata": {},
     "output_type": "display_data"
    },
    {
     "data": {
      "application/vnd.jupyter.widget-view+json": {
       "model_id": "",
       "version_major": 2,
       "version_minor": 0
      },
      "text/plain": [
       "[CONJUNCTIONS | ADAM, LR = 0.01 | PRODUCT LOGIC | 100 DIMENSIONS | 5 TERMS | FIX IMBALANCE] Run #1, Epoch #85,…"
      ]
     },
     "metadata": {},
     "output_type": "display_data"
    },
    {
     "data": {
      "application/vnd.jupyter.widget-view+json": {
       "model_id": "",
       "version_major": 2,
       "version_minor": 0
      },
      "text/plain": [
       "[CONJUNCTIONS | ADAM, LR = 0.01 | PRODUCT LOGIC | 100 DIMENSIONS | 5 TERMS | FIX IMBALANCE] Run #1, Epoch #86,…"
      ]
     },
     "metadata": {},
     "output_type": "display_data"
    },
    {
     "data": {
      "application/vnd.jupyter.widget-view+json": {
       "model_id": "",
       "version_major": 2,
       "version_minor": 0
      },
      "text/plain": [
       "[CONJUNCTIONS | ADAM, LR = 0.01 | PRODUCT LOGIC | 100 DIMENSIONS | 5 TERMS | FIX IMBALANCE] Run #1, Epoch #86,…"
      ]
     },
     "metadata": {},
     "output_type": "display_data"
    },
    {
     "data": {
      "application/vnd.jupyter.widget-view+json": {
       "model_id": "",
       "version_major": 2,
       "version_minor": 0
      },
      "text/plain": [
       "[CONJUNCTIONS | ADAM, LR = 0.01 | PRODUCT LOGIC | 100 DIMENSIONS | 5 TERMS | FIX IMBALANCE] Run #1, Epoch #86,…"
      ]
     },
     "metadata": {},
     "output_type": "display_data"
    },
    {
     "data": {
      "application/vnd.jupyter.widget-view+json": {
       "model_id": "",
       "version_major": 2,
       "version_minor": 0
      },
      "text/plain": [
       "[CONJUNCTIONS | ADAM, LR = 0.01 | PRODUCT LOGIC | 100 DIMENSIONS | 5 TERMS | FIX IMBALANCE] Run #1, Epoch #87,…"
      ]
     },
     "metadata": {},
     "output_type": "display_data"
    },
    {
     "data": {
      "application/vnd.jupyter.widget-view+json": {
       "model_id": "",
       "version_major": 2,
       "version_minor": 0
      },
      "text/plain": [
       "[CONJUNCTIONS | ADAM, LR = 0.01 | PRODUCT LOGIC | 100 DIMENSIONS | 5 TERMS | FIX IMBALANCE] Run #1, Epoch #87,…"
      ]
     },
     "metadata": {},
     "output_type": "display_data"
    },
    {
     "data": {
      "application/vnd.jupyter.widget-view+json": {
       "model_id": "",
       "version_major": 2,
       "version_minor": 0
      },
      "text/plain": [
       "[CONJUNCTIONS | ADAM, LR = 0.01 | PRODUCT LOGIC | 100 DIMENSIONS | 5 TERMS | FIX IMBALANCE] Run #1, Epoch #87,…"
      ]
     },
     "metadata": {},
     "output_type": "display_data"
    },
    {
     "data": {
      "application/vnd.jupyter.widget-view+json": {
       "model_id": "",
       "version_major": 2,
       "version_minor": 0
      },
      "text/plain": [
       "[CONJUNCTIONS | ADAM, LR = 0.01 | PRODUCT LOGIC | 100 DIMENSIONS | 5 TERMS | FIX IMBALANCE] Run #1, Epoch #88,…"
      ]
     },
     "metadata": {},
     "output_type": "display_data"
    },
    {
     "data": {
      "application/vnd.jupyter.widget-view+json": {
       "model_id": "",
       "version_major": 2,
       "version_minor": 0
      },
      "text/plain": [
       "[CONJUNCTIONS | ADAM, LR = 0.01 | PRODUCT LOGIC | 100 DIMENSIONS | 5 TERMS | FIX IMBALANCE] Run #1, Epoch #88,…"
      ]
     },
     "metadata": {},
     "output_type": "display_data"
    },
    {
     "data": {
      "application/vnd.jupyter.widget-view+json": {
       "model_id": "",
       "version_major": 2,
       "version_minor": 0
      },
      "text/plain": [
       "[CONJUNCTIONS | ADAM, LR = 0.01 | PRODUCT LOGIC | 100 DIMENSIONS | 5 TERMS | FIX IMBALANCE] Run #1, Epoch #88,…"
      ]
     },
     "metadata": {},
     "output_type": "display_data"
    },
    {
     "data": {
      "application/vnd.jupyter.widget-view+json": {
       "model_id": "",
       "version_major": 2,
       "version_minor": 0
      },
      "text/plain": [
       "[CONJUNCTIONS | ADAM, LR = 0.01 | PRODUCT LOGIC | 100 DIMENSIONS | 5 TERMS | FIX IMBALANCE] Run #1, Epoch #89,…"
      ]
     },
     "metadata": {},
     "output_type": "display_data"
    },
    {
     "data": {
      "application/vnd.jupyter.widget-view+json": {
       "model_id": "",
       "version_major": 2,
       "version_minor": 0
      },
      "text/plain": [
       "[CONJUNCTIONS | ADAM, LR = 0.01 | PRODUCT LOGIC | 100 DIMENSIONS | 5 TERMS | FIX IMBALANCE] Run #1, Epoch #89,…"
      ]
     },
     "metadata": {},
     "output_type": "display_data"
    },
    {
     "data": {
      "application/vnd.jupyter.widget-view+json": {
       "model_id": "",
       "version_major": 2,
       "version_minor": 0
      },
      "text/plain": [
       "[CONJUNCTIONS | ADAM, LR = 0.01 | PRODUCT LOGIC | 100 DIMENSIONS | 5 TERMS | FIX IMBALANCE] Run #1, Epoch #89,…"
      ]
     },
     "metadata": {},
     "output_type": "display_data"
    },
    {
     "data": {
      "application/vnd.jupyter.widget-view+json": {
       "model_id": "",
       "version_major": 2,
       "version_minor": 0
      },
      "text/plain": [
       "[CONJUNCTIONS | ADAM, LR = 0.01 | PRODUCT LOGIC | 100 DIMENSIONS | 5 TERMS | FIX IMBALANCE] Run #1, Epoch #90,…"
      ]
     },
     "metadata": {},
     "output_type": "display_data"
    },
    {
     "data": {
      "application/vnd.jupyter.widget-view+json": {
       "model_id": "",
       "version_major": 2,
       "version_minor": 0
      },
      "text/plain": [
       "[CONJUNCTIONS | ADAM, LR = 0.01 | PRODUCT LOGIC | 100 DIMENSIONS | 5 TERMS | FIX IMBALANCE] Run #1, Epoch #90,…"
      ]
     },
     "metadata": {},
     "output_type": "display_data"
    },
    {
     "data": {
      "application/vnd.jupyter.widget-view+json": {
       "model_id": "",
       "version_major": 2,
       "version_minor": 0
      },
      "text/plain": [
       "[CONJUNCTIONS | ADAM, LR = 0.01 | PRODUCT LOGIC | 100 DIMENSIONS | 5 TERMS | FIX IMBALANCE] Run #1, Epoch #90,…"
      ]
     },
     "metadata": {},
     "output_type": "display_data"
    },
    {
     "data": {
      "application/vnd.jupyter.widget-view+json": {
       "model_id": "",
       "version_major": 2,
       "version_minor": 0
      },
      "text/plain": [
       "[CONJUNCTIONS | ADAM, LR = 0.01 | PRODUCT LOGIC | 100 DIMENSIONS | 5 TERMS | FIX IMBALANCE] Run #1, Epoch #91,…"
      ]
     },
     "metadata": {},
     "output_type": "display_data"
    },
    {
     "data": {
      "application/vnd.jupyter.widget-view+json": {
       "model_id": "",
       "version_major": 2,
       "version_minor": 0
      },
      "text/plain": [
       "[CONJUNCTIONS | ADAM, LR = 0.01 | PRODUCT LOGIC | 100 DIMENSIONS | 5 TERMS | FIX IMBALANCE] Run #1, Epoch #91,…"
      ]
     },
     "metadata": {},
     "output_type": "display_data"
    },
    {
     "data": {
      "application/vnd.jupyter.widget-view+json": {
       "model_id": "",
       "version_major": 2,
       "version_minor": 0
      },
      "text/plain": [
       "[CONJUNCTIONS | ADAM, LR = 0.01 | PRODUCT LOGIC | 100 DIMENSIONS | 5 TERMS | FIX IMBALANCE] Run #1, Epoch #91,…"
      ]
     },
     "metadata": {},
     "output_type": "display_data"
    },
    {
     "data": {
      "application/vnd.jupyter.widget-view+json": {
       "model_id": "",
       "version_major": 2,
       "version_minor": 0
      },
      "text/plain": [
       "[CONJUNCTIONS | ADAM, LR = 0.01 | PRODUCT LOGIC | 100 DIMENSIONS | 5 TERMS | FIX IMBALANCE] Run #1, Epoch #92,…"
      ]
     },
     "metadata": {},
     "output_type": "display_data"
    },
    {
     "data": {
      "application/vnd.jupyter.widget-view+json": {
       "model_id": "",
       "version_major": 2,
       "version_minor": 0
      },
      "text/plain": [
       "[CONJUNCTIONS | ADAM, LR = 0.01 | PRODUCT LOGIC | 100 DIMENSIONS | 5 TERMS | FIX IMBALANCE] Run #1, Epoch #92,…"
      ]
     },
     "metadata": {},
     "output_type": "display_data"
    },
    {
     "data": {
      "application/vnd.jupyter.widget-view+json": {
       "model_id": "",
       "version_major": 2,
       "version_minor": 0
      },
      "text/plain": [
       "[CONJUNCTIONS | ADAM, LR = 0.01 | PRODUCT LOGIC | 100 DIMENSIONS | 5 TERMS | FIX IMBALANCE] Run #1, Epoch #92,…"
      ]
     },
     "metadata": {},
     "output_type": "display_data"
    },
    {
     "data": {
      "application/vnd.jupyter.widget-view+json": {
       "model_id": "",
       "version_major": 2,
       "version_minor": 0
      },
      "text/plain": [
       "[CONJUNCTIONS | ADAM, LR = 0.01 | PRODUCT LOGIC | 100 DIMENSIONS | 5 TERMS | FIX IMBALANCE] Run #1, Epoch #93,…"
      ]
     },
     "metadata": {},
     "output_type": "display_data"
    },
    {
     "data": {
      "application/vnd.jupyter.widget-view+json": {
       "model_id": "",
       "version_major": 2,
       "version_minor": 0
      },
      "text/plain": [
       "[CONJUNCTIONS | ADAM, LR = 0.01 | PRODUCT LOGIC | 100 DIMENSIONS | 5 TERMS | FIX IMBALANCE] Run #1, Epoch #93,…"
      ]
     },
     "metadata": {},
     "output_type": "display_data"
    },
    {
     "data": {
      "application/vnd.jupyter.widget-view+json": {
       "model_id": "",
       "version_major": 2,
       "version_minor": 0
      },
      "text/plain": [
       "[CONJUNCTIONS | ADAM, LR = 0.01 | PRODUCT LOGIC | 100 DIMENSIONS | 5 TERMS | FIX IMBALANCE] Run #1, Epoch #93,…"
      ]
     },
     "metadata": {},
     "output_type": "display_data"
    },
    {
     "data": {
      "application/vnd.jupyter.widget-view+json": {
       "model_id": "",
       "version_major": 2,
       "version_minor": 0
      },
      "text/plain": [
       "[CONJUNCTIONS | ADAM, LR = 0.01 | PRODUCT LOGIC | 100 DIMENSIONS | 5 TERMS | FIX IMBALANCE] Run #1, Epoch #94,…"
      ]
     },
     "metadata": {},
     "output_type": "display_data"
    },
    {
     "data": {
      "application/vnd.jupyter.widget-view+json": {
       "model_id": "",
       "version_major": 2,
       "version_minor": 0
      },
      "text/plain": [
       "[CONJUNCTIONS | ADAM, LR = 0.01 | PRODUCT LOGIC | 100 DIMENSIONS | 5 TERMS | FIX IMBALANCE] Run #1, Epoch #94,…"
      ]
     },
     "metadata": {},
     "output_type": "display_data"
    },
    {
     "data": {
      "application/vnd.jupyter.widget-view+json": {
       "model_id": "",
       "version_major": 2,
       "version_minor": 0
      },
      "text/plain": [
       "[CONJUNCTIONS | ADAM, LR = 0.01 | PRODUCT LOGIC | 100 DIMENSIONS | 5 TERMS | FIX IMBALANCE] Run #1, Epoch #94,…"
      ]
     },
     "metadata": {},
     "output_type": "display_data"
    },
    {
     "data": {
      "application/vnd.jupyter.widget-view+json": {
       "model_id": "",
       "version_major": 2,
       "version_minor": 0
      },
      "text/plain": [
       "[CONJUNCTIONS | ADAM, LR = 0.01 | PRODUCT LOGIC | 100 DIMENSIONS | 5 TERMS | FIX IMBALANCE] Run #1, Epoch #95,…"
      ]
     },
     "metadata": {},
     "output_type": "display_data"
    },
    {
     "data": {
      "application/vnd.jupyter.widget-view+json": {
       "model_id": "",
       "version_major": 2,
       "version_minor": 0
      },
      "text/plain": [
       "[CONJUNCTIONS | ADAM, LR = 0.01 | PRODUCT LOGIC | 100 DIMENSIONS | 5 TERMS | FIX IMBALANCE] Run #1, Epoch #95,…"
      ]
     },
     "metadata": {},
     "output_type": "display_data"
    },
    {
     "data": {
      "application/vnd.jupyter.widget-view+json": {
       "model_id": "",
       "version_major": 2,
       "version_minor": 0
      },
      "text/plain": [
       "[CONJUNCTIONS | ADAM, LR = 0.01 | PRODUCT LOGIC | 100 DIMENSIONS | 5 TERMS | FIX IMBALANCE] Run #1, Epoch #95,…"
      ]
     },
     "metadata": {},
     "output_type": "display_data"
    },
    {
     "data": {
      "application/vnd.jupyter.widget-view+json": {
       "model_id": "",
       "version_major": 2,
       "version_minor": 0
      },
      "text/plain": [
       "[CONJUNCTIONS | ADAM, LR = 0.01 | PRODUCT LOGIC | 100 DIMENSIONS | 5 TERMS | FIX IMBALANCE] Run #1, Epoch #96,…"
      ]
     },
     "metadata": {},
     "output_type": "display_data"
    },
    {
     "data": {
      "application/vnd.jupyter.widget-view+json": {
       "model_id": "",
       "version_major": 2,
       "version_minor": 0
      },
      "text/plain": [
       "[CONJUNCTIONS | ADAM, LR = 0.01 | PRODUCT LOGIC | 100 DIMENSIONS | 5 TERMS | FIX IMBALANCE] Run #1, Epoch #96,…"
      ]
     },
     "metadata": {},
     "output_type": "display_data"
    },
    {
     "data": {
      "application/vnd.jupyter.widget-view+json": {
       "model_id": "",
       "version_major": 2,
       "version_minor": 0
      },
      "text/plain": [
       "[CONJUNCTIONS | ADAM, LR = 0.01 | PRODUCT LOGIC | 100 DIMENSIONS | 5 TERMS | FIX IMBALANCE] Run #1, Epoch #96,…"
      ]
     },
     "metadata": {},
     "output_type": "display_data"
    },
    {
     "data": {
      "application/vnd.jupyter.widget-view+json": {
       "model_id": "",
       "version_major": 2,
       "version_minor": 0
      },
      "text/plain": [
       "[CONJUNCTIONS | ADAM, LR = 0.01 | PRODUCT LOGIC | 100 DIMENSIONS | 5 TERMS | FIX IMBALANCE] Run #1, Epoch #97,…"
      ]
     },
     "metadata": {},
     "output_type": "display_data"
    },
    {
     "data": {
      "application/vnd.jupyter.widget-view+json": {
       "model_id": "",
       "version_major": 2,
       "version_minor": 0
      },
      "text/plain": [
       "[CONJUNCTIONS | ADAM, LR = 0.01 | PRODUCT LOGIC | 100 DIMENSIONS | 5 TERMS | FIX IMBALANCE] Run #1, Epoch #97,…"
      ]
     },
     "metadata": {},
     "output_type": "display_data"
    },
    {
     "data": {
      "application/vnd.jupyter.widget-view+json": {
       "model_id": "",
       "version_major": 2,
       "version_minor": 0
      },
      "text/plain": [
       "[CONJUNCTIONS | ADAM, LR = 0.01 | PRODUCT LOGIC | 100 DIMENSIONS | 5 TERMS | FIX IMBALANCE] Run #1, Epoch #97,…"
      ]
     },
     "metadata": {},
     "output_type": "display_data"
    },
    {
     "data": {
      "application/vnd.jupyter.widget-view+json": {
       "model_id": "",
       "version_major": 2,
       "version_minor": 0
      },
      "text/plain": [
       "[CONJUNCTIONS | ADAM, LR = 0.01 | PRODUCT LOGIC | 100 DIMENSIONS | 5 TERMS | FIX IMBALANCE] Run #1, Epoch #98,…"
      ]
     },
     "metadata": {},
     "output_type": "display_data"
    },
    {
     "data": {
      "application/vnd.jupyter.widget-view+json": {
       "model_id": "",
       "version_major": 2,
       "version_minor": 0
      },
      "text/plain": [
       "[CONJUNCTIONS | ADAM, LR = 0.01 | PRODUCT LOGIC | 100 DIMENSIONS | 5 TERMS | FIX IMBALANCE] Run #1, Epoch #98,…"
      ]
     },
     "metadata": {},
     "output_type": "display_data"
    },
    {
     "data": {
      "application/vnd.jupyter.widget-view+json": {
       "model_id": "",
       "version_major": 2,
       "version_minor": 0
      },
      "text/plain": [
       "[CONJUNCTIONS | ADAM, LR = 0.01 | PRODUCT LOGIC | 100 DIMENSIONS | 5 TERMS | FIX IMBALANCE] Run #1, Epoch #98,…"
      ]
     },
     "metadata": {},
     "output_type": "display_data"
    },
    {
     "data": {
      "application/vnd.jupyter.widget-view+json": {
       "model_id": "",
       "version_major": 2,
       "version_minor": 0
      },
      "text/plain": [
       "[CONJUNCTIONS | ADAM, LR = 0.01 | PRODUCT LOGIC | 100 DIMENSIONS | 5 TERMS | FIX IMBALANCE] Run #1, Epoch #99,…"
      ]
     },
     "metadata": {},
     "output_type": "display_data"
    },
    {
     "data": {
      "application/vnd.jupyter.widget-view+json": {
       "model_id": "",
       "version_major": 2,
       "version_minor": 0
      },
      "text/plain": [
       "[CONJUNCTIONS | ADAM, LR = 0.01 | PRODUCT LOGIC | 100 DIMENSIONS | 5 TERMS | FIX IMBALANCE] Run #1, Epoch #99,…"
      ]
     },
     "metadata": {},
     "output_type": "display_data"
    },
    {
     "data": {
      "application/vnd.jupyter.widget-view+json": {
       "model_id": "",
       "version_major": 2,
       "version_minor": 0
      },
      "text/plain": [
       "[CONJUNCTIONS | ADAM, LR = 0.01 | PRODUCT LOGIC | 100 DIMENSIONS | 5 TERMS | FIX IMBALANCE] Run #1, Epoch #99,…"
      ]
     },
     "metadata": {},
     "output_type": "display_data"
    },
    {
     "data": {
      "application/vnd.jupyter.widget-view+json": {
       "model_id": "",
       "version_major": 2,
       "version_minor": 0
      },
      "text/plain": [
       "[CONJUNCTIONS | ADAM, LR = 0.01 | PRODUCT LOGIC | 100 DIMENSIONS | 5 TERMS | FIX IMBALANCE] Run #1, Epoch #100…"
      ]
     },
     "metadata": {},
     "output_type": "display_data"
    },
    {
     "data": {
      "application/vnd.jupyter.widget-view+json": {
       "model_id": "",
       "version_major": 2,
       "version_minor": 0
      },
      "text/plain": [
       "[CONJUNCTIONS | ADAM, LR = 0.01 | PRODUCT LOGIC | 100 DIMENSIONS | 5 TERMS | FIX IMBALANCE] Run #1, Epoch #100…"
      ]
     },
     "metadata": {},
     "output_type": "display_data"
    },
    {
     "data": {
      "application/vnd.jupyter.widget-view+json": {
       "model_id": "",
       "version_major": 2,
       "version_minor": 0
      },
      "text/plain": [
       "[CONJUNCTIONS | ADAM, LR = 0.01 | PRODUCT LOGIC | 100 DIMENSIONS | 5 TERMS | FIX IMBALANCE] Run #1, Epoch #100…"
      ]
     },
     "metadata": {},
     "output_type": "display_data"
    },
    {
     "data": {
      "application/vnd.jupyter.widget-view+json": {
       "model_id": "",
       "version_major": 2,
       "version_minor": 0
      },
      "text/plain": [
       "[CONJUNCTIONS | ADAM, LR = 0.01 | PRODUCT LOGIC | 1000 DIMENSIONS | 5 TERMS | FIX IMBALANCE] Run #1, Epoch #1,…"
      ]
     },
     "metadata": {},
     "output_type": "display_data"
    },
    {
     "data": {
      "application/vnd.jupyter.widget-view+json": {
       "model_id": "",
       "version_major": 2,
       "version_minor": 0
      },
      "text/plain": [
       "[CONJUNCTIONS | ADAM, LR = 0.01 | PRODUCT LOGIC | 1000 DIMENSIONS | 5 TERMS | FIX IMBALANCE] Run #1, Epoch #1,…"
      ]
     },
     "metadata": {},
     "output_type": "display_data"
    },
    {
     "data": {
      "application/vnd.jupyter.widget-view+json": {
       "model_id": "",
       "version_major": 2,
       "version_minor": 0
      },
      "text/plain": [
       "[CONJUNCTIONS | ADAM, LR = 0.01 | PRODUCT LOGIC | 1000 DIMENSIONS | 5 TERMS | FIX IMBALANCE] Run #1, Epoch #1,…"
      ]
     },
     "metadata": {},
     "output_type": "display_data"
    },
    {
     "data": {
      "application/vnd.jupyter.widget-view+json": {
       "model_id": "",
       "version_major": 2,
       "version_minor": 0
      },
      "text/plain": [
       "[CONJUNCTIONS | ADAM, LR = 0.01 | PRODUCT LOGIC | 1000 DIMENSIONS | 5 TERMS | FIX IMBALANCE] Run #1, Epoch #2,…"
      ]
     },
     "metadata": {},
     "output_type": "display_data"
    },
    {
     "data": {
      "application/vnd.jupyter.widget-view+json": {
       "model_id": "",
       "version_major": 2,
       "version_minor": 0
      },
      "text/plain": [
       "[CONJUNCTIONS | ADAM, LR = 0.01 | PRODUCT LOGIC | 1000 DIMENSIONS | 5 TERMS | FIX IMBALANCE] Run #1, Epoch #2,…"
      ]
     },
     "metadata": {},
     "output_type": "display_data"
    },
    {
     "data": {
      "application/vnd.jupyter.widget-view+json": {
       "model_id": "",
       "version_major": 2,
       "version_minor": 0
      },
      "text/plain": [
       "[CONJUNCTIONS | ADAM, LR = 0.01 | PRODUCT LOGIC | 1000 DIMENSIONS | 5 TERMS | FIX IMBALANCE] Run #1, Epoch #2,…"
      ]
     },
     "metadata": {},
     "output_type": "display_data"
    },
    {
     "data": {
      "application/vnd.jupyter.widget-view+json": {
       "model_id": "",
       "version_major": 2,
       "version_minor": 0
      },
      "text/plain": [
       "[CONJUNCTIONS | ADAM, LR = 0.01 | PRODUCT LOGIC | 1000 DIMENSIONS | 5 TERMS | FIX IMBALANCE] Run #1, Epoch #3,…"
      ]
     },
     "metadata": {},
     "output_type": "display_data"
    },
    {
     "data": {
      "application/vnd.jupyter.widget-view+json": {
       "model_id": "",
       "version_major": 2,
       "version_minor": 0
      },
      "text/plain": [
       "[CONJUNCTIONS | ADAM, LR = 0.01 | PRODUCT LOGIC | 1000 DIMENSIONS | 5 TERMS | FIX IMBALANCE] Run #1, Epoch #3,…"
      ]
     },
     "metadata": {},
     "output_type": "display_data"
    },
    {
     "data": {
      "application/vnd.jupyter.widget-view+json": {
       "model_id": "",
       "version_major": 2,
       "version_minor": 0
      },
      "text/plain": [
       "[CONJUNCTIONS | ADAM, LR = 0.01 | PRODUCT LOGIC | 1000 DIMENSIONS | 5 TERMS | FIX IMBALANCE] Run #1, Epoch #3,…"
      ]
     },
     "metadata": {},
     "output_type": "display_data"
    },
    {
     "data": {
      "application/vnd.jupyter.widget-view+json": {
       "model_id": "",
       "version_major": 2,
       "version_minor": 0
      },
      "text/plain": [
       "[CONJUNCTIONS | ADAM, LR = 0.01 | PRODUCT LOGIC | 1000 DIMENSIONS | 5 TERMS | FIX IMBALANCE] Run #1, Epoch #4,…"
      ]
     },
     "metadata": {},
     "output_type": "display_data"
    },
    {
     "data": {
      "application/vnd.jupyter.widget-view+json": {
       "model_id": "",
       "version_major": 2,
       "version_minor": 0
      },
      "text/plain": [
       "[CONJUNCTIONS | ADAM, LR = 0.01 | PRODUCT LOGIC | 1000 DIMENSIONS | 5 TERMS | FIX IMBALANCE] Run #1, Epoch #4,…"
      ]
     },
     "metadata": {},
     "output_type": "display_data"
    },
    {
     "data": {
      "application/vnd.jupyter.widget-view+json": {
       "model_id": "",
       "version_major": 2,
       "version_minor": 0
      },
      "text/plain": [
       "[CONJUNCTIONS | ADAM, LR = 0.01 | PRODUCT LOGIC | 1000 DIMENSIONS | 5 TERMS | FIX IMBALANCE] Run #1, Epoch #4,…"
      ]
     },
     "metadata": {},
     "output_type": "display_data"
    },
    {
     "data": {
      "application/vnd.jupyter.widget-view+json": {
       "model_id": "",
       "version_major": 2,
       "version_minor": 0
      },
      "text/plain": [
       "[CONJUNCTIONS | ADAM, LR = 0.01 | PRODUCT LOGIC | 1000 DIMENSIONS | 5 TERMS | FIX IMBALANCE] Run #1, Epoch #5,…"
      ]
     },
     "metadata": {},
     "output_type": "display_data"
    },
    {
     "data": {
      "application/vnd.jupyter.widget-view+json": {
       "model_id": "",
       "version_major": 2,
       "version_minor": 0
      },
      "text/plain": [
       "[CONJUNCTIONS | ADAM, LR = 0.01 | PRODUCT LOGIC | 1000 DIMENSIONS | 5 TERMS | FIX IMBALANCE] Run #1, Epoch #5,…"
      ]
     },
     "metadata": {},
     "output_type": "display_data"
    },
    {
     "data": {
      "application/vnd.jupyter.widget-view+json": {
       "model_id": "",
       "version_major": 2,
       "version_minor": 0
      },
      "text/plain": [
       "[CONJUNCTIONS | ADAM, LR = 0.01 | PRODUCT LOGIC | 1000 DIMENSIONS | 5 TERMS | FIX IMBALANCE] Run #1, Epoch #5,…"
      ]
     },
     "metadata": {},
     "output_type": "display_data"
    },
    {
     "data": {
      "application/vnd.jupyter.widget-view+json": {
       "model_id": "",
       "version_major": 2,
       "version_minor": 0
      },
      "text/plain": [
       "[CONJUNCTIONS | ADAM, LR = 0.01 | PRODUCT LOGIC | 1000 DIMENSIONS | 5 TERMS | FIX IMBALANCE] Run #1, Epoch #6,…"
      ]
     },
     "metadata": {},
     "output_type": "display_data"
    },
    {
     "data": {
      "application/vnd.jupyter.widget-view+json": {
       "model_id": "",
       "version_major": 2,
       "version_minor": 0
      },
      "text/plain": [
       "[CONJUNCTIONS | ADAM, LR = 0.01 | PRODUCT LOGIC | 1000 DIMENSIONS | 5 TERMS | FIX IMBALANCE] Run #1, Epoch #6,…"
      ]
     },
     "metadata": {},
     "output_type": "display_data"
    },
    {
     "data": {
      "application/vnd.jupyter.widget-view+json": {
       "model_id": "",
       "version_major": 2,
       "version_minor": 0
      },
      "text/plain": [
       "[CONJUNCTIONS | ADAM, LR = 0.01 | PRODUCT LOGIC | 1000 DIMENSIONS | 5 TERMS | FIX IMBALANCE] Run #1, Epoch #6,…"
      ]
     },
     "metadata": {},
     "output_type": "display_data"
    },
    {
     "data": {
      "application/vnd.jupyter.widget-view+json": {
       "model_id": "",
       "version_major": 2,
       "version_minor": 0
      },
      "text/plain": [
       "[CONJUNCTIONS | ADAM, LR = 0.01 | PRODUCT LOGIC | 1000 DIMENSIONS | 5 TERMS | FIX IMBALANCE] Run #1, Epoch #7,…"
      ]
     },
     "metadata": {},
     "output_type": "display_data"
    },
    {
     "data": {
      "application/vnd.jupyter.widget-view+json": {
       "model_id": "",
       "version_major": 2,
       "version_minor": 0
      },
      "text/plain": [
       "[CONJUNCTIONS | ADAM, LR = 0.01 | PRODUCT LOGIC | 1000 DIMENSIONS | 5 TERMS | FIX IMBALANCE] Run #1, Epoch #7,…"
      ]
     },
     "metadata": {},
     "output_type": "display_data"
    },
    {
     "data": {
      "application/vnd.jupyter.widget-view+json": {
       "model_id": "",
       "version_major": 2,
       "version_minor": 0
      },
      "text/plain": [
       "[CONJUNCTIONS | ADAM, LR = 0.01 | PRODUCT LOGIC | 1000 DIMENSIONS | 5 TERMS | FIX IMBALANCE] Run #1, Epoch #7,…"
      ]
     },
     "metadata": {},
     "output_type": "display_data"
    },
    {
     "data": {
      "application/vnd.jupyter.widget-view+json": {
       "model_id": "",
       "version_major": 2,
       "version_minor": 0
      },
      "text/plain": [
       "[CONJUNCTIONS | ADAM, LR = 0.01 | PRODUCT LOGIC | 1000 DIMENSIONS | 5 TERMS | FIX IMBALANCE] Run #1, Epoch #8,…"
      ]
     },
     "metadata": {},
     "output_type": "display_data"
    },
    {
     "data": {
      "application/vnd.jupyter.widget-view+json": {
       "model_id": "",
       "version_major": 2,
       "version_minor": 0
      },
      "text/plain": [
       "[CONJUNCTIONS | ADAM, LR = 0.01 | PRODUCT LOGIC | 1000 DIMENSIONS | 5 TERMS | FIX IMBALANCE] Run #1, Epoch #8,…"
      ]
     },
     "metadata": {},
     "output_type": "display_data"
    },
    {
     "data": {
      "application/vnd.jupyter.widget-view+json": {
       "model_id": "",
       "version_major": 2,
       "version_minor": 0
      },
      "text/plain": [
       "[CONJUNCTIONS | ADAM, LR = 0.01 | PRODUCT LOGIC | 1000 DIMENSIONS | 5 TERMS | FIX IMBALANCE] Run #1, Epoch #8,…"
      ]
     },
     "metadata": {},
     "output_type": "display_data"
    },
    {
     "data": {
      "application/vnd.jupyter.widget-view+json": {
       "model_id": "",
       "version_major": 2,
       "version_minor": 0
      },
      "text/plain": [
       "[CONJUNCTIONS | ADAM, LR = 0.01 | PRODUCT LOGIC | 1000 DIMENSIONS | 5 TERMS | FIX IMBALANCE] Run #1, Epoch #9,…"
      ]
     },
     "metadata": {},
     "output_type": "display_data"
    },
    {
     "data": {
      "application/vnd.jupyter.widget-view+json": {
       "model_id": "",
       "version_major": 2,
       "version_minor": 0
      },
      "text/plain": [
       "[CONJUNCTIONS | ADAM, LR = 0.01 | PRODUCT LOGIC | 1000 DIMENSIONS | 5 TERMS | FIX IMBALANCE] Run #1, Epoch #9,…"
      ]
     },
     "metadata": {},
     "output_type": "display_data"
    },
    {
     "data": {
      "application/vnd.jupyter.widget-view+json": {
       "model_id": "",
       "version_major": 2,
       "version_minor": 0
      },
      "text/plain": [
       "[CONJUNCTIONS | ADAM, LR = 0.01 | PRODUCT LOGIC | 1000 DIMENSIONS | 5 TERMS | FIX IMBALANCE] Run #1, Epoch #9,…"
      ]
     },
     "metadata": {},
     "output_type": "display_data"
    },
    {
     "data": {
      "application/vnd.jupyter.widget-view+json": {
       "model_id": "",
       "version_major": 2,
       "version_minor": 0
      },
      "text/plain": [
       "[CONJUNCTIONS | ADAM, LR = 0.01 | PRODUCT LOGIC | 1000 DIMENSIONS | 5 TERMS | FIX IMBALANCE] Run #1, Epoch #10…"
      ]
     },
     "metadata": {},
     "output_type": "display_data"
    },
    {
     "data": {
      "application/vnd.jupyter.widget-view+json": {
       "model_id": "",
       "version_major": 2,
       "version_minor": 0
      },
      "text/plain": [
       "[CONJUNCTIONS | ADAM, LR = 0.01 | PRODUCT LOGIC | 1000 DIMENSIONS | 5 TERMS | FIX IMBALANCE] Run #1, Epoch #10…"
      ]
     },
     "metadata": {},
     "output_type": "display_data"
    },
    {
     "data": {
      "application/vnd.jupyter.widget-view+json": {
       "model_id": "",
       "version_major": 2,
       "version_minor": 0
      },
      "text/plain": [
       "[CONJUNCTIONS | ADAM, LR = 0.01 | PRODUCT LOGIC | 1000 DIMENSIONS | 5 TERMS | FIX IMBALANCE] Run #1, Epoch #10…"
      ]
     },
     "metadata": {},
     "output_type": "display_data"
    },
    {
     "data": {
      "application/vnd.jupyter.widget-view+json": {
       "model_id": "",
       "version_major": 2,
       "version_minor": 0
      },
      "text/plain": [
       "[CONJUNCTIONS | ADAM, LR = 0.01 | PRODUCT LOGIC | 1000 DIMENSIONS | 5 TERMS | FIX IMBALANCE] Run #1, Epoch #11…"
      ]
     },
     "metadata": {},
     "output_type": "display_data"
    },
    {
     "data": {
      "application/vnd.jupyter.widget-view+json": {
       "model_id": "",
       "version_major": 2,
       "version_minor": 0
      },
      "text/plain": [
       "[CONJUNCTIONS | ADAM, LR = 0.01 | PRODUCT LOGIC | 1000 DIMENSIONS | 5 TERMS | FIX IMBALANCE] Run #1, Epoch #11…"
      ]
     },
     "metadata": {},
     "output_type": "display_data"
    },
    {
     "data": {
      "application/vnd.jupyter.widget-view+json": {
       "model_id": "",
       "version_major": 2,
       "version_minor": 0
      },
      "text/plain": [
       "[CONJUNCTIONS | ADAM, LR = 0.01 | PRODUCT LOGIC | 1000 DIMENSIONS | 5 TERMS | FIX IMBALANCE] Run #1, Epoch #11…"
      ]
     },
     "metadata": {},
     "output_type": "display_data"
    },
    {
     "data": {
      "application/vnd.jupyter.widget-view+json": {
       "model_id": "",
       "version_major": 2,
       "version_minor": 0
      },
      "text/plain": [
       "[CONJUNCTIONS | ADAM, LR = 0.01 | PRODUCT LOGIC | 1000 DIMENSIONS | 5 TERMS | FIX IMBALANCE] Run #1, Epoch #12…"
      ]
     },
     "metadata": {},
     "output_type": "display_data"
    },
    {
     "data": {
      "application/vnd.jupyter.widget-view+json": {
       "model_id": "",
       "version_major": 2,
       "version_minor": 0
      },
      "text/plain": [
       "[CONJUNCTIONS | ADAM, LR = 0.01 | PRODUCT LOGIC | 1000 DIMENSIONS | 5 TERMS | FIX IMBALANCE] Run #1, Epoch #12…"
      ]
     },
     "metadata": {},
     "output_type": "display_data"
    },
    {
     "data": {
      "application/vnd.jupyter.widget-view+json": {
       "model_id": "",
       "version_major": 2,
       "version_minor": 0
      },
      "text/plain": [
       "[CONJUNCTIONS | ADAM, LR = 0.01 | PRODUCT LOGIC | 1000 DIMENSIONS | 5 TERMS | FIX IMBALANCE] Run #1, Epoch #12…"
      ]
     },
     "metadata": {},
     "output_type": "display_data"
    },
    {
     "data": {
      "application/vnd.jupyter.widget-view+json": {
       "model_id": "",
       "version_major": 2,
       "version_minor": 0
      },
      "text/plain": [
       "[CONJUNCTIONS | ADAM, LR = 0.01 | PRODUCT LOGIC | 1000 DIMENSIONS | 5 TERMS | FIX IMBALANCE] Run #1, Epoch #13…"
      ]
     },
     "metadata": {},
     "output_type": "display_data"
    },
    {
     "data": {
      "application/vnd.jupyter.widget-view+json": {
       "model_id": "",
       "version_major": 2,
       "version_minor": 0
      },
      "text/plain": [
       "[CONJUNCTIONS | ADAM, LR = 0.01 | PRODUCT LOGIC | 1000 DIMENSIONS | 5 TERMS | FIX IMBALANCE] Run #1, Epoch #13…"
      ]
     },
     "metadata": {},
     "output_type": "display_data"
    },
    {
     "data": {
      "application/vnd.jupyter.widget-view+json": {
       "model_id": "",
       "version_major": 2,
       "version_minor": 0
      },
      "text/plain": [
       "[CONJUNCTIONS | ADAM, LR = 0.01 | PRODUCT LOGIC | 1000 DIMENSIONS | 5 TERMS | FIX IMBALANCE] Run #1, Epoch #13…"
      ]
     },
     "metadata": {},
     "output_type": "display_data"
    },
    {
     "data": {
      "application/vnd.jupyter.widget-view+json": {
       "model_id": "",
       "version_major": 2,
       "version_minor": 0
      },
      "text/plain": [
       "[CONJUNCTIONS | ADAM, LR = 0.01 | PRODUCT LOGIC | 1000 DIMENSIONS | 5 TERMS | FIX IMBALANCE] Run #1, Epoch #14…"
      ]
     },
     "metadata": {},
     "output_type": "display_data"
    },
    {
     "data": {
      "application/vnd.jupyter.widget-view+json": {
       "model_id": "",
       "version_major": 2,
       "version_minor": 0
      },
      "text/plain": [
       "[CONJUNCTIONS | ADAM, LR = 0.01 | PRODUCT LOGIC | 1000 DIMENSIONS | 5 TERMS | FIX IMBALANCE] Run #1, Epoch #14…"
      ]
     },
     "metadata": {},
     "output_type": "display_data"
    },
    {
     "data": {
      "application/vnd.jupyter.widget-view+json": {
       "model_id": "",
       "version_major": 2,
       "version_minor": 0
      },
      "text/plain": [
       "[CONJUNCTIONS | ADAM, LR = 0.01 | PRODUCT LOGIC | 1000 DIMENSIONS | 5 TERMS | FIX IMBALANCE] Run #1, Epoch #14…"
      ]
     },
     "metadata": {},
     "output_type": "display_data"
    },
    {
     "data": {
      "application/vnd.jupyter.widget-view+json": {
       "model_id": "",
       "version_major": 2,
       "version_minor": 0
      },
      "text/plain": [
       "[CONJUNCTIONS | ADAM, LR = 0.01 | PRODUCT LOGIC | 1000 DIMENSIONS | 5 TERMS | FIX IMBALANCE] Run #1, Epoch #15…"
      ]
     },
     "metadata": {},
     "output_type": "display_data"
    },
    {
     "data": {
      "application/vnd.jupyter.widget-view+json": {
       "model_id": "",
       "version_major": 2,
       "version_minor": 0
      },
      "text/plain": [
       "[CONJUNCTIONS | ADAM, LR = 0.01 | PRODUCT LOGIC | 1000 DIMENSIONS | 5 TERMS | FIX IMBALANCE] Run #1, Epoch #15…"
      ]
     },
     "metadata": {},
     "output_type": "display_data"
    },
    {
     "data": {
      "application/vnd.jupyter.widget-view+json": {
       "model_id": "",
       "version_major": 2,
       "version_minor": 0
      },
      "text/plain": [
       "[CONJUNCTIONS | ADAM, LR = 0.01 | PRODUCT LOGIC | 1000 DIMENSIONS | 5 TERMS | FIX IMBALANCE] Run #1, Epoch #15…"
      ]
     },
     "metadata": {},
     "output_type": "display_data"
    },
    {
     "data": {
      "application/vnd.jupyter.widget-view+json": {
       "model_id": "",
       "version_major": 2,
       "version_minor": 0
      },
      "text/plain": [
       "[CONJUNCTIONS | ADAM, LR = 0.01 | PRODUCT LOGIC | 1000 DIMENSIONS | 5 TERMS | FIX IMBALANCE] Run #1, Epoch #16…"
      ]
     },
     "metadata": {},
     "output_type": "display_data"
    },
    {
     "data": {
      "application/vnd.jupyter.widget-view+json": {
       "model_id": "",
       "version_major": 2,
       "version_minor": 0
      },
      "text/plain": [
       "[CONJUNCTIONS | ADAM, LR = 0.01 | PRODUCT LOGIC | 1000 DIMENSIONS | 5 TERMS | FIX IMBALANCE] Run #1, Epoch #16…"
      ]
     },
     "metadata": {},
     "output_type": "display_data"
    },
    {
     "data": {
      "application/vnd.jupyter.widget-view+json": {
       "model_id": "",
       "version_major": 2,
       "version_minor": 0
      },
      "text/plain": [
       "[CONJUNCTIONS | ADAM, LR = 0.01 | PRODUCT LOGIC | 1000 DIMENSIONS | 5 TERMS | FIX IMBALANCE] Run #1, Epoch #16…"
      ]
     },
     "metadata": {},
     "output_type": "display_data"
    },
    {
     "data": {
      "application/vnd.jupyter.widget-view+json": {
       "model_id": "",
       "version_major": 2,
       "version_minor": 0
      },
      "text/plain": [
       "[CONJUNCTIONS | ADAM, LR = 0.01 | PRODUCT LOGIC | 1000 DIMENSIONS | 5 TERMS | FIX IMBALANCE] Run #1, Epoch #17…"
      ]
     },
     "metadata": {},
     "output_type": "display_data"
    },
    {
     "data": {
      "application/vnd.jupyter.widget-view+json": {
       "model_id": "",
       "version_major": 2,
       "version_minor": 0
      },
      "text/plain": [
       "[CONJUNCTIONS | ADAM, LR = 0.01 | PRODUCT LOGIC | 1000 DIMENSIONS | 5 TERMS | FIX IMBALANCE] Run #1, Epoch #17…"
      ]
     },
     "metadata": {},
     "output_type": "display_data"
    },
    {
     "data": {
      "application/vnd.jupyter.widget-view+json": {
       "model_id": "",
       "version_major": 2,
       "version_minor": 0
      },
      "text/plain": [
       "[CONJUNCTIONS | ADAM, LR = 0.01 | PRODUCT LOGIC | 1000 DIMENSIONS | 5 TERMS | FIX IMBALANCE] Run #1, Epoch #17…"
      ]
     },
     "metadata": {},
     "output_type": "display_data"
    },
    {
     "data": {
      "application/vnd.jupyter.widget-view+json": {
       "model_id": "",
       "version_major": 2,
       "version_minor": 0
      },
      "text/plain": [
       "[CONJUNCTIONS | ADAM, LR = 0.01 | PRODUCT LOGIC | 1000 DIMENSIONS | 5 TERMS | FIX IMBALANCE] Run #1, Epoch #18…"
      ]
     },
     "metadata": {},
     "output_type": "display_data"
    },
    {
     "data": {
      "application/vnd.jupyter.widget-view+json": {
       "model_id": "",
       "version_major": 2,
       "version_minor": 0
      },
      "text/plain": [
       "[CONJUNCTIONS | ADAM, LR = 0.01 | PRODUCT LOGIC | 1000 DIMENSIONS | 5 TERMS | FIX IMBALANCE] Run #1, Epoch #18…"
      ]
     },
     "metadata": {},
     "output_type": "display_data"
    },
    {
     "data": {
      "application/vnd.jupyter.widget-view+json": {
       "model_id": "",
       "version_major": 2,
       "version_minor": 0
      },
      "text/plain": [
       "[CONJUNCTIONS | ADAM, LR = 0.01 | PRODUCT LOGIC | 1000 DIMENSIONS | 5 TERMS | FIX IMBALANCE] Run #1, Epoch #18…"
      ]
     },
     "metadata": {},
     "output_type": "display_data"
    },
    {
     "data": {
      "application/vnd.jupyter.widget-view+json": {
       "model_id": "",
       "version_major": 2,
       "version_minor": 0
      },
      "text/plain": [
       "[CONJUNCTIONS | ADAM, LR = 0.01 | PRODUCT LOGIC | 1000 DIMENSIONS | 5 TERMS | FIX IMBALANCE] Run #1, Epoch #19…"
      ]
     },
     "metadata": {},
     "output_type": "display_data"
    },
    {
     "data": {
      "application/vnd.jupyter.widget-view+json": {
       "model_id": "",
       "version_major": 2,
       "version_minor": 0
      },
      "text/plain": [
       "[CONJUNCTIONS | ADAM, LR = 0.01 | PRODUCT LOGIC | 1000 DIMENSIONS | 5 TERMS | FIX IMBALANCE] Run #1, Epoch #19…"
      ]
     },
     "metadata": {},
     "output_type": "display_data"
    },
    {
     "data": {
      "application/vnd.jupyter.widget-view+json": {
       "model_id": "",
       "version_major": 2,
       "version_minor": 0
      },
      "text/plain": [
       "[CONJUNCTIONS | ADAM, LR = 0.01 | PRODUCT LOGIC | 1000 DIMENSIONS | 5 TERMS | FIX IMBALANCE] Run #1, Epoch #19…"
      ]
     },
     "metadata": {},
     "output_type": "display_data"
    },
    {
     "data": {
      "application/vnd.jupyter.widget-view+json": {
       "model_id": "",
       "version_major": 2,
       "version_minor": 0
      },
      "text/plain": [
       "[CONJUNCTIONS | ADAM, LR = 0.01 | PRODUCT LOGIC | 1000 DIMENSIONS | 5 TERMS | FIX IMBALANCE] Run #1, Epoch #20…"
      ]
     },
     "metadata": {},
     "output_type": "display_data"
    },
    {
     "data": {
      "application/vnd.jupyter.widget-view+json": {
       "model_id": "",
       "version_major": 2,
       "version_minor": 0
      },
      "text/plain": [
       "[CONJUNCTIONS | ADAM, LR = 0.01 | PRODUCT LOGIC | 1000 DIMENSIONS | 5 TERMS | FIX IMBALANCE] Run #1, Epoch #20…"
      ]
     },
     "metadata": {},
     "output_type": "display_data"
    },
    {
     "data": {
      "application/vnd.jupyter.widget-view+json": {
       "model_id": "",
       "version_major": 2,
       "version_minor": 0
      },
      "text/plain": [
       "[CONJUNCTIONS | ADAM, LR = 0.01 | PRODUCT LOGIC | 1000 DIMENSIONS | 5 TERMS | FIX IMBALANCE] Run #1, Epoch #20…"
      ]
     },
     "metadata": {},
     "output_type": "display_data"
    },
    {
     "data": {
      "application/vnd.jupyter.widget-view+json": {
       "model_id": "",
       "version_major": 2,
       "version_minor": 0
      },
      "text/plain": [
       "[CONJUNCTIONS | ADAM, LR = 0.01 | PRODUCT LOGIC | 1000 DIMENSIONS | 5 TERMS | FIX IMBALANCE] Run #1, Epoch #21…"
      ]
     },
     "metadata": {},
     "output_type": "display_data"
    },
    {
     "data": {
      "application/vnd.jupyter.widget-view+json": {
       "model_id": "",
       "version_major": 2,
       "version_minor": 0
      },
      "text/plain": [
       "[CONJUNCTIONS | ADAM, LR = 0.01 | PRODUCT LOGIC | 1000 DIMENSIONS | 5 TERMS | FIX IMBALANCE] Run #1, Epoch #21…"
      ]
     },
     "metadata": {},
     "output_type": "display_data"
    },
    {
     "data": {
      "application/vnd.jupyter.widget-view+json": {
       "model_id": "",
       "version_major": 2,
       "version_minor": 0
      },
      "text/plain": [
       "[CONJUNCTIONS | ADAM, LR = 0.01 | PRODUCT LOGIC | 1000 DIMENSIONS | 5 TERMS | FIX IMBALANCE] Run #1, Epoch #21…"
      ]
     },
     "metadata": {},
     "output_type": "display_data"
    },
    {
     "data": {
      "application/vnd.jupyter.widget-view+json": {
       "model_id": "",
       "version_major": 2,
       "version_minor": 0
      },
      "text/plain": [
       "[CONJUNCTIONS | ADAM, LR = 0.01 | PRODUCT LOGIC | 1000 DIMENSIONS | 5 TERMS | FIX IMBALANCE] Run #1, Epoch #22…"
      ]
     },
     "metadata": {},
     "output_type": "display_data"
    },
    {
     "data": {
      "application/vnd.jupyter.widget-view+json": {
       "model_id": "",
       "version_major": 2,
       "version_minor": 0
      },
      "text/plain": [
       "[CONJUNCTIONS | ADAM, LR = 0.01 | PRODUCT LOGIC | 1000 DIMENSIONS | 5 TERMS | FIX IMBALANCE] Run #1, Epoch #22…"
      ]
     },
     "metadata": {},
     "output_type": "display_data"
    },
    {
     "data": {
      "application/vnd.jupyter.widget-view+json": {
       "model_id": "",
       "version_major": 2,
       "version_minor": 0
      },
      "text/plain": [
       "[CONJUNCTIONS | ADAM, LR = 0.01 | PRODUCT LOGIC | 1000 DIMENSIONS | 5 TERMS | FIX IMBALANCE] Run #1, Epoch #22…"
      ]
     },
     "metadata": {},
     "output_type": "display_data"
    },
    {
     "data": {
      "application/vnd.jupyter.widget-view+json": {
       "model_id": "",
       "version_major": 2,
       "version_minor": 0
      },
      "text/plain": [
       "[CONJUNCTIONS | ADAM, LR = 0.01 | PRODUCT LOGIC | 1000 DIMENSIONS | 5 TERMS | FIX IMBALANCE] Run #1, Epoch #23…"
      ]
     },
     "metadata": {},
     "output_type": "display_data"
    },
    {
     "data": {
      "application/vnd.jupyter.widget-view+json": {
       "model_id": "",
       "version_major": 2,
       "version_minor": 0
      },
      "text/plain": [
       "[CONJUNCTIONS | ADAM, LR = 0.01 | PRODUCT LOGIC | 1000 DIMENSIONS | 5 TERMS | FIX IMBALANCE] Run #1, Epoch #23…"
      ]
     },
     "metadata": {},
     "output_type": "display_data"
    },
    {
     "data": {
      "application/vnd.jupyter.widget-view+json": {
       "model_id": "",
       "version_major": 2,
       "version_minor": 0
      },
      "text/plain": [
       "[CONJUNCTIONS | ADAM, LR = 0.01 | PRODUCT LOGIC | 1000 DIMENSIONS | 5 TERMS | FIX IMBALANCE] Run #1, Epoch #23…"
      ]
     },
     "metadata": {},
     "output_type": "display_data"
    },
    {
     "data": {
      "application/vnd.jupyter.widget-view+json": {
       "model_id": "",
       "version_major": 2,
       "version_minor": 0
      },
      "text/plain": [
       "[CONJUNCTIONS | ADAM, LR = 0.01 | PRODUCT LOGIC | 1000 DIMENSIONS | 5 TERMS | FIX IMBALANCE] Run #1, Epoch #24…"
      ]
     },
     "metadata": {},
     "output_type": "display_data"
    },
    {
     "data": {
      "application/vnd.jupyter.widget-view+json": {
       "model_id": "",
       "version_major": 2,
       "version_minor": 0
      },
      "text/plain": [
       "[CONJUNCTIONS | ADAM, LR = 0.01 | PRODUCT LOGIC | 1000 DIMENSIONS | 5 TERMS | FIX IMBALANCE] Run #1, Epoch #24…"
      ]
     },
     "metadata": {},
     "output_type": "display_data"
    },
    {
     "data": {
      "application/vnd.jupyter.widget-view+json": {
       "model_id": "",
       "version_major": 2,
       "version_minor": 0
      },
      "text/plain": [
       "[CONJUNCTIONS | ADAM, LR = 0.01 | PRODUCT LOGIC | 1000 DIMENSIONS | 5 TERMS | FIX IMBALANCE] Run #1, Epoch #24…"
      ]
     },
     "metadata": {},
     "output_type": "display_data"
    },
    {
     "data": {
      "application/vnd.jupyter.widget-view+json": {
       "model_id": "",
       "version_major": 2,
       "version_minor": 0
      },
      "text/plain": [
       "[CONJUNCTIONS | ADAM, LR = 0.01 | PRODUCT LOGIC | 1000 DIMENSIONS | 5 TERMS | FIX IMBALANCE] Run #1, Epoch #25…"
      ]
     },
     "metadata": {},
     "output_type": "display_data"
    },
    {
     "data": {
      "application/vnd.jupyter.widget-view+json": {
       "model_id": "",
       "version_major": 2,
       "version_minor": 0
      },
      "text/plain": [
       "[CONJUNCTIONS | ADAM, LR = 0.01 | PRODUCT LOGIC | 1000 DIMENSIONS | 5 TERMS | FIX IMBALANCE] Run #1, Epoch #25…"
      ]
     },
     "metadata": {},
     "output_type": "display_data"
    },
    {
     "data": {
      "application/vnd.jupyter.widget-view+json": {
       "model_id": "",
       "version_major": 2,
       "version_minor": 0
      },
      "text/plain": [
       "[CONJUNCTIONS | ADAM, LR = 0.01 | PRODUCT LOGIC | 1000 DIMENSIONS | 5 TERMS | FIX IMBALANCE] Run #1, Epoch #25…"
      ]
     },
     "metadata": {},
     "output_type": "display_data"
    },
    {
     "data": {
      "application/vnd.jupyter.widget-view+json": {
       "model_id": "",
       "version_major": 2,
       "version_minor": 0
      },
      "text/plain": [
       "[CONJUNCTIONS | ADAM, LR = 0.01 | PRODUCT LOGIC | 1000 DIMENSIONS | 5 TERMS | FIX IMBALANCE] Run #1, Epoch #26…"
      ]
     },
     "metadata": {},
     "output_type": "display_data"
    },
    {
     "data": {
      "application/vnd.jupyter.widget-view+json": {
       "model_id": "",
       "version_major": 2,
       "version_minor": 0
      },
      "text/plain": [
       "[CONJUNCTIONS | ADAM, LR = 0.01 | PRODUCT LOGIC | 1000 DIMENSIONS | 5 TERMS | FIX IMBALANCE] Run #1, Epoch #26…"
      ]
     },
     "metadata": {},
     "output_type": "display_data"
    },
    {
     "data": {
      "application/vnd.jupyter.widget-view+json": {
       "model_id": "",
       "version_major": 2,
       "version_minor": 0
      },
      "text/plain": [
       "[CONJUNCTIONS | ADAM, LR = 0.01 | PRODUCT LOGIC | 1000 DIMENSIONS | 5 TERMS | FIX IMBALANCE] Run #1, Epoch #26…"
      ]
     },
     "metadata": {},
     "output_type": "display_data"
    },
    {
     "data": {
      "application/vnd.jupyter.widget-view+json": {
       "model_id": "",
       "version_major": 2,
       "version_minor": 0
      },
      "text/plain": [
       "[CONJUNCTIONS | ADAM, LR = 0.01 | PRODUCT LOGIC | 1000 DIMENSIONS | 5 TERMS | FIX IMBALANCE] Run #1, Epoch #27…"
      ]
     },
     "metadata": {},
     "output_type": "display_data"
    },
    {
     "data": {
      "application/vnd.jupyter.widget-view+json": {
       "model_id": "",
       "version_major": 2,
       "version_minor": 0
      },
      "text/plain": [
       "[CONJUNCTIONS | ADAM, LR = 0.01 | PRODUCT LOGIC | 1000 DIMENSIONS | 5 TERMS | FIX IMBALANCE] Run #1, Epoch #27…"
      ]
     },
     "metadata": {},
     "output_type": "display_data"
    },
    {
     "data": {
      "application/vnd.jupyter.widget-view+json": {
       "model_id": "",
       "version_major": 2,
       "version_minor": 0
      },
      "text/plain": [
       "[CONJUNCTIONS | ADAM, LR = 0.01 | PRODUCT LOGIC | 1000 DIMENSIONS | 5 TERMS | FIX IMBALANCE] Run #1, Epoch #27…"
      ]
     },
     "metadata": {},
     "output_type": "display_data"
    },
    {
     "data": {
      "application/vnd.jupyter.widget-view+json": {
       "model_id": "",
       "version_major": 2,
       "version_minor": 0
      },
      "text/plain": [
       "[CONJUNCTIONS | ADAM, LR = 0.01 | PRODUCT LOGIC | 1000 DIMENSIONS | 5 TERMS | FIX IMBALANCE] Run #1, Epoch #28…"
      ]
     },
     "metadata": {},
     "output_type": "display_data"
    },
    {
     "data": {
      "application/vnd.jupyter.widget-view+json": {
       "model_id": "",
       "version_major": 2,
       "version_minor": 0
      },
      "text/plain": [
       "[CONJUNCTIONS | ADAM, LR = 0.01 | PRODUCT LOGIC | 1000 DIMENSIONS | 5 TERMS | FIX IMBALANCE] Run #1, Epoch #28…"
      ]
     },
     "metadata": {},
     "output_type": "display_data"
    },
    {
     "data": {
      "application/vnd.jupyter.widget-view+json": {
       "model_id": "",
       "version_major": 2,
       "version_minor": 0
      },
      "text/plain": [
       "[CONJUNCTIONS | ADAM, LR = 0.01 | PRODUCT LOGIC | 1000 DIMENSIONS | 5 TERMS | FIX IMBALANCE] Run #1, Epoch #28…"
      ]
     },
     "metadata": {},
     "output_type": "display_data"
    },
    {
     "data": {
      "application/vnd.jupyter.widget-view+json": {
       "model_id": "",
       "version_major": 2,
       "version_minor": 0
      },
      "text/plain": [
       "[CONJUNCTIONS | ADAM, LR = 0.01 | PRODUCT LOGIC | 1000 DIMENSIONS | 5 TERMS | FIX IMBALANCE] Run #1, Epoch #29…"
      ]
     },
     "metadata": {},
     "output_type": "display_data"
    },
    {
     "data": {
      "application/vnd.jupyter.widget-view+json": {
       "model_id": "",
       "version_major": 2,
       "version_minor": 0
      },
      "text/plain": [
       "[CONJUNCTIONS | ADAM, LR = 0.01 | PRODUCT LOGIC | 1000 DIMENSIONS | 5 TERMS | FIX IMBALANCE] Run #1, Epoch #29…"
      ]
     },
     "metadata": {},
     "output_type": "display_data"
    },
    {
     "data": {
      "application/vnd.jupyter.widget-view+json": {
       "model_id": "",
       "version_major": 2,
       "version_minor": 0
      },
      "text/plain": [
       "[CONJUNCTIONS | ADAM, LR = 0.01 | PRODUCT LOGIC | 1000 DIMENSIONS | 5 TERMS | FIX IMBALANCE] Run #1, Epoch #29…"
      ]
     },
     "metadata": {},
     "output_type": "display_data"
    },
    {
     "data": {
      "application/vnd.jupyter.widget-view+json": {
       "model_id": "",
       "version_major": 2,
       "version_minor": 0
      },
      "text/plain": [
       "[CONJUNCTIONS | ADAM, LR = 0.01 | PRODUCT LOGIC | 1000 DIMENSIONS | 5 TERMS | FIX IMBALANCE] Run #1, Epoch #30…"
      ]
     },
     "metadata": {},
     "output_type": "display_data"
    },
    {
     "data": {
      "application/vnd.jupyter.widget-view+json": {
       "model_id": "",
       "version_major": 2,
       "version_minor": 0
      },
      "text/plain": [
       "[CONJUNCTIONS | ADAM, LR = 0.01 | PRODUCT LOGIC | 1000 DIMENSIONS | 5 TERMS | FIX IMBALANCE] Run #1, Epoch #30…"
      ]
     },
     "metadata": {},
     "output_type": "display_data"
    },
    {
     "data": {
      "application/vnd.jupyter.widget-view+json": {
       "model_id": "",
       "version_major": 2,
       "version_minor": 0
      },
      "text/plain": [
       "[CONJUNCTIONS | ADAM, LR = 0.01 | PRODUCT LOGIC | 1000 DIMENSIONS | 5 TERMS | FIX IMBALANCE] Run #1, Epoch #30…"
      ]
     },
     "metadata": {},
     "output_type": "display_data"
    },
    {
     "data": {
      "application/vnd.jupyter.widget-view+json": {
       "model_id": "",
       "version_major": 2,
       "version_minor": 0
      },
      "text/plain": [
       "[CONJUNCTIONS | ADAM, LR = 0.01 | PRODUCT LOGIC | 1000 DIMENSIONS | 5 TERMS | FIX IMBALANCE] Run #1, Epoch #31…"
      ]
     },
     "metadata": {},
     "output_type": "display_data"
    },
    {
     "data": {
      "application/vnd.jupyter.widget-view+json": {
       "model_id": "",
       "version_major": 2,
       "version_minor": 0
      },
      "text/plain": [
       "[CONJUNCTIONS | ADAM, LR = 0.01 | PRODUCT LOGIC | 1000 DIMENSIONS | 5 TERMS | FIX IMBALANCE] Run #1, Epoch #31…"
      ]
     },
     "metadata": {},
     "output_type": "display_data"
    },
    {
     "data": {
      "application/vnd.jupyter.widget-view+json": {
       "model_id": "",
       "version_major": 2,
       "version_minor": 0
      },
      "text/plain": [
       "[CONJUNCTIONS | ADAM, LR = 0.01 | PRODUCT LOGIC | 1000 DIMENSIONS | 5 TERMS | FIX IMBALANCE] Run #1, Epoch #31…"
      ]
     },
     "metadata": {},
     "output_type": "display_data"
    },
    {
     "data": {
      "application/vnd.jupyter.widget-view+json": {
       "model_id": "",
       "version_major": 2,
       "version_minor": 0
      },
      "text/plain": [
       "[CONJUNCTIONS | ADAM, LR = 0.01 | PRODUCT LOGIC | 1000 DIMENSIONS | 5 TERMS | FIX IMBALANCE] Run #1, Epoch #32…"
      ]
     },
     "metadata": {},
     "output_type": "display_data"
    },
    {
     "data": {
      "application/vnd.jupyter.widget-view+json": {
       "model_id": "",
       "version_major": 2,
       "version_minor": 0
      },
      "text/plain": [
       "[CONJUNCTIONS | ADAM, LR = 0.01 | PRODUCT LOGIC | 1000 DIMENSIONS | 5 TERMS | FIX IMBALANCE] Run #1, Epoch #32…"
      ]
     },
     "metadata": {},
     "output_type": "display_data"
    },
    {
     "data": {
      "application/vnd.jupyter.widget-view+json": {
       "model_id": "",
       "version_major": 2,
       "version_minor": 0
      },
      "text/plain": [
       "[CONJUNCTIONS | ADAM, LR = 0.01 | PRODUCT LOGIC | 1000 DIMENSIONS | 5 TERMS | FIX IMBALANCE] Run #1, Epoch #32…"
      ]
     },
     "metadata": {},
     "output_type": "display_data"
    },
    {
     "data": {
      "application/vnd.jupyter.widget-view+json": {
       "model_id": "",
       "version_major": 2,
       "version_minor": 0
      },
      "text/plain": [
       "[CONJUNCTIONS | ADAM, LR = 0.01 | PRODUCT LOGIC | 1000 DIMENSIONS | 5 TERMS | FIX IMBALANCE] Run #1, Epoch #33…"
      ]
     },
     "metadata": {},
     "output_type": "display_data"
    },
    {
     "data": {
      "application/vnd.jupyter.widget-view+json": {
       "model_id": "",
       "version_major": 2,
       "version_minor": 0
      },
      "text/plain": [
       "[CONJUNCTIONS | ADAM, LR = 0.01 | PRODUCT LOGIC | 1000 DIMENSIONS | 5 TERMS | FIX IMBALANCE] Run #1, Epoch #33…"
      ]
     },
     "metadata": {},
     "output_type": "display_data"
    },
    {
     "data": {
      "application/vnd.jupyter.widget-view+json": {
       "model_id": "",
       "version_major": 2,
       "version_minor": 0
      },
      "text/plain": [
       "[CONJUNCTIONS | ADAM, LR = 0.01 | PRODUCT LOGIC | 1000 DIMENSIONS | 5 TERMS | FIX IMBALANCE] Run #1, Epoch #33…"
      ]
     },
     "metadata": {},
     "output_type": "display_data"
    },
    {
     "data": {
      "application/vnd.jupyter.widget-view+json": {
       "model_id": "",
       "version_major": 2,
       "version_minor": 0
      },
      "text/plain": [
       "[CONJUNCTIONS | ADAM, LR = 0.01 | PRODUCT LOGIC | 1000 DIMENSIONS | 5 TERMS | FIX IMBALANCE] Run #1, Epoch #34…"
      ]
     },
     "metadata": {},
     "output_type": "display_data"
    },
    {
     "data": {
      "application/vnd.jupyter.widget-view+json": {
       "model_id": "",
       "version_major": 2,
       "version_minor": 0
      },
      "text/plain": [
       "[CONJUNCTIONS | ADAM, LR = 0.01 | PRODUCT LOGIC | 1000 DIMENSIONS | 5 TERMS | FIX IMBALANCE] Run #1, Epoch #34…"
      ]
     },
     "metadata": {},
     "output_type": "display_data"
    },
    {
     "data": {
      "application/vnd.jupyter.widget-view+json": {
       "model_id": "",
       "version_major": 2,
       "version_minor": 0
      },
      "text/plain": [
       "[CONJUNCTIONS | ADAM, LR = 0.01 | PRODUCT LOGIC | 1000 DIMENSIONS | 5 TERMS | FIX IMBALANCE] Run #1, Epoch #34…"
      ]
     },
     "metadata": {},
     "output_type": "display_data"
    },
    {
     "data": {
      "application/vnd.jupyter.widget-view+json": {
       "model_id": "",
       "version_major": 2,
       "version_minor": 0
      },
      "text/plain": [
       "[CONJUNCTIONS | ADAM, LR = 0.01 | PRODUCT LOGIC | 1000 DIMENSIONS | 5 TERMS | FIX IMBALANCE] Run #1, Epoch #35…"
      ]
     },
     "metadata": {},
     "output_type": "display_data"
    },
    {
     "data": {
      "application/vnd.jupyter.widget-view+json": {
       "model_id": "",
       "version_major": 2,
       "version_minor": 0
      },
      "text/plain": [
       "[CONJUNCTIONS | ADAM, LR = 0.01 | PRODUCT LOGIC | 1000 DIMENSIONS | 5 TERMS | FIX IMBALANCE] Run #1, Epoch #35…"
      ]
     },
     "metadata": {},
     "output_type": "display_data"
    },
    {
     "data": {
      "application/vnd.jupyter.widget-view+json": {
       "model_id": "",
       "version_major": 2,
       "version_minor": 0
      },
      "text/plain": [
       "[CONJUNCTIONS | ADAM, LR = 0.01 | PRODUCT LOGIC | 1000 DIMENSIONS | 5 TERMS | FIX IMBALANCE] Run #1, Epoch #35…"
      ]
     },
     "metadata": {},
     "output_type": "display_data"
    },
    {
     "data": {
      "application/vnd.jupyter.widget-view+json": {
       "model_id": "",
       "version_major": 2,
       "version_minor": 0
      },
      "text/plain": [
       "[CONJUNCTIONS | ADAM, LR = 0.01 | PRODUCT LOGIC | 1000 DIMENSIONS | 5 TERMS | FIX IMBALANCE] Run #1, Epoch #36…"
      ]
     },
     "metadata": {},
     "output_type": "display_data"
    },
    {
     "data": {
      "application/vnd.jupyter.widget-view+json": {
       "model_id": "",
       "version_major": 2,
       "version_minor": 0
      },
      "text/plain": [
       "[CONJUNCTIONS | ADAM, LR = 0.01 | PRODUCT LOGIC | 1000 DIMENSIONS | 5 TERMS | FIX IMBALANCE] Run #1, Epoch #36…"
      ]
     },
     "metadata": {},
     "output_type": "display_data"
    },
    {
     "data": {
      "application/vnd.jupyter.widget-view+json": {
       "model_id": "",
       "version_major": 2,
       "version_minor": 0
      },
      "text/plain": [
       "[CONJUNCTIONS | ADAM, LR = 0.01 | PRODUCT LOGIC | 1000 DIMENSIONS | 5 TERMS | FIX IMBALANCE] Run #1, Epoch #36…"
      ]
     },
     "metadata": {},
     "output_type": "display_data"
    },
    {
     "data": {
      "application/vnd.jupyter.widget-view+json": {
       "model_id": "",
       "version_major": 2,
       "version_minor": 0
      },
      "text/plain": [
       "[CONJUNCTIONS | ADAM, LR = 0.01 | PRODUCT LOGIC | 1000 DIMENSIONS | 5 TERMS | FIX IMBALANCE] Run #1, Epoch #37…"
      ]
     },
     "metadata": {},
     "output_type": "display_data"
    },
    {
     "data": {
      "application/vnd.jupyter.widget-view+json": {
       "model_id": "",
       "version_major": 2,
       "version_minor": 0
      },
      "text/plain": [
       "[CONJUNCTIONS | ADAM, LR = 0.01 | PRODUCT LOGIC | 1000 DIMENSIONS | 5 TERMS | FIX IMBALANCE] Run #1, Epoch #37…"
      ]
     },
     "metadata": {},
     "output_type": "display_data"
    },
    {
     "data": {
      "application/vnd.jupyter.widget-view+json": {
       "model_id": "",
       "version_major": 2,
       "version_minor": 0
      },
      "text/plain": [
       "[CONJUNCTIONS | ADAM, LR = 0.01 | PRODUCT LOGIC | 1000 DIMENSIONS | 5 TERMS | FIX IMBALANCE] Run #1, Epoch #37…"
      ]
     },
     "metadata": {},
     "output_type": "display_data"
    },
    {
     "data": {
      "application/vnd.jupyter.widget-view+json": {
       "model_id": "",
       "version_major": 2,
       "version_minor": 0
      },
      "text/plain": [
       "[CONJUNCTIONS | ADAM, LR = 0.01 | PRODUCT LOGIC | 1000 DIMENSIONS | 5 TERMS | FIX IMBALANCE] Run #1, Epoch #38…"
      ]
     },
     "metadata": {},
     "output_type": "display_data"
    },
    {
     "data": {
      "application/vnd.jupyter.widget-view+json": {
       "model_id": "",
       "version_major": 2,
       "version_minor": 0
      },
      "text/plain": [
       "[CONJUNCTIONS | ADAM, LR = 0.01 | PRODUCT LOGIC | 1000 DIMENSIONS | 5 TERMS | FIX IMBALANCE] Run #1, Epoch #38…"
      ]
     },
     "metadata": {},
     "output_type": "display_data"
    },
    {
     "data": {
      "application/vnd.jupyter.widget-view+json": {
       "model_id": "",
       "version_major": 2,
       "version_minor": 0
      },
      "text/plain": [
       "[CONJUNCTIONS | ADAM, LR = 0.01 | PRODUCT LOGIC | 1000 DIMENSIONS | 5 TERMS | FIX IMBALANCE] Run #1, Epoch #38…"
      ]
     },
     "metadata": {},
     "output_type": "display_data"
    },
    {
     "data": {
      "application/vnd.jupyter.widget-view+json": {
       "model_id": "",
       "version_major": 2,
       "version_minor": 0
      },
      "text/plain": [
       "[CONJUNCTIONS | ADAM, LR = 0.01 | PRODUCT LOGIC | 1000 DIMENSIONS | 5 TERMS | FIX IMBALANCE] Run #1, Epoch #39…"
      ]
     },
     "metadata": {},
     "output_type": "display_data"
    },
    {
     "data": {
      "application/vnd.jupyter.widget-view+json": {
       "model_id": "",
       "version_major": 2,
       "version_minor": 0
      },
      "text/plain": [
       "[CONJUNCTIONS | ADAM, LR = 0.01 | PRODUCT LOGIC | 1000 DIMENSIONS | 5 TERMS | FIX IMBALANCE] Run #1, Epoch #39…"
      ]
     },
     "metadata": {},
     "output_type": "display_data"
    },
    {
     "data": {
      "application/vnd.jupyter.widget-view+json": {
       "model_id": "",
       "version_major": 2,
       "version_minor": 0
      },
      "text/plain": [
       "[CONJUNCTIONS | ADAM, LR = 0.01 | PRODUCT LOGIC | 1000 DIMENSIONS | 5 TERMS | FIX IMBALANCE] Run #1, Epoch #39…"
      ]
     },
     "metadata": {},
     "output_type": "display_data"
    },
    {
     "data": {
      "application/vnd.jupyter.widget-view+json": {
       "model_id": "",
       "version_major": 2,
       "version_minor": 0
      },
      "text/plain": [
       "[CONJUNCTIONS | ADAM, LR = 0.01 | PRODUCT LOGIC | 1000 DIMENSIONS | 5 TERMS | FIX IMBALANCE] Run #1, Epoch #40…"
      ]
     },
     "metadata": {},
     "output_type": "display_data"
    },
    {
     "data": {
      "application/vnd.jupyter.widget-view+json": {
       "model_id": "",
       "version_major": 2,
       "version_minor": 0
      },
      "text/plain": [
       "[CONJUNCTIONS | ADAM, LR = 0.01 | PRODUCT LOGIC | 1000 DIMENSIONS | 5 TERMS | FIX IMBALANCE] Run #1, Epoch #40…"
      ]
     },
     "metadata": {},
     "output_type": "display_data"
    },
    {
     "data": {
      "application/vnd.jupyter.widget-view+json": {
       "model_id": "",
       "version_major": 2,
       "version_minor": 0
      },
      "text/plain": [
       "[CONJUNCTIONS | ADAM, LR = 0.01 | PRODUCT LOGIC | 1000 DIMENSIONS | 5 TERMS | FIX IMBALANCE] Run #1, Epoch #40…"
      ]
     },
     "metadata": {},
     "output_type": "display_data"
    },
    {
     "data": {
      "application/vnd.jupyter.widget-view+json": {
       "model_id": "",
       "version_major": 2,
       "version_minor": 0
      },
      "text/plain": [
       "[CONJUNCTIONS | ADAM, LR = 0.01 | PRODUCT LOGIC | 1000 DIMENSIONS | 5 TERMS | FIX IMBALANCE] Run #1, Epoch #41…"
      ]
     },
     "metadata": {},
     "output_type": "display_data"
    },
    {
     "data": {
      "application/vnd.jupyter.widget-view+json": {
       "model_id": "",
       "version_major": 2,
       "version_minor": 0
      },
      "text/plain": [
       "[CONJUNCTIONS | ADAM, LR = 0.01 | PRODUCT LOGIC | 1000 DIMENSIONS | 5 TERMS | FIX IMBALANCE] Run #1, Epoch #41…"
      ]
     },
     "metadata": {},
     "output_type": "display_data"
    },
    {
     "data": {
      "application/vnd.jupyter.widget-view+json": {
       "model_id": "",
       "version_major": 2,
       "version_minor": 0
      },
      "text/plain": [
       "[CONJUNCTIONS | ADAM, LR = 0.01 | PRODUCT LOGIC | 1000 DIMENSIONS | 5 TERMS | FIX IMBALANCE] Run #1, Epoch #41…"
      ]
     },
     "metadata": {},
     "output_type": "display_data"
    },
    {
     "data": {
      "application/vnd.jupyter.widget-view+json": {
       "model_id": "",
       "version_major": 2,
       "version_minor": 0
      },
      "text/plain": [
       "[CONJUNCTIONS | ADAM, LR = 0.01 | PRODUCT LOGIC | 1000 DIMENSIONS | 5 TERMS | FIX IMBALANCE] Run #1, Epoch #42…"
      ]
     },
     "metadata": {},
     "output_type": "display_data"
    },
    {
     "data": {
      "application/vnd.jupyter.widget-view+json": {
       "model_id": "",
       "version_major": 2,
       "version_minor": 0
      },
      "text/plain": [
       "[CONJUNCTIONS | ADAM, LR = 0.01 | PRODUCT LOGIC | 1000 DIMENSIONS | 5 TERMS | FIX IMBALANCE] Run #1, Epoch #42…"
      ]
     },
     "metadata": {},
     "output_type": "display_data"
    },
    {
     "data": {
      "application/vnd.jupyter.widget-view+json": {
       "model_id": "",
       "version_major": 2,
       "version_minor": 0
      },
      "text/plain": [
       "[CONJUNCTIONS | ADAM, LR = 0.01 | PRODUCT LOGIC | 1000 DIMENSIONS | 5 TERMS | FIX IMBALANCE] Run #1, Epoch #42…"
      ]
     },
     "metadata": {},
     "output_type": "display_data"
    },
    {
     "data": {
      "application/vnd.jupyter.widget-view+json": {
       "model_id": "",
       "version_major": 2,
       "version_minor": 0
      },
      "text/plain": [
       "[CONJUNCTIONS | ADAM, LR = 0.01 | PRODUCT LOGIC | 1000 DIMENSIONS | 5 TERMS | FIX IMBALANCE] Run #1, Epoch #43…"
      ]
     },
     "metadata": {},
     "output_type": "display_data"
    },
    {
     "data": {
      "application/vnd.jupyter.widget-view+json": {
       "model_id": "",
       "version_major": 2,
       "version_minor": 0
      },
      "text/plain": [
       "[CONJUNCTIONS | ADAM, LR = 0.01 | PRODUCT LOGIC | 1000 DIMENSIONS | 5 TERMS | FIX IMBALANCE] Run #1, Epoch #43…"
      ]
     },
     "metadata": {},
     "output_type": "display_data"
    },
    {
     "data": {
      "application/vnd.jupyter.widget-view+json": {
       "model_id": "",
       "version_major": 2,
       "version_minor": 0
      },
      "text/plain": [
       "[CONJUNCTIONS | ADAM, LR = 0.01 | PRODUCT LOGIC | 1000 DIMENSIONS | 5 TERMS | FIX IMBALANCE] Run #1, Epoch #43…"
      ]
     },
     "metadata": {},
     "output_type": "display_data"
    },
    {
     "data": {
      "application/vnd.jupyter.widget-view+json": {
       "model_id": "",
       "version_major": 2,
       "version_minor": 0
      },
      "text/plain": [
       "[CONJUNCTIONS | ADAM, LR = 0.01 | PRODUCT LOGIC | 1000 DIMENSIONS | 5 TERMS | FIX IMBALANCE] Run #1, Epoch #44…"
      ]
     },
     "metadata": {},
     "output_type": "display_data"
    },
    {
     "data": {
      "application/vnd.jupyter.widget-view+json": {
       "model_id": "",
       "version_major": 2,
       "version_minor": 0
      },
      "text/plain": [
       "[CONJUNCTIONS | ADAM, LR = 0.01 | PRODUCT LOGIC | 1000 DIMENSIONS | 5 TERMS | FIX IMBALANCE] Run #1, Epoch #44…"
      ]
     },
     "metadata": {},
     "output_type": "display_data"
    },
    {
     "data": {
      "application/vnd.jupyter.widget-view+json": {
       "model_id": "",
       "version_major": 2,
       "version_minor": 0
      },
      "text/plain": [
       "[CONJUNCTIONS | ADAM, LR = 0.01 | PRODUCT LOGIC | 1000 DIMENSIONS | 5 TERMS | FIX IMBALANCE] Run #1, Epoch #44…"
      ]
     },
     "metadata": {},
     "output_type": "display_data"
    },
    {
     "data": {
      "application/vnd.jupyter.widget-view+json": {
       "model_id": "",
       "version_major": 2,
       "version_minor": 0
      },
      "text/plain": [
       "[CONJUNCTIONS | ADAM, LR = 0.01 | PRODUCT LOGIC | 1000 DIMENSIONS | 5 TERMS | FIX IMBALANCE] Run #1, Epoch #45…"
      ]
     },
     "metadata": {},
     "output_type": "display_data"
    },
    {
     "data": {
      "application/vnd.jupyter.widget-view+json": {
       "model_id": "",
       "version_major": 2,
       "version_minor": 0
      },
      "text/plain": [
       "[CONJUNCTIONS | ADAM, LR = 0.01 | PRODUCT LOGIC | 1000 DIMENSIONS | 5 TERMS | FIX IMBALANCE] Run #1, Epoch #45…"
      ]
     },
     "metadata": {},
     "output_type": "display_data"
    },
    {
     "data": {
      "application/vnd.jupyter.widget-view+json": {
       "model_id": "",
       "version_major": 2,
       "version_minor": 0
      },
      "text/plain": [
       "[CONJUNCTIONS | ADAM, LR = 0.01 | PRODUCT LOGIC | 1000 DIMENSIONS | 5 TERMS | FIX IMBALANCE] Run #1, Epoch #45…"
      ]
     },
     "metadata": {},
     "output_type": "display_data"
    },
    {
     "data": {
      "application/vnd.jupyter.widget-view+json": {
       "model_id": "",
       "version_major": 2,
       "version_minor": 0
      },
      "text/plain": [
       "[CONJUNCTIONS | ADAM, LR = 0.01 | PRODUCT LOGIC | 1000 DIMENSIONS | 5 TERMS | FIX IMBALANCE] Run #1, Epoch #46…"
      ]
     },
     "metadata": {},
     "output_type": "display_data"
    },
    {
     "data": {
      "application/vnd.jupyter.widget-view+json": {
       "model_id": "",
       "version_major": 2,
       "version_minor": 0
      },
      "text/plain": [
       "[CONJUNCTIONS | ADAM, LR = 0.01 | PRODUCT LOGIC | 1000 DIMENSIONS | 5 TERMS | FIX IMBALANCE] Run #1, Epoch #46…"
      ]
     },
     "metadata": {},
     "output_type": "display_data"
    },
    {
     "data": {
      "application/vnd.jupyter.widget-view+json": {
       "model_id": "",
       "version_major": 2,
       "version_minor": 0
      },
      "text/plain": [
       "[CONJUNCTIONS | ADAM, LR = 0.01 | PRODUCT LOGIC | 1000 DIMENSIONS | 5 TERMS | FIX IMBALANCE] Run #1, Epoch #46…"
      ]
     },
     "metadata": {},
     "output_type": "display_data"
    },
    {
     "data": {
      "application/vnd.jupyter.widget-view+json": {
       "model_id": "",
       "version_major": 2,
       "version_minor": 0
      },
      "text/plain": [
       "[CONJUNCTIONS | ADAM, LR = 0.01 | PRODUCT LOGIC | 1000 DIMENSIONS | 5 TERMS | FIX IMBALANCE] Run #1, Epoch #47…"
      ]
     },
     "metadata": {},
     "output_type": "display_data"
    },
    {
     "data": {
      "application/vnd.jupyter.widget-view+json": {
       "model_id": "",
       "version_major": 2,
       "version_minor": 0
      },
      "text/plain": [
       "[CONJUNCTIONS | ADAM, LR = 0.01 | PRODUCT LOGIC | 1000 DIMENSIONS | 5 TERMS | FIX IMBALANCE] Run #1, Epoch #47…"
      ]
     },
     "metadata": {},
     "output_type": "display_data"
    },
    {
     "data": {
      "application/vnd.jupyter.widget-view+json": {
       "model_id": "",
       "version_major": 2,
       "version_minor": 0
      },
      "text/plain": [
       "[CONJUNCTIONS | ADAM, LR = 0.01 | PRODUCT LOGIC | 1000 DIMENSIONS | 5 TERMS | FIX IMBALANCE] Run #1, Epoch #47…"
      ]
     },
     "metadata": {},
     "output_type": "display_data"
    },
    {
     "data": {
      "application/vnd.jupyter.widget-view+json": {
       "model_id": "",
       "version_major": 2,
       "version_minor": 0
      },
      "text/plain": [
       "[CONJUNCTIONS | ADAM, LR = 0.01 | PRODUCT LOGIC | 1000 DIMENSIONS | 5 TERMS | FIX IMBALANCE] Run #1, Epoch #48…"
      ]
     },
     "metadata": {},
     "output_type": "display_data"
    },
    {
     "data": {
      "application/vnd.jupyter.widget-view+json": {
       "model_id": "",
       "version_major": 2,
       "version_minor": 0
      },
      "text/plain": [
       "[CONJUNCTIONS | ADAM, LR = 0.01 | PRODUCT LOGIC | 1000 DIMENSIONS | 5 TERMS | FIX IMBALANCE] Run #1, Epoch #48…"
      ]
     },
     "metadata": {},
     "output_type": "display_data"
    },
    {
     "data": {
      "application/vnd.jupyter.widget-view+json": {
       "model_id": "",
       "version_major": 2,
       "version_minor": 0
      },
      "text/plain": [
       "[CONJUNCTIONS | ADAM, LR = 0.01 | PRODUCT LOGIC | 1000 DIMENSIONS | 5 TERMS | FIX IMBALANCE] Run #1, Epoch #48…"
      ]
     },
     "metadata": {},
     "output_type": "display_data"
    },
    {
     "data": {
      "application/vnd.jupyter.widget-view+json": {
       "model_id": "",
       "version_major": 2,
       "version_minor": 0
      },
      "text/plain": [
       "[CONJUNCTIONS | ADAM, LR = 0.01 | PRODUCT LOGIC | 1000 DIMENSIONS | 5 TERMS | FIX IMBALANCE] Run #1, Epoch #49…"
      ]
     },
     "metadata": {},
     "output_type": "display_data"
    },
    {
     "data": {
      "application/vnd.jupyter.widget-view+json": {
       "model_id": "",
       "version_major": 2,
       "version_minor": 0
      },
      "text/plain": [
       "[CONJUNCTIONS | ADAM, LR = 0.01 | PRODUCT LOGIC | 1000 DIMENSIONS | 5 TERMS | FIX IMBALANCE] Run #1, Epoch #49…"
      ]
     },
     "metadata": {},
     "output_type": "display_data"
    },
    {
     "data": {
      "application/vnd.jupyter.widget-view+json": {
       "model_id": "",
       "version_major": 2,
       "version_minor": 0
      },
      "text/plain": [
       "[CONJUNCTIONS | ADAM, LR = 0.01 | PRODUCT LOGIC | 1000 DIMENSIONS | 5 TERMS | FIX IMBALANCE] Run #1, Epoch #49…"
      ]
     },
     "metadata": {},
     "output_type": "display_data"
    },
    {
     "data": {
      "application/vnd.jupyter.widget-view+json": {
       "model_id": "",
       "version_major": 2,
       "version_minor": 0
      },
      "text/plain": [
       "[CONJUNCTIONS | ADAM, LR = 0.01 | PRODUCT LOGIC | 1000 DIMENSIONS | 5 TERMS | FIX IMBALANCE] Run #1, Epoch #50…"
      ]
     },
     "metadata": {},
     "output_type": "display_data"
    },
    {
     "data": {
      "application/vnd.jupyter.widget-view+json": {
       "model_id": "",
       "version_major": 2,
       "version_minor": 0
      },
      "text/plain": [
       "[CONJUNCTIONS | ADAM, LR = 0.01 | PRODUCT LOGIC | 1000 DIMENSIONS | 5 TERMS | FIX IMBALANCE] Run #1, Epoch #50…"
      ]
     },
     "metadata": {},
     "output_type": "display_data"
    },
    {
     "data": {
      "application/vnd.jupyter.widget-view+json": {
       "model_id": "",
       "version_major": 2,
       "version_minor": 0
      },
      "text/plain": [
       "[CONJUNCTIONS | ADAM, LR = 0.01 | PRODUCT LOGIC | 1000 DIMENSIONS | 5 TERMS | FIX IMBALANCE] Run #1, Epoch #50…"
      ]
     },
     "metadata": {},
     "output_type": "display_data"
    },
    {
     "data": {
      "application/vnd.jupyter.widget-view+json": {
       "model_id": "",
       "version_major": 2,
       "version_minor": 0
      },
      "text/plain": [
       "[CONJUNCTIONS | ADAM, LR = 0.01 | PRODUCT LOGIC | 1000 DIMENSIONS | 5 TERMS | FIX IMBALANCE] Run #1, Epoch #51…"
      ]
     },
     "metadata": {},
     "output_type": "display_data"
    },
    {
     "data": {
      "application/vnd.jupyter.widget-view+json": {
       "model_id": "",
       "version_major": 2,
       "version_minor": 0
      },
      "text/plain": [
       "[CONJUNCTIONS | ADAM, LR = 0.01 | PRODUCT LOGIC | 1000 DIMENSIONS | 5 TERMS | FIX IMBALANCE] Run #1, Epoch #51…"
      ]
     },
     "metadata": {},
     "output_type": "display_data"
    },
    {
     "data": {
      "application/vnd.jupyter.widget-view+json": {
       "model_id": "",
       "version_major": 2,
       "version_minor": 0
      },
      "text/plain": [
       "[CONJUNCTIONS | ADAM, LR = 0.01 | PRODUCT LOGIC | 1000 DIMENSIONS | 5 TERMS | FIX IMBALANCE] Run #1, Epoch #51…"
      ]
     },
     "metadata": {},
     "output_type": "display_data"
    },
    {
     "data": {
      "application/vnd.jupyter.widget-view+json": {
       "model_id": "",
       "version_major": 2,
       "version_minor": 0
      },
      "text/plain": [
       "[CONJUNCTIONS | ADAM, LR = 0.01 | PRODUCT LOGIC | 1000 DIMENSIONS | 5 TERMS | FIX IMBALANCE] Run #1, Epoch #52…"
      ]
     },
     "metadata": {},
     "output_type": "display_data"
    },
    {
     "data": {
      "application/vnd.jupyter.widget-view+json": {
       "model_id": "",
       "version_major": 2,
       "version_minor": 0
      },
      "text/plain": [
       "[CONJUNCTIONS | ADAM, LR = 0.01 | PRODUCT LOGIC | 1000 DIMENSIONS | 5 TERMS | FIX IMBALANCE] Run #1, Epoch #52…"
      ]
     },
     "metadata": {},
     "output_type": "display_data"
    },
    {
     "data": {
      "application/vnd.jupyter.widget-view+json": {
       "model_id": "",
       "version_major": 2,
       "version_minor": 0
      },
      "text/plain": [
       "[CONJUNCTIONS | ADAM, LR = 0.01 | PRODUCT LOGIC | 1000 DIMENSIONS | 5 TERMS | FIX IMBALANCE] Run #1, Epoch #52…"
      ]
     },
     "metadata": {},
     "output_type": "display_data"
    },
    {
     "data": {
      "application/vnd.jupyter.widget-view+json": {
       "model_id": "",
       "version_major": 2,
       "version_minor": 0
      },
      "text/plain": [
       "[CONJUNCTIONS | ADAM, LR = 0.01 | PRODUCT LOGIC | 1000 DIMENSIONS | 5 TERMS | FIX IMBALANCE] Run #1, Epoch #53…"
      ]
     },
     "metadata": {},
     "output_type": "display_data"
    },
    {
     "data": {
      "application/vnd.jupyter.widget-view+json": {
       "model_id": "",
       "version_major": 2,
       "version_minor": 0
      },
      "text/plain": [
       "[CONJUNCTIONS | ADAM, LR = 0.01 | PRODUCT LOGIC | 1000 DIMENSIONS | 5 TERMS | FIX IMBALANCE] Run #1, Epoch #53…"
      ]
     },
     "metadata": {},
     "output_type": "display_data"
    },
    {
     "data": {
      "application/vnd.jupyter.widget-view+json": {
       "model_id": "",
       "version_major": 2,
       "version_minor": 0
      },
      "text/plain": [
       "[CONJUNCTIONS | ADAM, LR = 0.01 | PRODUCT LOGIC | 1000 DIMENSIONS | 5 TERMS | FIX IMBALANCE] Run #1, Epoch #53…"
      ]
     },
     "metadata": {},
     "output_type": "display_data"
    },
    {
     "data": {
      "application/vnd.jupyter.widget-view+json": {
       "model_id": "",
       "version_major": 2,
       "version_minor": 0
      },
      "text/plain": [
       "[CONJUNCTIONS | ADAM, LR = 0.01 | PRODUCT LOGIC | 1000 DIMENSIONS | 5 TERMS | FIX IMBALANCE] Run #1, Epoch #54…"
      ]
     },
     "metadata": {},
     "output_type": "display_data"
    },
    {
     "data": {
      "application/vnd.jupyter.widget-view+json": {
       "model_id": "",
       "version_major": 2,
       "version_minor": 0
      },
      "text/plain": [
       "[CONJUNCTIONS | ADAM, LR = 0.01 | PRODUCT LOGIC | 1000 DIMENSIONS | 5 TERMS | FIX IMBALANCE] Run #1, Epoch #54…"
      ]
     },
     "metadata": {},
     "output_type": "display_data"
    },
    {
     "data": {
      "application/vnd.jupyter.widget-view+json": {
       "model_id": "",
       "version_major": 2,
       "version_minor": 0
      },
      "text/plain": [
       "[CONJUNCTIONS | ADAM, LR = 0.01 | PRODUCT LOGIC | 1000 DIMENSIONS | 5 TERMS | FIX IMBALANCE] Run #1, Epoch #54…"
      ]
     },
     "metadata": {},
     "output_type": "display_data"
    },
    {
     "data": {
      "application/vnd.jupyter.widget-view+json": {
       "model_id": "",
       "version_major": 2,
       "version_minor": 0
      },
      "text/plain": [
       "[CONJUNCTIONS | ADAM, LR = 0.01 | PRODUCT LOGIC | 1000 DIMENSIONS | 5 TERMS | FIX IMBALANCE] Run #1, Epoch #55…"
      ]
     },
     "metadata": {},
     "output_type": "display_data"
    },
    {
     "data": {
      "application/vnd.jupyter.widget-view+json": {
       "model_id": "",
       "version_major": 2,
       "version_minor": 0
      },
      "text/plain": [
       "[CONJUNCTIONS | ADAM, LR = 0.01 | PRODUCT LOGIC | 1000 DIMENSIONS | 5 TERMS | FIX IMBALANCE] Run #1, Epoch #55…"
      ]
     },
     "metadata": {},
     "output_type": "display_data"
    },
    {
     "data": {
      "application/vnd.jupyter.widget-view+json": {
       "model_id": "",
       "version_major": 2,
       "version_minor": 0
      },
      "text/plain": [
       "[CONJUNCTIONS | ADAM, LR = 0.01 | PRODUCT LOGIC | 1000 DIMENSIONS | 5 TERMS | FIX IMBALANCE] Run #1, Epoch #55…"
      ]
     },
     "metadata": {},
     "output_type": "display_data"
    },
    {
     "data": {
      "application/vnd.jupyter.widget-view+json": {
       "model_id": "",
       "version_major": 2,
       "version_minor": 0
      },
      "text/plain": [
       "[CONJUNCTIONS | ADAM, LR = 0.01 | PRODUCT LOGIC | 1000 DIMENSIONS | 5 TERMS | FIX IMBALANCE] Run #1, Epoch #56…"
      ]
     },
     "metadata": {},
     "output_type": "display_data"
    },
    {
     "data": {
      "application/vnd.jupyter.widget-view+json": {
       "model_id": "",
       "version_major": 2,
       "version_minor": 0
      },
      "text/plain": [
       "[CONJUNCTIONS | ADAM, LR = 0.01 | PRODUCT LOGIC | 1000 DIMENSIONS | 5 TERMS | FIX IMBALANCE] Run #1, Epoch #56…"
      ]
     },
     "metadata": {},
     "output_type": "display_data"
    },
    {
     "data": {
      "application/vnd.jupyter.widget-view+json": {
       "model_id": "",
       "version_major": 2,
       "version_minor": 0
      },
      "text/plain": [
       "[CONJUNCTIONS | ADAM, LR = 0.01 | PRODUCT LOGIC | 1000 DIMENSIONS | 5 TERMS | FIX IMBALANCE] Run #1, Epoch #56…"
      ]
     },
     "metadata": {},
     "output_type": "display_data"
    },
    {
     "data": {
      "application/vnd.jupyter.widget-view+json": {
       "model_id": "",
       "version_major": 2,
       "version_minor": 0
      },
      "text/plain": [
       "[CONJUNCTIONS | ADAM, LR = 0.01 | PRODUCT LOGIC | 1000 DIMENSIONS | 5 TERMS | FIX IMBALANCE] Run #1, Epoch #57…"
      ]
     },
     "metadata": {},
     "output_type": "display_data"
    },
    {
     "data": {
      "application/vnd.jupyter.widget-view+json": {
       "model_id": "",
       "version_major": 2,
       "version_minor": 0
      },
      "text/plain": [
       "[CONJUNCTIONS | ADAM, LR = 0.01 | PRODUCT LOGIC | 1000 DIMENSIONS | 5 TERMS | FIX IMBALANCE] Run #1, Epoch #57…"
      ]
     },
     "metadata": {},
     "output_type": "display_data"
    },
    {
     "data": {
      "application/vnd.jupyter.widget-view+json": {
       "model_id": "",
       "version_major": 2,
       "version_minor": 0
      },
      "text/plain": [
       "[CONJUNCTIONS | ADAM, LR = 0.01 | PRODUCT LOGIC | 1000 DIMENSIONS | 5 TERMS | FIX IMBALANCE] Run #1, Epoch #57…"
      ]
     },
     "metadata": {},
     "output_type": "display_data"
    },
    {
     "data": {
      "application/vnd.jupyter.widget-view+json": {
       "model_id": "",
       "version_major": 2,
       "version_minor": 0
      },
      "text/plain": [
       "[CONJUNCTIONS | ADAM, LR = 0.01 | PRODUCT LOGIC | 1000 DIMENSIONS | 5 TERMS | FIX IMBALANCE] Run #1, Epoch #58…"
      ]
     },
     "metadata": {},
     "output_type": "display_data"
    },
    {
     "data": {
      "application/vnd.jupyter.widget-view+json": {
       "model_id": "",
       "version_major": 2,
       "version_minor": 0
      },
      "text/plain": [
       "[CONJUNCTIONS | ADAM, LR = 0.01 | PRODUCT LOGIC | 1000 DIMENSIONS | 5 TERMS | FIX IMBALANCE] Run #1, Epoch #58…"
      ]
     },
     "metadata": {},
     "output_type": "display_data"
    },
    {
     "data": {
      "application/vnd.jupyter.widget-view+json": {
       "model_id": "",
       "version_major": 2,
       "version_minor": 0
      },
      "text/plain": [
       "[CONJUNCTIONS | ADAM, LR = 0.01 | PRODUCT LOGIC | 1000 DIMENSIONS | 5 TERMS | FIX IMBALANCE] Run #1, Epoch #58…"
      ]
     },
     "metadata": {},
     "output_type": "display_data"
    },
    {
     "data": {
      "application/vnd.jupyter.widget-view+json": {
       "model_id": "",
       "version_major": 2,
       "version_minor": 0
      },
      "text/plain": [
       "[CONJUNCTIONS | ADAM, LR = 0.01 | PRODUCT LOGIC | 1000 DIMENSIONS | 5 TERMS | FIX IMBALANCE] Run #1, Epoch #59…"
      ]
     },
     "metadata": {},
     "output_type": "display_data"
    },
    {
     "data": {
      "application/vnd.jupyter.widget-view+json": {
       "model_id": "",
       "version_major": 2,
       "version_minor": 0
      },
      "text/plain": [
       "[CONJUNCTIONS | ADAM, LR = 0.01 | PRODUCT LOGIC | 1000 DIMENSIONS | 5 TERMS | FIX IMBALANCE] Run #1, Epoch #59…"
      ]
     },
     "metadata": {},
     "output_type": "display_data"
    },
    {
     "data": {
      "application/vnd.jupyter.widget-view+json": {
       "model_id": "",
       "version_major": 2,
       "version_minor": 0
      },
      "text/plain": [
       "[CONJUNCTIONS | ADAM, LR = 0.01 | PRODUCT LOGIC | 1000 DIMENSIONS | 5 TERMS | FIX IMBALANCE] Run #1, Epoch #59…"
      ]
     },
     "metadata": {},
     "output_type": "display_data"
    },
    {
     "data": {
      "application/vnd.jupyter.widget-view+json": {
       "model_id": "",
       "version_major": 2,
       "version_minor": 0
      },
      "text/plain": [
       "[CONJUNCTIONS | ADAM, LR = 0.01 | PRODUCT LOGIC | 1000 DIMENSIONS | 5 TERMS | FIX IMBALANCE] Run #1, Epoch #60…"
      ]
     },
     "metadata": {},
     "output_type": "display_data"
    },
    {
     "data": {
      "application/vnd.jupyter.widget-view+json": {
       "model_id": "",
       "version_major": 2,
       "version_minor": 0
      },
      "text/plain": [
       "[CONJUNCTIONS | ADAM, LR = 0.01 | PRODUCT LOGIC | 1000 DIMENSIONS | 5 TERMS | FIX IMBALANCE] Run #1, Epoch #60…"
      ]
     },
     "metadata": {},
     "output_type": "display_data"
    },
    {
     "data": {
      "application/vnd.jupyter.widget-view+json": {
       "model_id": "",
       "version_major": 2,
       "version_minor": 0
      },
      "text/plain": [
       "[CONJUNCTIONS | ADAM, LR = 0.01 | PRODUCT LOGIC | 1000 DIMENSIONS | 5 TERMS | FIX IMBALANCE] Run #1, Epoch #60…"
      ]
     },
     "metadata": {},
     "output_type": "display_data"
    },
    {
     "data": {
      "application/vnd.jupyter.widget-view+json": {
       "model_id": "",
       "version_major": 2,
       "version_minor": 0
      },
      "text/plain": [
       "[CONJUNCTIONS | ADAM, LR = 0.01 | PRODUCT LOGIC | 1000 DIMENSIONS | 5 TERMS | FIX IMBALANCE] Run #1, Epoch #61…"
      ]
     },
     "metadata": {},
     "output_type": "display_data"
    },
    {
     "data": {
      "application/vnd.jupyter.widget-view+json": {
       "model_id": "",
       "version_major": 2,
       "version_minor": 0
      },
      "text/plain": [
       "[CONJUNCTIONS | ADAM, LR = 0.01 | PRODUCT LOGIC | 1000 DIMENSIONS | 5 TERMS | FIX IMBALANCE] Run #1, Epoch #61…"
      ]
     },
     "metadata": {},
     "output_type": "display_data"
    },
    {
     "data": {
      "application/vnd.jupyter.widget-view+json": {
       "model_id": "",
       "version_major": 2,
       "version_minor": 0
      },
      "text/plain": [
       "[CONJUNCTIONS | ADAM, LR = 0.01 | PRODUCT LOGIC | 1000 DIMENSIONS | 5 TERMS | FIX IMBALANCE] Run #1, Epoch #61…"
      ]
     },
     "metadata": {},
     "output_type": "display_data"
    },
    {
     "data": {
      "application/vnd.jupyter.widget-view+json": {
       "model_id": "",
       "version_major": 2,
       "version_minor": 0
      },
      "text/plain": [
       "[CONJUNCTIONS | ADAM, LR = 0.01 | PRODUCT LOGIC | 1000 DIMENSIONS | 5 TERMS | FIX IMBALANCE] Run #1, Epoch #62…"
      ]
     },
     "metadata": {},
     "output_type": "display_data"
    },
    {
     "data": {
      "application/vnd.jupyter.widget-view+json": {
       "model_id": "",
       "version_major": 2,
       "version_minor": 0
      },
      "text/plain": [
       "[CONJUNCTIONS | ADAM, LR = 0.01 | PRODUCT LOGIC | 1000 DIMENSIONS | 5 TERMS | FIX IMBALANCE] Run #1, Epoch #62…"
      ]
     },
     "metadata": {},
     "output_type": "display_data"
    },
    {
     "data": {
      "application/vnd.jupyter.widget-view+json": {
       "model_id": "",
       "version_major": 2,
       "version_minor": 0
      },
      "text/plain": [
       "[CONJUNCTIONS | ADAM, LR = 0.01 | PRODUCT LOGIC | 1000 DIMENSIONS | 5 TERMS | FIX IMBALANCE] Run #1, Epoch #62…"
      ]
     },
     "metadata": {},
     "output_type": "display_data"
    },
    {
     "data": {
      "application/vnd.jupyter.widget-view+json": {
       "model_id": "",
       "version_major": 2,
       "version_minor": 0
      },
      "text/plain": [
       "[CONJUNCTIONS | ADAM, LR = 0.01 | PRODUCT LOGIC | 1000 DIMENSIONS | 5 TERMS | FIX IMBALANCE] Run #1, Epoch #63…"
      ]
     },
     "metadata": {},
     "output_type": "display_data"
    },
    {
     "data": {
      "application/vnd.jupyter.widget-view+json": {
       "model_id": "",
       "version_major": 2,
       "version_minor": 0
      },
      "text/plain": [
       "[CONJUNCTIONS | ADAM, LR = 0.01 | PRODUCT LOGIC | 1000 DIMENSIONS | 5 TERMS | FIX IMBALANCE] Run #1, Epoch #63…"
      ]
     },
     "metadata": {},
     "output_type": "display_data"
    },
    {
     "data": {
      "application/vnd.jupyter.widget-view+json": {
       "model_id": "",
       "version_major": 2,
       "version_minor": 0
      },
      "text/plain": [
       "[CONJUNCTIONS | ADAM, LR = 0.01 | PRODUCT LOGIC | 1000 DIMENSIONS | 5 TERMS | FIX IMBALANCE] Run #1, Epoch #63…"
      ]
     },
     "metadata": {},
     "output_type": "display_data"
    },
    {
     "data": {
      "application/vnd.jupyter.widget-view+json": {
       "model_id": "",
       "version_major": 2,
       "version_minor": 0
      },
      "text/plain": [
       "[CONJUNCTIONS | ADAM, LR = 0.01 | PRODUCT LOGIC | 1000 DIMENSIONS | 5 TERMS | FIX IMBALANCE] Run #1, Epoch #64…"
      ]
     },
     "metadata": {},
     "output_type": "display_data"
    },
    {
     "data": {
      "application/vnd.jupyter.widget-view+json": {
       "model_id": "",
       "version_major": 2,
       "version_minor": 0
      },
      "text/plain": [
       "[CONJUNCTIONS | ADAM, LR = 0.01 | PRODUCT LOGIC | 1000 DIMENSIONS | 5 TERMS | FIX IMBALANCE] Run #1, Epoch #64…"
      ]
     },
     "metadata": {},
     "output_type": "display_data"
    },
    {
     "data": {
      "application/vnd.jupyter.widget-view+json": {
       "model_id": "",
       "version_major": 2,
       "version_minor": 0
      },
      "text/plain": [
       "[CONJUNCTIONS | ADAM, LR = 0.01 | PRODUCT LOGIC | 1000 DIMENSIONS | 5 TERMS | FIX IMBALANCE] Run #1, Epoch #64…"
      ]
     },
     "metadata": {},
     "output_type": "display_data"
    },
    {
     "data": {
      "application/vnd.jupyter.widget-view+json": {
       "model_id": "",
       "version_major": 2,
       "version_minor": 0
      },
      "text/plain": [
       "[CONJUNCTIONS | ADAM, LR = 0.01 | PRODUCT LOGIC | 1000 DIMENSIONS | 5 TERMS | FIX IMBALANCE] Run #1, Epoch #65…"
      ]
     },
     "metadata": {},
     "output_type": "display_data"
    },
    {
     "data": {
      "application/vnd.jupyter.widget-view+json": {
       "model_id": "",
       "version_major": 2,
       "version_minor": 0
      },
      "text/plain": [
       "[CONJUNCTIONS | ADAM, LR = 0.01 | PRODUCT LOGIC | 1000 DIMENSIONS | 5 TERMS | FIX IMBALANCE] Run #1, Epoch #65…"
      ]
     },
     "metadata": {},
     "output_type": "display_data"
    },
    {
     "data": {
      "application/vnd.jupyter.widget-view+json": {
       "model_id": "",
       "version_major": 2,
       "version_minor": 0
      },
      "text/plain": [
       "[CONJUNCTIONS | ADAM, LR = 0.01 | PRODUCT LOGIC | 1000 DIMENSIONS | 5 TERMS | FIX IMBALANCE] Run #1, Epoch #65…"
      ]
     },
     "metadata": {},
     "output_type": "display_data"
    },
    {
     "data": {
      "application/vnd.jupyter.widget-view+json": {
       "model_id": "",
       "version_major": 2,
       "version_minor": 0
      },
      "text/plain": [
       "[CONJUNCTIONS | ADAM, LR = 0.01 | PRODUCT LOGIC | 1000 DIMENSIONS | 5 TERMS | FIX IMBALANCE] Run #1, Epoch #66…"
      ]
     },
     "metadata": {},
     "output_type": "display_data"
    },
    {
     "data": {
      "application/vnd.jupyter.widget-view+json": {
       "model_id": "",
       "version_major": 2,
       "version_minor": 0
      },
      "text/plain": [
       "[CONJUNCTIONS | ADAM, LR = 0.01 | PRODUCT LOGIC | 1000 DIMENSIONS | 5 TERMS | FIX IMBALANCE] Run #1, Epoch #66…"
      ]
     },
     "metadata": {},
     "output_type": "display_data"
    },
    {
     "data": {
      "application/vnd.jupyter.widget-view+json": {
       "model_id": "",
       "version_major": 2,
       "version_minor": 0
      },
      "text/plain": [
       "[CONJUNCTIONS | ADAM, LR = 0.01 | PRODUCT LOGIC | 1000 DIMENSIONS | 5 TERMS | FIX IMBALANCE] Run #1, Epoch #66…"
      ]
     },
     "metadata": {},
     "output_type": "display_data"
    },
    {
     "data": {
      "application/vnd.jupyter.widget-view+json": {
       "model_id": "",
       "version_major": 2,
       "version_minor": 0
      },
      "text/plain": [
       "[CONJUNCTIONS | ADAM, LR = 0.01 | PRODUCT LOGIC | 1000 DIMENSIONS | 5 TERMS | FIX IMBALANCE] Run #1, Epoch #67…"
      ]
     },
     "metadata": {},
     "output_type": "display_data"
    },
    {
     "data": {
      "application/vnd.jupyter.widget-view+json": {
       "model_id": "",
       "version_major": 2,
       "version_minor": 0
      },
      "text/plain": [
       "[CONJUNCTIONS | ADAM, LR = 0.01 | PRODUCT LOGIC | 1000 DIMENSIONS | 5 TERMS | FIX IMBALANCE] Run #1, Epoch #67…"
      ]
     },
     "metadata": {},
     "output_type": "display_data"
    },
    {
     "data": {
      "application/vnd.jupyter.widget-view+json": {
       "model_id": "",
       "version_major": 2,
       "version_minor": 0
      },
      "text/plain": [
       "[CONJUNCTIONS | ADAM, LR = 0.01 | PRODUCT LOGIC | 1000 DIMENSIONS | 5 TERMS | FIX IMBALANCE] Run #1, Epoch #67…"
      ]
     },
     "metadata": {},
     "output_type": "display_data"
    },
    {
     "data": {
      "application/vnd.jupyter.widget-view+json": {
       "model_id": "",
       "version_major": 2,
       "version_minor": 0
      },
      "text/plain": [
       "[CONJUNCTIONS | ADAM, LR = 0.01 | PRODUCT LOGIC | 1000 DIMENSIONS | 5 TERMS | FIX IMBALANCE] Run #1, Epoch #68…"
      ]
     },
     "metadata": {},
     "output_type": "display_data"
    },
    {
     "data": {
      "application/vnd.jupyter.widget-view+json": {
       "model_id": "",
       "version_major": 2,
       "version_minor": 0
      },
      "text/plain": [
       "[CONJUNCTIONS | ADAM, LR = 0.01 | PRODUCT LOGIC | 1000 DIMENSIONS | 5 TERMS | FIX IMBALANCE] Run #1, Epoch #68…"
      ]
     },
     "metadata": {},
     "output_type": "display_data"
    },
    {
     "data": {
      "application/vnd.jupyter.widget-view+json": {
       "model_id": "",
       "version_major": 2,
       "version_minor": 0
      },
      "text/plain": [
       "[CONJUNCTIONS | ADAM, LR = 0.01 | PRODUCT LOGIC | 1000 DIMENSIONS | 5 TERMS | FIX IMBALANCE] Run #1, Epoch #68…"
      ]
     },
     "metadata": {},
     "output_type": "display_data"
    },
    {
     "data": {
      "application/vnd.jupyter.widget-view+json": {
       "model_id": "",
       "version_major": 2,
       "version_minor": 0
      },
      "text/plain": [
       "[CONJUNCTIONS | ADAM, LR = 0.01 | PRODUCT LOGIC | 1000 DIMENSIONS | 5 TERMS | FIX IMBALANCE] Run #1, Epoch #69…"
      ]
     },
     "metadata": {},
     "output_type": "display_data"
    },
    {
     "data": {
      "application/vnd.jupyter.widget-view+json": {
       "model_id": "",
       "version_major": 2,
       "version_minor": 0
      },
      "text/plain": [
       "[CONJUNCTIONS | ADAM, LR = 0.01 | PRODUCT LOGIC | 1000 DIMENSIONS | 5 TERMS | FIX IMBALANCE] Run #1, Epoch #69…"
      ]
     },
     "metadata": {},
     "output_type": "display_data"
    },
    {
     "data": {
      "application/vnd.jupyter.widget-view+json": {
       "model_id": "",
       "version_major": 2,
       "version_minor": 0
      },
      "text/plain": [
       "[CONJUNCTIONS | ADAM, LR = 0.01 | PRODUCT LOGIC | 1000 DIMENSIONS | 5 TERMS | FIX IMBALANCE] Run #1, Epoch #69…"
      ]
     },
     "metadata": {},
     "output_type": "display_data"
    },
    {
     "data": {
      "application/vnd.jupyter.widget-view+json": {
       "model_id": "",
       "version_major": 2,
       "version_minor": 0
      },
      "text/plain": [
       "[CONJUNCTIONS | ADAM, LR = 0.01 | PRODUCT LOGIC | 1000 DIMENSIONS | 5 TERMS | FIX IMBALANCE] Run #1, Epoch #70…"
      ]
     },
     "metadata": {},
     "output_type": "display_data"
    },
    {
     "data": {
      "application/vnd.jupyter.widget-view+json": {
       "model_id": "",
       "version_major": 2,
       "version_minor": 0
      },
      "text/plain": [
       "[CONJUNCTIONS | ADAM, LR = 0.01 | PRODUCT LOGIC | 1000 DIMENSIONS | 5 TERMS | FIX IMBALANCE] Run #1, Epoch #70…"
      ]
     },
     "metadata": {},
     "output_type": "display_data"
    },
    {
     "data": {
      "application/vnd.jupyter.widget-view+json": {
       "model_id": "",
       "version_major": 2,
       "version_minor": 0
      },
      "text/plain": [
       "[CONJUNCTIONS | ADAM, LR = 0.01 | PRODUCT LOGIC | 1000 DIMENSIONS | 5 TERMS | FIX IMBALANCE] Run #1, Epoch #70…"
      ]
     },
     "metadata": {},
     "output_type": "display_data"
    },
    {
     "data": {
      "application/vnd.jupyter.widget-view+json": {
       "model_id": "",
       "version_major": 2,
       "version_minor": 0
      },
      "text/plain": [
       "[CONJUNCTIONS | ADAM, LR = 0.01 | PRODUCT LOGIC | 1000 DIMENSIONS | 5 TERMS | FIX IMBALANCE] Run #1, Epoch #71…"
      ]
     },
     "metadata": {},
     "output_type": "display_data"
    },
    {
     "data": {
      "application/vnd.jupyter.widget-view+json": {
       "model_id": "",
       "version_major": 2,
       "version_minor": 0
      },
      "text/plain": [
       "[CONJUNCTIONS | ADAM, LR = 0.01 | PRODUCT LOGIC | 1000 DIMENSIONS | 5 TERMS | FIX IMBALANCE] Run #1, Epoch #71…"
      ]
     },
     "metadata": {},
     "output_type": "display_data"
    },
    {
     "data": {
      "application/vnd.jupyter.widget-view+json": {
       "model_id": "",
       "version_major": 2,
       "version_minor": 0
      },
      "text/plain": [
       "[CONJUNCTIONS | ADAM, LR = 0.01 | PRODUCT LOGIC | 1000 DIMENSIONS | 5 TERMS | FIX IMBALANCE] Run #1, Epoch #71…"
      ]
     },
     "metadata": {},
     "output_type": "display_data"
    },
    {
     "data": {
      "application/vnd.jupyter.widget-view+json": {
       "model_id": "",
       "version_major": 2,
       "version_minor": 0
      },
      "text/plain": [
       "[CONJUNCTIONS | ADAM, LR = 0.01 | PRODUCT LOGIC | 1000 DIMENSIONS | 5 TERMS | FIX IMBALANCE] Run #1, Epoch #72…"
      ]
     },
     "metadata": {},
     "output_type": "display_data"
    },
    {
     "data": {
      "application/vnd.jupyter.widget-view+json": {
       "model_id": "",
       "version_major": 2,
       "version_minor": 0
      },
      "text/plain": [
       "[CONJUNCTIONS | ADAM, LR = 0.01 | PRODUCT LOGIC | 1000 DIMENSIONS | 5 TERMS | FIX IMBALANCE] Run #1, Epoch #72…"
      ]
     },
     "metadata": {},
     "output_type": "display_data"
    },
    {
     "data": {
      "application/vnd.jupyter.widget-view+json": {
       "model_id": "",
       "version_major": 2,
       "version_minor": 0
      },
      "text/plain": [
       "[CONJUNCTIONS | ADAM, LR = 0.01 | PRODUCT LOGIC | 1000 DIMENSIONS | 5 TERMS | FIX IMBALANCE] Run #1, Epoch #72…"
      ]
     },
     "metadata": {},
     "output_type": "display_data"
    },
    {
     "data": {
      "application/vnd.jupyter.widget-view+json": {
       "model_id": "",
       "version_major": 2,
       "version_minor": 0
      },
      "text/plain": [
       "[CONJUNCTIONS | ADAM, LR = 0.01 | PRODUCT LOGIC | 1000 DIMENSIONS | 5 TERMS | FIX IMBALANCE] Run #1, Epoch #73…"
      ]
     },
     "metadata": {},
     "output_type": "display_data"
    },
    {
     "data": {
      "application/vnd.jupyter.widget-view+json": {
       "model_id": "",
       "version_major": 2,
       "version_minor": 0
      },
      "text/plain": [
       "[CONJUNCTIONS | ADAM, LR = 0.01 | PRODUCT LOGIC | 1000 DIMENSIONS | 5 TERMS | FIX IMBALANCE] Run #1, Epoch #73…"
      ]
     },
     "metadata": {},
     "output_type": "display_data"
    },
    {
     "data": {
      "application/vnd.jupyter.widget-view+json": {
       "model_id": "",
       "version_major": 2,
       "version_minor": 0
      },
      "text/plain": [
       "[CONJUNCTIONS | ADAM, LR = 0.01 | PRODUCT LOGIC | 1000 DIMENSIONS | 5 TERMS | FIX IMBALANCE] Run #1, Epoch #73…"
      ]
     },
     "metadata": {},
     "output_type": "display_data"
    },
    {
     "data": {
      "application/vnd.jupyter.widget-view+json": {
       "model_id": "",
       "version_major": 2,
       "version_minor": 0
      },
      "text/plain": [
       "[CONJUNCTIONS | ADAM, LR = 0.01 | PRODUCT LOGIC | 1000 DIMENSIONS | 5 TERMS | FIX IMBALANCE] Run #1, Epoch #74…"
      ]
     },
     "metadata": {},
     "output_type": "display_data"
    },
    {
     "data": {
      "application/vnd.jupyter.widget-view+json": {
       "model_id": "",
       "version_major": 2,
       "version_minor": 0
      },
      "text/plain": [
       "[CONJUNCTIONS | ADAM, LR = 0.01 | PRODUCT LOGIC | 1000 DIMENSIONS | 5 TERMS | FIX IMBALANCE] Run #1, Epoch #74…"
      ]
     },
     "metadata": {},
     "output_type": "display_data"
    },
    {
     "data": {
      "application/vnd.jupyter.widget-view+json": {
       "model_id": "",
       "version_major": 2,
       "version_minor": 0
      },
      "text/plain": [
       "[CONJUNCTIONS | ADAM, LR = 0.01 | PRODUCT LOGIC | 1000 DIMENSIONS | 5 TERMS | FIX IMBALANCE] Run #1, Epoch #74…"
      ]
     },
     "metadata": {},
     "output_type": "display_data"
    },
    {
     "data": {
      "application/vnd.jupyter.widget-view+json": {
       "model_id": "",
       "version_major": 2,
       "version_minor": 0
      },
      "text/plain": [
       "[CONJUNCTIONS | ADAM, LR = 0.01 | PRODUCT LOGIC | 1000 DIMENSIONS | 5 TERMS | FIX IMBALANCE] Run #1, Epoch #75…"
      ]
     },
     "metadata": {},
     "output_type": "display_data"
    },
    {
     "data": {
      "application/vnd.jupyter.widget-view+json": {
       "model_id": "",
       "version_major": 2,
       "version_minor": 0
      },
      "text/plain": [
       "[CONJUNCTIONS | ADAM, LR = 0.01 | PRODUCT LOGIC | 1000 DIMENSIONS | 5 TERMS | FIX IMBALANCE] Run #1, Epoch #75…"
      ]
     },
     "metadata": {},
     "output_type": "display_data"
    },
    {
     "data": {
      "application/vnd.jupyter.widget-view+json": {
       "model_id": "",
       "version_major": 2,
       "version_minor": 0
      },
      "text/plain": [
       "[CONJUNCTIONS | ADAM, LR = 0.01 | PRODUCT LOGIC | 1000 DIMENSIONS | 5 TERMS | FIX IMBALANCE] Run #1, Epoch #75…"
      ]
     },
     "metadata": {},
     "output_type": "display_data"
    },
    {
     "data": {
      "application/vnd.jupyter.widget-view+json": {
       "model_id": "",
       "version_major": 2,
       "version_minor": 0
      },
      "text/plain": [
       "[CONJUNCTIONS | ADAM, LR = 0.01 | PRODUCT LOGIC | 1000 DIMENSIONS | 5 TERMS | FIX IMBALANCE] Run #1, Epoch #76…"
      ]
     },
     "metadata": {},
     "output_type": "display_data"
    },
    {
     "data": {
      "application/vnd.jupyter.widget-view+json": {
       "model_id": "",
       "version_major": 2,
       "version_minor": 0
      },
      "text/plain": [
       "[CONJUNCTIONS | ADAM, LR = 0.01 | PRODUCT LOGIC | 1000 DIMENSIONS | 5 TERMS | FIX IMBALANCE] Run #1, Epoch #76…"
      ]
     },
     "metadata": {},
     "output_type": "display_data"
    },
    {
     "data": {
      "application/vnd.jupyter.widget-view+json": {
       "model_id": "",
       "version_major": 2,
       "version_minor": 0
      },
      "text/plain": [
       "[CONJUNCTIONS | ADAM, LR = 0.01 | PRODUCT LOGIC | 1000 DIMENSIONS | 5 TERMS | FIX IMBALANCE] Run #1, Epoch #76…"
      ]
     },
     "metadata": {},
     "output_type": "display_data"
    },
    {
     "data": {
      "application/vnd.jupyter.widget-view+json": {
       "model_id": "",
       "version_major": 2,
       "version_minor": 0
      },
      "text/plain": [
       "[CONJUNCTIONS | ADAM, LR = 0.01 | PRODUCT LOGIC | 1000 DIMENSIONS | 5 TERMS | FIX IMBALANCE] Run #1, Epoch #77…"
      ]
     },
     "metadata": {},
     "output_type": "display_data"
    },
    {
     "data": {
      "application/vnd.jupyter.widget-view+json": {
       "model_id": "",
       "version_major": 2,
       "version_minor": 0
      },
      "text/plain": [
       "[CONJUNCTIONS | ADAM, LR = 0.01 | PRODUCT LOGIC | 1000 DIMENSIONS | 5 TERMS | FIX IMBALANCE] Run #1, Epoch #77…"
      ]
     },
     "metadata": {},
     "output_type": "display_data"
    },
    {
     "data": {
      "application/vnd.jupyter.widget-view+json": {
       "model_id": "",
       "version_major": 2,
       "version_minor": 0
      },
      "text/plain": [
       "[CONJUNCTIONS | ADAM, LR = 0.01 | PRODUCT LOGIC | 1000 DIMENSIONS | 5 TERMS | FIX IMBALANCE] Run #1, Epoch #77…"
      ]
     },
     "metadata": {},
     "output_type": "display_data"
    },
    {
     "data": {
      "application/vnd.jupyter.widget-view+json": {
       "model_id": "",
       "version_major": 2,
       "version_minor": 0
      },
      "text/plain": [
       "[CONJUNCTIONS | ADAM, LR = 0.01 | PRODUCT LOGIC | 1000 DIMENSIONS | 5 TERMS | FIX IMBALANCE] Run #1, Epoch #78…"
      ]
     },
     "metadata": {},
     "output_type": "display_data"
    },
    {
     "data": {
      "application/vnd.jupyter.widget-view+json": {
       "model_id": "",
       "version_major": 2,
       "version_minor": 0
      },
      "text/plain": [
       "[CONJUNCTIONS | ADAM, LR = 0.01 | PRODUCT LOGIC | 1000 DIMENSIONS | 5 TERMS | FIX IMBALANCE] Run #1, Epoch #78…"
      ]
     },
     "metadata": {},
     "output_type": "display_data"
    },
    {
     "data": {
      "application/vnd.jupyter.widget-view+json": {
       "model_id": "",
       "version_major": 2,
       "version_minor": 0
      },
      "text/plain": [
       "[CONJUNCTIONS | ADAM, LR = 0.01 | PRODUCT LOGIC | 1000 DIMENSIONS | 5 TERMS | FIX IMBALANCE] Run #1, Epoch #78…"
      ]
     },
     "metadata": {},
     "output_type": "display_data"
    },
    {
     "data": {
      "application/vnd.jupyter.widget-view+json": {
       "model_id": "",
       "version_major": 2,
       "version_minor": 0
      },
      "text/plain": [
       "[CONJUNCTIONS | ADAM, LR = 0.01 | PRODUCT LOGIC | 1000 DIMENSIONS | 5 TERMS | FIX IMBALANCE] Run #1, Epoch #79…"
      ]
     },
     "metadata": {},
     "output_type": "display_data"
    },
    {
     "data": {
      "application/vnd.jupyter.widget-view+json": {
       "model_id": "",
       "version_major": 2,
       "version_minor": 0
      },
      "text/plain": [
       "[CONJUNCTIONS | ADAM, LR = 0.01 | PRODUCT LOGIC | 1000 DIMENSIONS | 5 TERMS | FIX IMBALANCE] Run #1, Epoch #79…"
      ]
     },
     "metadata": {},
     "output_type": "display_data"
    },
    {
     "data": {
      "application/vnd.jupyter.widget-view+json": {
       "model_id": "",
       "version_major": 2,
       "version_minor": 0
      },
      "text/plain": [
       "[CONJUNCTIONS | ADAM, LR = 0.01 | PRODUCT LOGIC | 1000 DIMENSIONS | 5 TERMS | FIX IMBALANCE] Run #1, Epoch #79…"
      ]
     },
     "metadata": {},
     "output_type": "display_data"
    },
    {
     "data": {
      "application/vnd.jupyter.widget-view+json": {
       "model_id": "",
       "version_major": 2,
       "version_minor": 0
      },
      "text/plain": [
       "[CONJUNCTIONS | ADAM, LR = 0.01 | PRODUCT LOGIC | 1000 DIMENSIONS | 5 TERMS | FIX IMBALANCE] Run #1, Epoch #80…"
      ]
     },
     "metadata": {},
     "output_type": "display_data"
    },
    {
     "data": {
      "application/vnd.jupyter.widget-view+json": {
       "model_id": "",
       "version_major": 2,
       "version_minor": 0
      },
      "text/plain": [
       "[CONJUNCTIONS | ADAM, LR = 0.01 | PRODUCT LOGIC | 1000 DIMENSIONS | 5 TERMS | FIX IMBALANCE] Run #1, Epoch #80…"
      ]
     },
     "metadata": {},
     "output_type": "display_data"
    },
    {
     "data": {
      "application/vnd.jupyter.widget-view+json": {
       "model_id": "",
       "version_major": 2,
       "version_minor": 0
      },
      "text/plain": [
       "[CONJUNCTIONS | ADAM, LR = 0.01 | PRODUCT LOGIC | 1000 DIMENSIONS | 5 TERMS | FIX IMBALANCE] Run #1, Epoch #80…"
      ]
     },
     "metadata": {},
     "output_type": "display_data"
    },
    {
     "data": {
      "application/vnd.jupyter.widget-view+json": {
       "model_id": "",
       "version_major": 2,
       "version_minor": 0
      },
      "text/plain": [
       "[CONJUNCTIONS | ADAM, LR = 0.01 | PRODUCT LOGIC | 1000 DIMENSIONS | 5 TERMS | FIX IMBALANCE] Run #1, Epoch #81…"
      ]
     },
     "metadata": {},
     "output_type": "display_data"
    },
    {
     "data": {
      "application/vnd.jupyter.widget-view+json": {
       "model_id": "",
       "version_major": 2,
       "version_minor": 0
      },
      "text/plain": [
       "[CONJUNCTIONS | ADAM, LR = 0.01 | PRODUCT LOGIC | 1000 DIMENSIONS | 5 TERMS | FIX IMBALANCE] Run #1, Epoch #81…"
      ]
     },
     "metadata": {},
     "output_type": "display_data"
    },
    {
     "data": {
      "application/vnd.jupyter.widget-view+json": {
       "model_id": "",
       "version_major": 2,
       "version_minor": 0
      },
      "text/plain": [
       "[CONJUNCTIONS | ADAM, LR = 0.01 | PRODUCT LOGIC | 1000 DIMENSIONS | 5 TERMS | FIX IMBALANCE] Run #1, Epoch #81…"
      ]
     },
     "metadata": {},
     "output_type": "display_data"
    },
    {
     "data": {
      "application/vnd.jupyter.widget-view+json": {
       "model_id": "",
       "version_major": 2,
       "version_minor": 0
      },
      "text/plain": [
       "[CONJUNCTIONS | ADAM, LR = 0.01 | PRODUCT LOGIC | 1000 DIMENSIONS | 5 TERMS | FIX IMBALANCE] Run #1, Epoch #82…"
      ]
     },
     "metadata": {},
     "output_type": "display_data"
    },
    {
     "data": {
      "application/vnd.jupyter.widget-view+json": {
       "model_id": "",
       "version_major": 2,
       "version_minor": 0
      },
      "text/plain": [
       "[CONJUNCTIONS | ADAM, LR = 0.01 | PRODUCT LOGIC | 1000 DIMENSIONS | 5 TERMS | FIX IMBALANCE] Run #1, Epoch #82…"
      ]
     },
     "metadata": {},
     "output_type": "display_data"
    },
    {
     "data": {
      "application/vnd.jupyter.widget-view+json": {
       "model_id": "",
       "version_major": 2,
       "version_minor": 0
      },
      "text/plain": [
       "[CONJUNCTIONS | ADAM, LR = 0.01 | PRODUCT LOGIC | 1000 DIMENSIONS | 5 TERMS | FIX IMBALANCE] Run #1, Epoch #82…"
      ]
     },
     "metadata": {},
     "output_type": "display_data"
    },
    {
     "data": {
      "application/vnd.jupyter.widget-view+json": {
       "model_id": "",
       "version_major": 2,
       "version_minor": 0
      },
      "text/plain": [
       "[CONJUNCTIONS | ADAM, LR = 0.01 | PRODUCT LOGIC | 1000 DIMENSIONS | 5 TERMS | FIX IMBALANCE] Run #1, Epoch #83…"
      ]
     },
     "metadata": {},
     "output_type": "display_data"
    },
    {
     "data": {
      "application/vnd.jupyter.widget-view+json": {
       "model_id": "",
       "version_major": 2,
       "version_minor": 0
      },
      "text/plain": [
       "[CONJUNCTIONS | ADAM, LR = 0.01 | PRODUCT LOGIC | 1000 DIMENSIONS | 5 TERMS | FIX IMBALANCE] Run #1, Epoch #83…"
      ]
     },
     "metadata": {},
     "output_type": "display_data"
    },
    {
     "data": {
      "application/vnd.jupyter.widget-view+json": {
       "model_id": "",
       "version_major": 2,
       "version_minor": 0
      },
      "text/plain": [
       "[CONJUNCTIONS | ADAM, LR = 0.01 | PRODUCT LOGIC | 1000 DIMENSIONS | 5 TERMS | FIX IMBALANCE] Run #1, Epoch #83…"
      ]
     },
     "metadata": {},
     "output_type": "display_data"
    },
    {
     "data": {
      "application/vnd.jupyter.widget-view+json": {
       "model_id": "",
       "version_major": 2,
       "version_minor": 0
      },
      "text/plain": [
       "[CONJUNCTIONS | ADAM, LR = 0.01 | PRODUCT LOGIC | 1000 DIMENSIONS | 5 TERMS | FIX IMBALANCE] Run #1, Epoch #84…"
      ]
     },
     "metadata": {},
     "output_type": "display_data"
    },
    {
     "data": {
      "application/vnd.jupyter.widget-view+json": {
       "model_id": "",
       "version_major": 2,
       "version_minor": 0
      },
      "text/plain": [
       "[CONJUNCTIONS | ADAM, LR = 0.01 | PRODUCT LOGIC | 1000 DIMENSIONS | 5 TERMS | FIX IMBALANCE] Run #1, Epoch #84…"
      ]
     },
     "metadata": {},
     "output_type": "display_data"
    },
    {
     "data": {
      "application/vnd.jupyter.widget-view+json": {
       "model_id": "",
       "version_major": 2,
       "version_minor": 0
      },
      "text/plain": [
       "[CONJUNCTIONS | ADAM, LR = 0.01 | PRODUCT LOGIC | 1000 DIMENSIONS | 5 TERMS | FIX IMBALANCE] Run #1, Epoch #84…"
      ]
     },
     "metadata": {},
     "output_type": "display_data"
    },
    {
     "data": {
      "application/vnd.jupyter.widget-view+json": {
       "model_id": "",
       "version_major": 2,
       "version_minor": 0
      },
      "text/plain": [
       "[CONJUNCTIONS | ADAM, LR = 0.01 | PRODUCT LOGIC | 1000 DIMENSIONS | 5 TERMS | FIX IMBALANCE] Run #1, Epoch #85…"
      ]
     },
     "metadata": {},
     "output_type": "display_data"
    },
    {
     "data": {
      "application/vnd.jupyter.widget-view+json": {
       "model_id": "",
       "version_major": 2,
       "version_minor": 0
      },
      "text/plain": [
       "[CONJUNCTIONS | ADAM, LR = 0.01 | PRODUCT LOGIC | 1000 DIMENSIONS | 5 TERMS | FIX IMBALANCE] Run #1, Epoch #85…"
      ]
     },
     "metadata": {},
     "output_type": "display_data"
    },
    {
     "data": {
      "application/vnd.jupyter.widget-view+json": {
       "model_id": "",
       "version_major": 2,
       "version_minor": 0
      },
      "text/plain": [
       "[CONJUNCTIONS | ADAM, LR = 0.01 | PRODUCT LOGIC | 1000 DIMENSIONS | 5 TERMS | FIX IMBALANCE] Run #1, Epoch #85…"
      ]
     },
     "metadata": {},
     "output_type": "display_data"
    },
    {
     "data": {
      "application/vnd.jupyter.widget-view+json": {
       "model_id": "",
       "version_major": 2,
       "version_minor": 0
      },
      "text/plain": [
       "[CONJUNCTIONS | ADAM, LR = 0.01 | PRODUCT LOGIC | 1000 DIMENSIONS | 5 TERMS | FIX IMBALANCE] Run #1, Epoch #86…"
      ]
     },
     "metadata": {},
     "output_type": "display_data"
    },
    {
     "data": {
      "application/vnd.jupyter.widget-view+json": {
       "model_id": "",
       "version_major": 2,
       "version_minor": 0
      },
      "text/plain": [
       "[CONJUNCTIONS | ADAM, LR = 0.01 | PRODUCT LOGIC | 1000 DIMENSIONS | 5 TERMS | FIX IMBALANCE] Run #1, Epoch #86…"
      ]
     },
     "metadata": {},
     "output_type": "display_data"
    },
    {
     "data": {
      "application/vnd.jupyter.widget-view+json": {
       "model_id": "",
       "version_major": 2,
       "version_minor": 0
      },
      "text/plain": [
       "[CONJUNCTIONS | ADAM, LR = 0.01 | PRODUCT LOGIC | 1000 DIMENSIONS | 5 TERMS | FIX IMBALANCE] Run #1, Epoch #86…"
      ]
     },
     "metadata": {},
     "output_type": "display_data"
    },
    {
     "data": {
      "application/vnd.jupyter.widget-view+json": {
       "model_id": "",
       "version_major": 2,
       "version_minor": 0
      },
      "text/plain": [
       "[CONJUNCTIONS | ADAM, LR = 0.01 | PRODUCT LOGIC | 1000 DIMENSIONS | 5 TERMS | FIX IMBALANCE] Run #1, Epoch #87…"
      ]
     },
     "metadata": {},
     "output_type": "display_data"
    },
    {
     "data": {
      "application/vnd.jupyter.widget-view+json": {
       "model_id": "",
       "version_major": 2,
       "version_minor": 0
      },
      "text/plain": [
       "[CONJUNCTIONS | ADAM, LR = 0.01 | PRODUCT LOGIC | 1000 DIMENSIONS | 5 TERMS | FIX IMBALANCE] Run #1, Epoch #87…"
      ]
     },
     "metadata": {},
     "output_type": "display_data"
    },
    {
     "data": {
      "application/vnd.jupyter.widget-view+json": {
       "model_id": "",
       "version_major": 2,
       "version_minor": 0
      },
      "text/plain": [
       "[CONJUNCTIONS | ADAM, LR = 0.01 | PRODUCT LOGIC | 1000 DIMENSIONS | 5 TERMS | FIX IMBALANCE] Run #1, Epoch #87…"
      ]
     },
     "metadata": {},
     "output_type": "display_data"
    },
    {
     "data": {
      "application/vnd.jupyter.widget-view+json": {
       "model_id": "",
       "version_major": 2,
       "version_minor": 0
      },
      "text/plain": [
       "[CONJUNCTIONS | ADAM, LR = 0.01 | PRODUCT LOGIC | 1000 DIMENSIONS | 5 TERMS | FIX IMBALANCE] Run #1, Epoch #88…"
      ]
     },
     "metadata": {},
     "output_type": "display_data"
    },
    {
     "data": {
      "application/vnd.jupyter.widget-view+json": {
       "model_id": "",
       "version_major": 2,
       "version_minor": 0
      },
      "text/plain": [
       "[CONJUNCTIONS | ADAM, LR = 0.01 | PRODUCT LOGIC | 1000 DIMENSIONS | 5 TERMS | FIX IMBALANCE] Run #1, Epoch #88…"
      ]
     },
     "metadata": {},
     "output_type": "display_data"
    },
    {
     "data": {
      "application/vnd.jupyter.widget-view+json": {
       "model_id": "",
       "version_major": 2,
       "version_minor": 0
      },
      "text/plain": [
       "[CONJUNCTIONS | ADAM, LR = 0.01 | PRODUCT LOGIC | 1000 DIMENSIONS | 5 TERMS | FIX IMBALANCE] Run #1, Epoch #88…"
      ]
     },
     "metadata": {},
     "output_type": "display_data"
    },
    {
     "data": {
      "application/vnd.jupyter.widget-view+json": {
       "model_id": "",
       "version_major": 2,
       "version_minor": 0
      },
      "text/plain": [
       "[CONJUNCTIONS | ADAM, LR = 0.01 | PRODUCT LOGIC | 1000 DIMENSIONS | 5 TERMS | FIX IMBALANCE] Run #1, Epoch #89…"
      ]
     },
     "metadata": {},
     "output_type": "display_data"
    },
    {
     "data": {
      "application/vnd.jupyter.widget-view+json": {
       "model_id": "",
       "version_major": 2,
       "version_minor": 0
      },
      "text/plain": [
       "[CONJUNCTIONS | ADAM, LR = 0.01 | PRODUCT LOGIC | 1000 DIMENSIONS | 5 TERMS | FIX IMBALANCE] Run #1, Epoch #89…"
      ]
     },
     "metadata": {},
     "output_type": "display_data"
    },
    {
     "data": {
      "application/vnd.jupyter.widget-view+json": {
       "model_id": "",
       "version_major": 2,
       "version_minor": 0
      },
      "text/plain": [
       "[CONJUNCTIONS | ADAM, LR = 0.01 | PRODUCT LOGIC | 1000 DIMENSIONS | 5 TERMS | FIX IMBALANCE] Run #1, Epoch #89…"
      ]
     },
     "metadata": {},
     "output_type": "display_data"
    },
    {
     "data": {
      "application/vnd.jupyter.widget-view+json": {
       "model_id": "",
       "version_major": 2,
       "version_minor": 0
      },
      "text/plain": [
       "[CONJUNCTIONS | ADAM, LR = 0.01 | PRODUCT LOGIC | 1000 DIMENSIONS | 5 TERMS | FIX IMBALANCE] Run #1, Epoch #90…"
      ]
     },
     "metadata": {},
     "output_type": "display_data"
    },
    {
     "data": {
      "application/vnd.jupyter.widget-view+json": {
       "model_id": "",
       "version_major": 2,
       "version_minor": 0
      },
      "text/plain": [
       "[CONJUNCTIONS | ADAM, LR = 0.01 | PRODUCT LOGIC | 1000 DIMENSIONS | 5 TERMS | FIX IMBALANCE] Run #1, Epoch #90…"
      ]
     },
     "metadata": {},
     "output_type": "display_data"
    },
    {
     "data": {
      "application/vnd.jupyter.widget-view+json": {
       "model_id": "",
       "version_major": 2,
       "version_minor": 0
      },
      "text/plain": [
       "[CONJUNCTIONS | ADAM, LR = 0.01 | PRODUCT LOGIC | 1000 DIMENSIONS | 5 TERMS | FIX IMBALANCE] Run #1, Epoch #90…"
      ]
     },
     "metadata": {},
     "output_type": "display_data"
    },
    {
     "data": {
      "application/vnd.jupyter.widget-view+json": {
       "model_id": "",
       "version_major": 2,
       "version_minor": 0
      },
      "text/plain": [
       "[CONJUNCTIONS | ADAM, LR = 0.01 | PRODUCT LOGIC | 1000 DIMENSIONS | 5 TERMS | FIX IMBALANCE] Run #1, Epoch #91…"
      ]
     },
     "metadata": {},
     "output_type": "display_data"
    },
    {
     "data": {
      "application/vnd.jupyter.widget-view+json": {
       "model_id": "",
       "version_major": 2,
       "version_minor": 0
      },
      "text/plain": [
       "[CONJUNCTIONS | ADAM, LR = 0.01 | PRODUCT LOGIC | 1000 DIMENSIONS | 5 TERMS | FIX IMBALANCE] Run #1, Epoch #91…"
      ]
     },
     "metadata": {},
     "output_type": "display_data"
    },
    {
     "data": {
      "application/vnd.jupyter.widget-view+json": {
       "model_id": "",
       "version_major": 2,
       "version_minor": 0
      },
      "text/plain": [
       "[CONJUNCTIONS | ADAM, LR = 0.01 | PRODUCT LOGIC | 1000 DIMENSIONS | 5 TERMS | FIX IMBALANCE] Run #1, Epoch #91…"
      ]
     },
     "metadata": {},
     "output_type": "display_data"
    },
    {
     "data": {
      "application/vnd.jupyter.widget-view+json": {
       "model_id": "",
       "version_major": 2,
       "version_minor": 0
      },
      "text/plain": [
       "[CONJUNCTIONS | ADAM, LR = 0.01 | PRODUCT LOGIC | 1000 DIMENSIONS | 5 TERMS | FIX IMBALANCE] Run #1, Epoch #92…"
      ]
     },
     "metadata": {},
     "output_type": "display_data"
    },
    {
     "data": {
      "application/vnd.jupyter.widget-view+json": {
       "model_id": "",
       "version_major": 2,
       "version_minor": 0
      },
      "text/plain": [
       "[CONJUNCTIONS | ADAM, LR = 0.01 | PRODUCT LOGIC | 1000 DIMENSIONS | 5 TERMS | FIX IMBALANCE] Run #1, Epoch #92…"
      ]
     },
     "metadata": {},
     "output_type": "display_data"
    },
    {
     "data": {
      "application/vnd.jupyter.widget-view+json": {
       "model_id": "",
       "version_major": 2,
       "version_minor": 0
      },
      "text/plain": [
       "[CONJUNCTIONS | ADAM, LR = 0.01 | PRODUCT LOGIC | 1000 DIMENSIONS | 5 TERMS | FIX IMBALANCE] Run #1, Epoch #92…"
      ]
     },
     "metadata": {},
     "output_type": "display_data"
    },
    {
     "data": {
      "application/vnd.jupyter.widget-view+json": {
       "model_id": "",
       "version_major": 2,
       "version_minor": 0
      },
      "text/plain": [
       "[CONJUNCTIONS | ADAM, LR = 0.01 | PRODUCT LOGIC | 1000 DIMENSIONS | 5 TERMS | FIX IMBALANCE] Run #1, Epoch #93…"
      ]
     },
     "metadata": {},
     "output_type": "display_data"
    },
    {
     "data": {
      "application/vnd.jupyter.widget-view+json": {
       "model_id": "",
       "version_major": 2,
       "version_minor": 0
      },
      "text/plain": [
       "[CONJUNCTIONS | ADAM, LR = 0.01 | PRODUCT LOGIC | 1000 DIMENSIONS | 5 TERMS | FIX IMBALANCE] Run #1, Epoch #93…"
      ]
     },
     "metadata": {},
     "output_type": "display_data"
    },
    {
     "data": {
      "application/vnd.jupyter.widget-view+json": {
       "model_id": "",
       "version_major": 2,
       "version_minor": 0
      },
      "text/plain": [
       "[CONJUNCTIONS | ADAM, LR = 0.01 | PRODUCT LOGIC | 1000 DIMENSIONS | 5 TERMS | FIX IMBALANCE] Run #1, Epoch #93…"
      ]
     },
     "metadata": {},
     "output_type": "display_data"
    },
    {
     "data": {
      "application/vnd.jupyter.widget-view+json": {
       "model_id": "",
       "version_major": 2,
       "version_minor": 0
      },
      "text/plain": [
       "[CONJUNCTIONS | ADAM, LR = 0.01 | PRODUCT LOGIC | 1000 DIMENSIONS | 5 TERMS | FIX IMBALANCE] Run #1, Epoch #94…"
      ]
     },
     "metadata": {},
     "output_type": "display_data"
    },
    {
     "data": {
      "application/vnd.jupyter.widget-view+json": {
       "model_id": "",
       "version_major": 2,
       "version_minor": 0
      },
      "text/plain": [
       "[CONJUNCTIONS | ADAM, LR = 0.01 | PRODUCT LOGIC | 1000 DIMENSIONS | 5 TERMS | FIX IMBALANCE] Run #1, Epoch #94…"
      ]
     },
     "metadata": {},
     "output_type": "display_data"
    },
    {
     "data": {
      "application/vnd.jupyter.widget-view+json": {
       "model_id": "",
       "version_major": 2,
       "version_minor": 0
      },
      "text/plain": [
       "[CONJUNCTIONS | ADAM, LR = 0.01 | PRODUCT LOGIC | 1000 DIMENSIONS | 5 TERMS | FIX IMBALANCE] Run #1, Epoch #94…"
      ]
     },
     "metadata": {},
     "output_type": "display_data"
    },
    {
     "data": {
      "application/vnd.jupyter.widget-view+json": {
       "model_id": "",
       "version_major": 2,
       "version_minor": 0
      },
      "text/plain": [
       "[CONJUNCTIONS | ADAM, LR = 0.01 | PRODUCT LOGIC | 1000 DIMENSIONS | 5 TERMS | FIX IMBALANCE] Run #1, Epoch #95…"
      ]
     },
     "metadata": {},
     "output_type": "display_data"
    },
    {
     "data": {
      "application/vnd.jupyter.widget-view+json": {
       "model_id": "",
       "version_major": 2,
       "version_minor": 0
      },
      "text/plain": [
       "[CONJUNCTIONS | ADAM, LR = 0.01 | PRODUCT LOGIC | 1000 DIMENSIONS | 5 TERMS | FIX IMBALANCE] Run #1, Epoch #95…"
      ]
     },
     "metadata": {},
     "output_type": "display_data"
    },
    {
     "data": {
      "application/vnd.jupyter.widget-view+json": {
       "model_id": "",
       "version_major": 2,
       "version_minor": 0
      },
      "text/plain": [
       "[CONJUNCTIONS | ADAM, LR = 0.01 | PRODUCT LOGIC | 1000 DIMENSIONS | 5 TERMS | FIX IMBALANCE] Run #1, Epoch #95…"
      ]
     },
     "metadata": {},
     "output_type": "display_data"
    },
    {
     "data": {
      "application/vnd.jupyter.widget-view+json": {
       "model_id": "",
       "version_major": 2,
       "version_minor": 0
      },
      "text/plain": [
       "[CONJUNCTIONS | ADAM, LR = 0.01 | PRODUCT LOGIC | 1000 DIMENSIONS | 5 TERMS | FIX IMBALANCE] Run #1, Epoch #96…"
      ]
     },
     "metadata": {},
     "output_type": "display_data"
    },
    {
     "data": {
      "application/vnd.jupyter.widget-view+json": {
       "model_id": "",
       "version_major": 2,
       "version_minor": 0
      },
      "text/plain": [
       "[CONJUNCTIONS | ADAM, LR = 0.01 | PRODUCT LOGIC | 1000 DIMENSIONS | 5 TERMS | FIX IMBALANCE] Run #1, Epoch #96…"
      ]
     },
     "metadata": {},
     "output_type": "display_data"
    },
    {
     "data": {
      "application/vnd.jupyter.widget-view+json": {
       "model_id": "",
       "version_major": 2,
       "version_minor": 0
      },
      "text/plain": [
       "[CONJUNCTIONS | ADAM, LR = 0.01 | PRODUCT LOGIC | 1000 DIMENSIONS | 5 TERMS | FIX IMBALANCE] Run #1, Epoch #96…"
      ]
     },
     "metadata": {},
     "output_type": "display_data"
    },
    {
     "data": {
      "application/vnd.jupyter.widget-view+json": {
       "model_id": "",
       "version_major": 2,
       "version_minor": 0
      },
      "text/plain": [
       "[CONJUNCTIONS | ADAM, LR = 0.01 | PRODUCT LOGIC | 1000 DIMENSIONS | 5 TERMS | FIX IMBALANCE] Run #1, Epoch #97…"
      ]
     },
     "metadata": {},
     "output_type": "display_data"
    },
    {
     "data": {
      "application/vnd.jupyter.widget-view+json": {
       "model_id": "",
       "version_major": 2,
       "version_minor": 0
      },
      "text/plain": [
       "[CONJUNCTIONS | ADAM, LR = 0.01 | PRODUCT LOGIC | 1000 DIMENSIONS | 5 TERMS | FIX IMBALANCE] Run #1, Epoch #97…"
      ]
     },
     "metadata": {},
     "output_type": "display_data"
    },
    {
     "data": {
      "application/vnd.jupyter.widget-view+json": {
       "model_id": "",
       "version_major": 2,
       "version_minor": 0
      },
      "text/plain": [
       "[CONJUNCTIONS | ADAM, LR = 0.01 | PRODUCT LOGIC | 1000 DIMENSIONS | 5 TERMS | FIX IMBALANCE] Run #1, Epoch #97…"
      ]
     },
     "metadata": {},
     "output_type": "display_data"
    },
    {
     "data": {
      "application/vnd.jupyter.widget-view+json": {
       "model_id": "",
       "version_major": 2,
       "version_minor": 0
      },
      "text/plain": [
       "[CONJUNCTIONS | ADAM, LR = 0.01 | PRODUCT LOGIC | 1000 DIMENSIONS | 5 TERMS | FIX IMBALANCE] Run #1, Epoch #98…"
      ]
     },
     "metadata": {},
     "output_type": "display_data"
    },
    {
     "data": {
      "application/vnd.jupyter.widget-view+json": {
       "model_id": "",
       "version_major": 2,
       "version_minor": 0
      },
      "text/plain": [
       "[CONJUNCTIONS | ADAM, LR = 0.01 | PRODUCT LOGIC | 1000 DIMENSIONS | 5 TERMS | FIX IMBALANCE] Run #1, Epoch #98…"
      ]
     },
     "metadata": {},
     "output_type": "display_data"
    },
    {
     "data": {
      "application/vnd.jupyter.widget-view+json": {
       "model_id": "",
       "version_major": 2,
       "version_minor": 0
      },
      "text/plain": [
       "[CONJUNCTIONS | ADAM, LR = 0.01 | PRODUCT LOGIC | 1000 DIMENSIONS | 5 TERMS | FIX IMBALANCE] Run #1, Epoch #98…"
      ]
     },
     "metadata": {},
     "output_type": "display_data"
    },
    {
     "data": {
      "application/vnd.jupyter.widget-view+json": {
       "model_id": "",
       "version_major": 2,
       "version_minor": 0
      },
      "text/plain": [
       "[CONJUNCTIONS | ADAM, LR = 0.01 | PRODUCT LOGIC | 1000 DIMENSIONS | 5 TERMS | FIX IMBALANCE] Run #1, Epoch #99…"
      ]
     },
     "metadata": {},
     "output_type": "display_data"
    },
    {
     "data": {
      "application/vnd.jupyter.widget-view+json": {
       "model_id": "",
       "version_major": 2,
       "version_minor": 0
      },
      "text/plain": [
       "[CONJUNCTIONS | ADAM, LR = 0.01 | PRODUCT LOGIC | 1000 DIMENSIONS | 5 TERMS | FIX IMBALANCE] Run #1, Epoch #99…"
      ]
     },
     "metadata": {},
     "output_type": "display_data"
    },
    {
     "data": {
      "application/vnd.jupyter.widget-view+json": {
       "model_id": "",
       "version_major": 2,
       "version_minor": 0
      },
      "text/plain": [
       "[CONJUNCTIONS | ADAM, LR = 0.01 | PRODUCT LOGIC | 1000 DIMENSIONS | 5 TERMS | FIX IMBALANCE] Run #1, Epoch #99…"
      ]
     },
     "metadata": {},
     "output_type": "display_data"
    },
    {
     "data": {
      "application/vnd.jupyter.widget-view+json": {
       "model_id": "",
       "version_major": 2,
       "version_minor": 0
      },
      "text/plain": [
       "[CONJUNCTIONS | ADAM, LR = 0.01 | PRODUCT LOGIC | 1000 DIMENSIONS | 5 TERMS | FIX IMBALANCE] Run #1, Epoch #10…"
      ]
     },
     "metadata": {},
     "output_type": "display_data"
    },
    {
     "data": {
      "application/vnd.jupyter.widget-view+json": {
       "model_id": "",
       "version_major": 2,
       "version_minor": 0
      },
      "text/plain": [
       "[CONJUNCTIONS | ADAM, LR = 0.01 | PRODUCT LOGIC | 1000 DIMENSIONS | 5 TERMS | FIX IMBALANCE] Run #1, Epoch #10…"
      ]
     },
     "metadata": {},
     "output_type": "display_data"
    },
    {
     "data": {
      "application/vnd.jupyter.widget-view+json": {
       "model_id": "",
       "version_major": 2,
       "version_minor": 0
      },
      "text/plain": [
       "[CONJUNCTIONS | ADAM, LR = 0.01 | PRODUCT LOGIC | 1000 DIMENSIONS | 5 TERMS | FIX IMBALANCE] Run #1, Epoch #10…"
      ]
     },
     "metadata": {},
     "output_type": "display_data"
    },
    {
     "data": {
      "application/vnd.jupyter.widget-view+json": {
       "model_id": "",
       "version_major": 2,
       "version_minor": 0
      },
      "text/plain": [
       "[CONJUNCTIONS | ADAM, LR = 0.01 | PRODUCT LOGIC | 10000 DIMENSIONS | 5 TERMS | FIX IMBALANCE] Run #1, Epoch #1…"
      ]
     },
     "metadata": {},
     "output_type": "display_data"
    },
    {
     "data": {
      "application/vnd.jupyter.widget-view+json": {
       "model_id": "9f6d6743a51e4fd09c43854ffada976b",
       "version_major": 2,
       "version_minor": 0
      },
      "text/plain": [
       "[CONJUNCTIONS | ADAM, LR = 0.01 | PRODUCT LOGIC | 10000 DIMENSIONS | 5 TERMS | FIX IMBALANCE] Run #1, Epoch #1…"
      ]
     },
     "metadata": {},
     "output_type": "display_data"
    },
    {
     "ename": "KeyboardInterrupt",
     "evalue": "",
     "output_type": "error",
     "traceback": [
      "\u001b[0;31m---------------------------------------------------------------------------\u001b[0m",
      "\u001b[0;31mKeyboardInterrupt\u001b[0m                         Traceback (most recent call last)",
      "Input \u001b[0;32mIn [24]\u001b[0m, in \u001b[0;36m<module>\u001b[0;34m\u001b[0m\n\u001b[1;32m    180\u001b[0m regime\u001b[38;5;241m.\u001b[39mload_all_results()\n\u001b[1;32m    181\u001b[0m \u001b[38;5;28;01mfor\u001b[39;00m i \u001b[38;5;129;01min\u001b[39;00m \u001b[38;5;28mrange\u001b[39m(\u001b[38;5;241m1\u001b[39m, regime\u001b[38;5;241m.\u001b[39mno_runs \u001b[38;5;241m+\u001b[39m \u001b[38;5;241m1\u001b[39m):\n\u001b[0;32m--> 182\u001b[0m     \u001b[43mregime\u001b[49m\u001b[38;5;241;43m.\u001b[39;49m\u001b[43mloop_until\u001b[49m\u001b[43m(\u001b[49m\u001b[43mi\u001b[49m\u001b[43m,\u001b[49m\u001b[43m \u001b[49m\u001b[38;5;241;43m100\u001b[39;49m\u001b[43m)\u001b[49m\n\u001b[1;32m    183\u001b[0m \u001b[38;5;28;01mdel\u001b[39;00m regime\n",
      "File \u001b[0;32m~/git/chess-ai-backend/src/cache.py:36\u001b[0m, in \u001b[0;36mTrainingRegime.loop_until\u001b[0;34m(self, run_no, until_epoch)\u001b[0m\n\u001b[1;32m     34\u001b[0m \u001b[38;5;28;01mfor\u001b[39;00m epoch_no \u001b[38;5;129;01min\u001b[39;00m \u001b[38;5;28mrange\u001b[39m(start_epoch, until_epoch \u001b[38;5;241m+\u001b[39m \u001b[38;5;241m1\u001b[39m):\n\u001b[1;32m     35\u001b[0m     \u001b[38;5;28mself\u001b[39m\u001b[38;5;241m.\u001b[39mtrain_until(run_no, epoch_no)\n\u001b[0;32m---> 36\u001b[0m     \u001b[38;5;28;43mself\u001b[39;49m\u001b[38;5;241;43m.\u001b[39;49m\u001b[43mtest_and_append_results\u001b[49m\u001b[43m(\u001b[49m\u001b[43mrun_no\u001b[49m\u001b[43m)\u001b[49m\n\u001b[1;32m     37\u001b[0m \u001b[38;5;28mself\u001b[39m\u001b[38;5;241m.\u001b[39msave_model(run_no)\n\u001b[1;32m     38\u001b[0m \u001b[38;5;28mself\u001b[39m\u001b[38;5;241m.\u001b[39msave_results(run_no)\n",
      "File \u001b[0;32m~/git/chess-ai-backend/src/cache.py:100\u001b[0m, in \u001b[0;36mTrainingRegime.test_and_append_results\u001b[0;34m(self, run_no)\u001b[0m\n\u001b[1;32m     98\u001b[0m epoch_no \u001b[38;5;241m=\u001b[39m \u001b[38;5;28mself\u001b[39m\u001b[38;5;241m.\u001b[39mget_loaded_epoch_count(run_no)\n\u001b[1;32m     99\u001b[0m results \u001b[38;5;241m=\u001b[39m \u001b[38;5;28mself\u001b[39m\u001b[38;5;241m.\u001b[39mget_loaded_results(run_no)\n\u001b[0;32m--> 100\u001b[0m measurements \u001b[38;5;241m=\u001b[39m \u001b[38;5;28;43mself\u001b[39;49m\u001b[38;5;241;43m.\u001b[39;49m\u001b[43mtest\u001b[49m\u001b[43m(\u001b[49m\u001b[43mrun_no\u001b[49m\u001b[43m)\u001b[49m\n\u001b[1;32m    101\u001b[0m results[\u001b[38;5;124m\"\u001b[39m\u001b[38;5;124mepoch\u001b[39m\u001b[38;5;124m\"\u001b[39m]\u001b[38;5;241m.\u001b[39mappend(epoch_no)\n\u001b[1;32m    102\u001b[0m \u001b[38;5;28;01mfor\u001b[39;00m idx, test_metric \u001b[38;5;129;01min\u001b[39;00m \u001b[38;5;28menumerate\u001b[39m(\u001b[38;5;28mself\u001b[39m\u001b[38;5;241m.\u001b[39mtests):\n",
      "File \u001b[0;32m~/git/chess-ai-backend/src/cache.py:93\u001b[0m, in \u001b[0;36mTrainingRegime.test\u001b[0;34m(self, run_no)\u001b[0m\n\u001b[1;32m     86\u001b[0m     \u001b[38;5;28;01mdef\u001b[39;00m \u001b[38;5;21mit\u001b[39m():\n\u001b[1;32m     87\u001b[0m         \u001b[38;5;28;01mreturn\u001b[39;00m tqdm(\n\u001b[1;32m     88\u001b[0m             loader, \n\u001b[1;32m     89\u001b[0m             desc\u001b[38;5;241m=\u001b[39m\u001b[38;5;124m\"\u001b[39m\u001b[38;5;124m[\u001b[39m\u001b[38;5;132;01m%s\u001b[39;00m\u001b[38;5;124m] Run #\u001b[39m\u001b[38;5;132;01m%s\u001b[39;00m\u001b[38;5;124m, Epoch #\u001b[39m\u001b[38;5;132;01m%s\u001b[39;00m\u001b[38;5;124m, Testing [\u001b[39m\u001b[38;5;132;01m%s\u001b[39;00m\u001b[38;5;124m]\u001b[39m\u001b[38;5;124m\"\u001b[39m \n\u001b[1;32m     90\u001b[0m             \u001b[38;5;241m%\u001b[39m (\u001b[38;5;28mself\u001b[39m\u001b[38;5;241m.\u001b[39mregime_str(), run_no, epoch_no, test_metric\u001b[38;5;241m.\u001b[39mname()), \n\u001b[1;32m     91\u001b[0m             leave\u001b[38;5;241m=\u001b[39m\u001b[38;5;28;01mFalse\u001b[39;00m\n\u001b[1;32m     92\u001b[0m         )\n\u001b[0;32m---> 93\u001b[0m     measurements[idx] \u001b[38;5;241m=\u001b[39m \u001b[43mtest_metric\u001b[49m\u001b[38;5;241;43m.\u001b[39;49m\u001b[43mmeasure_model\u001b[49m\u001b[43m(\u001b[49m\u001b[43mmodel\u001b[49m\u001b[43m,\u001b[49m\u001b[43m \u001b[49m\u001b[43mit\u001b[49m\u001b[43m)\u001b[49m\n\u001b[1;32m     95\u001b[0m \u001b[38;5;28;01mreturn\u001b[39;00m measurements\n",
      "Input \u001b[0;32mIn [7]\u001b[0m, in \u001b[0;36mOutputDistanceMetric.measure_model\u001b[0;34m(self, model, it)\u001b[0m\n\u001b[1;32m     65\u001b[0m \u001b[38;5;28;01mfor\u001b[39;00m bs \u001b[38;5;129;01min\u001b[39;00m it():\n\u001b[1;32m     66\u001b[0m     bs \u001b[38;5;241m=\u001b[39m model\u001b[38;5;241m.\u001b[39m_logic\u001b[38;5;241m.\u001b[39mencode(bs\u001b[38;5;241m.\u001b[39mto(device))\n\u001b[0;32m---> 67\u001b[0m     pred \u001b[38;5;241m=\u001b[39m \u001b[43mmodel\u001b[49m\u001b[43m(\u001b[49m\u001b[43mbs\u001b[49m\u001b[43m)\u001b[49m\u001b[38;5;241m.\u001b[39mflatten()\n\u001b[1;32m     68\u001b[0m     true \u001b[38;5;241m=\u001b[39m true_conjunction(\u001b[38;5;28mself\u001b[39m\u001b[38;5;241m.\u001b[39mideal_params, bs)\n\u001b[1;32m     69\u001b[0m     correct \u001b[38;5;241m+\u001b[39m\u001b[38;5;241m=\u001b[39m (pred \u001b[38;5;241m-\u001b[39m true\u001b[38;5;241m.\u001b[39mfloat())\u001b[38;5;241m.\u001b[39mabs()\u001b[38;5;241m.\u001b[39msum()\u001b[38;5;241m.\u001b[39mitem()\n",
      "File \u001b[0;32m~/anaconda3/lib/python3.9/site-packages/torch/nn/modules/module.py:1102\u001b[0m, in \u001b[0;36mModule._call_impl\u001b[0;34m(self, *input, **kwargs)\u001b[0m\n\u001b[1;32m   1098\u001b[0m \u001b[38;5;66;03m# If we don't have any hooks, we want to skip the rest of the logic in\u001b[39;00m\n\u001b[1;32m   1099\u001b[0m \u001b[38;5;66;03m# this function, and just call forward.\u001b[39;00m\n\u001b[1;32m   1100\u001b[0m \u001b[38;5;28;01mif\u001b[39;00m \u001b[38;5;129;01mnot\u001b[39;00m (\u001b[38;5;28mself\u001b[39m\u001b[38;5;241m.\u001b[39m_backward_hooks \u001b[38;5;129;01mor\u001b[39;00m \u001b[38;5;28mself\u001b[39m\u001b[38;5;241m.\u001b[39m_forward_hooks \u001b[38;5;129;01mor\u001b[39;00m \u001b[38;5;28mself\u001b[39m\u001b[38;5;241m.\u001b[39m_forward_pre_hooks \u001b[38;5;129;01mor\u001b[39;00m _global_backward_hooks\n\u001b[1;32m   1101\u001b[0m         \u001b[38;5;129;01mor\u001b[39;00m _global_forward_hooks \u001b[38;5;129;01mor\u001b[39;00m _global_forward_pre_hooks):\n\u001b[0;32m-> 1102\u001b[0m     \u001b[38;5;28;01mreturn\u001b[39;00m \u001b[43mforward_call\u001b[49m\u001b[43m(\u001b[49m\u001b[38;5;241;43m*\u001b[39;49m\u001b[38;5;28;43minput\u001b[39;49m\u001b[43m,\u001b[49m\u001b[43m \u001b[49m\u001b[38;5;241;43m*\u001b[39;49m\u001b[38;5;241;43m*\u001b[39;49m\u001b[43mkwargs\u001b[49m\u001b[43m)\u001b[49m\n\u001b[1;32m   1103\u001b[0m \u001b[38;5;66;03m# Do not call functions when jit is used\u001b[39;00m\n\u001b[1;32m   1104\u001b[0m full_backward_hooks, non_full_backward_hooks \u001b[38;5;241m=\u001b[39m [], []\n",
      "File \u001b[0;32m~/git/chess-ai-backend/src/model/fuzzy_layer.py:191\u001b[0m, in \u001b[0;36mFuzzyUnsignedConjunction.forward\u001b[0;34m(self, input)\u001b[0m\n\u001b[1;32m    189\u001b[0m \u001b[38;5;28minput\u001b[39m \u001b[38;5;241m=\u001b[39m \u001b[38;5;28minput\u001b[39m\u001b[38;5;241m.\u001b[39munsqueeze(\u001b[38;5;241m-\u001b[39m\u001b[38;5;241m1\u001b[39m)\n\u001b[1;32m    190\u001b[0m weights \u001b[38;5;241m=\u001b[39m \u001b[38;5;28mself\u001b[39m\u001b[38;5;241m.\u001b[39mweights\u001b[38;5;241m.\u001b[39mvalue()\n\u001b[0;32m--> 191\u001b[0m pre_drop \u001b[38;5;241m=\u001b[39m \u001b[38;5;28;43mself\u001b[39;49m\u001b[38;5;241;43m.\u001b[39;49m\u001b[43m_logic\u001b[49m\u001b[38;5;241;43m.\u001b[39;49m\u001b[43mimplies\u001b[49m\u001b[43m(\u001b[49m\u001b[43mweights\u001b[49m\u001b[43m,\u001b[49m\u001b[43m \u001b[49m\u001b[38;5;28;43minput\u001b[39;49m\u001b[43m)\u001b[49m\n\u001b[1;32m    192\u001b[0m post_drop \u001b[38;5;241m=\u001b[39m (\n\u001b[1;32m    193\u001b[0m     take_rand_n(pre_drop, \u001b[38;5;28mself\u001b[39m\u001b[38;5;241m.\u001b[39mkeepn(), dim\u001b[38;5;241m=\u001b[39m\u001b[38;5;241m-\u001b[39m\u001b[38;5;241m2\u001b[39m)\n\u001b[1;32m    194\u001b[0m     \u001b[38;5;28;01mif\u001b[39;00m \u001b[38;5;28mself\u001b[39m\u001b[38;5;241m.\u001b[39mkeepn() \u001b[38;5;129;01mis\u001b[39;00m \u001b[38;5;129;01mnot\u001b[39;00m \u001b[38;5;28;01mNone\u001b[39;00m\n\u001b[1;32m    195\u001b[0m     \u001b[38;5;28;01melse\u001b[39;00m pre_drop\n\u001b[1;32m    196\u001b[0m )\n\u001b[1;32m    197\u001b[0m \u001b[38;5;28;01mreturn\u001b[39;00m \u001b[38;5;28mself\u001b[39m\u001b[38;5;241m.\u001b[39m_logic\u001b[38;5;241m.\u001b[39mconjoin(post_drop, dim\u001b[38;5;241m=\u001b[39m\u001b[38;5;241m1\u001b[39m)\n",
      "File \u001b[0;32m~/git/chess-ai-backend/src/model/logic.py:61\u001b[0m, in \u001b[0;36mLogic.implies\u001b[0;34m(self, a, b)\u001b[0m\n\u001b[1;32m     54\u001b[0m \u001b[38;5;124;03m\"\"\"\u001b[39;00m\n\u001b[1;32m     55\u001b[0m \u001b[38;5;124;03mThe impliciation operator `=>`.\u001b[39;00m\n\u001b[1;32m     56\u001b[0m \u001b[38;5;124;03m\"\"\"\u001b[39;00m\n\u001b[1;32m     57\u001b[0m \u001b[38;5;66;03m# This definition is not the residuum. The residuum should\u001b[39;00m\n\u001b[1;32m     58\u001b[0m \u001b[38;5;66;03m# be constructed as the adjoint of conjunction, but\u001b[39;00m\n\u001b[1;32m     59\u001b[0m \u001b[38;5;66;03m# the following is suitable for neurosymbolic learning\u001b[39;00m\n\u001b[1;32m     60\u001b[0m \u001b[38;5;66;03m# purposes (for now?)\u001b[39;00m\n\u001b[0;32m---> 61\u001b[0m \u001b[38;5;28;01mreturn\u001b[39;00m \u001b[38;5;28mself\u001b[39m\u001b[38;5;241m.\u001b[39mneg(\u001b[38;5;28;43mself\u001b[39;49m\u001b[38;5;241;43m.\u001b[39;49m\u001b[43mbin_conjoin\u001b[49m\u001b[43m(\u001b[49m\u001b[43ma\u001b[49m\u001b[43m,\u001b[49m\u001b[43m \u001b[49m\u001b[38;5;28;43mself\u001b[39;49m\u001b[38;5;241;43m.\u001b[39;49m\u001b[43mneg\u001b[49m\u001b[43m(\u001b[49m\u001b[43mb\u001b[49m\u001b[43m)\u001b[49m\u001b[43m)\u001b[49m)\n",
      "File \u001b[0;32m~/git/chess-ai-backend/src/model/logic.py:32\u001b[0m, in \u001b[0;36mLogic.bin_conjoin\u001b[0;34m(self, a, b)\u001b[0m\n\u001b[1;32m     27\u001b[0m \u001b[38;5;28;01mdef\u001b[39;00m \u001b[38;5;21mbin_conjoin\u001b[39m(\u001b[38;5;28mself\u001b[39m, a: Tensor, b: Tensor) \u001b[38;5;241m-\u001b[39m\u001b[38;5;241m>\u001b[39m Tensor:\n\u001b[1;32m     28\u001b[0m     \u001b[38;5;124;03m\"\"\"\u001b[39;00m\n\u001b[1;32m     29\u001b[0m \u001b[38;5;124;03m    Take the conjunction of two values. \u001b[39;00m\n\u001b[1;32m     30\u001b[0m \u001b[38;5;124;03m    This is referred to as the t-norm in fuzzy logic.\u001b[39;00m\n\u001b[1;32m     31\u001b[0m \u001b[38;5;124;03m    \"\"\"\u001b[39;00m\n\u001b[0;32m---> 32\u001b[0m     a, b \u001b[38;5;241m=\u001b[39m \u001b[43mmatch_shapes\u001b[49m\u001b[43m(\u001b[49m\u001b[43ma\u001b[49m\u001b[43m,\u001b[49m\u001b[43m \u001b[49m\u001b[43mb\u001b[49m\u001b[43m)\u001b[49m\n\u001b[1;32m     33\u001b[0m     \u001b[38;5;28;01mreturn\u001b[39;00m \u001b[38;5;28mself\u001b[39m\u001b[38;5;241m.\u001b[39mconjoin(torch\u001b[38;5;241m.\u001b[39mcat([a\u001b[38;5;241m.\u001b[39munsqueeze(\u001b[38;5;241m0\u001b[39m), b\u001b[38;5;241m.\u001b[39munsqueeze(\u001b[38;5;241m0\u001b[39m)], dim\u001b[38;5;241m=\u001b[39m\u001b[38;5;241m0\u001b[39m), dim\u001b[38;5;241m=\u001b[39m\u001b[38;5;241m0\u001b[39m)\n",
      "File \u001b[0;32m~/git/chess-ai-backend/src/util.py:33\u001b[0m, in \u001b[0;36mmatch_shapes\u001b[0;34m(*args)\u001b[0m\n\u001b[1;32m     29\u001b[0m shapes \u001b[38;5;241m=\u001b[39m [\n\u001b[1;32m     30\u001b[0m     torch\u001b[38;5;241m.\u001b[39mcat((torch\u001b[38;5;241m.\u001b[39mones(max_len \u001b[38;5;241m-\u001b[39m \u001b[38;5;28mlen\u001b[39m(shape)), shape), dim\u001b[38;5;241m=\u001b[39m\u001b[38;5;241m0\u001b[39m) \u001b[38;5;28;01mfor\u001b[39;00m shape \u001b[38;5;129;01min\u001b[39;00m shapes\n\u001b[1;32m     31\u001b[0m ]\n\u001b[1;32m     32\u001b[0m shapes \u001b[38;5;241m=\u001b[39m torch\u001b[38;5;241m.\u001b[39mstack(shapes, dim\u001b[38;5;241m=\u001b[39m\u001b[38;5;241m0\u001b[39m)\u001b[38;5;241m.\u001b[39mint()\n\u001b[0;32m---> 33\u001b[0m preferred_shape \u001b[38;5;241m=\u001b[39m \u001b[43mshapes\u001b[49m\u001b[38;5;241;43m.\u001b[39;49m\u001b[43mmax\u001b[49m\u001b[43m(\u001b[49m\u001b[43mdim\u001b[49m\u001b[38;5;241;43m=\u001b[39;49m\u001b[38;5;241;43m0\u001b[39;49m\u001b[43m)\u001b[49m\u001b[38;5;241m.\u001b[39mvalues\n\u001b[1;32m     34\u001b[0m shapes_fit \u001b[38;5;241m=\u001b[39m (\n\u001b[1;32m     35\u001b[0m     torch\u001b[38;5;241m.\u001b[39mlogical_or((shapes \u001b[38;5;241m==\u001b[39m preferred_shape), (shapes \u001b[38;5;241m==\u001b[39m \u001b[38;5;241m1\u001b[39m))\u001b[38;5;241m.\u001b[39mprod()\u001b[38;5;241m.\u001b[39mitem() \u001b[38;5;241m==\u001b[39m \u001b[38;5;241m1\u001b[39m\n\u001b[1;32m     36\u001b[0m )\n\u001b[1;32m     37\u001b[0m \u001b[38;5;28;01mif\u001b[39;00m \u001b[38;5;129;01mnot\u001b[39;00m shapes_fit:\n",
      "\u001b[0;31mKeyboardInterrupt\u001b[0m: "
     ]
    }
   ],
   "source": [
    "def defer_regime(*args, **kargs):\n",
    "    def return_regime():\n",
    "        return ConjunctionRegime(*args, **kargs)\n",
    "    return return_regime\n",
    "\n",
    "regimes = [\n",
    "    defer_regime(logic=ProductLogic(), no_dims=10, no_terms=5, no_runs=1, fix_imbalance=True),\n",
    "    #defer_regime(logic=ProductLogic(), no_dims=30, no_terms=5, no_runs=1, fix_imbalance=True),\n",
    "    #defer_regime(logic=ProductLogic(), no_dims=50, no_terms=5, no_runs=1, fix_imbalance=True),\n",
    "    defer_regime(logic=ProductLogic(), no_dims=100, no_terms=5, no_runs=1, fix_imbalance=True),\n",
    "    #defer_regime(logic=ProductLogic(), no_dims=300, no_terms=5, no_runs=1, fix_imbalance=True),\n",
    "    #defer_regime(logic=ProductLogic(), no_dims=500, no_terms=5, no_runs=1, fix_imbalance=True),\n",
    "    defer_regime(logic=ProductLogic(), no_dims=1000, no_terms=5, no_runs=1, fix_imbalance=True),\n",
    "    defer_regime(logic=ProductLogic(), no_dims=10000, no_terms=5, no_runs=1, fix_imbalance=True),\n",
    "    defer_regime(logic=ProductLogic(), no_dims=10, no_terms=5, no_runs=1, keepn=50, fix_imbalance=True),\n",
    "    #defer_regime(logic=ProductLogic(), no_dims=30, no_terms=5, no_runs=1, keepn=50, fix_imbalance=True),\n",
    "    #defer_regime(logic=ProductLogic(), no_dims=50, no_terms=5, no_runs=1, keepn=50, fix_imbalance=True),\n",
    "    defer_regime(logic=ProductLogic(), no_dims=100, no_terms=5, no_runs=1, keepn=50, fix_imbalance=True),\n",
    "    #defer_regime(logic=ProductLogic(), no_dims=300, no_terms=5, no_runs=1, keepn=50, fix_imbalance=True),\n",
    "    #defer_regime(logic=ProductLogic(), no_dims=500, no_terms=5, no_runs=1, keepn=50, fix_imbalance=True),\n",
    "    defer_regime(logic=ProductLogic(), no_dims=1000, no_terms=5, no_runs=1, keepn=50, fix_imbalance=True),\n",
    "    defer_regime(logic=ProductLogic(), no_dims=10000, no_terms=5, no_runs=1, keepn=50, fix_imbalance=True),\n",
    "    defer_regime(logic=ProductLogic(), no_dims=10, no_terms=5, no_runs=1, fix_imbalance=True, optim='sgd'),\n",
    "    defer_regime(logic=ProductLogic(), no_dims=100, no_terms=5, no_runs=1, fix_imbalance=True, optim='sgd'),\n",
    "    defer_regime(logic=ProductLogic(), no_dims=1000, no_terms=5, no_runs=1, fix_imbalance=True, optim='sgd'),\n",
    "    defer_regime(logic=ProductLogic(), no_dims=10, no_terms=5, no_runs=10),\n",
    "    defer_regime(logic=ProductLogic(), no_dims=30, no_terms=5, no_runs=10),\n",
    "    defer_regime(logic=ProductLogic(), no_dims=50, no_terms=5, no_runs=10),\n",
    "    defer_regime(logic=ProductLogic(), no_dims=100, no_terms=5, no_runs=10),\n",
    "    defer_regime(logic=ProductLogic(), no_dims=300, no_terms=5, no_runs=10),\n",
    "    defer_regime(logic=ProductLogic(), no_dims=500, no_terms=5, no_runs=10),\n",
    "    defer_regime(logic=ProductLogic(), no_dims=1000, no_terms=5, no_runs=10),\n",
    "    defer_regime(logic=ProductLogic(), no_dims=10000, no_terms=5, no_runs=10),\n",
    "    defer_regime(logic=ProductLogic(), no_dims=10, no_terms=1, no_runs=10),\n",
    "    defer_regime(logic=ProductLogic(), no_dims=30, no_terms=1, no_runs=10),\n",
    "    defer_regime(logic=ProductLogic(), no_dims=50, no_terms=1, no_runs=10),\n",
    "    defer_regime(logic=ProductLogic(), no_dims=100, no_terms=1, no_runs=10),\n",
    "    defer_regime(logic=ProductLogic(), no_dims=300, no_terms=1, no_runs=10),\n",
    "    defer_regime(logic=ProductLogic(), no_dims=500, no_terms=1, no_runs=10),\n",
    "    defer_regime(logic=ProductLogic(), no_dims=1000, no_terms=1, no_runs=10),\n",
    "    defer_regime(logic=ProductLogic(), no_dims=10000, no_terms=1, no_runs=10),\n",
    "    defer_regime(logic=ProductLogic(), no_dims=10, no_terms=20, no_runs=10),\n",
    "    defer_regime(logic=ProductLogic(), no_dims=30, no_terms=20, no_runs=10),\n",
    "    defer_regime(logic=ProductLogic(), no_dims=50, no_terms=20, no_runs=10),\n",
    "    defer_regime(logic=ProductLogic(), no_dims=100, no_terms=20, no_runs=10),\n",
    "    defer_regime(logic=ProductLogic(), no_dims=300, no_terms=20, no_runs=10),\n",
    "    defer_regime(logic=ProductLogic(), no_dims=500, no_terms=20, no_runs=10),\n",
    "    defer_regime(logic=ProductLogic(), no_dims=1000, no_terms=20, no_runs=10),\n",
    "    defer_regime(logic=ProductLogic(), no_dims=10000, no_terms=20, no_runs=10),\n",
    "    defer_regime(logic=ProductLogic(), no_dims=10, no_terms=5, keepn=50, no_runs=11),\n",
    "    defer_regime(logic=ProductLogic(), no_dims=30, no_terms=5, keepn=50, no_runs=10),\n",
    "    defer_regime(logic=ProductLogic(), no_dims=50, no_terms=5, keepn=50, no_runs=10),\n",
    "    defer_regime(logic=ProductLogic(), no_dims=100, no_terms=5, keepn=50, no_runs=10),\n",
    "    defer_regime(logic=ProductLogic(), no_dims=300, no_terms=5, keepn=50, no_runs=10),\n",
    "    defer_regime(logic=ProductLogic(), no_dims=500, no_terms=5, keepn=50, no_runs=10),\n",
    "    defer_regime(logic=ProductLogic(), no_dims=1000, no_terms=5, keepn=50, no_runs=10),\n",
    "    defer_regime(logic=ProductLogic(), no_dims=10000, no_terms=5, keepn=50, no_runs=3),\n",
    "    defer_regime(logic=ProductLogic(), no_dims=10, no_terms=1, keepn=50, no_runs=10),\n",
    "    defer_regime(logic=ProductLogic(), no_dims=30, no_terms=1, keepn=50, no_runs=10),\n",
    "    defer_regime(logic=ProductLogic(), no_dims=50, no_terms=1, keepn=50, no_runs=10),\n",
    "    defer_regime(logic=ProductLogic(), no_dims=100, no_terms=1, keepn=50, no_runs=10),\n",
    "    defer_regime(logic=ProductLogic(), no_dims=300, no_terms=1, keepn=50, no_runs=10),\n",
    "    defer_regime(logic=ProductLogic(), no_dims=500, no_terms=1, keepn=50, no_runs=10),\n",
    "    defer_regime(logic=ProductLogic(), no_dims=1000, no_terms=1, keepn=50, no_runs=5),\n",
    "    defer_regime(logic=ProductLogic(), no_dims=10000, no_terms=1, keepn=50, no_runs=3),\n",
    "    defer_regime(logic=ProductLogic(), no_dims=10, no_terms=20, keepn=50, no_runs=10),\n",
    "    defer_regime(logic=ProductLogic(), no_dims=30, no_terms=20, keepn=50, no_runs=10),\n",
    "    defer_regime(logic=ProductLogic(), no_dims=50, no_terms=20, keepn=50, no_runs=10),\n",
    "    defer_regime(logic=ProductLogic(), no_dims=100, no_terms=20, keepn=50, no_runs=10),\n",
    "    defer_regime(logic=ProductLogic(), no_dims=300, no_terms=20, keepn=50, no_runs=10),\n",
    "    defer_regime(logic=ProductLogic(), no_dims=500, no_terms=20, keepn=50, no_runs=10),\n",
    "    defer_regime(logic=ProductLogic(), no_dims=1000, no_terms=20, keepn=50, no_runs=5),\n",
    "    defer_regime(logic=ProductLogic(), no_dims=10000, no_terms=20, keepn=50, no_runs=3),\n",
    "    defer_regime(logic=ProductLogic(), no_dims=10, no_terms=5, keepn=50, no_runs=10, lr=1e-1),\n",
    "    defer_regime(logic=ProductLogic(), no_dims=30, no_terms=5, keepn=50, no_runs=10, lr=1e-1),\n",
    "    defer_regime(logic=ProductLogic(), no_dims=50, no_terms=5, keepn=50, no_runs=10, lr=1e-1),\n",
    "    defer_regime(logic=ProductLogic(), no_dims=100, no_terms=5, keepn=50, no_runs=10, lr=1e-1),\n",
    "    defer_regime(logic=ProductLogic(), no_dims=300, no_terms=5, keepn=50, no_runs=10, lr=1e-1),\n",
    "    defer_regime(logic=ProductLogic(), no_dims=500, no_terms=5, keepn=50, no_runs=10, lr=1e-1),\n",
    "    defer_regime(logic=ProductLogic(), no_dims=1000, no_terms=5, keepn=50, no_runs=5, lr=1e-1),\n",
    "    defer_regime(logic=ProductLogic(), no_dims=10000, no_terms=5, keepn=50, no_runs=3, lr=1e-1),\n",
    "    defer_regime(logic=ProductLogic(), no_dims=10, no_terms=5, keepn=50, no_runs=10, lr=1e-0),\n",
    "    defer_regime(logic=ProductLogic(), no_dims=30, no_terms=5, keepn=50, no_runs=10, lr=1e-0),\n",
    "    defer_regime(logic=ProductLogic(), no_dims=50, no_terms=5, keepn=50, no_runs=10, lr=1e-0),\n",
    "    defer_regime(logic=ProductLogic(), no_dims=100, no_terms=5, keepn=50, no_runs=10, lr=1e-0),\n",
    "    defer_regime(logic=ProductLogic(), no_dims=300, no_terms=5, keepn=50, no_runs=10, lr=1e-0),\n",
    "    defer_regime(logic=ProductLogic(), no_dims=500, no_terms=5, keepn=50, no_runs=10, lr=1e-0),\n",
    "    defer_regime(logic=ProductLogic(), no_dims=1000, no_terms=5, keepn=50, no_runs=5, lr=1e-0),\n",
    "    defer_regime(logic=ProductLogic(), no_dims=10000, no_terms=5, keepn=50, no_runs=3, lr=1e-0),\n",
    "    defer_regime(logic=ProductLogic(), no_dims=10, no_terms=5, keepn=50, no_runs=10, optim='sgd'),\n",
    "    defer_regime(logic=ProductLogic(), no_dims=30, no_terms=5, keepn=50, no_runs=10, optim='sgd'),\n",
    "    defer_regime(logic=ProductLogic(), no_dims=50, no_terms=5, keepn=50, no_runs=10, optim='sgd'),\n",
    "    defer_regime(logic=ProductLogic(), no_dims=100, no_terms=5, keepn=50, no_runs=10, optim='sgd'),\n",
    "    defer_regime(logic=ProductLogic(), no_dims=300, no_terms=5, keepn=50, no_runs=10, optim='sgd'),\n",
    "    defer_regime(logic=ProductLogic(), no_dims=500, no_terms=5, keepn=50, no_runs=10, optim='sgd'),\n",
    "    defer_regime(logic=ProductLogic(), no_dims=1000, no_terms=5, keepn=50, no_runs=5, optim='sgd'),\n",
    "    defer_regime(logic=ProductLogic(), no_dims=10000, no_terms=5, keepn=50, no_runs=3, optim='sgd'),\n",
    "    defer_regime(logic=ProductLogic(), no_dims=10, no_terms=5, keepn=50, no_runs=10, lr=1e-1, optim='sgd'),\n",
    "    defer_regime(logic=ProductLogic(), no_dims=30, no_terms=5, keepn=50, no_runs=10, lr=1e-1, optim='sgd'),\n",
    "    defer_regime(logic=ProductLogic(), no_dims=50, no_terms=5, keepn=50, no_runs=10, lr=1e-1, optim='sgd'),\n",
    "    defer_regime(logic=ProductLogic(), no_dims=100, no_terms=5, keepn=50, no_runs=10, lr=1e-1, optim='sgd'),\n",
    "    defer_regime(logic=ProductLogic(), no_dims=300, no_terms=5, keepn=50, no_runs=10, lr=1e-1, optim='sgd'),\n",
    "    defer_regime(logic=ProductLogic(), no_dims=500, no_terms=5, keepn=50, no_runs=10, lr=1e-1, optim='sgd'),\n",
    "    defer_regime(logic=ProductLogic(), no_dims=1000, no_terms=5, keepn=50, no_runs=5, lr=1e-1, optim='sgd'),\n",
    "    defer_regime(logic=ProductLogic(), no_dims=10000, no_terms=5, keepn=50, no_runs=3, lr=1e-1, optim='sgd'),\n",
    "    defer_regime(logic=ProductLogic(), no_dims=10, no_terms=5, keepn=50, no_runs=10, lr=1e-0, optim='sgd'),\n",
    "    defer_regime(logic=ProductLogic(), no_dims=30, no_terms=5, keepn=50, no_runs=10, lr=1e-0, optim='sgd'),\n",
    "    defer_regime(logic=ProductLogic(), no_dims=50, no_terms=5, keepn=50, no_runs=10, lr=1e-0, optim='sgd'),\n",
    "    defer_regime(logic=ProductLogic(), no_dims=100, no_terms=5, keepn=50, no_runs=10, lr=1e-0, optim='sgd'),\n",
    "    defer_regime(logic=ProductLogic(), no_dims=300, no_terms=5, keepn=50, no_runs=10, lr=1e-0, optim='sgd'),\n",
    "    defer_regime(logic=ProductLogic(), no_dims=500, no_terms=5, keepn=50, no_runs=10, lr=1e-0, optim='sgd'),\n",
    "    defer_regime(logic=ProductLogic(), no_dims=1000, no_terms=5, keepn=50, no_runs=5, lr=1e-0, optim='sgd'),\n",
    "    defer_regime(logic=ProductLogic(), no_dims=10000, no_terms=5, keepn=50, no_runs=3, lr=1e-0, optim='sgd'),\n",
    "    defer_regime(logic=MinimumLogic(), no_dims=10, no_terms=5, keepn=50, no_runs=10),\n",
    "    defer_regime(logic=MinimumLogic(), no_dims=30, no_terms=5, keepn=50, no_runs=10),\n",
    "    defer_regime(logic=MinimumLogic(), no_dims=50, no_terms=5, keepn=50, no_runs=10),\n",
    "    defer_regime(logic=MinimumLogic(), no_dims=100, no_terms=5, keepn=50, no_runs=10),\n",
    "    defer_regime(logic=MinimumLogic(), no_dims=300, no_terms=5, keepn=50, no_runs=10),\n",
    "    defer_regime(logic=MinimumLogic(), no_dims=500, no_terms=5, keepn=50, no_runs=10),\n",
    "    defer_regime(logic=MinimumLogic(), no_dims=1000, no_terms=5, keepn=50, no_runs=5),\n",
    "    defer_regime(logic=MinimumLogic(), no_dims=10000, no_terms=5, keepn=50, no_runs=3),\n",
    "    defer_regime(logic=MinimumLogic(), no_dims=10, no_terms=5, keepn=50, no_runs=10, lr=1e-1),\n",
    "    defer_regime(logic=MinimumLogic(), no_dims=30, no_terms=5, keepn=50, no_runs=10, lr=1e-1),\n",
    "    defer_regime(logic=MinimumLogic(), no_dims=50, no_terms=5, keepn=50, no_runs=10, lr=1e-1),\n",
    "    defer_regime(logic=MinimumLogic(), no_dims=100, no_terms=5, keepn=50, no_runs=10, lr=1e-1),\n",
    "    defer_regime(logic=MinimumLogic(), no_dims=300, no_terms=5, keepn=50, no_runs=10, lr=1e-1),\n",
    "    defer_regime(logic=MinimumLogic(), no_dims=500, no_terms=5, keepn=50, no_runs=10, lr=1e-1),\n",
    "    defer_regime(logic=MinimumLogic(), no_dims=1000, no_terms=5, keepn=50, no_runs=5, lr=1e-1),\n",
    "    defer_regime(logic=MinimumLogic(), no_dims=10000, no_terms=5, keepn=50, no_runs=3, lr=1e-1),\n",
    "    defer_regime(logic=MinimumLogic(), no_dims=10, no_terms=5, keepn=50, no_runs=10, lr=1e-0),\n",
    "    defer_regime(logic=MinimumLogic(), no_dims=30, no_terms=5, keepn=50, no_runs=10, lr=1e-0),\n",
    "    defer_regime(logic=MinimumLogic(), no_dims=50, no_terms=5, keepn=50, no_runs=10, lr=1e-0),\n",
    "    defer_regime(logic=MinimumLogic(), no_dims=100, no_terms=5, keepn=50, no_runs=10, lr=1e-0),\n",
    "    defer_regime(logic=MinimumLogic(), no_dims=300, no_terms=5, keepn=50, no_runs=10, lr=1e-0),\n",
    "    defer_regime(logic=MinimumLogic(), no_dims=500, no_terms=5, keepn=50, no_runs=10, lr=1e-0),\n",
    "    defer_regime(logic=MinimumLogic(), no_dims=1000, no_terms=5, keepn=50, no_runs=5, lr=1e-0),\n",
    "    defer_regime(logic=MinimumLogic(), no_dims=10000, no_terms=5, keepn=50, no_runs=3, lr=1e-0),\n",
    "    defer_regime(logic=MinimumLogic(), no_dims=10, no_terms=5, keepn=50, no_runs=10, optim='sgd'),\n",
    "    defer_regime(logic=MinimumLogic(), no_dims=30, no_terms=5, keepn=50, no_runs=10, optim='sgd'),\n",
    "    defer_regime(logic=MinimumLogic(), no_dims=50, no_terms=5, keepn=50, no_runs=10, optim='sgd'),\n",
    "    defer_regime(logic=MinimumLogic(), no_dims=100, no_terms=5, keepn=50, no_runs=10, optim='sgd'),\n",
    "    defer_regime(logic=MinimumLogic(), no_dims=300, no_terms=5, keepn=50, no_runs=10, optim='sgd'),\n",
    "    defer_regime(logic=MinimumLogic(), no_dims=500, no_terms=5, keepn=50, no_runs=10, optim='sgd'),\n",
    "    defer_regime(logic=MinimumLogic(), no_dims=1000, no_terms=5, keepn=50, no_runs=5, optim='sgd'),\n",
    "    defer_regime(logic=MinimumLogic(), no_dims=10000, no_terms=5, keepn=50, no_runs=3, optim='sgd'),\n",
    "    defer_regime(logic=MinimumLogic(), no_dims=10, no_terms=5, keepn=50, no_runs=10, lr=1e-1, optim='sgd'),\n",
    "    defer_regime(logic=MinimumLogic(), no_dims=30, no_terms=5, keepn=50, no_runs=10, lr=1e-1, optim='sgd'),\n",
    "    defer_regime(logic=MinimumLogic(), no_dims=50, no_terms=5, keepn=50, no_runs=10, lr=1e-1, optim='sgd'),\n",
    "    defer_regime(logic=MinimumLogic(), no_dims=100, no_terms=5, keepn=50, no_runs=10, lr=1e-1, optim='sgd'),\n",
    "    defer_regime(logic=MinimumLogic(), no_dims=300, no_terms=5, keepn=50, no_runs=10, lr=1e-1, optim='sgd'),\n",
    "    defer_regime(logic=MinimumLogic(), no_dims=500, no_terms=5, keepn=50, no_runs=10, lr=1e-1, optim='sgd'),\n",
    "    defer_regime(logic=MinimumLogic(), no_dims=1000, no_terms=5, keepn=50, no_runs=5, lr=1e-1, optim='sgd'),\n",
    "    defer_regime(logic=MinimumLogic(), no_dims=10000, no_terms=5, keepn=50, no_runs=3, lr=1e-1, optim='sgd'),\n",
    "    defer_regime(logic=MinimumLogic(), no_dims=10, no_terms=5, keepn=50, no_runs=10, lr=1e-0, optim='sgd'),\n",
    "    defer_regime(logic=MinimumLogic(), no_dims=30, no_terms=5, keepn=50, no_runs=10, lr=1e-0, optim='sgd'),\n",
    "    defer_regime(logic=MinimumLogic(), no_dims=50, no_terms=5, keepn=50, no_runs=10, lr=1e-0, optim='sgd'),\n",
    "    defer_regime(logic=MinimumLogic(), no_dims=100, no_terms=5, keepn=50, no_runs=10, lr=1e-0, optim='sgd'),\n",
    "    defer_regime(logic=MinimumLogic(), no_dims=300, no_terms=5, keepn=50, no_runs=10, lr=1e-0, optim='sgd'),\n",
    "    defer_regime(logic=MinimumLogic(), no_dims=500, no_terms=5, keepn=50, no_runs=5, lr=1e-0, optim='sgd'),\n",
    "    defer_regime(logic=MinimumLogic(), no_dims=1000, no_terms=5, keepn=50, no_runs=3, lr=1e-0, optim='sgd'),\n",
    "    defer_regime(logic=MinimumLogic(), no_dims=10000, no_terms=5, keepn=50, no_runs=5, lr=1e-0, optim='sgd'),\n",
    "    defer_regime(logic=SchweizerSklarLogic(torch.tensor(-2.0).to(device)), no_dims=10, no_terms=5, keepn=50, no_runs=10),\n",
    "    defer_regime(logic=SchweizerSklarLogic(torch.tensor(-2.0).to(device)), no_dims=30, no_terms=5, keepn=50, no_runs=10),\n",
    "    defer_regime(logic=SchweizerSklarLogic(torch.tensor(-2.0).to(device)), no_dims=50, no_terms=5, keepn=50, no_runs=10),\n",
    "    defer_regime(logic=SchweizerSklarLogic(torch.tensor(-2.0).to(device)), no_dims=100, no_terms=5, keepn=50, no_runs=10),\n",
    "    defer_regime(logic=SchweizerSklarLogic(torch.tensor(-2.0).to(device)), no_dims=300, no_terms=5, keepn=50, no_runs=10),\n",
    "    defer_regime(logic=SchweizerSklarLogic(torch.tensor(-2.0).to(device)), no_dims=500, no_terms=5, keepn=50, no_runs=10),\n",
    "    defer_regime(logic=SchweizerSklarLogic(torch.tensor(-2.0).to(device)), no_dims=1000, no_terms=5, keepn=50, no_runs=5),\n",
    "    defer_regime(logic=SchweizerSklarLogic(torch.tensor(-2.0).to(device)), no_dims=10000, no_terms=5, keepn=50, no_runs=3),\n",
    "    defer_regime(logic=LukasiewiczLogic(), no_dims=10, no_terms=5, keepn=50, no_runs=10),\n",
    "    defer_regime(logic=LukasiewiczLogic(), no_dims=30, no_terms=5, keepn=50, no_runs=10),\n",
    "    defer_regime(logic=LukasiewiczLogic(), no_dims=50, no_terms=5, keepn=50, no_runs=10),\n",
    "    defer_regime(logic=LukasiewiczLogic(), no_dims=100, no_terms=5, keepn=50, no_runs=10),\n",
    "]\n",
    "\n",
    "if True:\n",
    "    for regime_f in regimes:\n",
    "        regime = regime_f()\n",
    "        regime.load_latest_models()\n",
    "        regime.load_all_results()\n",
    "        for i in range(1, regime.no_runs + 1):\n",
    "            regime.loop_until(i, 100)\n",
    "        del regime"
   ]
  },
  {
   "cell_type": "code",
   "execution_count": 21,
   "id": "28f24433",
   "metadata": {},
   "outputs": [],
   "source": [
    "import matplotlib.cm as cm\n",
    "import matplotlib.patches as mpatches\n",
    "\n",
    "def plot_regime(regime, metric, color, ax):\n",
    "    \n",
    "    try:\n",
    "\n",
    "        regime.load_latest_models()\n",
    "        regime.load_all_results()\n",
    "\n",
    "        for i in range(0, 10):\n",
    "            if regime.results[i] is None:\n",
    "                if i == 0:\n",
    "                    return False\n",
    "                break\n",
    "            plt.plot(\n",
    "                regime.results[i]['epoch'], \n",
    "                regime.results[i][metric],\n",
    "                color=color,\n",
    "                alpha=0.3\n",
    "            )\n",
    "\n",
    "        return True\n",
    "    \n",
    "    except:\n",
    "        return False\n",
    "        \n",
    "def plot_regimes_over_logics(\n",
    "    ax,\n",
    "    metric='correct-param',\n",
    "    #logic, \n",
    "    no_dims=1000, \n",
    "    no_terms=5, \n",
    "    no_runs=11, \n",
    "    keepn=50, \n",
    "    optim='adam', \n",
    "    lr=1e-2,\n",
    "    fix_imbalance=False\n",
    "):\n",
    "    logics = [\n",
    "        ProductLogic(),\n",
    "        MinimumLogic(),\n",
    "        SchweizerSklarLogic(torch.tensor(-2.0).to(device)),\n",
    "        LukasiewiczLogic(),\n",
    "    ]\n",
    "    \n",
    "    logic_labels = [\n",
    "        \"Product Logic\",\n",
    "        \"Minimum Logic\",\n",
    "        \"Schweizer-Sklar Logic (b = -2.0)\",\n",
    "        \"Lukasiewicz Logic\"\n",
    "    ]\n",
    "    \n",
    "    ax.set_xlabel(\"epoch\")\n",
    "    ax.set_ylabel(metric)\n",
    "    ax.set_xlim(1,100)\n",
    "    \n",
    "    lines = []\n",
    "    \n",
    "    for idx, logic in enumerate(logics):\n",
    "        regime = ConjunctionRegime(logic=logic, no_dims=no_dims, no_terms=no_terms, keepn=keepn, no_runs=no_runs, optim=optim, lr=lr, fix_imbalance=fix_imbalance)\n",
    "        color = cm.Dark2(idx / ((len(logics) - 1)))\n",
    "        if plot_regime(regime, metric, color, ax):\n",
    "            lines.append(mpatches.Patch(color=color, label=logic_labels[idx]))\n",
    "                    \n",
    "    ax.legend(handles=lines)\n",
    "    \n",
    "    \n",
    "def plot_regimes_over_ndims(\n",
    "    ax,\n",
    "    metric='correct-param',\n",
    "    logic=ProductLogic(), \n",
    "    #no_dims=1000, \n",
    "    no_terms=5, \n",
    "    no_runs=11, \n",
    "    keepn=50, \n",
    "    optim='adam', \n",
    "    lr=1e-2,\n",
    "    fix_imbalance=False\n",
    "):\n",
    "    \n",
    "    no_dims = [\n",
    "        10, \n",
    "        #30, \n",
    "        #50, \n",
    "        100, \n",
    "        #300, \n",
    "        #500, \n",
    "        1000, \n",
    "        10000\n",
    "    ]\n",
    "    \n",
    "    ax.set_xlabel(\"epoch\")\n",
    "    ax.set_ylabel(metric)\n",
    "    ax.set_xlim(1,100)\n",
    "    \n",
    "    lines = []\n",
    "    \n",
    "    for idx, no_dim in enumerate(no_dims):\n",
    "        regime = ConjunctionRegime(logic=logic, no_dims=no_dim, no_terms=no_terms, keepn=keepn, no_runs=no_runs, optim=optim, lr=lr, fix_imbalance=fix_imbalance)\n",
    "        color = cm.rainbow(idx / (len(no_dims) - 1))\n",
    "        if plot_regime(regime, metric, color, ax):\n",
    "            lines.append(mpatches.Patch(color=color, label=\"D = %s\" % no_dim))\n",
    "                    \n",
    "    ax.legend(handles=lines)"
   ]
  },
  {
   "cell_type": "markdown",
   "id": "2125b63a",
   "metadata": {},
   "source": [
    "Fig 2.6"
   ]
  },
  {
   "cell_type": "code",
   "execution_count": null,
   "id": "7f59f2fc",
   "metadata": {},
   "outputs": [],
   "source": [
    "fig, ax = plt.subplots()\n",
    "\n",
    "plot_regimes_over_logics(ax, no_dims=100)"
   ]
  },
  {
   "cell_type": "code",
   "execution_count": null,
   "id": "742b12a1",
   "metadata": {},
   "outputs": [],
   "source": [
    "fig, ax = plt.subplots()\n",
    "\n",
    "plot_regimes_over_logics(ax, no_dims=100, metric='param-mean-distance')"
   ]
  },
  {
   "cell_type": "code",
   "execution_count": null,
   "id": "78052ebc",
   "metadata": {},
   "outputs": [],
   "source": [
    "fig, ax = plt.subplots()\n",
    "\n",
    "plot_regimes_over_logics(ax, no_dims=10000)"
   ]
  },
  {
   "cell_type": "code",
   "execution_count": null,
   "id": "4d78cb59",
   "metadata": {},
   "outputs": [],
   "source": [
    "fig, ax = plt.subplots()\n",
    "\n",
    "plot_regimes_over_logics(ax, no_dims=10000, metric='param-mean-distance')"
   ]
  },
  {
   "cell_type": "markdown",
   "id": "1482aac2",
   "metadata": {},
   "source": [
    "Fig 2.3"
   ]
  },
  {
   "cell_type": "code",
   "execution_count": null,
   "id": "2e4e3683",
   "metadata": {},
   "outputs": [],
   "source": [
    "fig, ax = plt.subplots()\n",
    "\n",
    "plot_regimes_over_ndims(ax, metric='param-mean-distance', logic=ProductLogic(), keepn=None, no_terms=1)"
   ]
  },
  {
   "cell_type": "code",
   "execution_count": null,
   "id": "b3203c6e",
   "metadata": {},
   "outputs": [],
   "source": [
    "fig, ax = plt.subplots()\n",
    "\n",
    "plot_regimes_over_ndims(ax, metric='param-mean-distance', logic=ProductLogic(), keepn=None)"
   ]
  },
  {
   "cell_type": "code",
   "execution_count": null,
   "id": "2a9e2aa7",
   "metadata": {},
   "outputs": [],
   "source": [
    "fig, ax = plt.subplots()\n",
    "\n",
    "plot_regimes_over_ndims(ax, metric='param-mean-distance', logic=ProductLogic())"
   ]
  },
  {
   "cell_type": "code",
   "execution_count": null,
   "id": "6575de9c",
   "metadata": {},
   "outputs": [],
   "source": [
    "fig, ax = plt.subplots()\n",
    "\n",
    "plot_regimes_over_ndims(ax, metric='param-mean-distance', logic=ProductLogic(), optim='sgd')"
   ]
  },
  {
   "cell_type": "markdown",
   "id": "560c2ceb",
   "metadata": {},
   "source": [
    "Fig 2.4"
   ]
  },
  {
   "cell_type": "code",
   "execution_count": 18,
   "id": "8bfabc26",
   "metadata": {},
   "outputs": [
    {
     "data": {
      "image/png": "[encoded data removed]",
      "text/plain": [
       "<Figure size 432x288 with 1 Axes>"
      ]
     },
     "metadata": {
      "needs_background": "light"
     },
     "output_type": "display_data"
    }
   ],
   "source": [
    "fig, ax = plt.subplots()\n",
    "\n",
    "plot_regimes_over_ndims(ax, metric='param-mean-distance', logic=ProductLogic(), keepn=50, no_terms=1)\n",
    "fig.tight_layout()"
   ]
  },
  {
   "cell_type": "code",
   "execution_count": 22,
   "id": "1c7c721d",
   "metadata": {},
   "outputs": [
    {
     "data": {
      "image/png": "[encoded data removed]",
      "text/plain": [
       "<Figure size 432x288 with 1 Axes>"
      ]
     },
     "metadata": {
      "needs_background": "light"
     },
     "output_type": "display_data"
    }
   ],
   "source": [
    "fig, ax = plt.subplots()\n",
    "\n",
    "plot_regimes_over_ndims(ax, metric='param-mean-distance', logic=ProductLogic(), keepn=50, no_terms=5)\n",
    "\n",
    "fig.tight_layout()"
   ]
  },
  {
   "cell_type": "code",
   "execution_count": 19,
   "id": "d8f72471",
   "metadata": {},
   "outputs": [
    {
     "data": {
      "image/png": "[encoded data removed]",
      "text/plain": [
       "<Figure size 432x288 with 1 Axes>"
      ]
     },
     "metadata": {
      "needs_background": "light"
     },
     "output_type": "display_data"
    }
   ],
   "source": [
    "fig, ax = plt.subplots()\n",
    "\n",
    "plot_regimes_over_ndims(ax, metric='param-mean-distance', logic=ProductLogic(), keepn=50, no_terms=20)\n",
    "\n",
    "fig.tight_layout()"
   ]
  },
  {
   "cell_type": "markdown",
   "id": "f66df76a",
   "metadata": {},
   "source": [
    "Fig 2.5"
   ]
  },
  {
   "cell_type": "code",
   "execution_count": null,
   "id": "7e3bcc0a",
   "metadata": {},
   "outputs": [],
   "source": [
    "fig, ax = plt.subplots()\n",
    "\n",
    "plot_regimes_over_ndims(ax, metric='correct-output', logic=ProductLogic(), keepn=50)\n",
    "\n",
    "fig.tight_layout()"
   ]
  },
  {
   "cell_type": "code",
   "execution_count": null,
   "id": "8576510f",
   "metadata": {},
   "outputs": [],
   "source": [
    "fig, ax = plt.subplots()\n",
    "\n",
    "plot_regimes_over_ndims(ax, metric='correct-param', logic=ProductLogic(), keepn=50)\n",
    "\n",
    "fig.tight_layout()"
   ]
  },
  {
   "cell_type": "code",
   "execution_count": 26,
   "id": "e932f784",
   "metadata": {},
   "outputs": [
    {
     "data": {
      "image/png": "[encoded data removed]",
      "text/plain": [
       "<Figure size 432x288 with 1 Axes>"
      ]
     },
     "metadata": {
      "needs_background": "light"
     },
     "output_type": "display_data"
    }
   ],
   "source": [
    "fig, ax = plt.subplots()\n",
    "\n",
    "plot_regimes_over_ndims(ax, metric='correct-param', logic=ProductLogic(), keepn=None, fix_imbalance=True)\n",
    "\n",
    "fig.tight_layout()"
   ]
  },
  {
   "cell_type": "code",
   "execution_count": null,
   "id": "cd0007a3",
   "metadata": {},
   "outputs": [],
   "source": []
  }
 ],
 "metadata": {
  "kernelspec": {
   "display_name": "Python 3 (ipykernel)",
   "language": "python",
   "name": "python3"
  },
  "language_info": {
   "codemirror_mode": {
    "name": "ipython",
    "version": 3
   },
   "file_extension": ".py",
   "mimetype": "text/x-python",
   "name": "python",
   "nbconvert_exporter": "python",
   "pygments_lexer": "ipython3",
   "version": "3.9.7"
  }
 },
 "nbformat": 4,
 "nbformat_minor": 5
}
