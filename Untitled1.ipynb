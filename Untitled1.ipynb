{
 "cells": [
  {
   "cell_type": "code",
   "execution_count": 196,
   "id": "b6baaf12",
   "metadata": {},
   "outputs": [
    {
     "name": "stdout",
     "output_type": "stream",
     "text": [
      "env: CUDA_LAUNCH_BLOCKING=1\n"
     ]
    }
   ],
   "source": [
    "%env CUDA_LAUNCH_BLOCKING=1\n",
    "import torch\n",
    "from torch import nn\n",
    "from torch.utils.data import DataLoader, Dataset\n",
    "import matplotlib.pyplot as plt\n",
    "from scipy.stats import norm\n",
    "import numpy as np\n",
    "from math import pi, sqrt\n",
    "from chess_model.db.management.commands.train import SoftOR, SoftAND\n",
    "from logic import reduce_and, reduce_or"
   ]
  },
  {
   "cell_type": "code",
   "execution_count": 198,
   "id": "95a193c9",
   "metadata": {},
   "outputs": [
    {
     "data": {
      "text/plain": [
       "tensor([[1., 0., 0., 1., 1.],\n",
       "        [1., 1., 0., 1., 1.],\n",
       "        [0., 0., 0., 0., 0.]])"
      ]
     },
     "execution_count": 198,
     "metadata": {},
     "output_type": "execute_result"
    }
   ],
   "source": [
    "X = (torch.rand(3, 5) < 0.5).float()\n",
    "X"
   ]
  },
  {
   "cell_type": "code",
   "execution_count": 199,
   "id": "bae388e0",
   "metadata": {},
   "outputs": [
    {
     "data": {
      "text/plain": [
       "tensor([[False, False,  True, False, False, False,  True, False, False,  True],\n",
       "        [False, False, False, False, False, False,  True, False, False, False],\n",
       "        [ True,  True, False, False, False, False, False,  True, False, False],\n",
       "        [False,  True, False,  True, False, False, False, False, False, False],\n",
       "        [False, False, False, False,  True,  True,  True, False, False, False]])"
      ]
     },
     "execution_count": 199,
     "metadata": {},
     "output_type": "execute_result"
    }
   ],
   "source": [
    "conj_sets = torch.rand(5, 2*5) < 0.2\n",
    "conj_sets"
   ]
  },
  {
   "cell_type": "code",
   "execution_count": 200,
   "id": "32406910",
   "metadata": {},
   "outputs": [
    {
     "data": {
      "text/plain": [
       "tensor([False, False, False,  True, False])"
      ]
     },
     "execution_count": 200,
     "metadata": {},
     "output_type": "execute_result"
    }
   ],
   "source": [
    "disj_sets = torch.rand(5) < 0.5\n",
    "disj_sets"
   ]
  },
  {
   "cell_type": "code",
   "execution_count": 201,
   "id": "ca57738a",
   "metadata": {},
   "outputs": [
    {
     "data": {
      "text/plain": [
       "(tensor([[1., 0., 0., 1., 1., 0., 1., 1., 0., 0.],\n",
       "         [1., 1., 0., 1., 1., 0., 0., 1., 0., 0.],\n",
       "         [0., 0., 0., 0., 0., 1., 1., 1., 1., 1.]]),\n",
       " tensor([[False, False, False, False, False, False,  True, False, False, False],\n",
       "         [False, False, False, False, False, False, False, False, False, False],\n",
       "         [False, False, False, False, False, False,  True, False, False,  True]]))"
      ]
     },
     "execution_count": 201,
     "metadata": {},
     "output_type": "execute_result"
    }
   ],
   "source": [
    "y = torch.cat([X, 1-X], dim=1)\n",
    "y, torch.logical_and(y,conj_sets[0])"
   ]
  },
  {
   "cell_type": "code",
   "execution_count": 202,
   "id": "366fa164",
   "metadata": {},
   "outputs": [
    {
     "data": {
      "text/plain": [
       "tensor([[[1., 0., 0., 1., 1., 0., 1., 1., 0., 0.],\n",
       "         [1., 1., 0., 1., 1., 0., 0., 1., 0., 0.],\n",
       "         [0., 0., 0., 0., 0., 1., 1., 1., 1., 1.]],\n",
       "\n",
       "        [[1., 0., 0., 1., 1., 0., 1., 1., 0., 0.],\n",
       "         [1., 1., 0., 1., 1., 0., 0., 1., 0., 0.],\n",
       "         [0., 0., 0., 0., 0., 1., 1., 1., 1., 1.]],\n",
       "\n",
       "        [[1., 0., 0., 1., 1., 0., 1., 1., 0., 0.],\n",
       "         [1., 1., 0., 1., 1., 0., 0., 1., 0., 0.],\n",
       "         [0., 0., 0., 0., 0., 1., 1., 1., 1., 1.]],\n",
       "\n",
       "        [[1., 0., 0., 1., 1., 0., 1., 1., 0., 0.],\n",
       "         [1., 1., 0., 1., 1., 0., 0., 1., 0., 0.],\n",
       "         [0., 0., 0., 0., 0., 1., 1., 1., 1., 1.]],\n",
       "\n",
       "        [[1., 0., 0., 1., 1., 0., 1., 1., 0., 0.],\n",
       "         [1., 1., 0., 1., 1., 0., 0., 1., 0., 0.],\n",
       "         [0., 0., 0., 0., 0., 1., 1., 1., 1., 1.]]])"
      ]
     },
     "execution_count": 202,
     "metadata": {},
     "output_type": "execute_result"
    }
   ],
   "source": [
    "y_dup = torch.unsqueeze(y, dim=0).repeat((len(conj_sets),1,1))\n",
    "y_dup"
   ]
  },
  {
   "cell_type": "code",
   "execution_count": 203,
   "id": "c174f828",
   "metadata": {},
   "outputs": [
    {
     "data": {
      "text/plain": [
       "tensor([[[False, False,  True, False, False, False,  True, False, False,  True],\n",
       "         [False, False,  True, False, False, False,  True, False, False,  True],\n",
       "         [False, False,  True, False, False, False,  True, False, False,  True]],\n",
       "\n",
       "        [[False, False, False, False, False, False,  True, False, False, False],\n",
       "         [False, False, False, False, False, False,  True, False, False, False],\n",
       "         [False, False, False, False, False, False,  True, False, False, False]],\n",
       "\n",
       "        [[ True,  True, False, False, False, False, False,  True, False, False],\n",
       "         [ True,  True, False, False, False, False, False,  True, False, False],\n",
       "         [ True,  True, False, False, False, False, False,  True, False, False]],\n",
       "\n",
       "        [[False,  True, False,  True, False, False, False, False, False, False],\n",
       "         [False,  True, False,  True, False, False, False, False, False, False],\n",
       "         [False,  True, False,  True, False, False, False, False, False, False]],\n",
       "\n",
       "        [[False, False, False, False,  True,  True,  True, False, False, False],\n",
       "         [False, False, False, False,  True,  True,  True, False, False, False],\n",
       "         [False, False, False, False,  True,  True,  True, False, False, False]]])"
      ]
     },
     "execution_count": 203,
     "metadata": {},
     "output_type": "execute_result"
    }
   ],
   "source": [
    "conj_filter = conj_sets.repeat(1,1,3).reshape(len(conj_sets), X.shape[0], X.shape[1]*2)\n",
    "conj_filter"
   ]
  },
  {
   "cell_type": "code",
   "execution_count": 204,
   "id": "a00b8d2e",
   "metadata": {},
   "outputs": [
    {
     "data": {
      "text/plain": [
       "tensor([[0., 1., 0., 0., 0.],\n",
       "        [0., 0., 1., 1., 0.],\n",
       "        [0., 1., 0., 0., 0.]])"
      ]
     },
     "execution_count": 204,
     "metadata": {},
     "output_type": "execute_result"
    }
   ],
   "source": [
    "conjs = reduce_and(torch.logical_or(torch.logical_and(y_dup, conj_filter), torch.logical_not(conj_filter)), dim=2)\n",
    "conjs.transpose(1,0)"
   ]
  },
  {
   "cell_type": "code",
   "execution_count": 205,
   "id": "f2e05329",
   "metadata": {},
   "outputs": [
    {
     "data": {
      "text/plain": [
       "tensor([0., 1., 0.])"
      ]
     },
     "execution_count": 205,
     "metadata": {},
     "output_type": "execute_result"
    }
   ],
   "source": [
    "reduce_or(torch.logical_and(conjs.transpose(1,0), disj_sets.reshape(1, 5).repeat((3,1))), dim=1)"
   ]
  },
  {
   "cell_type": "code",
   "execution_count": 207,
   "id": "dd8867b4",
   "metadata": {},
   "outputs": [
    {
     "data": {
      "text/plain": [
       "tensor([[1., 0., 0., 1., 1.]])"
      ]
     },
     "execution_count": 207,
     "metadata": {},
     "output_type": "execute_result"
    }
   ],
   "source": [
    "X[0:1,:]"
   ]
  },
  {
   "cell_type": "code",
   "execution_count": null,
   "id": "edd9dd28",
   "metadata": {},
   "outputs": [],
   "source": []
  }
 ],
 "metadata": {
  "kernelspec": {
   "display_name": "Python 3 (ipykernel)",
   "language": "python",
   "name": "python3"
  },
  "language_info": {
   "codemirror_mode": {
    "name": "ipython",
    "version": 3
   },
   "file_extension": ".py",
   "mimetype": "text/x-python",
   "name": "python",
   "nbconvert_exporter": "python",
   "pygments_lexer": "ipython3",
   "version": "3.8.10"
  }
 },
 "nbformat": 4,
 "nbformat_minor": 5
}
