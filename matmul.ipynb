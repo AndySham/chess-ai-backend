{
 "cells": [
  {
   "cell_type": "code",
   "execution_count": 1,
   "source": [
    "import torch"
   ],
   "outputs": [],
   "metadata": {}
  },
  {
   "cell_type": "code",
   "execution_count": 5,
   "source": [
    "def matmul(a, b):\n",
    "    D1, D2 = a.shape\n",
    "    D3, D4 = b.shape\n",
    "    if D2 != D3:\n",
    "        raise Exception(\"Matrix shapes don't align\")\n",
    "\n",
    "    a = a.view(D1, D2, 1)\n",
    "    b = b.view(1, D3, D4)\n",
    "    return (a * b).sum(dim=1)\n",
    "\n"
   ],
   "outputs": [],
   "metadata": {}
  },
  {
   "cell_type": "code",
   "execution_count": 10,
   "source": [
    "testm = torch.rand(5,5)\n",
    "matmul(2*torch.eye(5), testm) == 2*testm"
   ],
   "outputs": [
    {
     "output_type": "execute_result",
     "data": {
      "text/plain": [
       "tensor([[True, True, True, True, True],\n",
       "        [True, True, True, True, True],\n",
       "        [True, True, True, True, True],\n",
       "        [True, True, True, True, True],\n",
       "        [True, True, True, True, True]])"
      ]
     },
     "metadata": {},
     "execution_count": 10
    }
   ],
   "metadata": {}
  },
  {
   "cell_type": "code",
   "execution_count": 12,
   "source": [
    "memes = torch.rand((3,5))\n",
    "memes"
   ],
   "outputs": [
    {
     "output_type": "execute_result",
     "data": {
      "text/plain": [
       "tensor([[0.3305, 0.4960, 0.9375, 0.1740, 0.6060],\n",
       "        [0.6064, 0.8238, 0.4918, 0.3108, 0.0745],\n",
       "        [0.8108, 0.5421, 0.7323, 0.5002, 0.1726]])"
      ]
     },
     "metadata": {},
     "execution_count": 12
    }
   ],
   "metadata": {}
  },
  {
   "cell_type": "code",
   "execution_count": 14,
   "source": [
    "torch.randperm(5)"
   ],
   "outputs": [
    {
     "output_type": "execute_result",
     "data": {
      "text/plain": [
       "tensor([3, 1, 4, 0, 2])"
      ]
     },
     "metadata": {},
     "execution_count": 14
    }
   ],
   "metadata": {}
  },
  {
   "cell_type": "code",
   "execution_count": 22,
   "source": [
    "torch.rand((4,3,5)).argsort(dim=1)"
   ],
   "outputs": [
    {
     "output_type": "execute_result",
     "data": {
      "text/plain": [
       "tensor([[[1, 1, 2, 0, 1],\n",
       "         [0, 0, 0, 2, 0],\n",
       "         [2, 2, 1, 1, 2]],\n",
       "\n",
       "        [[0, 1, 0, 1, 0],\n",
       "         [1, 2, 2, 2, 2],\n",
       "         [2, 0, 1, 0, 1]],\n",
       "\n",
       "        [[2, 0, 2, 1, 1],\n",
       "         [0, 2, 0, 2, 2],\n",
       "         [1, 1, 1, 0, 0]],\n",
       "\n",
       "        [[2, 2, 1, 2, 0],\n",
       "         [0, 0, 2, 1, 1],\n",
       "         [1, 1, 0, 0, 2]]])"
      ]
     },
     "metadata": {},
     "execution_count": 22
    }
   ],
   "metadata": {}
  },
  {
   "cell_type": "code",
   "execution_count": 25,
   "source": [
    "torch.randint(0, 3, (4,1,5)), torch.randint(0, 2, (4,1,5))"
   ],
   "outputs": [
    {
     "output_type": "execute_result",
     "data": {
      "text/plain": [
       "(tensor([[[0, 1, 1, 1, 2]],\n",
       " \n",
       "         [[2, 0, 2, 1, 2]],\n",
       " \n",
       "         [[1, 1, 0, 1, 2]],\n",
       " \n",
       "         [[2, 1, 1, 1, 0]]]),\n",
       " tensor([[[1, 1, 0, 1, 0]],\n",
       " \n",
       "         [[1, 1, 0, 0, 1]],\n",
       " \n",
       "         [[1, 0, 1, 1, 0]],\n",
       " \n",
       "         [[1, 1, 1, 1, 0]]]))"
      ]
     },
     "metadata": {},
     "execution_count": 25
    }
   ],
   "metadata": {}
  },
  {
   "cell_type": "code",
   "execution_count": 29,
   "source": [
    "def randpair_idx(xs, dim):\n",
    "    n = xs.shape[dim]\n",
    "    if n < 2: \n",
    "        raise Exception(\"Dimension not large enough.\")\n",
    "    shape = xs.shape\n",
    "    shape[dim] = 1\n",
    "    p1 = torch.randint(0, n, shape)\n",
    "    p2 = torch.randint(1, n, shape)\n",
    "    p2 = (p1 + p2) % n\n",
    "    torch.cat((p1, p2), dim=n)"
   ],
   "outputs": [
    {
     "output_type": "execute_result",
     "data": {
      "text/plain": [
       "tensor([[[1, 0, 2, 2, 2],\n",
       "         [0, 2, 0, 0, 0]],\n",
       "\n",
       "        [[1, 2, 1, 1, 1],\n",
       "         [2, 0, 2, 0, 0]],\n",
       "\n",
       "        [[2, 2, 0, 1, 0],\n",
       "         [0, 1, 2, 0, 1]],\n",
       "\n",
       "        [[0, 0, 1, 2, 0],\n",
       "         [2, 1, 0, 0, 2]]])"
      ]
     },
     "metadata": {},
     "execution_count": 29
    }
   ],
   "metadata": {}
  },
  {
   "cell_type": "code",
   "execution_count": 35,
   "source": [
    "a = torch.rand((2,2))\n",
    "a"
   ],
   "outputs": [
    {
     "output_type": "execute_result",
     "data": {
      "text/plain": [
       "tensor([[0.9987, 0.6983],\n",
       "        [0.3286, 0.1695]])"
      ]
     },
     "metadata": {},
     "execution_count": 35
    }
   ],
   "metadata": {}
  },
  {
   "cell_type": "code",
   "execution_count": 45,
   "source": [
    "b = torch.zeros((2, 2), dtype=bool)\n",
    "b[0,1] = True\n",
    "b[1,0] = True\n",
    "b"
   ],
   "outputs": [
    {
     "output_type": "execute_result",
     "data": {
      "text/plain": [
       "tensor([[False,  True],\n",
       "        [ True, False]])"
      ]
     },
     "metadata": {},
     "execution_count": 45
    }
   ],
   "metadata": {}
  },
  {
   "cell_type": "code",
   "execution_count": 47,
   "source": [
    "a[b].view(2,1)"
   ],
   "outputs": [
    {
     "output_type": "execute_result",
     "data": {
      "text/plain": [
       "tensor([[0.6983],\n",
       "        [0.3286]])"
      ]
     },
     "metadata": {},
     "execution_count": 47
    }
   ],
   "metadata": {}
  },
  {
   "cell_type": "code",
   "execution_count": 125,
   "source": [
    "idxs = torch.rand((2,2)).argsort(dim=1)\n",
    "idxs"
   ],
   "outputs": [
    {
     "output_type": "execute_result",
     "data": {
      "text/plain": [
       "tensor([[1, 0],\n",
       "        [0, 1]])"
      ]
     },
     "metadata": {},
     "execution_count": 125
    }
   ],
   "metadata": {}
  },
  {
   "cell_type": "code",
   "execution_count": 126,
   "source": [
    "offset = torch.arange(2).view(2,1).tile((1,2)) * 2"
   ],
   "outputs": [],
   "metadata": {}
  },
  {
   "cell_type": "code",
   "execution_count": 127,
   "source": [
    "idxs_ = (idxs + offset).view(-1)"
   ],
   "outputs": [],
   "metadata": {}
  },
  {
   "cell_type": "code",
   "execution_count": 128,
   "source": [
    "a = torch.tensor([[1,2], [3,4]])"
   ],
   "outputs": [],
   "metadata": {}
  },
  {
   "cell_type": "code",
   "execution_count": 129,
   "source": [
    "a.view(-1)[idxs_].view(2,2)"
   ],
   "outputs": [
    {
     "output_type": "execute_result",
     "data": {
      "text/plain": [
       "tensor([[2, 1],\n",
       "        [3, 4]])"
      ]
     },
     "metadata": {},
     "execution_count": 129
    }
   ],
   "metadata": {}
  },
  {
   "cell_type": "code",
   "execution_count": 132,
   "source": [
    "dims = torch.arange(0, 2)\n",
    "dims[0] = 1\n",
    "dims[1] = 0\n",
    "dims = tuple([i.item() for i in dims])\n",
    "dims"
   ],
   "outputs": [
    {
     "output_type": "execute_result",
     "data": {
      "text/plain": [
       "(1, 0)"
      ]
     },
     "metadata": {},
     "execution_count": 132
    }
   ],
   "metadata": {}
  },
  {
   "cell_type": "code",
   "execution_count": 141,
   "source": [
    "product(a.shape[:-1])"
   ],
   "outputs": [
    {
     "output_type": "error",
     "ename": "NameError",
     "evalue": "name 'prod' is not defined",
     "traceback": [
      "\u001b[0;31m---------------------------------------------------------------------------\u001b[0m",
      "\u001b[0;31mNameError\u001b[0m                                 Traceback (most recent call last)",
      "\u001b[0;32m/var/folders/9q/slhczn0j7_76qhclkbm6wpkw0000gn/T/ipykernel_40815/902692285.py\u001b[0m in \u001b[0;36m<module>\u001b[0;34m\u001b[0m\n\u001b[0;32m----> 1\u001b[0;31m \u001b[0mprod\u001b[0m\u001b[0;34m(\u001b[0m\u001b[0ma\u001b[0m\u001b[0;34m.\u001b[0m\u001b[0mshape\u001b[0m\u001b[0;34m[\u001b[0m\u001b[0;34m:\u001b[0m\u001b[0;34m-\u001b[0m\u001b[0;36m1\u001b[0m\u001b[0;34m]\u001b[0m\u001b[0;34m)\u001b[0m\u001b[0;34m\u001b[0m\u001b[0;34m\u001b[0m\u001b[0m\n\u001b[0m",
      "\u001b[0;31mNameError\u001b[0m: name 'prod' is not defined"
     ]
    }
   ],
   "metadata": {}
  },
  {
   "cell_type": "code",
   "execution_count": null,
   "source": [],
   "outputs": [],
   "metadata": {}
  },
  {
   "cell_type": "code",
   "execution_count": 207,
   "source": [
    "def shuffle_dim(xs, dim):\n",
    "    \"\"\"Permutes elements along a dimension.\"\"\"\n",
    "    xs_ = xs.transpose(dim, -1)\n",
    "    perms = torch.rand(xs_.shape).argsort(dim=-1)\n",
    "    perm_size = xs_.shape[-1]\n",
    "    perms = perms.view(-1, perm_size)\n",
    "    offset = torch.arange(perms.shape[0]).unsqueeze(-1).tile(1, perm_size) * perm_size\n",
    "    idxs = (perms + offset).view(-1)\n",
    "    return (xs_.reshape(-1)[idxs]).view(xs_.shape).transpose(dim, -1)\n",
    "    \n"
   ],
   "outputs": [],
   "metadata": {}
  },
  {
   "cell_type": "code",
   "execution_count": 208,
   "source": [
    "shuffle_dim(torch.tensor([[[0,1],[2,3]],[[4,5],[6,7]]]), dim=0)"
   ],
   "outputs": [
    {
     "output_type": "execute_result",
     "data": {
      "text/plain": [
       "tensor([[[4, 1],\n",
       "         [2, 3]],\n",
       "\n",
       "        [[0, 5],\n",
       "         [6, 7]]])"
      ]
     },
     "metadata": {},
     "execution_count": 208
    }
   ],
   "metadata": {}
  },
  {
   "cell_type": "code",
   "execution_count": 225,
   "source": [
    "xs = torch.rand((2,11))\n",
    "xs"
   ],
   "outputs": [
    {
     "output_type": "execute_result",
     "data": {
      "text/plain": [
       "tensor([[0.0895, 0.9450, 0.3521, 0.2885, 0.9661, 0.4657, 0.0403, 0.5291, 0.6579,\n",
       "         0.3212, 0.7341],\n",
       "        [0.4194, 0.4785, 0.8703, 0.5265, 0.8987, 0.7996, 0.4284, 0.1319, 0.1669,\n",
       "         0.3937, 0.6029]])"
      ]
     },
     "metadata": {},
     "execution_count": 225
    }
   ],
   "metadata": {}
  },
  {
   "cell_type": "code",
   "execution_count": 228,
   "source": [
    "xs_ = xs[:,:-1].reshape(2,5,2)\n",
    "xs_"
   ],
   "outputs": [
    {
     "output_type": "execute_result",
     "data": {
      "text/plain": [
       "tensor([[[0.0895, 0.9450],\n",
       "         [0.3521, 0.2885],\n",
       "         [0.9661, 0.4657],\n",
       "         [0.0403, 0.5291],\n",
       "         [0.6579, 0.3212]],\n",
       "\n",
       "        [[0.4194, 0.4785],\n",
       "         [0.8703, 0.5265],\n",
       "         [0.8987, 0.7996],\n",
       "         [0.4284, 0.1319],\n",
       "         [0.1669, 0.3937]]])"
      ]
     },
     "metadata": {},
     "execution_count": 228
    }
   ],
   "metadata": {}
  },
  {
   "cell_type": "code",
   "execution_count": 238,
   "source": [
    "torch.cat((xs_[:,:,0] + xs_[:,:,1], xs[:,-1].unsqueeze(-1)), dim=-1)"
   ],
   "outputs": [
    {
     "output_type": "execute_result",
     "data": {
      "text/plain": [
       "tensor([[1.0345, 0.6406, 1.4319, 0.5694, 0.9791, 0.7341],\n",
       "        [0.8979, 1.3969, 1.6983, 0.5603, 0.5607, 0.6029]])"
      ]
     },
     "metadata": {},
     "execution_count": 238
    }
   ],
   "metadata": {}
  },
  {
   "cell_type": "code",
   "execution_count": 241,
   "source": [
    "slices = [slice(None, None) for _ in range(2)]\n",
    "key_0 = tuple(slices + [0])\n",
    "key_1 = tuple(slices + [1])\n",
    "torch.cat((xs_[key_0] + xs_[key_1], xs[:,-1].unsqueeze(-1)), dim=-1)"
   ],
   "outputs": [
    {
     "output_type": "execute_result",
     "data": {
      "text/plain": [
       "tensor([[1.0345, 0.6406, 1.4319, 0.5694, 0.9791, 0.7341],\n",
       "        [0.8979, 1.3969, 1.6983, 0.5603, 0.5607, 0.6029]])"
      ]
     },
     "metadata": {},
     "execution_count": 241
    }
   ],
   "metadata": {}
  },
  {
   "cell_type": "code",
   "execution_count": 248,
   "source": [
    "def recursive_binop(xs, binop, dim):\n",
    "\n",
    "    no_dims = len(xs.shape)\n",
    "    slices = [slice(None, None) for _ in range(no_dims)]\n",
    "    key_0 = tuple(slices + [0])\n",
    "    key_1 = tuple(slices + [1])\n",
    "    key_ltn1 = tuple(slices[:-1] + [slice(None, -1)])\n",
    "    key_n1 = tuple(slices[:-1] + [-1])\n",
    "\n",
    "    def rec(xs):\n",
    "        size = xs.shape[-1]\n",
    "        if size % 2 == 0:\n",
    "            xs = xs.reshape(*xs.shape[:-1], size // 2, 2)\n",
    "            return binop(xs[key_0], xs[key_1])\n",
    "        else:\n",
    "            xs_ = xs[key_ltn1]\n",
    "            xs_ = xs_.reshape(*xs.shape[:-1], size // 2, 2)\n",
    "            print(xs_)\n",
    "            return torch.cat((binop(xs[key_0], xs[key_1]), xs[key_n1.unsqueeze(-1)]), dim=-1)\n",
    "            \n",
    "    return rec(xs.transpose(dim, -1)).transpose(dim, -1)\n"
   ],
   "outputs": [],
   "metadata": {}
  },
  {
   "cell_type": "code",
   "execution_count": 249,
   "source": [
    "recursive_binop(torch.arange(0,5), lambda a, b: a + b, dim=0)"
   ],
   "outputs": [
    {
     "output_type": "error",
     "ename": "IndexError",
     "evalue": "too many indices for tensor of dimension 1",
     "traceback": [
      "\u001b[0;31m---------------------------------------------------------------------------\u001b[0m",
      "\u001b[0;31mIndexError\u001b[0m                                Traceback (most recent call last)",
      "\u001b[0;32m/var/folders/9q/slhczn0j7_76qhclkbm6wpkw0000gn/T/ipykernel_40815/2228406841.py\u001b[0m in \u001b[0;36m<module>\u001b[0;34m\u001b[0m\n\u001b[0;32m----> 1\u001b[0;31m \u001b[0mrecursive_binop\u001b[0m\u001b[0;34m(\u001b[0m\u001b[0mtorch\u001b[0m\u001b[0;34m.\u001b[0m\u001b[0marange\u001b[0m\u001b[0;34m(\u001b[0m\u001b[0;36m0\u001b[0m\u001b[0;34m,\u001b[0m\u001b[0;36m5\u001b[0m\u001b[0;34m)\u001b[0m\u001b[0;34m,\u001b[0m \u001b[0;32mlambda\u001b[0m \u001b[0ma\u001b[0m\u001b[0;34m,\u001b[0m \u001b[0mb\u001b[0m\u001b[0;34m:\u001b[0m \u001b[0ma\u001b[0m \u001b[0;34m+\u001b[0m \u001b[0mb\u001b[0m\u001b[0;34m,\u001b[0m \u001b[0mdim\u001b[0m\u001b[0;34m=\u001b[0m\u001b[0;36m0\u001b[0m\u001b[0;34m)\u001b[0m\u001b[0;34m\u001b[0m\u001b[0;34m\u001b[0m\u001b[0m\n\u001b[0m",
      "\u001b[0;32m/var/folders/9q/slhczn0j7_76qhclkbm6wpkw0000gn/T/ipykernel_40815/4052082049.py\u001b[0m in \u001b[0;36mrecursive_binop\u001b[0;34m(xs, binop, dim)\u001b[0m\n\u001b[1;32m     18\u001b[0m             \u001b[0;32mreturn\u001b[0m \u001b[0mtorch\u001b[0m\u001b[0;34m.\u001b[0m\u001b[0mcat\u001b[0m\u001b[0;34m(\u001b[0m\u001b[0;34m(\u001b[0m\u001b[0mbinop\u001b[0m\u001b[0;34m(\u001b[0m\u001b[0mxs\u001b[0m\u001b[0;34m[\u001b[0m\u001b[0mkey_0\u001b[0m\u001b[0;34m]\u001b[0m\u001b[0;34m,\u001b[0m \u001b[0mxs\u001b[0m\u001b[0;34m[\u001b[0m\u001b[0mkey_1\u001b[0m\u001b[0;34m]\u001b[0m\u001b[0;34m)\u001b[0m\u001b[0;34m,\u001b[0m \u001b[0mxs\u001b[0m\u001b[0;34m[\u001b[0m\u001b[0mkey_n1\u001b[0m\u001b[0;34m.\u001b[0m\u001b[0munsqueeze\u001b[0m\u001b[0;34m(\u001b[0m\u001b[0;34m-\u001b[0m\u001b[0;36m1\u001b[0m\u001b[0;34m)\u001b[0m\u001b[0;34m]\u001b[0m\u001b[0;34m)\u001b[0m\u001b[0;34m,\u001b[0m \u001b[0mdim\u001b[0m\u001b[0;34m=\u001b[0m\u001b[0;34m-\u001b[0m\u001b[0;36m1\u001b[0m\u001b[0;34m)\u001b[0m\u001b[0;34m\u001b[0m\u001b[0;34m\u001b[0m\u001b[0m\n\u001b[1;32m     19\u001b[0m \u001b[0;34m\u001b[0m\u001b[0m\n\u001b[0;32m---> 20\u001b[0;31m     \u001b[0;32mreturn\u001b[0m \u001b[0mrec\u001b[0m\u001b[0;34m(\u001b[0m\u001b[0mxs\u001b[0m\u001b[0;34m.\u001b[0m\u001b[0mtranspose\u001b[0m\u001b[0;34m(\u001b[0m\u001b[0mdim\u001b[0m\u001b[0;34m,\u001b[0m \u001b[0;34m-\u001b[0m\u001b[0;36m1\u001b[0m\u001b[0;34m)\u001b[0m\u001b[0;34m)\u001b[0m\u001b[0;34m.\u001b[0m\u001b[0mtranspose\u001b[0m\u001b[0;34m(\u001b[0m\u001b[0mdim\u001b[0m\u001b[0;34m,\u001b[0m \u001b[0;34m-\u001b[0m\u001b[0;36m1\u001b[0m\u001b[0;34m)\u001b[0m\u001b[0;34m\u001b[0m\u001b[0;34m\u001b[0m\u001b[0m\n\u001b[0m",
      "\u001b[0;32m/var/folders/9q/slhczn0j7_76qhclkbm6wpkw0000gn/T/ipykernel_40815/4052082049.py\u001b[0m in \u001b[0;36mrec\u001b[0;34m(xs)\u001b[0m\n\u001b[1;32m     16\u001b[0m             \u001b[0mxs_\u001b[0m \u001b[0;34m=\u001b[0m \u001b[0mxs\u001b[0m\u001b[0;34m[\u001b[0m\u001b[0mkey_ltn1\u001b[0m\u001b[0;34m]\u001b[0m\u001b[0;34m\u001b[0m\u001b[0;34m\u001b[0m\u001b[0m\n\u001b[1;32m     17\u001b[0m             \u001b[0mxs_\u001b[0m \u001b[0;34m=\u001b[0m \u001b[0mxs_\u001b[0m\u001b[0;34m.\u001b[0m\u001b[0mreshape\u001b[0m\u001b[0;34m(\u001b[0m\u001b[0;34m*\u001b[0m\u001b[0mxs\u001b[0m\u001b[0;34m.\u001b[0m\u001b[0mshape\u001b[0m\u001b[0;34m[\u001b[0m\u001b[0;34m:\u001b[0m\u001b[0;34m-\u001b[0m\u001b[0;36m1\u001b[0m\u001b[0;34m]\u001b[0m\u001b[0;34m,\u001b[0m \u001b[0msize\u001b[0m \u001b[0;34m//\u001b[0m \u001b[0;36m2\u001b[0m\u001b[0;34m,\u001b[0m \u001b[0;36m2\u001b[0m\u001b[0;34m)\u001b[0m\u001b[0;34m\u001b[0m\u001b[0;34m\u001b[0m\u001b[0m\n\u001b[0;32m---> 18\u001b[0;31m             \u001b[0;32mreturn\u001b[0m \u001b[0mtorch\u001b[0m\u001b[0;34m.\u001b[0m\u001b[0mcat\u001b[0m\u001b[0;34m(\u001b[0m\u001b[0;34m(\u001b[0m\u001b[0mbinop\u001b[0m\u001b[0;34m(\u001b[0m\u001b[0mxs\u001b[0m\u001b[0;34m[\u001b[0m\u001b[0mkey_0\u001b[0m\u001b[0;34m]\u001b[0m\u001b[0;34m,\u001b[0m \u001b[0mxs\u001b[0m\u001b[0;34m[\u001b[0m\u001b[0mkey_1\u001b[0m\u001b[0;34m]\u001b[0m\u001b[0;34m)\u001b[0m\u001b[0;34m,\u001b[0m \u001b[0mxs\u001b[0m\u001b[0;34m[\u001b[0m\u001b[0mkey_n1\u001b[0m\u001b[0;34m.\u001b[0m\u001b[0munsqueeze\u001b[0m\u001b[0;34m(\u001b[0m\u001b[0;34m-\u001b[0m\u001b[0;36m1\u001b[0m\u001b[0;34m)\u001b[0m\u001b[0;34m]\u001b[0m\u001b[0;34m)\u001b[0m\u001b[0;34m,\u001b[0m \u001b[0mdim\u001b[0m\u001b[0;34m=\u001b[0m\u001b[0;34m-\u001b[0m\u001b[0;36m1\u001b[0m\u001b[0;34m)\u001b[0m\u001b[0;34m\u001b[0m\u001b[0;34m\u001b[0m\u001b[0m\n\u001b[0m\u001b[1;32m     19\u001b[0m \u001b[0;34m\u001b[0m\u001b[0m\n\u001b[1;32m     20\u001b[0m     \u001b[0;32mreturn\u001b[0m \u001b[0mrec\u001b[0m\u001b[0;34m(\u001b[0m\u001b[0mxs\u001b[0m\u001b[0;34m.\u001b[0m\u001b[0mtranspose\u001b[0m\u001b[0;34m(\u001b[0m\u001b[0mdim\u001b[0m\u001b[0;34m,\u001b[0m \u001b[0;34m-\u001b[0m\u001b[0;36m1\u001b[0m\u001b[0;34m)\u001b[0m\u001b[0;34m)\u001b[0m\u001b[0;34m.\u001b[0m\u001b[0mtranspose\u001b[0m\u001b[0;34m(\u001b[0m\u001b[0mdim\u001b[0m\u001b[0;34m,\u001b[0m \u001b[0;34m-\u001b[0m\u001b[0;36m1\u001b[0m\u001b[0;34m)\u001b[0m\u001b[0;34m\u001b[0m\u001b[0;34m\u001b[0m\u001b[0m\n",
      "\u001b[0;31mIndexError\u001b[0m: too many indices for tensor of dimension 1"
     ]
    }
   ],
   "metadata": {}
  },
  {
   "cell_type": "code",
   "execution_count": null,
   "source": [],
   "outputs": [],
   "metadata": {}
  }
 ],
 "metadata": {
  "orig_nbformat": 4,
  "language_info": {
   "name": "python",
   "version": "3.9.7",
   "mimetype": "text/x-python",
   "codemirror_mode": {
    "name": "ipython",
    "version": 3
   },
   "pygments_lexer": "ipython3",
   "nbconvert_exporter": "python",
   "file_extension": ".py"
  },
  "kernelspec": {
   "name": "python3",
   "display_name": "Python 3.9.7 64-bit ('base': conda)"
  },
  "interpreter": {
   "hash": "8e615aa0023f14c0ad9c431aeb671ef3473c33c39a31ded31d88bac672822ded"
  }
 },
 "nbformat": 4,
 "nbformat_minor": 2
}