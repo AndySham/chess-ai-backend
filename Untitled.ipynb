{
 "cells": [
  {
   "cell_type": "code",
   "execution_count": 3,
   "metadata": {},
   "outputs": [
    {
     "name": "stdout",
     "output_type": "stream",
     "text": [
      "env: CUDA_LAUNCH_BLOCKING=1\n"
     ]
    }
   ],
   "source": [
    "%env CUDA_LAUNCH_BLOCKING=1\n",
    "import torch\n",
    "from torch import nn\n",
    "from torch.utils.data import DataLoader\n",
    "import matplotlib.pyplot as plt\n",
    "from scipy.stats import norm\n",
    "import numpy as np\n",
    "import pandas as pd\n",
    "from chess_model.db.management.commands.train import xNNChess, ChessEvalDataset"
   ]
  },
  {
   "cell_type": "code",
   "execution_count": 4,
   "metadata": {},
   "outputs": [],
   "source": [
    "%%capture\n",
    "from tqdm.notebook import tqdm\n",
    "tqdm().pandas()"
   ]
  },
  {
   "cell_type": "code",
   "execution_count": 9,
   "metadata": {},
   "outputs": [
    {
     "data": {
      "text/plain": [
       "xNNChess(\n",
       "  (flatten): Flatten()\n",
       "  (combination): Sequential(\n",
       "    (0): Linear(in_features=82048, out_features=10, bias=True)\n",
       "    (1): ReLU()\n",
       "  )\n",
       "  (subnets): ModuleList(\n",
       "    (0): Sequential(\n",
       "      (0): Linear(in_features=1, out_features=2, bias=True)\n",
       "      (1): ReLU()\n",
       "      (2): Linear(in_features=2, out_features=1, bias=True)\n",
       "      (3): ReLU()\n",
       "    )\n",
       "    (1): Sequential(\n",
       "      (0): Linear(in_features=1, out_features=2, bias=True)\n",
       "      (1): ReLU()\n",
       "      (2): Linear(in_features=2, out_features=1, bias=True)\n",
       "      (3): ReLU()\n",
       "    )\n",
       "    (2): Sequential(\n",
       "      (0): Linear(in_features=1, out_features=2, bias=True)\n",
       "      (1): ReLU()\n",
       "      (2): Linear(in_features=2, out_features=1, bias=True)\n",
       "      (3): ReLU()\n",
       "    )\n",
       "    (3): Sequential(\n",
       "      (0): Linear(in_features=1, out_features=2, bias=True)\n",
       "      (1): ReLU()\n",
       "      (2): Linear(in_features=2, out_features=1, bias=True)\n",
       "      (3): ReLU()\n",
       "    )\n",
       "    (4): Sequential(\n",
       "      (0): Linear(in_features=1, out_features=2, bias=True)\n",
       "      (1): ReLU()\n",
       "      (2): Linear(in_features=2, out_features=1, bias=True)\n",
       "      (3): ReLU()\n",
       "    )\n",
       "    (5): Sequential(\n",
       "      (0): Linear(in_features=1, out_features=2, bias=True)\n",
       "      (1): ReLU()\n",
       "      (2): Linear(in_features=2, out_features=1, bias=True)\n",
       "      (3): ReLU()\n",
       "    )\n",
       "    (6): Sequential(\n",
       "      (0): Linear(in_features=1, out_features=2, bias=True)\n",
       "      (1): ReLU()\n",
       "      (2): Linear(in_features=2, out_features=1, bias=True)\n",
       "      (3): ReLU()\n",
       "    )\n",
       "    (7): Sequential(\n",
       "      (0): Linear(in_features=1, out_features=2, bias=True)\n",
       "      (1): ReLU()\n",
       "      (2): Linear(in_features=2, out_features=1, bias=True)\n",
       "      (3): ReLU()\n",
       "    )\n",
       "    (8): Sequential(\n",
       "      (0): Linear(in_features=1, out_features=2, bias=True)\n",
       "      (1): ReLU()\n",
       "      (2): Linear(in_features=2, out_features=1, bias=True)\n",
       "      (3): ReLU()\n",
       "    )\n",
       "    (9): Sequential(\n",
       "      (0): Linear(in_features=1, out_features=2, bias=True)\n",
       "      (1): ReLU()\n",
       "      (2): Linear(in_features=2, out_features=1, bias=True)\n",
       "      (3): ReLU()\n",
       "    )\n",
       "  )\n",
       "  (final): Sequential(\n",
       "    (0): Linear(in_features=10, out_features=1, bias=True)\n",
       "  )\n",
       ")"
      ]
     },
     "execution_count": 9,
     "metadata": {},
     "output_type": "execute_result"
    }
   ],
   "source": [
    "model = xNNChess(no_subnets=10, subnet_width=2)\n",
    "model.to('cuda')"
   ]
  },
  {
   "cell_type": "code",
   "execution_count": 10,
   "metadata": {},
   "outputs": [
    {
     "data": {
      "text/plain": [
       "<chess_model.db.management.commands.train.ChessEvalDataset at 0x7f9ead53dcd0>"
      ]
     },
     "execution_count": 10,
     "metadata": {},
     "output_type": "execute_result"
    }
   ],
   "source": [
    "evals = ChessEvalDataset(\"eval.csv\")\n",
    "evals"
   ]
  },
  {
   "cell_type": "code",
   "execution_count": 11,
   "metadata": {},
   "outputs": [],
   "source": [
    "dataloadxer = DataLoader(evals, batch_size=64,\n",
    "                        shuffle=True, num_workers=0)"
   ]
  },
  {
   "cell_type": "code",
   "execution_count": 12,
   "metadata": {},
   "outputs": [
    {
     "data": {
      "application/vnd.jupyter.widget-view+json": {
       "model_id": "8b921d30c9774a5281482a0056d909dd",
       "version_major": 2,
       "version_minor": 0
      },
      "text/plain": [
       "  0%|          | 0/15134 [00:00<?, ?it/s]"
      ]
     },
     "metadata": {},
     "output_type": "display_data"
    }
   ],
   "source": [
    "loss_fn = nn.MSELoss()\n",
    "optimizer = torch.optim.Adam(model.parameters(), lr=5e-1)\n",
    "size = len(dataloader.dataset)\n",
    "        \n",
    "currs = []\n",
    "losses = []\n",
    "    \n",
    "for batch, (X, y) in tqdm(enumerate(dataloader), total=len(dataloader)):\n",
    "    X = X.to('cuda')\n",
    "    y = y.to('cuda')\n",
    "    pred = model(X)\n",
    "    loss = loss_fn(pred, y)\n",
    "    \n",
    "    optimizer.zero_grad()\n",
    "    loss.backward()\n",
    "    optimizer.step()\n",
    "    \n",
    "    loss, current = loss.item(), batch * len(X)\n",
    "    currs.append(current)\n",
    "    losses.append(loss)\n",
    "    \n",
    "    if batch > 100:\n",
    "        break"
   ]
  },
  {
   "cell_type": "code",
   "execution_count": 13,
   "metadata": {},
   "outputs": [],
   "source": [
    "def gauss_filter(xs, ys, sigma):\n",
    "    weights = norm.pdf(\n",
    "        (xs.reshape(len(xs), 1)\n",
    "        - xs.reshape(1, len(xs)))\n",
    "        / sigma\n",
    "    )\n",
    "    return np.matmul(weights, ys) / weights.sum(axis=1)"
   ]
  },
  {
   "cell_type": "code",
   "execution_count": 15,
   "metadata": {},
   "outputs": [],
   "source": [
    "currs = np.array(currs)\n",
    "smoothed_1000 = gauss_filter(currs, losses, 1000)\n",
    "#smoothed_5000 = gauss_filter(currs, losses, 5000)"
   ]
  },
  {
   "cell_type": "code",
   "execution_count": 16,
   "metadata": {},
   "outputs": [
    {
     "data": {
      "image/png": "[encoded data removed]",
      "text/plain": [
       "<Figure size 432x288 with 1 Axes>"
      ]
     },
     "metadata": {
      "needs_background": "light"
     },
     "output_type": "display_data"
    }
   ],
   "source": [
    "plt.plot(currs, smoothed_1000, 'lightskyblue')\n",
    "#plt.plot(currs, smoothed_5000, 'black')\n",
    "plt.plot(currs, losses, 'black')\n",
    "plt.xlabel('Iterations')\n",
    "plt.ylabel('Loss')\n",
    "plt.show()"
   ]
  },
  {
   "cell_type": "code",
   "execution_count": 8,
   "metadata": {},
   "outputs": [
    {
     "data": {
      "text/plain": [
       "[<matplotlib.lines.Line2D at 0x7f9ead586970>]"
      ]
     },
     "execution_count": 8,
     "metadata": {},
     "output_type": "execute_result"
    },
    {
     "data": {
      "image/png": "[encoded data removed]",
      "text/plain": [
       "<Figure size 432x288 with 1 Axes>"
      ]
     },
     "metadata": {
      "needs_background": "light"
     },
     "output_type": "display_data"
    }
   ],
   "source": [
    "def soft_bin(xs, confidence):\n",
    "    xs_n = xs ** confidence\n",
    "    omxs_n = (1-xs) ** confidence\n",
    "    return torch.where(xs < 0, torch.tensor(0.0), torch.where(xs > 1, torch.tensor(1.0), xs_n / (xs_n + omxs_n)))\n",
    "\n",
    "xs = torch.linspace(-1, 2, 50)\n",
    "plt.plot(xs, 1-soft_bin(xs, 4))"
   ]
  },
  {
   "cell_type": "code",
   "execution_count": null,
   "metadata": {},
   "outputs": [],
   "source": [
    "vals = torch.rand(4)\n",
    "soft_bin(vals, 4)"
   ]
  },
  {
   "cell_type": "code",
   "execution_count": 41,
   "metadata": {},
   "outputs": [],
   "source": [
    "weights = torch.nn.Parameter(torch.rand(10, 10), requires_grad=True)"
   ]
  },
  {
   "cell_type": "code",
   "execution_count": 44,
   "metadata": {},
   "outputs": [],
   "source": [
    "weights.requires_grad = True"
   ]
  },
  {
   "cell_type": "code",
   "execution_count": 46,
   "metadata": {},
   "outputs": [],
   "source": [
    "weights[:] = weights[:] + 1"
   ]
  },
  {
   "cell_type": "code",
   "execution_count": 47,
   "metadata": {},
   "outputs": [
    {
     "data": {
      "text/plain": [
       "Parameter containing:\n",
       "tensor([[2.9484, 2.1141, 2.0594, 2.2135, 2.1834, 2.5479, 2.6116, 2.9510, 2.4868,\n",
       "         2.5563],\n",
       "        [2.8282, 2.8391, 2.2304, 2.6188, 2.8716, 2.3128, 2.3103, 2.9400, 2.5316,\n",
       "         2.1461],\n",
       "        [2.4065, 2.2740, 2.5753, 2.7368, 2.0792, 2.1671, 2.1190, 2.2044, 2.9715,\n",
       "         2.4024],\n",
       "        [2.3411, 2.3478, 2.3894, 2.0585, 2.2992, 2.9039, 2.5662, 2.7694, 2.3440,\n",
       "         2.2949],\n",
       "        [2.9063, 2.2665, 2.9791, 2.5292, 2.4841, 2.8600, 2.7429, 2.8676, 2.0945,\n",
       "         2.2007],\n",
       "        [2.2973, 2.9926, 2.2147, 2.5579, 2.2078, 2.5529, 2.5703, 2.1312, 2.9169,\n",
       "         2.9642],\n",
       "        [2.0839, 2.5620, 2.4126, 2.2291, 2.8181, 2.0138, 2.1778, 2.5732, 2.4360,\n",
       "         2.3534],\n",
       "        [2.9170, 2.6871, 2.9203, 2.6132, 2.9037, 2.5999, 2.6680, 2.6664, 2.6466,\n",
       "         2.1922],\n",
       "        [2.6523, 2.7394, 2.4397, 2.0577, 2.7806, 2.4410, 2.4331, 2.5820, 2.9237,\n",
       "         2.4931],\n",
       "        [2.7299, 2.1224, 2.8479, 2.6135, 2.4565, 2.8861, 2.0550, 2.9090, 2.1319,\n",
       "         2.1153]], grad_fn=<CopySlices>)"
      ]
     },
     "execution_count": 47,
     "metadata": {},
     "output_type": "execute_result"
    }
   ],
   "source": [
    "weights"
   ]
  },
  {
   "cell_type": "code",
   "execution_count": null,
   "metadata": {},
   "outputs": [],
   "source": []
  }
 ],
 "metadata": {
  "kernelspec": {
   "display_name": "Python 3 (ipykernel)",
   "language": "python",
   "name": "python3"
  },
  "language_info": {
   "codemirror_mode": {
    "name": "ipython",
    "version": 3
   },
   "file_extension": ".py",
   "mimetype": "text/x-python",
   "name": "python",
   "nbconvert_exporter": "python",
   "pygments_lexer": "ipython3",
   "version": "3.8.10"
  }
 },
 "nbformat": 4,
 "nbformat_minor": 2
}
